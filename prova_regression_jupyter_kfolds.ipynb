{
 "cells": [
  {
   "cell_type": "markdown",
   "metadata": {},
   "source": [
    "Dictionary Inputs "
   ]
  },
  {
   "cell_type": "code",
   "execution_count": 1,
   "metadata": {},
   "outputs": [],
   "source": [
    "#from __future__ import annotations\n",
    "#from tkinter import N\n",
    "\n",
    "from TREE4.TREE4 import *\n",
    "\n",
    "import pandas as pd\n",
    "\n",
    "#d = dict(features, **n_features)  #merges the two dicts\n",
    "#df = pd.DataFrame(data=d)         #creates the dataframe\n",
    "\n",
    "#print(df)\n",
    "#import csv\n",
    "\n",
    "\n",
    "\n",
    "#####################################loading the carseats data#########################\n",
    "\n",
    "df=pd.read_csv('Carseats_train.csv')\n",
    "#df=df.iloc[:,1:]\n",
    "\n",
    "features_names=list(df.columns)\n",
    "\n",
    "colonne=features_names[:6]\n",
    "features_name=features_names[7:9]\n",
    "features_names=colonne + features_name\n",
    "\n",
    "\n",
    "\n",
    "\n",
    "n_features_names=list(df.columns)\n",
    "columns = [(n_features_names[6])]\n",
    "n_features_name = n_features_names[9:11]\n",
    "n_features_names=columns + n_features_name\n",
    "\n",
    "\n",
    "\n",
    "\n",
    "features=df.iloc[:,0:6]\n",
    "features2=df.iloc[:,7:9]\n",
    "\n",
    "features=dict(features)\n",
    "features2=dict(features2)\n",
    "\n",
    "\n",
    "n_features=df.iloc[:,6:7]\n",
    "n_features2=df.iloc[:,9:11]\n",
    "\n",
    "\n",
    "n_features=dict(n_features)\n",
    "n_features2=dict(n_features2)\n",
    "\n",
    "features = dict(features, **features2)\n",
    "n_features = dict(n_features, **n_features2)\n",
    "\n",
    "\n",
    "#############################################################################\n",
    "\n",
    "\n",
    "#import itertools\n",
    "#from statistics import mode\n",
    "'''\n",
    "print(features,'features',type(features))\n",
    "print()\n",
    "print(features_names,'features_names')\n",
    "print()\n",
    "print(n_features,'n_features')\n",
    "print()\n",
    "print(n_features_names,'n_features_names')\n",
    "print()\n",
    "'''\n",
    "########################### y categorical #######################################\n",
    "'''\n",
    "High=[]\n",
    "for i in features['Sales']:\n",
    "    if i < 8:\n",
    "        High.append('NO')\n",
    "    else:\n",
    "        High.append('YES')\n",
    "\n",
    "High=pd.DataFrame(High)\n",
    "High=dict(High)\n",
    "High['High'] = High.pop(0)\n",
    "\n",
    "#y=High['High']\n",
    "\n",
    "#exclude_keys = ['Sales']\n",
    "\n",
    "#new_d = {k: features[k] for k in set(list(features.keys())) - set(exclude_keys)}\n",
    "#features=new_d\n",
    "\n",
    "#features_names=features_names[1:]\n",
    "'''\n",
    "\n",
    "######################y numerical#####################################\n",
    "y=features['Price']\n",
    "exclude_keys = ['Price']\n",
    "new_d = {k: features[k] for k in set(list(features.keys())) - set(exclude_keys)}\n",
    "features=new_d\n",
    "\n",
    "indici = np.arange(0, len(y))\n",
    "\n",
    "features_names3 = features_names[0:5]\n",
    "features_names4 = features_names[6:]\n",
    "features_names = features_names3 +  features_names4 \n",
    "\n",
    "#############Data Prep for prediction ############\n",
    "df_test=pd.read_csv('Carseats_test.csv')\n",
    "#df_test=df_test.iloc[:,1:]\n",
    "\n",
    "\n",
    "features_test=df_test.iloc[:,0:6]\n",
    "features2_test=df_test.iloc[:,7:9]\n",
    "\n",
    "features_test=dict(features_test)\n",
    "features2_test=dict(features2_test)\n",
    "\n",
    "\n",
    "n_features_test=df_test.iloc[:,6:7]\n",
    "n_features2_test=df_test.iloc[:,9:11]\n",
    "\n",
    "\n",
    "n_features_test=dict(n_features_test)\n",
    "n_features2_test=dict(n_features2_test)\n",
    "\n",
    "features_test = dict(features_test, **features2_test)\n",
    "n_features_test = dict(n_features_test, **n_features2_test)\n",
    "\n",
    "y_test=features_test['Price']\n",
    "\n",
    "y_test = y_test.tolist()\n",
    "\n",
    "del features_test[\"Price\"]   \n",
    "\n",
    "#impurity = impurity_fn('MSE') # chhose the simplest impurity functin (for regression tree)\n",
    "\n",
    "#impurity = Impurity (\"MSE\")\n",
    "# start a tree structure by instantiating its root\n",
    "#print(\"features\", features)\n",
    "#print(\"features_names\", features_names)\n",
    "#print(\"n_features\", n_features)\n",
    "#print(\"n_features_names\", n_features_names)\n",
    "\n",
    "\n",
    "\n",
    "############Program Running\n",
    "\n",
    "\n",
    "###User Defined Function \n",
    "\n",
    "\n",
    "\n",
    "#when definining a funcion please be aware we are using purity gain or information gain or greatest difference between variance, all positive aspects \n",
    "#adding user_defined as a possible impurity_fn and added user_impur to carry that function \n",
    "def user_fn(self, node): #impur just takes node in CART\n",
    "    \n",
    "    return (mean(self.y[node.indexes])**2)*len(self.y[node.indexes])\n",
    "\n",
    "\n",
    "\n",
    "\n"
   ]
  },
  {
   "cell_type": "code",
   "execution_count": 2,
   "metadata": {},
   "outputs": [
    {
     "name": "stdout",
     "output_type": "stream",
     "text": [
      "Split Found:  n1 [['CompPrice', 127.5, 0.20228188075035491, 0]] start <TREE4.TREE4.NodeClass object at 0x0000026A0FF86AB0> CompPrice > 127.5\n",
      "node_proportion_total  0.20228188075035552\n",
      "Split Found:  n2 [['Sales', 7.55, 0.20969032447490832, 1]] left <TREE4.TREE4.NodeClass object at 0x0000026A11EE6B40> Sales > 7.55\n",
      "node_proportion_total  0.30467676817668254\n",
      "Node_proportion_gain  0.10239488742632702\n",
      "Split Found:  n4 [['Sales', 2.83, 0.096699767604836, 2]] left <TREE4.TREE4.NodeClass object at 0x0000026A11DFA750> Sales > 2.83\n",
      "node_proportion_total  0.3199510824661509\n",
      "Node_proportion_gain  0.01527431428946835\n",
      "Node Search Split Error for:  n8 with obs in node:  9  which is less than minimum parent size:  10\n",
      "TypeError: Node search split (CART) failure\n",
      "Split Found:  n9 [['Sales', 3.545, 0.05744956441716209, 3]] right <TREE4.TREE4.NodeClass object at 0x0000026A11F9B920> Sales > 3.54\n",
      "node_proportion_total  0.32743705795623107\n",
      "Node_proportion_gain  0.007485975490080177\n",
      "Node Search Split Error for:  n18 with obs in node:  5  which is less than minimum parent size:  10\n",
      "TypeError: Node search split (CART) failure\n",
      "Split Found:  n19 [['Sales', 4.140000000000001, 0.063784266618795, 4]] right <TREE4.TREE4.NodeClass object at 0x0000026A11FB9FD0> Sales > 4.14\n",
      "node_proportion_total  0.3348195331613472\n",
      "Node_proportion_gain  0.007382475205116146\n",
      "Split Found:  n5 [['Population', 36.5, 0.10219236330367809, 2]] right <TREE4.TREE4.NodeClass object at 0x0000026A11DFA9F0> Population > 36.5\n",
      "node_proportion_total  0.3581156973105388\n",
      "Node_proportion_gain  0.02329616414919161\n",
      "Node Search Split Error for:  n10 with obs in node:  5  which is less than minimum parent size:  10\n",
      "TypeError: Node search split (CART) failure\n",
      "Split Found:  n11 [['Population', 496.5, 0.046037662302900406, 3]] right <TREE4.TREE4.NodeClass object at 0x0000026A11FE9D60> Population > 496.5\n",
      "node_proportion_total  0.3664379049672523\n",
      "Node_proportion_gain  0.008322207656713487\n",
      "Split Found:  n22 [['Population', 430.0, 0.021100145954489613, 4]] left <TREE4.TREE4.NodeClass object at 0x0000026A11FD4200> Population > 430.0\n",
      "node_proportion_total  0.36992172574891435\n",
      "Node_proportion_gain  0.0034838207816620392\n",
      "Node Search Split Error for:  n23 with obs in node:  6  which is less than minimum parent size:  10\n",
      "TypeError: Node search split (CART) failure\n",
      "Split Found:  n3 [['Sales', 7.555, 0.314143889817587, 1]] right <TREE4.TREE4.NodeClass object at 0x0000026A11DD2F00> Sales > 7.55\n",
      "node_proportion_total  0.4671188901251554\n",
      "Node_proportion_gain  0.09719716437624104\n",
      "Split Found:  n6 [['Population', 354.0, 0.017440549544800565, 2]] left <TREE4.TREE4.NodeClass object at 0x0000026A1200BD70> Population > 354.0\n",
      "node_proportion_total  0.469092978742253\n",
      "Node_proportion_gain  0.00197408861709758\n",
      "Split Found:  n12 [['Population', 283.0, 0.05647595675116257, 3]] left <TREE4.TREE4.NodeClass object at 0x0000026A12022CF0> Population > 283.0\n",
      "node_proportion_total  0.47330330182843544\n",
      "Node_proportion_gain  0.004210323086182466\n",
      "Split Found:  n24 [['Income', 59.0, 0.29213605233671147, 4]] left <TREE4.TREE4.NodeClass object at 0x0000026A12038C20> Income > 59.0\n",
      "node_proportion_total  0.4910343787842391\n",
      "Node_proportion_gain  0.01773107695580367\n",
      "Split Found:  n25 [['Sales', 5.785, 0.004653981335595692, 4]] right <TREE4.TREE4.NodeClass object at 0x0000026A12038BF0> Sales > 5.79\n",
      "node_proportion_total  0.49107927019240494\n",
      "Node_proportion_gain  4.489140816582582e-05\n",
      "This split isn't good now i cut it [reg delta]\n",
      "Split Found:  n13 [['Population', 417.5, 0.1313767489634613, 3]] right <TREE4.TREE4.NodeClass object at 0x0000026A12022CC0> Population > 417.5\n",
      "node_proportion_total  0.4958961700606891\n",
      "Node_proportion_gain  0.004816899868284152\n",
      "Node Search Split Error for:  n26 with obs in node:  5  which is less than minimum parent size:  10\n",
      "TypeError: Node search split (CART) failure\n",
      "Node Search Split Error for:  n27 with obs in node:  9  which is less than minimum parent size:  10\n",
      "TypeError: Node search split (CART) failure\n",
      "Split Found:  n7 [['Sales', 11.879999999999999, 0.14520891719012619, 2]] right <TREE4.TREE4.NodeClass object at 0x0000026A12020140> Sales > 11.88\n",
      "node_proportion_total  0.5102742595147112\n",
      "Node_proportion_gain  0.01437808945402208\n",
      "Split Found:  n14 [['Sales', 8.754999999999999, 0.037737360308944146, 3]] left <TREE4.TREE4.NodeClass object at 0x0000026A120463C0> Sales > 8.75\n",
      "node_proportion_total  0.5127724830921554\n",
      "Node_proportion_gain  0.002498223577444225\n",
      "Split Found:  n28 [['Sales', 7.855, 0.233837014992353, 4]] left <TREE4.TREE4.NodeClass object at 0x0000026A12058980> Sales > 7.86\n",
      "node_proportion_total  0.5170162311829858\n",
      "Node_proportion_gain  0.00424374809083039\n",
      "Split Found:  n29 [['Sales', 9.15, 0.11863249089334815, 4]] right <TREE4.TREE4.NodeClass object at 0x0000026A12058950> Sales > 9.15\n",
      "node_proportion_total  0.5224203840942385\n",
      "Node_proportion_gain  0.005404152911252735\n",
      "Split Found:  n15 [['Sales', 12.415, 0.00837031870825955, 3]] right <TREE4.TREE4.NodeClass object at 0x0000026A12046390> Sales > 12.41\n",
      "node_proportion_total  0.5225747177939268\n",
      "Node_proportion_gain  0.00015433369968831379\n",
      "Node Search Split Error for:  n30 with obs in node:  6  which is less than minimum parent size:  10\n",
      "TypeError: Node search split (CART) failure\n",
      "Node Search Split Error for:  n31 with obs in node:  5  which is less than minimum parent size:  10\n",
      "TypeError: Node search split (CART) failure\n"
     ]
    },
    {
     "data": {
      "text/plain": [
       "(((None, (None, (None, None))), (None, ((None, None), None))),\n",
       " ((((None, None), None), (None, None)),\n",
       "  (((None, None), (None, None)), (None, None))))"
      ]
     },
     "execution_count": 2,
     "metadata": {},
     "output_type": "execute_result"
    }
   ],
   "source": [
    "my_tree = NodeClass('n1', indici) \n",
    "\n",
    "tree = TREE4(y,features,features_names,n_features,n_features_names, impurity_fn = \"pearson\", problem=\"regression\", method = \"TWO-STAGE\",  min_cases_parent= 10,min_cases_child= 5, max_level =4 , twoing = False, min_imp_gain = 0.0001)\n",
    "\n",
    "tree.growing_tree(my_tree, max_k = 1)\n",
    "\n"
   ]
  },
  {
   "cell_type": "code",
   "execution_count": 3,
   "metadata": {},
   "outputs": [
    {
     "data": {
      "application/vnd.plotly.v1+json": {
       "config": {
        "plotlyServerURL": "https://plot.ly"
       },
       "data": [
        {
         "hoverinfo": "none",
         "line": {
          "color": "rgb(210,210,210)",
          "width": 1
         },
         "mode": "lines",
         "type": "scatter",
         "x": [
          0,
          -7.8125,
          null,
          0,
          7.8125,
          null,
          -7.8125,
          -11.8125,
          null,
          -7.8125,
          -3.8125,
          null,
          7.8125,
          4.1875,
          null,
          7.8125,
          11.4375,
          null,
          -11.8125,
          -13.8125,
          null,
          -11.8125,
          -9.8125,
          null,
          -3.8125,
          -5.8125,
          null,
          -3.8125,
          -1.8125,
          null,
          4.1875,
          2.1875,
          null,
          4.1875,
          6.1875,
          null,
          11.4375,
          10.1875,
          null,
          11.4375,
          12.6875,
          null,
          -9.8125,
          -10.8125,
          null,
          -9.8125,
          -8.8125,
          null,
          -1.8125,
          -2.8125,
          null,
          -1.8125,
          -0.8125,
          null,
          2.1875,
          1.1875,
          null,
          2.1875,
          3.1875,
          null,
          6.1875,
          5.1875,
          null,
          6.1875,
          7.1875,
          null,
          10.1875,
          9.1875,
          null,
          10.1875,
          11.1875,
          null,
          12.6875,
          12.1875,
          null,
          12.6875,
          13.1875,
          null,
          -8.8125,
          -9.3125,
          null,
          -8.8125,
          -8.3125,
          null,
          -2.8125,
          -3.3125,
          null,
          -2.8125,
          -2.3125,
          null,
          1.1875,
          0.6875,
          null,
          1.1875,
          1.6875,
          null,
          9.1875,
          8.6875,
          null,
          9.1875,
          9.6875,
          null,
          11.1875,
          10.6875,
          null,
          11.1875,
          11.6875,
          null
         ],
         "y": [
          10,
          9,
          null,
          10,
          9,
          null,
          9,
          8,
          null,
          9,
          8,
          null,
          9,
          8,
          null,
          9,
          8,
          null,
          8,
          7,
          null,
          8,
          7,
          null,
          8,
          7,
          null,
          8,
          7,
          null,
          8,
          7,
          null,
          8,
          7,
          null,
          8,
          7,
          null,
          8,
          7,
          null,
          7,
          6,
          null,
          7,
          6,
          null,
          7,
          6,
          null,
          7,
          6,
          null,
          7,
          6,
          null,
          7,
          6,
          null,
          7,
          6,
          null,
          7,
          6,
          null,
          7,
          6,
          null,
          7,
          6,
          null,
          7,
          6,
          null,
          7,
          6,
          null,
          6,
          5,
          null,
          6,
          5,
          null,
          6,
          5,
          null,
          6,
          5,
          null,
          6,
          5,
          null,
          6,
          5,
          null,
          6,
          5,
          null,
          6,
          5,
          null,
          6,
          5,
          null,
          6,
          5,
          null
         ]
        },
        {
         "hoverinfo": "text",
         "marker": {
          "color": "#6175c1",
          "line": {
           "color": "rgb(50,50,50)",
           "width": 1
          },
          "size": 18,
          "symbol": "circle-dot"
         },
         "mode": "markers",
         "name": "Nodes",
         "opacity": 0.8,
         "text": [
          "n8<br>None<br>Bin Value: 131.11<br>pearson : 1924.89<br>Samples : 9<br>GPR: []<br>LPR: []",
          "n18<br>None<br>Bin Value: 99.2<br>pearson : 1100.8<br>Samples : 5<br>GPR: []<br>LPR: []",
          "n38<br>None<br>Bin Value: 125.56<br>pearson : 1984.22<br>Samples : 9<br>GPR: []<br>LPR: []",
          "n39<br>None<br>Bin Value: 113.52<br>pearson : 14868.48<br>Samples : 66<br>GPR: []<br>LPR: []",
          "n10<br>None<br>Bin Value: 69.8<br>pearson : 3716.8<br>Samples : 5<br>GPR: []<br>LPR: []",
          "n23<br>None<br>Bin Value: 83.67<br>pearson : 1141.33<br>Samples : 6<br>GPR: []<br>LPR: []",
          "n44<br>None<br>Bin Value: 97.83<br>pearson : 22503.47<br>Samples : 53<br>GPR: []<br>LPR: []",
          "n45<br>None<br>Bin Value: 106.22<br>pearson : 2633.56<br>Samples : 9<br>GPR: []<br>LPR: []",
          "n25<br>None<br>Bin Value: 131.73<br>pearson : 1500.18<br>Samples : 11<br>GPR: 1.0<br>LPR: 0.005",
          "n48<br>None<br>Bin Value: 154.5<br>pearson : 2546.5<br>Samples : 10<br>GPR: []<br>LPR: []",
          "n49<br>None<br>Bin Value: 134.61<br>pearson : 4135.48<br>Samples : 23<br>GPR: []<br>LPR: []",
          "n26<br>None<br>Bin Value: 153.6<br>pearson : 2123.2<br>Samples : 5<br>GPR: []<br>LPR: []",
          "n27<br>None<br>Bin Value: 138.33<br>pearson : 2830.0<br>Samples : 9<br>GPR: []<br>LPR: []",
          "n56<br>None<br>Bin Value: 113.4<br>pearson : 777.2<br>Samples : 5<br>GPR: []<br>LPR: []",
          "n57<br>None<br>Bin Value: 126.67<br>pearson : 1385.33<br>Samples : 15<br>GPR: []<br>LPR: []",
          "n58<br>None<br>Bin Value: 110.2<br>pearson : 1055.6<br>Samples : 10<br>GPR: []<br>LPR: []",
          "n59<br>None<br>Bin Value: 121.53<br>pearson : 5188.74<br>Samples : 19<br>GPR: []<br>LPR: []",
          "n30<br>None<br>Bin Value: 102.83<br>pearson : 1346.83<br>Samples : 6<br>GPR: []<br>LPR: []",
          "n31<br>None<br>Bin Value: 105.8<br>pearson : 1496.8<br>Samples : 5<br>GPR: []<br>LPR: []",
          "n1<br>CompPrice > 127.5<br>Bin Value: 115.78<br>pearson : 155526.82<br>Samples : 280<br>GPR: 0.31<br>LPR: 0.202",
          "n2<br>Sales > 7.55<br>Bin Value: 106.73<br>pearson : 75946.05<br>Samples : 162<br>GPR: 0.96<br>LPR: 0.21",
          "n4<br>Sales > 2.83<br>Bin Value: 115.71<br>pearson : 24566.4<br>Samples : 89<br>GPR: 0.973<br>LPR: 0.097",
          "n9<br>Sales > 3.54<br>Bin Value: 113.97<br>pearson : 20265.95<br>Samples : 80<br>GPR: 0.967<br>LPR: 0.057",
          "n19<br>Sales > 4.14<br>Bin Value: 114.96<br>pearson : 18000.88<br>Samples : 75<br>GPR: 0.97<br>LPR: 0.064",
          "n5<br>Population > 36.5<br>Bin Value: 95.78<br>pearson : 35454.49<br>Samples : 73<br>GPR: 0.974<br>LPR: 0.102",
          "n11<br>Population > 496.5<br>Bin Value: 97.69<br>pearson : 28114.51<br>Samples : 68<br>GPR: 0.967<br>LPR: 0.046",
          "n22<br>Population > 430.0<br>Bin Value: 99.05<br>pearson : 25678.85<br>Samples : 62<br>GPR: 0.965<br>LPR: 0.021",
          "n3<br>Sales > 7.55<br>Bin Value: 128.19<br>pearson : 48120.52<br>Samples : 118<br>GPR: 0.997<br>LPR: 0.314",
          "n6<br>Population > 354.0<br>Bin Value: 139.71<br>pearson : 17604.02<br>Samples : 58<br>GPR: 0.995<br>LPR: 0.017",
          "n12<br>Population > 283.0<br>Bin Value: 138.41<br>pearson : 11594.64<br>Samples : 44<br>GPR: 0.993<br>LPR: 0.056",
          "n24<br>Income > 59.0<br>Bin Value: 140.64<br>pearson : 9439.64<br>Samples : 33<br>GPR: 0.993<br>LPR: 0.292",
          "n13<br>Population > 417.5<br>Bin Value: 143.79<br>pearson : 5702.36<br>Samples : 14<br>GPR: 1.0<br>LPR: 0.131",
          "n7<br>Sales > 11.88<br>Bin Value: 117.07<br>pearson : 15399.73<br>Samples : 60<br>GPR: 1.0<br>LPR: 0.145",
          "n14<br>Sales > 8.75<br>Bin Value: 119.96<br>pearson : 10295.92<br>Samples : 49<br>GPR: 1.0<br>LPR: 0.038",
          "n28<br>Sales > 7.86<br>Bin Value: 123.35<br>pearson : 2822.55<br>Samples : 20<br>GPR: 1.0<br>LPR: 0.234",
          "n29<br>Sales > 9.15<br>Bin Value: 117.62<br>pearson : 7084.83<br>Samples : 29<br>GPR: 1.0<br>LPR: 0.119",
          "n15<br>Sales > 12.41<br>Bin Value: 104.18<br>pearson : 2867.64<br>Samples : 11<br>GPR: 1.0<br>LPR: 0.008"
         ],
         "type": "scatter",
         "x": [
          -13.8125,
          -10.8125,
          -9.3125,
          -8.3125,
          -5.8125,
          -0.8125,
          -3.3125,
          -2.3125,
          3.1875,
          0.6875,
          1.6875,
          5.1875,
          7.1875,
          8.6875,
          9.6875,
          10.6875,
          11.6875,
          12.1875,
          13.1875,
          0,
          -7.8125,
          -11.8125,
          -9.8125,
          -8.8125,
          -3.8125,
          -1.8125,
          -2.8125,
          7.8125,
          4.1875,
          2.1875,
          1.1875,
          6.1875,
          11.4375,
          10.1875,
          9.1875,
          11.1875,
          12.6875
         ],
         "y": [
          7,
          6,
          5,
          5,
          7,
          6,
          5,
          5,
          6,
          5,
          5,
          6,
          6,
          5,
          5,
          5,
          5,
          6,
          6,
          10,
          9,
          8,
          7,
          6,
          8,
          7,
          6,
          9,
          8,
          7,
          6,
          7,
          8,
          7,
          6,
          6,
          7
         ]
        }
       ],
       "layout": {
        "margin": {
         "b": 0,
         "l": 0,
         "r": 0,
         "t": 0
        },
        "plot_bgcolor": "rgba(0, 0, 0, 0)",
        "template": {
         "data": {
          "bar": [
           {
            "error_x": {
             "color": "#2a3f5f"
            },
            "error_y": {
             "color": "#2a3f5f"
            },
            "marker": {
             "line": {
              "color": "#E5ECF6",
              "width": 0.5
             },
             "pattern": {
              "fillmode": "overlay",
              "size": 10,
              "solidity": 0.2
             }
            },
            "type": "bar"
           }
          ],
          "barpolar": [
           {
            "marker": {
             "line": {
              "color": "#E5ECF6",
              "width": 0.5
             },
             "pattern": {
              "fillmode": "overlay",
              "size": 10,
              "solidity": 0.2
             }
            },
            "type": "barpolar"
           }
          ],
          "carpet": [
           {
            "aaxis": {
             "endlinecolor": "#2a3f5f",
             "gridcolor": "white",
             "linecolor": "white",
             "minorgridcolor": "white",
             "startlinecolor": "#2a3f5f"
            },
            "baxis": {
             "endlinecolor": "#2a3f5f",
             "gridcolor": "white",
             "linecolor": "white",
             "minorgridcolor": "white",
             "startlinecolor": "#2a3f5f"
            },
            "type": "carpet"
           }
          ],
          "choropleth": [
           {
            "colorbar": {
             "outlinewidth": 0,
             "ticks": ""
            },
            "type": "choropleth"
           }
          ],
          "contour": [
           {
            "colorbar": {
             "outlinewidth": 0,
             "ticks": ""
            },
            "colorscale": [
             [
              0,
              "#0d0887"
             ],
             [
              0.1111111111111111,
              "#46039f"
             ],
             [
              0.2222222222222222,
              "#7201a8"
             ],
             [
              0.3333333333333333,
              "#9c179e"
             ],
             [
              0.4444444444444444,
              "#bd3786"
             ],
             [
              0.5555555555555556,
              "#d8576b"
             ],
             [
              0.6666666666666666,
              "#ed7953"
             ],
             [
              0.7777777777777778,
              "#fb9f3a"
             ],
             [
              0.8888888888888888,
              "#fdca26"
             ],
             [
              1,
              "#f0f921"
             ]
            ],
            "type": "contour"
           }
          ],
          "contourcarpet": [
           {
            "colorbar": {
             "outlinewidth": 0,
             "ticks": ""
            },
            "type": "contourcarpet"
           }
          ],
          "heatmap": [
           {
            "colorbar": {
             "outlinewidth": 0,
             "ticks": ""
            },
            "colorscale": [
             [
              0,
              "#0d0887"
             ],
             [
              0.1111111111111111,
              "#46039f"
             ],
             [
              0.2222222222222222,
              "#7201a8"
             ],
             [
              0.3333333333333333,
              "#9c179e"
             ],
             [
              0.4444444444444444,
              "#bd3786"
             ],
             [
              0.5555555555555556,
              "#d8576b"
             ],
             [
              0.6666666666666666,
              "#ed7953"
             ],
             [
              0.7777777777777778,
              "#fb9f3a"
             ],
             [
              0.8888888888888888,
              "#fdca26"
             ],
             [
              1,
              "#f0f921"
             ]
            ],
            "type": "heatmap"
           }
          ],
          "heatmapgl": [
           {
            "colorbar": {
             "outlinewidth": 0,
             "ticks": ""
            },
            "colorscale": [
             [
              0,
              "#0d0887"
             ],
             [
              0.1111111111111111,
              "#46039f"
             ],
             [
              0.2222222222222222,
              "#7201a8"
             ],
             [
              0.3333333333333333,
              "#9c179e"
             ],
             [
              0.4444444444444444,
              "#bd3786"
             ],
             [
              0.5555555555555556,
              "#d8576b"
             ],
             [
              0.6666666666666666,
              "#ed7953"
             ],
             [
              0.7777777777777778,
              "#fb9f3a"
             ],
             [
              0.8888888888888888,
              "#fdca26"
             ],
             [
              1,
              "#f0f921"
             ]
            ],
            "type": "heatmapgl"
           }
          ],
          "histogram": [
           {
            "marker": {
             "pattern": {
              "fillmode": "overlay",
              "size": 10,
              "solidity": 0.2
             }
            },
            "type": "histogram"
           }
          ],
          "histogram2d": [
           {
            "colorbar": {
             "outlinewidth": 0,
             "ticks": ""
            },
            "colorscale": [
             [
              0,
              "#0d0887"
             ],
             [
              0.1111111111111111,
              "#46039f"
             ],
             [
              0.2222222222222222,
              "#7201a8"
             ],
             [
              0.3333333333333333,
              "#9c179e"
             ],
             [
              0.4444444444444444,
              "#bd3786"
             ],
             [
              0.5555555555555556,
              "#d8576b"
             ],
             [
              0.6666666666666666,
              "#ed7953"
             ],
             [
              0.7777777777777778,
              "#fb9f3a"
             ],
             [
              0.8888888888888888,
              "#fdca26"
             ],
             [
              1,
              "#f0f921"
             ]
            ],
            "type": "histogram2d"
           }
          ],
          "histogram2dcontour": [
           {
            "colorbar": {
             "outlinewidth": 0,
             "ticks": ""
            },
            "colorscale": [
             [
              0,
              "#0d0887"
             ],
             [
              0.1111111111111111,
              "#46039f"
             ],
             [
              0.2222222222222222,
              "#7201a8"
             ],
             [
              0.3333333333333333,
              "#9c179e"
             ],
             [
              0.4444444444444444,
              "#bd3786"
             ],
             [
              0.5555555555555556,
              "#d8576b"
             ],
             [
              0.6666666666666666,
              "#ed7953"
             ],
             [
              0.7777777777777778,
              "#fb9f3a"
             ],
             [
              0.8888888888888888,
              "#fdca26"
             ],
             [
              1,
              "#f0f921"
             ]
            ],
            "type": "histogram2dcontour"
           }
          ],
          "mesh3d": [
           {
            "colorbar": {
             "outlinewidth": 0,
             "ticks": ""
            },
            "type": "mesh3d"
           }
          ],
          "parcoords": [
           {
            "line": {
             "colorbar": {
              "outlinewidth": 0,
              "ticks": ""
             }
            },
            "type": "parcoords"
           }
          ],
          "pie": [
           {
            "automargin": true,
            "type": "pie"
           }
          ],
          "scatter": [
           {
            "fillpattern": {
             "fillmode": "overlay",
             "size": 10,
             "solidity": 0.2
            },
            "type": "scatter"
           }
          ],
          "scatter3d": [
           {
            "line": {
             "colorbar": {
              "outlinewidth": 0,
              "ticks": ""
             }
            },
            "marker": {
             "colorbar": {
              "outlinewidth": 0,
              "ticks": ""
             }
            },
            "type": "scatter3d"
           }
          ],
          "scattercarpet": [
           {
            "marker": {
             "colorbar": {
              "outlinewidth": 0,
              "ticks": ""
             }
            },
            "type": "scattercarpet"
           }
          ],
          "scattergeo": [
           {
            "marker": {
             "colorbar": {
              "outlinewidth": 0,
              "ticks": ""
             }
            },
            "type": "scattergeo"
           }
          ],
          "scattergl": [
           {
            "marker": {
             "colorbar": {
              "outlinewidth": 0,
              "ticks": ""
             }
            },
            "type": "scattergl"
           }
          ],
          "scattermapbox": [
           {
            "marker": {
             "colorbar": {
              "outlinewidth": 0,
              "ticks": ""
             }
            },
            "type": "scattermapbox"
           }
          ],
          "scatterpolar": [
           {
            "marker": {
             "colorbar": {
              "outlinewidth": 0,
              "ticks": ""
             }
            },
            "type": "scatterpolar"
           }
          ],
          "scatterpolargl": [
           {
            "marker": {
             "colorbar": {
              "outlinewidth": 0,
              "ticks": ""
             }
            },
            "type": "scatterpolargl"
           }
          ],
          "scatterternary": [
           {
            "marker": {
             "colorbar": {
              "outlinewidth": 0,
              "ticks": ""
             }
            },
            "type": "scatterternary"
           }
          ],
          "surface": [
           {
            "colorbar": {
             "outlinewidth": 0,
             "ticks": ""
            },
            "colorscale": [
             [
              0,
              "#0d0887"
             ],
             [
              0.1111111111111111,
              "#46039f"
             ],
             [
              0.2222222222222222,
              "#7201a8"
             ],
             [
              0.3333333333333333,
              "#9c179e"
             ],
             [
              0.4444444444444444,
              "#bd3786"
             ],
             [
              0.5555555555555556,
              "#d8576b"
             ],
             [
              0.6666666666666666,
              "#ed7953"
             ],
             [
              0.7777777777777778,
              "#fb9f3a"
             ],
             [
              0.8888888888888888,
              "#fdca26"
             ],
             [
              1,
              "#f0f921"
             ]
            ],
            "type": "surface"
           }
          ],
          "table": [
           {
            "cells": {
             "fill": {
              "color": "#EBF0F8"
             },
             "line": {
              "color": "white"
             }
            },
            "header": {
             "fill": {
              "color": "#C8D4E3"
             },
             "line": {
              "color": "white"
             }
            },
            "type": "table"
           }
          ]
         },
         "layout": {
          "annotationdefaults": {
           "arrowcolor": "#2a3f5f",
           "arrowhead": 0,
           "arrowwidth": 1
          },
          "autotypenumbers": "strict",
          "coloraxis": {
           "colorbar": {
            "outlinewidth": 0,
            "ticks": ""
           }
          },
          "colorscale": {
           "diverging": [
            [
             0,
             "#8e0152"
            ],
            [
             0.1,
             "#c51b7d"
            ],
            [
             0.2,
             "#de77ae"
            ],
            [
             0.3,
             "#f1b6da"
            ],
            [
             0.4,
             "#fde0ef"
            ],
            [
             0.5,
             "#f7f7f7"
            ],
            [
             0.6,
             "#e6f5d0"
            ],
            [
             0.7,
             "#b8e186"
            ],
            [
             0.8,
             "#7fbc41"
            ],
            [
             0.9,
             "#4d9221"
            ],
            [
             1,
             "#276419"
            ]
           ],
           "sequential": [
            [
             0,
             "#0d0887"
            ],
            [
             0.1111111111111111,
             "#46039f"
            ],
            [
             0.2222222222222222,
             "#7201a8"
            ],
            [
             0.3333333333333333,
             "#9c179e"
            ],
            [
             0.4444444444444444,
             "#bd3786"
            ],
            [
             0.5555555555555556,
             "#d8576b"
            ],
            [
             0.6666666666666666,
             "#ed7953"
            ],
            [
             0.7777777777777778,
             "#fb9f3a"
            ],
            [
             0.8888888888888888,
             "#fdca26"
            ],
            [
             1,
             "#f0f921"
            ]
           ],
           "sequentialminus": [
            [
             0,
             "#0d0887"
            ],
            [
             0.1111111111111111,
             "#46039f"
            ],
            [
             0.2222222222222222,
             "#7201a8"
            ],
            [
             0.3333333333333333,
             "#9c179e"
            ],
            [
             0.4444444444444444,
             "#bd3786"
            ],
            [
             0.5555555555555556,
             "#d8576b"
            ],
            [
             0.6666666666666666,
             "#ed7953"
            ],
            [
             0.7777777777777778,
             "#fb9f3a"
            ],
            [
             0.8888888888888888,
             "#fdca26"
            ],
            [
             1,
             "#f0f921"
            ]
           ]
          },
          "colorway": [
           "#636efa",
           "#EF553B",
           "#00cc96",
           "#ab63fa",
           "#FFA15A",
           "#19d3f3",
           "#FF6692",
           "#B6E880",
           "#FF97FF",
           "#FECB52"
          ],
          "font": {
           "color": "#2a3f5f"
          },
          "geo": {
           "bgcolor": "white",
           "lakecolor": "white",
           "landcolor": "#E5ECF6",
           "showlakes": true,
           "showland": true,
           "subunitcolor": "white"
          },
          "hoverlabel": {
           "align": "left"
          },
          "hovermode": "closest",
          "mapbox": {
           "style": "light"
          },
          "paper_bgcolor": "white",
          "plot_bgcolor": "#E5ECF6",
          "polar": {
           "angularaxis": {
            "gridcolor": "white",
            "linecolor": "white",
            "ticks": ""
           },
           "bgcolor": "#E5ECF6",
           "radialaxis": {
            "gridcolor": "white",
            "linecolor": "white",
            "ticks": ""
           }
          },
          "scene": {
           "xaxis": {
            "backgroundcolor": "#E5ECF6",
            "gridcolor": "white",
            "gridwidth": 2,
            "linecolor": "white",
            "showbackground": true,
            "ticks": "",
            "zerolinecolor": "white"
           },
           "yaxis": {
            "backgroundcolor": "#E5ECF6",
            "gridcolor": "white",
            "gridwidth": 2,
            "linecolor": "white",
            "showbackground": true,
            "ticks": "",
            "zerolinecolor": "white"
           },
           "zaxis": {
            "backgroundcolor": "#E5ECF6",
            "gridcolor": "white",
            "gridwidth": 2,
            "linecolor": "white",
            "showbackground": true,
            "ticks": "",
            "zerolinecolor": "white"
           }
          },
          "shapedefaults": {
           "line": {
            "color": "#2a3f5f"
           }
          },
          "ternary": {
           "aaxis": {
            "gridcolor": "white",
            "linecolor": "white",
            "ticks": ""
           },
           "baxis": {
            "gridcolor": "white",
            "linecolor": "white",
            "ticks": ""
           },
           "bgcolor": "#E5ECF6",
           "caxis": {
            "gridcolor": "white",
            "linecolor": "white",
            "ticks": ""
           }
          },
          "title": {
           "x": 0.05
          },
          "xaxis": {
           "automargin": true,
           "gridcolor": "white",
           "linecolor": "white",
           "ticks": "",
           "title": {
            "standoff": 15
           },
           "zerolinecolor": "white",
           "zerolinewidth": 2
          },
          "yaxis": {
           "automargin": true,
           "gridcolor": "white",
           "linecolor": "white",
           "ticks": "",
           "title": {
            "standoff": 15
           },
           "zerolinecolor": "white",
           "zerolinewidth": 2
          }
         }
        },
        "xaxis": {
         "showticklabels": false,
         "visible": false
        },
        "yaxis": {
         "showticklabels": true,
         "visible": false
        }
       }
      }
     },
     "metadata": {},
     "output_type": "display_data"
    }
   ],
   "source": [
    "import warnings\n",
    "warnings.filterwarnings(\"ignore\", category=FutureWarning) \n",
    "\n",
    "\n",
    "tree.print_tree(table = False, html = False)#.style.hide_index() #print both the pruned and non pruned tree \n",
    "#cart.print_tree(table = False, html = False, visual_pruning = True)"
   ]
  },
  {
   "cell_type": "markdown",
   "metadata": {},
   "source": [
    "kfolds example"
   ]
  },
  {
   "cell_type": "code",
   "execution_count": 4,
   "metadata": {},
   "outputs": [
    {
     "name": "stdout",
     "output_type": "stream",
     "text": [
      "\n",
      "\n",
      "Folds:  1\n",
      "Split Found:  n1 [['CompPrice', 127.5, 3443383.899844921, 0]] start <TREE4.TREE4.NodeClass object at 0x0000026A14E8DCA0> CompPrice > 127.5\n",
      "node_proportion_total  0.203141867020643\n",
      "Split Found:  n2 [['Sales', 7.55, 1693667.9671065214, 1]] left <TREE4.TREE4.NodeClass object at 0x0000026A14F438F0> Sales > 7.55\n",
      "node_proportion_total  0.3010167133729554\n",
      "Node_proportion_gain  0.09787484635231239\n",
      "Split Found:  n4 [['Age', 53.5, 1117055.3981106612, 2]] left <TREE4.TREE4.NodeClass object at 0x0000026A14F43B00> Age > 53.5\n",
      "node_proportion_total  0.3316952130875216\n",
      "Node_proportion_gain  0.03067849971456621\n",
      "Split Found:  n8 [['Income', 67.0, 418639.07692307694, 3]] left <TREE4.TREE4.NodeClass object at 0x0000026A14FF7FB0> Income > 67.0\n",
      "node_proportion_total  0.34799969482390714\n",
      "Node_proportion_gain  0.016304481736385545\n",
      "Split Found:  n16 [['Age', 40.5, 179045.45238095237, 4]] left <TREE4.TREE4.NodeClass object at 0x0000026A150087D0> Age > 40.5\n",
      "node_proportion_total  0.35398462236823597\n",
      "Node_proportion_gain  0.005984927544328833\n",
      "This split isn't good now i cut it [reg delta]\n",
      "Split Found:  n17 [['CompPrice', 120.5, 241165.92500000002, 4]] right <TREE4.TREE4.NodeClass object at 0x0000026A1501AAB0> CompPrice > 120.5\n",
      "node_proportion_total  0.35901371006926475\n",
      "Node_proportion_gain  0.005029087701028778\n",
      "This split isn't good now i cut it [reg delta]\n",
      "Split Found:  n9 [['Sales', 2.755, 702866.0392156863, 3]] right <TREE4.TREE4.NodeClass object at 0x0000026A150085F0> Sales > 2.75\n",
      "node_proportion_total  0.3738796461455665\n",
      "Node_proportion_gain  0.014865936076301767\n",
      "Node Search Split Error for:  n18 with obs in node:  6  which is less than minimum parent size:  10\n",
      "TypeError: Node search split (CART) failure\n",
      "Split Found:  n19 [['ShelveLoc', ('Medium', 'Good'), 605057.294117647, 4]] right <TREE4.TREE4.NodeClass object at 0x0000026A15074B90> ShelveLoc in ('Medium', 'Good')\n",
      "node_proportion_total  0.3845407556524297\n",
      "Node_proportion_gain  0.010661109506863164\n",
      "Split Found:  n5 [['CompPrice', 99.0, 589977.9074074074, 2]] right <TREE4.TREE4.NodeClass object at 0x0000026A14FC1AF0> CompPrice > 99.0\n",
      "node_proportion_total  0.44748688110846\n",
      "Node_proportion_gain  0.06294612545603034\n",
      "Node Search Split Error for:  n10 with obs in node:  9  which is less than minimum parent size:  10\n",
      "TypeError: Node search split (CART) failure\n",
      "Split Found:  n11 [['Sales', 10.629999999999999, 552463.9643527204, 3]] right <TREE4.TREE4.NodeClass object at 0x0000026A160A2D50> Sales > 10.63\n",
      "node_proportion_total  0.46583657254148886\n",
      "Node_proportion_gain  0.018349691433028836\n",
      "Split Found:  n22 [['ShelveLoc', ('Medium', 'Bad'), 454312.4878787879, 4]] left <TREE4.TREE4.NodeClass object at 0x0000026A15084710> ShelveLoc in ('Medium', 'Bad')\n",
      "node_proportion_total  0.49214952404042084\n",
      "Node_proportion_gain  0.02631295149893198\n",
      "Split Found:  n23 [['Age', 37.0, 103068.2380952381, 4]] right <TREE4.TREE4.NodeClass object at 0x0000026A160D9970> Age > 37.0\n",
      "node_proportion_total  0.5002786457365969\n",
      "Node_proportion_gain  0.008129121696176023\n",
      "This split isn't good now i cut it [reg delta]\n",
      "Split Found:  n3 [['Sales', 7.555, 1778363.574074074, 1]] right <TREE4.TREE4.NodeClass object at 0x0000026A14F58080> Sales > 7.55\n",
      "node_proportion_total  0.6030814477524611\n",
      "Node_proportion_gain  0.10280280201586423\n",
      "Split Found:  n6 [['CompPrice', 135.5, 1071995.7407407407, 2]] left <TREE4.TREE4.NodeClass object at 0x0000026A160FBD70> CompPrice > 135.5\n",
      "node_proportion_total  0.6413300907568147\n",
      "Node_proportion_gain  0.0382486430043536\n",
      "Split Found:  n12 [['Sales', 4.93, 460789.3714285714, 3]] left <TREE4.TREE4.NodeClass object at 0x0000026A161575F0> Sales > 4.93\n",
      "node_proportion_total  0.6490574269598205\n",
      "Node_proportion_gain  0.007727336203005808\n",
      "This split isn't good now i cut it [reg delta]\n",
      "Split Found:  n13 [['Sales', 3.5700000000000003, 613654.9363636364, 3]] right <TREE4.TREE4.NodeClass object at 0x0000026A1618A630> Sales > 3.57\n",
      "node_proportion_total  0.6584823816558325\n",
      "Node_proportion_gain  0.009424954696012011\n",
      "This split isn't good now i cut it [reg delta]\n",
      "Split Found:  n7 [['CompPrice', 146.5, 716481.2307692308, 2]] right <TREE4.TREE4.NodeClass object at 0x0000026A16157350> CompPrice > 146.5\n",
      "node_proportion_total  0.6910784127615708\n",
      "Node_proportion_gain  0.03259603110573828\n",
      "Split Found:  n14 [['Sales', 11.805, 486626.7857142857, 3]] left <TREE4.TREE4.NodeClass object at 0x0000026A1618A090> Sales > 11.8\n",
      "node_proportion_total  0.7011269774134853\n",
      "Node_proportion_gain  0.010048564651914504\n",
      "Split Found:  n28 [['ShelveLoc', ('Medium', 'Bad'), 419883.61142857146, 4]] left <TREE4.TREE4.NodeClass object at 0x0000026A161C3350> ShelveLoc in ('Medium', 'Bad')\n",
      "node_proportion_total  0.7100311538275477\n",
      "Node_proportion_gain  0.008904176414062381\n",
      "This split isn't good now i cut it [reg delta]\n",
      "Node Search Split Error for:  n29 with obs in node:  7  which is less than minimum parent size:  10\n",
      "TypeError: Node search split (CART) failure\n",
      "Split Found:  n15 [['Population', 228.5, 231477.32499999998, 3]] right <TREE4.TREE4.NodeClass object at 0x0000026A161F9FD0> Population > 228.5\n",
      "node_proportion_total  0.711350915354443\n",
      "Node_proportion_gain  0.00131976152689528\n",
      "This split isn't good now i cut it [reg delta]\n",
      "training mse 170.9\n",
      "\n",
      "\n",
      "Folds:  2\n",
      "Split Found:  n1 [['CompPrice', 121.5, 3421133.29516671, 0]] start <TREE4.TREE4.NodeClass object at 0x0000026A16252F00> CompPrice > 121.5\n",
      "node_proportion_total  0.2187263522105488\n",
      "Split Found:  n2 [['Sales', 7.55, 1141688.875, 1]] left <TREE4.TREE4.NodeClass object at 0x0000026A162EAF60> Sales > 7.55\n",
      "node_proportion_total  0.3037404574597231\n",
      "Node_proportion_gain  0.0850141052491743\n",
      "Split Found:  n4 [['Age', 55.5, 719209.0499999999, 2]] left <TREE4.TREE4.NodeClass object at 0x0000026A162EB0E0> Age > 55.5\n",
      "node_proportion_total  0.32257333481870354\n",
      "Node_proportion_gain  0.018832877358980427\n",
      "Split Found:  n8 [['Income', 63.5, 299879.2083333334, 3]] left <TREE4.TREE4.NodeClass object at 0x0000026A162EB1D0> Income > 63.5\n",
      "node_proportion_total  0.3315584612149342\n",
      "Node_proportion_gain  0.00898512639623067\n",
      "This split isn't good now i cut it [reg delta]\n",
      "Split Found:  n9 [['Sales', 3.46, 421844.2258064516, 3]] right <TREE4.TREE4.NodeClass object at 0x0000026A16367920> Sales > 3.46\n",
      "node_proportion_total  0.34105493273373094\n",
      "Node_proportion_gain  0.009496471518796734\n",
      "This split isn't good now i cut it [reg delta]\n",
      "Split Found:  n5 [['CompPrice', 99.0, 428880.1488095238, 2]] right <TREE4.TREE4.NodeClass object at 0x0000026A16340740> CompPrice > 99.0\n",
      "node_proportion_total  0.36926666136869096\n",
      "Node_proportion_gain  0.02821172863496002\n",
      "Node Search Split Error for:  n10 with obs in node:  8  which is less than minimum parent size:  10\n",
      "TypeError: Node search split (CART) failure\n",
      "Split Found:  n11 [['Sales', 9.79, 389079.84210526315, 3]] right <TREE4.TREE4.NodeClass object at 0x0000026A163D2DE0> Sales > 9.79\n",
      "node_proportion_total  0.3826135573730044\n",
      "Node_proportion_gain  0.013346896004313435\n",
      "Split Found:  n22 [['ShelveLoc', ('Medium', 'Bad'), 242485.16666666666, 4]] left <TREE4.TREE4.NodeClass object at 0x0000026A163AFE00> ShelveLoc in ('Medium', 'Bad')\n",
      "node_proportion_total  0.40608444293707296\n",
      "Node_proportion_gain  0.023470885564068567\n",
      "Split Found:  n23 [['CompPrice', 115.5, 150556.95454545453, 4]] right <TREE4.TREE4.NodeClass object at 0x0000026A163F7D40> CompPrice > 115.5\n",
      "node_proportion_total  0.4117376868651382\n",
      "Node_proportion_gain  0.00565324392806521\n",
      "This split isn't good now i cut it [reg delta]\n",
      "Split Found:  n3 [['Sales', 7.555, 2306640.1096096095, 1]] right <TREE4.TREE4.NodeClass object at 0x0000026A162EAFF0> Sales > 7.55\n",
      "node_proportion_total  0.5266213575177073\n",
      "Node_proportion_gain  0.11488367065256916\n",
      "Split Found:  n6 [['CompPrice', 135.5, 1366800.9615384615, 2]] left <TREE4.TREE4.NodeClass object at 0x0000026A16252C60> CompPrice > 135.5\n",
      "node_proportion_total  0.5904547729125408\n",
      "Node_proportion_gain  0.06383341539483345\n",
      "Split Found:  n12 [['Sales', 5.045, 782523.375, 3]] left <TREE4.TREE4.NodeClass object at 0x0000026A1642EE40> Sales > 5.04\n",
      "node_proportion_total  0.6067973524389286\n",
      "Node_proportion_gain  0.016342579526387846\n",
      "Split Found:  n24 [['Age', 51.5, 301726.2666666667, 4]] left <TREE4.TREE4.NodeClass object at 0x0000026A164CE390> Age > 51.5\n",
      "node_proportion_total  0.6132216789166431\n",
      "Node_proportion_gain  0.006424326477714515\n",
      "This split isn't good now i cut it [reg delta]\n",
      "Split Found:  n25 [['CompPrice', 124.5, 483456.5257142857, 4]] right <TREE4.TREE4.NodeClass object at 0x0000026A164F7740> CompPrice > 124.5\n",
      "node_proportion_total  0.6263449951182214\n",
      "Node_proportion_gain  0.01312331620157825\n",
      "Split Found:  n13 [['Sales', 3.5700000000000003, 587932.6571428572, 3]] right <TREE4.TREE4.NodeClass object at 0x0000026A164CE1B0> Sales > 3.57\n",
      "node_proportion_total  0.6368684557456081\n",
      "Node_proportion_gain  0.010523460627386738\n",
      "Node Search Split Error for:  n26 with obs in node:  5  which is less than minimum parent size:  10\n",
      "TypeError: Node search split (CART) failure\n",
      "Split Found:  n27 [['Advertising', 8.0, 451974.2625, 4]] right <TREE4.TREE4.NodeClass object at 0x0000026A16550BF0> Advertising > 8.0\n",
      "node_proportion_total  0.6429501728871907\n",
      "Node_proportion_gain  0.0060817171415825655\n",
      "This split isn't good now i cut it [reg delta]\n",
      "Split Found:  n7 [['CompPrice', 146.5, 953798.2333333334, 2]] right <TREE4.TREE4.NodeClass object at 0x0000026A164987D0> CompPrice > 146.5\n",
      "node_proportion_total  0.6817208890549107\n",
      "Node_proportion_gain  0.03877071616771999\n",
      "Split Found:  n14 [['ShelveLoc', ('Medium', 'Bad'), 740536.9534883721, 3]] left <TREE4.TREE4.NodeClass object at 0x0000026A1652A420> ShelveLoc in ('Medium', 'Bad')\n",
      "node_proportion_total  0.6960011703897574\n",
      "Node_proportion_gain  0.014280281334846712\n",
      "Split Found:  n28 [['Sales', 11.99, 246840.25757575757, 4]] left <TREE4.TREE4.NodeClass object at 0x0000026A165A86E0> Sales > 11.99\n",
      "node_proportion_total  0.71099777316083\n",
      "Node_proportion_gain  0.01499660277107262\n",
      "Split Found:  n29 [['Sales', 10.7, 498005.9369369368, 4]] right <TREE4.TREE4.NodeClass object at 0x0000026A165E03B0> Sales > 10.7\n",
      "node_proportion_total  0.7276755906465123\n",
      "Node_proportion_gain  0.01667781748568231\n",
      "Split Found:  n15 [['CompPrice', 150.5, 215310.0857142857, 3]] right <TREE4.TREE4.NodeClass object at 0x0000026A165A8500> CompPrice > 150.5\n",
      "node_proportion_total  0.7284547450134998\n",
      "Node_proportion_gain  0.0007791543669875001\n",
      "This split isn't good now i cut it [reg delta]\n",
      "training mse 291.04\n",
      "\n",
      "\n",
      "Folds:  3\n",
      "Split Found:  n1 [['CompPrice', 121.5, 3442491.6258503404, 0]] start <TREE4.TREE4.NodeClass object at 0x0000026A16252F90> CompPrice > 121.5\n",
      "node_proportion_total  0.196996336399335\n",
      "Split Found:  n2 [['CompPrice', 95.0, 1145497.9797979798, 1]] left <TREE4.TREE4.NodeClass object at 0x0000026A166BE030> CompPrice > 95.0\n",
      "node_proportion_total  0.28037978774339767\n",
      "Node_proportion_gain  0.08338345134406266\n",
      "Node Search Split Error for:  n4 with obs in node:  6  which is less than minimum parent size:  10\n",
      "TypeError: Node search split (CART) failure\n",
      "Split Found:  n5 [['Sales', 9.79, 1130920.1666666667, 2]] right <TREE4.TREE4.NodeClass object at 0x0000026A14ED32F0> Sales > 9.79\n",
      "node_proportion_total  0.3329795311645006\n",
      "Node_proportion_gain  0.05259974342110291\n",
      "Split Found:  n10 [['ShelveLoc', ('Medium', 'Bad'), 995073.0467532467, 3]] left <TREE4.TREE4.NodeClass object at 0x0000026A14ED3650> ShelveLoc in ('Medium', 'Bad')\n",
      "node_proportion_total  0.3590586890242485\n",
      "Node_proportion_gain  0.026079157859747903\n",
      "Split Found:  n20 [['CompPrice', 114.5, 179598.2, 4]] left <TREE4.TREE4.NodeClass object at 0x0000026A1674F3B0> CompPrice > 114.5\n",
      "node_proportion_total  0.3600496007490064\n",
      "Node_proportion_gain  0.0009909117247579036\n",
      "This split isn't good now i cut it [reg delta]\n",
      "Split Found:  n21 [['Sales', 7.315, 819234.9465811965, 4]] right <TREE4.TREE4.NodeClass object at 0x0000026A16795460> Sales > 7.32\n",
      "node_proportion_total  0.3854123393994621\n",
      "Node_proportion_gain  0.02536273865045574\n",
      "Split Found:  n11 [['Advertising', 2.0, 140574.23076923078, 3]] right <TREE4.TREE4.NodeClass object at 0x0000026A1674F1D0> Advertising > 2.0\n",
      "node_proportion_total  0.39246438349688195\n",
      "Node_proportion_gain  0.0070520440974198295\n",
      "This split isn't good now i cut it [reg delta]\n",
      "Split Found:  n3 [['Sales', 7.555, 2324061.005, 1]] right <TREE4.TREE4.NodeClass object at 0x0000026A166BE0C0> Sales > 7.55\n",
      "node_proportion_total  0.49878964918851704\n",
      "Node_proportion_gain  0.10632526569163508\n",
      "Split Found:  n6 [['CompPrice', 135.5, 1381817.82, 2]] left <TREE4.TREE4.NodeClass object at 0x0000026A167E3FB0> CompPrice > 135.5\n",
      "node_proportion_total  0.5637394398809736\n",
      "Node_proportion_gain  0.0649497906924566\n",
      "Split Found:  n12 [['Sales', 3.65, 814191.7555555556, 3]] left <TREE4.TREE4.NodeClass object at 0x0000026A167F23F0> Sales > 3.65\n",
      "node_proportion_total  0.5805530118063369\n",
      "Node_proportion_gain  0.016813571925363258\n",
      "Node Search Split Error for:  n24 with obs in node:  5  which is less than minimum parent size:  10\n",
      "TypeError: Node search split (CART) failure\n",
      "Split Found:  n25 [['Age', 76.5, 705560.025, 4]] right <TREE4.TREE4.NodeClass object at 0x0000026A168BB050> Age > 76.5\n",
      "node_proportion_total  0.5888546779980115\n",
      "Node_proportion_gain  0.008301666191674606\n",
      "This split isn't good now i cut it [reg delta]\n",
      "Split Found:  n13 [['Sales', 3.9350000000000005, 571285.2499999999, 3]] right <TREE4.TREE4.NodeClass object at 0x0000026A168917F0> Sales > 3.94\n",
      "node_proportion_total  0.5976874721803594\n",
      "Node_proportion_gain  0.008832794182347947\n",
      "This split isn't good now i cut it [reg delta]\n",
      "Split Found:  n7 [['CompPrice', 146.5, 956986.8539765319, 2]] right <TREE4.TREE4.NodeClass object at 0x0000026A1684FB90> CompPrice > 146.5\n",
      "node_proportion_total  0.6360725702499554\n",
      "Node_proportion_gain  0.038385098069596\n",
      "Split Found:  n14 [['Sales', 10.7, 728254.3488372093, 3]] left <TREE4.TREE4.NodeClass object at 0x0000026A16902690> Sales > 10.7\n",
      "node_proportion_total  0.657731500374017\n",
      "Node_proportion_gain  0.021658930124061504\n",
      "Split Found:  n28 [['ShelveLoc', ('Medium', 'Bad'), 573021.0212121212, 4]] left <TREE4.TREE4.NodeClass object at 0x0000026A7F4BFCB0> ShelveLoc in ('Medium', 'Bad')\n",
      "node_proportion_total  0.6688240767244911\n",
      "Node_proportion_gain  0.011092576350474115\n",
      "Split Found:  n29 [['ShelveLoc', ('Medium', 'Bad'), 158244.57142857142, 4]] right <TREE4.TREE4.NodeClass object at 0x0000026A1696F8F0> ShelveLoc in ('Medium', 'Bad')\n",
      "node_proportion_total  0.6788365959892039\n",
      "Node_proportion_gain  0.010012519264712805\n",
      "Split Found:  n15 [['Population', 228.5, 231999.32499999998, 3]] right <TREE4.TREE4.NodeClass object at 0x0000026A1693BE60> Population > 228.5\n",
      "node_proportion_total  0.6800740336177072\n",
      "Node_proportion_gain  0.0012374376285033684\n",
      "This split isn't good now i cut it [reg delta]\n",
      "training mse 332.38\n",
      "\n",
      "\n",
      "Folds:  4\n",
      "Split Found:  n1 [['CompPrice', 121.5, 3406896.1453864044, 0]] start <TREE4.TREE4.NodeClass object at 0x0000026A162522D0> CompPrice > 121.5\n",
      "node_proportion_total  0.2073472644596289\n",
      "Split Found:  n2 [['Sales', 7.55, 1132235.732976827, 1]] left <TREE4.TREE4.NodeClass object at 0x0000026A16A58EC0> Sales > 7.55\n",
      "node_proportion_total  0.2859375824116045\n",
      "Node_proportion_gain  0.0785903179519756\n",
      "Split Found:  n4 [['ShelveLoc', ('Medium', 'Bad'), 703579.7000000001, 2]] left <TREE4.TREE4.NodeClass object at 0x0000026A16A8FE60> ShelveLoc in ('Medium', 'Bad')\n",
      "node_proportion_total  0.3038358012952254\n",
      "Node_proportion_gain  0.01789821888362092\n",
      "Node Search Split Error for:  n8 with obs in node:  5  which is less than minimum parent size:  10\n",
      "TypeError: Node search split (CART) failure\n",
      "Split Found:  n9 [['Age', 54.5, 614572.5919117647, 3]] right <TREE4.TREE4.NodeClass object at 0x0000026A16AD5220> Age > 54.5\n",
      "node_proportion_total  0.31636496191890456\n",
      "Node_proportion_gain  0.012529160623679148\n",
      "Split Found:  n18 [['Income', 49.5, 229666.14285714287, 4]] left <TREE4.TREE4.NodeClass object at 0x0000026A16AD54C0> Income > 49.5\n",
      "node_proportion_total  0.3227585861756098\n",
      "Node_proportion_gain  0.006393624256705255\n",
      "This split isn't good now i cut it [reg delta]\n",
      "Split Found:  n19 [['Population', 179.0, 386868.1214285714, 4]] right <TREE4.TREE4.NodeClass object at 0x0000026A16AFB4A0> Population > 179.0\n",
      "node_proportion_total  0.32966414260780175\n",
      "Node_proportion_gain  0.006905556432191928\n",
      "This split isn't good now i cut it [reg delta]\n",
      "Split Found:  n5 [['CompPrice', 99.0, 438226.8015873016, 2]] right <TREE4.TREE4.NodeClass object at 0x0000026A16A9E2A0> CompPrice > 99.0\n",
      "node_proportion_total  0.3766510609023412\n",
      "Node_proportion_gain  0.04698691829453944\n",
      "Node Search Split Error for:  n10 with obs in node:  9  which is less than minimum parent size:  10\n",
      "TypeError: Node search split (CART) failure\n",
      "Split Found:  n11 [['Sales', 9.79, 400640.1899313501, 3]] right <TREE4.TREE4.NodeClass object at 0x0000026A16B655B0> Sales > 9.79\n",
      "node_proportion_total  0.3939173434316616\n",
      "Node_proportion_gain  0.017266282529320442\n",
      "Split Found:  n22 [['ShelveLoc', ('Medium', 'Bad'), 254214.63392857142, 4]] left <TREE4.TREE4.NodeClass object at 0x0000026A16B65610> ShelveLoc in ('Medium', 'Bad')\n",
      "node_proportion_total  0.4167120011933345\n",
      "Node_proportion_gain  0.022794657761672887\n",
      "Split Found:  n23 [['CompPrice', 115.5, 150556.95454545453, 4]] right <TREE4.TREE4.NodeClass object at 0x0000026A16B8A570> CompPrice > 115.5\n",
      "node_proportion_total  0.4219262079324496\n",
      "Node_proportion_gain  0.0052142067391151015\n",
      "This split isn't good now i cut it [reg delta]\n",
      "Split Found:  n3 [['Sales', 7.555, 2304273.84713615, 1]] right <TREE4.TREE4.NodeClass object at 0x0000026A16A58F50> Sales > 7.55\n",
      "node_proportion_total  0.5441005153468478\n",
      "Node_proportion_gain  0.12217430741439816\n",
      "Split Found:  n6 [['CompPrice', 135.5, 1395115.8541666667, 2]] left <TREE4.TREE4.NodeClass object at 0x0000026A16C0FE00> CompPrice > 135.5\n",
      "node_proportion_total  0.6051408031597152\n",
      "Node_proportion_gain  0.06104028781286741\n",
      "Split Found:  n12 [['Sales', 3.65, 785446.4325581396, 3]] left <TREE4.TREE4.NodeClass object at 0x0000026A16C524E0> Sales > 3.65\n",
      "node_proportion_total  0.6209974824180108\n",
      "Node_proportion_gain  0.015856679258295592\n",
      "Node Search Split Error for:  n24 with obs in node:  5  which is less than minimum parent size:  10\n",
      "TypeError: Node search split (CART) failure\n",
      "Split Found:  n25 [['Education', 11.5, 676849.2647058824, 4]] right <TREE4.TREE4.NodeClass object at 0x0000026A16C89730> Education > 11.5\n",
      "node_proportion_total  0.6292619250505821\n",
      "Node_proportion_gain  0.008264442632571312\n",
      "This split isn't good now i cut it [reg delta]\n",
      "Split Found:  n13 [['Sales', 3.5700000000000003, 613360.5272727273, 3]] right <TREE4.TREE4.NodeClass object at 0x0000026A16C60500> Sales > 3.57\n",
      "node_proportion_total  0.6384291395993732\n",
      "Node_proportion_gain  0.009167214548791103\n",
      "This split isn't good now i cut it [reg delta]\n",
      "Split Found:  n7 [['CompPrice', 146.5, 924757.473474801, 2]] right <TREE4.TREE4.NodeClass object at 0x0000026A16C1E9C0> CompPrice > 146.5\n",
      "node_proportion_total  0.6831457114171748\n",
      "Node_proportion_gain  0.04471657181780164\n",
      "Split Found:  n14 [['Sales', 10.7, 695506.2248062015, 3]] left <TREE4.TREE4.NodeClass object at 0x0000026A16CAE000> Sales > 10.7\n",
      "node_proportion_total  0.7132794762967788\n",
      "Node_proportion_gain  0.030133764879603953\n",
      "Split Found:  n28 [['ShelveLoc', ('Medium', 'Bad'), 563892.9303030303, 4]] left <TREE4.TREE4.NodeClass object at 0x0000026A16CD4AA0> ShelveLoc in ('Medium', 'Bad')\n",
      "node_proportion_total  0.7259461271230854\n",
      "Node_proportion_gain  0.01266665082630658\n",
      "Split Found:  n29 [['CompPrice', 133.5, 134766.11111111112, 4]] right <TREE4.TREE4.NodeClass object at 0x0000026A16D41DF0> CompPrice > 133.5\n",
      "node_proportion_total  0.7346540331824056\n",
      "Node_proportion_gain  0.008707906059320258\n",
      "This split isn't good now i cut it [reg delta]\n",
      "Split Found:  n15 [['CompPrice', 152.0, 233881.28571428574, 3]] right <TREE4.TREE4.NodeClass object at 0x0000026A16D0A4B0> CompPrice > 152.0\n",
      "node_proportion_total  0.7359096583378433\n",
      "Node_proportion_gain  0.0012556251554376452\n",
      "This split isn't good now i cut it [reg delta]\n",
      "training mse 236.62\n",
      "\n",
      "\n",
      "Folds:  5\n",
      "Split Found:  n1 [['CompPrice', 127.5, 3410592.379748485, 0]] start <TREE4.TREE4.NodeClass object at 0x0000026A161D7AA0> CompPrice > 127.5\n",
      "node_proportion_total  0.20982115440567525\n",
      "Split Found:  n2 [['Sales', 7.55, 1714651.9796703297, 1]] left <TREE4.TREE4.NodeClass object at 0x0000026A16E27650> Sales > 7.55\n",
      "node_proportion_total  0.3223075357771071\n",
      "Node_proportion_gain  0.11248638137143183\n",
      "Split Found:  n4 [['Age', 53.5, 1132930.0169491526, 2]] left <TREE4.TREE4.NodeClass object at 0x0000026A16E277D0> Age > 53.5\n",
      "node_proportion_total  0.35540241785790544\n",
      "Node_proportion_gain  0.03309488208079836\n",
      "Split Found:  n8 [['Income', 67.0, 408185.641025641, 3]] left <TREE4.TREE4.NodeClass object at 0x0000026A16E9D8E0> Income > 67.0\n",
      "node_proportion_total  0.3723719820632125\n",
      "Node_proportion_gain  0.01696956420530704\n",
      "Split Found:  n16 [['Age', 40.5, 165705.4857142857, 4]] left <TREE4.TREE4.NodeClass object at 0x0000026A16EE0740> Age > 40.5\n",
      "node_proportion_total  0.37917733435956164\n",
      "Node_proportion_gain  0.006805352296349154\n",
      "This split isn't good now i cut it [reg delta]\n",
      "Split Found:  n17 [['Education', 12.5, 244106.4523809523, 4]] right <TREE4.TREE4.NodeClass object at 0x0000026A16EFA630> Education > 12.5\n",
      "node_proportion_total  0.3837917801410465\n",
      "Node_proportion_gain  0.004614445781484844\n",
      "This split isn't good now i cut it [reg delta]\n",
      "Split Found:  n9 [['Sales', 2.755, 729241.6855345912, 3]] right <TREE4.TREE4.NodeClass object at 0x0000026A16EE0560> Sales > 2.75\n",
      "node_proportion_total  0.3984021582551071\n",
      "Node_proportion_gain  0.01461037811406063\n",
      "Node Search Split Error for:  n18 with obs in node:  6  which is less than minimum parent size:  10\n",
      "TypeError: Node search split (CART) failure\n",
      "Split Found:  n19 [['ShelveLoc', ('Medium', 'Good'), 631496.8366013071, 4]] right <TREE4.TREE4.NodeClass object at 0x0000026A16F506E0> ShelveLoc in ('Medium', 'Good')\n",
      "node_proportion_total  0.40953771192610117\n",
      "Node_proportion_gain  0.011135553670994058\n",
      "Split Found:  n5 [['CompPrice', 99.0, 592208.0221674877, 2]] right <TREE4.TREE4.NodeClass object at 0x0000026A16E9D700> CompPrice > 99.0\n",
      "node_proportion_total  0.45007555276393885\n",
      "Node_proportion_gain  0.04053784083783768\n",
      "Node Search Split Error for:  n10 with obs in node:  7  which is less than minimum parent size:  10\n",
      "TypeError: Node search split (CART) failure\n",
      "Split Found:  n11 [['Advertising', 17.5, 563090.9358974359, 3]] right <TREE4.TREE4.NodeClass object at 0x0000026A16FAF4A0> Advertising > 17.5\n",
      "node_proportion_total  0.47194936529833664\n",
      "Node_proportion_gain  0.021873812534397796\n",
      "Split Found:  n22 [['Sales', 9.715, 480098.87557603687, 4]] left <TREE4.TREE4.NodeClass object at 0x0000026A16DA76B0> Sales > 9.71\n",
      "node_proportion_total  0.49419569127925045\n",
      "Node_proportion_gain  0.022246325980913806\n",
      "Node Search Split Error for:  n23 with obs in node:  6  which is less than minimum parent size:  10\n",
      "TypeError: Node search split (CART) failure\n",
      "Split Found:  n3 [['Sales', 7.5649999999999995, 1727400.0990173845, 1]] right <TREE4.TREE4.NodeClass object at 0x0000026A16E276E0> Sales > 7.56\n",
      "node_proportion_total  0.6026181562629683\n",
      "Node_proportion_gain  0.10842246498371788\n",
      "Split Found:  n6 [['CompPrice', 135.5, 988873.0606060604, 2]] left <TREE4.TREE4.NodeClass object at 0x0000026A16FE6B10> CompPrice > 135.5\n",
      "node_proportion_total  0.6304152378852922\n",
      "Node_proportion_gain  0.02779708162232386\n",
      "Split Found:  n12 [['Sales', 5.63, 383411.64999999997, 3]] left <TREE4.TREE4.NodeClass object at 0x0000026A170194C0> Sales > 5.63\n",
      "node_proportion_total  0.638412711295813\n",
      "Node_proportion_gain  0.007997473410520817\n",
      "This split isn't good now i cut it [reg delta]\n",
      "Split Found:  n13 [['Sales', 3.5700000000000003, 608076.7090909092, 3]] right <TREE4.TREE4.NodeClass object at 0x0000026A17094620> Sales > 3.57\n",
      "node_proportion_total  0.6487797674466932\n",
      "Node_proportion_gain  0.010367056150880183\n",
      "Node Search Split Error for:  n26 with obs in node:  5  which is less than minimum parent size:  10\n",
      "TypeError: Node search split (CART) failure\n",
      "Split Found:  n27 [['CompPrice', 142.0, 472231.73333333334, 4]] right <TREE4.TREE4.NodeClass object at 0x0000026A170CC3B0> CompPrice > 142.0\n",
      "node_proportion_total  0.6553862005984653\n",
      "Node_proportion_gain  0.0066064331517721175\n",
      "This split isn't good now i cut it [reg delta]\n",
      "Split Found:  n7 [['CompPrice', 146.0, 747782.4, 2]] right <TREE4.TREE4.NodeClass object at 0x0000026A170620C0> CompPrice > 146.0\n",
      "node_proportion_total  0.6925799269016618\n",
      "Node_proportion_gain  0.037193726303196506\n",
      "Split Found:  n14 [['Sales', 11.879999999999999, 498094.90625, 3]] left <TREE4.TREE4.NodeClass object at 0x0000026A170E2210> Sales > 11.88\n",
      "node_proportion_total  0.7044927312563936\n",
      "Node_proportion_gain  0.011912804354731743\n",
      "Split Found:  n28 [['ShelveLoc', ('Medium', 'Bad'), 421885.5714285714, 4]] left <TREE4.TREE4.NodeClass object at 0x0000026A1711BFB0> ShelveLoc in ('Medium', 'Bad')\n",
      "node_proportion_total  0.713001877224059\n",
      "Node_proportion_gain  0.008509145967665499\n",
      "This split isn't good now i cut it [reg delta]\n",
      "Node Search Split Error for:  n29 with obs in node:  8  which is less than minimum parent size:  10\n",
      "TypeError: Node search split (CART) failure\n",
      "Split Found:  n15 [['Income', 81.5, 251765.1111111111, 3]] right <TREE4.TREE4.NodeClass object at 0x0000026A17119370> Income > 81.5\n",
      "node_proportion_total  0.7156780253986272\n",
      "Node_proportion_gain  0.0026761481745681825\n",
      "This split isn't good now i cut it [reg delta]\n",
      "training mse 240.19\n",
      "\n",
      "\n",
      "Folds:  6\n",
      "Split Found:  n1 [['CompPrice', 127.5, 3370501.7954781703, 0]] start <TREE4.TREE4.NodeClass object at 0x0000026A16D874A0> CompPrice > 127.5\n",
      "node_proportion_total  0.19952435156559625\n",
      "Split Found:  n2 [['Sales', 9.79, 1696347.7437398375, 1]] left <TREE4.TREE4.NodeClass object at 0x0000026A17205B50> Sales > 9.79\n",
      "node_proportion_total  0.31019687974637117\n",
      "Node_proportion_gain  0.11067252818077492\n",
      "Split Found:  n4 [['CompPrice', 95.0, 1523089.3731527093, 2]] left <TREE4.TREE4.NodeClass object at 0x0000026A163D3110> CompPrice > 95.0\n",
      "node_proportion_total  0.34904053882265335\n",
      "Node_proportion_gain  0.03884365907628218\n",
      "Node Search Split Error for:  n8 with obs in node:  7  which is less than minimum parent size:  10\n",
      "TypeError: Node search split (CART) failure\n",
      "Split Found:  n9 [['Age', 53.5, 1477709.7389668147, 3]] right <TREE4.TREE4.NodeClass object at 0x0000026A172BEC00> Age > 53.5\n",
      "node_proportion_total  0.3855712661546156\n",
      "Node_proportion_gain  0.036530727331962276\n",
      "Split Found:  n18 [['Income', 89.5, 553651.9, 4]] left <TREE4.TREE4.NodeClass object at 0x0000026A17263CE0> Income > 89.5\n",
      "node_proportion_total  0.3985349093768648\n",
      "Node_proportion_gain  0.012963643222249188\n",
      "Split Found:  n19 [['Sales', 2.755, 928542.9594594594, 4]] right <TREE4.TREE4.NodeClass object at 0x0000026A1671F140> Sales > 2.75\n",
      "node_proportion_total  0.41931237638310564\n",
      "Node_proportion_gain  0.020777467006240835\n",
      "Split Found:  n5 [['CompPrice', 105.5, 182008.00877192983, 2]] right <TREE4.TREE4.NodeClass object at 0x0000026A172635F0> CompPrice > 105.5\n",
      "node_proportion_total  0.4462913650900789\n",
      "Node_proportion_gain  0.02697898870697324\n",
      "Node Search Split Error for:  n10 with obs in node:  6  which is less than minimum parent size:  10\n",
      "TypeError: Node search split (CART) failure\n",
      "Split Found:  n11 [['Advertising', 2.0, 159014.37142857147, 3]] right <TREE4.TREE4.NodeClass object at 0x0000026A1738D610> Advertising > 2.0\n",
      "node_proportion_total  0.453412009961185\n",
      "Node_proportion_gain  0.007120644871106141\n",
      "This split isn't good now i cut it [reg delta]\n",
      "Split Found:  n3 [['Sales', 7.085, 1702804.4741996233, 1]] right <TREE4.TREE4.NodeClass object at 0x0000026A17205BE0> Sales > 7.08\n",
      "node_proportion_total  0.5582737275034747\n",
      "Node_proportion_gain  0.10486171754228968\n",
      "Split Found:  n6 [['CompPrice', 136.0, 893483.8571428573, 2]] left <TREE4.TREE4.NodeClass object at 0x0000026A173A2AE0> CompPrice > 136.0\n",
      "node_proportion_total  0.5792062070036484\n",
      "Node_proportion_gain  0.02093247950017374\n",
      "Split Found:  n12 [['Sales', 4.5600000000000005, 427116.66666666674, 3]] left <TREE4.TREE4.NodeClass object at 0x0000026A1734ACF0> Sales > 4.56\n",
      "node_proportion_total  0.5825915117301816\n",
      "Node_proportion_gain  0.0033853047265332004\n",
      "This split isn't good now i cut it [reg delta]\n",
      "Split Found:  n13 [['Population', 353.5, 468326.5666666666, 3]] right <TREE4.TREE4.NodeClass object at 0x0000026A17421310> Population > 353.5\n",
      "node_proportion_total  0.593946396956261\n",
      "Node_proportion_gain  0.011354885226079303\n",
      "Split Found:  n26 [['CompPrice', 142.0, 310857.64285714284, 4]] left <TREE4.TREE4.NodeClass object at 0x0000026A173EBAD0> CompPrice > 142.0\n",
      "node_proportion_total  0.6012328981909867\n",
      "Node_proportion_gain  0.00728650123472574\n",
      "This split isn't good now i cut it [reg delta]\n",
      "Node Search Split Error for:  n27 with obs in node:  6  which is less than minimum parent size:  10\n",
      "TypeError: Node search split (CART) failure\n",
      "Split Found:  n7 [['CompPrice', 146.5, 817131.4712121212, 2]] right <TREE4.TREE4.NodeClass object at 0x0000026A173EB8F0> CompPrice > 146.5\n",
      "node_proportion_total  0.6390606886694458\n",
      "Node_proportion_gain  0.03782779047845908\n",
      "Split Found:  n14 [['Sales', 11.879999999999999, 553707.236111111, 3]] left <TREE4.TREE4.NodeClass object at 0x0000026A17433950> Sales > 11.88\n",
      "node_proportion_total  0.6574393693500835\n",
      "Node_proportion_gain  0.01837868068063775\n",
      "Split Found:  n28 [['CompPrice', 134.5, 480658.78095238097, 4]] left <TREE4.TREE4.NodeClass object at 0x0000026A1748FD10> CompPrice > 134.5\n",
      "node_proportion_total  0.6639968538692551\n",
      "Node_proportion_gain  0.006557484519171597\n",
      "This split isn't good now i cut it [reg delta]\n",
      "Node Search Split Error for:  n29 with obs in node:  8  which is less than minimum parent size:  10\n",
      "TypeError: Node search split (CART) failure\n",
      "Split Found:  n15 [['Income', 82.5, 266331.39999999997, 3]] right <TREE4.TREE4.NodeClass object at 0x0000026A1749C0E0> Income > 82.5\n",
      "node_proportion_total  0.6674884822405327\n",
      "Node_proportion_gain  0.0034916283712775886\n",
      "This split isn't good now i cut it [reg delta]\n",
      "training mse 534.66\n",
      "\n",
      "\n",
      "Folds:  7\n",
      "Split Found:  n1 [['CompPrice', 127.5, 3431618.742723493, 0]] start <TREE4.TREE4.NodeClass object at 0x0000026A169C90D0> CompPrice > 127.5\n",
      "node_proportion_total  0.19673708880705415\n",
      "Split Found:  n2 [['Sales', 7.539999999999999, 1731100.5955514365, 1]] left <TREE4.TREE4.NodeClass object at 0x0000026A1758D4F0> Sales > 7.54\n",
      "node_proportion_total  0.29990233060382\n",
      "Node_proportion_gain  0.10316524179676584\n",
      "Split Found:  n4 [['Age', 53.5, 1125288.5365517242, 2]] left <TREE4.TREE4.NodeClass object at 0x0000026A1758D670> Age > 53.5\n",
      "node_proportion_total  0.33029519867776735\n",
      "Node_proportion_gain  0.030392868073947366\n",
      "Split Found:  n8 [['Income', 67.0, 404791.16025641025, 3]] left <TREE4.TREE4.NodeClass object at 0x0000026A175EF4A0> Income > 67.0\n",
      "node_proportion_total  0.3497728946191744\n",
      "Node_proportion_gain  0.019477695941407025\n",
      "Split Found:  n16 [['Age', 40.5, 179045.45238095237, 4]] left <TREE4.TREE4.NodeClass object at 0x0000026A1763A0C0> Age > 40.5\n",
      "node_proportion_total  0.3562191990194502\n",
      "Node_proportion_gain  0.006446304400275826\n",
      "This split isn't good now i cut it [reg delta]\n",
      "Split Found:  n17 [['ShelveLoc', ('Bad', 'Good'), 227018.08571428567, 4]] right <TREE4.TREE4.NodeClass object at 0x0000026A17660050> ShelveLoc in ('Bad', 'Good')\n",
      "node_proportion_total  0.3593730473221152\n",
      "Node_proportion_gain  0.003153848302665019\n",
      "This split isn't good now i cut it [reg delta]\n",
      "Split Found:  n9 [['Sales', 2.755, 725015.5897435897, 3]] right <TREE4.TREE4.NodeClass object at 0x0000026A17639EE0> Sales > 2.75\n",
      "node_proportion_total  0.3739854916867418\n",
      "Node_proportion_gain  0.014612444364626553\n",
      "Node Search Split Error for:  n18 with obs in node:  6  which is less than minimum parent size:  10\n",
      "TypeError: Node search split (CART) failure\n",
      "Split Found:  n19 [['ShelveLoc', ('Medium', 'Good'), 627402.2342342343, 4]] right <TREE4.TREE4.NodeClass object at 0x0000026A176A5EE0> ShelveLoc in ('Medium', 'Good')\n",
      "node_proportion_total  0.38694268792637376\n",
      "Node_proportion_gain  0.012957196239631985\n",
      "Split Found:  n5 [['CompPrice', 99.0, 617308.3596491228, 2]] right <TREE4.TREE4.NodeClass object at 0x0000026A175EF2C0> CompPrice > 99.0\n",
      "node_proportion_total  0.44328996761775596\n",
      "Node_proportion_gain  0.0563472796913822\n",
      "Node Search Split Error for:  n10 with obs in node:  8  which is less than minimum parent size:  10\n",
      "TypeError: Node search split (CART) failure\n",
      "Split Found:  n11 [['Sales', 9.79, 583805.6176470588, 3]] right <TREE4.TREE4.NodeClass object at 0x0000026A177108F0> Sales > 9.79\n",
      "node_proportion_total  0.4716726147447788\n",
      "Node_proportion_gain  0.02838264712702282\n",
      "Split Found:  n22 [['ShelveLoc', ('Medium', 'Bad'), 397811.56000000006, 4]] left <TREE4.TREE4.NodeClass object at 0x0000026A17710A70> ShelveLoc in ('Medium', 'Bad')\n",
      "node_proportion_total  0.5053910022391713\n",
      "Node_proportion_gain  0.03371838749439254\n",
      "Split Found:  n23 [['Advertising', 2.0, 191322.68888888892, 4]] right <TREE4.TREE4.NodeClass object at 0x0000026A17748110> Advertising > 2.0\n",
      "node_proportion_total  0.5118773967349743\n",
      "Node_proportion_gain  0.006486394495803016\n",
      "This split isn't good now i cut it [reg delta]\n",
      "Split Found:  n3 [['Sales', 7.555, 1724174.7954125046, 1]] right <TREE4.TREE4.NodeClass object at 0x0000026A1758D580> Sales > 7.55\n",
      "node_proportion_total  0.5872027169534036\n",
      "Node_proportion_gain  0.0753253202184293\n",
      "Split Found:  n6 [['CompPrice', 142.0, 981079.4536679537, 2]] left <TREE4.TREE4.NodeClass object at 0x0000026A1775FF20> CompPrice > 142.0\n",
      "node_proportion_total  0.6217920511713771\n",
      "Node_proportion_gain  0.0345893342179735\n",
      "Split Found:  n12 [['Population', 131.5, 650912.1761904762, 3]] left <TREE4.TREE4.NodeClass object at 0x0000026A17748320> Population > 131.5\n",
      "node_proportion_total  0.6288343383749021\n",
      "Node_proportion_gain  0.007042287203524955\n",
      "This split isn't good now i cut it [reg delta]\n",
      "Split Found:  n13 [['Sales', 5.48, 331949.28571428574, 3]] right <TREE4.TREE4.NodeClass object at 0x0000026A17800AD0> Sales > 5.48\n",
      "node_proportion_total  0.6352373900237244\n",
      "Node_proportion_gain  0.006403051648822267\n",
      "This split isn't good now i cut it [reg delta]\n",
      "Split Found:  n7 [['CompPrice', 146.5, 752487.750877193, 2]] right <TREE4.TREE4.NodeClass object at 0x0000026A177CA4E0> CompPrice > 146.5\n",
      "node_proportion_total  0.6715142397098383\n",
      "Node_proportion_gain  0.03627684968611389\n",
      "Split Found:  n14 [['Sales', 11.879999999999999, 485594.825, 3]] left <TREE4.TREE4.NodeClass object at 0x0000026A17802810> Sales > 11.88\n",
      "node_proportion_total  0.6879559629949803\n",
      "Node_proportion_gain  0.01644172328514204\n",
      "Split Found:  n28 [['ShelveLoc', ('Medium', 'Good'), 409504.20000000007, 4]] left <TREE4.TREE4.NodeClass object at 0x0000026A1785B8C0> ShelveLoc in ('Medium', 'Good')\n",
      "node_proportion_total  0.6950294461101045\n",
      "Node_proportion_gain  0.007073483115124235\n",
      "This split isn't good now i cut it [reg delta]\n",
      "Node Search Split Error for:  n29 with obs in node:  8  which is less than minimum parent size:  10\n",
      "TypeError: Node search split (CART) failure\n",
      "Split Found:  n15 [['Income', 81.5, 269446.6, 3]] right <TREE4.TREE4.NodeClass object at 0x0000026A1785B6E0> Income > 81.5\n",
      "node_proportion_total  0.697855318333448\n",
      "Node_proportion_gain  0.0028258722233435174\n",
      "This split isn't good now i cut it [reg delta]\n",
      "training mse 279.75\n",
      "\n",
      "\n",
      "Folds:  8\n",
      "Split Found:  n1 [['CompPrice', 121.5, 3349617.016203704, 0]] start <TREE4.TREE4.NodeClass object at 0x0000026A174F92E0> CompPrice > 121.5\n",
      "node_proportion_total  0.20387628123160256\n",
      "Split Found:  n2 [['Sales', 7.55, 1144636.7468004152, 1]] left <TREE4.TREE4.NodeClass object at 0x0000026A1794B770> Sales > 7.55\n",
      "node_proportion_total  0.2843658133024412\n",
      "Node_proportion_gain  0.08048953207083864\n",
      "Split Found:  n4 [['ShelveLoc', ('Medium', 'Bad'), 740301.2000000002, 2]] left <TREE4.TREE4.NodeClass object at 0x0000026A1795F410> ShelveLoc in ('Medium', 'Bad')\n",
      "node_proportion_total  0.30478261578245697\n",
      "Node_proportion_gain  0.02041680248001576\n",
      "Node Search Split Error for:  n8 with obs in node:  5  which is less than minimum parent size:  10\n",
      "TypeError: Node search split (CART) failure\n",
      "Split Found:  n9 [['Age', 54.5, 651946.5786963433, 3]] right <TREE4.TREE4.NodeClass object at 0x0000026A189AC530> Age > 54.5\n",
      "node_proportion_total  0.3224436576200935\n",
      "Node_proportion_gain  0.01766104183763656\n",
      "Split Found:  n18 [['Income', 49.5, 244893.57142857145, 4]] left <TREE4.TREE4.NodeClass object at 0x0000026A189AC7D0> Income > 49.5\n",
      "node_proportion_total  0.33156948398700264\n",
      "Node_proportion_gain  0.009125826366909118\n",
      "This split isn't good now i cut it [reg delta]\n",
      "Split Found:  n19 [['Sales', 3.2300000000000004, 409226.30000000005, 4]] right <TREE4.TREE4.NodeClass object at 0x0000026A189CAF00> Sales > 3.23\n",
      "node_proportion_total  0.3377931500897517\n",
      "Node_proportion_gain  0.006223666102749048\n",
      "This split isn't good now i cut it [reg delta]\n",
      "Split Found:  n5 [['CompPrice', 99.0, 412751.00304878055, 2]] right <TREE4.TREE4.NodeClass object at 0x0000026A18974FB0> CompPrice > 99.0\n",
      "node_proportion_total  0.3768128792823911\n",
      "Node_proportion_gain  0.03901972919263941\n",
      "Node Search Split Error for:  n10 with obs in node:  8  which is less than minimum parent size:  10\n",
      "TypeError: Node search split (CART) failure\n",
      "Split Found:  n11 [['Sales', 9.79, 379064.7367149758, 3]] right <TREE4.TREE4.NodeClass object at 0x0000026A18A3D3A0> Sales > 9.79\n",
      "node_proportion_total  0.39348004624479493\n",
      "Node_proportion_gain  0.016667166962403834\n",
      "Split Found:  n22 [['ShelveLoc', ('Medium', 'Bad'), 246036.57142857142, 4]] left <TREE4.TREE4.NodeClass object at 0x0000026A18A3FFB0> ShelveLoc in ('Medium', 'Bad')\n",
      "node_proportion_total  0.42233308936840575\n",
      "Node_proportion_gain  0.02885304312361081\n",
      "Split Found:  n23 [['Income', 88.5, 137699.10389610392, 4]] right <TREE4.TREE4.NodeClass object at 0x0000026A18A5E1B0> Income > 88.5\n",
      "node_proportion_total  0.4264698666921837\n",
      "Node_proportion_gain  0.004136777323777929\n",
      "This split isn't good now i cut it [reg delta]\n",
      "Split Found:  n3 [['Sales', 7.555, 2232647.7826086953, 1]] right <TREE4.TREE4.NodeClass object at 0x0000026A1794B800> Sales > 7.55\n",
      "node_proportion_total  0.5413899447962175\n",
      "Node_proportion_gain  0.11492007810403382\n",
      "Split Found:  n6 [['CompPrice', 136.0, 1268522.8260869565, 2]] left <TREE4.TREE4.NodeClass object at 0x0000026A18A83E60> CompPrice > 136.0\n",
      "node_proportion_total  0.5999854443838223\n",
      "Node_proportion_gain  0.058595499587604793\n",
      "Split Found:  n12 [['Sales', 5.045, 748101.3625, 3]] left <TREE4.TREE4.NodeClass object at 0x0000026A18AEE630> Sales > 5.04\n",
      "node_proportion_total  0.6112033951467668\n",
      "Node_proportion_gain  0.011217950762944517\n",
      "Split Found:  n24 [['Age', 51.5, 294568.8909090909, 4]] left <TREE4.TREE4.NodeClass object at 0x0000026A18A90AA0> Age > 51.5\n",
      "node_proportion_total  0.6188017365110505\n",
      "Node_proportion_gain  0.007598341364283723\n",
      "This split isn't good now i cut it [reg delta]\n",
      "Split Found:  n25 [['CompPrice', 124.5, 456488.04, 4]] right <TREE4.TREE4.NodeClass object at 0x0000026A18B58710> CompPrice > 124.5\n",
      "node_proportion_total  0.6320779300707352\n",
      "Node_proportion_gain  0.01327619355968468\n",
      "Split Found:  n13 [['Sales', 3.5700000000000003, 523399.35555555555, 3]] right <TREE4.TREE4.NodeClass object at 0x0000026A18B27590> Sales > 3.57\n",
      "node_proportion_total  0.6418921806627391\n",
      "Node_proportion_gain  0.009814250592003915\n",
      "This split isn't good now i cut it [reg delta]\n",
      "Split Found:  n7 [['CompPrice', 146.5, 978992.1339950373, 2]] right <TREE4.TREE4.NodeClass object at 0x0000026A18AEE570> CompPrice > 146.5\n",
      "node_proportion_total  0.6883003123335473\n",
      "Node_proportion_gain  0.04640813167080815\n",
      "Split Found:  n14 [['Sales', 10.66, 747541.2364130435, 3]] left <TREE4.TREE4.NodeClass object at 0x0000026A18BA4EC0> Sales > 10.66\n",
      "node_proportion_total  0.7098441502128755\n",
      "Node_proportion_gain  0.02154383787932823\n",
      "Split Found:  n28 [['ShelveLoc', ('Medium', 'Bad'), 596878.6777777779, 4]] left <TREE4.TREE4.NodeClass object at 0x0000026A18BA5130> ShelveLoc in ('Medium', 'Bad')\n",
      "node_proportion_total  0.7241321851965449\n",
      "Node_proportion_gain  0.014288034983669373\n",
      "Split Found:  n29 [['ShelveLoc', ('Medium', 'Bad'), 154599.57142857142, 4]] right <TREE4.TREE4.NodeClass object at 0x0000026A18C135C0> ShelveLoc in ('Medium', 'Bad')\n",
      "node_proportion_total  0.7376504127230532\n",
      "Node_proportion_gain  0.01351822752650833\n",
      "Split Found:  n15 [['Population', 343.5, 234582, 3]] right <TREE4.TREE4.NodeClass object at 0x0000026A18BDB2C0> Population > 343.5\n",
      "node_proportion_total  0.738220868180382\n",
      "Node_proportion_gain  0.0005704554573288112\n",
      "This split isn't good now i cut it [reg delta]\n",
      "training mse 254.55\n",
      "\n",
      "\n",
      "Folds:  9\n",
      "Split Found:  n1 [['CompPrice', 127.5, 3397219.4247502415, 0]] start <TREE4.TREE4.NodeClass object at 0x0000026A171713D0> CompPrice > 127.5\n",
      "node_proportion_total  0.2188236439565582\n",
      "Split Found:  n2 [['Sales', 7.55, 1645851.3137706178, 1]] left <TREE4.TREE4.NodeClass object at 0x0000026A18D01370> Sales > 7.55\n",
      "node_proportion_total  0.32843358882122936\n",
      "Node_proportion_gain  0.10960994486467115\n",
      "Split Found:  n4 [['Age', 53.5, 1058448.1028708133, 2]] left <TREE4.TREE4.NodeClass object at 0x0000026A18D4BE60> Age > 53.5\n",
      "node_proportion_total  0.3597785364784879\n",
      "Node_proportion_gain  0.03134494765725854\n",
      "Split Found:  n8 [['Income', 65.5, 359647.76923076925, 3]] left <TREE4.TREE4.NodeClass object at 0x0000026A18D62CC0> Income > 65.5\n",
      "node_proportion_total  0.3703381027182376\n",
      "Node_proportion_gain  0.010559566239749685\n",
      "Node Search Split Error for:  n16 with obs in node:  9  which is less than minimum parent size:  10\n",
      "TypeError: Node search split (CART) failure\n",
      "Split Found:  n17 [['CompPrice', 120.5, 235429.92500000002, 4]] right <TREE4.TREE4.NodeClass object at 0x0000026A18DBE8D0> CompPrice > 120.5\n",
      "node_proportion_total  0.3730915657635199\n",
      "Node_proportion_gain  0.0027534630452822895\n",
      "This split isn't good now i cut it [reg delta]\n",
      "Split Found:  n9 [['Sales', 2.755, 702430.9803921569, 3]] right <TREE4.TREE4.NodeClass object at 0x0000026A18DAD040> Sales > 2.75\n",
      "node_proportion_total  0.38808921342368485\n",
      "Node_proportion_gain  0.014997647660164981\n",
      "Node Search Split Error for:  n18 with obs in node:  6  which is less than minimum parent size:  10\n",
      "TypeError: Node search split (CART) failure\n",
      "Split Found:  n19 [['ShelveLoc', ('Medium', 'Good'), 604749.6891891891, 4]] right <TREE4.TREE4.NodeClass object at 0x0000026A18E04EC0> ShelveLoc in ('Medium', 'Good')\n",
      "node_proportion_total  0.3996996631328164\n",
      "Node_proportion_gain  0.011610449709131554\n",
      "Split Found:  n5 [['CompPrice', 99.0, 599287.7284482758, 2]] right <TREE4.TREE4.NodeClass object at 0x0000026A18D62AE0> CompPrice > 99.0\n",
      "node_proportion_total  0.4520134071141305\n",
      "Node_proportion_gain  0.05231374398131411\n",
      "Node Search Split Error for:  n10 with obs in node:  8  which is less than minimum parent size:  10\n",
      "TypeError: Node search split (CART) failure\n",
      "Split Found:  n11 [['Sales', 10.629999999999999, 567505.2564102564, 3]] right <TREE4.TREE4.NodeClass object at 0x0000026A18E5FB90> Sales > 10.63\n",
      "node_proportion_total  0.4745226475626753\n",
      "Node_proportion_gain  0.0225092404485448\n",
      "Split Found:  n22 [['ShelveLoc', ('Medium', 'Bad'), 425264.7896551724, 4]] left <TREE4.TREE4.NodeClass object at 0x0000026A18E5FDA0> ShelveLoc in ('Medium', 'Bad')\n",
      "node_proportion_total  0.5089837777240318\n",
      "Node_proportion_gain  0.03446113016135649\n",
      "Split Found:  n23 [['Age', 37.0, 148091.65476190476, 4]] right <TREE4.TREE4.NodeClass object at 0x0000026A18E974D0> Age > 37.0\n",
      "node_proportion_total  0.5157109188732664\n",
      "Node_proportion_gain  0.006727141149234561\n",
      "This split isn't good now i cut it [reg delta]\n",
      "Split Found:  n3 [['Sales', 7.555, 1780373.8192307693, 1]] right <TREE4.TREE4.NodeClass object at 0x0000026A18D01400> Sales > 7.55\n",
      "node_proportion_total  0.6102808738189157\n",
      "Node_proportion_gain  0.09456995494564935\n",
      "Split Found:  n6 [['CompPrice', 135.5, 1074280.176392573, 2]] left <TREE4.TREE4.NodeClass object at 0x0000026A166BE1B0> CompPrice > 135.5\n",
      "node_proportion_total  0.6489996767190399\n",
      "Node_proportion_gain  0.038718802900124194\n",
      "Split Found:  n12 [['Sales', 4.93, 490315.32467532466, 3]] left <TREE4.TREE4.NodeClass object at 0x0000026A18F1A990> Sales > 4.93\n",
      "node_proportion_total  0.654174877217208\n",
      "Node_proportion_gain  0.005175200498168109\n",
      "This split isn't good now i cut it [reg delta]\n",
      "Split Found:  n13 [['Sales', 3.785, 586175.5142857142, 3]] right <TREE4.TREE4.NodeClass object at 0x0000026A18F55B20> Sales > 3.79\n",
      "node_proportion_total  0.6645611950876181\n",
      "Node_proportion_gain  0.010386317870410111\n",
      "Node Search Split Error for:  n26 with obs in node:  5  which is less than minimum parent size:  10\n",
      "TypeError: Node search split (CART) failure\n",
      "Split Found:  n27 [['ShelveLoc', ('Medium', 'Good'), 450295.07142857136, 4]] right <TREE4.TREE4.NodeClass object at 0x0000026A18F8A9F0> ShelveLoc in ('Medium', 'Good')\n",
      "node_proportion_total  0.6709342761763667\n",
      "Node_proportion_gain  0.006373081088748567\n",
      "This split isn't good now i cut it [reg delta]\n",
      "Split Found:  n7 [['CompPrice', 146.5, 717126.3333333333, 2]] right <TREE4.TREE4.NodeClass object at 0x0000026A18F1A7B0> CompPrice > 146.5\n",
      "node_proportion_total  0.7098778982179409\n",
      "Node_proportion_gain  0.0389436220415742\n",
      "Split Found:  n14 [['Sales', 11.879999999999999, 482318.2857142857, 3]] left <TREE4.TREE4.NodeClass object at 0x0000026A18FB04D0> Sales > 11.88\n",
      "node_proportion_total  0.7209807060151042\n",
      "Node_proportion_gain  0.011102807797163328\n",
      "Split Found:  n28 [['ShelveLoc', ('Medium', 'Good'), 416441.1259259259, 4]] left <TREE4.TREE4.NodeClass object at 0x0000026A18FD7290> ShelveLoc in ('Medium', 'Good')\n",
      "node_proportion_total  0.7249869544931231\n",
      "Node_proportion_gain  0.004006248478018892\n",
      "This split isn't good now i cut it [reg delta]\n",
      "Node Search Split Error for:  n29 with obs in node:  7  which is less than minimum parent size:  10\n",
      "TypeError: Node search split (CART) failure\n",
      "Split Found:  n15 [['Income', 81.5, 236693, 3]] right <TREE4.TREE4.NodeClass object at 0x0000026A18FD70B0> Income > 81.5\n",
      "node_proportion_total  0.7271528931426144\n",
      "Node_proportion_gain  0.002165938649491328\n",
      "This split isn't good now i cut it [reg delta]\n",
      "training mse 328.02\n",
      "\n",
      "\n",
      "Folds:  10\n",
      "Split Found:  n1 [['CompPrice', 121.5, 3395274.029575928, 0]] start <TREE4.TREE4.NodeClass object at 0x0000026A164F7410> CompPrice > 121.5\n",
      "node_proportion_total  0.22022916838756337\n",
      "Split Found:  n2 [['Sales', 7.55, 1166792.8866120218, 1]] left <TREE4.TREE4.NodeClass object at 0x0000026A190C7020> Sales > 7.55\n",
      "node_proportion_total  0.30425647159305996\n",
      "Node_proportion_gain  0.08402730320549659\n",
      "Split Found:  n4 [['Sales', 2.83, 768308.8835978835, 2]] left <TREE4.TREE4.NodeClass object at 0x0000026A190580B0> Sales > 2.83\n",
      "node_proportion_total  0.3154822797379053\n",
      "Node_proportion_gain  0.011225808144845362\n",
      "Node Search Split Error for:  n8 with obs in node:  7  which is less than minimum parent size:  10\n",
      "TypeError: Node search split (CART) failure\n",
      "Split Found:  n9 [['Age', 52.5, 658436.3527204503, 3]] right <TREE4.TREE4.NodeClass object at 0x0000026A191608F0> Age > 52.5\n",
      "node_proportion_total  0.32638728628824\n",
      "Node_proportion_gain  0.010905006550334662\n",
      "Split Found:  n18 [['Income', 69.0, 187217.23809523808, 4]] left <TREE4.TREE4.NodeClass object at 0x0000026A19160BF0> Income > 69.0\n",
      "node_proportion_total  0.33342835663311093\n",
      "Node_proportion_gain  0.007041070344870948\n",
      "This split isn't good now i cut it [reg delta]\n",
      "Split Found:  n19 [['ShelveLoc', ('Medium', 'Good'), 473040.49696969695, 4]] right <TREE4.TREE4.NodeClass object at 0x0000026A191873B0> ShelveLoc in ('Medium', 'Good')\n",
      "node_proportion_total  0.339527024967135\n",
      "Node_proportion_gain  0.00609866833402406\n",
      "This split isn't good now i cut it [reg delta]\n",
      "Split Found:  n5 [['CompPrice', 99.0, 406696.54700854694, 2]] right <TREE4.TREE4.NodeClass object at 0x0000026A19128D40> CompPrice > 99.0\n",
      "node_proportion_total  0.3875478007711336\n",
      "Node_proportion_gain  0.048020775803998605\n",
      "Node Search Split Error for:  n10 with obs in node:  9  which is less than minimum parent size:  10\n",
      "TypeError: Node search split (CART) failure\n",
      "Split Found:  n11 [['ShelveLoc', ('Medium', 'Bad'), 367984.7364130435, 3]] right <TREE4.TREE4.NodeClass object at 0x0000026A191F5AF0> ShelveLoc in ('Medium', 'Bad')\n",
      "node_proportion_total  0.39780369093539186\n",
      "Node_proportion_gain  0.010255890164258263\n",
      "Split Found:  n22 [['Sales', 9.715, 176613.56666666668, 4]] left <TREE4.TREE4.NodeClass object at 0x0000026A191F5B50> Sales > 9.71\n",
      "node_proportion_total  0.4189628442624281\n",
      "Node_proportion_gain  0.021159153327036218\n",
      "Split Found:  n23 [['Population', 378.0, 194857.1666666667, 4]] right <TREE4.TREE4.NodeClass object at 0x0000026A19216300> Population > 378.0\n",
      "node_proportion_total  0.42295222095531937\n",
      "Node_proportion_gain  0.003989376692891289\n",
      "This split isn't good now i cut it [reg delta]\n",
      "Split Found:  n3 [['Sales', 7.555, 2256215.935761849, 1]] right <TREE4.TREE4.NodeClass object at 0x0000026A190C70B0> Sales > 7.55\n",
      "node_proportion_total  0.5390080747990602\n",
      "Node_proportion_gain  0.11605585384374084\n",
      "Split Found:  n6 [['CompPrice', 133.5, 1285696.974533107, 2]] left <TREE4.TREE4.NodeClass object at 0x0000026A1924C7A0> CompPrice > 133.5\n",
      "node_proportion_total  0.5877146398096146\n",
      "Node_proportion_gain  0.04870656501055437\n",
      "Split Found:  n12 [['Sales', 3.65, 617472.2303030302, 3]] left <TREE4.TREE4.NodeClass object at 0x0000026A192A5EB0> Sales > 3.65\n",
      "node_proportion_total  0.6060136822393372\n",
      "Node_proportion_gain  0.01829904242972258\n",
      "Node Search Split Error for:  n24 with obs in node:  5  which is less than minimum parent size:  10\n",
      "TypeError: Node search split (CART) failure\n",
      "Split Found:  n25 [['Advertising', 1.0, 508564.1213235294, 4]] right <TREE4.TREE4.NodeClass object at 0x0000026A19302D20> Advertising > 1.0\n",
      "node_proportion_total  0.612564793675187\n",
      "Node_proportion_gain  0.0065511114358498546\n",
      "This split isn't good now i cut it [reg delta]\n",
      "Split Found:  n13 [['CompPrice', 142.0, 672187.076923077, 3]] right <TREE4.TREE4.NodeClass object at 0x0000026A192DF0B0> CompPrice > 142.0\n",
      "node_proportion_total  0.6228506424422622\n",
      "Node_proportion_gain  0.010285848767075167\n",
      "Split Found:  n26 [['Population', 335.5, 360253.56923076924, 4]] left <TREE4.TREE4.NodeClass object at 0x0000026A192DED50> Population > 335.5\n",
      "node_proportion_total  0.6279118732076612\n",
      "Node_proportion_gain  0.005061230765398994\n",
      "This split isn't good now i cut it [reg delta]\n",
      "Split Found:  n27 [['Income', 67.5, 313587.1666666667, 4]] right <TREE4.TREE4.NodeClass object at 0x0000026A193497F0> Income > 67.5\n",
      "node_proportion_total  0.6347803983514932\n",
      "Node_proportion_gain  0.006868525143832072\n",
      "This split isn't good now i cut it [reg delta]\n",
      "Split Found:  n7 [['CompPrice', 146.5, 984072.4903954802, 2]] right <TREE4.TREE4.NodeClass object at 0x0000026A192A5CD0> CompPrice > 146.5\n",
      "node_proportion_total  0.6838511242908524\n",
      "Node_proportion_gain  0.04907072593935913\n",
      "Split Found:  n14 [['Sales', 10.7, 718420.449579832, 3]] left <TREE4.TREE4.NodeClass object at 0x0000026A1935E3F0> Sales > 10.7\n",
      "node_proportion_total  0.7085237286418946\n",
      "Node_proportion_gain  0.024672604351042238\n",
      "Split Found:  n28 [['ShelveLoc', ('Medium', 'Bad'), 556684.2323232322, 4]] left <TREE4.TREE4.NodeClass object at 0x0000026A193B83B0> ShelveLoc in ('Medium', 'Bad')\n",
      "node_proportion_total  0.7224038973516769\n",
      "Node_proportion_gain  0.013880168709782259\n",
      "Split Found:  n29 [['ShelveLoc', ('Medium', 'Bad'), 165284.5, 4]] right <TREE4.TREE4.NodeClass object at 0x0000026A193DBC50> ShelveLoc in ('Medium', 'Bad')\n",
      "node_proportion_total  0.7341215983853298\n",
      "Node_proportion_gain  0.011717701033652883\n",
      "Split Found:  n15 [['Income', 81.5, 269446.6, 3]] right <TREE4.TREE4.NodeClass object at 0x0000026A193B8050> Income > 81.5\n",
      "node_proportion_total  0.7368235407542328\n",
      "Node_proportion_gain  0.0027019423689030875\n",
      "This split isn't good now i cut it [reg delta]\n",
      "training mse 351.47\n",
      "\n",
      "\n",
      "\n",
      "errors:  170.90398353540917\n",
      "errors:  291.0441070382122\n",
      "errors:  332.3773769482295\n",
      "errors:  236.62282494118475\n",
      "errors:  240.18986070806025\n",
      "errors:  534.6554011232662\n",
      "errors:  279.74724801264455\n",
      "errors:  254.5518867792306\n",
      "errors:  328.0231899450161\n",
      "errors:  351.46803135237343\n",
      "\n",
      "\n",
      "mean errors: 301.95839103836266\n"
     ]
    }
   ],
   "source": [
    "kf = k_folds(y,features,features_names,n_features,n_features_names, impurity_fn = \"between_variance\", problem=\"regression\", method = \"CART\",  min_cases_parent= 10,min_cases_child= 5, max_level =4 , twoing = False, min_imp_gain = 0.0001)"
   ]
  },
  {
   "cell_type": "code",
   "execution_count": 5,
   "metadata": {},
   "outputs": [
    {
     "name": "stdout",
     "output_type": "stream",
     "text": [
      "To return the table, print_tree must be True: setting print_tree to True\n",
      "Best tree for test set has 7 leaves with a deviance of: 399.36345557786103 \n"
     ]
    },
    {
     "data": {
      "application/vnd.plotly.v1+json": {
       "config": {
        "plotlyServerURL": "https://plot.ly"
       },
       "data": [
        {
         "hoverinfo": "none",
         "line": {
          "color": "rgb(210,210,210)",
          "width": 1
         },
         "mode": "lines",
         "type": "scatter",
         "x": [
          0,
          -2,
          null,
          0,
          2,
          null,
          -2,
          -3,
          null,
          -2,
          -1,
          null,
          2,
          1,
          null,
          2,
          3,
          null,
          -3,
          -3.5,
          null,
          -3,
          -2.5,
          null,
          -1,
          -1.5,
          null,
          -1,
          -0.5,
          null,
          3,
          2.5,
          null,
          3,
          3.5,
          null
         ],
         "y": [
          6,
          5,
          null,
          6,
          5,
          null,
          5,
          4,
          null,
          5,
          4,
          null,
          5,
          4,
          null,
          5,
          4,
          null,
          4,
          3,
          null,
          4,
          3,
          null,
          4,
          3,
          null,
          4,
          3,
          null,
          4,
          3,
          null,
          4,
          3,
          null
         ]
        },
        {
         "hoverinfo": "text",
         "marker": {
          "color": "#6175c1",
          "line": {
           "color": "rgb(50,50,50)",
           "width": 1
          },
          "size": 18,
          "symbol": "circle-dot"
         },
         "mode": "markers",
         "name": "Nodes",
         "opacity": 0.8,
         "text": [
          "n8<br>None<br>Bin Value: 131.11<br>pearson : 1924.89<br>Samples : 9<br>GPR: []<br>LPR: []",
          "n10<br>None<br>Bin Value: 69.8<br>pearson : 3716.8<br>Samples : 5<br>GPR: []<br>LPR: []",
          "n1<br>CompPrice > 127.5<br>Bin Value: 115.78<br>pearson : 155526.82<br>Samples : 280<br>GPR: 0.31<br>LPR: 0.202",
          "n2<br>Sales > 7.55<br>Bin Value: 106.73<br>pearson : 75946.05<br>Samples : 162<br>GPR: 0.96<br>LPR: 0.21",
          "n4<br>Sales > 2.83<br>Bin Value: 115.71<br>pearson : 24566.4<br>Samples : 89<br>GPR: 0.973<br>LPR: 0.097",
          "n9<br>Sales > 3.54<br>Bin Value: 113.97<br>pearson : 20265.95<br>Samples : 80<br>GPR: 0.967<br>LPR: 0.057",
          "n5<br>Population > 36.5<br>Bin Value: 95.78<br>pearson : 35454.49<br>Samples : 73<br>GPR: 0.974<br>LPR: 0.102",
          "n11<br>Population > 496.5<br>Bin Value: 97.69<br>pearson : 28114.51<br>Samples : 68<br>GPR: 0.967<br>LPR: 0.046",
          "n3<br>Sales > 7.55<br>Bin Value: 128.19<br>pearson : 48120.52<br>Samples : 118<br>GPR: 0.997<br>LPR: 0.314",
          "n6<br>Population > 354.0<br>Bin Value: 139.71<br>pearson : 17604.02<br>Samples : 58<br>GPR: 0.995<br>LPR: 0.017",
          "n7<br>Sales > 11.88<br>Bin Value: 117.07<br>pearson : 15399.73<br>Samples : 60<br>GPR: 1.0<br>LPR: 0.145",
          "n14<br>Sales > 8.75<br>Bin Value: 119.96<br>pearson : 10295.92<br>Samples : 49<br>GPR: 1.0<br>LPR: 0.038",
          "n15<br>Sales > 12.41<br>Bin Value: 104.18<br>pearson : 2867.64<br>Samples : 11<br>GPR: 1.0<br>LPR: 0.008"
         ],
         "type": "scatter",
         "x": [
          -3.5,
          -1.5,
          0,
          -2,
          -3,
          -2.5,
          -1,
          -0.5,
          2,
          1,
          3,
          2.5,
          3.5
         ],
         "y": [
          3,
          3,
          6,
          5,
          4,
          3,
          4,
          3,
          5,
          4,
          4,
          3,
          3
         ]
        }
       ],
       "layout": {
        "margin": {
         "b": 0,
         "l": 0,
         "r": 0,
         "t": 0
        },
        "plot_bgcolor": "rgba(0, 0, 0, 0)",
        "template": {
         "data": {
          "bar": [
           {
            "error_x": {
             "color": "#2a3f5f"
            },
            "error_y": {
             "color": "#2a3f5f"
            },
            "marker": {
             "line": {
              "color": "#E5ECF6",
              "width": 0.5
             },
             "pattern": {
              "fillmode": "overlay",
              "size": 10,
              "solidity": 0.2
             }
            },
            "type": "bar"
           }
          ],
          "barpolar": [
           {
            "marker": {
             "line": {
              "color": "#E5ECF6",
              "width": 0.5
             },
             "pattern": {
              "fillmode": "overlay",
              "size": 10,
              "solidity": 0.2
             }
            },
            "type": "barpolar"
           }
          ],
          "carpet": [
           {
            "aaxis": {
             "endlinecolor": "#2a3f5f",
             "gridcolor": "white",
             "linecolor": "white",
             "minorgridcolor": "white",
             "startlinecolor": "#2a3f5f"
            },
            "baxis": {
             "endlinecolor": "#2a3f5f",
             "gridcolor": "white",
             "linecolor": "white",
             "minorgridcolor": "white",
             "startlinecolor": "#2a3f5f"
            },
            "type": "carpet"
           }
          ],
          "choropleth": [
           {
            "colorbar": {
             "outlinewidth": 0,
             "ticks": ""
            },
            "type": "choropleth"
           }
          ],
          "contour": [
           {
            "colorbar": {
             "outlinewidth": 0,
             "ticks": ""
            },
            "colorscale": [
             [
              0,
              "#0d0887"
             ],
             [
              0.1111111111111111,
              "#46039f"
             ],
             [
              0.2222222222222222,
              "#7201a8"
             ],
             [
              0.3333333333333333,
              "#9c179e"
             ],
             [
              0.4444444444444444,
              "#bd3786"
             ],
             [
              0.5555555555555556,
              "#d8576b"
             ],
             [
              0.6666666666666666,
              "#ed7953"
             ],
             [
              0.7777777777777778,
              "#fb9f3a"
             ],
             [
              0.8888888888888888,
              "#fdca26"
             ],
             [
              1,
              "#f0f921"
             ]
            ],
            "type": "contour"
           }
          ],
          "contourcarpet": [
           {
            "colorbar": {
             "outlinewidth": 0,
             "ticks": ""
            },
            "type": "contourcarpet"
           }
          ],
          "heatmap": [
           {
            "colorbar": {
             "outlinewidth": 0,
             "ticks": ""
            },
            "colorscale": [
             [
              0,
              "#0d0887"
             ],
             [
              0.1111111111111111,
              "#46039f"
             ],
             [
              0.2222222222222222,
              "#7201a8"
             ],
             [
              0.3333333333333333,
              "#9c179e"
             ],
             [
              0.4444444444444444,
              "#bd3786"
             ],
             [
              0.5555555555555556,
              "#d8576b"
             ],
             [
              0.6666666666666666,
              "#ed7953"
             ],
             [
              0.7777777777777778,
              "#fb9f3a"
             ],
             [
              0.8888888888888888,
              "#fdca26"
             ],
             [
              1,
              "#f0f921"
             ]
            ],
            "type": "heatmap"
           }
          ],
          "heatmapgl": [
           {
            "colorbar": {
             "outlinewidth": 0,
             "ticks": ""
            },
            "colorscale": [
             [
              0,
              "#0d0887"
             ],
             [
              0.1111111111111111,
              "#46039f"
             ],
             [
              0.2222222222222222,
              "#7201a8"
             ],
             [
              0.3333333333333333,
              "#9c179e"
             ],
             [
              0.4444444444444444,
              "#bd3786"
             ],
             [
              0.5555555555555556,
              "#d8576b"
             ],
             [
              0.6666666666666666,
              "#ed7953"
             ],
             [
              0.7777777777777778,
              "#fb9f3a"
             ],
             [
              0.8888888888888888,
              "#fdca26"
             ],
             [
              1,
              "#f0f921"
             ]
            ],
            "type": "heatmapgl"
           }
          ],
          "histogram": [
           {
            "marker": {
             "pattern": {
              "fillmode": "overlay",
              "size": 10,
              "solidity": 0.2
             }
            },
            "type": "histogram"
           }
          ],
          "histogram2d": [
           {
            "colorbar": {
             "outlinewidth": 0,
             "ticks": ""
            },
            "colorscale": [
             [
              0,
              "#0d0887"
             ],
             [
              0.1111111111111111,
              "#46039f"
             ],
             [
              0.2222222222222222,
              "#7201a8"
             ],
             [
              0.3333333333333333,
              "#9c179e"
             ],
             [
              0.4444444444444444,
              "#bd3786"
             ],
             [
              0.5555555555555556,
              "#d8576b"
             ],
             [
              0.6666666666666666,
              "#ed7953"
             ],
             [
              0.7777777777777778,
              "#fb9f3a"
             ],
             [
              0.8888888888888888,
              "#fdca26"
             ],
             [
              1,
              "#f0f921"
             ]
            ],
            "type": "histogram2d"
           }
          ],
          "histogram2dcontour": [
           {
            "colorbar": {
             "outlinewidth": 0,
             "ticks": ""
            },
            "colorscale": [
             [
              0,
              "#0d0887"
             ],
             [
              0.1111111111111111,
              "#46039f"
             ],
             [
              0.2222222222222222,
              "#7201a8"
             ],
             [
              0.3333333333333333,
              "#9c179e"
             ],
             [
              0.4444444444444444,
              "#bd3786"
             ],
             [
              0.5555555555555556,
              "#d8576b"
             ],
             [
              0.6666666666666666,
              "#ed7953"
             ],
             [
              0.7777777777777778,
              "#fb9f3a"
             ],
             [
              0.8888888888888888,
              "#fdca26"
             ],
             [
              1,
              "#f0f921"
             ]
            ],
            "type": "histogram2dcontour"
           }
          ],
          "mesh3d": [
           {
            "colorbar": {
             "outlinewidth": 0,
             "ticks": ""
            },
            "type": "mesh3d"
           }
          ],
          "parcoords": [
           {
            "line": {
             "colorbar": {
              "outlinewidth": 0,
              "ticks": ""
             }
            },
            "type": "parcoords"
           }
          ],
          "pie": [
           {
            "automargin": true,
            "type": "pie"
           }
          ],
          "scatter": [
           {
            "fillpattern": {
             "fillmode": "overlay",
             "size": 10,
             "solidity": 0.2
            },
            "type": "scatter"
           }
          ],
          "scatter3d": [
           {
            "line": {
             "colorbar": {
              "outlinewidth": 0,
              "ticks": ""
             }
            },
            "marker": {
             "colorbar": {
              "outlinewidth": 0,
              "ticks": ""
             }
            },
            "type": "scatter3d"
           }
          ],
          "scattercarpet": [
           {
            "marker": {
             "colorbar": {
              "outlinewidth": 0,
              "ticks": ""
             }
            },
            "type": "scattercarpet"
           }
          ],
          "scattergeo": [
           {
            "marker": {
             "colorbar": {
              "outlinewidth": 0,
              "ticks": ""
             }
            },
            "type": "scattergeo"
           }
          ],
          "scattergl": [
           {
            "marker": {
             "colorbar": {
              "outlinewidth": 0,
              "ticks": ""
             }
            },
            "type": "scattergl"
           }
          ],
          "scattermapbox": [
           {
            "marker": {
             "colorbar": {
              "outlinewidth": 0,
              "ticks": ""
             }
            },
            "type": "scattermapbox"
           }
          ],
          "scatterpolar": [
           {
            "marker": {
             "colorbar": {
              "outlinewidth": 0,
              "ticks": ""
             }
            },
            "type": "scatterpolar"
           }
          ],
          "scatterpolargl": [
           {
            "marker": {
             "colorbar": {
              "outlinewidth": 0,
              "ticks": ""
             }
            },
            "type": "scatterpolargl"
           }
          ],
          "scatterternary": [
           {
            "marker": {
             "colorbar": {
              "outlinewidth": 0,
              "ticks": ""
             }
            },
            "type": "scatterternary"
           }
          ],
          "surface": [
           {
            "colorbar": {
             "outlinewidth": 0,
             "ticks": ""
            },
            "colorscale": [
             [
              0,
              "#0d0887"
             ],
             [
              0.1111111111111111,
              "#46039f"
             ],
             [
              0.2222222222222222,
              "#7201a8"
             ],
             [
              0.3333333333333333,
              "#9c179e"
             ],
             [
              0.4444444444444444,
              "#bd3786"
             ],
             [
              0.5555555555555556,
              "#d8576b"
             ],
             [
              0.6666666666666666,
              "#ed7953"
             ],
             [
              0.7777777777777778,
              "#fb9f3a"
             ],
             [
              0.8888888888888888,
              "#fdca26"
             ],
             [
              1,
              "#f0f921"
             ]
            ],
            "type": "surface"
           }
          ],
          "table": [
           {
            "cells": {
             "fill": {
              "color": "#EBF0F8"
             },
             "line": {
              "color": "white"
             }
            },
            "header": {
             "fill": {
              "color": "#C8D4E3"
             },
             "line": {
              "color": "white"
             }
            },
            "type": "table"
           }
          ]
         },
         "layout": {
          "annotationdefaults": {
           "arrowcolor": "#2a3f5f",
           "arrowhead": 0,
           "arrowwidth": 1
          },
          "autotypenumbers": "strict",
          "coloraxis": {
           "colorbar": {
            "outlinewidth": 0,
            "ticks": ""
           }
          },
          "colorscale": {
           "diverging": [
            [
             0,
             "#8e0152"
            ],
            [
             0.1,
             "#c51b7d"
            ],
            [
             0.2,
             "#de77ae"
            ],
            [
             0.3,
             "#f1b6da"
            ],
            [
             0.4,
             "#fde0ef"
            ],
            [
             0.5,
             "#f7f7f7"
            ],
            [
             0.6,
             "#e6f5d0"
            ],
            [
             0.7,
             "#b8e186"
            ],
            [
             0.8,
             "#7fbc41"
            ],
            [
             0.9,
             "#4d9221"
            ],
            [
             1,
             "#276419"
            ]
           ],
           "sequential": [
            [
             0,
             "#0d0887"
            ],
            [
             0.1111111111111111,
             "#46039f"
            ],
            [
             0.2222222222222222,
             "#7201a8"
            ],
            [
             0.3333333333333333,
             "#9c179e"
            ],
            [
             0.4444444444444444,
             "#bd3786"
            ],
            [
             0.5555555555555556,
             "#d8576b"
            ],
            [
             0.6666666666666666,
             "#ed7953"
            ],
            [
             0.7777777777777778,
             "#fb9f3a"
            ],
            [
             0.8888888888888888,
             "#fdca26"
            ],
            [
             1,
             "#f0f921"
            ]
           ],
           "sequentialminus": [
            [
             0,
             "#0d0887"
            ],
            [
             0.1111111111111111,
             "#46039f"
            ],
            [
             0.2222222222222222,
             "#7201a8"
            ],
            [
             0.3333333333333333,
             "#9c179e"
            ],
            [
             0.4444444444444444,
             "#bd3786"
            ],
            [
             0.5555555555555556,
             "#d8576b"
            ],
            [
             0.6666666666666666,
             "#ed7953"
            ],
            [
             0.7777777777777778,
             "#fb9f3a"
            ],
            [
             0.8888888888888888,
             "#fdca26"
            ],
            [
             1,
             "#f0f921"
            ]
           ]
          },
          "colorway": [
           "#636efa",
           "#EF553B",
           "#00cc96",
           "#ab63fa",
           "#FFA15A",
           "#19d3f3",
           "#FF6692",
           "#B6E880",
           "#FF97FF",
           "#FECB52"
          ],
          "font": {
           "color": "#2a3f5f"
          },
          "geo": {
           "bgcolor": "white",
           "lakecolor": "white",
           "landcolor": "#E5ECF6",
           "showlakes": true,
           "showland": true,
           "subunitcolor": "white"
          },
          "hoverlabel": {
           "align": "left"
          },
          "hovermode": "closest",
          "mapbox": {
           "style": "light"
          },
          "paper_bgcolor": "white",
          "plot_bgcolor": "#E5ECF6",
          "polar": {
           "angularaxis": {
            "gridcolor": "white",
            "linecolor": "white",
            "ticks": ""
           },
           "bgcolor": "#E5ECF6",
           "radialaxis": {
            "gridcolor": "white",
            "linecolor": "white",
            "ticks": ""
           }
          },
          "scene": {
           "xaxis": {
            "backgroundcolor": "#E5ECF6",
            "gridcolor": "white",
            "gridwidth": 2,
            "linecolor": "white",
            "showbackground": true,
            "ticks": "",
            "zerolinecolor": "white"
           },
           "yaxis": {
            "backgroundcolor": "#E5ECF6",
            "gridcolor": "white",
            "gridwidth": 2,
            "linecolor": "white",
            "showbackground": true,
            "ticks": "",
            "zerolinecolor": "white"
           },
           "zaxis": {
            "backgroundcolor": "#E5ECF6",
            "gridcolor": "white",
            "gridwidth": 2,
            "linecolor": "white",
            "showbackground": true,
            "ticks": "",
            "zerolinecolor": "white"
           }
          },
          "shapedefaults": {
           "line": {
            "color": "#2a3f5f"
           }
          },
          "ternary": {
           "aaxis": {
            "gridcolor": "white",
            "linecolor": "white",
            "ticks": ""
           },
           "baxis": {
            "gridcolor": "white",
            "linecolor": "white",
            "ticks": ""
           },
           "bgcolor": "#E5ECF6",
           "caxis": {
            "gridcolor": "white",
            "linecolor": "white",
            "ticks": ""
           }
          },
          "title": {
           "x": 0.05
          },
          "xaxis": {
           "automargin": true,
           "gridcolor": "white",
           "linecolor": "white",
           "ticks": "",
           "title": {
            "standoff": 15
           },
           "zerolinecolor": "white",
           "zerolinewidth": 2
          },
          "yaxis": {
           "automargin": true,
           "gridcolor": "white",
           "linecolor": "white",
           "ticks": "",
           "title": {
            "standoff": 15
           },
           "zerolinecolor": "white",
           "zerolinewidth": 2
          }
         }
        },
        "xaxis": {
         "showticklabels": false,
         "visible": false
        },
        "yaxis": {
         "showticklabels": true,
         "visible": false
        }
       }
      }
     },
     "metadata": {},
     "output_type": "display_data"
    },
    {
     "data": {
      "text/html": [
       "<style type=\"text/css\">\n",
       "</style>\n",
       "<table id=\"T_8be5c\">\n",
       "  <thead>\n",
       "    <tr>\n",
       "      <th id=\"T_8be5c_level0_col0\" class=\"col_heading level0 col0\" >Node</th>\n",
       "      <th id=\"T_8be5c_level0_col1\" class=\"col_heading level0 col1\" >Node Type</th>\n",
       "      <th id=\"T_8be5c_level0_col2\" class=\"col_heading level0 col2\" >Splitting Variable</th>\n",
       "      <th id=\"T_8be5c_level0_col3\" class=\"col_heading level0 col3\" >n</th>\n",
       "      <th id=\"T_8be5c_level0_col4\" class=\"col_heading level0 col4\" >Heterogeneity</th>\n",
       "      <th id=\"T_8be5c_level0_col5\" class=\"col_heading level0 col5\" >Explained Heterogeneity</th>\n",
       "      <th id=\"T_8be5c_level0_col6\" class=\"col_heading level0 col6\" >Class/Value</th>\n",
       "    </tr>\n",
       "  </thead>\n",
       "  <tbody>\n",
       "    <tr>\n",
       "      <td id=\"T_8be5c_row0_col0\" class=\"data row0 col0\" >n1</td>\n",
       "      <td id=\"T_8be5c_row0_col1\" class=\"data row0 col1\" >Parent</td>\n",
       "      <td id=\"T_8be5c_row0_col2\" class=\"data row0 col2\" >CompPrice > 127.5</td>\n",
       "      <td id=\"T_8be5c_row0_col3\" class=\"data row0 col3\" >280</td>\n",
       "      <td id=\"T_8be5c_row0_col4\" class=\"data row0 col4\" >155526.83</td>\n",
       "      <td id=\"T_8be5c_row0_col5\" class=\"data row0 col5\" >0.202</td>\n",
       "      <td id=\"T_8be5c_row0_col6\" class=\"data row0 col6\" >115.78</td>\n",
       "    </tr>\n",
       "    <tr>\n",
       "      <td id=\"T_8be5c_row1_col0\" class=\"data row1 col0\" >n2</td>\n",
       "      <td id=\"T_8be5c_row1_col1\" class=\"data row1 col1\" >Parent</td>\n",
       "      <td id=\"T_8be5c_row1_col2\" class=\"data row1 col2\" >Sales > 7.55</td>\n",
       "      <td id=\"T_8be5c_row1_col3\" class=\"data row1 col3\" >162</td>\n",
       "      <td id=\"T_8be5c_row1_col4\" class=\"data row1 col4\" >75946.05</td>\n",
       "      <td id=\"T_8be5c_row1_col5\" class=\"data row1 col5\" >0.305</td>\n",
       "      <td id=\"T_8be5c_row1_col6\" class=\"data row1 col6\" >106.73</td>\n",
       "    </tr>\n",
       "    <tr>\n",
       "      <td id=\"T_8be5c_row2_col0\" class=\"data row2 col0\" >n4</td>\n",
       "      <td id=\"T_8be5c_row2_col1\" class=\"data row2 col1\" >Parent</td>\n",
       "      <td id=\"T_8be5c_row2_col2\" class=\"data row2 col2\" >Sales > 2.83</td>\n",
       "      <td id=\"T_8be5c_row2_col3\" class=\"data row2 col3\" >89</td>\n",
       "      <td id=\"T_8be5c_row2_col4\" class=\"data row2 col4\" >24566.4</td>\n",
       "      <td id=\"T_8be5c_row2_col5\" class=\"data row2 col5\" >0.32</td>\n",
       "      <td id=\"T_8be5c_row2_col6\" class=\"data row2 col6\" >115.71</td>\n",
       "    </tr>\n",
       "    <tr>\n",
       "      <td id=\"T_8be5c_row3_col0\" class=\"data row3 col0\" >n8</td>\n",
       "      <td id=\"T_8be5c_row3_col1\" class=\"data row3 col1\" >Child</td>\n",
       "      <td id=\"T_8be5c_row3_col2\" class=\"data row3 col2\" >None</td>\n",
       "      <td id=\"T_8be5c_row3_col3\" class=\"data row3 col3\" >9</td>\n",
       "      <td id=\"T_8be5c_row3_col4\" class=\"data row3 col4\" >1924.89</td>\n",
       "      <td id=\"T_8be5c_row3_col5\" class=\"data row3 col5\" >None</td>\n",
       "      <td id=\"T_8be5c_row3_col6\" class=\"data row3 col6\" >131.11</td>\n",
       "    </tr>\n",
       "    <tr>\n",
       "      <td id=\"T_8be5c_row4_col0\" class=\"data row4 col0\" >n9</td>\n",
       "      <td id=\"T_8be5c_row4_col1\" class=\"data row4 col1\" >Child</td>\n",
       "      <td id=\"T_8be5c_row4_col2\" class=\"data row4 col2\" >None</td>\n",
       "      <td id=\"T_8be5c_row4_col3\" class=\"data row4 col3\" >80</td>\n",
       "      <td id=\"T_8be5c_row4_col4\" class=\"data row4 col4\" >20265.95</td>\n",
       "      <td id=\"T_8be5c_row4_col5\" class=\"data row4 col5\" >None</td>\n",
       "      <td id=\"T_8be5c_row4_col6\" class=\"data row4 col6\" >113.97</td>\n",
       "    </tr>\n",
       "    <tr>\n",
       "      <td id=\"T_8be5c_row5_col0\" class=\"data row5 col0\" >n5</td>\n",
       "      <td id=\"T_8be5c_row5_col1\" class=\"data row5 col1\" >Parent</td>\n",
       "      <td id=\"T_8be5c_row5_col2\" class=\"data row5 col2\" >Population > 36.5</td>\n",
       "      <td id=\"T_8be5c_row5_col3\" class=\"data row5 col3\" >73</td>\n",
       "      <td id=\"T_8be5c_row5_col4\" class=\"data row5 col4\" >35454.49</td>\n",
       "      <td id=\"T_8be5c_row5_col5\" class=\"data row5 col5\" >0.358</td>\n",
       "      <td id=\"T_8be5c_row5_col6\" class=\"data row5 col6\" >95.78</td>\n",
       "    </tr>\n",
       "    <tr>\n",
       "      <td id=\"T_8be5c_row6_col0\" class=\"data row6 col0\" >n10</td>\n",
       "      <td id=\"T_8be5c_row6_col1\" class=\"data row6 col1\" >Child</td>\n",
       "      <td id=\"T_8be5c_row6_col2\" class=\"data row6 col2\" >None</td>\n",
       "      <td id=\"T_8be5c_row6_col3\" class=\"data row6 col3\" >5</td>\n",
       "      <td id=\"T_8be5c_row6_col4\" class=\"data row6 col4\" >3716.8</td>\n",
       "      <td id=\"T_8be5c_row6_col5\" class=\"data row6 col5\" >None</td>\n",
       "      <td id=\"T_8be5c_row6_col6\" class=\"data row6 col6\" >69.8</td>\n",
       "    </tr>\n",
       "    <tr>\n",
       "      <td id=\"T_8be5c_row7_col0\" class=\"data row7 col0\" >n11</td>\n",
       "      <td id=\"T_8be5c_row7_col1\" class=\"data row7 col1\" >Child</td>\n",
       "      <td id=\"T_8be5c_row7_col2\" class=\"data row7 col2\" >None</td>\n",
       "      <td id=\"T_8be5c_row7_col3\" class=\"data row7 col3\" >68</td>\n",
       "      <td id=\"T_8be5c_row7_col4\" class=\"data row7 col4\" >28114.51</td>\n",
       "      <td id=\"T_8be5c_row7_col5\" class=\"data row7 col5\" >None</td>\n",
       "      <td id=\"T_8be5c_row7_col6\" class=\"data row7 col6\" >97.69</td>\n",
       "    </tr>\n",
       "    <tr>\n",
       "      <td id=\"T_8be5c_row8_col0\" class=\"data row8 col0\" >n3</td>\n",
       "      <td id=\"T_8be5c_row8_col1\" class=\"data row8 col1\" >Parent</td>\n",
       "      <td id=\"T_8be5c_row8_col2\" class=\"data row8 col2\" >Sales > 7.55</td>\n",
       "      <td id=\"T_8be5c_row8_col3\" class=\"data row8 col3\" >118</td>\n",
       "      <td id=\"T_8be5c_row8_col4\" class=\"data row8 col4\" >48120.52</td>\n",
       "      <td id=\"T_8be5c_row8_col5\" class=\"data row8 col5\" >0.467</td>\n",
       "      <td id=\"T_8be5c_row8_col6\" class=\"data row8 col6\" >128.19</td>\n",
       "    </tr>\n",
       "    <tr>\n",
       "      <td id=\"T_8be5c_row9_col0\" class=\"data row9 col0\" >n6</td>\n",
       "      <td id=\"T_8be5c_row9_col1\" class=\"data row9 col1\" >Child</td>\n",
       "      <td id=\"T_8be5c_row9_col2\" class=\"data row9 col2\" >None</td>\n",
       "      <td id=\"T_8be5c_row9_col3\" class=\"data row9 col3\" >58</td>\n",
       "      <td id=\"T_8be5c_row9_col4\" class=\"data row9 col4\" >17604.02</td>\n",
       "      <td id=\"T_8be5c_row9_col5\" class=\"data row9 col5\" >None</td>\n",
       "      <td id=\"T_8be5c_row9_col6\" class=\"data row9 col6\" >139.71</td>\n",
       "    </tr>\n",
       "    <tr>\n",
       "      <td id=\"T_8be5c_row10_col0\" class=\"data row10 col0\" >n7</td>\n",
       "      <td id=\"T_8be5c_row10_col1\" class=\"data row10 col1\" >Parent</td>\n",
       "      <td id=\"T_8be5c_row10_col2\" class=\"data row10 col2\" >Sales > 11.88</td>\n",
       "      <td id=\"T_8be5c_row10_col3\" class=\"data row10 col3\" >60</td>\n",
       "      <td id=\"T_8be5c_row10_col4\" class=\"data row10 col4\" >15399.73</td>\n",
       "      <td id=\"T_8be5c_row10_col5\" class=\"data row10 col5\" >0.51</td>\n",
       "      <td id=\"T_8be5c_row10_col6\" class=\"data row10 col6\" >117.07</td>\n",
       "    </tr>\n",
       "    <tr>\n",
       "      <td id=\"T_8be5c_row11_col0\" class=\"data row11 col0\" >n14</td>\n",
       "      <td id=\"T_8be5c_row11_col1\" class=\"data row11 col1\" >Child</td>\n",
       "      <td id=\"T_8be5c_row11_col2\" class=\"data row11 col2\" >None</td>\n",
       "      <td id=\"T_8be5c_row11_col3\" class=\"data row11 col3\" >49</td>\n",
       "      <td id=\"T_8be5c_row11_col4\" class=\"data row11 col4\" >10295.92</td>\n",
       "      <td id=\"T_8be5c_row11_col5\" class=\"data row11 col5\" >None</td>\n",
       "      <td id=\"T_8be5c_row11_col6\" class=\"data row11 col6\" >119.96</td>\n",
       "    </tr>\n",
       "    <tr>\n",
       "      <td id=\"T_8be5c_row12_col0\" class=\"data row12 col0\" >n15</td>\n",
       "      <td id=\"T_8be5c_row12_col1\" class=\"data row12 col1\" >Child</td>\n",
       "      <td id=\"T_8be5c_row12_col2\" class=\"data row12 col2\" >None</td>\n",
       "      <td id=\"T_8be5c_row12_col3\" class=\"data row12 col3\" >11</td>\n",
       "      <td id=\"T_8be5c_row12_col4\" class=\"data row12 col4\" >2867.64</td>\n",
       "      <td id=\"T_8be5c_row12_col5\" class=\"data row12 col5\" >None</td>\n",
       "      <td id=\"T_8be5c_row12_col6\" class=\"data row12 col6\" >104.18</td>\n",
       "    </tr>\n",
       "  </tbody>\n",
       "</table>\n"
      ],
      "text/plain": [
       "<pandas.io.formats.style.Styler at 0x26a19300ad0>"
      ]
     },
     "execution_count": 5,
     "metadata": {},
     "output_type": "execute_result"
    }
   ],
   "source": [
    "alpha, pruned_table = tree.pruning(features_test, n_features_test, y_test, table = True)\n",
    "pruned_table.style.hide()\n"
   ]
  },
  {
   "cell_type": "code",
   "execution_count": 6,
   "metadata": {},
   "outputs": [
    {
     "name": "stdout",
     "output_type": "stream",
     "text": [
      "('Alpha = 0', 'value soglia = None', 'deviance = 265.21221476579063', 'leaves = 19')\n",
      "('Alpha = 24.0030303030303', \"value soglia = ['Sales', 12.415, 3]\", 'deviance = 265.29793987401575', 'leaves = 18')\n",
      "('Alpha = 541.8275850409154', \"value soglia = ['Population', 430.0, 4]\", 'deviance = 267.2330383920192', 'leaves = 17')\n",
      "('Alpha = 629.6827306361138', \"value soglia = ['Sales', 8.754999999999999, 3]\", 'deviance = 273.97963907740575', 'leaves = 14')\n",
      "('Alpha = 749.1571428571424', \"value soglia = ['Population', 417.5, 3]\", 'deviance = 276.6552003018954', 'leaves = 13')\n",
      "('Alpha = 1148.1729292929303', \"value soglia = ['Sales', 4.140000000000001, 4]\", 'deviance = 280.75581790651324', 'leaves = 12')\n",
      "('Alpha = 1164.2700000000004', \"value soglia = ['Sales', 3.545, 3]\", 'deviance = 284.91392504937045', 'leaves = 11')\n",
      "('Alpha = 1239.8333398235948', \"value soglia = ['Population', 354.0, 2]\", 'deviance = 298.19785369033735', 'leaves = 8')\n",
      "('Alpha = 1294.326533839343', \"value soglia = ['Population', 496.5, 3]\", 'deviance = 302.8204484540493', 'leaves = 7')\n",
      "('Alpha = 2236.1786023500317', \"value soglia = ['Sales', 11.879999999999999, 2]\", 'deviance = 310.80680060529954', 'leaves = 6')\n",
      "('Alpha = 2375.5656054931314', \"value soglia = ['Sales', 2.83, 2]\", 'deviance = 319.2909634820605', 'leaves = 5')\n",
      "('Alpha = 3623.178444802579', \"value soglia = ['Population', 36.5, 2]\", 'deviance = 332.23088649921306', 'leaves = 4')\n",
      "('Alpha = 15116.766374439903', \"value soglia = ['Sales', 7.555, 1]\", 'deviance = 386.21933783649797', 'leaves = 3')\n",
      "('Alpha = 15925.151737649096', \"value soglia = ['Sales', 7.55, 1]\", 'deviance = 443.0948797566736', 'leaves = 2')\n"
     ]
    }
   ],
   "source": [
    "tree.print_alpha(alpha)\n"
   ]
  }
 ],
 "metadata": {
  "kernelspec": {
   "display_name": "base",
   "language": "python",
   "name": "python3"
  },
  "language_info": {
   "codemirror_mode": {
    "name": "ipython",
    "version": 3
   },
   "file_extension": ".py",
   "mimetype": "text/x-python",
   "name": "python",
   "nbconvert_exporter": "python",
   "pygments_lexer": "ipython3",
   "version": "3.12.2"
  },
  "orig_nbformat": 4
 },
 "nbformat": 4,
 "nbformat_minor": 2
}
