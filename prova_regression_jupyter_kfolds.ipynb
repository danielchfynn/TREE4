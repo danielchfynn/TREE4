{
 "cells": [
  {
   "cell_type": "markdown",
   "metadata": {},
   "source": [
    "Dictionary Inputs "
   ]
  },
  {
   "cell_type": "code",
   "execution_count": 1,
   "metadata": {},
   "outputs": [],
   "source": [
    "#from __future__ import annotations\n",
    "#from tkinter import N\n",
    "\n",
    "from TREEplus import *\n",
    "\n",
    "import pandas as pd\n",
    "\n",
    "#d = dict(features, **n_features)  #merges the two dicts\n",
    "#df = pd.DataFrame(data=d)         #creates the dataframe\n",
    "\n",
    "#print(df)\n",
    "#import csv\n",
    "\n",
    "\n",
    "\n",
    "#####################################loading the carseats data#########################\n",
    "\n",
    "df=pd.read_csv('Carseats_train.csv')\n",
    "#df=df.iloc[:,1:]\n",
    "\n",
    "features_names=list(df.columns)\n",
    "\n",
    "colonne=features_names[:6]\n",
    "features_name=features_names[7:9]\n",
    "features_names=colonne + features_name\n",
    "\n",
    "\n",
    "\n",
    "\n",
    "n_features_names=list(df.columns)\n",
    "columns = [(n_features_names[6])]\n",
    "n_features_name = n_features_names[9:11]\n",
    "n_features_names=columns + n_features_name\n",
    "\n",
    "\n",
    "\n",
    "\n",
    "features=df.iloc[:,0:6]\n",
    "features2=df.iloc[:,7:9]\n",
    "\n",
    "features=dict(features)\n",
    "features2=dict(features2)\n",
    "\n",
    "\n",
    "n_features=df.iloc[:,6:7]\n",
    "n_features2=df.iloc[:,9:11]\n",
    "\n",
    "\n",
    "n_features=dict(n_features)\n",
    "n_features2=dict(n_features2)\n",
    "\n",
    "features = dict(features, **features2)\n",
    "n_features = dict(n_features, **n_features2)\n",
    "\n",
    "\n",
    "#############################################################################\n",
    "\n",
    "\n",
    "#import itertools\n",
    "#from statistics import mode\n",
    "'''\n",
    "print(features,'features',type(features))\n",
    "print()\n",
    "print(features_names,'features_names')\n",
    "print()\n",
    "print(n_features,'n_features')\n",
    "print()\n",
    "print(n_features_names,'n_features_names')\n",
    "print()\n",
    "'''\n",
    "########################### y categorical #######################################\n",
    "'''\n",
    "High=[]\n",
    "for i in features['Sales']:\n",
    "    if i < 8:\n",
    "        High.append('NO')\n",
    "    else:\n",
    "        High.append('YES')\n",
    "\n",
    "High=pd.DataFrame(High)\n",
    "High=dict(High)\n",
    "High['High'] = High.pop(0)\n",
    "\n",
    "#y=High['High']\n",
    "\n",
    "#exclude_keys = ['Sales']\n",
    "\n",
    "#new_d = {k: features[k] for k in set(list(features.keys())) - set(exclude_keys)}\n",
    "#features=new_d\n",
    "\n",
    "#features_names=features_names[1:]\n",
    "'''\n",
    "\n",
    "######################y numerical#####################################\n",
    "y=features['Price']\n",
    "exclude_keys = ['Price']\n",
    "new_d = {k: features[k] for k in set(list(features.keys())) - set(exclude_keys)}\n",
    "features=new_d\n",
    "\n",
    "indici = np.arange(0, len(y))\n",
    "\n",
    "features_names3 = features_names[0:5]\n",
    "features_names4 = features_names[6:]\n",
    "features_names = features_names3 +  features_names4 \n",
    "\n",
    "#############Data Prep for prediction ############\n",
    "df_test=pd.read_csv('Carseats_test.csv')\n",
    "#df_test=df_test.iloc[:,1:]\n",
    "\n",
    "\n",
    "features_test=df_test.iloc[:,0:6]\n",
    "features2_test=df_test.iloc[:,7:9]\n",
    "\n",
    "features_test=dict(features_test)\n",
    "features2_test=dict(features2_test)\n",
    "\n",
    "\n",
    "n_features_test=df_test.iloc[:,6:7]\n",
    "n_features2_test=df_test.iloc[:,9:11]\n",
    "\n",
    "\n",
    "n_features_test=dict(n_features_test)\n",
    "n_features2_test=dict(n_features2_test)\n",
    "\n",
    "features_test = dict(features_test, **features2_test)\n",
    "n_features_test = dict(n_features_test, **n_features2_test)\n",
    "\n",
    "y_test=features_test['Price']\n",
    "\n",
    "y_test = y_test.tolist()\n",
    "\n",
    "del features_test[\"Price\"]   \n",
    "\n",
    "#impurity = impurity_fn('MSE') # chhose the simplest impurity functin (for regression tree)\n",
    "\n",
    "#impurity = Impurity (\"MSE\")\n",
    "# start a tree structure by instantiating its root\n",
    "#print(\"features\", features)\n",
    "#print(\"features_names\", features_names)\n",
    "#print(\"n_features\", n_features)\n",
    "#print(\"n_features_names\", n_features_names)\n",
    "\n",
    "\n",
    "\n",
    "############Program Running\n",
    "\n",
    "\n",
    "###User Defined Function \n",
    "\n",
    "\n",
    "\n",
    "#when definining a funcion please be aware we are using purity gain or information gain or greatest difference between variance, all positive aspects \n",
    "#adding user_defined as a possible impurity_fn and added user_impur to carry that function \n",
    "def user_fn(self, node): #impur just takes node in CART\n",
    "    \n",
    "    return (mean(self.y[node.indexes])**2)*len(self.y[node.indexes])\n",
    "\n",
    "\n",
    "\n",
    "\n"
   ]
  },
  {
   "cell_type": "code",
   "execution_count": 2,
   "metadata": {},
   "outputs": [
    {
     "name": "stdout",
     "output_type": "stream",
     "text": [
      "Split Found:  n1 [['CompPrice', 127.5, 0.20228188075035491, 0]] start <TREEplus.NodeClass object at 0x000002D788772CD0> CompPrice>127.5\n",
      "node_proportion_total  0.20228188075035564\n",
      "Split Found:  n2 [['Sales', 7.55, 0.20969032447490832, 1]] left <TREEplus.NodeClass object at 0x000002D78F9952D0> Sales>7.55\n",
      "node_proportion_total  0.3046767681766827\n",
      "Node_proportion_gain  0.10239488742632707\n",
      "Split Found:  n4 [['Education', 11.5, 0.01203519813946241, 2]] left <TREEplus.NodeClass object at 0x000002D78C7A6190> Education>11.5\n",
      "node_proportion_total  0.3065778006555755\n",
      "Node_proportion_gain  0.0019010324788927835\n",
      "Split Found:  n8 [['Advertising', 10.5, 0.32836479505389105, 3]] left <TREEplus.NodeClass object at 0x000002D78F97D7D0> Advertising>10.5\n",
      "node_proportion_total  0.31860582576028373\n",
      "Node_proportion_gain  0.01202802510470824\n",
      "Split Found:  n16 [['Advertising', 2.0, 0.05272462858935234, 4]] left <TREEplus.NodeClass object at 0x000002D78C7BE490> Advertising>2.0\n",
      "node_proportion_total  0.3192663048912775\n",
      "Node_proportion_gain  0.000660479130993763\n",
      "Node Search Split Error for:  n17 with obs in node:  6  which is less than minimum parent size:  10\n",
      "TypeError: Node search split (CART) failure\n",
      "Split Found:  n9 [['Sales', 3.46, 0.09197997229476351, 3]] right <TREEplus.NodeClass object at 0x000002D78C7B6590> Sales>3.46\n",
      "node_proportion_total  0.330251009261935\n",
      "Node_proportion_gain  0.010984704370657516\n",
      "Node Search Split Error for:  n18 with obs in node:  8  which is less than minimum parent size:  10\n",
      "TypeError: Node search split (CART) failure\n",
      "Split Found:  n19 [['Education', 13.5, 0.06496235189508626, 4]] right <TREEplus.NodeClass object at 0x000002D78C7E7FD0> Education>13.5\n",
      "node_proportion_total  0.33662974173646426\n",
      "Node_proportion_gain  0.006378732474529247\n",
      "Split Found:  n5 [['CompPrice', 99.0, 0.2435573732059556, 2]] right <TREEplus.NodeClass object at 0x000002D78C726D10> CompPrice>99.0\n",
      "node_proportion_total  0.392152017203281\n",
      "Node_proportion_gain  0.05552227546681676\n",
      "Node Search Split Error for:  n10 with obs in node:  9  which is less than minimum parent size:  10\n",
      "TypeError: Node search split (CART) failure\n",
      "Split Found:  n11 [['Education', 17.5, 0.032666129768463725, 3]] right <TREEplus.NodeClass object at 0x000002D78C7B6610> Education>17.5\n",
      "node_proportion_total  0.3969231242253635\n",
      "Node_proportion_gain  0.004771107022082499\n",
      "Split Found:  n22 [['ShelveLoc', ('Bad', 'Medium'), 0.10120552188660825, 4]] left <TREEplus.NodeClass object at 0x000002D78C7DFA10> ShelveLoc in ('Bad', 'Medium')\n",
      "node_proportion_total  0.41026487948476587\n",
      "Node_proportion_gain  0.013341755259402344\n",
      "Node Search Split Error for:  n23 with obs in node:  7  which is less than minimum parent size:  10\n",
      "TypeError: Node search split (CART) failure\n",
      "Split Found:  n3 [['Sales', 7.555, 0.314143889817587, 1]] right <TREEplus.NodeClass object at 0x000002D78F933790> Sales>7.55\n",
      "node_proportion_total  0.507462043861007\n",
      "Node_proportion_gain  0.09719716437624115\n",
      "Split Found:  n6 [['Education', 13.5, 0.0337728975039423, 2]] left <TREEplus.NodeClass object at 0x000002D788785790> Education>13.5\n",
      "node_proportion_total  0.511284784214324\n",
      "Node_proportion_gain  0.003822740353316978\n",
      "Split Found:  n12 [['Advertising', 8.5, 0.13436801284594013, 3]] left <TREEplus.NodeClass object at 0x000002D78C80FD50> Advertising>8.5\n",
      "node_proportion_total  0.5152094492529159\n",
      "Node_proportion_gain  0.003924665038591901\n",
      "Split Found:  n24 [['Education', 11.5, 0.08838585034013613, 4]] left <TREEplus.NodeClass object at 0x000002D78C7E7710> Education>11.5\n",
      "node_proportion_total  0.5169046614712967\n",
      "Node_proportion_gain  0.0016952122183807594\n",
      "Node Search Split Error for:  n25 with obs in node:  6  which is less than minimum parent size:  10\n",
      "TypeError: Node search split (CART) failure\n",
      "Split Found:  n13 [['Education', 15.5, 0.24771009984336612, 3]] right <TREEplus.NodeClass object at 0x000002D78C7E9890> Education>15.5\n",
      "node_proportion_total  0.5367607362849326\n",
      "Node_proportion_gain  0.019856074813635938\n",
      "Node Search Split Error for:  n26 with obs in node:  8  which is less than minimum parent size:  10\n",
      "TypeError: Node search split (CART) failure\n",
      "Split Found:  n27 [['Age', 45.5, 0.15889958042208852, 4]] right <TREEplus.NodeClass object at 0x000002D78C7AD690> Age>45.5\n",
      "node_proportion_total  0.5426791311074602\n",
      "Node_proportion_gain  0.005918394822527651\n",
      "Split Found:  n7 [['Education', 12.5, 0.0498922038543137, 2]] right <TREEplus.NodeClass object at 0x000002D78C7BFB10> Education>12.5\n",
      "node_proportion_total  0.547619286188545\n",
      "Node_proportion_gain  0.004940155081084807\n",
      "Split Found:  n14 [['Advertising', 7.5, 0.09192675821889318, 3]] left <TREEplus.NodeClass object at 0x000002D78C7C9BD0> Advertising>7.5\n",
      "node_proportion_total  0.5502017112051708\n",
      "Node_proportion_gain  0.0025824250166257556\n",
      "Split Found:  n28 [['Age', 47.5, 0.482578188087911, 4]] left <TREEplus.NodeClass object at 0x000002D78C808AD0> Age>47.5\n",
      "node_proportion_total  0.5588180753441273\n",
      "Node_proportion_gain  0.0086163641389565\n",
      "Split Found:  n29 [['Age', 58.0, 0.025964671146406104, 4]] right <TREEplus.NodeClass object at 0x000002D78C7BE7D0> Age>58.0\n",
      "node_proportion_total  0.5590168328331464\n",
      "Node_proportion_gain  0.00019875748901909684\n",
      "Split Found:  n15 [['Education', 16.5, 0.028043122652488206, 3]] right <TREEplus.NodeClass object at 0x000002D78C7EB110> Education>16.5\n",
      "node_proportion_total  0.5608672363270953\n",
      "Node_proportion_gain  0.0018504034939489378\n",
      "Split Found:  n30 [['Age', 41.5, 0.18355354453306005, 4]] left <TREEplus.NodeClass object at 0x000002D78C7FDC50> Age>41.5\n",
      "node_proportion_total  0.5664951514072866\n",
      "Node_proportion_gain  0.005627915080191226\n",
      "Split Found:  n31 [['Advertising', 1.5, 0.11496568421473874, 4]] right <TREEplus.NodeClass object at 0x000002D78C81BCD0> Advertising>1.5\n",
      "node_proportion_total  0.570343388948731\n",
      "Node_proportion_gain  0.003848237541444477\n"
     ]
    },
    {
     "data": {
      "text/plain": [
       "(((((None, None), None), (None, (None, None))), (None, ((None, None), None))),\n",
       " ((((None, None), None), (None, (None, None))),\n",
       "  (((None, None), (None, None)), ((None, None), (None, None)))))"
      ]
     },
     "execution_count": 2,
     "metadata": {},
     "output_type": "execute_result"
    }
   ],
   "source": [
    "my_tree = NodeClass('n1', indici) \n",
    "\n",
    "tree = TREEplus(y,features,features_names,n_features,n_features_names, impurity_fn = \"pearson\", problem=\"regression\", method = \"TWO-STAGE\",  min_cases_parent= 10,min_cases_child= 5, max_level =4 , twoing = False, min_imp_gain = 0.0001)\n",
    "\n",
    "tree.growing_tree(my_tree, max_k = 1)\n",
    "\n"
   ]
  },
  {
   "cell_type": "code",
   "execution_count": 3,
   "metadata": {},
   "outputs": [
    {
     "data": {
      "application/vnd.plotly.v1+json": {
       "config": {
        "plotlyServerURL": "https://plot.ly"
       },
       "data": [
        {
         "hoverinfo": "none",
         "line": {
          "color": "rgb(210,210,210)",
          "width": 1
         },
         "mode": "lines",
         "type": "scatter",
         "x": [
          0,
          -8,
          null,
          0,
          8,
          null,
          -8,
          -12,
          null,
          -8,
          -4,
          null,
          8,
          4,
          null,
          8,
          12,
          null,
          -12,
          -14,
          null,
          -12,
          -10,
          null,
          -4,
          -6,
          null,
          -4,
          -2,
          null,
          4,
          2,
          null,
          4,
          6,
          null,
          12,
          10,
          null,
          12,
          14,
          null,
          -14,
          -15,
          null,
          -14,
          -13,
          null,
          -10,
          -11,
          null,
          -10,
          -9,
          null,
          -2,
          -3,
          null,
          -2,
          -1,
          null,
          2,
          1,
          null,
          2,
          3,
          null,
          6,
          5,
          null,
          6,
          7,
          null,
          10,
          9,
          null,
          10,
          11,
          null,
          14,
          13,
          null,
          14,
          15,
          null,
          -15,
          -15.5,
          null,
          -15,
          -14.5,
          null,
          -9,
          -9.5,
          null,
          -9,
          -8.5,
          null,
          -3,
          -3.5,
          null,
          -3,
          -2.5,
          null,
          1,
          0.5,
          null,
          1,
          1.5,
          null,
          7,
          6.5,
          null,
          7,
          7.5,
          null,
          9,
          8.5,
          null,
          9,
          9.5,
          null,
          11,
          10.5,
          null,
          11,
          11.5,
          null,
          13,
          12.5,
          null,
          13,
          13.5,
          null,
          15,
          14.5,
          null,
          15,
          15.5,
          null
         ],
         "y": [
          10,
          9,
          null,
          10,
          9,
          null,
          9,
          8,
          null,
          9,
          8,
          null,
          9,
          8,
          null,
          9,
          8,
          null,
          8,
          7,
          null,
          8,
          7,
          null,
          8,
          7,
          null,
          8,
          7,
          null,
          8,
          7,
          null,
          8,
          7,
          null,
          8,
          7,
          null,
          8,
          7,
          null,
          7,
          6,
          null,
          7,
          6,
          null,
          7,
          6,
          null,
          7,
          6,
          null,
          7,
          6,
          null,
          7,
          6,
          null,
          7,
          6,
          null,
          7,
          6,
          null,
          7,
          6,
          null,
          7,
          6,
          null,
          7,
          6,
          null,
          7,
          6,
          null,
          7,
          6,
          null,
          7,
          6,
          null,
          6,
          5,
          null,
          6,
          5,
          null,
          6,
          5,
          null,
          6,
          5,
          null,
          6,
          5,
          null,
          6,
          5,
          null,
          6,
          5,
          null,
          6,
          5,
          null,
          6,
          5,
          null,
          6,
          5,
          null,
          6,
          5,
          null,
          6,
          5,
          null,
          6,
          5,
          null,
          6,
          5,
          null,
          6,
          5,
          null,
          6,
          5,
          null,
          6,
          5,
          null,
          6,
          5,
          null
         ]
        },
        {
         "hoverinfo": "text",
         "marker": {
          "color": "#6175c1",
          "line": {
           "color": "rgb(50,50,50)",
           "width": 1
          },
          "size": 18,
          "symbol": "circle-dot"
         },
         "mode": "markers",
         "name": "Nodes",
         "opacity": 0.8,
         "text": [
          "n17, None, Bin Value: 128, pearson : 1878, Samples : 6",
          "n32, None, Bin Value: 105.22, pearson : 587.56, Samples : 9",
          "n33, None, Bin Value: 110, pearson : 1258, Samples : 9",
          "n18, None, Bin Value: 130.5, pearson : 1594.0, Samples : 8",
          "n38, None, Bin Value: 121.29, pearson : 3667.53, Samples : 17",
          "n39, None, Bin Value: 112.17, pearson : 10611.78, Samples : 40",
          "n10, None, Bin Value: 66.78, pearson : 4103.56, Samples : 9",
          "n23, None, Bin Value: 90.14, pearson : 1470.86, Samples : 7",
          "n44, None, Bin Value: 108.95, pearson : 11058.95, Samples : 21",
          "n45, None, Bin Value: 96.44, pearson : 7368.89, Samples : 36",
          "n25, None, Bin Value: 145.33, pearson : 949.33, Samples : 6",
          "n48, None, Bin Value: 129.38, pearson : 1019.88, Samples : 8",
          "n49, None, Bin Value: 136.57, pearson : 1699.43, Samples : 14",
          "n26, None, Bin Value: 159.62, pearson : 3585.88, Samples : 8",
          "n54, None, Bin Value: 128.12, pearson : 1390.88, Samples : 8",
          "n55, None, Bin Value: 141.57, pearson : 3481.43, Samples : 14",
          "n56, None, Bin Value: 118.17, pearson : 1094.83, Samples : 6",
          "n57, None, Bin Value: 96, pearson : 342, Samples : 5",
          "n58, None, Bin Value: 118.17, pearson : 976.83, Samples : 6",
          "n59, None, Bin Value: 114.8, pearson : 182.8, Samples : 5",
          "n60, None, Bin Value: 114.56, pearson : 2162.22, Samples : 9",
          "n61, None, Bin Value: 127.38, pearson : 1731.08, Samples : 13",
          "n62, None, Bin Value: 108.67, pearson : 2699.33, Samples : 6",
          "n63, None, Bin Value: 121.3, pearson : 1908.1, Samples : 10",
          "n1, CompPrice>127.5, Bin Value: 115.78, pearson : 155526.82, Samples : 280",
          "n2, Sales>7.55, Bin Value: 106.73, pearson : 75946.05, Samples : 162",
          "n4, Education>11.5, Bin Value: 115.71, pearson : 24566.4, Samples : 89",
          "n8, Advertising>10.5, Bin Value: 112.71, pearson : 5696.96, Samples : 24",
          "n16, Advertising>2.0, Bin Value: 107.61, pearson : 1948.28, Samples : 18",
          "n9, Sales>3.46, Bin Value: 116.82, pearson : 18573.78, Samples : 65",
          "n19, Education>13.5, Bin Value: 114.89, pearson : 15271.37, Samples : 57",
          "n5, CompPrice>99.0, Bin Value: 95.78, pearson : 35454.49, Samples : 73",
          "n11, Education>17.5, Bin Value: 99.86, pearson : 22715.73, Samples : 64",
          "n22, ShelveLoc in ('Bad', 'Medium'), Bin Value: 101.05, pearson : 20502.84, Samples : 57",
          "n3, Sales>7.55, Bin Value: 128.19, pearson : 48120.52, Samples : 118",
          "n6, Education>13.5, Bin Value: 139.71, pearson : 17604.02, Samples : 58",
          "n12, Advertising>8.5, Bin Value: 136.39, pearson : 4542.68, Samples : 28",
          "n24, Education>11.5, Bin Value: 133.95, pearson : 2982.95, Samples : 22",
          "n13, Education>15.5, Bin Value: 142.8, pearson : 12466.8, Samples : 30",
          "n27, Age>45.5, Bin Value: 136.68, pearson : 5792.77, Samples : 22",
          "n7, Education>12.5, Bin Value: 117.07, pearson : 15399.73, Samples : 60",
          "n14, Advertising>7.5, Bin Value: 112.36, pearson : 4369.09, Samples : 22",
          "n28, Age>47.5, Bin Value: 108.09, pearson : 2776.91, Samples : 11",
          "n29, Age>58.0, Bin Value: 116.64, pearson : 1190.55, Samples : 11",
          "n15, Education>16.5, Bin Value: 119.79, pearson : 10262.32, Samples : 38",
          "n30, Age>41.5, Bin Value: 122.14, pearson : 4768.59, Samples : 22",
          "n31, Advertising>1.5, Bin Value: 116.56, pearson : 5205.94, Samples : 16"
         ],
         "type": "scatter",
         "x": [
          -13,
          -15.5,
          -14.5,
          -11,
          -9.5,
          -8.5,
          -6,
          -1,
          -3.5,
          -2.5,
          3,
          0.5,
          1.5,
          5,
          6.5,
          7.5,
          8.5,
          9.5,
          10.5,
          11.5,
          12.5,
          13.5,
          14.5,
          15.5,
          0,
          -8,
          -12,
          -14,
          -15,
          -10,
          -9,
          -4,
          -2,
          -3,
          8,
          4,
          2,
          1,
          6,
          7,
          12,
          10,
          9,
          11,
          14,
          13,
          15
         ],
         "y": [
          6,
          5,
          5,
          6,
          5,
          5,
          7,
          6,
          5,
          5,
          6,
          5,
          5,
          6,
          5,
          5,
          5,
          5,
          5,
          5,
          5,
          5,
          5,
          5,
          10,
          9,
          8,
          7,
          6,
          7,
          6,
          8,
          7,
          6,
          9,
          8,
          7,
          6,
          7,
          6,
          8,
          7,
          6,
          6,
          7,
          6,
          6
         ]
        }
       ],
       "layout": {
        "margin": {
         "b": 0,
         "l": 0,
         "r": 0,
         "t": 0
        },
        "plot_bgcolor": "rgba(0, 0, 0, 0)",
        "template": {
         "data": {
          "bar": [
           {
            "error_x": {
             "color": "#2a3f5f"
            },
            "error_y": {
             "color": "#2a3f5f"
            },
            "marker": {
             "line": {
              "color": "#E5ECF6",
              "width": 0.5
             },
             "pattern": {
              "fillmode": "overlay",
              "size": 10,
              "solidity": 0.2
             }
            },
            "type": "bar"
           }
          ],
          "barpolar": [
           {
            "marker": {
             "line": {
              "color": "#E5ECF6",
              "width": 0.5
             },
             "pattern": {
              "fillmode": "overlay",
              "size": 10,
              "solidity": 0.2
             }
            },
            "type": "barpolar"
           }
          ],
          "carpet": [
           {
            "aaxis": {
             "endlinecolor": "#2a3f5f",
             "gridcolor": "white",
             "linecolor": "white",
             "minorgridcolor": "white",
             "startlinecolor": "#2a3f5f"
            },
            "baxis": {
             "endlinecolor": "#2a3f5f",
             "gridcolor": "white",
             "linecolor": "white",
             "minorgridcolor": "white",
             "startlinecolor": "#2a3f5f"
            },
            "type": "carpet"
           }
          ],
          "choropleth": [
           {
            "colorbar": {
             "outlinewidth": 0,
             "ticks": ""
            },
            "type": "choropleth"
           }
          ],
          "contour": [
           {
            "colorbar": {
             "outlinewidth": 0,
             "ticks": ""
            },
            "colorscale": [
             [
              0,
              "#0d0887"
             ],
             [
              0.1111111111111111,
              "#46039f"
             ],
             [
              0.2222222222222222,
              "#7201a8"
             ],
             [
              0.3333333333333333,
              "#9c179e"
             ],
             [
              0.4444444444444444,
              "#bd3786"
             ],
             [
              0.5555555555555556,
              "#d8576b"
             ],
             [
              0.6666666666666666,
              "#ed7953"
             ],
             [
              0.7777777777777778,
              "#fb9f3a"
             ],
             [
              0.8888888888888888,
              "#fdca26"
             ],
             [
              1,
              "#f0f921"
             ]
            ],
            "type": "contour"
           }
          ],
          "contourcarpet": [
           {
            "colorbar": {
             "outlinewidth": 0,
             "ticks": ""
            },
            "type": "contourcarpet"
           }
          ],
          "heatmap": [
           {
            "colorbar": {
             "outlinewidth": 0,
             "ticks": ""
            },
            "colorscale": [
             [
              0,
              "#0d0887"
             ],
             [
              0.1111111111111111,
              "#46039f"
             ],
             [
              0.2222222222222222,
              "#7201a8"
             ],
             [
              0.3333333333333333,
              "#9c179e"
             ],
             [
              0.4444444444444444,
              "#bd3786"
             ],
             [
              0.5555555555555556,
              "#d8576b"
             ],
             [
              0.6666666666666666,
              "#ed7953"
             ],
             [
              0.7777777777777778,
              "#fb9f3a"
             ],
             [
              0.8888888888888888,
              "#fdca26"
             ],
             [
              1,
              "#f0f921"
             ]
            ],
            "type": "heatmap"
           }
          ],
          "heatmapgl": [
           {
            "colorbar": {
             "outlinewidth": 0,
             "ticks": ""
            },
            "colorscale": [
             [
              0,
              "#0d0887"
             ],
             [
              0.1111111111111111,
              "#46039f"
             ],
             [
              0.2222222222222222,
              "#7201a8"
             ],
             [
              0.3333333333333333,
              "#9c179e"
             ],
             [
              0.4444444444444444,
              "#bd3786"
             ],
             [
              0.5555555555555556,
              "#d8576b"
             ],
             [
              0.6666666666666666,
              "#ed7953"
             ],
             [
              0.7777777777777778,
              "#fb9f3a"
             ],
             [
              0.8888888888888888,
              "#fdca26"
             ],
             [
              1,
              "#f0f921"
             ]
            ],
            "type": "heatmapgl"
           }
          ],
          "histogram": [
           {
            "marker": {
             "pattern": {
              "fillmode": "overlay",
              "size": 10,
              "solidity": 0.2
             }
            },
            "type": "histogram"
           }
          ],
          "histogram2d": [
           {
            "colorbar": {
             "outlinewidth": 0,
             "ticks": ""
            },
            "colorscale": [
             [
              0,
              "#0d0887"
             ],
             [
              0.1111111111111111,
              "#46039f"
             ],
             [
              0.2222222222222222,
              "#7201a8"
             ],
             [
              0.3333333333333333,
              "#9c179e"
             ],
             [
              0.4444444444444444,
              "#bd3786"
             ],
             [
              0.5555555555555556,
              "#d8576b"
             ],
             [
              0.6666666666666666,
              "#ed7953"
             ],
             [
              0.7777777777777778,
              "#fb9f3a"
             ],
             [
              0.8888888888888888,
              "#fdca26"
             ],
             [
              1,
              "#f0f921"
             ]
            ],
            "type": "histogram2d"
           }
          ],
          "histogram2dcontour": [
           {
            "colorbar": {
             "outlinewidth": 0,
             "ticks": ""
            },
            "colorscale": [
             [
              0,
              "#0d0887"
             ],
             [
              0.1111111111111111,
              "#46039f"
             ],
             [
              0.2222222222222222,
              "#7201a8"
             ],
             [
              0.3333333333333333,
              "#9c179e"
             ],
             [
              0.4444444444444444,
              "#bd3786"
             ],
             [
              0.5555555555555556,
              "#d8576b"
             ],
             [
              0.6666666666666666,
              "#ed7953"
             ],
             [
              0.7777777777777778,
              "#fb9f3a"
             ],
             [
              0.8888888888888888,
              "#fdca26"
             ],
             [
              1,
              "#f0f921"
             ]
            ],
            "type": "histogram2dcontour"
           }
          ],
          "mesh3d": [
           {
            "colorbar": {
             "outlinewidth": 0,
             "ticks": ""
            },
            "type": "mesh3d"
           }
          ],
          "parcoords": [
           {
            "line": {
             "colorbar": {
              "outlinewidth": 0,
              "ticks": ""
             }
            },
            "type": "parcoords"
           }
          ],
          "pie": [
           {
            "automargin": true,
            "type": "pie"
           }
          ],
          "scatter": [
           {
            "fillpattern": {
             "fillmode": "overlay",
             "size": 10,
             "solidity": 0.2
            },
            "type": "scatter"
           }
          ],
          "scatter3d": [
           {
            "line": {
             "colorbar": {
              "outlinewidth": 0,
              "ticks": ""
             }
            },
            "marker": {
             "colorbar": {
              "outlinewidth": 0,
              "ticks": ""
             }
            },
            "type": "scatter3d"
           }
          ],
          "scattercarpet": [
           {
            "marker": {
             "colorbar": {
              "outlinewidth": 0,
              "ticks": ""
             }
            },
            "type": "scattercarpet"
           }
          ],
          "scattergeo": [
           {
            "marker": {
             "colorbar": {
              "outlinewidth": 0,
              "ticks": ""
             }
            },
            "type": "scattergeo"
           }
          ],
          "scattergl": [
           {
            "marker": {
             "colorbar": {
              "outlinewidth": 0,
              "ticks": ""
             }
            },
            "type": "scattergl"
           }
          ],
          "scattermapbox": [
           {
            "marker": {
             "colorbar": {
              "outlinewidth": 0,
              "ticks": ""
             }
            },
            "type": "scattermapbox"
           }
          ],
          "scatterpolar": [
           {
            "marker": {
             "colorbar": {
              "outlinewidth": 0,
              "ticks": ""
             }
            },
            "type": "scatterpolar"
           }
          ],
          "scatterpolargl": [
           {
            "marker": {
             "colorbar": {
              "outlinewidth": 0,
              "ticks": ""
             }
            },
            "type": "scatterpolargl"
           }
          ],
          "scatterternary": [
           {
            "marker": {
             "colorbar": {
              "outlinewidth": 0,
              "ticks": ""
             }
            },
            "type": "scatterternary"
           }
          ],
          "surface": [
           {
            "colorbar": {
             "outlinewidth": 0,
             "ticks": ""
            },
            "colorscale": [
             [
              0,
              "#0d0887"
             ],
             [
              0.1111111111111111,
              "#46039f"
             ],
             [
              0.2222222222222222,
              "#7201a8"
             ],
             [
              0.3333333333333333,
              "#9c179e"
             ],
             [
              0.4444444444444444,
              "#bd3786"
             ],
             [
              0.5555555555555556,
              "#d8576b"
             ],
             [
              0.6666666666666666,
              "#ed7953"
             ],
             [
              0.7777777777777778,
              "#fb9f3a"
             ],
             [
              0.8888888888888888,
              "#fdca26"
             ],
             [
              1,
              "#f0f921"
             ]
            ],
            "type": "surface"
           }
          ],
          "table": [
           {
            "cells": {
             "fill": {
              "color": "#EBF0F8"
             },
             "line": {
              "color": "white"
             }
            },
            "header": {
             "fill": {
              "color": "#C8D4E3"
             },
             "line": {
              "color": "white"
             }
            },
            "type": "table"
           }
          ]
         },
         "layout": {
          "annotationdefaults": {
           "arrowcolor": "#2a3f5f",
           "arrowhead": 0,
           "arrowwidth": 1
          },
          "autotypenumbers": "strict",
          "coloraxis": {
           "colorbar": {
            "outlinewidth": 0,
            "ticks": ""
           }
          },
          "colorscale": {
           "diverging": [
            [
             0,
             "#8e0152"
            ],
            [
             0.1,
             "#c51b7d"
            ],
            [
             0.2,
             "#de77ae"
            ],
            [
             0.3,
             "#f1b6da"
            ],
            [
             0.4,
             "#fde0ef"
            ],
            [
             0.5,
             "#f7f7f7"
            ],
            [
             0.6,
             "#e6f5d0"
            ],
            [
             0.7,
             "#b8e186"
            ],
            [
             0.8,
             "#7fbc41"
            ],
            [
             0.9,
             "#4d9221"
            ],
            [
             1,
             "#276419"
            ]
           ],
           "sequential": [
            [
             0,
             "#0d0887"
            ],
            [
             0.1111111111111111,
             "#46039f"
            ],
            [
             0.2222222222222222,
             "#7201a8"
            ],
            [
             0.3333333333333333,
             "#9c179e"
            ],
            [
             0.4444444444444444,
             "#bd3786"
            ],
            [
             0.5555555555555556,
             "#d8576b"
            ],
            [
             0.6666666666666666,
             "#ed7953"
            ],
            [
             0.7777777777777778,
             "#fb9f3a"
            ],
            [
             0.8888888888888888,
             "#fdca26"
            ],
            [
             1,
             "#f0f921"
            ]
           ],
           "sequentialminus": [
            [
             0,
             "#0d0887"
            ],
            [
             0.1111111111111111,
             "#46039f"
            ],
            [
             0.2222222222222222,
             "#7201a8"
            ],
            [
             0.3333333333333333,
             "#9c179e"
            ],
            [
             0.4444444444444444,
             "#bd3786"
            ],
            [
             0.5555555555555556,
             "#d8576b"
            ],
            [
             0.6666666666666666,
             "#ed7953"
            ],
            [
             0.7777777777777778,
             "#fb9f3a"
            ],
            [
             0.8888888888888888,
             "#fdca26"
            ],
            [
             1,
             "#f0f921"
            ]
           ]
          },
          "colorway": [
           "#636efa",
           "#EF553B",
           "#00cc96",
           "#ab63fa",
           "#FFA15A",
           "#19d3f3",
           "#FF6692",
           "#B6E880",
           "#FF97FF",
           "#FECB52"
          ],
          "font": {
           "color": "#2a3f5f"
          },
          "geo": {
           "bgcolor": "white",
           "lakecolor": "white",
           "landcolor": "#E5ECF6",
           "showlakes": true,
           "showland": true,
           "subunitcolor": "white"
          },
          "hoverlabel": {
           "align": "left"
          },
          "hovermode": "closest",
          "mapbox": {
           "style": "light"
          },
          "paper_bgcolor": "white",
          "plot_bgcolor": "#E5ECF6",
          "polar": {
           "angularaxis": {
            "gridcolor": "white",
            "linecolor": "white",
            "ticks": ""
           },
           "bgcolor": "#E5ECF6",
           "radialaxis": {
            "gridcolor": "white",
            "linecolor": "white",
            "ticks": ""
           }
          },
          "scene": {
           "xaxis": {
            "backgroundcolor": "#E5ECF6",
            "gridcolor": "white",
            "gridwidth": 2,
            "linecolor": "white",
            "showbackground": true,
            "ticks": "",
            "zerolinecolor": "white"
           },
           "yaxis": {
            "backgroundcolor": "#E5ECF6",
            "gridcolor": "white",
            "gridwidth": 2,
            "linecolor": "white",
            "showbackground": true,
            "ticks": "",
            "zerolinecolor": "white"
           },
           "zaxis": {
            "backgroundcolor": "#E5ECF6",
            "gridcolor": "white",
            "gridwidth": 2,
            "linecolor": "white",
            "showbackground": true,
            "ticks": "",
            "zerolinecolor": "white"
           }
          },
          "shapedefaults": {
           "line": {
            "color": "#2a3f5f"
           }
          },
          "ternary": {
           "aaxis": {
            "gridcolor": "white",
            "linecolor": "white",
            "ticks": ""
           },
           "baxis": {
            "gridcolor": "white",
            "linecolor": "white",
            "ticks": ""
           },
           "bgcolor": "#E5ECF6",
           "caxis": {
            "gridcolor": "white",
            "linecolor": "white",
            "ticks": ""
           }
          },
          "title": {
           "x": 0.05
          },
          "xaxis": {
           "automargin": true,
           "gridcolor": "white",
           "linecolor": "white",
           "ticks": "",
           "title": {
            "standoff": 15
           },
           "zerolinecolor": "white",
           "zerolinewidth": 2
          },
          "yaxis": {
           "automargin": true,
           "gridcolor": "white",
           "linecolor": "white",
           "ticks": "",
           "title": {
            "standoff": 15
           },
           "zerolinecolor": "white",
           "zerolinewidth": 2
          }
         }
        },
        "xaxis": {
         "showticklabels": false,
         "visible": false
        },
        "yaxis": {
         "showticklabels": true,
         "visible": false
        }
       }
      }
     },
     "metadata": {},
     "output_type": "display_data"
    }
   ],
   "source": [
    "import warnings\n",
    "warnings.filterwarnings(\"ignore\", category=FutureWarning) \n",
    "\n",
    "\n",
    "tree.print_tree(table = False, html = False)#.style.hide_index() #print both the pruned and non pruned tree \n",
    "#cart.print_tree(table = False, html = False, visual_pruning = True)"
   ]
  },
  {
   "cell_type": "markdown",
   "metadata": {},
   "source": [
    "kfolds example"
   ]
  },
  {
   "cell_type": "code",
   "execution_count": 5,
   "metadata": {},
   "outputs": [
    {
     "name": "stdout",
     "output_type": "stream",
     "text": [
      "\n",
      "\n",
      "Folds:  1\n",
      "Split Found:  n1 [['CompPrice', 127.5, 3443383.899844921, 0]] start <TREEplus.NodeClass object at 0x000002D790B651D0> CompPrice>127.5\n",
      "node_proportion_total  0.20314186702064307\n",
      "Split Found:  n2 [['Sales', 7.55, 1693667.9671065214, 1]] left <TREEplus.NodeClass object at 0x000002D78F888BD0> Sales>7.55\n",
      "node_proportion_total  0.3010167133729555\n",
      "Node_proportion_gain  0.09787484635231242\n",
      "Split Found:  n4 [['Age', 53.5, 1117055.3981106612, 2]] left <TREEplus.NodeClass object at 0x000002D790C7BF90> Age>53.5\n",
      "node_proportion_total  0.3316952130875218\n",
      "Node_proportion_gain  0.03067849971456632\n",
      "Split Found:  n8 [['Income', 67.0, 418639.07692307694, 3]] left <TREEplus.NodeClass object at 0x000002D790C22790> Income>67.0\n",
      "node_proportion_total  0.3479996948239073\n",
      "Node_proportion_gain  0.01630448173638549\n",
      "Split Found:  n16 [['Age', 40.5, 179045.45238095237, 4]] left <TREEplus.NodeClass object at 0x000002D790CD1E10> Age>40.5\n",
      "node_proportion_total  0.35398462236823613\n",
      "Node_proportion_gain  0.005984927544328833\n",
      "This split isn't good now i cut it [reg delta]\n",
      "Split Found:  n17 [['CompPrice', 120.5, 241165.92500000002, 4]] right <TREEplus.NodeClass object at 0x000002D790CEF190> CompPrice>120.5\n",
      "node_proportion_total  0.3590137100692649\n",
      "Node_proportion_gain  0.005029087701028778\n",
      "This split isn't good now i cut it [reg delta]\n",
      "Split Found:  n9 [['Sales', 2.755, 702866.0392156863, 3]] right <TREEplus.NodeClass object at 0x000002D790CC9110> Sales>2.75\n",
      "node_proportion_total  0.3738796461455666\n",
      "Node_proportion_gain  0.014865936076301711\n",
      "Node Search Split Error for:  n18 with obs in node:  6  which is less than minimum parent size:  10\n",
      "TypeError: Node search split (CART) failure\n",
      "Split Found:  n19 [['ShelveLoc', ('Medium', 'Good'), 605057.294117647, 4]] right <TREEplus.NodeClass object at 0x000002D790CD1090> ShelveLoc in ('Medium', 'Good')\n",
      "node_proportion_total  0.3845407556524298\n",
      "Node_proportion_gain  0.010661109506863164\n",
      "Split Found:  n5 [['CompPrice', 99.0, 589977.9074074074, 2]] right <TREEplus.NodeClass object at 0x000002D790C7D090> CompPrice>99.0\n",
      "node_proportion_total  0.4474868811084602\n",
      "Node_proportion_gain  0.0629461254560304\n",
      "Node Search Split Error for:  n10 with obs in node:  9  which is less than minimum parent size:  10\n",
      "TypeError: Node search split (CART) failure\n",
      "Split Found:  n11 [['Sales', 10.629999999999999, 552463.9643527204, 3]] right <TREEplus.NodeClass object at 0x000002D790D950D0> Sales>10.63\n",
      "node_proportion_total  0.465836572541489\n",
      "Node_proportion_gain  0.018349691433028836\n",
      "Split Found:  n22 [['ShelveLoc', ('Bad', 'Medium'), 454312.4878787879, 4]] left <TREEplus.NodeClass object at 0x000002D790D8F210> ShelveLoc in ('Bad', 'Medium')\n",
      "node_proportion_total  0.49214952404042106\n",
      "Node_proportion_gain  0.026312951498932036\n",
      "Split Found:  n23 [['Age', 37.0, 103068.2380952381, 4]] right <TREEplus.NodeClass object at 0x000002D790DC4F90> Age>37.0\n",
      "node_proportion_total  0.5002786457365971\n",
      "Node_proportion_gain  0.008129121696176023\n",
      "This split isn't good now i cut it [reg delta]\n",
      "Split Found:  n3 [['Sales', 7.555, 1778363.574074074, 1]] right <TREEplus.NodeClass object at 0x000002D790C26410> Sales>7.55\n",
      "node_proportion_total  0.6030814477524613\n",
      "Node_proportion_gain  0.10280280201586423\n",
      "Split Found:  n6 [['CompPrice', 135.5, 1071995.7407407407, 2]] left <TREEplus.NodeClass object at 0x000002D790E41950> CompPrice>135.5\n",
      "node_proportion_total  0.641330090756815\n",
      "Node_proportion_gain  0.03824864300435371\n",
      "Split Found:  n12 [['Sales', 4.93, 460789.3714285714, 3]] left <TREEplus.NodeClass object at 0x000002D790E6E310> Sales>4.93\n",
      "node_proportion_total  0.6490574269598207\n",
      "Node_proportion_gain  0.007727336203005697\n",
      "This split isn't good now i cut it [reg delta]\n",
      "Split Found:  n13 [['Sales', 3.5700000000000003, 613654.9363636364, 3]] right <TREEplus.NodeClass object at 0x000002D790E0E290> Sales>3.57\n",
      "node_proportion_total  0.6584823816558327\n",
      "Node_proportion_gain  0.009424954696012011\n",
      "This split isn't good now i cut it [reg delta]\n",
      "Split Found:  n7 [['CompPrice', 146.5, 716481.2307692308, 2]] right <TREEplus.NodeClass object at 0x000002D790E1E510> CompPrice>146.5\n",
      "node_proportion_total  0.6910784127615711\n",
      "Node_proportion_gain  0.03259603110573839\n",
      "Split Found:  n14 [['Sales', 11.805, 486626.7857142857, 3]] left <TREEplus.NodeClass object at 0x000002D790E9B150> Sales>11.8\n",
      "node_proportion_total  0.7011269774134857\n",
      "Node_proportion_gain  0.010048564651914615\n",
      "Split Found:  n28 [['ShelveLoc', ('Bad', 'Medium'), 419883.61142857146, 4]] left <TREEplus.NodeClass object at 0x000002D790EF5F10> ShelveLoc in ('Bad', 'Medium')\n",
      "node_proportion_total  0.7100311538275481\n",
      "Node_proportion_gain  0.008904176414062381\n",
      "This split isn't good now i cut it [reg delta]\n",
      "Node Search Split Error for:  n29 with obs in node:  7  which is less than minimum parent size:  10\n",
      "TypeError: Node search split (CART) failure\n",
      "Split Found:  n15 [['Population', 228.5, 231477.32499999998, 3]] right <TREEplus.NodeClass object at 0x000002D790ED40D0> Population>228.5\n",
      "node_proportion_total  0.7113509153544434\n",
      "Node_proportion_gain  0.00131976152689528\n",
      "This split isn't good now i cut it [reg delta]\n",
      "training mse 170.9\n",
      "\n",
      "\n",
      "Folds:  2\n",
      "Split Found:  n1 [['CompPrice', 121.5, 3421133.29516671, 0]] start <TREEplus.NodeClass object at 0x000002D790F0A5D0> CompPrice>121.5\n",
      "node_proportion_total  0.2187263522105488\n",
      "Split Found:  n2 [['Sales', 7.55, 1141688.875, 1]] left <TREEplus.NodeClass object at 0x000002D790F0B110> Sales>7.55\n",
      "node_proportion_total  0.3037404574597231\n",
      "Node_proportion_gain  0.0850141052491743\n",
      "Split Found:  n4 [['Age', 55.5, 719209.0499999999, 2]] left <TREEplus.NodeClass object at 0x000002D790FBB690> Age>55.5\n",
      "node_proportion_total  0.3225733348187036\n",
      "Node_proportion_gain  0.018832877358980482\n",
      "Split Found:  n8 [['Income', 63.5, 299879.2083333334, 3]] left <TREEplus.NodeClass object at 0x000002D790FD87D0> Income>63.5\n",
      "node_proportion_total  0.3315584612149342\n",
      "Node_proportion_gain  0.008985126396230614\n",
      "This split isn't good now i cut it [reg delta]\n",
      "Split Found:  n9 [['Sales', 3.46, 421844.2258064516, 3]] right <TREEplus.NodeClass object at 0x000002D7910386D0> Sales>3.46\n",
      "node_proportion_total  0.34105493273373094\n",
      "Node_proportion_gain  0.009496471518796734\n",
      "This split isn't good now i cut it [reg delta]\n",
      "Split Found:  n5 [['CompPrice', 99.0, 428880.1488095238, 2]] right <TREEplus.NodeClass object at 0x000002D791003E10> CompPrice>99.0\n",
      "node_proportion_total  0.369266661368691\n",
      "Node_proportion_gain  0.028211728634960076\n",
      "Node Search Split Error for:  n10 with obs in node:  8  which is less than minimum parent size:  10\n",
      "TypeError: Node search split (CART) failure\n",
      "Split Found:  n11 [['Sales', 9.79, 389079.84210526315, 3]] right <TREEplus.NodeClass object at 0x000002D79109B9D0> Sales>9.79\n",
      "node_proportion_total  0.38261355737300445\n",
      "Node_proportion_gain  0.013346896004313435\n",
      "Split Found:  n22 [['ShelveLoc', ('Bad', 'Medium'), 242485.16666666666, 4]] left <TREEplus.NodeClass object at 0x000002D791021810> ShelveLoc in ('Bad', 'Medium')\n",
      "node_proportion_total  0.40608444293707296\n",
      "Node_proportion_gain  0.02347088556406851\n",
      "Split Found:  n23 [['CompPrice', 115.5, 150556.95454545453, 4]] right <TREEplus.NodeClass object at 0x000002D7910C3B90> CompPrice>115.5\n",
      "node_proportion_total  0.41173768686513823\n",
      "Node_proportion_gain  0.005653243928065266\n",
      "This split isn't good now i cut it [reg delta]\n",
      "Split Found:  n3 [['Sales', 7.555, 2306640.1096096095, 1]] right <TREEplus.NodeClass object at 0x000002D790FB1A50> Sales>7.55\n",
      "node_proportion_total  0.5266213575177073\n",
      "Node_proportion_gain  0.1148836706525691\n",
      "Split Found:  n6 [['CompPrice', 135.5, 1366800.9615384615, 2]] left <TREEplus.NodeClass object at 0x000002D791125F10> CompPrice>135.5\n",
      "node_proportion_total  0.5904547729125407\n",
      "Node_proportion_gain  0.06383341539483334\n",
      "Split Found:  n12 [['Sales', 5.045, 782523.375, 3]] left <TREEplus.NodeClass object at 0x000002D79117E410> Sales>5.04\n",
      "node_proportion_total  0.6067973524389286\n",
      "Node_proportion_gain  0.016342579526387957\n",
      "Split Found:  n24 [['Age', 51.5, 301726.2666666667, 4]] left <TREEplus.NodeClass object at 0x000002D7910B9310> Age>51.5\n",
      "node_proportion_total  0.613221678916643\n",
      "Node_proportion_gain  0.006424326477714404\n",
      "This split isn't good now i cut it [reg delta]\n",
      "Split Found:  n25 [['CompPrice', 124.5, 483456.5257142857, 4]] right <TREEplus.NodeClass object at 0x000002D7910E2710> CompPrice>124.5\n",
      "node_proportion_total  0.6263449951182213\n",
      "Node_proportion_gain  0.01312331620157825\n",
      "Split Found:  n13 [['Sales', 3.5700000000000003, 587932.6571428572, 3]] right <TREEplus.NodeClass object at 0x000002D791143D10> Sales>3.57\n",
      "node_proportion_total  0.6368684557456081\n",
      "Node_proportion_gain  0.01052346062738685\n",
      "Node Search Split Error for:  n26 with obs in node:  5  which is less than minimum parent size:  10\n",
      "TypeError: Node search split (CART) failure\n",
      "Split Found:  n27 [['Advertising', 8.0, 451974.2625, 4]] right <TREEplus.NodeClass object at 0x000002D7911AAC10> Advertising>8.0\n",
      "node_proportion_total  0.6429501728871908\n",
      "Node_proportion_gain  0.0060817171415826765\n",
      "This split isn't good now i cut it [reg delta]\n",
      "Split Found:  n7 [['CompPrice', 146.5, 953798.2333333334, 2]] right <TREEplus.NodeClass object at 0x000002D791043BD0> CompPrice>146.5\n",
      "node_proportion_total  0.6817208890549107\n",
      "Node_proportion_gain  0.038770716167719876\n",
      "Split Found:  n14 [['ShelveLoc', ('Bad', 'Medium'), 740536.9534883721, 3]] left <TREEplus.NodeClass object at 0x000002D790E8B110> ShelveLoc in ('Bad', 'Medium')\n",
      "node_proportion_total  0.6960011703897575\n",
      "Node_proportion_gain  0.014280281334846823\n",
      "Split Found:  n28 [['Sales', 11.99, 246840.25757575757, 4]] left <TREEplus.NodeClass object at 0x000002D791266350> Sales>11.99\n",
      "node_proportion_total  0.7109977731608301\n",
      "Node_proportion_gain  0.01499660277107262\n",
      "Split Found:  n29 [['Sales', 10.7, 498005.9369369368, 4]] right <TREEplus.NodeClass object at 0x000002D791200410> Sales>10.7\n",
      "node_proportion_total  0.7276755906465124\n",
      "Node_proportion_gain  0.01667781748568231\n",
      "Split Found:  n15 [['CompPrice', 150.5, 215310.0857142857, 3]] right <TREEplus.NodeClass object at 0x000002D791246090> CompPrice>150.5\n",
      "node_proportion_total  0.7284547450134999\n",
      "Node_proportion_gain  0.0007791543669875001\n",
      "This split isn't good now i cut it [reg delta]\n",
      "training mse 291.04\n",
      "\n",
      "\n",
      "Folds:  3\n",
      "Split Found:  n1 [['CompPrice', 121.5, 3442491.6258503404, 0]] start <TREEplus.NodeClass object at 0x000002D790F1AE90> CompPrice>121.5\n",
      "node_proportion_total  0.1969963363993351\n",
      "Split Found:  n2 [['CompPrice', 95.0, 1145497.9797979798, 1]] left <TREEplus.NodeClass object at 0x000002D791336890> CompPrice>95.0\n",
      "node_proportion_total  0.2803797877433978\n",
      "Node_proportion_gain  0.08338345134406269\n",
      "Node Search Split Error for:  n4 with obs in node:  6  which is less than minimum parent size:  10\n",
      "TypeError: Node search split (CART) failure\n",
      "Split Found:  n5 [['Sales', 9.79, 1130920.1666666667, 2]] right <TREEplus.NodeClass object at 0x000002D7913959D0> Sales>9.79\n",
      "node_proportion_total  0.33297953116450063\n",
      "Node_proportion_gain  0.05259974342110285\n",
      "Split Found:  n10 [['ShelveLoc', ('Bad', 'Medium'), 995073.0467532467, 3]] left <TREEplus.NodeClass object at 0x000002D791395C50> ShelveLoc in ('Bad', 'Medium')\n",
      "node_proportion_total  0.35905868902424865\n",
      "Node_proportion_gain  0.026079157859748014\n",
      "Split Found:  n20 [['CompPrice', 114.5, 179598.2, 4]] left <TREEplus.NodeClass object at 0x000002D7913F3390> CompPrice>114.5\n",
      "node_proportion_total  0.36004960074900655\n",
      "Node_proportion_gain  0.0009909117247579036\n",
      "This split isn't good now i cut it [reg delta]\n",
      "Split Found:  n21 [['Sales', 7.315, 819234.9465811965, 4]] right <TREEplus.NodeClass object at 0x000002D7913FA850> Sales>7.32\n",
      "node_proportion_total  0.38541233939946234\n",
      "Node_proportion_gain  0.025362738650455796\n",
      "Split Found:  n11 [['Advertising', 2.0, 140574.23076923078, 3]] right <TREEplus.NodeClass object at 0x000002D790DD2B10> Advertising>2.0\n",
      "node_proportion_total  0.3924643834968821\n",
      "Node_proportion_gain  0.007052044097419774\n",
      "This split isn't good now i cut it [reg delta]\n",
      "Split Found:  n3 [['Sales', 7.555, 2324061.005, 1]] right <TREEplus.NodeClass object at 0x000002D791322050> Sales>7.55\n",
      "node_proportion_total  0.4987896491885173\n",
      "Node_proportion_gain  0.1063252656916352\n",
      "Split Found:  n6 [['CompPrice', 135.5, 1381817.82, 2]] left <TREEplus.NodeClass object at 0x000002D7914ADF10> CompPrice>135.5\n",
      "node_proportion_total  0.563739439880974\n",
      "Node_proportion_gain  0.06494979069245665\n",
      "Split Found:  n12 [['Sales', 3.65, 814191.7555555556, 3]] left <TREEplus.NodeClass object at 0x000002D7914F5090> Sales>3.65\n",
      "node_proportion_total  0.5805530118063372\n",
      "Node_proportion_gain  0.016813571925363258\n",
      "Node Search Split Error for:  n24 with obs in node:  5  which is less than minimum parent size:  10\n",
      "TypeError: Node search split (CART) failure\n",
      "Split Found:  n25 [['Age', 76.5, 705560.025, 4]] right <TREEplus.NodeClass object at 0x000002D7914E6110> Age>76.5\n",
      "node_proportion_total  0.5888546779980117\n",
      "Node_proportion_gain  0.008301666191674495\n",
      "This split isn't good now i cut it [reg delta]\n",
      "Split Found:  n13 [['Sales', 3.9350000000000005, 571285.2499999999, 3]] right <TREEplus.NodeClass object at 0x000002D791506290> Sales>3.94\n",
      "node_proportion_total  0.5976874721803597\n",
      "Node_proportion_gain  0.008832794182347947\n",
      "This split isn't good now i cut it [reg delta]\n",
      "Split Found:  n7 [['CompPrice', 146.5, 956986.8539765319, 2]] right <TREEplus.NodeClass object at 0x000002D79138FC90> CompPrice>146.5\n",
      "node_proportion_total  0.6360725702499558\n",
      "Node_proportion_gain  0.03838509806959611\n",
      "Split Found:  n14 [['Sales', 10.7, 728254.3488372093, 3]] left <TREEplus.NodeClass object at 0x000002D79157F150> Sales>10.7\n",
      "node_proportion_total  0.6577315003740173\n",
      "Node_proportion_gain  0.021658930124061504\n",
      "Split Found:  n28 [['ShelveLoc', ('Bad', 'Medium'), 573021.0212121212, 4]] left <TREEplus.NodeClass object at 0x000002D7915D95D0> ShelveLoc in ('Bad', 'Medium')\n",
      "node_proportion_total  0.6688240767244913\n",
      "Node_proportion_gain  0.011092576350474004\n",
      "Split Found:  n29 [['ShelveLoc', ('Bad', 'Medium'), 158244.57142857142, 4]] right <TREEplus.NodeClass object at 0x000002D7914B5C50> ShelveLoc in ('Bad', 'Medium')\n",
      "node_proportion_total  0.6788365959892042\n",
      "Node_proportion_gain  0.010012519264712916\n",
      "Split Found:  n15 [['Population', 228.5, 231999.32499999998, 3]] right <TREEplus.NodeClass object at 0x000002D7915AAA10> Population>228.5\n",
      "node_proportion_total  0.6800740336177076\n",
      "Node_proportion_gain  0.0012374376285033684\n",
      "This split isn't good now i cut it [reg delta]\n",
      "training mse 332.38\n",
      "\n",
      "\n",
      "Folds:  4\n",
      "Split Found:  n1 [['CompPrice', 121.5, 3406896.1453864044, 0]] start <TREEplus.NodeClass object at 0x000002D790F09790> CompPrice>121.5\n",
      "node_proportion_total  0.2073472644596289\n",
      "Split Found:  n2 [['Sales', 7.55, 1132235.732976827, 1]] left <TREEplus.NodeClass object at 0x000002D791420310> Sales>7.55\n",
      "node_proportion_total  0.2859375824116045\n",
      "Node_proportion_gain  0.0785903179519756\n",
      "Split Found:  n4 [['ShelveLoc', ('Bad', 'Medium'), 703579.7000000001, 2]] left <TREEplus.NodeClass object at 0x000002D7915998D0> ShelveLoc in ('Bad', 'Medium')\n",
      "node_proportion_total  0.3038358012952254\n",
      "Node_proportion_gain  0.01789821888362092\n",
      "Node Search Split Error for:  n8 with obs in node:  5  which is less than minimum parent size:  10\n",
      "TypeError: Node search split (CART) failure\n",
      "Split Found:  n9 [['Age', 54.5, 614572.5919117647, 3]] right <TREEplus.NodeClass object at 0x000002D791715F10> Age>54.5\n",
      "node_proportion_total  0.3163649619189046\n",
      "Node_proportion_gain  0.012529160623679203\n",
      "Split Found:  n18 [['Income', 49.5, 229666.14285714287, 4]] left <TREEplus.NodeClass object at 0x000002D791754F50> Income>49.5\n",
      "node_proportion_total  0.3227585861756098\n",
      "Node_proportion_gain  0.006393624256705199\n",
      "This split isn't good now i cut it [reg delta]\n",
      "Split Found:  n19 [['Population', 179.0, 386868.1214285714, 4]] right <TREEplus.NodeClass object at 0x000002D79175B650> Population>179.0\n",
      "node_proportion_total  0.32966414260780175\n",
      "Node_proportion_gain  0.006905556432191928\n",
      "This split isn't good now i cut it [reg delta]\n",
      "Split Found:  n5 [['CompPrice', 99.0, 438226.8015873016, 2]] right <TREEplus.NodeClass object at 0x000002D7916FC8D0> CompPrice>99.0\n",
      "node_proportion_total  0.37665106090234124\n",
      "Node_proportion_gain  0.04698691829453949\n",
      "Node Search Split Error for:  n10 with obs in node:  9  which is less than minimum parent size:  10\n",
      "TypeError: Node search split (CART) failure\n",
      "Split Found:  n11 [['Sales', 9.79, 400640.1899313501, 3]] right <TREEplus.NodeClass object at 0x000002D791497E50> Sales>9.79\n",
      "node_proportion_total  0.3939173434316617\n",
      "Node_proportion_gain  0.017266282529320442\n",
      "Split Found:  n22 [['ShelveLoc', ('Bad', 'Medium'), 254214.63392857142, 4]] left <TREEplus.NodeClass object at 0x000002D7917D2A50> ShelveLoc in ('Bad', 'Medium')\n",
      "node_proportion_total  0.4167120011933345\n",
      "Node_proportion_gain  0.022794657761672832\n",
      "Split Found:  n23 [['CompPrice', 115.5, 150556.95454545453, 4]] right <TREEplus.NodeClass object at 0x000002D79178D750> CompPrice>115.5\n",
      "node_proportion_total  0.42192620793244967\n",
      "Node_proportion_gain  0.005214206739115157\n",
      "This split isn't good now i cut it [reg delta]\n",
      "Split Found:  n3 [['Sales', 7.555, 2304273.84713615, 1]] right <TREEplus.NodeClass object at 0x000002D791685090> Sales>7.55\n",
      "node_proportion_total  0.5441005153468478\n",
      "Node_proportion_gain  0.12217430741439811\n",
      "Split Found:  n6 [['CompPrice', 135.5, 1395115.8541666667, 2]] left <TREEplus.NodeClass object at 0x000002D790CD2C90> CompPrice>135.5\n",
      "node_proportion_total  0.6051408031597152\n",
      "Node_proportion_gain  0.06104028781286741\n",
      "Split Found:  n12 [['Sales', 3.65, 785446.4325581396, 3]] left <TREEplus.NodeClass object at 0x000002D7918577D0> Sales>3.65\n",
      "node_proportion_total  0.6209974824180109\n",
      "Node_proportion_gain  0.015856679258295703\n",
      "Node Search Split Error for:  n24 with obs in node:  5  which is less than minimum parent size:  10\n",
      "TypeError: Node search split (CART) failure\n",
      "Split Found:  n25 [['Education', 11.5, 676849.2647058824, 4]] right <TREEplus.NodeClass object at 0x000002D791808B10> Education>11.5\n",
      "node_proportion_total  0.6292619250505822\n",
      "Node_proportion_gain  0.008264442632571312\n",
      "This split isn't good now i cut it [reg delta]\n",
      "Split Found:  n13 [['Sales', 3.5700000000000003, 613360.5272727273, 3]] right <TREEplus.NodeClass object at 0x000002D7918A7E10> Sales>3.57\n",
      "node_proportion_total  0.6384291395993732\n",
      "Node_proportion_gain  0.009167214548790992\n",
      "This split isn't good now i cut it [reg delta]\n",
      "Split Found:  n7 [['CompPrice', 146.5, 924757.473474801, 2]] right <TREEplus.NodeClass object at 0x000002D79185E490> CompPrice>146.5\n",
      "node_proportion_total  0.6831457114171748\n",
      "Node_proportion_gain  0.04471657181780164\n",
      "Split Found:  n14 [['Sales', 10.7, 695506.2248062015, 3]] left <TREEplus.NodeClass object at 0x000002D7919320D0> Sales>10.7\n",
      "node_proportion_total  0.7132794762967788\n",
      "Node_proportion_gain  0.030133764879603953\n",
      "Split Found:  n28 [['ShelveLoc', ('Bad', 'Medium'), 563892.9303030303, 4]] left <TREEplus.NodeClass object at 0x000002D791946A10> ShelveLoc in ('Bad', 'Medium')\n",
      "node_proportion_total  0.7259461271230854\n",
      "Node_proportion_gain  0.01266665082630658\n",
      "Split Found:  n29 [['CompPrice', 133.5, 134766.11111111112, 4]] right <TREEplus.NodeClass object at 0x000002D7919791D0> CompPrice>133.5\n",
      "node_proportion_total  0.7346540331824056\n",
      "Node_proportion_gain  0.008707906059320258\n",
      "This split isn't good now i cut it [reg delta]\n",
      "Split Found:  n15 [['CompPrice', 152.0, 233881.28571428574, 3]] right <TREEplus.NodeClass object at 0x000002D7919451D0> CompPrice>152.0\n",
      "node_proportion_total  0.7359096583378433\n",
      "Node_proportion_gain  0.0012556251554376452\n",
      "This split isn't good now i cut it [reg delta]\n",
      "training mse 236.62\n",
      "\n",
      "\n",
      "Folds:  5\n",
      "Split Found:  n1 [['CompPrice', 127.5, 3410592.379748485, 0]] start <TREEplus.NodeClass object at 0x000002D790D03810> CompPrice>127.5\n",
      "node_proportion_total  0.20982115440567525\n",
      "Split Found:  n2 [['Sales', 7.55, 1714651.9796703297, 1]] left <TREEplus.NodeClass object at 0x000002D7919A0A50> Sales>7.55\n",
      "node_proportion_total  0.3223075357771071\n",
      "Node_proportion_gain  0.11248638137143183\n",
      "Split Found:  n4 [['Age', 53.5, 1132930.0169491526, 2]] left <TREEplus.NodeClass object at 0x000002D791A29490> Age>53.5\n",
      "node_proportion_total  0.35540241785790544\n",
      "Node_proportion_gain  0.03309488208079836\n",
      "Split Found:  n8 [['Income', 67.0, 408185.641025641, 3]] left <TREEplus.NodeClass object at 0x000002D791993750> Income>67.0\n",
      "node_proportion_total  0.3723719820632125\n",
      "Node_proportion_gain  0.01696956420530704\n",
      "Split Found:  n16 [['Age', 40.5, 165705.4857142857, 4]] left <TREEplus.NodeClass object at 0x000002D791423690> Age>40.5\n",
      "node_proportion_total  0.3791773343595616\n",
      "Node_proportion_gain  0.006805352296349099\n",
      "This split isn't good now i cut it [reg delta]\n",
      "Split Found:  n17 [['Education', 12.5, 244106.4523809523, 4]] right <TREEplus.NodeClass object at 0x000002D791AD7CD0> Education>12.5\n",
      "node_proportion_total  0.3837917801410465\n",
      "Node_proportion_gain  0.004614445781484899\n",
      "This split isn't good now i cut it [reg delta]\n",
      "Split Found:  n9 [['Sales', 2.755, 729241.6855345912, 3]] right <TREEplus.NodeClass object at 0x000002D791AC95D0> Sales>2.75\n",
      "node_proportion_total  0.3984021582551071\n",
      "Node_proportion_gain  0.01461037811406063\n",
      "Node Search Split Error for:  n18 with obs in node:  6  which is less than minimum parent size:  10\n",
      "TypeError: Node search split (CART) failure\n",
      "Split Found:  n19 [['ShelveLoc', ('Medium', 'Good'), 631496.8366013071, 4]] right <TREEplus.NodeClass object at 0x000002D791B5A890> ShelveLoc in ('Medium', 'Good')\n",
      "node_proportion_total  0.40953771192610117\n",
      "Node_proportion_gain  0.011135553670994058\n",
      "Split Found:  n5 [['CompPrice', 99.0, 592208.0221674877, 2]] right <TREEplus.NodeClass object at 0x000002D791AA3590> CompPrice>99.0\n",
      "node_proportion_total  0.45007555276393885\n",
      "Node_proportion_gain  0.04053784083783768\n",
      "Node Search Split Error for:  n10 with obs in node:  7  which is less than minimum parent size:  10\n",
      "TypeError: Node search split (CART) failure\n",
      "Split Found:  n11 [['Advertising', 17.5, 563090.9358974359, 3]] right <TREEplus.NodeClass object at 0x000002D791BB5CD0> Advertising>17.5\n",
      "node_proportion_total  0.47194936529833664\n",
      "Node_proportion_gain  0.021873812534397796\n",
      "Split Found:  n22 [['Sales', 9.715, 480098.87557603687, 4]] left <TREEplus.NodeClass object at 0x000002D791BA34D0> Sales>9.71\n",
      "node_proportion_total  0.49419569127925045\n",
      "Node_proportion_gain  0.022246325980913806\n",
      "Node Search Split Error for:  n23 with obs in node:  6  which is less than minimum parent size:  10\n",
      "TypeError: Node search split (CART) failure\n",
      "Split Found:  n3 [['Sales', 7.5649999999999995, 1727400.0990173845, 1]] right <TREEplus.NodeClass object at 0x000002D7919EE750> Sales>7.56\n",
      "node_proportion_total  0.6026181562629683\n",
      "Node_proportion_gain  0.10842246498371788\n",
      "Split Found:  n6 [['CompPrice', 135.5, 988873.0606060604, 2]] left <TREEplus.NodeClass object at 0x000002D790C6D010> CompPrice>135.5\n",
      "node_proportion_total  0.6304152378852922\n",
      "Node_proportion_gain  0.02779708162232386\n",
      "Split Found:  n12 [['Sales', 5.63, 383411.64999999997, 3]] left <TREEplus.NodeClass object at 0x000002D791BA0A90> Sales>5.63\n",
      "node_proportion_total  0.638412711295813\n",
      "Node_proportion_gain  0.007997473410520817\n",
      "This split isn't good now i cut it [reg delta]\n",
      "Split Found:  n13 [['Sales', 3.5700000000000003, 608076.7090909092, 3]] right <TREEplus.NodeClass object at 0x000002D791BE8790> Sales>3.57\n",
      "node_proportion_total  0.6487797674466933\n",
      "Node_proportion_gain  0.010367056150880294\n",
      "Node Search Split Error for:  n26 with obs in node:  5  which is less than minimum parent size:  10\n",
      "TypeError: Node search split (CART) failure\n",
      "Split Found:  n27 [['CompPrice', 142.0, 472231.73333333334, 4]] right <TREEplus.NodeClass object at 0x000002D791C8DF10> CompPrice>142.0\n",
      "node_proportion_total  0.6553862005984654\n",
      "Node_proportion_gain  0.0066064331517721175\n",
      "This split isn't good now i cut it [reg delta]\n",
      "Split Found:  n7 [['CompPrice', 146.0, 747782.4, 2]] right <TREEplus.NodeClass object at 0x000002D7919A35D0> CompPrice>146.0\n",
      "node_proportion_total  0.6925799269016618\n",
      "Node_proportion_gain  0.037193726303196395\n",
      "Split Found:  n14 [['Sales', 11.879999999999999, 498094.90625, 3]] left <TREEplus.NodeClass object at 0x000002D791CEA010> Sales>11.88\n",
      "node_proportion_total  0.7044927312563936\n",
      "Node_proportion_gain  0.011912804354731743\n",
      "Split Found:  n28 [['ShelveLoc', ('Bad', 'Medium'), 421885.5714285714, 4]] left <TREEplus.NodeClass object at 0x000002D791CE52D0> ShelveLoc in ('Bad', 'Medium')\n",
      "node_proportion_total  0.7130018772240592\n",
      "Node_proportion_gain  0.00850914596766561\n",
      "This split isn't good now i cut it [reg delta]\n",
      "Node Search Split Error for:  n29 with obs in node:  8  which is less than minimum parent size:  10\n",
      "TypeError: Node search split (CART) failure\n",
      "Split Found:  n15 [['Income', 81.5, 251765.1111111111, 3]] right <TREEplus.NodeClass object at 0x000002D7915D3290> Income>81.5\n",
      "node_proportion_total  0.7156780253986273\n",
      "Node_proportion_gain  0.0026761481745681825\n",
      "This split isn't good now i cut it [reg delta]\n",
      "training mse 240.19\n",
      "\n",
      "\n",
      "Folds:  6\n",
      "Split Found:  n1 [['CompPrice', 127.5, 3370501.7954781703, 0]] start <TREEplus.NodeClass object at 0x000002D790C34710> CompPrice>127.5\n",
      "node_proportion_total  0.19952435156559611\n",
      "Split Found:  n2 [['Sales', 9.79, 1696347.7437398375, 1]] left <TREEplus.NodeClass object at 0x000002D791D0B110> Sales>9.79\n",
      "node_proportion_total  0.310196879746371\n",
      "Node_proportion_gain  0.11067252818077489\n",
      "Split Found:  n4 [['CompPrice', 95.0, 1523089.3731527093, 2]] left <TREEplus.NodeClass object at 0x000002D791E2CF50> CompPrice>95.0\n",
      "node_proportion_total  0.3490405388226531\n",
      "Node_proportion_gain  0.03884365907628212\n",
      "Node Search Split Error for:  n8 with obs in node:  7  which is less than minimum parent size:  10\n",
      "TypeError: Node search split (CART) failure\n",
      "Split Found:  n9 [['Age', 53.5, 1477709.7389668147, 3]] right <TREEplus.NodeClass object at 0x000002D791E86590> Age>53.5\n",
      "node_proportion_total  0.38557126615461534\n",
      "Node_proportion_gain  0.03653072733196222\n",
      "Split Found:  n18 [['Income', 89.5, 553651.9, 4]] left <TREEplus.NodeClass object at 0x000002D791DD8890> Income>89.5\n",
      "node_proportion_total  0.3985349093768646\n",
      "Node_proportion_gain  0.012963643222249244\n",
      "Split Found:  n19 [['Sales', 2.755, 928542.9594594594, 4]] right <TREEplus.NodeClass object at 0x000002D791ED3DD0> Sales>2.75\n",
      "node_proportion_total  0.41931237638310537\n",
      "Node_proportion_gain  0.02077746700624078\n",
      "Split Found:  n5 [['CompPrice', 105.5, 182008.00877192983, 2]] right <TREEplus.NodeClass object at 0x000002D791DA4310> CompPrice>105.5\n",
      "node_proportion_total  0.4462913650900786\n",
      "Node_proportion_gain  0.02697898870697324\n",
      "Node Search Split Error for:  n10 with obs in node:  6  which is less than minimum parent size:  10\n",
      "TypeError: Node search split (CART) failure\n",
      "Split Found:  n11 [['Advertising', 2.0, 159014.37142857147, 3]] right <TREEplus.NodeClass object at 0x000002D791F4DC10> Advertising>2.0\n",
      "node_proportion_total  0.45341200996118475\n",
      "Node_proportion_gain  0.007120644871106141\n",
      "This split isn't good now i cut it [reg delta]\n",
      "Split Found:  n3 [['Sales', 7.085, 1702804.4741996233, 1]] right <TREEplus.NodeClass object at 0x000002D791D80210> Sales>7.08\n",
      "node_proportion_total  0.5582737275034744\n",
      "Node_proportion_gain  0.10486171754228962\n",
      "Split Found:  n6 [['CompPrice', 136.0, 893483.8571428573, 2]] left <TREEplus.NodeClass object at 0x000002D791EEFD90> CompPrice>136.0\n",
      "node_proportion_total  0.579206207003648\n",
      "Node_proportion_gain  0.02093247950017363\n",
      "Split Found:  n12 [['Sales', 4.5600000000000005, 427116.66666666674, 3]] left <TREEplus.NodeClass object at 0x000002D791FBA9D0> Sales>4.56\n",
      "node_proportion_total  0.5825915117301813\n",
      "Node_proportion_gain  0.0033853047265333114\n",
      "This split isn't good now i cut it [reg delta]\n",
      "Split Found:  n13 [['Population', 353.5, 468326.5666666666, 3]] right <TREEplus.NodeClass object at 0x000002D791FD7790> Population>353.5\n",
      "node_proportion_total  0.5939463969562605\n",
      "Node_proportion_gain  0.011354885226079192\n",
      "Split Found:  n26 [['CompPrice', 142.0, 310857.64285714284, 4]] left <TREEplus.NodeClass object at 0x000002D791FE6C10> CompPrice>142.0\n",
      "node_proportion_total  0.6012328981909862\n",
      "Node_proportion_gain  0.00728650123472574\n",
      "This split isn't good now i cut it [reg delta]\n",
      "Node Search Split Error for:  n27 with obs in node:  6  which is less than minimum parent size:  10\n",
      "TypeError: Node search split (CART) failure\n",
      "Split Found:  n7 [['CompPrice', 146.5, 817131.4712121212, 2]] right <TREEplus.NodeClass object at 0x000002D791FADD50> CompPrice>146.5\n",
      "node_proportion_total  0.6390606886694453\n",
      "Node_proportion_gain  0.03782779047845908\n",
      "Split Found:  n14 [['Sales', 11.879999999999999, 553707.236111111, 3]] left <TREEplus.NodeClass object at 0x000002D79200E390> Sales>11.88\n",
      "node_proportion_total  0.657439369350083\n",
      "Node_proportion_gain  0.018378680680637638\n",
      "Split Found:  n28 [['CompPrice', 134.5, 480658.78095238097, 4]] left <TREEplus.NodeClass object at 0x000002D791FF1E10> CompPrice>134.5\n",
      "node_proportion_total  0.6639968538692546\n",
      "Node_proportion_gain  0.006557484519171597\n",
      "This split isn't good now i cut it [reg delta]\n",
      "Node Search Split Error for:  n29 with obs in node:  8  which is less than minimum parent size:  10\n",
      "TypeError: Node search split (CART) failure\n",
      "Split Found:  n15 [['Income', 82.5, 266331.39999999997, 3]] right <TREEplus.NodeClass object at 0x000002D79204C510> Income>82.5\n",
      "node_proportion_total  0.6674884822405323\n",
      "Node_proportion_gain  0.0034916283712776996\n",
      "This split isn't good now i cut it [reg delta]\n",
      "training mse 534.66\n",
      "\n",
      "\n",
      "Folds:  7\n",
      "Split Found:  n1 [['CompPrice', 127.5, 3431618.742723493, 0]] start <TREEplus.NodeClass object at 0x000002D79206A5D0> CompPrice>127.5\n",
      "node_proportion_total  0.19673708880705415\n",
      "Split Found:  n2 [['Sales', 7.539999999999999, 1731100.5955514365, 1]] left <TREEplus.NodeClass object at 0x000002D7930F0A90> Sales>7.54\n",
      "node_proportion_total  0.29990233060382\n",
      "Node_proportion_gain  0.10316524179676584\n",
      "Split Found:  n4 [['Age', 53.5, 1125288.5365517242, 2]] left <TREEplus.NodeClass object at 0x000002D78C809590> Age>53.5\n",
      "node_proportion_total  0.3302951986777674\n",
      "Node_proportion_gain  0.03039286807394742\n",
      "Split Found:  n8 [['Income', 67.0, 404791.16025641025, 3]] left <TREEplus.NodeClass object at 0x000002D7931746D0> Income>67.0\n",
      "node_proportion_total  0.34977289461917443\n",
      "Node_proportion_gain  0.019477695941407025\n",
      "Split Found:  n16 [['Age', 40.5, 179045.45238095237, 4]] left <TREEplus.NodeClass object at 0x000002D791FE3750> Age>40.5\n",
      "node_proportion_total  0.35621919901945026\n",
      "Node_proportion_gain  0.006446304400275826\n",
      "This split isn't good now i cut it [reg delta]\n",
      "Split Found:  n17 [['ShelveLoc', ('Bad', 'Good'), 227018.08571428567, 4]] right <TREEplus.NodeClass object at 0x000002D7931ABE50> ShelveLoc in ('Bad', 'Good')\n",
      "node_proportion_total  0.3593730473221153\n",
      "Node_proportion_gain  0.003153848302665019\n",
      "This split isn't good now i cut it [reg delta]\n",
      "Split Found:  n9 [['Sales', 2.755, 725015.5897435897, 3]] right <TREEplus.NodeClass object at 0x000002D79317FED0> Sales>2.75\n",
      "node_proportion_total  0.37398549168674183\n",
      "Node_proportion_gain  0.014612444364626553\n",
      "Node Search Split Error for:  n18 with obs in node:  6  which is less than minimum parent size:  10\n",
      "TypeError: Node search split (CART) failure\n",
      "Split Found:  n19 [['ShelveLoc', ('Medium', 'Good'), 627402.2342342343, 4]] right <TREEplus.NodeClass object at 0x000002D7920B7B50> ShelveLoc in ('Medium', 'Good')\n",
      "node_proportion_total  0.38694268792637376\n",
      "Node_proportion_gain  0.01295719623963193\n",
      "Split Found:  n5 [['CompPrice', 99.0, 617308.3596491228, 2]] right <TREEplus.NodeClass object at 0x000002D793163910> CompPrice>99.0\n",
      "node_proportion_total  0.4432899676177559\n",
      "Node_proportion_gain  0.056347279691382146\n",
      "Node Search Split Error for:  n10 with obs in node:  8  which is less than minimum parent size:  10\n",
      "TypeError: Node search split (CART) failure\n",
      "Split Found:  n11 [['Sales', 9.79, 583805.6176470588, 3]] right <TREEplus.NodeClass object at 0x000002D793271190> Sales>9.79\n",
      "node_proportion_total  0.4716726147447788\n",
      "Node_proportion_gain  0.028382647127022875\n",
      "Split Found:  n22 [['ShelveLoc', ('Bad', 'Medium'), 397811.56000000006, 4]] left <TREEplus.NodeClass object at 0x000002D793094050> ShelveLoc in ('Bad', 'Medium')\n",
      "node_proportion_total  0.5053910022391713\n",
      "Node_proportion_gain  0.03371838749439254\n",
      "Split Found:  n23 [['Advertising', 2.0, 191322.68888888892, 4]] right <TREEplus.NodeClass object at 0x000002D793294710> Advertising>2.0\n",
      "node_proportion_total  0.5118773967349743\n",
      "Node_proportion_gain  0.006486394495803016\n",
      "This split isn't good now i cut it [reg delta]\n",
      "Split Found:  n3 [['Sales', 7.555, 1724174.7954125046, 1]] right <TREEplus.NodeClass object at 0x000002D792059FD0> Sales>7.55\n",
      "node_proportion_total  0.5872027169534036\n",
      "Node_proportion_gain  0.0753253202184293\n",
      "Split Found:  n6 [['CompPrice', 142.0, 981079.4536679537, 2]] left <TREEplus.NodeClass object at 0x000002D7933046D0> CompPrice>142.0\n",
      "node_proportion_total  0.6217920511713771\n",
      "Node_proportion_gain  0.0345893342179735\n",
      "Split Found:  n12 [['Population', 131.5, 650912.1761904762, 3]] left <TREEplus.NodeClass object at 0x000002D793314110> Population>131.5\n",
      "node_proportion_total  0.6288343383749021\n",
      "Node_proportion_gain  0.007042287203524955\n",
      "This split isn't good now i cut it [reg delta]\n",
      "Split Found:  n13 [['Sales', 5.48, 331949.28571428574, 3]] right <TREEplus.NodeClass object at 0x000002D79332CF90> Sales>5.48\n",
      "node_proportion_total  0.6352373900237244\n",
      "Node_proportion_gain  0.006403051648822267\n",
      "This split isn't good now i cut it [reg delta]\n",
      "Split Found:  n7 [['CompPrice', 146.5, 752487.750877193, 2]] right <TREEplus.NodeClass object at 0x000002D7933246D0> CompPrice>146.5\n",
      "node_proportion_total  0.6715142397098383\n",
      "Node_proportion_gain  0.03627684968611389\n",
      "Split Found:  n14 [['Sales', 11.879999999999999, 485594.825, 3]] left <TREEplus.NodeClass object at 0x000002D79200FA10> Sales>11.88\n",
      "node_proportion_total  0.6879559629949802\n",
      "Node_proportion_gain  0.01644172328514193\n",
      "Split Found:  n28 [['ShelveLoc', ('Medium', 'Good'), 409504.20000000007, 4]] left <TREEplus.NodeClass object at 0x000002D791F42D50> ShelveLoc in ('Medium', 'Good')\n",
      "node_proportion_total  0.6950294461101044\n",
      "Node_proportion_gain  0.007073483115124235\n",
      "This split isn't good now i cut it [reg delta]\n",
      "Node Search Split Error for:  n29 with obs in node:  8  which is less than minimum parent size:  10\n",
      "TypeError: Node search split (CART) failure\n",
      "Split Found:  n15 [['Income', 81.5, 269446.6, 3]] right <TREEplus.NodeClass object at 0x000002D793250A10> Income>81.5\n",
      "node_proportion_total  0.697855318333448\n",
      "Node_proportion_gain  0.0028258722233436284\n",
      "This split isn't good now i cut it [reg delta]\n",
      "training mse 279.75\n",
      "\n",
      "\n",
      "Folds:  8\n",
      "Split Found:  n1 [['CompPrice', 121.5, 3349617.016203704, 0]] start <TREEplus.NodeClass object at 0x000002D7933D25D0> CompPrice>121.5\n",
      "node_proportion_total  0.20387628123160267\n",
      "Split Found:  n2 [['Sales', 7.55, 1144636.7468004152, 1]] left <TREEplus.NodeClass object at 0x000002D793478A10> Sales>7.55\n",
      "node_proportion_total  0.2843658133024414\n",
      "Node_proportion_gain  0.0804895320708387\n",
      "Split Found:  n4 [['ShelveLoc', ('Bad', 'Medium'), 740301.2000000002, 2]] left <TREEplus.NodeClass object at 0x000002D7934C3350> ShelveLoc in ('Bad', 'Medium')\n",
      "node_proportion_total  0.30478261578245713\n",
      "Node_proportion_gain  0.02041680248001576\n",
      "Node Search Split Error for:  n8 with obs in node:  5  which is less than minimum parent size:  10\n",
      "TypeError: Node search split (CART) failure\n",
      "Split Found:  n9 [['Age', 54.5, 651946.5786963433, 3]] right <TREEplus.NodeClass object at 0x000002D7934ED010> Age>54.5\n",
      "node_proportion_total  0.3224436576200938\n",
      "Node_proportion_gain  0.01766104183763667\n",
      "Split Found:  n18 [['Income', 49.5, 244893.57142857145, 4]] left <TREEplus.NodeClass object at 0x000002D79350DD50> Income>49.5\n",
      "node_proportion_total  0.3315694839870029\n",
      "Node_proportion_gain  0.009125826366909118\n",
      "This split isn't good now i cut it [reg delta]\n",
      "Split Found:  n19 [['Sales', 3.2300000000000004, 409226.30000000005, 4]] right <TREEplus.NodeClass object at 0x000002D79353A310> Sales>3.23\n",
      "node_proportion_total  0.3377931500897519\n",
      "Node_proportion_gain  0.006223666102748993\n",
      "This split isn't good now i cut it [reg delta]\n",
      "Split Found:  n5 [['CompPrice', 99.0, 412751.00304878055, 2]] right <TREEplus.NodeClass object at 0x000002D7934CCF50> CompPrice>99.0\n",
      "node_proportion_total  0.3768128792823914\n",
      "Node_proportion_gain  0.03901972919263946\n",
      "Node Search Split Error for:  n10 with obs in node:  8  which is less than minimum parent size:  10\n",
      "TypeError: Node search split (CART) failure\n",
      "Split Found:  n11 [['Sales', 9.79, 379064.7367149758, 3]] right <TREEplus.NodeClass object at 0x000002D793597E50> Sales>9.79\n",
      "node_proportion_total  0.3934800462447952\n",
      "Node_proportion_gain  0.016667166962403834\n",
      "Split Found:  n22 [['ShelveLoc', ('Bad', 'Medium'), 246036.57142857142, 4]] left <TREEplus.NodeClass object at 0x000002D79359FBD0> ShelveLoc in ('Bad', 'Medium')\n",
      "node_proportion_total  0.4223330893684059\n",
      "Node_proportion_gain  0.0288530431236107\n",
      "Split Found:  n23 [['Income', 88.5, 137699.10389610392, 4]] right <TREEplus.NodeClass object at 0x000002D7935BFFD0> Income>88.5\n",
      "node_proportion_total  0.42646986669218395\n",
      "Node_proportion_gain  0.00413677732377804\n",
      "This split isn't good now i cut it [reg delta]\n",
      "Split Found:  n3 [['Sales', 7.555, 2232647.7826086953, 1]] right <TREEplus.NodeClass object at 0x000002D7933BC190> Sales>7.55\n",
      "node_proportion_total  0.5413899447962178\n",
      "Node_proportion_gain  0.11492007810403387\n",
      "Split Found:  n6 [['CompPrice', 136.0, 1268522.8260869565, 2]] left <TREEplus.NodeClass object at 0x000002D7935EAAD0> CompPrice>136.0\n",
      "node_proportion_total  0.5999854443838225\n",
      "Node_proportion_gain  0.05859549958760468\n",
      "Split Found:  n12 [['Sales', 5.045, 748101.3625, 3]] left <TREEplus.NodeClass object at 0x000002D793666950> Sales>5.04\n",
      "node_proportion_total  0.6112033951467672\n",
      "Node_proportion_gain  0.01121795076294474\n",
      "Split Found:  n24 [['Age', 51.5, 294568.8909090909, 4]] left <TREEplus.NodeClass object at 0x000002D7934DFF90> Age>51.5\n",
      "node_proportion_total  0.6188017365110507\n",
      "Node_proportion_gain  0.007598341364283501\n",
      "This split isn't good now i cut it [reg delta]\n",
      "Split Found:  n25 [['CompPrice', 124.5, 456488.04, 4]] right <TREEplus.NodeClass object at 0x000002D7935E2C50> CompPrice>124.5\n",
      "node_proportion_total  0.6320779300707355\n",
      "Node_proportion_gain  0.01327619355968479\n",
      "Split Found:  n13 [['Sales', 3.5700000000000003, 523399.35555555555, 3]] right <TREEplus.NodeClass object at 0x000002D7934DC650> Sales>3.57\n",
      "node_proportion_total  0.6418921806627395\n",
      "Node_proportion_gain  0.009814250592003915\n",
      "This split isn't good now i cut it [reg delta]\n",
      "Split Found:  n7 [['CompPrice', 146.5, 978992.1339950373, 2]] right <TREEplus.NodeClass object at 0x000002D79340E790> CompPrice>146.5\n",
      "node_proportion_total  0.6883003123335477\n",
      "Node_proportion_gain  0.04640813167080826\n",
      "Split Found:  n14 [['Sales', 10.66, 747541.2364130435, 3]] left <TREEplus.NodeClass object at 0x000002D7936BB210> Sales>10.66\n",
      "node_proportion_total  0.709844150212876\n",
      "Node_proportion_gain  0.02154383787932823\n",
      "Split Found:  n28 [['ShelveLoc', ('Bad', 'Medium'), 596878.6777777779, 4]] left <TREEplus.NodeClass object at 0x000002D7935B9990> ShelveLoc in ('Bad', 'Medium')\n",
      "node_proportion_total  0.7241321851965453\n",
      "Node_proportion_gain  0.014288034983669373\n",
      "Split Found:  n29 [['ShelveLoc', ('Bad', 'Medium'), 154599.57142857142, 4]] right <TREEplus.NodeClass object at 0x000002D793746BD0> ShelveLoc in ('Bad', 'Medium')\n",
      "node_proportion_total  0.7376504127230538\n",
      "Node_proportion_gain  0.013518227526508442\n",
      "Split Found:  n15 [['Population', 343.5, 234582, 3]] right <TREEplus.NodeClass object at 0x000002D793724310> Population>343.5\n",
      "node_proportion_total  0.7382208681803825\n",
      "Node_proportion_gain  0.0005704554573287002\n",
      "This split isn't good now i cut it [reg delta]\n",
      "training mse 254.55\n",
      "\n",
      "\n",
      "Folds:  9\n",
      "Split Found:  n1 [['CompPrice', 127.5, 3397219.4247502415, 0]] start <TREEplus.NodeClass object at 0x000002D7915525D0> CompPrice>127.5\n",
      "node_proportion_total  0.2188236439565583\n",
      "Split Found:  n2 [['Sales', 7.55, 1645851.3137706178, 1]] left <TREEplus.NodeClass object at 0x000002D7935EB850> Sales>7.55\n",
      "node_proportion_total  0.3284335888212295\n",
      "Node_proportion_gain  0.10960994486467124\n",
      "Split Found:  n4 [['Age', 53.5, 1058448.1028708133, 2]] left <TREEplus.NodeClass object at 0x000002D793177610> Age>53.5\n",
      "node_proportion_total  0.35977853647848806\n",
      "Node_proportion_gain  0.03134494765725854\n",
      "Split Found:  n8 [['Income', 65.5, 359647.76923076925, 3]] left <TREEplus.NodeClass object at 0x000002D7938CFC10> Income>65.5\n",
      "node_proportion_total  0.37033810271823775\n",
      "Node_proportion_gain  0.010559566239749685\n",
      "Node Search Split Error for:  n16 with obs in node:  9  which is less than minimum parent size:  10\n",
      "TypeError: Node search split (CART) failure\n",
      "Split Found:  n17 [['CompPrice', 120.5, 235429.92500000002, 4]] right <TREEplus.NodeClass object at 0x000002D79205A0D0> CompPrice>120.5\n",
      "node_proportion_total  0.37309156576352004\n",
      "Node_proportion_gain  0.0027534630452822895\n",
      "This split isn't good now i cut it [reg delta]\n",
      "Split Found:  n9 [['Sales', 2.755, 702430.9803921569, 3]] right <TREEplus.NodeClass object at 0x000002D79379AB50> Sales>2.75\n",
      "node_proportion_total  0.388089213423685\n",
      "Node_proportion_gain  0.014997647660164981\n",
      "Node Search Split Error for:  n18 with obs in node:  6  which is less than minimum parent size:  10\n",
      "TypeError: Node search split (CART) failure\n",
      "Split Found:  n19 [['ShelveLoc', ('Medium', 'Good'), 604749.6891891891, 4]] right <TREEplus.NodeClass object at 0x000002D7937B1CD0> ShelveLoc in ('Medium', 'Good')\n",
      "node_proportion_total  0.3996996631328166\n",
      "Node_proportion_gain  0.011610449709131554\n",
      "Split Found:  n5 [['CompPrice', 99.0, 599287.7284482758, 2]] right <TREEplus.NodeClass object at 0x000002D793879E50> CompPrice>99.0\n",
      "node_proportion_total  0.4520134071141306\n",
      "Node_proportion_gain  0.052313743981314054\n",
      "Node Search Split Error for:  n10 with obs in node:  8  which is less than minimum parent size:  10\n",
      "TypeError: Node search split (CART) failure\n",
      "Split Found:  n11 [['Sales', 10.629999999999999, 567505.2564102564, 3]] right <TREEplus.NodeClass object at 0x000002D79397CF50> Sales>10.63\n",
      "node_proportion_total  0.47452264756267554\n",
      "Node_proportion_gain  0.02250924044854491\n",
      "Split Found:  n22 [['ShelveLoc', ('Bad', 'Medium'), 425264.7896551724, 4]] left <TREEplus.NodeClass object at 0x000002D79392C490> ShelveLoc in ('Bad', 'Medium')\n",
      "node_proportion_total  0.5089837777240319\n",
      "Node_proportion_gain  0.03446113016135638\n",
      "Split Found:  n23 [['Age', 37.0, 148091.65476190476, 4]] right <TREEplus.NodeClass object at 0x000002D7938B6E10> Age>37.0\n",
      "node_proportion_total  0.5157109188732665\n",
      "Node_proportion_gain  0.006727141149234561\n",
      "This split isn't good now i cut it [reg delta]\n",
      "Split Found:  n3 [['Sales', 7.555, 1780373.8192307693, 1]] right <TREEplus.NodeClass object at 0x000002D793801210> Sales>7.55\n",
      "node_proportion_total  0.610280873818916\n",
      "Node_proportion_gain  0.09456995494564957\n",
      "Split Found:  n6 [['CompPrice', 135.5, 1074280.176392573, 2]] left <TREEplus.NodeClass object at 0x000002D793899450> CompPrice>135.5\n",
      "node_proportion_total  0.6489996767190402\n",
      "Node_proportion_gain  0.038718802900124194\n",
      "Split Found:  n12 [['Sales', 4.93, 490315.32467532466, 3]] left <TREEplus.NodeClass object at 0x000002D793A62890> Sales>4.93\n",
      "node_proportion_total  0.6541748772172084\n",
      "Node_proportion_gain  0.005175200498168109\n",
      "This split isn't good now i cut it [reg delta]\n",
      "Split Found:  n13 [['Sales', 3.785, 586175.5142857142, 3]] right <TREEplus.NodeClass object at 0x000002D793A6E290> Sales>3.79\n",
      "node_proportion_total  0.6645611950876185\n",
      "Node_proportion_gain  0.010386317870410111\n",
      "Node Search Split Error for:  n26 with obs in node:  5  which is less than minimum parent size:  10\n",
      "TypeError: Node search split (CART) failure\n",
      "Split Found:  n27 [['ShelveLoc', ('Medium', 'Good'), 450295.07142857136, 4]] right <TREEplus.NodeClass object at 0x000002D793A7D090> ShelveLoc in ('Medium', 'Good')\n",
      "node_proportion_total  0.6709342761763669\n",
      "Node_proportion_gain  0.006373081088748456\n",
      "This split isn't good now i cut it [reg delta]\n",
      "Split Found:  n7 [['CompPrice', 146.5, 717126.3333333333, 2]] right <TREEplus.NodeClass object at 0x000002D793A39F50> CompPrice>146.5\n",
      "node_proportion_total  0.7098778982179411\n",
      "Node_proportion_gain  0.0389436220415742\n",
      "Split Found:  n14 [['Sales', 11.879999999999999, 482318.2857142857, 3]] left <TREEplus.NodeClass object at 0x000002D793AE9690> Sales>11.88\n",
      "node_proportion_total  0.7209807060151046\n",
      "Node_proportion_gain  0.011102807797163439\n",
      "Split Found:  n28 [['ShelveLoc', ('Medium', 'Good'), 416441.1259259259, 4]] left <TREEplus.NodeClass object at 0x000002D793AA7390> ShelveLoc in ('Medium', 'Good')\n",
      "node_proportion_total  0.7249869544931234\n",
      "Node_proportion_gain  0.004006248478018892\n",
      "This split isn't good now i cut it [reg delta]\n",
      "Node Search Split Error for:  n29 with obs in node:  7  which is less than minimum parent size:  10\n",
      "TypeError: Node search split (CART) failure\n",
      "Split Found:  n15 [['Income', 81.5, 236693, 3]] right <TREEplus.NodeClass object at 0x000002D793AA5210> Income>81.5\n",
      "node_proportion_total  0.7271528931426146\n",
      "Node_proportion_gain  0.002165938649491106\n",
      "This split isn't good now i cut it [reg delta]\n",
      "training mse 328.02\n",
      "\n",
      "\n",
      "Folds:  10\n",
      "Split Found:  n1 [['CompPrice', 121.5, 3395274.029575928, 0]] start <TREEplus.NodeClass object at 0x000002D793410ED0> CompPrice>121.5\n",
      "node_proportion_total  0.22022916838756315\n",
      "Split Found:  n2 [['Sales', 7.55, 1166792.8866120218, 1]] left <TREEplus.NodeClass object at 0x000002D793BAD790> Sales>7.55\n",
      "node_proportion_total  0.30425647159305963\n",
      "Node_proportion_gain  0.08402730320549648\n",
      "Split Found:  n4 [['Sales', 2.83, 768308.8835978835, 2]] left <TREEplus.NodeClass object at 0x000002D793BFF9D0> Sales>2.83\n",
      "node_proportion_total  0.315482279737905\n",
      "Node_proportion_gain  0.011225808144845362\n",
      "Node Search Split Error for:  n8 with obs in node:  7  which is less than minimum parent size:  10\n",
      "TypeError: Node search split (CART) failure\n",
      "Split Found:  n9 [['Age', 52.5, 658436.3527204503, 3]] right <TREEplus.NodeClass object at 0x000002D793C3B210> Age>52.5\n",
      "node_proportion_total  0.32638728628823965\n",
      "Node_proportion_gain  0.010905006550334662\n",
      "Split Found:  n18 [['Income', 69.0, 187217.23809523808, 4]] left <TREEplus.NodeClass object at 0x000002D793C4D090> Income>69.0\n",
      "node_proportion_total  0.3334283566331106\n",
      "Node_proportion_gain  0.007041070344870948\n",
      "This split isn't good now i cut it [reg delta]\n",
      "Split Found:  n19 [['ShelveLoc', ('Medium', 'Good'), 473040.49696969695, 4]] right <TREEplus.NodeClass object at 0x000002D793C65590> ShelveLoc in ('Medium', 'Good')\n",
      "node_proportion_total  0.3395270249671346\n",
      "Node_proportion_gain  0.0060986683340240044\n",
      "This split isn't good now i cut it [reg delta]\n",
      "Split Found:  n5 [['CompPrice', 99.0, 406696.54700854694, 2]] right <TREEplus.NodeClass object at 0x000002D793AB1650> CompPrice>99.0\n",
      "node_proportion_total  0.3875478007711332\n",
      "Node_proportion_gain  0.048020775803998605\n",
      "Node Search Split Error for:  n10 with obs in node:  9  which is less than minimum parent size:  10\n",
      "TypeError: Node search split (CART) failure\n",
      "Split Found:  n11 [['ShelveLoc', ('Bad', 'Medium'), 367984.7364130435, 3]] right <TREEplus.NodeClass object at 0x000002D793CCD750> ShelveLoc in ('Bad', 'Medium')\n",
      "node_proportion_total  0.3978036909353915\n",
      "Node_proportion_gain  0.010255890164258263\n",
      "Split Found:  n22 [['Sales', 9.715, 176613.56666666668, 4]] left <TREEplus.NodeClass object at 0x000002D793CE2850> Sales>9.71\n",
      "node_proportion_total  0.4189628442624277\n",
      "Node_proportion_gain  0.021159153327036218\n",
      "Split Found:  n23 [['Population', 378.0, 194857.1666666667, 4]] right <TREEplus.NodeClass object at 0x000002D793CD3D10> Population>378.0\n",
      "node_proportion_total  0.4229522209553189\n",
      "Node_proportion_gain  0.003989376692891233\n",
      "This split isn't good now i cut it [reg delta]\n",
      "Split Found:  n3 [['Sales', 7.555, 2256215.935761849, 1]] right <TREEplus.NodeClass object at 0x000002D793B08410> Sales>7.55\n",
      "node_proportion_total  0.5390080747990595\n",
      "Node_proportion_gain  0.11605585384374062\n",
      "Split Found:  n6 [['CompPrice', 133.5, 1285696.974533107, 2]] left <TREEplus.NodeClass object at 0x000002D793D6E6D0> CompPrice>133.5\n",
      "node_proportion_total  0.587714639809614\n",
      "Node_proportion_gain  0.04870656501055448\n",
      "Split Found:  n12 [['Sales', 3.65, 617472.2303030302, 3]] left <TREEplus.NodeClass object at 0x000002D793CD2B50> Sales>3.65\n",
      "node_proportion_total  0.6060136822393365\n",
      "Node_proportion_gain  0.018299042429722467\n",
      "Node Search Split Error for:  n24 with obs in node:  5  which is less than minimum parent size:  10\n",
      "TypeError: Node search split (CART) failure\n",
      "Split Found:  n25 [['Advertising', 1.0, 508564.1213235294, 4]] right <TREEplus.NodeClass object at 0x000002D793DDB2D0> Advertising>1.0\n",
      "node_proportion_total  0.6125647936751866\n",
      "Node_proportion_gain  0.006551111435850077\n",
      "This split isn't good now i cut it [reg delta]\n",
      "Split Found:  n13 [['CompPrice', 142.0, 672187.076923077, 3]] right <TREEplus.NodeClass object at 0x000002D793C2F110> CompPrice>142.0\n",
      "node_proportion_total  0.6228506424422614\n",
      "Node_proportion_gain  0.010285848767074834\n",
      "Split Found:  n26 [['Population', 335.5, 360253.56923076924, 4]] left <TREEplus.NodeClass object at 0x000002D793DDC790> Population>335.5\n",
      "node_proportion_total  0.6279118732076606\n",
      "Node_proportion_gain  0.005061230765399216\n",
      "This split isn't good now i cut it [reg delta]\n",
      "Split Found:  n27 [['Income', 67.5, 313587.1666666667, 4]] right <TREEplus.NodeClass object at 0x000002D793E1A9D0> Income>67.5\n",
      "node_proportion_total  0.6347803983514926\n",
      "Node_proportion_gain  0.0068685251438319606\n",
      "This split isn't good now i cut it [reg delta]\n",
      "Split Found:  n7 [['CompPrice', 146.5, 984072.4903954802, 2]] right <TREEplus.NodeClass object at 0x000002D793D74FD0> CompPrice>146.5\n",
      "node_proportion_total  0.6838511242908517\n",
      "Node_proportion_gain  0.04907072593935913\n",
      "Split Found:  n14 [['Sales', 10.7, 718420.449579832, 3]] left <TREEplus.NodeClass object at 0x000002D793E36890> Sales>10.7\n",
      "node_proportion_total  0.7085237286418941\n",
      "Node_proportion_gain  0.02467260435104235\n",
      "Split Found:  n28 [['ShelveLoc', ('Bad', 'Medium'), 556684.2323232322, 4]] left <TREEplus.NodeClass object at 0x000002D793E7FC50> ShelveLoc in ('Bad', 'Medium')\n",
      "node_proportion_total  0.7224038973516762\n",
      "Node_proportion_gain  0.013880168709782148\n",
      "Split Found:  n29 [['ShelveLoc', ('Bad', 'Medium'), 165284.5, 4]] right <TREEplus.NodeClass object at 0x000002D793E6FC50> ShelveLoc in ('Bad', 'Medium')\n",
      "node_proportion_total  0.7341215983853291\n",
      "Node_proportion_gain  0.011717701033652883\n",
      "Split Found:  n15 [['Income', 81.5, 269446.6, 3]] right <TREEplus.NodeClass object at 0x000002D793E70A90> Income>81.5\n",
      "node_proportion_total  0.7368235407542321\n",
      "Node_proportion_gain  0.0027019423689029765\n",
      "This split isn't good now i cut it [reg delta]\n",
      "training mse 351.47\n",
      "\n",
      "\n",
      "\n",
      "errors:  170.9039835354092\n",
      "errors:  291.04410703821225\n",
      "errors:  332.3773769482294\n",
      "errors:  236.62282494118477\n",
      "errors:  240.18986070806025\n",
      "errors:  534.6554011232663\n",
      "errors:  279.74724801264455\n",
      "errors:  254.55188677923059\n",
      "errors:  328.0231899450161\n",
      "errors:  351.4680313523734\n",
      "\n",
      "\n",
      "mean errors: 301.9583910383627\n"
     ]
    }
   ],
   "source": [
    "kf = k_folds(y,features,features_names,n_features,n_features_names, impurity_fn = \"between_variance\", problem=\"regression\", method = \"CART\",  min_cases_parent= 10,min_cases_child= 5, max_level =4 , twoing = False, min_imp_gain = 0.0001)"
   ]
  },
  {
   "cell_type": "code",
   "execution_count": 6,
   "metadata": {},
   "outputs": [
    {
     "name": "stdout",
     "output_type": "stream",
     "text": [
      "To return the table, print_tree must be True: setting print_tree to True\n",
      "Best tree for test set has 5 leaves with a deviance of: 377.2486577185635 \n"
     ]
    },
    {
     "data": {
      "application/vnd.plotly.v1+json": {
       "config": {
        "plotlyServerURL": "https://plot.ly"
       },
       "data": [
        {
         "hoverinfo": "none",
         "line": {
          "color": "rgb(210,210,210)",
          "width": 1
         },
         "mode": "lines",
         "type": "scatter",
         "x": [
          0,
          -1.25,
          null,
          0,
          1.25,
          null,
          -1.25,
          -2.25,
          null,
          -1.25,
          -0.25,
          null,
          1.25,
          0.75,
          null,
          1.25,
          1.75,
          null,
          -0.25,
          -0.75,
          null,
          -0.25,
          0.25,
          null
         ],
         "y": [
          6,
          5,
          null,
          6,
          5,
          null,
          5,
          4,
          null,
          5,
          4,
          null,
          5,
          4,
          null,
          5,
          4,
          null,
          4,
          3,
          null,
          4,
          3,
          null
         ]
        },
        {
         "hoverinfo": "text",
         "marker": {
          "color": "#6175c1",
          "line": {
           "color": "rgb(50,50,50)",
           "width": 1
          },
          "size": 18,
          "symbol": "circle-dot"
         },
         "mode": "markers",
         "name": "Nodes",
         "opacity": 0.8,
         "text": [
          "n10, None, Bin Value: 66.78, pearson : 4103.56, Samples : 9",
          "n1, CompPrice>127.5, Bin Value: 115.78, pearson : 155526.82, Samples : 280",
          "n2, Sales>7.55, Bin Value: 106.73, pearson : 75946.05, Samples : 162",
          "n4, Education>11.5, Bin Value: 115.71, pearson : 24566.4, Samples : 89",
          "n5, CompPrice>99.0, Bin Value: 95.78, pearson : 35454.49, Samples : 73",
          "n11, Education>17.5, Bin Value: 99.86, pearson : 22715.73, Samples : 64",
          "n3, Sales>7.55, Bin Value: 128.19, pearson : 48120.52, Samples : 118",
          "n6, Education>13.5, Bin Value: 139.71, pearson : 17604.02, Samples : 58",
          "n7, Education>12.5, Bin Value: 117.07, pearson : 15399.73, Samples : 60"
         ],
         "type": "scatter",
         "x": [
          -0.75,
          0,
          -1.25,
          -2.25,
          -0.25,
          0.25,
          1.25,
          0.75,
          1.75
         ],
         "y": [
          3,
          6,
          5,
          4,
          4,
          3,
          5,
          4,
          4
         ]
        }
       ],
       "layout": {
        "margin": {
         "b": 0,
         "l": 0,
         "r": 0,
         "t": 0
        },
        "plot_bgcolor": "rgba(0, 0, 0, 0)",
        "template": {
         "data": {
          "bar": [
           {
            "error_x": {
             "color": "#2a3f5f"
            },
            "error_y": {
             "color": "#2a3f5f"
            },
            "marker": {
             "line": {
              "color": "#E5ECF6",
              "width": 0.5
             },
             "pattern": {
              "fillmode": "overlay",
              "size": 10,
              "solidity": 0.2
             }
            },
            "type": "bar"
           }
          ],
          "barpolar": [
           {
            "marker": {
             "line": {
              "color": "#E5ECF6",
              "width": 0.5
             },
             "pattern": {
              "fillmode": "overlay",
              "size": 10,
              "solidity": 0.2
             }
            },
            "type": "barpolar"
           }
          ],
          "carpet": [
           {
            "aaxis": {
             "endlinecolor": "#2a3f5f",
             "gridcolor": "white",
             "linecolor": "white",
             "minorgridcolor": "white",
             "startlinecolor": "#2a3f5f"
            },
            "baxis": {
             "endlinecolor": "#2a3f5f",
             "gridcolor": "white",
             "linecolor": "white",
             "minorgridcolor": "white",
             "startlinecolor": "#2a3f5f"
            },
            "type": "carpet"
           }
          ],
          "choropleth": [
           {
            "colorbar": {
             "outlinewidth": 0,
             "ticks": ""
            },
            "type": "choropleth"
           }
          ],
          "contour": [
           {
            "colorbar": {
             "outlinewidth": 0,
             "ticks": ""
            },
            "colorscale": [
             [
              0,
              "#0d0887"
             ],
             [
              0.1111111111111111,
              "#46039f"
             ],
             [
              0.2222222222222222,
              "#7201a8"
             ],
             [
              0.3333333333333333,
              "#9c179e"
             ],
             [
              0.4444444444444444,
              "#bd3786"
             ],
             [
              0.5555555555555556,
              "#d8576b"
             ],
             [
              0.6666666666666666,
              "#ed7953"
             ],
             [
              0.7777777777777778,
              "#fb9f3a"
             ],
             [
              0.8888888888888888,
              "#fdca26"
             ],
             [
              1,
              "#f0f921"
             ]
            ],
            "type": "contour"
           }
          ],
          "contourcarpet": [
           {
            "colorbar": {
             "outlinewidth": 0,
             "ticks": ""
            },
            "type": "contourcarpet"
           }
          ],
          "heatmap": [
           {
            "colorbar": {
             "outlinewidth": 0,
             "ticks": ""
            },
            "colorscale": [
             [
              0,
              "#0d0887"
             ],
             [
              0.1111111111111111,
              "#46039f"
             ],
             [
              0.2222222222222222,
              "#7201a8"
             ],
             [
              0.3333333333333333,
              "#9c179e"
             ],
             [
              0.4444444444444444,
              "#bd3786"
             ],
             [
              0.5555555555555556,
              "#d8576b"
             ],
             [
              0.6666666666666666,
              "#ed7953"
             ],
             [
              0.7777777777777778,
              "#fb9f3a"
             ],
             [
              0.8888888888888888,
              "#fdca26"
             ],
             [
              1,
              "#f0f921"
             ]
            ],
            "type": "heatmap"
           }
          ],
          "heatmapgl": [
           {
            "colorbar": {
             "outlinewidth": 0,
             "ticks": ""
            },
            "colorscale": [
             [
              0,
              "#0d0887"
             ],
             [
              0.1111111111111111,
              "#46039f"
             ],
             [
              0.2222222222222222,
              "#7201a8"
             ],
             [
              0.3333333333333333,
              "#9c179e"
             ],
             [
              0.4444444444444444,
              "#bd3786"
             ],
             [
              0.5555555555555556,
              "#d8576b"
             ],
             [
              0.6666666666666666,
              "#ed7953"
             ],
             [
              0.7777777777777778,
              "#fb9f3a"
             ],
             [
              0.8888888888888888,
              "#fdca26"
             ],
             [
              1,
              "#f0f921"
             ]
            ],
            "type": "heatmapgl"
           }
          ],
          "histogram": [
           {
            "marker": {
             "pattern": {
              "fillmode": "overlay",
              "size": 10,
              "solidity": 0.2
             }
            },
            "type": "histogram"
           }
          ],
          "histogram2d": [
           {
            "colorbar": {
             "outlinewidth": 0,
             "ticks": ""
            },
            "colorscale": [
             [
              0,
              "#0d0887"
             ],
             [
              0.1111111111111111,
              "#46039f"
             ],
             [
              0.2222222222222222,
              "#7201a8"
             ],
             [
              0.3333333333333333,
              "#9c179e"
             ],
             [
              0.4444444444444444,
              "#bd3786"
             ],
             [
              0.5555555555555556,
              "#d8576b"
             ],
             [
              0.6666666666666666,
              "#ed7953"
             ],
             [
              0.7777777777777778,
              "#fb9f3a"
             ],
             [
              0.8888888888888888,
              "#fdca26"
             ],
             [
              1,
              "#f0f921"
             ]
            ],
            "type": "histogram2d"
           }
          ],
          "histogram2dcontour": [
           {
            "colorbar": {
             "outlinewidth": 0,
             "ticks": ""
            },
            "colorscale": [
             [
              0,
              "#0d0887"
             ],
             [
              0.1111111111111111,
              "#46039f"
             ],
             [
              0.2222222222222222,
              "#7201a8"
             ],
             [
              0.3333333333333333,
              "#9c179e"
             ],
             [
              0.4444444444444444,
              "#bd3786"
             ],
             [
              0.5555555555555556,
              "#d8576b"
             ],
             [
              0.6666666666666666,
              "#ed7953"
             ],
             [
              0.7777777777777778,
              "#fb9f3a"
             ],
             [
              0.8888888888888888,
              "#fdca26"
             ],
             [
              1,
              "#f0f921"
             ]
            ],
            "type": "histogram2dcontour"
           }
          ],
          "mesh3d": [
           {
            "colorbar": {
             "outlinewidth": 0,
             "ticks": ""
            },
            "type": "mesh3d"
           }
          ],
          "parcoords": [
           {
            "line": {
             "colorbar": {
              "outlinewidth": 0,
              "ticks": ""
             }
            },
            "type": "parcoords"
           }
          ],
          "pie": [
           {
            "automargin": true,
            "type": "pie"
           }
          ],
          "scatter": [
           {
            "fillpattern": {
             "fillmode": "overlay",
             "size": 10,
             "solidity": 0.2
            },
            "type": "scatter"
           }
          ],
          "scatter3d": [
           {
            "line": {
             "colorbar": {
              "outlinewidth": 0,
              "ticks": ""
             }
            },
            "marker": {
             "colorbar": {
              "outlinewidth": 0,
              "ticks": ""
             }
            },
            "type": "scatter3d"
           }
          ],
          "scattercarpet": [
           {
            "marker": {
             "colorbar": {
              "outlinewidth": 0,
              "ticks": ""
             }
            },
            "type": "scattercarpet"
           }
          ],
          "scattergeo": [
           {
            "marker": {
             "colorbar": {
              "outlinewidth": 0,
              "ticks": ""
             }
            },
            "type": "scattergeo"
           }
          ],
          "scattergl": [
           {
            "marker": {
             "colorbar": {
              "outlinewidth": 0,
              "ticks": ""
             }
            },
            "type": "scattergl"
           }
          ],
          "scattermapbox": [
           {
            "marker": {
             "colorbar": {
              "outlinewidth": 0,
              "ticks": ""
             }
            },
            "type": "scattermapbox"
           }
          ],
          "scatterpolar": [
           {
            "marker": {
             "colorbar": {
              "outlinewidth": 0,
              "ticks": ""
             }
            },
            "type": "scatterpolar"
           }
          ],
          "scatterpolargl": [
           {
            "marker": {
             "colorbar": {
              "outlinewidth": 0,
              "ticks": ""
             }
            },
            "type": "scatterpolargl"
           }
          ],
          "scatterternary": [
           {
            "marker": {
             "colorbar": {
              "outlinewidth": 0,
              "ticks": ""
             }
            },
            "type": "scatterternary"
           }
          ],
          "surface": [
           {
            "colorbar": {
             "outlinewidth": 0,
             "ticks": ""
            },
            "colorscale": [
             [
              0,
              "#0d0887"
             ],
             [
              0.1111111111111111,
              "#46039f"
             ],
             [
              0.2222222222222222,
              "#7201a8"
             ],
             [
              0.3333333333333333,
              "#9c179e"
             ],
             [
              0.4444444444444444,
              "#bd3786"
             ],
             [
              0.5555555555555556,
              "#d8576b"
             ],
             [
              0.6666666666666666,
              "#ed7953"
             ],
             [
              0.7777777777777778,
              "#fb9f3a"
             ],
             [
              0.8888888888888888,
              "#fdca26"
             ],
             [
              1,
              "#f0f921"
             ]
            ],
            "type": "surface"
           }
          ],
          "table": [
           {
            "cells": {
             "fill": {
              "color": "#EBF0F8"
             },
             "line": {
              "color": "white"
             }
            },
            "header": {
             "fill": {
              "color": "#C8D4E3"
             },
             "line": {
              "color": "white"
             }
            },
            "type": "table"
           }
          ]
         },
         "layout": {
          "annotationdefaults": {
           "arrowcolor": "#2a3f5f",
           "arrowhead": 0,
           "arrowwidth": 1
          },
          "autotypenumbers": "strict",
          "coloraxis": {
           "colorbar": {
            "outlinewidth": 0,
            "ticks": ""
           }
          },
          "colorscale": {
           "diverging": [
            [
             0,
             "#8e0152"
            ],
            [
             0.1,
             "#c51b7d"
            ],
            [
             0.2,
             "#de77ae"
            ],
            [
             0.3,
             "#f1b6da"
            ],
            [
             0.4,
             "#fde0ef"
            ],
            [
             0.5,
             "#f7f7f7"
            ],
            [
             0.6,
             "#e6f5d0"
            ],
            [
             0.7,
             "#b8e186"
            ],
            [
             0.8,
             "#7fbc41"
            ],
            [
             0.9,
             "#4d9221"
            ],
            [
             1,
             "#276419"
            ]
           ],
           "sequential": [
            [
             0,
             "#0d0887"
            ],
            [
             0.1111111111111111,
             "#46039f"
            ],
            [
             0.2222222222222222,
             "#7201a8"
            ],
            [
             0.3333333333333333,
             "#9c179e"
            ],
            [
             0.4444444444444444,
             "#bd3786"
            ],
            [
             0.5555555555555556,
             "#d8576b"
            ],
            [
             0.6666666666666666,
             "#ed7953"
            ],
            [
             0.7777777777777778,
             "#fb9f3a"
            ],
            [
             0.8888888888888888,
             "#fdca26"
            ],
            [
             1,
             "#f0f921"
            ]
           ],
           "sequentialminus": [
            [
             0,
             "#0d0887"
            ],
            [
             0.1111111111111111,
             "#46039f"
            ],
            [
             0.2222222222222222,
             "#7201a8"
            ],
            [
             0.3333333333333333,
             "#9c179e"
            ],
            [
             0.4444444444444444,
             "#bd3786"
            ],
            [
             0.5555555555555556,
             "#d8576b"
            ],
            [
             0.6666666666666666,
             "#ed7953"
            ],
            [
             0.7777777777777778,
             "#fb9f3a"
            ],
            [
             0.8888888888888888,
             "#fdca26"
            ],
            [
             1,
             "#f0f921"
            ]
           ]
          },
          "colorway": [
           "#636efa",
           "#EF553B",
           "#00cc96",
           "#ab63fa",
           "#FFA15A",
           "#19d3f3",
           "#FF6692",
           "#B6E880",
           "#FF97FF",
           "#FECB52"
          ],
          "font": {
           "color": "#2a3f5f"
          },
          "geo": {
           "bgcolor": "white",
           "lakecolor": "white",
           "landcolor": "#E5ECF6",
           "showlakes": true,
           "showland": true,
           "subunitcolor": "white"
          },
          "hoverlabel": {
           "align": "left"
          },
          "hovermode": "closest",
          "mapbox": {
           "style": "light"
          },
          "paper_bgcolor": "white",
          "plot_bgcolor": "#E5ECF6",
          "polar": {
           "angularaxis": {
            "gridcolor": "white",
            "linecolor": "white",
            "ticks": ""
           },
           "bgcolor": "#E5ECF6",
           "radialaxis": {
            "gridcolor": "white",
            "linecolor": "white",
            "ticks": ""
           }
          },
          "scene": {
           "xaxis": {
            "backgroundcolor": "#E5ECF6",
            "gridcolor": "white",
            "gridwidth": 2,
            "linecolor": "white",
            "showbackground": true,
            "ticks": "",
            "zerolinecolor": "white"
           },
           "yaxis": {
            "backgroundcolor": "#E5ECF6",
            "gridcolor": "white",
            "gridwidth": 2,
            "linecolor": "white",
            "showbackground": true,
            "ticks": "",
            "zerolinecolor": "white"
           },
           "zaxis": {
            "backgroundcolor": "#E5ECF6",
            "gridcolor": "white",
            "gridwidth": 2,
            "linecolor": "white",
            "showbackground": true,
            "ticks": "",
            "zerolinecolor": "white"
           }
          },
          "shapedefaults": {
           "line": {
            "color": "#2a3f5f"
           }
          },
          "ternary": {
           "aaxis": {
            "gridcolor": "white",
            "linecolor": "white",
            "ticks": ""
           },
           "baxis": {
            "gridcolor": "white",
            "linecolor": "white",
            "ticks": ""
           },
           "bgcolor": "#E5ECF6",
           "caxis": {
            "gridcolor": "white",
            "linecolor": "white",
            "ticks": ""
           }
          },
          "title": {
           "x": 0.05
          },
          "xaxis": {
           "automargin": true,
           "gridcolor": "white",
           "linecolor": "white",
           "ticks": "",
           "title": {
            "standoff": 15
           },
           "zerolinecolor": "white",
           "zerolinewidth": 2
          },
          "yaxis": {
           "automargin": true,
           "gridcolor": "white",
           "linecolor": "white",
           "ticks": "",
           "title": {
            "standoff": 15
           },
           "zerolinecolor": "white",
           "zerolinewidth": 2
          }
         }
        },
        "xaxis": {
         "showticklabels": false,
         "visible": false
        },
        "yaxis": {
         "showticklabels": true,
         "visible": false
        }
       }
      }
     },
     "metadata": {},
     "output_type": "display_data"
    },
    {
     "data": {
      "text/html": [
       "<style type=\"text/css\">\n",
       "</style>\n",
       "<table id=\"T_65068\">\n",
       "  <thead>\n",
       "    <tr>\n",
       "      <th id=\"T_65068_level0_col0\" class=\"col_heading level0 col0\" >Node</th>\n",
       "      <th id=\"T_65068_level0_col1\" class=\"col_heading level0 col1\" >Node Type</th>\n",
       "      <th id=\"T_65068_level0_col2\" class=\"col_heading level0 col2\" >Variable Split</th>\n",
       "      <th id=\"T_65068_level0_col3\" class=\"col_heading level0 col3\" >n</th>\n",
       "      <th id=\"T_65068_level0_col4\" class=\"col_heading level0 col4\" >Deviance</th>\n",
       "      <th id=\"T_65068_level0_col5\" class=\"col_heading level0 col5\" >Explained Deviance</th>\n",
       "      <th id=\"T_65068_level0_col6\" class=\"col_heading level0 col6\" >Class/Value</th>\n",
       "    </tr>\n",
       "  </thead>\n",
       "  <tbody>\n",
       "    <tr>\n",
       "      <td id=\"T_65068_row0_col0\" class=\"data row0 col0\" >n1</td>\n",
       "      <td id=\"T_65068_row0_col1\" class=\"data row0 col1\" >Parent</td>\n",
       "      <td id=\"T_65068_row0_col2\" class=\"data row0 col2\" >CompPrice>127.5</td>\n",
       "      <td id=\"T_65068_row0_col3\" class=\"data row0 col3\" >280</td>\n",
       "      <td id=\"T_65068_row0_col4\" class=\"data row0 col4\" >155526.82</td>\n",
       "      <td id=\"T_65068_row0_col5\" class=\"data row0 col5\" >0.202</td>\n",
       "      <td id=\"T_65068_row0_col6\" class=\"data row0 col6\" >115.78</td>\n",
       "    </tr>\n",
       "    <tr>\n",
       "      <td id=\"T_65068_row1_col0\" class=\"data row1 col0\" >n2</td>\n",
       "      <td id=\"T_65068_row1_col1\" class=\"data row1 col1\" >Parent</td>\n",
       "      <td id=\"T_65068_row1_col2\" class=\"data row1 col2\" >Sales>7.55</td>\n",
       "      <td id=\"T_65068_row1_col3\" class=\"data row1 col3\" >162</td>\n",
       "      <td id=\"T_65068_row1_col4\" class=\"data row1 col4\" >75946.05</td>\n",
       "      <td id=\"T_65068_row1_col5\" class=\"data row1 col5\" >0.305</td>\n",
       "      <td id=\"T_65068_row1_col6\" class=\"data row1 col6\" >106.73</td>\n",
       "    </tr>\n",
       "    <tr>\n",
       "      <td id=\"T_65068_row2_col0\" class=\"data row2 col0\" >n4</td>\n",
       "      <td id=\"T_65068_row2_col1\" class=\"data row2 col1\" >Child</td>\n",
       "      <td id=\"T_65068_row2_col2\" class=\"data row2 col2\" >None</td>\n",
       "      <td id=\"T_65068_row2_col3\" class=\"data row2 col3\" >89</td>\n",
       "      <td id=\"T_65068_row2_col4\" class=\"data row2 col4\" >24566.4</td>\n",
       "      <td id=\"T_65068_row2_col5\" class=\"data row2 col5\" >None</td>\n",
       "      <td id=\"T_65068_row2_col6\" class=\"data row2 col6\" >115.71</td>\n",
       "    </tr>\n",
       "    <tr>\n",
       "      <td id=\"T_65068_row3_col0\" class=\"data row3 col0\" >n5</td>\n",
       "      <td id=\"T_65068_row3_col1\" class=\"data row3 col1\" >Parent</td>\n",
       "      <td id=\"T_65068_row3_col2\" class=\"data row3 col2\" >CompPrice>99.0</td>\n",
       "      <td id=\"T_65068_row3_col3\" class=\"data row3 col3\" >73</td>\n",
       "      <td id=\"T_65068_row3_col4\" class=\"data row3 col4\" >35454.49</td>\n",
       "      <td id=\"T_65068_row3_col5\" class=\"data row3 col5\" >0.392</td>\n",
       "      <td id=\"T_65068_row3_col6\" class=\"data row3 col6\" >95.78</td>\n",
       "    </tr>\n",
       "    <tr>\n",
       "      <td id=\"T_65068_row4_col0\" class=\"data row4 col0\" >n10</td>\n",
       "      <td id=\"T_65068_row4_col1\" class=\"data row4 col1\" >Child</td>\n",
       "      <td id=\"T_65068_row4_col2\" class=\"data row4 col2\" >None</td>\n",
       "      <td id=\"T_65068_row4_col3\" class=\"data row4 col3\" >9</td>\n",
       "      <td id=\"T_65068_row4_col4\" class=\"data row4 col4\" >4103.56</td>\n",
       "      <td id=\"T_65068_row4_col5\" class=\"data row4 col5\" >None</td>\n",
       "      <td id=\"T_65068_row4_col6\" class=\"data row4 col6\" >66.78</td>\n",
       "    </tr>\n",
       "    <tr>\n",
       "      <td id=\"T_65068_row5_col0\" class=\"data row5 col0\" >n11</td>\n",
       "      <td id=\"T_65068_row5_col1\" class=\"data row5 col1\" >Child</td>\n",
       "      <td id=\"T_65068_row5_col2\" class=\"data row5 col2\" >None</td>\n",
       "      <td id=\"T_65068_row5_col3\" class=\"data row5 col3\" >64</td>\n",
       "      <td id=\"T_65068_row5_col4\" class=\"data row5 col4\" >22715.73</td>\n",
       "      <td id=\"T_65068_row5_col5\" class=\"data row5 col5\" >None</td>\n",
       "      <td id=\"T_65068_row5_col6\" class=\"data row5 col6\" >99.86</td>\n",
       "    </tr>\n",
       "    <tr>\n",
       "      <td id=\"T_65068_row6_col0\" class=\"data row6 col0\" >n3</td>\n",
       "      <td id=\"T_65068_row6_col1\" class=\"data row6 col1\" >Parent</td>\n",
       "      <td id=\"T_65068_row6_col2\" class=\"data row6 col2\" >Sales>7.55</td>\n",
       "      <td id=\"T_65068_row6_col3\" class=\"data row6 col3\" >118</td>\n",
       "      <td id=\"T_65068_row6_col4\" class=\"data row6 col4\" >48120.52</td>\n",
       "      <td id=\"T_65068_row6_col5\" class=\"data row6 col5\" >0.507</td>\n",
       "      <td id=\"T_65068_row6_col6\" class=\"data row6 col6\" >128.19</td>\n",
       "    </tr>\n",
       "    <tr>\n",
       "      <td id=\"T_65068_row7_col0\" class=\"data row7 col0\" >n6</td>\n",
       "      <td id=\"T_65068_row7_col1\" class=\"data row7 col1\" >Child</td>\n",
       "      <td id=\"T_65068_row7_col2\" class=\"data row7 col2\" >None</td>\n",
       "      <td id=\"T_65068_row7_col3\" class=\"data row7 col3\" >58</td>\n",
       "      <td id=\"T_65068_row7_col4\" class=\"data row7 col4\" >17604.02</td>\n",
       "      <td id=\"T_65068_row7_col5\" class=\"data row7 col5\" >None</td>\n",
       "      <td id=\"T_65068_row7_col6\" class=\"data row7 col6\" >139.71</td>\n",
       "    </tr>\n",
       "    <tr>\n",
       "      <td id=\"T_65068_row8_col0\" class=\"data row8 col0\" >n7</td>\n",
       "      <td id=\"T_65068_row8_col1\" class=\"data row8 col1\" >Child</td>\n",
       "      <td id=\"T_65068_row8_col2\" class=\"data row8 col2\" >None</td>\n",
       "      <td id=\"T_65068_row8_col3\" class=\"data row8 col3\" >60</td>\n",
       "      <td id=\"T_65068_row8_col4\" class=\"data row8 col4\" >15399.73</td>\n",
       "      <td id=\"T_65068_row8_col5\" class=\"data row8 col5\" >None</td>\n",
       "      <td id=\"T_65068_row8_col6\" class=\"data row8 col6\" >117.07</td>\n",
       "    </tr>\n",
       "  </tbody>\n",
       "</table>\n"
      ],
      "text/plain": [
       "<pandas.io.formats.style.Styler at 0x2d793961f90>"
      ]
     },
     "execution_count": 6,
     "metadata": {},
     "output_type": "execute_result"
    }
   ],
   "source": [
    "alpha, pruned_table = tree.pruning(features_test, n_features_test, y_test, table = True)\n",
    "pruned_table.style.hide()\n"
   ]
  },
  {
   "cell_type": "code",
   "execution_count": 7,
   "metadata": {},
   "outputs": [
    {
     "name": "stdout",
     "output_type": "stream",
     "text": [
      "('Alpha = 0', 'value soglia = None', 'deviance = 238.6540305609424', 'leaves = 24')\n",
      "('Alpha = 30.912121212121292', \"value soglia = ['Age', 58.0, 4]\", 'deviance = 238.76443099384284', 'leaves = 23')\n",
      "('Alpha = 102.72222222222217', \"value soglia = ['Advertising', 2.0, 4]\", 'deviance = 239.13129607320792', 'leaves = 22')\n",
      "('Alpha = 263.6509740259744', \"value soglia = ['Education', 11.5, 4]\", 'deviance = 240.07290669472917', 'leaves = 21')\n",
      "('Alpha = 587.1944369470688', \"value soglia = ['Education', 16.5, 3]\", 'deviance = 246.36427566201917', 'leaves = 18')\n",
      "('Alpha = 610.3906926406912', \"value soglia = ['Advertising', 8.5, 3]\", 'deviance = 248.54424242145018', 'leaves = 17')\n",
      "('Alpha = 836.6795853269529', \"value soglia = ['Education', 12.5, 2]\", 'deviance = 257.50866654995315', 'leaves = 14')\n",
      "('Alpha = 920.4691558441536', \"value soglia = ['Age', 45.5, 4]\", 'deviance = 260.7960563922537', 'leaves = 13')\n",
      "('Alpha = 992.0640092879294', \"value soglia = ['Education', 13.5, 4]\", 'deviance = 264.3391421397106', 'leaves = 12')\n",
      "('Alpha = 1291.5860985172014', \"value soglia = ['Education', 11.5, 2]\", 'deviance = 278.17756462382346', 'leaves = 9')\n",
      "('Alpha = 1408.5179811507933', \"value soglia = ['Education', 17.5, 3]\", 'deviance = 288.2384073463293', 'leaves = 7')\n",
      "('Alpha = 1841.3454713390056', \"value soglia = ['Education', 13.5, 2]\", 'deviance = 301.3908749987506', 'leaves = 5')\n",
      "('Alpha = 8635.203220129362', \"value soglia = ['CompPrice', 99.0, 2]\", 'deviance = 332.230886499213', 'leaves = 4')\n",
      "('Alpha = 15116.766374439903', \"value soglia = ['Sales', 7.555, 1]\", 'deviance = 386.21933783649797', 'leaves = 3')\n",
      "('Alpha = 15925.151737649147', \"value soglia = ['Sales', 7.55, 1]\", 'deviance = 443.0948797566736', 'leaves = 2')\n"
     ]
    }
   ],
   "source": [
    "tree.print_alpha(alpha)\n"
   ]
  },
  {
   "cell_type": "markdown",
   "metadata": {},
   "source": [
    "full dataset model "
   ]
  },
  {
   "cell_type": "code",
   "execution_count": 8,
   "metadata": {},
   "outputs": [],
   "source": [
    "df=pd.read_csv('Carseats.csv')\n",
    "df=df.iloc[:,1:]\n",
    "\n",
    "df.head()\n",
    "\n",
    "features = df[features_names]\n",
    "features.head()\n",
    "\n",
    "n_features = df[n_features_names]\n",
    "n_features.head()\n",
    "\n",
    "y = df[\"Price\"]\n",
    "y.head()\n",
    "\n",
    "indici = np.arange(0, len(y))\n"
   ]
  },
  {
   "cell_type": "code",
   "execution_count": 9,
   "metadata": {},
   "outputs": [],
   "source": [
    "#my_tree = MyNodeClass('n1', indici) \n",
    "\n",
    "#tree = TREEplus(y,features,features_names,n_features,n_features_names, impurity_fn = \"between_variance\", problem=\"regression\", method = \"CART\",  min_cases_parent= 10,min_cases_child= 5, max_level = 4)\n",
    "\n",
    "#cart.growing_tree(my_tree)\n"
   ]
  },
  {
   "cell_type": "markdown",
   "metadata": {},
   "source": [
    "need to somehow get only 29 leaves in final tree?\n",
    "can't prune the traditional way as only have training set "
   ]
  },
  {
   "cell_type": "code",
   "execution_count": 17,
   "metadata": {},
   "outputs": [],
   "source": [
    "#cart.print_tree(table = True, html = True).style.hide_index() #print both the pruned and non pruned tree \n",
    "\n"
   ]
  }
 ],
 "metadata": {
  "kernelspec": {
   "display_name": "base",
   "language": "python",
   "name": "python3"
  },
  "language_info": {
   "codemirror_mode": {
    "name": "ipython",
    "version": 3
   },
   "file_extension": ".py",
   "mimetype": "text/x-python",
   "name": "python",
   "nbconvert_exporter": "python",
   "pygments_lexer": "ipython3",
   "version": "3.11.5"
  },
  "orig_nbformat": 4
 },
 "nbformat": 4,
 "nbformat_minor": 2
}
