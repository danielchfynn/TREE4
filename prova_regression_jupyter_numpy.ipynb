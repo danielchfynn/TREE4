{
 "cells": [
  {
   "cell_type": "code",
   "execution_count": 1,
   "metadata": {},
   "outputs": [],
   "source": [
    "#from __future__ import annotations\n",
    "#from tkinter import N\n",
    "\n",
    "from TREEplus import *\n",
    "\n",
    "import pandas as pd\n",
    "\n",
    "#d = dict(features, **n_features)  #merges the two dicts\n",
    "#df = pd.DataFrame(data=d)         #creates the dataframe\n",
    "\n",
    "#print(df)\n",
    "#import csv\n",
    "\n"
   ]
  },
  {
   "cell_type": "code",
   "execution_count": 2,
   "metadata": {},
   "outputs": [
    {
     "name": "stdout",
     "output_type": "stream",
     "text": [
      "<class 'numpy.ndarray'>\n",
      "[('Sales', '<f8'), ('CompPrice', '<f8'), ('Income', '<f8'), ('Advertising', '<f8'), ('Population', '<f8'), ('Price', '<f8'), ('ShelveLoc', 'O'), ('Age', '<f8'), ('Education', '<f8'), ('Urban', 'O'), ('US', 'O')]\n"
     ]
    }
   ],
   "source": [
    "import numpy as np\n",
    "train = np.genfromtxt(\"Carseats_train.csv\", delimiter=',', names=True, dtype=(float,float,float,float, float, float, object, float, float, object, object))\n",
    "\n",
    "\n",
    "\n",
    "#c = numpy.loadtxt(\"Carseats_train.csv\")\n",
    "print(type(train))\n",
    "print(train.dtype)\n",
    "\n",
    "features_names = train.dtype.names\n",
    "\n",
    "n_features = train[[\"ShelveLoc\", \"US\",\"Urban\"]]\n",
    "n_features_names = n_features.dtype.names\n",
    "n_features_names\n",
    "\n",
    "y = train[\"Price\"]\n",
    "\n",
    "features = train[[\"Sales\", \"CompPrice\", \"Income\", \"Advertising\", \"Population\", \"Age\", \"Education\"]]\n",
    "features_names = features.dtype.names\n",
    "\n",
    "\n",
    "indici = np.arange(0, len(y))\n"
   ]
  },
  {
   "cell_type": "markdown",
   "metadata": {},
   "source": [
    ".to_records()\n",
    "\n",
    "train = pd.read_csv(\"Carseats_train.csv\")\n",
    "train = train.to_records()"
   ]
  },
  {
   "cell_type": "code",
   "execution_count": 3,
   "metadata": {},
   "outputs": [],
   "source": [
    "import numpy as np\n",
    "test = np.genfromtxt(\"Carseats_test.csv\", delimiter=',', names=True, dtype=(float,float,float,float, float, float, object, float, float, object, object))\n",
    "\n",
    "\n",
    "n_features_test = test[[\"ShelveLoc\", \"US\",\"Urban\"]]\n",
    "\n",
    "\n",
    "y_test = test[\"Price\"]\n",
    "\n",
    "features_test = test[[\"Sales\", \"CompPrice\", \"Income\", \"Advertising\", \"Population\", \"Age\", \"Education\"]]\n"
   ]
  },
  {
   "cell_type": "code",
   "execution_count": 4,
   "metadata": {},
   "outputs": [],
   "source": [
    "#when definining a funcion please be aware we are using purity gain or information gain or greatest difference between variance, all positive aspects \n",
    "#adding user_defined as a possible impurity_fn and added user_impur to carry that function \n",
    "def user_fn(self, node): #impur just takes node in tree\n",
    "    \n",
    "    return (mean(self.y[node.indexes])**2)*len(self.y[node.indexes])\n"
   ]
  },
  {
   "cell_type": "code",
   "execution_count": 5,
   "metadata": {},
   "outputs": [],
   "source": [
    "comp = list(features[\"CompPrice\"][0:20])\n",
    "comp.sort()\n"
   ]
  },
  {
   "cell_type": "code",
   "execution_count": 6,
   "metadata": {},
   "outputs": [],
   "source": [
    "node1 = MyNodeClass('n1', indici) \n",
    "tree = TREEplus(y,features,features_names,n_features,n_features_names, impurity_fn = \"pearson\", problem=\"regression\", method = \"TWO-STAGE\",  min_cases_parent= 10,min_cases_child= 5, max_level = 10, twoing = False, min_imp_gain = 0.01, surrogate_split = True )"
   ]
  },
  {
   "cell_type": "code",
   "execution_count": 7,
   "metadata": {},
   "outputs": [],
   "source": [
    "comp = tree.midway_points(\"CompPrice\", node1)"
   ]
  },
  {
   "cell_type": "code",
   "execution_count": 8,
   "metadata": {},
   "outputs": [
    {
     "name": "stdout",
     "output_type": "stream",
     "text": [
      "Split Found:  n1 [['CompPrice', 127.5, 0.20228188075035491, 0]] start <TREEplus.MyNodeClass object at 0x000002390BB0FD10> CompPrice>127.5\n",
      "node_proportion_total  0.20228188075035564\n",
      "Split Found:  n2 [['Sales', 7.55, 0.20969032447490832, 1]] left <TREEplus.MyNodeClass object at 0x000002397AF9A8D0> Sales>7.55\n",
      "node_proportion_total  0.3046767681766827\n",
      "Node_proportion_gain  0.10239488742632707\n",
      "Split Found:  n4 [['Age', 53.5, 0.19075555365175634, 2]] left <TREEplus.MyNodeClass object at 0x000002390FBB6C50> Age>53.5\n",
      "node_proportion_total  0.3348077638461362\n",
      "Node_proportion_gain  0.030130995669453486\n",
      "Split Found:  n8 [['Income', 67.0, 0.3472236802682799, 3]] left <TREEplus.MyNodeClass object at 0x000002390FBDD010> Income>67.0\n",
      "node_proportion_total  0.34974725911965104\n",
      "Node_proportion_gain  0.014939495273514847\n",
      "Split Found:  n16 [['Age', 40.5, 0.34689490137987866, 4]] left <TREEplus.MyNodeClass object at 0x000002390FC38410> Age>40.5\n",
      "node_proportion_total  0.35524068739400466\n",
      "Node_proportion_gain  0.005493428274353618\n",
      "This split isn't good now i cut it [reg delta]\n",
      "Split Found:  n17 [['CompPrice', 120.5, 0.29830727702170734, 4]] right <TREEplus.MyNodeClass object at 0x000002390FCDAC90> CompPrice>120.5\n",
      "node_proportion_total  0.3588949720212019\n",
      "Node_proportion_gain  0.0036542846271972462\n",
      "This split isn't good now i cut it [reg delta]\n",
      "Split Found:  n9 [['Sales', 2.755, 0.15864320775179774, 3]] right <TREEplus.MyNodeClass object at 0x000002390FBF5810> Sales>2.76\n",
      "node_proportion_total  0.3723478364901003\n",
      "Node_proportion_gain  0.013452864468898373\n",
      "Node Search Split Error for:  n18 with obs in node:  6  which is less than minimum parent size:  10\n",
      "TypeError: Node search split (CART) failure\n",
      "Split Found:  n19 [['CompPrice', 109.5, 0.11318799287623038, 4]] right <TREEplus.MyNodeClass object at 0x000002390FC39C90> CompPrice>109.5\n",
      "node_proportion_total  0.37969613246963396\n",
      "Node_proportion_gain  0.007348295979533681\n",
      "This split isn't good now i cut it [reg delta]\n",
      "Split Found:  n5 [['CompPrice', 99.0, 0.2435573732059556, 2]] right <TREEplus.MyNodeClass object at 0x000002397B0D25D0> CompPrice>99.0\n",
      "node_proportion_total  0.4352184079364508\n",
      "Node_proportion_gain  0.05552227546681682\n",
      "Node Search Split Error for:  n10 with obs in node:  9  which is less than minimum parent size:  10\n",
      "TypeError: Node search split (CART) failure\n",
      "Split Found:  n11 [['Sales', 10.629999999999999, 0.16730845291018692, 3]] right <TREEplus.MyNodeClass object at 0x000002390FDA4B10> Sales>10.63\n",
      "node_proportion_total  0.45965492797085644\n",
      "Node_proportion_gain  0.024436520034405662\n",
      "Split Found:  n22 [['Age', 29.5, 0.13016954640449763, 4]] left <TREEplus.MyNodeClass object at 0x000002390FDE99D0> Age>29.5\n",
      "node_proportion_total  0.47102852863427885\n",
      "Node_proportion_gain  0.011373600663422412\n",
      "Node Search Split Error for:  n44 with obs in node:  5  which is less than minimum parent size:  10\n",
      "TypeError: Node search split (CART) failure\n",
      "Split Found:  n45 [['Age', 57.5, 0.06348445094354516, 5]] right <TREEplus.MyNodeClass object at 0x000002390FDFFF90> Age>57.5\n",
      "node_proportion_total  0.47519006363516725\n",
      "Node_proportion_gain  0.0041615350008883945\n",
      "This split isn't good now i cut it [reg delta]\n",
      "Split Found:  n23 [['Age', 37.0, 0.1794319868390466, 4]] right <TREEplus.MyNodeClass object at 0x000002390FDE8650> Age>37.0\n",
      "node_proportion_total  0.48133469342430335\n",
      "Node_proportion_gain  0.006144629789136102\n",
      "This split isn't good now i cut it [reg delta]\n",
      "Split Found:  n3 [['Sales', 7.555, 0.314143889817587, 1]] right <TREEplus.MyNodeClass object at 0x000002390C55FA50> Sales>7.56\n",
      "node_proportion_total  0.5785318578005445\n",
      "Node_proportion_gain  0.09719716437624115\n",
      "Split Found:  n6 [['CompPrice', 135.5, 0.3123720500988424, 2]] left <TREEplus.MyNodeClass object at 0x000002390FDA6890> CompPrice>135.5\n",
      "node_proportion_total  0.6138891214472822\n",
      "Node_proportion_gain  0.03535726364673775\n",
      "Split Found:  n12 [['Sales', 4.93, 0.16651447742818304, 3]] left <TREEplus.MyNodeClass object at 0x000002390FE3BE50> Sales>4.93\n",
      "node_proportion_total  0.6193518885177333\n",
      "Node_proportion_gain  0.005462767070451013\n",
      "This split isn't good now i cut it [reg delta]\n",
      "Split Found:  n13 [['Sales', 3.5700000000000003, 0.2119229721926812, 3]] right <TREEplus.MyNodeClass object at 0x000002390FDEFB50> Sales>3.57\n",
      "node_proportion_total  0.628893882478227\n",
      "Node_proportion_gain  0.009541993960493711\n",
      "This split isn't good now i cut it [reg delta]\n",
      "Split Found:  n7 [['CompPrice', 146.5, 0.36946671515235474, 2]] right <TREEplus.MyNodeClass object at 0x000002390FCE81D0> CompPrice>146.5\n",
      "node_proportion_total  0.6654772107168694\n",
      "Node_proportion_gain  0.03658332823864241\n",
      "Split Found:  n14 [['Sales', 11.879999999999999, 0.23287105414674458, 3]] left <TREEplus.MyNodeClass object at 0x000002390FE6A990> Sales>11.88\n",
      "node_proportion_total  0.6787689513681829\n",
      "Node_proportion_gain  0.013291740651313555\n",
      "Split Found:  n28 [['Income', 34.5, 0.09504852089101501, 4]] left <TREEplus.MyNodeClass object at 0x000002390FDBC050> Income>34.5\n",
      "node_proportion_total  0.6823789499192575\n",
      "Node_proportion_gain  0.003609998551074578\n",
      "This split isn't good now i cut it [reg delta]\n",
      "Node Search Split Error for:  n29 with obs in node:  9  which is less than minimum parent size:  10\n",
      "TypeError: Node search split (CART) failure\n",
      "Split Found:  n15 [['Income', 81.5, 0.44965583480070426, 3]] right <TREEplus.MyNodeClass object at 0x000002390FE5DBD0> Income>81.5\n",
      "node_proportion_total  0.6847871089833505\n",
      "Node_proportion_gain  0.002408159064092974\n",
      "This split isn't good now i cut it [reg delta]\n"
     ]
    },
    {
     "data": {
      "text/plain": [
       "((((None, None), (None, None)), (None, ((None, None), None))),\n",
       " ((None, None), ((None, None), None)))"
      ]
     },
     "execution_count": 8,
     "metadata": {},
     "output_type": "execute_result"
    }
   ],
   "source": [
    "tree.growing_tree(node1, max_k = 5)"
   ]
  },
  {
   "cell_type": "markdown",
   "metadata": {},
   "source": [
    "surogate"
   ]
  },
  {
   "cell_type": "code",
   "execution_count": 9,
   "metadata": {},
   "outputs": [
    {
     "name": "stdout",
     "output_type": "stream",
     "text": [
      "n16\n",
      "[(<TREEplus.MyNodeClass object at 0x000002390FCB84D0>, <TREEplus.MyNodeClass object at 0x000002390FD78A10>), 'CompPrice', 119.0, 0.08658332812792802]\n",
      "[(<TREEplus.MyNodeClass object at 0x000002390FD49050>, <TREEplus.MyNodeClass object at 0x000002390FD790D0>), 'Income', 36.5, 0.038318475619369075]\n",
      "[(<TREEplus.MyNodeClass object at 0x000002390FD49210>, <TREEplus.MyNodeClass object at 0x000002390FD79750>), 'Income', 43.0, 0.016731659869894888]\n",
      "[(<TREEplus.MyNodeClass object at 0x000002390FC59950>, <TREEplus.MyNodeClass object at 0x000002390FD79810>), 'Income', 45.5, 0.021000687113498784]\n",
      "n17\n",
      "n18\n",
      "n19\n",
      "n10\n",
      "n23\n",
      "n44\n",
      "n45\n",
      "n12\n",
      "n13\n",
      "[(<TREEplus.MyNodeClass object at 0x000002390FF1BD50>, <TREEplus.MyNodeClass object at 0x000002390FF1BE50>), 'Income', 57.5, 0.029839897287453843]\n",
      "[(<TREEplus.MyNodeClass object at 0x000002390FF1BE90>, <TREEplus.MyNodeClass object at 0x000002390FF1BC10>), 'Income', 59.0, 0.1285640941947681]\n",
      "[(<TREEplus.MyNodeClass object at 0x000002390FF1BF90>, <TREEplus.MyNodeClass object at 0x000002390FF1C490>), 'Income', 61.5, 0.09701826764190324]\n",
      "[(<TREEplus.MyNodeClass object at 0x000002390FF1C310>, <TREEplus.MyNodeClass object at 0x000002390FF1C510>), 'Income', 63.5, 0.059487137640506726]\n",
      "[(<TREEplus.MyNodeClass object at 0x000002390FF1BED0>, <TREEplus.MyNodeClass object at 0x000002390FF1C590>), 'Income', 65.5, 0.02127913770746137]\n",
      "[(<TREEplus.MyNodeClass object at 0x000002390FF1BAD0>, <TREEplus.MyNodeClass object at 0x000002390FF1C3D0>), 'Income', 67.5, 0.03748928986719435]\n",
      "[(<TREEplus.MyNodeClass object at 0x000002390FF1C7D0>, <TREEplus.MyNodeClass object at 0x000002390FF1C950>), 'Income', 68.5, 0.01754214479532268]\n",
      "[(<TREEplus.MyNodeClass object at 0x000002390FF1C9D0>, <TREEplus.MyNodeClass object at 0x000002390FF1CB10>), 'Income', 71.0, 0.04469740758118723]\n",
      "[(<TREEplus.MyNodeClass object at 0x000002390FF1CB90>, <TREEplus.MyNodeClass object at 0x000002390FF1CCD0>), 'Income', 77.0, 0.07885341988766992]\n",
      "[(<TREEplus.MyNodeClass object at 0x000002390FF1CD50>, <TREEplus.MyNodeClass object at 0x000002390FF1CE90>), 'Income', 81.5, 0.09695016218201102]\n",
      "[(<TREEplus.MyNodeClass object at 0x000002390FF1CF10>, <TREEplus.MyNodeClass object at 0x000002390FF1D050>), 'Income', 82.5, 0.04684578088768254]\n",
      "[(<TREEplus.MyNodeClass object at 0x000002390FF1D0D0>, <TREEplus.MyNodeClass object at 0x000002390FF1D210>), 'Income', 87.5, 0.02002933927289763]\n",
      "[(<TREEplus.MyNodeClass object at 0x000002390FF1D290>, <TREEplus.MyNodeClass object at 0x000002390FF1D3D0>), 'Income', 99.5, 0.016719160361066576]\n",
      "[(<TREEplus.MyNodeClass object at 0x000002390FF1DA90>, <TREEplus.MyNodeClass object at 0x000002390FF1E150>), 'CompPrice', 139.5, 0.017266774107998817]\n",
      "[(<TREEplus.MyNodeClass object at 0x000002390FF1DB50>, <TREEplus.MyNodeClass object at 0x000002390FF1E210>), 'CompPrice', 140.5, 0.04750049777810195]\n",
      "[(<TREEplus.MyNodeClass object at 0x000002390FF1E290>, <TREEplus.MyNodeClass object at 0x000002390FF1E3D0>), 'CompPrice', 142.0, 0.12866606930541313]\n",
      "[(<TREEplus.MyNodeClass object at 0x000002390FF1E450>, <TREEplus.MyNodeClass object at 0x000002390FF1E590>), 'CompPrice', 143.5, 0.09508600406645051]\n",
      "[(<TREEplus.MyNodeClass object at 0x000002390FF1E610>, <TREEplus.MyNodeClass object at 0x000002390FF1E4D0>), 'CompPrice', 145.0, 0.10887418640354773]\n",
      "[(<TREEplus.MyNodeClass object at 0x000002390FF1E750>, <TREEplus.MyNodeClass object at 0x000002390FF1EA10>), 'CompPrice', 146.5, 0.09139358661380748]\n",
      "[(<TREEplus.MyNodeClass object at 0x000002390FE48FD0>, <TREEplus.MyNodeClass object at 0x000002390FF1EC10>), 'CompPrice', 147.5, 0.020604765499092403]\n",
      "[(<TREEplus.MyNodeClass object at 0x000002390FF1EC50>, <TREEplus.MyNodeClass object at 0x000002390FF1EED0>), 'CompPrice', 148.5, 0.022093473959076904]\n",
      "[(<TREEplus.MyNodeClass object at 0x000002390FF1EBD0>, <TREEplus.MyNodeClass object at 0x000002390FF1ED50>), 'CompPrice', 149.5, 0.00707765139924077]\n",
      "n15\n",
      "n28\n",
      "n29\n",
      "n1\n",
      "n2\n",
      "n4\n",
      "n8\n",
      "n9\n",
      "n5\n",
      "n11\n",
      "n22\n",
      "n3\n",
      "n6\n",
      "n7\n",
      "n14\n",
      "[(<TREEplus.MyNodeClass object at 0x000002390FF47690>, <TREEplus.MyNodeClass object at 0x000002390FF6F550>), 'CompPrice', 136.5, 9.387438355823452e-05]\n",
      "[(<TREEplus.MyNodeClass object at 0x000002390FEA7850>, <TREEplus.MyNodeClass object at 0x000002390FF6F710>), 'CompPrice', 137.5, 0.013468276500846366]\n",
      "[(<TREEplus.MyNodeClass object at 0x000002390FE53150>, <TREEplus.MyNodeClass object at 0x000002390FF6EED0>), 'CompPrice', 138.5, 0.014738428658357061]\n",
      "[(<TREEplus.MyNodeClass object at 0x000002390FF2FAD0>, <TREEplus.MyNodeClass object at 0x000002390FF6F510>), 'CompPrice', 139.5, 0.0008026706815101869]\n",
      "[(<TREEplus.MyNodeClass object at 0x000002390FF1FC90>, <TREEplus.MyNodeClass object at 0x000002390FF6FB50>), 'CompPrice', 140.5, 0.003520289383433295]\n",
      "[(<TREEplus.MyNodeClass object at 0x000002390FE27A50>, <TREEplus.MyNodeClass object at 0x000002390FF6FE10>), 'CompPrice', 141.5, 0.0022868138120847314]\n",
      "[(<TREEplus.MyNodeClass object at 0x000002390FE87E50>, <TREEplus.MyNodeClass object at 0x000002390FF6C750>), 'CompPrice', 143.0, 0.002795292107907965]\n",
      "[(<TREEplus.MyNodeClass object at 0x000002390FF57A90>, <TREEplus.MyNodeClass object at 0x000002390FF702D0>), 'CompPrice', 144.5, 0.012516584474428605]\n"
     ]
    }
   ],
   "source": [
    "for i in tree.get_all_node():\n",
    "    print(i.name)\n",
    "    for j in i.surrogate_splits:\n",
    "        print(j)"
   ]
  },
  {
   "cell_type": "code",
   "execution_count": 10,
   "metadata": {},
   "outputs": [
    {
     "name": "stdout",
     "output_type": "stream",
     "text": [
      "Counter({'apple': 1, 'orange': 1, 'banana': 1})\n"
     ]
    },
    {
     "data": {
      "text/plain": [
       "Counter({'grapefruit': 1})"
      ]
     },
     "execution_count": 10,
     "metadata": {},
     "output_type": "execute_result"
    }
   ],
   "source": [
    "from collections import Counter\n",
    "\n",
    "\n",
    "counterA =Counter({'apple': 3, 'orange': 2, 'banana': 1})\n",
    "counterB =Counter({'apple': 2, 'orange': 1, 'grapefruit': 1})\n",
    "print(counterA - counterB)\n",
    "counterB - counterA\n"
   ]
  },
  {
   "cell_type": "code",
   "execution_count": 11,
   "metadata": {},
   "outputs": [
    {
     "data": {
      "text/plain": [
       "0.7"
      ]
     },
     "execution_count": 11,
     "metadata": {},
     "output_type": "execute_result"
    }
   ],
   "source": [
    "ind1 =  [1,2,3,4,5,6,7,8,9,10]\n",
    "ind2 = [1,2,5,6,7,8,9]\n",
    "\n",
    "ind1 = Counter(ind1)\n",
    "ind2 = Counter(ind2)\n",
    "\n",
    "left = set(ind1).union(ind2) \n",
    "leftmatch = sum(ind1.get(k, 0) * ind2.get(k, 0) for k in left) / len([1,2,3,4,5,6,7,8,9,10])\n",
    "leftmatch"
   ]
  },
  {
   "cell_type": "code",
   "execution_count": 12,
   "metadata": {},
   "outputs": [
    {
     "data": {
      "text/plain": [
       "7"
      ]
     },
     "execution_count": 12,
     "metadata": {},
     "output_type": "execute_result"
    }
   ],
   "source": [
    "len(set(ind1).intersection(ind2))"
   ]
  },
  {
   "cell_type": "code",
   "execution_count": 13,
   "metadata": {},
   "outputs": [],
   "source": [
    "import math\n",
    "\n",
    "def counter_cosine_similarity(c1, c2):\n",
    "    terms = set(c1).union(c2)\n",
    "    print(terms)\n",
    "    dotprod = sum(c1.get(k, 0) * c2.get(k, 0) for k in terms)  #gives matches\n",
    "    print(dotprod)\n",
    "    magA = math.sqrt(sum(c1.get(k, 0)**2 for k in terms))\n",
    "    magB = math.sqrt(sum(c2.get(k, 0)**2 for k in terms))\n",
    "    return dotprod / (magA * magB)"
   ]
  },
  {
   "cell_type": "code",
   "execution_count": 14,
   "metadata": {},
   "outputs": [
    {
     "name": "stdout",
     "output_type": "stream",
     "text": [
      "{'grapefruit', 'apple', 'banana', 'orange'}\n",
      "8\n"
     ]
    },
    {
     "data": {
      "text/plain": [
       "0.8728715609439696"
      ]
     },
     "execution_count": 14,
     "metadata": {},
     "output_type": "execute_result"
    }
   ],
   "source": [
    "counter_cosine_similarity(counterB, counterA) #is reversible "
   ]
  },
  {
   "cell_type": "code",
   "execution_count": 15,
   "metadata": {},
   "outputs": [],
   "source": [
    "#tree.time"
   ]
  },
  {
   "cell_type": "code",
   "execution_count": 16,
   "metadata": {},
   "outputs": [],
   "source": [
    "#print(tree.impurity_fn, tree.impur(node1))\n",
    "#\n",
    "#for i in tree.get_all_node():\n",
    "#    a =1\n",
    "#    #print(i.name, tree.impur(i))"
   ]
  },
  {
   "cell_type": "code",
   "execution_count": 17,
   "metadata": {},
   "outputs": [],
   "source": [
    "n_dict = tree.identify_subtrees(tree.get_all_node(), tree.get_leaf() )\n",
    "\n",
    "#for i in n_dict:\n",
    "#    print(i.name)\n",
    "#    for a, nestedlist in enumerate(n_dict[i]):\n",
    "#        for child in nestedlist:\n",
    "#            print(a, child.name)\n",
    "#\n",
    "\n"
   ]
  },
  {
   "cell_type": "code",
   "execution_count": 18,
   "metadata": {},
   "outputs": [],
   "source": [
    "#tree.alpha_calculator(n_dict)"
   ]
  },
  {
   "cell_type": "code",
   "execution_count": 19,
   "metadata": {},
   "outputs": [],
   "source": [
    "#dir(tree)"
   ]
  },
  {
   "cell_type": "code",
   "execution_count": 20,
   "metadata": {},
   "outputs": [],
   "source": [
    "#tree._tree__node_search_split(node1, max_k = 1, combination_split = False, max_c = 1)"
   ]
  },
  {
   "cell_type": "code",
   "execution_count": 21,
   "metadata": {},
   "outputs": [],
   "source": [
    "#all_nodes, leaves = tree.cut_tree(20)\n",
    "#\n",
    "#print(len(all_nodes), len(leaves))"
   ]
  },
  {
   "cell_type": "code",
   "execution_count": 22,
   "metadata": {},
   "outputs": [],
   "source": [
    "#len(tree.get_leaf())"
   ]
  },
  {
   "cell_type": "code",
   "execution_count": 23,
   "metadata": {},
   "outputs": [],
   "source": [
    "#tree.print_tree(all_node = all_nodes, leaf = leaves, filename = \"a.png\",table = False, html = False)"
   ]
  },
  {
   "cell_type": "code",
   "execution_count": 24,
   "metadata": {},
   "outputs": [],
   "source": [
    "from statistics import variance, mean, pvariance"
   ]
  },
  {
   "cell_type": "code",
   "execution_count": 25,
   "metadata": {},
   "outputs": [
    {
     "data": {
      "text/plain": [
       "155526.82499999992"
      ]
     },
     "execution_count": 25,
     "metadata": {},
     "output_type": "execute_result"
    }
   ],
   "source": [
    "val = []\n",
    "meann = mean(tree.y)\n",
    "for i in tree.y:\n",
    "    val.append((i - meann)**2)\n",
    "\n",
    "sum(val) / len(val) * len(val)\n",
    "\n"
   ]
  },
  {
   "cell_type": "code",
   "execution_count": 26,
   "metadata": {},
   "outputs": [
    {
     "data": {
      "text/plain": [
       "155526.82499999998"
      ]
     },
     "execution_count": 26,
     "metadata": {},
     "output_type": "execute_result"
    }
   ],
   "source": [
    "pvariance(tree.y)*len(y)"
   ]
  },
  {
   "cell_type": "code",
   "execution_count": 27,
   "metadata": {},
   "outputs": [
    {
     "data": {
      "text/plain": [
       "156084.2688172043"
      ]
     },
     "execution_count": 27,
     "metadata": {},
     "output_type": "execute_result"
    }
   ],
   "source": [
    "variance(tree.y)*len(y)"
   ]
  },
  {
   "cell_type": "code",
   "execution_count": 28,
   "metadata": {},
   "outputs": [
    {
     "data": {
      "application/vnd.plotly.v1+json": {
       "config": {
        "plotlyServerURL": "https://plot.ly"
       },
       "data": [
        {
         "hoverinfo": "none",
         "line": {
          "color": "rgb(210,210,210)",
          "width": 1
         },
         "mode": "lines",
         "type": "scatter",
         "x": [
          0,
          -5.3125,
          null,
          0,
          5.3125,
          null,
          -5.3125,
          -9.1875,
          null,
          -5.3125,
          -1.4375,
          null,
          5.3125,
          3.3125,
          null,
          5.3125,
          7.3125,
          null,
          -9.1875,
          -11.1875,
          null,
          -9.1875,
          -7.1875,
          null,
          -1.4375,
          -3.1875,
          null,
          -1.4375,
          0.3125,
          null,
          3.3125,
          2.3125,
          null,
          3.3125,
          4.3125,
          null,
          7.3125,
          6.3125,
          null,
          7.3125,
          8.3125,
          null,
          -11.1875,
          -12.1875,
          null,
          -11.1875,
          -10.1875,
          null,
          -7.1875,
          -8.1875,
          null,
          -7.1875,
          -6.1875,
          null,
          0.3125,
          -0.1875,
          null,
          0.3125,
          0.8125,
          null,
          6.3125,
          5.8125,
          null,
          6.3125,
          6.8125,
          null,
          -0.1875,
          -0.6875,
          null,
          -0.1875,
          0.3125,
          null
         ],
         "y": [
          8,
          7,
          null,
          8,
          7,
          null,
          7,
          6,
          null,
          7,
          6,
          null,
          7,
          6,
          null,
          7,
          6,
          null,
          6,
          5,
          null,
          6,
          5,
          null,
          6,
          5,
          null,
          6,
          5,
          null,
          6,
          5,
          null,
          6,
          5,
          null,
          6,
          5,
          null,
          6,
          5,
          null,
          5,
          4,
          null,
          5,
          4,
          null,
          5,
          4,
          null,
          5,
          4,
          null,
          5,
          4,
          null,
          5,
          4,
          null,
          5,
          4,
          null,
          5,
          4,
          null,
          4,
          3,
          null,
          4,
          3,
          null
         ]
        },
        {
         "hoverinfo": "text",
         "marker": {
          "color": "#6175c1",
          "line": {
           "color": "rgb(50,50,50)",
           "width": 1
          },
          "size": 18,
          "symbol": "circle-dot"
         },
         "mode": "markers",
         "name": "Nodes",
         "opacity": 0.8,
         "text": [
          "n16, None, Bin Value: 117.08, pearson : 2462.92, Samples : 13",
          "n17, None, Bin Value: 135.64, pearson : 1905.21, Samples : 14",
          "n18, None, Bin Value: 128.67, pearson : 999.33, Samples : 6",
          "n19, None, Bin Value: 109.02, pearson : 10096.98, Samples : 56",
          "n10, None, Bin Value: 66.78, pearson : 4103.56, Samples : 9",
          "n23, None, Bin Value: 88.0, pearson : 5326.0, Samples : 19",
          "n44, None, Bin Value: 122.6, pearson : 1625.2, Samples : 5",
          "n45, None, Bin Value: 102.65, pearson : 10195.1, Samples : 40",
          "n12, None, Bin Value: 130.3, pearson : 5102.3, Samples : 30",
          "n13, None, Bin Value: 149.79, pearson : 7002.71, Samples : 28",
          "n15, None, Bin Value: 133.93, pearson : 832.93, Samples : 15",
          "n28, None, Bin Value: 114.83, pearson : 5907.0, Samples : 36",
          "n29, None, Bin Value: 97.89, pearson : 902.89, Samples : 9",
          "n1, CompPrice>127.5, Bin Value: 115.78, pearson : 155526.82, Samples : 280",
          "n2, Sales>7.55, Bin Value: 106.73, pearson : 75946.05, Samples : 162",
          "n4, Age>53.5, Bin Value: 115.71, pearson : 24566.4, Samples : 89",
          "n8, Income>67.0, Bin Value: 126.7, pearson : 6691.63, Samples : 27",
          "n9, Sales>2.76, Bin Value: 110.92, pearson : 13188.6, Samples : 62",
          "n5, CompPrice>99.0, Bin Value: 95.78, pearson : 35454.49, Samples : 73",
          "n11, Sales>10.63, Bin Value: 99.86, pearson : 22715.73, Samples : 64",
          "n22, Age>29.5, Bin Value: 104.87, pearson : 13589.2, Samples : 45",
          "n3, Sales>7.56, Bin Value: 128.19, pearson : 48120.52, Samples : 118",
          "n6, CompPrice>135.5, Bin Value: 139.71, pearson : 17604.02, Samples : 58",
          "n7, CompPrice>146.5, Bin Value: 117.07, pearson : 15399.73, Samples : 60",
          "n14, Sales>11.88, Bin Value: 111.44, pearson : 8877.11, Samples : 45"
         ],
         "type": "scatter",
         "x": [
          -12.1875,
          -10.1875,
          -8.1875,
          -6.1875,
          -3.1875,
          0.8125,
          -0.6875,
          0.3125,
          2.3125,
          4.3125,
          8.3125,
          5.8125,
          6.8125,
          0,
          -5.3125,
          -9.1875,
          -11.1875,
          -7.1875,
          -1.4375,
          0.3125,
          -0.1875,
          5.3125,
          3.3125,
          7.3125,
          6.3125
         ],
         "y": [
          4,
          4,
          4,
          4,
          5,
          4,
          3,
          3,
          5,
          5,
          5,
          4,
          4,
          8,
          7,
          6,
          5,
          5,
          6,
          5,
          4,
          7,
          6,
          6,
          5
         ]
        }
       ],
       "layout": {
        "template": {
         "data": {
          "bar": [
           {
            "error_x": {
             "color": "#2a3f5f"
            },
            "error_y": {
             "color": "#2a3f5f"
            },
            "marker": {
             "line": {
              "color": "#E5ECF6",
              "width": 0.5
             },
             "pattern": {
              "fillmode": "overlay",
              "size": 10,
              "solidity": 0.2
             }
            },
            "type": "bar"
           }
          ],
          "barpolar": [
           {
            "marker": {
             "line": {
              "color": "#E5ECF6",
              "width": 0.5
             },
             "pattern": {
              "fillmode": "overlay",
              "size": 10,
              "solidity": 0.2
             }
            },
            "type": "barpolar"
           }
          ],
          "carpet": [
           {
            "aaxis": {
             "endlinecolor": "#2a3f5f",
             "gridcolor": "white",
             "linecolor": "white",
             "minorgridcolor": "white",
             "startlinecolor": "#2a3f5f"
            },
            "baxis": {
             "endlinecolor": "#2a3f5f",
             "gridcolor": "white",
             "linecolor": "white",
             "minorgridcolor": "white",
             "startlinecolor": "#2a3f5f"
            },
            "type": "carpet"
           }
          ],
          "choropleth": [
           {
            "colorbar": {
             "outlinewidth": 0,
             "ticks": ""
            },
            "type": "choropleth"
           }
          ],
          "contour": [
           {
            "colorbar": {
             "outlinewidth": 0,
             "ticks": ""
            },
            "colorscale": [
             [
              0,
              "#0d0887"
             ],
             [
              0.1111111111111111,
              "#46039f"
             ],
             [
              0.2222222222222222,
              "#7201a8"
             ],
             [
              0.3333333333333333,
              "#9c179e"
             ],
             [
              0.4444444444444444,
              "#bd3786"
             ],
             [
              0.5555555555555556,
              "#d8576b"
             ],
             [
              0.6666666666666666,
              "#ed7953"
             ],
             [
              0.7777777777777778,
              "#fb9f3a"
             ],
             [
              0.8888888888888888,
              "#fdca26"
             ],
             [
              1,
              "#f0f921"
             ]
            ],
            "type": "contour"
           }
          ],
          "contourcarpet": [
           {
            "colorbar": {
             "outlinewidth": 0,
             "ticks": ""
            },
            "type": "contourcarpet"
           }
          ],
          "heatmap": [
           {
            "colorbar": {
             "outlinewidth": 0,
             "ticks": ""
            },
            "colorscale": [
             [
              0,
              "#0d0887"
             ],
             [
              0.1111111111111111,
              "#46039f"
             ],
             [
              0.2222222222222222,
              "#7201a8"
             ],
             [
              0.3333333333333333,
              "#9c179e"
             ],
             [
              0.4444444444444444,
              "#bd3786"
             ],
             [
              0.5555555555555556,
              "#d8576b"
             ],
             [
              0.6666666666666666,
              "#ed7953"
             ],
             [
              0.7777777777777778,
              "#fb9f3a"
             ],
             [
              0.8888888888888888,
              "#fdca26"
             ],
             [
              1,
              "#f0f921"
             ]
            ],
            "type": "heatmap"
           }
          ],
          "heatmapgl": [
           {
            "colorbar": {
             "outlinewidth": 0,
             "ticks": ""
            },
            "colorscale": [
             [
              0,
              "#0d0887"
             ],
             [
              0.1111111111111111,
              "#46039f"
             ],
             [
              0.2222222222222222,
              "#7201a8"
             ],
             [
              0.3333333333333333,
              "#9c179e"
             ],
             [
              0.4444444444444444,
              "#bd3786"
             ],
             [
              0.5555555555555556,
              "#d8576b"
             ],
             [
              0.6666666666666666,
              "#ed7953"
             ],
             [
              0.7777777777777778,
              "#fb9f3a"
             ],
             [
              0.8888888888888888,
              "#fdca26"
             ],
             [
              1,
              "#f0f921"
             ]
            ],
            "type": "heatmapgl"
           }
          ],
          "histogram": [
           {
            "marker": {
             "pattern": {
              "fillmode": "overlay",
              "size": 10,
              "solidity": 0.2
             }
            },
            "type": "histogram"
           }
          ],
          "histogram2d": [
           {
            "colorbar": {
             "outlinewidth": 0,
             "ticks": ""
            },
            "colorscale": [
             [
              0,
              "#0d0887"
             ],
             [
              0.1111111111111111,
              "#46039f"
             ],
             [
              0.2222222222222222,
              "#7201a8"
             ],
             [
              0.3333333333333333,
              "#9c179e"
             ],
             [
              0.4444444444444444,
              "#bd3786"
             ],
             [
              0.5555555555555556,
              "#d8576b"
             ],
             [
              0.6666666666666666,
              "#ed7953"
             ],
             [
              0.7777777777777778,
              "#fb9f3a"
             ],
             [
              0.8888888888888888,
              "#fdca26"
             ],
             [
              1,
              "#f0f921"
             ]
            ],
            "type": "histogram2d"
           }
          ],
          "histogram2dcontour": [
           {
            "colorbar": {
             "outlinewidth": 0,
             "ticks": ""
            },
            "colorscale": [
             [
              0,
              "#0d0887"
             ],
             [
              0.1111111111111111,
              "#46039f"
             ],
             [
              0.2222222222222222,
              "#7201a8"
             ],
             [
              0.3333333333333333,
              "#9c179e"
             ],
             [
              0.4444444444444444,
              "#bd3786"
             ],
             [
              0.5555555555555556,
              "#d8576b"
             ],
             [
              0.6666666666666666,
              "#ed7953"
             ],
             [
              0.7777777777777778,
              "#fb9f3a"
             ],
             [
              0.8888888888888888,
              "#fdca26"
             ],
             [
              1,
              "#f0f921"
             ]
            ],
            "type": "histogram2dcontour"
           }
          ],
          "mesh3d": [
           {
            "colorbar": {
             "outlinewidth": 0,
             "ticks": ""
            },
            "type": "mesh3d"
           }
          ],
          "parcoords": [
           {
            "line": {
             "colorbar": {
              "outlinewidth": 0,
              "ticks": ""
             }
            },
            "type": "parcoords"
           }
          ],
          "pie": [
           {
            "automargin": true,
            "type": "pie"
           }
          ],
          "scatter": [
           {
            "fillpattern": {
             "fillmode": "overlay",
             "size": 10,
             "solidity": 0.2
            },
            "type": "scatter"
           }
          ],
          "scatter3d": [
           {
            "line": {
             "colorbar": {
              "outlinewidth": 0,
              "ticks": ""
             }
            },
            "marker": {
             "colorbar": {
              "outlinewidth": 0,
              "ticks": ""
             }
            },
            "type": "scatter3d"
           }
          ],
          "scattercarpet": [
           {
            "marker": {
             "colorbar": {
              "outlinewidth": 0,
              "ticks": ""
             }
            },
            "type": "scattercarpet"
           }
          ],
          "scattergeo": [
           {
            "marker": {
             "colorbar": {
              "outlinewidth": 0,
              "ticks": ""
             }
            },
            "type": "scattergeo"
           }
          ],
          "scattergl": [
           {
            "marker": {
             "colorbar": {
              "outlinewidth": 0,
              "ticks": ""
             }
            },
            "type": "scattergl"
           }
          ],
          "scattermapbox": [
           {
            "marker": {
             "colorbar": {
              "outlinewidth": 0,
              "ticks": ""
             }
            },
            "type": "scattermapbox"
           }
          ],
          "scatterpolar": [
           {
            "marker": {
             "colorbar": {
              "outlinewidth": 0,
              "ticks": ""
             }
            },
            "type": "scatterpolar"
           }
          ],
          "scatterpolargl": [
           {
            "marker": {
             "colorbar": {
              "outlinewidth": 0,
              "ticks": ""
             }
            },
            "type": "scatterpolargl"
           }
          ],
          "scatterternary": [
           {
            "marker": {
             "colorbar": {
              "outlinewidth": 0,
              "ticks": ""
             }
            },
            "type": "scatterternary"
           }
          ],
          "surface": [
           {
            "colorbar": {
             "outlinewidth": 0,
             "ticks": ""
            },
            "colorscale": [
             [
              0,
              "#0d0887"
             ],
             [
              0.1111111111111111,
              "#46039f"
             ],
             [
              0.2222222222222222,
              "#7201a8"
             ],
             [
              0.3333333333333333,
              "#9c179e"
             ],
             [
              0.4444444444444444,
              "#bd3786"
             ],
             [
              0.5555555555555556,
              "#d8576b"
             ],
             [
              0.6666666666666666,
              "#ed7953"
             ],
             [
              0.7777777777777778,
              "#fb9f3a"
             ],
             [
              0.8888888888888888,
              "#fdca26"
             ],
             [
              1,
              "#f0f921"
             ]
            ],
            "type": "surface"
           }
          ],
          "table": [
           {
            "cells": {
             "fill": {
              "color": "#EBF0F8"
             },
             "line": {
              "color": "white"
             }
            },
            "header": {
             "fill": {
              "color": "#C8D4E3"
             },
             "line": {
              "color": "white"
             }
            },
            "type": "table"
           }
          ]
         },
         "layout": {
          "annotationdefaults": {
           "arrowcolor": "#2a3f5f",
           "arrowhead": 0,
           "arrowwidth": 1
          },
          "autotypenumbers": "strict",
          "coloraxis": {
           "colorbar": {
            "outlinewidth": 0,
            "ticks": ""
           }
          },
          "colorscale": {
           "diverging": [
            [
             0,
             "#8e0152"
            ],
            [
             0.1,
             "#c51b7d"
            ],
            [
             0.2,
             "#de77ae"
            ],
            [
             0.3,
             "#f1b6da"
            ],
            [
             0.4,
             "#fde0ef"
            ],
            [
             0.5,
             "#f7f7f7"
            ],
            [
             0.6,
             "#e6f5d0"
            ],
            [
             0.7,
             "#b8e186"
            ],
            [
             0.8,
             "#7fbc41"
            ],
            [
             0.9,
             "#4d9221"
            ],
            [
             1,
             "#276419"
            ]
           ],
           "sequential": [
            [
             0,
             "#0d0887"
            ],
            [
             0.1111111111111111,
             "#46039f"
            ],
            [
             0.2222222222222222,
             "#7201a8"
            ],
            [
             0.3333333333333333,
             "#9c179e"
            ],
            [
             0.4444444444444444,
             "#bd3786"
            ],
            [
             0.5555555555555556,
             "#d8576b"
            ],
            [
             0.6666666666666666,
             "#ed7953"
            ],
            [
             0.7777777777777778,
             "#fb9f3a"
            ],
            [
             0.8888888888888888,
             "#fdca26"
            ],
            [
             1,
             "#f0f921"
            ]
           ],
           "sequentialminus": [
            [
             0,
             "#0d0887"
            ],
            [
             0.1111111111111111,
             "#46039f"
            ],
            [
             0.2222222222222222,
             "#7201a8"
            ],
            [
             0.3333333333333333,
             "#9c179e"
            ],
            [
             0.4444444444444444,
             "#bd3786"
            ],
            [
             0.5555555555555556,
             "#d8576b"
            ],
            [
             0.6666666666666666,
             "#ed7953"
            ],
            [
             0.7777777777777778,
             "#fb9f3a"
            ],
            [
             0.8888888888888888,
             "#fdca26"
            ],
            [
             1,
             "#f0f921"
            ]
           ]
          },
          "colorway": [
           "#636efa",
           "#EF553B",
           "#00cc96",
           "#ab63fa",
           "#FFA15A",
           "#19d3f3",
           "#FF6692",
           "#B6E880",
           "#FF97FF",
           "#FECB52"
          ],
          "font": {
           "color": "#2a3f5f"
          },
          "geo": {
           "bgcolor": "white",
           "lakecolor": "white",
           "landcolor": "#E5ECF6",
           "showlakes": true,
           "showland": true,
           "subunitcolor": "white"
          },
          "hoverlabel": {
           "align": "left"
          },
          "hovermode": "closest",
          "mapbox": {
           "style": "light"
          },
          "paper_bgcolor": "white",
          "plot_bgcolor": "#E5ECF6",
          "polar": {
           "angularaxis": {
            "gridcolor": "white",
            "linecolor": "white",
            "ticks": ""
           },
           "bgcolor": "#E5ECF6",
           "radialaxis": {
            "gridcolor": "white",
            "linecolor": "white",
            "ticks": ""
           }
          },
          "scene": {
           "xaxis": {
            "backgroundcolor": "#E5ECF6",
            "gridcolor": "white",
            "gridwidth": 2,
            "linecolor": "white",
            "showbackground": true,
            "ticks": "",
            "zerolinecolor": "white"
           },
           "yaxis": {
            "backgroundcolor": "#E5ECF6",
            "gridcolor": "white",
            "gridwidth": 2,
            "linecolor": "white",
            "showbackground": true,
            "ticks": "",
            "zerolinecolor": "white"
           },
           "zaxis": {
            "backgroundcolor": "#E5ECF6",
            "gridcolor": "white",
            "gridwidth": 2,
            "linecolor": "white",
            "showbackground": true,
            "ticks": "",
            "zerolinecolor": "white"
           }
          },
          "shapedefaults": {
           "line": {
            "color": "#2a3f5f"
           }
          },
          "ternary": {
           "aaxis": {
            "gridcolor": "white",
            "linecolor": "white",
            "ticks": ""
           },
           "baxis": {
            "gridcolor": "white",
            "linecolor": "white",
            "ticks": ""
           },
           "bgcolor": "#E5ECF6",
           "caxis": {
            "gridcolor": "white",
            "linecolor": "white",
            "ticks": ""
           }
          },
          "title": {
           "x": 0.05
          },
          "xaxis": {
           "automargin": true,
           "gridcolor": "white",
           "linecolor": "white",
           "ticks": "",
           "title": {
            "standoff": 15
           },
           "zerolinecolor": "white",
           "zerolinewidth": 2
          },
          "yaxis": {
           "automargin": true,
           "gridcolor": "white",
           "linecolor": "white",
           "ticks": "",
           "title": {
            "standoff": 15
           },
           "zerolinecolor": "white",
           "zerolinewidth": 2
          }
         }
        },
        "title": {
         "text": "TREEplus_tree"
        }
       }
      }
     },
     "metadata": {},
     "output_type": "display_data"
    },
    {
     "data": {
      "text/html": [
       "<style type=\"text/css\">\n",
       "</style>\n",
       "<table id=\"T_40b72\">\n",
       "  <thead>\n",
       "    <tr>\n",
       "      <th id=\"T_40b72_level0_col0\" class=\"col_heading level0 col0\" >Node</th>\n",
       "      <th id=\"T_40b72_level0_col1\" class=\"col_heading level0 col1\" >Node Type</th>\n",
       "      <th id=\"T_40b72_level0_col2\" class=\"col_heading level0 col2\" >Variable Split</th>\n",
       "      <th id=\"T_40b72_level0_col3\" class=\"col_heading level0 col3\" >n</th>\n",
       "      <th id=\"T_40b72_level0_col4\" class=\"col_heading level0 col4\" >Deviance</th>\n",
       "      <th id=\"T_40b72_level0_col5\" class=\"col_heading level0 col5\" >Explained Deviance</th>\n",
       "      <th id=\"T_40b72_level0_col6\" class=\"col_heading level0 col6\" >Class/Value</th>\n",
       "    </tr>\n",
       "  </thead>\n",
       "  <tbody>\n",
       "    <tr>\n",
       "      <td id=\"T_40b72_row0_col0\" class=\"data row0 col0\" >n1</td>\n",
       "      <td id=\"T_40b72_row0_col1\" class=\"data row0 col1\" >Parent</td>\n",
       "      <td id=\"T_40b72_row0_col2\" class=\"data row0 col2\" >CompPrice>127.5</td>\n",
       "      <td id=\"T_40b72_row0_col3\" class=\"data row0 col3\" >280</td>\n",
       "      <td id=\"T_40b72_row0_col4\" class=\"data row0 col4\" >155526.82</td>\n",
       "      <td id=\"T_40b72_row0_col5\" class=\"data row0 col5\" >0.202</td>\n",
       "      <td id=\"T_40b72_row0_col6\" class=\"data row0 col6\" >115.78</td>\n",
       "    </tr>\n",
       "    <tr>\n",
       "      <td id=\"T_40b72_row1_col0\" class=\"data row1 col0\" >n2</td>\n",
       "      <td id=\"T_40b72_row1_col1\" class=\"data row1 col1\" >Parent</td>\n",
       "      <td id=\"T_40b72_row1_col2\" class=\"data row1 col2\" >Sales>7.55</td>\n",
       "      <td id=\"T_40b72_row1_col3\" class=\"data row1 col3\" >162</td>\n",
       "      <td id=\"T_40b72_row1_col4\" class=\"data row1 col4\" >75946.05</td>\n",
       "      <td id=\"T_40b72_row1_col5\" class=\"data row1 col5\" >0.305</td>\n",
       "      <td id=\"T_40b72_row1_col6\" class=\"data row1 col6\" >106.73</td>\n",
       "    </tr>\n",
       "    <tr>\n",
       "      <td id=\"T_40b72_row2_col0\" class=\"data row2 col0\" >n4</td>\n",
       "      <td id=\"T_40b72_row2_col1\" class=\"data row2 col1\" >Parent</td>\n",
       "      <td id=\"T_40b72_row2_col2\" class=\"data row2 col2\" >Age>53.5</td>\n",
       "      <td id=\"T_40b72_row2_col3\" class=\"data row2 col3\" >89</td>\n",
       "      <td id=\"T_40b72_row2_col4\" class=\"data row2 col4\" >24566.4</td>\n",
       "      <td id=\"T_40b72_row2_col5\" class=\"data row2 col5\" >0.335</td>\n",
       "      <td id=\"T_40b72_row2_col6\" class=\"data row2 col6\" >115.71</td>\n",
       "    </tr>\n",
       "    <tr>\n",
       "      <td id=\"T_40b72_row3_col0\" class=\"data row3 col0\" >n8</td>\n",
       "      <td id=\"T_40b72_row3_col1\" class=\"data row3 col1\" >Parent</td>\n",
       "      <td id=\"T_40b72_row3_col2\" class=\"data row3 col2\" >Income>67.0</td>\n",
       "      <td id=\"T_40b72_row3_col3\" class=\"data row3 col3\" >27</td>\n",
       "      <td id=\"T_40b72_row3_col4\" class=\"data row3 col4\" >6691.63</td>\n",
       "      <td id=\"T_40b72_row3_col5\" class=\"data row3 col5\" >0.35</td>\n",
       "      <td id=\"T_40b72_row3_col6\" class=\"data row3 col6\" >126.7</td>\n",
       "    </tr>\n",
       "    <tr>\n",
       "      <td id=\"T_40b72_row4_col0\" class=\"data row4 col0\" >n16</td>\n",
       "      <td id=\"T_40b72_row4_col1\" class=\"data row4 col1\" >Child</td>\n",
       "      <td id=\"T_40b72_row4_col2\" class=\"data row4 col2\" >None</td>\n",
       "      <td id=\"T_40b72_row4_col3\" class=\"data row4 col3\" >13</td>\n",
       "      <td id=\"T_40b72_row4_col4\" class=\"data row4 col4\" >2462.92</td>\n",
       "      <td id=\"T_40b72_row4_col5\" class=\"data row4 col5\" >None</td>\n",
       "      <td id=\"T_40b72_row4_col6\" class=\"data row4 col6\" >117.08</td>\n",
       "    </tr>\n",
       "    <tr>\n",
       "      <td id=\"T_40b72_row5_col0\" class=\"data row5 col0\" >n17</td>\n",
       "      <td id=\"T_40b72_row5_col1\" class=\"data row5 col1\" >Child</td>\n",
       "      <td id=\"T_40b72_row5_col2\" class=\"data row5 col2\" >None</td>\n",
       "      <td id=\"T_40b72_row5_col3\" class=\"data row5 col3\" >14</td>\n",
       "      <td id=\"T_40b72_row5_col4\" class=\"data row5 col4\" >1905.21</td>\n",
       "      <td id=\"T_40b72_row5_col5\" class=\"data row5 col5\" >None</td>\n",
       "      <td id=\"T_40b72_row5_col6\" class=\"data row5 col6\" >135.64</td>\n",
       "    </tr>\n",
       "    <tr>\n",
       "      <td id=\"T_40b72_row6_col0\" class=\"data row6 col0\" >n9</td>\n",
       "      <td id=\"T_40b72_row6_col1\" class=\"data row6 col1\" >Parent</td>\n",
       "      <td id=\"T_40b72_row6_col2\" class=\"data row6 col2\" >Sales>2.76</td>\n",
       "      <td id=\"T_40b72_row6_col3\" class=\"data row6 col3\" >62</td>\n",
       "      <td id=\"T_40b72_row6_col4\" class=\"data row6 col4\" >13188.6</td>\n",
       "      <td id=\"T_40b72_row6_col5\" class=\"data row6 col5\" >0.372</td>\n",
       "      <td id=\"T_40b72_row6_col6\" class=\"data row6 col6\" >110.92</td>\n",
       "    </tr>\n",
       "    <tr>\n",
       "      <td id=\"T_40b72_row7_col0\" class=\"data row7 col0\" >n18</td>\n",
       "      <td id=\"T_40b72_row7_col1\" class=\"data row7 col1\" >Child</td>\n",
       "      <td id=\"T_40b72_row7_col2\" class=\"data row7 col2\" >None</td>\n",
       "      <td id=\"T_40b72_row7_col3\" class=\"data row7 col3\" >6</td>\n",
       "      <td id=\"T_40b72_row7_col4\" class=\"data row7 col4\" >999.33</td>\n",
       "      <td id=\"T_40b72_row7_col5\" class=\"data row7 col5\" >None</td>\n",
       "      <td id=\"T_40b72_row7_col6\" class=\"data row7 col6\" >128.67</td>\n",
       "    </tr>\n",
       "    <tr>\n",
       "      <td id=\"T_40b72_row8_col0\" class=\"data row8 col0\" >n19</td>\n",
       "      <td id=\"T_40b72_row8_col1\" class=\"data row8 col1\" >Child</td>\n",
       "      <td id=\"T_40b72_row8_col2\" class=\"data row8 col2\" >None</td>\n",
       "      <td id=\"T_40b72_row8_col3\" class=\"data row8 col3\" >56</td>\n",
       "      <td id=\"T_40b72_row8_col4\" class=\"data row8 col4\" >10096.98</td>\n",
       "      <td id=\"T_40b72_row8_col5\" class=\"data row8 col5\" >None</td>\n",
       "      <td id=\"T_40b72_row8_col6\" class=\"data row8 col6\" >109.02</td>\n",
       "    </tr>\n",
       "    <tr>\n",
       "      <td id=\"T_40b72_row9_col0\" class=\"data row9 col0\" >n5</td>\n",
       "      <td id=\"T_40b72_row9_col1\" class=\"data row9 col1\" >Parent</td>\n",
       "      <td id=\"T_40b72_row9_col2\" class=\"data row9 col2\" >CompPrice>99.0</td>\n",
       "      <td id=\"T_40b72_row9_col3\" class=\"data row9 col3\" >73</td>\n",
       "      <td id=\"T_40b72_row9_col4\" class=\"data row9 col4\" >35454.49</td>\n",
       "      <td id=\"T_40b72_row9_col5\" class=\"data row9 col5\" >0.435</td>\n",
       "      <td id=\"T_40b72_row9_col6\" class=\"data row9 col6\" >95.78</td>\n",
       "    </tr>\n",
       "    <tr>\n",
       "      <td id=\"T_40b72_row10_col0\" class=\"data row10 col0\" >n10</td>\n",
       "      <td id=\"T_40b72_row10_col1\" class=\"data row10 col1\" >Child</td>\n",
       "      <td id=\"T_40b72_row10_col2\" class=\"data row10 col2\" >None</td>\n",
       "      <td id=\"T_40b72_row10_col3\" class=\"data row10 col3\" >9</td>\n",
       "      <td id=\"T_40b72_row10_col4\" class=\"data row10 col4\" >4103.56</td>\n",
       "      <td id=\"T_40b72_row10_col5\" class=\"data row10 col5\" >None</td>\n",
       "      <td id=\"T_40b72_row10_col6\" class=\"data row10 col6\" >66.78</td>\n",
       "    </tr>\n",
       "    <tr>\n",
       "      <td id=\"T_40b72_row11_col0\" class=\"data row11 col0\" >n11</td>\n",
       "      <td id=\"T_40b72_row11_col1\" class=\"data row11 col1\" >Parent</td>\n",
       "      <td id=\"T_40b72_row11_col2\" class=\"data row11 col2\" >Sales>10.63</td>\n",
       "      <td id=\"T_40b72_row11_col3\" class=\"data row11 col3\" >64</td>\n",
       "      <td id=\"T_40b72_row11_col4\" class=\"data row11 col4\" >22715.73</td>\n",
       "      <td id=\"T_40b72_row11_col5\" class=\"data row11 col5\" >0.46</td>\n",
       "      <td id=\"T_40b72_row11_col6\" class=\"data row11 col6\" >99.86</td>\n",
       "    </tr>\n",
       "    <tr>\n",
       "      <td id=\"T_40b72_row12_col0\" class=\"data row12 col0\" >n23</td>\n",
       "      <td id=\"T_40b72_row12_col1\" class=\"data row12 col1\" >Child</td>\n",
       "      <td id=\"T_40b72_row12_col2\" class=\"data row12 col2\" >None</td>\n",
       "      <td id=\"T_40b72_row12_col3\" class=\"data row12 col3\" >19</td>\n",
       "      <td id=\"T_40b72_row12_col4\" class=\"data row12 col4\" >5326.0</td>\n",
       "      <td id=\"T_40b72_row12_col5\" class=\"data row12 col5\" >None</td>\n",
       "      <td id=\"T_40b72_row12_col6\" class=\"data row12 col6\" >88.0</td>\n",
       "    </tr>\n",
       "    <tr>\n",
       "      <td id=\"T_40b72_row13_col0\" class=\"data row13 col0\" >n22</td>\n",
       "      <td id=\"T_40b72_row13_col1\" class=\"data row13 col1\" >Parent</td>\n",
       "      <td id=\"T_40b72_row13_col2\" class=\"data row13 col2\" >Age>29.5</td>\n",
       "      <td id=\"T_40b72_row13_col3\" class=\"data row13 col3\" >45</td>\n",
       "      <td id=\"T_40b72_row13_col4\" class=\"data row13 col4\" >13589.2</td>\n",
       "      <td id=\"T_40b72_row13_col5\" class=\"data row13 col5\" >0.471</td>\n",
       "      <td id=\"T_40b72_row13_col6\" class=\"data row13 col6\" >104.87</td>\n",
       "    </tr>\n",
       "    <tr>\n",
       "      <td id=\"T_40b72_row14_col0\" class=\"data row14 col0\" >n44</td>\n",
       "      <td id=\"T_40b72_row14_col1\" class=\"data row14 col1\" >Child</td>\n",
       "      <td id=\"T_40b72_row14_col2\" class=\"data row14 col2\" >None</td>\n",
       "      <td id=\"T_40b72_row14_col3\" class=\"data row14 col3\" >5</td>\n",
       "      <td id=\"T_40b72_row14_col4\" class=\"data row14 col4\" >1625.2</td>\n",
       "      <td id=\"T_40b72_row14_col5\" class=\"data row14 col5\" >None</td>\n",
       "      <td id=\"T_40b72_row14_col6\" class=\"data row14 col6\" >122.6</td>\n",
       "    </tr>\n",
       "    <tr>\n",
       "      <td id=\"T_40b72_row15_col0\" class=\"data row15 col0\" >n45</td>\n",
       "      <td id=\"T_40b72_row15_col1\" class=\"data row15 col1\" >Child</td>\n",
       "      <td id=\"T_40b72_row15_col2\" class=\"data row15 col2\" >None</td>\n",
       "      <td id=\"T_40b72_row15_col3\" class=\"data row15 col3\" >40</td>\n",
       "      <td id=\"T_40b72_row15_col4\" class=\"data row15 col4\" >10195.1</td>\n",
       "      <td id=\"T_40b72_row15_col5\" class=\"data row15 col5\" >None</td>\n",
       "      <td id=\"T_40b72_row15_col6\" class=\"data row15 col6\" >102.65</td>\n",
       "    </tr>\n",
       "    <tr>\n",
       "      <td id=\"T_40b72_row16_col0\" class=\"data row16 col0\" >n3</td>\n",
       "      <td id=\"T_40b72_row16_col1\" class=\"data row16 col1\" >Parent</td>\n",
       "      <td id=\"T_40b72_row16_col2\" class=\"data row16 col2\" >Sales>7.56</td>\n",
       "      <td id=\"T_40b72_row16_col3\" class=\"data row16 col3\" >118</td>\n",
       "      <td id=\"T_40b72_row16_col4\" class=\"data row16 col4\" >48120.52</td>\n",
       "      <td id=\"T_40b72_row16_col5\" class=\"data row16 col5\" >0.579</td>\n",
       "      <td id=\"T_40b72_row16_col6\" class=\"data row16 col6\" >128.19</td>\n",
       "    </tr>\n",
       "    <tr>\n",
       "      <td id=\"T_40b72_row17_col0\" class=\"data row17 col0\" >n6</td>\n",
       "      <td id=\"T_40b72_row17_col1\" class=\"data row17 col1\" >Parent</td>\n",
       "      <td id=\"T_40b72_row17_col2\" class=\"data row17 col2\" >CompPrice>135.5</td>\n",
       "      <td id=\"T_40b72_row17_col3\" class=\"data row17 col3\" >58</td>\n",
       "      <td id=\"T_40b72_row17_col4\" class=\"data row17 col4\" >17604.02</td>\n",
       "      <td id=\"T_40b72_row17_col5\" class=\"data row17 col5\" >0.614</td>\n",
       "      <td id=\"T_40b72_row17_col6\" class=\"data row17 col6\" >139.71</td>\n",
       "    </tr>\n",
       "    <tr>\n",
       "      <td id=\"T_40b72_row18_col0\" class=\"data row18 col0\" >n12</td>\n",
       "      <td id=\"T_40b72_row18_col1\" class=\"data row18 col1\" >Child</td>\n",
       "      <td id=\"T_40b72_row18_col2\" class=\"data row18 col2\" >None</td>\n",
       "      <td id=\"T_40b72_row18_col3\" class=\"data row18 col3\" >30</td>\n",
       "      <td id=\"T_40b72_row18_col4\" class=\"data row18 col4\" >5102.3</td>\n",
       "      <td id=\"T_40b72_row18_col5\" class=\"data row18 col5\" >None</td>\n",
       "      <td id=\"T_40b72_row18_col6\" class=\"data row18 col6\" >130.3</td>\n",
       "    </tr>\n",
       "    <tr>\n",
       "      <td id=\"T_40b72_row19_col0\" class=\"data row19 col0\" >n13</td>\n",
       "      <td id=\"T_40b72_row19_col1\" class=\"data row19 col1\" >Child</td>\n",
       "      <td id=\"T_40b72_row19_col2\" class=\"data row19 col2\" >None</td>\n",
       "      <td id=\"T_40b72_row19_col3\" class=\"data row19 col3\" >28</td>\n",
       "      <td id=\"T_40b72_row19_col4\" class=\"data row19 col4\" >7002.71</td>\n",
       "      <td id=\"T_40b72_row19_col5\" class=\"data row19 col5\" >None</td>\n",
       "      <td id=\"T_40b72_row19_col6\" class=\"data row19 col6\" >149.79</td>\n",
       "    </tr>\n",
       "    <tr>\n",
       "      <td id=\"T_40b72_row20_col0\" class=\"data row20 col0\" >n7</td>\n",
       "      <td id=\"T_40b72_row20_col1\" class=\"data row20 col1\" >Parent</td>\n",
       "      <td id=\"T_40b72_row20_col2\" class=\"data row20 col2\" >CompPrice>146.5</td>\n",
       "      <td id=\"T_40b72_row20_col3\" class=\"data row20 col3\" >60</td>\n",
       "      <td id=\"T_40b72_row20_col4\" class=\"data row20 col4\" >15399.73</td>\n",
       "      <td id=\"T_40b72_row20_col5\" class=\"data row20 col5\" >0.665</td>\n",
       "      <td id=\"T_40b72_row20_col6\" class=\"data row20 col6\" >117.07</td>\n",
       "    </tr>\n",
       "    <tr>\n",
       "      <td id=\"T_40b72_row21_col0\" class=\"data row21 col0\" >n15</td>\n",
       "      <td id=\"T_40b72_row21_col1\" class=\"data row21 col1\" >Child</td>\n",
       "      <td id=\"T_40b72_row21_col2\" class=\"data row21 col2\" >None</td>\n",
       "      <td id=\"T_40b72_row21_col3\" class=\"data row21 col3\" >15</td>\n",
       "      <td id=\"T_40b72_row21_col4\" class=\"data row21 col4\" >832.93</td>\n",
       "      <td id=\"T_40b72_row21_col5\" class=\"data row21 col5\" >None</td>\n",
       "      <td id=\"T_40b72_row21_col6\" class=\"data row21 col6\" >133.93</td>\n",
       "    </tr>\n",
       "    <tr>\n",
       "      <td id=\"T_40b72_row22_col0\" class=\"data row22 col0\" >n14</td>\n",
       "      <td id=\"T_40b72_row22_col1\" class=\"data row22 col1\" >Parent</td>\n",
       "      <td id=\"T_40b72_row22_col2\" class=\"data row22 col2\" >Sales>11.88</td>\n",
       "      <td id=\"T_40b72_row22_col3\" class=\"data row22 col3\" >45</td>\n",
       "      <td id=\"T_40b72_row22_col4\" class=\"data row22 col4\" >8877.11</td>\n",
       "      <td id=\"T_40b72_row22_col5\" class=\"data row22 col5\" >0.679</td>\n",
       "      <td id=\"T_40b72_row22_col6\" class=\"data row22 col6\" >111.44</td>\n",
       "    </tr>\n",
       "    <tr>\n",
       "      <td id=\"T_40b72_row23_col0\" class=\"data row23 col0\" >n28</td>\n",
       "      <td id=\"T_40b72_row23_col1\" class=\"data row23 col1\" >Child</td>\n",
       "      <td id=\"T_40b72_row23_col2\" class=\"data row23 col2\" >None</td>\n",
       "      <td id=\"T_40b72_row23_col3\" class=\"data row23 col3\" >36</td>\n",
       "      <td id=\"T_40b72_row23_col4\" class=\"data row23 col4\" >5907.0</td>\n",
       "      <td id=\"T_40b72_row23_col5\" class=\"data row23 col5\" >None</td>\n",
       "      <td id=\"T_40b72_row23_col6\" class=\"data row23 col6\" >114.83</td>\n",
       "    </tr>\n",
       "    <tr>\n",
       "      <td id=\"T_40b72_row24_col0\" class=\"data row24 col0\" >n29</td>\n",
       "      <td id=\"T_40b72_row24_col1\" class=\"data row24 col1\" >Child</td>\n",
       "      <td id=\"T_40b72_row24_col2\" class=\"data row24 col2\" >None</td>\n",
       "      <td id=\"T_40b72_row24_col3\" class=\"data row24 col3\" >9</td>\n",
       "      <td id=\"T_40b72_row24_col4\" class=\"data row24 col4\" >902.89</td>\n",
       "      <td id=\"T_40b72_row24_col5\" class=\"data row24 col5\" >None</td>\n",
       "      <td id=\"T_40b72_row24_col6\" class=\"data row24 col6\" >97.89</td>\n",
       "    </tr>\n",
       "  </tbody>\n",
       "</table>\n"
      ],
      "text/plain": [
       "<pandas.io.formats.style.Styler at 0x2390ff73290>"
      ]
     },
     "execution_count": 28,
     "metadata": {},
     "output_type": "execute_result"
    }
   ],
   "source": [
    "import warnings\n",
    "warnings.filterwarnings(\"ignore\", category=FutureWarning) \n",
    "\n",
    "start = time.time()\n",
    "tree.print_tree(table = True, html = False).style.hide()#_index() #print both the pruned and non pruned tree \n",
    "#tree.print_tree(table = False, html = False, visual_pruning = True)\n",
    "#time.time() - start"
   ]
  },
  {
   "cell_type": "code",
   "execution_count": 29,
   "metadata": {},
   "outputs": [
    {
     "data": {
      "application/vnd.plotly.v1+json": {
       "config": {
        "plotlyServerURL": "https://plot.ly"
       },
       "data": [
        {
         "hoverinfo": "none",
         "line": {
          "color": "rgb(210,210,210)",
          "width": 1
         },
         "mode": "lines",
         "type": "scatter",
         "x": [
          0,
          -5.3125,
          null,
          0,
          5.3125,
          null,
          -5.3125,
          -9.1875,
          null,
          -5.3125,
          -1.4375,
          null,
          5.3125,
          3.3125,
          null,
          5.3125,
          7.3125,
          null,
          -9.1875,
          -11.1875,
          null,
          -9.1875,
          -7.1875,
          null,
          -1.4375,
          -3.1875,
          null,
          -1.4375,
          0.3125,
          null,
          3.3125,
          2.3125,
          null,
          3.3125,
          4.3125,
          null,
          7.3125,
          6.3125,
          null,
          7.3125,
          8.3125,
          null,
          -11.1875,
          -12.1875,
          null,
          -11.1875,
          -10.1875,
          null,
          -7.1875,
          -8.1875,
          null,
          -7.1875,
          -6.1875,
          null,
          0.3125,
          -0.1875,
          null,
          0.3125,
          0.8125,
          null,
          6.3125,
          5.8125,
          null,
          6.3125,
          6.8125,
          null,
          -0.1875,
          -0.6875,
          null,
          -0.1875,
          0.3125,
          null
         ],
         "y": [
          1,
          0.7977181192496443,
          null,
          1,
          0.7977181192496443,
          null,
          0.7977181192496443,
          0.6953232318233172,
          null,
          0.7977181192496443,
          0.6953232318233172,
          null,
          0.7977181192496443,
          0.7005209548734032,
          null,
          0.7977181192496443,
          0.7005209548734032,
          null,
          0.6953232318233172,
          0.6651922361538638,
          null,
          0.6953232318233172,
          0.6651922361538638,
          null,
          0.6953232318233172,
          0.6398009563565004,
          null,
          0.6953232318233172,
          0.6398009563565004,
          null,
          0.7005209548734032,
          0.6651636912266654,
          null,
          0.7005209548734032,
          0.6651636912266654,
          null,
          0.7005209548734032,
          0.6639376266347607,
          null,
          0.7005209548734032,
          0.6639376266347607,
          null,
          0.6651922361538638,
          0.6502527408803489,
          null,
          0.6651922361538638,
          0.6502527408803489,
          null,
          0.6651922361538638,
          0.6517393716849654,
          null,
          0.6651922361538638,
          0.6517393716849654,
          null,
          0.6398009563565004,
          0.6153644363220947,
          null,
          0.6398009563565004,
          0.6153644363220947,
          null,
          0.6639376266347607,
          0.6506458859834472,
          null,
          0.6639376266347607,
          0.6506458859834472,
          null,
          0.6153644363220947,
          0.6039908356586723,
          null,
          0.6153644363220947,
          0.6039908356586723,
          null
         ]
        },
        {
         "hoverinfo": "text",
         "marker": {
          "color": "#6175c1",
          "line": {
           "color": "rgb(50,50,50)",
           "width": 1
          },
          "size": 18,
          "symbol": "circle-dot"
         },
         "mode": "markers",
         "name": "Nodes",
         "opacity": 0.8,
         "text": [
          "n16, None, Bin Value: 117.08, pearson : 2462.92, Samples : 13",
          "n17, None, Bin Value: 135.64, pearson : 1905.21, Samples : 14",
          "n18, None, Bin Value: 128.67, pearson : 999.33, Samples : 6",
          "n19, None, Bin Value: 109.02, pearson : 10096.98, Samples : 56",
          "n10, None, Bin Value: 66.78, pearson : 4103.56, Samples : 9",
          "n23, None, Bin Value: 88.0, pearson : 5326.0, Samples : 19",
          "n44, None, Bin Value: 122.6, pearson : 1625.2, Samples : 5",
          "n45, None, Bin Value: 102.65, pearson : 10195.1, Samples : 40",
          "n12, None, Bin Value: 130.3, pearson : 5102.3, Samples : 30",
          "n13, None, Bin Value: 149.79, pearson : 7002.71, Samples : 28",
          "n15, None, Bin Value: 133.93, pearson : 832.93, Samples : 15",
          "n28, None, Bin Value: 114.83, pearson : 5907.0, Samples : 36",
          "n29, None, Bin Value: 97.89, pearson : 902.89, Samples : 9",
          "n1, CompPrice>127.5, Bin Value: 115.78, pearson : 155526.82, Samples : 280",
          "n2, Sales>7.55, Bin Value: 106.73, pearson : 75946.05, Samples : 162",
          "n4, Age>53.5, Bin Value: 115.71, pearson : 24566.4, Samples : 89",
          "n8, Income>67.0, Bin Value: 126.7, pearson : 6691.63, Samples : 27",
          "n9, Sales>2.76, Bin Value: 110.92, pearson : 13188.6, Samples : 62",
          "n5, CompPrice>99.0, Bin Value: 95.78, pearson : 35454.49, Samples : 73",
          "n11, Sales>10.63, Bin Value: 99.86, pearson : 22715.73, Samples : 64",
          "n22, Age>29.5, Bin Value: 104.87, pearson : 13589.2, Samples : 45",
          "n3, Sales>7.56, Bin Value: 128.19, pearson : 48120.52, Samples : 118",
          "n6, CompPrice>135.5, Bin Value: 139.71, pearson : 17604.02, Samples : 58",
          "n7, CompPrice>146.5, Bin Value: 117.07, pearson : 15399.73, Samples : 60",
          "n14, Sales>11.88, Bin Value: 111.44, pearson : 8877.11, Samples : 45"
         ],
         "type": "scatter",
         "x": [
          -12.1875,
          -10.1875,
          -8.1875,
          -6.1875,
          -3.1875,
          0.8125,
          -0.6875,
          0.3125,
          2.3125,
          4.3125,
          8.3125,
          5.8125,
          6.8125,
          0,
          -5.3125,
          -9.1875,
          -11.1875,
          -7.1875,
          -1.4375,
          0.3125,
          -0.1875,
          5.3125,
          3.3125,
          7.3125,
          6.3125
         ],
         "y": [
          0.6502527408803489,
          0.6502527408803489,
          0.6517393716849654,
          0.6517393716849654,
          0.6398009563565004,
          0.6153644363220947,
          0.6039908356586723,
          0.6039908356586723,
          0.6651636912266654,
          0.6651636912266654,
          0.6639376266347607,
          0.6506458859834472,
          0.6506458859834472,
          1,
          0.7977181192496443,
          0.6953232318233172,
          0.6651922361538638,
          0.6651922361538638,
          0.6953232318233172,
          0.6398009563565004,
          0.6153644363220947,
          0.7977181192496443,
          0.7005209548734032,
          0.7005209548734032,
          0.6639376266347607
         ]
        }
       ],
       "layout": {
        "template": {
         "data": {
          "bar": [
           {
            "error_x": {
             "color": "#2a3f5f"
            },
            "error_y": {
             "color": "#2a3f5f"
            },
            "marker": {
             "line": {
              "color": "#E5ECF6",
              "width": 0.5
             },
             "pattern": {
              "fillmode": "overlay",
              "size": 10,
              "solidity": 0.2
             }
            },
            "type": "bar"
           }
          ],
          "barpolar": [
           {
            "marker": {
             "line": {
              "color": "#E5ECF6",
              "width": 0.5
             },
             "pattern": {
              "fillmode": "overlay",
              "size": 10,
              "solidity": 0.2
             }
            },
            "type": "barpolar"
           }
          ],
          "carpet": [
           {
            "aaxis": {
             "endlinecolor": "#2a3f5f",
             "gridcolor": "white",
             "linecolor": "white",
             "minorgridcolor": "white",
             "startlinecolor": "#2a3f5f"
            },
            "baxis": {
             "endlinecolor": "#2a3f5f",
             "gridcolor": "white",
             "linecolor": "white",
             "minorgridcolor": "white",
             "startlinecolor": "#2a3f5f"
            },
            "type": "carpet"
           }
          ],
          "choropleth": [
           {
            "colorbar": {
             "outlinewidth": 0,
             "ticks": ""
            },
            "type": "choropleth"
           }
          ],
          "contour": [
           {
            "colorbar": {
             "outlinewidth": 0,
             "ticks": ""
            },
            "colorscale": [
             [
              0,
              "#0d0887"
             ],
             [
              0.1111111111111111,
              "#46039f"
             ],
             [
              0.2222222222222222,
              "#7201a8"
             ],
             [
              0.3333333333333333,
              "#9c179e"
             ],
             [
              0.4444444444444444,
              "#bd3786"
             ],
             [
              0.5555555555555556,
              "#d8576b"
             ],
             [
              0.6666666666666666,
              "#ed7953"
             ],
             [
              0.7777777777777778,
              "#fb9f3a"
             ],
             [
              0.8888888888888888,
              "#fdca26"
             ],
             [
              1,
              "#f0f921"
             ]
            ],
            "type": "contour"
           }
          ],
          "contourcarpet": [
           {
            "colorbar": {
             "outlinewidth": 0,
             "ticks": ""
            },
            "type": "contourcarpet"
           }
          ],
          "heatmap": [
           {
            "colorbar": {
             "outlinewidth": 0,
             "ticks": ""
            },
            "colorscale": [
             [
              0,
              "#0d0887"
             ],
             [
              0.1111111111111111,
              "#46039f"
             ],
             [
              0.2222222222222222,
              "#7201a8"
             ],
             [
              0.3333333333333333,
              "#9c179e"
             ],
             [
              0.4444444444444444,
              "#bd3786"
             ],
             [
              0.5555555555555556,
              "#d8576b"
             ],
             [
              0.6666666666666666,
              "#ed7953"
             ],
             [
              0.7777777777777778,
              "#fb9f3a"
             ],
             [
              0.8888888888888888,
              "#fdca26"
             ],
             [
              1,
              "#f0f921"
             ]
            ],
            "type": "heatmap"
           }
          ],
          "heatmapgl": [
           {
            "colorbar": {
             "outlinewidth": 0,
             "ticks": ""
            },
            "colorscale": [
             [
              0,
              "#0d0887"
             ],
             [
              0.1111111111111111,
              "#46039f"
             ],
             [
              0.2222222222222222,
              "#7201a8"
             ],
             [
              0.3333333333333333,
              "#9c179e"
             ],
             [
              0.4444444444444444,
              "#bd3786"
             ],
             [
              0.5555555555555556,
              "#d8576b"
             ],
             [
              0.6666666666666666,
              "#ed7953"
             ],
             [
              0.7777777777777778,
              "#fb9f3a"
             ],
             [
              0.8888888888888888,
              "#fdca26"
             ],
             [
              1,
              "#f0f921"
             ]
            ],
            "type": "heatmapgl"
           }
          ],
          "histogram": [
           {
            "marker": {
             "pattern": {
              "fillmode": "overlay",
              "size": 10,
              "solidity": 0.2
             }
            },
            "type": "histogram"
           }
          ],
          "histogram2d": [
           {
            "colorbar": {
             "outlinewidth": 0,
             "ticks": ""
            },
            "colorscale": [
             [
              0,
              "#0d0887"
             ],
             [
              0.1111111111111111,
              "#46039f"
             ],
             [
              0.2222222222222222,
              "#7201a8"
             ],
             [
              0.3333333333333333,
              "#9c179e"
             ],
             [
              0.4444444444444444,
              "#bd3786"
             ],
             [
              0.5555555555555556,
              "#d8576b"
             ],
             [
              0.6666666666666666,
              "#ed7953"
             ],
             [
              0.7777777777777778,
              "#fb9f3a"
             ],
             [
              0.8888888888888888,
              "#fdca26"
             ],
             [
              1,
              "#f0f921"
             ]
            ],
            "type": "histogram2d"
           }
          ],
          "histogram2dcontour": [
           {
            "colorbar": {
             "outlinewidth": 0,
             "ticks": ""
            },
            "colorscale": [
             [
              0,
              "#0d0887"
             ],
             [
              0.1111111111111111,
              "#46039f"
             ],
             [
              0.2222222222222222,
              "#7201a8"
             ],
             [
              0.3333333333333333,
              "#9c179e"
             ],
             [
              0.4444444444444444,
              "#bd3786"
             ],
             [
              0.5555555555555556,
              "#d8576b"
             ],
             [
              0.6666666666666666,
              "#ed7953"
             ],
             [
              0.7777777777777778,
              "#fb9f3a"
             ],
             [
              0.8888888888888888,
              "#fdca26"
             ],
             [
              1,
              "#f0f921"
             ]
            ],
            "type": "histogram2dcontour"
           }
          ],
          "mesh3d": [
           {
            "colorbar": {
             "outlinewidth": 0,
             "ticks": ""
            },
            "type": "mesh3d"
           }
          ],
          "parcoords": [
           {
            "line": {
             "colorbar": {
              "outlinewidth": 0,
              "ticks": ""
             }
            },
            "type": "parcoords"
           }
          ],
          "pie": [
           {
            "automargin": true,
            "type": "pie"
           }
          ],
          "scatter": [
           {
            "fillpattern": {
             "fillmode": "overlay",
             "size": 10,
             "solidity": 0.2
            },
            "type": "scatter"
           }
          ],
          "scatter3d": [
           {
            "line": {
             "colorbar": {
              "outlinewidth": 0,
              "ticks": ""
             }
            },
            "marker": {
             "colorbar": {
              "outlinewidth": 0,
              "ticks": ""
             }
            },
            "type": "scatter3d"
           }
          ],
          "scattercarpet": [
           {
            "marker": {
             "colorbar": {
              "outlinewidth": 0,
              "ticks": ""
             }
            },
            "type": "scattercarpet"
           }
          ],
          "scattergeo": [
           {
            "marker": {
             "colorbar": {
              "outlinewidth": 0,
              "ticks": ""
             }
            },
            "type": "scattergeo"
           }
          ],
          "scattergl": [
           {
            "marker": {
             "colorbar": {
              "outlinewidth": 0,
              "ticks": ""
             }
            },
            "type": "scattergl"
           }
          ],
          "scattermapbox": [
           {
            "marker": {
             "colorbar": {
              "outlinewidth": 0,
              "ticks": ""
             }
            },
            "type": "scattermapbox"
           }
          ],
          "scatterpolar": [
           {
            "marker": {
             "colorbar": {
              "outlinewidth": 0,
              "ticks": ""
             }
            },
            "type": "scatterpolar"
           }
          ],
          "scatterpolargl": [
           {
            "marker": {
             "colorbar": {
              "outlinewidth": 0,
              "ticks": ""
             }
            },
            "type": "scatterpolargl"
           }
          ],
          "scatterternary": [
           {
            "marker": {
             "colorbar": {
              "outlinewidth": 0,
              "ticks": ""
             }
            },
            "type": "scatterternary"
           }
          ],
          "surface": [
           {
            "colorbar": {
             "outlinewidth": 0,
             "ticks": ""
            },
            "colorscale": [
             [
              0,
              "#0d0887"
             ],
             [
              0.1111111111111111,
              "#46039f"
             ],
             [
              0.2222222222222222,
              "#7201a8"
             ],
             [
              0.3333333333333333,
              "#9c179e"
             ],
             [
              0.4444444444444444,
              "#bd3786"
             ],
             [
              0.5555555555555556,
              "#d8576b"
             ],
             [
              0.6666666666666666,
              "#ed7953"
             ],
             [
              0.7777777777777778,
              "#fb9f3a"
             ],
             [
              0.8888888888888888,
              "#fdca26"
             ],
             [
              1,
              "#f0f921"
             ]
            ],
            "type": "surface"
           }
          ],
          "table": [
           {
            "cells": {
             "fill": {
              "color": "#EBF0F8"
             },
             "line": {
              "color": "white"
             }
            },
            "header": {
             "fill": {
              "color": "#C8D4E3"
             },
             "line": {
              "color": "white"
             }
            },
            "type": "table"
           }
          ]
         },
         "layout": {
          "annotationdefaults": {
           "arrowcolor": "#2a3f5f",
           "arrowhead": 0,
           "arrowwidth": 1
          },
          "autotypenumbers": "strict",
          "coloraxis": {
           "colorbar": {
            "outlinewidth": 0,
            "ticks": ""
           }
          },
          "colorscale": {
           "diverging": [
            [
             0,
             "#8e0152"
            ],
            [
             0.1,
             "#c51b7d"
            ],
            [
             0.2,
             "#de77ae"
            ],
            [
             0.3,
             "#f1b6da"
            ],
            [
             0.4,
             "#fde0ef"
            ],
            [
             0.5,
             "#f7f7f7"
            ],
            [
             0.6,
             "#e6f5d0"
            ],
            [
             0.7,
             "#b8e186"
            ],
            [
             0.8,
             "#7fbc41"
            ],
            [
             0.9,
             "#4d9221"
            ],
            [
             1,
             "#276419"
            ]
           ],
           "sequential": [
            [
             0,
             "#0d0887"
            ],
            [
             0.1111111111111111,
             "#46039f"
            ],
            [
             0.2222222222222222,
             "#7201a8"
            ],
            [
             0.3333333333333333,
             "#9c179e"
            ],
            [
             0.4444444444444444,
             "#bd3786"
            ],
            [
             0.5555555555555556,
             "#d8576b"
            ],
            [
             0.6666666666666666,
             "#ed7953"
            ],
            [
             0.7777777777777778,
             "#fb9f3a"
            ],
            [
             0.8888888888888888,
             "#fdca26"
            ],
            [
             1,
             "#f0f921"
            ]
           ],
           "sequentialminus": [
            [
             0,
             "#0d0887"
            ],
            [
             0.1111111111111111,
             "#46039f"
            ],
            [
             0.2222222222222222,
             "#7201a8"
            ],
            [
             0.3333333333333333,
             "#9c179e"
            ],
            [
             0.4444444444444444,
             "#bd3786"
            ],
            [
             0.5555555555555556,
             "#d8576b"
            ],
            [
             0.6666666666666666,
             "#ed7953"
            ],
            [
             0.7777777777777778,
             "#fb9f3a"
            ],
            [
             0.8888888888888888,
             "#fdca26"
            ],
            [
             1,
             "#f0f921"
            ]
           ]
          },
          "colorway": [
           "#636efa",
           "#EF553B",
           "#00cc96",
           "#ab63fa",
           "#FFA15A",
           "#19d3f3",
           "#FF6692",
           "#B6E880",
           "#FF97FF",
           "#FECB52"
          ],
          "font": {
           "color": "#2a3f5f"
          },
          "geo": {
           "bgcolor": "white",
           "lakecolor": "white",
           "landcolor": "#E5ECF6",
           "showlakes": true,
           "showland": true,
           "subunitcolor": "white"
          },
          "hoverlabel": {
           "align": "left"
          },
          "hovermode": "closest",
          "mapbox": {
           "style": "light"
          },
          "paper_bgcolor": "white",
          "plot_bgcolor": "#E5ECF6",
          "polar": {
           "angularaxis": {
            "gridcolor": "white",
            "linecolor": "white",
            "ticks": ""
           },
           "bgcolor": "#E5ECF6",
           "radialaxis": {
            "gridcolor": "white",
            "linecolor": "white",
            "ticks": ""
           }
          },
          "scene": {
           "xaxis": {
            "backgroundcolor": "#E5ECF6",
            "gridcolor": "white",
            "gridwidth": 2,
            "linecolor": "white",
            "showbackground": true,
            "ticks": "",
            "zerolinecolor": "white"
           },
           "yaxis": {
            "backgroundcolor": "#E5ECF6",
            "gridcolor": "white",
            "gridwidth": 2,
            "linecolor": "white",
            "showbackground": true,
            "ticks": "",
            "zerolinecolor": "white"
           },
           "zaxis": {
            "backgroundcolor": "#E5ECF6",
            "gridcolor": "white",
            "gridwidth": 2,
            "linecolor": "white",
            "showbackground": true,
            "ticks": "",
            "zerolinecolor": "white"
           }
          },
          "shapedefaults": {
           "line": {
            "color": "#2a3f5f"
           }
          },
          "ternary": {
           "aaxis": {
            "gridcolor": "white",
            "linecolor": "white",
            "ticks": ""
           },
           "baxis": {
            "gridcolor": "white",
            "linecolor": "white",
            "ticks": ""
           },
           "bgcolor": "#E5ECF6",
           "caxis": {
            "gridcolor": "white",
            "linecolor": "white",
            "ticks": ""
           }
          },
          "title": {
           "x": 0.05
          },
          "xaxis": {
           "automargin": true,
           "gridcolor": "white",
           "linecolor": "white",
           "ticks": "",
           "title": {
            "standoff": 15
           },
           "zerolinecolor": "white",
           "zerolinewidth": 2
          },
          "yaxis": {
           "automargin": true,
           "gridcolor": "white",
           "linecolor": "white",
           "ticks": "",
           "title": {
            "standoff": 15
           },
           "zerolinecolor": "white",
           "zerolinewidth": 2
          }
         }
        },
        "title": {
         "text": "TREEplus_tree"
        }
       }
      }
     },
     "metadata": {},
     "output_type": "display_data"
    }
   ],
   "source": [
    "tree.print_tree(table = False, html = False, visual_pruning = True)"
   ]
  },
  {
   "cell_type": "code",
   "execution_count": 30,
   "metadata": {},
   "outputs": [
    {
     "data": {
      "application/vnd.plotly.v1+json": {
       "config": {
        "plotlyServerURL": "https://plot.ly"
       },
       "data": [
        {
         "hoverinfo": "none",
         "line": {
          "color": "rgb(210,210,210)",
          "width": 1
         },
         "mode": "lines",
         "type": "scatter",
         "x": [
          0,
          -2.75,
          null,
          0,
          2.75,
          null,
          -2.75,
          -4.75,
          null,
          -2.75,
          -0.75,
          null,
          2.75,
          1.75,
          null,
          2.75,
          3.75,
          null,
          -4.75,
          -5.75,
          null,
          -4.75,
          -3.75,
          null,
          -0.75,
          -1.75,
          null,
          -0.75,
          0.25,
          null,
          1.75,
          1.25,
          null,
          1.75,
          2.25,
          null,
          3.75,
          3.25,
          null,
          3.75,
          4.25,
          null,
          -5.75,
          -6.25,
          null,
          -5.75,
          -5.25,
          null,
          -3.75,
          -4.25,
          null,
          -3.75,
          -3.25,
          null,
          0.25,
          -0.25,
          null,
          0.25,
          0.75,
          null
         ],
         "y": [
          1,
          0.7977181192496443,
          null,
          1,
          0.7977181192496443,
          null,
          0.7977181192496443,
          0.6953232318233172,
          null,
          0.7977181192496443,
          0.6953232318233172,
          null,
          0.7977181192496443,
          0.7005209548734032,
          null,
          0.7977181192496443,
          0.7005209548734032,
          null,
          0.6953232318233172,
          0.6651922361538638,
          null,
          0.6953232318233172,
          0.6651922361538638,
          null,
          0.6953232318233172,
          0.6398009563565004,
          null,
          0.6953232318233172,
          0.6398009563565004,
          null,
          0.7005209548734032,
          0.6651636912266654,
          null,
          0.7005209548734032,
          0.6651636912266654,
          null,
          0.7005209548734032,
          0.6639376266347607,
          null,
          0.7005209548734032,
          0.6639376266347607,
          null,
          0.6651922361538638,
          0.6502527408803489,
          null,
          0.6651922361538638,
          0.6502527408803489,
          null,
          0.6651922361538638,
          0.6517393716849654,
          null,
          0.6651922361538638,
          0.6517393716849654,
          null,
          0.6398009563565004,
          0.6153644363220947,
          null,
          0.6398009563565004,
          0.6153644363220947,
          null
         ]
        },
        {
         "hoverinfo": "text",
         "marker": {
          "color": "#6175c1",
          "line": {
           "color": "rgb(50,50,50)",
           "width": 1
          },
          "size": 18,
          "symbol": "circle-dot"
         },
         "mode": "markers",
         "name": "Nodes",
         "opacity": 0.8,
         "text": [
          "n16, None, Bin Value: 117.08, pearson : 2462.92, Samples : 13",
          "n17, None, Bin Value: 135.64, pearson : 1905.21, Samples : 14",
          "n18, None, Bin Value: 128.67, pearson : 999.33, Samples : 6",
          "n19, None, Bin Value: 109.02, pearson : 10096.98, Samples : 56",
          "n10, None, Bin Value: 66.78, pearson : 4103.56, Samples : 9",
          "n23, None, Bin Value: 88.0, pearson : 5326.0, Samples : 19",
          "n12, None, Bin Value: 130.3, pearson : 5102.3, Samples : 30",
          "n13, None, Bin Value: 149.79, pearson : 7002.71, Samples : 28",
          "n15, None, Bin Value: 133.93, pearson : 832.93, Samples : 15",
          "n1, CompPrice>127.5, Bin Value: 115.78, pearson : 155526.82, Samples : 280",
          "n2, Sales>7.55, Bin Value: 106.73, pearson : 75946.05, Samples : 162",
          "n4, Age>53.5, Bin Value: 115.71, pearson : 24566.4, Samples : 89",
          "n8, Income>67.0, Bin Value: 126.7, pearson : 6691.63, Samples : 27",
          "n9, Sales>2.76, Bin Value: 110.92, pearson : 13188.6, Samples : 62",
          "n5, CompPrice>99.0, Bin Value: 95.78, pearson : 35454.49, Samples : 73",
          "n11, Sales>10.63, Bin Value: 99.86, pearson : 22715.73, Samples : 64",
          "n22, Age>29.5, Bin Value: 104.87, pearson : 13589.2, Samples : 45",
          "n3, Sales>7.56, Bin Value: 128.19, pearson : 48120.52, Samples : 118",
          "n6, CompPrice>135.5, Bin Value: 139.71, pearson : 17604.02, Samples : 58",
          "n7, CompPrice>146.5, Bin Value: 117.07, pearson : 15399.73, Samples : 60",
          "n14, Sales>11.88, Bin Value: 111.44, pearson : 8877.11, Samples : 45"
         ],
         "type": "scatter",
         "x": [
          -6.25,
          -5.25,
          -4.25,
          -3.25,
          -1.75,
          0.75,
          1.25,
          2.25,
          4.25,
          0,
          -2.75,
          -4.75,
          -5.75,
          -3.75,
          -0.75,
          0.25,
          -0.25,
          2.75,
          1.75,
          3.75,
          3.25
         ],
         "y": [
          0.6502527408803489,
          0.6502527408803489,
          0.6517393716849654,
          0.6517393716849654,
          0.6398009563565004,
          0.6153644363220947,
          0.6651636912266654,
          0.6651636912266654,
          0.6639376266347607,
          1,
          0.7977181192496443,
          0.6953232318233172,
          0.6651922361538638,
          0.6651922361538638,
          0.6953232318233172,
          0.6398009563565004,
          0.6153644363220947,
          0.7977181192496443,
          0.7005209548734032,
          0.7005209548734032,
          0.6639376266347607
         ]
        }
       ],
       "layout": {
        "template": {
         "data": {
          "bar": [
           {
            "error_x": {
             "color": "#2a3f5f"
            },
            "error_y": {
             "color": "#2a3f5f"
            },
            "marker": {
             "line": {
              "color": "#E5ECF6",
              "width": 0.5
             },
             "pattern": {
              "fillmode": "overlay",
              "size": 10,
              "solidity": 0.2
             }
            },
            "type": "bar"
           }
          ],
          "barpolar": [
           {
            "marker": {
             "line": {
              "color": "#E5ECF6",
              "width": 0.5
             },
             "pattern": {
              "fillmode": "overlay",
              "size": 10,
              "solidity": 0.2
             }
            },
            "type": "barpolar"
           }
          ],
          "carpet": [
           {
            "aaxis": {
             "endlinecolor": "#2a3f5f",
             "gridcolor": "white",
             "linecolor": "white",
             "minorgridcolor": "white",
             "startlinecolor": "#2a3f5f"
            },
            "baxis": {
             "endlinecolor": "#2a3f5f",
             "gridcolor": "white",
             "linecolor": "white",
             "minorgridcolor": "white",
             "startlinecolor": "#2a3f5f"
            },
            "type": "carpet"
           }
          ],
          "choropleth": [
           {
            "colorbar": {
             "outlinewidth": 0,
             "ticks": ""
            },
            "type": "choropleth"
           }
          ],
          "contour": [
           {
            "colorbar": {
             "outlinewidth": 0,
             "ticks": ""
            },
            "colorscale": [
             [
              0,
              "#0d0887"
             ],
             [
              0.1111111111111111,
              "#46039f"
             ],
             [
              0.2222222222222222,
              "#7201a8"
             ],
             [
              0.3333333333333333,
              "#9c179e"
             ],
             [
              0.4444444444444444,
              "#bd3786"
             ],
             [
              0.5555555555555556,
              "#d8576b"
             ],
             [
              0.6666666666666666,
              "#ed7953"
             ],
             [
              0.7777777777777778,
              "#fb9f3a"
             ],
             [
              0.8888888888888888,
              "#fdca26"
             ],
             [
              1,
              "#f0f921"
             ]
            ],
            "type": "contour"
           }
          ],
          "contourcarpet": [
           {
            "colorbar": {
             "outlinewidth": 0,
             "ticks": ""
            },
            "type": "contourcarpet"
           }
          ],
          "heatmap": [
           {
            "colorbar": {
             "outlinewidth": 0,
             "ticks": ""
            },
            "colorscale": [
             [
              0,
              "#0d0887"
             ],
             [
              0.1111111111111111,
              "#46039f"
             ],
             [
              0.2222222222222222,
              "#7201a8"
             ],
             [
              0.3333333333333333,
              "#9c179e"
             ],
             [
              0.4444444444444444,
              "#bd3786"
             ],
             [
              0.5555555555555556,
              "#d8576b"
             ],
             [
              0.6666666666666666,
              "#ed7953"
             ],
             [
              0.7777777777777778,
              "#fb9f3a"
             ],
             [
              0.8888888888888888,
              "#fdca26"
             ],
             [
              1,
              "#f0f921"
             ]
            ],
            "type": "heatmap"
           }
          ],
          "heatmapgl": [
           {
            "colorbar": {
             "outlinewidth": 0,
             "ticks": ""
            },
            "colorscale": [
             [
              0,
              "#0d0887"
             ],
             [
              0.1111111111111111,
              "#46039f"
             ],
             [
              0.2222222222222222,
              "#7201a8"
             ],
             [
              0.3333333333333333,
              "#9c179e"
             ],
             [
              0.4444444444444444,
              "#bd3786"
             ],
             [
              0.5555555555555556,
              "#d8576b"
             ],
             [
              0.6666666666666666,
              "#ed7953"
             ],
             [
              0.7777777777777778,
              "#fb9f3a"
             ],
             [
              0.8888888888888888,
              "#fdca26"
             ],
             [
              1,
              "#f0f921"
             ]
            ],
            "type": "heatmapgl"
           }
          ],
          "histogram": [
           {
            "marker": {
             "pattern": {
              "fillmode": "overlay",
              "size": 10,
              "solidity": 0.2
             }
            },
            "type": "histogram"
           }
          ],
          "histogram2d": [
           {
            "colorbar": {
             "outlinewidth": 0,
             "ticks": ""
            },
            "colorscale": [
             [
              0,
              "#0d0887"
             ],
             [
              0.1111111111111111,
              "#46039f"
             ],
             [
              0.2222222222222222,
              "#7201a8"
             ],
             [
              0.3333333333333333,
              "#9c179e"
             ],
             [
              0.4444444444444444,
              "#bd3786"
             ],
             [
              0.5555555555555556,
              "#d8576b"
             ],
             [
              0.6666666666666666,
              "#ed7953"
             ],
             [
              0.7777777777777778,
              "#fb9f3a"
             ],
             [
              0.8888888888888888,
              "#fdca26"
             ],
             [
              1,
              "#f0f921"
             ]
            ],
            "type": "histogram2d"
           }
          ],
          "histogram2dcontour": [
           {
            "colorbar": {
             "outlinewidth": 0,
             "ticks": ""
            },
            "colorscale": [
             [
              0,
              "#0d0887"
             ],
             [
              0.1111111111111111,
              "#46039f"
             ],
             [
              0.2222222222222222,
              "#7201a8"
             ],
             [
              0.3333333333333333,
              "#9c179e"
             ],
             [
              0.4444444444444444,
              "#bd3786"
             ],
             [
              0.5555555555555556,
              "#d8576b"
             ],
             [
              0.6666666666666666,
              "#ed7953"
             ],
             [
              0.7777777777777778,
              "#fb9f3a"
             ],
             [
              0.8888888888888888,
              "#fdca26"
             ],
             [
              1,
              "#f0f921"
             ]
            ],
            "type": "histogram2dcontour"
           }
          ],
          "mesh3d": [
           {
            "colorbar": {
             "outlinewidth": 0,
             "ticks": ""
            },
            "type": "mesh3d"
           }
          ],
          "parcoords": [
           {
            "line": {
             "colorbar": {
              "outlinewidth": 0,
              "ticks": ""
             }
            },
            "type": "parcoords"
           }
          ],
          "pie": [
           {
            "automargin": true,
            "type": "pie"
           }
          ],
          "scatter": [
           {
            "fillpattern": {
             "fillmode": "overlay",
             "size": 10,
             "solidity": 0.2
            },
            "type": "scatter"
           }
          ],
          "scatter3d": [
           {
            "line": {
             "colorbar": {
              "outlinewidth": 0,
              "ticks": ""
             }
            },
            "marker": {
             "colorbar": {
              "outlinewidth": 0,
              "ticks": ""
             }
            },
            "type": "scatter3d"
           }
          ],
          "scattercarpet": [
           {
            "marker": {
             "colorbar": {
              "outlinewidth": 0,
              "ticks": ""
             }
            },
            "type": "scattercarpet"
           }
          ],
          "scattergeo": [
           {
            "marker": {
             "colorbar": {
              "outlinewidth": 0,
              "ticks": ""
             }
            },
            "type": "scattergeo"
           }
          ],
          "scattergl": [
           {
            "marker": {
             "colorbar": {
              "outlinewidth": 0,
              "ticks": ""
             }
            },
            "type": "scattergl"
           }
          ],
          "scattermapbox": [
           {
            "marker": {
             "colorbar": {
              "outlinewidth": 0,
              "ticks": ""
             }
            },
            "type": "scattermapbox"
           }
          ],
          "scatterpolar": [
           {
            "marker": {
             "colorbar": {
              "outlinewidth": 0,
              "ticks": ""
             }
            },
            "type": "scatterpolar"
           }
          ],
          "scatterpolargl": [
           {
            "marker": {
             "colorbar": {
              "outlinewidth": 0,
              "ticks": ""
             }
            },
            "type": "scatterpolargl"
           }
          ],
          "scatterternary": [
           {
            "marker": {
             "colorbar": {
              "outlinewidth": 0,
              "ticks": ""
             }
            },
            "type": "scatterternary"
           }
          ],
          "surface": [
           {
            "colorbar": {
             "outlinewidth": 0,
             "ticks": ""
            },
            "colorscale": [
             [
              0,
              "#0d0887"
             ],
             [
              0.1111111111111111,
              "#46039f"
             ],
             [
              0.2222222222222222,
              "#7201a8"
             ],
             [
              0.3333333333333333,
              "#9c179e"
             ],
             [
              0.4444444444444444,
              "#bd3786"
             ],
             [
              0.5555555555555556,
              "#d8576b"
             ],
             [
              0.6666666666666666,
              "#ed7953"
             ],
             [
              0.7777777777777778,
              "#fb9f3a"
             ],
             [
              0.8888888888888888,
              "#fdca26"
             ],
             [
              1,
              "#f0f921"
             ]
            ],
            "type": "surface"
           }
          ],
          "table": [
           {
            "cells": {
             "fill": {
              "color": "#EBF0F8"
             },
             "line": {
              "color": "white"
             }
            },
            "header": {
             "fill": {
              "color": "#C8D4E3"
             },
             "line": {
              "color": "white"
             }
            },
            "type": "table"
           }
          ]
         },
         "layout": {
          "annotationdefaults": {
           "arrowcolor": "#2a3f5f",
           "arrowhead": 0,
           "arrowwidth": 1
          },
          "autotypenumbers": "strict",
          "coloraxis": {
           "colorbar": {
            "outlinewidth": 0,
            "ticks": ""
           }
          },
          "colorscale": {
           "diverging": [
            [
             0,
             "#8e0152"
            ],
            [
             0.1,
             "#c51b7d"
            ],
            [
             0.2,
             "#de77ae"
            ],
            [
             0.3,
             "#f1b6da"
            ],
            [
             0.4,
             "#fde0ef"
            ],
            [
             0.5,
             "#f7f7f7"
            ],
            [
             0.6,
             "#e6f5d0"
            ],
            [
             0.7,
             "#b8e186"
            ],
            [
             0.8,
             "#7fbc41"
            ],
            [
             0.9,
             "#4d9221"
            ],
            [
             1,
             "#276419"
            ]
           ],
           "sequential": [
            [
             0,
             "#0d0887"
            ],
            [
             0.1111111111111111,
             "#46039f"
            ],
            [
             0.2222222222222222,
             "#7201a8"
            ],
            [
             0.3333333333333333,
             "#9c179e"
            ],
            [
             0.4444444444444444,
             "#bd3786"
            ],
            [
             0.5555555555555556,
             "#d8576b"
            ],
            [
             0.6666666666666666,
             "#ed7953"
            ],
            [
             0.7777777777777778,
             "#fb9f3a"
            ],
            [
             0.8888888888888888,
             "#fdca26"
            ],
            [
             1,
             "#f0f921"
            ]
           ],
           "sequentialminus": [
            [
             0,
             "#0d0887"
            ],
            [
             0.1111111111111111,
             "#46039f"
            ],
            [
             0.2222222222222222,
             "#7201a8"
            ],
            [
             0.3333333333333333,
             "#9c179e"
            ],
            [
             0.4444444444444444,
             "#bd3786"
            ],
            [
             0.5555555555555556,
             "#d8576b"
            ],
            [
             0.6666666666666666,
             "#ed7953"
            ],
            [
             0.7777777777777778,
             "#fb9f3a"
            ],
            [
             0.8888888888888888,
             "#fdca26"
            ],
            [
             1,
             "#f0f921"
            ]
           ]
          },
          "colorway": [
           "#636efa",
           "#EF553B",
           "#00cc96",
           "#ab63fa",
           "#FFA15A",
           "#19d3f3",
           "#FF6692",
           "#B6E880",
           "#FF97FF",
           "#FECB52"
          ],
          "font": {
           "color": "#2a3f5f"
          },
          "geo": {
           "bgcolor": "white",
           "lakecolor": "white",
           "landcolor": "#E5ECF6",
           "showlakes": true,
           "showland": true,
           "subunitcolor": "white"
          },
          "hoverlabel": {
           "align": "left"
          },
          "hovermode": "closest",
          "mapbox": {
           "style": "light"
          },
          "paper_bgcolor": "white",
          "plot_bgcolor": "#E5ECF6",
          "polar": {
           "angularaxis": {
            "gridcolor": "white",
            "linecolor": "white",
            "ticks": ""
           },
           "bgcolor": "#E5ECF6",
           "radialaxis": {
            "gridcolor": "white",
            "linecolor": "white",
            "ticks": ""
           }
          },
          "scene": {
           "xaxis": {
            "backgroundcolor": "#E5ECF6",
            "gridcolor": "white",
            "gridwidth": 2,
            "linecolor": "white",
            "showbackground": true,
            "ticks": "",
            "zerolinecolor": "white"
           },
           "yaxis": {
            "backgroundcolor": "#E5ECF6",
            "gridcolor": "white",
            "gridwidth": 2,
            "linecolor": "white",
            "showbackground": true,
            "ticks": "",
            "zerolinecolor": "white"
           },
           "zaxis": {
            "backgroundcolor": "#E5ECF6",
            "gridcolor": "white",
            "gridwidth": 2,
            "linecolor": "white",
            "showbackground": true,
            "ticks": "",
            "zerolinecolor": "white"
           }
          },
          "shapedefaults": {
           "line": {
            "color": "#2a3f5f"
           }
          },
          "ternary": {
           "aaxis": {
            "gridcolor": "white",
            "linecolor": "white",
            "ticks": ""
           },
           "baxis": {
            "gridcolor": "white",
            "linecolor": "white",
            "ticks": ""
           },
           "bgcolor": "#E5ECF6",
           "caxis": {
            "gridcolor": "white",
            "linecolor": "white",
            "ticks": ""
           }
          },
          "title": {
           "x": 0.05
          },
          "xaxis": {
           "automargin": true,
           "gridcolor": "white",
           "linecolor": "white",
           "ticks": "",
           "title": {
            "standoff": 15
           },
           "zerolinecolor": "white",
           "zerolinewidth": 2
          },
          "yaxis": {
           "automargin": true,
           "gridcolor": "white",
           "linecolor": "white",
           "ticks": "",
           "title": {
            "standoff": 15
           },
           "zerolinecolor": "white",
           "zerolinewidth": 2
          }
         }
        },
        "title": {
         "text": "TREEplus_tree"
        }
       }
      }
     },
     "metadata": {},
     "output_type": "display_data"
    }
   ],
   "source": [
    "all_node, leaves = tree.cut_tree(11)\n",
    "tree.print_tree(all_node, leaves, html = False, visual_pruning = True)"
   ]
  },
  {
   "cell_type": "code",
   "execution_count": 31,
   "metadata": {},
   "outputs": [
    {
     "name": "stdout",
     "output_type": "stream",
     "text": [
      "To return the table, print_tree must be True: setting print_tree to True\n",
      "Best tree for test set has 6 leaves with a deviance of: 365.12339845930427 \n"
     ]
    },
    {
     "data": {
      "image/png": "[encoded data removed]",
      "text/plain": [
       "<Figure size 640x480 with 1 Axes>"
      ]
     },
     "metadata": {},
     "output_type": "display_data"
    },
    {
     "data": {
      "application/vnd.plotly.v1+json": {
       "config": {
        "plotlyServerURL": "https://plot.ly"
       },
       "data": [
        {
         "hoverinfo": "none",
         "line": {
          "color": "rgb(210,210,210)",
          "width": 1
         },
         "mode": "lines",
         "type": "scatter",
         "x": [
          0,
          -2,
          null,
          0,
          2,
          null,
          -2,
          -3,
          null,
          -2,
          -1,
          null,
          2,
          1,
          null,
          2,
          3,
          null,
          -1,
          -1.5,
          null,
          -1,
          -0.5,
          null,
          3,
          2.5,
          null,
          3,
          3.5,
          null
         ],
         "y": [
          6,
          5,
          null,
          6,
          5,
          null,
          5,
          4,
          null,
          5,
          4,
          null,
          5,
          4,
          null,
          5,
          4,
          null,
          4,
          3,
          null,
          4,
          3,
          null,
          4,
          3,
          null,
          4,
          3,
          null
         ]
        },
        {
         "hoverinfo": "text",
         "marker": {
          "color": "#6175c1",
          "line": {
           "color": "rgb(50,50,50)",
           "width": 1
          },
          "size": 18,
          "symbol": "circle-dot"
         },
         "mode": "markers",
         "name": "Nodes",
         "opacity": 0.8,
         "text": [
          "n10, None, Bin Value: 66.78, pearson : 4103.56, Samples : 9",
          "n15, None, Bin Value: 133.93, pearson : 832.93, Samples : 15",
          "n1, CompPrice>127.5, Bin Value: 115.78, pearson : 155526.82, Samples : 280",
          "n2, Sales>7.55, Bin Value: 106.73, pearson : 75946.05, Samples : 162",
          "n4, Age>53.5, Bin Value: 115.71, pearson : 24566.4, Samples : 89",
          "n5, CompPrice>99.0, Bin Value: 95.78, pearson : 35454.49, Samples : 73",
          "n11, Sales>10.63, Bin Value: 99.86, pearson : 22715.73, Samples : 64",
          "n3, Sales>7.56, Bin Value: 128.19, pearson : 48120.52, Samples : 118",
          "n6, CompPrice>135.5, Bin Value: 139.71, pearson : 17604.02, Samples : 58",
          "n7, CompPrice>146.5, Bin Value: 117.07, pearson : 15399.73, Samples : 60",
          "n14, Sales>11.88, Bin Value: 111.44, pearson : 8877.11, Samples : 45"
         ],
         "type": "scatter",
         "x": [
          -1.5,
          3.5,
          0,
          -2,
          -3,
          -1,
          -0.5,
          2,
          1,
          3,
          2.5
         ],
         "y": [
          3,
          3,
          6,
          5,
          4,
          4,
          3,
          5,
          4,
          4,
          3
         ]
        }
       ],
       "layout": {
        "template": {
         "data": {
          "bar": [
           {
            "error_x": {
             "color": "#2a3f5f"
            },
            "error_y": {
             "color": "#2a3f5f"
            },
            "marker": {
             "line": {
              "color": "#E5ECF6",
              "width": 0.5
             },
             "pattern": {
              "fillmode": "overlay",
              "size": 10,
              "solidity": 0.2
             }
            },
            "type": "bar"
           }
          ],
          "barpolar": [
           {
            "marker": {
             "line": {
              "color": "#E5ECF6",
              "width": 0.5
             },
             "pattern": {
              "fillmode": "overlay",
              "size": 10,
              "solidity": 0.2
             }
            },
            "type": "barpolar"
           }
          ],
          "carpet": [
           {
            "aaxis": {
             "endlinecolor": "#2a3f5f",
             "gridcolor": "white",
             "linecolor": "white",
             "minorgridcolor": "white",
             "startlinecolor": "#2a3f5f"
            },
            "baxis": {
             "endlinecolor": "#2a3f5f",
             "gridcolor": "white",
             "linecolor": "white",
             "minorgridcolor": "white",
             "startlinecolor": "#2a3f5f"
            },
            "type": "carpet"
           }
          ],
          "choropleth": [
           {
            "colorbar": {
             "outlinewidth": 0,
             "ticks": ""
            },
            "type": "choropleth"
           }
          ],
          "contour": [
           {
            "colorbar": {
             "outlinewidth": 0,
             "ticks": ""
            },
            "colorscale": [
             [
              0,
              "#0d0887"
             ],
             [
              0.1111111111111111,
              "#46039f"
             ],
             [
              0.2222222222222222,
              "#7201a8"
             ],
             [
              0.3333333333333333,
              "#9c179e"
             ],
             [
              0.4444444444444444,
              "#bd3786"
             ],
             [
              0.5555555555555556,
              "#d8576b"
             ],
             [
              0.6666666666666666,
              "#ed7953"
             ],
             [
              0.7777777777777778,
              "#fb9f3a"
             ],
             [
              0.8888888888888888,
              "#fdca26"
             ],
             [
              1,
              "#f0f921"
             ]
            ],
            "type": "contour"
           }
          ],
          "contourcarpet": [
           {
            "colorbar": {
             "outlinewidth": 0,
             "ticks": ""
            },
            "type": "contourcarpet"
           }
          ],
          "heatmap": [
           {
            "colorbar": {
             "outlinewidth": 0,
             "ticks": ""
            },
            "colorscale": [
             [
              0,
              "#0d0887"
             ],
             [
              0.1111111111111111,
              "#46039f"
             ],
             [
              0.2222222222222222,
              "#7201a8"
             ],
             [
              0.3333333333333333,
              "#9c179e"
             ],
             [
              0.4444444444444444,
              "#bd3786"
             ],
             [
              0.5555555555555556,
              "#d8576b"
             ],
             [
              0.6666666666666666,
              "#ed7953"
             ],
             [
              0.7777777777777778,
              "#fb9f3a"
             ],
             [
              0.8888888888888888,
              "#fdca26"
             ],
             [
              1,
              "#f0f921"
             ]
            ],
            "type": "heatmap"
           }
          ],
          "heatmapgl": [
           {
            "colorbar": {
             "outlinewidth": 0,
             "ticks": ""
            },
            "colorscale": [
             [
              0,
              "#0d0887"
             ],
             [
              0.1111111111111111,
              "#46039f"
             ],
             [
              0.2222222222222222,
              "#7201a8"
             ],
             [
              0.3333333333333333,
              "#9c179e"
             ],
             [
              0.4444444444444444,
              "#bd3786"
             ],
             [
              0.5555555555555556,
              "#d8576b"
             ],
             [
              0.6666666666666666,
              "#ed7953"
             ],
             [
              0.7777777777777778,
              "#fb9f3a"
             ],
             [
              0.8888888888888888,
              "#fdca26"
             ],
             [
              1,
              "#f0f921"
             ]
            ],
            "type": "heatmapgl"
           }
          ],
          "histogram": [
           {
            "marker": {
             "pattern": {
              "fillmode": "overlay",
              "size": 10,
              "solidity": 0.2
             }
            },
            "type": "histogram"
           }
          ],
          "histogram2d": [
           {
            "colorbar": {
             "outlinewidth": 0,
             "ticks": ""
            },
            "colorscale": [
             [
              0,
              "#0d0887"
             ],
             [
              0.1111111111111111,
              "#46039f"
             ],
             [
              0.2222222222222222,
              "#7201a8"
             ],
             [
              0.3333333333333333,
              "#9c179e"
             ],
             [
              0.4444444444444444,
              "#bd3786"
             ],
             [
              0.5555555555555556,
              "#d8576b"
             ],
             [
              0.6666666666666666,
              "#ed7953"
             ],
             [
              0.7777777777777778,
              "#fb9f3a"
             ],
             [
              0.8888888888888888,
              "#fdca26"
             ],
             [
              1,
              "#f0f921"
             ]
            ],
            "type": "histogram2d"
           }
          ],
          "histogram2dcontour": [
           {
            "colorbar": {
             "outlinewidth": 0,
             "ticks": ""
            },
            "colorscale": [
             [
              0,
              "#0d0887"
             ],
             [
              0.1111111111111111,
              "#46039f"
             ],
             [
              0.2222222222222222,
              "#7201a8"
             ],
             [
              0.3333333333333333,
              "#9c179e"
             ],
             [
              0.4444444444444444,
              "#bd3786"
             ],
             [
              0.5555555555555556,
              "#d8576b"
             ],
             [
              0.6666666666666666,
              "#ed7953"
             ],
             [
              0.7777777777777778,
              "#fb9f3a"
             ],
             [
              0.8888888888888888,
              "#fdca26"
             ],
             [
              1,
              "#f0f921"
             ]
            ],
            "type": "histogram2dcontour"
           }
          ],
          "mesh3d": [
           {
            "colorbar": {
             "outlinewidth": 0,
             "ticks": ""
            },
            "type": "mesh3d"
           }
          ],
          "parcoords": [
           {
            "line": {
             "colorbar": {
              "outlinewidth": 0,
              "ticks": ""
             }
            },
            "type": "parcoords"
           }
          ],
          "pie": [
           {
            "automargin": true,
            "type": "pie"
           }
          ],
          "scatter": [
           {
            "fillpattern": {
             "fillmode": "overlay",
             "size": 10,
             "solidity": 0.2
            },
            "type": "scatter"
           }
          ],
          "scatter3d": [
           {
            "line": {
             "colorbar": {
              "outlinewidth": 0,
              "ticks": ""
             }
            },
            "marker": {
             "colorbar": {
              "outlinewidth": 0,
              "ticks": ""
             }
            },
            "type": "scatter3d"
           }
          ],
          "scattercarpet": [
           {
            "marker": {
             "colorbar": {
              "outlinewidth": 0,
              "ticks": ""
             }
            },
            "type": "scattercarpet"
           }
          ],
          "scattergeo": [
           {
            "marker": {
             "colorbar": {
              "outlinewidth": 0,
              "ticks": ""
             }
            },
            "type": "scattergeo"
           }
          ],
          "scattergl": [
           {
            "marker": {
             "colorbar": {
              "outlinewidth": 0,
              "ticks": ""
             }
            },
            "type": "scattergl"
           }
          ],
          "scattermapbox": [
           {
            "marker": {
             "colorbar": {
              "outlinewidth": 0,
              "ticks": ""
             }
            },
            "type": "scattermapbox"
           }
          ],
          "scatterpolar": [
           {
            "marker": {
             "colorbar": {
              "outlinewidth": 0,
              "ticks": ""
             }
            },
            "type": "scatterpolar"
           }
          ],
          "scatterpolargl": [
           {
            "marker": {
             "colorbar": {
              "outlinewidth": 0,
              "ticks": ""
             }
            },
            "type": "scatterpolargl"
           }
          ],
          "scatterternary": [
           {
            "marker": {
             "colorbar": {
              "outlinewidth": 0,
              "ticks": ""
             }
            },
            "type": "scatterternary"
           }
          ],
          "surface": [
           {
            "colorbar": {
             "outlinewidth": 0,
             "ticks": ""
            },
            "colorscale": [
             [
              0,
              "#0d0887"
             ],
             [
              0.1111111111111111,
              "#46039f"
             ],
             [
              0.2222222222222222,
              "#7201a8"
             ],
             [
              0.3333333333333333,
              "#9c179e"
             ],
             [
              0.4444444444444444,
              "#bd3786"
             ],
             [
              0.5555555555555556,
              "#d8576b"
             ],
             [
              0.6666666666666666,
              "#ed7953"
             ],
             [
              0.7777777777777778,
              "#fb9f3a"
             ],
             [
              0.8888888888888888,
              "#fdca26"
             ],
             [
              1,
              "#f0f921"
             ]
            ],
            "type": "surface"
           }
          ],
          "table": [
           {
            "cells": {
             "fill": {
              "color": "#EBF0F8"
             },
             "line": {
              "color": "white"
             }
            },
            "header": {
             "fill": {
              "color": "#C8D4E3"
             },
             "line": {
              "color": "white"
             }
            },
            "type": "table"
           }
          ]
         },
         "layout": {
          "annotationdefaults": {
           "arrowcolor": "#2a3f5f",
           "arrowhead": 0,
           "arrowwidth": 1
          },
          "autotypenumbers": "strict",
          "coloraxis": {
           "colorbar": {
            "outlinewidth": 0,
            "ticks": ""
           }
          },
          "colorscale": {
           "diverging": [
            [
             0,
             "#8e0152"
            ],
            [
             0.1,
             "#c51b7d"
            ],
            [
             0.2,
             "#de77ae"
            ],
            [
             0.3,
             "#f1b6da"
            ],
            [
             0.4,
             "#fde0ef"
            ],
            [
             0.5,
             "#f7f7f7"
            ],
            [
             0.6,
             "#e6f5d0"
            ],
            [
             0.7,
             "#b8e186"
            ],
            [
             0.8,
             "#7fbc41"
            ],
            [
             0.9,
             "#4d9221"
            ],
            [
             1,
             "#276419"
            ]
           ],
           "sequential": [
            [
             0,
             "#0d0887"
            ],
            [
             0.1111111111111111,
             "#46039f"
            ],
            [
             0.2222222222222222,
             "#7201a8"
            ],
            [
             0.3333333333333333,
             "#9c179e"
            ],
            [
             0.4444444444444444,
             "#bd3786"
            ],
            [
             0.5555555555555556,
             "#d8576b"
            ],
            [
             0.6666666666666666,
             "#ed7953"
            ],
            [
             0.7777777777777778,
             "#fb9f3a"
            ],
            [
             0.8888888888888888,
             "#fdca26"
            ],
            [
             1,
             "#f0f921"
            ]
           ],
           "sequentialminus": [
            [
             0,
             "#0d0887"
            ],
            [
             0.1111111111111111,
             "#46039f"
            ],
            [
             0.2222222222222222,
             "#7201a8"
            ],
            [
             0.3333333333333333,
             "#9c179e"
            ],
            [
             0.4444444444444444,
             "#bd3786"
            ],
            [
             0.5555555555555556,
             "#d8576b"
            ],
            [
             0.6666666666666666,
             "#ed7953"
            ],
            [
             0.7777777777777778,
             "#fb9f3a"
            ],
            [
             0.8888888888888888,
             "#fdca26"
            ],
            [
             1,
             "#f0f921"
            ]
           ]
          },
          "colorway": [
           "#636efa",
           "#EF553B",
           "#00cc96",
           "#ab63fa",
           "#FFA15A",
           "#19d3f3",
           "#FF6692",
           "#B6E880",
           "#FF97FF",
           "#FECB52"
          ],
          "font": {
           "color": "#2a3f5f"
          },
          "geo": {
           "bgcolor": "white",
           "lakecolor": "white",
           "landcolor": "#E5ECF6",
           "showlakes": true,
           "showland": true,
           "subunitcolor": "white"
          },
          "hoverlabel": {
           "align": "left"
          },
          "hovermode": "closest",
          "mapbox": {
           "style": "light"
          },
          "paper_bgcolor": "white",
          "plot_bgcolor": "#E5ECF6",
          "polar": {
           "angularaxis": {
            "gridcolor": "white",
            "linecolor": "white",
            "ticks": ""
           },
           "bgcolor": "#E5ECF6",
           "radialaxis": {
            "gridcolor": "white",
            "linecolor": "white",
            "ticks": ""
           }
          },
          "scene": {
           "xaxis": {
            "backgroundcolor": "#E5ECF6",
            "gridcolor": "white",
            "gridwidth": 2,
            "linecolor": "white",
            "showbackground": true,
            "ticks": "",
            "zerolinecolor": "white"
           },
           "yaxis": {
            "backgroundcolor": "#E5ECF6",
            "gridcolor": "white",
            "gridwidth": 2,
            "linecolor": "white",
            "showbackground": true,
            "ticks": "",
            "zerolinecolor": "white"
           },
           "zaxis": {
            "backgroundcolor": "#E5ECF6",
            "gridcolor": "white",
            "gridwidth": 2,
            "linecolor": "white",
            "showbackground": true,
            "ticks": "",
            "zerolinecolor": "white"
           }
          },
          "shapedefaults": {
           "line": {
            "color": "#2a3f5f"
           }
          },
          "ternary": {
           "aaxis": {
            "gridcolor": "white",
            "linecolor": "white",
            "ticks": ""
           },
           "baxis": {
            "gridcolor": "white",
            "linecolor": "white",
            "ticks": ""
           },
           "bgcolor": "#E5ECF6",
           "caxis": {
            "gridcolor": "white",
            "linecolor": "white",
            "ticks": ""
           }
          },
          "title": {
           "x": 0.05
          },
          "xaxis": {
           "automargin": true,
           "gridcolor": "white",
           "linecolor": "white",
           "ticks": "",
           "title": {
            "standoff": 15
           },
           "zerolinecolor": "white",
           "zerolinewidth": 2
          },
          "yaxis": {
           "automargin": true,
           "gridcolor": "white",
           "linecolor": "white",
           "ticks": "",
           "title": {
            "standoff": 15
           },
           "zerolinecolor": "white",
           "zerolinewidth": 2
          }
         }
        },
        "title": {
         "text": "TREEplus_tree_pruned"
        }
       }
      }
     },
     "metadata": {},
     "output_type": "display_data"
    }
   ],
   "source": [
    "start = time.time()\n",
    "alpha, pruned_table = tree.pruning(features_test, n_features_test, y_test, table = True, html = False, graph_results = True)\n",
    "#pruned_table#.style#.hide_index()\n",
    "\n",
    "#time.time()- start"
   ]
  },
  {
   "cell_type": "code",
   "execution_count": 32,
   "metadata": {},
   "outputs": [
    {
     "data": {
      "text/plain": [
       "[('Alpha = 0',\n",
       "  'value soglia = None',\n",
       "  'deviance = 201.65051750828545',\n",
       "  'leaves = 13'),\n",
       " ('Alpha = 1768.8999999999996',\n",
       "  \"value soglia = ['Age', 29.5, 4]\",\n",
       "  'deviance = 207.96801750828556',\n",
       "  'leaves = 12'),\n",
       " ('Alpha = 2067.2222222222235',\n",
       "  \"value soglia = ['Sales', 11.879999999999999, 3]\",\n",
       "  'deviance = 215.3509540162221',\n",
       "  'leaves = 11'),\n",
       " ('Alpha = 2092.2812980030776',\n",
       "  \"value soglia = ['Sales', 2.755, 3]\",\n",
       "  'deviance = 222.82338722337602',\n",
       "  'leaves = 10'),\n",
       " ('Alpha = 2323.492266992266',\n",
       "  \"value soglia = ['Income', 67.0, 3]\",\n",
       "  'deviance = 231.12157389120551',\n",
       "  'leaves = 9'),\n",
       " ('Alpha = 3800.534375000003',\n",
       "  \"value soglia = ['Sales', 10.629999999999999, 3]\",\n",
       "  'deviance = 244.69491094477667',\n",
       "  'leaves = 8'),\n",
       " ('Alpha = 4686.178090558838',\n",
       "  \"value soglia = ['Age', 53.5, 2]\",\n",
       "  'deviance = 261.431261268201',\n",
       "  'leaves = 7'),\n",
       " ('Alpha = 5499.0029556650225',\n",
       "  \"value soglia = ['CompPrice', 135.5, 2]\",\n",
       "  'deviance = 281.0705575384331',\n",
       "  'leaves = 6'),\n",
       " ('Alpha = 5689.688888888888',\n",
       "  \"value soglia = ['CompPrice', 146.5, 2]\",\n",
       "  'deviance = 301.3908749987506',\n",
       "  'leaves = 5'),\n",
       " ('Alpha = 8635.203220129362',\n",
       "  \"value soglia = ['CompPrice', 99.0, 2]\",\n",
       "  'deviance = 332.23088649921306',\n",
       "  'leaves = 4'),\n",
       " ('Alpha = 15116.766374439903',\n",
       "  \"value soglia = ['Sales', 7.555, 1]\",\n",
       "  'deviance = 386.21933783649797',\n",
       "  'leaves = 3'),\n",
       " ('Alpha = 15925.151737649147',\n",
       "  \"value soglia = ['Sales', 7.55, 1]\",\n",
       "  'deviance = 443.0948797566736',\n",
       "  'leaves = 2')]"
      ]
     },
     "execution_count": 32,
     "metadata": {},
     "output_type": "execute_result"
    }
   ],
   "source": [
    "alpha"
   ]
  },
  {
   "cell_type": "code",
   "execution_count": 33,
   "metadata": {},
   "outputs": [
    {
     "name": "stdout",
     "output_type": "stream",
     "text": [
      "('Alpha = 0', 'value soglia = None', 'deviance = 201.65051750828545', 'leaves = 13')\n",
      "('Alpha = 1768.8999999999996', \"value soglia = ['Age', 29.5, 4]\", 'deviance = 207.96801750828556', 'leaves = 12')\n",
      "('Alpha = 2067.2222222222235', \"value soglia = ['Sales', 11.879999999999999, 3]\", 'deviance = 215.3509540162221', 'leaves = 11')\n",
      "('Alpha = 2092.2812980030776', \"value soglia = ['Sales', 2.755, 3]\", 'deviance = 222.82338722337602', 'leaves = 10')\n",
      "('Alpha = 2323.492266992266', \"value soglia = ['Income', 67.0, 3]\", 'deviance = 231.12157389120551', 'leaves = 9')\n",
      "('Alpha = 3800.534375000003', \"value soglia = ['Sales', 10.629999999999999, 3]\", 'deviance = 244.69491094477667', 'leaves = 8')\n",
      "('Alpha = 4686.178090558838', \"value soglia = ['Age', 53.5, 2]\", 'deviance = 261.431261268201', 'leaves = 7')\n",
      "('Alpha = 5499.0029556650225', \"value soglia = ['CompPrice', 135.5, 2]\", 'deviance = 281.0705575384331', 'leaves = 6')\n",
      "('Alpha = 5689.688888888888', \"value soglia = ['CompPrice', 146.5, 2]\", 'deviance = 301.3908749987506', 'leaves = 5')\n",
      "('Alpha = 8635.203220129362', \"value soglia = ['CompPrice', 99.0, 2]\", 'deviance = 332.23088649921306', 'leaves = 4')\n",
      "('Alpha = 15116.766374439903', \"value soglia = ['Sales', 7.555, 1]\", 'deviance = 386.21933783649797', 'leaves = 3')\n",
      "('Alpha = 15925.151737649147', \"value soglia = ['Sales', 7.55, 1]\", 'deviance = 443.0948797566736', 'leaves = 2')\n"
     ]
    }
   ],
   "source": [
    "tree.print_alpha(alpha)"
   ]
  },
  {
   "cell_type": "code",
   "execution_count": 34,
   "metadata": {},
   "outputs": [
    {
     "name": "stdout",
     "output_type": "stream",
     "text": [
      "To return the table, print_tree must be True: setting print_tree to True\n",
      "Best tree for test set has 6 leaves with a deviance of: 365.12339845930427 \n"
     ]
    },
    {
     "data": {
      "image/png": "[encoded data removed]",
      "text/plain": [
       "<Figure size 640x480 with 1 Axes>"
      ]
     },
     "metadata": {},
     "output_type": "display_data"
    },
    {
     "data": {
      "application/vnd.plotly.v1+json": {
       "config": {
        "plotlyServerURL": "https://plot.ly"
       },
       "data": [
        {
         "hoverinfo": "none",
         "line": {
          "color": "rgb(210,210,210)",
          "width": 1
         },
         "mode": "lines",
         "type": "scatter",
         "x": [
          0,
          -2,
          null,
          0,
          2,
          null,
          -2,
          -3,
          null,
          -2,
          -1,
          null,
          2,
          1,
          null,
          2,
          3,
          null,
          -1,
          -1.5,
          null,
          -1,
          -0.5,
          null,
          3,
          2.5,
          null,
          3,
          3.5,
          null
         ],
         "y": [
          1,
          0.7977181192496443,
          null,
          1,
          0.7977181192496443,
          null,
          0.7977181192496443,
          0.6953232318233172,
          null,
          0.7977181192496443,
          0.6953232318233172,
          null,
          0.7977181192496443,
          0.7005209548734032,
          null,
          0.7977181192496443,
          0.7005209548734032,
          null,
          0.6953232318233172,
          0.6398009563565004,
          null,
          0.6953232318233172,
          0.6398009563565004,
          null,
          0.7005209548734032,
          0.6639376266347607,
          null,
          0.7005209548734032,
          0.6639376266347607,
          null
         ]
        },
        {
         "hoverinfo": "text",
         "marker": {
          "color": "#6175c1",
          "line": {
           "color": "rgb(50,50,50)",
           "width": 1
          },
          "size": 18,
          "symbol": "circle-dot"
         },
         "mode": "markers",
         "name": "Nodes",
         "opacity": 0.8,
         "text": [
          "n10, None, Bin Value: 66.78, pearson : 4103.56, Samples : 9",
          "n15, None, Bin Value: 133.93, pearson : 832.93, Samples : 15",
          "n1, CompPrice>127.5, Bin Value: 115.78, pearson : 155526.82, Samples : 280",
          "n2, Sales>7.55, Bin Value: 106.73, pearson : 75946.05, Samples : 162",
          "n4, Age>53.5, Bin Value: 115.71, pearson : 24566.4, Samples : 89",
          "n5, CompPrice>99.0, Bin Value: 95.78, pearson : 35454.49, Samples : 73",
          "n11, Sales>10.63, Bin Value: 99.86, pearson : 22715.73, Samples : 64",
          "n3, Sales>7.56, Bin Value: 128.19, pearson : 48120.52, Samples : 118",
          "n6, CompPrice>135.5, Bin Value: 139.71, pearson : 17604.02, Samples : 58",
          "n7, CompPrice>146.5, Bin Value: 117.07, pearson : 15399.73, Samples : 60",
          "n14, Sales>11.88, Bin Value: 111.44, pearson : 8877.11, Samples : 45"
         ],
         "type": "scatter",
         "x": [
          -1.5,
          3.5,
          0,
          -2,
          -3,
          -1,
          -0.5,
          2,
          1,
          3,
          2.5
         ],
         "y": [
          0.6398009563565004,
          0.6639376266347607,
          1,
          0.7977181192496443,
          0.6953232318233172,
          0.6953232318233172,
          0.6398009563565004,
          0.7977181192496443,
          0.7005209548734032,
          0.7005209548734032,
          0.6639376266347607
         ]
        }
       ],
       "layout": {
        "template": {
         "data": {
          "bar": [
           {
            "error_x": {
             "color": "#2a3f5f"
            },
            "error_y": {
             "color": "#2a3f5f"
            },
            "marker": {
             "line": {
              "color": "#E5ECF6",
              "width": 0.5
             },
             "pattern": {
              "fillmode": "overlay",
              "size": 10,
              "solidity": 0.2
             }
            },
            "type": "bar"
           }
          ],
          "barpolar": [
           {
            "marker": {
             "line": {
              "color": "#E5ECF6",
              "width": 0.5
             },
             "pattern": {
              "fillmode": "overlay",
              "size": 10,
              "solidity": 0.2
             }
            },
            "type": "barpolar"
           }
          ],
          "carpet": [
           {
            "aaxis": {
             "endlinecolor": "#2a3f5f",
             "gridcolor": "white",
             "linecolor": "white",
             "minorgridcolor": "white",
             "startlinecolor": "#2a3f5f"
            },
            "baxis": {
             "endlinecolor": "#2a3f5f",
             "gridcolor": "white",
             "linecolor": "white",
             "minorgridcolor": "white",
             "startlinecolor": "#2a3f5f"
            },
            "type": "carpet"
           }
          ],
          "choropleth": [
           {
            "colorbar": {
             "outlinewidth": 0,
             "ticks": ""
            },
            "type": "choropleth"
           }
          ],
          "contour": [
           {
            "colorbar": {
             "outlinewidth": 0,
             "ticks": ""
            },
            "colorscale": [
             [
              0,
              "#0d0887"
             ],
             [
              0.1111111111111111,
              "#46039f"
             ],
             [
              0.2222222222222222,
              "#7201a8"
             ],
             [
              0.3333333333333333,
              "#9c179e"
             ],
             [
              0.4444444444444444,
              "#bd3786"
             ],
             [
              0.5555555555555556,
              "#d8576b"
             ],
             [
              0.6666666666666666,
              "#ed7953"
             ],
             [
              0.7777777777777778,
              "#fb9f3a"
             ],
             [
              0.8888888888888888,
              "#fdca26"
             ],
             [
              1,
              "#f0f921"
             ]
            ],
            "type": "contour"
           }
          ],
          "contourcarpet": [
           {
            "colorbar": {
             "outlinewidth": 0,
             "ticks": ""
            },
            "type": "contourcarpet"
           }
          ],
          "heatmap": [
           {
            "colorbar": {
             "outlinewidth": 0,
             "ticks": ""
            },
            "colorscale": [
             [
              0,
              "#0d0887"
             ],
             [
              0.1111111111111111,
              "#46039f"
             ],
             [
              0.2222222222222222,
              "#7201a8"
             ],
             [
              0.3333333333333333,
              "#9c179e"
             ],
             [
              0.4444444444444444,
              "#bd3786"
             ],
             [
              0.5555555555555556,
              "#d8576b"
             ],
             [
              0.6666666666666666,
              "#ed7953"
             ],
             [
              0.7777777777777778,
              "#fb9f3a"
             ],
             [
              0.8888888888888888,
              "#fdca26"
             ],
             [
              1,
              "#f0f921"
             ]
            ],
            "type": "heatmap"
           }
          ],
          "heatmapgl": [
           {
            "colorbar": {
             "outlinewidth": 0,
             "ticks": ""
            },
            "colorscale": [
             [
              0,
              "#0d0887"
             ],
             [
              0.1111111111111111,
              "#46039f"
             ],
             [
              0.2222222222222222,
              "#7201a8"
             ],
             [
              0.3333333333333333,
              "#9c179e"
             ],
             [
              0.4444444444444444,
              "#bd3786"
             ],
             [
              0.5555555555555556,
              "#d8576b"
             ],
             [
              0.6666666666666666,
              "#ed7953"
             ],
             [
              0.7777777777777778,
              "#fb9f3a"
             ],
             [
              0.8888888888888888,
              "#fdca26"
             ],
             [
              1,
              "#f0f921"
             ]
            ],
            "type": "heatmapgl"
           }
          ],
          "histogram": [
           {
            "marker": {
             "pattern": {
              "fillmode": "overlay",
              "size": 10,
              "solidity": 0.2
             }
            },
            "type": "histogram"
           }
          ],
          "histogram2d": [
           {
            "colorbar": {
             "outlinewidth": 0,
             "ticks": ""
            },
            "colorscale": [
             [
              0,
              "#0d0887"
             ],
             [
              0.1111111111111111,
              "#46039f"
             ],
             [
              0.2222222222222222,
              "#7201a8"
             ],
             [
              0.3333333333333333,
              "#9c179e"
             ],
             [
              0.4444444444444444,
              "#bd3786"
             ],
             [
              0.5555555555555556,
              "#d8576b"
             ],
             [
              0.6666666666666666,
              "#ed7953"
             ],
             [
              0.7777777777777778,
              "#fb9f3a"
             ],
             [
              0.8888888888888888,
              "#fdca26"
             ],
             [
              1,
              "#f0f921"
             ]
            ],
            "type": "histogram2d"
           }
          ],
          "histogram2dcontour": [
           {
            "colorbar": {
             "outlinewidth": 0,
             "ticks": ""
            },
            "colorscale": [
             [
              0,
              "#0d0887"
             ],
             [
              0.1111111111111111,
              "#46039f"
             ],
             [
              0.2222222222222222,
              "#7201a8"
             ],
             [
              0.3333333333333333,
              "#9c179e"
             ],
             [
              0.4444444444444444,
              "#bd3786"
             ],
             [
              0.5555555555555556,
              "#d8576b"
             ],
             [
              0.6666666666666666,
              "#ed7953"
             ],
             [
              0.7777777777777778,
              "#fb9f3a"
             ],
             [
              0.8888888888888888,
              "#fdca26"
             ],
             [
              1,
              "#f0f921"
             ]
            ],
            "type": "histogram2dcontour"
           }
          ],
          "mesh3d": [
           {
            "colorbar": {
             "outlinewidth": 0,
             "ticks": ""
            },
            "type": "mesh3d"
           }
          ],
          "parcoords": [
           {
            "line": {
             "colorbar": {
              "outlinewidth": 0,
              "ticks": ""
             }
            },
            "type": "parcoords"
           }
          ],
          "pie": [
           {
            "automargin": true,
            "type": "pie"
           }
          ],
          "scatter": [
           {
            "fillpattern": {
             "fillmode": "overlay",
             "size": 10,
             "solidity": 0.2
            },
            "type": "scatter"
           }
          ],
          "scatter3d": [
           {
            "line": {
             "colorbar": {
              "outlinewidth": 0,
              "ticks": ""
             }
            },
            "marker": {
             "colorbar": {
              "outlinewidth": 0,
              "ticks": ""
             }
            },
            "type": "scatter3d"
           }
          ],
          "scattercarpet": [
           {
            "marker": {
             "colorbar": {
              "outlinewidth": 0,
              "ticks": ""
             }
            },
            "type": "scattercarpet"
           }
          ],
          "scattergeo": [
           {
            "marker": {
             "colorbar": {
              "outlinewidth": 0,
              "ticks": ""
             }
            },
            "type": "scattergeo"
           }
          ],
          "scattergl": [
           {
            "marker": {
             "colorbar": {
              "outlinewidth": 0,
              "ticks": ""
             }
            },
            "type": "scattergl"
           }
          ],
          "scattermapbox": [
           {
            "marker": {
             "colorbar": {
              "outlinewidth": 0,
              "ticks": ""
             }
            },
            "type": "scattermapbox"
           }
          ],
          "scatterpolar": [
           {
            "marker": {
             "colorbar": {
              "outlinewidth": 0,
              "ticks": ""
             }
            },
            "type": "scatterpolar"
           }
          ],
          "scatterpolargl": [
           {
            "marker": {
             "colorbar": {
              "outlinewidth": 0,
              "ticks": ""
             }
            },
            "type": "scatterpolargl"
           }
          ],
          "scatterternary": [
           {
            "marker": {
             "colorbar": {
              "outlinewidth": 0,
              "ticks": ""
             }
            },
            "type": "scatterternary"
           }
          ],
          "surface": [
           {
            "colorbar": {
             "outlinewidth": 0,
             "ticks": ""
            },
            "colorscale": [
             [
              0,
              "#0d0887"
             ],
             [
              0.1111111111111111,
              "#46039f"
             ],
             [
              0.2222222222222222,
              "#7201a8"
             ],
             [
              0.3333333333333333,
              "#9c179e"
             ],
             [
              0.4444444444444444,
              "#bd3786"
             ],
             [
              0.5555555555555556,
              "#d8576b"
             ],
             [
              0.6666666666666666,
              "#ed7953"
             ],
             [
              0.7777777777777778,
              "#fb9f3a"
             ],
             [
              0.8888888888888888,
              "#fdca26"
             ],
             [
              1,
              "#f0f921"
             ]
            ],
            "type": "surface"
           }
          ],
          "table": [
           {
            "cells": {
             "fill": {
              "color": "#EBF0F8"
             },
             "line": {
              "color": "white"
             }
            },
            "header": {
             "fill": {
              "color": "#C8D4E3"
             },
             "line": {
              "color": "white"
             }
            },
            "type": "table"
           }
          ]
         },
         "layout": {
          "annotationdefaults": {
           "arrowcolor": "#2a3f5f",
           "arrowhead": 0,
           "arrowwidth": 1
          },
          "autotypenumbers": "strict",
          "coloraxis": {
           "colorbar": {
            "outlinewidth": 0,
            "ticks": ""
           }
          },
          "colorscale": {
           "diverging": [
            [
             0,
             "#8e0152"
            ],
            [
             0.1,
             "#c51b7d"
            ],
            [
             0.2,
             "#de77ae"
            ],
            [
             0.3,
             "#f1b6da"
            ],
            [
             0.4,
             "#fde0ef"
            ],
            [
             0.5,
             "#f7f7f7"
            ],
            [
             0.6,
             "#e6f5d0"
            ],
            [
             0.7,
             "#b8e186"
            ],
            [
             0.8,
             "#7fbc41"
            ],
            [
             0.9,
             "#4d9221"
            ],
            [
             1,
             "#276419"
            ]
           ],
           "sequential": [
            [
             0,
             "#0d0887"
            ],
            [
             0.1111111111111111,
             "#46039f"
            ],
            [
             0.2222222222222222,
             "#7201a8"
            ],
            [
             0.3333333333333333,
             "#9c179e"
            ],
            [
             0.4444444444444444,
             "#bd3786"
            ],
            [
             0.5555555555555556,
             "#d8576b"
            ],
            [
             0.6666666666666666,
             "#ed7953"
            ],
            [
             0.7777777777777778,
             "#fb9f3a"
            ],
            [
             0.8888888888888888,
             "#fdca26"
            ],
            [
             1,
             "#f0f921"
            ]
           ],
           "sequentialminus": [
            [
             0,
             "#0d0887"
            ],
            [
             0.1111111111111111,
             "#46039f"
            ],
            [
             0.2222222222222222,
             "#7201a8"
            ],
            [
             0.3333333333333333,
             "#9c179e"
            ],
            [
             0.4444444444444444,
             "#bd3786"
            ],
            [
             0.5555555555555556,
             "#d8576b"
            ],
            [
             0.6666666666666666,
             "#ed7953"
            ],
            [
             0.7777777777777778,
             "#fb9f3a"
            ],
            [
             0.8888888888888888,
             "#fdca26"
            ],
            [
             1,
             "#f0f921"
            ]
           ]
          },
          "colorway": [
           "#636efa",
           "#EF553B",
           "#00cc96",
           "#ab63fa",
           "#FFA15A",
           "#19d3f3",
           "#FF6692",
           "#B6E880",
           "#FF97FF",
           "#FECB52"
          ],
          "font": {
           "color": "#2a3f5f"
          },
          "geo": {
           "bgcolor": "white",
           "lakecolor": "white",
           "landcolor": "#E5ECF6",
           "showlakes": true,
           "showland": true,
           "subunitcolor": "white"
          },
          "hoverlabel": {
           "align": "left"
          },
          "hovermode": "closest",
          "mapbox": {
           "style": "light"
          },
          "paper_bgcolor": "white",
          "plot_bgcolor": "#E5ECF6",
          "polar": {
           "angularaxis": {
            "gridcolor": "white",
            "linecolor": "white",
            "ticks": ""
           },
           "bgcolor": "#E5ECF6",
           "radialaxis": {
            "gridcolor": "white",
            "linecolor": "white",
            "ticks": ""
           }
          },
          "scene": {
           "xaxis": {
            "backgroundcolor": "#E5ECF6",
            "gridcolor": "white",
            "gridwidth": 2,
            "linecolor": "white",
            "showbackground": true,
            "ticks": "",
            "zerolinecolor": "white"
           },
           "yaxis": {
            "backgroundcolor": "#E5ECF6",
            "gridcolor": "white",
            "gridwidth": 2,
            "linecolor": "white",
            "showbackground": true,
            "ticks": "",
            "zerolinecolor": "white"
           },
           "zaxis": {
            "backgroundcolor": "#E5ECF6",
            "gridcolor": "white",
            "gridwidth": 2,
            "linecolor": "white",
            "showbackground": true,
            "ticks": "",
            "zerolinecolor": "white"
           }
          },
          "shapedefaults": {
           "line": {
            "color": "#2a3f5f"
           }
          },
          "ternary": {
           "aaxis": {
            "gridcolor": "white",
            "linecolor": "white",
            "ticks": ""
           },
           "baxis": {
            "gridcolor": "white",
            "linecolor": "white",
            "ticks": ""
           },
           "bgcolor": "#E5ECF6",
           "caxis": {
            "gridcolor": "white",
            "linecolor": "white",
            "ticks": ""
           }
          },
          "title": {
           "x": 0.05
          },
          "xaxis": {
           "automargin": true,
           "gridcolor": "white",
           "linecolor": "white",
           "ticks": "",
           "title": {
            "standoff": 15
           },
           "zerolinecolor": "white",
           "zerolinewidth": 2
          },
          "yaxis": {
           "automargin": true,
           "gridcolor": "white",
           "linecolor": "white",
           "ticks": "",
           "title": {
            "standoff": 15
           },
           "zerolinecolor": "white",
           "zerolinewidth": 2
          }
         }
        },
        "title": {
         "text": "TREEplus_tree_pruned"
        }
       }
      }
     },
     "metadata": {},
     "output_type": "display_data"
    }
   ],
   "source": [
    "alpha, pruned_table = tree.pruning(features_test, n_features_test, y_test, table = True, html = False, graph_results = True, visual_pruning = True)"
   ]
  },
  {
   "cell_type": "code",
   "execution_count": 35,
   "metadata": {},
   "outputs": [
    {
     "name": "stdout",
     "output_type": "stream",
     "text": [
      "13 25\n"
     ]
    }
   ],
   "source": [
    "print(len(tree.get_leaf()), len(tree.get_all_node()))"
   ]
  },
  {
   "cell_type": "code",
   "execution_count": 36,
   "metadata": {},
   "outputs": [
    {
     "data": {
      "text/plain": [
       "<bound method TREEplus.deviance_cat2 of <TREEplus.TREEplus object at 0x000002390C55EFD0>>"
      ]
     },
     "execution_count": 36,
     "metadata": {},
     "output_type": "execute_result"
    }
   ],
   "source": [
    "tree.deviance_cat2"
   ]
  },
  {
   "cell_type": "code",
   "execution_count": 37,
   "metadata": {},
   "outputs": [
    {
     "data": {
      "text/plain": [
       "([<TREEplus.MyNodeClass at 0x2390fdf9050>,\n",
       "  <TREEplus.MyNodeClass at 0x2390bb0fd10>,\n",
       "  <TREEplus.MyNodeClass at 0x2397af9a8d0>,\n",
       "  <TREEplus.MyNodeClass at 0x2390fbb6c50>,\n",
       "  <TREEplus.MyNodeClass at 0x2397b0d25d0>,\n",
       "  <TREEplus.MyNodeClass at 0x2390fda4b10>,\n",
       "  <TREEplus.MyNodeClass at 0x2390c55fa50>,\n",
       "  <TREEplus.MyNodeClass at 0x2390fda6890>,\n",
       "  <TREEplus.MyNodeClass at 0x2390fce81d0>],\n",
       " [<TREEplus.MyNodeClass at 0x2390fdf9050>,\n",
       "  <TREEplus.MyNodeClass at 0x2390fda4b10>,\n",
       "  <TREEplus.MyNodeClass at 0x2390fbb6c50>,\n",
       "  <TREEplus.MyNodeClass at 0x2390fda6890>,\n",
       "  <TREEplus.MyNodeClass at 0x2390fce81d0>])"
      ]
     },
     "execution_count": 37,
     "metadata": {},
     "output_type": "execute_result"
    }
   ],
   "source": [
    "tree.cut_tree(5)"
   ]
  },
  {
   "cell_type": "code",
   "execution_count": 38,
   "metadata": {},
   "outputs": [
    {
     "name": "stdout",
     "output_type": "stream",
     "text": [
      "('Alpha = 0', 'value soglia = None', 'deviance = 201.65051750828545', 'leaves = 13')\n",
      "('Alpha = 1768.8999999999996', \"value soglia = ['Age', 29.5, 4]\", 'deviance = 207.96801750828556', 'leaves = 12')\n",
      "('Alpha = 2067.2222222222235', \"value soglia = ['Sales', 11.879999999999999, 3]\", 'deviance = 215.3509540162221', 'leaves = 11')\n",
      "('Alpha = 2092.2812980030776', \"value soglia = ['Sales', 2.755, 3]\", 'deviance = 222.82338722337602', 'leaves = 10')\n",
      "('Alpha = 2323.492266992266', \"value soglia = ['Income', 67.0, 3]\", 'deviance = 231.12157389120551', 'leaves = 9')\n",
      "('Alpha = 3800.534375000003', \"value soglia = ['Sales', 10.629999999999999, 3]\", 'deviance = 244.69491094477667', 'leaves = 8')\n",
      "('Alpha = 4686.178090558838', \"value soglia = ['Age', 53.5, 2]\", 'deviance = 261.431261268201', 'leaves = 7')\n",
      "('Alpha = 5499.0029556650225', \"value soglia = ['CompPrice', 135.5, 2]\", 'deviance = 281.0705575384331', 'leaves = 6')\n",
      "('Alpha = 5689.688888888888', \"value soglia = ['CompPrice', 146.5, 2]\", 'deviance = 301.3908749987506', 'leaves = 5')\n",
      "('Alpha = 8635.203220129362', \"value soglia = ['CompPrice', 99.0, 2]\", 'deviance = 332.23088649921306', 'leaves = 4')\n",
      "('Alpha = 15116.766374439903', \"value soglia = ['Sales', 7.555, 1]\", 'deviance = 386.21933783649797', 'leaves = 3')\n",
      "('Alpha = 15925.151737649147', \"value soglia = ['Sales', 7.55, 1]\", 'deviance = 443.0948797566736', 'leaves = 2')\n"
     ]
    }
   ],
   "source": [
    "tree.print_alpha(alpha)\n"
   ]
  },
  {
   "cell_type": "code",
   "execution_count": 39,
   "metadata": {},
   "outputs": [],
   "source": [
    "#all_node = cart.get_all_node()\n",
    "#leaf = tree.get_leaf()\n",
    "#      \n",
    "#leaf_list =[]\n",
    "#leaf_dict ={}\n",
    "#for node in leaf:                           #creates a list of the node numbers and a dictionary connecting nodes with their node numbers\n",
    "#    leaf_list.append(int(node.name[1:]))\n",
    "#    leaf_dict[node] = int(node.name[1:])\n",
    "#father_list =[]\n",
    "#father_dict = {}\n",
    "#for node in all_node:\n",
    "#    father_list.append(int(node.name[1:]))\n",
    "#    father_dict[node] = int(node.name[1:])\n",
    "#\n",
    "#parent_child =[]                            #list for having child with their parent, for use in dictionary below\n",
    "#for node in all_node:\n",
    "#    if (int(node.name[1:]) *2) in father_list:\n",
    "#    \n",
    "#        parent_child.append([int(node.name[1:]), int(node.name[1:])*2])\n",
    "#    if (int(node.name[1:])*2+1) in father_list:\n",
    "#    \n",
    "#        parent_child.append([int(node.name[1:]), int(node.name[1:])*2+1])  \n",
    "#parent_children = {}                        #dictionary for parents with children, only numbers\n",
    "#for parent, child in parent_child: \n",
    "#    if parent in parent_children:\n",
    "#        parent_children[parent].append(child)\n",
    "#    else:\n",
    "#        parent_children[parent] = [child]\n",
    "#\n",
    "##igraph Graph\n",
    "#        \n",
    "#nr_vertices = max(father_list)                            # make too many to allow for missing nodes\n",
    "#v_label = list(map(str, father_list) )                      # create node labels \n",
    "#G = Graph.Tree(nr_vertices, 2)                              # 2 stands for children number\n",
    "#lay = G.layout_reingold_tilford(root=[0])\n",
    "#position = {k: lay[k-1] for k in father_list}               # assigning nodes to positions , using reigngold layou\n",
    "#"
   ]
  },
  {
   "cell_type": "code",
   "execution_count": 40,
   "metadata": {},
   "outputs": [],
   "source": [
    "#node_prop_dict = {}\n",
    "#for i in range(len(father_list)):\n",
    "#    if get_key(father_dict, father_list[i]).node_prop:\n",
    "#        node_prop_dict[father_list[i]] = get_key(father_dict, father_list[i]).node_prop"
   ]
  },
  {
   "cell_type": "code",
   "execution_count": 41,
   "metadata": {},
   "outputs": [],
   "source": [
    "#node_prop_gain = {}\n",
    "#node_prop_gain[1] = node_prop_dict[1]\n",
    "#for i in range(len(node_prop_dict)):\n",
    "#    if i!= 0:\n",
    "#        node_prop_gain[list(node_prop_dict.keys())[i]] = node_prop_dict[list(node_prop_dict.keys())[i]] - node_prop_dict[list(node_prop_dict.keys())[i-1]]"
   ]
  },
  {
   "cell_type": "code",
   "execution_count": 42,
   "metadata": {},
   "outputs": [],
   "source": [
    "#nr_vertices = max(father_list)                            # make too many to allow for missing nodes\n",
    "#v_label = list(map(str, father_list) )                      # create node labels \n",
    "#G = Graph.Tree(nr_vertices, 2)                              # 2 stands for children number\n",
    "#lay = G.layout_reingold_tilford(root=[0])\n",
    "#position = {k: lay[k-1] for k in father_list}               # assigning nodes to positions , using reigngold layou\n",
    "#\n",
    "#new_dict = cart.identify_subtrees(cart.get_all_node(), cart.get_leaf())\n",
    "#    \n",
    "#for i in sorted(position.keys()):\n",
    "#    if i*2 in position: #left nodes\n",
    "#        diff = position[i*2][1] - position[i*2][1]*node_prop_gain[i] #calculates change in position for correction in downward nodes\n",
    "#        position[i*2] = [position[i*2][0], position[i*2][1]*node_prop_gain[i]] #manipulates the y coordinate based on the proportion gain\n",
    "#        \n",
    "#        #this is to correct for all downward nodes \n",
    "#        unique_nodes = []\n",
    "#        for fathers in new_dict:\n",
    "#            if i*2 == int(fathers.name[1:]):\n",
    "#                for nestedlist in new_dict[fathers]:\n",
    "#                    for childs in nestedlist:\n",
    "#                        if childs.name not in unique_nodes:\n",
    "#                            unique_nodes.append(childs.name)\n",
    "#                            position[int(childs.name[1:])] = [position[int(childs.name[1:])][0], position[int(childs.name[1:])][1] - diff]\n",
    "#\n",
    "#\n",
    "#    if i*2+1 in position:  #right nodes\n",
    "#        position[i*2+1] = [position[i*2+1][0], position[i*2+1][1]*node_prop_gain[i]]\n",
    "#        \n",
    "#        #this is to correct for all downward nodes\n",
    "#        unique_nodes = []\n",
    "#        for fathers in new_dict:\n",
    "#            if i*2+1 == int(fathers.name[1:]):\n",
    "#                for nestedlist in new_dict[fathers]:\n",
    "#                    for childs in nestedlist:\n",
    "#                        if childs.name not in unique_nodes:\n",
    "#                            unique_nodes.append(childs.name)\n",
    "#                            position[int(childs.name[1:])] = [position[int(childs.name[1:])][0], position[int(childs.name[1:])][1] - diff]\n",
    "#\n",
    "#position[1] = [0 , 2*position[2][1]]\n",
    "#"
   ]
  },
  {
   "cell_type": "code",
   "execution_count": 43,
   "metadata": {},
   "outputs": [],
   "source": [
    "#Y = [lay[k][1] for k in range(len(father_list))] # levels of the tree\n",
    "#M = max(Y)\n",
    "#es = EdgeSeq(G)                                             # sequence of edges\n",
    "#E = [e.tuple for e in G.es] # list of edges, connects nodes\n",
    "##L = len(position)\n",
    "#Xn = [position[k][0] for k in father_list]\n",
    "#Yn = [position[k][1] for k in father_list]\n",
    "#a = 0\n",
    "#while a<20:                                                 # When the value is removed it skips to the next index value, jumping, a<10 is just overkill, increased to 20, for really narrow branches\n",
    "#    for edge in E:   #this is meant to catch the mismateched E's \n",
    "#        if edge[0] +1 not in position or edge[1]+1 not in position:\n",
    "#            E.remove(edge) \n",
    "#    a+=1\n",
    "#Xe = []\n",
    "#Ye = []\n",
    "#\n",
    "#for edge in E: \n",
    "#    Xe+=[position[edge[0]+1][0],position[edge[1]+1][0], None]                   # edited for +1 poisiotn as the expected 0 root node it 1 in our dictionary, if index error, increase a \n",
    "#    Ye+=[position[edge[0]+1][1],position[edge[1]+1][1], None]         \n",
    "#"
   ]
  },
  {
   "cell_type": "code",
   "execution_count": 44,
   "metadata": {},
   "outputs": [],
   "source": [
    "#upward facing tree\n",
    "#pos = Ye[1]*2\n",
    "#Ye[0] = pos\n",
    "#Ye[3] = pos\n",
    "#Yn[24]  =pos"
   ]
  },
  {
   "cell_type": "code",
   "execution_count": 45,
   "metadata": {},
   "outputs": [],
   "source": [
    "#for label in range(len(v_label)):\n",
    "#    for node in all_node:\n",
    "#        if v_label[label] == node.name[1:]:\n",
    "#            if int(v_label[label]) in leaf_list:\n",
    "#                if cart.problem == \"classifier\":        #For classifier problem\n",
    "#                    response_dict ={}\n",
    "#                    for response in cart.y[node.indexes]:        #determing majority in terminal nodes\n",
    "#                        \n",
    "#                        if response in response_dict:\n",
    "#                            response_dict[response] +=1\n",
    "#                        else:\n",
    "#                            response_dict[response] =1\n",
    "#                    \n",
    "#                    if cart.method == \"LATENT-BUDGET-TREE\" or cart.twoing: #multiclass methods\n",
    "#                        total_node_obs = sum(response_dict.values())\n",
    "#                        for key in response_dict:\n",
    "#                            response_dict[key] = round(response_dict[key] / total_node_obs,2)\n",
    "#                        class_node = response_dict\n",
    "#                        myKeys = list(class_node.keys())\n",
    "#                        myKeys.sort()\n",
    "#                        class_node = {i: class_node[i] for i in myKeys}\n",
    "#                    else:\n",
    "#                        class_node = max(response_dict, key = response_dict.get)\n",
    "#                    \n",
    "#                    if cart.impurity_fn == \"gini\":\n",
    "#                        v_label[label] = f\"{node.name}, Class: {class_node}, {cart.impurity_fn} : {round(cart.impur(node, display = True),2)}, Samples : {len(node.indexes)}\" \n",
    "#                    elif cart.impurity_fn == \"tau\":\n",
    "#                        v_label[label] = f\"{node.name}, Class: {class_node}, {cart.impurity_fn} : None, Samples : {len(node.indexes)}\" \n",
    "#                    else:\n",
    "#                        v_label[label] = f\"{node.name}, Class: {class_node}, {cart.impurity_fn} : {round(cart.impur(node),2)}, Samples : {len(node.indexes)}\"\n",
    "#                else:\n",
    "#                    mean_y = mean(cart.y[node.indexes])\n",
    "#                    v_label[label]=  f\"{node.name}, {node.split}, Bin Value: {round(mean_y,2)}, {cart.impurity_fn} : {round(cart.impur(node),2)}, Samples : {len(node.indexes)}\"\n",
    "#            \n",
    "#            #label for non leaves\n",
    "#            else:\n",
    "#                if cart.problem == \"classifier\":\n",
    "#                    response_dict ={}\n",
    "#                    for response in cart.y[node.indexes]:        #determing majority in terminal nodes\n",
    "#                        if response in response_dict:\n",
    "#                            response_dict[response] +=1\n",
    "#                        else:\n",
    "#                            response_dict[response] =1\n",
    "#                    \n",
    "#                    if cart.method == \"LATENT-BUDGET-TREE\" or cart.twoing: #multiclass methods\n",
    "#                        total_node_obs = sum(response_dict.values())\n",
    "#                        for key in response_dict:\n",
    "#                            response_dict[key] = round(response_dict[key] / total_node_obs,2)\n",
    "#                        class_node = response_dict\n",
    "#                        myKeys = list(class_node.keys())\n",
    "#                        myKeys.sort()\n",
    "#                        class_node = {i: class_node[i] for i in myKeys}\n",
    "#                    else:\n",
    "#                        class_node = max(response_dict, key = response_dict.get)\n",
    "#                    if cart.impurity_fn == \"gini\":\n",
    "#                        v_label[label] = f\"{node.name}, {node.split}, Class:{class_node}, {cart.impurity_fn} : {round(cart.impur(node, display = True),2)}, Samples: {len(node.indexes)}\"\n",
    "#                    elif cart.impurity_fn == \"tau\":\n",
    "#                        v_label[label] = f\"{node.name}, {node.split}, Class:{class_node}, {cart.impurity_fn} : {round(node.value_soglia_split[0][2],2)}, Samples: {len(node.indexes)}\" \n",
    "#                    else:\n",
    "#                        v_label[label] = f\"{node.name}, {node.split}, Class:{class_node}, {cart.impurity_fn} : {round(cart.impur(node),2)}, Samples: {len(node.indexes)}\"\n",
    "#                else:\n",
    "#                    mean_y = mean(cart.y[node.indexes])\n",
    "#                    v_label[label]=  f\"{node.name}, {node.split}, Bin Value: {round(mean_y,2)}, {cart.impurity_fn} : {round(cart.impur(node),2)}, Samples : {len(node.indexes)}\"\n",
    "#labels = v_label\n",
    "## Drawing using plotly library\n",
    "#fig = go.Figure()\n",
    "#fig.add_trace(go.Scatter(x=Xe,\n",
    "#                y=Ye,\n",
    "#                mode='lines',\n",
    "#                line=dict(color='rgb(210,210,210)', width=1),\n",
    "#                hoverinfo='none'\n",
    "#                ))\n",
    "#fig.add_trace(go.Scatter(x=Xn,\n",
    "#                y=Yn,\n",
    "#                mode='markers',\n",
    "#                name='Nodes',\n",
    "#                marker=dict(symbol='circle-dot',\n",
    "#                                size=18,\n",
    "#                                color='#6175c1',    #'#DB4551',\n",
    "#                                line=dict(color='rgb(50,50,50)', width=1)\n",
    "#                                ),\n",
    "#                text=labels,\n",
    "#                hoverinfo='text',\n",
    "#                opacity=0.8\n",
    "#                ))\n",
    "#filename=\"CART_tree.png\"\n",
    "#fig.update_layout(\n",
    "#    title=filename[:-4],    #chops off \".png\"\n",
    "#    )\n",
    "#fig.show()\n",
    "#"
   ]
  },
  {
   "cell_type": "markdown",
   "metadata": {},
   "source": [
    "full dataset model "
   ]
  },
  {
   "cell_type": "markdown",
   "metadata": {},
   "source": [
    "not set up for numpy yet teh full model "
   ]
  },
  {
   "cell_type": "code",
   "execution_count": 46,
   "metadata": {},
   "outputs": [],
   "source": [
    "#df=pd.read_csv('Carseats.csv')\n",
    "#df=df.iloc[:,1:]\n",
    "#\n",
    "#df.head()\n",
    "#\n",
    "#features = df[features_names]\n",
    "#features.head()\n",
    "#\n",
    "#n_features = df[n_features_names]\n",
    "#n_features.head()\n",
    "#\n",
    "#y = df[\"Price\"]\n",
    "#y.head()\n",
    "#\n",
    "#indici = np.arange(0, len(y))\n",
    "#"
   ]
  },
  {
   "cell_type": "code",
   "execution_count": 47,
   "metadata": {},
   "outputs": [],
   "source": [
    "#my_tree = MyNodeClass('n1', indici) \n",
    "\n",
    "#tree = TREEplus(y,features,features_names,n_features,n_features_names, impurity_fn = \"between_variance\", problem=\"regression\", method = \"tree\",  min_cases_parent= 10,min_cases_child= 5, max_level = 4)\n",
    "\n",
    "#tree.growing_tree(my_tree)\n"
   ]
  },
  {
   "cell_type": "markdown",
   "metadata": {},
   "source": [
    "need to somehow get only 29 leaves in final tree?\n",
    "can't prune the traditional way as only have training set "
   ]
  },
  {
   "cell_type": "code",
   "execution_count": 48,
   "metadata": {},
   "outputs": [],
   "source": [
    "#cart.print_tree(table = True, html = True).style.hide_index() #print both the pruned and non pruned tree \n",
    "\n"
   ]
  }
 ],
 "metadata": {
  "kernelspec": {
   "display_name": "base",
   "language": "python",
   "name": "python3"
  },
  "language_info": {
   "codemirror_mode": {
    "name": "ipython",
    "version": 3
   },
   "file_extension": ".py",
   "mimetype": "text/x-python",
   "name": "python",
   "nbconvert_exporter": "python",
   "pygments_lexer": "ipython3",
   "version": "3.11.0"
  },
  "orig_nbformat": 4
 },
 "nbformat": 4,
 "nbformat_minor": 2
}
