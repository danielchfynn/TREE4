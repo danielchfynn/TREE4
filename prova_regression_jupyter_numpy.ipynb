{
 "cells": [
  {
   "cell_type": "code",
   "execution_count": 1,
   "metadata": {},
   "outputs": [],
   "source": [
    "#from __future__ import annotations\n",
    "#from tkinter import N\n",
    "\n",
    "from TREEplus import *\n",
    "\n",
    "import pandas as pd\n",
    "\n",
    "#d = dict(features, **n_features)  #merges the two dicts\n",
    "#df = pd.DataFrame(data=d)         #creates the dataframe\n",
    "\n",
    "#print(df)\n",
    "#import csv\n",
    "\n"
   ]
  },
  {
   "cell_type": "code",
   "execution_count": 2,
   "metadata": {},
   "outputs": [
    {
     "name": "stdout",
     "output_type": "stream",
     "text": [
      "<class 'numpy.ndarray'>\n",
      "[('Sales', '<f8'), ('CompPrice', '<f8'), ('Income', '<f8'), ('Advertising', '<f8'), ('Population', '<f8'), ('Price', '<f8'), ('ShelveLoc', 'O'), ('Age', '<f8'), ('Education', '<f8'), ('Urban', 'O'), ('US', 'O')]\n"
     ]
    }
   ],
   "source": [
    "import numpy as np\n",
    "train = np.genfromtxt(\"Carseats_train.csv\", delimiter=',', names=True, dtype=(float,float,float,float, float, float, object, float, float, object, object))\n",
    "\n",
    "\n",
    "\n",
    "#c = numpy.loadtxt(\"Carseats_train.csv\")\n",
    "print(type(train))\n",
    "print(train.dtype)\n",
    "\n",
    "features_names = train.dtype.names\n",
    "\n",
    "n_features = train[[\"ShelveLoc\", \"US\",\"Urban\"]]\n",
    "n_features_names = n_features.dtype.names\n",
    "n_features_names\n",
    "\n",
    "y = train[\"Price\"]\n",
    "\n",
    "features = train[[\"Sales\", \"CompPrice\", \"Income\", \"Advertising\", \"Population\", \"Age\", \"Education\"]]\n",
    "features_names = features.dtype.names\n",
    "\n",
    "\n",
    "indici = np.arange(0, len(y))\n"
   ]
  },
  {
   "cell_type": "markdown",
   "metadata": {},
   "source": [
    ".to_records()\n",
    "\n",
    "train = pd.read_csv(\"Carseats_train.csv\")\n",
    "train = train.to_records()"
   ]
  },
  {
   "cell_type": "code",
   "execution_count": 3,
   "metadata": {},
   "outputs": [],
   "source": [
    "import numpy as np\n",
    "test = np.genfromtxt(\"Carseats_test.csv\", delimiter=',', names=True, dtype=(float,float,float,float, float, float, object, float, float, object, object))\n",
    "\n",
    "\n",
    "n_features_test = test[[\"ShelveLoc\", \"US\",\"Urban\"]]\n",
    "\n",
    "\n",
    "y_test = test[\"Price\"]\n",
    "\n",
    "features_test = test[[\"Sales\", \"CompPrice\", \"Income\", \"Advertising\", \"Population\", \"Age\", \"Education\"]]\n"
   ]
  },
  {
   "cell_type": "code",
   "execution_count": 4,
   "metadata": {},
   "outputs": [],
   "source": [
    "#when definining a funcion please be aware we are using purity gain or information gain or greatest difference between variance, all positive aspects \n",
    "#adding user_defined as a possible impurity_fn and added user_impur to carry that function \n",
    "def user_fn(self, node): #impur just takes node in tree\n",
    "    \n",
    "    return (mean(self.y[node.indexes])**2)*len(self.y[node.indexes])\n"
   ]
  },
  {
   "cell_type": "code",
   "execution_count": 5,
   "metadata": {},
   "outputs": [],
   "source": [
    "comp = list(features[\"CompPrice\"][0:20])\n",
    "comp.sort()\n"
   ]
  },
  {
   "cell_type": "code",
   "execution_count": 6,
   "metadata": {},
   "outputs": [],
   "source": [
    "node1 = MyNodeClass('n1', indici) \n",
    "tree = TREEplus(y,features,features_names,n_features,n_features_names, impurity_fn = \"between_variance\", problem=\"regression\", method = \"CART\",  min_cases_parent= 10,min_cases_child= 5, max_level = 10, twoing = False, min_imp_gain = 0.01)"
   ]
  },
  {
   "cell_type": "code",
   "execution_count": 7,
   "metadata": {},
   "outputs": [],
   "source": [
    "comp = tree.midway_points(\"CompPrice\", node1)"
   ]
  },
  {
   "cell_type": "code",
   "execution_count": 8,
   "metadata": {},
   "outputs": [
    {
     "name": "stdout",
     "output_type": "stream",
     "text": [
      "Split Found:  n1 [['CompPrice', 127.5, 3784538.433668131, 0]] start\n",
      "node_proportion_total  0.20228188075035564\n",
      "Split Found:  n2 [['Sales', 7.55, 1861259.102354933, 1]] left\n",
      "node_proportion_total  0.3046767681766827\n",
      "Node_proportion_gain  0.10239488742632707\n",
      "Split Found:  n4 [['Age', 53.5, 1196245.7735961769, 2]] left\n",
      "node_proportion_total  0.3348077638461362\n",
      "Node_proportion_gain  0.030130995669453486\n",
      "Split Found:  n8 [['Income', 67.0, 435776.8626373626, 3]] left\n",
      "node_proportion_total  0.34974725911965104\n",
      "Node_proportion_gain  0.014939495273514847\n",
      "Split Found:  n16 [['Age', 40.5, 179045.45238095237, 4]] left\n",
      "node_proportion_total  0.35524068739400466\n",
      "Node_proportion_gain  0.005493428274353618\n",
      "This split isn't good now i cut it [reg delta]\n",
      "Split Found:  n17 [['ShelveLoc', (b'Bad', b'Good'), 258182.24444444443, 4]] right\n",
      "node_proportion_total  0.35907577327169\n",
      "Node_proportion_gain  0.003835085877685329\n",
      "This split isn't good now i cut it [reg delta]\n",
      "Split Found:  n9 [['Sales', 2.755, 764884.6845238094, 3]] right\n",
      "node_proportion_total  0.37252863774058836\n",
      "Node_proportion_gain  0.013452864468898373\n",
      "Node Search Split Error for:  n18 with obs in node:  6  which is less than minimum parent size:  10\n",
      "TypeError: Node search split (CART) failure\n",
      "Split Found:  n19 [['ShelveLoc', (b'Good', b'Medium'), 667100.3152337858, 4]] right\n",
      "node_proportion_total  0.3824709571870437\n",
      "Node_proportion_gain  0.00994231944645535\n",
      "This split isn't good now i cut it [reg delta]\n",
      "Split Found:  n5 [['CompPrice', 99.0, 678334.7100694445, 2]] right\n",
      "node_proportion_total  0.43799323265386053\n",
      "Node_proportion_gain  0.05552227546681682\n",
      "Node Search Split Error for:  n10 with obs in node:  9  which is less than minimum parent size:  10\n",
      "TypeError: Node search split (CART) failure\n",
      "Split Found:  n11 [['Sales', 10.629999999999999, 642001.8, 3]] right\n",
      "node_proportion_total  0.4624297526882662\n",
      "Node_proportion_gain  0.024436520034405662\n",
      "Split Found:  n22 [['ShelveLoc', (b'Bad', b'Medium'), 499399.95432692306, 4]] left\n",
      "node_proportion_total  0.49158327219799103\n",
      "Node_proportion_gain  0.029153519509724835\n",
      "Split Found:  n44 [['Age', 56.5, 190227.80952380953, 5]] left\n",
      "node_proportion_total  0.4986745662360867\n",
      "Node_proportion_gain  0.0070912940380956635\n",
      "This split isn't good now i cut it [reg delta]\n",
      "Split Found:  n45 [['Advertising', 12.5, 311724.2916666666, 5]] right\n",
      "node_proportion_total  0.5079929614175397\n",
      "Node_proportion_gain  0.009318395181452999\n",
      "This split isn't good now i cut it [reg delta]\n",
      "Split Found:  n23 [['Age', 37.0, 148091.65476190476, 4]] right\n",
      "node_proportion_total  0.5141375912066759\n",
      "Node_proportion_gain  0.006144629789136213\n",
      "This split isn't good now i cut it [reg delta]\n",
      "Split Found:  n3 [['Sales', 7.555, 1954321.2494252871, 1]] right\n",
      "node_proportion_total  0.6113347555829169\n",
      "Node_proportion_gain  0.09719716437624104\n",
      "Split Found:  n6 [['CompPrice', 135.5, 1137543.9857142859, 2]] left\n",
      "node_proportion_total  0.6466920192296547\n",
      "Node_proportion_gain  0.03535726364673775\n",
      "Split Found:  n12 [['Sales', 4.93, 510192.3068181818, 3]] left\n",
      "node_proportion_total  0.6521547863001057\n",
      "Node_proportion_gain  0.005462767070451013\n",
      "This split isn't good now i cut it [reg delta]\n",
      "Split Found:  n13 [['Sales', 3.5700000000000003, 629685.3217391304, 3]] right\n",
      "node_proportion_total  0.6616967802605994\n",
      "Node_proportion_gain  0.009541993960493711\n",
      "This split isn't good now i cut it [reg delta]\n",
      "Split Found:  n7 [['CompPrice', 146.5, 827965.9555555555, 2]] right\n",
      "node_proportion_total  0.6982801084992418\n",
      "Node_proportion_gain  0.03658332823864241\n",
      "Split Found:  n14 [['Sales', 11.879999999999999, 560961.111111111, 3]] left\n",
      "node_proportion_total  0.7115718491505554\n",
      "Node_proportion_gain  0.013291740651313555\n",
      "Split Found:  n28 [['ShelveLoc', (b'Bad', b'Medium'), 475891.28571428574, 4]] left\n",
      "node_proportion_total  0.7190965042335978\n",
      "Node_proportion_gain  0.007524655083042453\n",
      "This split isn't good now i cut it [reg delta]\n",
      "Node Search Split Error for:  n29 with obs in node:  9  which is less than minimum parent size:  10\n",
      "TypeError: Node search split (CART) failure\n",
      "Split Found:  n15 [['Income', 81.5, 269446.6, 3]] right\n",
      "node_proportion_total  0.7215046632976908\n",
      "Node_proportion_gain  0.002408159064092974\n",
      "This split isn't good now i cut it [reg delta]\n"
     ]
    },
    {
     "data": {
      "text/plain": [
       "((((None, None), (None, None)), (None, ((None, None), None))),\n",
       " ((None, None), ((None, None), None)))"
      ]
     },
     "execution_count": 8,
     "metadata": {},
     "output_type": "execute_result"
    }
   ],
   "source": [
    "tree.growing_tree(node1, max_k = 1)"
   ]
  },
  {
   "cell_type": "code",
   "execution_count": 9,
   "metadata": {},
   "outputs": [],
   "source": [
    "#tree.time"
   ]
  },
  {
   "cell_type": "code",
   "execution_count": 10,
   "metadata": {},
   "outputs": [],
   "source": [
    "#print(tree.impurity_fn, tree.impur(node1))\n",
    "#\n",
    "#for i in tree.get_all_node():\n",
    "#    a =1\n",
    "#    #print(i.name, tree.impur(i))"
   ]
  },
  {
   "cell_type": "code",
   "execution_count": 11,
   "metadata": {},
   "outputs": [],
   "source": [
    "n_dict = tree.identify_subtrees(tree.get_all_node(), tree.get_leaf() )\n",
    "\n",
    "#for i in n_dict:\n",
    "#    print(i.name)\n",
    "#    for a, nestedlist in enumerate(n_dict[i]):\n",
    "#        for child in nestedlist:\n",
    "#            print(a, child.name)\n",
    "#\n",
    "\n"
   ]
  },
  {
   "cell_type": "code",
   "execution_count": 12,
   "metadata": {},
   "outputs": [],
   "source": [
    "#tree.alpha_calculator(n_dict)"
   ]
  },
  {
   "cell_type": "code",
   "execution_count": 13,
   "metadata": {},
   "outputs": [],
   "source": [
    "#dir(tree)"
   ]
  },
  {
   "cell_type": "code",
   "execution_count": 14,
   "metadata": {},
   "outputs": [],
   "source": [
    "#tree._tree__node_search_split(node1, max_k = 1, combination_split = False, max_c = 1)"
   ]
  },
  {
   "cell_type": "code",
   "execution_count": 15,
   "metadata": {},
   "outputs": [],
   "source": [
    "#all_nodes, leaves = tree.cut_tree(20)\n",
    "#\n",
    "#print(len(all_nodes), len(leaves))"
   ]
  },
  {
   "cell_type": "code",
   "execution_count": 16,
   "metadata": {},
   "outputs": [],
   "source": [
    "#len(tree.get_leaf())"
   ]
  },
  {
   "cell_type": "code",
   "execution_count": 17,
   "metadata": {},
   "outputs": [],
   "source": [
    "#tree.print_tree(all_node = all_nodes, leaf = leaves, filename = \"a.png\",table = False, html = False)"
   ]
  },
  {
   "cell_type": "code",
   "execution_count": 18,
   "metadata": {},
   "outputs": [],
   "source": [
    "from statistics import variance, mean, pvariance"
   ]
  },
  {
   "cell_type": "code",
   "execution_count": 19,
   "metadata": {},
   "outputs": [
    {
     "data": {
      "text/plain": [
       "155526.82499999992"
      ]
     },
     "execution_count": 19,
     "metadata": {},
     "output_type": "execute_result"
    }
   ],
   "source": [
    "val = []\n",
    "meann = mean(tree.y)\n",
    "for i in tree.y:\n",
    "    val.append((i - meann)**2)\n",
    "\n",
    "sum(val) / len(val) * len(val)\n",
    "\n"
   ]
  },
  {
   "cell_type": "code",
   "execution_count": 20,
   "metadata": {},
   "outputs": [
    {
     "data": {
      "text/plain": [
       "155526.82499999998"
      ]
     },
     "execution_count": 20,
     "metadata": {},
     "output_type": "execute_result"
    }
   ],
   "source": [
    "pvariance(tree.y)*len(y)"
   ]
  },
  {
   "cell_type": "code",
   "execution_count": 21,
   "metadata": {},
   "outputs": [
    {
     "data": {
      "text/plain": [
       "156084.2688172043"
      ]
     },
     "execution_count": 21,
     "metadata": {},
     "output_type": "execute_result"
    }
   ],
   "source": [
    "variance(tree.y)*len(y)"
   ]
  },
  {
   "cell_type": "code",
   "execution_count": 22,
   "metadata": {},
   "outputs": [
    {
     "data": {
      "application/vnd.plotly.v1+json": {
       "config": {
        "plotlyServerURL": "https://plot.ly"
       },
       "data": [
        {
         "hoverinfo": "none",
         "line": {
          "color": "rgb(210,210,210)",
          "width": 1
         },
         "mode": "lines",
         "type": "scatter",
         "x": [
          0,
          -5.3125,
          null,
          0,
          5.3125,
          null,
          -5.3125,
          -9.1875,
          null,
          -5.3125,
          -1.4375,
          null,
          5.3125,
          3.3125,
          null,
          5.3125,
          7.3125,
          null,
          -9.1875,
          -11.1875,
          null,
          -9.1875,
          -7.1875,
          null,
          -1.4375,
          -3.1875,
          null,
          -1.4375,
          0.3125,
          null,
          3.3125,
          2.3125,
          null,
          3.3125,
          4.3125,
          null,
          7.3125,
          6.3125,
          null,
          7.3125,
          8.3125,
          null,
          -11.1875,
          -12.1875,
          null,
          -11.1875,
          -10.1875,
          null,
          -7.1875,
          -8.1875,
          null,
          -7.1875,
          -6.1875,
          null,
          0.3125,
          -0.1875,
          null,
          0.3125,
          0.8125,
          null,
          6.3125,
          5.8125,
          null,
          6.3125,
          6.8125,
          null,
          -0.1875,
          -0.6875,
          null,
          -0.1875,
          0.3125,
          null
         ],
         "y": [
          8,
          7,
          null,
          8,
          7,
          null,
          7,
          6,
          null,
          7,
          6,
          null,
          7,
          6,
          null,
          7,
          6,
          null,
          6,
          5,
          null,
          6,
          5,
          null,
          6,
          5,
          null,
          6,
          5,
          null,
          6,
          5,
          null,
          6,
          5,
          null,
          6,
          5,
          null,
          6,
          5,
          null,
          5,
          4,
          null,
          5,
          4,
          null,
          5,
          4,
          null,
          5,
          4,
          null,
          5,
          4,
          null,
          5,
          4,
          null,
          5,
          4,
          null,
          5,
          4,
          null,
          4,
          3,
          null,
          4,
          3,
          null
         ]
        },
        {
         "hoverinfo": "text",
         "marker": {
          "color": "#6175c1",
          "line": {
           "color": "rgb(50,50,50)",
           "width": 1
          },
          "size": 18,
          "symbol": "circle-dot"
         },
         "mode": "markers",
         "name": "Nodes",
         "opacity": 0.8,
         "text": [
          "n16, None, Bin Value: 117.08, between_variance : 178191.08, Samples : 13",
          "n17, None, Bin Value: 135.64, between_variance : 257585.79, Samples : 14",
          "n18, None, Bin Value: 128.67, between_variance : 99330.67, Samples : 6",
          "n19, None, Bin Value: 109.02, between_variance : 665554.02, Samples : 56",
          "n10, None, Bin Value: 66.78, between_variance : 40133.44, Samples : 9",
          "n23, None, Bin Value: 88.0, between_variance : 147136.0, Samples : 19",
          "n44, None, Bin Value: 120.62, between_variance : 189124.92, Samples : 13",
          "n45, None, Bin Value: 98.47, between_variance : 310275.03, Samples : 32",
          "n12, None, Bin Value: 130.3, between_variance : 509342.7, Samples : 30",
          "n13, None, Bin Value: 149.79, between_variance : 628201.29, Samples : 28",
          "n15, None, Bin Value: 133.93, between_variance : 269072.07, Samples : 15",
          "n28, None, Bin Value: 114.83, between_variance : 474721.0, Samples : 36",
          "n29, None, Bin Value: 97.89, between_variance : 86240.11, Samples : 9",
          "n1, CompPrice>127.5, Bin Value: 115.78, between_variance : 3753078.18, Samples : 280",
          "n2, Sales>7.55, Bin Value: 106.73, between_variance : 1845333.95, Samples : 162",
          "n4, Age>53.5, Bin Value: 115.71, between_variance : 1191559.6, Samples : 89",
          "n8, Income>67.0, Bin Value: 126.7, between_variance : 433453.37, Samples : 27",
          "n9, Sales>2.76, Bin Value: 110.92, between_variance : 762792.4, Samples : 62",
          "n5, CompPrice>99.0, Bin Value: 95.78, between_variance : 669699.51, Samples : 73",
          "n11, Sales>10.63, Bin Value: 99.86, between_variance : 638201.27, Samples : 64",
          "n22, ShelveLoc in (b'Bad', b'Medium'), Bin Value: 104.87, between_variance : 494865.8, Samples : 45",
          "n3, Sales>7.56, Bin Value: 128.19, between_variance : 1939204.48, Samples : 118",
          "n6, CompPrice>135.5, Bin Value: 139.71, between_variance : 1132044.98, Samples : 58",
          "n7, CompPrice>146.5, Bin Value: 117.07, between_variance : 822276.27, Samples : 60",
          "n14, Sales>11.88, Bin Value: 111.44, between_variance : 558893.89, Samples : 45"
         ],
         "type": "scatter",
         "x": [
          -12.1875,
          -10.1875,
          -8.1875,
          -6.1875,
          -3.1875,
          0.8125,
          -0.6875,
          0.3125,
          2.3125,
          4.3125,
          8.3125,
          5.8125,
          6.8125,
          0,
          -5.3125,
          -9.1875,
          -11.1875,
          -7.1875,
          -1.4375,
          0.3125,
          -0.1875,
          5.3125,
          3.3125,
          7.3125,
          6.3125
         ],
         "y": [
          4,
          4,
          4,
          4,
          5,
          4,
          3,
          3,
          5,
          5,
          5,
          4,
          4,
          8,
          7,
          6,
          5,
          5,
          6,
          5,
          4,
          7,
          6,
          6,
          5
         ]
        }
       ],
       "layout": {
        "template": {
         "data": {
          "bar": [
           {
            "error_x": {
             "color": "#2a3f5f"
            },
            "error_y": {
             "color": "#2a3f5f"
            },
            "marker": {
             "line": {
              "color": "#E5ECF6",
              "width": 0.5
             },
             "pattern": {
              "fillmode": "overlay",
              "size": 10,
              "solidity": 0.2
             }
            },
            "type": "bar"
           }
          ],
          "barpolar": [
           {
            "marker": {
             "line": {
              "color": "#E5ECF6",
              "width": 0.5
             },
             "pattern": {
              "fillmode": "overlay",
              "size": 10,
              "solidity": 0.2
             }
            },
            "type": "barpolar"
           }
          ],
          "carpet": [
           {
            "aaxis": {
             "endlinecolor": "#2a3f5f",
             "gridcolor": "white",
             "linecolor": "white",
             "minorgridcolor": "white",
             "startlinecolor": "#2a3f5f"
            },
            "baxis": {
             "endlinecolor": "#2a3f5f",
             "gridcolor": "white",
             "linecolor": "white",
             "minorgridcolor": "white",
             "startlinecolor": "#2a3f5f"
            },
            "type": "carpet"
           }
          ],
          "choropleth": [
           {
            "colorbar": {
             "outlinewidth": 0,
             "ticks": ""
            },
            "type": "choropleth"
           }
          ],
          "contour": [
           {
            "colorbar": {
             "outlinewidth": 0,
             "ticks": ""
            },
            "colorscale": [
             [
              0,
              "#0d0887"
             ],
             [
              0.1111111111111111,
              "#46039f"
             ],
             [
              0.2222222222222222,
              "#7201a8"
             ],
             [
              0.3333333333333333,
              "#9c179e"
             ],
             [
              0.4444444444444444,
              "#bd3786"
             ],
             [
              0.5555555555555556,
              "#d8576b"
             ],
             [
              0.6666666666666666,
              "#ed7953"
             ],
             [
              0.7777777777777778,
              "#fb9f3a"
             ],
             [
              0.8888888888888888,
              "#fdca26"
             ],
             [
              1,
              "#f0f921"
             ]
            ],
            "type": "contour"
           }
          ],
          "contourcarpet": [
           {
            "colorbar": {
             "outlinewidth": 0,
             "ticks": ""
            },
            "type": "contourcarpet"
           }
          ],
          "heatmap": [
           {
            "colorbar": {
             "outlinewidth": 0,
             "ticks": ""
            },
            "colorscale": [
             [
              0,
              "#0d0887"
             ],
             [
              0.1111111111111111,
              "#46039f"
             ],
             [
              0.2222222222222222,
              "#7201a8"
             ],
             [
              0.3333333333333333,
              "#9c179e"
             ],
             [
              0.4444444444444444,
              "#bd3786"
             ],
             [
              0.5555555555555556,
              "#d8576b"
             ],
             [
              0.6666666666666666,
              "#ed7953"
             ],
             [
              0.7777777777777778,
              "#fb9f3a"
             ],
             [
              0.8888888888888888,
              "#fdca26"
             ],
             [
              1,
              "#f0f921"
             ]
            ],
            "type": "heatmap"
           }
          ],
          "heatmapgl": [
           {
            "colorbar": {
             "outlinewidth": 0,
             "ticks": ""
            },
            "colorscale": [
             [
              0,
              "#0d0887"
             ],
             [
              0.1111111111111111,
              "#46039f"
             ],
             [
              0.2222222222222222,
              "#7201a8"
             ],
             [
              0.3333333333333333,
              "#9c179e"
             ],
             [
              0.4444444444444444,
              "#bd3786"
             ],
             [
              0.5555555555555556,
              "#d8576b"
             ],
             [
              0.6666666666666666,
              "#ed7953"
             ],
             [
              0.7777777777777778,
              "#fb9f3a"
             ],
             [
              0.8888888888888888,
              "#fdca26"
             ],
             [
              1,
              "#f0f921"
             ]
            ],
            "type": "heatmapgl"
           }
          ],
          "histogram": [
           {
            "marker": {
             "pattern": {
              "fillmode": "overlay",
              "size": 10,
              "solidity": 0.2
             }
            },
            "type": "histogram"
           }
          ],
          "histogram2d": [
           {
            "colorbar": {
             "outlinewidth": 0,
             "ticks": ""
            },
            "colorscale": [
             [
              0,
              "#0d0887"
             ],
             [
              0.1111111111111111,
              "#46039f"
             ],
             [
              0.2222222222222222,
              "#7201a8"
             ],
             [
              0.3333333333333333,
              "#9c179e"
             ],
             [
              0.4444444444444444,
              "#bd3786"
             ],
             [
              0.5555555555555556,
              "#d8576b"
             ],
             [
              0.6666666666666666,
              "#ed7953"
             ],
             [
              0.7777777777777778,
              "#fb9f3a"
             ],
             [
              0.8888888888888888,
              "#fdca26"
             ],
             [
              1,
              "#f0f921"
             ]
            ],
            "type": "histogram2d"
           }
          ],
          "histogram2dcontour": [
           {
            "colorbar": {
             "outlinewidth": 0,
             "ticks": ""
            },
            "colorscale": [
             [
              0,
              "#0d0887"
             ],
             [
              0.1111111111111111,
              "#46039f"
             ],
             [
              0.2222222222222222,
              "#7201a8"
             ],
             [
              0.3333333333333333,
              "#9c179e"
             ],
             [
              0.4444444444444444,
              "#bd3786"
             ],
             [
              0.5555555555555556,
              "#d8576b"
             ],
             [
              0.6666666666666666,
              "#ed7953"
             ],
             [
              0.7777777777777778,
              "#fb9f3a"
             ],
             [
              0.8888888888888888,
              "#fdca26"
             ],
             [
              1,
              "#f0f921"
             ]
            ],
            "type": "histogram2dcontour"
           }
          ],
          "mesh3d": [
           {
            "colorbar": {
             "outlinewidth": 0,
             "ticks": ""
            },
            "type": "mesh3d"
           }
          ],
          "parcoords": [
           {
            "line": {
             "colorbar": {
              "outlinewidth": 0,
              "ticks": ""
             }
            },
            "type": "parcoords"
           }
          ],
          "pie": [
           {
            "automargin": true,
            "type": "pie"
           }
          ],
          "scatter": [
           {
            "fillpattern": {
             "fillmode": "overlay",
             "size": 10,
             "solidity": 0.2
            },
            "type": "scatter"
           }
          ],
          "scatter3d": [
           {
            "line": {
             "colorbar": {
              "outlinewidth": 0,
              "ticks": ""
             }
            },
            "marker": {
             "colorbar": {
              "outlinewidth": 0,
              "ticks": ""
             }
            },
            "type": "scatter3d"
           }
          ],
          "scattercarpet": [
           {
            "marker": {
             "colorbar": {
              "outlinewidth": 0,
              "ticks": ""
             }
            },
            "type": "scattercarpet"
           }
          ],
          "scattergeo": [
           {
            "marker": {
             "colorbar": {
              "outlinewidth": 0,
              "ticks": ""
             }
            },
            "type": "scattergeo"
           }
          ],
          "scattergl": [
           {
            "marker": {
             "colorbar": {
              "outlinewidth": 0,
              "ticks": ""
             }
            },
            "type": "scattergl"
           }
          ],
          "scattermapbox": [
           {
            "marker": {
             "colorbar": {
              "outlinewidth": 0,
              "ticks": ""
             }
            },
            "type": "scattermapbox"
           }
          ],
          "scatterpolar": [
           {
            "marker": {
             "colorbar": {
              "outlinewidth": 0,
              "ticks": ""
             }
            },
            "type": "scatterpolar"
           }
          ],
          "scatterpolargl": [
           {
            "marker": {
             "colorbar": {
              "outlinewidth": 0,
              "ticks": ""
             }
            },
            "type": "scatterpolargl"
           }
          ],
          "scatterternary": [
           {
            "marker": {
             "colorbar": {
              "outlinewidth": 0,
              "ticks": ""
             }
            },
            "type": "scatterternary"
           }
          ],
          "surface": [
           {
            "colorbar": {
             "outlinewidth": 0,
             "ticks": ""
            },
            "colorscale": [
             [
              0,
              "#0d0887"
             ],
             [
              0.1111111111111111,
              "#46039f"
             ],
             [
              0.2222222222222222,
              "#7201a8"
             ],
             [
              0.3333333333333333,
              "#9c179e"
             ],
             [
              0.4444444444444444,
              "#bd3786"
             ],
             [
              0.5555555555555556,
              "#d8576b"
             ],
             [
              0.6666666666666666,
              "#ed7953"
             ],
             [
              0.7777777777777778,
              "#fb9f3a"
             ],
             [
              0.8888888888888888,
              "#fdca26"
             ],
             [
              1,
              "#f0f921"
             ]
            ],
            "type": "surface"
           }
          ],
          "table": [
           {
            "cells": {
             "fill": {
              "color": "#EBF0F8"
             },
             "line": {
              "color": "white"
             }
            },
            "header": {
             "fill": {
              "color": "#C8D4E3"
             },
             "line": {
              "color": "white"
             }
            },
            "type": "table"
           }
          ]
         },
         "layout": {
          "annotationdefaults": {
           "arrowcolor": "#2a3f5f",
           "arrowhead": 0,
           "arrowwidth": 1
          },
          "autotypenumbers": "strict",
          "coloraxis": {
           "colorbar": {
            "outlinewidth": 0,
            "ticks": ""
           }
          },
          "colorscale": {
           "diverging": [
            [
             0,
             "#8e0152"
            ],
            [
             0.1,
             "#c51b7d"
            ],
            [
             0.2,
             "#de77ae"
            ],
            [
             0.3,
             "#f1b6da"
            ],
            [
             0.4,
             "#fde0ef"
            ],
            [
             0.5,
             "#f7f7f7"
            ],
            [
             0.6,
             "#e6f5d0"
            ],
            [
             0.7,
             "#b8e186"
            ],
            [
             0.8,
             "#7fbc41"
            ],
            [
             0.9,
             "#4d9221"
            ],
            [
             1,
             "#276419"
            ]
           ],
           "sequential": [
            [
             0,
             "#0d0887"
            ],
            [
             0.1111111111111111,
             "#46039f"
            ],
            [
             0.2222222222222222,
             "#7201a8"
            ],
            [
             0.3333333333333333,
             "#9c179e"
            ],
            [
             0.4444444444444444,
             "#bd3786"
            ],
            [
             0.5555555555555556,
             "#d8576b"
            ],
            [
             0.6666666666666666,
             "#ed7953"
            ],
            [
             0.7777777777777778,
             "#fb9f3a"
            ],
            [
             0.8888888888888888,
             "#fdca26"
            ],
            [
             1,
             "#f0f921"
            ]
           ],
           "sequentialminus": [
            [
             0,
             "#0d0887"
            ],
            [
             0.1111111111111111,
             "#46039f"
            ],
            [
             0.2222222222222222,
             "#7201a8"
            ],
            [
             0.3333333333333333,
             "#9c179e"
            ],
            [
             0.4444444444444444,
             "#bd3786"
            ],
            [
             0.5555555555555556,
             "#d8576b"
            ],
            [
             0.6666666666666666,
             "#ed7953"
            ],
            [
             0.7777777777777778,
             "#fb9f3a"
            ],
            [
             0.8888888888888888,
             "#fdca26"
            ],
            [
             1,
             "#f0f921"
            ]
           ]
          },
          "colorway": [
           "#636efa",
           "#EF553B",
           "#00cc96",
           "#ab63fa",
           "#FFA15A",
           "#19d3f3",
           "#FF6692",
           "#B6E880",
           "#FF97FF",
           "#FECB52"
          ],
          "font": {
           "color": "#2a3f5f"
          },
          "geo": {
           "bgcolor": "white",
           "lakecolor": "white",
           "landcolor": "#E5ECF6",
           "showlakes": true,
           "showland": true,
           "subunitcolor": "white"
          },
          "hoverlabel": {
           "align": "left"
          },
          "hovermode": "closest",
          "mapbox": {
           "style": "light"
          },
          "paper_bgcolor": "white",
          "plot_bgcolor": "#E5ECF6",
          "polar": {
           "angularaxis": {
            "gridcolor": "white",
            "linecolor": "white",
            "ticks": ""
           },
           "bgcolor": "#E5ECF6",
           "radialaxis": {
            "gridcolor": "white",
            "linecolor": "white",
            "ticks": ""
           }
          },
          "scene": {
           "xaxis": {
            "backgroundcolor": "#E5ECF6",
            "gridcolor": "white",
            "gridwidth": 2,
            "linecolor": "white",
            "showbackground": true,
            "ticks": "",
            "zerolinecolor": "white"
           },
           "yaxis": {
            "backgroundcolor": "#E5ECF6",
            "gridcolor": "white",
            "gridwidth": 2,
            "linecolor": "white",
            "showbackground": true,
            "ticks": "",
            "zerolinecolor": "white"
           },
           "zaxis": {
            "backgroundcolor": "#E5ECF6",
            "gridcolor": "white",
            "gridwidth": 2,
            "linecolor": "white",
            "showbackground": true,
            "ticks": "",
            "zerolinecolor": "white"
           }
          },
          "shapedefaults": {
           "line": {
            "color": "#2a3f5f"
           }
          },
          "ternary": {
           "aaxis": {
            "gridcolor": "white",
            "linecolor": "white",
            "ticks": ""
           },
           "baxis": {
            "gridcolor": "white",
            "linecolor": "white",
            "ticks": ""
           },
           "bgcolor": "#E5ECF6",
           "caxis": {
            "gridcolor": "white",
            "linecolor": "white",
            "ticks": ""
           }
          },
          "title": {
           "x": 0.05
          },
          "xaxis": {
           "automargin": true,
           "gridcolor": "white",
           "linecolor": "white",
           "ticks": "",
           "title": {
            "standoff": 15
           },
           "zerolinecolor": "white",
           "zerolinewidth": 2
          },
          "yaxis": {
           "automargin": true,
           "gridcolor": "white",
           "linecolor": "white",
           "ticks": "",
           "title": {
            "standoff": 15
           },
           "zerolinecolor": "white",
           "zerolinewidth": 2
          }
         }
        },
        "title": {
         "text": "TREEplus_tree"
        }
       }
      }
     },
     "metadata": {},
     "output_type": "display_data"
    },
    {
     "data": {
      "text/html": [
       "<style type=\"text/css\">\n",
       "</style>\n",
       "<table id=\"T_fd80c\">\n",
       "  <thead>\n",
       "    <tr>\n",
       "      <th id=\"T_fd80c_level0_col0\" class=\"col_heading level0 col0\" >Node</th>\n",
       "      <th id=\"T_fd80c_level0_col1\" class=\"col_heading level0 col1\" >Node Type</th>\n",
       "      <th id=\"T_fd80c_level0_col2\" class=\"col_heading level0 col2\" >Variable Split</th>\n",
       "      <th id=\"T_fd80c_level0_col3\" class=\"col_heading level0 col3\" >n</th>\n",
       "      <th id=\"T_fd80c_level0_col4\" class=\"col_heading level0 col4\" >Deviance</th>\n",
       "      <th id=\"T_fd80c_level0_col5\" class=\"col_heading level0 col5\" >Explained Deviance</th>\n",
       "      <th id=\"T_fd80c_level0_col6\" class=\"col_heading level0 col6\" >Class/Value</th>\n",
       "    </tr>\n",
       "  </thead>\n",
       "  <tbody>\n",
       "    <tr>\n",
       "      <td id=\"T_fd80c_row0_col0\" class=\"data row0 col0\" >n1</td>\n",
       "      <td id=\"T_fd80c_row0_col1\" class=\"data row0 col1\" >Parent</td>\n",
       "      <td id=\"T_fd80c_row0_col2\" class=\"data row0 col2\" >CompPrice>127.5</td>\n",
       "      <td id=\"T_fd80c_row0_col3\" class=\"data row0 col3\" >280</td>\n",
       "      <td id=\"T_fd80c_row0_col4\" class=\"data row0 col4\" >155526.82</td>\n",
       "      <td id=\"T_fd80c_row0_col5\" class=\"data row0 col5\" >0.202</td>\n",
       "      <td id=\"T_fd80c_row0_col6\" class=\"data row0 col6\" >115.78</td>\n",
       "    </tr>\n",
       "    <tr>\n",
       "      <td id=\"T_fd80c_row1_col0\" class=\"data row1 col0\" >n2</td>\n",
       "      <td id=\"T_fd80c_row1_col1\" class=\"data row1 col1\" >Parent</td>\n",
       "      <td id=\"T_fd80c_row1_col2\" class=\"data row1 col2\" >Sales>7.55</td>\n",
       "      <td id=\"T_fd80c_row1_col3\" class=\"data row1 col3\" >162</td>\n",
       "      <td id=\"T_fd80c_row1_col4\" class=\"data row1 col4\" >75946.05</td>\n",
       "      <td id=\"T_fd80c_row1_col5\" class=\"data row1 col5\" >0.305</td>\n",
       "      <td id=\"T_fd80c_row1_col6\" class=\"data row1 col6\" >106.73</td>\n",
       "    </tr>\n",
       "    <tr>\n",
       "      <td id=\"T_fd80c_row2_col0\" class=\"data row2 col0\" >n4</td>\n",
       "      <td id=\"T_fd80c_row2_col1\" class=\"data row2 col1\" >Parent</td>\n",
       "      <td id=\"T_fd80c_row2_col2\" class=\"data row2 col2\" >Age>53.5</td>\n",
       "      <td id=\"T_fd80c_row2_col3\" class=\"data row2 col3\" >89</td>\n",
       "      <td id=\"T_fd80c_row2_col4\" class=\"data row2 col4\" >24566.4</td>\n",
       "      <td id=\"T_fd80c_row2_col5\" class=\"data row2 col5\" >0.335</td>\n",
       "      <td id=\"T_fd80c_row2_col6\" class=\"data row2 col6\" >115.71</td>\n",
       "    </tr>\n",
       "    <tr>\n",
       "      <td id=\"T_fd80c_row3_col0\" class=\"data row3 col0\" >n8</td>\n",
       "      <td id=\"T_fd80c_row3_col1\" class=\"data row3 col1\" >Parent</td>\n",
       "      <td id=\"T_fd80c_row3_col2\" class=\"data row3 col2\" >Income>67.0</td>\n",
       "      <td id=\"T_fd80c_row3_col3\" class=\"data row3 col3\" >27</td>\n",
       "      <td id=\"T_fd80c_row3_col4\" class=\"data row3 col4\" >6691.63</td>\n",
       "      <td id=\"T_fd80c_row3_col5\" class=\"data row3 col5\" >0.35</td>\n",
       "      <td id=\"T_fd80c_row3_col6\" class=\"data row3 col6\" >126.7</td>\n",
       "    </tr>\n",
       "    <tr>\n",
       "      <td id=\"T_fd80c_row4_col0\" class=\"data row4 col0\" >n16</td>\n",
       "      <td id=\"T_fd80c_row4_col1\" class=\"data row4 col1\" >Child</td>\n",
       "      <td id=\"T_fd80c_row4_col2\" class=\"data row4 col2\" >None</td>\n",
       "      <td id=\"T_fd80c_row4_col3\" class=\"data row4 col3\" >13</td>\n",
       "      <td id=\"T_fd80c_row4_col4\" class=\"data row4 col4\" >2462.92</td>\n",
       "      <td id=\"T_fd80c_row4_col5\" class=\"data row4 col5\" >None</td>\n",
       "      <td id=\"T_fd80c_row4_col6\" class=\"data row4 col6\" >117.08</td>\n",
       "    </tr>\n",
       "    <tr>\n",
       "      <td id=\"T_fd80c_row5_col0\" class=\"data row5 col0\" >n17</td>\n",
       "      <td id=\"T_fd80c_row5_col1\" class=\"data row5 col1\" >Child</td>\n",
       "      <td id=\"T_fd80c_row5_col2\" class=\"data row5 col2\" >None</td>\n",
       "      <td id=\"T_fd80c_row5_col3\" class=\"data row5 col3\" >14</td>\n",
       "      <td id=\"T_fd80c_row5_col4\" class=\"data row5 col4\" >1905.21</td>\n",
       "      <td id=\"T_fd80c_row5_col5\" class=\"data row5 col5\" >None</td>\n",
       "      <td id=\"T_fd80c_row5_col6\" class=\"data row5 col6\" >135.64</td>\n",
       "    </tr>\n",
       "    <tr>\n",
       "      <td id=\"T_fd80c_row6_col0\" class=\"data row6 col0\" >n9</td>\n",
       "      <td id=\"T_fd80c_row6_col1\" class=\"data row6 col1\" >Parent</td>\n",
       "      <td id=\"T_fd80c_row6_col2\" class=\"data row6 col2\" >Sales>2.76</td>\n",
       "      <td id=\"T_fd80c_row6_col3\" class=\"data row6 col3\" >62</td>\n",
       "      <td id=\"T_fd80c_row6_col4\" class=\"data row6 col4\" >13188.6</td>\n",
       "      <td id=\"T_fd80c_row6_col5\" class=\"data row6 col5\" >0.373</td>\n",
       "      <td id=\"T_fd80c_row6_col6\" class=\"data row6 col6\" >110.92</td>\n",
       "    </tr>\n",
       "    <tr>\n",
       "      <td id=\"T_fd80c_row7_col0\" class=\"data row7 col0\" >n18</td>\n",
       "      <td id=\"T_fd80c_row7_col1\" class=\"data row7 col1\" >Child</td>\n",
       "      <td id=\"T_fd80c_row7_col2\" class=\"data row7 col2\" >None</td>\n",
       "      <td id=\"T_fd80c_row7_col3\" class=\"data row7 col3\" >6</td>\n",
       "      <td id=\"T_fd80c_row7_col4\" class=\"data row7 col4\" >999.33</td>\n",
       "      <td id=\"T_fd80c_row7_col5\" class=\"data row7 col5\" >None</td>\n",
       "      <td id=\"T_fd80c_row7_col6\" class=\"data row7 col6\" >128.67</td>\n",
       "    </tr>\n",
       "    <tr>\n",
       "      <td id=\"T_fd80c_row8_col0\" class=\"data row8 col0\" >n19</td>\n",
       "      <td id=\"T_fd80c_row8_col1\" class=\"data row8 col1\" >Child</td>\n",
       "      <td id=\"T_fd80c_row8_col2\" class=\"data row8 col2\" >None</td>\n",
       "      <td id=\"T_fd80c_row8_col3\" class=\"data row8 col3\" >56</td>\n",
       "      <td id=\"T_fd80c_row8_col4\" class=\"data row8 col4\" >10096.98</td>\n",
       "      <td id=\"T_fd80c_row8_col5\" class=\"data row8 col5\" >None</td>\n",
       "      <td id=\"T_fd80c_row8_col6\" class=\"data row8 col6\" >109.02</td>\n",
       "    </tr>\n",
       "    <tr>\n",
       "      <td id=\"T_fd80c_row9_col0\" class=\"data row9 col0\" >n5</td>\n",
       "      <td id=\"T_fd80c_row9_col1\" class=\"data row9 col1\" >Parent</td>\n",
       "      <td id=\"T_fd80c_row9_col2\" class=\"data row9 col2\" >CompPrice>99.0</td>\n",
       "      <td id=\"T_fd80c_row9_col3\" class=\"data row9 col3\" >73</td>\n",
       "      <td id=\"T_fd80c_row9_col4\" class=\"data row9 col4\" >35454.49</td>\n",
       "      <td id=\"T_fd80c_row9_col5\" class=\"data row9 col5\" >0.438</td>\n",
       "      <td id=\"T_fd80c_row9_col6\" class=\"data row9 col6\" >95.78</td>\n",
       "    </tr>\n",
       "    <tr>\n",
       "      <td id=\"T_fd80c_row10_col0\" class=\"data row10 col0\" >n10</td>\n",
       "      <td id=\"T_fd80c_row10_col1\" class=\"data row10 col1\" >Child</td>\n",
       "      <td id=\"T_fd80c_row10_col2\" class=\"data row10 col2\" >None</td>\n",
       "      <td id=\"T_fd80c_row10_col3\" class=\"data row10 col3\" >9</td>\n",
       "      <td id=\"T_fd80c_row10_col4\" class=\"data row10 col4\" >4103.56</td>\n",
       "      <td id=\"T_fd80c_row10_col5\" class=\"data row10 col5\" >None</td>\n",
       "      <td id=\"T_fd80c_row10_col6\" class=\"data row10 col6\" >66.78</td>\n",
       "    </tr>\n",
       "    <tr>\n",
       "      <td id=\"T_fd80c_row11_col0\" class=\"data row11 col0\" >n11</td>\n",
       "      <td id=\"T_fd80c_row11_col1\" class=\"data row11 col1\" >Parent</td>\n",
       "      <td id=\"T_fd80c_row11_col2\" class=\"data row11 col2\" >Sales>10.63</td>\n",
       "      <td id=\"T_fd80c_row11_col3\" class=\"data row11 col3\" >64</td>\n",
       "      <td id=\"T_fd80c_row11_col4\" class=\"data row11 col4\" >22715.73</td>\n",
       "      <td id=\"T_fd80c_row11_col5\" class=\"data row11 col5\" >0.462</td>\n",
       "      <td id=\"T_fd80c_row11_col6\" class=\"data row11 col6\" >99.86</td>\n",
       "    </tr>\n",
       "    <tr>\n",
       "      <td id=\"T_fd80c_row12_col0\" class=\"data row12 col0\" >n23</td>\n",
       "      <td id=\"T_fd80c_row12_col1\" class=\"data row12 col1\" >Child</td>\n",
       "      <td id=\"T_fd80c_row12_col2\" class=\"data row12 col2\" >None</td>\n",
       "      <td id=\"T_fd80c_row12_col3\" class=\"data row12 col3\" >19</td>\n",
       "      <td id=\"T_fd80c_row12_col4\" class=\"data row12 col4\" >5326.0</td>\n",
       "      <td id=\"T_fd80c_row12_col5\" class=\"data row12 col5\" >None</td>\n",
       "      <td id=\"T_fd80c_row12_col6\" class=\"data row12 col6\" >88.0</td>\n",
       "    </tr>\n",
       "    <tr>\n",
       "      <td id=\"T_fd80c_row13_col0\" class=\"data row13 col0\" >n22</td>\n",
       "      <td id=\"T_fd80c_row13_col1\" class=\"data row13 col1\" >Parent</td>\n",
       "      <td id=\"T_fd80c_row13_col2\" class=\"data row13 col2\" >ShelveLoc in (b'Bad', b'Medium')</td>\n",
       "      <td id=\"T_fd80c_row13_col3\" class=\"data row13 col3\" >45</td>\n",
       "      <td id=\"T_fd80c_row13_col4\" class=\"data row13 col4\" >13589.2</td>\n",
       "      <td id=\"T_fd80c_row13_col5\" class=\"data row13 col5\" >0.492</td>\n",
       "      <td id=\"T_fd80c_row13_col6\" class=\"data row13 col6\" >104.87</td>\n",
       "    </tr>\n",
       "    <tr>\n",
       "      <td id=\"T_fd80c_row14_col0\" class=\"data row14 col0\" >n44</td>\n",
       "      <td id=\"T_fd80c_row14_col1\" class=\"data row14 col1\" >Child</td>\n",
       "      <td id=\"T_fd80c_row14_col2\" class=\"data row14 col2\" >None</td>\n",
       "      <td id=\"T_fd80c_row14_col3\" class=\"data row14 col3\" >13</td>\n",
       "      <td id=\"T_fd80c_row14_col4\" class=\"data row14 col4\" >3503.08</td>\n",
       "      <td id=\"T_fd80c_row14_col5\" class=\"data row14 col5\" >None</td>\n",
       "      <td id=\"T_fd80c_row14_col6\" class=\"data row14 col6\" >120.62</td>\n",
       "    </tr>\n",
       "    <tr>\n",
       "      <td id=\"T_fd80c_row15_col0\" class=\"data row15 col0\" >n45</td>\n",
       "      <td id=\"T_fd80c_row15_col1\" class=\"data row15 col1\" >Child</td>\n",
       "      <td id=\"T_fd80c_row15_col2\" class=\"data row15 col2\" >None</td>\n",
       "      <td id=\"T_fd80c_row15_col3\" class=\"data row15 col3\" >32</td>\n",
       "      <td id=\"T_fd80c_row15_col4\" class=\"data row15 col4\" >5551.97</td>\n",
       "      <td id=\"T_fd80c_row15_col5\" class=\"data row15 col5\" >None</td>\n",
       "      <td id=\"T_fd80c_row15_col6\" class=\"data row15 col6\" >98.47</td>\n",
       "    </tr>\n",
       "    <tr>\n",
       "      <td id=\"T_fd80c_row16_col0\" class=\"data row16 col0\" >n3</td>\n",
       "      <td id=\"T_fd80c_row16_col1\" class=\"data row16 col1\" >Parent</td>\n",
       "      <td id=\"T_fd80c_row16_col2\" class=\"data row16 col2\" >Sales>7.56</td>\n",
       "      <td id=\"T_fd80c_row16_col3\" class=\"data row16 col3\" >118</td>\n",
       "      <td id=\"T_fd80c_row16_col4\" class=\"data row16 col4\" >48120.52</td>\n",
       "      <td id=\"T_fd80c_row16_col5\" class=\"data row16 col5\" >0.611</td>\n",
       "      <td id=\"T_fd80c_row16_col6\" class=\"data row16 col6\" >128.19</td>\n",
       "    </tr>\n",
       "    <tr>\n",
       "      <td id=\"T_fd80c_row17_col0\" class=\"data row17 col0\" >n6</td>\n",
       "      <td id=\"T_fd80c_row17_col1\" class=\"data row17 col1\" >Parent</td>\n",
       "      <td id=\"T_fd80c_row17_col2\" class=\"data row17 col2\" >CompPrice>135.5</td>\n",
       "      <td id=\"T_fd80c_row17_col3\" class=\"data row17 col3\" >58</td>\n",
       "      <td id=\"T_fd80c_row17_col4\" class=\"data row17 col4\" >17604.02</td>\n",
       "      <td id=\"T_fd80c_row17_col5\" class=\"data row17 col5\" >0.647</td>\n",
       "      <td id=\"T_fd80c_row17_col6\" class=\"data row17 col6\" >139.71</td>\n",
       "    </tr>\n",
       "    <tr>\n",
       "      <td id=\"T_fd80c_row18_col0\" class=\"data row18 col0\" >n12</td>\n",
       "      <td id=\"T_fd80c_row18_col1\" class=\"data row18 col1\" >Child</td>\n",
       "      <td id=\"T_fd80c_row18_col2\" class=\"data row18 col2\" >None</td>\n",
       "      <td id=\"T_fd80c_row18_col3\" class=\"data row18 col3\" >30</td>\n",
       "      <td id=\"T_fd80c_row18_col4\" class=\"data row18 col4\" >5102.3</td>\n",
       "      <td id=\"T_fd80c_row18_col5\" class=\"data row18 col5\" >None</td>\n",
       "      <td id=\"T_fd80c_row18_col6\" class=\"data row18 col6\" >130.3</td>\n",
       "    </tr>\n",
       "    <tr>\n",
       "      <td id=\"T_fd80c_row19_col0\" class=\"data row19 col0\" >n13</td>\n",
       "      <td id=\"T_fd80c_row19_col1\" class=\"data row19 col1\" >Child</td>\n",
       "      <td id=\"T_fd80c_row19_col2\" class=\"data row19 col2\" >None</td>\n",
       "      <td id=\"T_fd80c_row19_col3\" class=\"data row19 col3\" >28</td>\n",
       "      <td id=\"T_fd80c_row19_col4\" class=\"data row19 col4\" >7002.71</td>\n",
       "      <td id=\"T_fd80c_row19_col5\" class=\"data row19 col5\" >None</td>\n",
       "      <td id=\"T_fd80c_row19_col6\" class=\"data row19 col6\" >149.79</td>\n",
       "    </tr>\n",
       "    <tr>\n",
       "      <td id=\"T_fd80c_row20_col0\" class=\"data row20 col0\" >n7</td>\n",
       "      <td id=\"T_fd80c_row20_col1\" class=\"data row20 col1\" >Parent</td>\n",
       "      <td id=\"T_fd80c_row20_col2\" class=\"data row20 col2\" >CompPrice>146.5</td>\n",
       "      <td id=\"T_fd80c_row20_col3\" class=\"data row20 col3\" >60</td>\n",
       "      <td id=\"T_fd80c_row20_col4\" class=\"data row20 col4\" >15399.73</td>\n",
       "      <td id=\"T_fd80c_row20_col5\" class=\"data row20 col5\" >0.698</td>\n",
       "      <td id=\"T_fd80c_row20_col6\" class=\"data row20 col6\" >117.07</td>\n",
       "    </tr>\n",
       "    <tr>\n",
       "      <td id=\"T_fd80c_row21_col0\" class=\"data row21 col0\" >n15</td>\n",
       "      <td id=\"T_fd80c_row21_col1\" class=\"data row21 col1\" >Child</td>\n",
       "      <td id=\"T_fd80c_row21_col2\" class=\"data row21 col2\" >None</td>\n",
       "      <td id=\"T_fd80c_row21_col3\" class=\"data row21 col3\" >15</td>\n",
       "      <td id=\"T_fd80c_row21_col4\" class=\"data row21 col4\" >832.93</td>\n",
       "      <td id=\"T_fd80c_row21_col5\" class=\"data row21 col5\" >None</td>\n",
       "      <td id=\"T_fd80c_row21_col6\" class=\"data row21 col6\" >133.93</td>\n",
       "    </tr>\n",
       "    <tr>\n",
       "      <td id=\"T_fd80c_row22_col0\" class=\"data row22 col0\" >n14</td>\n",
       "      <td id=\"T_fd80c_row22_col1\" class=\"data row22 col1\" >Parent</td>\n",
       "      <td id=\"T_fd80c_row22_col2\" class=\"data row22 col2\" >Sales>11.88</td>\n",
       "      <td id=\"T_fd80c_row22_col3\" class=\"data row22 col3\" >45</td>\n",
       "      <td id=\"T_fd80c_row22_col4\" class=\"data row22 col4\" >8877.11</td>\n",
       "      <td id=\"T_fd80c_row22_col5\" class=\"data row22 col5\" >0.712</td>\n",
       "      <td id=\"T_fd80c_row22_col6\" class=\"data row22 col6\" >111.44</td>\n",
       "    </tr>\n",
       "    <tr>\n",
       "      <td id=\"T_fd80c_row23_col0\" class=\"data row23 col0\" >n28</td>\n",
       "      <td id=\"T_fd80c_row23_col1\" class=\"data row23 col1\" >Child</td>\n",
       "      <td id=\"T_fd80c_row23_col2\" class=\"data row23 col2\" >None</td>\n",
       "      <td id=\"T_fd80c_row23_col3\" class=\"data row23 col3\" >36</td>\n",
       "      <td id=\"T_fd80c_row23_col4\" class=\"data row23 col4\" >5907.0</td>\n",
       "      <td id=\"T_fd80c_row23_col5\" class=\"data row23 col5\" >None</td>\n",
       "      <td id=\"T_fd80c_row23_col6\" class=\"data row23 col6\" >114.83</td>\n",
       "    </tr>\n",
       "    <tr>\n",
       "      <td id=\"T_fd80c_row24_col0\" class=\"data row24 col0\" >n29</td>\n",
       "      <td id=\"T_fd80c_row24_col1\" class=\"data row24 col1\" >Child</td>\n",
       "      <td id=\"T_fd80c_row24_col2\" class=\"data row24 col2\" >None</td>\n",
       "      <td id=\"T_fd80c_row24_col3\" class=\"data row24 col3\" >9</td>\n",
       "      <td id=\"T_fd80c_row24_col4\" class=\"data row24 col4\" >902.89</td>\n",
       "      <td id=\"T_fd80c_row24_col5\" class=\"data row24 col5\" >None</td>\n",
       "      <td id=\"T_fd80c_row24_col6\" class=\"data row24 col6\" >97.89</td>\n",
       "    </tr>\n",
       "  </tbody>\n",
       "</table>\n"
      ],
      "text/plain": [
       "<pandas.io.formats.style.Styler at 0x22a11f80950>"
      ]
     },
     "execution_count": 22,
     "metadata": {},
     "output_type": "execute_result"
    }
   ],
   "source": [
    "import warnings\n",
    "warnings.filterwarnings(\"ignore\", category=FutureWarning) \n",
    "\n",
    "start = time.time()\n",
    "tree.print_tree(table = True, html = False).style.hide()#_index() #print both the pruned and non pruned tree \n",
    "#tree.print_tree(table = False, html = False, visual_pruning = True)\n",
    "#time.time() - start"
   ]
  },
  {
   "cell_type": "code",
   "execution_count": 23,
   "metadata": {},
   "outputs": [
    {
     "data": {
      "application/vnd.plotly.v1+json": {
       "config": {
        "plotlyServerURL": "https://plot.ly"
       },
       "data": [
        {
         "hoverinfo": "none",
         "line": {
          "color": "rgb(210,210,210)",
          "width": 1
         },
         "mode": "lines",
         "type": "scatter",
         "x": [
          0,
          -5.3125,
          null,
          0,
          5.3125,
          null,
          -5.3125,
          -9.1875,
          null,
          -5.3125,
          -1.4375,
          null,
          5.3125,
          3.3125,
          null,
          5.3125,
          7.3125,
          null,
          -9.1875,
          -11.1875,
          null,
          -9.1875,
          -7.1875,
          null,
          -1.4375,
          -3.1875,
          null,
          -1.4375,
          0.3125,
          null,
          3.3125,
          2.3125,
          null,
          3.3125,
          4.3125,
          null,
          7.3125,
          6.3125,
          null,
          7.3125,
          8.3125,
          null,
          -11.1875,
          -12.1875,
          null,
          -11.1875,
          -10.1875,
          null,
          -7.1875,
          -8.1875,
          null,
          -7.1875,
          -6.1875,
          null,
          0.3125,
          -0.1875,
          null,
          0.3125,
          0.8125,
          null,
          6.3125,
          5.8125,
          null,
          6.3125,
          6.8125,
          null,
          -0.1875,
          -0.6875,
          null,
          -0.1875,
          0.3125,
          null
         ],
         "y": [
          1,
          0.7977181192496443,
          null,
          1,
          0.7977181192496443,
          null,
          0.7977181192496443,
          0.6953232318233172,
          null,
          0.7977181192496443,
          0.6953232318233172,
          null,
          0.7977181192496443,
          0.7005209548734033,
          null,
          0.7977181192496443,
          0.7005209548734033,
          null,
          0.6953232318233172,
          0.6651922361538638,
          null,
          0.6953232318233172,
          0.6651922361538638,
          null,
          0.6953232318233172,
          0.6398009563565004,
          null,
          0.6953232318233172,
          0.6398009563565004,
          null,
          0.7005209548734033,
          0.6651636912266655,
          null,
          0.7005209548734033,
          0.6651636912266655,
          null,
          0.7005209548734033,
          0.6639376266347609,
          null,
          0.7005209548734033,
          0.6639376266347609,
          null,
          0.6651922361538638,
          0.6502527408803489,
          null,
          0.6651922361538638,
          0.6502527408803489,
          null,
          0.6651922361538638,
          0.6517393716849654,
          null,
          0.6651922361538638,
          0.6517393716849654,
          null,
          0.6398009563565004,
          0.6153644363220947,
          null,
          0.6398009563565004,
          0.6153644363220947,
          null,
          0.6639376266347609,
          0.6506458859834473,
          null,
          0.6639376266347609,
          0.6506458859834473,
          null,
          0.6153644363220947,
          0.5862109168123699,
          null,
          0.6153644363220947,
          0.5862109168123699,
          null
         ]
        },
        {
         "hoverinfo": "text",
         "marker": {
          "color": "#6175c1",
          "line": {
           "color": "rgb(50,50,50)",
           "width": 1
          },
          "size": 18,
          "symbol": "circle-dot"
         },
         "mode": "markers",
         "name": "Nodes",
         "opacity": 0.8,
         "text": [
          "n16, None, Bin Value: 117.08, between_variance : 178191.08, Samples : 13",
          "n17, None, Bin Value: 135.64, between_variance : 257585.79, Samples : 14",
          "n18, None, Bin Value: 128.67, between_variance : 99330.67, Samples : 6",
          "n19, None, Bin Value: 109.02, between_variance : 665554.02, Samples : 56",
          "n10, None, Bin Value: 66.78, between_variance : 40133.44, Samples : 9",
          "n23, None, Bin Value: 88.0, between_variance : 147136.0, Samples : 19",
          "n44, None, Bin Value: 120.62, between_variance : 189124.92, Samples : 13",
          "n45, None, Bin Value: 98.47, between_variance : 310275.03, Samples : 32",
          "n12, None, Bin Value: 130.3, between_variance : 509342.7, Samples : 30",
          "n13, None, Bin Value: 149.79, between_variance : 628201.29, Samples : 28",
          "n15, None, Bin Value: 133.93, between_variance : 269072.07, Samples : 15",
          "n28, None, Bin Value: 114.83, between_variance : 474721.0, Samples : 36",
          "n29, None, Bin Value: 97.89, between_variance : 86240.11, Samples : 9",
          "n1, CompPrice>127.5, Bin Value: 115.78, between_variance : 3753078.18, Samples : 280",
          "n2, Sales>7.55, Bin Value: 106.73, between_variance : 1845333.95, Samples : 162",
          "n4, Age>53.5, Bin Value: 115.71, between_variance : 1191559.6, Samples : 89",
          "n8, Income>67.0, Bin Value: 126.7, between_variance : 433453.37, Samples : 27",
          "n9, Sales>2.76, Bin Value: 110.92, between_variance : 762792.4, Samples : 62",
          "n5, CompPrice>99.0, Bin Value: 95.78, between_variance : 669699.51, Samples : 73",
          "n11, Sales>10.63, Bin Value: 99.86, between_variance : 638201.27, Samples : 64",
          "n22, ShelveLoc in (b'Bad', b'Medium'), Bin Value: 104.87, between_variance : 494865.8, Samples : 45",
          "n3, Sales>7.56, Bin Value: 128.19, between_variance : 1939204.48, Samples : 118",
          "n6, CompPrice>135.5, Bin Value: 139.71, between_variance : 1132044.98, Samples : 58",
          "n7, CompPrice>146.5, Bin Value: 117.07, between_variance : 822276.27, Samples : 60",
          "n14, Sales>11.88, Bin Value: 111.44, between_variance : 558893.89, Samples : 45"
         ],
         "type": "scatter",
         "x": [
          -12.1875,
          -10.1875,
          -8.1875,
          -6.1875,
          -3.1875,
          0.8125,
          -0.6875,
          0.3125,
          2.3125,
          4.3125,
          8.3125,
          5.8125,
          6.8125,
          0,
          -5.3125,
          -9.1875,
          -11.1875,
          -7.1875,
          -1.4375,
          0.3125,
          -0.1875,
          5.3125,
          3.3125,
          7.3125,
          6.3125
         ],
         "y": [
          0.6502527408803489,
          0.6502527408803489,
          0.6517393716849654,
          0.6517393716849654,
          0.6398009563565004,
          0.6153644363220947,
          0.5862109168123699,
          0.5862109168123699,
          0.6651636912266655,
          0.6651636912266655,
          0.6639376266347609,
          0.6506458859834473,
          0.6506458859834473,
          1,
          0.7977181192496443,
          0.6953232318233172,
          0.6651922361538638,
          0.6651922361538638,
          0.6953232318233172,
          0.6398009563565004,
          0.6153644363220947,
          0.7977181192496443,
          0.7005209548734033,
          0.7005209548734033,
          0.6639376266347609
         ]
        }
       ],
       "layout": {
        "template": {
         "data": {
          "bar": [
           {
            "error_x": {
             "color": "#2a3f5f"
            },
            "error_y": {
             "color": "#2a3f5f"
            },
            "marker": {
             "line": {
              "color": "#E5ECF6",
              "width": 0.5
             },
             "pattern": {
              "fillmode": "overlay",
              "size": 10,
              "solidity": 0.2
             }
            },
            "type": "bar"
           }
          ],
          "barpolar": [
           {
            "marker": {
             "line": {
              "color": "#E5ECF6",
              "width": 0.5
             },
             "pattern": {
              "fillmode": "overlay",
              "size": 10,
              "solidity": 0.2
             }
            },
            "type": "barpolar"
           }
          ],
          "carpet": [
           {
            "aaxis": {
             "endlinecolor": "#2a3f5f",
             "gridcolor": "white",
             "linecolor": "white",
             "minorgridcolor": "white",
             "startlinecolor": "#2a3f5f"
            },
            "baxis": {
             "endlinecolor": "#2a3f5f",
             "gridcolor": "white",
             "linecolor": "white",
             "minorgridcolor": "white",
             "startlinecolor": "#2a3f5f"
            },
            "type": "carpet"
           }
          ],
          "choropleth": [
           {
            "colorbar": {
             "outlinewidth": 0,
             "ticks": ""
            },
            "type": "choropleth"
           }
          ],
          "contour": [
           {
            "colorbar": {
             "outlinewidth": 0,
             "ticks": ""
            },
            "colorscale": [
             [
              0,
              "#0d0887"
             ],
             [
              0.1111111111111111,
              "#46039f"
             ],
             [
              0.2222222222222222,
              "#7201a8"
             ],
             [
              0.3333333333333333,
              "#9c179e"
             ],
             [
              0.4444444444444444,
              "#bd3786"
             ],
             [
              0.5555555555555556,
              "#d8576b"
             ],
             [
              0.6666666666666666,
              "#ed7953"
             ],
             [
              0.7777777777777778,
              "#fb9f3a"
             ],
             [
              0.8888888888888888,
              "#fdca26"
             ],
             [
              1,
              "#f0f921"
             ]
            ],
            "type": "contour"
           }
          ],
          "contourcarpet": [
           {
            "colorbar": {
             "outlinewidth": 0,
             "ticks": ""
            },
            "type": "contourcarpet"
           }
          ],
          "heatmap": [
           {
            "colorbar": {
             "outlinewidth": 0,
             "ticks": ""
            },
            "colorscale": [
             [
              0,
              "#0d0887"
             ],
             [
              0.1111111111111111,
              "#46039f"
             ],
             [
              0.2222222222222222,
              "#7201a8"
             ],
             [
              0.3333333333333333,
              "#9c179e"
             ],
             [
              0.4444444444444444,
              "#bd3786"
             ],
             [
              0.5555555555555556,
              "#d8576b"
             ],
             [
              0.6666666666666666,
              "#ed7953"
             ],
             [
              0.7777777777777778,
              "#fb9f3a"
             ],
             [
              0.8888888888888888,
              "#fdca26"
             ],
             [
              1,
              "#f0f921"
             ]
            ],
            "type": "heatmap"
           }
          ],
          "heatmapgl": [
           {
            "colorbar": {
             "outlinewidth": 0,
             "ticks": ""
            },
            "colorscale": [
             [
              0,
              "#0d0887"
             ],
             [
              0.1111111111111111,
              "#46039f"
             ],
             [
              0.2222222222222222,
              "#7201a8"
             ],
             [
              0.3333333333333333,
              "#9c179e"
             ],
             [
              0.4444444444444444,
              "#bd3786"
             ],
             [
              0.5555555555555556,
              "#d8576b"
             ],
             [
              0.6666666666666666,
              "#ed7953"
             ],
             [
              0.7777777777777778,
              "#fb9f3a"
             ],
             [
              0.8888888888888888,
              "#fdca26"
             ],
             [
              1,
              "#f0f921"
             ]
            ],
            "type": "heatmapgl"
           }
          ],
          "histogram": [
           {
            "marker": {
             "pattern": {
              "fillmode": "overlay",
              "size": 10,
              "solidity": 0.2
             }
            },
            "type": "histogram"
           }
          ],
          "histogram2d": [
           {
            "colorbar": {
             "outlinewidth": 0,
             "ticks": ""
            },
            "colorscale": [
             [
              0,
              "#0d0887"
             ],
             [
              0.1111111111111111,
              "#46039f"
             ],
             [
              0.2222222222222222,
              "#7201a8"
             ],
             [
              0.3333333333333333,
              "#9c179e"
             ],
             [
              0.4444444444444444,
              "#bd3786"
             ],
             [
              0.5555555555555556,
              "#d8576b"
             ],
             [
              0.6666666666666666,
              "#ed7953"
             ],
             [
              0.7777777777777778,
              "#fb9f3a"
             ],
             [
              0.8888888888888888,
              "#fdca26"
             ],
             [
              1,
              "#f0f921"
             ]
            ],
            "type": "histogram2d"
           }
          ],
          "histogram2dcontour": [
           {
            "colorbar": {
             "outlinewidth": 0,
             "ticks": ""
            },
            "colorscale": [
             [
              0,
              "#0d0887"
             ],
             [
              0.1111111111111111,
              "#46039f"
             ],
             [
              0.2222222222222222,
              "#7201a8"
             ],
             [
              0.3333333333333333,
              "#9c179e"
             ],
             [
              0.4444444444444444,
              "#bd3786"
             ],
             [
              0.5555555555555556,
              "#d8576b"
             ],
             [
              0.6666666666666666,
              "#ed7953"
             ],
             [
              0.7777777777777778,
              "#fb9f3a"
             ],
             [
              0.8888888888888888,
              "#fdca26"
             ],
             [
              1,
              "#f0f921"
             ]
            ],
            "type": "histogram2dcontour"
           }
          ],
          "mesh3d": [
           {
            "colorbar": {
             "outlinewidth": 0,
             "ticks": ""
            },
            "type": "mesh3d"
           }
          ],
          "parcoords": [
           {
            "line": {
             "colorbar": {
              "outlinewidth": 0,
              "ticks": ""
             }
            },
            "type": "parcoords"
           }
          ],
          "pie": [
           {
            "automargin": true,
            "type": "pie"
           }
          ],
          "scatter": [
           {
            "fillpattern": {
             "fillmode": "overlay",
             "size": 10,
             "solidity": 0.2
            },
            "type": "scatter"
           }
          ],
          "scatter3d": [
           {
            "line": {
             "colorbar": {
              "outlinewidth": 0,
              "ticks": ""
             }
            },
            "marker": {
             "colorbar": {
              "outlinewidth": 0,
              "ticks": ""
             }
            },
            "type": "scatter3d"
           }
          ],
          "scattercarpet": [
           {
            "marker": {
             "colorbar": {
              "outlinewidth": 0,
              "ticks": ""
             }
            },
            "type": "scattercarpet"
           }
          ],
          "scattergeo": [
           {
            "marker": {
             "colorbar": {
              "outlinewidth": 0,
              "ticks": ""
             }
            },
            "type": "scattergeo"
           }
          ],
          "scattergl": [
           {
            "marker": {
             "colorbar": {
              "outlinewidth": 0,
              "ticks": ""
             }
            },
            "type": "scattergl"
           }
          ],
          "scattermapbox": [
           {
            "marker": {
             "colorbar": {
              "outlinewidth": 0,
              "ticks": ""
             }
            },
            "type": "scattermapbox"
           }
          ],
          "scatterpolar": [
           {
            "marker": {
             "colorbar": {
              "outlinewidth": 0,
              "ticks": ""
             }
            },
            "type": "scatterpolar"
           }
          ],
          "scatterpolargl": [
           {
            "marker": {
             "colorbar": {
              "outlinewidth": 0,
              "ticks": ""
             }
            },
            "type": "scatterpolargl"
           }
          ],
          "scatterternary": [
           {
            "marker": {
             "colorbar": {
              "outlinewidth": 0,
              "ticks": ""
             }
            },
            "type": "scatterternary"
           }
          ],
          "surface": [
           {
            "colorbar": {
             "outlinewidth": 0,
             "ticks": ""
            },
            "colorscale": [
             [
              0,
              "#0d0887"
             ],
             [
              0.1111111111111111,
              "#46039f"
             ],
             [
              0.2222222222222222,
              "#7201a8"
             ],
             [
              0.3333333333333333,
              "#9c179e"
             ],
             [
              0.4444444444444444,
              "#bd3786"
             ],
             [
              0.5555555555555556,
              "#d8576b"
             ],
             [
              0.6666666666666666,
              "#ed7953"
             ],
             [
              0.7777777777777778,
              "#fb9f3a"
             ],
             [
              0.8888888888888888,
              "#fdca26"
             ],
             [
              1,
              "#f0f921"
             ]
            ],
            "type": "surface"
           }
          ],
          "table": [
           {
            "cells": {
             "fill": {
              "color": "#EBF0F8"
             },
             "line": {
              "color": "white"
             }
            },
            "header": {
             "fill": {
              "color": "#C8D4E3"
             },
             "line": {
              "color": "white"
             }
            },
            "type": "table"
           }
          ]
         },
         "layout": {
          "annotationdefaults": {
           "arrowcolor": "#2a3f5f",
           "arrowhead": 0,
           "arrowwidth": 1
          },
          "autotypenumbers": "strict",
          "coloraxis": {
           "colorbar": {
            "outlinewidth": 0,
            "ticks": ""
           }
          },
          "colorscale": {
           "diverging": [
            [
             0,
             "#8e0152"
            ],
            [
             0.1,
             "#c51b7d"
            ],
            [
             0.2,
             "#de77ae"
            ],
            [
             0.3,
             "#f1b6da"
            ],
            [
             0.4,
             "#fde0ef"
            ],
            [
             0.5,
             "#f7f7f7"
            ],
            [
             0.6,
             "#e6f5d0"
            ],
            [
             0.7,
             "#b8e186"
            ],
            [
             0.8,
             "#7fbc41"
            ],
            [
             0.9,
             "#4d9221"
            ],
            [
             1,
             "#276419"
            ]
           ],
           "sequential": [
            [
             0,
             "#0d0887"
            ],
            [
             0.1111111111111111,
             "#46039f"
            ],
            [
             0.2222222222222222,
             "#7201a8"
            ],
            [
             0.3333333333333333,
             "#9c179e"
            ],
            [
             0.4444444444444444,
             "#bd3786"
            ],
            [
             0.5555555555555556,
             "#d8576b"
            ],
            [
             0.6666666666666666,
             "#ed7953"
            ],
            [
             0.7777777777777778,
             "#fb9f3a"
            ],
            [
             0.8888888888888888,
             "#fdca26"
            ],
            [
             1,
             "#f0f921"
            ]
           ],
           "sequentialminus": [
            [
             0,
             "#0d0887"
            ],
            [
             0.1111111111111111,
             "#46039f"
            ],
            [
             0.2222222222222222,
             "#7201a8"
            ],
            [
             0.3333333333333333,
             "#9c179e"
            ],
            [
             0.4444444444444444,
             "#bd3786"
            ],
            [
             0.5555555555555556,
             "#d8576b"
            ],
            [
             0.6666666666666666,
             "#ed7953"
            ],
            [
             0.7777777777777778,
             "#fb9f3a"
            ],
            [
             0.8888888888888888,
             "#fdca26"
            ],
            [
             1,
             "#f0f921"
            ]
           ]
          },
          "colorway": [
           "#636efa",
           "#EF553B",
           "#00cc96",
           "#ab63fa",
           "#FFA15A",
           "#19d3f3",
           "#FF6692",
           "#B6E880",
           "#FF97FF",
           "#FECB52"
          ],
          "font": {
           "color": "#2a3f5f"
          },
          "geo": {
           "bgcolor": "white",
           "lakecolor": "white",
           "landcolor": "#E5ECF6",
           "showlakes": true,
           "showland": true,
           "subunitcolor": "white"
          },
          "hoverlabel": {
           "align": "left"
          },
          "hovermode": "closest",
          "mapbox": {
           "style": "light"
          },
          "paper_bgcolor": "white",
          "plot_bgcolor": "#E5ECF6",
          "polar": {
           "angularaxis": {
            "gridcolor": "white",
            "linecolor": "white",
            "ticks": ""
           },
           "bgcolor": "#E5ECF6",
           "radialaxis": {
            "gridcolor": "white",
            "linecolor": "white",
            "ticks": ""
           }
          },
          "scene": {
           "xaxis": {
            "backgroundcolor": "#E5ECF6",
            "gridcolor": "white",
            "gridwidth": 2,
            "linecolor": "white",
            "showbackground": true,
            "ticks": "",
            "zerolinecolor": "white"
           },
           "yaxis": {
            "backgroundcolor": "#E5ECF6",
            "gridcolor": "white",
            "gridwidth": 2,
            "linecolor": "white",
            "showbackground": true,
            "ticks": "",
            "zerolinecolor": "white"
           },
           "zaxis": {
            "backgroundcolor": "#E5ECF6",
            "gridcolor": "white",
            "gridwidth": 2,
            "linecolor": "white",
            "showbackground": true,
            "ticks": "",
            "zerolinecolor": "white"
           }
          },
          "shapedefaults": {
           "line": {
            "color": "#2a3f5f"
           }
          },
          "ternary": {
           "aaxis": {
            "gridcolor": "white",
            "linecolor": "white",
            "ticks": ""
           },
           "baxis": {
            "gridcolor": "white",
            "linecolor": "white",
            "ticks": ""
           },
           "bgcolor": "#E5ECF6",
           "caxis": {
            "gridcolor": "white",
            "linecolor": "white",
            "ticks": ""
           }
          },
          "title": {
           "x": 0.05
          },
          "xaxis": {
           "automargin": true,
           "gridcolor": "white",
           "linecolor": "white",
           "ticks": "",
           "title": {
            "standoff": 15
           },
           "zerolinecolor": "white",
           "zerolinewidth": 2
          },
          "yaxis": {
           "automargin": true,
           "gridcolor": "white",
           "linecolor": "white",
           "ticks": "",
           "title": {
            "standoff": 15
           },
           "zerolinecolor": "white",
           "zerolinewidth": 2
          }
         }
        },
        "title": {
         "text": "TREEplus_tree"
        }
       }
      }
     },
     "metadata": {},
     "output_type": "display_data"
    }
   ],
   "source": [
    "tree.print_tree(table = False, html = False, visual_pruning = True)"
   ]
  },
  {
   "cell_type": "code",
   "execution_count": 24,
   "metadata": {},
   "outputs": [
    {
     "data": {
      "application/vnd.plotly.v1+json": {
       "config": {
        "plotlyServerURL": "https://plot.ly"
       },
       "data": [
        {
         "hoverinfo": "none",
         "line": {
          "color": "rgb(210,210,210)",
          "width": 1
         },
         "mode": "lines",
         "type": "scatter",
         "x": [
          0,
          -5.3125,
          null,
          0,
          5.3125,
          null,
          -5.3125,
          -9.1875,
          null,
          -5.3125,
          -1.4375,
          null,
          5.3125,
          3.3125,
          null,
          5.3125,
          7.3125,
          null,
          -9.1875,
          -11.1875,
          null,
          -9.1875,
          -7.1875,
          null,
          -1.4375,
          -3.1875,
          null,
          -1.4375,
          0.3125,
          null,
          3.3125,
          2.3125,
          null,
          3.3125,
          4.3125,
          null,
          7.3125,
          6.3125,
          null,
          7.3125,
          8.3125,
          null,
          -11.1875,
          -12.1875,
          null,
          -11.1875,
          -10.1875,
          null,
          0.3125,
          -0.1875,
          null,
          0.3125,
          0.8125,
          null,
          -0.1875,
          -0.6875,
          null,
          -0.1875,
          0.3125,
          null
         ],
         "y": [
          1,
          0.7977181192496443,
          null,
          1,
          0.7977181192496443,
          null,
          0.7977181192496443,
          0.6953232318233172,
          null,
          0.7977181192496443,
          0.6953232318233172,
          null,
          0.7977181192496443,
          0.7005209548734033,
          null,
          0.7977181192496443,
          0.7005209548734033,
          null,
          0.6953232318233172,
          0.6651922361538638,
          null,
          0.6953232318233172,
          0.6651922361538638,
          null,
          0.6953232318233172,
          0.6398009563565004,
          null,
          0.6953232318233172,
          0.6398009563565004,
          null,
          0.7005209548734033,
          0.6651636912266655,
          null,
          0.7005209548734033,
          0.6651636912266655,
          null,
          0.7005209548734033,
          0.6639376266347609,
          null,
          0.7005209548734033,
          0.6639376266347609,
          null,
          0.6651922361538638,
          0.6502527408803489,
          null,
          0.6651922361538638,
          0.6502527408803489,
          null,
          0.6398009563565004,
          0.6153644363220947,
          null,
          0.6398009563565004,
          0.6153644363220947,
          null,
          0.6153644363220947,
          0.5862109168123699,
          null,
          0.6153644363220947,
          0.5862109168123699,
          null
         ]
        },
        {
         "hoverinfo": "text",
         "marker": {
          "color": "#6175c1",
          "line": {
           "color": "rgb(50,50,50)",
           "width": 1
          },
          "size": 18,
          "symbol": "circle-dot"
         },
         "mode": "markers",
         "name": "Nodes",
         "opacity": 0.8,
         "text": [
          "n16, None, Bin Value: 117.08, between_variance : 178191.08, Samples : 13",
          "n17, None, Bin Value: 135.64, between_variance : 257585.79, Samples : 14",
          "n10, None, Bin Value: 66.78, between_variance : 40133.44, Samples : 9",
          "n23, None, Bin Value: 88.0, between_variance : 147136.0, Samples : 19",
          "n44, None, Bin Value: 120.62, between_variance : 189124.92, Samples : 13",
          "n45, None, Bin Value: 98.47, between_variance : 310275.03, Samples : 32",
          "n12, None, Bin Value: 130.3, between_variance : 509342.7, Samples : 30",
          "n13, None, Bin Value: 149.79, between_variance : 628201.29, Samples : 28",
          "n15, None, Bin Value: 133.93, between_variance : 269072.07, Samples : 15",
          "n1, CompPrice>127.5, Bin Value: 115.78, between_variance : 3753078.18, Samples : 280",
          "n2, Sales>7.55, Bin Value: 106.73, between_variance : 1845333.95, Samples : 162",
          "n4, Age>53.5, Bin Value: 115.71, between_variance : 1191559.6, Samples : 89",
          "n8, Income>67.0, Bin Value: 126.7, between_variance : 433453.37, Samples : 27",
          "n9, Sales>2.76, Bin Value: 110.92, between_variance : 762792.4, Samples : 62",
          "n5, CompPrice>99.0, Bin Value: 95.78, between_variance : 669699.51, Samples : 73",
          "n11, Sales>10.63, Bin Value: 99.86, between_variance : 638201.27, Samples : 64",
          "n22, ShelveLoc in (b'Bad', b'Medium'), Bin Value: 104.87, between_variance : 494865.8, Samples : 45",
          "n3, Sales>7.56, Bin Value: 128.19, between_variance : 1939204.48, Samples : 118",
          "n6, CompPrice>135.5, Bin Value: 139.71, between_variance : 1132044.98, Samples : 58",
          "n7, CompPrice>146.5, Bin Value: 117.07, between_variance : 822276.27, Samples : 60",
          "n14, Sales>11.88, Bin Value: 111.44, between_variance : 558893.89, Samples : 45"
         ],
         "type": "scatter",
         "x": [
          -12.1875,
          -10.1875,
          -3.1875,
          0.8125,
          -0.6875,
          0.3125,
          2.3125,
          4.3125,
          8.3125,
          0,
          -5.3125,
          -9.1875,
          -11.1875,
          -7.1875,
          -1.4375,
          0.3125,
          -0.1875,
          5.3125,
          3.3125,
          7.3125,
          6.3125
         ],
         "y": [
          0.6502527408803489,
          0.6502527408803489,
          0.6398009563565004,
          0.6153644363220947,
          0.5862109168123699,
          0.5862109168123699,
          0.6651636912266655,
          0.6651636912266655,
          0.6639376266347609,
          1,
          0.7977181192496443,
          0.6953232318233172,
          0.6651922361538638,
          0.6651922361538638,
          0.6953232318233172,
          0.6398009563565004,
          0.6153644363220947,
          0.7977181192496443,
          0.7005209548734033,
          0.7005209548734033,
          0.6639376266347609
         ]
        }
       ],
       "layout": {
        "template": {
         "data": {
          "bar": [
           {
            "error_x": {
             "color": "#2a3f5f"
            },
            "error_y": {
             "color": "#2a3f5f"
            },
            "marker": {
             "line": {
              "color": "#E5ECF6",
              "width": 0.5
             },
             "pattern": {
              "fillmode": "overlay",
              "size": 10,
              "solidity": 0.2
             }
            },
            "type": "bar"
           }
          ],
          "barpolar": [
           {
            "marker": {
             "line": {
              "color": "#E5ECF6",
              "width": 0.5
             },
             "pattern": {
              "fillmode": "overlay",
              "size": 10,
              "solidity": 0.2
             }
            },
            "type": "barpolar"
           }
          ],
          "carpet": [
           {
            "aaxis": {
             "endlinecolor": "#2a3f5f",
             "gridcolor": "white",
             "linecolor": "white",
             "minorgridcolor": "white",
             "startlinecolor": "#2a3f5f"
            },
            "baxis": {
             "endlinecolor": "#2a3f5f",
             "gridcolor": "white",
             "linecolor": "white",
             "minorgridcolor": "white",
             "startlinecolor": "#2a3f5f"
            },
            "type": "carpet"
           }
          ],
          "choropleth": [
           {
            "colorbar": {
             "outlinewidth": 0,
             "ticks": ""
            },
            "type": "choropleth"
           }
          ],
          "contour": [
           {
            "colorbar": {
             "outlinewidth": 0,
             "ticks": ""
            },
            "colorscale": [
             [
              0,
              "#0d0887"
             ],
             [
              0.1111111111111111,
              "#46039f"
             ],
             [
              0.2222222222222222,
              "#7201a8"
             ],
             [
              0.3333333333333333,
              "#9c179e"
             ],
             [
              0.4444444444444444,
              "#bd3786"
             ],
             [
              0.5555555555555556,
              "#d8576b"
             ],
             [
              0.6666666666666666,
              "#ed7953"
             ],
             [
              0.7777777777777778,
              "#fb9f3a"
             ],
             [
              0.8888888888888888,
              "#fdca26"
             ],
             [
              1,
              "#f0f921"
             ]
            ],
            "type": "contour"
           }
          ],
          "contourcarpet": [
           {
            "colorbar": {
             "outlinewidth": 0,
             "ticks": ""
            },
            "type": "contourcarpet"
           }
          ],
          "heatmap": [
           {
            "colorbar": {
             "outlinewidth": 0,
             "ticks": ""
            },
            "colorscale": [
             [
              0,
              "#0d0887"
             ],
             [
              0.1111111111111111,
              "#46039f"
             ],
             [
              0.2222222222222222,
              "#7201a8"
             ],
             [
              0.3333333333333333,
              "#9c179e"
             ],
             [
              0.4444444444444444,
              "#bd3786"
             ],
             [
              0.5555555555555556,
              "#d8576b"
             ],
             [
              0.6666666666666666,
              "#ed7953"
             ],
             [
              0.7777777777777778,
              "#fb9f3a"
             ],
             [
              0.8888888888888888,
              "#fdca26"
             ],
             [
              1,
              "#f0f921"
             ]
            ],
            "type": "heatmap"
           }
          ],
          "heatmapgl": [
           {
            "colorbar": {
             "outlinewidth": 0,
             "ticks": ""
            },
            "colorscale": [
             [
              0,
              "#0d0887"
             ],
             [
              0.1111111111111111,
              "#46039f"
             ],
             [
              0.2222222222222222,
              "#7201a8"
             ],
             [
              0.3333333333333333,
              "#9c179e"
             ],
             [
              0.4444444444444444,
              "#bd3786"
             ],
             [
              0.5555555555555556,
              "#d8576b"
             ],
             [
              0.6666666666666666,
              "#ed7953"
             ],
             [
              0.7777777777777778,
              "#fb9f3a"
             ],
             [
              0.8888888888888888,
              "#fdca26"
             ],
             [
              1,
              "#f0f921"
             ]
            ],
            "type": "heatmapgl"
           }
          ],
          "histogram": [
           {
            "marker": {
             "pattern": {
              "fillmode": "overlay",
              "size": 10,
              "solidity": 0.2
             }
            },
            "type": "histogram"
           }
          ],
          "histogram2d": [
           {
            "colorbar": {
             "outlinewidth": 0,
             "ticks": ""
            },
            "colorscale": [
             [
              0,
              "#0d0887"
             ],
             [
              0.1111111111111111,
              "#46039f"
             ],
             [
              0.2222222222222222,
              "#7201a8"
             ],
             [
              0.3333333333333333,
              "#9c179e"
             ],
             [
              0.4444444444444444,
              "#bd3786"
             ],
             [
              0.5555555555555556,
              "#d8576b"
             ],
             [
              0.6666666666666666,
              "#ed7953"
             ],
             [
              0.7777777777777778,
              "#fb9f3a"
             ],
             [
              0.8888888888888888,
              "#fdca26"
             ],
             [
              1,
              "#f0f921"
             ]
            ],
            "type": "histogram2d"
           }
          ],
          "histogram2dcontour": [
           {
            "colorbar": {
             "outlinewidth": 0,
             "ticks": ""
            },
            "colorscale": [
             [
              0,
              "#0d0887"
             ],
             [
              0.1111111111111111,
              "#46039f"
             ],
             [
              0.2222222222222222,
              "#7201a8"
             ],
             [
              0.3333333333333333,
              "#9c179e"
             ],
             [
              0.4444444444444444,
              "#bd3786"
             ],
             [
              0.5555555555555556,
              "#d8576b"
             ],
             [
              0.6666666666666666,
              "#ed7953"
             ],
             [
              0.7777777777777778,
              "#fb9f3a"
             ],
             [
              0.8888888888888888,
              "#fdca26"
             ],
             [
              1,
              "#f0f921"
             ]
            ],
            "type": "histogram2dcontour"
           }
          ],
          "mesh3d": [
           {
            "colorbar": {
             "outlinewidth": 0,
             "ticks": ""
            },
            "type": "mesh3d"
           }
          ],
          "parcoords": [
           {
            "line": {
             "colorbar": {
              "outlinewidth": 0,
              "ticks": ""
             }
            },
            "type": "parcoords"
           }
          ],
          "pie": [
           {
            "automargin": true,
            "type": "pie"
           }
          ],
          "scatter": [
           {
            "fillpattern": {
             "fillmode": "overlay",
             "size": 10,
             "solidity": 0.2
            },
            "type": "scatter"
           }
          ],
          "scatter3d": [
           {
            "line": {
             "colorbar": {
              "outlinewidth": 0,
              "ticks": ""
             }
            },
            "marker": {
             "colorbar": {
              "outlinewidth": 0,
              "ticks": ""
             }
            },
            "type": "scatter3d"
           }
          ],
          "scattercarpet": [
           {
            "marker": {
             "colorbar": {
              "outlinewidth": 0,
              "ticks": ""
             }
            },
            "type": "scattercarpet"
           }
          ],
          "scattergeo": [
           {
            "marker": {
             "colorbar": {
              "outlinewidth": 0,
              "ticks": ""
             }
            },
            "type": "scattergeo"
           }
          ],
          "scattergl": [
           {
            "marker": {
             "colorbar": {
              "outlinewidth": 0,
              "ticks": ""
             }
            },
            "type": "scattergl"
           }
          ],
          "scattermapbox": [
           {
            "marker": {
             "colorbar": {
              "outlinewidth": 0,
              "ticks": ""
             }
            },
            "type": "scattermapbox"
           }
          ],
          "scatterpolar": [
           {
            "marker": {
             "colorbar": {
              "outlinewidth": 0,
              "ticks": ""
             }
            },
            "type": "scatterpolar"
           }
          ],
          "scatterpolargl": [
           {
            "marker": {
             "colorbar": {
              "outlinewidth": 0,
              "ticks": ""
             }
            },
            "type": "scatterpolargl"
           }
          ],
          "scatterternary": [
           {
            "marker": {
             "colorbar": {
              "outlinewidth": 0,
              "ticks": ""
             }
            },
            "type": "scatterternary"
           }
          ],
          "surface": [
           {
            "colorbar": {
             "outlinewidth": 0,
             "ticks": ""
            },
            "colorscale": [
             [
              0,
              "#0d0887"
             ],
             [
              0.1111111111111111,
              "#46039f"
             ],
             [
              0.2222222222222222,
              "#7201a8"
             ],
             [
              0.3333333333333333,
              "#9c179e"
             ],
             [
              0.4444444444444444,
              "#bd3786"
             ],
             [
              0.5555555555555556,
              "#d8576b"
             ],
             [
              0.6666666666666666,
              "#ed7953"
             ],
             [
              0.7777777777777778,
              "#fb9f3a"
             ],
             [
              0.8888888888888888,
              "#fdca26"
             ],
             [
              1,
              "#f0f921"
             ]
            ],
            "type": "surface"
           }
          ],
          "table": [
           {
            "cells": {
             "fill": {
              "color": "#EBF0F8"
             },
             "line": {
              "color": "white"
             }
            },
            "header": {
             "fill": {
              "color": "#C8D4E3"
             },
             "line": {
              "color": "white"
             }
            },
            "type": "table"
           }
          ]
         },
         "layout": {
          "annotationdefaults": {
           "arrowcolor": "#2a3f5f",
           "arrowhead": 0,
           "arrowwidth": 1
          },
          "autotypenumbers": "strict",
          "coloraxis": {
           "colorbar": {
            "outlinewidth": 0,
            "ticks": ""
           }
          },
          "colorscale": {
           "diverging": [
            [
             0,
             "#8e0152"
            ],
            [
             0.1,
             "#c51b7d"
            ],
            [
             0.2,
             "#de77ae"
            ],
            [
             0.3,
             "#f1b6da"
            ],
            [
             0.4,
             "#fde0ef"
            ],
            [
             0.5,
             "#f7f7f7"
            ],
            [
             0.6,
             "#e6f5d0"
            ],
            [
             0.7,
             "#b8e186"
            ],
            [
             0.8,
             "#7fbc41"
            ],
            [
             0.9,
             "#4d9221"
            ],
            [
             1,
             "#276419"
            ]
           ],
           "sequential": [
            [
             0,
             "#0d0887"
            ],
            [
             0.1111111111111111,
             "#46039f"
            ],
            [
             0.2222222222222222,
             "#7201a8"
            ],
            [
             0.3333333333333333,
             "#9c179e"
            ],
            [
             0.4444444444444444,
             "#bd3786"
            ],
            [
             0.5555555555555556,
             "#d8576b"
            ],
            [
             0.6666666666666666,
             "#ed7953"
            ],
            [
             0.7777777777777778,
             "#fb9f3a"
            ],
            [
             0.8888888888888888,
             "#fdca26"
            ],
            [
             1,
             "#f0f921"
            ]
           ],
           "sequentialminus": [
            [
             0,
             "#0d0887"
            ],
            [
             0.1111111111111111,
             "#46039f"
            ],
            [
             0.2222222222222222,
             "#7201a8"
            ],
            [
             0.3333333333333333,
             "#9c179e"
            ],
            [
             0.4444444444444444,
             "#bd3786"
            ],
            [
             0.5555555555555556,
             "#d8576b"
            ],
            [
             0.6666666666666666,
             "#ed7953"
            ],
            [
             0.7777777777777778,
             "#fb9f3a"
            ],
            [
             0.8888888888888888,
             "#fdca26"
            ],
            [
             1,
             "#f0f921"
            ]
           ]
          },
          "colorway": [
           "#636efa",
           "#EF553B",
           "#00cc96",
           "#ab63fa",
           "#FFA15A",
           "#19d3f3",
           "#FF6692",
           "#B6E880",
           "#FF97FF",
           "#FECB52"
          ],
          "font": {
           "color": "#2a3f5f"
          },
          "geo": {
           "bgcolor": "white",
           "lakecolor": "white",
           "landcolor": "#E5ECF6",
           "showlakes": true,
           "showland": true,
           "subunitcolor": "white"
          },
          "hoverlabel": {
           "align": "left"
          },
          "hovermode": "closest",
          "mapbox": {
           "style": "light"
          },
          "paper_bgcolor": "white",
          "plot_bgcolor": "#E5ECF6",
          "polar": {
           "angularaxis": {
            "gridcolor": "white",
            "linecolor": "white",
            "ticks": ""
           },
           "bgcolor": "#E5ECF6",
           "radialaxis": {
            "gridcolor": "white",
            "linecolor": "white",
            "ticks": ""
           }
          },
          "scene": {
           "xaxis": {
            "backgroundcolor": "#E5ECF6",
            "gridcolor": "white",
            "gridwidth": 2,
            "linecolor": "white",
            "showbackground": true,
            "ticks": "",
            "zerolinecolor": "white"
           },
           "yaxis": {
            "backgroundcolor": "#E5ECF6",
            "gridcolor": "white",
            "gridwidth": 2,
            "linecolor": "white",
            "showbackground": true,
            "ticks": "",
            "zerolinecolor": "white"
           },
           "zaxis": {
            "backgroundcolor": "#E5ECF6",
            "gridcolor": "white",
            "gridwidth": 2,
            "linecolor": "white",
            "showbackground": true,
            "ticks": "",
            "zerolinecolor": "white"
           }
          },
          "shapedefaults": {
           "line": {
            "color": "#2a3f5f"
           }
          },
          "ternary": {
           "aaxis": {
            "gridcolor": "white",
            "linecolor": "white",
            "ticks": ""
           },
           "baxis": {
            "gridcolor": "white",
            "linecolor": "white",
            "ticks": ""
           },
           "bgcolor": "#E5ECF6",
           "caxis": {
            "gridcolor": "white",
            "linecolor": "white",
            "ticks": ""
           }
          },
          "title": {
           "x": 0.05
          },
          "xaxis": {
           "automargin": true,
           "gridcolor": "white",
           "linecolor": "white",
           "ticks": "",
           "title": {
            "standoff": 15
           },
           "zerolinecolor": "white",
           "zerolinewidth": 2
          },
          "yaxis": {
           "automargin": true,
           "gridcolor": "white",
           "linecolor": "white",
           "ticks": "",
           "title": {
            "standoff": 15
           },
           "zerolinecolor": "white",
           "zerolinewidth": 2
          }
         }
        },
        "title": {
         "text": "TREEplus_tree"
        }
       }
      }
     },
     "metadata": {},
     "output_type": "display_data"
    }
   ],
   "source": [
    "all_node, leaves = tree.cut_tree(11)\n",
    "tree.print_tree(all_node, leaves, html = False, visual_pruning = True)"
   ]
  },
  {
   "cell_type": "code",
   "execution_count": 25,
   "metadata": {},
   "outputs": [
    {
     "name": "stdout",
     "output_type": "stream",
     "text": [
      "To return the table, print_tree must be True\n",
      "Best tree for test set has 6 leaves with a deviance of: 365.12339845930427 \n"
     ]
    },
    {
     "data": {
      "image/png": "[encoded data removed]",
      "text/plain": [
       "<Figure size 640x480 with 1 Axes>"
      ]
     },
     "metadata": {},
     "output_type": "display_data"
    },
    {
     "data": {
      "application/vnd.plotly.v1+json": {
       "config": {
        "plotlyServerURL": "https://plot.ly"
       },
       "data": [
        {
         "hoverinfo": "none",
         "line": {
          "color": "rgb(210,210,210)",
          "width": 1
         },
         "mode": "lines",
         "type": "scatter",
         "x": [
          0,
          -2,
          null,
          0,
          2,
          null,
          -2,
          -3,
          null,
          -2,
          -1,
          null,
          2,
          1,
          null,
          2,
          3,
          null,
          -1,
          -1.5,
          null,
          -1,
          -0.5,
          null,
          3,
          2.5,
          null,
          3,
          3.5,
          null
         ],
         "y": [
          6,
          5,
          null,
          6,
          5,
          null,
          5,
          4,
          null,
          5,
          4,
          null,
          5,
          4,
          null,
          5,
          4,
          null,
          4,
          3,
          null,
          4,
          3,
          null,
          4,
          3,
          null,
          4,
          3,
          null
         ]
        },
        {
         "hoverinfo": "text",
         "marker": {
          "color": "#6175c1",
          "line": {
           "color": "rgb(50,50,50)",
           "width": 1
          },
          "size": 18,
          "symbol": "circle-dot"
         },
         "mode": "markers",
         "name": "Nodes",
         "opacity": 0.8,
         "text": [
          "n10, None, Bin Value: 66.78, between_variance : 40133.44, Samples : 9",
          "n15, None, Bin Value: 133.93, between_variance : 269072.07, Samples : 15",
          "n1, CompPrice>127.5, Bin Value: 115.78, between_variance : 3753078.18, Samples : 280",
          "n2, Sales>7.55, Bin Value: 106.73, between_variance : 1845333.95, Samples : 162",
          "n4, Age>53.5, Bin Value: 115.71, between_variance : 1191559.6, Samples : 89",
          "n5, CompPrice>99.0, Bin Value: 95.78, between_variance : 669699.51, Samples : 73",
          "n11, Sales>10.63, Bin Value: 99.86, between_variance : 638201.27, Samples : 64",
          "n3, Sales>7.56, Bin Value: 128.19, between_variance : 1939204.48, Samples : 118",
          "n6, CompPrice>135.5, Bin Value: 139.71, between_variance : 1132044.98, Samples : 58",
          "n7, CompPrice>146.5, Bin Value: 117.07, between_variance : 822276.27, Samples : 60",
          "n14, Sales>11.88, Bin Value: 111.44, between_variance : 558893.89, Samples : 45"
         ],
         "type": "scatter",
         "x": [
          -1.5,
          3.5,
          0,
          -2,
          -3,
          -1,
          -0.5,
          2,
          1,
          3,
          2.5
         ],
         "y": [
          3,
          3,
          6,
          5,
          4,
          4,
          3,
          5,
          4,
          4,
          3
         ]
        }
       ],
       "layout": {
        "template": {
         "data": {
          "bar": [
           {
            "error_x": {
             "color": "#2a3f5f"
            },
            "error_y": {
             "color": "#2a3f5f"
            },
            "marker": {
             "line": {
              "color": "#E5ECF6",
              "width": 0.5
             },
             "pattern": {
              "fillmode": "overlay",
              "size": 10,
              "solidity": 0.2
             }
            },
            "type": "bar"
           }
          ],
          "barpolar": [
           {
            "marker": {
             "line": {
              "color": "#E5ECF6",
              "width": 0.5
             },
             "pattern": {
              "fillmode": "overlay",
              "size": 10,
              "solidity": 0.2
             }
            },
            "type": "barpolar"
           }
          ],
          "carpet": [
           {
            "aaxis": {
             "endlinecolor": "#2a3f5f",
             "gridcolor": "white",
             "linecolor": "white",
             "minorgridcolor": "white",
             "startlinecolor": "#2a3f5f"
            },
            "baxis": {
             "endlinecolor": "#2a3f5f",
             "gridcolor": "white",
             "linecolor": "white",
             "minorgridcolor": "white",
             "startlinecolor": "#2a3f5f"
            },
            "type": "carpet"
           }
          ],
          "choropleth": [
           {
            "colorbar": {
             "outlinewidth": 0,
             "ticks": ""
            },
            "type": "choropleth"
           }
          ],
          "contour": [
           {
            "colorbar": {
             "outlinewidth": 0,
             "ticks": ""
            },
            "colorscale": [
             [
              0,
              "#0d0887"
             ],
             [
              0.1111111111111111,
              "#46039f"
             ],
             [
              0.2222222222222222,
              "#7201a8"
             ],
             [
              0.3333333333333333,
              "#9c179e"
             ],
             [
              0.4444444444444444,
              "#bd3786"
             ],
             [
              0.5555555555555556,
              "#d8576b"
             ],
             [
              0.6666666666666666,
              "#ed7953"
             ],
             [
              0.7777777777777778,
              "#fb9f3a"
             ],
             [
              0.8888888888888888,
              "#fdca26"
             ],
             [
              1,
              "#f0f921"
             ]
            ],
            "type": "contour"
           }
          ],
          "contourcarpet": [
           {
            "colorbar": {
             "outlinewidth": 0,
             "ticks": ""
            },
            "type": "contourcarpet"
           }
          ],
          "heatmap": [
           {
            "colorbar": {
             "outlinewidth": 0,
             "ticks": ""
            },
            "colorscale": [
             [
              0,
              "#0d0887"
             ],
             [
              0.1111111111111111,
              "#46039f"
             ],
             [
              0.2222222222222222,
              "#7201a8"
             ],
             [
              0.3333333333333333,
              "#9c179e"
             ],
             [
              0.4444444444444444,
              "#bd3786"
             ],
             [
              0.5555555555555556,
              "#d8576b"
             ],
             [
              0.6666666666666666,
              "#ed7953"
             ],
             [
              0.7777777777777778,
              "#fb9f3a"
             ],
             [
              0.8888888888888888,
              "#fdca26"
             ],
             [
              1,
              "#f0f921"
             ]
            ],
            "type": "heatmap"
           }
          ],
          "heatmapgl": [
           {
            "colorbar": {
             "outlinewidth": 0,
             "ticks": ""
            },
            "colorscale": [
             [
              0,
              "#0d0887"
             ],
             [
              0.1111111111111111,
              "#46039f"
             ],
             [
              0.2222222222222222,
              "#7201a8"
             ],
             [
              0.3333333333333333,
              "#9c179e"
             ],
             [
              0.4444444444444444,
              "#bd3786"
             ],
             [
              0.5555555555555556,
              "#d8576b"
             ],
             [
              0.6666666666666666,
              "#ed7953"
             ],
             [
              0.7777777777777778,
              "#fb9f3a"
             ],
             [
              0.8888888888888888,
              "#fdca26"
             ],
             [
              1,
              "#f0f921"
             ]
            ],
            "type": "heatmapgl"
           }
          ],
          "histogram": [
           {
            "marker": {
             "pattern": {
              "fillmode": "overlay",
              "size": 10,
              "solidity": 0.2
             }
            },
            "type": "histogram"
           }
          ],
          "histogram2d": [
           {
            "colorbar": {
             "outlinewidth": 0,
             "ticks": ""
            },
            "colorscale": [
             [
              0,
              "#0d0887"
             ],
             [
              0.1111111111111111,
              "#46039f"
             ],
             [
              0.2222222222222222,
              "#7201a8"
             ],
             [
              0.3333333333333333,
              "#9c179e"
             ],
             [
              0.4444444444444444,
              "#bd3786"
             ],
             [
              0.5555555555555556,
              "#d8576b"
             ],
             [
              0.6666666666666666,
              "#ed7953"
             ],
             [
              0.7777777777777778,
              "#fb9f3a"
             ],
             [
              0.8888888888888888,
              "#fdca26"
             ],
             [
              1,
              "#f0f921"
             ]
            ],
            "type": "histogram2d"
           }
          ],
          "histogram2dcontour": [
           {
            "colorbar": {
             "outlinewidth": 0,
             "ticks": ""
            },
            "colorscale": [
             [
              0,
              "#0d0887"
             ],
             [
              0.1111111111111111,
              "#46039f"
             ],
             [
              0.2222222222222222,
              "#7201a8"
             ],
             [
              0.3333333333333333,
              "#9c179e"
             ],
             [
              0.4444444444444444,
              "#bd3786"
             ],
             [
              0.5555555555555556,
              "#d8576b"
             ],
             [
              0.6666666666666666,
              "#ed7953"
             ],
             [
              0.7777777777777778,
              "#fb9f3a"
             ],
             [
              0.8888888888888888,
              "#fdca26"
             ],
             [
              1,
              "#f0f921"
             ]
            ],
            "type": "histogram2dcontour"
           }
          ],
          "mesh3d": [
           {
            "colorbar": {
             "outlinewidth": 0,
             "ticks": ""
            },
            "type": "mesh3d"
           }
          ],
          "parcoords": [
           {
            "line": {
             "colorbar": {
              "outlinewidth": 0,
              "ticks": ""
             }
            },
            "type": "parcoords"
           }
          ],
          "pie": [
           {
            "automargin": true,
            "type": "pie"
           }
          ],
          "scatter": [
           {
            "fillpattern": {
             "fillmode": "overlay",
             "size": 10,
             "solidity": 0.2
            },
            "type": "scatter"
           }
          ],
          "scatter3d": [
           {
            "line": {
             "colorbar": {
              "outlinewidth": 0,
              "ticks": ""
             }
            },
            "marker": {
             "colorbar": {
              "outlinewidth": 0,
              "ticks": ""
             }
            },
            "type": "scatter3d"
           }
          ],
          "scattercarpet": [
           {
            "marker": {
             "colorbar": {
              "outlinewidth": 0,
              "ticks": ""
             }
            },
            "type": "scattercarpet"
           }
          ],
          "scattergeo": [
           {
            "marker": {
             "colorbar": {
              "outlinewidth": 0,
              "ticks": ""
             }
            },
            "type": "scattergeo"
           }
          ],
          "scattergl": [
           {
            "marker": {
             "colorbar": {
              "outlinewidth": 0,
              "ticks": ""
             }
            },
            "type": "scattergl"
           }
          ],
          "scattermapbox": [
           {
            "marker": {
             "colorbar": {
              "outlinewidth": 0,
              "ticks": ""
             }
            },
            "type": "scattermapbox"
           }
          ],
          "scatterpolar": [
           {
            "marker": {
             "colorbar": {
              "outlinewidth": 0,
              "ticks": ""
             }
            },
            "type": "scatterpolar"
           }
          ],
          "scatterpolargl": [
           {
            "marker": {
             "colorbar": {
              "outlinewidth": 0,
              "ticks": ""
             }
            },
            "type": "scatterpolargl"
           }
          ],
          "scatterternary": [
           {
            "marker": {
             "colorbar": {
              "outlinewidth": 0,
              "ticks": ""
             }
            },
            "type": "scatterternary"
           }
          ],
          "surface": [
           {
            "colorbar": {
             "outlinewidth": 0,
             "ticks": ""
            },
            "colorscale": [
             [
              0,
              "#0d0887"
             ],
             [
              0.1111111111111111,
              "#46039f"
             ],
             [
              0.2222222222222222,
              "#7201a8"
             ],
             [
              0.3333333333333333,
              "#9c179e"
             ],
             [
              0.4444444444444444,
              "#bd3786"
             ],
             [
              0.5555555555555556,
              "#d8576b"
             ],
             [
              0.6666666666666666,
              "#ed7953"
             ],
             [
              0.7777777777777778,
              "#fb9f3a"
             ],
             [
              0.8888888888888888,
              "#fdca26"
             ],
             [
              1,
              "#f0f921"
             ]
            ],
            "type": "surface"
           }
          ],
          "table": [
           {
            "cells": {
             "fill": {
              "color": "#EBF0F8"
             },
             "line": {
              "color": "white"
             }
            },
            "header": {
             "fill": {
              "color": "#C8D4E3"
             },
             "line": {
              "color": "white"
             }
            },
            "type": "table"
           }
          ]
         },
         "layout": {
          "annotationdefaults": {
           "arrowcolor": "#2a3f5f",
           "arrowhead": 0,
           "arrowwidth": 1
          },
          "autotypenumbers": "strict",
          "coloraxis": {
           "colorbar": {
            "outlinewidth": 0,
            "ticks": ""
           }
          },
          "colorscale": {
           "diverging": [
            [
             0,
             "#8e0152"
            ],
            [
             0.1,
             "#c51b7d"
            ],
            [
             0.2,
             "#de77ae"
            ],
            [
             0.3,
             "#f1b6da"
            ],
            [
             0.4,
             "#fde0ef"
            ],
            [
             0.5,
             "#f7f7f7"
            ],
            [
             0.6,
             "#e6f5d0"
            ],
            [
             0.7,
             "#b8e186"
            ],
            [
             0.8,
             "#7fbc41"
            ],
            [
             0.9,
             "#4d9221"
            ],
            [
             1,
             "#276419"
            ]
           ],
           "sequential": [
            [
             0,
             "#0d0887"
            ],
            [
             0.1111111111111111,
             "#46039f"
            ],
            [
             0.2222222222222222,
             "#7201a8"
            ],
            [
             0.3333333333333333,
             "#9c179e"
            ],
            [
             0.4444444444444444,
             "#bd3786"
            ],
            [
             0.5555555555555556,
             "#d8576b"
            ],
            [
             0.6666666666666666,
             "#ed7953"
            ],
            [
             0.7777777777777778,
             "#fb9f3a"
            ],
            [
             0.8888888888888888,
             "#fdca26"
            ],
            [
             1,
             "#f0f921"
            ]
           ],
           "sequentialminus": [
            [
             0,
             "#0d0887"
            ],
            [
             0.1111111111111111,
             "#46039f"
            ],
            [
             0.2222222222222222,
             "#7201a8"
            ],
            [
             0.3333333333333333,
             "#9c179e"
            ],
            [
             0.4444444444444444,
             "#bd3786"
            ],
            [
             0.5555555555555556,
             "#d8576b"
            ],
            [
             0.6666666666666666,
             "#ed7953"
            ],
            [
             0.7777777777777778,
             "#fb9f3a"
            ],
            [
             0.8888888888888888,
             "#fdca26"
            ],
            [
             1,
             "#f0f921"
            ]
           ]
          },
          "colorway": [
           "#636efa",
           "#EF553B",
           "#00cc96",
           "#ab63fa",
           "#FFA15A",
           "#19d3f3",
           "#FF6692",
           "#B6E880",
           "#FF97FF",
           "#FECB52"
          ],
          "font": {
           "color": "#2a3f5f"
          },
          "geo": {
           "bgcolor": "white",
           "lakecolor": "white",
           "landcolor": "#E5ECF6",
           "showlakes": true,
           "showland": true,
           "subunitcolor": "white"
          },
          "hoverlabel": {
           "align": "left"
          },
          "hovermode": "closest",
          "mapbox": {
           "style": "light"
          },
          "paper_bgcolor": "white",
          "plot_bgcolor": "#E5ECF6",
          "polar": {
           "angularaxis": {
            "gridcolor": "white",
            "linecolor": "white",
            "ticks": ""
           },
           "bgcolor": "#E5ECF6",
           "radialaxis": {
            "gridcolor": "white",
            "linecolor": "white",
            "ticks": ""
           }
          },
          "scene": {
           "xaxis": {
            "backgroundcolor": "#E5ECF6",
            "gridcolor": "white",
            "gridwidth": 2,
            "linecolor": "white",
            "showbackground": true,
            "ticks": "",
            "zerolinecolor": "white"
           },
           "yaxis": {
            "backgroundcolor": "#E5ECF6",
            "gridcolor": "white",
            "gridwidth": 2,
            "linecolor": "white",
            "showbackground": true,
            "ticks": "",
            "zerolinecolor": "white"
           },
           "zaxis": {
            "backgroundcolor": "#E5ECF6",
            "gridcolor": "white",
            "gridwidth": 2,
            "linecolor": "white",
            "showbackground": true,
            "ticks": "",
            "zerolinecolor": "white"
           }
          },
          "shapedefaults": {
           "line": {
            "color": "#2a3f5f"
           }
          },
          "ternary": {
           "aaxis": {
            "gridcolor": "white",
            "linecolor": "white",
            "ticks": ""
           },
           "baxis": {
            "gridcolor": "white",
            "linecolor": "white",
            "ticks": ""
           },
           "bgcolor": "#E5ECF6",
           "caxis": {
            "gridcolor": "white",
            "linecolor": "white",
            "ticks": ""
           }
          },
          "title": {
           "x": 0.05
          },
          "xaxis": {
           "automargin": true,
           "gridcolor": "white",
           "linecolor": "white",
           "ticks": "",
           "title": {
            "standoff": 15
           },
           "zerolinecolor": "white",
           "zerolinewidth": 2
          },
          "yaxis": {
           "automargin": true,
           "gridcolor": "white",
           "linecolor": "white",
           "ticks": "",
           "title": {
            "standoff": 15
           },
           "zerolinecolor": "white",
           "zerolinewidth": 2
          }
         }
        },
        "title": {
         "text": "TREEplus_tree_pruned"
        }
       }
      }
     },
     "metadata": {},
     "output_type": "display_data"
    }
   ],
   "source": [
    "start = time.time()\n",
    "alpha, pruned_table = tree.pruning(features_test, n_features_test, y_test, table = True, html = False, graph_results = True)\n",
    "#pruned_table#.style#.hide_index()\n",
    "\n",
    "#time.time()- start"
   ]
  },
  {
   "cell_type": "code",
   "execution_count": 42,
   "metadata": {},
   "outputs": [
    {
     "data": {
      "text/plain": [
       "[('Alpha = 0',\n",
       "  'value soglia = None',\n",
       "  'deviance = 191.77460919784585',\n",
       "  'leaves = 13'),\n",
       " ('Alpha = 2067.2222222222235',\n",
       "  \"value soglia = ['Sales', 11.879999999999999, 3]\",\n",
       "  'deviance = 199.15754570578238',\n",
       "  'leaves = 12'),\n",
       " ('Alpha = 2092.2812980030776',\n",
       "  \"value soglia = ['Sales', 2.755, 3]\",\n",
       "  'deviance = 206.6299789129364',\n",
       "  'leaves = 11'),\n",
       " ('Alpha = 2323.492266992266',\n",
       "  \"value soglia = ['Income', 67.0, 3]\",\n",
       "  'deviance = 214.9281655807659',\n",
       "  'leaves = 10'),\n",
       " ('Alpha = 4167.344350961538',\n",
       "  \"value soglia = ['Sales', 10.629999999999999, 3]\",\n",
       "  'deviance = 244.69491094477667',\n",
       "  'leaves = 8'),\n",
       " ('Alpha = 4686.178090558838',\n",
       "  \"value soglia = ['Age', 53.5, 2]\",\n",
       "  'deviance = 261.431261268201',\n",
       "  'leaves = 7'),\n",
       " ('Alpha = 5499.0029556650225',\n",
       "  \"value soglia = ['CompPrice', 135.5, 2]\",\n",
       "  'deviance = 281.0705575384331',\n",
       "  'leaves = 6'),\n",
       " ('Alpha = 5689.688888888888',\n",
       "  \"value soglia = ['CompPrice', 146.5, 2]\",\n",
       "  'deviance = 301.3908749987506',\n",
       "  'leaves = 5'),\n",
       " ('Alpha = 8635.203220129362',\n",
       "  \"value soglia = ['CompPrice', 99.0, 2]\",\n",
       "  'deviance = 332.23088649921306',\n",
       "  'leaves = 4'),\n",
       " ('Alpha = 15116.766374439903',\n",
       "  \"value soglia = ['Sales', 7.555, 1]\",\n",
       "  'deviance = 386.21933783649797',\n",
       "  'leaves = 3'),\n",
       " ('Alpha = 15925.151737649147',\n",
       "  \"value soglia = ['Sales', 7.55, 1]\",\n",
       "  'deviance = 443.0948797566736',\n",
       "  'leaves = 2')]"
      ]
     },
     "execution_count": 42,
     "metadata": {},
     "output_type": "execute_result"
    }
   ],
   "source": [
    "alpha"
   ]
  },
  {
   "cell_type": "code",
   "execution_count": 26,
   "metadata": {},
   "outputs": [
    {
     "name": "stdout",
     "output_type": "stream",
     "text": [
      "('Alpha = 0', 'value soglia = None', 'deviance = 191.77460919784585', 'leaves = 13')\n",
      "('Alpha = 2067.2222222222235', \"value soglia = ['Sales', 11.879999999999999, 3]\", 'deviance = 199.15754570578238', 'leaves = 12')\n",
      "('Alpha = 2092.2812980030776', \"value soglia = ['Sales', 2.755, 3]\", 'deviance = 206.6299789129364', 'leaves = 11')\n",
      "('Alpha = 2323.492266992266', \"value soglia = ['Income', 67.0, 3]\", 'deviance = 214.9281655807659', 'leaves = 10')\n",
      "('Alpha = 4167.344350961538', \"value soglia = ['Sales', 10.629999999999999, 3]\", 'deviance = 244.69491094477667', 'leaves = 8')\n",
      "('Alpha = 4686.178090558838', \"value soglia = ['Age', 53.5, 2]\", 'deviance = 261.431261268201', 'leaves = 7')\n",
      "('Alpha = 5499.0029556650225', \"value soglia = ['CompPrice', 135.5, 2]\", 'deviance = 281.0705575384331', 'leaves = 6')\n",
      "('Alpha = 5689.688888888888', \"value soglia = ['CompPrice', 146.5, 2]\", 'deviance = 301.3908749987506', 'leaves = 5')\n",
      "('Alpha = 8635.203220129362', \"value soglia = ['CompPrice', 99.0, 2]\", 'deviance = 332.23088649921306', 'leaves = 4')\n",
      "('Alpha = 15116.766374439903', \"value soglia = ['Sales', 7.555, 1]\", 'deviance = 386.21933783649797', 'leaves = 3')\n",
      "('Alpha = 15925.151737649147', \"value soglia = ['Sales', 7.55, 1]\", 'deviance = 443.0948797566736', 'leaves = 2')\n"
     ]
    }
   ],
   "source": [
    "tree.print_alpha(alpha)"
   ]
  },
  {
   "cell_type": "code",
   "execution_count": 27,
   "metadata": {},
   "outputs": [
    {
     "name": "stdout",
     "output_type": "stream",
     "text": [
      "To return the table, print_tree must be True\n",
      "Best tree for test set has 6 leaves with a deviance of: 365.12339845930427 \n"
     ]
    },
    {
     "data": {
      "image/png": "[encoded data removed]",
      "text/plain": [
       "<Figure size 640x480 with 1 Axes>"
      ]
     },
     "metadata": {},
     "output_type": "display_data"
    },
    {
     "data": {
      "application/vnd.plotly.v1+json": {
       "config": {
        "plotlyServerURL": "https://plot.ly"
       },
       "data": [
        {
         "hoverinfo": "none",
         "line": {
          "color": "rgb(210,210,210)",
          "width": 1
         },
         "mode": "lines",
         "type": "scatter",
         "x": [
          0,
          -2,
          null,
          0,
          2,
          null,
          -2,
          -3,
          null,
          -2,
          -1,
          null,
          2,
          1,
          null,
          2,
          3,
          null,
          -1,
          -1.5,
          null,
          -1,
          -0.5,
          null,
          3,
          2.5,
          null,
          3,
          3.5,
          null
         ],
         "y": [
          1,
          0.7977181192496443,
          null,
          1,
          0.7977181192496443,
          null,
          0.7977181192496443,
          0.6953232318233172,
          null,
          0.7977181192496443,
          0.6953232318233172,
          null,
          0.7977181192496443,
          0.7005209548734033,
          null,
          0.7977181192496443,
          0.7005209548734033,
          null,
          0.6953232318233172,
          0.6398009563565004,
          null,
          0.6953232318233172,
          0.6398009563565004,
          null,
          0.7005209548734033,
          0.6639376266347609,
          null,
          0.7005209548734033,
          0.6639376266347609,
          null
         ]
        },
        {
         "hoverinfo": "text",
         "marker": {
          "color": "#6175c1",
          "line": {
           "color": "rgb(50,50,50)",
           "width": 1
          },
          "size": 18,
          "symbol": "circle-dot"
         },
         "mode": "markers",
         "name": "Nodes",
         "opacity": 0.8,
         "text": [
          "n10, None, Bin Value: 66.78, between_variance : 40133.44, Samples : 9",
          "n15, None, Bin Value: 133.93, between_variance : 269072.07, Samples : 15",
          "n1, CompPrice>127.5, Bin Value: 115.78, between_variance : 3753078.18, Samples : 280",
          "n2, Sales>7.55, Bin Value: 106.73, between_variance : 1845333.95, Samples : 162",
          "n4, Age>53.5, Bin Value: 115.71, between_variance : 1191559.6, Samples : 89",
          "n5, CompPrice>99.0, Bin Value: 95.78, between_variance : 669699.51, Samples : 73",
          "n11, Sales>10.63, Bin Value: 99.86, between_variance : 638201.27, Samples : 64",
          "n3, Sales>7.56, Bin Value: 128.19, between_variance : 1939204.48, Samples : 118",
          "n6, CompPrice>135.5, Bin Value: 139.71, between_variance : 1132044.98, Samples : 58",
          "n7, CompPrice>146.5, Bin Value: 117.07, between_variance : 822276.27, Samples : 60",
          "n14, Sales>11.88, Bin Value: 111.44, between_variance : 558893.89, Samples : 45"
         ],
         "type": "scatter",
         "x": [
          -1.5,
          3.5,
          0,
          -2,
          -3,
          -1,
          -0.5,
          2,
          1,
          3,
          2.5
         ],
         "y": [
          0.6398009563565004,
          0.6639376266347609,
          1,
          0.7977181192496443,
          0.6953232318233172,
          0.6953232318233172,
          0.6398009563565004,
          0.7977181192496443,
          0.7005209548734033,
          0.7005209548734033,
          0.6639376266347609
         ]
        }
       ],
       "layout": {
        "template": {
         "data": {
          "bar": [
           {
            "error_x": {
             "color": "#2a3f5f"
            },
            "error_y": {
             "color": "#2a3f5f"
            },
            "marker": {
             "line": {
              "color": "#E5ECF6",
              "width": 0.5
             },
             "pattern": {
              "fillmode": "overlay",
              "size": 10,
              "solidity": 0.2
             }
            },
            "type": "bar"
           }
          ],
          "barpolar": [
           {
            "marker": {
             "line": {
              "color": "#E5ECF6",
              "width": 0.5
             },
             "pattern": {
              "fillmode": "overlay",
              "size": 10,
              "solidity": 0.2
             }
            },
            "type": "barpolar"
           }
          ],
          "carpet": [
           {
            "aaxis": {
             "endlinecolor": "#2a3f5f",
             "gridcolor": "white",
             "linecolor": "white",
             "minorgridcolor": "white",
             "startlinecolor": "#2a3f5f"
            },
            "baxis": {
             "endlinecolor": "#2a3f5f",
             "gridcolor": "white",
             "linecolor": "white",
             "minorgridcolor": "white",
             "startlinecolor": "#2a3f5f"
            },
            "type": "carpet"
           }
          ],
          "choropleth": [
           {
            "colorbar": {
             "outlinewidth": 0,
             "ticks": ""
            },
            "type": "choropleth"
           }
          ],
          "contour": [
           {
            "colorbar": {
             "outlinewidth": 0,
             "ticks": ""
            },
            "colorscale": [
             [
              0,
              "#0d0887"
             ],
             [
              0.1111111111111111,
              "#46039f"
             ],
             [
              0.2222222222222222,
              "#7201a8"
             ],
             [
              0.3333333333333333,
              "#9c179e"
             ],
             [
              0.4444444444444444,
              "#bd3786"
             ],
             [
              0.5555555555555556,
              "#d8576b"
             ],
             [
              0.6666666666666666,
              "#ed7953"
             ],
             [
              0.7777777777777778,
              "#fb9f3a"
             ],
             [
              0.8888888888888888,
              "#fdca26"
             ],
             [
              1,
              "#f0f921"
             ]
            ],
            "type": "contour"
           }
          ],
          "contourcarpet": [
           {
            "colorbar": {
             "outlinewidth": 0,
             "ticks": ""
            },
            "type": "contourcarpet"
           }
          ],
          "heatmap": [
           {
            "colorbar": {
             "outlinewidth": 0,
             "ticks": ""
            },
            "colorscale": [
             [
              0,
              "#0d0887"
             ],
             [
              0.1111111111111111,
              "#46039f"
             ],
             [
              0.2222222222222222,
              "#7201a8"
             ],
             [
              0.3333333333333333,
              "#9c179e"
             ],
             [
              0.4444444444444444,
              "#bd3786"
             ],
             [
              0.5555555555555556,
              "#d8576b"
             ],
             [
              0.6666666666666666,
              "#ed7953"
             ],
             [
              0.7777777777777778,
              "#fb9f3a"
             ],
             [
              0.8888888888888888,
              "#fdca26"
             ],
             [
              1,
              "#f0f921"
             ]
            ],
            "type": "heatmap"
           }
          ],
          "heatmapgl": [
           {
            "colorbar": {
             "outlinewidth": 0,
             "ticks": ""
            },
            "colorscale": [
             [
              0,
              "#0d0887"
             ],
             [
              0.1111111111111111,
              "#46039f"
             ],
             [
              0.2222222222222222,
              "#7201a8"
             ],
             [
              0.3333333333333333,
              "#9c179e"
             ],
             [
              0.4444444444444444,
              "#bd3786"
             ],
             [
              0.5555555555555556,
              "#d8576b"
             ],
             [
              0.6666666666666666,
              "#ed7953"
             ],
             [
              0.7777777777777778,
              "#fb9f3a"
             ],
             [
              0.8888888888888888,
              "#fdca26"
             ],
             [
              1,
              "#f0f921"
             ]
            ],
            "type": "heatmapgl"
           }
          ],
          "histogram": [
           {
            "marker": {
             "pattern": {
              "fillmode": "overlay",
              "size": 10,
              "solidity": 0.2
             }
            },
            "type": "histogram"
           }
          ],
          "histogram2d": [
           {
            "colorbar": {
             "outlinewidth": 0,
             "ticks": ""
            },
            "colorscale": [
             [
              0,
              "#0d0887"
             ],
             [
              0.1111111111111111,
              "#46039f"
             ],
             [
              0.2222222222222222,
              "#7201a8"
             ],
             [
              0.3333333333333333,
              "#9c179e"
             ],
             [
              0.4444444444444444,
              "#bd3786"
             ],
             [
              0.5555555555555556,
              "#d8576b"
             ],
             [
              0.6666666666666666,
              "#ed7953"
             ],
             [
              0.7777777777777778,
              "#fb9f3a"
             ],
             [
              0.8888888888888888,
              "#fdca26"
             ],
             [
              1,
              "#f0f921"
             ]
            ],
            "type": "histogram2d"
           }
          ],
          "histogram2dcontour": [
           {
            "colorbar": {
             "outlinewidth": 0,
             "ticks": ""
            },
            "colorscale": [
             [
              0,
              "#0d0887"
             ],
             [
              0.1111111111111111,
              "#46039f"
             ],
             [
              0.2222222222222222,
              "#7201a8"
             ],
             [
              0.3333333333333333,
              "#9c179e"
             ],
             [
              0.4444444444444444,
              "#bd3786"
             ],
             [
              0.5555555555555556,
              "#d8576b"
             ],
             [
              0.6666666666666666,
              "#ed7953"
             ],
             [
              0.7777777777777778,
              "#fb9f3a"
             ],
             [
              0.8888888888888888,
              "#fdca26"
             ],
             [
              1,
              "#f0f921"
             ]
            ],
            "type": "histogram2dcontour"
           }
          ],
          "mesh3d": [
           {
            "colorbar": {
             "outlinewidth": 0,
             "ticks": ""
            },
            "type": "mesh3d"
           }
          ],
          "parcoords": [
           {
            "line": {
             "colorbar": {
              "outlinewidth": 0,
              "ticks": ""
             }
            },
            "type": "parcoords"
           }
          ],
          "pie": [
           {
            "automargin": true,
            "type": "pie"
           }
          ],
          "scatter": [
           {
            "fillpattern": {
             "fillmode": "overlay",
             "size": 10,
             "solidity": 0.2
            },
            "type": "scatter"
           }
          ],
          "scatter3d": [
           {
            "line": {
             "colorbar": {
              "outlinewidth": 0,
              "ticks": ""
             }
            },
            "marker": {
             "colorbar": {
              "outlinewidth": 0,
              "ticks": ""
             }
            },
            "type": "scatter3d"
           }
          ],
          "scattercarpet": [
           {
            "marker": {
             "colorbar": {
              "outlinewidth": 0,
              "ticks": ""
             }
            },
            "type": "scattercarpet"
           }
          ],
          "scattergeo": [
           {
            "marker": {
             "colorbar": {
              "outlinewidth": 0,
              "ticks": ""
             }
            },
            "type": "scattergeo"
           }
          ],
          "scattergl": [
           {
            "marker": {
             "colorbar": {
              "outlinewidth": 0,
              "ticks": ""
             }
            },
            "type": "scattergl"
           }
          ],
          "scattermapbox": [
           {
            "marker": {
             "colorbar": {
              "outlinewidth": 0,
              "ticks": ""
             }
            },
            "type": "scattermapbox"
           }
          ],
          "scatterpolar": [
           {
            "marker": {
             "colorbar": {
              "outlinewidth": 0,
              "ticks": ""
             }
            },
            "type": "scatterpolar"
           }
          ],
          "scatterpolargl": [
           {
            "marker": {
             "colorbar": {
              "outlinewidth": 0,
              "ticks": ""
             }
            },
            "type": "scatterpolargl"
           }
          ],
          "scatterternary": [
           {
            "marker": {
             "colorbar": {
              "outlinewidth": 0,
              "ticks": ""
             }
            },
            "type": "scatterternary"
           }
          ],
          "surface": [
           {
            "colorbar": {
             "outlinewidth": 0,
             "ticks": ""
            },
            "colorscale": [
             [
              0,
              "#0d0887"
             ],
             [
              0.1111111111111111,
              "#46039f"
             ],
             [
              0.2222222222222222,
              "#7201a8"
             ],
             [
              0.3333333333333333,
              "#9c179e"
             ],
             [
              0.4444444444444444,
              "#bd3786"
             ],
             [
              0.5555555555555556,
              "#d8576b"
             ],
             [
              0.6666666666666666,
              "#ed7953"
             ],
             [
              0.7777777777777778,
              "#fb9f3a"
             ],
             [
              0.8888888888888888,
              "#fdca26"
             ],
             [
              1,
              "#f0f921"
             ]
            ],
            "type": "surface"
           }
          ],
          "table": [
           {
            "cells": {
             "fill": {
              "color": "#EBF0F8"
             },
             "line": {
              "color": "white"
             }
            },
            "header": {
             "fill": {
              "color": "#C8D4E3"
             },
             "line": {
              "color": "white"
             }
            },
            "type": "table"
           }
          ]
         },
         "layout": {
          "annotationdefaults": {
           "arrowcolor": "#2a3f5f",
           "arrowhead": 0,
           "arrowwidth": 1
          },
          "autotypenumbers": "strict",
          "coloraxis": {
           "colorbar": {
            "outlinewidth": 0,
            "ticks": ""
           }
          },
          "colorscale": {
           "diverging": [
            [
             0,
             "#8e0152"
            ],
            [
             0.1,
             "#c51b7d"
            ],
            [
             0.2,
             "#de77ae"
            ],
            [
             0.3,
             "#f1b6da"
            ],
            [
             0.4,
             "#fde0ef"
            ],
            [
             0.5,
             "#f7f7f7"
            ],
            [
             0.6,
             "#e6f5d0"
            ],
            [
             0.7,
             "#b8e186"
            ],
            [
             0.8,
             "#7fbc41"
            ],
            [
             0.9,
             "#4d9221"
            ],
            [
             1,
             "#276419"
            ]
           ],
           "sequential": [
            [
             0,
             "#0d0887"
            ],
            [
             0.1111111111111111,
             "#46039f"
            ],
            [
             0.2222222222222222,
             "#7201a8"
            ],
            [
             0.3333333333333333,
             "#9c179e"
            ],
            [
             0.4444444444444444,
             "#bd3786"
            ],
            [
             0.5555555555555556,
             "#d8576b"
            ],
            [
             0.6666666666666666,
             "#ed7953"
            ],
            [
             0.7777777777777778,
             "#fb9f3a"
            ],
            [
             0.8888888888888888,
             "#fdca26"
            ],
            [
             1,
             "#f0f921"
            ]
           ],
           "sequentialminus": [
            [
             0,
             "#0d0887"
            ],
            [
             0.1111111111111111,
             "#46039f"
            ],
            [
             0.2222222222222222,
             "#7201a8"
            ],
            [
             0.3333333333333333,
             "#9c179e"
            ],
            [
             0.4444444444444444,
             "#bd3786"
            ],
            [
             0.5555555555555556,
             "#d8576b"
            ],
            [
             0.6666666666666666,
             "#ed7953"
            ],
            [
             0.7777777777777778,
             "#fb9f3a"
            ],
            [
             0.8888888888888888,
             "#fdca26"
            ],
            [
             1,
             "#f0f921"
            ]
           ]
          },
          "colorway": [
           "#636efa",
           "#EF553B",
           "#00cc96",
           "#ab63fa",
           "#FFA15A",
           "#19d3f3",
           "#FF6692",
           "#B6E880",
           "#FF97FF",
           "#FECB52"
          ],
          "font": {
           "color": "#2a3f5f"
          },
          "geo": {
           "bgcolor": "white",
           "lakecolor": "white",
           "landcolor": "#E5ECF6",
           "showlakes": true,
           "showland": true,
           "subunitcolor": "white"
          },
          "hoverlabel": {
           "align": "left"
          },
          "hovermode": "closest",
          "mapbox": {
           "style": "light"
          },
          "paper_bgcolor": "white",
          "plot_bgcolor": "#E5ECF6",
          "polar": {
           "angularaxis": {
            "gridcolor": "white",
            "linecolor": "white",
            "ticks": ""
           },
           "bgcolor": "#E5ECF6",
           "radialaxis": {
            "gridcolor": "white",
            "linecolor": "white",
            "ticks": ""
           }
          },
          "scene": {
           "xaxis": {
            "backgroundcolor": "#E5ECF6",
            "gridcolor": "white",
            "gridwidth": 2,
            "linecolor": "white",
            "showbackground": true,
            "ticks": "",
            "zerolinecolor": "white"
           },
           "yaxis": {
            "backgroundcolor": "#E5ECF6",
            "gridcolor": "white",
            "gridwidth": 2,
            "linecolor": "white",
            "showbackground": true,
            "ticks": "",
            "zerolinecolor": "white"
           },
           "zaxis": {
            "backgroundcolor": "#E5ECF6",
            "gridcolor": "white",
            "gridwidth": 2,
            "linecolor": "white",
            "showbackground": true,
            "ticks": "",
            "zerolinecolor": "white"
           }
          },
          "shapedefaults": {
           "line": {
            "color": "#2a3f5f"
           }
          },
          "ternary": {
           "aaxis": {
            "gridcolor": "white",
            "linecolor": "white",
            "ticks": ""
           },
           "baxis": {
            "gridcolor": "white",
            "linecolor": "white",
            "ticks": ""
           },
           "bgcolor": "#E5ECF6",
           "caxis": {
            "gridcolor": "white",
            "linecolor": "white",
            "ticks": ""
           }
          },
          "title": {
           "x": 0.05
          },
          "xaxis": {
           "automargin": true,
           "gridcolor": "white",
           "linecolor": "white",
           "ticks": "",
           "title": {
            "standoff": 15
           },
           "zerolinecolor": "white",
           "zerolinewidth": 2
          },
          "yaxis": {
           "automargin": true,
           "gridcolor": "white",
           "linecolor": "white",
           "ticks": "",
           "title": {
            "standoff": 15
           },
           "zerolinecolor": "white",
           "zerolinewidth": 2
          }
         }
        },
        "title": {
         "text": "TREEplus_tree_pruned"
        }
       }
      }
     },
     "metadata": {},
     "output_type": "display_data"
    }
   ],
   "source": [
    "alpha, pruned_table = tree.pruning(features_test, n_features_test, y_test, table = True, html = False, graph_results = True, visual_pruning = True)"
   ]
  },
  {
   "cell_type": "code",
   "execution_count": 28,
   "metadata": {},
   "outputs": [
    {
     "name": "stdout",
     "output_type": "stream",
     "text": [
      "13 25\n"
     ]
    }
   ],
   "source": [
    "print(len(tree.get_leaf()), len(tree.get_all_node()))"
   ]
  },
  {
   "cell_type": "code",
   "execution_count": 29,
   "metadata": {},
   "outputs": [
    {
     "data": {
      "text/plain": [
       "<bound method TREEplus.deviance_cat2 of <TREEplus.TREEplus object at 0x0000022A0DF4BB10>>"
      ]
     },
     "execution_count": 29,
     "metadata": {},
     "output_type": "execute_result"
    }
   ],
   "source": [
    "tree.deviance_cat2"
   ]
  },
  {
   "cell_type": "code",
   "execution_count": 30,
   "metadata": {},
   "outputs": [
    {
     "data": {
      "text/plain": [
       "([<TREEplus.MyNodeClass at 0x22a11d87c50>,\n",
       "  <TREEplus.MyNodeClass at 0x22a11c18a90>,\n",
       "  <TREEplus.MyNodeClass at 0x22a11c1b210>,\n",
       "  <TREEplus.MyNodeClass at 0x22a11cabfd0>,\n",
       "  <TREEplus.MyNodeClass at 0x22a0c8b1d50>,\n",
       "  <TREEplus.MyNodeClass at 0x22a11dca750>,\n",
       "  <TREEplus.MyNodeClass at 0x22a11c7ad90>,\n",
       "  <TREEplus.MyNodeClass at 0x22a11def9d0>,\n",
       "  <TREEplus.MyNodeClass at 0x22a11e97350>],\n",
       " [<TREEplus.MyNodeClass at 0x22a11d87c50>,\n",
       "  <TREEplus.MyNodeClass at 0x22a11dca750>,\n",
       "  <TREEplus.MyNodeClass at 0x22a11cabfd0>,\n",
       "  <TREEplus.MyNodeClass at 0x22a11def9d0>,\n",
       "  <TREEplus.MyNodeClass at 0x22a11e97350>])"
      ]
     },
     "execution_count": 30,
     "metadata": {},
     "output_type": "execute_result"
    }
   ],
   "source": [
    "tree.cut_tree(5)"
   ]
  },
  {
   "cell_type": "code",
   "execution_count": 31,
   "metadata": {},
   "outputs": [
    {
     "name": "stdout",
     "output_type": "stream",
     "text": [
      "('Alpha = 0', 'value soglia = None', 'deviance = 191.77460919784585', 'leaves = 13')\n",
      "('Alpha = 2067.2222222222235', \"value soglia = ['Sales', 11.879999999999999, 3]\", 'deviance = 199.15754570578238', 'leaves = 12')\n",
      "('Alpha = 2092.2812980030776', \"value soglia = ['Sales', 2.755, 3]\", 'deviance = 206.6299789129364', 'leaves = 11')\n",
      "('Alpha = 2323.492266992266', \"value soglia = ['Income', 67.0, 3]\", 'deviance = 214.9281655807659', 'leaves = 10')\n",
      "('Alpha = 4167.344350961538', \"value soglia = ['Sales', 10.629999999999999, 3]\", 'deviance = 244.69491094477667', 'leaves = 8')\n",
      "('Alpha = 4686.178090558838', \"value soglia = ['Age', 53.5, 2]\", 'deviance = 261.431261268201', 'leaves = 7')\n",
      "('Alpha = 5499.0029556650225', \"value soglia = ['CompPrice', 135.5, 2]\", 'deviance = 281.0705575384331', 'leaves = 6')\n",
      "('Alpha = 5689.688888888888', \"value soglia = ['CompPrice', 146.5, 2]\", 'deviance = 301.3908749987506', 'leaves = 5')\n",
      "('Alpha = 8635.203220129362', \"value soglia = ['CompPrice', 99.0, 2]\", 'deviance = 332.23088649921306', 'leaves = 4')\n",
      "('Alpha = 15116.766374439903', \"value soglia = ['Sales', 7.555, 1]\", 'deviance = 386.21933783649797', 'leaves = 3')\n",
      "('Alpha = 15925.151737649147', \"value soglia = ['Sales', 7.55, 1]\", 'deviance = 443.0948797566736', 'leaves = 2')\n"
     ]
    }
   ],
   "source": [
    "tree.print_alpha(alpha)\n"
   ]
  },
  {
   "cell_type": "code",
   "execution_count": 32,
   "metadata": {},
   "outputs": [],
   "source": [
    "#all_node = cart.get_all_node()\n",
    "#leaf = tree.get_leaf()\n",
    "#      \n",
    "#leaf_list =[]\n",
    "#leaf_dict ={}\n",
    "#for node in leaf:                           #creates a list of the node numbers and a dictionary connecting nodes with their node numbers\n",
    "#    leaf_list.append(int(node.name[1:]))\n",
    "#    leaf_dict[node] = int(node.name[1:])\n",
    "#father_list =[]\n",
    "#father_dict = {}\n",
    "#for node in all_node:\n",
    "#    father_list.append(int(node.name[1:]))\n",
    "#    father_dict[node] = int(node.name[1:])\n",
    "#\n",
    "#parent_child =[]                            #list for having child with their parent, for use in dictionary below\n",
    "#for node in all_node:\n",
    "#    if (int(node.name[1:]) *2) in father_list:\n",
    "#    \n",
    "#        parent_child.append([int(node.name[1:]), int(node.name[1:])*2])\n",
    "#    if (int(node.name[1:])*2+1) in father_list:\n",
    "#    \n",
    "#        parent_child.append([int(node.name[1:]), int(node.name[1:])*2+1])  \n",
    "#parent_children = {}                        #dictionary for parents with children, only numbers\n",
    "#for parent, child in parent_child: \n",
    "#    if parent in parent_children:\n",
    "#        parent_children[parent].append(child)\n",
    "#    else:\n",
    "#        parent_children[parent] = [child]\n",
    "#\n",
    "##igraph Graph\n",
    "#        \n",
    "#nr_vertices = max(father_list)                            # make too many to allow for missing nodes\n",
    "#v_label = list(map(str, father_list) )                      # create node labels \n",
    "#G = Graph.Tree(nr_vertices, 2)                              # 2 stands for children number\n",
    "#lay = G.layout_reingold_tilford(root=[0])\n",
    "#position = {k: lay[k-1] for k in father_list}               # assigning nodes to positions , using reigngold layou\n",
    "#"
   ]
  },
  {
   "cell_type": "code",
   "execution_count": 33,
   "metadata": {},
   "outputs": [],
   "source": [
    "#node_prop_dict = {}\n",
    "#for i in range(len(father_list)):\n",
    "#    if get_key(father_dict, father_list[i]).node_prop:\n",
    "#        node_prop_dict[father_list[i]] = get_key(father_dict, father_list[i]).node_prop"
   ]
  },
  {
   "cell_type": "code",
   "execution_count": 34,
   "metadata": {},
   "outputs": [],
   "source": [
    "#node_prop_gain = {}\n",
    "#node_prop_gain[1] = node_prop_dict[1]\n",
    "#for i in range(len(node_prop_dict)):\n",
    "#    if i!= 0:\n",
    "#        node_prop_gain[list(node_prop_dict.keys())[i]] = node_prop_dict[list(node_prop_dict.keys())[i]] - node_prop_dict[list(node_prop_dict.keys())[i-1]]"
   ]
  },
  {
   "cell_type": "code",
   "execution_count": 35,
   "metadata": {},
   "outputs": [],
   "source": [
    "#nr_vertices = max(father_list)                            # make too many to allow for missing nodes\n",
    "#v_label = list(map(str, father_list) )                      # create node labels \n",
    "#G = Graph.Tree(nr_vertices, 2)                              # 2 stands for children number\n",
    "#lay = G.layout_reingold_tilford(root=[0])\n",
    "#position = {k: lay[k-1] for k in father_list}               # assigning nodes to positions , using reigngold layou\n",
    "#\n",
    "#new_dict = cart.identify_subtrees(cart.get_all_node(), cart.get_leaf())\n",
    "#    \n",
    "#for i in sorted(position.keys()):\n",
    "#    if i*2 in position: #left nodes\n",
    "#        diff = position[i*2][1] - position[i*2][1]*node_prop_gain[i] #calculates change in position for correction in downward nodes\n",
    "#        position[i*2] = [position[i*2][0], position[i*2][1]*node_prop_gain[i]] #manipulates the y coordinate based on the proportion gain\n",
    "#        \n",
    "#        #this is to correct for all downward nodes \n",
    "#        unique_nodes = []\n",
    "#        for fathers in new_dict:\n",
    "#            if i*2 == int(fathers.name[1:]):\n",
    "#                for nestedlist in new_dict[fathers]:\n",
    "#                    for childs in nestedlist:\n",
    "#                        if childs.name not in unique_nodes:\n",
    "#                            unique_nodes.append(childs.name)\n",
    "#                            position[int(childs.name[1:])] = [position[int(childs.name[1:])][0], position[int(childs.name[1:])][1] - diff]\n",
    "#\n",
    "#\n",
    "#    if i*2+1 in position:  #right nodes\n",
    "#        position[i*2+1] = [position[i*2+1][0], position[i*2+1][1]*node_prop_gain[i]]\n",
    "#        \n",
    "#        #this is to correct for all downward nodes\n",
    "#        unique_nodes = []\n",
    "#        for fathers in new_dict:\n",
    "#            if i*2+1 == int(fathers.name[1:]):\n",
    "#                for nestedlist in new_dict[fathers]:\n",
    "#                    for childs in nestedlist:\n",
    "#                        if childs.name not in unique_nodes:\n",
    "#                            unique_nodes.append(childs.name)\n",
    "#                            position[int(childs.name[1:])] = [position[int(childs.name[1:])][0], position[int(childs.name[1:])][1] - diff]\n",
    "#\n",
    "#position[1] = [0 , 2*position[2][1]]\n",
    "#"
   ]
  },
  {
   "cell_type": "code",
   "execution_count": 36,
   "metadata": {},
   "outputs": [],
   "source": [
    "#Y = [lay[k][1] for k in range(len(father_list))] # levels of the tree\n",
    "#M = max(Y)\n",
    "#es = EdgeSeq(G)                                             # sequence of edges\n",
    "#E = [e.tuple for e in G.es] # list of edges, connects nodes\n",
    "##L = len(position)\n",
    "#Xn = [position[k][0] for k in father_list]\n",
    "#Yn = [position[k][1] for k in father_list]\n",
    "#a = 0\n",
    "#while a<20:                                                 # When the value is removed it skips to the next index value, jumping, a<10 is just overkill, increased to 20, for really narrow branches\n",
    "#    for edge in E:   #this is meant to catch the mismateched E's \n",
    "#        if edge[0] +1 not in position or edge[1]+1 not in position:\n",
    "#            E.remove(edge) \n",
    "#    a+=1\n",
    "#Xe = []\n",
    "#Ye = []\n",
    "#\n",
    "#for edge in E: \n",
    "#    Xe+=[position[edge[0]+1][0],position[edge[1]+1][0], None]                   # edited for +1 poisiotn as the expected 0 root node it 1 in our dictionary, if index error, increase a \n",
    "#    Ye+=[position[edge[0]+1][1],position[edge[1]+1][1], None]         \n",
    "#"
   ]
  },
  {
   "cell_type": "code",
   "execution_count": 37,
   "metadata": {},
   "outputs": [],
   "source": [
    "#upward facing tree\n",
    "#pos = Ye[1]*2\n",
    "#Ye[0] = pos\n",
    "#Ye[3] = pos\n",
    "#Yn[24]  =pos"
   ]
  },
  {
   "cell_type": "code",
   "execution_count": 38,
   "metadata": {},
   "outputs": [],
   "source": [
    "#for label in range(len(v_label)):\n",
    "#    for node in all_node:\n",
    "#        if v_label[label] == node.name[1:]:\n",
    "#            if int(v_label[label]) in leaf_list:\n",
    "#                if cart.problem == \"classifier\":        #For classifier problem\n",
    "#                    response_dict ={}\n",
    "#                    for response in cart.y[node.indexes]:        #determing majority in terminal nodes\n",
    "#                        \n",
    "#                        if response in response_dict:\n",
    "#                            response_dict[response] +=1\n",
    "#                        else:\n",
    "#                            response_dict[response] =1\n",
    "#                    \n",
    "#                    if cart.method == \"LATENT-BUDGET-TREE\" or cart.twoing: #multiclass methods\n",
    "#                        total_node_obs = sum(response_dict.values())\n",
    "#                        for key in response_dict:\n",
    "#                            response_dict[key] = round(response_dict[key] / total_node_obs,2)\n",
    "#                        class_node = response_dict\n",
    "#                        myKeys = list(class_node.keys())\n",
    "#                        myKeys.sort()\n",
    "#                        class_node = {i: class_node[i] for i in myKeys}\n",
    "#                    else:\n",
    "#                        class_node = max(response_dict, key = response_dict.get)\n",
    "#                    \n",
    "#                    if cart.impurity_fn == \"gini\":\n",
    "#                        v_label[label] = f\"{node.name}, Class: {class_node}, {cart.impurity_fn} : {round(cart.impur(node, display = True),2)}, Samples : {len(node.indexes)}\" \n",
    "#                    elif cart.impurity_fn == \"tau\":\n",
    "#                        v_label[label] = f\"{node.name}, Class: {class_node}, {cart.impurity_fn} : None, Samples : {len(node.indexes)}\" \n",
    "#                    else:\n",
    "#                        v_label[label] = f\"{node.name}, Class: {class_node}, {cart.impurity_fn} : {round(cart.impur(node),2)}, Samples : {len(node.indexes)}\"\n",
    "#                else:\n",
    "#                    mean_y = mean(cart.y[node.indexes])\n",
    "#                    v_label[label]=  f\"{node.name}, {node.split}, Bin Value: {round(mean_y,2)}, {cart.impurity_fn} : {round(cart.impur(node),2)}, Samples : {len(node.indexes)}\"\n",
    "#            \n",
    "#            #label for non leaves\n",
    "#            else:\n",
    "#                if cart.problem == \"classifier\":\n",
    "#                    response_dict ={}\n",
    "#                    for response in cart.y[node.indexes]:        #determing majority in terminal nodes\n",
    "#                        if response in response_dict:\n",
    "#                            response_dict[response] +=1\n",
    "#                        else:\n",
    "#                            response_dict[response] =1\n",
    "#                    \n",
    "#                    if cart.method == \"LATENT-BUDGET-TREE\" or cart.twoing: #multiclass methods\n",
    "#                        total_node_obs = sum(response_dict.values())\n",
    "#                        for key in response_dict:\n",
    "#                            response_dict[key] = round(response_dict[key] / total_node_obs,2)\n",
    "#                        class_node = response_dict\n",
    "#                        myKeys = list(class_node.keys())\n",
    "#                        myKeys.sort()\n",
    "#                        class_node = {i: class_node[i] for i in myKeys}\n",
    "#                    else:\n",
    "#                        class_node = max(response_dict, key = response_dict.get)\n",
    "#                    if cart.impurity_fn == \"gini\":\n",
    "#                        v_label[label] = f\"{node.name}, {node.split}, Class:{class_node}, {cart.impurity_fn} : {round(cart.impur(node, display = True),2)}, Samples: {len(node.indexes)}\"\n",
    "#                    elif cart.impurity_fn == \"tau\":\n",
    "#                        v_label[label] = f\"{node.name}, {node.split}, Class:{class_node}, {cart.impurity_fn} : {round(node.value_soglia_split[0][2],2)}, Samples: {len(node.indexes)}\" \n",
    "#                    else:\n",
    "#                        v_label[label] = f\"{node.name}, {node.split}, Class:{class_node}, {cart.impurity_fn} : {round(cart.impur(node),2)}, Samples: {len(node.indexes)}\"\n",
    "#                else:\n",
    "#                    mean_y = mean(cart.y[node.indexes])\n",
    "#                    v_label[label]=  f\"{node.name}, {node.split}, Bin Value: {round(mean_y,2)}, {cart.impurity_fn} : {round(cart.impur(node),2)}, Samples : {len(node.indexes)}\"\n",
    "#labels = v_label\n",
    "## Drawing using plotly library\n",
    "#fig = go.Figure()\n",
    "#fig.add_trace(go.Scatter(x=Xe,\n",
    "#                y=Ye,\n",
    "#                mode='lines',\n",
    "#                line=dict(color='rgb(210,210,210)', width=1),\n",
    "#                hoverinfo='none'\n",
    "#                ))\n",
    "#fig.add_trace(go.Scatter(x=Xn,\n",
    "#                y=Yn,\n",
    "#                mode='markers',\n",
    "#                name='Nodes',\n",
    "#                marker=dict(symbol='circle-dot',\n",
    "#                                size=18,\n",
    "#                                color='#6175c1',    #'#DB4551',\n",
    "#                                line=dict(color='rgb(50,50,50)', width=1)\n",
    "#                                ),\n",
    "#                text=labels,\n",
    "#                hoverinfo='text',\n",
    "#                opacity=0.8\n",
    "#                ))\n",
    "#filename=\"CART_tree.png\"\n",
    "#fig.update_layout(\n",
    "#    title=filename[:-4],    #chops off \".png\"\n",
    "#    )\n",
    "#fig.show()\n",
    "#"
   ]
  },
  {
   "cell_type": "markdown",
   "metadata": {},
   "source": [
    "full dataset model "
   ]
  },
  {
   "cell_type": "markdown",
   "metadata": {},
   "source": [
    "not set up for numpy yet teh full model "
   ]
  },
  {
   "cell_type": "code",
   "execution_count": 39,
   "metadata": {},
   "outputs": [],
   "source": [
    "#df=pd.read_csv('Carseats.csv')\n",
    "#df=df.iloc[:,1:]\n",
    "#\n",
    "#df.head()\n",
    "#\n",
    "#features = df[features_names]\n",
    "#features.head()\n",
    "#\n",
    "#n_features = df[n_features_names]\n",
    "#n_features.head()\n",
    "#\n",
    "#y = df[\"Price\"]\n",
    "#y.head()\n",
    "#\n",
    "#indici = np.arange(0, len(y))\n",
    "#"
   ]
  },
  {
   "cell_type": "code",
   "execution_count": 40,
   "metadata": {},
   "outputs": [],
   "source": [
    "#my_tree = MyNodeClass('n1', indici) \n",
    "\n",
    "#tree = TREEplus(y,features,features_names,n_features,n_features_names, impurity_fn = \"between_variance\", problem=\"regression\", method = \"tree\",  min_cases_parent= 10,min_cases_child= 5, max_level = 4)\n",
    "\n",
    "#tree.growing_tree(my_tree)\n"
   ]
  },
  {
   "cell_type": "markdown",
   "metadata": {},
   "source": [
    "need to somehow get only 29 leaves in final tree?\n",
    "can't prune the traditional way as only have training set "
   ]
  },
  {
   "cell_type": "code",
   "execution_count": 41,
   "metadata": {},
   "outputs": [],
   "source": [
    "#cart.print_tree(table = True, html = True).style.hide_index() #print both the pruned and non pruned tree \n",
    "\n"
   ]
  }
 ],
 "metadata": {
  "kernelspec": {
   "display_name": "base",
   "language": "python",
   "name": "python3"
  },
  "language_info": {
   "codemirror_mode": {
    "name": "ipython",
    "version": 3
   },
   "file_extension": ".py",
   "mimetype": "text/x-python",
   "name": "python",
   "nbconvert_exporter": "python",
   "pygments_lexer": "ipython3",
   "version": "3.11.0"
  },
  "orig_nbformat": 4
 },
 "nbformat": 4,
 "nbformat_minor": 2
}
