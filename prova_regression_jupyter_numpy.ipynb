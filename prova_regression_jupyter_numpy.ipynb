{
 "cells": [
  {
   "cell_type": "code",
   "execution_count": 1,
   "metadata": {},
   "outputs": [],
   "source": [
    "#from __future__ import annotations\n",
    "#from tkinter import N\n",
    "\n",
    "from CARTplus import *\n",
    "\n",
    "import pandas as pd\n",
    "\n",
    "#d = dict(features, **n_features)  #merges the two dicts\n",
    "#df = pd.DataFrame(data=d)         #creates the dataframe\n",
    "\n",
    "#print(df)\n",
    "#import csv\n",
    "\n"
   ]
  },
  {
   "cell_type": "code",
   "execution_count": 2,
   "metadata": {},
   "outputs": [
    {
     "name": "stdout",
     "output_type": "stream",
     "text": [
      "<class 'numpy.ndarray'>\n",
      "[('Sales', '<f8'), ('CompPrice', '<f8'), ('Income', '<f8'), ('Advertising', '<f8'), ('Population', '<f8'), ('Price', '<f8'), ('ShelveLoc', 'O'), ('Age', '<f8'), ('Education', '<f8'), ('Urban', 'O'), ('US', 'O')]\n"
     ]
    }
   ],
   "source": [
    "import numpy as np\n",
    "train = np.genfromtxt(\"Carseats_train.csv\", delimiter=',', names=True, dtype=(float,float,float,float, float, float, object, float, float, object, object))\n",
    "\n",
    "\n",
    "\n",
    "#c = numpy.loadtxt(\"Carseats_train.csv\")\n",
    "print(type(train))\n",
    "print(train.dtype)\n",
    "\n",
    "features_names = train.dtype.names\n",
    "\n",
    "n_features = train[[\"ShelveLoc\", \"US\",\"Urban\"]]\n",
    "n_features_names = n_features.dtype.names\n",
    "n_features_names\n",
    "\n",
    "y = train[\"Price\"]\n",
    "\n",
    "features = train[[\"Sales\", \"CompPrice\", \"Income\", \"Advertising\", \"Population\", \"Age\", \"Education\"]]\n",
    "features_names = features.dtype.names\n",
    "\n",
    "\n",
    "indici = np.arange(0, len(y))\n"
   ]
  },
  {
   "cell_type": "markdown",
   "metadata": {},
   "source": [
    ".to_records()\n",
    "\n",
    "train = pd.read_csv(\"Carseats_train.csv\")\n",
    "train = train.to_records()"
   ]
  },
  {
   "cell_type": "code",
   "execution_count": 3,
   "metadata": {},
   "outputs": [],
   "source": [
    "import numpy as np\n",
    "test = np.genfromtxt(\"Carseats_test.csv\", delimiter=',', names=True, dtype=(float,float,float,float, float, float, object, float, float, object, object))\n",
    "\n",
    "\n",
    "n_features_test = test[[\"ShelveLoc\", \"US\",\"Urban\"]]\n",
    "\n",
    "\n",
    "y_test = test[\"Price\"]\n",
    "\n",
    "features_test = test[[\"Sales\", \"CompPrice\", \"Income\", \"Advertising\", \"Population\", \"Age\", \"Education\"]]\n"
   ]
  },
  {
   "cell_type": "code",
   "execution_count": 4,
   "metadata": {},
   "outputs": [],
   "source": [
    "#when definining a funcion please be aware we are using purity gain or information gain or greatest difference between variance, all positive aspects \n",
    "#adding user_defined as a possible impurity_fn and added user_impur to carry that function \n",
    "def user_fn(self, node): #impur just takes node in CART\n",
    "    \n",
    "    return (mean(self.y[node.indexes])**2)*len(self.y[node.indexes])\n"
   ]
  },
  {
   "cell_type": "code",
   "execution_count": 5,
   "metadata": {},
   "outputs": [],
   "source": [
    "comp = list(features[\"CompPrice\"][0:20])\n",
    "comp.sort()\n"
   ]
  },
  {
   "cell_type": "code",
   "execution_count": 6,
   "metadata": {},
   "outputs": [],
   "source": [
    "node1 = MyNodeClass('n1', indici) \n",
    "cart = CART(y,features,features_names,n_features,n_features_names, impurity_fn = \"between_variance\", problem=\"regression\", method = \"CART\",  min_cases_parent= 10,min_cases_child= 5, max_level = 10, twoing = False, min_imp_gain = 0.01)"
   ]
  },
  {
   "cell_type": "code",
   "execution_count": 7,
   "metadata": {},
   "outputs": [],
   "source": [
    "comp = cart.midway_points(\"CompPrice\", node1)"
   ]
  },
  {
   "cell_type": "code",
   "execution_count": 8,
   "metadata": {},
   "outputs": [
    {
     "name": "stdout",
     "output_type": "stream",
     "text": [
      "Split Found:  n1 [['CompPrice', 127.5, 3784538.433668131, 0]] start\n",
      "node_proportion_total  0.20228188075035564\n",
      "Split Found:  n2 [['Sales', 7.55, 1861259.102354933, 1]] left\n",
      "node_proportion_total  0.3046767681766827\n",
      "Node_proportion_gain  0.10239488742632707\n",
      "Split Found:  n4 [['Age', 53.5, 1196245.7735961769, 2]] left\n",
      "node_proportion_total  0.3348077638461362\n",
      "Node_proportion_gain  0.030130995669453486\n",
      "Split Found:  n8 [['Income', 67.0, 435776.8626373626, 3]] left\n",
      "node_proportion_total  0.34974725911965104\n",
      "Node_proportion_gain  0.014939495273514847\n",
      "Split Found:  n16 [['Age', 40.5, 179045.45238095237, 4]] left\n",
      "node_proportion_total  0.35524068739400466\n",
      "Node_proportion_gain  0.005493428274353618\n",
      "This split isn't good now i cut it [reg delta]\n",
      "Split Found:  n17 [['ShelveLoc', (b'Bad', b'Good'), 258182.24444444443, 4]] right\n",
      "node_proportion_total  0.35907577327169\n",
      "Node_proportion_gain  0.003835085877685329\n",
      "This split isn't good now i cut it [reg delta]\n",
      "Split Found:  n9 [['Sales', 2.755, 764884.6845238094, 3]] right\n",
      "node_proportion_total  0.37252863774058836\n",
      "Node_proportion_gain  0.013452864468898373\n",
      "Node Search Split Error for:  n18 with obs in node:  6  which is less than minimum parent size:  10\n",
      "TypeError: Node search split (cart) failure\n",
      "Split Found:  n19 [['ShelveLoc', (b'Medium', b'Good'), 667100.3152337858, 4]] right\n",
      "node_proportion_total  0.3824709571870437\n",
      "Node_proportion_gain  0.00994231944645535\n",
      "This split isn't good now i cut it [reg delta]\n",
      "Split Found:  n5 [['CompPrice', 99.0, 678334.7100694445, 2]] right\n",
      "node_proportion_total  0.43799323265386053\n",
      "Node_proportion_gain  0.05552227546681682\n",
      "Node Search Split Error for:  n10 with obs in node:  9  which is less than minimum parent size:  10\n",
      "TypeError: Node search split (cart) failure\n",
      "Split Found:  n11 [['Sales', 10.629999999999999, 642001.8, 3]] right\n",
      "node_proportion_total  0.4624297526882662\n",
      "Node_proportion_gain  0.024436520034405662\n",
      "Split Found:  n22 [['ShelveLoc', (b'Bad', b'Medium'), 499399.95432692306, 4]] left\n",
      "node_proportion_total  0.49158327219799103\n",
      "Node_proportion_gain  0.029153519509724835\n",
      "Split Found:  n44 [['Age', 56.5, 190227.80952380953, 5]] left\n",
      "node_proportion_total  0.4986745662360867\n",
      "Node_proportion_gain  0.0070912940380956635\n",
      "This split isn't good now i cut it [reg delta]\n",
      "Split Found:  n45 [['Advertising', 12.5, 311724.2916666666, 5]] right\n",
      "node_proportion_total  0.5079929614175397\n",
      "Node_proportion_gain  0.009318395181452999\n",
      "This split isn't good now i cut it [reg delta]\n",
      "Split Found:  n23 [['Age', 37.0, 148091.65476190476, 4]] right\n",
      "node_proportion_total  0.5141375912066759\n",
      "Node_proportion_gain  0.006144629789136213\n",
      "This split isn't good now i cut it [reg delta]\n",
      "Split Found:  n3 [['Sales', 7.555, 1954321.2494252871, 1]] right\n",
      "node_proportion_total  0.6113347555829169\n",
      "Node_proportion_gain  0.09719716437624104\n",
      "Split Found:  n6 [['CompPrice', 135.5, 1137543.9857142859, 2]] left\n",
      "node_proportion_total  0.6466920192296547\n",
      "Node_proportion_gain  0.03535726364673775\n",
      "Split Found:  n12 [['Sales', 4.93, 510192.3068181818, 3]] left\n",
      "node_proportion_total  0.6521547863001057\n",
      "Node_proportion_gain  0.005462767070451013\n",
      "This split isn't good now i cut it [reg delta]\n",
      "Split Found:  n13 [['Sales', 3.5700000000000003, 629685.3217391304, 3]] right\n",
      "node_proportion_total  0.6616967802605994\n",
      "Node_proportion_gain  0.009541993960493711\n",
      "This split isn't good now i cut it [reg delta]\n",
      "Split Found:  n7 [['CompPrice', 146.5, 827965.9555555555, 2]] right\n",
      "node_proportion_total  0.6982801084992418\n",
      "Node_proportion_gain  0.03658332823864241\n",
      "Split Found:  n14 [['Sales', 11.879999999999999, 560961.111111111, 3]] left\n",
      "node_proportion_total  0.7115718491505554\n",
      "Node_proportion_gain  0.013291740651313555\n",
      "Split Found:  n28 [['ShelveLoc', (b'Bad', b'Medium'), 475891.28571428574, 4]] left\n",
      "node_proportion_total  0.7190965042335978\n",
      "Node_proportion_gain  0.007524655083042453\n",
      "This split isn't good now i cut it [reg delta]\n",
      "Node Search Split Error for:  n29 with obs in node:  9  which is less than minimum parent size:  10\n",
      "TypeError: Node search split (cart) failure\n",
      "Split Found:  n15 [['Income', 81.5, 269446.6, 3]] right\n",
      "node_proportion_total  0.7215046632976908\n",
      "Node_proportion_gain  0.002408159064092974\n",
      "This split isn't good now i cut it [reg delta]\n"
     ]
    },
    {
     "data": {
      "text/plain": [
       "((((None, None), (None, None)), (None, ((None, None), None))),\n",
       " ((None, None), ((None, None), None)))"
      ]
     },
     "execution_count": 8,
     "metadata": {},
     "output_type": "execute_result"
    }
   ],
   "source": [
    "cart.growing_tree(node1, max_k = 1)"
   ]
  },
  {
   "cell_type": "code",
   "execution_count": 9,
   "metadata": {},
   "outputs": [],
   "source": [
    "#print(cart.impurity_fn, cart.impur(node1))\n",
    "#\n",
    "#for i in cart.get_all_node():\n",
    "#    a =1\n",
    "#    #print(i.name, cart.impur(i))"
   ]
  },
  {
   "cell_type": "code",
   "execution_count": 10,
   "metadata": {},
   "outputs": [],
   "source": [
    "n_dict = cart.identify_subtrees(cart.get_all_node(), cart.get_leaf() )\n",
    "\n",
    "#for i in n_dict:\n",
    "#    print(i.name)\n",
    "#    for a, nestedlist in enumerate(n_dict[i]):\n",
    "#        for child in nestedlist:\n",
    "#            print(a, child.name)\n",
    "#\n",
    "\n"
   ]
  },
  {
   "cell_type": "code",
   "execution_count": 11,
   "metadata": {},
   "outputs": [],
   "source": [
    "#cart.alpha_calculator(n_dict)"
   ]
  },
  {
   "cell_type": "code",
   "execution_count": 12,
   "metadata": {},
   "outputs": [],
   "source": [
    "#dir(cart)"
   ]
  },
  {
   "cell_type": "code",
   "execution_count": 13,
   "metadata": {},
   "outputs": [],
   "source": [
    "#cart._CART__node_search_split(node1, max_k = 1, combination_split = False, max_c = 1)"
   ]
  },
  {
   "cell_type": "code",
   "execution_count": 14,
   "metadata": {},
   "outputs": [],
   "source": [
    "#all_nodes, leaves = cart.cut_tree(20)\n",
    "#\n",
    "#print(len(all_nodes), len(leaves))"
   ]
  },
  {
   "cell_type": "code",
   "execution_count": 15,
   "metadata": {},
   "outputs": [],
   "source": [
    "#len(cart.get_leaf())"
   ]
  },
  {
   "cell_type": "code",
   "execution_count": 16,
   "metadata": {},
   "outputs": [],
   "source": [
    "#cart.print_tree(all_node = all_nodes, leaf = leaves, filename = \"a.png\",table = False, html = False)"
   ]
  },
  {
   "cell_type": "code",
   "execution_count": 17,
   "metadata": {},
   "outputs": [],
   "source": [
    "from statistics import variance, mean, pvariance"
   ]
  },
  {
   "cell_type": "code",
   "execution_count": 18,
   "metadata": {},
   "outputs": [
    {
     "data": {
      "text/plain": [
       "155526.82499999992"
      ]
     },
     "execution_count": 18,
     "metadata": {},
     "output_type": "execute_result"
    }
   ],
   "source": [
    "val = []\n",
    "meann = mean(cart.y)\n",
    "for i in cart.y:\n",
    "    val.append((i - meann)**2)\n",
    "\n",
    "sum(val) / len(val) * len(val)\n",
    "\n"
   ]
  },
  {
   "cell_type": "code",
   "execution_count": 19,
   "metadata": {},
   "outputs": [
    {
     "data": {
      "text/plain": [
       "155526.82499999998"
      ]
     },
     "execution_count": 19,
     "metadata": {},
     "output_type": "execute_result"
    }
   ],
   "source": [
    "pvariance(cart.y)*len(y)"
   ]
  },
  {
   "cell_type": "code",
   "execution_count": 20,
   "metadata": {},
   "outputs": [
    {
     "data": {
      "text/plain": [
       "156084.2688172043"
      ]
     },
     "execution_count": 20,
     "metadata": {},
     "output_type": "execute_result"
    }
   ],
   "source": [
    "variance(cart.y)*len(y)"
   ]
  },
  {
   "cell_type": "code",
   "execution_count": 21,
   "metadata": {},
   "outputs": [
    {
     "data": {
      "application/vnd.plotly.v1+json": {
       "config": {
        "plotlyServerURL": "https://plot.ly"
       },
       "data": [
        {
         "hoverinfo": "none",
         "line": {
          "color": "rgb(210,210,210)",
          "width": 1
         },
         "mode": "lines",
         "type": "scatter",
         "x": [
          0,
          -5.3125,
          null,
          0,
          5.3125,
          null,
          -5.3125,
          -9.1875,
          null,
          -5.3125,
          -1.4375,
          null,
          5.3125,
          3.3125,
          null,
          5.3125,
          7.3125,
          null,
          -9.1875,
          -11.1875,
          null,
          -9.1875,
          -7.1875,
          null,
          -1.4375,
          -3.1875,
          null,
          -1.4375,
          0.3125,
          null,
          3.3125,
          2.3125,
          null,
          3.3125,
          4.3125,
          null,
          7.3125,
          6.3125,
          null,
          7.3125,
          8.3125,
          null,
          -11.1875,
          -12.1875,
          null,
          -11.1875,
          -10.1875,
          null,
          -7.1875,
          -8.1875,
          null,
          -7.1875,
          -6.1875,
          null,
          0.3125,
          -0.1875,
          null,
          0.3125,
          0.8125,
          null,
          6.3125,
          5.8125,
          null,
          6.3125,
          6.8125,
          null,
          -0.1875,
          -0.6875,
          null,
          -0.1875,
          0.3125,
          null
         ],
         "y": [
          8,
          7,
          null,
          8,
          7,
          null,
          7,
          6,
          null,
          7,
          6,
          null,
          7,
          6,
          null,
          7,
          6,
          null,
          6,
          5,
          null,
          6,
          5,
          null,
          6,
          5,
          null,
          6,
          5,
          null,
          6,
          5,
          null,
          6,
          5,
          null,
          6,
          5,
          null,
          6,
          5,
          null,
          5,
          4,
          null,
          5,
          4,
          null,
          5,
          4,
          null,
          5,
          4,
          null,
          5,
          4,
          null,
          5,
          4,
          null,
          5,
          4,
          null,
          5,
          4,
          null,
          4,
          3,
          null,
          4,
          3,
          null
         ]
        },
        {
         "hoverinfo": "text",
         "marker": {
          "color": "#6175c1",
          "line": {
           "color": "rgb(50,50,50)",
           "width": 1
          },
          "size": 18,
          "symbol": "circle-dot"
         },
         "mode": "markers",
         "name": "Nodes",
         "opacity": 0.8,
         "text": [
          "n16, None, Bin Value: 117.08, between_variance : 178191.08, Samples : 13",
          "n17, None, Bin Value: 135.64, between_variance : 257585.79, Samples : 14",
          "n18, None, Bin Value: 128.67, between_variance : 99330.67, Samples : 6",
          "n19, None, Bin Value: 109.02, between_variance : 665554.02, Samples : 56",
          "n10, None, Bin Value: 66.78, between_variance : 40133.44, Samples : 9",
          "n23, None, Bin Value: 88.0, between_variance : 147136.0, Samples : 19",
          "n44, None, Bin Value: 120.62, between_variance : 189124.92, Samples : 13",
          "n45, None, Bin Value: 98.47, between_variance : 310275.03, Samples : 32",
          "n12, None, Bin Value: 130.3, between_variance : 509342.7, Samples : 30",
          "n13, None, Bin Value: 149.79, between_variance : 628201.29, Samples : 28",
          "n15, None, Bin Value: 133.93, between_variance : 269072.07, Samples : 15",
          "n28, None, Bin Value: 114.83, between_variance : 474721.0, Samples : 36",
          "n29, None, Bin Value: 97.89, between_variance : 86240.11, Samples : 9",
          "n1, CompPrice>127.5, Bin Value: 115.78, between_variance : 3753078.18, Samples : 280",
          "n2, Sales>7.55, Bin Value: 106.73, between_variance : 1845333.95, Samples : 162",
          "n4, Age>53.5, Bin Value: 115.71, between_variance : 1191559.6, Samples : 89",
          "n8, Income>67.0, Bin Value: 126.7, between_variance : 433453.37, Samples : 27",
          "n9, Sales>2.755, Bin Value: 110.92, between_variance : 762792.4, Samples : 62",
          "n5, CompPrice>99.0, Bin Value: 95.78, between_variance : 669699.51, Samples : 73",
          "n11, Sales>10.629999999999999, Bin Value: 99.86, between_variance : 638201.27, Samples : 64",
          "n22, ShelveLoc in (b'Bad', b'Medium'), Bin Value: 104.87, between_variance : 494865.8, Samples : 45",
          "n3, Sales>7.555, Bin Value: 128.19, between_variance : 1939204.48, Samples : 118",
          "n6, CompPrice>135.5, Bin Value: 139.71, between_variance : 1132044.98, Samples : 58",
          "n7, CompPrice>146.5, Bin Value: 117.07, between_variance : 822276.27, Samples : 60",
          "n14, Sales>11.879999999999999, Bin Value: 111.44, between_variance : 558893.89, Samples : 45"
         ],
         "type": "scatter",
         "x": [
          -12.1875,
          -10.1875,
          -8.1875,
          -6.1875,
          -3.1875,
          0.8125,
          -0.6875,
          0.3125,
          2.3125,
          4.3125,
          8.3125,
          5.8125,
          6.8125,
          0,
          -5.3125,
          -9.1875,
          -11.1875,
          -7.1875,
          -1.4375,
          0.3125,
          -0.1875,
          5.3125,
          3.3125,
          7.3125,
          6.3125
         ],
         "y": [
          4,
          4,
          4,
          4,
          5,
          4,
          3,
          3,
          5,
          5,
          5,
          4,
          4,
          8,
          7,
          6,
          5,
          5,
          6,
          5,
          4,
          7,
          6,
          6,
          5
         ]
        }
       ],
       "layout": {
        "template": {
         "data": {
          "bar": [
           {
            "error_x": {
             "color": "#2a3f5f"
            },
            "error_y": {
             "color": "#2a3f5f"
            },
            "marker": {
             "line": {
              "color": "#E5ECF6",
              "width": 0.5
             },
             "pattern": {
              "fillmode": "overlay",
              "size": 10,
              "solidity": 0.2
             }
            },
            "type": "bar"
           }
          ],
          "barpolar": [
           {
            "marker": {
             "line": {
              "color": "#E5ECF6",
              "width": 0.5
             },
             "pattern": {
              "fillmode": "overlay",
              "size": 10,
              "solidity": 0.2
             }
            },
            "type": "barpolar"
           }
          ],
          "carpet": [
           {
            "aaxis": {
             "endlinecolor": "#2a3f5f",
             "gridcolor": "white",
             "linecolor": "white",
             "minorgridcolor": "white",
             "startlinecolor": "#2a3f5f"
            },
            "baxis": {
             "endlinecolor": "#2a3f5f",
             "gridcolor": "white",
             "linecolor": "white",
             "minorgridcolor": "white",
             "startlinecolor": "#2a3f5f"
            },
            "type": "carpet"
           }
          ],
          "choropleth": [
           {
            "colorbar": {
             "outlinewidth": 0,
             "ticks": ""
            },
            "type": "choropleth"
           }
          ],
          "contour": [
           {
            "colorbar": {
             "outlinewidth": 0,
             "ticks": ""
            },
            "colorscale": [
             [
              0,
              "#0d0887"
             ],
             [
              0.1111111111111111,
              "#46039f"
             ],
             [
              0.2222222222222222,
              "#7201a8"
             ],
             [
              0.3333333333333333,
              "#9c179e"
             ],
             [
              0.4444444444444444,
              "#bd3786"
             ],
             [
              0.5555555555555556,
              "#d8576b"
             ],
             [
              0.6666666666666666,
              "#ed7953"
             ],
             [
              0.7777777777777778,
              "#fb9f3a"
             ],
             [
              0.8888888888888888,
              "#fdca26"
             ],
             [
              1,
              "#f0f921"
             ]
            ],
            "type": "contour"
           }
          ],
          "contourcarpet": [
           {
            "colorbar": {
             "outlinewidth": 0,
             "ticks": ""
            },
            "type": "contourcarpet"
           }
          ],
          "heatmap": [
           {
            "colorbar": {
             "outlinewidth": 0,
             "ticks": ""
            },
            "colorscale": [
             [
              0,
              "#0d0887"
             ],
             [
              0.1111111111111111,
              "#46039f"
             ],
             [
              0.2222222222222222,
              "#7201a8"
             ],
             [
              0.3333333333333333,
              "#9c179e"
             ],
             [
              0.4444444444444444,
              "#bd3786"
             ],
             [
              0.5555555555555556,
              "#d8576b"
             ],
             [
              0.6666666666666666,
              "#ed7953"
             ],
             [
              0.7777777777777778,
              "#fb9f3a"
             ],
             [
              0.8888888888888888,
              "#fdca26"
             ],
             [
              1,
              "#f0f921"
             ]
            ],
            "type": "heatmap"
           }
          ],
          "heatmapgl": [
           {
            "colorbar": {
             "outlinewidth": 0,
             "ticks": ""
            },
            "colorscale": [
             [
              0,
              "#0d0887"
             ],
             [
              0.1111111111111111,
              "#46039f"
             ],
             [
              0.2222222222222222,
              "#7201a8"
             ],
             [
              0.3333333333333333,
              "#9c179e"
             ],
             [
              0.4444444444444444,
              "#bd3786"
             ],
             [
              0.5555555555555556,
              "#d8576b"
             ],
             [
              0.6666666666666666,
              "#ed7953"
             ],
             [
              0.7777777777777778,
              "#fb9f3a"
             ],
             [
              0.8888888888888888,
              "#fdca26"
             ],
             [
              1,
              "#f0f921"
             ]
            ],
            "type": "heatmapgl"
           }
          ],
          "histogram": [
           {
            "marker": {
             "pattern": {
              "fillmode": "overlay",
              "size": 10,
              "solidity": 0.2
             }
            },
            "type": "histogram"
           }
          ],
          "histogram2d": [
           {
            "colorbar": {
             "outlinewidth": 0,
             "ticks": ""
            },
            "colorscale": [
             [
              0,
              "#0d0887"
             ],
             [
              0.1111111111111111,
              "#46039f"
             ],
             [
              0.2222222222222222,
              "#7201a8"
             ],
             [
              0.3333333333333333,
              "#9c179e"
             ],
             [
              0.4444444444444444,
              "#bd3786"
             ],
             [
              0.5555555555555556,
              "#d8576b"
             ],
             [
              0.6666666666666666,
              "#ed7953"
             ],
             [
              0.7777777777777778,
              "#fb9f3a"
             ],
             [
              0.8888888888888888,
              "#fdca26"
             ],
             [
              1,
              "#f0f921"
             ]
            ],
            "type": "histogram2d"
           }
          ],
          "histogram2dcontour": [
           {
            "colorbar": {
             "outlinewidth": 0,
             "ticks": ""
            },
            "colorscale": [
             [
              0,
              "#0d0887"
             ],
             [
              0.1111111111111111,
              "#46039f"
             ],
             [
              0.2222222222222222,
              "#7201a8"
             ],
             [
              0.3333333333333333,
              "#9c179e"
             ],
             [
              0.4444444444444444,
              "#bd3786"
             ],
             [
              0.5555555555555556,
              "#d8576b"
             ],
             [
              0.6666666666666666,
              "#ed7953"
             ],
             [
              0.7777777777777778,
              "#fb9f3a"
             ],
             [
              0.8888888888888888,
              "#fdca26"
             ],
             [
              1,
              "#f0f921"
             ]
            ],
            "type": "histogram2dcontour"
           }
          ],
          "mesh3d": [
           {
            "colorbar": {
             "outlinewidth": 0,
             "ticks": ""
            },
            "type": "mesh3d"
           }
          ],
          "parcoords": [
           {
            "line": {
             "colorbar": {
              "outlinewidth": 0,
              "ticks": ""
             }
            },
            "type": "parcoords"
           }
          ],
          "pie": [
           {
            "automargin": true,
            "type": "pie"
           }
          ],
          "scatter": [
           {
            "fillpattern": {
             "fillmode": "overlay",
             "size": 10,
             "solidity": 0.2
            },
            "type": "scatter"
           }
          ],
          "scatter3d": [
           {
            "line": {
             "colorbar": {
              "outlinewidth": 0,
              "ticks": ""
             }
            },
            "marker": {
             "colorbar": {
              "outlinewidth": 0,
              "ticks": ""
             }
            },
            "type": "scatter3d"
           }
          ],
          "scattercarpet": [
           {
            "marker": {
             "colorbar": {
              "outlinewidth": 0,
              "ticks": ""
             }
            },
            "type": "scattercarpet"
           }
          ],
          "scattergeo": [
           {
            "marker": {
             "colorbar": {
              "outlinewidth": 0,
              "ticks": ""
             }
            },
            "type": "scattergeo"
           }
          ],
          "scattergl": [
           {
            "marker": {
             "colorbar": {
              "outlinewidth": 0,
              "ticks": ""
             }
            },
            "type": "scattergl"
           }
          ],
          "scattermapbox": [
           {
            "marker": {
             "colorbar": {
              "outlinewidth": 0,
              "ticks": ""
             }
            },
            "type": "scattermapbox"
           }
          ],
          "scatterpolar": [
           {
            "marker": {
             "colorbar": {
              "outlinewidth": 0,
              "ticks": ""
             }
            },
            "type": "scatterpolar"
           }
          ],
          "scatterpolargl": [
           {
            "marker": {
             "colorbar": {
              "outlinewidth": 0,
              "ticks": ""
             }
            },
            "type": "scatterpolargl"
           }
          ],
          "scatterternary": [
           {
            "marker": {
             "colorbar": {
              "outlinewidth": 0,
              "ticks": ""
             }
            },
            "type": "scatterternary"
           }
          ],
          "surface": [
           {
            "colorbar": {
             "outlinewidth": 0,
             "ticks": ""
            },
            "colorscale": [
             [
              0,
              "#0d0887"
             ],
             [
              0.1111111111111111,
              "#46039f"
             ],
             [
              0.2222222222222222,
              "#7201a8"
             ],
             [
              0.3333333333333333,
              "#9c179e"
             ],
             [
              0.4444444444444444,
              "#bd3786"
             ],
             [
              0.5555555555555556,
              "#d8576b"
             ],
             [
              0.6666666666666666,
              "#ed7953"
             ],
             [
              0.7777777777777778,
              "#fb9f3a"
             ],
             [
              0.8888888888888888,
              "#fdca26"
             ],
             [
              1,
              "#f0f921"
             ]
            ],
            "type": "surface"
           }
          ],
          "table": [
           {
            "cells": {
             "fill": {
              "color": "#EBF0F8"
             },
             "line": {
              "color": "white"
             }
            },
            "header": {
             "fill": {
              "color": "#C8D4E3"
             },
             "line": {
              "color": "white"
             }
            },
            "type": "table"
           }
          ]
         },
         "layout": {
          "annotationdefaults": {
           "arrowcolor": "#2a3f5f",
           "arrowhead": 0,
           "arrowwidth": 1
          },
          "autotypenumbers": "strict",
          "coloraxis": {
           "colorbar": {
            "outlinewidth": 0,
            "ticks": ""
           }
          },
          "colorscale": {
           "diverging": [
            [
             0,
             "#8e0152"
            ],
            [
             0.1,
             "#c51b7d"
            ],
            [
             0.2,
             "#de77ae"
            ],
            [
             0.3,
             "#f1b6da"
            ],
            [
             0.4,
             "#fde0ef"
            ],
            [
             0.5,
             "#f7f7f7"
            ],
            [
             0.6,
             "#e6f5d0"
            ],
            [
             0.7,
             "#b8e186"
            ],
            [
             0.8,
             "#7fbc41"
            ],
            [
             0.9,
             "#4d9221"
            ],
            [
             1,
             "#276419"
            ]
           ],
           "sequential": [
            [
             0,
             "#0d0887"
            ],
            [
             0.1111111111111111,
             "#46039f"
            ],
            [
             0.2222222222222222,
             "#7201a8"
            ],
            [
             0.3333333333333333,
             "#9c179e"
            ],
            [
             0.4444444444444444,
             "#bd3786"
            ],
            [
             0.5555555555555556,
             "#d8576b"
            ],
            [
             0.6666666666666666,
             "#ed7953"
            ],
            [
             0.7777777777777778,
             "#fb9f3a"
            ],
            [
             0.8888888888888888,
             "#fdca26"
            ],
            [
             1,
             "#f0f921"
            ]
           ],
           "sequentialminus": [
            [
             0,
             "#0d0887"
            ],
            [
             0.1111111111111111,
             "#46039f"
            ],
            [
             0.2222222222222222,
             "#7201a8"
            ],
            [
             0.3333333333333333,
             "#9c179e"
            ],
            [
             0.4444444444444444,
             "#bd3786"
            ],
            [
             0.5555555555555556,
             "#d8576b"
            ],
            [
             0.6666666666666666,
             "#ed7953"
            ],
            [
             0.7777777777777778,
             "#fb9f3a"
            ],
            [
             0.8888888888888888,
             "#fdca26"
            ],
            [
             1,
             "#f0f921"
            ]
           ]
          },
          "colorway": [
           "#636efa",
           "#EF553B",
           "#00cc96",
           "#ab63fa",
           "#FFA15A",
           "#19d3f3",
           "#FF6692",
           "#B6E880",
           "#FF97FF",
           "#FECB52"
          ],
          "font": {
           "color": "#2a3f5f"
          },
          "geo": {
           "bgcolor": "white",
           "lakecolor": "white",
           "landcolor": "#E5ECF6",
           "showlakes": true,
           "showland": true,
           "subunitcolor": "white"
          },
          "hoverlabel": {
           "align": "left"
          },
          "hovermode": "closest",
          "mapbox": {
           "style": "light"
          },
          "paper_bgcolor": "white",
          "plot_bgcolor": "#E5ECF6",
          "polar": {
           "angularaxis": {
            "gridcolor": "white",
            "linecolor": "white",
            "ticks": ""
           },
           "bgcolor": "#E5ECF6",
           "radialaxis": {
            "gridcolor": "white",
            "linecolor": "white",
            "ticks": ""
           }
          },
          "scene": {
           "xaxis": {
            "backgroundcolor": "#E5ECF6",
            "gridcolor": "white",
            "gridwidth": 2,
            "linecolor": "white",
            "showbackground": true,
            "ticks": "",
            "zerolinecolor": "white"
           },
           "yaxis": {
            "backgroundcolor": "#E5ECF6",
            "gridcolor": "white",
            "gridwidth": 2,
            "linecolor": "white",
            "showbackground": true,
            "ticks": "",
            "zerolinecolor": "white"
           },
           "zaxis": {
            "backgroundcolor": "#E5ECF6",
            "gridcolor": "white",
            "gridwidth": 2,
            "linecolor": "white",
            "showbackground": true,
            "ticks": "",
            "zerolinecolor": "white"
           }
          },
          "shapedefaults": {
           "line": {
            "color": "#2a3f5f"
           }
          },
          "ternary": {
           "aaxis": {
            "gridcolor": "white",
            "linecolor": "white",
            "ticks": ""
           },
           "baxis": {
            "gridcolor": "white",
            "linecolor": "white",
            "ticks": ""
           },
           "bgcolor": "#E5ECF6",
           "caxis": {
            "gridcolor": "white",
            "linecolor": "white",
            "ticks": ""
           }
          },
          "title": {
           "x": 0.05
          },
          "xaxis": {
           "automargin": true,
           "gridcolor": "white",
           "linecolor": "white",
           "ticks": "",
           "title": {
            "standoff": 15
           },
           "zerolinecolor": "white",
           "zerolinewidth": 2
          },
          "yaxis": {
           "automargin": true,
           "gridcolor": "white",
           "linecolor": "white",
           "ticks": "",
           "title": {
            "standoff": 15
           },
           "zerolinecolor": "white",
           "zerolinewidth": 2
          }
         }
        },
        "title": {
         "text": "CART_tree"
        }
       }
      }
     },
     "metadata": {},
     "output_type": "display_data"
    },
    {
     "data": {
      "text/html": [
       "<div>\n",
       "<style scoped>\n",
       "    .dataframe tbody tr th:only-of-type {\n",
       "        vertical-align: middle;\n",
       "    }\n",
       "\n",
       "    .dataframe tbody tr th {\n",
       "        vertical-align: top;\n",
       "    }\n",
       "\n",
       "    .dataframe thead th {\n",
       "        text-align: right;\n",
       "    }\n",
       "</style>\n",
       "<table border=\"1\" class=\"dataframe\">\n",
       "  <thead>\n",
       "    <tr style=\"text-align: right;\">\n",
       "      <th></th>\n",
       "      <th>Node</th>\n",
       "      <th>Node Type</th>\n",
       "      <th>Variable Split</th>\n",
       "      <th>n</th>\n",
       "      <th>Impurity Value</th>\n",
       "      <th>Deviance</th>\n",
       "      <th>Explained Deviance</th>\n",
       "      <th>Class/Value</th>\n",
       "    </tr>\n",
       "  </thead>\n",
       "  <tbody>\n",
       "    <tr>\n",
       "      <th>0</th>\n",
       "      <td>n1</td>\n",
       "      <td>Parent</td>\n",
       "      <td>CompPrice&gt;127.5</td>\n",
       "      <td>280</td>\n",
       "      <td>3753078.18</td>\n",
       "      <td>155526.82</td>\n",
       "      <td>0.202</td>\n",
       "      <td>115.78</td>\n",
       "    </tr>\n",
       "    <tr>\n",
       "      <th>1</th>\n",
       "      <td>n2</td>\n",
       "      <td>Parent</td>\n",
       "      <td>Sales&gt;7.55</td>\n",
       "      <td>162</td>\n",
       "      <td>1845333.95</td>\n",
       "      <td>75946.05</td>\n",
       "      <td>0.305</td>\n",
       "      <td>106.73</td>\n",
       "    </tr>\n",
       "    <tr>\n",
       "      <th>2</th>\n",
       "      <td>n4</td>\n",
       "      <td>Parent</td>\n",
       "      <td>Age&gt;53.5</td>\n",
       "      <td>89</td>\n",
       "      <td>1191559.6</td>\n",
       "      <td>24566.40</td>\n",
       "      <td>0.335</td>\n",
       "      <td>115.71</td>\n",
       "    </tr>\n",
       "    <tr>\n",
       "      <th>3</th>\n",
       "      <td>n8</td>\n",
       "      <td>Parent</td>\n",
       "      <td>Income&gt;67.0</td>\n",
       "      <td>27</td>\n",
       "      <td>433453.37</td>\n",
       "      <td>6691.63</td>\n",
       "      <td>0.35</td>\n",
       "      <td>126.7</td>\n",
       "    </tr>\n",
       "    <tr>\n",
       "      <th>4</th>\n",
       "      <td>n16</td>\n",
       "      <td>Child</td>\n",
       "      <td>None</td>\n",
       "      <td>13</td>\n",
       "      <td>178191.08</td>\n",
       "      <td>2462.92</td>\n",
       "      <td>None</td>\n",
       "      <td>117.08</td>\n",
       "    </tr>\n",
       "    <tr>\n",
       "      <th>5</th>\n",
       "      <td>n17</td>\n",
       "      <td>Child</td>\n",
       "      <td>None</td>\n",
       "      <td>14</td>\n",
       "      <td>257585.79</td>\n",
       "      <td>1905.21</td>\n",
       "      <td>None</td>\n",
       "      <td>135.64</td>\n",
       "    </tr>\n",
       "    <tr>\n",
       "      <th>6</th>\n",
       "      <td>n9</td>\n",
       "      <td>Parent</td>\n",
       "      <td>Sales&gt;2.755</td>\n",
       "      <td>62</td>\n",
       "      <td>762792.4</td>\n",
       "      <td>13188.60</td>\n",
       "      <td>0.373</td>\n",
       "      <td>110.92</td>\n",
       "    </tr>\n",
       "    <tr>\n",
       "      <th>7</th>\n",
       "      <td>n18</td>\n",
       "      <td>Child</td>\n",
       "      <td>None</td>\n",
       "      <td>6</td>\n",
       "      <td>99330.67</td>\n",
       "      <td>999.33</td>\n",
       "      <td>None</td>\n",
       "      <td>128.67</td>\n",
       "    </tr>\n",
       "    <tr>\n",
       "      <th>8</th>\n",
       "      <td>n19</td>\n",
       "      <td>Child</td>\n",
       "      <td>None</td>\n",
       "      <td>56</td>\n",
       "      <td>665554.02</td>\n",
       "      <td>10096.98</td>\n",
       "      <td>None</td>\n",
       "      <td>109.02</td>\n",
       "    </tr>\n",
       "    <tr>\n",
       "      <th>9</th>\n",
       "      <td>n5</td>\n",
       "      <td>Parent</td>\n",
       "      <td>CompPrice&gt;99.0</td>\n",
       "      <td>73</td>\n",
       "      <td>669699.51</td>\n",
       "      <td>35454.49</td>\n",
       "      <td>0.438</td>\n",
       "      <td>95.78</td>\n",
       "    </tr>\n",
       "    <tr>\n",
       "      <th>10</th>\n",
       "      <td>n10</td>\n",
       "      <td>Child</td>\n",
       "      <td>None</td>\n",
       "      <td>9</td>\n",
       "      <td>40133.44</td>\n",
       "      <td>4103.56</td>\n",
       "      <td>None</td>\n",
       "      <td>66.78</td>\n",
       "    </tr>\n",
       "    <tr>\n",
       "      <th>11</th>\n",
       "      <td>n11</td>\n",
       "      <td>Parent</td>\n",
       "      <td>Sales&gt;10.629999999999999</td>\n",
       "      <td>64</td>\n",
       "      <td>638201.27</td>\n",
       "      <td>22715.73</td>\n",
       "      <td>0.462</td>\n",
       "      <td>99.86</td>\n",
       "    </tr>\n",
       "    <tr>\n",
       "      <th>12</th>\n",
       "      <td>n23</td>\n",
       "      <td>Child</td>\n",
       "      <td>None</td>\n",
       "      <td>19</td>\n",
       "      <td>147136.0</td>\n",
       "      <td>5326.00</td>\n",
       "      <td>None</td>\n",
       "      <td>88.0</td>\n",
       "    </tr>\n",
       "    <tr>\n",
       "      <th>13</th>\n",
       "      <td>n22</td>\n",
       "      <td>Parent</td>\n",
       "      <td>ShelveLoc in (b'Bad', b'Medium')</td>\n",
       "      <td>45</td>\n",
       "      <td>494865.8</td>\n",
       "      <td>13589.20</td>\n",
       "      <td>0.492</td>\n",
       "      <td>104.87</td>\n",
       "    </tr>\n",
       "    <tr>\n",
       "      <th>14</th>\n",
       "      <td>n44</td>\n",
       "      <td>Child</td>\n",
       "      <td>None</td>\n",
       "      <td>13</td>\n",
       "      <td>189124.92</td>\n",
       "      <td>3503.08</td>\n",
       "      <td>None</td>\n",
       "      <td>120.62</td>\n",
       "    </tr>\n",
       "    <tr>\n",
       "      <th>15</th>\n",
       "      <td>n45</td>\n",
       "      <td>Child</td>\n",
       "      <td>None</td>\n",
       "      <td>32</td>\n",
       "      <td>310275.03</td>\n",
       "      <td>5551.97</td>\n",
       "      <td>None</td>\n",
       "      <td>98.47</td>\n",
       "    </tr>\n",
       "    <tr>\n",
       "      <th>16</th>\n",
       "      <td>n3</td>\n",
       "      <td>Parent</td>\n",
       "      <td>Sales&gt;7.555</td>\n",
       "      <td>118</td>\n",
       "      <td>1939204.48</td>\n",
       "      <td>48120.52</td>\n",
       "      <td>0.611</td>\n",
       "      <td>128.19</td>\n",
       "    </tr>\n",
       "    <tr>\n",
       "      <th>17</th>\n",
       "      <td>n6</td>\n",
       "      <td>Parent</td>\n",
       "      <td>CompPrice&gt;135.5</td>\n",
       "      <td>58</td>\n",
       "      <td>1132044.98</td>\n",
       "      <td>17604.02</td>\n",
       "      <td>0.647</td>\n",
       "      <td>139.71</td>\n",
       "    </tr>\n",
       "    <tr>\n",
       "      <th>18</th>\n",
       "      <td>n12</td>\n",
       "      <td>Child</td>\n",
       "      <td>None</td>\n",
       "      <td>30</td>\n",
       "      <td>509342.7</td>\n",
       "      <td>5102.30</td>\n",
       "      <td>None</td>\n",
       "      <td>130.3</td>\n",
       "    </tr>\n",
       "    <tr>\n",
       "      <th>19</th>\n",
       "      <td>n13</td>\n",
       "      <td>Child</td>\n",
       "      <td>None</td>\n",
       "      <td>28</td>\n",
       "      <td>628201.29</td>\n",
       "      <td>7002.71</td>\n",
       "      <td>None</td>\n",
       "      <td>149.79</td>\n",
       "    </tr>\n",
       "    <tr>\n",
       "      <th>20</th>\n",
       "      <td>n7</td>\n",
       "      <td>Parent</td>\n",
       "      <td>CompPrice&gt;146.5</td>\n",
       "      <td>60</td>\n",
       "      <td>822276.27</td>\n",
       "      <td>15399.73</td>\n",
       "      <td>0.698</td>\n",
       "      <td>117.07</td>\n",
       "    </tr>\n",
       "    <tr>\n",
       "      <th>21</th>\n",
       "      <td>n15</td>\n",
       "      <td>Child</td>\n",
       "      <td>None</td>\n",
       "      <td>15</td>\n",
       "      <td>269072.07</td>\n",
       "      <td>832.93</td>\n",
       "      <td>None</td>\n",
       "      <td>133.93</td>\n",
       "    </tr>\n",
       "    <tr>\n",
       "      <th>22</th>\n",
       "      <td>n14</td>\n",
       "      <td>Parent</td>\n",
       "      <td>Sales&gt;11.879999999999999</td>\n",
       "      <td>45</td>\n",
       "      <td>558893.89</td>\n",
       "      <td>8877.11</td>\n",
       "      <td>0.712</td>\n",
       "      <td>111.44</td>\n",
       "    </tr>\n",
       "    <tr>\n",
       "      <th>23</th>\n",
       "      <td>n28</td>\n",
       "      <td>Child</td>\n",
       "      <td>None</td>\n",
       "      <td>36</td>\n",
       "      <td>474721.0</td>\n",
       "      <td>5907.00</td>\n",
       "      <td>None</td>\n",
       "      <td>114.83</td>\n",
       "    </tr>\n",
       "    <tr>\n",
       "      <th>24</th>\n",
       "      <td>n29</td>\n",
       "      <td>Child</td>\n",
       "      <td>None</td>\n",
       "      <td>9</td>\n",
       "      <td>86240.11</td>\n",
       "      <td>902.89</td>\n",
       "      <td>None</td>\n",
       "      <td>97.89</td>\n",
       "    </tr>\n",
       "  </tbody>\n",
       "</table>\n",
       "</div>"
      ],
      "text/plain": [
       "   Node Node Type                    Variable Split    n Impurity Value   \n",
       "0    n1    Parent                   CompPrice>127.5  280     3753078.18  \\\n",
       "1    n2    Parent                        Sales>7.55  162     1845333.95   \n",
       "2    n4    Parent                          Age>53.5   89      1191559.6   \n",
       "3    n8    Parent                       Income>67.0   27      433453.37   \n",
       "4   n16     Child                              None   13      178191.08   \n",
       "5   n17     Child                              None   14      257585.79   \n",
       "6    n9    Parent                       Sales>2.755   62       762792.4   \n",
       "7   n18     Child                              None    6       99330.67   \n",
       "8   n19     Child                              None   56      665554.02   \n",
       "9    n5    Parent                    CompPrice>99.0   73      669699.51   \n",
       "10  n10     Child                              None    9       40133.44   \n",
       "11  n11    Parent          Sales>10.629999999999999   64      638201.27   \n",
       "12  n23     Child                              None   19       147136.0   \n",
       "13  n22    Parent  ShelveLoc in (b'Bad', b'Medium')   45       494865.8   \n",
       "14  n44     Child                              None   13      189124.92   \n",
       "15  n45     Child                              None   32      310275.03   \n",
       "16   n3    Parent                       Sales>7.555  118     1939204.48   \n",
       "17   n6    Parent                   CompPrice>135.5   58     1132044.98   \n",
       "18  n12     Child                              None   30       509342.7   \n",
       "19  n13     Child                              None   28      628201.29   \n",
       "20   n7    Parent                   CompPrice>146.5   60      822276.27   \n",
       "21  n15     Child                              None   15      269072.07   \n",
       "22  n14    Parent          Sales>11.879999999999999   45      558893.89   \n",
       "23  n28     Child                              None   36       474721.0   \n",
       "24  n29     Child                              None    9       86240.11   \n",
       "\n",
       "     Deviance Explained Deviance Class/Value  \n",
       "0   155526.82              0.202      115.78  \n",
       "1    75946.05              0.305      106.73  \n",
       "2    24566.40              0.335      115.71  \n",
       "3     6691.63               0.35       126.7  \n",
       "4     2462.92               None      117.08  \n",
       "5     1905.21               None      135.64  \n",
       "6    13188.60              0.373      110.92  \n",
       "7      999.33               None      128.67  \n",
       "8    10096.98               None      109.02  \n",
       "9    35454.49              0.438       95.78  \n",
       "10    4103.56               None       66.78  \n",
       "11   22715.73              0.462       99.86  \n",
       "12    5326.00               None        88.0  \n",
       "13   13589.20              0.492      104.87  \n",
       "14    3503.08               None      120.62  \n",
       "15    5551.97               None       98.47  \n",
       "16   48120.52              0.611      128.19  \n",
       "17   17604.02              0.647      139.71  \n",
       "18    5102.30               None       130.3  \n",
       "19    7002.71               None      149.79  \n",
       "20   15399.73              0.698      117.07  \n",
       "21     832.93               None      133.93  \n",
       "22    8877.11              0.712      111.44  \n",
       "23    5907.00               None      114.83  \n",
       "24     902.89               None       97.89  "
      ]
     },
     "execution_count": 21,
     "metadata": {},
     "output_type": "execute_result"
    }
   ],
   "source": [
    "import warnings\n",
    "warnings.filterwarnings(\"ignore\", category=FutureWarning) \n",
    "\n",
    "\n",
    "cart.print_tree(table = True, html = False)#.style.hide_index() #print both the pruned and non pruned tree \n",
    "#cart.print_tree(table = False, html = False, visual_pruning = True)"
   ]
  },
  {
   "cell_type": "code",
   "execution_count": 22,
   "metadata": {},
   "outputs": [
    {
     "data": {
      "application/vnd.plotly.v1+json": {
       "config": {
        "plotlyServerURL": "https://plot.ly"
       },
       "data": [
        {
         "hoverinfo": "none",
         "line": {
          "color": "rgb(210,210,210)",
          "width": 1
         },
         "mode": "lines",
         "type": "scatter",
         "x": [
          0,
          -5.3125,
          null,
          0,
          5.3125,
          null,
          -5.3125,
          -9.1875,
          null,
          -5.3125,
          -1.4375,
          null,
          5.3125,
          3.3125,
          null,
          5.3125,
          7.3125,
          null,
          -9.1875,
          -11.1875,
          null,
          -9.1875,
          -7.1875,
          null,
          -1.4375,
          -3.1875,
          null,
          -1.4375,
          0.3125,
          null,
          3.3125,
          2.3125,
          null,
          3.3125,
          4.3125,
          null,
          7.3125,
          6.3125,
          null,
          7.3125,
          8.3125,
          null,
          -11.1875,
          -12.1875,
          null,
          -11.1875,
          -10.1875,
          null,
          -7.1875,
          -8.1875,
          null,
          -7.1875,
          -6.1875,
          null,
          0.3125,
          -0.1875,
          null,
          0.3125,
          0.8125,
          null,
          6.3125,
          5.8125,
          null,
          6.3125,
          6.8125,
          null,
          -0.1875,
          -0.6875,
          null,
          -0.1875,
          0.3125,
          null
         ],
         "y": [
          1,
          0.7977181192496443,
          null,
          1,
          0.7977181192496443,
          null,
          0.7977181192496443,
          0.6953232318233172,
          null,
          0.7977181192496443,
          0.6953232318233172,
          null,
          0.7977181192496443,
          0.7005209548734033,
          null,
          0.7977181192496443,
          0.7005209548734033,
          null,
          0.6953232318233172,
          0.6651922361538638,
          null,
          0.6953232318233172,
          0.6651922361538638,
          null,
          0.6953232318233172,
          0.6398009563565004,
          null,
          0.6953232318233172,
          0.6398009563565004,
          null,
          0.7005209548734033,
          0.6651636912266655,
          null,
          0.7005209548734033,
          0.6651636912266655,
          null,
          0.7005209548734033,
          0.6639376266347609,
          null,
          0.7005209548734033,
          0.6639376266347609,
          null,
          0.6651922361538638,
          0.6502527408803489,
          null,
          0.6651922361538638,
          0.6502527408803489,
          null,
          0.6651922361538638,
          0.6517393716849654,
          null,
          0.6651922361538638,
          0.6517393716849654,
          null,
          0.6398009563565004,
          0.6153644363220947,
          null,
          0.6398009563565004,
          0.6153644363220947,
          null,
          0.6639376266347609,
          0.6506458859834473,
          null,
          0.6639376266347609,
          0.6506458859834473,
          null,
          0.6153644363220947,
          0.5862109168123699,
          null,
          0.6153644363220947,
          0.5862109168123699,
          null
         ]
        },
        {
         "hoverinfo": "text",
         "marker": {
          "color": "#6175c1",
          "line": {
           "color": "rgb(50,50,50)",
           "width": 1
          },
          "size": 18,
          "symbol": "circle-dot"
         },
         "mode": "markers",
         "name": "Nodes",
         "opacity": 0.8,
         "text": [
          "n16, None, Bin Value: 117.08, between_variance : 178191.08, Samples : 13",
          "n17, None, Bin Value: 135.64, between_variance : 257585.79, Samples : 14",
          "n18, None, Bin Value: 128.67, between_variance : 99330.67, Samples : 6",
          "n19, None, Bin Value: 109.02, between_variance : 665554.02, Samples : 56",
          "n10, None, Bin Value: 66.78, between_variance : 40133.44, Samples : 9",
          "n23, None, Bin Value: 88.0, between_variance : 147136.0, Samples : 19",
          "n44, None, Bin Value: 120.62, between_variance : 189124.92, Samples : 13",
          "n45, None, Bin Value: 98.47, between_variance : 310275.03, Samples : 32",
          "n12, None, Bin Value: 130.3, between_variance : 509342.7, Samples : 30",
          "n13, None, Bin Value: 149.79, between_variance : 628201.29, Samples : 28",
          "n15, None, Bin Value: 133.93, between_variance : 269072.07, Samples : 15",
          "n28, None, Bin Value: 114.83, between_variance : 474721.0, Samples : 36",
          "n29, None, Bin Value: 97.89, between_variance : 86240.11, Samples : 9",
          "n1, CompPrice>127.5, Bin Value: 115.78, between_variance : 3753078.18, Samples : 280",
          "n2, Sales>7.55, Bin Value: 106.73, between_variance : 1845333.95, Samples : 162",
          "n4, Age>53.5, Bin Value: 115.71, between_variance : 1191559.6, Samples : 89",
          "n8, Income>67.0, Bin Value: 126.7, between_variance : 433453.37, Samples : 27",
          "n9, Sales>2.755, Bin Value: 110.92, between_variance : 762792.4, Samples : 62",
          "n5, CompPrice>99.0, Bin Value: 95.78, between_variance : 669699.51, Samples : 73",
          "n11, Sales>10.629999999999999, Bin Value: 99.86, between_variance : 638201.27, Samples : 64",
          "n22, ShelveLoc in (b'Bad', b'Medium'), Bin Value: 104.87, between_variance : 494865.8, Samples : 45",
          "n3, Sales>7.555, Bin Value: 128.19, between_variance : 1939204.48, Samples : 118",
          "n6, CompPrice>135.5, Bin Value: 139.71, between_variance : 1132044.98, Samples : 58",
          "n7, CompPrice>146.5, Bin Value: 117.07, between_variance : 822276.27, Samples : 60",
          "n14, Sales>11.879999999999999, Bin Value: 111.44, between_variance : 558893.89, Samples : 45"
         ],
         "type": "scatter",
         "x": [
          -12.1875,
          -10.1875,
          -8.1875,
          -6.1875,
          -3.1875,
          0.8125,
          -0.6875,
          0.3125,
          2.3125,
          4.3125,
          8.3125,
          5.8125,
          6.8125,
          0,
          -5.3125,
          -9.1875,
          -11.1875,
          -7.1875,
          -1.4375,
          0.3125,
          -0.1875,
          5.3125,
          3.3125,
          7.3125,
          6.3125
         ],
         "y": [
          0.6502527408803489,
          0.6502527408803489,
          0.6517393716849654,
          0.6517393716849654,
          0.6398009563565004,
          0.6153644363220947,
          0.5862109168123699,
          0.5862109168123699,
          0.6651636912266655,
          0.6651636912266655,
          0.6639376266347609,
          0.6506458859834473,
          0.6506458859834473,
          1,
          0.7977181192496443,
          0.6953232318233172,
          0.6651922361538638,
          0.6651922361538638,
          0.6953232318233172,
          0.6398009563565004,
          0.6153644363220947,
          0.7977181192496443,
          0.7005209548734033,
          0.7005209548734033,
          0.6639376266347609
         ]
        }
       ],
       "layout": {
        "template": {
         "data": {
          "bar": [
           {
            "error_x": {
             "color": "#2a3f5f"
            },
            "error_y": {
             "color": "#2a3f5f"
            },
            "marker": {
             "line": {
              "color": "#E5ECF6",
              "width": 0.5
             },
             "pattern": {
              "fillmode": "overlay",
              "size": 10,
              "solidity": 0.2
             }
            },
            "type": "bar"
           }
          ],
          "barpolar": [
           {
            "marker": {
             "line": {
              "color": "#E5ECF6",
              "width": 0.5
             },
             "pattern": {
              "fillmode": "overlay",
              "size": 10,
              "solidity": 0.2
             }
            },
            "type": "barpolar"
           }
          ],
          "carpet": [
           {
            "aaxis": {
             "endlinecolor": "#2a3f5f",
             "gridcolor": "white",
             "linecolor": "white",
             "minorgridcolor": "white",
             "startlinecolor": "#2a3f5f"
            },
            "baxis": {
             "endlinecolor": "#2a3f5f",
             "gridcolor": "white",
             "linecolor": "white",
             "minorgridcolor": "white",
             "startlinecolor": "#2a3f5f"
            },
            "type": "carpet"
           }
          ],
          "choropleth": [
           {
            "colorbar": {
             "outlinewidth": 0,
             "ticks": ""
            },
            "type": "choropleth"
           }
          ],
          "contour": [
           {
            "colorbar": {
             "outlinewidth": 0,
             "ticks": ""
            },
            "colorscale": [
             [
              0,
              "#0d0887"
             ],
             [
              0.1111111111111111,
              "#46039f"
             ],
             [
              0.2222222222222222,
              "#7201a8"
             ],
             [
              0.3333333333333333,
              "#9c179e"
             ],
             [
              0.4444444444444444,
              "#bd3786"
             ],
             [
              0.5555555555555556,
              "#d8576b"
             ],
             [
              0.6666666666666666,
              "#ed7953"
             ],
             [
              0.7777777777777778,
              "#fb9f3a"
             ],
             [
              0.8888888888888888,
              "#fdca26"
             ],
             [
              1,
              "#f0f921"
             ]
            ],
            "type": "contour"
           }
          ],
          "contourcarpet": [
           {
            "colorbar": {
             "outlinewidth": 0,
             "ticks": ""
            },
            "type": "contourcarpet"
           }
          ],
          "heatmap": [
           {
            "colorbar": {
             "outlinewidth": 0,
             "ticks": ""
            },
            "colorscale": [
             [
              0,
              "#0d0887"
             ],
             [
              0.1111111111111111,
              "#46039f"
             ],
             [
              0.2222222222222222,
              "#7201a8"
             ],
             [
              0.3333333333333333,
              "#9c179e"
             ],
             [
              0.4444444444444444,
              "#bd3786"
             ],
             [
              0.5555555555555556,
              "#d8576b"
             ],
             [
              0.6666666666666666,
              "#ed7953"
             ],
             [
              0.7777777777777778,
              "#fb9f3a"
             ],
             [
              0.8888888888888888,
              "#fdca26"
             ],
             [
              1,
              "#f0f921"
             ]
            ],
            "type": "heatmap"
           }
          ],
          "heatmapgl": [
           {
            "colorbar": {
             "outlinewidth": 0,
             "ticks": ""
            },
            "colorscale": [
             [
              0,
              "#0d0887"
             ],
             [
              0.1111111111111111,
              "#46039f"
             ],
             [
              0.2222222222222222,
              "#7201a8"
             ],
             [
              0.3333333333333333,
              "#9c179e"
             ],
             [
              0.4444444444444444,
              "#bd3786"
             ],
             [
              0.5555555555555556,
              "#d8576b"
             ],
             [
              0.6666666666666666,
              "#ed7953"
             ],
             [
              0.7777777777777778,
              "#fb9f3a"
             ],
             [
              0.8888888888888888,
              "#fdca26"
             ],
             [
              1,
              "#f0f921"
             ]
            ],
            "type": "heatmapgl"
           }
          ],
          "histogram": [
           {
            "marker": {
             "pattern": {
              "fillmode": "overlay",
              "size": 10,
              "solidity": 0.2
             }
            },
            "type": "histogram"
           }
          ],
          "histogram2d": [
           {
            "colorbar": {
             "outlinewidth": 0,
             "ticks": ""
            },
            "colorscale": [
             [
              0,
              "#0d0887"
             ],
             [
              0.1111111111111111,
              "#46039f"
             ],
             [
              0.2222222222222222,
              "#7201a8"
             ],
             [
              0.3333333333333333,
              "#9c179e"
             ],
             [
              0.4444444444444444,
              "#bd3786"
             ],
             [
              0.5555555555555556,
              "#d8576b"
             ],
             [
              0.6666666666666666,
              "#ed7953"
             ],
             [
              0.7777777777777778,
              "#fb9f3a"
             ],
             [
              0.8888888888888888,
              "#fdca26"
             ],
             [
              1,
              "#f0f921"
             ]
            ],
            "type": "histogram2d"
           }
          ],
          "histogram2dcontour": [
           {
            "colorbar": {
             "outlinewidth": 0,
             "ticks": ""
            },
            "colorscale": [
             [
              0,
              "#0d0887"
             ],
             [
              0.1111111111111111,
              "#46039f"
             ],
             [
              0.2222222222222222,
              "#7201a8"
             ],
             [
              0.3333333333333333,
              "#9c179e"
             ],
             [
              0.4444444444444444,
              "#bd3786"
             ],
             [
              0.5555555555555556,
              "#d8576b"
             ],
             [
              0.6666666666666666,
              "#ed7953"
             ],
             [
              0.7777777777777778,
              "#fb9f3a"
             ],
             [
              0.8888888888888888,
              "#fdca26"
             ],
             [
              1,
              "#f0f921"
             ]
            ],
            "type": "histogram2dcontour"
           }
          ],
          "mesh3d": [
           {
            "colorbar": {
             "outlinewidth": 0,
             "ticks": ""
            },
            "type": "mesh3d"
           }
          ],
          "parcoords": [
           {
            "line": {
             "colorbar": {
              "outlinewidth": 0,
              "ticks": ""
             }
            },
            "type": "parcoords"
           }
          ],
          "pie": [
           {
            "automargin": true,
            "type": "pie"
           }
          ],
          "scatter": [
           {
            "fillpattern": {
             "fillmode": "overlay",
             "size": 10,
             "solidity": 0.2
            },
            "type": "scatter"
           }
          ],
          "scatter3d": [
           {
            "line": {
             "colorbar": {
              "outlinewidth": 0,
              "ticks": ""
             }
            },
            "marker": {
             "colorbar": {
              "outlinewidth": 0,
              "ticks": ""
             }
            },
            "type": "scatter3d"
           }
          ],
          "scattercarpet": [
           {
            "marker": {
             "colorbar": {
              "outlinewidth": 0,
              "ticks": ""
             }
            },
            "type": "scattercarpet"
           }
          ],
          "scattergeo": [
           {
            "marker": {
             "colorbar": {
              "outlinewidth": 0,
              "ticks": ""
             }
            },
            "type": "scattergeo"
           }
          ],
          "scattergl": [
           {
            "marker": {
             "colorbar": {
              "outlinewidth": 0,
              "ticks": ""
             }
            },
            "type": "scattergl"
           }
          ],
          "scattermapbox": [
           {
            "marker": {
             "colorbar": {
              "outlinewidth": 0,
              "ticks": ""
             }
            },
            "type": "scattermapbox"
           }
          ],
          "scatterpolar": [
           {
            "marker": {
             "colorbar": {
              "outlinewidth": 0,
              "ticks": ""
             }
            },
            "type": "scatterpolar"
           }
          ],
          "scatterpolargl": [
           {
            "marker": {
             "colorbar": {
              "outlinewidth": 0,
              "ticks": ""
             }
            },
            "type": "scatterpolargl"
           }
          ],
          "scatterternary": [
           {
            "marker": {
             "colorbar": {
              "outlinewidth": 0,
              "ticks": ""
             }
            },
            "type": "scatterternary"
           }
          ],
          "surface": [
           {
            "colorbar": {
             "outlinewidth": 0,
             "ticks": ""
            },
            "colorscale": [
             [
              0,
              "#0d0887"
             ],
             [
              0.1111111111111111,
              "#46039f"
             ],
             [
              0.2222222222222222,
              "#7201a8"
             ],
             [
              0.3333333333333333,
              "#9c179e"
             ],
             [
              0.4444444444444444,
              "#bd3786"
             ],
             [
              0.5555555555555556,
              "#d8576b"
             ],
             [
              0.6666666666666666,
              "#ed7953"
             ],
             [
              0.7777777777777778,
              "#fb9f3a"
             ],
             [
              0.8888888888888888,
              "#fdca26"
             ],
             [
              1,
              "#f0f921"
             ]
            ],
            "type": "surface"
           }
          ],
          "table": [
           {
            "cells": {
             "fill": {
              "color": "#EBF0F8"
             },
             "line": {
              "color": "white"
             }
            },
            "header": {
             "fill": {
              "color": "#C8D4E3"
             },
             "line": {
              "color": "white"
             }
            },
            "type": "table"
           }
          ]
         },
         "layout": {
          "annotationdefaults": {
           "arrowcolor": "#2a3f5f",
           "arrowhead": 0,
           "arrowwidth": 1
          },
          "autotypenumbers": "strict",
          "coloraxis": {
           "colorbar": {
            "outlinewidth": 0,
            "ticks": ""
           }
          },
          "colorscale": {
           "diverging": [
            [
             0,
             "#8e0152"
            ],
            [
             0.1,
             "#c51b7d"
            ],
            [
             0.2,
             "#de77ae"
            ],
            [
             0.3,
             "#f1b6da"
            ],
            [
             0.4,
             "#fde0ef"
            ],
            [
             0.5,
             "#f7f7f7"
            ],
            [
             0.6,
             "#e6f5d0"
            ],
            [
             0.7,
             "#b8e186"
            ],
            [
             0.8,
             "#7fbc41"
            ],
            [
             0.9,
             "#4d9221"
            ],
            [
             1,
             "#276419"
            ]
           ],
           "sequential": [
            [
             0,
             "#0d0887"
            ],
            [
             0.1111111111111111,
             "#46039f"
            ],
            [
             0.2222222222222222,
             "#7201a8"
            ],
            [
             0.3333333333333333,
             "#9c179e"
            ],
            [
             0.4444444444444444,
             "#bd3786"
            ],
            [
             0.5555555555555556,
             "#d8576b"
            ],
            [
             0.6666666666666666,
             "#ed7953"
            ],
            [
             0.7777777777777778,
             "#fb9f3a"
            ],
            [
             0.8888888888888888,
             "#fdca26"
            ],
            [
             1,
             "#f0f921"
            ]
           ],
           "sequentialminus": [
            [
             0,
             "#0d0887"
            ],
            [
             0.1111111111111111,
             "#46039f"
            ],
            [
             0.2222222222222222,
             "#7201a8"
            ],
            [
             0.3333333333333333,
             "#9c179e"
            ],
            [
             0.4444444444444444,
             "#bd3786"
            ],
            [
             0.5555555555555556,
             "#d8576b"
            ],
            [
             0.6666666666666666,
             "#ed7953"
            ],
            [
             0.7777777777777778,
             "#fb9f3a"
            ],
            [
             0.8888888888888888,
             "#fdca26"
            ],
            [
             1,
             "#f0f921"
            ]
           ]
          },
          "colorway": [
           "#636efa",
           "#EF553B",
           "#00cc96",
           "#ab63fa",
           "#FFA15A",
           "#19d3f3",
           "#FF6692",
           "#B6E880",
           "#FF97FF",
           "#FECB52"
          ],
          "font": {
           "color": "#2a3f5f"
          },
          "geo": {
           "bgcolor": "white",
           "lakecolor": "white",
           "landcolor": "#E5ECF6",
           "showlakes": true,
           "showland": true,
           "subunitcolor": "white"
          },
          "hoverlabel": {
           "align": "left"
          },
          "hovermode": "closest",
          "mapbox": {
           "style": "light"
          },
          "paper_bgcolor": "white",
          "plot_bgcolor": "#E5ECF6",
          "polar": {
           "angularaxis": {
            "gridcolor": "white",
            "linecolor": "white",
            "ticks": ""
           },
           "bgcolor": "#E5ECF6",
           "radialaxis": {
            "gridcolor": "white",
            "linecolor": "white",
            "ticks": ""
           }
          },
          "scene": {
           "xaxis": {
            "backgroundcolor": "#E5ECF6",
            "gridcolor": "white",
            "gridwidth": 2,
            "linecolor": "white",
            "showbackground": true,
            "ticks": "",
            "zerolinecolor": "white"
           },
           "yaxis": {
            "backgroundcolor": "#E5ECF6",
            "gridcolor": "white",
            "gridwidth": 2,
            "linecolor": "white",
            "showbackground": true,
            "ticks": "",
            "zerolinecolor": "white"
           },
           "zaxis": {
            "backgroundcolor": "#E5ECF6",
            "gridcolor": "white",
            "gridwidth": 2,
            "linecolor": "white",
            "showbackground": true,
            "ticks": "",
            "zerolinecolor": "white"
           }
          },
          "shapedefaults": {
           "line": {
            "color": "#2a3f5f"
           }
          },
          "ternary": {
           "aaxis": {
            "gridcolor": "white",
            "linecolor": "white",
            "ticks": ""
           },
           "baxis": {
            "gridcolor": "white",
            "linecolor": "white",
            "ticks": ""
           },
           "bgcolor": "#E5ECF6",
           "caxis": {
            "gridcolor": "white",
            "linecolor": "white",
            "ticks": ""
           }
          },
          "title": {
           "x": 0.05
          },
          "xaxis": {
           "automargin": true,
           "gridcolor": "white",
           "linecolor": "white",
           "ticks": "",
           "title": {
            "standoff": 15
           },
           "zerolinecolor": "white",
           "zerolinewidth": 2
          },
          "yaxis": {
           "automargin": true,
           "gridcolor": "white",
           "linecolor": "white",
           "ticks": "",
           "title": {
            "standoff": 15
           },
           "zerolinecolor": "white",
           "zerolinewidth": 2
          }
         }
        },
        "title": {
         "text": "CART_tree"
        }
       }
      }
     },
     "metadata": {},
     "output_type": "display_data"
    }
   ],
   "source": [
    "cart.print_tree(table = False, html = False, visual_pruning = True)"
   ]
  },
  {
   "cell_type": "code",
   "execution_count": 23,
   "metadata": {},
   "outputs": [
    {
     "name": "stdout",
     "output_type": "stream",
     "text": [
      "{leaves : mean square error} =  {13: 378.26637414114776, 12: 374.05693484073623, 11: 372.07315027022867, 10: 379.327126170639, 8: 401.6294163011941, 7: 377.1002335519621, 6: 365.12339845930427, 5: 377.2486577185635, 4: 403.28132587388114, 3: 440.0370731606482, 2: 458.509441351924}\n",
      "Best tree for test set has 6 leaves with a deviance of: 365.12339845930427 \n"
     ]
    },
    {
     "data": {
      "image/png": "[encoded data removed]",
      "text/plain": [
       "<Figure size 640x480 with 1 Axes>"
      ]
     },
     "metadata": {},
     "output_type": "display_data"
    },
    {
     "data": {
      "application/vnd.plotly.v1+json": {
       "config": {
        "plotlyServerURL": "https://plot.ly"
       },
       "data": [
        {
         "hoverinfo": "none",
         "line": {
          "color": "rgb(210,210,210)",
          "width": 1
         },
         "mode": "lines",
         "type": "scatter",
         "x": [
          0,
          -2,
          null,
          0,
          2,
          null,
          -2,
          -3,
          null,
          -2,
          -1,
          null,
          2,
          1,
          null,
          2,
          3,
          null,
          -1,
          -1.5,
          null,
          -1,
          -0.5,
          null,
          3,
          2.5,
          null,
          3,
          3.5,
          null
         ],
         "y": [
          6,
          5,
          null,
          6,
          5,
          null,
          5,
          4,
          null,
          5,
          4,
          null,
          5,
          4,
          null,
          5,
          4,
          null,
          4,
          3,
          null,
          4,
          3,
          null,
          4,
          3,
          null,
          4,
          3,
          null
         ]
        },
        {
         "hoverinfo": "text",
         "marker": {
          "color": "#6175c1",
          "line": {
           "color": "rgb(50,50,50)",
           "width": 1
          },
          "size": 18,
          "symbol": "circle-dot"
         },
         "mode": "markers",
         "name": "Nodes",
         "opacity": 0.8,
         "text": [
          "n10, None, Bin Value: 66.78, between_variance : 40133.44, Samples : 9",
          "n15, None, Bin Value: 133.93, between_variance : 269072.07, Samples : 15",
          "n1, CompPrice>127.5, Bin Value: 115.78, between_variance : 3753078.18, Samples : 280",
          "n2, Sales>7.55, Bin Value: 106.73, between_variance : 1845333.95, Samples : 162",
          "n4, Age>53.5, Bin Value: 115.71, between_variance : 1191559.6, Samples : 89",
          "n5, CompPrice>99.0, Bin Value: 95.78, between_variance : 669699.51, Samples : 73",
          "n11, Sales>10.629999999999999, Bin Value: 99.86, between_variance : 638201.27, Samples : 64",
          "n3, Sales>7.555, Bin Value: 128.19, between_variance : 1939204.48, Samples : 118",
          "n6, CompPrice>135.5, Bin Value: 139.71, between_variance : 1132044.98, Samples : 58",
          "n7, CompPrice>146.5, Bin Value: 117.07, between_variance : 822276.27, Samples : 60",
          "n14, Sales>11.879999999999999, Bin Value: 111.44, between_variance : 558893.89, Samples : 45"
         ],
         "type": "scatter",
         "x": [
          -1.5,
          3.5,
          0,
          -2,
          -3,
          -1,
          -0.5,
          2,
          1,
          3,
          2.5
         ],
         "y": [
          3,
          3,
          6,
          5,
          4,
          4,
          3,
          5,
          4,
          4,
          3
         ]
        }
       ],
       "layout": {
        "template": {
         "data": {
          "bar": [
           {
            "error_x": {
             "color": "#2a3f5f"
            },
            "error_y": {
             "color": "#2a3f5f"
            },
            "marker": {
             "line": {
              "color": "#E5ECF6",
              "width": 0.5
             },
             "pattern": {
              "fillmode": "overlay",
              "size": 10,
              "solidity": 0.2
             }
            },
            "type": "bar"
           }
          ],
          "barpolar": [
           {
            "marker": {
             "line": {
              "color": "#E5ECF6",
              "width": 0.5
             },
             "pattern": {
              "fillmode": "overlay",
              "size": 10,
              "solidity": 0.2
             }
            },
            "type": "barpolar"
           }
          ],
          "carpet": [
           {
            "aaxis": {
             "endlinecolor": "#2a3f5f",
             "gridcolor": "white",
             "linecolor": "white",
             "minorgridcolor": "white",
             "startlinecolor": "#2a3f5f"
            },
            "baxis": {
             "endlinecolor": "#2a3f5f",
             "gridcolor": "white",
             "linecolor": "white",
             "minorgridcolor": "white",
             "startlinecolor": "#2a3f5f"
            },
            "type": "carpet"
           }
          ],
          "choropleth": [
           {
            "colorbar": {
             "outlinewidth": 0,
             "ticks": ""
            },
            "type": "choropleth"
           }
          ],
          "contour": [
           {
            "colorbar": {
             "outlinewidth": 0,
             "ticks": ""
            },
            "colorscale": [
             [
              0,
              "#0d0887"
             ],
             [
              0.1111111111111111,
              "#46039f"
             ],
             [
              0.2222222222222222,
              "#7201a8"
             ],
             [
              0.3333333333333333,
              "#9c179e"
             ],
             [
              0.4444444444444444,
              "#bd3786"
             ],
             [
              0.5555555555555556,
              "#d8576b"
             ],
             [
              0.6666666666666666,
              "#ed7953"
             ],
             [
              0.7777777777777778,
              "#fb9f3a"
             ],
             [
              0.8888888888888888,
              "#fdca26"
             ],
             [
              1,
              "#f0f921"
             ]
            ],
            "type": "contour"
           }
          ],
          "contourcarpet": [
           {
            "colorbar": {
             "outlinewidth": 0,
             "ticks": ""
            },
            "type": "contourcarpet"
           }
          ],
          "heatmap": [
           {
            "colorbar": {
             "outlinewidth": 0,
             "ticks": ""
            },
            "colorscale": [
             [
              0,
              "#0d0887"
             ],
             [
              0.1111111111111111,
              "#46039f"
             ],
             [
              0.2222222222222222,
              "#7201a8"
             ],
             [
              0.3333333333333333,
              "#9c179e"
             ],
             [
              0.4444444444444444,
              "#bd3786"
             ],
             [
              0.5555555555555556,
              "#d8576b"
             ],
             [
              0.6666666666666666,
              "#ed7953"
             ],
             [
              0.7777777777777778,
              "#fb9f3a"
             ],
             [
              0.8888888888888888,
              "#fdca26"
             ],
             [
              1,
              "#f0f921"
             ]
            ],
            "type": "heatmap"
           }
          ],
          "heatmapgl": [
           {
            "colorbar": {
             "outlinewidth": 0,
             "ticks": ""
            },
            "colorscale": [
             [
              0,
              "#0d0887"
             ],
             [
              0.1111111111111111,
              "#46039f"
             ],
             [
              0.2222222222222222,
              "#7201a8"
             ],
             [
              0.3333333333333333,
              "#9c179e"
             ],
             [
              0.4444444444444444,
              "#bd3786"
             ],
             [
              0.5555555555555556,
              "#d8576b"
             ],
             [
              0.6666666666666666,
              "#ed7953"
             ],
             [
              0.7777777777777778,
              "#fb9f3a"
             ],
             [
              0.8888888888888888,
              "#fdca26"
             ],
             [
              1,
              "#f0f921"
             ]
            ],
            "type": "heatmapgl"
           }
          ],
          "histogram": [
           {
            "marker": {
             "pattern": {
              "fillmode": "overlay",
              "size": 10,
              "solidity": 0.2
             }
            },
            "type": "histogram"
           }
          ],
          "histogram2d": [
           {
            "colorbar": {
             "outlinewidth": 0,
             "ticks": ""
            },
            "colorscale": [
             [
              0,
              "#0d0887"
             ],
             [
              0.1111111111111111,
              "#46039f"
             ],
             [
              0.2222222222222222,
              "#7201a8"
             ],
             [
              0.3333333333333333,
              "#9c179e"
             ],
             [
              0.4444444444444444,
              "#bd3786"
             ],
             [
              0.5555555555555556,
              "#d8576b"
             ],
             [
              0.6666666666666666,
              "#ed7953"
             ],
             [
              0.7777777777777778,
              "#fb9f3a"
             ],
             [
              0.8888888888888888,
              "#fdca26"
             ],
             [
              1,
              "#f0f921"
             ]
            ],
            "type": "histogram2d"
           }
          ],
          "histogram2dcontour": [
           {
            "colorbar": {
             "outlinewidth": 0,
             "ticks": ""
            },
            "colorscale": [
             [
              0,
              "#0d0887"
             ],
             [
              0.1111111111111111,
              "#46039f"
             ],
             [
              0.2222222222222222,
              "#7201a8"
             ],
             [
              0.3333333333333333,
              "#9c179e"
             ],
             [
              0.4444444444444444,
              "#bd3786"
             ],
             [
              0.5555555555555556,
              "#d8576b"
             ],
             [
              0.6666666666666666,
              "#ed7953"
             ],
             [
              0.7777777777777778,
              "#fb9f3a"
             ],
             [
              0.8888888888888888,
              "#fdca26"
             ],
             [
              1,
              "#f0f921"
             ]
            ],
            "type": "histogram2dcontour"
           }
          ],
          "mesh3d": [
           {
            "colorbar": {
             "outlinewidth": 0,
             "ticks": ""
            },
            "type": "mesh3d"
           }
          ],
          "parcoords": [
           {
            "line": {
             "colorbar": {
              "outlinewidth": 0,
              "ticks": ""
             }
            },
            "type": "parcoords"
           }
          ],
          "pie": [
           {
            "automargin": true,
            "type": "pie"
           }
          ],
          "scatter": [
           {
            "fillpattern": {
             "fillmode": "overlay",
             "size": 10,
             "solidity": 0.2
            },
            "type": "scatter"
           }
          ],
          "scatter3d": [
           {
            "line": {
             "colorbar": {
              "outlinewidth": 0,
              "ticks": ""
             }
            },
            "marker": {
             "colorbar": {
              "outlinewidth": 0,
              "ticks": ""
             }
            },
            "type": "scatter3d"
           }
          ],
          "scattercarpet": [
           {
            "marker": {
             "colorbar": {
              "outlinewidth": 0,
              "ticks": ""
             }
            },
            "type": "scattercarpet"
           }
          ],
          "scattergeo": [
           {
            "marker": {
             "colorbar": {
              "outlinewidth": 0,
              "ticks": ""
             }
            },
            "type": "scattergeo"
           }
          ],
          "scattergl": [
           {
            "marker": {
             "colorbar": {
              "outlinewidth": 0,
              "ticks": ""
             }
            },
            "type": "scattergl"
           }
          ],
          "scattermapbox": [
           {
            "marker": {
             "colorbar": {
              "outlinewidth": 0,
              "ticks": ""
             }
            },
            "type": "scattermapbox"
           }
          ],
          "scatterpolar": [
           {
            "marker": {
             "colorbar": {
              "outlinewidth": 0,
              "ticks": ""
             }
            },
            "type": "scatterpolar"
           }
          ],
          "scatterpolargl": [
           {
            "marker": {
             "colorbar": {
              "outlinewidth": 0,
              "ticks": ""
             }
            },
            "type": "scatterpolargl"
           }
          ],
          "scatterternary": [
           {
            "marker": {
             "colorbar": {
              "outlinewidth": 0,
              "ticks": ""
             }
            },
            "type": "scatterternary"
           }
          ],
          "surface": [
           {
            "colorbar": {
             "outlinewidth": 0,
             "ticks": ""
            },
            "colorscale": [
             [
              0,
              "#0d0887"
             ],
             [
              0.1111111111111111,
              "#46039f"
             ],
             [
              0.2222222222222222,
              "#7201a8"
             ],
             [
              0.3333333333333333,
              "#9c179e"
             ],
             [
              0.4444444444444444,
              "#bd3786"
             ],
             [
              0.5555555555555556,
              "#d8576b"
             ],
             [
              0.6666666666666666,
              "#ed7953"
             ],
             [
              0.7777777777777778,
              "#fb9f3a"
             ],
             [
              0.8888888888888888,
              "#fdca26"
             ],
             [
              1,
              "#f0f921"
             ]
            ],
            "type": "surface"
           }
          ],
          "table": [
           {
            "cells": {
             "fill": {
              "color": "#EBF0F8"
             },
             "line": {
              "color": "white"
             }
            },
            "header": {
             "fill": {
              "color": "#C8D4E3"
             },
             "line": {
              "color": "white"
             }
            },
            "type": "table"
           }
          ]
         },
         "layout": {
          "annotationdefaults": {
           "arrowcolor": "#2a3f5f",
           "arrowhead": 0,
           "arrowwidth": 1
          },
          "autotypenumbers": "strict",
          "coloraxis": {
           "colorbar": {
            "outlinewidth": 0,
            "ticks": ""
           }
          },
          "colorscale": {
           "diverging": [
            [
             0,
             "#8e0152"
            ],
            [
             0.1,
             "#c51b7d"
            ],
            [
             0.2,
             "#de77ae"
            ],
            [
             0.3,
             "#f1b6da"
            ],
            [
             0.4,
             "#fde0ef"
            ],
            [
             0.5,
             "#f7f7f7"
            ],
            [
             0.6,
             "#e6f5d0"
            ],
            [
             0.7,
             "#b8e186"
            ],
            [
             0.8,
             "#7fbc41"
            ],
            [
             0.9,
             "#4d9221"
            ],
            [
             1,
             "#276419"
            ]
           ],
           "sequential": [
            [
             0,
             "#0d0887"
            ],
            [
             0.1111111111111111,
             "#46039f"
            ],
            [
             0.2222222222222222,
             "#7201a8"
            ],
            [
             0.3333333333333333,
             "#9c179e"
            ],
            [
             0.4444444444444444,
             "#bd3786"
            ],
            [
             0.5555555555555556,
             "#d8576b"
            ],
            [
             0.6666666666666666,
             "#ed7953"
            ],
            [
             0.7777777777777778,
             "#fb9f3a"
            ],
            [
             0.8888888888888888,
             "#fdca26"
            ],
            [
             1,
             "#f0f921"
            ]
           ],
           "sequentialminus": [
            [
             0,
             "#0d0887"
            ],
            [
             0.1111111111111111,
             "#46039f"
            ],
            [
             0.2222222222222222,
             "#7201a8"
            ],
            [
             0.3333333333333333,
             "#9c179e"
            ],
            [
             0.4444444444444444,
             "#bd3786"
            ],
            [
             0.5555555555555556,
             "#d8576b"
            ],
            [
             0.6666666666666666,
             "#ed7953"
            ],
            [
             0.7777777777777778,
             "#fb9f3a"
            ],
            [
             0.8888888888888888,
             "#fdca26"
            ],
            [
             1,
             "#f0f921"
            ]
           ]
          },
          "colorway": [
           "#636efa",
           "#EF553B",
           "#00cc96",
           "#ab63fa",
           "#FFA15A",
           "#19d3f3",
           "#FF6692",
           "#B6E880",
           "#FF97FF",
           "#FECB52"
          ],
          "font": {
           "color": "#2a3f5f"
          },
          "geo": {
           "bgcolor": "white",
           "lakecolor": "white",
           "landcolor": "#E5ECF6",
           "showlakes": true,
           "showland": true,
           "subunitcolor": "white"
          },
          "hoverlabel": {
           "align": "left"
          },
          "hovermode": "closest",
          "mapbox": {
           "style": "light"
          },
          "paper_bgcolor": "white",
          "plot_bgcolor": "#E5ECF6",
          "polar": {
           "angularaxis": {
            "gridcolor": "white",
            "linecolor": "white",
            "ticks": ""
           },
           "bgcolor": "#E5ECF6",
           "radialaxis": {
            "gridcolor": "white",
            "linecolor": "white",
            "ticks": ""
           }
          },
          "scene": {
           "xaxis": {
            "backgroundcolor": "#E5ECF6",
            "gridcolor": "white",
            "gridwidth": 2,
            "linecolor": "white",
            "showbackground": true,
            "ticks": "",
            "zerolinecolor": "white"
           },
           "yaxis": {
            "backgroundcolor": "#E5ECF6",
            "gridcolor": "white",
            "gridwidth": 2,
            "linecolor": "white",
            "showbackground": true,
            "ticks": "",
            "zerolinecolor": "white"
           },
           "zaxis": {
            "backgroundcolor": "#E5ECF6",
            "gridcolor": "white",
            "gridwidth": 2,
            "linecolor": "white",
            "showbackground": true,
            "ticks": "",
            "zerolinecolor": "white"
           }
          },
          "shapedefaults": {
           "line": {
            "color": "#2a3f5f"
           }
          },
          "ternary": {
           "aaxis": {
            "gridcolor": "white",
            "linecolor": "white",
            "ticks": ""
           },
           "baxis": {
            "gridcolor": "white",
            "linecolor": "white",
            "ticks": ""
           },
           "bgcolor": "#E5ECF6",
           "caxis": {
            "gridcolor": "white",
            "linecolor": "white",
            "ticks": ""
           }
          },
          "title": {
           "x": 0.05
          },
          "xaxis": {
           "automargin": true,
           "gridcolor": "white",
           "linecolor": "white",
           "ticks": "",
           "title": {
            "standoff": 15
           },
           "zerolinecolor": "white",
           "zerolinewidth": 2
          },
          "yaxis": {
           "automargin": true,
           "gridcolor": "white",
           "linecolor": "white",
           "ticks": "",
           "title": {
            "standoff": 15
           },
           "zerolinecolor": "white",
           "zerolinewidth": 2
          }
         }
        },
        "title": {
         "text": "CART_tree_pruned"
        }
       }
      }
     },
     "metadata": {},
     "output_type": "display_data"
    },
    {
     "data": {
      "text/html": [
       "<div>\n",
       "<style scoped>\n",
       "    .dataframe tbody tr th:only-of-type {\n",
       "        vertical-align: middle;\n",
       "    }\n",
       "\n",
       "    .dataframe tbody tr th {\n",
       "        vertical-align: top;\n",
       "    }\n",
       "\n",
       "    .dataframe thead th {\n",
       "        text-align: right;\n",
       "    }\n",
       "</style>\n",
       "<table border=\"1\" class=\"dataframe\">\n",
       "  <thead>\n",
       "    <tr style=\"text-align: right;\">\n",
       "      <th></th>\n",
       "      <th>Node</th>\n",
       "      <th>Node Type</th>\n",
       "      <th>Variable Split</th>\n",
       "      <th>n</th>\n",
       "      <th>Impurity Value</th>\n",
       "      <th>Deviance</th>\n",
       "      <th>Explained Deviance</th>\n",
       "      <th>Class/Value</th>\n",
       "    </tr>\n",
       "  </thead>\n",
       "  <tbody>\n",
       "    <tr>\n",
       "      <th>0</th>\n",
       "      <td>n1</td>\n",
       "      <td>Parent</td>\n",
       "      <td>CompPrice&gt;127.5</td>\n",
       "      <td>280</td>\n",
       "      <td>3753078.18</td>\n",
       "      <td>155526.82</td>\n",
       "      <td>0.202</td>\n",
       "      <td>115.78</td>\n",
       "    </tr>\n",
       "    <tr>\n",
       "      <th>1</th>\n",
       "      <td>n2</td>\n",
       "      <td>Parent</td>\n",
       "      <td>Sales&gt;7.55</td>\n",
       "      <td>162</td>\n",
       "      <td>1845333.95</td>\n",
       "      <td>75946.05</td>\n",
       "      <td>0.305</td>\n",
       "      <td>106.73</td>\n",
       "    </tr>\n",
       "    <tr>\n",
       "      <th>2</th>\n",
       "      <td>n4</td>\n",
       "      <td>Child</td>\n",
       "      <td>None</td>\n",
       "      <td>89</td>\n",
       "      <td>1191559.6</td>\n",
       "      <td>24566.40</td>\n",
       "      <td>None</td>\n",
       "      <td>115.71</td>\n",
       "    </tr>\n",
       "    <tr>\n",
       "      <th>3</th>\n",
       "      <td>n5</td>\n",
       "      <td>Parent</td>\n",
       "      <td>CompPrice&gt;99.0</td>\n",
       "      <td>73</td>\n",
       "      <td>669699.51</td>\n",
       "      <td>35454.49</td>\n",
       "      <td>0.438</td>\n",
       "      <td>95.78</td>\n",
       "    </tr>\n",
       "    <tr>\n",
       "      <th>4</th>\n",
       "      <td>n10</td>\n",
       "      <td>Child</td>\n",
       "      <td>None</td>\n",
       "      <td>9</td>\n",
       "      <td>40133.44</td>\n",
       "      <td>4103.56</td>\n",
       "      <td>None</td>\n",
       "      <td>66.78</td>\n",
       "    </tr>\n",
       "    <tr>\n",
       "      <th>5</th>\n",
       "      <td>n11</td>\n",
       "      <td>Child</td>\n",
       "      <td>None</td>\n",
       "      <td>64</td>\n",
       "      <td>638201.27</td>\n",
       "      <td>22715.73</td>\n",
       "      <td>None</td>\n",
       "      <td>99.86</td>\n",
       "    </tr>\n",
       "    <tr>\n",
       "      <th>6</th>\n",
       "      <td>n3</td>\n",
       "      <td>Parent</td>\n",
       "      <td>Sales&gt;7.555</td>\n",
       "      <td>118</td>\n",
       "      <td>1939204.48</td>\n",
       "      <td>48120.52</td>\n",
       "      <td>0.611</td>\n",
       "      <td>128.19</td>\n",
       "    </tr>\n",
       "    <tr>\n",
       "      <th>7</th>\n",
       "      <td>n6</td>\n",
       "      <td>Child</td>\n",
       "      <td>None</td>\n",
       "      <td>58</td>\n",
       "      <td>1132044.98</td>\n",
       "      <td>17604.02</td>\n",
       "      <td>None</td>\n",
       "      <td>139.71</td>\n",
       "    </tr>\n",
       "    <tr>\n",
       "      <th>8</th>\n",
       "      <td>n7</td>\n",
       "      <td>Parent</td>\n",
       "      <td>CompPrice&gt;146.5</td>\n",
       "      <td>60</td>\n",
       "      <td>822276.27</td>\n",
       "      <td>15399.73</td>\n",
       "      <td>0.698</td>\n",
       "      <td>117.07</td>\n",
       "    </tr>\n",
       "    <tr>\n",
       "      <th>9</th>\n",
       "      <td>n14</td>\n",
       "      <td>Child</td>\n",
       "      <td>None</td>\n",
       "      <td>45</td>\n",
       "      <td>558893.89</td>\n",
       "      <td>8877.11</td>\n",
       "      <td>None</td>\n",
       "      <td>111.44</td>\n",
       "    </tr>\n",
       "    <tr>\n",
       "      <th>10</th>\n",
       "      <td>n15</td>\n",
       "      <td>Child</td>\n",
       "      <td>None</td>\n",
       "      <td>15</td>\n",
       "      <td>269072.07</td>\n",
       "      <td>832.93</td>\n",
       "      <td>None</td>\n",
       "      <td>133.93</td>\n",
       "    </tr>\n",
       "  </tbody>\n",
       "</table>\n",
       "</div>"
      ],
      "text/plain": [
       "   Node Node Type   Variable Split    n Impurity Value   Deviance   \n",
       "0    n1    Parent  CompPrice>127.5  280     3753078.18  155526.82  \\\n",
       "1    n2    Parent       Sales>7.55  162     1845333.95   75946.05   \n",
       "2    n4     Child             None   89      1191559.6   24566.40   \n",
       "3    n5    Parent   CompPrice>99.0   73      669699.51   35454.49   \n",
       "4   n10     Child             None    9       40133.44    4103.56   \n",
       "5   n11     Child             None   64      638201.27   22715.73   \n",
       "6    n3    Parent      Sales>7.555  118     1939204.48   48120.52   \n",
       "7    n6     Child             None   58     1132044.98   17604.02   \n",
       "8    n7    Parent  CompPrice>146.5   60      822276.27   15399.73   \n",
       "9   n14     Child             None   45      558893.89    8877.11   \n",
       "10  n15     Child             None   15      269072.07     832.93   \n",
       "\n",
       "   Explained Deviance Class/Value  \n",
       "0               0.202      115.78  \n",
       "1               0.305      106.73  \n",
       "2                None      115.71  \n",
       "3               0.438       95.78  \n",
       "4                None       66.78  \n",
       "5                None       99.86  \n",
       "6               0.611      128.19  \n",
       "7                None      139.71  \n",
       "8               0.698      117.07  \n",
       "9                None      111.44  \n",
       "10               None      133.93  "
      ]
     },
     "execution_count": 23,
     "metadata": {},
     "output_type": "execute_result"
    }
   ],
   "source": [
    "alpha, pruned_table = cart.pruning(features_test, n_features_test, y_test, table = True)\n",
    "pruned_table#.style#.hide_index()"
   ]
  },
  {
   "cell_type": "code",
   "execution_count": 24,
   "metadata": {},
   "outputs": [
    {
     "name": "stdout",
     "output_type": "stream",
     "text": [
      "13 25\n"
     ]
    }
   ],
   "source": [
    "print(len(cart.get_leaf()), len(cart.get_all_node()))"
   ]
  },
  {
   "cell_type": "code",
   "execution_count": null,
   "metadata": {},
   "outputs": [],
   "source": [
    "cart.deviance_cat2"
   ]
  },
  {
   "cell_type": "code",
   "execution_count": null,
   "metadata": {},
   "outputs": [],
   "source": []
  },
  {
   "cell_type": "code",
   "execution_count": 25,
   "metadata": {},
   "outputs": [
    {
     "data": {
      "text/plain": [
       "([<CARTplus.MyNodeClass at 0x1c48f4fda90>,\n",
       "  <CARTplus.MyNodeClass at 0x1c492e41010>,\n",
       "  <CARTplus.MyNodeClass at 0x1c492e42ed0>,\n",
       "  <CARTplus.MyNodeClass at 0x1c492e43450>,\n",
       "  <CARTplus.MyNodeClass at 0x1c48f471fd0>,\n",
       "  <CARTplus.MyNodeClass at 0x1c48fb7b1d0>,\n",
       "  <CARTplus.MyNodeClass at 0x1c492e06f50>,\n",
       "  <CARTplus.MyNodeClass at 0x1c48fbf3790>,\n",
       "  <CARTplus.MyNodeClass at 0x1c48fc37cd0>],\n",
       " [<CARTplus.MyNodeClass at 0x1c48f4fda90>,\n",
       "  <CARTplus.MyNodeClass at 0x1c48fb7b1d0>,\n",
       "  <CARTplus.MyNodeClass at 0x1c492e43450>,\n",
       "  <CARTplus.MyNodeClass at 0x1c48fbf3790>,\n",
       "  <CARTplus.MyNodeClass at 0x1c48fc37cd0>])"
      ]
     },
     "execution_count": 25,
     "metadata": {},
     "output_type": "execute_result"
    }
   ],
   "source": [
    "cart.cut_tree(5)"
   ]
  },
  {
   "cell_type": "code",
   "execution_count": 26,
   "metadata": {},
   "outputs": [
    {
     "name": "stdout",
     "output_type": "stream",
     "text": [
      "('Alpha = 0', 'value soglia = None', 'deviance = 191.77460919784585', 'leaves = 13')\n",
      "('Alpha = 2067.2222222222235', \"value soglia = ['Sales', 11.879999999999999, 3]\", 'deviance = 199.15754570578238', 'leaves = 12')\n",
      "('Alpha = 2092.2812980030776', \"value soglia = ['Sales', 2.755, 3]\", 'deviance = 206.6299789129364', 'leaves = 11')\n",
      "('Alpha = 2323.492266992266', \"value soglia = ['Income', 67.0, 3]\", 'deviance = 214.9281655807659', 'leaves = 10')\n",
      "('Alpha = 4167.344350961538', \"value soglia = ['Sales', 10.629999999999999, 3]\", 'deviance = 244.69491094477667', 'leaves = 8')\n",
      "('Alpha = 4686.178090558838', \"value soglia = ['Age', 53.5, 2]\", 'deviance = 261.431261268201', 'leaves = 7')\n",
      "('Alpha = 5499.0029556650225', \"value soglia = ['CompPrice', 135.5, 2]\", 'deviance = 281.0705575384331', 'leaves = 6')\n",
      "('Alpha = 5689.688888888888', \"value soglia = ['CompPrice', 146.5, 2]\", 'deviance = 301.3908749987506', 'leaves = 5')\n",
      "('Alpha = 8635.203220129362', \"value soglia = ['CompPrice', 99.0, 2]\", 'deviance = 332.23088649921306', 'leaves = 4')\n",
      "('Alpha = 15116.766374439903', \"value soglia = ['Sales', 7.555, 1]\", 'deviance = 386.21933783649797', 'leaves = 3')\n",
      "('Alpha = 15925.151737649147', \"value soglia = ['Sales', 7.55, 1]\", 'deviance = 443.0948797566736', 'leaves = 2')\n"
     ]
    }
   ],
   "source": [
    "cart.print_alpha(alpha)\n"
   ]
  },
  {
   "cell_type": "code",
   "execution_count": 27,
   "metadata": {},
   "outputs": [],
   "source": [
    "#all_node = cart.get_all_node()\n",
    "#leaf = cart.get_leaf()\n",
    "#      \n",
    "#leaf_list =[]\n",
    "#leaf_dict ={}\n",
    "#for node in leaf:                           #creates a list of the node numbers and a dictionary connecting nodes with their node numbers\n",
    "#    leaf_list.append(int(node.name[1:]))\n",
    "#    leaf_dict[node] = int(node.name[1:])\n",
    "#father_list =[]\n",
    "#father_dict = {}\n",
    "#for node in all_node:\n",
    "#    father_list.append(int(node.name[1:]))\n",
    "#    father_dict[node] = int(node.name[1:])\n",
    "#\n",
    "#parent_child =[]                            #list for having child with their parent, for use in dictionary below\n",
    "#for node in all_node:\n",
    "#    if (int(node.name[1:]) *2) in father_list:\n",
    "#    \n",
    "#        parent_child.append([int(node.name[1:]), int(node.name[1:])*2])\n",
    "#    if (int(node.name[1:])*2+1) in father_list:\n",
    "#    \n",
    "#        parent_child.append([int(node.name[1:]), int(node.name[1:])*2+1])  \n",
    "#parent_children = {}                        #dictionary for parents with children, only numbers\n",
    "#for parent, child in parent_child: \n",
    "#    if parent in parent_children:\n",
    "#        parent_children[parent].append(child)\n",
    "#    else:\n",
    "#        parent_children[parent] = [child]\n",
    "#\n",
    "##igraph Graph\n",
    "#        \n",
    "#nr_vertices = max(father_list)                            # make too many to allow for missing nodes\n",
    "#v_label = list(map(str, father_list) )                      # create node labels \n",
    "#G = Graph.Tree(nr_vertices, 2)                              # 2 stands for children number\n",
    "#lay = G.layout_reingold_tilford(root=[0])\n",
    "#position = {k: lay[k-1] for k in father_list}               # assigning nodes to positions , using reigngold layou\n",
    "#"
   ]
  },
  {
   "cell_type": "code",
   "execution_count": 28,
   "metadata": {},
   "outputs": [],
   "source": [
    "#node_prop_dict = {}\n",
    "#for i in range(len(father_list)):\n",
    "#    if get_key(father_dict, father_list[i]).node_prop:\n",
    "#        node_prop_dict[father_list[i]] = get_key(father_dict, father_list[i]).node_prop"
   ]
  },
  {
   "cell_type": "code",
   "execution_count": 29,
   "metadata": {},
   "outputs": [],
   "source": [
    "#node_prop_gain = {}\n",
    "#node_prop_gain[1] = node_prop_dict[1]\n",
    "#for i in range(len(node_prop_dict)):\n",
    "#    if i!= 0:\n",
    "#        node_prop_gain[list(node_prop_dict.keys())[i]] = node_prop_dict[list(node_prop_dict.keys())[i]] - node_prop_dict[list(node_prop_dict.keys())[i-1]]"
   ]
  },
  {
   "cell_type": "code",
   "execution_count": 30,
   "metadata": {},
   "outputs": [],
   "source": [
    "#nr_vertices = max(father_list)                            # make too many to allow for missing nodes\n",
    "#v_label = list(map(str, father_list) )                      # create node labels \n",
    "#G = Graph.Tree(nr_vertices, 2)                              # 2 stands for children number\n",
    "#lay = G.layout_reingold_tilford(root=[0])\n",
    "#position = {k: lay[k-1] for k in father_list}               # assigning nodes to positions , using reigngold layou\n",
    "#\n",
    "#new_dict = cart.identify_subtrees(cart.get_all_node(), cart.get_leaf())\n",
    "#    \n",
    "#for i in sorted(position.keys()):\n",
    "#    if i*2 in position: #left nodes\n",
    "#        diff = position[i*2][1] - position[i*2][1]*node_prop_gain[i] #calculates change in position for correction in downward nodes\n",
    "#        position[i*2] = [position[i*2][0], position[i*2][1]*node_prop_gain[i]] #manipulates the y coordinate based on the proportion gain\n",
    "#        \n",
    "#        #this is to correct for all downward nodes \n",
    "#        unique_nodes = []\n",
    "#        for fathers in new_dict:\n",
    "#            if i*2 == int(fathers.name[1:]):\n",
    "#                for nestedlist in new_dict[fathers]:\n",
    "#                    for childs in nestedlist:\n",
    "#                        if childs.name not in unique_nodes:\n",
    "#                            unique_nodes.append(childs.name)\n",
    "#                            position[int(childs.name[1:])] = [position[int(childs.name[1:])][0], position[int(childs.name[1:])][1] - diff]\n",
    "#\n",
    "#\n",
    "#    if i*2+1 in position:  #right nodes\n",
    "#        position[i*2+1] = [position[i*2+1][0], position[i*2+1][1]*node_prop_gain[i]]\n",
    "#        \n",
    "#        #this is to correct for all downward nodes\n",
    "#        unique_nodes = []\n",
    "#        for fathers in new_dict:\n",
    "#            if i*2+1 == int(fathers.name[1:]):\n",
    "#                for nestedlist in new_dict[fathers]:\n",
    "#                    for childs in nestedlist:\n",
    "#                        if childs.name not in unique_nodes:\n",
    "#                            unique_nodes.append(childs.name)\n",
    "#                            position[int(childs.name[1:])] = [position[int(childs.name[1:])][0], position[int(childs.name[1:])][1] - diff]\n",
    "#\n",
    "#position[1] = [0 , 2*position[2][1]]\n",
    "#"
   ]
  },
  {
   "cell_type": "code",
   "execution_count": 31,
   "metadata": {},
   "outputs": [],
   "source": [
    "#Y = [lay[k][1] for k in range(len(father_list))] # levels of the tree\n",
    "#M = max(Y)\n",
    "#es = EdgeSeq(G)                                             # sequence of edges\n",
    "#E = [e.tuple for e in G.es] # list of edges, connects nodes\n",
    "##L = len(position)\n",
    "#Xn = [position[k][0] for k in father_list]\n",
    "#Yn = [position[k][1] for k in father_list]\n",
    "#a = 0\n",
    "#while a<20:                                                 # When the value is removed it skips to the next index value, jumping, a<10 is just overkill, increased to 20, for really narrow branches\n",
    "#    for edge in E:   #this is meant to catch the mismateched E's \n",
    "#        if edge[0] +1 not in position or edge[1]+1 not in position:\n",
    "#            E.remove(edge) \n",
    "#    a+=1\n",
    "#Xe = []\n",
    "#Ye = []\n",
    "#\n",
    "#for edge in E: \n",
    "#    Xe+=[position[edge[0]+1][0],position[edge[1]+1][0], None]                   # edited for +1 poisiotn as the expected 0 root node it 1 in our dictionary, if index error, increase a \n",
    "#    Ye+=[position[edge[0]+1][1],position[edge[1]+1][1], None]         \n",
    "#"
   ]
  },
  {
   "cell_type": "code",
   "execution_count": 32,
   "metadata": {},
   "outputs": [],
   "source": [
    "#upward facing tree\n",
    "#pos = Ye[1]*2\n",
    "#Ye[0] = pos\n",
    "#Ye[3] = pos\n",
    "#Yn[24]  =pos"
   ]
  },
  {
   "cell_type": "code",
   "execution_count": 33,
   "metadata": {},
   "outputs": [],
   "source": [
    "#for label in range(len(v_label)):\n",
    "#    for node in all_node:\n",
    "#        if v_label[label] == node.name[1:]:\n",
    "#            if int(v_label[label]) in leaf_list:\n",
    "#                if cart.problem == \"classifier\":        #For classifier problem\n",
    "#                    response_dict ={}\n",
    "#                    for response in cart.y[node.indexes]:        #determing majority in terminal nodes\n",
    "#                        \n",
    "#                        if response in response_dict:\n",
    "#                            response_dict[response] +=1\n",
    "#                        else:\n",
    "#                            response_dict[response] =1\n",
    "#                    \n",
    "#                    if cart.method == \"LATENT-BUDGET-TREE\" or cart.twoing: #multiclass methods\n",
    "#                        total_node_obs = sum(response_dict.values())\n",
    "#                        for key in response_dict:\n",
    "#                            response_dict[key] = round(response_dict[key] / total_node_obs,2)\n",
    "#                        class_node = response_dict\n",
    "#                        myKeys = list(class_node.keys())\n",
    "#                        myKeys.sort()\n",
    "#                        class_node = {i: class_node[i] for i in myKeys}\n",
    "#                    else:\n",
    "#                        class_node = max(response_dict, key = response_dict.get)\n",
    "#                    \n",
    "#                    if cart.impurity_fn == \"gini\":\n",
    "#                        v_label[label] = f\"{node.name}, Class: {class_node}, {cart.impurity_fn} : {round(cart.impur(node, display = True),2)}, Samples : {len(node.indexes)}\" \n",
    "#                    elif cart.impurity_fn == \"tau\":\n",
    "#                        v_label[label] = f\"{node.name}, Class: {class_node}, {cart.impurity_fn} : None, Samples : {len(node.indexes)}\" \n",
    "#                    else:\n",
    "#                        v_label[label] = f\"{node.name}, Class: {class_node}, {cart.impurity_fn} : {round(cart.impur(node),2)}, Samples : {len(node.indexes)}\"\n",
    "#                else:\n",
    "#                    mean_y = mean(cart.y[node.indexes])\n",
    "#                    v_label[label]=  f\"{node.name}, {node.split}, Bin Value: {round(mean_y,2)}, {cart.impurity_fn} : {round(cart.impur(node),2)}, Samples : {len(node.indexes)}\"\n",
    "#            \n",
    "#            #label for non leaves\n",
    "#            else:\n",
    "#                if cart.problem == \"classifier\":\n",
    "#                    response_dict ={}\n",
    "#                    for response in cart.y[node.indexes]:        #determing majority in terminal nodes\n",
    "#                        if response in response_dict:\n",
    "#                            response_dict[response] +=1\n",
    "#                        else:\n",
    "#                            response_dict[response] =1\n",
    "#                    \n",
    "#                    if cart.method == \"LATENT-BUDGET-TREE\" or cart.twoing: #multiclass methods\n",
    "#                        total_node_obs = sum(response_dict.values())\n",
    "#                        for key in response_dict:\n",
    "#                            response_dict[key] = round(response_dict[key] / total_node_obs,2)\n",
    "#                        class_node = response_dict\n",
    "#                        myKeys = list(class_node.keys())\n",
    "#                        myKeys.sort()\n",
    "#                        class_node = {i: class_node[i] for i in myKeys}\n",
    "#                    else:\n",
    "#                        class_node = max(response_dict, key = response_dict.get)\n",
    "#                    if cart.impurity_fn == \"gini\":\n",
    "#                        v_label[label] = f\"{node.name}, {node.split}, Class:{class_node}, {cart.impurity_fn} : {round(cart.impur(node, display = True),2)}, Samples: {len(node.indexes)}\"\n",
    "#                    elif cart.impurity_fn == \"tau\":\n",
    "#                        v_label[label] = f\"{node.name}, {node.split}, Class:{class_node}, {cart.impurity_fn} : {round(node.value_soglia_split[0][2],2)}, Samples: {len(node.indexes)}\" \n",
    "#                    else:\n",
    "#                        v_label[label] = f\"{node.name}, {node.split}, Class:{class_node}, {cart.impurity_fn} : {round(cart.impur(node),2)}, Samples: {len(node.indexes)}\"\n",
    "#                else:\n",
    "#                    mean_y = mean(cart.y[node.indexes])\n",
    "#                    v_label[label]=  f\"{node.name}, {node.split}, Bin Value: {round(mean_y,2)}, {cart.impurity_fn} : {round(cart.impur(node),2)}, Samples : {len(node.indexes)}\"\n",
    "#labels = v_label\n",
    "## Drawing using plotly library\n",
    "#fig = go.Figure()\n",
    "#fig.add_trace(go.Scatter(x=Xe,\n",
    "#                y=Ye,\n",
    "#                mode='lines',\n",
    "#                line=dict(color='rgb(210,210,210)', width=1),\n",
    "#                hoverinfo='none'\n",
    "#                ))\n",
    "#fig.add_trace(go.Scatter(x=Xn,\n",
    "#                y=Yn,\n",
    "#                mode='markers',\n",
    "#                name='Nodes',\n",
    "#                marker=dict(symbol='circle-dot',\n",
    "#                                size=18,\n",
    "#                                color='#6175c1',    #'#DB4551',\n",
    "#                                line=dict(color='rgb(50,50,50)', width=1)\n",
    "#                                ),\n",
    "#                text=labels,\n",
    "#                hoverinfo='text',\n",
    "#                opacity=0.8\n",
    "#                ))\n",
    "#filename=\"CART_tree.png\"\n",
    "#fig.update_layout(\n",
    "#    title=filename[:-4],    #chops off \".png\"\n",
    "#    )\n",
    "#fig.show()\n",
    "#"
   ]
  },
  {
   "cell_type": "markdown",
   "metadata": {},
   "source": [
    "full dataset model "
   ]
  },
  {
   "cell_type": "code",
   "execution_count": 34,
   "metadata": {},
   "outputs": [
    {
     "ename": "KeyError",
     "evalue": "('Sales', 'CompPrice', 'Income', 'Advertising', 'Population', 'Age', 'Education')",
     "output_type": "error",
     "traceback": [
      "\u001b[1;31m---------------------------------------------------------------------------\u001b[0m",
      "\u001b[1;31mKeyError\u001b[0m                                  Traceback (most recent call last)",
      "File \u001b[1;32mc:\\Users\\danie\\Documents\\Universita\\Thesis\\Tree_Methods\\Tree_project\\Tree_project\\myvenv2\\Lib\\site-packages\\pandas\\core\\indexes\\base.py:3652\u001b[0m, in \u001b[0;36mIndex.get_loc\u001b[1;34m(self, key)\u001b[0m\n\u001b[0;32m   3651\u001b[0m \u001b[39mtry\u001b[39;00m:\n\u001b[1;32m-> 3652\u001b[0m     \u001b[39mreturn\u001b[39;00m \u001b[39mself\u001b[39;49m\u001b[39m.\u001b[39;49m_engine\u001b[39m.\u001b[39;49mget_loc(casted_key)\n\u001b[0;32m   3653\u001b[0m \u001b[39mexcept\u001b[39;00m \u001b[39mKeyError\u001b[39;00m \u001b[39mas\u001b[39;00m err:\n",
      "File \u001b[1;32mc:\\Users\\danie\\Documents\\Universita\\Thesis\\Tree_Methods\\Tree_project\\Tree_project\\myvenv2\\Lib\\site-packages\\pandas\\_libs\\index.pyx:147\u001b[0m, in \u001b[0;36mpandas._libs.index.IndexEngine.get_loc\u001b[1;34m()\u001b[0m\n",
      "File \u001b[1;32mc:\\Users\\danie\\Documents\\Universita\\Thesis\\Tree_Methods\\Tree_project\\Tree_project\\myvenv2\\Lib\\site-packages\\pandas\\_libs\\index.pyx:176\u001b[0m, in \u001b[0;36mpandas._libs.index.IndexEngine.get_loc\u001b[1;34m()\u001b[0m\n",
      "File \u001b[1;32mpandas\\_libs\\hashtable_class_helper.pxi:7080\u001b[0m, in \u001b[0;36mpandas._libs.hashtable.PyObjectHashTable.get_item\u001b[1;34m()\u001b[0m\n",
      "File \u001b[1;32mpandas\\_libs\\hashtable_class_helper.pxi:7088\u001b[0m, in \u001b[0;36mpandas._libs.hashtable.PyObjectHashTable.get_item\u001b[1;34m()\u001b[0m\n",
      "\u001b[1;31mKeyError\u001b[0m: ('Sales', 'CompPrice', 'Income', 'Advertising', 'Population', 'Age', 'Education')",
      "\nThe above exception was the direct cause of the following exception:\n",
      "\u001b[1;31mKeyError\u001b[0m                                  Traceback (most recent call last)",
      "\u001b[1;32mc:\\Users\\danie\\Documents\\Universita\\Thesis\\Tree_Methods\\Tree_project\\Tree_project\\prova_regression_jupyter_numpy.ipynb Cell 36\u001b[0m line \u001b[0;36m6\n\u001b[0;32m      <a href='vscode-notebook-cell:/c%3A/Users/danie/Documents/Universita/Thesis/Tree_Methods/Tree_project/Tree_project/prova_regression_jupyter_numpy.ipynb#X43sZmlsZQ%3D%3D?line=1'>2</a>\u001b[0m df\u001b[39m=\u001b[39mdf\u001b[39m.\u001b[39miloc[:,\u001b[39m1\u001b[39m:]\n\u001b[0;32m      <a href='vscode-notebook-cell:/c%3A/Users/danie/Documents/Universita/Thesis/Tree_Methods/Tree_project/Tree_project/prova_regression_jupyter_numpy.ipynb#X43sZmlsZQ%3D%3D?line=3'>4</a>\u001b[0m df\u001b[39m.\u001b[39mhead()\n\u001b[1;32m----> <a href='vscode-notebook-cell:/c%3A/Users/danie/Documents/Universita/Thesis/Tree_Methods/Tree_project/Tree_project/prova_regression_jupyter_numpy.ipynb#X43sZmlsZQ%3D%3D?line=5'>6</a>\u001b[0m features \u001b[39m=\u001b[39m df[features_names]\n\u001b[0;32m      <a href='vscode-notebook-cell:/c%3A/Users/danie/Documents/Universita/Thesis/Tree_Methods/Tree_project/Tree_project/prova_regression_jupyter_numpy.ipynb#X43sZmlsZQ%3D%3D?line=6'>7</a>\u001b[0m features\u001b[39m.\u001b[39mhead()\n\u001b[0;32m      <a href='vscode-notebook-cell:/c%3A/Users/danie/Documents/Universita/Thesis/Tree_Methods/Tree_project/Tree_project/prova_regression_jupyter_numpy.ipynb#X43sZmlsZQ%3D%3D?line=8'>9</a>\u001b[0m n_features \u001b[39m=\u001b[39m df[n_features_names]\n",
      "File \u001b[1;32mc:\\Users\\danie\\Documents\\Universita\\Thesis\\Tree_Methods\\Tree_project\\Tree_project\\myvenv2\\Lib\\site-packages\\pandas\\core\\frame.py:3761\u001b[0m, in \u001b[0;36mDataFrame.__getitem__\u001b[1;34m(self, key)\u001b[0m\n\u001b[0;32m   3759\u001b[0m \u001b[39mif\u001b[39;00m \u001b[39mself\u001b[39m\u001b[39m.\u001b[39mcolumns\u001b[39m.\u001b[39mnlevels \u001b[39m>\u001b[39m \u001b[39m1\u001b[39m:\n\u001b[0;32m   3760\u001b[0m     \u001b[39mreturn\u001b[39;00m \u001b[39mself\u001b[39m\u001b[39m.\u001b[39m_getitem_multilevel(key)\n\u001b[1;32m-> 3761\u001b[0m indexer \u001b[39m=\u001b[39m \u001b[39mself\u001b[39;49m\u001b[39m.\u001b[39;49mcolumns\u001b[39m.\u001b[39;49mget_loc(key)\n\u001b[0;32m   3762\u001b[0m \u001b[39mif\u001b[39;00m is_integer(indexer):\n\u001b[0;32m   3763\u001b[0m     indexer \u001b[39m=\u001b[39m [indexer]\n",
      "File \u001b[1;32mc:\\Users\\danie\\Documents\\Universita\\Thesis\\Tree_Methods\\Tree_project\\Tree_project\\myvenv2\\Lib\\site-packages\\pandas\\core\\indexes\\base.py:3654\u001b[0m, in \u001b[0;36mIndex.get_loc\u001b[1;34m(self, key)\u001b[0m\n\u001b[0;32m   3652\u001b[0m     \u001b[39mreturn\u001b[39;00m \u001b[39mself\u001b[39m\u001b[39m.\u001b[39m_engine\u001b[39m.\u001b[39mget_loc(casted_key)\n\u001b[0;32m   3653\u001b[0m \u001b[39mexcept\u001b[39;00m \u001b[39mKeyError\u001b[39;00m \u001b[39mas\u001b[39;00m err:\n\u001b[1;32m-> 3654\u001b[0m     \u001b[39mraise\u001b[39;00m \u001b[39mKeyError\u001b[39;00m(key) \u001b[39mfrom\u001b[39;00m \u001b[39merr\u001b[39;00m\n\u001b[0;32m   3655\u001b[0m \u001b[39mexcept\u001b[39;00m \u001b[39mTypeError\u001b[39;00m:\n\u001b[0;32m   3656\u001b[0m     \u001b[39m# If we have a listlike key, _check_indexing_error will raise\u001b[39;00m\n\u001b[0;32m   3657\u001b[0m     \u001b[39m#  InvalidIndexError. Otherwise we fall through and re-raise\u001b[39;00m\n\u001b[0;32m   3658\u001b[0m     \u001b[39m#  the TypeError.\u001b[39;00m\n\u001b[0;32m   3659\u001b[0m     \u001b[39mself\u001b[39m\u001b[39m.\u001b[39m_check_indexing_error(key)\n",
      "\u001b[1;31mKeyError\u001b[0m: ('Sales', 'CompPrice', 'Income', 'Advertising', 'Population', 'Age', 'Education')"
     ]
    }
   ],
   "source": [
    "df=pd.read_csv('Carseats.csv')\n",
    "df=df.iloc[:,1:]\n",
    "\n",
    "df.head()\n",
    "\n",
    "features = df[features_names]\n",
    "features.head()\n",
    "\n",
    "n_features = df[n_features_names]\n",
    "n_features.head()\n",
    "\n",
    "y = df[\"Price\"]\n",
    "y.head()\n",
    "\n",
    "indici = np.arange(0, len(y))\n"
   ]
  },
  {
   "cell_type": "code",
   "execution_count": null,
   "metadata": {},
   "outputs": [],
   "source": [
    "my_tree = MyNodeClass('n1', indici) \n",
    "\n",
    "cart = CART(y,features,features_names,n_features,n_features_names, impurity_fn = \"between_variance\", problem=\"regression\", method = \"CART\",  min_cases_parent= 10,min_cases_child= 5, max_level = 4)\n",
    "\n",
    "#cart.growing_tree(my_tree)\n"
   ]
  },
  {
   "cell_type": "markdown",
   "metadata": {},
   "source": [
    "need to somehow get only 29 leaves in final tree?\n",
    "can't prune the traditional way as only have training set "
   ]
  },
  {
   "cell_type": "code",
   "execution_count": null,
   "metadata": {},
   "outputs": [],
   "source": [
    "#cart.print_tree(table = True, html = True).style.hide_index() #print both the pruned and non pruned tree \n",
    "\n"
   ]
  }
 ],
 "metadata": {
  "kernelspec": {
   "display_name": "base",
   "language": "python",
   "name": "python3"
  },
  "language_info": {
   "codemirror_mode": {
    "name": "ipython",
    "version": 3
   },
   "file_extension": ".py",
   "mimetype": "text/x-python",
   "name": "python",
   "nbconvert_exporter": "python",
   "pygments_lexer": "ipython3",
   "version": "3.11.0"
  },
  "orig_nbformat": 4
 },
 "nbformat": 4,
 "nbformat_minor": 2
}
