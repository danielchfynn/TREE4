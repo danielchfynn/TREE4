{
 "cells": [
  {
   "cell_type": "code",
   "execution_count": 1,
   "metadata": {},
   "outputs": [],
   "source": [
    "from TREE4.TREE4 import *\n",
    "import pandas as pd\n",
    "import numpy as np\n"
   ]
  },
  {
   "cell_type": "code",
   "execution_count": 2,
   "metadata": {},
   "outputs": [],
   "source": [
    "train = np.genfromtxt(\"Carseats_train.csv\", delimiter=',', names=True, dtype=(float,float,float,float, float, float, object, float, float, object, object))\n",
    "\n",
    "features_names = train.dtype.names\n",
    "\n",
    "n_features = train[[\"ShelveLoc\", \"US\",\"Urban\"]]\n",
    "n_features_names = n_features.dtype.names\n",
    "n_features_names\n",
    "\n",
    "High=[]\n",
    "for i in train['Sales']:\n",
    "    if i < 8:\n",
    "        High.append('NO')\n",
    "    else:\n",
    "        High.append('YES')\n",
    "\n",
    "y = np.array(High)\n",
    "\n",
    "features = train[[\"Price\", \"CompPrice\", \"Income\", \"Advertising\", \"Population\", \"Age\", \"Education\"]]\n",
    "features_names = features.dtype.names\n",
    "\n",
    "\n",
    "indici = np.arange(0, len(y))\n"
   ]
  },
  {
   "cell_type": "code",
   "execution_count": 3,
   "metadata": {},
   "outputs": [],
   "source": [
    "test = np.genfromtxt(\"Carseats_test.csv\", delimiter=',', names=True, dtype=(float,float,float,float, float, float, object, float, float, object, object))\n",
    "\n",
    "\n",
    "n_features_test = test[[\"ShelveLoc\", \"US\",\"Urban\"]]\n",
    "\n",
    "\n",
    "High=[]\n",
    "for i in test['Sales']:\n",
    "    if i < 8:\n",
    "        High.append('NO')\n",
    "    else:\n",
    "        High.append('YES')\n",
    "\n",
    "\n",
    "y_test = np.array(High)\n",
    "\n",
    "features_test = test[[\"Price\", \"CompPrice\", \"Income\", \"Advertising\", \"Population\", \"Age\", \"Education\"]]\n"
   ]
  },
  {
   "cell_type": "code",
   "execution_count": 4,
   "metadata": {},
   "outputs": [],
   "source": [
    "#when definining a funcion please be aware we are using purity gain or information gain or greatest difference between variance, all positive aspects \n",
    "#adding user_defined as a possible impurity_fn and added user_impur to carry that function \n",
    "def user_fn(self, node): #impur just takes node in CART\n",
    "    \n",
    "    return (mean(self.y[node.indexes])**2)*len(self.y[node.indexes])"
   ]
  },
  {
   "cell_type": "markdown",
   "metadata": {},
   "source": [
    "Need to check twoing with more than 2 classes "
   ]
  },
  {
   "cell_type": "code",
   "execution_count": 5,
   "metadata": {},
   "outputs": [
    {
     "name": "stdout",
     "output_type": "stream",
     "text": [
      "Split Found:  n1 [['ShelveLoc', (b'Medium', b'Bad'), 0.15303824308127323, 0]] start <TREE4.TREE4.NodeClass object at 0x000001AD628B90D0> ShelveLoc in (b'Medium', b'Bad')\n",
      "node_proportion_total  0.0732358265806532\n",
      "Split Found:  n2 [['Price', 121.0, 0.1835695169028498, 1]] left <TREE4.TREE4.NodeClass object at 0x000001AD6296E060> Price > 121.0\n",
      "node_proportion_total  0.3472524878081309\n",
      "Node_proportion_gain  0.2740166612274777\n",
      "Split Found:  n4 [['Income', 32.5, 0.16923076923077185, 2]] left <TREE4.TREE4.NodeClass object at 0x000001AD5D5A5640> Income > 32.5\n",
      "node_proportion_total  0.3803668507389402\n",
      "Node_proportion_gain  0.03311436293080933\n",
      "Node Search Split Error for:  n8 with obs in node:  5  which is less than minimum parent size:  10\n",
      "TypeError: Node search split (CART) failure\n",
      "This split isn't good now i cut it [counter] - node class purity\n",
      "TypeError: Node search split (CART) failure\n",
      "Split Found:  n5 [['Income', 36.0, 0.38095238095238076, 2]] right <TREE4.TREE4.NodeClass object at 0x000001AD629C2E70> Income > 36.0\n",
      "node_proportion_total  0.40335169618508204\n",
      "Node_proportion_gain  0.02298484544614182\n",
      "This split isn't good now i cut it [counter] - node class purity\n",
      "TypeError: Node search split (CART) failure\n",
      "Split Found:  n11 [['Education', 15.5, 0.2343750000000005, 3]] right <TREE4.TREE4.NodeClass object at 0x000001AD5F6D2060> Education > 15.5\n",
      "node_proportion_total  0.41694699171886096\n",
      "Node_proportion_gain  0.013595295533778917\n",
      "Split Found:  n22 [['Advertising', 7.0, 0.2571428571428572, 4]] left <TREE4.TREE4.NodeClass object at 0x000001AD5F6F0E90> Advertising > 7.0\n",
      "node_proportion_total  0.4265121445053794\n",
      "Node_proportion_gain  0.009565152786518427\n",
      "This split isn't good now i cut it [cat delta]\n",
      "This split isn't good now i cut it [counter] - node class purity\n",
      "TypeError: Node search split (CART) failure\n",
      "Split Found:  n3 [['Price', 92.5, 0.14406903146839262, 1]] right <TREE4.TREE4.NodeClass object at 0x000001AD62915850> Price > 92.5\n",
      "node_proportion_total  0.4391941532939325\n",
      "Node_proportion_gain  0.012682008788553134\n",
      "Split Found:  n6 [['Age', 64.5, 0.33333333333333304, 2]] left <TREE4.TREE4.NodeClass object at 0x000001AD5F705AF0> Age > 64.5\n",
      "node_proportion_total  0.4452981733670247\n",
      "Node_proportion_gain  0.006104020073092187\n",
      "This split isn't good now i cut it [cat delta]\n",
      "Split Found:  n7 [['Advertising', 8.5, 0.11201481441145453, 2]] right <TREE4.TREE4.NodeClass object at 0x000001AD5F76C0B0> Advertising > 8.5\n",
      "node_proportion_total  0.4513882620446299\n",
      "Node_proportion_gain  0.006090088677605188\n",
      "This split isn't good now i cut it [cat delta]\n"
     ]
    },
    {
     "data": {
      "text/plain": [
       "(((None, None), (None, (None, None))), (None, None))"
      ]
     },
     "execution_count": 5,
     "metadata": {},
     "output_type": "execute_result"
    }
   ],
   "source": [
    "my_tree = NodeClass('n1', indici) \n",
    "tree = TREE4(y,features,features_names,n_features,n_features_names, impurity_fn = \"tau\", problem=\"classifier\", method = \"FAST\",twoing = False,  min_cases_parent= 10,min_cases_child= 5, max_level = 10,  min_imp_gain = 0.01, surrogate_split = False)\n",
    "tree.growing_tree(my_tree, max_k = 1)"
   ]
  },
  {
   "cell_type": "code",
   "execution_count": 6,
   "metadata": {},
   "outputs": [
    {
     "name": "stdout",
     "output_type": "stream",
     "text": [
      "n8 []\n",
      "n9 []\n",
      "n10 []\n",
      "n22 0.257\n",
      "n23 []\n",
      "n6 0.333\n",
      "n7 0.112\n",
      "n1 0.153\n",
      "n2 0.184\n",
      "n4 0.169\n",
      "n5 0.381\n",
      "n11 0.234\n",
      "n3 0.144\n"
     ]
    }
   ],
   "source": [
    "for i in tree.get_all_node():\n",
    "    print(i.name, i.local_predictability)\n",
    "    for j in i.surrogate_splits:\n",
    "        print(j)"
   ]
  },
  {
   "cell_type": "code",
   "execution_count": 10,
   "metadata": {},
   "outputs": [
    {
     "data": {
      "application/vnd.plotly.v1+json": {
       "config": {
        "plotlyServerURL": "https://plot.ly"
       },
       "data": [
        {
         "hoverinfo": "none",
         "line": {
          "color": "rgb(210,210,210)",
          "width": 1
         },
         "mode": "lines",
         "type": "scatter",
         "x": [
          0,
          -2.75,
          null,
          0,
          2.75,
          null,
          -2.75,
          -4.75,
          null,
          -2.75,
          -0.75,
          null,
          2.75,
          1.75,
          null,
          2.75,
          3.75,
          null,
          -4.75,
          -5.75,
          null,
          -4.75,
          -3.75,
          null,
          -0.75,
          -1.75,
          null,
          -0.75,
          0.25,
          null,
          0.25,
          -0.25,
          null,
          0.25,
          0.75,
          null
         ],
         "y": [
          6,
          5,
          null,
          6,
          5,
          null,
          5,
          4,
          null,
          5,
          4,
          null,
          5,
          4,
          null,
          5,
          4,
          null,
          4,
          3,
          null,
          4,
          3,
          null,
          4,
          3,
          null,
          4,
          3,
          null,
          3,
          2,
          null,
          3,
          2,
          null
         ]
        },
        {
         "hoverinfo": "text",
         "marker": {
          "color": "#6175c1",
          "line": {
           "color": "rgb(50,50,50)",
           "width": 1
          },
          "size": 18,
          "symbol": "circle-dot"
         },
         "mode": "markers",
         "name": "Nodes",
         "opacity": 0.8,
         "text": [
          "n8<br>Class: YES<br>tau : None<br>Samples : 5<br>GPR: []<br>LPR: []",
          "n9<br>Class: YES<br>tau : None<br>Samples : 22<br>GPR: []<br>LPR: []",
          "n10<br>Class: NO<br>tau : None<br>Samples : 5<br>GPR: []<br>LPR: []",
          "n22<br>Class: YES<br>tau : None<br>Samples : 12<br>GPR: 0.486<br>LPR: 0.257",
          "n23<br>Class: YES<br>tau : None<br>Samples : 9<br>GPR: []<br>LPR: []",
          "n6<br>Class: YES<br>tau : None<br>Samples : 33<br>GPR: 0.694<br>LPR: 0.333",
          "n7<br>Class: NO<br>tau : None<br>Samples : 194<br>GPR: 0.213<br>LPR: 0.112",
          "n1<br>ShelveLoc in (b'Medium', b'Bad')<br>Class:NO<br>tau : 0.15<br>Samples: 280<br>GPR: 0.177<br>LPR: 0.153",
          "n2<br>Price > 121.0<br>Class:YES<br>tau : 0.18<br>Samples: 53<br>GPR: 0.809<br>LPR: 0.184",
          "n4<br>Income > 32.5<br>Class:YES<br>tau : 0.17<br>Samples: 27<br>GPR: 0.481<br>LPR: 0.169",
          "n5<br>Income > 36.0<br>Class:YES<br>tau : 0.38<br>Samples: 26<br>GPR: 0.919<br>LPR: 0.381",
          "n11<br>Education > 15.5<br>Class:YES<br>tau : 0.23<br>Samples: 21<br>GPR: 0.563<br>LPR: 0.234",
          "n3<br>Price > 92.5<br>Class:NO<br>tau : 0.14<br>Samples: 227<br>GPR: 0.442<br>LPR: 0.144"
         ],
         "type": "scatter",
         "x": [
          -5.75,
          -3.75,
          -1.75,
          -0.25,
          0.75,
          1.75,
          3.75,
          0,
          -2.75,
          -4.75,
          -0.75,
          0.25,
          2.75
         ],
         "y": [
          3,
          3,
          3,
          2,
          2,
          4,
          4,
          6,
          5,
          4,
          4,
          3,
          5
         ]
        }
       ],
       "layout": {
        "margin": {
         "b": 0,
         "l": 0,
         "r": 0,
         "t": 0
        },
        "plot_bgcolor": "rgba(0, 0, 0, 0)",
        "template": {
         "data": {
          "bar": [
           {
            "error_x": {
             "color": "#2a3f5f"
            },
            "error_y": {
             "color": "#2a3f5f"
            },
            "marker": {
             "line": {
              "color": "#E5ECF6",
              "width": 0.5
             },
             "pattern": {
              "fillmode": "overlay",
              "size": 10,
              "solidity": 0.2
             }
            },
            "type": "bar"
           }
          ],
          "barpolar": [
           {
            "marker": {
             "line": {
              "color": "#E5ECF6",
              "width": 0.5
             },
             "pattern": {
              "fillmode": "overlay",
              "size": 10,
              "solidity": 0.2
             }
            },
            "type": "barpolar"
           }
          ],
          "carpet": [
           {
            "aaxis": {
             "endlinecolor": "#2a3f5f",
             "gridcolor": "white",
             "linecolor": "white",
             "minorgridcolor": "white",
             "startlinecolor": "#2a3f5f"
            },
            "baxis": {
             "endlinecolor": "#2a3f5f",
             "gridcolor": "white",
             "linecolor": "white",
             "minorgridcolor": "white",
             "startlinecolor": "#2a3f5f"
            },
            "type": "carpet"
           }
          ],
          "choropleth": [
           {
            "colorbar": {
             "outlinewidth": 0,
             "ticks": ""
            },
            "type": "choropleth"
           }
          ],
          "contour": [
           {
            "colorbar": {
             "outlinewidth": 0,
             "ticks": ""
            },
            "colorscale": [
             [
              0,
              "#0d0887"
             ],
             [
              0.1111111111111111,
              "#46039f"
             ],
             [
              0.2222222222222222,
              "#7201a8"
             ],
             [
              0.3333333333333333,
              "#9c179e"
             ],
             [
              0.4444444444444444,
              "#bd3786"
             ],
             [
              0.5555555555555556,
              "#d8576b"
             ],
             [
              0.6666666666666666,
              "#ed7953"
             ],
             [
              0.7777777777777778,
              "#fb9f3a"
             ],
             [
              0.8888888888888888,
              "#fdca26"
             ],
             [
              1,
              "#f0f921"
             ]
            ],
            "type": "contour"
           }
          ],
          "contourcarpet": [
           {
            "colorbar": {
             "outlinewidth": 0,
             "ticks": ""
            },
            "type": "contourcarpet"
           }
          ],
          "heatmap": [
           {
            "colorbar": {
             "outlinewidth": 0,
             "ticks": ""
            },
            "colorscale": [
             [
              0,
              "#0d0887"
             ],
             [
              0.1111111111111111,
              "#46039f"
             ],
             [
              0.2222222222222222,
              "#7201a8"
             ],
             [
              0.3333333333333333,
              "#9c179e"
             ],
             [
              0.4444444444444444,
              "#bd3786"
             ],
             [
              0.5555555555555556,
              "#d8576b"
             ],
             [
              0.6666666666666666,
              "#ed7953"
             ],
             [
              0.7777777777777778,
              "#fb9f3a"
             ],
             [
              0.8888888888888888,
              "#fdca26"
             ],
             [
              1,
              "#f0f921"
             ]
            ],
            "type": "heatmap"
           }
          ],
          "heatmapgl": [
           {
            "colorbar": {
             "outlinewidth": 0,
             "ticks": ""
            },
            "colorscale": [
             [
              0,
              "#0d0887"
             ],
             [
              0.1111111111111111,
              "#46039f"
             ],
             [
              0.2222222222222222,
              "#7201a8"
             ],
             [
              0.3333333333333333,
              "#9c179e"
             ],
             [
              0.4444444444444444,
              "#bd3786"
             ],
             [
              0.5555555555555556,
              "#d8576b"
             ],
             [
              0.6666666666666666,
              "#ed7953"
             ],
             [
              0.7777777777777778,
              "#fb9f3a"
             ],
             [
              0.8888888888888888,
              "#fdca26"
             ],
             [
              1,
              "#f0f921"
             ]
            ],
            "type": "heatmapgl"
           }
          ],
          "histogram": [
           {
            "marker": {
             "pattern": {
              "fillmode": "overlay",
              "size": 10,
              "solidity": 0.2
             }
            },
            "type": "histogram"
           }
          ],
          "histogram2d": [
           {
            "colorbar": {
             "outlinewidth": 0,
             "ticks": ""
            },
            "colorscale": [
             [
              0,
              "#0d0887"
             ],
             [
              0.1111111111111111,
              "#46039f"
             ],
             [
              0.2222222222222222,
              "#7201a8"
             ],
             [
              0.3333333333333333,
              "#9c179e"
             ],
             [
              0.4444444444444444,
              "#bd3786"
             ],
             [
              0.5555555555555556,
              "#d8576b"
             ],
             [
              0.6666666666666666,
              "#ed7953"
             ],
             [
              0.7777777777777778,
              "#fb9f3a"
             ],
             [
              0.8888888888888888,
              "#fdca26"
             ],
             [
              1,
              "#f0f921"
             ]
            ],
            "type": "histogram2d"
           }
          ],
          "histogram2dcontour": [
           {
            "colorbar": {
             "outlinewidth": 0,
             "ticks": ""
            },
            "colorscale": [
             [
              0,
              "#0d0887"
             ],
             [
              0.1111111111111111,
              "#46039f"
             ],
             [
              0.2222222222222222,
              "#7201a8"
             ],
             [
              0.3333333333333333,
              "#9c179e"
             ],
             [
              0.4444444444444444,
              "#bd3786"
             ],
             [
              0.5555555555555556,
              "#d8576b"
             ],
             [
              0.6666666666666666,
              "#ed7953"
             ],
             [
              0.7777777777777778,
              "#fb9f3a"
             ],
             [
              0.8888888888888888,
              "#fdca26"
             ],
             [
              1,
              "#f0f921"
             ]
            ],
            "type": "histogram2dcontour"
           }
          ],
          "mesh3d": [
           {
            "colorbar": {
             "outlinewidth": 0,
             "ticks": ""
            },
            "type": "mesh3d"
           }
          ],
          "parcoords": [
           {
            "line": {
             "colorbar": {
              "outlinewidth": 0,
              "ticks": ""
             }
            },
            "type": "parcoords"
           }
          ],
          "pie": [
           {
            "automargin": true,
            "type": "pie"
           }
          ],
          "scatter": [
           {
            "fillpattern": {
             "fillmode": "overlay",
             "size": 10,
             "solidity": 0.2
            },
            "type": "scatter"
           }
          ],
          "scatter3d": [
           {
            "line": {
             "colorbar": {
              "outlinewidth": 0,
              "ticks": ""
             }
            },
            "marker": {
             "colorbar": {
              "outlinewidth": 0,
              "ticks": ""
             }
            },
            "type": "scatter3d"
           }
          ],
          "scattercarpet": [
           {
            "marker": {
             "colorbar": {
              "outlinewidth": 0,
              "ticks": ""
             }
            },
            "type": "scattercarpet"
           }
          ],
          "scattergeo": [
           {
            "marker": {
             "colorbar": {
              "outlinewidth": 0,
              "ticks": ""
             }
            },
            "type": "scattergeo"
           }
          ],
          "scattergl": [
           {
            "marker": {
             "colorbar": {
              "outlinewidth": 0,
              "ticks": ""
             }
            },
            "type": "scattergl"
           }
          ],
          "scattermapbox": [
           {
            "marker": {
             "colorbar": {
              "outlinewidth": 0,
              "ticks": ""
             }
            },
            "type": "scattermapbox"
           }
          ],
          "scatterpolar": [
           {
            "marker": {
             "colorbar": {
              "outlinewidth": 0,
              "ticks": ""
             }
            },
            "type": "scatterpolar"
           }
          ],
          "scatterpolargl": [
           {
            "marker": {
             "colorbar": {
              "outlinewidth": 0,
              "ticks": ""
             }
            },
            "type": "scatterpolargl"
           }
          ],
          "scatterternary": [
           {
            "marker": {
             "colorbar": {
              "outlinewidth": 0,
              "ticks": ""
             }
            },
            "type": "scatterternary"
           }
          ],
          "surface": [
           {
            "colorbar": {
             "outlinewidth": 0,
             "ticks": ""
            },
            "colorscale": [
             [
              0,
              "#0d0887"
             ],
             [
              0.1111111111111111,
              "#46039f"
             ],
             [
              0.2222222222222222,
              "#7201a8"
             ],
             [
              0.3333333333333333,
              "#9c179e"
             ],
             [
              0.4444444444444444,
              "#bd3786"
             ],
             [
              0.5555555555555556,
              "#d8576b"
             ],
             [
              0.6666666666666666,
              "#ed7953"
             ],
             [
              0.7777777777777778,
              "#fb9f3a"
             ],
             [
              0.8888888888888888,
              "#fdca26"
             ],
             [
              1,
              "#f0f921"
             ]
            ],
            "type": "surface"
           }
          ],
          "table": [
           {
            "cells": {
             "fill": {
              "color": "#EBF0F8"
             },
             "line": {
              "color": "white"
             }
            },
            "header": {
             "fill": {
              "color": "#C8D4E3"
             },
             "line": {
              "color": "white"
             }
            },
            "type": "table"
           }
          ]
         },
         "layout": {
          "annotationdefaults": {
           "arrowcolor": "#2a3f5f",
           "arrowhead": 0,
           "arrowwidth": 1
          },
          "autotypenumbers": "strict",
          "coloraxis": {
           "colorbar": {
            "outlinewidth": 0,
            "ticks": ""
           }
          },
          "colorscale": {
           "diverging": [
            [
             0,
             "#8e0152"
            ],
            [
             0.1,
             "#c51b7d"
            ],
            [
             0.2,
             "#de77ae"
            ],
            [
             0.3,
             "#f1b6da"
            ],
            [
             0.4,
             "#fde0ef"
            ],
            [
             0.5,
             "#f7f7f7"
            ],
            [
             0.6,
             "#e6f5d0"
            ],
            [
             0.7,
             "#b8e186"
            ],
            [
             0.8,
             "#7fbc41"
            ],
            [
             0.9,
             "#4d9221"
            ],
            [
             1,
             "#276419"
            ]
           ],
           "sequential": [
            [
             0,
             "#0d0887"
            ],
            [
             0.1111111111111111,
             "#46039f"
            ],
            [
             0.2222222222222222,
             "#7201a8"
            ],
            [
             0.3333333333333333,
             "#9c179e"
            ],
            [
             0.4444444444444444,
             "#bd3786"
            ],
            [
             0.5555555555555556,
             "#d8576b"
            ],
            [
             0.6666666666666666,
             "#ed7953"
            ],
            [
             0.7777777777777778,
             "#fb9f3a"
            ],
            [
             0.8888888888888888,
             "#fdca26"
            ],
            [
             1,
             "#f0f921"
            ]
           ],
           "sequentialminus": [
            [
             0,
             "#0d0887"
            ],
            [
             0.1111111111111111,
             "#46039f"
            ],
            [
             0.2222222222222222,
             "#7201a8"
            ],
            [
             0.3333333333333333,
             "#9c179e"
            ],
            [
             0.4444444444444444,
             "#bd3786"
            ],
            [
             0.5555555555555556,
             "#d8576b"
            ],
            [
             0.6666666666666666,
             "#ed7953"
            ],
            [
             0.7777777777777778,
             "#fb9f3a"
            ],
            [
             0.8888888888888888,
             "#fdca26"
            ],
            [
             1,
             "#f0f921"
            ]
           ]
          },
          "colorway": [
           "#636efa",
           "#EF553B",
           "#00cc96",
           "#ab63fa",
           "#FFA15A",
           "#19d3f3",
           "#FF6692",
           "#B6E880",
           "#FF97FF",
           "#FECB52"
          ],
          "font": {
           "color": "#2a3f5f"
          },
          "geo": {
           "bgcolor": "white",
           "lakecolor": "white",
           "landcolor": "#E5ECF6",
           "showlakes": true,
           "showland": true,
           "subunitcolor": "white"
          },
          "hoverlabel": {
           "align": "left"
          },
          "hovermode": "closest",
          "mapbox": {
           "style": "light"
          },
          "paper_bgcolor": "white",
          "plot_bgcolor": "#E5ECF6",
          "polar": {
           "angularaxis": {
            "gridcolor": "white",
            "linecolor": "white",
            "ticks": ""
           },
           "bgcolor": "#E5ECF6",
           "radialaxis": {
            "gridcolor": "white",
            "linecolor": "white",
            "ticks": ""
           }
          },
          "scene": {
           "xaxis": {
            "backgroundcolor": "#E5ECF6",
            "gridcolor": "white",
            "gridwidth": 2,
            "linecolor": "white",
            "showbackground": true,
            "ticks": "",
            "zerolinecolor": "white"
           },
           "yaxis": {
            "backgroundcolor": "#E5ECF6",
            "gridcolor": "white",
            "gridwidth": 2,
            "linecolor": "white",
            "showbackground": true,
            "ticks": "",
            "zerolinecolor": "white"
           },
           "zaxis": {
            "backgroundcolor": "#E5ECF6",
            "gridcolor": "white",
            "gridwidth": 2,
            "linecolor": "white",
            "showbackground": true,
            "ticks": "",
            "zerolinecolor": "white"
           }
          },
          "shapedefaults": {
           "line": {
            "color": "#2a3f5f"
           }
          },
          "ternary": {
           "aaxis": {
            "gridcolor": "white",
            "linecolor": "white",
            "ticks": ""
           },
           "baxis": {
            "gridcolor": "white",
            "linecolor": "white",
            "ticks": ""
           },
           "bgcolor": "#E5ECF6",
           "caxis": {
            "gridcolor": "white",
            "linecolor": "white",
            "ticks": ""
           }
          },
          "title": {
           "x": 0.05
          },
          "xaxis": {
           "automargin": true,
           "gridcolor": "white",
           "linecolor": "white",
           "ticks": "",
           "title": {
            "standoff": 15
           },
           "zerolinecolor": "white",
           "zerolinewidth": 2
          },
          "yaxis": {
           "automargin": true,
           "gridcolor": "white",
           "linecolor": "white",
           "ticks": "",
           "title": {
            "standoff": 15
           },
           "zerolinecolor": "white",
           "zerolinewidth": 2
          }
         }
        },
        "xaxis": {
         "showticklabels": false,
         "visible": false
        },
        "yaxis": {
         "showticklabels": true,
         "visible": false
        }
       }
      }
     },
     "metadata": {},
     "output_type": "display_data"
    },
    {
     "data": {
      "text/html": [
       "<style type=\"text/css\">\n",
       "</style>\n",
       "<table id=\"T_18058\">\n",
       "  <thead>\n",
       "    <tr>\n",
       "      <th id=\"T_18058_level0_col0\" class=\"col_heading level0 col0\" >Node</th>\n",
       "      <th id=\"T_18058_level0_col1\" class=\"col_heading level0 col1\" >Node Type</th>\n",
       "      <th id=\"T_18058_level0_col2\" class=\"col_heading level0 col2\" >Splitting Variable</th>\n",
       "      <th id=\"T_18058_level0_col3\" class=\"col_heading level0 col3\" >n</th>\n",
       "      <th id=\"T_18058_level0_col4\" class=\"col_heading level0 col4\" >Heterogeneity</th>\n",
       "      <th id=\"T_18058_level0_col5\" class=\"col_heading level0 col5\" >Explained Heterogeneity</th>\n",
       "      <th id=\"T_18058_level0_col6\" class=\"col_heading level0 col6\" >Class/Value</th>\n",
       "    </tr>\n",
       "  </thead>\n",
       "  <tbody>\n",
       "    <tr>\n",
       "      <td id=\"T_18058_row0_col0\" class=\"data row0 col0\" >n1</td>\n",
       "      <td id=\"T_18058_row0_col1\" class=\"data row0 col1\" >Parent</td>\n",
       "      <td id=\"T_18058_row0_col2\" class=\"data row0 col2\" >ShelveLoc in (b'Medium', b'Bad')</td>\n",
       "      <td id=\"T_18058_row0_col3\" class=\"data row0 col3\" >280</td>\n",
       "      <td id=\"T_18058_row0_col4\" class=\"data row0 col4\" >376.06</td>\n",
       "      <td id=\"T_18058_row0_col5\" class=\"data row0 col5\" >0.073</td>\n",
       "      <td id=\"T_18058_row0_col6\" class=\"data row0 col6\" >NO</td>\n",
       "    </tr>\n",
       "    <tr>\n",
       "      <td id=\"T_18058_row1_col0\" class=\"data row1 col0\" >n2</td>\n",
       "      <td id=\"T_18058_row1_col1\" class=\"data row1 col1\" >Parent</td>\n",
       "      <td id=\"T_18058_row1_col2\" class=\"data row1 col2\" >Price > 121.0</td>\n",
       "      <td id=\"T_18058_row1_col3\" class=\"data row1 col3\" >53</td>\n",
       "      <td id=\"T_18058_row1_col4\" class=\"data row1 col4\" >54.13</td>\n",
       "      <td id=\"T_18058_row1_col5\" class=\"data row1 col5\" >0.347</td>\n",
       "      <td id=\"T_18058_row1_col6\" class=\"data row1 col6\" >YES</td>\n",
       "    </tr>\n",
       "    <tr>\n",
       "      <td id=\"T_18058_row2_col0\" class=\"data row2 col0\" >n4</td>\n",
       "      <td id=\"T_18058_row2_col1\" class=\"data row2 col1\" >Parent</td>\n",
       "      <td id=\"T_18058_row2_col2\" class=\"data row2 col2\" >Income > 32.5</td>\n",
       "      <td id=\"T_18058_row2_col3\" class=\"data row2 col3\" >27</td>\n",
       "      <td id=\"T_18058_row2_col4\" class=\"data row2 col4\" >8.55</td>\n",
       "      <td id=\"T_18058_row2_col5\" class=\"data row2 col5\" >0.38</td>\n",
       "      <td id=\"T_18058_row2_col6\" class=\"data row2 col6\" >YES</td>\n",
       "    </tr>\n",
       "    <tr>\n",
       "      <td id=\"T_18058_row3_col0\" class=\"data row3 col0\" >n8</td>\n",
       "      <td id=\"T_18058_row3_col1\" class=\"data row3 col1\" >Child</td>\n",
       "      <td id=\"T_18058_row3_col2\" class=\"data row3 col2\" >None</td>\n",
       "      <td id=\"T_18058_row3_col3\" class=\"data row3 col3\" >5</td>\n",
       "      <td id=\"T_18058_row3_col4\" class=\"data row3 col4\" >5.0</td>\n",
       "      <td id=\"T_18058_row3_col5\" class=\"data row3 col5\" >None</td>\n",
       "      <td id=\"T_18058_row3_col6\" class=\"data row3 col6\" >YES</td>\n",
       "    </tr>\n",
       "    <tr>\n",
       "      <td id=\"T_18058_row4_col0\" class=\"data row4 col0\" >n9</td>\n",
       "      <td id=\"T_18058_row4_col1\" class=\"data row4 col1\" >Child</td>\n",
       "      <td id=\"T_18058_row4_col2\" class=\"data row4 col2\" >None</td>\n",
       "      <td id=\"T_18058_row4_col3\" class=\"data row4 col3\" >22</td>\n",
       "      <td id=\"T_18058_row4_col4\" class=\"data row4 col4\" >-0.0</td>\n",
       "      <td id=\"T_18058_row4_col5\" class=\"data row4 col5\" >None</td>\n",
       "      <td id=\"T_18058_row4_col6\" class=\"data row4 col6\" >YES</td>\n",
       "    </tr>\n",
       "    <tr>\n",
       "      <td id=\"T_18058_row5_col0\" class=\"data row5 col0\" >n5</td>\n",
       "      <td id=\"T_18058_row5_col1\" class=\"data row5 col1\" >Parent</td>\n",
       "      <td id=\"T_18058_row5_col2\" class=\"data row5 col2\" >Income > 36.0</td>\n",
       "      <td id=\"T_18058_row5_col3\" class=\"data row5 col3\" >26</td>\n",
       "      <td id=\"T_18058_row5_col4\" class=\"data row5 col4\" >34.65</td>\n",
       "      <td id=\"T_18058_row5_col5\" class=\"data row5 col5\" >0.403</td>\n",
       "      <td id=\"T_18058_row5_col6\" class=\"data row5 col6\" >YES</td>\n",
       "    </tr>\n",
       "    <tr>\n",
       "      <td id=\"T_18058_row6_col0\" class=\"data row6 col0\" >n10</td>\n",
       "      <td id=\"T_18058_row6_col1\" class=\"data row6 col1\" >Child</td>\n",
       "      <td id=\"T_18058_row6_col2\" class=\"data row6 col2\" >None</td>\n",
       "      <td id=\"T_18058_row6_col3\" class=\"data row6 col3\" >5</td>\n",
       "      <td id=\"T_18058_row6_col4\" class=\"data row6 col4\" >-0.0</td>\n",
       "      <td id=\"T_18058_row6_col5\" class=\"data row6 col5\" >None</td>\n",
       "      <td id=\"T_18058_row6_col6\" class=\"data row6 col6\" >NO</td>\n",
       "    </tr>\n",
       "    <tr>\n",
       "      <td id=\"T_18058_row7_col0\" class=\"data row7 col0\" >n11</td>\n",
       "      <td id=\"T_18058_row7_col1\" class=\"data row7 col1\" >Parent</td>\n",
       "      <td id=\"T_18058_row7_col2\" class=\"data row7 col2\" >Education > 15.5</td>\n",
       "      <td id=\"T_18058_row7_col3\" class=\"data row7 col3\" >21</td>\n",
       "      <td id=\"T_18058_row7_col4\" class=\"data row7 col4\" >23.05</td>\n",
       "      <td id=\"T_18058_row7_col5\" class=\"data row7 col5\" >0.417</td>\n",
       "      <td id=\"T_18058_row7_col6\" class=\"data row7 col6\" >YES</td>\n",
       "    </tr>\n",
       "    <tr>\n",
       "      <td id=\"T_18058_row8_col0\" class=\"data row8 col0\" >n22</td>\n",
       "      <td id=\"T_18058_row8_col1\" class=\"data row8 col1\" >Child</td>\n",
       "      <td id=\"T_18058_row8_col2\" class=\"data row8 col2\" >None</td>\n",
       "      <td id=\"T_18058_row8_col3\" class=\"data row8 col3\" >12</td>\n",
       "      <td id=\"T_18058_row8_col4\" class=\"data row8 col4\" >16.3</td>\n",
       "      <td id=\"T_18058_row8_col5\" class=\"data row8 col5\" >None</td>\n",
       "      <td id=\"T_18058_row8_col6\" class=\"data row8 col6\" >YES</td>\n",
       "    </tr>\n",
       "    <tr>\n",
       "      <td id=\"T_18058_row9_col0\" class=\"data row9 col0\" >n23</td>\n",
       "      <td id=\"T_18058_row9_col1\" class=\"data row9 col1\" >Child</td>\n",
       "      <td id=\"T_18058_row9_col2\" class=\"data row9 col2\" >None</td>\n",
       "      <td id=\"T_18058_row9_col3\" class=\"data row9 col3\" >9</td>\n",
       "      <td id=\"T_18058_row9_col4\" class=\"data row9 col4\" >-0.0</td>\n",
       "      <td id=\"T_18058_row9_col5\" class=\"data row9 col5\" >None</td>\n",
       "      <td id=\"T_18058_row9_col6\" class=\"data row9 col6\" >YES</td>\n",
       "    </tr>\n",
       "    <tr>\n",
       "      <td id=\"T_18058_row10_col0\" class=\"data row10 col0\" >n3</td>\n",
       "      <td id=\"T_18058_row10_col1\" class=\"data row10 col1\" >Parent</td>\n",
       "      <td id=\"T_18058_row10_col2\" class=\"data row10 col2\" >Price > 92.5</td>\n",
       "      <td id=\"T_18058_row10_col3\" class=\"data row10 col3\" >227</td>\n",
       "      <td id=\"T_18058_row10_col4\" class=\"data row10 col4\" >278.84</td>\n",
       "      <td id=\"T_18058_row10_col5\" class=\"data row10 col5\" >0.439</td>\n",
       "      <td id=\"T_18058_row10_col6\" class=\"data row10 col6\" >NO</td>\n",
       "    </tr>\n",
       "    <tr>\n",
       "      <td id=\"T_18058_row11_col0\" class=\"data row11 col0\" >n6</td>\n",
       "      <td id=\"T_18058_row11_col1\" class=\"data row11 col1\" >Child</td>\n",
       "      <td id=\"T_18058_row11_col2\" class=\"data row11 col2\" >None</td>\n",
       "      <td id=\"T_18058_row11_col3\" class=\"data row11 col3\" >33</td>\n",
       "      <td id=\"T_18058_row11_col4\" class=\"data row11 col4\" >38.67</td>\n",
       "      <td id=\"T_18058_row11_col5\" class=\"data row11 col5\" >None</td>\n",
       "      <td id=\"T_18058_row11_col6\" class=\"data row11 col6\" >YES</td>\n",
       "    </tr>\n",
       "    <tr>\n",
       "      <td id=\"T_18058_row12_col0\" class=\"data row12 col0\" >n7</td>\n",
       "      <td id=\"T_18058_row12_col1\" class=\"data row12 col1\" >Child</td>\n",
       "      <td id=\"T_18058_row12_col2\" class=\"data row12 col2\" >None</td>\n",
       "      <td id=\"T_18058_row12_col3\" class=\"data row12 col3\" >194</td>\n",
       "      <td id=\"T_18058_row12_col4\" class=\"data row12 col4\" >210.15</td>\n",
       "      <td id=\"T_18058_row12_col5\" class=\"data row12 col5\" >None</td>\n",
       "      <td id=\"T_18058_row12_col6\" class=\"data row12 col6\" >NO</td>\n",
       "    </tr>\n",
       "  </tbody>\n",
       "</table>\n"
      ],
      "text/plain": [
       "<pandas.io.formats.style.Styler at 0x1ad5f712a20>"
      ]
     },
     "execution_count": 10,
     "metadata": {},
     "output_type": "execute_result"
    }
   ],
   "source": [
    "import warnings\n",
    "warnings.filterwarnings(\"ignore\", category=FutureWarning) \n",
    "\n",
    "\n",
    "tree.print_tree(table = True, html = False).style.hide() #print both the pruned and non pruned tree \n",
    "#cart.print_tree(table = False, html = False, visual_pruning = True)"
   ]
  },
  {
   "cell_type": "code",
   "execution_count": 11,
   "metadata": {},
   "outputs": [
    {
     "data": {
      "application/vnd.plotly.v1+json": {
       "config": {
        "plotlyServerURL": "https://plot.ly"
       },
       "data": [
        {
         "hoverinfo": "none",
         "line": {
          "color": "rgb(210,210,210)",
          "width": 1
         },
         "mode": "lines",
         "type": "scatter",
         "x": [
          0,
          -1.25,
          null,
          0,
          1.25,
          null,
          -1.25,
          -2.25,
          null,
          -1.25,
          -0.25,
          null,
          1.25,
          0.75,
          null,
          1.25,
          1.75,
          null,
          -0.25,
          -0.75,
          null,
          -0.25,
          0.25,
          null
         ],
         "y": [
          6,
          5,
          null,
          6,
          5,
          null,
          5,
          4,
          null,
          5,
          4,
          null,
          5,
          4,
          null,
          5,
          4,
          null,
          4,
          3,
          null,
          4,
          3,
          null
         ]
        },
        {
         "hoverinfo": "text",
         "marker": {
          "color": "#6175c1",
          "line": {
           "color": "rgb(50,50,50)",
           "width": 1
          },
          "size": 18,
          "symbol": "circle-dot"
         },
         "mode": "markers",
         "name": "Nodes",
         "opacity": 0.8,
         "text": [
          "n10<br>Class: NO<br>tau : None<br>Samples : 5<br>GPR: []<br>LPR: []",
          "n6<br>Class: YES<br>tau : None<br>Samples : 33<br>GPR: 0.694<br>LPR: 0.333",
          "n7<br>Class: NO<br>tau : None<br>Samples : 194<br>GPR: 0.213<br>LPR: 0.112",
          "n1<br>ShelveLoc in (b'Medium', b'Bad')<br>Class:NO<br>tau : 0.15<br>Samples: 280<br>GPR: 0.177<br>LPR: 0.153",
          "n2<br>Price > 121.0<br>Class:YES<br>tau : 0.18<br>Samples: 53<br>GPR: 0.809<br>LPR: 0.184",
          "n4<br>Class: YES<br>tau : None<br>Samples : 27<br>GPR: 0.481<br>LPR: 0.169",
          "n5<br>Income > 36.0<br>Class:YES<br>tau : 0.38<br>Samples: 26<br>GPR: 0.919<br>LPR: 0.381",
          "n11<br>Class: YES<br>tau : None<br>Samples : 21<br>GPR: 0.563<br>LPR: 0.234",
          "n3<br>Price > 92.5<br>Class:NO<br>tau : 0.14<br>Samples: 227<br>GPR: 0.442<br>LPR: 0.144"
         ],
         "type": "scatter",
         "x": [
          -0.75,
          0.75,
          1.75,
          0,
          -1.25,
          -2.25,
          -0.25,
          0.25,
          1.25
         ],
         "y": [
          3,
          4,
          4,
          6,
          5,
          4,
          4,
          3,
          5
         ]
        }
       ],
       "layout": {
        "margin": {
         "b": 0,
         "l": 0,
         "r": 0,
         "t": 0
        },
        "plot_bgcolor": "rgba(0, 0, 0, 0)",
        "template": {
         "data": {
          "bar": [
           {
            "error_x": {
             "color": "#2a3f5f"
            },
            "error_y": {
             "color": "#2a3f5f"
            },
            "marker": {
             "line": {
              "color": "#E5ECF6",
              "width": 0.5
             },
             "pattern": {
              "fillmode": "overlay",
              "size": 10,
              "solidity": 0.2
             }
            },
            "type": "bar"
           }
          ],
          "barpolar": [
           {
            "marker": {
             "line": {
              "color": "#E5ECF6",
              "width": 0.5
             },
             "pattern": {
              "fillmode": "overlay",
              "size": 10,
              "solidity": 0.2
             }
            },
            "type": "barpolar"
           }
          ],
          "carpet": [
           {
            "aaxis": {
             "endlinecolor": "#2a3f5f",
             "gridcolor": "white",
             "linecolor": "white",
             "minorgridcolor": "white",
             "startlinecolor": "#2a3f5f"
            },
            "baxis": {
             "endlinecolor": "#2a3f5f",
             "gridcolor": "white",
             "linecolor": "white",
             "minorgridcolor": "white",
             "startlinecolor": "#2a3f5f"
            },
            "type": "carpet"
           }
          ],
          "choropleth": [
           {
            "colorbar": {
             "outlinewidth": 0,
             "ticks": ""
            },
            "type": "choropleth"
           }
          ],
          "contour": [
           {
            "colorbar": {
             "outlinewidth": 0,
             "ticks": ""
            },
            "colorscale": [
             [
              0,
              "#0d0887"
             ],
             [
              0.1111111111111111,
              "#46039f"
             ],
             [
              0.2222222222222222,
              "#7201a8"
             ],
             [
              0.3333333333333333,
              "#9c179e"
             ],
             [
              0.4444444444444444,
              "#bd3786"
             ],
             [
              0.5555555555555556,
              "#d8576b"
             ],
             [
              0.6666666666666666,
              "#ed7953"
             ],
             [
              0.7777777777777778,
              "#fb9f3a"
             ],
             [
              0.8888888888888888,
              "#fdca26"
             ],
             [
              1,
              "#f0f921"
             ]
            ],
            "type": "contour"
           }
          ],
          "contourcarpet": [
           {
            "colorbar": {
             "outlinewidth": 0,
             "ticks": ""
            },
            "type": "contourcarpet"
           }
          ],
          "heatmap": [
           {
            "colorbar": {
             "outlinewidth": 0,
             "ticks": ""
            },
            "colorscale": [
             [
              0,
              "#0d0887"
             ],
             [
              0.1111111111111111,
              "#46039f"
             ],
             [
              0.2222222222222222,
              "#7201a8"
             ],
             [
              0.3333333333333333,
              "#9c179e"
             ],
             [
              0.4444444444444444,
              "#bd3786"
             ],
             [
              0.5555555555555556,
              "#d8576b"
             ],
             [
              0.6666666666666666,
              "#ed7953"
             ],
             [
              0.7777777777777778,
              "#fb9f3a"
             ],
             [
              0.8888888888888888,
              "#fdca26"
             ],
             [
              1,
              "#f0f921"
             ]
            ],
            "type": "heatmap"
           }
          ],
          "heatmapgl": [
           {
            "colorbar": {
             "outlinewidth": 0,
             "ticks": ""
            },
            "colorscale": [
             [
              0,
              "#0d0887"
             ],
             [
              0.1111111111111111,
              "#46039f"
             ],
             [
              0.2222222222222222,
              "#7201a8"
             ],
             [
              0.3333333333333333,
              "#9c179e"
             ],
             [
              0.4444444444444444,
              "#bd3786"
             ],
             [
              0.5555555555555556,
              "#d8576b"
             ],
             [
              0.6666666666666666,
              "#ed7953"
             ],
             [
              0.7777777777777778,
              "#fb9f3a"
             ],
             [
              0.8888888888888888,
              "#fdca26"
             ],
             [
              1,
              "#f0f921"
             ]
            ],
            "type": "heatmapgl"
           }
          ],
          "histogram": [
           {
            "marker": {
             "pattern": {
              "fillmode": "overlay",
              "size": 10,
              "solidity": 0.2
             }
            },
            "type": "histogram"
           }
          ],
          "histogram2d": [
           {
            "colorbar": {
             "outlinewidth": 0,
             "ticks": ""
            },
            "colorscale": [
             [
              0,
              "#0d0887"
             ],
             [
              0.1111111111111111,
              "#46039f"
             ],
             [
              0.2222222222222222,
              "#7201a8"
             ],
             [
              0.3333333333333333,
              "#9c179e"
             ],
             [
              0.4444444444444444,
              "#bd3786"
             ],
             [
              0.5555555555555556,
              "#d8576b"
             ],
             [
              0.6666666666666666,
              "#ed7953"
             ],
             [
              0.7777777777777778,
              "#fb9f3a"
             ],
             [
              0.8888888888888888,
              "#fdca26"
             ],
             [
              1,
              "#f0f921"
             ]
            ],
            "type": "histogram2d"
           }
          ],
          "histogram2dcontour": [
           {
            "colorbar": {
             "outlinewidth": 0,
             "ticks": ""
            },
            "colorscale": [
             [
              0,
              "#0d0887"
             ],
             [
              0.1111111111111111,
              "#46039f"
             ],
             [
              0.2222222222222222,
              "#7201a8"
             ],
             [
              0.3333333333333333,
              "#9c179e"
             ],
             [
              0.4444444444444444,
              "#bd3786"
             ],
             [
              0.5555555555555556,
              "#d8576b"
             ],
             [
              0.6666666666666666,
              "#ed7953"
             ],
             [
              0.7777777777777778,
              "#fb9f3a"
             ],
             [
              0.8888888888888888,
              "#fdca26"
             ],
             [
              1,
              "#f0f921"
             ]
            ],
            "type": "histogram2dcontour"
           }
          ],
          "mesh3d": [
           {
            "colorbar": {
             "outlinewidth": 0,
             "ticks": ""
            },
            "type": "mesh3d"
           }
          ],
          "parcoords": [
           {
            "line": {
             "colorbar": {
              "outlinewidth": 0,
              "ticks": ""
             }
            },
            "type": "parcoords"
           }
          ],
          "pie": [
           {
            "automargin": true,
            "type": "pie"
           }
          ],
          "scatter": [
           {
            "fillpattern": {
             "fillmode": "overlay",
             "size": 10,
             "solidity": 0.2
            },
            "type": "scatter"
           }
          ],
          "scatter3d": [
           {
            "line": {
             "colorbar": {
              "outlinewidth": 0,
              "ticks": ""
             }
            },
            "marker": {
             "colorbar": {
              "outlinewidth": 0,
              "ticks": ""
             }
            },
            "type": "scatter3d"
           }
          ],
          "scattercarpet": [
           {
            "marker": {
             "colorbar": {
              "outlinewidth": 0,
              "ticks": ""
             }
            },
            "type": "scattercarpet"
           }
          ],
          "scattergeo": [
           {
            "marker": {
             "colorbar": {
              "outlinewidth": 0,
              "ticks": ""
             }
            },
            "type": "scattergeo"
           }
          ],
          "scattergl": [
           {
            "marker": {
             "colorbar": {
              "outlinewidth": 0,
              "ticks": ""
             }
            },
            "type": "scattergl"
           }
          ],
          "scattermapbox": [
           {
            "marker": {
             "colorbar": {
              "outlinewidth": 0,
              "ticks": ""
             }
            },
            "type": "scattermapbox"
           }
          ],
          "scatterpolar": [
           {
            "marker": {
             "colorbar": {
              "outlinewidth": 0,
              "ticks": ""
             }
            },
            "type": "scatterpolar"
           }
          ],
          "scatterpolargl": [
           {
            "marker": {
             "colorbar": {
              "outlinewidth": 0,
              "ticks": ""
             }
            },
            "type": "scatterpolargl"
           }
          ],
          "scatterternary": [
           {
            "marker": {
             "colorbar": {
              "outlinewidth": 0,
              "ticks": ""
             }
            },
            "type": "scatterternary"
           }
          ],
          "surface": [
           {
            "colorbar": {
             "outlinewidth": 0,
             "ticks": ""
            },
            "colorscale": [
             [
              0,
              "#0d0887"
             ],
             [
              0.1111111111111111,
              "#46039f"
             ],
             [
              0.2222222222222222,
              "#7201a8"
             ],
             [
              0.3333333333333333,
              "#9c179e"
             ],
             [
              0.4444444444444444,
              "#bd3786"
             ],
             [
              0.5555555555555556,
              "#d8576b"
             ],
             [
              0.6666666666666666,
              "#ed7953"
             ],
             [
              0.7777777777777778,
              "#fb9f3a"
             ],
             [
              0.8888888888888888,
              "#fdca26"
             ],
             [
              1,
              "#f0f921"
             ]
            ],
            "type": "surface"
           }
          ],
          "table": [
           {
            "cells": {
             "fill": {
              "color": "#EBF0F8"
             },
             "line": {
              "color": "white"
             }
            },
            "header": {
             "fill": {
              "color": "#C8D4E3"
             },
             "line": {
              "color": "white"
             }
            },
            "type": "table"
           }
          ]
         },
         "layout": {
          "annotationdefaults": {
           "arrowcolor": "#2a3f5f",
           "arrowhead": 0,
           "arrowwidth": 1
          },
          "autotypenumbers": "strict",
          "coloraxis": {
           "colorbar": {
            "outlinewidth": 0,
            "ticks": ""
           }
          },
          "colorscale": {
           "diverging": [
            [
             0,
             "#8e0152"
            ],
            [
             0.1,
             "#c51b7d"
            ],
            [
             0.2,
             "#de77ae"
            ],
            [
             0.3,
             "#f1b6da"
            ],
            [
             0.4,
             "#fde0ef"
            ],
            [
             0.5,
             "#f7f7f7"
            ],
            [
             0.6,
             "#e6f5d0"
            ],
            [
             0.7,
             "#b8e186"
            ],
            [
             0.8,
             "#7fbc41"
            ],
            [
             0.9,
             "#4d9221"
            ],
            [
             1,
             "#276419"
            ]
           ],
           "sequential": [
            [
             0,
             "#0d0887"
            ],
            [
             0.1111111111111111,
             "#46039f"
            ],
            [
             0.2222222222222222,
             "#7201a8"
            ],
            [
             0.3333333333333333,
             "#9c179e"
            ],
            [
             0.4444444444444444,
             "#bd3786"
            ],
            [
             0.5555555555555556,
             "#d8576b"
            ],
            [
             0.6666666666666666,
             "#ed7953"
            ],
            [
             0.7777777777777778,
             "#fb9f3a"
            ],
            [
             0.8888888888888888,
             "#fdca26"
            ],
            [
             1,
             "#f0f921"
            ]
           ],
           "sequentialminus": [
            [
             0,
             "#0d0887"
            ],
            [
             0.1111111111111111,
             "#46039f"
            ],
            [
             0.2222222222222222,
             "#7201a8"
            ],
            [
             0.3333333333333333,
             "#9c179e"
            ],
            [
             0.4444444444444444,
             "#bd3786"
            ],
            [
             0.5555555555555556,
             "#d8576b"
            ],
            [
             0.6666666666666666,
             "#ed7953"
            ],
            [
             0.7777777777777778,
             "#fb9f3a"
            ],
            [
             0.8888888888888888,
             "#fdca26"
            ],
            [
             1,
             "#f0f921"
            ]
           ]
          },
          "colorway": [
           "#636efa",
           "#EF553B",
           "#00cc96",
           "#ab63fa",
           "#FFA15A",
           "#19d3f3",
           "#FF6692",
           "#B6E880",
           "#FF97FF",
           "#FECB52"
          ],
          "font": {
           "color": "#2a3f5f"
          },
          "geo": {
           "bgcolor": "white",
           "lakecolor": "white",
           "landcolor": "#E5ECF6",
           "showlakes": true,
           "showland": true,
           "subunitcolor": "white"
          },
          "hoverlabel": {
           "align": "left"
          },
          "hovermode": "closest",
          "mapbox": {
           "style": "light"
          },
          "paper_bgcolor": "white",
          "plot_bgcolor": "#E5ECF6",
          "polar": {
           "angularaxis": {
            "gridcolor": "white",
            "linecolor": "white",
            "ticks": ""
           },
           "bgcolor": "#E5ECF6",
           "radialaxis": {
            "gridcolor": "white",
            "linecolor": "white",
            "ticks": ""
           }
          },
          "scene": {
           "xaxis": {
            "backgroundcolor": "#E5ECF6",
            "gridcolor": "white",
            "gridwidth": 2,
            "linecolor": "white",
            "showbackground": true,
            "ticks": "",
            "zerolinecolor": "white"
           },
           "yaxis": {
            "backgroundcolor": "#E5ECF6",
            "gridcolor": "white",
            "gridwidth": 2,
            "linecolor": "white",
            "showbackground": true,
            "ticks": "",
            "zerolinecolor": "white"
           },
           "zaxis": {
            "backgroundcolor": "#E5ECF6",
            "gridcolor": "white",
            "gridwidth": 2,
            "linecolor": "white",
            "showbackground": true,
            "ticks": "",
            "zerolinecolor": "white"
           }
          },
          "shapedefaults": {
           "line": {
            "color": "#2a3f5f"
           }
          },
          "ternary": {
           "aaxis": {
            "gridcolor": "white",
            "linecolor": "white",
            "ticks": ""
           },
           "baxis": {
            "gridcolor": "white",
            "linecolor": "white",
            "ticks": ""
           },
           "bgcolor": "#E5ECF6",
           "caxis": {
            "gridcolor": "white",
            "linecolor": "white",
            "ticks": ""
           }
          },
          "title": {
           "x": 0.05
          },
          "xaxis": {
           "automargin": true,
           "gridcolor": "white",
           "linecolor": "white",
           "ticks": "",
           "title": {
            "standoff": 15
           },
           "zerolinecolor": "white",
           "zerolinewidth": 2
          },
          "yaxis": {
           "automargin": true,
           "gridcolor": "white",
           "linecolor": "white",
           "ticks": "",
           "title": {
            "standoff": 15
           },
           "zerolinecolor": "white",
           "zerolinewidth": 2
          }
         }
        },
        "xaxis": {
         "showticklabels": false,
         "visible": false
        },
        "yaxis": {
         "showticklabels": true,
         "visible": false
        }
       }
      }
     },
     "metadata": {},
     "output_type": "display_data"
    }
   ],
   "source": [
    "tree.print_tree(table = False, html = False, merge_leaves = True)"
   ]
  },
  {
   "cell_type": "code",
   "execution_count": 12,
   "metadata": {},
   "outputs": [
    {
     "data": {
      "application/vnd.plotly.v1+json": {
       "config": {
        "plotlyServerURL": "https://plot.ly"
       },
       "data": [
        {
         "hoverinfo": "none",
         "line": {
          "color": "rgb(210,210,210)",
          "width": 1
         },
         "mode": "lines",
         "type": "scatter",
         "x": [
          0,
          -2.75,
          null,
          0,
          2.75,
          null,
          -2.75,
          -4.75,
          null,
          -2.75,
          -0.75,
          null,
          2.75,
          1.75,
          null,
          2.75,
          3.75,
          null,
          -4.75,
          -5.75,
          null,
          -4.75,
          -3.75,
          null,
          -0.75,
          -1.75,
          null,
          -0.75,
          0.25,
          null,
          0.25,
          -0.25,
          null,
          0.25,
          0.75,
          null
         ],
         "y": [
          1,
          0.9267641734193468,
          null,
          1,
          0.9267641734193468,
          null,
          0.9267641734193468,
          0.6527475121918691,
          null,
          0.9267641734193468,
          0.6527475121918691,
          null,
          0.9267641734193468,
          0.9140821646307937,
          null,
          0.9267641734193468,
          0.9140821646307937,
          null,
          0.6527475121918691,
          0.6196331492610598,
          null,
          0.6527475121918691,
          0.6196331492610598,
          null,
          0.6527475121918691,
          0.6297626667457272,
          null,
          0.6527475121918691,
          0.6297626667457272,
          null,
          0.6297626667457272,
          0.6161673712119483,
          null,
          0.6297626667457272,
          0.6161673712119483,
          null
         ]
        },
        {
         "hoverinfo": "text",
         "marker": {
          "color": "#6175c1",
          "line": {
           "color": "rgb(50,50,50)",
           "width": 1
          },
          "size": 18,
          "symbol": "circle-dot"
         },
         "mode": "markers",
         "name": "Nodes",
         "opacity": 0.8,
         "text": [
          "n8<br>Class: YES<br>tau : None<br>Samples : 5<br>GPR: []<br>LPR: []",
          "n9<br>Class: YES<br>tau : None<br>Samples : 22<br>GPR: []<br>LPR: []",
          "n10<br>Class: NO<br>tau : None<br>Samples : 5<br>GPR: []<br>LPR: []",
          "n22<br>Class: YES<br>tau : None<br>Samples : 12<br>GPR: 0.486<br>LPR: 0.257",
          "n23<br>Class: YES<br>tau : None<br>Samples : 9<br>GPR: []<br>LPR: []",
          "n6<br>Class: YES<br>tau : None<br>Samples : 33<br>GPR: 0.694<br>LPR: 0.333",
          "n7<br>Class: NO<br>tau : None<br>Samples : 194<br>GPR: 0.213<br>LPR: 0.112",
          "n1<br>ShelveLoc in (b'Medium', b'Bad')<br>Class:NO<br>tau : 0.15<br>Samples: 280<br>GPR: 0.177<br>LPR: 0.153",
          "n2<br>Price > 121.0<br>Class:YES<br>tau : 0.18<br>Samples: 53<br>GPR: 0.809<br>LPR: 0.184",
          "n4<br>Income > 32.5<br>Class:YES<br>tau : 0.17<br>Samples: 27<br>GPR: 0.481<br>LPR: 0.169",
          "n5<br>Income > 36.0<br>Class:YES<br>tau : 0.38<br>Samples: 26<br>GPR: 0.919<br>LPR: 0.381",
          "n11<br>Education > 15.5<br>Class:YES<br>tau : 0.23<br>Samples: 21<br>GPR: 0.563<br>LPR: 0.234",
          "n3<br>Price > 92.5<br>Class:NO<br>tau : 0.14<br>Samples: 227<br>GPR: 0.442<br>LPR: 0.144"
         ],
         "type": "scatter",
         "x": [
          -5.75,
          -3.75,
          -1.75,
          -0.25,
          0.75,
          1.75,
          3.75,
          0,
          -2.75,
          -4.75,
          -0.75,
          0.25,
          2.75
         ],
         "y": [
          0.6196331492610598,
          0.6196331492610598,
          0.6297626667457272,
          0.6161673712119483,
          0.6161673712119483,
          0.9140821646307937,
          0.9140821646307937,
          1,
          0.9267641734193468,
          0.6527475121918691,
          0.6527475121918691,
          0.6297626667457272,
          0.9267641734193468
         ]
        }
       ],
       "layout": {
        "margin": {
         "b": 0,
         "l": 0,
         "r": 0,
         "t": 0
        },
        "plot_bgcolor": "rgba(0, 0, 0, 0)",
        "template": {
         "data": {
          "bar": [
           {
            "error_x": {
             "color": "#2a3f5f"
            },
            "error_y": {
             "color": "#2a3f5f"
            },
            "marker": {
             "line": {
              "color": "#E5ECF6",
              "width": 0.5
             },
             "pattern": {
              "fillmode": "overlay",
              "size": 10,
              "solidity": 0.2
             }
            },
            "type": "bar"
           }
          ],
          "barpolar": [
           {
            "marker": {
             "line": {
              "color": "#E5ECF6",
              "width": 0.5
             },
             "pattern": {
              "fillmode": "overlay",
              "size": 10,
              "solidity": 0.2
             }
            },
            "type": "barpolar"
           }
          ],
          "carpet": [
           {
            "aaxis": {
             "endlinecolor": "#2a3f5f",
             "gridcolor": "white",
             "linecolor": "white",
             "minorgridcolor": "white",
             "startlinecolor": "#2a3f5f"
            },
            "baxis": {
             "endlinecolor": "#2a3f5f",
             "gridcolor": "white",
             "linecolor": "white",
             "minorgridcolor": "white",
             "startlinecolor": "#2a3f5f"
            },
            "type": "carpet"
           }
          ],
          "choropleth": [
           {
            "colorbar": {
             "outlinewidth": 0,
             "ticks": ""
            },
            "type": "choropleth"
           }
          ],
          "contour": [
           {
            "colorbar": {
             "outlinewidth": 0,
             "ticks": ""
            },
            "colorscale": [
             [
              0,
              "#0d0887"
             ],
             [
              0.1111111111111111,
              "#46039f"
             ],
             [
              0.2222222222222222,
              "#7201a8"
             ],
             [
              0.3333333333333333,
              "#9c179e"
             ],
             [
              0.4444444444444444,
              "#bd3786"
             ],
             [
              0.5555555555555556,
              "#d8576b"
             ],
             [
              0.6666666666666666,
              "#ed7953"
             ],
             [
              0.7777777777777778,
              "#fb9f3a"
             ],
             [
              0.8888888888888888,
              "#fdca26"
             ],
             [
              1,
              "#f0f921"
             ]
            ],
            "type": "contour"
           }
          ],
          "contourcarpet": [
           {
            "colorbar": {
             "outlinewidth": 0,
             "ticks": ""
            },
            "type": "contourcarpet"
           }
          ],
          "heatmap": [
           {
            "colorbar": {
             "outlinewidth": 0,
             "ticks": ""
            },
            "colorscale": [
             [
              0,
              "#0d0887"
             ],
             [
              0.1111111111111111,
              "#46039f"
             ],
             [
              0.2222222222222222,
              "#7201a8"
             ],
             [
              0.3333333333333333,
              "#9c179e"
             ],
             [
              0.4444444444444444,
              "#bd3786"
             ],
             [
              0.5555555555555556,
              "#d8576b"
             ],
             [
              0.6666666666666666,
              "#ed7953"
             ],
             [
              0.7777777777777778,
              "#fb9f3a"
             ],
             [
              0.8888888888888888,
              "#fdca26"
             ],
             [
              1,
              "#f0f921"
             ]
            ],
            "type": "heatmap"
           }
          ],
          "heatmapgl": [
           {
            "colorbar": {
             "outlinewidth": 0,
             "ticks": ""
            },
            "colorscale": [
             [
              0,
              "#0d0887"
             ],
             [
              0.1111111111111111,
              "#46039f"
             ],
             [
              0.2222222222222222,
              "#7201a8"
             ],
             [
              0.3333333333333333,
              "#9c179e"
             ],
             [
              0.4444444444444444,
              "#bd3786"
             ],
             [
              0.5555555555555556,
              "#d8576b"
             ],
             [
              0.6666666666666666,
              "#ed7953"
             ],
             [
              0.7777777777777778,
              "#fb9f3a"
             ],
             [
              0.8888888888888888,
              "#fdca26"
             ],
             [
              1,
              "#f0f921"
             ]
            ],
            "type": "heatmapgl"
           }
          ],
          "histogram": [
           {
            "marker": {
             "pattern": {
              "fillmode": "overlay",
              "size": 10,
              "solidity": 0.2
             }
            },
            "type": "histogram"
           }
          ],
          "histogram2d": [
           {
            "colorbar": {
             "outlinewidth": 0,
             "ticks": ""
            },
            "colorscale": [
             [
              0,
              "#0d0887"
             ],
             [
              0.1111111111111111,
              "#46039f"
             ],
             [
              0.2222222222222222,
              "#7201a8"
             ],
             [
              0.3333333333333333,
              "#9c179e"
             ],
             [
              0.4444444444444444,
              "#bd3786"
             ],
             [
              0.5555555555555556,
              "#d8576b"
             ],
             [
              0.6666666666666666,
              "#ed7953"
             ],
             [
              0.7777777777777778,
              "#fb9f3a"
             ],
             [
              0.8888888888888888,
              "#fdca26"
             ],
             [
              1,
              "#f0f921"
             ]
            ],
            "type": "histogram2d"
           }
          ],
          "histogram2dcontour": [
           {
            "colorbar": {
             "outlinewidth": 0,
             "ticks": ""
            },
            "colorscale": [
             [
              0,
              "#0d0887"
             ],
             [
              0.1111111111111111,
              "#46039f"
             ],
             [
              0.2222222222222222,
              "#7201a8"
             ],
             [
              0.3333333333333333,
              "#9c179e"
             ],
             [
              0.4444444444444444,
              "#bd3786"
             ],
             [
              0.5555555555555556,
              "#d8576b"
             ],
             [
              0.6666666666666666,
              "#ed7953"
             ],
             [
              0.7777777777777778,
              "#fb9f3a"
             ],
             [
              0.8888888888888888,
              "#fdca26"
             ],
             [
              1,
              "#f0f921"
             ]
            ],
            "type": "histogram2dcontour"
           }
          ],
          "mesh3d": [
           {
            "colorbar": {
             "outlinewidth": 0,
             "ticks": ""
            },
            "type": "mesh3d"
           }
          ],
          "parcoords": [
           {
            "line": {
             "colorbar": {
              "outlinewidth": 0,
              "ticks": ""
             }
            },
            "type": "parcoords"
           }
          ],
          "pie": [
           {
            "automargin": true,
            "type": "pie"
           }
          ],
          "scatter": [
           {
            "fillpattern": {
             "fillmode": "overlay",
             "size": 10,
             "solidity": 0.2
            },
            "type": "scatter"
           }
          ],
          "scatter3d": [
           {
            "line": {
             "colorbar": {
              "outlinewidth": 0,
              "ticks": ""
             }
            },
            "marker": {
             "colorbar": {
              "outlinewidth": 0,
              "ticks": ""
             }
            },
            "type": "scatter3d"
           }
          ],
          "scattercarpet": [
           {
            "marker": {
             "colorbar": {
              "outlinewidth": 0,
              "ticks": ""
             }
            },
            "type": "scattercarpet"
           }
          ],
          "scattergeo": [
           {
            "marker": {
             "colorbar": {
              "outlinewidth": 0,
              "ticks": ""
             }
            },
            "type": "scattergeo"
           }
          ],
          "scattergl": [
           {
            "marker": {
             "colorbar": {
              "outlinewidth": 0,
              "ticks": ""
             }
            },
            "type": "scattergl"
           }
          ],
          "scattermapbox": [
           {
            "marker": {
             "colorbar": {
              "outlinewidth": 0,
              "ticks": ""
             }
            },
            "type": "scattermapbox"
           }
          ],
          "scatterpolar": [
           {
            "marker": {
             "colorbar": {
              "outlinewidth": 0,
              "ticks": ""
             }
            },
            "type": "scatterpolar"
           }
          ],
          "scatterpolargl": [
           {
            "marker": {
             "colorbar": {
              "outlinewidth": 0,
              "ticks": ""
             }
            },
            "type": "scatterpolargl"
           }
          ],
          "scatterternary": [
           {
            "marker": {
             "colorbar": {
              "outlinewidth": 0,
              "ticks": ""
             }
            },
            "type": "scatterternary"
           }
          ],
          "surface": [
           {
            "colorbar": {
             "outlinewidth": 0,
             "ticks": ""
            },
            "colorscale": [
             [
              0,
              "#0d0887"
             ],
             [
              0.1111111111111111,
              "#46039f"
             ],
             [
              0.2222222222222222,
              "#7201a8"
             ],
             [
              0.3333333333333333,
              "#9c179e"
             ],
             [
              0.4444444444444444,
              "#bd3786"
             ],
             [
              0.5555555555555556,
              "#d8576b"
             ],
             [
              0.6666666666666666,
              "#ed7953"
             ],
             [
              0.7777777777777778,
              "#fb9f3a"
             ],
             [
              0.8888888888888888,
              "#fdca26"
             ],
             [
              1,
              "#f0f921"
             ]
            ],
            "type": "surface"
           }
          ],
          "table": [
           {
            "cells": {
             "fill": {
              "color": "#EBF0F8"
             },
             "line": {
              "color": "white"
             }
            },
            "header": {
             "fill": {
              "color": "#C8D4E3"
             },
             "line": {
              "color": "white"
             }
            },
            "type": "table"
           }
          ]
         },
         "layout": {
          "annotationdefaults": {
           "arrowcolor": "#2a3f5f",
           "arrowhead": 0,
           "arrowwidth": 1
          },
          "autotypenumbers": "strict",
          "coloraxis": {
           "colorbar": {
            "outlinewidth": 0,
            "ticks": ""
           }
          },
          "colorscale": {
           "diverging": [
            [
             0,
             "#8e0152"
            ],
            [
             0.1,
             "#c51b7d"
            ],
            [
             0.2,
             "#de77ae"
            ],
            [
             0.3,
             "#f1b6da"
            ],
            [
             0.4,
             "#fde0ef"
            ],
            [
             0.5,
             "#f7f7f7"
            ],
            [
             0.6,
             "#e6f5d0"
            ],
            [
             0.7,
             "#b8e186"
            ],
            [
             0.8,
             "#7fbc41"
            ],
            [
             0.9,
             "#4d9221"
            ],
            [
             1,
             "#276419"
            ]
           ],
           "sequential": [
            [
             0,
             "#0d0887"
            ],
            [
             0.1111111111111111,
             "#46039f"
            ],
            [
             0.2222222222222222,
             "#7201a8"
            ],
            [
             0.3333333333333333,
             "#9c179e"
            ],
            [
             0.4444444444444444,
             "#bd3786"
            ],
            [
             0.5555555555555556,
             "#d8576b"
            ],
            [
             0.6666666666666666,
             "#ed7953"
            ],
            [
             0.7777777777777778,
             "#fb9f3a"
            ],
            [
             0.8888888888888888,
             "#fdca26"
            ],
            [
             1,
             "#f0f921"
            ]
           ],
           "sequentialminus": [
            [
             0,
             "#0d0887"
            ],
            [
             0.1111111111111111,
             "#46039f"
            ],
            [
             0.2222222222222222,
             "#7201a8"
            ],
            [
             0.3333333333333333,
             "#9c179e"
            ],
            [
             0.4444444444444444,
             "#bd3786"
            ],
            [
             0.5555555555555556,
             "#d8576b"
            ],
            [
             0.6666666666666666,
             "#ed7953"
            ],
            [
             0.7777777777777778,
             "#fb9f3a"
            ],
            [
             0.8888888888888888,
             "#fdca26"
            ],
            [
             1,
             "#f0f921"
            ]
           ]
          },
          "colorway": [
           "#636efa",
           "#EF553B",
           "#00cc96",
           "#ab63fa",
           "#FFA15A",
           "#19d3f3",
           "#FF6692",
           "#B6E880",
           "#FF97FF",
           "#FECB52"
          ],
          "font": {
           "color": "#2a3f5f"
          },
          "geo": {
           "bgcolor": "white",
           "lakecolor": "white",
           "landcolor": "#E5ECF6",
           "showlakes": true,
           "showland": true,
           "subunitcolor": "white"
          },
          "hoverlabel": {
           "align": "left"
          },
          "hovermode": "closest",
          "mapbox": {
           "style": "light"
          },
          "paper_bgcolor": "white",
          "plot_bgcolor": "#E5ECF6",
          "polar": {
           "angularaxis": {
            "gridcolor": "white",
            "linecolor": "white",
            "ticks": ""
           },
           "bgcolor": "#E5ECF6",
           "radialaxis": {
            "gridcolor": "white",
            "linecolor": "white",
            "ticks": ""
           }
          },
          "scene": {
           "xaxis": {
            "backgroundcolor": "#E5ECF6",
            "gridcolor": "white",
            "gridwidth": 2,
            "linecolor": "white",
            "showbackground": true,
            "ticks": "",
            "zerolinecolor": "white"
           },
           "yaxis": {
            "backgroundcolor": "#E5ECF6",
            "gridcolor": "white",
            "gridwidth": 2,
            "linecolor": "white",
            "showbackground": true,
            "ticks": "",
            "zerolinecolor": "white"
           },
           "zaxis": {
            "backgroundcolor": "#E5ECF6",
            "gridcolor": "white",
            "gridwidth": 2,
            "linecolor": "white",
            "showbackground": true,
            "ticks": "",
            "zerolinecolor": "white"
           }
          },
          "shapedefaults": {
           "line": {
            "color": "#2a3f5f"
           }
          },
          "ternary": {
           "aaxis": {
            "gridcolor": "white",
            "linecolor": "white",
            "ticks": ""
           },
           "baxis": {
            "gridcolor": "white",
            "linecolor": "white",
            "ticks": ""
           },
           "bgcolor": "#E5ECF6",
           "caxis": {
            "gridcolor": "white",
            "linecolor": "white",
            "ticks": ""
           }
          },
          "title": {
           "x": 0.05
          },
          "xaxis": {
           "automargin": true,
           "gridcolor": "white",
           "linecolor": "white",
           "ticks": "",
           "title": {
            "standoff": 15
           },
           "zerolinecolor": "white",
           "zerolinewidth": 2
          },
          "yaxis": {
           "automargin": true,
           "gridcolor": "white",
           "linecolor": "white",
           "ticks": "",
           "title": {
            "standoff": 15
           },
           "zerolinecolor": "white",
           "zerolinewidth": 2
          }
         }
        },
        "xaxis": {
         "showticklabels": false,
         "visible": false
        },
        "yaxis": {
         "title": {
          "text": "Decrease in Variance (%)"
         }
        }
       }
      }
     },
     "metadata": {},
     "output_type": "display_data"
    }
   ],
   "source": [
    "tree.print_tree(table = False, html = False, visual_pruning = True)"
   ]
  },
  {
   "cell_type": "code",
   "execution_count": 13,
   "metadata": {},
   "outputs": [
    {
     "data": {
      "application/vnd.plotly.v1+json": {
       "config": {
        "plotlyServerURL": "https://plot.ly"
       },
       "data": [
        {
         "hoverinfo": "none",
         "line": {
          "color": "rgb(210,210,210)",
          "width": 1
         },
         "mode": "lines",
         "type": "scatter",
         "x": [
          0,
          -1.25,
          null,
          0,
          1.25,
          null,
          -1.25,
          -2.25,
          null,
          -1.25,
          -0.25,
          null,
          1.25,
          0.75,
          null,
          1.25,
          1.75,
          null,
          -0.25,
          -0.75,
          null,
          -0.25,
          0.25,
          null
         ],
         "y": [
          1,
          0.9267641734193468,
          null,
          1,
          0.9267641734193468,
          null,
          0.9267641734193468,
          0.6527475121918691,
          null,
          0.9267641734193468,
          0.6527475121918691,
          null,
          0.9267641734193468,
          0.9140821646307937,
          null,
          0.9267641734193468,
          0.9140821646307937,
          null,
          0.6527475121918691,
          0.6297626667457272,
          null,
          0.6527475121918691,
          0.6297626667457272,
          null
         ]
        },
        {
         "hoverinfo": "text",
         "marker": {
          "color": "#6175c1",
          "line": {
           "color": "rgb(50,50,50)",
           "width": 1
          },
          "size": 18,
          "symbol": "circle-dot"
         },
         "mode": "markers",
         "name": "Nodes",
         "opacity": 0.8,
         "text": [
          "n10<br>Class: NO<br>tau : None<br>Samples : 5<br>GPR: []<br>LPR: []",
          "n6<br>Class: YES<br>tau : None<br>Samples : 33<br>GPR: 0.694<br>LPR: 0.333",
          "n7<br>Class: NO<br>tau : None<br>Samples : 194<br>GPR: 0.213<br>LPR: 0.112",
          "n1<br>ShelveLoc in (b'Medium', b'Bad')<br>Class:NO<br>tau : 0.15<br>Samples: 280<br>GPR: 0.177<br>LPR: 0.153",
          "n2<br>Price > 121.0<br>Class:YES<br>tau : 0.18<br>Samples: 53<br>GPR: 0.809<br>LPR: 0.184",
          "n4<br>Class: YES<br>tau : None<br>Samples : 27<br>GPR: 0.481<br>LPR: 0.169",
          "n5<br>Income > 36.0<br>Class:YES<br>tau : 0.38<br>Samples: 26<br>GPR: 0.919<br>LPR: 0.381",
          "n11<br>Class: YES<br>tau : None<br>Samples : 21<br>GPR: 0.563<br>LPR: 0.234",
          "n3<br>Price > 92.5<br>Class:NO<br>tau : 0.14<br>Samples: 227<br>GPR: 0.442<br>LPR: 0.144"
         ],
         "type": "scatter",
         "x": [
          -0.75,
          0.75,
          1.75,
          0,
          -1.25,
          -2.25,
          -0.25,
          0.25,
          1.25
         ],
         "y": [
          0.6297626667457272,
          0.9140821646307937,
          0.9140821646307937,
          1,
          0.9267641734193468,
          0.6527475121918691,
          0.6527475121918691,
          0.6297626667457272,
          0.9267641734193468
         ]
        }
       ],
       "layout": {
        "margin": {
         "b": 0,
         "l": 0,
         "r": 0,
         "t": 0
        },
        "plot_bgcolor": "rgba(0, 0, 0, 0)",
        "template": {
         "data": {
          "bar": [
           {
            "error_x": {
             "color": "#2a3f5f"
            },
            "error_y": {
             "color": "#2a3f5f"
            },
            "marker": {
             "line": {
              "color": "#E5ECF6",
              "width": 0.5
             },
             "pattern": {
              "fillmode": "overlay",
              "size": 10,
              "solidity": 0.2
             }
            },
            "type": "bar"
           }
          ],
          "barpolar": [
           {
            "marker": {
             "line": {
              "color": "#E5ECF6",
              "width": 0.5
             },
             "pattern": {
              "fillmode": "overlay",
              "size": 10,
              "solidity": 0.2
             }
            },
            "type": "barpolar"
           }
          ],
          "carpet": [
           {
            "aaxis": {
             "endlinecolor": "#2a3f5f",
             "gridcolor": "white",
             "linecolor": "white",
             "minorgridcolor": "white",
             "startlinecolor": "#2a3f5f"
            },
            "baxis": {
             "endlinecolor": "#2a3f5f",
             "gridcolor": "white",
             "linecolor": "white",
             "minorgridcolor": "white",
             "startlinecolor": "#2a3f5f"
            },
            "type": "carpet"
           }
          ],
          "choropleth": [
           {
            "colorbar": {
             "outlinewidth": 0,
             "ticks": ""
            },
            "type": "choropleth"
           }
          ],
          "contour": [
           {
            "colorbar": {
             "outlinewidth": 0,
             "ticks": ""
            },
            "colorscale": [
             [
              0,
              "#0d0887"
             ],
             [
              0.1111111111111111,
              "#46039f"
             ],
             [
              0.2222222222222222,
              "#7201a8"
             ],
             [
              0.3333333333333333,
              "#9c179e"
             ],
             [
              0.4444444444444444,
              "#bd3786"
             ],
             [
              0.5555555555555556,
              "#d8576b"
             ],
             [
              0.6666666666666666,
              "#ed7953"
             ],
             [
              0.7777777777777778,
              "#fb9f3a"
             ],
             [
              0.8888888888888888,
              "#fdca26"
             ],
             [
              1,
              "#f0f921"
             ]
            ],
            "type": "contour"
           }
          ],
          "contourcarpet": [
           {
            "colorbar": {
             "outlinewidth": 0,
             "ticks": ""
            },
            "type": "contourcarpet"
           }
          ],
          "heatmap": [
           {
            "colorbar": {
             "outlinewidth": 0,
             "ticks": ""
            },
            "colorscale": [
             [
              0,
              "#0d0887"
             ],
             [
              0.1111111111111111,
              "#46039f"
             ],
             [
              0.2222222222222222,
              "#7201a8"
             ],
             [
              0.3333333333333333,
              "#9c179e"
             ],
             [
              0.4444444444444444,
              "#bd3786"
             ],
             [
              0.5555555555555556,
              "#d8576b"
             ],
             [
              0.6666666666666666,
              "#ed7953"
             ],
             [
              0.7777777777777778,
              "#fb9f3a"
             ],
             [
              0.8888888888888888,
              "#fdca26"
             ],
             [
              1,
              "#f0f921"
             ]
            ],
            "type": "heatmap"
           }
          ],
          "heatmapgl": [
           {
            "colorbar": {
             "outlinewidth": 0,
             "ticks": ""
            },
            "colorscale": [
             [
              0,
              "#0d0887"
             ],
             [
              0.1111111111111111,
              "#46039f"
             ],
             [
              0.2222222222222222,
              "#7201a8"
             ],
             [
              0.3333333333333333,
              "#9c179e"
             ],
             [
              0.4444444444444444,
              "#bd3786"
             ],
             [
              0.5555555555555556,
              "#d8576b"
             ],
             [
              0.6666666666666666,
              "#ed7953"
             ],
             [
              0.7777777777777778,
              "#fb9f3a"
             ],
             [
              0.8888888888888888,
              "#fdca26"
             ],
             [
              1,
              "#f0f921"
             ]
            ],
            "type": "heatmapgl"
           }
          ],
          "histogram": [
           {
            "marker": {
             "pattern": {
              "fillmode": "overlay",
              "size": 10,
              "solidity": 0.2
             }
            },
            "type": "histogram"
           }
          ],
          "histogram2d": [
           {
            "colorbar": {
             "outlinewidth": 0,
             "ticks": ""
            },
            "colorscale": [
             [
              0,
              "#0d0887"
             ],
             [
              0.1111111111111111,
              "#46039f"
             ],
             [
              0.2222222222222222,
              "#7201a8"
             ],
             [
              0.3333333333333333,
              "#9c179e"
             ],
             [
              0.4444444444444444,
              "#bd3786"
             ],
             [
              0.5555555555555556,
              "#d8576b"
             ],
             [
              0.6666666666666666,
              "#ed7953"
             ],
             [
              0.7777777777777778,
              "#fb9f3a"
             ],
             [
              0.8888888888888888,
              "#fdca26"
             ],
             [
              1,
              "#f0f921"
             ]
            ],
            "type": "histogram2d"
           }
          ],
          "histogram2dcontour": [
           {
            "colorbar": {
             "outlinewidth": 0,
             "ticks": ""
            },
            "colorscale": [
             [
              0,
              "#0d0887"
             ],
             [
              0.1111111111111111,
              "#46039f"
             ],
             [
              0.2222222222222222,
              "#7201a8"
             ],
             [
              0.3333333333333333,
              "#9c179e"
             ],
             [
              0.4444444444444444,
              "#bd3786"
             ],
             [
              0.5555555555555556,
              "#d8576b"
             ],
             [
              0.6666666666666666,
              "#ed7953"
             ],
             [
              0.7777777777777778,
              "#fb9f3a"
             ],
             [
              0.8888888888888888,
              "#fdca26"
             ],
             [
              1,
              "#f0f921"
             ]
            ],
            "type": "histogram2dcontour"
           }
          ],
          "mesh3d": [
           {
            "colorbar": {
             "outlinewidth": 0,
             "ticks": ""
            },
            "type": "mesh3d"
           }
          ],
          "parcoords": [
           {
            "line": {
             "colorbar": {
              "outlinewidth": 0,
              "ticks": ""
             }
            },
            "type": "parcoords"
           }
          ],
          "pie": [
           {
            "automargin": true,
            "type": "pie"
           }
          ],
          "scatter": [
           {
            "fillpattern": {
             "fillmode": "overlay",
             "size": 10,
             "solidity": 0.2
            },
            "type": "scatter"
           }
          ],
          "scatter3d": [
           {
            "line": {
             "colorbar": {
              "outlinewidth": 0,
              "ticks": ""
             }
            },
            "marker": {
             "colorbar": {
              "outlinewidth": 0,
              "ticks": ""
             }
            },
            "type": "scatter3d"
           }
          ],
          "scattercarpet": [
           {
            "marker": {
             "colorbar": {
              "outlinewidth": 0,
              "ticks": ""
             }
            },
            "type": "scattercarpet"
           }
          ],
          "scattergeo": [
           {
            "marker": {
             "colorbar": {
              "outlinewidth": 0,
              "ticks": ""
             }
            },
            "type": "scattergeo"
           }
          ],
          "scattergl": [
           {
            "marker": {
             "colorbar": {
              "outlinewidth": 0,
              "ticks": ""
             }
            },
            "type": "scattergl"
           }
          ],
          "scattermapbox": [
           {
            "marker": {
             "colorbar": {
              "outlinewidth": 0,
              "ticks": ""
             }
            },
            "type": "scattermapbox"
           }
          ],
          "scatterpolar": [
           {
            "marker": {
             "colorbar": {
              "outlinewidth": 0,
              "ticks": ""
             }
            },
            "type": "scatterpolar"
           }
          ],
          "scatterpolargl": [
           {
            "marker": {
             "colorbar": {
              "outlinewidth": 0,
              "ticks": ""
             }
            },
            "type": "scatterpolargl"
           }
          ],
          "scatterternary": [
           {
            "marker": {
             "colorbar": {
              "outlinewidth": 0,
              "ticks": ""
             }
            },
            "type": "scatterternary"
           }
          ],
          "surface": [
           {
            "colorbar": {
             "outlinewidth": 0,
             "ticks": ""
            },
            "colorscale": [
             [
              0,
              "#0d0887"
             ],
             [
              0.1111111111111111,
              "#46039f"
             ],
             [
              0.2222222222222222,
              "#7201a8"
             ],
             [
              0.3333333333333333,
              "#9c179e"
             ],
             [
              0.4444444444444444,
              "#bd3786"
             ],
             [
              0.5555555555555556,
              "#d8576b"
             ],
             [
              0.6666666666666666,
              "#ed7953"
             ],
             [
              0.7777777777777778,
              "#fb9f3a"
             ],
             [
              0.8888888888888888,
              "#fdca26"
             ],
             [
              1,
              "#f0f921"
             ]
            ],
            "type": "surface"
           }
          ],
          "table": [
           {
            "cells": {
             "fill": {
              "color": "#EBF0F8"
             },
             "line": {
              "color": "white"
             }
            },
            "header": {
             "fill": {
              "color": "#C8D4E3"
             },
             "line": {
              "color": "white"
             }
            },
            "type": "table"
           }
          ]
         },
         "layout": {
          "annotationdefaults": {
           "arrowcolor": "#2a3f5f",
           "arrowhead": 0,
           "arrowwidth": 1
          },
          "autotypenumbers": "strict",
          "coloraxis": {
           "colorbar": {
            "outlinewidth": 0,
            "ticks": ""
           }
          },
          "colorscale": {
           "diverging": [
            [
             0,
             "#8e0152"
            ],
            [
             0.1,
             "#c51b7d"
            ],
            [
             0.2,
             "#de77ae"
            ],
            [
             0.3,
             "#f1b6da"
            ],
            [
             0.4,
             "#fde0ef"
            ],
            [
             0.5,
             "#f7f7f7"
            ],
            [
             0.6,
             "#e6f5d0"
            ],
            [
             0.7,
             "#b8e186"
            ],
            [
             0.8,
             "#7fbc41"
            ],
            [
             0.9,
             "#4d9221"
            ],
            [
             1,
             "#276419"
            ]
           ],
           "sequential": [
            [
             0,
             "#0d0887"
            ],
            [
             0.1111111111111111,
             "#46039f"
            ],
            [
             0.2222222222222222,
             "#7201a8"
            ],
            [
             0.3333333333333333,
             "#9c179e"
            ],
            [
             0.4444444444444444,
             "#bd3786"
            ],
            [
             0.5555555555555556,
             "#d8576b"
            ],
            [
             0.6666666666666666,
             "#ed7953"
            ],
            [
             0.7777777777777778,
             "#fb9f3a"
            ],
            [
             0.8888888888888888,
             "#fdca26"
            ],
            [
             1,
             "#f0f921"
            ]
           ],
           "sequentialminus": [
            [
             0,
             "#0d0887"
            ],
            [
             0.1111111111111111,
             "#46039f"
            ],
            [
             0.2222222222222222,
             "#7201a8"
            ],
            [
             0.3333333333333333,
             "#9c179e"
            ],
            [
             0.4444444444444444,
             "#bd3786"
            ],
            [
             0.5555555555555556,
             "#d8576b"
            ],
            [
             0.6666666666666666,
             "#ed7953"
            ],
            [
             0.7777777777777778,
             "#fb9f3a"
            ],
            [
             0.8888888888888888,
             "#fdca26"
            ],
            [
             1,
             "#f0f921"
            ]
           ]
          },
          "colorway": [
           "#636efa",
           "#EF553B",
           "#00cc96",
           "#ab63fa",
           "#FFA15A",
           "#19d3f3",
           "#FF6692",
           "#B6E880",
           "#FF97FF",
           "#FECB52"
          ],
          "font": {
           "color": "#2a3f5f"
          },
          "geo": {
           "bgcolor": "white",
           "lakecolor": "white",
           "landcolor": "#E5ECF6",
           "showlakes": true,
           "showland": true,
           "subunitcolor": "white"
          },
          "hoverlabel": {
           "align": "left"
          },
          "hovermode": "closest",
          "mapbox": {
           "style": "light"
          },
          "paper_bgcolor": "white",
          "plot_bgcolor": "#E5ECF6",
          "polar": {
           "angularaxis": {
            "gridcolor": "white",
            "linecolor": "white",
            "ticks": ""
           },
           "bgcolor": "#E5ECF6",
           "radialaxis": {
            "gridcolor": "white",
            "linecolor": "white",
            "ticks": ""
           }
          },
          "scene": {
           "xaxis": {
            "backgroundcolor": "#E5ECF6",
            "gridcolor": "white",
            "gridwidth": 2,
            "linecolor": "white",
            "showbackground": true,
            "ticks": "",
            "zerolinecolor": "white"
           },
           "yaxis": {
            "backgroundcolor": "#E5ECF6",
            "gridcolor": "white",
            "gridwidth": 2,
            "linecolor": "white",
            "showbackground": true,
            "ticks": "",
            "zerolinecolor": "white"
           },
           "zaxis": {
            "backgroundcolor": "#E5ECF6",
            "gridcolor": "white",
            "gridwidth": 2,
            "linecolor": "white",
            "showbackground": true,
            "ticks": "",
            "zerolinecolor": "white"
           }
          },
          "shapedefaults": {
           "line": {
            "color": "#2a3f5f"
           }
          },
          "ternary": {
           "aaxis": {
            "gridcolor": "white",
            "linecolor": "white",
            "ticks": ""
           },
           "baxis": {
            "gridcolor": "white",
            "linecolor": "white",
            "ticks": ""
           },
           "bgcolor": "#E5ECF6",
           "caxis": {
            "gridcolor": "white",
            "linecolor": "white",
            "ticks": ""
           }
          },
          "title": {
           "x": 0.05
          },
          "xaxis": {
           "automargin": true,
           "gridcolor": "white",
           "linecolor": "white",
           "ticks": "",
           "title": {
            "standoff": 15
           },
           "zerolinecolor": "white",
           "zerolinewidth": 2
          },
          "yaxis": {
           "automargin": true,
           "gridcolor": "white",
           "linecolor": "white",
           "ticks": "",
           "title": {
            "standoff": 15
           },
           "zerolinecolor": "white",
           "zerolinewidth": 2
          }
         }
        },
        "xaxis": {
         "showticklabels": false,
         "visible": false
        },
        "yaxis": {
         "title": {
          "text": "Decrease in Variance (%)"
         }
        }
       }
      }
     },
     "metadata": {},
     "output_type": "display_data"
    }
   ],
   "source": [
    "tree.print_tree(table = False, html = False, visual_pruning = True, merge_leaves = True )"
   ]
  },
  {
   "cell_type": "code",
   "execution_count": 14,
   "metadata": {},
   "outputs": [
    {
     "name": "stdout",
     "output_type": "stream",
     "text": [
      "To return the table, print_tree must be True: setting print_tree to True\n",
      "Best tree for test set has 5 leaves with misclassification count 32 \n"
     ]
    },
    {
     "data": {
      "application/vnd.plotly.v1+json": {
       "config": {
        "plotlyServerURL": "https://plot.ly"
       },
       "data": [
        {
         "hoverinfo": "none",
         "line": {
          "color": "rgb(210,210,210)",
          "width": 1
         },
         "mode": "lines",
         "type": "scatter",
         "x": [
          0,
          -1.25,
          null,
          0,
          1.25,
          null,
          -1.25,
          -2.25,
          null,
          -1.25,
          -0.25,
          null,
          1.25,
          0.75,
          null,
          1.25,
          1.75,
          null,
          -0.25,
          -0.75,
          null,
          -0.25,
          0.25,
          null
         ],
         "y": [
          6,
          5,
          null,
          6,
          5,
          null,
          5,
          4,
          null,
          5,
          4,
          null,
          5,
          4,
          null,
          5,
          4,
          null,
          4,
          3,
          null,
          4,
          3,
          null
         ]
        },
        {
         "hoverinfo": "text",
         "marker": {
          "color": "#6175c1",
          "line": {
           "color": "rgb(50,50,50)",
           "width": 1
          },
          "size": 18,
          "symbol": "circle-dot"
         },
         "mode": "markers",
         "name": "Nodes",
         "opacity": 0.8,
         "text": [
          "n10<br>Class: NO<br>tau : None<br>Samples : 5<br>GPR: []<br>LPR: []",
          "n6<br>Class: YES<br>tau : None<br>Samples : 33<br>GPR: 0.694<br>LPR: 0.333",
          "n7<br>Class: NO<br>tau : None<br>Samples : 194<br>GPR: 0.213<br>LPR: 0.112",
          "n1<br>ShelveLoc in (b'Medium', b'Bad')<br>Class:NO<br>tau : 0.15<br>Samples: 280<br>GPR: 0.177<br>LPR: 0.153",
          "n2<br>Price > 121.0<br>Class:YES<br>tau : 0.18<br>Samples: 53<br>GPR: 0.809<br>LPR: 0.184",
          "n4<br>Class: YES<br>tau : None<br>Samples : 27<br>GPR: 0.481<br>LPR: 0.169",
          "n5<br>Income > 36.0<br>Class:YES<br>tau : 0.38<br>Samples: 26<br>GPR: 0.919<br>LPR: 0.381",
          "n11<br>Class: YES<br>tau : None<br>Samples : 21<br>GPR: 0.563<br>LPR: 0.234",
          "n3<br>Price > 92.5<br>Class:NO<br>tau : 0.14<br>Samples: 227<br>GPR: 0.442<br>LPR: 0.144"
         ],
         "type": "scatter",
         "x": [
          -0.75,
          0.75,
          1.75,
          0,
          -1.25,
          -2.25,
          -0.25,
          0.25,
          1.25
         ],
         "y": [
          3,
          4,
          4,
          6,
          5,
          4,
          4,
          3,
          5
         ]
        }
       ],
       "layout": {
        "margin": {
         "b": 0,
         "l": 0,
         "r": 0,
         "t": 0
        },
        "plot_bgcolor": "rgba(0, 0, 0, 0)",
        "template": {
         "data": {
          "bar": [
           {
            "error_x": {
             "color": "#2a3f5f"
            },
            "error_y": {
             "color": "#2a3f5f"
            },
            "marker": {
             "line": {
              "color": "#E5ECF6",
              "width": 0.5
             },
             "pattern": {
              "fillmode": "overlay",
              "size": 10,
              "solidity": 0.2
             }
            },
            "type": "bar"
           }
          ],
          "barpolar": [
           {
            "marker": {
             "line": {
              "color": "#E5ECF6",
              "width": 0.5
             },
             "pattern": {
              "fillmode": "overlay",
              "size": 10,
              "solidity": 0.2
             }
            },
            "type": "barpolar"
           }
          ],
          "carpet": [
           {
            "aaxis": {
             "endlinecolor": "#2a3f5f",
             "gridcolor": "white",
             "linecolor": "white",
             "minorgridcolor": "white",
             "startlinecolor": "#2a3f5f"
            },
            "baxis": {
             "endlinecolor": "#2a3f5f",
             "gridcolor": "white",
             "linecolor": "white",
             "minorgridcolor": "white",
             "startlinecolor": "#2a3f5f"
            },
            "type": "carpet"
           }
          ],
          "choropleth": [
           {
            "colorbar": {
             "outlinewidth": 0,
             "ticks": ""
            },
            "type": "choropleth"
           }
          ],
          "contour": [
           {
            "colorbar": {
             "outlinewidth": 0,
             "ticks": ""
            },
            "colorscale": [
             [
              0,
              "#0d0887"
             ],
             [
              0.1111111111111111,
              "#46039f"
             ],
             [
              0.2222222222222222,
              "#7201a8"
             ],
             [
              0.3333333333333333,
              "#9c179e"
             ],
             [
              0.4444444444444444,
              "#bd3786"
             ],
             [
              0.5555555555555556,
              "#d8576b"
             ],
             [
              0.6666666666666666,
              "#ed7953"
             ],
             [
              0.7777777777777778,
              "#fb9f3a"
             ],
             [
              0.8888888888888888,
              "#fdca26"
             ],
             [
              1,
              "#f0f921"
             ]
            ],
            "type": "contour"
           }
          ],
          "contourcarpet": [
           {
            "colorbar": {
             "outlinewidth": 0,
             "ticks": ""
            },
            "type": "contourcarpet"
           }
          ],
          "heatmap": [
           {
            "colorbar": {
             "outlinewidth": 0,
             "ticks": ""
            },
            "colorscale": [
             [
              0,
              "#0d0887"
             ],
             [
              0.1111111111111111,
              "#46039f"
             ],
             [
              0.2222222222222222,
              "#7201a8"
             ],
             [
              0.3333333333333333,
              "#9c179e"
             ],
             [
              0.4444444444444444,
              "#bd3786"
             ],
             [
              0.5555555555555556,
              "#d8576b"
             ],
             [
              0.6666666666666666,
              "#ed7953"
             ],
             [
              0.7777777777777778,
              "#fb9f3a"
             ],
             [
              0.8888888888888888,
              "#fdca26"
             ],
             [
              1,
              "#f0f921"
             ]
            ],
            "type": "heatmap"
           }
          ],
          "heatmapgl": [
           {
            "colorbar": {
             "outlinewidth": 0,
             "ticks": ""
            },
            "colorscale": [
             [
              0,
              "#0d0887"
             ],
             [
              0.1111111111111111,
              "#46039f"
             ],
             [
              0.2222222222222222,
              "#7201a8"
             ],
             [
              0.3333333333333333,
              "#9c179e"
             ],
             [
              0.4444444444444444,
              "#bd3786"
             ],
             [
              0.5555555555555556,
              "#d8576b"
             ],
             [
              0.6666666666666666,
              "#ed7953"
             ],
             [
              0.7777777777777778,
              "#fb9f3a"
             ],
             [
              0.8888888888888888,
              "#fdca26"
             ],
             [
              1,
              "#f0f921"
             ]
            ],
            "type": "heatmapgl"
           }
          ],
          "histogram": [
           {
            "marker": {
             "pattern": {
              "fillmode": "overlay",
              "size": 10,
              "solidity": 0.2
             }
            },
            "type": "histogram"
           }
          ],
          "histogram2d": [
           {
            "colorbar": {
             "outlinewidth": 0,
             "ticks": ""
            },
            "colorscale": [
             [
              0,
              "#0d0887"
             ],
             [
              0.1111111111111111,
              "#46039f"
             ],
             [
              0.2222222222222222,
              "#7201a8"
             ],
             [
              0.3333333333333333,
              "#9c179e"
             ],
             [
              0.4444444444444444,
              "#bd3786"
             ],
             [
              0.5555555555555556,
              "#d8576b"
             ],
             [
              0.6666666666666666,
              "#ed7953"
             ],
             [
              0.7777777777777778,
              "#fb9f3a"
             ],
             [
              0.8888888888888888,
              "#fdca26"
             ],
             [
              1,
              "#f0f921"
             ]
            ],
            "type": "histogram2d"
           }
          ],
          "histogram2dcontour": [
           {
            "colorbar": {
             "outlinewidth": 0,
             "ticks": ""
            },
            "colorscale": [
             [
              0,
              "#0d0887"
             ],
             [
              0.1111111111111111,
              "#46039f"
             ],
             [
              0.2222222222222222,
              "#7201a8"
             ],
             [
              0.3333333333333333,
              "#9c179e"
             ],
             [
              0.4444444444444444,
              "#bd3786"
             ],
             [
              0.5555555555555556,
              "#d8576b"
             ],
             [
              0.6666666666666666,
              "#ed7953"
             ],
             [
              0.7777777777777778,
              "#fb9f3a"
             ],
             [
              0.8888888888888888,
              "#fdca26"
             ],
             [
              1,
              "#f0f921"
             ]
            ],
            "type": "histogram2dcontour"
           }
          ],
          "mesh3d": [
           {
            "colorbar": {
             "outlinewidth": 0,
             "ticks": ""
            },
            "type": "mesh3d"
           }
          ],
          "parcoords": [
           {
            "line": {
             "colorbar": {
              "outlinewidth": 0,
              "ticks": ""
             }
            },
            "type": "parcoords"
           }
          ],
          "pie": [
           {
            "automargin": true,
            "type": "pie"
           }
          ],
          "scatter": [
           {
            "fillpattern": {
             "fillmode": "overlay",
             "size": 10,
             "solidity": 0.2
            },
            "type": "scatter"
           }
          ],
          "scatter3d": [
           {
            "line": {
             "colorbar": {
              "outlinewidth": 0,
              "ticks": ""
             }
            },
            "marker": {
             "colorbar": {
              "outlinewidth": 0,
              "ticks": ""
             }
            },
            "type": "scatter3d"
           }
          ],
          "scattercarpet": [
           {
            "marker": {
             "colorbar": {
              "outlinewidth": 0,
              "ticks": ""
             }
            },
            "type": "scattercarpet"
           }
          ],
          "scattergeo": [
           {
            "marker": {
             "colorbar": {
              "outlinewidth": 0,
              "ticks": ""
             }
            },
            "type": "scattergeo"
           }
          ],
          "scattergl": [
           {
            "marker": {
             "colorbar": {
              "outlinewidth": 0,
              "ticks": ""
             }
            },
            "type": "scattergl"
           }
          ],
          "scattermapbox": [
           {
            "marker": {
             "colorbar": {
              "outlinewidth": 0,
              "ticks": ""
             }
            },
            "type": "scattermapbox"
           }
          ],
          "scatterpolar": [
           {
            "marker": {
             "colorbar": {
              "outlinewidth": 0,
              "ticks": ""
             }
            },
            "type": "scatterpolar"
           }
          ],
          "scatterpolargl": [
           {
            "marker": {
             "colorbar": {
              "outlinewidth": 0,
              "ticks": ""
             }
            },
            "type": "scatterpolargl"
           }
          ],
          "scatterternary": [
           {
            "marker": {
             "colorbar": {
              "outlinewidth": 0,
              "ticks": ""
             }
            },
            "type": "scatterternary"
           }
          ],
          "surface": [
           {
            "colorbar": {
             "outlinewidth": 0,
             "ticks": ""
            },
            "colorscale": [
             [
              0,
              "#0d0887"
             ],
             [
              0.1111111111111111,
              "#46039f"
             ],
             [
              0.2222222222222222,
              "#7201a8"
             ],
             [
              0.3333333333333333,
              "#9c179e"
             ],
             [
              0.4444444444444444,
              "#bd3786"
             ],
             [
              0.5555555555555556,
              "#d8576b"
             ],
             [
              0.6666666666666666,
              "#ed7953"
             ],
             [
              0.7777777777777778,
              "#fb9f3a"
             ],
             [
              0.8888888888888888,
              "#fdca26"
             ],
             [
              1,
              "#f0f921"
             ]
            ],
            "type": "surface"
           }
          ],
          "table": [
           {
            "cells": {
             "fill": {
              "color": "#EBF0F8"
             },
             "line": {
              "color": "white"
             }
            },
            "header": {
             "fill": {
              "color": "#C8D4E3"
             },
             "line": {
              "color": "white"
             }
            },
            "type": "table"
           }
          ]
         },
         "layout": {
          "annotationdefaults": {
           "arrowcolor": "#2a3f5f",
           "arrowhead": 0,
           "arrowwidth": 1
          },
          "autotypenumbers": "strict",
          "coloraxis": {
           "colorbar": {
            "outlinewidth": 0,
            "ticks": ""
           }
          },
          "colorscale": {
           "diverging": [
            [
             0,
             "#8e0152"
            ],
            [
             0.1,
             "#c51b7d"
            ],
            [
             0.2,
             "#de77ae"
            ],
            [
             0.3,
             "#f1b6da"
            ],
            [
             0.4,
             "#fde0ef"
            ],
            [
             0.5,
             "#f7f7f7"
            ],
            [
             0.6,
             "#e6f5d0"
            ],
            [
             0.7,
             "#b8e186"
            ],
            [
             0.8,
             "#7fbc41"
            ],
            [
             0.9,
             "#4d9221"
            ],
            [
             1,
             "#276419"
            ]
           ],
           "sequential": [
            [
             0,
             "#0d0887"
            ],
            [
             0.1111111111111111,
             "#46039f"
            ],
            [
             0.2222222222222222,
             "#7201a8"
            ],
            [
             0.3333333333333333,
             "#9c179e"
            ],
            [
             0.4444444444444444,
             "#bd3786"
            ],
            [
             0.5555555555555556,
             "#d8576b"
            ],
            [
             0.6666666666666666,
             "#ed7953"
            ],
            [
             0.7777777777777778,
             "#fb9f3a"
            ],
            [
             0.8888888888888888,
             "#fdca26"
            ],
            [
             1,
             "#f0f921"
            ]
           ],
           "sequentialminus": [
            [
             0,
             "#0d0887"
            ],
            [
             0.1111111111111111,
             "#46039f"
            ],
            [
             0.2222222222222222,
             "#7201a8"
            ],
            [
             0.3333333333333333,
             "#9c179e"
            ],
            [
             0.4444444444444444,
             "#bd3786"
            ],
            [
             0.5555555555555556,
             "#d8576b"
            ],
            [
             0.6666666666666666,
             "#ed7953"
            ],
            [
             0.7777777777777778,
             "#fb9f3a"
            ],
            [
             0.8888888888888888,
             "#fdca26"
            ],
            [
             1,
             "#f0f921"
            ]
           ]
          },
          "colorway": [
           "#636efa",
           "#EF553B",
           "#00cc96",
           "#ab63fa",
           "#FFA15A",
           "#19d3f3",
           "#FF6692",
           "#B6E880",
           "#FF97FF",
           "#FECB52"
          ],
          "font": {
           "color": "#2a3f5f"
          },
          "geo": {
           "bgcolor": "white",
           "lakecolor": "white",
           "landcolor": "#E5ECF6",
           "showlakes": true,
           "showland": true,
           "subunitcolor": "white"
          },
          "hoverlabel": {
           "align": "left"
          },
          "hovermode": "closest",
          "mapbox": {
           "style": "light"
          },
          "paper_bgcolor": "white",
          "plot_bgcolor": "#E5ECF6",
          "polar": {
           "angularaxis": {
            "gridcolor": "white",
            "linecolor": "white",
            "ticks": ""
           },
           "bgcolor": "#E5ECF6",
           "radialaxis": {
            "gridcolor": "white",
            "linecolor": "white",
            "ticks": ""
           }
          },
          "scene": {
           "xaxis": {
            "backgroundcolor": "#E5ECF6",
            "gridcolor": "white",
            "gridwidth": 2,
            "linecolor": "white",
            "showbackground": true,
            "ticks": "",
            "zerolinecolor": "white"
           },
           "yaxis": {
            "backgroundcolor": "#E5ECF6",
            "gridcolor": "white",
            "gridwidth": 2,
            "linecolor": "white",
            "showbackground": true,
            "ticks": "",
            "zerolinecolor": "white"
           },
           "zaxis": {
            "backgroundcolor": "#E5ECF6",
            "gridcolor": "white",
            "gridwidth": 2,
            "linecolor": "white",
            "showbackground": true,
            "ticks": "",
            "zerolinecolor": "white"
           }
          },
          "shapedefaults": {
           "line": {
            "color": "#2a3f5f"
           }
          },
          "ternary": {
           "aaxis": {
            "gridcolor": "white",
            "linecolor": "white",
            "ticks": ""
           },
           "baxis": {
            "gridcolor": "white",
            "linecolor": "white",
            "ticks": ""
           },
           "bgcolor": "#E5ECF6",
           "caxis": {
            "gridcolor": "white",
            "linecolor": "white",
            "ticks": ""
           }
          },
          "title": {
           "x": 0.05
          },
          "xaxis": {
           "automargin": true,
           "gridcolor": "white",
           "linecolor": "white",
           "ticks": "",
           "title": {
            "standoff": 15
           },
           "zerolinecolor": "white",
           "zerolinewidth": 2
          },
          "yaxis": {
           "automargin": true,
           "gridcolor": "white",
           "linecolor": "white",
           "ticks": "",
           "title": {
            "standoff": 15
           },
           "zerolinecolor": "white",
           "zerolinewidth": 2
          }
         }
        },
        "xaxis": {
         "showticklabels": false,
         "visible": false
        },
        "yaxis": {
         "showticklabels": true,
         "visible": false
        }
       }
      }
     },
     "metadata": {},
     "output_type": "display_data"
    },
    {
     "data": {
      "text/html": [
       "<style type=\"text/css\">\n",
       "</style>\n",
       "<table id=\"T_287c9\">\n",
       "  <thead>\n",
       "    <tr>\n",
       "      <th id=\"T_287c9_level0_col0\" class=\"col_heading level0 col0\" >Node</th>\n",
       "      <th id=\"T_287c9_level0_col1\" class=\"col_heading level0 col1\" >Node Type</th>\n",
       "      <th id=\"T_287c9_level0_col2\" class=\"col_heading level0 col2\" >Splitting Variable</th>\n",
       "      <th id=\"T_287c9_level0_col3\" class=\"col_heading level0 col3\" >n</th>\n",
       "      <th id=\"T_287c9_level0_col4\" class=\"col_heading level0 col4\" >Heterogeneity</th>\n",
       "      <th id=\"T_287c9_level0_col5\" class=\"col_heading level0 col5\" >Explained Heterogeneity</th>\n",
       "      <th id=\"T_287c9_level0_col6\" class=\"col_heading level0 col6\" >Class/Value</th>\n",
       "    </tr>\n",
       "  </thead>\n",
       "  <tbody>\n",
       "    <tr>\n",
       "      <td id=\"T_287c9_row0_col0\" class=\"data row0 col0\" >n1</td>\n",
       "      <td id=\"T_287c9_row0_col1\" class=\"data row0 col1\" >Parent</td>\n",
       "      <td id=\"T_287c9_row0_col2\" class=\"data row0 col2\" >ShelveLoc in (b'Medium', b'Bad')</td>\n",
       "      <td id=\"T_287c9_row0_col3\" class=\"data row0 col3\" >280</td>\n",
       "      <td id=\"T_287c9_row0_col4\" class=\"data row0 col4\" >376.06</td>\n",
       "      <td id=\"T_287c9_row0_col5\" class=\"data row0 col5\" >0.073</td>\n",
       "      <td id=\"T_287c9_row0_col6\" class=\"data row0 col6\" >NO</td>\n",
       "    </tr>\n",
       "    <tr>\n",
       "      <td id=\"T_287c9_row1_col0\" class=\"data row1 col0\" >n2</td>\n",
       "      <td id=\"T_287c9_row1_col1\" class=\"data row1 col1\" >Parent</td>\n",
       "      <td id=\"T_287c9_row1_col2\" class=\"data row1 col2\" >Price > 121.0</td>\n",
       "      <td id=\"T_287c9_row1_col3\" class=\"data row1 col3\" >53</td>\n",
       "      <td id=\"T_287c9_row1_col4\" class=\"data row1 col4\" >54.13</td>\n",
       "      <td id=\"T_287c9_row1_col5\" class=\"data row1 col5\" >0.347</td>\n",
       "      <td id=\"T_287c9_row1_col6\" class=\"data row1 col6\" >YES</td>\n",
       "    </tr>\n",
       "    <tr>\n",
       "      <td id=\"T_287c9_row2_col0\" class=\"data row2 col0\" >n4</td>\n",
       "      <td id=\"T_287c9_row2_col1\" class=\"data row2 col1\" >Child</td>\n",
       "      <td id=\"T_287c9_row2_col2\" class=\"data row2 col2\" >None</td>\n",
       "      <td id=\"T_287c9_row2_col3\" class=\"data row2 col3\" >27</td>\n",
       "      <td id=\"T_287c9_row2_col4\" class=\"data row2 col4\" >8.55</td>\n",
       "      <td id=\"T_287c9_row2_col5\" class=\"data row2 col5\" >None</td>\n",
       "      <td id=\"T_287c9_row2_col6\" class=\"data row2 col6\" >YES</td>\n",
       "    </tr>\n",
       "    <tr>\n",
       "      <td id=\"T_287c9_row3_col0\" class=\"data row3 col0\" >n5</td>\n",
       "      <td id=\"T_287c9_row3_col1\" class=\"data row3 col1\" >Parent</td>\n",
       "      <td id=\"T_287c9_row3_col2\" class=\"data row3 col2\" >Income > 36.0</td>\n",
       "      <td id=\"T_287c9_row3_col3\" class=\"data row3 col3\" >26</td>\n",
       "      <td id=\"T_287c9_row3_col4\" class=\"data row3 col4\" >34.65</td>\n",
       "      <td id=\"T_287c9_row3_col5\" class=\"data row3 col5\" >0.403</td>\n",
       "      <td id=\"T_287c9_row3_col6\" class=\"data row3 col6\" >YES</td>\n",
       "    </tr>\n",
       "    <tr>\n",
       "      <td id=\"T_287c9_row4_col0\" class=\"data row4 col0\" >n10</td>\n",
       "      <td id=\"T_287c9_row4_col1\" class=\"data row4 col1\" >Child</td>\n",
       "      <td id=\"T_287c9_row4_col2\" class=\"data row4 col2\" >None</td>\n",
       "      <td id=\"T_287c9_row4_col3\" class=\"data row4 col3\" >5</td>\n",
       "      <td id=\"T_287c9_row4_col4\" class=\"data row4 col4\" >-0.0</td>\n",
       "      <td id=\"T_287c9_row4_col5\" class=\"data row4 col5\" >None</td>\n",
       "      <td id=\"T_287c9_row4_col6\" class=\"data row4 col6\" >NO</td>\n",
       "    </tr>\n",
       "    <tr>\n",
       "      <td id=\"T_287c9_row5_col0\" class=\"data row5 col0\" >n11</td>\n",
       "      <td id=\"T_287c9_row5_col1\" class=\"data row5 col1\" >Child</td>\n",
       "      <td id=\"T_287c9_row5_col2\" class=\"data row5 col2\" >None</td>\n",
       "      <td id=\"T_287c9_row5_col3\" class=\"data row5 col3\" >21</td>\n",
       "      <td id=\"T_287c9_row5_col4\" class=\"data row5 col4\" >23.05</td>\n",
       "      <td id=\"T_287c9_row5_col5\" class=\"data row5 col5\" >None</td>\n",
       "      <td id=\"T_287c9_row5_col6\" class=\"data row5 col6\" >YES</td>\n",
       "    </tr>\n",
       "    <tr>\n",
       "      <td id=\"T_287c9_row6_col0\" class=\"data row6 col0\" >n3</td>\n",
       "      <td id=\"T_287c9_row6_col1\" class=\"data row6 col1\" >Parent</td>\n",
       "      <td id=\"T_287c9_row6_col2\" class=\"data row6 col2\" >Price > 92.5</td>\n",
       "      <td id=\"T_287c9_row6_col3\" class=\"data row6 col3\" >227</td>\n",
       "      <td id=\"T_287c9_row6_col4\" class=\"data row6 col4\" >278.84</td>\n",
       "      <td id=\"T_287c9_row6_col5\" class=\"data row6 col5\" >0.439</td>\n",
       "      <td id=\"T_287c9_row6_col6\" class=\"data row6 col6\" >NO</td>\n",
       "    </tr>\n",
       "    <tr>\n",
       "      <td id=\"T_287c9_row7_col0\" class=\"data row7 col0\" >n6</td>\n",
       "      <td id=\"T_287c9_row7_col1\" class=\"data row7 col1\" >Child</td>\n",
       "      <td id=\"T_287c9_row7_col2\" class=\"data row7 col2\" >None</td>\n",
       "      <td id=\"T_287c9_row7_col3\" class=\"data row7 col3\" >33</td>\n",
       "      <td id=\"T_287c9_row7_col4\" class=\"data row7 col4\" >38.67</td>\n",
       "      <td id=\"T_287c9_row7_col5\" class=\"data row7 col5\" >None</td>\n",
       "      <td id=\"T_287c9_row7_col6\" class=\"data row7 col6\" >YES</td>\n",
       "    </tr>\n",
       "    <tr>\n",
       "      <td id=\"T_287c9_row8_col0\" class=\"data row8 col0\" >n7</td>\n",
       "      <td id=\"T_287c9_row8_col1\" class=\"data row8 col1\" >Child</td>\n",
       "      <td id=\"T_287c9_row8_col2\" class=\"data row8 col2\" >None</td>\n",
       "      <td id=\"T_287c9_row8_col3\" class=\"data row8 col3\" >194</td>\n",
       "      <td id=\"T_287c9_row8_col4\" class=\"data row8 col4\" >210.15</td>\n",
       "      <td id=\"T_287c9_row8_col5\" class=\"data row8 col5\" >None</td>\n",
       "      <td id=\"T_287c9_row8_col6\" class=\"data row8 col6\" >NO</td>\n",
       "    </tr>\n",
       "  </tbody>\n",
       "</table>\n"
      ],
      "text/plain": [
       "<pandas.io.formats.style.Styler at 0x1ad5f0b77a0>"
      ]
     },
     "execution_count": 14,
     "metadata": {},
     "output_type": "execute_result"
    }
   ],
   "source": [
    "alpha, pruned_table = tree.pruning(features_test, n_features_test, y_test, table = True)\n",
    "pruned_table.style.hide()"
   ]
  },
  {
   "cell_type": "code",
   "execution_count": 15,
   "metadata": {},
   "outputs": [
    {
     "name": "stdout",
     "output_type": "stream",
     "text": [
      "('Alpha = 0', 'value soglia = None', 'misclassification = 60', 'leaves = 7')\n",
      "('Alpha = 0.0', \"value soglia = ['Income', 32.5, 2]\", 'misclassification = 60', 'leaves = 6')\n",
      "('Alpha = 0.0', \"value soglia = ['Education', 15.5, 3]\", 'misclassification = 60', 'leaves = 5')\n",
      "('Alpha = 2.5', \"value soglia = ['Price', 121.0, 1]\", 'misclassification = 65', 'leaves = 3')\n",
      "('Alpha = 15.0', \"value soglia = ['Price', 92.5, 1]\", 'misclassification = 80', 'leaves = 2')\n"
     ]
    }
   ],
   "source": [
    "tree.print_alpha(alpha)\n"
   ]
  },
  {
   "cell_type": "markdown",
   "metadata": {},
   "source": [
    "missing value prediction trials "
   ]
  },
  {
   "cell_type": "code",
   "execution_count": 16,
   "metadata": {},
   "outputs": [
    {
     "name": "stdout",
     "output_type": "stream",
     "text": [
      "NO\n",
      "NO\n",
      "NO\n"
     ]
    },
    {
     "data": {
      "text/plain": [
       "'NO'"
      ]
     },
     "execution_count": 16,
     "metadata": {},
     "output_type": "execute_result"
    }
   ],
   "source": [
    "print(y_test[0])\n",
    "\n",
    "features_test[0,], n_features_test[0,], y_test[0]\n",
    "\n",
    "\n",
    "#test = features_test[0,], n_features_test[0,]\n",
    "\n",
    "new = []\n",
    "new_n = []\n",
    "for name in features_names:\n",
    "    new.append(features_test[name][0])\n",
    "for n_name in n_features_names:\n",
    "    new_n.append(n_features_test[n_name][0])    \n",
    "d = dict(zip(features_names, new))\n",
    "dn = dict(zip(n_features_names, new_n))\n",
    "d.update(dn)\n",
    "d2 = d.copy() \n",
    "d2[\"Price\"] = np.nan\n",
    "\n",
    "d3 = d2.copy()\n",
    "d3[\"CompPrice\"] = np.nan\n",
    "\n",
    "tree.pred_x(my_tree, d, tree.get_all_node(), tree.get_leaf())\n",
    "print(tree.prediction_cat[-1])\n",
    "\n",
    "tree.pred_x(my_tree, d2, tree.get_all_node(), tree.get_leaf())\n",
    "print(tree.prediction_cat[-1])\n",
    "\n",
    "tree.pred_x(my_tree, d3, tree.get_all_node(), tree.get_leaf())\n",
    "tree.prediction_cat[-1]"
   ]
  },
  {
   "cell_type": "markdown",
   "metadata": {},
   "source": [
    "full dataset model "
   ]
  },
  {
   "cell_type": "code",
   "execution_count": null,
   "metadata": {},
   "outputs": [],
   "source": [
    "df=pd.read_csv('Carseats.csv')\n",
    "#df=df.iloc[:,1:]\n",
    "\n",
    "df.head()\n",
    "\n",
    "features = df[list(features_names)]\n",
    "features.head()\n",
    "\n",
    "n_features = df[list(n_features_names)]\n",
    "n_features.head()\n",
    "\n",
    "y = df[\"Price\"]\n",
    "y.head()\n",
    "\n",
    "indici = np.arange(0, len(y))\n"
   ]
  },
  {
   "cell_type": "code",
   "execution_count": null,
   "metadata": {},
   "outputs": [],
   "source": [
    "#my_tree = NodeClass('n1', indici) \n",
    "\n",
    "#cart = TREEplus(y,features,features_names,n_features,n_features_names, impurity_fn = \"gini\", problem=\"classifier\", method = \"CART\",  min_cases_parent= 10,min_cases_child= 5, max_level = 4)\n",
    "\n",
    "#cart.growing_tree(my_tree)\n"
   ]
  },
  {
   "cell_type": "markdown",
   "metadata": {},
   "source": [
    "need to somehow get only 29 leaves in final tree?\n",
    "can't prune the traditional way as only have training set "
   ]
  },
  {
   "cell_type": "code",
   "execution_count": null,
   "metadata": {},
   "outputs": [],
   "source": [
    "#cart.print_tree(table = True, html = True).style.hide_index() #print both the pruned and non pruned tree \n",
    "\n"
   ]
  }
 ],
 "metadata": {
  "kernelspec": {
   "display_name": "base",
   "language": "python",
   "name": "python3"
  },
  "language_info": {
   "codemirror_mode": {
    "name": "ipython",
    "version": 3
   },
   "file_extension": ".py",
   "mimetype": "text/x-python",
   "name": "python",
   "nbconvert_exporter": "python",
   "pygments_lexer": "ipython3",
   "version": "3.12.2"
  },
  "orig_nbformat": 4
 },
 "nbformat": 4,
 "nbformat_minor": 2
}
