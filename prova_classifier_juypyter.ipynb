{
 "cells": [
  {
   "cell_type": "code",
   "execution_count": 1,
   "metadata": {},
   "outputs": [],
   "source": [
    "from __future__ import annotations\n",
    "from TREEplus import *\n",
    "import pandas as pd\n",
    "\n",
    "#d = dict(features, **n_features)  #merges the two dicts\n",
    "#df = pd.DataFrame(data=d)         #creates the dataframe\n",
    "import time\n",
    "import csv\n",
    "\n",
    "df=pd.read_csv('Carseats_train.csv')\n",
    "#df=df.iloc[:,1:]\n",
    "features_names=list(df.columns)\n",
    "colonne=features_names[:6]\n",
    "features_name=features_names[7:9]\n",
    "features_names=colonne + features_name\n",
    "\n",
    "n_features_names=list(df.columns)\n",
    "columns = [(n_features_names[6])]\n",
    "n_features_name = n_features_names[9:11]\n",
    "n_features_names=columns + n_features_name\n",
    "features=df.iloc[:,0:6]\n",
    "features2=df.iloc[:,7:9]\n",
    "features=dict(features)\n",
    "features2=dict(features2)\n",
    "n_features=df.iloc[:,6:7]\n",
    "n_features2=df.iloc[:,9:11]\n",
    "n_features=dict(n_features)\n",
    "n_features2=dict(n_features2)\n",
    "features = dict(features, **features2)\n",
    "n_features = dict(n_features, **n_features2)\n",
    "\n",
    "High=[]\n",
    "for i in features['Sales']:\n",
    "    if i < 8:\n",
    "        High.append('NO')\n",
    "    else:\n",
    "        High.append('YES')\n",
    "\n",
    "High=pd.DataFrame(High)\n",
    "High=dict(High)\n",
    "High['High'] = High.pop(0)\n",
    "y=High['High']\n",
    "exclude_keys = ['Sales']\n",
    "\n",
    "new_d = {k: features[k] for k in set(list(features.keys())) - set(exclude_keys)}\n",
    "features=new_d\n",
    "features_names=features_names[1:]\n",
    "indici = np.arange(0, len(y))\n",
    "\n",
    "###############Prepating Test Set############################################### \n",
    "df_test=pd.read_csv('Carseats_test.csv')\n",
    "#df_test=df_test.iloc[:,1:]\n",
    "features_test=df_test.iloc[:,0:6]\n",
    "features2_test=df_test.iloc[:,7:9]\n",
    "features_test=dict(features_test)\n",
    "features2_test=dict(features2_test)\n",
    "n_features_test=df_test.iloc[:,6:7]\n",
    "n_features2_test=df_test.iloc[:,9:11]\n",
    "n_features_test=dict(n_features_test)\n",
    "n_features2_test=dict(n_features2_test)\n",
    "features_test = dict(features_test, **features2_test)\n",
    "n_features_test = dict(n_features_test, **n_features2_test)\n",
    "\n",
    "High=[]\n",
    "for i in features_test['Sales']:\n",
    "    if i < 8:\n",
    "        High.append('NO')\n",
    "    else:\n",
    "        High.append('YES')\n",
    "\n",
    "High=pd.DataFrame(High)\n",
    "High=dict(High)\n",
    "High['High'] = High.pop(0)\n",
    "y_test=High['High']\n",
    "y_test = y_test.tolist()\n",
    "del features_test[\"Sales\"]   \n",
    "\n",
    "###########################################################################\n",
    "\n",
    "#when definining a funcion please be aware we are using purity gain or information gain or greatest difference between variance, all positive aspects \n",
    "#adding user_defined as a possible impurity_fn and added user_impur to carry that function \n",
    "#user_fn is only defined for the growing stage at this point \n",
    "\n",
    "def user_fn(self, node): #impur just takes node in CART\n",
    "    #example gini\n",
    "    prom = 0\n",
    "    c = Counter(self.y[node.indexes]) #Creates a dictionary {\"yes\":number, \"no\"}\n",
    "    c = list(c.items())\n",
    "    for i in  c:\n",
    "        prob_i = float((i[1]/len(self.y[node.indexes])))**2 #probability squared\n",
    "                    \n",
    "        prom += prob_i*i[1] #original weighted, only looking at purity\n",
    "                    \n",
    "    return prom   \n",
    "\n"
   ]
  },
  {
   "attachments": {},
   "cell_type": "markdown",
   "metadata": {},
   "source": [
    "implemented print for classifier trees thus far, \n",
    "when running classifier have a lower min_imp_gaiin"
   ]
  },
  {
   "cell_type": "code",
   "execution_count": 5,
   "metadata": {},
   "outputs": [],
   "source": [
    "lbt = False\n",
    "\n",
    "if lbt:\n",
    "    #for use with latent budget tree for carseat \n",
    "\n",
    "    #min(features[\"Price\"]), max(features[\"Price\"])\n",
    "    features[\"Price\"].loc[features[\"Price\"]<50] = 1\n",
    "    features[\"Price\"].loc[features[\"Price\"].between(50,100)] = 2\n",
    "    features[\"Price\"].loc[features[\"Price\"].between(100,150)] = 3\n",
    "    features[\"Price\"].loc[features[\"Price\"]>=150] = 4\n",
    "    features[\"Price\"] = \"Price\" + features[\"Price\"].astype(str)\n",
    "\n",
    "    features[\"Population\"].loc[features[\"Population\"]<100] = 1\n",
    "    features[\"Population\"].loc[features[\"Population\"].between(100,200)] = 2\n",
    "    features[\"Population\"].loc[features[\"Population\"].between(200,300)] = 3\n",
    "    features[\"Population\"].loc[features[\"Population\"].between(300,400)] = 4\n",
    "    features[\"Population\"].loc[features[\"Population\"]>=400] = 5\n",
    "    features[\"Population\"] = \"Population\" + features[\"Population\"].astype(str)\n",
    "\n",
    "    features[\"CompPrice\"].loc[features[\"CompPrice\"]<100] = 1\n",
    "    features[\"CompPrice\"].loc[features[\"CompPrice\"].between(100,125)] = 2\n",
    "    features[\"CompPrice\"].loc[features[\"CompPrice\"].between(125,150)] = 3\n",
    "    features[\"CompPrice\"].loc[features[\"CompPrice\"]>=150] = 4\n",
    "    features[\"CompPrice\"] = \"CompPrice\" + features[\"CompPrice\"].astype(str)\n",
    "\n",
    "    #features[\"Sales\"] = round(features[\"Sales\"])\n",
    "    #features[\"Sales\"] = \"Sales\" + features[\"Sales\"].astype(str)\n",
    "\n",
    "    features[\"Age\"].loc[features[\"Age\"]<35] = 1\n",
    "    features[\"Age\"].loc[features[\"Age\"].between(35,45)] = 2\n",
    "    features[\"Age\"].loc[features[\"Age\"].between(45,55)] = 3\n",
    "    features[\"Age\"].loc[features[\"Age\"].between(55,65)] = 4\n",
    "    features[\"Age\"].loc[features[\"Age\"]>=65] = 5\n",
    "    features[\"Age\"] = \"Age\" + features[\"Age\"].astype(str)\n",
    "\n",
    "    features[\"Advertising\"] = \"Advertising\" + features[\"Advertising\"].astype(str)\n",
    "\n",
    "    features[\"Education\"] = \"Education\" + features[\"Education\"].astype(str)\n",
    "\n",
    "    features[\"Income\"].loc[features[\"Income\"]<40] = 1\n",
    "    features[\"Income\"].loc[features[\"Income\"].between(40,60)] = 2\n",
    "    features[\"Income\"].loc[features[\"Income\"].between(60,80)] = 3\n",
    "    features[\"Income\"].loc[features[\"Income\"].between(80,100)] = 4\n",
    "    features[\"Income\"].loc[features[\"Income\"]>=100] = 5\n",
    "    features[\"Income\"] = \"Income\" + features[\"Income\"].astype(str)\n",
    "\n",
    "\n",
    "    for f in features:\n",
    "        print(f)\n",
    "        n_features[f] = features[f]\n",
    "\n",
    "    n_features_names = n_features_names + features_names\n",
    "\n",
    "    features_names = []\n",
    "    features = []\n",
    "    "
   ]
  },
  {
   "cell_type": "code",
   "execution_count": 6,
   "metadata": {},
   "outputs": [
    {
     "name": "stdout",
     "output_type": "stream",
     "text": [
      "Split Found:  n1 [['ShelveLoc', ('Medium', 'Bad'), 0.15303824308127323, 0]] start <TREEplus.NodeClass object at 0x000001928506E750> ShelveLoc in ('Medium', 'Bad')\n",
      "node_proportion_total  0.0732358265806532\n",
      "Split Found:  n2 [['Price', 121.0, 0.1835695169028498, 1]] left <TREEplus.NodeClass object at 0x000001928190BE90> Price>121.0\n",
      "node_proportion_total  0.3472524878081309\n",
      "Node_proportion_gain  0.2740166612274777\n",
      "Split Found:  n4 [['Income', 32.5, 0.16923076923077185, 2]] left <TREEplus.NodeClass object at 0x00000192851313D0> Income>32.5\n",
      "node_proportion_total  0.3803668507389402\n",
      "Node_proportion_gain  0.03311436293080933\n",
      "Node Search Split Error for:  n8 with obs in node:  5  which is less than minimum parent size:  10\n",
      "TypeError: Node search split (CART) failure\n",
      "This split isn't good now i cut it [counter] - node class purity\n",
      "TypeError: Node search split (CART) failure\n",
      "Split Found:  n5 [['Income', 36.0, 0.38095238095238076, 2]] right <TREEplus.NodeClass object at 0x0000019281911910> Income>36.0\n",
      "node_proportion_total  0.40335169618508204\n",
      "Node_proportion_gain  0.02298484544614182\n",
      "This split isn't good now i cut it [counter] - node class purity\n",
      "TypeError: Node search split (CART) failure\n",
      "Split Found:  n11 [['Education', 15.5, 0.2343750000000005, 3]] right <TREEplus.NodeClass object at 0x000001928509FA10> Education>15.5\n",
      "node_proportion_total  0.41694699171886096\n",
      "Node_proportion_gain  0.013595295533778917\n",
      "Split Found:  n22 [['Advertising', 7.0, 0.2571428571428572, 4]] left <TREEplus.NodeClass object at 0x00000192FDF25F50> Advertising>7.0\n",
      "node_proportion_total  0.4265121445053794\n",
      "Node_proportion_gain  0.009565152786518427\n",
      "This split isn't good now i cut it [cat delta]\n",
      "This split isn't good now i cut it [counter] - node class purity\n",
      "TypeError: Node search split (CART) failure\n",
      "Split Found:  n3 [['Price', 92.5, 0.14406903146839262, 1]] right <TREEplus.NodeClass object at 0x000001928186AB50> Price>92.5\n",
      "node_proportion_total  0.4391941532939325\n",
      "Node_proportion_gain  0.012682008788553134\n",
      "Split Found:  n6 [['Age', 64.5, 0.33333333333333304, 2]] left <TREEplus.NodeClass object at 0x0000019285172A90> Age>64.5\n",
      "node_proportion_total  0.4452981733670247\n",
      "Node_proportion_gain  0.006104020073092187\n",
      "This split isn't good now i cut it [cat delta]\n",
      "Split Found:  n7 [['Advertising', 8.5, 0.11201481441145453, 2]] right <TREEplus.NodeClass object at 0x0000019281E9E790> Advertising>8.5\n",
      "node_proportion_total  0.4513882620446299\n",
      "Node_proportion_gain  0.006090088677605188\n",
      "This split isn't good now i cut it [cat delta]\n"
     ]
    },
    {
     "data": {
      "text/plain": [
       "(((None, None), (None, (None, None))), (None, None))"
      ]
     },
     "execution_count": 6,
     "metadata": {},
     "output_type": "execute_result"
    }
   ],
   "source": [
    "\n",
    "my_tree = NodeClass('n1', indici) \n",
    "tree = TREEplus(y,features,features_names,n_features,n_features_names,impurity_fn = \"tau\",problem=\"classifier\", min_cases_parent= 10,min_cases_child= 5, method = \"FAST\", twoing = False,max_level = 10, min_imp_gain = 0.01)\n",
    "tree.growing_tree(my_tree, max_k =1)\n",
    "##can print single tree \n",
    "\n",
    "\n",
    "#alpha = cart.pruning(features_test, n_features_test, y_test)\n",
    "#cart.print_alpha(alpha) prints the alpha values\n"
   ]
  },
  {
   "cell_type": "code",
   "execution_count": 7,
   "metadata": {},
   "outputs": [
    {
     "data": {
      "application/vnd.plotly.v1+json": {
       "config": {
        "plotlyServerURL": "https://plot.ly"
       },
       "data": [
        {
         "hoverinfo": "none",
         "line": {
          "color": "rgb(210,210,210)",
          "width": 1
         },
         "mode": "lines",
         "type": "scatter",
         "x": [
          0,
          -2.75,
          null,
          0,
          2.75,
          null,
          -2.75,
          -4.75,
          null,
          -2.75,
          -0.75,
          null,
          2.75,
          1.75,
          null,
          2.75,
          3.75,
          null,
          -4.75,
          -5.75,
          null,
          -4.75,
          -3.75,
          null,
          -0.75,
          -1.75,
          null,
          -0.75,
          0.25,
          null,
          0.25,
          -0.25,
          null,
          0.25,
          0.75,
          null
         ],
         "y": [
          6,
          5,
          null,
          6,
          5,
          null,
          5,
          4,
          null,
          5,
          4,
          null,
          5,
          4,
          null,
          5,
          4,
          null,
          4,
          3,
          null,
          4,
          3,
          null,
          4,
          3,
          null,
          4,
          3,
          null,
          3,
          2,
          null,
          3,
          2,
          null
         ]
        },
        {
         "hoverinfo": "text",
         "marker": {
          "color": "#6175c1",
          "line": {
           "color": "rgb(50,50,50)",
           "width": 1
          },
          "size": 18,
          "symbol": "circle-dot"
         },
         "mode": "markers",
         "name": "Nodes",
         "opacity": 0.8,
         "text": [
          "n8, Class: YES, tau : None, Samples : 5",
          "n9, Class: YES, tau : None, Samples : 22",
          "n10, Class: NO, tau : None, Samples : 5",
          "n22, Class: YES, tau : None, Samples : 12",
          "n23, Class: YES, tau : None, Samples : 9",
          "n6, Class: YES, tau : None, Samples : 33",
          "n7, Class: NO, tau : None, Samples : 194",
          "n1, ShelveLoc in ('Medium', 'Bad'), Class:NO, tau : 0.15, Samples: 280",
          "n2, Price>121.0, Class:YES, tau : 0.18, Samples: 53",
          "n4, Income>32.5, Class:YES, tau : 0.17, Samples: 27",
          "n5, Income>36.0, Class:YES, tau : 0.38, Samples: 26",
          "n11, Education>15.5, Class:YES, tau : 0.23, Samples: 21",
          "n3, Price>92.5, Class:NO, tau : 0.14, Samples: 227"
         ],
         "type": "scatter",
         "x": [
          -5.75,
          -3.75,
          -1.75,
          -0.25,
          0.75,
          1.75,
          3.75,
          0,
          -2.75,
          -4.75,
          -0.75,
          0.25,
          2.75
         ],
         "y": [
          3,
          3,
          3,
          2,
          2,
          4,
          4,
          6,
          5,
          4,
          4,
          3,
          5
         ]
        }
       ],
       "layout": {
        "margin": {
         "b": 0,
         "l": 0,
         "r": 0,
         "t": 0
        },
        "plot_bgcolor": "rgba(0, 0, 0, 0)",
        "template": {
         "data": {
          "bar": [
           {
            "error_x": {
             "color": "#2a3f5f"
            },
            "error_y": {
             "color": "#2a3f5f"
            },
            "marker": {
             "line": {
              "color": "#E5ECF6",
              "width": 0.5
             },
             "pattern": {
              "fillmode": "overlay",
              "size": 10,
              "solidity": 0.2
             }
            },
            "type": "bar"
           }
          ],
          "barpolar": [
           {
            "marker": {
             "line": {
              "color": "#E5ECF6",
              "width": 0.5
             },
             "pattern": {
              "fillmode": "overlay",
              "size": 10,
              "solidity": 0.2
             }
            },
            "type": "barpolar"
           }
          ],
          "carpet": [
           {
            "aaxis": {
             "endlinecolor": "#2a3f5f",
             "gridcolor": "white",
             "linecolor": "white",
             "minorgridcolor": "white",
             "startlinecolor": "#2a3f5f"
            },
            "baxis": {
             "endlinecolor": "#2a3f5f",
             "gridcolor": "white",
             "linecolor": "white",
             "minorgridcolor": "white",
             "startlinecolor": "#2a3f5f"
            },
            "type": "carpet"
           }
          ],
          "choropleth": [
           {
            "colorbar": {
             "outlinewidth": 0,
             "ticks": ""
            },
            "type": "choropleth"
           }
          ],
          "contour": [
           {
            "colorbar": {
             "outlinewidth": 0,
             "ticks": ""
            },
            "colorscale": [
             [
              0,
              "#0d0887"
             ],
             [
              0.1111111111111111,
              "#46039f"
             ],
             [
              0.2222222222222222,
              "#7201a8"
             ],
             [
              0.3333333333333333,
              "#9c179e"
             ],
             [
              0.4444444444444444,
              "#bd3786"
             ],
             [
              0.5555555555555556,
              "#d8576b"
             ],
             [
              0.6666666666666666,
              "#ed7953"
             ],
             [
              0.7777777777777778,
              "#fb9f3a"
             ],
             [
              0.8888888888888888,
              "#fdca26"
             ],
             [
              1,
              "#f0f921"
             ]
            ],
            "type": "contour"
           }
          ],
          "contourcarpet": [
           {
            "colorbar": {
             "outlinewidth": 0,
             "ticks": ""
            },
            "type": "contourcarpet"
           }
          ],
          "heatmap": [
           {
            "colorbar": {
             "outlinewidth": 0,
             "ticks": ""
            },
            "colorscale": [
             [
              0,
              "#0d0887"
             ],
             [
              0.1111111111111111,
              "#46039f"
             ],
             [
              0.2222222222222222,
              "#7201a8"
             ],
             [
              0.3333333333333333,
              "#9c179e"
             ],
             [
              0.4444444444444444,
              "#bd3786"
             ],
             [
              0.5555555555555556,
              "#d8576b"
             ],
             [
              0.6666666666666666,
              "#ed7953"
             ],
             [
              0.7777777777777778,
              "#fb9f3a"
             ],
             [
              0.8888888888888888,
              "#fdca26"
             ],
             [
              1,
              "#f0f921"
             ]
            ],
            "type": "heatmap"
           }
          ],
          "heatmapgl": [
           {
            "colorbar": {
             "outlinewidth": 0,
             "ticks": ""
            },
            "colorscale": [
             [
              0,
              "#0d0887"
             ],
             [
              0.1111111111111111,
              "#46039f"
             ],
             [
              0.2222222222222222,
              "#7201a8"
             ],
             [
              0.3333333333333333,
              "#9c179e"
             ],
             [
              0.4444444444444444,
              "#bd3786"
             ],
             [
              0.5555555555555556,
              "#d8576b"
             ],
             [
              0.6666666666666666,
              "#ed7953"
             ],
             [
              0.7777777777777778,
              "#fb9f3a"
             ],
             [
              0.8888888888888888,
              "#fdca26"
             ],
             [
              1,
              "#f0f921"
             ]
            ],
            "type": "heatmapgl"
           }
          ],
          "histogram": [
           {
            "marker": {
             "pattern": {
              "fillmode": "overlay",
              "size": 10,
              "solidity": 0.2
             }
            },
            "type": "histogram"
           }
          ],
          "histogram2d": [
           {
            "colorbar": {
             "outlinewidth": 0,
             "ticks": ""
            },
            "colorscale": [
             [
              0,
              "#0d0887"
             ],
             [
              0.1111111111111111,
              "#46039f"
             ],
             [
              0.2222222222222222,
              "#7201a8"
             ],
             [
              0.3333333333333333,
              "#9c179e"
             ],
             [
              0.4444444444444444,
              "#bd3786"
             ],
             [
              0.5555555555555556,
              "#d8576b"
             ],
             [
              0.6666666666666666,
              "#ed7953"
             ],
             [
              0.7777777777777778,
              "#fb9f3a"
             ],
             [
              0.8888888888888888,
              "#fdca26"
             ],
             [
              1,
              "#f0f921"
             ]
            ],
            "type": "histogram2d"
           }
          ],
          "histogram2dcontour": [
           {
            "colorbar": {
             "outlinewidth": 0,
             "ticks": ""
            },
            "colorscale": [
             [
              0,
              "#0d0887"
             ],
             [
              0.1111111111111111,
              "#46039f"
             ],
             [
              0.2222222222222222,
              "#7201a8"
             ],
             [
              0.3333333333333333,
              "#9c179e"
             ],
             [
              0.4444444444444444,
              "#bd3786"
             ],
             [
              0.5555555555555556,
              "#d8576b"
             ],
             [
              0.6666666666666666,
              "#ed7953"
             ],
             [
              0.7777777777777778,
              "#fb9f3a"
             ],
             [
              0.8888888888888888,
              "#fdca26"
             ],
             [
              1,
              "#f0f921"
             ]
            ],
            "type": "histogram2dcontour"
           }
          ],
          "mesh3d": [
           {
            "colorbar": {
             "outlinewidth": 0,
             "ticks": ""
            },
            "type": "mesh3d"
           }
          ],
          "parcoords": [
           {
            "line": {
             "colorbar": {
              "outlinewidth": 0,
              "ticks": ""
             }
            },
            "type": "parcoords"
           }
          ],
          "pie": [
           {
            "automargin": true,
            "type": "pie"
           }
          ],
          "scatter": [
           {
            "fillpattern": {
             "fillmode": "overlay",
             "size": 10,
             "solidity": 0.2
            },
            "type": "scatter"
           }
          ],
          "scatter3d": [
           {
            "line": {
             "colorbar": {
              "outlinewidth": 0,
              "ticks": ""
             }
            },
            "marker": {
             "colorbar": {
              "outlinewidth": 0,
              "ticks": ""
             }
            },
            "type": "scatter3d"
           }
          ],
          "scattercarpet": [
           {
            "marker": {
             "colorbar": {
              "outlinewidth": 0,
              "ticks": ""
             }
            },
            "type": "scattercarpet"
           }
          ],
          "scattergeo": [
           {
            "marker": {
             "colorbar": {
              "outlinewidth": 0,
              "ticks": ""
             }
            },
            "type": "scattergeo"
           }
          ],
          "scattergl": [
           {
            "marker": {
             "colorbar": {
              "outlinewidth": 0,
              "ticks": ""
             }
            },
            "type": "scattergl"
           }
          ],
          "scattermapbox": [
           {
            "marker": {
             "colorbar": {
              "outlinewidth": 0,
              "ticks": ""
             }
            },
            "type": "scattermapbox"
           }
          ],
          "scatterpolar": [
           {
            "marker": {
             "colorbar": {
              "outlinewidth": 0,
              "ticks": ""
             }
            },
            "type": "scatterpolar"
           }
          ],
          "scatterpolargl": [
           {
            "marker": {
             "colorbar": {
              "outlinewidth": 0,
              "ticks": ""
             }
            },
            "type": "scatterpolargl"
           }
          ],
          "scatterternary": [
           {
            "marker": {
             "colorbar": {
              "outlinewidth": 0,
              "ticks": ""
             }
            },
            "type": "scatterternary"
           }
          ],
          "surface": [
           {
            "colorbar": {
             "outlinewidth": 0,
             "ticks": ""
            },
            "colorscale": [
             [
              0,
              "#0d0887"
             ],
             [
              0.1111111111111111,
              "#46039f"
             ],
             [
              0.2222222222222222,
              "#7201a8"
             ],
             [
              0.3333333333333333,
              "#9c179e"
             ],
             [
              0.4444444444444444,
              "#bd3786"
             ],
             [
              0.5555555555555556,
              "#d8576b"
             ],
             [
              0.6666666666666666,
              "#ed7953"
             ],
             [
              0.7777777777777778,
              "#fb9f3a"
             ],
             [
              0.8888888888888888,
              "#fdca26"
             ],
             [
              1,
              "#f0f921"
             ]
            ],
            "type": "surface"
           }
          ],
          "table": [
           {
            "cells": {
             "fill": {
              "color": "#EBF0F8"
             },
             "line": {
              "color": "white"
             }
            },
            "header": {
             "fill": {
              "color": "#C8D4E3"
             },
             "line": {
              "color": "white"
             }
            },
            "type": "table"
           }
          ]
         },
         "layout": {
          "annotationdefaults": {
           "arrowcolor": "#2a3f5f",
           "arrowhead": 0,
           "arrowwidth": 1
          },
          "autotypenumbers": "strict",
          "coloraxis": {
           "colorbar": {
            "outlinewidth": 0,
            "ticks": ""
           }
          },
          "colorscale": {
           "diverging": [
            [
             0,
             "#8e0152"
            ],
            [
             0.1,
             "#c51b7d"
            ],
            [
             0.2,
             "#de77ae"
            ],
            [
             0.3,
             "#f1b6da"
            ],
            [
             0.4,
             "#fde0ef"
            ],
            [
             0.5,
             "#f7f7f7"
            ],
            [
             0.6,
             "#e6f5d0"
            ],
            [
             0.7,
             "#b8e186"
            ],
            [
             0.8,
             "#7fbc41"
            ],
            [
             0.9,
             "#4d9221"
            ],
            [
             1,
             "#276419"
            ]
           ],
           "sequential": [
            [
             0,
             "#0d0887"
            ],
            [
             0.1111111111111111,
             "#46039f"
            ],
            [
             0.2222222222222222,
             "#7201a8"
            ],
            [
             0.3333333333333333,
             "#9c179e"
            ],
            [
             0.4444444444444444,
             "#bd3786"
            ],
            [
             0.5555555555555556,
             "#d8576b"
            ],
            [
             0.6666666666666666,
             "#ed7953"
            ],
            [
             0.7777777777777778,
             "#fb9f3a"
            ],
            [
             0.8888888888888888,
             "#fdca26"
            ],
            [
             1,
             "#f0f921"
            ]
           ],
           "sequentialminus": [
            [
             0,
             "#0d0887"
            ],
            [
             0.1111111111111111,
             "#46039f"
            ],
            [
             0.2222222222222222,
             "#7201a8"
            ],
            [
             0.3333333333333333,
             "#9c179e"
            ],
            [
             0.4444444444444444,
             "#bd3786"
            ],
            [
             0.5555555555555556,
             "#d8576b"
            ],
            [
             0.6666666666666666,
             "#ed7953"
            ],
            [
             0.7777777777777778,
             "#fb9f3a"
            ],
            [
             0.8888888888888888,
             "#fdca26"
            ],
            [
             1,
             "#f0f921"
            ]
           ]
          },
          "colorway": [
           "#636efa",
           "#EF553B",
           "#00cc96",
           "#ab63fa",
           "#FFA15A",
           "#19d3f3",
           "#FF6692",
           "#B6E880",
           "#FF97FF",
           "#FECB52"
          ],
          "font": {
           "color": "#2a3f5f"
          },
          "geo": {
           "bgcolor": "white",
           "lakecolor": "white",
           "landcolor": "#E5ECF6",
           "showlakes": true,
           "showland": true,
           "subunitcolor": "white"
          },
          "hoverlabel": {
           "align": "left"
          },
          "hovermode": "closest",
          "mapbox": {
           "style": "light"
          },
          "paper_bgcolor": "white",
          "plot_bgcolor": "#E5ECF6",
          "polar": {
           "angularaxis": {
            "gridcolor": "white",
            "linecolor": "white",
            "ticks": ""
           },
           "bgcolor": "#E5ECF6",
           "radialaxis": {
            "gridcolor": "white",
            "linecolor": "white",
            "ticks": ""
           }
          },
          "scene": {
           "xaxis": {
            "backgroundcolor": "#E5ECF6",
            "gridcolor": "white",
            "gridwidth": 2,
            "linecolor": "white",
            "showbackground": true,
            "ticks": "",
            "zerolinecolor": "white"
           },
           "yaxis": {
            "backgroundcolor": "#E5ECF6",
            "gridcolor": "white",
            "gridwidth": 2,
            "linecolor": "white",
            "showbackground": true,
            "ticks": "",
            "zerolinecolor": "white"
           },
           "zaxis": {
            "backgroundcolor": "#E5ECF6",
            "gridcolor": "white",
            "gridwidth": 2,
            "linecolor": "white",
            "showbackground": true,
            "ticks": "",
            "zerolinecolor": "white"
           }
          },
          "shapedefaults": {
           "line": {
            "color": "#2a3f5f"
           }
          },
          "ternary": {
           "aaxis": {
            "gridcolor": "white",
            "linecolor": "white",
            "ticks": ""
           },
           "baxis": {
            "gridcolor": "white",
            "linecolor": "white",
            "ticks": ""
           },
           "bgcolor": "#E5ECF6",
           "caxis": {
            "gridcolor": "white",
            "linecolor": "white",
            "ticks": ""
           }
          },
          "title": {
           "x": 0.05
          },
          "xaxis": {
           "automargin": true,
           "gridcolor": "white",
           "linecolor": "white",
           "ticks": "",
           "title": {
            "standoff": 15
           },
           "zerolinecolor": "white",
           "zerolinewidth": 2
          },
          "yaxis": {
           "automargin": true,
           "gridcolor": "white",
           "linecolor": "white",
           "ticks": "",
           "title": {
            "standoff": 15
           },
           "zerolinecolor": "white",
           "zerolinewidth": 2
          }
         }
        },
        "xaxis": {
         "showticklabels": false,
         "visible": false
        },
        "yaxis": {
         "showticklabels": true,
         "visible": false
        }
       }
      }
     },
     "metadata": {},
     "output_type": "display_data"
    }
   ],
   "source": [
    "#pd.set_option('display.max_rows', None)\n",
    "#pd.set_option('display.max_colwidth', 3000)\n",
    "\n",
    "tree.print_tree(table = False, html = False, print_render = False)#.style.hide_index() #print both the pruned and non pruned tree \n"
   ]
  },
  {
   "cell_type": "code",
   "execution_count": 8,
   "metadata": {},
   "outputs": [
    {
     "name": "stdout",
     "output_type": "stream",
     "text": [
      "To return the table, print_tree must be True: setting print_tree to True\n",
      "Best tree for test set has 5 leaves with misclassification count 32 \n",
      "ShelveLoc in ('Medium', 'Bad')\n",
      "├── Price>121.0\n",
      "│   ├── YES\n",
      "│   └── Income>36.0\n",
      "│       ├── NO\n",
      "│       └── NO\n",
      "└── Price>92.5\n",
      "    ├── YES\n",
      "    └── NO\n"
     ]
    },
    {
     "data": {
      "application/vnd.plotly.v1+json": {
       "config": {
        "plotlyServerURL": "https://plot.ly"
       },
       "data": [
        {
         "hoverinfo": "none",
         "line": {
          "color": "rgb(210,210,210)",
          "width": 1
         },
         "mode": "lines",
         "type": "scatter",
         "x": [
          0,
          -1.25,
          null,
          0,
          1.25,
          null,
          -1.25,
          -2.25,
          null,
          -1.25,
          -0.25,
          null,
          1.25,
          0.75,
          null,
          1.25,
          1.75,
          null,
          -0.25,
          -0.75,
          null,
          -0.25,
          0.25,
          null
         ],
         "y": [
          6,
          5,
          null,
          6,
          5,
          null,
          5,
          4,
          null,
          5,
          4,
          null,
          5,
          4,
          null,
          5,
          4,
          null,
          4,
          3,
          null,
          4,
          3,
          null
         ]
        },
        {
         "hoverinfo": "text",
         "marker": {
          "color": "#6175c1",
          "line": {
           "color": "rgb(50,50,50)",
           "width": 1
          },
          "size": 18,
          "symbol": "circle-dot"
         },
         "mode": "markers",
         "name": "Nodes",
         "opacity": 0.8,
         "text": [
          "n10, Class: NO, tau : None, Samples : 5",
          "n6, Class: YES, tau : None, Samples : 33",
          "n7, Class: NO, tau : None, Samples : 194",
          "n1, ShelveLoc in ('Medium', 'Bad'), Class:NO, tau : 0.15, Samples: 280",
          "n2, Price>121.0, Class:YES, tau : 0.18, Samples: 53",
          "n4, Class: YES, tau : None, Samples : 27",
          "n5, Income>36.0, Class:YES, tau : 0.38, Samples: 26",
          "n11, Class: YES, tau : None, Samples : 21",
          "n3, Price>92.5, Class:NO, tau : 0.14, Samples: 227"
         ],
         "type": "scatter",
         "x": [
          -0.75,
          0.75,
          1.75,
          0,
          -1.25,
          -2.25,
          -0.25,
          0.25,
          1.25
         ],
         "y": [
          3,
          4,
          4,
          6,
          5,
          4,
          4,
          3,
          5
         ]
        }
       ],
       "layout": {
        "margin": {
         "b": 0,
         "l": 0,
         "r": 0,
         "t": 0
        },
        "plot_bgcolor": "rgba(0, 0, 0, 0)",
        "template": {
         "data": {
          "bar": [
           {
            "error_x": {
             "color": "#2a3f5f"
            },
            "error_y": {
             "color": "#2a3f5f"
            },
            "marker": {
             "line": {
              "color": "#E5ECF6",
              "width": 0.5
             },
             "pattern": {
              "fillmode": "overlay",
              "size": 10,
              "solidity": 0.2
             }
            },
            "type": "bar"
           }
          ],
          "barpolar": [
           {
            "marker": {
             "line": {
              "color": "#E5ECF6",
              "width": 0.5
             },
             "pattern": {
              "fillmode": "overlay",
              "size": 10,
              "solidity": 0.2
             }
            },
            "type": "barpolar"
           }
          ],
          "carpet": [
           {
            "aaxis": {
             "endlinecolor": "#2a3f5f",
             "gridcolor": "white",
             "linecolor": "white",
             "minorgridcolor": "white",
             "startlinecolor": "#2a3f5f"
            },
            "baxis": {
             "endlinecolor": "#2a3f5f",
             "gridcolor": "white",
             "linecolor": "white",
             "minorgridcolor": "white",
             "startlinecolor": "#2a3f5f"
            },
            "type": "carpet"
           }
          ],
          "choropleth": [
           {
            "colorbar": {
             "outlinewidth": 0,
             "ticks": ""
            },
            "type": "choropleth"
           }
          ],
          "contour": [
           {
            "colorbar": {
             "outlinewidth": 0,
             "ticks": ""
            },
            "colorscale": [
             [
              0,
              "#0d0887"
             ],
             [
              0.1111111111111111,
              "#46039f"
             ],
             [
              0.2222222222222222,
              "#7201a8"
             ],
             [
              0.3333333333333333,
              "#9c179e"
             ],
             [
              0.4444444444444444,
              "#bd3786"
             ],
             [
              0.5555555555555556,
              "#d8576b"
             ],
             [
              0.6666666666666666,
              "#ed7953"
             ],
             [
              0.7777777777777778,
              "#fb9f3a"
             ],
             [
              0.8888888888888888,
              "#fdca26"
             ],
             [
              1,
              "#f0f921"
             ]
            ],
            "type": "contour"
           }
          ],
          "contourcarpet": [
           {
            "colorbar": {
             "outlinewidth": 0,
             "ticks": ""
            },
            "type": "contourcarpet"
           }
          ],
          "heatmap": [
           {
            "colorbar": {
             "outlinewidth": 0,
             "ticks": ""
            },
            "colorscale": [
             [
              0,
              "#0d0887"
             ],
             [
              0.1111111111111111,
              "#46039f"
             ],
             [
              0.2222222222222222,
              "#7201a8"
             ],
             [
              0.3333333333333333,
              "#9c179e"
             ],
             [
              0.4444444444444444,
              "#bd3786"
             ],
             [
              0.5555555555555556,
              "#d8576b"
             ],
             [
              0.6666666666666666,
              "#ed7953"
             ],
             [
              0.7777777777777778,
              "#fb9f3a"
             ],
             [
              0.8888888888888888,
              "#fdca26"
             ],
             [
              1,
              "#f0f921"
             ]
            ],
            "type": "heatmap"
           }
          ],
          "heatmapgl": [
           {
            "colorbar": {
             "outlinewidth": 0,
             "ticks": ""
            },
            "colorscale": [
             [
              0,
              "#0d0887"
             ],
             [
              0.1111111111111111,
              "#46039f"
             ],
             [
              0.2222222222222222,
              "#7201a8"
             ],
             [
              0.3333333333333333,
              "#9c179e"
             ],
             [
              0.4444444444444444,
              "#bd3786"
             ],
             [
              0.5555555555555556,
              "#d8576b"
             ],
             [
              0.6666666666666666,
              "#ed7953"
             ],
             [
              0.7777777777777778,
              "#fb9f3a"
             ],
             [
              0.8888888888888888,
              "#fdca26"
             ],
             [
              1,
              "#f0f921"
             ]
            ],
            "type": "heatmapgl"
           }
          ],
          "histogram": [
           {
            "marker": {
             "pattern": {
              "fillmode": "overlay",
              "size": 10,
              "solidity": 0.2
             }
            },
            "type": "histogram"
           }
          ],
          "histogram2d": [
           {
            "colorbar": {
             "outlinewidth": 0,
             "ticks": ""
            },
            "colorscale": [
             [
              0,
              "#0d0887"
             ],
             [
              0.1111111111111111,
              "#46039f"
             ],
             [
              0.2222222222222222,
              "#7201a8"
             ],
             [
              0.3333333333333333,
              "#9c179e"
             ],
             [
              0.4444444444444444,
              "#bd3786"
             ],
             [
              0.5555555555555556,
              "#d8576b"
             ],
             [
              0.6666666666666666,
              "#ed7953"
             ],
             [
              0.7777777777777778,
              "#fb9f3a"
             ],
             [
              0.8888888888888888,
              "#fdca26"
             ],
             [
              1,
              "#f0f921"
             ]
            ],
            "type": "histogram2d"
           }
          ],
          "histogram2dcontour": [
           {
            "colorbar": {
             "outlinewidth": 0,
             "ticks": ""
            },
            "colorscale": [
             [
              0,
              "#0d0887"
             ],
             [
              0.1111111111111111,
              "#46039f"
             ],
             [
              0.2222222222222222,
              "#7201a8"
             ],
             [
              0.3333333333333333,
              "#9c179e"
             ],
             [
              0.4444444444444444,
              "#bd3786"
             ],
             [
              0.5555555555555556,
              "#d8576b"
             ],
             [
              0.6666666666666666,
              "#ed7953"
             ],
             [
              0.7777777777777778,
              "#fb9f3a"
             ],
             [
              0.8888888888888888,
              "#fdca26"
             ],
             [
              1,
              "#f0f921"
             ]
            ],
            "type": "histogram2dcontour"
           }
          ],
          "mesh3d": [
           {
            "colorbar": {
             "outlinewidth": 0,
             "ticks": ""
            },
            "type": "mesh3d"
           }
          ],
          "parcoords": [
           {
            "line": {
             "colorbar": {
              "outlinewidth": 0,
              "ticks": ""
             }
            },
            "type": "parcoords"
           }
          ],
          "pie": [
           {
            "automargin": true,
            "type": "pie"
           }
          ],
          "scatter": [
           {
            "fillpattern": {
             "fillmode": "overlay",
             "size": 10,
             "solidity": 0.2
            },
            "type": "scatter"
           }
          ],
          "scatter3d": [
           {
            "line": {
             "colorbar": {
              "outlinewidth": 0,
              "ticks": ""
             }
            },
            "marker": {
             "colorbar": {
              "outlinewidth": 0,
              "ticks": ""
             }
            },
            "type": "scatter3d"
           }
          ],
          "scattercarpet": [
           {
            "marker": {
             "colorbar": {
              "outlinewidth": 0,
              "ticks": ""
             }
            },
            "type": "scattercarpet"
           }
          ],
          "scattergeo": [
           {
            "marker": {
             "colorbar": {
              "outlinewidth": 0,
              "ticks": ""
             }
            },
            "type": "scattergeo"
           }
          ],
          "scattergl": [
           {
            "marker": {
             "colorbar": {
              "outlinewidth": 0,
              "ticks": ""
             }
            },
            "type": "scattergl"
           }
          ],
          "scattermapbox": [
           {
            "marker": {
             "colorbar": {
              "outlinewidth": 0,
              "ticks": ""
             }
            },
            "type": "scattermapbox"
           }
          ],
          "scatterpolar": [
           {
            "marker": {
             "colorbar": {
              "outlinewidth": 0,
              "ticks": ""
             }
            },
            "type": "scatterpolar"
           }
          ],
          "scatterpolargl": [
           {
            "marker": {
             "colorbar": {
              "outlinewidth": 0,
              "ticks": ""
             }
            },
            "type": "scatterpolargl"
           }
          ],
          "scatterternary": [
           {
            "marker": {
             "colorbar": {
              "outlinewidth": 0,
              "ticks": ""
             }
            },
            "type": "scatterternary"
           }
          ],
          "surface": [
           {
            "colorbar": {
             "outlinewidth": 0,
             "ticks": ""
            },
            "colorscale": [
             [
              0,
              "#0d0887"
             ],
             [
              0.1111111111111111,
              "#46039f"
             ],
             [
              0.2222222222222222,
              "#7201a8"
             ],
             [
              0.3333333333333333,
              "#9c179e"
             ],
             [
              0.4444444444444444,
              "#bd3786"
             ],
             [
              0.5555555555555556,
              "#d8576b"
             ],
             [
              0.6666666666666666,
              "#ed7953"
             ],
             [
              0.7777777777777778,
              "#fb9f3a"
             ],
             [
              0.8888888888888888,
              "#fdca26"
             ],
             [
              1,
              "#f0f921"
             ]
            ],
            "type": "surface"
           }
          ],
          "table": [
           {
            "cells": {
             "fill": {
              "color": "#EBF0F8"
             },
             "line": {
              "color": "white"
             }
            },
            "header": {
             "fill": {
              "color": "#C8D4E3"
             },
             "line": {
              "color": "white"
             }
            },
            "type": "table"
           }
          ]
         },
         "layout": {
          "annotationdefaults": {
           "arrowcolor": "#2a3f5f",
           "arrowhead": 0,
           "arrowwidth": 1
          },
          "autotypenumbers": "strict",
          "coloraxis": {
           "colorbar": {
            "outlinewidth": 0,
            "ticks": ""
           }
          },
          "colorscale": {
           "diverging": [
            [
             0,
             "#8e0152"
            ],
            [
             0.1,
             "#c51b7d"
            ],
            [
             0.2,
             "#de77ae"
            ],
            [
             0.3,
             "#f1b6da"
            ],
            [
             0.4,
             "#fde0ef"
            ],
            [
             0.5,
             "#f7f7f7"
            ],
            [
             0.6,
             "#e6f5d0"
            ],
            [
             0.7,
             "#b8e186"
            ],
            [
             0.8,
             "#7fbc41"
            ],
            [
             0.9,
             "#4d9221"
            ],
            [
             1,
             "#276419"
            ]
           ],
           "sequential": [
            [
             0,
             "#0d0887"
            ],
            [
             0.1111111111111111,
             "#46039f"
            ],
            [
             0.2222222222222222,
             "#7201a8"
            ],
            [
             0.3333333333333333,
             "#9c179e"
            ],
            [
             0.4444444444444444,
             "#bd3786"
            ],
            [
             0.5555555555555556,
             "#d8576b"
            ],
            [
             0.6666666666666666,
             "#ed7953"
            ],
            [
             0.7777777777777778,
             "#fb9f3a"
            ],
            [
             0.8888888888888888,
             "#fdca26"
            ],
            [
             1,
             "#f0f921"
            ]
           ],
           "sequentialminus": [
            [
             0,
             "#0d0887"
            ],
            [
             0.1111111111111111,
             "#46039f"
            ],
            [
             0.2222222222222222,
             "#7201a8"
            ],
            [
             0.3333333333333333,
             "#9c179e"
            ],
            [
             0.4444444444444444,
             "#bd3786"
            ],
            [
             0.5555555555555556,
             "#d8576b"
            ],
            [
             0.6666666666666666,
             "#ed7953"
            ],
            [
             0.7777777777777778,
             "#fb9f3a"
            ],
            [
             0.8888888888888888,
             "#fdca26"
            ],
            [
             1,
             "#f0f921"
            ]
           ]
          },
          "colorway": [
           "#636efa",
           "#EF553B",
           "#00cc96",
           "#ab63fa",
           "#FFA15A",
           "#19d3f3",
           "#FF6692",
           "#B6E880",
           "#FF97FF",
           "#FECB52"
          ],
          "font": {
           "color": "#2a3f5f"
          },
          "geo": {
           "bgcolor": "white",
           "lakecolor": "white",
           "landcolor": "#E5ECF6",
           "showlakes": true,
           "showland": true,
           "subunitcolor": "white"
          },
          "hoverlabel": {
           "align": "left"
          },
          "hovermode": "closest",
          "mapbox": {
           "style": "light"
          },
          "paper_bgcolor": "white",
          "plot_bgcolor": "#E5ECF6",
          "polar": {
           "angularaxis": {
            "gridcolor": "white",
            "linecolor": "white",
            "ticks": ""
           },
           "bgcolor": "#E5ECF6",
           "radialaxis": {
            "gridcolor": "white",
            "linecolor": "white",
            "ticks": ""
           }
          },
          "scene": {
           "xaxis": {
            "backgroundcolor": "#E5ECF6",
            "gridcolor": "white",
            "gridwidth": 2,
            "linecolor": "white",
            "showbackground": true,
            "ticks": "",
            "zerolinecolor": "white"
           },
           "yaxis": {
            "backgroundcolor": "#E5ECF6",
            "gridcolor": "white",
            "gridwidth": 2,
            "linecolor": "white",
            "showbackground": true,
            "ticks": "",
            "zerolinecolor": "white"
           },
           "zaxis": {
            "backgroundcolor": "#E5ECF6",
            "gridcolor": "white",
            "gridwidth": 2,
            "linecolor": "white",
            "showbackground": true,
            "ticks": "",
            "zerolinecolor": "white"
           }
          },
          "shapedefaults": {
           "line": {
            "color": "#2a3f5f"
           }
          },
          "ternary": {
           "aaxis": {
            "gridcolor": "white",
            "linecolor": "white",
            "ticks": ""
           },
           "baxis": {
            "gridcolor": "white",
            "linecolor": "white",
            "ticks": ""
           },
           "bgcolor": "#E5ECF6",
           "caxis": {
            "gridcolor": "white",
            "linecolor": "white",
            "ticks": ""
           }
          },
          "title": {
           "x": 0.05
          },
          "xaxis": {
           "automargin": true,
           "gridcolor": "white",
           "linecolor": "white",
           "ticks": "",
           "title": {
            "standoff": 15
           },
           "zerolinecolor": "white",
           "zerolinewidth": 2
          },
          "yaxis": {
           "automargin": true,
           "gridcolor": "white",
           "linecolor": "white",
           "ticks": "",
           "title": {
            "standoff": 15
           },
           "zerolinecolor": "white",
           "zerolinewidth": 2
          }
         }
        },
        "xaxis": {
         "showticklabels": false,
         "visible": false
        },
        "yaxis": {
         "showticklabels": true,
         "visible": false
        }
       }
      }
     },
     "metadata": {},
     "output_type": "display_data"
    },
    {
     "name": "stdout",
     "output_type": "stream",
     "text": [
      "('Alpha = 0', 'value soglia = None', 'misclassification = 60', 'leaves = 7')\n",
      "('Alpha = 0.0', \"value soglia = ['Income', 32.5, 2]\", 'misclassification = 60', 'leaves = 6')\n",
      "('Alpha = 0.0', \"value soglia = ['Education', 15.5, 3]\", 'misclassification = 60', 'leaves = 5')\n",
      "('Alpha = 2.5', \"value soglia = ['Price', 121.0, 1]\", 'misclassification = 65', 'leaves = 3')\n",
      "('Alpha = 15.0', \"value soglia = ['Price', 92.5, 1]\", 'misclassification = 80', 'leaves = 2')\n"
     ]
    },
    {
     "data": {
      "text/html": [
       "<style type=\"text/css\">\n",
       "</style>\n",
       "<table id=\"T_1b17a\">\n",
       "  <thead>\n",
       "    <tr>\n",
       "      <th id=\"T_1b17a_level0_col0\" class=\"col_heading level0 col0\" >Node</th>\n",
       "      <th id=\"T_1b17a_level0_col1\" class=\"col_heading level0 col1\" >Node Type</th>\n",
       "      <th id=\"T_1b17a_level0_col2\" class=\"col_heading level0 col2\" >Variable Split</th>\n",
       "      <th id=\"T_1b17a_level0_col3\" class=\"col_heading level0 col3\" >n</th>\n",
       "      <th id=\"T_1b17a_level0_col4\" class=\"col_heading level0 col4\" >Deviance</th>\n",
       "      <th id=\"T_1b17a_level0_col5\" class=\"col_heading level0 col5\" >Explained Deviance</th>\n",
       "      <th id=\"T_1b17a_level0_col6\" class=\"col_heading level0 col6\" >Class/Value</th>\n",
       "    </tr>\n",
       "  </thead>\n",
       "  <tbody>\n",
       "    <tr>\n",
       "      <td id=\"T_1b17a_row0_col0\" class=\"data row0 col0\" >n1</td>\n",
       "      <td id=\"T_1b17a_row0_col1\" class=\"data row0 col1\" >Parent</td>\n",
       "      <td id=\"T_1b17a_row0_col2\" class=\"data row0 col2\" >ShelveLoc in ('Medium', 'Bad')</td>\n",
       "      <td id=\"T_1b17a_row0_col3\" class=\"data row0 col3\" >280</td>\n",
       "      <td id=\"T_1b17a_row0_col4\" class=\"data row0 col4\" >376.06</td>\n",
       "      <td id=\"T_1b17a_row0_col5\" class=\"data row0 col5\" >0.073</td>\n",
       "      <td id=\"T_1b17a_row0_col6\" class=\"data row0 col6\" >NO</td>\n",
       "    </tr>\n",
       "    <tr>\n",
       "      <td id=\"T_1b17a_row1_col0\" class=\"data row1 col0\" >n2</td>\n",
       "      <td id=\"T_1b17a_row1_col1\" class=\"data row1 col1\" >Parent</td>\n",
       "      <td id=\"T_1b17a_row1_col2\" class=\"data row1 col2\" >Price>121.0</td>\n",
       "      <td id=\"T_1b17a_row1_col3\" class=\"data row1 col3\" >53</td>\n",
       "      <td id=\"T_1b17a_row1_col4\" class=\"data row1 col4\" >54.13</td>\n",
       "      <td id=\"T_1b17a_row1_col5\" class=\"data row1 col5\" >0.347</td>\n",
       "      <td id=\"T_1b17a_row1_col6\" class=\"data row1 col6\" >YES</td>\n",
       "    </tr>\n",
       "    <tr>\n",
       "      <td id=\"T_1b17a_row2_col0\" class=\"data row2 col0\" >n4</td>\n",
       "      <td id=\"T_1b17a_row2_col1\" class=\"data row2 col1\" >Child</td>\n",
       "      <td id=\"T_1b17a_row2_col2\" class=\"data row2 col2\" >None</td>\n",
       "      <td id=\"T_1b17a_row2_col3\" class=\"data row2 col3\" >27</td>\n",
       "      <td id=\"T_1b17a_row2_col4\" class=\"data row2 col4\" >8.55</td>\n",
       "      <td id=\"T_1b17a_row2_col5\" class=\"data row2 col5\" >None</td>\n",
       "      <td id=\"T_1b17a_row2_col6\" class=\"data row2 col6\" >YES</td>\n",
       "    </tr>\n",
       "    <tr>\n",
       "      <td id=\"T_1b17a_row3_col0\" class=\"data row3 col0\" >n5</td>\n",
       "      <td id=\"T_1b17a_row3_col1\" class=\"data row3 col1\" >Parent</td>\n",
       "      <td id=\"T_1b17a_row3_col2\" class=\"data row3 col2\" >Income>36.0</td>\n",
       "      <td id=\"T_1b17a_row3_col3\" class=\"data row3 col3\" >26</td>\n",
       "      <td id=\"T_1b17a_row3_col4\" class=\"data row3 col4\" >34.65</td>\n",
       "      <td id=\"T_1b17a_row3_col5\" class=\"data row3 col5\" >0.403</td>\n",
       "      <td id=\"T_1b17a_row3_col6\" class=\"data row3 col6\" >YES</td>\n",
       "    </tr>\n",
       "    <tr>\n",
       "      <td id=\"T_1b17a_row4_col0\" class=\"data row4 col0\" >n10</td>\n",
       "      <td id=\"T_1b17a_row4_col1\" class=\"data row4 col1\" >Child</td>\n",
       "      <td id=\"T_1b17a_row4_col2\" class=\"data row4 col2\" >None</td>\n",
       "      <td id=\"T_1b17a_row4_col3\" class=\"data row4 col3\" >5</td>\n",
       "      <td id=\"T_1b17a_row4_col4\" class=\"data row4 col4\" >-0.0</td>\n",
       "      <td id=\"T_1b17a_row4_col5\" class=\"data row4 col5\" >None</td>\n",
       "      <td id=\"T_1b17a_row4_col6\" class=\"data row4 col6\" >NO</td>\n",
       "    </tr>\n",
       "    <tr>\n",
       "      <td id=\"T_1b17a_row5_col0\" class=\"data row5 col0\" >n11</td>\n",
       "      <td id=\"T_1b17a_row5_col1\" class=\"data row5 col1\" >Child</td>\n",
       "      <td id=\"T_1b17a_row5_col2\" class=\"data row5 col2\" >None</td>\n",
       "      <td id=\"T_1b17a_row5_col3\" class=\"data row5 col3\" >21</td>\n",
       "      <td id=\"T_1b17a_row5_col4\" class=\"data row5 col4\" >23.05</td>\n",
       "      <td id=\"T_1b17a_row5_col5\" class=\"data row5 col5\" >None</td>\n",
       "      <td id=\"T_1b17a_row5_col6\" class=\"data row5 col6\" >YES</td>\n",
       "    </tr>\n",
       "    <tr>\n",
       "      <td id=\"T_1b17a_row6_col0\" class=\"data row6 col0\" >n3</td>\n",
       "      <td id=\"T_1b17a_row6_col1\" class=\"data row6 col1\" >Parent</td>\n",
       "      <td id=\"T_1b17a_row6_col2\" class=\"data row6 col2\" >Price>92.5</td>\n",
       "      <td id=\"T_1b17a_row6_col3\" class=\"data row6 col3\" >227</td>\n",
       "      <td id=\"T_1b17a_row6_col4\" class=\"data row6 col4\" >278.84</td>\n",
       "      <td id=\"T_1b17a_row6_col5\" class=\"data row6 col5\" >0.439</td>\n",
       "      <td id=\"T_1b17a_row6_col6\" class=\"data row6 col6\" >NO</td>\n",
       "    </tr>\n",
       "    <tr>\n",
       "      <td id=\"T_1b17a_row7_col0\" class=\"data row7 col0\" >n6</td>\n",
       "      <td id=\"T_1b17a_row7_col1\" class=\"data row7 col1\" >Child</td>\n",
       "      <td id=\"T_1b17a_row7_col2\" class=\"data row7 col2\" >None</td>\n",
       "      <td id=\"T_1b17a_row7_col3\" class=\"data row7 col3\" >33</td>\n",
       "      <td id=\"T_1b17a_row7_col4\" class=\"data row7 col4\" >38.67</td>\n",
       "      <td id=\"T_1b17a_row7_col5\" class=\"data row7 col5\" >None</td>\n",
       "      <td id=\"T_1b17a_row7_col6\" class=\"data row7 col6\" >YES</td>\n",
       "    </tr>\n",
       "    <tr>\n",
       "      <td id=\"T_1b17a_row8_col0\" class=\"data row8 col0\" >n7</td>\n",
       "      <td id=\"T_1b17a_row8_col1\" class=\"data row8 col1\" >Child</td>\n",
       "      <td id=\"T_1b17a_row8_col2\" class=\"data row8 col2\" >None</td>\n",
       "      <td id=\"T_1b17a_row8_col3\" class=\"data row8 col3\" >194</td>\n",
       "      <td id=\"T_1b17a_row8_col4\" class=\"data row8 col4\" >210.15</td>\n",
       "      <td id=\"T_1b17a_row8_col5\" class=\"data row8 col5\" >None</td>\n",
       "      <td id=\"T_1b17a_row8_col6\" class=\"data row8 col6\" >NO</td>\n",
       "    </tr>\n",
       "  </tbody>\n",
       "</table>\n"
      ],
      "text/plain": [
       "<pandas.io.formats.style.Styler at 0x192820aa750>"
      ]
     },
     "execution_count": 8,
     "metadata": {},
     "output_type": "execute_result"
    }
   ],
   "source": [
    "alpha, pruned_table = tree.pruning(features_test, n_features_test, y_test, table = True, print_render = True)\n",
    "tree.print_alpha(alpha)\n",
    "pruned_table.style.hide()\n"
   ]
  }
 ],
 "metadata": {
  "kernelspec": {
   "display_name": "base",
   "language": "python",
   "name": "python3"
  },
  "language_info": {
   "codemirror_mode": {
    "name": "ipython",
    "version": 3
   },
   "file_extension": ".py",
   "mimetype": "text/x-python",
   "name": "python",
   "nbconvert_exporter": "python",
   "pygments_lexer": "ipython3",
   "version": "3.11.5"
  },
  "orig_nbformat": 4
 },
 "nbformat": 4,
 "nbformat_minor": 2
}
