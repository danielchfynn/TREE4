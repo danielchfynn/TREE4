{
 "cells": [
  {
   "cell_type": "code",
   "execution_count": 1,
   "metadata": {},
   "outputs": [],
   "source": [
    "from __future__ import annotations\n",
    "from cart import *\n",
    "import pandas as pd\n",
    "\n",
    "#d = dict(features, **n_features)  #merges the two dicts\n",
    "#df = pd.DataFrame(data=d)         #creates the dataframe\n",
    "import time\n",
    "import csv\n",
    "\n",
    "df=pd.read_csv('Carseats_train.csv')\n",
    "df=df.iloc[:,1:]\n",
    "features_names=list(df.columns)\n",
    "colonne=features_names[:6]\n",
    "features_name=features_names[7:9]\n",
    "features_names=colonne + features_name\n",
    "\n",
    "n_features_names=list(df.columns)\n",
    "columns = [(n_features_names[6])]\n",
    "n_features_name = n_features_names[9:11]\n",
    "n_features_names=columns + n_features_name\n",
    "features=df.iloc[:,0:6]\n",
    "features2=df.iloc[:,7:9]\n",
    "features=dict(features)\n",
    "features2=dict(features2)\n",
    "n_features=df.iloc[:,6:7]\n",
    "n_features2=df.iloc[:,9:11]\n",
    "n_features=dict(n_features)\n",
    "n_features2=dict(n_features2)\n",
    "features = dict(features, **features2)\n",
    "n_features = dict(n_features, **n_features2)\n",
    "\n",
    "High=[]\n",
    "for i in features['Sales']:\n",
    "    if i < 8:\n",
    "        High.append('NO')\n",
    "    else:\n",
    "        High.append('YES')\n",
    "\n",
    "High=pd.DataFrame(High)\n",
    "High=dict(High)\n",
    "High['High'] = High.pop(0)\n",
    "y=High['High']\n",
    "exclude_keys = ['Sales']\n",
    "\n",
    "new_d = {k: features[k] for k in set(list(features.keys())) - set(exclude_keys)}\n",
    "features=new_d\n",
    "features_names=features_names[1:]\n",
    "indici = np.arange(0, len(y))\n",
    "\n",
    "###############Prepating Test Set############################################### \n",
    "df_test=pd.read_csv('Carseats_test.csv')\n",
    "df_test=df_test.iloc[:,1:]\n",
    "features_test=df_test.iloc[:,0:6]\n",
    "features2_test=df_test.iloc[:,7:9]\n",
    "features_test=dict(features_test)\n",
    "features2_test=dict(features2_test)\n",
    "n_features_test=df_test.iloc[:,6:7]\n",
    "n_features2_test=df_test.iloc[:,9:11]\n",
    "n_features_test=dict(n_features_test)\n",
    "n_features2_test=dict(n_features2_test)\n",
    "features_test = dict(features_test, **features2_test)\n",
    "n_features_test = dict(n_features_test, **n_features2_test)\n",
    "\n",
    "High=[]\n",
    "for i in features_test['Sales']:\n",
    "    if i < 8:\n",
    "        High.append('NO')\n",
    "    else:\n",
    "        High.append('YES')\n",
    "\n",
    "High=pd.DataFrame(High)\n",
    "High=dict(High)\n",
    "High['High'] = High.pop(0)\n",
    "y_test=High['High']\n",
    "y_test = y_test.tolist()\n",
    "del features_test[\"Sales\"]   \n",
    "\n",
    "###########################################################################\n",
    "\n",
    "#when definining a funcion please be aware we are using purity gain or information gain or greatest difference between variance, all positive aspects \n",
    "#adding user_defined as a possible impurity_fn and added user_impur to carry that function \n",
    "#user_fn is only defined for the growing stage at this point \n",
    "\n",
    "def user_fn(self, node): #impur just takes node in CART\n",
    "    #example gini\n",
    "    prom = 0\n",
    "    c = Counter(self.y[node.indexes]) #Creates a dictionary {\"yes\":number, \"no\"}\n",
    "    c = list(c.items())\n",
    "    for i in  c:\n",
    "        prob_i = float((i[1]/len(self.y[node.indexes])))**2 #probability squared\n",
    "                    \n",
    "        prom += prob_i*i[1] #original weighted, only looking at purity\n",
    "                    \n",
    "    return prom   \n",
    "\n"
   ]
  },
  {
   "attachments": {},
   "cell_type": "markdown",
   "metadata": {},
   "source": [
    "implemented print for classifier trees thus far, \n",
    "when running classifier have a lower min_imp_gaiin"
   ]
  },
  {
   "cell_type": "code",
   "execution_count": 2,
   "metadata": {},
   "outputs": [],
   "source": [
    "lbt = False\n",
    "\n",
    "if lbt:\n",
    "    #for use with latent budget tree for carseat \n",
    "\n",
    "    #min(features[\"Price\"]), max(features[\"Price\"])\n",
    "    features[\"Price\"].loc[features[\"Price\"]<50] = 1\n",
    "    features[\"Price\"].loc[features[\"Price\"].between(50,100)] = 2\n",
    "    features[\"Price\"].loc[features[\"Price\"].between(100,150)] = 3\n",
    "    features[\"Price\"].loc[features[\"Price\"]>=150] = 4\n",
    "    features[\"Price\"] = \"Price\" + features[\"Price\"].astype(str)\n",
    "\n",
    "    features[\"Population\"].loc[features[\"Population\"]<100] = 1\n",
    "    features[\"Population\"].loc[features[\"Population\"].between(100,200)] = 2\n",
    "    features[\"Population\"].loc[features[\"Population\"].between(200,300)] = 3\n",
    "    features[\"Population\"].loc[features[\"Population\"].between(300,400)] = 4\n",
    "    features[\"Population\"].loc[features[\"Population\"]>=400] = 5\n",
    "    features[\"Population\"] = \"Population\" + features[\"Population\"].astype(str)\n",
    "\n",
    "    features[\"CompPrice\"].loc[features[\"CompPrice\"]<100] = 1\n",
    "    features[\"CompPrice\"].loc[features[\"CompPrice\"].between(100,125)] = 2\n",
    "    features[\"CompPrice\"].loc[features[\"CompPrice\"].between(125,150)] = 3\n",
    "    features[\"CompPrice\"].loc[features[\"CompPrice\"]>=150] = 4\n",
    "    features[\"CompPrice\"] = \"CompPrice\" + features[\"CompPrice\"].astype(str)\n",
    "\n",
    "    #features[\"Sales\"] = round(features[\"Sales\"])\n",
    "    #features[\"Sales\"] = \"Sales\" + features[\"Sales\"].astype(str)\n",
    "\n",
    "    features[\"Age\"].loc[features[\"Age\"]<35] = 1\n",
    "    features[\"Age\"].loc[features[\"Age\"].between(35,45)] = 2\n",
    "    features[\"Age\"].loc[features[\"Age\"].between(45,55)] = 3\n",
    "    features[\"Age\"].loc[features[\"Age\"].between(55,65)] = 4\n",
    "    features[\"Age\"].loc[features[\"Age\"]>=65] = 5\n",
    "    features[\"Age\"] = \"Age\" + features[\"Age\"].astype(str)\n",
    "\n",
    "    features[\"Advertising\"] = \"Advertising\" + features[\"Advertising\"].astype(str)\n",
    "\n",
    "    features[\"Education\"] = \"Education\" + features[\"Education\"].astype(str)\n",
    "\n",
    "    features[\"Income\"].loc[features[\"Income\"]<40] = 1\n",
    "    features[\"Income\"].loc[features[\"Income\"].between(40,60)] = 2\n",
    "    features[\"Income\"].loc[features[\"Income\"].between(60,80)] = 3\n",
    "    features[\"Income\"].loc[features[\"Income\"].between(80,100)] = 4\n",
    "    features[\"Income\"].loc[features[\"Income\"]>=100] = 5\n",
    "    features[\"Income\"] = \"Income\" + features[\"Income\"].astype(str)\n",
    "\n",
    "\n",
    "    for f in features:\n",
    "        print(f)\n",
    "        n_features[f] = features[f]\n",
    "\n",
    "    n_features_names = n_features_names + features_names\n",
    "\n",
    "    features_names = []\n",
    "    features = []\n",
    "    "
   ]
  },
  {
   "cell_type": "code",
   "execution_count": 3,
   "metadata": {},
   "outputs": [
    {
     "name": "stdout",
     "output_type": "stream",
     "text": [
      "level 0\n",
      "Split Found:  n1 [['ShelveLoc', ('Medium', 'Bad'), 0.15303824308127323, 0]] start\n",
      "node_proportion_total  0.0732358265806532\n",
      "level 1\n",
      "Split Found:  n2 [['Price', 120, 0.1835695169028498, 1]] left\n",
      "node_proportion_total  0.3472524878081309\n",
      "Node_proportion_gain  0.2740166612274777\n",
      "level 2\n",
      "Split Found:  n4 [['Income', 32, 0.16923076923077185, 2]] left\n",
      "node_proportion_total  0.3803668507389402\n",
      "Node_proportion_gain  0.03311436293080933\n",
      "level 3\n",
      "Node Search Split Error for:  n8 with obs in node:  5  which is less than minimum parent size:  10\n",
      "TypeError\n",
      "level 3\n",
      "This split isn't good now i cut it [counter] - node class purity\n",
      "TypeError\n",
      "level 2\n",
      "Split Found:  n5 [['Income', 35, 0.38095238095238076, 2]] right\n",
      "node_proportion_total  0.40335169618508204\n",
      "Node_proportion_gain  0.02298484544614182\n",
      "level 3\n",
      "This split isn't good now i cut it [counter] - node class purity\n",
      "TypeError\n",
      "level 3\n",
      "Split Found:  n11 [['Education', 15, 0.2343750000000005, 3]] right\n",
      "node_proportion_total  0.41694699171886096\n",
      "Node_proportion_gain  0.013595295533778917\n",
      "level 4\n",
      "Split Found:  n22 [['Advertising', 5, 0.2571428571428572, 4]] left\n",
      "node_proportion_total  0.4265121445053794\n",
      "Node_proportion_gain  0.009565152786518427\n",
      "level 5\n",
      "level 5\n",
      "level 4\n",
      "This split isn't good now i cut it [counter] - node class purity\n",
      "TypeError\n",
      "level 1\n",
      "Split Found:  n3 [['Price', 92, 0.14406903146839262, 1]] right\n",
      "node_proportion_total  0.4391941532939325\n",
      "Node_proportion_gain  0.012682008788553134\n",
      "level 2\n",
      "Split Found:  n6 [['Age', 64, 0.33333333333333304, 2]] left\n",
      "node_proportion_total  0.4452981733670247\n",
      "Node_proportion_gain  0.006104020073092187\n",
      "level 3\n",
      "Split Found:  n12 [['Income', 58, 0.34000000000000025, 3]] left\n",
      "node_proportion_total  0.4490645063086154\n",
      "Node_proportion_gain  0.0037663329415906777\n",
      "level 4\n",
      "Node Search Split Error for:  n24 with obs in node:  5  which is less than minimum parent size:  10\n",
      "TypeError\n",
      "level 4\n",
      "This split isn't good now i cut it [counter] - node class purity\n",
      "TypeError\n",
      "level 3\n",
      "Split Found:  n13 [['Population', 276, 0.6857142857142856, 3]] right\n",
      "node_proportion_total  0.45287804672009396\n",
      "Node_proportion_gain  0.0038135404114785776\n",
      "level 4\n",
      "This split isn't good now i cut it [counter] - node class purity\n",
      "TypeError\n",
      "level 4\n",
      "Node Search Split Error for:  n27 with obs in node:  5  which is less than minimum parent size:  10\n",
      "TypeError\n",
      "level 2\n",
      "Split Found:  n7 [['Advertising', 8, 0.11201481441145453, 2]] right\n",
      "node_proportion_total  0.4573214645053425\n",
      "Node_proportion_gain  0.004443417785248538\n",
      "level 3\n",
      "Split Found:  n14 [['CompPrice', 144, 0.13013302486986664, 3]] left\n",
      "node_proportion_total  0.4601228515278792\n",
      "Node_proportion_gain  0.0028013870225366833\n",
      "level 4\n",
      "Split Found:  n28 [['CompPrice', 124, 0.08183755165289282, 4]] left\n",
      "node_proportion_total  0.46185562165697014\n",
      "Node_proportion_gain  0.0017327701290909547\n",
      "level 5\n",
      "level 5\n",
      "level 4\n",
      "Split Found:  n29 [['Price', 141, 0.20223063973063976, 4]] right\n",
      "node_proportion_total  0.46337616821807104\n",
      "Node_proportion_gain  0.0015205465611008995\n",
      "level 5\n",
      "level 5\n",
      "level 3\n",
      "Split Found:  n15 [['Price', 124, 0.34687649307214496, 3]] right\n",
      "node_proportion_total  0.46654565415902044\n",
      "Node_proportion_gain  0.0031694859409494014\n",
      "level 4\n",
      "Split Found:  n30 [['CompPrice', 111, 0.5454545454545456, 4]] left\n",
      "node_proportion_total  0.46898024353021855\n",
      "Node_proportion_gain  0.002434589371198115\n",
      "level 5\n",
      "level 5\n",
      "level 4\n",
      "Split Found:  n31 [['CompPrice', 135, 0.17857142857142938, 4]] right\n",
      "node_proportion_total  0.46964106949598033\n",
      "Node_proportion_gain  0.0006608259657617799\n",
      "level 5\n",
      "level 5\n"
     ]
    },
    {
     "data": {
      "text/plain": [
       "(((None, None), (None, ((None, None), None))),\n",
       " (((None, None), (None, None)),\n",
       "  (((None, None), (None, None)), ((None, None), (None, None)))))"
      ]
     },
     "execution_count": 3,
     "metadata": {},
     "output_type": "execute_result"
    }
   ],
   "source": [
    "\n",
    "my_tree = MyNodeClass('n1', indici) \n",
    "cart = CART(y,features,features_names,n_features,n_features_names,impurity_fn = \"tau\",problem=\"classifier\",method = \"FAST\", twoing = False,max_level = 4, min_cases_parent= 10,min_cases_child= 5,min_imp_gain=0.0001) \n",
    "cart.growing_tree(my_tree)\n",
    "##can print single tree \n",
    "\n",
    "\n",
    "#alpha = cart.pruning(features_test, n_features_test, y_test)\n",
    "#cart.print_alpha(alpha) prints the alpha values\n"
   ]
  },
  {
   "cell_type": "code",
   "execution_count": 4,
   "metadata": {},
   "outputs": [
    {
     "name": "stdout",
     "output_type": "stream",
     "text": [
      "n1 0.15303824308127323\n",
      "n2 0.1835695169028498\n",
      "n4 0.16923076923077185\n",
      "n5 0.38095238095238076\n",
      "n11 0.2343750000000005\n",
      "n22 0.2571428571428572\n",
      "n3 0.14406903146839262\n",
      "n6 0.33333333333333304\n",
      "n12 0.34000000000000025\n",
      "n13 0.6857142857142856\n",
      "n7 0.11201481441145453\n",
      "n14 0.13013302486986664\n",
      "n28 0.08183755165289282\n",
      "n29 0.20223063973063976\n",
      "n15 0.34687649307214496\n",
      "n30 0.5454545454545456\n",
      "n31 0.17857142857142938\n"
     ]
    }
   ],
   "source": [
    "for i in cart.get_all_node():\n",
    "\n",
    "    try:\n",
    "        print(i.name, i.value_soglia_split[0][2])\n",
    "    except:\n",
    "        continue"
   ]
  },
  {
   "cell_type": "code",
   "execution_count": 5,
   "metadata": {},
   "outputs": [
    {
     "data": {
      "application/vnd.plotly.v1+json": {
       "config": {
        "plotlyServerURL": "https://plot.ly"
       },
       "data": [
        {
         "hoverinfo": "none",
         "line": {
          "color": "rgb(210,210,210)",
          "width": 1
         },
         "mode": "lines",
         "type": "scatter",
         "x": [
          0,
          -8,
          null,
          0,
          8,
          null,
          -8,
          -12,
          null,
          -8,
          -4,
          null,
          8,
          4,
          null,
          8,
          12,
          null,
          -12,
          -14,
          null,
          -12,
          -10,
          null,
          -4,
          -6,
          null,
          -4,
          -2,
          null,
          4,
          2,
          null,
          4,
          6,
          null,
          12,
          10,
          null,
          12,
          14,
          null,
          -2,
          -3,
          null,
          -2,
          -1,
          null,
          2,
          1,
          null,
          2,
          3,
          null,
          6,
          5,
          null,
          6,
          7,
          null,
          10,
          9,
          null,
          10,
          11,
          null,
          14,
          13,
          null,
          14,
          15,
          null,
          -3,
          -3.5,
          null,
          -3,
          -2.5,
          null,
          9,
          8.5,
          null,
          9,
          9.5,
          null,
          11,
          10.5,
          null,
          11,
          11.5,
          null,
          13,
          12.5,
          null,
          13,
          13.5,
          null,
          15,
          14.5,
          null,
          15,
          15.5,
          null
         ],
         "y": [
          10,
          9,
          null,
          10,
          9,
          null,
          9,
          8,
          null,
          9,
          8,
          null,
          9,
          8,
          null,
          9,
          8,
          null,
          8,
          7,
          null,
          8,
          7,
          null,
          8,
          7,
          null,
          8,
          7,
          null,
          8,
          7,
          null,
          8,
          7,
          null,
          8,
          7,
          null,
          8,
          7,
          null,
          7,
          6,
          null,
          7,
          6,
          null,
          7,
          6,
          null,
          7,
          6,
          null,
          7,
          6,
          null,
          7,
          6,
          null,
          7,
          6,
          null,
          7,
          6,
          null,
          7,
          6,
          null,
          7,
          6,
          null,
          6,
          5,
          null,
          6,
          5,
          null,
          6,
          5,
          null,
          6,
          5,
          null,
          6,
          5,
          null,
          6,
          5,
          null,
          6,
          5,
          null,
          6,
          5,
          null,
          6,
          5,
          null,
          6,
          5,
          null
         ]
        },
        {
         "hoverinfo": "text",
         "marker": {
          "color": "#6175c1",
          "line": {
           "color": "rgb(50,50,50)",
           "width": 1
          },
          "size": 18,
          "symbol": "circle-dot"
         },
         "mode": "markers",
         "name": "Nodes",
         "opacity": 0.8,
         "text": [
          "Node: n8, Class: YES, tau : None, Samples : 5",
          "Node: n9, Class: YES, tau : None, Samples : 22",
          "Node: n10, Class: NO, tau : None, Samples : 5",
          "Node: n23, Class: YES, tau : None, Samples : 9",
          "Node: n44, Class: NO, tau : None, Samples : 6",
          "Node: n45, Class: YES, tau : None, Samples : 6",
          "Node: n24, Class: YES, tau : None, Samples : 5",
          "Node: n25, Class: YES, tau : None, Samples : 17",
          "Node: n26, Class: NO, tau : None, Samples : 6",
          "Node: n27, Class: YES, tau : None, Samples : 5",
          "Node: n56, Class: NO, tau : None, Samples : 64",
          "Node: n57, Class: NO, tau : None, Samples : 55",
          "Node: n58, Class: YES, tau : None, Samples : 11",
          "Node: n59, Class: NO, tau : None, Samples : 6",
          "Node: n60, Class: NO, tau : None, Samples : 7",
          "Node: n61, Class: YES, tau : None, Samples : 28",
          "Node: n62, Class: NO, tau : None, Samples : 15",
          "Node: n63, Class: NO, tau : None, Samples : 8",
          "Node: n1, Class: NO, tau : 0.15, Samples : 280",
          "Node: n2, Class: NO, tau : 0.18, Samples : 53",
          "Node: n4, Class: NO, tau : 0.17, Samples : 27",
          "Node: n5, Class: NO, tau : 0.38, Samples : 26",
          "Node: n11, Class: NO, tau : 0.23, Samples : 21",
          "Node: n22, Class: NO, tau : 0.26, Samples : 12",
          "Node: n3, Class: NO, tau : 0.14, Samples : 227",
          "Node: n6, Class: NO, tau : 0.33, Samples : 33",
          "Node: n12, Class: NO, tau : 0.34, Samples : 22",
          "Node: n13, Class: NO, tau : 0.69, Samples : 11",
          "Node: n7, Class: NO, tau : 0.11, Samples : 194",
          "Node: n14, Class: NO, tau : 0.13, Samples : 136",
          "Node: n28, Class: NO, tau : 0.08, Samples : 119",
          "Node: n29, Class: NO, tau : 0.2, Samples : 17",
          "Node: n15, Class: NO, tau : 0.35, Samples : 58",
          "Node: n30, Class: NO, tau : 0.55, Samples : 35",
          "Node: n31, Class: NO, tau : 0.18, Samples : 23"
         ],
         "type": "scatter",
         "x": [
          -14,
          -10,
          -6,
          -1,
          -3.5,
          -2.5,
          1,
          3,
          5,
          7,
          8.5,
          9.5,
          10.5,
          11.5,
          12.5,
          13.5,
          14.5,
          15.5,
          0,
          -8,
          -12,
          -4,
          -2,
          -3,
          8,
          4,
          2,
          6,
          12,
          10,
          9,
          11,
          14,
          13,
          15
         ],
         "y": [
          7,
          7,
          7,
          6,
          5,
          5,
          6,
          6,
          6,
          6,
          5,
          5,
          5,
          5,
          5,
          5,
          5,
          5,
          10,
          9,
          8,
          8,
          7,
          6,
          9,
          8,
          7,
          7,
          8,
          7,
          6,
          6,
          7,
          6,
          6
         ]
        }
       ],
       "layout": {
        "template": {
         "data": {
          "bar": [
           {
            "error_x": {
             "color": "#2a3f5f"
            },
            "error_y": {
             "color": "#2a3f5f"
            },
            "marker": {
             "line": {
              "color": "#E5ECF6",
              "width": 0.5
             },
             "pattern": {
              "fillmode": "overlay",
              "size": 10,
              "solidity": 0.2
             }
            },
            "type": "bar"
           }
          ],
          "barpolar": [
           {
            "marker": {
             "line": {
              "color": "#E5ECF6",
              "width": 0.5
             },
             "pattern": {
              "fillmode": "overlay",
              "size": 10,
              "solidity": 0.2
             }
            },
            "type": "barpolar"
           }
          ],
          "carpet": [
           {
            "aaxis": {
             "endlinecolor": "#2a3f5f",
             "gridcolor": "white",
             "linecolor": "white",
             "minorgridcolor": "white",
             "startlinecolor": "#2a3f5f"
            },
            "baxis": {
             "endlinecolor": "#2a3f5f",
             "gridcolor": "white",
             "linecolor": "white",
             "minorgridcolor": "white",
             "startlinecolor": "#2a3f5f"
            },
            "type": "carpet"
           }
          ],
          "choropleth": [
           {
            "colorbar": {
             "outlinewidth": 0,
             "ticks": ""
            },
            "type": "choropleth"
           }
          ],
          "contour": [
           {
            "colorbar": {
             "outlinewidth": 0,
             "ticks": ""
            },
            "colorscale": [
             [
              0,
              "#0d0887"
             ],
             [
              0.1111111111111111,
              "#46039f"
             ],
             [
              0.2222222222222222,
              "#7201a8"
             ],
             [
              0.3333333333333333,
              "#9c179e"
             ],
             [
              0.4444444444444444,
              "#bd3786"
             ],
             [
              0.5555555555555556,
              "#d8576b"
             ],
             [
              0.6666666666666666,
              "#ed7953"
             ],
             [
              0.7777777777777778,
              "#fb9f3a"
             ],
             [
              0.8888888888888888,
              "#fdca26"
             ],
             [
              1,
              "#f0f921"
             ]
            ],
            "type": "contour"
           }
          ],
          "contourcarpet": [
           {
            "colorbar": {
             "outlinewidth": 0,
             "ticks": ""
            },
            "type": "contourcarpet"
           }
          ],
          "heatmap": [
           {
            "colorbar": {
             "outlinewidth": 0,
             "ticks": ""
            },
            "colorscale": [
             [
              0,
              "#0d0887"
             ],
             [
              0.1111111111111111,
              "#46039f"
             ],
             [
              0.2222222222222222,
              "#7201a8"
             ],
             [
              0.3333333333333333,
              "#9c179e"
             ],
             [
              0.4444444444444444,
              "#bd3786"
             ],
             [
              0.5555555555555556,
              "#d8576b"
             ],
             [
              0.6666666666666666,
              "#ed7953"
             ],
             [
              0.7777777777777778,
              "#fb9f3a"
             ],
             [
              0.8888888888888888,
              "#fdca26"
             ],
             [
              1,
              "#f0f921"
             ]
            ],
            "type": "heatmap"
           }
          ],
          "heatmapgl": [
           {
            "colorbar": {
             "outlinewidth": 0,
             "ticks": ""
            },
            "colorscale": [
             [
              0,
              "#0d0887"
             ],
             [
              0.1111111111111111,
              "#46039f"
             ],
             [
              0.2222222222222222,
              "#7201a8"
             ],
             [
              0.3333333333333333,
              "#9c179e"
             ],
             [
              0.4444444444444444,
              "#bd3786"
             ],
             [
              0.5555555555555556,
              "#d8576b"
             ],
             [
              0.6666666666666666,
              "#ed7953"
             ],
             [
              0.7777777777777778,
              "#fb9f3a"
             ],
             [
              0.8888888888888888,
              "#fdca26"
             ],
             [
              1,
              "#f0f921"
             ]
            ],
            "type": "heatmapgl"
           }
          ],
          "histogram": [
           {
            "marker": {
             "pattern": {
              "fillmode": "overlay",
              "size": 10,
              "solidity": 0.2
             }
            },
            "type": "histogram"
           }
          ],
          "histogram2d": [
           {
            "colorbar": {
             "outlinewidth": 0,
             "ticks": ""
            },
            "colorscale": [
             [
              0,
              "#0d0887"
             ],
             [
              0.1111111111111111,
              "#46039f"
             ],
             [
              0.2222222222222222,
              "#7201a8"
             ],
             [
              0.3333333333333333,
              "#9c179e"
             ],
             [
              0.4444444444444444,
              "#bd3786"
             ],
             [
              0.5555555555555556,
              "#d8576b"
             ],
             [
              0.6666666666666666,
              "#ed7953"
             ],
             [
              0.7777777777777778,
              "#fb9f3a"
             ],
             [
              0.8888888888888888,
              "#fdca26"
             ],
             [
              1,
              "#f0f921"
             ]
            ],
            "type": "histogram2d"
           }
          ],
          "histogram2dcontour": [
           {
            "colorbar": {
             "outlinewidth": 0,
             "ticks": ""
            },
            "colorscale": [
             [
              0,
              "#0d0887"
             ],
             [
              0.1111111111111111,
              "#46039f"
             ],
             [
              0.2222222222222222,
              "#7201a8"
             ],
             [
              0.3333333333333333,
              "#9c179e"
             ],
             [
              0.4444444444444444,
              "#bd3786"
             ],
             [
              0.5555555555555556,
              "#d8576b"
             ],
             [
              0.6666666666666666,
              "#ed7953"
             ],
             [
              0.7777777777777778,
              "#fb9f3a"
             ],
             [
              0.8888888888888888,
              "#fdca26"
             ],
             [
              1,
              "#f0f921"
             ]
            ],
            "type": "histogram2dcontour"
           }
          ],
          "mesh3d": [
           {
            "colorbar": {
             "outlinewidth": 0,
             "ticks": ""
            },
            "type": "mesh3d"
           }
          ],
          "parcoords": [
           {
            "line": {
             "colorbar": {
              "outlinewidth": 0,
              "ticks": ""
             }
            },
            "type": "parcoords"
           }
          ],
          "pie": [
           {
            "automargin": true,
            "type": "pie"
           }
          ],
          "scatter": [
           {
            "fillpattern": {
             "fillmode": "overlay",
             "size": 10,
             "solidity": 0.2
            },
            "type": "scatter"
           }
          ],
          "scatter3d": [
           {
            "line": {
             "colorbar": {
              "outlinewidth": 0,
              "ticks": ""
             }
            },
            "marker": {
             "colorbar": {
              "outlinewidth": 0,
              "ticks": ""
             }
            },
            "type": "scatter3d"
           }
          ],
          "scattercarpet": [
           {
            "marker": {
             "colorbar": {
              "outlinewidth": 0,
              "ticks": ""
             }
            },
            "type": "scattercarpet"
           }
          ],
          "scattergeo": [
           {
            "marker": {
             "colorbar": {
              "outlinewidth": 0,
              "ticks": ""
             }
            },
            "type": "scattergeo"
           }
          ],
          "scattergl": [
           {
            "marker": {
             "colorbar": {
              "outlinewidth": 0,
              "ticks": ""
             }
            },
            "type": "scattergl"
           }
          ],
          "scattermapbox": [
           {
            "marker": {
             "colorbar": {
              "outlinewidth": 0,
              "ticks": ""
             }
            },
            "type": "scattermapbox"
           }
          ],
          "scatterpolar": [
           {
            "marker": {
             "colorbar": {
              "outlinewidth": 0,
              "ticks": ""
             }
            },
            "type": "scatterpolar"
           }
          ],
          "scatterpolargl": [
           {
            "marker": {
             "colorbar": {
              "outlinewidth": 0,
              "ticks": ""
             }
            },
            "type": "scatterpolargl"
           }
          ],
          "scatterternary": [
           {
            "marker": {
             "colorbar": {
              "outlinewidth": 0,
              "ticks": ""
             }
            },
            "type": "scatterternary"
           }
          ],
          "surface": [
           {
            "colorbar": {
             "outlinewidth": 0,
             "ticks": ""
            },
            "colorscale": [
             [
              0,
              "#0d0887"
             ],
             [
              0.1111111111111111,
              "#46039f"
             ],
             [
              0.2222222222222222,
              "#7201a8"
             ],
             [
              0.3333333333333333,
              "#9c179e"
             ],
             [
              0.4444444444444444,
              "#bd3786"
             ],
             [
              0.5555555555555556,
              "#d8576b"
             ],
             [
              0.6666666666666666,
              "#ed7953"
             ],
             [
              0.7777777777777778,
              "#fb9f3a"
             ],
             [
              0.8888888888888888,
              "#fdca26"
             ],
             [
              1,
              "#f0f921"
             ]
            ],
            "type": "surface"
           }
          ],
          "table": [
           {
            "cells": {
             "fill": {
              "color": "#EBF0F8"
             },
             "line": {
              "color": "white"
             }
            },
            "header": {
             "fill": {
              "color": "#C8D4E3"
             },
             "line": {
              "color": "white"
             }
            },
            "type": "table"
           }
          ]
         },
         "layout": {
          "annotationdefaults": {
           "arrowcolor": "#2a3f5f",
           "arrowhead": 0,
           "arrowwidth": 1
          },
          "autotypenumbers": "strict",
          "coloraxis": {
           "colorbar": {
            "outlinewidth": 0,
            "ticks": ""
           }
          },
          "colorscale": {
           "diverging": [
            [
             0,
             "#8e0152"
            ],
            [
             0.1,
             "#c51b7d"
            ],
            [
             0.2,
             "#de77ae"
            ],
            [
             0.3,
             "#f1b6da"
            ],
            [
             0.4,
             "#fde0ef"
            ],
            [
             0.5,
             "#f7f7f7"
            ],
            [
             0.6,
             "#e6f5d0"
            ],
            [
             0.7,
             "#b8e186"
            ],
            [
             0.8,
             "#7fbc41"
            ],
            [
             0.9,
             "#4d9221"
            ],
            [
             1,
             "#276419"
            ]
           ],
           "sequential": [
            [
             0,
             "#0d0887"
            ],
            [
             0.1111111111111111,
             "#46039f"
            ],
            [
             0.2222222222222222,
             "#7201a8"
            ],
            [
             0.3333333333333333,
             "#9c179e"
            ],
            [
             0.4444444444444444,
             "#bd3786"
            ],
            [
             0.5555555555555556,
             "#d8576b"
            ],
            [
             0.6666666666666666,
             "#ed7953"
            ],
            [
             0.7777777777777778,
             "#fb9f3a"
            ],
            [
             0.8888888888888888,
             "#fdca26"
            ],
            [
             1,
             "#f0f921"
            ]
           ],
           "sequentialminus": [
            [
             0,
             "#0d0887"
            ],
            [
             0.1111111111111111,
             "#46039f"
            ],
            [
             0.2222222222222222,
             "#7201a8"
            ],
            [
             0.3333333333333333,
             "#9c179e"
            ],
            [
             0.4444444444444444,
             "#bd3786"
            ],
            [
             0.5555555555555556,
             "#d8576b"
            ],
            [
             0.6666666666666666,
             "#ed7953"
            ],
            [
             0.7777777777777778,
             "#fb9f3a"
            ],
            [
             0.8888888888888888,
             "#fdca26"
            ],
            [
             1,
             "#f0f921"
            ]
           ]
          },
          "colorway": [
           "#636efa",
           "#EF553B",
           "#00cc96",
           "#ab63fa",
           "#FFA15A",
           "#19d3f3",
           "#FF6692",
           "#B6E880",
           "#FF97FF",
           "#FECB52"
          ],
          "font": {
           "color": "#2a3f5f"
          },
          "geo": {
           "bgcolor": "white",
           "lakecolor": "white",
           "landcolor": "#E5ECF6",
           "showlakes": true,
           "showland": true,
           "subunitcolor": "white"
          },
          "hoverlabel": {
           "align": "left"
          },
          "hovermode": "closest",
          "mapbox": {
           "style": "light"
          },
          "paper_bgcolor": "white",
          "plot_bgcolor": "#E5ECF6",
          "polar": {
           "angularaxis": {
            "gridcolor": "white",
            "linecolor": "white",
            "ticks": ""
           },
           "bgcolor": "#E5ECF6",
           "radialaxis": {
            "gridcolor": "white",
            "linecolor": "white",
            "ticks": ""
           }
          },
          "scene": {
           "xaxis": {
            "backgroundcolor": "#E5ECF6",
            "gridcolor": "white",
            "gridwidth": 2,
            "linecolor": "white",
            "showbackground": true,
            "ticks": "",
            "zerolinecolor": "white"
           },
           "yaxis": {
            "backgroundcolor": "#E5ECF6",
            "gridcolor": "white",
            "gridwidth": 2,
            "linecolor": "white",
            "showbackground": true,
            "ticks": "",
            "zerolinecolor": "white"
           },
           "zaxis": {
            "backgroundcolor": "#E5ECF6",
            "gridcolor": "white",
            "gridwidth": 2,
            "linecolor": "white",
            "showbackground": true,
            "ticks": "",
            "zerolinecolor": "white"
           }
          },
          "shapedefaults": {
           "line": {
            "color": "#2a3f5f"
           }
          },
          "ternary": {
           "aaxis": {
            "gridcolor": "white",
            "linecolor": "white",
            "ticks": ""
           },
           "baxis": {
            "gridcolor": "white",
            "linecolor": "white",
            "ticks": ""
           },
           "bgcolor": "#E5ECF6",
           "caxis": {
            "gridcolor": "white",
            "linecolor": "white",
            "ticks": ""
           }
          },
          "title": {
           "x": 0.05
          },
          "xaxis": {
           "automargin": true,
           "gridcolor": "white",
           "linecolor": "white",
           "ticks": "",
           "title": {
            "standoff": 15
           },
           "zerolinecolor": "white",
           "zerolinewidth": 2
          },
          "yaxis": {
           "automargin": true,
           "gridcolor": "white",
           "linecolor": "white",
           "ticks": "",
           "title": {
            "standoff": 15
           },
           "zerolinecolor": "white",
           "zerolinewidth": 2
          }
         }
        },
        "title": {
         "text": "CART_tree"
        }
       }
      }
     },
     "metadata": {},
     "output_type": "display_data"
    },
    {
     "data": {
      "text/html": [
       "<style type=\"text/css\">\n",
       "</style>\n",
       "<table id=\"T_5eb8c\">\n",
       "  <thead>\n",
       "    <tr>\n",
       "      <th id=\"T_5eb8c_level0_col0\" class=\"col_heading level0 col0\" >Node</th>\n",
       "      <th id=\"T_5eb8c_level0_col1\" class=\"col_heading level0 col1\" >Node_type</th>\n",
       "      <th id=\"T_5eb8c_level0_col2\" class=\"col_heading level0 col2\" >Variable_Split</th>\n",
       "      <th id=\"T_5eb8c_level0_col3\" class=\"col_heading level0 col3\" >n</th>\n",
       "      <th id=\"T_5eb8c_level0_col4\" class=\"col_heading level0 col4\" >Impurity_Value</th>\n",
       "      <th id=\"T_5eb8c_level0_col5\" class=\"col_heading level0 col5\" >Class/Value</th>\n",
       "    </tr>\n",
       "  </thead>\n",
       "  <tbody>\n",
       "    <tr>\n",
       "      <td id=\"T_5eb8c_row0_col0\" class=\"data row0 col0\" >n1</td>\n",
       "      <td id=\"T_5eb8c_row0_col1\" class=\"data row0 col1\" >Parent</td>\n",
       "      <td id=\"T_5eb8c_row0_col2\" class=\"data row0 col2\" >ShelveLoc in ('Medium', 'Bad')</td>\n",
       "      <td id=\"T_5eb8c_row0_col3\" class=\"data row0 col3\" >280</td>\n",
       "      <td id=\"T_5eb8c_row0_col4\" class=\"data row0 col4\" >0.150000</td>\n",
       "      <td id=\"T_5eb8c_row0_col5\" class=\"data row0 col5\" >NO</td>\n",
       "    </tr>\n",
       "    <tr>\n",
       "      <td id=\"T_5eb8c_row1_col0\" class=\"data row1 col0\" >n2</td>\n",
       "      <td id=\"T_5eb8c_row1_col1\" class=\"data row1 col1\" >Parent</td>\n",
       "      <td id=\"T_5eb8c_row1_col2\" class=\"data row1 col2\" >Price>120</td>\n",
       "      <td id=\"T_5eb8c_row1_col3\" class=\"data row1 col3\" >53</td>\n",
       "      <td id=\"T_5eb8c_row1_col4\" class=\"data row1 col4\" >0.180000</td>\n",
       "      <td id=\"T_5eb8c_row1_col5\" class=\"data row1 col5\" >YES</td>\n",
       "    </tr>\n",
       "    <tr>\n",
       "      <td id=\"T_5eb8c_row2_col0\" class=\"data row2 col0\" >n4</td>\n",
       "      <td id=\"T_5eb8c_row2_col1\" class=\"data row2 col1\" >Parent</td>\n",
       "      <td id=\"T_5eb8c_row2_col2\" class=\"data row2 col2\" >Income>32</td>\n",
       "      <td id=\"T_5eb8c_row2_col3\" class=\"data row2 col3\" >27</td>\n",
       "      <td id=\"T_5eb8c_row2_col4\" class=\"data row2 col4\" >0.170000</td>\n",
       "      <td id=\"T_5eb8c_row2_col5\" class=\"data row2 col5\" >YES</td>\n",
       "    </tr>\n",
       "    <tr>\n",
       "      <td id=\"T_5eb8c_row3_col0\" class=\"data row3 col0\" >n8</td>\n",
       "      <td id=\"T_5eb8c_row3_col1\" class=\"data row3 col1\" >Child</td>\n",
       "      <td id=\"T_5eb8c_row3_col2\" class=\"data row3 col2\" >None</td>\n",
       "      <td id=\"T_5eb8c_row3_col3\" class=\"data row3 col3\" >5</td>\n",
       "      <td id=\"T_5eb8c_row3_col4\" class=\"data row3 col4\" >None</td>\n",
       "      <td id=\"T_5eb8c_row3_col5\" class=\"data row3 col5\" >YES</td>\n",
       "    </tr>\n",
       "    <tr>\n",
       "      <td id=\"T_5eb8c_row4_col0\" class=\"data row4 col0\" >n9</td>\n",
       "      <td id=\"T_5eb8c_row4_col1\" class=\"data row4 col1\" >Child</td>\n",
       "      <td id=\"T_5eb8c_row4_col2\" class=\"data row4 col2\" >None</td>\n",
       "      <td id=\"T_5eb8c_row4_col3\" class=\"data row4 col3\" >22</td>\n",
       "      <td id=\"T_5eb8c_row4_col4\" class=\"data row4 col4\" >None</td>\n",
       "      <td id=\"T_5eb8c_row4_col5\" class=\"data row4 col5\" >YES</td>\n",
       "    </tr>\n",
       "    <tr>\n",
       "      <td id=\"T_5eb8c_row5_col0\" class=\"data row5 col0\" >n5</td>\n",
       "      <td id=\"T_5eb8c_row5_col1\" class=\"data row5 col1\" >Parent</td>\n",
       "      <td id=\"T_5eb8c_row5_col2\" class=\"data row5 col2\" >Income>35</td>\n",
       "      <td id=\"T_5eb8c_row5_col3\" class=\"data row5 col3\" >26</td>\n",
       "      <td id=\"T_5eb8c_row5_col4\" class=\"data row5 col4\" >0.380000</td>\n",
       "      <td id=\"T_5eb8c_row5_col5\" class=\"data row5 col5\" >YES</td>\n",
       "    </tr>\n",
       "    <tr>\n",
       "      <td id=\"T_5eb8c_row6_col0\" class=\"data row6 col0\" >n10</td>\n",
       "      <td id=\"T_5eb8c_row6_col1\" class=\"data row6 col1\" >Child</td>\n",
       "      <td id=\"T_5eb8c_row6_col2\" class=\"data row6 col2\" >None</td>\n",
       "      <td id=\"T_5eb8c_row6_col3\" class=\"data row6 col3\" >5</td>\n",
       "      <td id=\"T_5eb8c_row6_col4\" class=\"data row6 col4\" >None</td>\n",
       "      <td id=\"T_5eb8c_row6_col5\" class=\"data row6 col5\" >NO</td>\n",
       "    </tr>\n",
       "    <tr>\n",
       "      <td id=\"T_5eb8c_row7_col0\" class=\"data row7 col0\" >n11</td>\n",
       "      <td id=\"T_5eb8c_row7_col1\" class=\"data row7 col1\" >Parent</td>\n",
       "      <td id=\"T_5eb8c_row7_col2\" class=\"data row7 col2\" >Education>15</td>\n",
       "      <td id=\"T_5eb8c_row7_col3\" class=\"data row7 col3\" >21</td>\n",
       "      <td id=\"T_5eb8c_row7_col4\" class=\"data row7 col4\" >0.230000</td>\n",
       "      <td id=\"T_5eb8c_row7_col5\" class=\"data row7 col5\" >YES</td>\n",
       "    </tr>\n",
       "    <tr>\n",
       "      <td id=\"T_5eb8c_row8_col0\" class=\"data row8 col0\" >n23</td>\n",
       "      <td id=\"T_5eb8c_row8_col1\" class=\"data row8 col1\" >Child</td>\n",
       "      <td id=\"T_5eb8c_row8_col2\" class=\"data row8 col2\" >None</td>\n",
       "      <td id=\"T_5eb8c_row8_col3\" class=\"data row8 col3\" >9</td>\n",
       "      <td id=\"T_5eb8c_row8_col4\" class=\"data row8 col4\" >None</td>\n",
       "      <td id=\"T_5eb8c_row8_col5\" class=\"data row8 col5\" >YES</td>\n",
       "    </tr>\n",
       "    <tr>\n",
       "      <td id=\"T_5eb8c_row9_col0\" class=\"data row9 col0\" >n22</td>\n",
       "      <td id=\"T_5eb8c_row9_col1\" class=\"data row9 col1\" >Parent</td>\n",
       "      <td id=\"T_5eb8c_row9_col2\" class=\"data row9 col2\" >Advertising>5</td>\n",
       "      <td id=\"T_5eb8c_row9_col3\" class=\"data row9 col3\" >12</td>\n",
       "      <td id=\"T_5eb8c_row9_col4\" class=\"data row9 col4\" >0.260000</td>\n",
       "      <td id=\"T_5eb8c_row9_col5\" class=\"data row9 col5\" >YES</td>\n",
       "    </tr>\n",
       "    <tr>\n",
       "      <td id=\"T_5eb8c_row10_col0\" class=\"data row10 col0\" >n44</td>\n",
       "      <td id=\"T_5eb8c_row10_col1\" class=\"data row10 col1\" >Child</td>\n",
       "      <td id=\"T_5eb8c_row10_col2\" class=\"data row10 col2\" >None</td>\n",
       "      <td id=\"T_5eb8c_row10_col3\" class=\"data row10 col3\" >6</td>\n",
       "      <td id=\"T_5eb8c_row10_col4\" class=\"data row10 col4\" >None</td>\n",
       "      <td id=\"T_5eb8c_row10_col5\" class=\"data row10 col5\" >NO</td>\n",
       "    </tr>\n",
       "    <tr>\n",
       "      <td id=\"T_5eb8c_row11_col0\" class=\"data row11 col0\" >n45</td>\n",
       "      <td id=\"T_5eb8c_row11_col1\" class=\"data row11 col1\" >Child</td>\n",
       "      <td id=\"T_5eb8c_row11_col2\" class=\"data row11 col2\" >None</td>\n",
       "      <td id=\"T_5eb8c_row11_col3\" class=\"data row11 col3\" >6</td>\n",
       "      <td id=\"T_5eb8c_row11_col4\" class=\"data row11 col4\" >None</td>\n",
       "      <td id=\"T_5eb8c_row11_col5\" class=\"data row11 col5\" >YES</td>\n",
       "    </tr>\n",
       "    <tr>\n",
       "      <td id=\"T_5eb8c_row12_col0\" class=\"data row12 col0\" >n3</td>\n",
       "      <td id=\"T_5eb8c_row12_col1\" class=\"data row12 col1\" >Parent</td>\n",
       "      <td id=\"T_5eb8c_row12_col2\" class=\"data row12 col2\" >Price>92</td>\n",
       "      <td id=\"T_5eb8c_row12_col3\" class=\"data row12 col3\" >227</td>\n",
       "      <td id=\"T_5eb8c_row12_col4\" class=\"data row12 col4\" >0.140000</td>\n",
       "      <td id=\"T_5eb8c_row12_col5\" class=\"data row12 col5\" >NO</td>\n",
       "    </tr>\n",
       "    <tr>\n",
       "      <td id=\"T_5eb8c_row13_col0\" class=\"data row13 col0\" >n6</td>\n",
       "      <td id=\"T_5eb8c_row13_col1\" class=\"data row13 col1\" >Parent</td>\n",
       "      <td id=\"T_5eb8c_row13_col2\" class=\"data row13 col2\" >Age>64</td>\n",
       "      <td id=\"T_5eb8c_row13_col3\" class=\"data row13 col3\" >33</td>\n",
       "      <td id=\"T_5eb8c_row13_col4\" class=\"data row13 col4\" >0.330000</td>\n",
       "      <td id=\"T_5eb8c_row13_col5\" class=\"data row13 col5\" >YES</td>\n",
       "    </tr>\n",
       "    <tr>\n",
       "      <td id=\"T_5eb8c_row14_col0\" class=\"data row14 col0\" >n12</td>\n",
       "      <td id=\"T_5eb8c_row14_col1\" class=\"data row14 col1\" >Parent</td>\n",
       "      <td id=\"T_5eb8c_row14_col2\" class=\"data row14 col2\" >Income>58</td>\n",
       "      <td id=\"T_5eb8c_row14_col3\" class=\"data row14 col3\" >22</td>\n",
       "      <td id=\"T_5eb8c_row14_col4\" class=\"data row14 col4\" >0.340000</td>\n",
       "      <td id=\"T_5eb8c_row14_col5\" class=\"data row14 col5\" >YES</td>\n",
       "    </tr>\n",
       "    <tr>\n",
       "      <td id=\"T_5eb8c_row15_col0\" class=\"data row15 col0\" >n24</td>\n",
       "      <td id=\"T_5eb8c_row15_col1\" class=\"data row15 col1\" >Child</td>\n",
       "      <td id=\"T_5eb8c_row15_col2\" class=\"data row15 col2\" >None</td>\n",
       "      <td id=\"T_5eb8c_row15_col3\" class=\"data row15 col3\" >5</td>\n",
       "      <td id=\"T_5eb8c_row15_col4\" class=\"data row15 col4\" >None</td>\n",
       "      <td id=\"T_5eb8c_row15_col5\" class=\"data row15 col5\" >YES</td>\n",
       "    </tr>\n",
       "    <tr>\n",
       "      <td id=\"T_5eb8c_row16_col0\" class=\"data row16 col0\" >n25</td>\n",
       "      <td id=\"T_5eb8c_row16_col1\" class=\"data row16 col1\" >Child</td>\n",
       "      <td id=\"T_5eb8c_row16_col2\" class=\"data row16 col2\" >None</td>\n",
       "      <td id=\"T_5eb8c_row16_col3\" class=\"data row16 col3\" >17</td>\n",
       "      <td id=\"T_5eb8c_row16_col4\" class=\"data row16 col4\" >None</td>\n",
       "      <td id=\"T_5eb8c_row16_col5\" class=\"data row16 col5\" >YES</td>\n",
       "    </tr>\n",
       "    <tr>\n",
       "      <td id=\"T_5eb8c_row17_col0\" class=\"data row17 col0\" >n13</td>\n",
       "      <td id=\"T_5eb8c_row17_col1\" class=\"data row17 col1\" >Parent</td>\n",
       "      <td id=\"T_5eb8c_row17_col2\" class=\"data row17 col2\" >Population>276</td>\n",
       "      <td id=\"T_5eb8c_row17_col3\" class=\"data row17 col3\" >11</td>\n",
       "      <td id=\"T_5eb8c_row17_col4\" class=\"data row17 col4\" >0.690000</td>\n",
       "      <td id=\"T_5eb8c_row17_col5\" class=\"data row17 col5\" >NO</td>\n",
       "    </tr>\n",
       "    <tr>\n",
       "      <td id=\"T_5eb8c_row18_col0\" class=\"data row18 col0\" >n26</td>\n",
       "      <td id=\"T_5eb8c_row18_col1\" class=\"data row18 col1\" >Child</td>\n",
       "      <td id=\"T_5eb8c_row18_col2\" class=\"data row18 col2\" >None</td>\n",
       "      <td id=\"T_5eb8c_row18_col3\" class=\"data row18 col3\" >6</td>\n",
       "      <td id=\"T_5eb8c_row18_col4\" class=\"data row18 col4\" >None</td>\n",
       "      <td id=\"T_5eb8c_row18_col5\" class=\"data row18 col5\" >NO</td>\n",
       "    </tr>\n",
       "    <tr>\n",
       "      <td id=\"T_5eb8c_row19_col0\" class=\"data row19 col0\" >n27</td>\n",
       "      <td id=\"T_5eb8c_row19_col1\" class=\"data row19 col1\" >Child</td>\n",
       "      <td id=\"T_5eb8c_row19_col2\" class=\"data row19 col2\" >None</td>\n",
       "      <td id=\"T_5eb8c_row19_col3\" class=\"data row19 col3\" >5</td>\n",
       "      <td id=\"T_5eb8c_row19_col4\" class=\"data row19 col4\" >None</td>\n",
       "      <td id=\"T_5eb8c_row19_col5\" class=\"data row19 col5\" >YES</td>\n",
       "    </tr>\n",
       "    <tr>\n",
       "      <td id=\"T_5eb8c_row20_col0\" class=\"data row20 col0\" >n7</td>\n",
       "      <td id=\"T_5eb8c_row20_col1\" class=\"data row20 col1\" >Parent</td>\n",
       "      <td id=\"T_5eb8c_row20_col2\" class=\"data row20 col2\" >Advertising>8</td>\n",
       "      <td id=\"T_5eb8c_row20_col3\" class=\"data row20 col3\" >194</td>\n",
       "      <td id=\"T_5eb8c_row20_col4\" class=\"data row20 col4\" >0.110000</td>\n",
       "      <td id=\"T_5eb8c_row20_col5\" class=\"data row20 col5\" >NO</td>\n",
       "    </tr>\n",
       "    <tr>\n",
       "      <td id=\"T_5eb8c_row21_col0\" class=\"data row21 col0\" >n14</td>\n",
       "      <td id=\"T_5eb8c_row21_col1\" class=\"data row21 col1\" >Parent</td>\n",
       "      <td id=\"T_5eb8c_row21_col2\" class=\"data row21 col2\" >CompPrice>144</td>\n",
       "      <td id=\"T_5eb8c_row21_col3\" class=\"data row21 col3\" >136</td>\n",
       "      <td id=\"T_5eb8c_row21_col4\" class=\"data row21 col4\" >0.130000</td>\n",
       "      <td id=\"T_5eb8c_row21_col5\" class=\"data row21 col5\" >NO</td>\n",
       "    </tr>\n",
       "    <tr>\n",
       "      <td id=\"T_5eb8c_row22_col0\" class=\"data row22 col0\" >n28</td>\n",
       "      <td id=\"T_5eb8c_row22_col1\" class=\"data row22 col1\" >Parent</td>\n",
       "      <td id=\"T_5eb8c_row22_col2\" class=\"data row22 col2\" >CompPrice>124</td>\n",
       "      <td id=\"T_5eb8c_row22_col3\" class=\"data row22 col3\" >119</td>\n",
       "      <td id=\"T_5eb8c_row22_col4\" class=\"data row22 col4\" >0.080000</td>\n",
       "      <td id=\"T_5eb8c_row22_col5\" class=\"data row22 col5\" >NO</td>\n",
       "    </tr>\n",
       "    <tr>\n",
       "      <td id=\"T_5eb8c_row23_col0\" class=\"data row23 col0\" >n56</td>\n",
       "      <td id=\"T_5eb8c_row23_col1\" class=\"data row23 col1\" >Child</td>\n",
       "      <td id=\"T_5eb8c_row23_col2\" class=\"data row23 col2\" >None</td>\n",
       "      <td id=\"T_5eb8c_row23_col3\" class=\"data row23 col3\" >64</td>\n",
       "      <td id=\"T_5eb8c_row23_col4\" class=\"data row23 col4\" >None</td>\n",
       "      <td id=\"T_5eb8c_row23_col5\" class=\"data row23 col5\" >NO</td>\n",
       "    </tr>\n",
       "    <tr>\n",
       "      <td id=\"T_5eb8c_row24_col0\" class=\"data row24 col0\" >n57</td>\n",
       "      <td id=\"T_5eb8c_row24_col1\" class=\"data row24 col1\" >Child</td>\n",
       "      <td id=\"T_5eb8c_row24_col2\" class=\"data row24 col2\" >None</td>\n",
       "      <td id=\"T_5eb8c_row24_col3\" class=\"data row24 col3\" >55</td>\n",
       "      <td id=\"T_5eb8c_row24_col4\" class=\"data row24 col4\" >None</td>\n",
       "      <td id=\"T_5eb8c_row24_col5\" class=\"data row24 col5\" >NO</td>\n",
       "    </tr>\n",
       "    <tr>\n",
       "      <td id=\"T_5eb8c_row25_col0\" class=\"data row25 col0\" >n29</td>\n",
       "      <td id=\"T_5eb8c_row25_col1\" class=\"data row25 col1\" >Parent</td>\n",
       "      <td id=\"T_5eb8c_row25_col2\" class=\"data row25 col2\" >Price>141</td>\n",
       "      <td id=\"T_5eb8c_row25_col3\" class=\"data row25 col3\" >17</td>\n",
       "      <td id=\"T_5eb8c_row25_col4\" class=\"data row25 col4\" >0.200000</td>\n",
       "      <td id=\"T_5eb8c_row25_col5\" class=\"data row25 col5\" >NO</td>\n",
       "    </tr>\n",
       "    <tr>\n",
       "      <td id=\"T_5eb8c_row26_col0\" class=\"data row26 col0\" >n58</td>\n",
       "      <td id=\"T_5eb8c_row26_col1\" class=\"data row26 col1\" >Child</td>\n",
       "      <td id=\"T_5eb8c_row26_col2\" class=\"data row26 col2\" >None</td>\n",
       "      <td id=\"T_5eb8c_row26_col3\" class=\"data row26 col3\" >11</td>\n",
       "      <td id=\"T_5eb8c_row26_col4\" class=\"data row26 col4\" >None</td>\n",
       "      <td id=\"T_5eb8c_row26_col5\" class=\"data row26 col5\" >YES</td>\n",
       "    </tr>\n",
       "    <tr>\n",
       "      <td id=\"T_5eb8c_row27_col0\" class=\"data row27 col0\" >n59</td>\n",
       "      <td id=\"T_5eb8c_row27_col1\" class=\"data row27 col1\" >Child</td>\n",
       "      <td id=\"T_5eb8c_row27_col2\" class=\"data row27 col2\" >None</td>\n",
       "      <td id=\"T_5eb8c_row27_col3\" class=\"data row27 col3\" >6</td>\n",
       "      <td id=\"T_5eb8c_row27_col4\" class=\"data row27 col4\" >None</td>\n",
       "      <td id=\"T_5eb8c_row27_col5\" class=\"data row27 col5\" >NO</td>\n",
       "    </tr>\n",
       "    <tr>\n",
       "      <td id=\"T_5eb8c_row28_col0\" class=\"data row28 col0\" >n15</td>\n",
       "      <td id=\"T_5eb8c_row28_col1\" class=\"data row28 col1\" >Parent</td>\n",
       "      <td id=\"T_5eb8c_row28_col2\" class=\"data row28 col2\" >Price>124</td>\n",
       "      <td id=\"T_5eb8c_row28_col3\" class=\"data row28 col3\" >58</td>\n",
       "      <td id=\"T_5eb8c_row28_col4\" class=\"data row28 col4\" >0.350000</td>\n",
       "      <td id=\"T_5eb8c_row28_col5\" class=\"data row28 col5\" >NO</td>\n",
       "    </tr>\n",
       "    <tr>\n",
       "      <td id=\"T_5eb8c_row29_col0\" class=\"data row29 col0\" >n30</td>\n",
       "      <td id=\"T_5eb8c_row29_col1\" class=\"data row29 col1\" >Parent</td>\n",
       "      <td id=\"T_5eb8c_row29_col2\" class=\"data row29 col2\" >CompPrice>111</td>\n",
       "      <td id=\"T_5eb8c_row29_col3\" class=\"data row29 col3\" >35</td>\n",
       "      <td id=\"T_5eb8c_row29_col4\" class=\"data row29 col4\" >0.550000</td>\n",
       "      <td id=\"T_5eb8c_row29_col5\" class=\"data row29 col5\" >YES</td>\n",
       "    </tr>\n",
       "    <tr>\n",
       "      <td id=\"T_5eb8c_row30_col0\" class=\"data row30 col0\" >n60</td>\n",
       "      <td id=\"T_5eb8c_row30_col1\" class=\"data row30 col1\" >Child</td>\n",
       "      <td id=\"T_5eb8c_row30_col2\" class=\"data row30 col2\" >None</td>\n",
       "      <td id=\"T_5eb8c_row30_col3\" class=\"data row30 col3\" >7</td>\n",
       "      <td id=\"T_5eb8c_row30_col4\" class=\"data row30 col4\" >None</td>\n",
       "      <td id=\"T_5eb8c_row30_col5\" class=\"data row30 col5\" >NO</td>\n",
       "    </tr>\n",
       "    <tr>\n",
       "      <td id=\"T_5eb8c_row31_col0\" class=\"data row31 col0\" >n61</td>\n",
       "      <td id=\"T_5eb8c_row31_col1\" class=\"data row31 col1\" >Child</td>\n",
       "      <td id=\"T_5eb8c_row31_col2\" class=\"data row31 col2\" >None</td>\n",
       "      <td id=\"T_5eb8c_row31_col3\" class=\"data row31 col3\" >28</td>\n",
       "      <td id=\"T_5eb8c_row31_col4\" class=\"data row31 col4\" >None</td>\n",
       "      <td id=\"T_5eb8c_row31_col5\" class=\"data row31 col5\" >YES</td>\n",
       "    </tr>\n",
       "    <tr>\n",
       "      <td id=\"T_5eb8c_row32_col0\" class=\"data row32 col0\" >n31</td>\n",
       "      <td id=\"T_5eb8c_row32_col1\" class=\"data row32 col1\" >Parent</td>\n",
       "      <td id=\"T_5eb8c_row32_col2\" class=\"data row32 col2\" >CompPrice>135</td>\n",
       "      <td id=\"T_5eb8c_row32_col3\" class=\"data row32 col3\" >23</td>\n",
       "      <td id=\"T_5eb8c_row32_col4\" class=\"data row32 col4\" >0.180000</td>\n",
       "      <td id=\"T_5eb8c_row32_col5\" class=\"data row32 col5\" >NO</td>\n",
       "    </tr>\n",
       "    <tr>\n",
       "      <td id=\"T_5eb8c_row33_col0\" class=\"data row33 col0\" >n62</td>\n",
       "      <td id=\"T_5eb8c_row33_col1\" class=\"data row33 col1\" >Child</td>\n",
       "      <td id=\"T_5eb8c_row33_col2\" class=\"data row33 col2\" >None</td>\n",
       "      <td id=\"T_5eb8c_row33_col3\" class=\"data row33 col3\" >15</td>\n",
       "      <td id=\"T_5eb8c_row33_col4\" class=\"data row33 col4\" >None</td>\n",
       "      <td id=\"T_5eb8c_row33_col5\" class=\"data row33 col5\" >NO</td>\n",
       "    </tr>\n",
       "    <tr>\n",
       "      <td id=\"T_5eb8c_row34_col0\" class=\"data row34 col0\" >n63</td>\n",
       "      <td id=\"T_5eb8c_row34_col1\" class=\"data row34 col1\" >Child</td>\n",
       "      <td id=\"T_5eb8c_row34_col2\" class=\"data row34 col2\" >None</td>\n",
       "      <td id=\"T_5eb8c_row34_col3\" class=\"data row34 col3\" >8</td>\n",
       "      <td id=\"T_5eb8c_row34_col4\" class=\"data row34 col4\" >None</td>\n",
       "      <td id=\"T_5eb8c_row34_col5\" class=\"data row34 col5\" >NO</td>\n",
       "    </tr>\n",
       "  </tbody>\n",
       "</table>\n"
      ],
      "text/plain": [
       "<pandas.io.formats.style.Styler at 0x1881dcf8520>"
      ]
     },
     "execution_count": 5,
     "metadata": {},
     "output_type": "execute_result"
    }
   ],
   "source": [
    "#pd.set_option('display.max_rows', None)\n",
    "#pd.set_option('display.max_colwidth', 3000)\n",
    "import warnings\n",
    "warnings.filterwarnings(\"ignore\", category=FutureWarning) \n",
    "\n",
    "\n",
    "cart.print_tree(table = True, html = True).style.hide_index() #print both the pruned and non pruned tree \n"
   ]
  }
 ],
 "metadata": {
  "kernelspec": {
   "display_name": "base",
   "language": "python",
   "name": "python3"
  },
  "language_info": {
   "codemirror_mode": {
    "name": "ipython",
    "version": 3
   },
   "file_extension": ".py",
   "mimetype": "text/x-python",
   "name": "python",
   "nbconvert_exporter": "python",
   "pygments_lexer": "ipython3",
   "version": "3.8.15"
  },
  "orig_nbformat": 4
 },
 "nbformat": 4,
 "nbformat_minor": 2
}
