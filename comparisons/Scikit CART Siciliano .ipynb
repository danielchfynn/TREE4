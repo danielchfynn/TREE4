{
 "cells": [
  {
   "cell_type": "code",
   "execution_count": 1,
   "id": "db486605",
   "metadata": {},
   "outputs": [],
   "source": [
    "import pandas as pd\n",
    "from sklearn.tree import DecisionTreeClassifier\n",
    "import csv\n",
    "from sklearn.preprocessing import OneHotEncoder\n",
    "from sklearn.compose import make_column_transformer \n",
    "from sklearn.pipeline import make_pipeline\n",
    "from sklearn import tree\n",
    "import matplotlib.pyplot as plt\n",
    "\n",
    "from sklearn.tree import DecisionTreeRegressor\n"
   ]
  },
  {
   "cell_type": "code",
   "execution_count": 2,
   "id": "628d3463",
   "metadata": {},
   "outputs": [
    {
     "data": {
      "text/html": [
       "<div>\n",
       "<style scoped>\n",
       "    .dataframe tbody tr th:only-of-type {\n",
       "        vertical-align: middle;\n",
       "    }\n",
       "\n",
       "    .dataframe tbody tr th {\n",
       "        vertical-align: top;\n",
       "    }\n",
       "\n",
       "    .dataframe thead th {\n",
       "        text-align: right;\n",
       "    }\n",
       "</style>\n",
       "<table border=\"1\" class=\"dataframe\">\n",
       "  <thead>\n",
       "    <tr style=\"text-align: right;\">\n",
       "      <th></th>\n",
       "      <th>CompPrice</th>\n",
       "      <th>Income</th>\n",
       "      <th>Advertising</th>\n",
       "      <th>Population</th>\n",
       "      <th>Price</th>\n",
       "      <th>Age</th>\n",
       "      <th>Education</th>\n",
       "      <th>Urban</th>\n",
       "      <th>US</th>\n",
       "      <th>ShelveLoc_Bad</th>\n",
       "      <th>ShelveLoc_Good</th>\n",
       "      <th>ShelveLoc_Medium</th>\n",
       "    </tr>\n",
       "  </thead>\n",
       "  <tbody>\n",
       "    <tr>\n",
       "      <th>0</th>\n",
       "      <td>138</td>\n",
       "      <td>73</td>\n",
       "      <td>11</td>\n",
       "      <td>276</td>\n",
       "      <td>120</td>\n",
       "      <td>42</td>\n",
       "      <td>17</td>\n",
       "      <td>1</td>\n",
       "      <td>1</td>\n",
       "      <td>1</td>\n",
       "      <td>0</td>\n",
       "      <td>0</td>\n",
       "    </tr>\n",
       "    <tr>\n",
       "      <th>1</th>\n",
       "      <td>111</td>\n",
       "      <td>48</td>\n",
       "      <td>16</td>\n",
       "      <td>260</td>\n",
       "      <td>83</td>\n",
       "      <td>65</td>\n",
       "      <td>10</td>\n",
       "      <td>1</td>\n",
       "      <td>1</td>\n",
       "      <td>0</td>\n",
       "      <td>1</td>\n",
       "      <td>0</td>\n",
       "    </tr>\n",
       "    <tr>\n",
       "      <th>2</th>\n",
       "      <td>113</td>\n",
       "      <td>35</td>\n",
       "      <td>10</td>\n",
       "      <td>269</td>\n",
       "      <td>80</td>\n",
       "      <td>59</td>\n",
       "      <td>12</td>\n",
       "      <td>1</td>\n",
       "      <td>1</td>\n",
       "      <td>0</td>\n",
       "      <td>0</td>\n",
       "      <td>1</td>\n",
       "    </tr>\n",
       "    <tr>\n",
       "      <th>3</th>\n",
       "      <td>117</td>\n",
       "      <td>100</td>\n",
       "      <td>4</td>\n",
       "      <td>466</td>\n",
       "      <td>97</td>\n",
       "      <td>55</td>\n",
       "      <td>14</td>\n",
       "      <td>1</td>\n",
       "      <td>1</td>\n",
       "      <td>0</td>\n",
       "      <td>0</td>\n",
       "      <td>1</td>\n",
       "    </tr>\n",
       "    <tr>\n",
       "      <th>4</th>\n",
       "      <td>141</td>\n",
       "      <td>64</td>\n",
       "      <td>3</td>\n",
       "      <td>340</td>\n",
       "      <td>128</td>\n",
       "      <td>38</td>\n",
       "      <td>13</td>\n",
       "      <td>1</td>\n",
       "      <td>0</td>\n",
       "      <td>1</td>\n",
       "      <td>0</td>\n",
       "      <td>0</td>\n",
       "    </tr>\n",
       "  </tbody>\n",
       "</table>\n",
       "</div>"
      ],
      "text/plain": [
       "   CompPrice  Income  Advertising  Population  Price  Age  Education  Urban  \\\n",
       "0        138      73           11         276    120   42         17      1   \n",
       "1        111      48           16         260     83   65         10      1   \n",
       "2        113      35           10         269     80   59         12      1   \n",
       "3        117     100            4         466     97   55         14      1   \n",
       "4        141      64            3         340    128   38         13      1   \n",
       "\n",
       "   US  ShelveLoc_Bad  ShelveLoc_Good  ShelveLoc_Medium  \n",
       "0   1              1               0                 0  \n",
       "1   1              0               1                 0  \n",
       "2   1              0               0                 1  \n",
       "3   1              0               0                 1  \n",
       "4   0              1               0                 0  "
      ]
     },
     "metadata": {},
     "output_type": "display_data"
    },
    {
     "data": {
      "text/plain": [
       "0    YES\n",
       "1    YES\n",
       "2    YES\n",
       "3     NO\n",
       "4     NO\n",
       "Name: 0, dtype: object"
      ]
     },
     "metadata": {},
     "output_type": "display_data"
    },
    {
     "data": {
      "text/html": [
       "<div>\n",
       "<style scoped>\n",
       "    .dataframe tbody tr th:only-of-type {\n",
       "        vertical-align: middle;\n",
       "    }\n",
       "\n",
       "    .dataframe tbody tr th {\n",
       "        vertical-align: top;\n",
       "    }\n",
       "\n",
       "    .dataframe thead th {\n",
       "        text-align: right;\n",
       "    }\n",
       "</style>\n",
       "<table border=\"1\" class=\"dataframe\">\n",
       "  <thead>\n",
       "    <tr style=\"text-align: right;\">\n",
       "      <th></th>\n",
       "      <th>CompPrice</th>\n",
       "      <th>Income</th>\n",
       "      <th>Advertising</th>\n",
       "      <th>Population</th>\n",
       "      <th>Price</th>\n",
       "      <th>Age</th>\n",
       "      <th>Education</th>\n",
       "      <th>Urban</th>\n",
       "      <th>US</th>\n",
       "      <th>ShelveLoc_Bad</th>\n",
       "      <th>ShelveLoc_Good</th>\n",
       "      <th>ShelveLoc_Medium</th>\n",
       "    </tr>\n",
       "  </thead>\n",
       "  <tbody>\n",
       "    <tr>\n",
       "      <th>0</th>\n",
       "      <td>121</td>\n",
       "      <td>86</td>\n",
       "      <td>10</td>\n",
       "      <td>496</td>\n",
       "      <td>145</td>\n",
       "      <td>51</td>\n",
       "      <td>10</td>\n",
       "      <td>1</td>\n",
       "      <td>1</td>\n",
       "      <td>1</td>\n",
       "      <td>0</td>\n",
       "      <td>0</td>\n",
       "    </tr>\n",
       "    <tr>\n",
       "      <th>1</th>\n",
       "      <td>122</td>\n",
       "      <td>69</td>\n",
       "      <td>7</td>\n",
       "      <td>303</td>\n",
       "      <td>105</td>\n",
       "      <td>45</td>\n",
       "      <td>16</td>\n",
       "      <td>0</td>\n",
       "      <td>1</td>\n",
       "      <td>0</td>\n",
       "      <td>1</td>\n",
       "      <td>0</td>\n",
       "    </tr>\n",
       "    <tr>\n",
       "      <th>2</th>\n",
       "      <td>150</td>\n",
       "      <td>96</td>\n",
       "      <td>0</td>\n",
       "      <td>80</td>\n",
       "      <td>154</td>\n",
       "      <td>61</td>\n",
       "      <td>11</td>\n",
       "      <td>1</td>\n",
       "      <td>0</td>\n",
       "      <td>0</td>\n",
       "      <td>1</td>\n",
       "      <td>0</td>\n",
       "    </tr>\n",
       "    <tr>\n",
       "      <th>3</th>\n",
       "      <td>135</td>\n",
       "      <td>110</td>\n",
       "      <td>0</td>\n",
       "      <td>112</td>\n",
       "      <td>117</td>\n",
       "      <td>80</td>\n",
       "      <td>16</td>\n",
       "      <td>0</td>\n",
       "      <td>0</td>\n",
       "      <td>0</td>\n",
       "      <td>0</td>\n",
       "      <td>1</td>\n",
       "    </tr>\n",
       "    <tr>\n",
       "      <th>4</th>\n",
       "      <td>106</td>\n",
       "      <td>46</td>\n",
       "      <td>11</td>\n",
       "      <td>414</td>\n",
       "      <td>96</td>\n",
       "      <td>79</td>\n",
       "      <td>17</td>\n",
       "      <td>0</td>\n",
       "      <td>0</td>\n",
       "      <td>1</td>\n",
       "      <td>0</td>\n",
       "      <td>0</td>\n",
       "    </tr>\n",
       "  </tbody>\n",
       "</table>\n",
       "</div>"
      ],
      "text/plain": [
       "   CompPrice  Income  Advertising  Population  Price  Age  Education  Urban  \\\n",
       "0        121      86           10         496    145   51         10      1   \n",
       "1        122      69            7         303    105   45         16      0   \n",
       "2        150      96            0          80    154   61         11      1   \n",
       "3        135     110            0         112    117   80         16      0   \n",
       "4        106      46           11         414     96   79         17      0   \n",
       "\n",
       "   US  ShelveLoc_Bad  ShelveLoc_Good  ShelveLoc_Medium  \n",
       "0   1              1               0                 0  \n",
       "1   1              0               1                 0  \n",
       "2   0              0               1                 0  \n",
       "3   0              0               0                 1  \n",
       "4   0              1               0                 0  "
      ]
     },
     "metadata": {},
     "output_type": "display_data"
    },
    {
     "data": {
      "text/plain": [
       "0     NO\n",
       "1    YES\n",
       "2     NO\n",
       "3     NO\n",
       "4     NO\n",
       "Name: 0, dtype: object"
      ]
     },
     "metadata": {},
     "output_type": "display_data"
    }
   ],
   "source": [
    "#Classification \n",
    "df=pd.read_csv('Carseats_train.csv')\n",
    "df=df.iloc[:,1:]\n",
    "\n",
    "High_train=[]\n",
    "for i in df['Sales']:\n",
    "    if i < 8:\n",
    "        High_train.append('NO')\n",
    "    else:\n",
    "        High_train.append('YES')\n",
    "\n",
    "High_train=pd.DataFrame(High_train)\n",
    "High_train=dict(High_train)\n",
    "High_train['High'] = High_train.pop(0)\n",
    "\n",
    "y_train=High_train['High']\n",
    "\n",
    "df[\"Urban\"] = df[\"Urban\"].astype('category')\n",
    "df[\"Urban\"] = df[\"Urban\"].cat.codes\n",
    "\n",
    "df[\"US\"] = df[\"US\"].astype('category')\n",
    "df[\"US\"] = df[\"US\"].cat.codes\n",
    "\n",
    "df = pd.get_dummies(df)\n",
    "\n",
    "X_train = df\n",
    "\n",
    "y_train\n",
    "\n",
    "X_train.pop(\"Sales\")\n",
    "display(X_train.head(), y_train.head())\n",
    "\n",
    "#Does it need to transform the categorical variables into binary, one_hot_encodeR???\n",
    "\n",
    "\n",
    "df_test=pd.read_csv('Carseats_test.csv')\n",
    "df_test=df_test.iloc[:,1:]\n",
    "\n",
    "High_test=[]\n",
    "for i in df_test['Sales']:\n",
    "    if i < 8:\n",
    "        High_test.append('NO')\n",
    "    else:\n",
    "        High_test.append('YES')\n",
    "\n",
    "High_test=pd.DataFrame(High_test)\n",
    "High_test=dict(High_test)\n",
    "High_test['High'] = High_test.pop(0)\n",
    "\n",
    "y_test=High_test['High']\n",
    "y_test\n",
    "\n",
    "df_test[\"Urban\"] = df_test[\"Urban\"].astype('category')\n",
    "df_test[\"Urban\"] = df_test[\"Urban\"].cat.codes\n",
    "\n",
    "df_test[\"US\"] = df_test[\"US\"].astype('category')\n",
    "df_test[\"US\"] = df_test[\"US\"].cat.codes\n",
    "\n",
    "df_test = pd.get_dummies(df_test)\n",
    "\n",
    "X_test = df_test\n",
    "X_test.pop(\"Sales\")\n",
    "\n",
    "display(X_test.head(), y_test.head())"
   ]
  },
  {
   "cell_type": "code",
   "execution_count": 2,
   "id": "bdf23925",
   "metadata": {},
   "outputs": [
    {
     "data": {
      "text/html": [
       "<div>\n",
       "<style scoped>\n",
       "    .dataframe tbody tr th:only-of-type {\n",
       "        vertical-align: middle;\n",
       "    }\n",
       "\n",
       "    .dataframe tbody tr th {\n",
       "        vertical-align: top;\n",
       "    }\n",
       "\n",
       "    .dataframe thead th {\n",
       "        text-align: right;\n",
       "    }\n",
       "</style>\n",
       "<table border=\"1\" class=\"dataframe\">\n",
       "  <thead>\n",
       "    <tr style=\"text-align: right;\">\n",
       "      <th></th>\n",
       "      <th>Sales</th>\n",
       "      <th>CompPrice</th>\n",
       "      <th>Income</th>\n",
       "      <th>Advertising</th>\n",
       "      <th>Population</th>\n",
       "      <th>Age</th>\n",
       "      <th>Education</th>\n",
       "      <th>Urban</th>\n",
       "      <th>US</th>\n",
       "      <th>ShelveLoc_Bad</th>\n",
       "      <th>ShelveLoc_Good</th>\n",
       "      <th>ShelveLoc_Medium</th>\n",
       "    </tr>\n",
       "  </thead>\n",
       "  <tbody>\n",
       "    <tr>\n",
       "      <th>0</th>\n",
       "      <td>9.50</td>\n",
       "      <td>138</td>\n",
       "      <td>73</td>\n",
       "      <td>11</td>\n",
       "      <td>276</td>\n",
       "      <td>42</td>\n",
       "      <td>17</td>\n",
       "      <td>1</td>\n",
       "      <td>1</td>\n",
       "      <td>1</td>\n",
       "      <td>0</td>\n",
       "      <td>0</td>\n",
       "    </tr>\n",
       "    <tr>\n",
       "      <th>1</th>\n",
       "      <td>11.22</td>\n",
       "      <td>111</td>\n",
       "      <td>48</td>\n",
       "      <td>16</td>\n",
       "      <td>260</td>\n",
       "      <td>65</td>\n",
       "      <td>10</td>\n",
       "      <td>1</td>\n",
       "      <td>1</td>\n",
       "      <td>0</td>\n",
       "      <td>1</td>\n",
       "      <td>0</td>\n",
       "    </tr>\n",
       "    <tr>\n",
       "      <th>2</th>\n",
       "      <td>10.06</td>\n",
       "      <td>113</td>\n",
       "      <td>35</td>\n",
       "      <td>10</td>\n",
       "      <td>269</td>\n",
       "      <td>59</td>\n",
       "      <td>12</td>\n",
       "      <td>1</td>\n",
       "      <td>1</td>\n",
       "      <td>0</td>\n",
       "      <td>0</td>\n",
       "      <td>1</td>\n",
       "    </tr>\n",
       "    <tr>\n",
       "      <th>3</th>\n",
       "      <td>7.40</td>\n",
       "      <td>117</td>\n",
       "      <td>100</td>\n",
       "      <td>4</td>\n",
       "      <td>466</td>\n",
       "      <td>55</td>\n",
       "      <td>14</td>\n",
       "      <td>1</td>\n",
       "      <td>1</td>\n",
       "      <td>0</td>\n",
       "      <td>0</td>\n",
       "      <td>1</td>\n",
       "    </tr>\n",
       "    <tr>\n",
       "      <th>4</th>\n",
       "      <td>4.15</td>\n",
       "      <td>141</td>\n",
       "      <td>64</td>\n",
       "      <td>3</td>\n",
       "      <td>340</td>\n",
       "      <td>38</td>\n",
       "      <td>13</td>\n",
       "      <td>1</td>\n",
       "      <td>0</td>\n",
       "      <td>1</td>\n",
       "      <td>0</td>\n",
       "      <td>0</td>\n",
       "    </tr>\n",
       "  </tbody>\n",
       "</table>\n",
       "</div>"
      ],
      "text/plain": [
       "   Sales  CompPrice  Income  Advertising  Population  Age  Education  Urban  \\\n",
       "0   9.50        138      73           11         276   42         17      1   \n",
       "1  11.22        111      48           16         260   65         10      1   \n",
       "2  10.06        113      35           10         269   59         12      1   \n",
       "3   7.40        117     100            4         466   55         14      1   \n",
       "4   4.15        141      64            3         340   38         13      1   \n",
       "\n",
       "   US  ShelveLoc_Bad  ShelveLoc_Good  ShelveLoc_Medium  \n",
       "0   1              1               0                 0  \n",
       "1   1              0               1                 0  \n",
       "2   1              0               0                 1  \n",
       "3   1              0               0                 1  \n",
       "4   0              1               0                 0  "
      ]
     },
     "metadata": {},
     "output_type": "display_data"
    },
    {
     "data": {
      "text/html": [
       "<div>\n",
       "<style scoped>\n",
       "    .dataframe tbody tr th:only-of-type {\n",
       "        vertical-align: middle;\n",
       "    }\n",
       "\n",
       "    .dataframe tbody tr th {\n",
       "        vertical-align: top;\n",
       "    }\n",
       "\n",
       "    .dataframe thead th {\n",
       "        text-align: right;\n",
       "    }\n",
       "</style>\n",
       "<table border=\"1\" class=\"dataframe\">\n",
       "  <thead>\n",
       "    <tr style=\"text-align: right;\">\n",
       "      <th></th>\n",
       "      <th>Sales</th>\n",
       "      <th>CompPrice</th>\n",
       "      <th>Income</th>\n",
       "      <th>Advertising</th>\n",
       "      <th>Population</th>\n",
       "      <th>Age</th>\n",
       "      <th>Education</th>\n",
       "      <th>Urban</th>\n",
       "      <th>US</th>\n",
       "      <th>ShelveLoc_Bad</th>\n",
       "      <th>ShelveLoc_Good</th>\n",
       "      <th>ShelveLoc_Medium</th>\n",
       "    </tr>\n",
       "  </thead>\n",
       "  <tbody>\n",
       "    <tr>\n",
       "      <th>0</th>\n",
       "      <td>2.86</td>\n",
       "      <td>121</td>\n",
       "      <td>86</td>\n",
       "      <td>10</td>\n",
       "      <td>496</td>\n",
       "      <td>51</td>\n",
       "      <td>10</td>\n",
       "      <td>1</td>\n",
       "      <td>1</td>\n",
       "      <td>1</td>\n",
       "      <td>0</td>\n",
       "      <td>0</td>\n",
       "    </tr>\n",
       "    <tr>\n",
       "      <th>1</th>\n",
       "      <td>11.19</td>\n",
       "      <td>122</td>\n",
       "      <td>69</td>\n",
       "      <td>7</td>\n",
       "      <td>303</td>\n",
       "      <td>45</td>\n",
       "      <td>16</td>\n",
       "      <td>0</td>\n",
       "      <td>1</td>\n",
       "      <td>0</td>\n",
       "      <td>1</td>\n",
       "      <td>0</td>\n",
       "    </tr>\n",
       "    <tr>\n",
       "      <th>2</th>\n",
       "      <td>7.74</td>\n",
       "      <td>150</td>\n",
       "      <td>96</td>\n",
       "      <td>0</td>\n",
       "      <td>80</td>\n",
       "      <td>61</td>\n",
       "      <td>11</td>\n",
       "      <td>1</td>\n",
       "      <td>0</td>\n",
       "      <td>0</td>\n",
       "      <td>1</td>\n",
       "      <td>0</td>\n",
       "    </tr>\n",
       "    <tr>\n",
       "      <th>3</th>\n",
       "      <td>5.36</td>\n",
       "      <td>135</td>\n",
       "      <td>110</td>\n",
       "      <td>0</td>\n",
       "      <td>112</td>\n",
       "      <td>80</td>\n",
       "      <td>16</td>\n",
       "      <td>0</td>\n",
       "      <td>0</td>\n",
       "      <td>0</td>\n",
       "      <td>0</td>\n",
       "      <td>1</td>\n",
       "    </tr>\n",
       "    <tr>\n",
       "      <th>4</th>\n",
       "      <td>6.97</td>\n",
       "      <td>106</td>\n",
       "      <td>46</td>\n",
       "      <td>11</td>\n",
       "      <td>414</td>\n",
       "      <td>79</td>\n",
       "      <td>17</td>\n",
       "      <td>0</td>\n",
       "      <td>0</td>\n",
       "      <td>1</td>\n",
       "      <td>0</td>\n",
       "      <td>0</td>\n",
       "    </tr>\n",
       "  </tbody>\n",
       "</table>\n",
       "</div>"
      ],
      "text/plain": [
       "   Sales  CompPrice  Income  Advertising  Population  Age  Education  Urban  \\\n",
       "0   2.86        121      86           10         496   51         10      1   \n",
       "1  11.19        122      69            7         303   45         16      0   \n",
       "2   7.74        150      96            0          80   61         11      1   \n",
       "3   5.36        135     110            0         112   80         16      0   \n",
       "4   6.97        106      46           11         414   79         17      0   \n",
       "\n",
       "   US  ShelveLoc_Bad  ShelveLoc_Good  ShelveLoc_Medium  \n",
       "0   1              1               0                 0  \n",
       "1   1              0               1                 0  \n",
       "2   0              0               1                 0  \n",
       "3   0              0               0                 1  \n",
       "4   0              1               0                 0  "
      ]
     },
     "metadata": {},
     "output_type": "display_data"
    }
   ],
   "source": [
    "\n",
    "#Regression \n",
    "\n",
    "\n",
    "df=pd.read_csv('Carseats_train.csv')\n",
    "\n",
    "y_train= df.pop(\"Price\")\n",
    "#print(y)\n",
    "\n",
    "df[\"Urban\"] = df[\"Urban\"].astype('category')\n",
    "df[\"Urban\"] = df[\"Urban\"].cat.codes\n",
    "\n",
    "df[\"US\"] = df[\"US\"].astype('category')\n",
    "df[\"US\"] = df[\"US\"].cat.codes\n",
    "\n",
    "df = pd.get_dummies(df)\n",
    "\n",
    "\n",
    "X_train = df.iloc[:,1:]\n",
    "#print(X)\n",
    "\n",
    "display(X_train.head())\n",
    "\n",
    "\n",
    "\n",
    "\n",
    "df_test=pd.read_csv('Carseats_test.csv')\n",
    "\n",
    "\n",
    "df_test[\"Urban\"] = df_test[\"Urban\"].astype('category')\n",
    "df_test[\"Urban\"] = df_test[\"Urban\"].cat.codes\n",
    "\n",
    "df_test[\"US\"] = df_test[\"US\"].astype('category')\n",
    "df_test[\"US\"] = df_test[\"US\"].cat.codes\n",
    "\n",
    "df_test = pd.get_dummies(df_test)\n",
    "\n",
    "\n",
    "\n",
    "y_test= df_test.pop(\"Price\")\n",
    "X_test = df_test.iloc[:,1:]\n",
    "\n",
    "#print(y_test)\n",
    "#print(X_test)\n",
    "\n",
    "display(X_test.head())\n",
    "\n",
    "\n"
   ]
  },
  {
   "cell_type": "code",
   "execution_count": 45,
   "id": "d6305fa5",
   "metadata": {},
   "outputs": [
    {
     "data": {
      "text/plain": [
       "''"
      ]
     },
     "execution_count": 45,
     "metadata": {},
     "output_type": "execute_result"
    }
   ],
   "source": [
    "'''\n",
    "\n",
    "ohe = OneHotEncoder() #needs removing\n",
    "\n",
    "ohe.fit_transform(X[[\"ShelveLoc\"]])\n",
    "ohe.fit_transform(X[[\"Urban\"]])\n",
    "ohe.fit_transform(X[[\"US\"]])\n",
    "\n",
    "'''\n",
    "''"
   ]
  },
  {
   "cell_type": "code",
   "execution_count": 46,
   "id": "908d5df2",
   "metadata": {},
   "outputs": [
    {
     "data": {
      "text/plain": [
       "''"
      ]
     },
     "execution_count": 46,
     "metadata": {},
     "output_type": "execute_result"
    }
   ],
   "source": [
    "'''\n",
    "column_trans = make_column_transformer(\n",
    "    (OneHotEncoder(), [\"ShelveLoc\", \"Urban\", \"US\"]), \n",
    "    remainder = \"passthrough\")\n",
    "'''\n",
    "''"
   ]
  },
  {
   "cell_type": "code",
   "execution_count": 47,
   "id": "23923851",
   "metadata": {},
   "outputs": [
    {
     "data": {
      "text/plain": [
       "''"
      ]
     },
     "execution_count": 47,
     "metadata": {},
     "output_type": "execute_result"
    }
   ],
   "source": [
    "''''\n",
    "X_new = column_trans.fit_transform(X)\n",
    "X_new_test = column_trans.fit_transform(X_test)\n",
    "\n",
    "'''\n",
    "''"
   ]
  },
  {
   "cell_type": "code",
   "execution_count": 3,
   "id": "f0a92144",
   "metadata": {},
   "outputs": [
    {
     "data": {
      "text/plain": [
       "DecisionTreeRegressor(min_impurity_decrease=0.01, min_samples_leaf=5,\n",
       "                      min_samples_split=10)"
      ]
     },
     "execution_count": 3,
     "metadata": {},
     "output_type": "execute_result"
    }
   ],
   "source": [
    "#tree_model = DecisionTreeClassifier(criterion = \"gini\", min_samples_split = 10, min_samples_leaf=5, min_impurity_decrease = 0.0048)\n",
    "#tree_model = DecisionTreeClassifier(criterion = \"entropy\", min_samples_split = 10, min_samples_leaf=5, min_impurity_decrease = 0.01)\n",
    "\n",
    "#Regression\n",
    "tree_model = DecisionTreeRegressor(min_samples_split = 10, min_samples_leaf=5, min_impurity_decrease = 0.01)\n",
    "\n",
    "#Classification Gini\n",
    "#tree_model = DecisionTreeClassifier(criterion = \"gini\", min_samples_split = 10, min_samples_leaf=5, min_impurity_decrease = 0.01)\n",
    "\n",
    "#Classification Entrop\n",
    "#tree_model = DecisionTreeClassifier(criterion = \"entropy\", min_samples_split = 10, min_samples_leaf=5, min_impurity_decrease = 0.01)\n",
    "\n",
    "\n",
    "\n",
    "\n",
    "tree_model.fit(X_train,y_train)"
   ]
  },
  {
   "cell_type": "code",
   "execution_count": 4,
   "id": "8b0b540a",
   "metadata": {},
   "outputs": [],
   "source": [
    "#pipe = make_pipeline(column_trans, tree_model)"
   ]
  },
  {
   "cell_type": "code",
   "execution_count": 5,
   "id": "11f190a1",
   "metadata": {
    "scrolled": true
   },
   "outputs": [],
   "source": [
    "#pipe.fit(X,y)"
   ]
  },
  {
   "cell_type": "code",
   "execution_count": 6,
   "id": "bb2eedba",
   "metadata": {},
   "outputs": [],
   "source": [
    "#import sys\n",
    "#!{sys.executable} -m pip install pydotplus"
   ]
  },
  {
   "cell_type": "code",
   "execution_count": 7,
   "id": "edf717e9",
   "metadata": {},
   "outputs": [],
   "source": [
    "#from sklearn.tree import export_graphviz\n",
    "\n",
    "#creates dot file names tree.dot\n",
    "\n",
    "tree.export_graphviz(\n",
    "    tree_model,\n",
    "    out_file=\"myTreeName.dot\", \n",
    "    feature_names = list(X_train.columns),\n",
    "    filled = True, \n",
    "    rounded = True\n",
    ")"
   ]
  },
  {
   "cell_type": "code",
   "execution_count": 8,
   "id": "2a56cfa4",
   "metadata": {},
   "outputs": [],
   "source": [
    "def replace_text(obj):\n",
    "    if type(obj) == matplotlib.text.Annotation:\n",
    "        txt = obj.get_text()\n",
    "        txt = re.sub(\"\\nvalue[^$]*]\",\"\",txt)\n",
    "        obj.set_text(txt)\n",
    "    return obj"
   ]
  },
  {
   "cell_type": "code",
   "execution_count": 10,
   "id": "c96119e2",
   "metadata": {},
   "outputs": [],
   "source": [
    "import pydot\n",
    "(graph,) = pydot.graph_from_dot_file('myTreeName.dot')\n",
    "graph.write_png('CART_tree.png')\n"
   ]
  },
  {
   "cell_type": "code",
   "execution_count": 10,
   "id": "83c3bdf0",
   "metadata": {},
   "outputs": [
    {
     "data": {
      "text/plain": [
       "''"
      ]
     },
     "execution_count": 10,
     "metadata": {},
     "output_type": "execute_result"
    }
   ],
   "source": [
    "'''\n",
    "tree.export_graphviz(tree_model,out_file=\"myTreeName.dot\", \n",
    "    feature_names = [\"ShelveLoc_Bad\", \"ShelvelLoc_Good\", \"ShelveLoc_Medium\", \"Urban_yes\", \"Urban_No\", \"US_yes\", \n",
    "                     \"US_No\", \"Sales\", \"CompPrice\", \"Income\",\"Advertising\", \"Population\", \"Age\", \"Education\"], \n",
    "                    filled = True, \n",
    "                    rounded = True)\n",
    "'''\n",
    "''"
   ]
  },
  {
   "cell_type": "code",
   "execution_count": 11,
   "id": "ea5f9021",
   "metadata": {},
   "outputs": [],
   "source": [
    "#tree.plot_tree(tree_model)"
   ]
  },
  {
   "cell_type": "code",
   "execution_count": 12,
   "id": "bdd3eddf",
   "metadata": {},
   "outputs": [
    {
     "data": {
      "text/plain": [
       "''"
      ]
     },
     "execution_count": 12,
     "metadata": {},
     "output_type": "execute_result"
    }
   ],
   "source": [
    "'''\n",
    "import matplotlib.pyplot as plt\n",
    "fig, axes = plt.subplots(nrows = 1,ncols = 1,figsize = (6,3), dpi=1000)\n",
    "tree.plot_tree(tree_model,\n",
    "               feature_names =  [\"ShelveLoc_Good\", \"ShelvelLoc_Medium\", \"ShelveLoc_Bad\", \"Urban_yes\", \"Urban_No\", \"US_yes\", \n",
    "                     \"US_No\", \"Sales\", \"CompPrice\", \"Income\",\"Advertising\", \"Population\", \"Age\", \"Education\"],  \n",
    "               filled = True,\n",
    "               label = \"none\");\n",
    "fig.savefig('imagename.png')\n",
    "\n",
    "#class_names=cn\n",
    "\n",
    "def replace_text(obj):\n",
    "    if type(obj) == matplotlib.text.Annotation:\n",
    "        txt = obj.get_text()\n",
    "        txt = re.sub(\"\\nvalue[^$]*]\",\"\",txt)\n",
    "        obj.set_text(txt)\n",
    "    return obj\n",
    "    \n",
    "ax.properties()['children'] = [replace_text(i) for i in ax.properties()['children']]\n",
    "fig.savefig('imagename2.png')\n",
    "fig.show()\n",
    "'''\n",
    "''"
   ]
  },
  {
   "cell_type": "code",
   "execution_count": 13,
   "id": "d870aef8",
   "metadata": {},
   "outputs": [
    {
     "data": {
      "text/plain": [
       "''"
      ]
     },
     "execution_count": 13,
     "metadata": {},
     "output_type": "execute_result"
    }
   ],
   "source": [
    "'''\n",
    "import pydotplus as pydot # pydot library: install it via pip install pydot\n",
    "import re\n",
    "tree.export_graphviz(tree_model,out_file=\"myTreeName.dot\", \n",
    "    feature_names = [\"ShelveLoc_Good\", \"ShelvelLoc_Medium\", \"ShelveLoc_Bad\", \"Urban_yes\", \"Urban_No\", \"US_yes\", \n",
    "                     \"US_No\", \"Sales\", \"CompPrice\", \"Income\",\"Advertising\", \"Population\", \"Age\", \"Education\"], \n",
    "                    filled = True, \n",
    "                    rounded = True)\n",
    "\n",
    "#PATH = '/path/to/dotfile/tree.dot'\n",
    "f = pydot.graph_from_dot_file(\"myTreeName.dot\").to_string()\n",
    "f = re.sub('(\\\\\\\\nsamples = [0-9]+)(\\\\\\\\nvalue = \\[[0-9]+, [0-9]+, [0-9]+\\])', '', f)\n",
    "f = re.sub('(samples = [0-9]+)(\\\\\\\\nvalue = \\[[0-9]+, [0-9]+, [0-9]+\\])\\\\\\\\n', '', f)\n",
    "\n",
    "with open('tree_modified.dot', 'w') as file:\n",
    "    file.write(f)\n",
    "\n",
    "'''\n",
    "''"
   ]
  },
  {
   "cell_type": "code",
   "execution_count": 14,
   "id": "6e311e2e",
   "metadata": {
    "scrolled": true
   },
   "outputs": [
    {
     "data": {
      "text/plain": [
       "''"
      ]
     },
     "execution_count": 14,
     "metadata": {},
     "output_type": "execute_result"
    }
   ],
   "source": [
    "'''\n",
    "import matplotlib\n",
    "\n",
    "fig, ax = plt.subplots(nrows = 1,ncols = 1,figsize = (1,1), dpi=2400)\n",
    "tree.plot_tree(tree_model,\n",
    "               ax = ax,\n",
    "               feature_names =  [\"ShelveLoc_Good\", \"ShelvelLoc_Medium\", \"ShelveLoc_Bad\", \"Urban_yes\", \"Urban_No\", \"US_yes\", \n",
    "                     \"US_No\", \"Sales\", \"CompPrice\", \"Income\",\"Advertising\", \"Population\", \"Age\", \"Education\"],  \n",
    "               filled = True);\n",
    "fig.savefig('imagename2.png')\n",
    "\n",
    "def replace_text(obj):\n",
    "    if type(obj) == matplotlib.text.Annotation:\n",
    "        txt = obj.get_text()\n",
    "        txt = re.sub(\"\\nvalue[^$]*]\",\"\",txt)\n",
    "        obj.set_text(txt)\n",
    "    return obj\n",
    "    \n",
    "ax.properties()['children'] = [replace_text(i) for i in ax.properties()['children']]\n",
    "fig.savefig('imagename2.png')\n",
    "fig.show()\n",
    "'''\n",
    "\"\""
   ]
  },
  {
   "cell_type": "code",
   "execution_count": 10,
   "id": "c719590a",
   "metadata": {},
   "outputs": [
    {
     "name": "stdout",
     "output_type": "stream",
     "text": [
      "9\n",
      "44\n",
      "<bound method BaseEstimator.get_params of DecisionTreeRegressor(min_impurity_decrease=0.01, min_samples_leaf=5,\n",
      "                      min_samples_split=10)>\n"
     ]
    }
   ],
   "source": [
    "print(tree_model.get_depth())\n",
    "print(tree_model.get_n_leaves())\n",
    "print(tree_model.get_params)\n",
    "\n"
   ]
  },
  {
   "cell_type": "code",
   "execution_count": 11,
   "id": "aeb13420",
   "metadata": {},
   "outputs": [
    {
     "name": "stdout",
     "output_type": "stream",
     "text": [
      "0.787938506468895\n",
      "0.34069858200824754\n"
     ]
    }
   ],
   "source": [
    "print(tree_model.score(X_train, y_train))\n",
    "print(tree_model.score(X_test, y_test))"
   ]
  },
  {
   "cell_type": "code",
   "execution_count": 12,
   "id": "06b604da",
   "metadata": {},
   "outputs": [
    {
     "name": "stdout",
     "output_type": "stream",
     "text": [
      "374.4062411357288\n"
     ]
    }
   ],
   "source": [
    "pred_x = tree_model.predict(X_test)\n",
    "\n",
    "mse = 0\n",
    "for i in range(len(pred_x)):\n",
    "    mse += (y_test[i]-pred_x[i])**2\n",
    "\n",
    "print(mse/len(y_test))"
   ]
  },
  {
   "cell_type": "code",
   "execution_count": 13,
   "id": "062cec80",
   "metadata": {},
   "outputs": [
    {
     "name": "stdout",
     "output_type": "stream",
     "text": [
      "[  0.           0.30035714   0.49100649   0.58477891   0.63\n",
      "   0.64731456   0.69822511   0.94297619   0.96571429   1.10125313\n",
      "   1.33761905   1.4532967    1.51053258   1.87041667   1.95116071\n",
      "   2.13020975   2.32161531   2.35636054   2.50722961   2.66274351\n",
      "   3.05134092   3.20387536   3.26769709   3.41305272   3.93888017\n",
      "   4.06087936   4.17959184   5.17593006   5.30012866   5.52249063\n",
      "   7.38293651   7.47243321   8.29818667  14.88337268  16.73635032\n",
      "  19.63929627  20.32031746  30.8400115   53.98845134  56.87554192\n",
      " 112.35806667] [117.79018141 118.09053855 118.58154504 119.16632395 119.79632395\n",
      " 120.44363851 121.14186362 122.08483981 123.0505541  124.15180723\n",
      " 125.48942628 126.94272298 128.45325556 130.32367223 132.27483294\n",
      " 134.4050427  136.72665801 139.08301855 141.59024816 144.25299167\n",
      " 147.30433259 156.91595867 160.18365576 163.59670848 167.53558865\n",
      " 171.59646801 175.77605985 180.95198991 186.25211857 191.7746092\n",
      " 199.15754571 206.62997891 214.92816558 244.69491094 261.43126127\n",
      " 281.07055754 301.390875   332.2308865  386.21933784 443.09487976\n",
      " 555.45294643]\n"
     ]
    },
    {
     "data": {
      "text/plain": [
       "[[0, 0],\n",
       " [1, 0.3003571428571381],\n",
       " [2, 0.4910064935065943],\n",
       " [3, 0.5847789115646198],\n",
       " [4, 0.6299999999999794],\n",
       " [5, 0.6473145604393986],\n",
       " [6, 0.6982251082251425],\n",
       " [7, 0.9429761904762017],\n",
       " [8, 0.965714285714447],\n",
       " [9, 1.101253132832003],\n",
       " [10, 1.3376190476190977],\n",
       " [11, 1.4532967032966493],\n",
       " [12, 1.5105325814538109],\n",
       " [13, 1.8704166666667206],\n",
       " [14, 1.951160714285698],\n",
       " [15, 2.1302097505669604],\n",
       " [16, 2.3216153127917094],\n",
       " [17, 2.35636054421758],\n",
       " [18, 2.507229612492937],\n",
       " [19, 2.6627435064934275],\n",
       " [20, 3.051340920983746],\n",
       " [21, 3.2038753607502835],\n",
       " [22, 3.2676970855231833],\n",
       " [23, 3.4130527210884445],\n",
       " [24, 3.9388801674515186],\n",
       " [25, 4.060879361866149],\n",
       " [26, 4.179591836734886],\n",
       " [27, 5.175930059523774],\n",
       " [28, 5.300128660159757],\n",
       " [29, 5.5224906308681625],\n",
       " [30, 7.3829365079364955],\n",
       " [31, 7.472433207152974],\n",
       " [32, 8.298186667829285],\n",
       " [33, 14.883372682005511],\n",
       " [34, 16.736350323425],\n",
       " [35, 19.639296270232656],\n",
       " [36, 20.320317460317554],\n",
       " [37, 30.840011500461586],\n",
       " [38, 53.988451337285724],\n",
       " [39, 56.87554192017603],\n",
       " [40, 112.35806667189519]]"
      ]
     },
     "execution_count": 13,
     "metadata": {},
     "output_type": "execute_result"
    }
   ],
   "source": [
    "#Reducing ccp terms\n",
    "\n",
    "#tree_model = DecisionTreeClassifier(criterion = \"entropy\", min_samples_split = 10, min_samples_leaf=5, min_impurity_decrease = 0.01)\n",
    "\n",
    "#tree_model =  DecisionTreeClassifier(criterion = \"gini\", min_samples_split = 10, min_samples_leaf=5, min_impurity_decrease = 0.0048)\n",
    "\n",
    "#Regression\n",
    "tree_model = DecisionTreeRegressor(min_samples_split = 10, min_samples_leaf=5, min_impurity_decrease = 0.01)#, ccp_alpha=alpha[1])\n",
    "#Classification Gini\n",
    "#tree_model = DecisionTreeClassifier(criterion = \"gini\", min_samples_split = 10, min_samples_leaf=5, min_impurity_decrease = 0.01)\n",
    "#Classification Entropy\n",
    "#tree_model = DecisionTreeClassifier(criterion = \"entropy\", min_samples_split = 10, min_samples_leaf=5, min_impurity_decrease = 0.01)\n",
    "\n",
    "\n",
    "\n",
    "\n",
    "path = tree_model.cost_complexity_pruning_path(X_train, y_train) #the tree in example was unfited \n",
    "ccp_alphas, impurities = path.ccp_alphas, path.impurities\n",
    "print(ccp_alphas, impurities)\n",
    "#len(ccp_alphas)\n",
    "\n",
    "new_ccp =[]\n",
    "for i in range(len(ccp_alphas)):\n",
    "    new_ccp.append([i,ccp_alphas[i]])\n",
    "    \n",
    "    \n",
    "new_ccp2= []\n",
    "ccp_val = 0\n",
    "nodes = 0\n",
    "\n",
    "for i in new_ccp:\n",
    "    if i[1] > ccp_val + 0.000001: #001\n",
    "        ccp_val = i[1]\n",
    "        new_ccp2.append(i)\n",
    "        \n",
    "new_ccp2\n",
    "new_ccp2.insert(0, [0,0])\n",
    "new_ccp2"
   ]
  },
  {
   "cell_type": "code",
   "execution_count": 19,
   "id": "552b9207",
   "metadata": {},
   "outputs": [
    {
     "data": {
      "text/plain": [
       "'\\n#new_model = DecisionTreeClassifier(criterion = \"entropy\", min_samples_split = 10, min_samples_leaf=5, min_impurity_decrease = 0.01,  ccp_alpha=ccp_alphas[0])\\n\\n#new_model =  DecisionTreeClassifier(criterion = \"gini\", min_samples_split = 10, min_samples_leaf=5, min_impurity_decrease = 0.0048, ccp_alpha=new_ccp2[0][1])\\nnew_model = DecisionTreeRegressor(min_samples_split = 10, min_samples_leaf=5, min_impurity_decrease = 0.001, ccp_alpha=alpha[1])\\n\\n\\nnew_model.fit(X_train, y_train)\\n\\npred_x_train = new_model.predict(X_train)\\npred_x_train\\n\\nmse_train = 0\\nfor i in range(len(pred_x_train)):\\n    mse_train += (y_train[i]-pred_x_train[i])**2\\nprint(mse_train/len(y_train))\\n\\npred_x_test = new_model.predict(X_test)\\npred_x_test\\n\\nmse_test = 0\\nfor i in range(len(pred_x_test)):\\n    mse_test += (y_test[i]-pred_x_test[i])**2\\nprint(mse_test/len(y_test))\\n'"
      ]
     },
     "execution_count": 19,
     "metadata": {},
     "output_type": "execute_result"
    }
   ],
   "source": [
    "    #testing station\n",
    "    '''\n",
    "    #new_model = DecisionTreeClassifier(criterion = \"entropy\", min_samples_split = 10, min_samples_leaf=5, min_impurity_decrease = 0.01,  ccp_alpha=ccp_alphas[0])\n",
    "\n",
    "    #new_model =  DecisionTreeClassifier(criterion = \"gini\", min_samples_split = 10, min_samples_leaf=5, min_impurity_decrease = 0.0048, ccp_alpha=new_ccp2[0][1])\n",
    "    new_model = DecisionTreeRegressor(min_samples_split = 10, min_samples_leaf=5, min_impurity_decrease = 0.001, ccp_alpha=alpha[1])\n",
    "\n",
    "    \n",
    "    new_model.fit(X_train, y_train)\n",
    "    \n",
    "    pred_x_train = new_model.predict(X_train)\n",
    "    pred_x_train\n",
    "    \n",
    "    mse_train = 0\n",
    "    for i in range(len(pred_x_train)):\n",
    "        mse_train += (y_train[i]-pred_x_train[i])**2\n",
    "    print(mse_train/len(y_train))\n",
    "    \n",
    "    pred_x_test = new_model.predict(X_test)\n",
    "    pred_x_test\n",
    "    \n",
    "    mse_test = 0\n",
    "    for i in range(len(pred_x_test)):\n",
    "        mse_test += (y_test[i]-pred_x_test[i])**2\n",
    "    print(mse_test/len(y_test))\n",
    "    '''"
   ]
  },
  {
   "cell_type": "code",
   "execution_count": 21,
   "id": "05b127b1",
   "metadata": {},
   "outputs": [
    {
     "name": "stdout",
     "output_type": "stream",
     "text": [
      "[[117.79018140589568, 44], [118.09053854875285, 43], [118.58154504225934, 42], [119.166323953824, 41], [119.79632395382399, 40], [120.44363851426357, 39], [121.14186362248867, 38], [122.08483981296486, 37], [123.05055409867914, 36], [124.15180723151123, 35], [125.48942627913026, 34], [126.94272298242696, 33], [128.4532555638806, 32], [130.32367223054723, 31], [132.27483294483298, 30], [134.40504269539989, 29], [136.72665800819166, 28], [136.72665800819166, 28], [141.59024816490216, 26], [144.25299167139565, 25], [147.30433259237938, 24], [156.9159586746305, 21], [160.1836557601536, 20], [163.59670848124208, 19], [167.53558864869368, 18], [171.5964680105599, 17], [175.77605984729456, 16], [180.95198990681834, 15], [186.25211856697808, 14], [191.77460919784582, 13], [199.15754570578233, 12], [206.6299789129361, 11], [214.9281655807656, 10], [244.69491094477672, 8], [261.4312612682012, 7], [281.07055753843326, 6], [301.3908749987507, 5], [332.2308864992127, 4], [386.2193378364982, 3], [443.09487975667383, 2], [555.4529464285712, 1]]\n",
      "[[375.7305744690621, 44], [373.8721578023955, 43], [372.28908273352505, 42], [369.7739466791033, 41], [364.1599466791033, 40], [362.6842216729397, 39], [365.3704252235978, 38], [360.5026196680422, 37], [360.2946196680422, 36], [361.52153051240464, 35], [363.92027125314536, 34], [363.65658782119266, 33], [361.9947811434969, 32], [358.54784827312653, 31], [353.89669723145994, 30], [340.605647911732, 29], [348.2973212531819, 28], [348.2973212531819, 28], [352.44730902995644, 26], [349.81111326549376, 25], [341.89214070112286, 24], [340.0548607615757, 21], [351.70454562714406, 20], [353.8499478852695, 19], [350.28234422316035, 18], [356.56058883495257, 17], [365.0763862650357, 16], [377.8591372777672, 15], [384.95348215900896, 14], [378.26637414114776, 13], [374.05693484073623, 12], [372.07315027022867, 11], [379.327126170639, 10], [401.6294163011941, 8], [377.1002335519621, 7], [365.12339845930427, 6], [377.2486577185635, 5], [403.28132587388114, 4], [440.0370731606482, 3], [458.509441351924, 2], [567.8877083333336, 1]]\n",
      "\n",
      "Minimum mse = 340.0548607615757 with minimum leaves = 21\n"
     ]
    }
   ],
   "source": [
    "list_train =[]\n",
    "list_test =[]\n",
    "\n",
    "\n",
    "\n",
    "\n",
    "for alpha in new_ccp2:# ccp_alphas:\n",
    "    #new_model =  DecisionTreeClassifier(criterion = \"gini\", min_samples_split = 10, min_samples_leaf=5, min_impurity_decrease = 0.0048, ccp_alpha=alpha[1])\n",
    "    \n",
    "    #new_model = DecisionTreeClassifier(criterion = \"entropy\", min_samples_split = 10, min_samples_leaf=5,min_impurity_decrease = 0.01,  ccp_alpha=alpha[1])\n",
    "\n",
    "    #Regression\n",
    "    new_model = DecisionTreeRegressor(min_samples_split = 10, min_samples_leaf=5, min_impurity_decrease = 0.01, ccp_alpha=alpha[1])\n",
    "    #Classification gini\n",
    "    #new_model = DecisionTreeClassifier(criterion = \"gini\", min_samples_split = 10, min_samples_leaf=5, min_impurity_decrease = 0.01, ccp_alpha=alpha[1])\n",
    "    #Classification entropy\n",
    "    #new_model = DecisionTreeClassifier(criterion = \"entropy\", min_samples_split = 10, min_samples_leaf=5, min_impurity_decrease = 0.01, ccp_alpha=alpha[1])\n",
    "    \n",
    "    new_model.fit(X_train, y_train)\n",
    "    \n",
    "    pred_x_train = new_model.predict(X_train)\n",
    "    pred_x_test = new_model.predict(X_test)\n",
    "    \n",
    "    \n",
    "    '''   \n",
    "    missclass_train = 0\n",
    "    \n",
    "    for i in range(len(pred_x_train)):\n",
    "        if y_train[i] != pred_x_train[i]:\n",
    "            missclass_train+=1\n",
    "    list_train.append([missclass_train, new_model.get_n_leaves()])\n",
    "\n",
    "    \n",
    "    missclass_test = 0 \n",
    "\n",
    "    for i in range(len(pred_x_test)):\n",
    "        if y_test[i] != pred_x_test[i]:\n",
    "            missclass_test+=1\n",
    "    list_test.append([missclass_test, new_model.get_n_leaves()])\n",
    "\n",
    "print(list_train)\n",
    "print(list_test)\n",
    "    \n",
    "    '''\n",
    "    mse_train = 0\n",
    "    for i in range(len(pred_x_train)):\n",
    "        mse_train += (y_train[i]-pred_x_train[i])**2\n",
    "\n",
    "    list_train.append([mse_train/len(y_train),new_model.get_n_leaves()])\n",
    "    \n",
    "    mse_test = 0\n",
    "    for i in range(len(pred_x_test)):\n",
    "        mse_test += (y_test[i]-pred_x_test[i])**2\n",
    "\n",
    "    list_test.append([mse_test/len(y_test),new_model.get_n_leaves()])\n",
    "\n",
    "print(list_train)    \n",
    "print(list_test)\n",
    "\n",
    "\n",
    "    \n",
    "x1 = []\n",
    "y1 =[]\n",
    "min = 1000 \n",
    "min_leaves = 1000 \n",
    "for i in range(len(list_test)):\n",
    "    x1.append(list_test[i][1])\n",
    "    y1.append(list_test[i][0])\n",
    "    if list_test[i][0] < min:\n",
    "        min = list_test[i][0]\n",
    "        min_leaves = list_test[i][1]\n",
    "\n",
    "x2 = []\n",
    "y2 = []\n",
    "for i in range(len(list_train)):\n",
    "    x2.append(list_train[i][1])\n",
    "    y2.append(list_train[i][0])\n",
    "print(\"\")\n",
    "print(f\"Minimum mse = {min} with minimum leaves = {min_leaves}\")\n",
    "\n"
   ]
  },
  {
   "cell_type": "code",
   "execution_count": 22,
   "id": "dc5478d2",
   "metadata": {
    "scrolled": true
   },
   "outputs": [
    {
     "data": {
      "image/png": "[encoded data removed]",
      "text/plain": [
       "<Figure size 432x288 with 1 Axes>"
      ]
     },
     "metadata": {
      "needs_background": "light"
     },
     "output_type": "display_data"
    }
   ],
   "source": [
    "import numpy as np\n",
    "import matplotlib.pyplot as plt\n",
    "\n",
    "'''\n",
    "# values from R classification misclass - deviation\n",
    "#dict_test = {19:32,  16:32,  13:32,   11:34,   7:44,  4:37,   2:37} #Test\n",
    "#dict_train = {19:24,  16:24,  13:26,   11:31,   7:42,  4:59,   2:80}  #train\n",
    "\n",
    "#R deviance regression\n",
    "#dict_test = {13:378.2664,  12:374.0569,  11:372.0732,   10:379.3271,   8: 401.6294 , 7:377.1002, 6: 365.1234, 5:377.2487,  4:403.2813, 3:440.0371,    2: 458.5094}#Test\n",
    "#dict_train = {13:191.7746,  12:199.1575,  11:206.63 ,   10:214.9282,   8:244.6949 , 7:261.4313, 6: 281.0706 , 5:301.3909,  4:332.2309, 3:386.2193,    2:443.0949}  #train\n",
    "\n",
    "#R classification Gini\n",
    "dict_test = {28:43, 16:43, 14:41, 12:38, 11:36,  7:34,  6:36,  4:37,  3:36} #    #test\n",
    "dict_train = {28:32, 16:32, 14:33, 12:35, 11:37,  7:49,  6:54,  4:74,  3:85} # #train\n",
    "\n",
    "\n",
    "x1 = list(dict_test.keys())\n",
    "y1 = list(dict_test.values())\n",
    "x2 = list(dict_train.keys())\n",
    "y2 = list(dict_train.values())\n",
    "'''\n",
    "\n",
    "plt.plot(x1, y1, label = \"test\")\n",
    "plt.plot(x2, y2, label = \"train\")\n",
    "\n",
    "\n",
    "\n",
    "plt.xlabel('Leaves')\n",
    "plt.ylabel('MSE')\n",
    "plt.title(\"MSE vs Leaves for Training and Test Set, Scikit Deviance on Carseats Data\")\n",
    "        \n",
    "plt.legend()\n",
    "\n",
    "\n",
    "\n",
    "plt.axis([np.max(x1+x2)*1.05, np.min(x1+x2)*.95, np.min(y1+y2)*0.95, np.max(y1+y2)*1.05])\n",
    "\n",
    "#plt.xticks([26, 22, 18, 14, 10, 6])\n",
    "\n",
    "plt.show()\n"
   ]
  },
  {
   "cell_type": "markdown",
   "id": "d6a2f7ca",
   "metadata": {},
   "source": [
    "## Print pruned tree"
   ]
  },
  {
   "cell_type": "code",
   "execution_count": 23,
   "id": "aa910f6d",
   "metadata": {},
   "outputs": [],
   "source": [
    "#new_model = DecisionTreeClassifier(criterion = \"entropy\", min_samples_split = 10, min_samples_leaf=5,min_impurity_decrease = 0.01,  max_leaf_nodes = 4)\n",
    "#new_model =  DecisionTreeClassifier(criterion = \"gini\", min_samples_split = 10, min_samples_leaf=5, min_impurity_decrease = 0.0048, max_leaf_nodes = 13)\n",
    "\n",
    "#regression\n",
    "new_model = DecisionTreeRegressor(min_samples_split = 10, min_samples_leaf=5, min_impurity_decrease = 0.01, max_leaf_nodes = 21)\n",
    "#classification gini\n",
    "#new_model = DecisionTreeClassifier(criterion = \"gini\", min_samples_split = 10, min_samples_leaf=5, min_impurity_decrease = 0.001,  max_leaf_nodes = 23)\n",
    "#classification entropy\n",
    "#new_model = DecisionTreeClassifier(criterion = \"entropy\", min_samples_split = 10, min_samples_leaf=5, min_impurity_decrease = 0.001,  max_leaf_nodes = 17)\n",
    "\n",
    "\n",
    "\n",
    "new_model.fit(X_train, y_train)\n",
    "\n",
    "\n",
    "tree.export_graphviz(\n",
    "    new_model,\n",
    "    out_file=\"myTreeName.dot\", \n",
    "    feature_names = list(X_train.columns),\n",
    "    filled = True, \n",
    "    rounded = True\n",
    ")"
   ]
  },
  {
   "cell_type": "code",
   "execution_count": 24,
   "id": "f2e51026",
   "metadata": {},
   "outputs": [],
   "source": [
    "import pydot\n",
    "'''\n",
    "dot_string = \"\"\"graph my_graph {\n",
    "    bgcolor=\"yellow\";\n",
    "    a [label=\"Foo\"];\n",
    "    b [shape=circle];\n",
    "    a -- b -- c [color=blue];\n",
    "}\"\"\"\n",
    "\n",
    "graphs = pydot.graph_from_dot_file('tree.dot')\n",
    "graph = graphs[0]\n",
    "graph.write_png('pracgraph.png')\n",
    "'''\n",
    "(graph,) = pydot.graph_from_dot_file('myTreeName.dot')\n",
    "graph.write_png('CART_tree.png')"
   ]
  },
  {
   "cell_type": "code",
   "execution_count": 163,
   "id": "eec6b080",
   "metadata": {},
   "outputs": [
    {
     "ename": "NameError",
     "evalue": "name 'X_new' is not defined",
     "output_type": "error",
     "traceback": [
      "\u001b[1;31m---------------------------------------------------------------------------\u001b[0m",
      "\u001b[1;31mNameError\u001b[0m                                 Traceback (most recent call last)",
      "\u001b[1;32m<ipython-input-163-623e917c9412>\u001b[0m in \u001b[0;36m<module>\u001b[1;34m\u001b[0m\n\u001b[0;32m      5\u001b[0m     \u001b[0mclf\u001b[0m \u001b[1;33m=\u001b[0m \u001b[0mDecisionTreeClassifier\u001b[0m\u001b[1;33m(\u001b[0m\u001b[0mcriterion\u001b[0m \u001b[1;33m=\u001b[0m \u001b[1;34m\"entropy\"\u001b[0m\u001b[1;33m,\u001b[0m \u001b[0mmin_samples_split\u001b[0m \u001b[1;33m=\u001b[0m \u001b[1;36m10\u001b[0m\u001b[1;33m,\u001b[0m \u001b[0mmin_samples_leaf\u001b[0m\u001b[1;33m=\u001b[0m\u001b[1;36m5\u001b[0m\u001b[1;33m,\u001b[0m \u001b[0mmin_impurity_decrease\u001b[0m \u001b[1;33m=\u001b[0m \u001b[1;36m0.02\u001b[0m\u001b[1;33m,\u001b[0m \u001b[0mmax_depth\u001b[0m \u001b[1;33m=\u001b[0m \u001b[1;36m6\u001b[0m\u001b[1;33m,\u001b[0m \u001b[0mrandom_state\u001b[0m\u001b[1;33m=\u001b[0m\u001b[1;36m0\u001b[0m\u001b[1;33m,\u001b[0m \u001b[0mccp_alpha\u001b[0m\u001b[1;33m=\u001b[0m\u001b[0mccp_alpha\u001b[0m\u001b[1;33m)\u001b[0m\u001b[1;33m\u001b[0m\u001b[1;33m\u001b[0m\u001b[0m\n\u001b[0;32m      6\u001b[0m \u001b[1;33m\u001b[0m\u001b[0m\n\u001b[1;32m----> 7\u001b[1;33m     \u001b[0mclf\u001b[0m\u001b[1;33m.\u001b[0m\u001b[0mfit\u001b[0m\u001b[1;33m(\u001b[0m\u001b[0mX_new\u001b[0m\u001b[1;33m,\u001b[0m \u001b[0my\u001b[0m\u001b[1;33m)\u001b[0m\u001b[1;33m\u001b[0m\u001b[1;33m\u001b[0m\u001b[0m\n\u001b[0m\u001b[0;32m      8\u001b[0m \u001b[1;33m\u001b[0m\u001b[0m\n\u001b[0;32m      9\u001b[0m \u001b[1;33m\u001b[0m\u001b[0m\n",
      "\u001b[1;31mNameError\u001b[0m: name 'X_new' is not defined"
     ]
    }
   ],
   "source": [
    "clfs = []\n",
    "for ccp_alpha in ccp_alphas:\n",
    "    #clf = DecisionTreeClassifier(criterion = \"gini\", min_samples_split = 10, min_samples_leaf=5, min_impurity_decrease = 0.0048, max_depth = 6, random_state=0, ccp_alpha=ccp_alpha)\n",
    "    \n",
    "    clf = DecisionTreeClassifier(criterion = \"entropy\", min_samples_split = 10, min_samples_leaf=5, min_impurity_decrease = 0.01, max_depth = 6, random_state=0, ccp_alpha=ccp_alpha)\n",
    "    \n",
    "    clf.fit(X_new, y)\n",
    "\n",
    "    \n",
    "    clfs.append(clf)\n",
    "print(\n",
    "    \"Number of nodes in the last tree is: {} with ccp_alpha: {}\".format(\n",
    "        clfs[-1].tree_.node_count, ccp_alphas[-1]\n",
    "    )\n",
    ")"
   ]
  },
  {
   "cell_type": "code",
   "execution_count": null,
   "id": "097e2ef9",
   "metadata": {},
   "outputs": [],
   "source": [
    "train_scores = [] \n",
    "leaves = []\n",
    "test_scores = []\n",
    "for clf in clfs:\n",
    "    train_scores.append(clf.score(X_new,y))\n",
    "    leaves.append(clf.get_n_leaves())\n",
    "    test_scores.append(clf.score(X_new_test,y_test))\n",
    "\n",
    "  \n",
    "    \n",
    "fig, ax = plt.subplots()\n",
    "ax.set_xlabel(\"leaves\")\n",
    "ax.set_ylabel(\"accuracy\")\n",
    "ax.set_title(\"Accuracy vs alpha for training and testing sets\")\n",
    "ax.plot(leaves, train_scores, marker=\"o\", label=\"train\", drawstyle=\"steps-post\")\n",
    "ax.plot(leaves, test_scores, marker=\"o\", label=\"test\", drawstyle=\"steps-post\")\n",
    "ax.legend()\n",
    "plt.show()"
   ]
  },
  {
   "cell_type": "code",
   "execution_count": 5,
   "id": "d27aba6f",
   "metadata": {},
   "outputs": [
    {
     "data": {
      "text/plain": [
       "True"
      ]
     },
     "execution_count": 5,
     "metadata": {},
     "output_type": "execute_result"
    }
   ],
   "source": [
    "import pydot\n",
    "\n",
    "graph = pydot.Dot(\"my_graph\", graph_type=\"graph\", bgcolor=\"yellow\", dir=\"forward\", shape=\"plaintext\", spines = \"line\")\n",
    "\n",
    "# Add nodes\n",
    "my_node = pydot.Node(\"a\", label=\"Foo\")\n",
    "graph.add_node(my_node)\n",
    "# Or, without using an intermediate variable:\n",
    "graph.add_node(pydot.Node(\"b\", shape=\"circle\"))\n",
    "\n",
    "# Add edges\n",
    "my_edge = pydot.Edge(\"a\", \"b\", color=\"blue\")\n",
    "graph.add_edge(my_edge)\n",
    "# Or, without using an intermediate variable:\n",
    "graph.add_edge(pydot.Edge(\"b\", \"c\", color=\"blue\"))\n",
    "\n",
    "graph.write(\"the.dot\")\n",
    "\n",
    "#graphs = pydot.graph_from_dot_data(dot_string)\n",
    "#graph = graphs[0]"
   ]
  },
  {
   "cell_type": "code",
   "execution_count": 2,
   "id": "50eb838b",
   "metadata": {},
   "outputs": [
    {
     "name": "stdout",
     "output_type": "stream",
     "text": [
      "Defaulting to user installation because normal site-packages is not writeable\n",
      "Collecting pygraphviz\n",
      "  Downloading pygraphviz-1.9.zip (119 kB)\n",
      "Building wheels for collected packages: pygraphviz\n",
      "  Building wheel for pygraphviz (setup.py): started\n",
      "  Building wheel for pygraphviz (setup.py): finished with status 'error'\n",
      "  Running setup.py clean for pygraphviz\n",
      "Failed to build pygraphviz\n",
      "Installing collected packages: pygraphviz\n",
      "    Running setup.py install for pygraphviz: started\n",
      "    Running setup.py install for pygraphviz: finished with status 'error'\n"
     ]
    },
    {
     "name": "stderr",
     "output_type": "stream",
     "text": [
      "  ERROR: Command errored out with exit status 1:\n",
      "   command: 'D:\\Program_Files\\Anaconda\\python.exe' -u -c 'import sys, setuptools, tokenize; sys.argv[0] = '\"'\"'C:\\\\Users\\\\danie\\\\AppData\\\\Local\\\\Temp\\\\pip-install-nojvphxw\\\\pygraphviz_b5fca58dfb1e44fda565dbcb07585acf\\\\setup.py'\"'\"'; __file__='\"'\"'C:\\\\Users\\\\danie\\\\AppData\\\\Local\\\\Temp\\\\pip-install-nojvphxw\\\\pygraphviz_b5fca58dfb1e44fda565dbcb07585acf\\\\setup.py'\"'\"';f=getattr(tokenize, '\"'\"'open'\"'\"', open)(__file__);code=f.read().replace('\"'\"'\\r\\n'\"'\"', '\"'\"'\\n'\"'\"');f.close();exec(compile(code, __file__, '\"'\"'exec'\"'\"'))' bdist_wheel -d 'C:\\Users\\danie\\AppData\\Local\\Temp\\pip-wheel-wg0c8q1x'\n",
      "       cwd: C:\\Users\\danie\\AppData\\Local\\Temp\\pip-install-nojvphxw\\pygraphviz_b5fca58dfb1e44fda565dbcb07585acf\\\n",
      "  Complete output (47 lines):\n",
      "  running bdist_wheel\n",
      "  running build\n",
      "  running build_py\n",
      "  creating build\n",
      "  creating build\\lib.win-amd64-3.8\n",
      "  creating build\\lib.win-amd64-3.8\\pygraphviz\n",
      "  copying pygraphviz\\agraph.py -> build\\lib.win-amd64-3.8\\pygraphviz\n",
      "  copying pygraphviz\\graphviz.py -> build\\lib.win-amd64-3.8\\pygraphviz\n",
      "  copying pygraphviz\\scraper.py -> build\\lib.win-amd64-3.8\\pygraphviz\n",
      "  copying pygraphviz\\testing.py -> build\\lib.win-amd64-3.8\\pygraphviz\n",
      "  copying pygraphviz\\__init__.py -> build\\lib.win-amd64-3.8\\pygraphviz\n",
      "  creating build\\lib.win-amd64-3.8\\pygraphviz\\tests\n",
      "  copying pygraphviz\\tests\\test_attribute_defaults.py -> build\\lib.win-amd64-3.8\\pygraphviz\\tests\n",
      "  copying pygraphviz\\tests\\test_clear.py -> build\\lib.win-amd64-3.8\\pygraphviz\\tests\n",
      "  copying pygraphviz\\tests\\test_close.py -> build\\lib.win-amd64-3.8\\pygraphviz\\tests\n",
      "  copying pygraphviz\\tests\\test_drawing.py -> build\\lib.win-amd64-3.8\\pygraphviz\\tests\n",
      "  copying pygraphviz\\tests\\test_edge_attributes.py -> build\\lib.win-amd64-3.8\\pygraphviz\\tests\n",
      "  copying pygraphviz\\tests\\test_graph.py -> build\\lib.win-amd64-3.8\\pygraphviz\\tests\n",
      "  copying pygraphviz\\tests\\test_html.py -> build\\lib.win-amd64-3.8\\pygraphviz\\tests\n",
      "  copying pygraphviz\\tests\\test_layout.py -> build\\lib.win-amd64-3.8\\pygraphviz\\tests\n",
      "  copying pygraphviz\\tests\\test_node_attributes.py -> build\\lib.win-amd64-3.8\\pygraphviz\\tests\n",
      "  copying pygraphviz\\tests\\test_readwrite.py -> build\\lib.win-amd64-3.8\\pygraphviz\\tests\n",
      "  copying pygraphviz\\tests\\test_repr_mimebundle.py -> build\\lib.win-amd64-3.8\\pygraphviz\\tests\n",
      "  copying pygraphviz\\tests\\test_scraper.py -> build\\lib.win-amd64-3.8\\pygraphviz\\tests\n",
      "  copying pygraphviz\\tests\\test_string.py -> build\\lib.win-amd64-3.8\\pygraphviz\\tests\n",
      "  copying pygraphviz\\tests\\test_subgraph.py -> build\\lib.win-amd64-3.8\\pygraphviz\\tests\n",
      "  copying pygraphviz\\tests\\test_unicode.py -> build\\lib.win-amd64-3.8\\pygraphviz\\tests\n",
      "  copying pygraphviz\\tests\\__init__.py -> build\\lib.win-amd64-3.8\\pygraphviz\\tests\n",
      "  running egg_info\n",
      "  writing pygraphviz.egg-info\\PKG-INFO\n",
      "  writing dependency_links to pygraphviz.egg-info\\dependency_links.txt\n",
      "  writing top-level names to pygraphviz.egg-info\\top_level.txt\n",
      "  reading manifest file 'pygraphviz.egg-info\\SOURCES.txt'\n",
      "  reading manifest template 'MANIFEST.in'\n",
      "  warning: no files found matching '*.png' under directory 'doc'\n",
      "  warning: no files found matching '*.txt' under directory 'doc'\n",
      "  warning: no files found matching '*.css' under directory 'doc'\n",
      "  warning: no previously-included files matching '*~' found anywhere in distribution\n",
      "  warning: no previously-included files matching '*.pyc' found anywhere in distribution\n",
      "  warning: no previously-included files matching '.svn' found anywhere in distribution\n",
      "  no previously-included directories found matching 'doc\\build'\n",
      "  writing manifest file 'pygraphviz.egg-info\\SOURCES.txt'\n",
      "  copying pygraphviz\\graphviz.i -> build\\lib.win-amd64-3.8\\pygraphviz\n",
      "  copying pygraphviz\\graphviz_wrap.c -> build\\lib.win-amd64-3.8\\pygraphviz\n",
      "  running build_ext\n",
      "  building 'pygraphviz._graphviz' extension\n",
      "  error: Microsoft Visual C++ 14.0 or greater is required. Get it with \"Microsoft C++ Build Tools\": https://visualstudio.microsoft.com/visual-cpp-build-tools/\n",
      "  ----------------------------------------\n",
      "  ERROR: Failed building wheel for pygraphviz\n",
      "    ERROR: Command errored out with exit status 1:\n",
      "     command: 'D:\\Program_Files\\Anaconda\\python.exe' -u -c 'import sys, setuptools, tokenize; sys.argv[0] = '\"'\"'C:\\\\Users\\\\danie\\\\AppData\\\\Local\\\\Temp\\\\pip-install-nojvphxw\\\\pygraphviz_b5fca58dfb1e44fda565dbcb07585acf\\\\setup.py'\"'\"'; __file__='\"'\"'C:\\\\Users\\\\danie\\\\AppData\\\\Local\\\\Temp\\\\pip-install-nojvphxw\\\\pygraphviz_b5fca58dfb1e44fda565dbcb07585acf\\\\setup.py'\"'\"';f=getattr(tokenize, '\"'\"'open'\"'\"', open)(__file__);code=f.read().replace('\"'\"'\\r\\n'\"'\"', '\"'\"'\\n'\"'\"');f.close();exec(compile(code, __file__, '\"'\"'exec'\"'\"'))' install --record 'C:\\Users\\danie\\AppData\\Local\\Temp\\pip-record-6kkmldo4\\install-record.txt' --single-version-externally-managed --user --prefix= --compile --install-headers 'C:\\Users\\danie\\AppData\\Roaming\\Python\\Python38\\Include\\pygraphviz'\n",
      "         cwd: C:\\Users\\danie\\AppData\\Local\\Temp\\pip-install-nojvphxw\\pygraphviz_b5fca58dfb1e44fda565dbcb07585acf\\\n",
      "    Complete output (47 lines):\n",
      "    running install\n",
      "    running build\n",
      "    running build_py\n",
      "    creating build\n",
      "    creating build\\lib.win-amd64-3.8\n",
      "    creating build\\lib.win-amd64-3.8\\pygraphviz\n",
      "    copying pygraphviz\\agraph.py -> build\\lib.win-amd64-3.8\\pygraphviz\n",
      "    copying pygraphviz\\graphviz.py -> build\\lib.win-amd64-3.8\\pygraphviz\n",
      "    copying pygraphviz\\scraper.py -> build\\lib.win-amd64-3.8\\pygraphviz\n",
      "    copying pygraphviz\\testing.py -> build\\lib.win-amd64-3.8\\pygraphviz\n",
      "    copying pygraphviz\\__init__.py -> build\\lib.win-amd64-3.8\\pygraphviz\n",
      "    creating build\\lib.win-amd64-3.8\\pygraphviz\\tests\n",
      "    copying pygraphviz\\tests\\test_attribute_defaults.py -> build\\lib.win-amd64-3.8\\pygraphviz\\tests\n",
      "    copying pygraphviz\\tests\\test_clear.py -> build\\lib.win-amd64-3.8\\pygraphviz\\tests\n",
      "    copying pygraphviz\\tests\\test_close.py -> build\\lib.win-amd64-3.8\\pygraphviz\\tests\n",
      "    copying pygraphviz\\tests\\test_drawing.py -> build\\lib.win-amd64-3.8\\pygraphviz\\tests\n",
      "    copying pygraphviz\\tests\\test_edge_attributes.py -> build\\lib.win-amd64-3.8\\pygraphviz\\tests\n",
      "    copying pygraphviz\\tests\\test_graph.py -> build\\lib.win-amd64-3.8\\pygraphviz\\tests\n",
      "    copying pygraphviz\\tests\\test_html.py -> build\\lib.win-amd64-3.8\\pygraphviz\\tests\n",
      "    copying pygraphviz\\tests\\test_layout.py -> build\\lib.win-amd64-3.8\\pygraphviz\\tests\n",
      "    copying pygraphviz\\tests\\test_node_attributes.py -> build\\lib.win-amd64-3.8\\pygraphviz\\tests\n",
      "    copying pygraphviz\\tests\\test_readwrite.py -> build\\lib.win-amd64-3.8\\pygraphviz\\tests\n",
      "    copying pygraphviz\\tests\\test_repr_mimebundle.py -> build\\lib.win-amd64-3.8\\pygraphviz\\tests\n",
      "    copying pygraphviz\\tests\\test_scraper.py -> build\\lib.win-amd64-3.8\\pygraphviz\\tests\n",
      "    copying pygraphviz\\tests\\test_string.py -> build\\lib.win-amd64-3.8\\pygraphviz\\tests\n",
      "    copying pygraphviz\\tests\\test_subgraph.py -> build\\lib.win-amd64-3.8\\pygraphviz\\tests\n",
      "    copying pygraphviz\\tests\\test_unicode.py -> build\\lib.win-amd64-3.8\\pygraphviz\\tests\n",
      "    copying pygraphviz\\tests\\__init__.py -> build\\lib.win-amd64-3.8\\pygraphviz\\tests\n",
      "    running egg_info\n",
      "    writing pygraphviz.egg-info\\PKG-INFO\n",
      "    writing dependency_links to pygraphviz.egg-info\\dependency_links.txt\n",
      "    writing top-level names to pygraphviz.egg-info\\top_level.txt\n",
      "    reading manifest file 'pygraphviz.egg-info\\SOURCES.txt'\n",
      "    reading manifest template 'MANIFEST.in'\n",
      "    warning: no files found matching '*.png' under directory 'doc'\n",
      "    warning: no files found matching '*.txt' under directory 'doc'\n",
      "    warning: no files found matching '*.css' under directory 'doc'\n",
      "    warning: no previously-included files matching '*~' found anywhere in distribution\n",
      "    warning: no previously-included files matching '*.pyc' found anywhere in distribution\n",
      "    warning: no previously-included files matching '.svn' found anywhere in distribution\n",
      "    no previously-included directories found matching 'doc\\build'\n",
      "    writing manifest file 'pygraphviz.egg-info\\SOURCES.txt'\n",
      "    copying pygraphviz\\graphviz.i -> build\\lib.win-amd64-3.8\\pygraphviz\n",
      "    copying pygraphviz\\graphviz_wrap.c -> build\\lib.win-amd64-3.8\\pygraphviz\n",
      "    running build_ext\n",
      "    building 'pygraphviz._graphviz' extension\n",
      "    error: Microsoft Visual C++ 14.0 or greater is required. Get it with \"Microsoft C++ Build Tools\": https://visualstudio.microsoft.com/visual-cpp-build-tools/\n",
      "    ----------------------------------------\n",
      "ERROR: Command errored out with exit status 1: 'D:\\Program_Files\\Anaconda\\python.exe' -u -c 'import sys, setuptools, tokenize; sys.argv[0] = '\"'\"'C:\\\\Users\\\\danie\\\\AppData\\\\Local\\\\Temp\\\\pip-install-nojvphxw\\\\pygraphviz_b5fca58dfb1e44fda565dbcb07585acf\\\\setup.py'\"'\"'; __file__='\"'\"'C:\\\\Users\\\\danie\\\\AppData\\\\Local\\\\Temp\\\\pip-install-nojvphxw\\\\pygraphviz_b5fca58dfb1e44fda565dbcb07585acf\\\\setup.py'\"'\"';f=getattr(tokenize, '\"'\"'open'\"'\"', open)(__file__);code=f.read().replace('\"'\"'\\r\\n'\"'\"', '\"'\"'\\n'\"'\"');f.close();exec(compile(code, __file__, '\"'\"'exec'\"'\"'))' install --record 'C:\\Users\\danie\\AppData\\Local\\Temp\\pip-record-6kkmldo4\\install-record.txt' --single-version-externally-managed --user --prefix= --compile --install-headers 'C:\\Users\\danie\\AppData\\Roaming\\Python\\Python38\\Include\\pygraphviz' Check the logs for full command output.\n"
     ]
    }
   ],
   "source": [
    "!pip install pygraphviz"
   ]
  },
  {
   "cell_type": "code",
   "execution_count": 4,
   "id": "0312d2f5",
   "metadata": {},
   "outputs": [
    {
     "ename": "ModuleNotFoundError",
     "evalue": "No module named 'pygraphviz'",
     "output_type": "error",
     "traceback": [
      "\u001b[1;31m---------------------------------------------------------------------------\u001b[0m",
      "\u001b[1;31mModuleNotFoundError\u001b[0m                       Traceback (most recent call last)",
      "\u001b[1;32m<ipython-input-4-b45ed94ee0e5>\u001b[0m in \u001b[0;36m<module>\u001b[1;34m\u001b[0m\n\u001b[1;32m----> 1\u001b[1;33m \u001b[1;32mimport\u001b[0m \u001b[0mpygraphviz\u001b[0m \u001b[1;32mas\u001b[0m \u001b[0mpgv\u001b[0m\u001b[1;33m\u001b[0m\u001b[1;33m\u001b[0m\u001b[0m\n\u001b[0m\u001b[0;32m      2\u001b[0m \u001b[1;32mimport\u001b[0m \u001b[0mnetworkx\u001b[0m \u001b[1;32mas\u001b[0m \u001b[0mnx\u001b[0m\u001b[1;33m\u001b[0m\u001b[1;33m\u001b[0m\u001b[0m\n\u001b[0;32m      3\u001b[0m \u001b[1;32mimport\u001b[0m \u001b[0mmatplotlib\u001b[0m\u001b[1;33m.\u001b[0m\u001b[0mpyplot\u001b[0m \u001b[1;32mas\u001b[0m \u001b[0mplt\u001b[0m\u001b[1;33m\u001b[0m\u001b[1;33m\u001b[0m\u001b[0m\n\u001b[0;32m      4\u001b[0m \u001b[0mGtmp\u001b[0m \u001b[1;33m=\u001b[0m \u001b[0mpgv\u001b[0m\u001b[1;33m.\u001b[0m\u001b[0mAGraph\u001b[0m\u001b[1;33m(\u001b[0m\u001b[1;34m'tree.dot'\u001b[0m\u001b[1;33m)\u001b[0m\u001b[1;33m\u001b[0m\u001b[1;33m\u001b[0m\u001b[0m\n\u001b[0;32m      5\u001b[0m \u001b[0mG\u001b[0m \u001b[1;33m=\u001b[0m \u001b[0mnx\u001b[0m\u001b[1;33m.\u001b[0m\u001b[0mGraph\u001b[0m\u001b[1;33m(\u001b[0m\u001b[0mGtmp\u001b[0m\u001b[1;33m)\u001b[0m\u001b[1;33m\u001b[0m\u001b[1;33m\u001b[0m\u001b[0m\n",
      "\u001b[1;31mModuleNotFoundError\u001b[0m: No module named 'pygraphviz'"
     ]
    }
   ],
   "source": [
    "import pygraphviz as pgv\n",
    "import networkx as nx\n",
    "import matplotlib.pyplot as plt\n",
    "Gtmp = pgv.AGraph('tree.dot')\n",
    "G = nx.Graph(Gtmp)\n",
    "nx.draw(G)\n",
    "plt.show()"
   ]
  },
  {
   "cell_type": "code",
   "execution_count": 7,
   "id": "257c84c9",
   "metadata": {},
   "outputs": [
    {
     "ename": "NetworkXError",
     "evalue": "random_state_index is incorrect",
     "output_type": "error",
     "traceback": [
      "\u001b[1;31m---------------------------------------------------------------------------\u001b[0m",
      "\u001b[1;31mIndexError\u001b[0m                                Traceback (most recent call last)",
      "\u001b[1;32mD:\\Program_Files\\Anaconda\\lib\\site-packages\\networkx\\utils\\decorators.py\u001b[0m in \u001b[0;36m_random_state\u001b[1;34m(func, *args, **kwargs)\u001b[0m\n\u001b[0;32m    395\u001b[0m         \u001b[1;32mtry\u001b[0m\u001b[1;33m:\u001b[0m\u001b[1;33m\u001b[0m\u001b[1;33m\u001b[0m\u001b[0m\n\u001b[1;32m--> 396\u001b[1;33m             \u001b[0mrandom_state_arg\u001b[0m \u001b[1;33m=\u001b[0m \u001b[0margs\u001b[0m\u001b[1;33m[\u001b[0m\u001b[0mrandom_state_index\u001b[0m\u001b[1;33m]\u001b[0m\u001b[1;33m\u001b[0m\u001b[1;33m\u001b[0m\u001b[0m\n\u001b[0m\u001b[0;32m    397\u001b[0m         \u001b[1;32mexcept\u001b[0m \u001b[0mTypeError\u001b[0m \u001b[1;32mas\u001b[0m \u001b[0me\u001b[0m\u001b[1;33m:\u001b[0m\u001b[1;33m\u001b[0m\u001b[1;33m\u001b[0m\u001b[0m\n",
      "\u001b[1;31mIndexError\u001b[0m: tuple index out of range",
      "\nThe above exception was the direct cause of the following exception:\n",
      "\u001b[1;31mNetworkXError\u001b[0m                             Traceback (most recent call last)",
      "\u001b[1;32m<ipython-input-7-c3912bc90bf9>\u001b[0m in \u001b[0;36m<module>\u001b[1;34m\u001b[0m\n\u001b[0;32m      3\u001b[0m \u001b[0mG\u001b[0m \u001b[1;33m=\u001b[0m \u001b[0mnx\u001b[0m\u001b[1;33m.\u001b[0m\u001b[0mGraph\u001b[0m\u001b[1;33m(\u001b[0m\u001b[0mrandom_state_index\u001b[0m \u001b[1;33m=\u001b[0m \u001b[1;36m1\u001b[0m\u001b[1;33m)\u001b[0m\u001b[1;33m\u001b[0m\u001b[1;33m\u001b[0m\u001b[0m\n\u001b[0;32m      4\u001b[0m \u001b[0mG\u001b[0m\u001b[1;33m.\u001b[0m\u001b[0madd_edge\u001b[0m\u001b[1;33m(\u001b[0m\u001b[1;34m'1'\u001b[0m\u001b[1;33m,\u001b[0m\u001b[1;34m'2'\u001b[0m\u001b[1;33m)\u001b[0m\u001b[1;33m\u001b[0m\u001b[1;33m\u001b[0m\u001b[0m\n\u001b[1;32m----> 5\u001b[1;33m \u001b[0mnx\u001b[0m\u001b[1;33m.\u001b[0m\u001b[0mdraw\u001b[0m\u001b[1;33m(\u001b[0m\u001b[0mG\u001b[0m\u001b[1;33m)\u001b[0m\u001b[1;33m\u001b[0m\u001b[1;33m\u001b[0m\u001b[0m\n\u001b[0m\u001b[0;32m      6\u001b[0m \u001b[0mplt\u001b[0m\u001b[1;33m.\u001b[0m\u001b[0mshow\u001b[0m\u001b[1;33m(\u001b[0m\u001b[1;33m)\u001b[0m\u001b[1;33m\u001b[0m\u001b[1;33m\u001b[0m\u001b[0m\n",
      "\u001b[1;32mD:\\Program_Files\\Anaconda\\lib\\site-packages\\networkx\\drawing\\nx_pylab.py\u001b[0m in \u001b[0;36mdraw\u001b[1;34m(G, pos, ax, **kwds)\u001b[0m\n\u001b[0;32m    121\u001b[0m         \u001b[0mkwds\u001b[0m\u001b[1;33m[\u001b[0m\u001b[1;34m\"with_labels\"\u001b[0m\u001b[1;33m]\u001b[0m \u001b[1;33m=\u001b[0m \u001b[1;34m\"labels\"\u001b[0m \u001b[1;32min\u001b[0m \u001b[0mkwds\u001b[0m\u001b[1;33m\u001b[0m\u001b[1;33m\u001b[0m\u001b[0m\n\u001b[0;32m    122\u001b[0m \u001b[1;33m\u001b[0m\u001b[0m\n\u001b[1;32m--> 123\u001b[1;33m     \u001b[0mdraw_networkx\u001b[0m\u001b[1;33m(\u001b[0m\u001b[0mG\u001b[0m\u001b[1;33m,\u001b[0m \u001b[0mpos\u001b[0m\u001b[1;33m=\u001b[0m\u001b[0mpos\u001b[0m\u001b[1;33m,\u001b[0m \u001b[0max\u001b[0m\u001b[1;33m=\u001b[0m\u001b[0max\u001b[0m\u001b[1;33m,\u001b[0m \u001b[1;33m**\u001b[0m\u001b[0mkwds\u001b[0m\u001b[1;33m)\u001b[0m\u001b[1;33m\u001b[0m\u001b[1;33m\u001b[0m\u001b[0m\n\u001b[0m\u001b[0;32m    124\u001b[0m     \u001b[0max\u001b[0m\u001b[1;33m.\u001b[0m\u001b[0mset_axis_off\u001b[0m\u001b[1;33m(\u001b[0m\u001b[1;33m)\u001b[0m\u001b[1;33m\u001b[0m\u001b[1;33m\u001b[0m\u001b[0m\n\u001b[0;32m    125\u001b[0m     \u001b[0mplt\u001b[0m\u001b[1;33m.\u001b[0m\u001b[0mdraw_if_interactive\u001b[0m\u001b[1;33m(\u001b[0m\u001b[1;33m)\u001b[0m\u001b[1;33m\u001b[0m\u001b[1;33m\u001b[0m\u001b[0m\n",
      "\u001b[1;32mD:\\Program_Files\\Anaconda\\lib\\site-packages\\networkx\\drawing\\nx_pylab.py\u001b[0m in \u001b[0;36mdraw_networkx\u001b[1;34m(G, pos, arrows, with_labels, **kwds)\u001b[0m\n\u001b[0;32m    331\u001b[0m \u001b[1;33m\u001b[0m\u001b[0m\n\u001b[0;32m    332\u001b[0m     \u001b[1;32mif\u001b[0m \u001b[0mpos\u001b[0m \u001b[1;32mis\u001b[0m \u001b[1;32mNone\u001b[0m\u001b[1;33m:\u001b[0m\u001b[1;33m\u001b[0m\u001b[1;33m\u001b[0m\u001b[0m\n\u001b[1;32m--> 333\u001b[1;33m         \u001b[0mpos\u001b[0m \u001b[1;33m=\u001b[0m \u001b[0mnx\u001b[0m\u001b[1;33m.\u001b[0m\u001b[0mdrawing\u001b[0m\u001b[1;33m.\u001b[0m\u001b[0mspring_layout\u001b[0m\u001b[1;33m(\u001b[0m\u001b[0mG\u001b[0m\u001b[1;33m)\u001b[0m  \u001b[1;31m# default to spring layout\u001b[0m\u001b[1;33m\u001b[0m\u001b[1;33m\u001b[0m\u001b[0m\n\u001b[0m\u001b[0;32m    334\u001b[0m \u001b[1;33m\u001b[0m\u001b[0m\n\u001b[0;32m    335\u001b[0m     \u001b[0mdraw_networkx_nodes\u001b[0m\u001b[1;33m(\u001b[0m\u001b[0mG\u001b[0m\u001b[1;33m,\u001b[0m \u001b[0mpos\u001b[0m\u001b[1;33m,\u001b[0m \u001b[1;33m**\u001b[0m\u001b[0mnode_kwds\u001b[0m\u001b[1;33m)\u001b[0m\u001b[1;33m\u001b[0m\u001b[1;33m\u001b[0m\u001b[0m\n",
      "\u001b[1;32mD:\\Program_Files\\Anaconda\\lib\\site-packages\\decorator.py\u001b[0m in \u001b[0;36mfun\u001b[1;34m(*args, **kw)\u001b[0m\n\u001b[0;32m    229\u001b[0m             \u001b[1;32mif\u001b[0m \u001b[1;32mnot\u001b[0m \u001b[0mkwsyntax\u001b[0m\u001b[1;33m:\u001b[0m\u001b[1;33m\u001b[0m\u001b[1;33m\u001b[0m\u001b[0m\n\u001b[0;32m    230\u001b[0m                 \u001b[0margs\u001b[0m\u001b[1;33m,\u001b[0m \u001b[0mkw\u001b[0m \u001b[1;33m=\u001b[0m \u001b[0mfix\u001b[0m\u001b[1;33m(\u001b[0m\u001b[0margs\u001b[0m\u001b[1;33m,\u001b[0m \u001b[0mkw\u001b[0m\u001b[1;33m,\u001b[0m \u001b[0msig\u001b[0m\u001b[1;33m)\u001b[0m\u001b[1;33m\u001b[0m\u001b[1;33m\u001b[0m\u001b[0m\n\u001b[1;32m--> 231\u001b[1;33m             \u001b[1;32mreturn\u001b[0m \u001b[0mcaller\u001b[0m\u001b[1;33m(\u001b[0m\u001b[0mfunc\u001b[0m\u001b[1;33m,\u001b[0m \u001b[1;33m*\u001b[0m\u001b[1;33m(\u001b[0m\u001b[0mextras\u001b[0m \u001b[1;33m+\u001b[0m \u001b[0margs\u001b[0m\u001b[1;33m)\u001b[0m\u001b[1;33m,\u001b[0m \u001b[1;33m**\u001b[0m\u001b[0mkw\u001b[0m\u001b[1;33m)\u001b[0m\u001b[1;33m\u001b[0m\u001b[1;33m\u001b[0m\u001b[0m\n\u001b[0m\u001b[0;32m    232\u001b[0m     \u001b[0mfun\u001b[0m\u001b[1;33m.\u001b[0m\u001b[0m__name__\u001b[0m \u001b[1;33m=\u001b[0m \u001b[0mfunc\u001b[0m\u001b[1;33m.\u001b[0m\u001b[0m__name__\u001b[0m\u001b[1;33m\u001b[0m\u001b[1;33m\u001b[0m\u001b[0m\n\u001b[0;32m    233\u001b[0m     \u001b[0mfun\u001b[0m\u001b[1;33m.\u001b[0m\u001b[0m__doc__\u001b[0m \u001b[1;33m=\u001b[0m \u001b[0mfunc\u001b[0m\u001b[1;33m.\u001b[0m\u001b[0m__doc__\u001b[0m\u001b[1;33m\u001b[0m\u001b[1;33m\u001b[0m\u001b[0m\n",
      "\u001b[1;32mD:\\Program_Files\\Anaconda\\lib\\site-packages\\networkx\\utils\\decorators.py\u001b[0m in \u001b[0;36m_random_state\u001b[1;34m(func, *args, **kwargs)\u001b[0m\n\u001b[0;32m    398\u001b[0m             \u001b[1;32mraise\u001b[0m \u001b[0mnx\u001b[0m\u001b[1;33m.\u001b[0m\u001b[0mNetworkXError\u001b[0m\u001b[1;33m(\u001b[0m\u001b[1;34m\"random_state_index must be an integer\"\u001b[0m\u001b[1;33m)\u001b[0m \u001b[1;32mfrom\u001b[0m \u001b[0me\u001b[0m\u001b[1;33m\u001b[0m\u001b[1;33m\u001b[0m\u001b[0m\n\u001b[0;32m    399\u001b[0m         \u001b[1;32mexcept\u001b[0m \u001b[0mIndexError\u001b[0m \u001b[1;32mas\u001b[0m \u001b[0me\u001b[0m\u001b[1;33m:\u001b[0m\u001b[1;33m\u001b[0m\u001b[1;33m\u001b[0m\u001b[0m\n\u001b[1;32m--> 400\u001b[1;33m             \u001b[1;32mraise\u001b[0m \u001b[0mnx\u001b[0m\u001b[1;33m.\u001b[0m\u001b[0mNetworkXError\u001b[0m\u001b[1;33m(\u001b[0m\u001b[1;34m\"random_state_index is incorrect\"\u001b[0m\u001b[1;33m)\u001b[0m \u001b[1;32mfrom\u001b[0m \u001b[0me\u001b[0m\u001b[1;33m\u001b[0m\u001b[1;33m\u001b[0m\u001b[0m\n\u001b[0m\u001b[0;32m    401\u001b[0m \u001b[1;33m\u001b[0m\u001b[0m\n\u001b[0;32m    402\u001b[0m         \u001b[1;31m# Create a numpy.random.RandomState instance\u001b[0m\u001b[1;33m\u001b[0m\u001b[1;33m\u001b[0m\u001b[1;33m\u001b[0m\u001b[0m\n",
      "\u001b[1;31mNetworkXError\u001b[0m: random_state_index is incorrect"
     ]
    },
    {
     "data": {
      "image/png": "[encoded data removed]",
      "text/plain": [
       "<Figure size 432x288 with 1 Axes>"
      ]
     },
     "metadata": {},
     "output_type": "display_data"
    }
   ],
   "source": [
    "import networkx as nx\n",
    "import matplotlib.pyplot as plt\n",
    "G = nx.Graph(random_state_index = 1)\n",
    "G.add_edge('1','2')\n",
    "nx.draw(G)\n",
    "plt.show()"
   ]
  },
  {
   "cell_type": "code",
   "execution_count": 86,
   "id": "0c016d5e",
   "metadata": {},
   "outputs": [
    {
     "name": "stdout",
     "output_type": "stream",
     "text": [
      "1\n",
      "<class 'str'>\n",
      "2\n",
      "<class 'str'>\n",
      "3\n",
      "<class 'str'>\n",
      "4\n",
      "<class 'str'>\n",
      "5\n",
      "<class 'str'>\n",
      "6\n",
      "<class 'str'>\n",
      "7\n",
      "<class 'str'>\n",
      "8\n",
      "<class 'str'>\n",
      "9\n",
      "<class 'str'>\n",
      "10\n",
      "<class 'str'>\n",
      "11\n",
      "<class 'str'>\n",
      "12\n",
      "<class 'str'>\n",
      "13\n",
      "<class 'str'>\n",
      "14\n",
      "<class 'str'>\n",
      "15\n",
      "<class 'str'>\n",
      "16\n",
      "<class 'str'>\n",
      "17\n",
      "<class 'str'>\n",
      "18\n",
      "<class 'str'>\n",
      "19\n",
      "<class 'str'>\n",
      "22\n",
      "<class 'str'>\n",
      "23\n",
      "<class 'str'>\n",
      "28\n",
      "<class 'str'>\n",
      "29\n",
      "<class 'str'>\n",
      "44\n",
      "<class 'str'>\n",
      "45\n",
      "<class 'str'>\n"
     ]
    },
    {
     "data": {
      "application/vnd.plotly.v1+json": {
       "config": {
        "plotlyServerURL": "https://plot.ly"
       },
       "data": [
        {
         "hoverinfo": "none",
         "line": {
          "color": "rgb(210,210,210)",
          "width": 1
         },
         "mode": "lines",
         "type": "scatter",
         "x": [
          0,
          -5.3125,
          null,
          0,
          5.3125,
          null,
          -5.3125,
          -9.1875,
          null,
          -5.3125,
          -1.4375,
          null,
          5.3125,
          3.3125,
          null,
          5.3125,
          7.3125,
          null,
          -9.1875,
          -11.1875,
          null,
          -9.1875,
          -7.1875,
          null,
          -1.4375,
          -3.1875,
          null,
          -1.4375,
          0.3125,
          null,
          3.3125,
          2.3125,
          null,
          3.3125,
          4.3125,
          null,
          7.3125,
          6.3125,
          null,
          7.3125,
          8.3125,
          null,
          -11.1875,
          -12.1875,
          null,
          -11.1875,
          -10.1875,
          null,
          -7.1875,
          -8.1875,
          null,
          -7.1875,
          -6.1875,
          null,
          0.3125,
          -0.1875,
          null,
          0.3125,
          0.8125,
          null,
          6.3125,
          5.8125,
          null,
          6.3125,
          6.8125,
          null,
          -0.1875,
          -0.6875,
          null,
          -0.1875,
          0.3125,
          null
         ],
         "y": [
          8,
          7,
          null,
          8,
          7,
          null,
          7,
          6,
          null,
          7,
          6,
          null,
          7,
          6,
          null,
          7,
          6,
          null,
          6,
          5,
          null,
          6,
          5,
          null,
          6,
          5,
          null,
          6,
          5,
          null,
          6,
          5,
          null,
          6,
          5,
          null,
          6,
          5,
          null,
          6,
          5,
          null,
          5,
          4,
          null,
          5,
          4,
          null,
          5,
          4,
          null,
          5,
          4,
          null,
          5,
          4,
          null,
          5,
          4,
          null,
          5,
          4,
          null,
          5,
          4,
          null,
          4,
          3,
          null,
          4,
          3,
          null
         ]
        },
        {
         "hoverinfo": "text",
         "marker": {
          "color": "#6175c1",
          "line": {
           "color": "rgb(50,50,50)",
           "width": 1
          },
          "size": 18,
          "symbol": "circle-dot"
         },
         "mode": "markers",
         "name": "Nodes",
         "opacity": 0.8,
         "text": [
          "1",
          "2",
          "3",
          "4",
          "5",
          "6",
          "7",
          "8",
          "9",
          "10",
          "11",
          "12",
          "13",
          "14",
          "15",
          "16",
          "17",
          "18",
          "19",
          "22",
          "23",
          "28",
          "29",
          "44",
          "45"
         ],
         "type": "scatter",
         "x": [
          0,
          -5.3125,
          5.3125,
          -9.1875,
          -1.4375,
          3.3125,
          7.3125,
          -11.1875,
          -7.1875,
          -3.1875,
          0.3125,
          2.3125,
          4.3125,
          6.3125,
          8.3125,
          -12.1875,
          -10.1875,
          -8.1875,
          -6.1875,
          -0.1875,
          0.8125,
          5.8125,
          6.8125,
          -0.6875,
          0.3125
         ],
         "y": [
          8,
          7,
          7,
          6,
          6,
          6,
          6,
          5,
          5,
          5,
          5,
          5,
          5,
          5,
          5,
          4,
          4,
          4,
          4,
          4,
          4,
          4,
          4,
          3,
          3
         ]
        }
       ],
       "layout": {
        "template": {
         "data": {
          "bar": [
           {
            "error_x": {
             "color": "#2a3f5f"
            },
            "error_y": {
             "color": "#2a3f5f"
            },
            "marker": {
             "line": {
              "color": "#E5ECF6",
              "width": 0.5
             },
             "pattern": {
              "fillmode": "overlay",
              "size": 10,
              "solidity": 0.2
             }
            },
            "type": "bar"
           }
          ],
          "barpolar": [
           {
            "marker": {
             "line": {
              "color": "#E5ECF6",
              "width": 0.5
             },
             "pattern": {
              "fillmode": "overlay",
              "size": 10,
              "solidity": 0.2
             }
            },
            "type": "barpolar"
           }
          ],
          "carpet": [
           {
            "aaxis": {
             "endlinecolor": "#2a3f5f",
             "gridcolor": "white",
             "linecolor": "white",
             "minorgridcolor": "white",
             "startlinecolor": "#2a3f5f"
            },
            "baxis": {
             "endlinecolor": "#2a3f5f",
             "gridcolor": "white",
             "linecolor": "white",
             "minorgridcolor": "white",
             "startlinecolor": "#2a3f5f"
            },
            "type": "carpet"
           }
          ],
          "choropleth": [
           {
            "colorbar": {
             "outlinewidth": 0,
             "ticks": ""
            },
            "type": "choropleth"
           }
          ],
          "contour": [
           {
            "colorbar": {
             "outlinewidth": 0,
             "ticks": ""
            },
            "colorscale": [
             [
              0,
              "#0d0887"
             ],
             [
              0.1111111111111111,
              "#46039f"
             ],
             [
              0.2222222222222222,
              "#7201a8"
             ],
             [
              0.3333333333333333,
              "#9c179e"
             ],
             [
              0.4444444444444444,
              "#bd3786"
             ],
             [
              0.5555555555555556,
              "#d8576b"
             ],
             [
              0.6666666666666666,
              "#ed7953"
             ],
             [
              0.7777777777777778,
              "#fb9f3a"
             ],
             [
              0.8888888888888888,
              "#fdca26"
             ],
             [
              1,
              "#f0f921"
             ]
            ],
            "type": "contour"
           }
          ],
          "contourcarpet": [
           {
            "colorbar": {
             "outlinewidth": 0,
             "ticks": ""
            },
            "type": "contourcarpet"
           }
          ],
          "heatmap": [
           {
            "colorbar": {
             "outlinewidth": 0,
             "ticks": ""
            },
            "colorscale": [
             [
              0,
              "#0d0887"
             ],
             [
              0.1111111111111111,
              "#46039f"
             ],
             [
              0.2222222222222222,
              "#7201a8"
             ],
             [
              0.3333333333333333,
              "#9c179e"
             ],
             [
              0.4444444444444444,
              "#bd3786"
             ],
             [
              0.5555555555555556,
              "#d8576b"
             ],
             [
              0.6666666666666666,
              "#ed7953"
             ],
             [
              0.7777777777777778,
              "#fb9f3a"
             ],
             [
              0.8888888888888888,
              "#fdca26"
             ],
             [
              1,
              "#f0f921"
             ]
            ],
            "type": "heatmap"
           }
          ],
          "heatmapgl": [
           {
            "colorbar": {
             "outlinewidth": 0,
             "ticks": ""
            },
            "colorscale": [
             [
              0,
              "#0d0887"
             ],
             [
              0.1111111111111111,
              "#46039f"
             ],
             [
              0.2222222222222222,
              "#7201a8"
             ],
             [
              0.3333333333333333,
              "#9c179e"
             ],
             [
              0.4444444444444444,
              "#bd3786"
             ],
             [
              0.5555555555555556,
              "#d8576b"
             ],
             [
              0.6666666666666666,
              "#ed7953"
             ],
             [
              0.7777777777777778,
              "#fb9f3a"
             ],
             [
              0.8888888888888888,
              "#fdca26"
             ],
             [
              1,
              "#f0f921"
             ]
            ],
            "type": "heatmapgl"
           }
          ],
          "histogram": [
           {
            "marker": {
             "pattern": {
              "fillmode": "overlay",
              "size": 10,
              "solidity": 0.2
             }
            },
            "type": "histogram"
           }
          ],
          "histogram2d": [
           {
            "colorbar": {
             "outlinewidth": 0,
             "ticks": ""
            },
            "colorscale": [
             [
              0,
              "#0d0887"
             ],
             [
              0.1111111111111111,
              "#46039f"
             ],
             [
              0.2222222222222222,
              "#7201a8"
             ],
             [
              0.3333333333333333,
              "#9c179e"
             ],
             [
              0.4444444444444444,
              "#bd3786"
             ],
             [
              0.5555555555555556,
              "#d8576b"
             ],
             [
              0.6666666666666666,
              "#ed7953"
             ],
             [
              0.7777777777777778,
              "#fb9f3a"
             ],
             [
              0.8888888888888888,
              "#fdca26"
             ],
             [
              1,
              "#f0f921"
             ]
            ],
            "type": "histogram2d"
           }
          ],
          "histogram2dcontour": [
           {
            "colorbar": {
             "outlinewidth": 0,
             "ticks": ""
            },
            "colorscale": [
             [
              0,
              "#0d0887"
             ],
             [
              0.1111111111111111,
              "#46039f"
             ],
             [
              0.2222222222222222,
              "#7201a8"
             ],
             [
              0.3333333333333333,
              "#9c179e"
             ],
             [
              0.4444444444444444,
              "#bd3786"
             ],
             [
              0.5555555555555556,
              "#d8576b"
             ],
             [
              0.6666666666666666,
              "#ed7953"
             ],
             [
              0.7777777777777778,
              "#fb9f3a"
             ],
             [
              0.8888888888888888,
              "#fdca26"
             ],
             [
              1,
              "#f0f921"
             ]
            ],
            "type": "histogram2dcontour"
           }
          ],
          "mesh3d": [
           {
            "colorbar": {
             "outlinewidth": 0,
             "ticks": ""
            },
            "type": "mesh3d"
           }
          ],
          "parcoords": [
           {
            "line": {
             "colorbar": {
              "outlinewidth": 0,
              "ticks": ""
             }
            },
            "type": "parcoords"
           }
          ],
          "pie": [
           {
            "automargin": true,
            "type": "pie"
           }
          ],
          "scatter": [
           {
            "fillpattern": {
             "fillmode": "overlay",
             "size": 10,
             "solidity": 0.2
            },
            "type": "scatter"
           }
          ],
          "scatter3d": [
           {
            "line": {
             "colorbar": {
              "outlinewidth": 0,
              "ticks": ""
             }
            },
            "marker": {
             "colorbar": {
              "outlinewidth": 0,
              "ticks": ""
             }
            },
            "type": "scatter3d"
           }
          ],
          "scattercarpet": [
           {
            "marker": {
             "colorbar": {
              "outlinewidth": 0,
              "ticks": ""
             }
            },
            "type": "scattercarpet"
           }
          ],
          "scattergeo": [
           {
            "marker": {
             "colorbar": {
              "outlinewidth": 0,
              "ticks": ""
             }
            },
            "type": "scattergeo"
           }
          ],
          "scattergl": [
           {
            "marker": {
             "colorbar": {
              "outlinewidth": 0,
              "ticks": ""
             }
            },
            "type": "scattergl"
           }
          ],
          "scattermapbox": [
           {
            "marker": {
             "colorbar": {
              "outlinewidth": 0,
              "ticks": ""
             }
            },
            "type": "scattermapbox"
           }
          ],
          "scatterpolar": [
           {
            "marker": {
             "colorbar": {
              "outlinewidth": 0,
              "ticks": ""
             }
            },
            "type": "scatterpolar"
           }
          ],
          "scatterpolargl": [
           {
            "marker": {
             "colorbar": {
              "outlinewidth": 0,
              "ticks": ""
             }
            },
            "type": "scatterpolargl"
           }
          ],
          "scatterternary": [
           {
            "marker": {
             "colorbar": {
              "outlinewidth": 0,
              "ticks": ""
             }
            },
            "type": "scatterternary"
           }
          ],
          "surface": [
           {
            "colorbar": {
             "outlinewidth": 0,
             "ticks": ""
            },
            "colorscale": [
             [
              0,
              "#0d0887"
             ],
             [
              0.1111111111111111,
              "#46039f"
             ],
             [
              0.2222222222222222,
              "#7201a8"
             ],
             [
              0.3333333333333333,
              "#9c179e"
             ],
             [
              0.4444444444444444,
              "#bd3786"
             ],
             [
              0.5555555555555556,
              "#d8576b"
             ],
             [
              0.6666666666666666,
              "#ed7953"
             ],
             [
              0.7777777777777778,
              "#fb9f3a"
             ],
             [
              0.8888888888888888,
              "#fdca26"
             ],
             [
              1,
              "#f0f921"
             ]
            ],
            "type": "surface"
           }
          ],
          "table": [
           {
            "cells": {
             "fill": {
              "color": "#EBF0F8"
             },
             "line": {
              "color": "white"
             }
            },
            "header": {
             "fill": {
              "color": "#C8D4E3"
             },
             "line": {
              "color": "white"
             }
            },
            "type": "table"
           }
          ]
         },
         "layout": {
          "annotationdefaults": {
           "arrowcolor": "#2a3f5f",
           "arrowhead": 0,
           "arrowwidth": 1
          },
          "autotypenumbers": "strict",
          "coloraxis": {
           "colorbar": {
            "outlinewidth": 0,
            "ticks": ""
           }
          },
          "colorscale": {
           "diverging": [
            [
             0,
             "#8e0152"
            ],
            [
             0.1,
             "#c51b7d"
            ],
            [
             0.2,
             "#de77ae"
            ],
            [
             0.3,
             "#f1b6da"
            ],
            [
             0.4,
             "#fde0ef"
            ],
            [
             0.5,
             "#f7f7f7"
            ],
            [
             0.6,
             "#e6f5d0"
            ],
            [
             0.7,
             "#b8e186"
            ],
            [
             0.8,
             "#7fbc41"
            ],
            [
             0.9,
             "#4d9221"
            ],
            [
             1,
             "#276419"
            ]
           ],
           "sequential": [
            [
             0,
             "#0d0887"
            ],
            [
             0.1111111111111111,
             "#46039f"
            ],
            [
             0.2222222222222222,
             "#7201a8"
            ],
            [
             0.3333333333333333,
             "#9c179e"
            ],
            [
             0.4444444444444444,
             "#bd3786"
            ],
            [
             0.5555555555555556,
             "#d8576b"
            ],
            [
             0.6666666666666666,
             "#ed7953"
            ],
            [
             0.7777777777777778,
             "#fb9f3a"
            ],
            [
             0.8888888888888888,
             "#fdca26"
            ],
            [
             1,
             "#f0f921"
            ]
           ],
           "sequentialminus": [
            [
             0,
             "#0d0887"
            ],
            [
             0.1111111111111111,
             "#46039f"
            ],
            [
             0.2222222222222222,
             "#7201a8"
            ],
            [
             0.3333333333333333,
             "#9c179e"
            ],
            [
             0.4444444444444444,
             "#bd3786"
            ],
            [
             0.5555555555555556,
             "#d8576b"
            ],
            [
             0.6666666666666666,
             "#ed7953"
            ],
            [
             0.7777777777777778,
             "#fb9f3a"
            ],
            [
             0.8888888888888888,
             "#fdca26"
            ],
            [
             1,
             "#f0f921"
            ]
           ]
          },
          "colorway": [
           "#636efa",
           "#EF553B",
           "#00cc96",
           "#ab63fa",
           "#FFA15A",
           "#19d3f3",
           "#FF6692",
           "#B6E880",
           "#FF97FF",
           "#FECB52"
          ],
          "font": {
           "color": "#2a3f5f"
          },
          "geo": {
           "bgcolor": "white",
           "lakecolor": "white",
           "landcolor": "#E5ECF6",
           "showlakes": true,
           "showland": true,
           "subunitcolor": "white"
          },
          "hoverlabel": {
           "align": "left"
          },
          "hovermode": "closest",
          "mapbox": {
           "style": "light"
          },
          "paper_bgcolor": "white",
          "plot_bgcolor": "#E5ECF6",
          "polar": {
           "angularaxis": {
            "gridcolor": "white",
            "linecolor": "white",
            "ticks": ""
           },
           "bgcolor": "#E5ECF6",
           "radialaxis": {
            "gridcolor": "white",
            "linecolor": "white",
            "ticks": ""
           }
          },
          "scene": {
           "xaxis": {
            "backgroundcolor": "#E5ECF6",
            "gridcolor": "white",
            "gridwidth": 2,
            "linecolor": "white",
            "showbackground": true,
            "ticks": "",
            "zerolinecolor": "white"
           },
           "yaxis": {
            "backgroundcolor": "#E5ECF6",
            "gridcolor": "white",
            "gridwidth": 2,
            "linecolor": "white",
            "showbackground": true,
            "ticks": "",
            "zerolinecolor": "white"
           },
           "zaxis": {
            "backgroundcolor": "#E5ECF6",
            "gridcolor": "white",
            "gridwidth": 2,
            "linecolor": "white",
            "showbackground": true,
            "ticks": "",
            "zerolinecolor": "white"
           }
          },
          "shapedefaults": {
           "line": {
            "color": "#2a3f5f"
           }
          },
          "ternary": {
           "aaxis": {
            "gridcolor": "white",
            "linecolor": "white",
            "ticks": ""
           },
           "baxis": {
            "gridcolor": "white",
            "linecolor": "white",
            "ticks": ""
           },
           "bgcolor": "#E5ECF6",
           "caxis": {
            "gridcolor": "white",
            "linecolor": "white",
            "ticks": ""
           }
          },
          "title": {
           "x": 0.05
          },
          "xaxis": {
           "automargin": true,
           "gridcolor": "white",
           "linecolor": "white",
           "ticks": "",
           "title": {
            "standoff": 15
           },
           "zerolinecolor": "white",
           "zerolinewidth": 2
          },
          "yaxis": {
           "automargin": true,
           "gridcolor": "white",
           "linecolor": "white",
           "ticks": "",
           "title": {
            "standoff": 15
           },
           "zerolinecolor": "white",
           "zerolinewidth": 2
          }
         }
        }
       }
      },
      "text/html": [
       "<div>                            <div id=\"f743fabe-7ec3-4642-848b-0ed54228b687\" class=\"plotly-graph-div\" style=\"height:525px; width:100%;\"></div>            <script type=\"text/javascript\">                require([\"plotly\"], function(Plotly) {                    window.PLOTLYENV=window.PLOTLYENV || {};                                    if (document.getElementById(\"f743fabe-7ec3-4642-848b-0ed54228b687\")) {                    Plotly.newPlot(                        \"f743fabe-7ec3-4642-848b-0ed54228b687\",                        [{\"hoverinfo\":\"none\",\"line\":{\"color\":\"rgb(210,210,210)\",\"width\":1},\"mode\":\"lines\",\"x\":[0.0,-5.3125,null,0.0,5.3125,null,-5.3125,-9.1875,null,-5.3125,-1.4375,null,5.3125,3.3125,null,5.3125,7.3125,null,-9.1875,-11.1875,null,-9.1875,-7.1875,null,-1.4375,-3.1875,null,-1.4375,0.3125,null,3.3125,2.3125,null,3.3125,4.3125,null,7.3125,6.3125,null,7.3125,8.3125,null,-11.1875,-12.1875,null,-11.1875,-10.1875,null,-7.1875,-8.1875,null,-7.1875,-6.1875,null,0.3125,-0.1875,null,0.3125,0.8125,null,6.3125,5.8125,null,6.3125,6.8125,null,-0.1875,-0.6875,null,-0.1875,0.3125,null],\"y\":[8.0,7.0,null,8.0,7.0,null,7.0,6.0,null,7.0,6.0,null,7.0,6.0,null,7.0,6.0,null,6.0,5.0,null,6.0,5.0,null,6.0,5.0,null,6.0,5.0,null,6.0,5.0,null,6.0,5.0,null,6.0,5.0,null,6.0,5.0,null,5.0,4.0,null,5.0,4.0,null,5.0,4.0,null,5.0,4.0,null,5.0,4.0,null,5.0,4.0,null,5.0,4.0,null,5.0,4.0,null,4.0,3.0,null,4.0,3.0,null],\"type\":\"scatter\"},{\"hoverinfo\":\"text\",\"marker\":{\"color\":\"#6175c1\",\"line\":{\"color\":\"rgb(50,50,50)\",\"width\":1},\"size\":18,\"symbol\":\"circle-dot\"},\"mode\":\"markers\",\"name\":\"Nodes\",\"opacity\":0.8,\"text\":[\"1\",\"2\",\"3\",\"4\",\"5\",\"6\",\"7\",\"8\",\"9\",\"10\",\"11\",\"12\",\"13\",\"14\",\"15\",\"16\",\"17\",\"18\",\"19\",\"22\",\"23\",\"28\",\"29\",\"44\",\"45\"],\"x\":[0.0,-5.3125,5.3125,-9.1875,-1.4375,3.3125,7.3125,-11.1875,-7.1875,-3.1875,0.3125,2.3125,4.3125,6.3125,8.3125,-12.1875,-10.1875,-8.1875,-6.1875,-0.1875,0.8125,5.8125,6.8125,-0.6875,0.3125],\"y\":[8.0,7.0,7.0,6.0,6.0,6.0,6.0,5.0,5.0,5.0,5.0,5.0,5.0,5.0,5.0,4.0,4.0,4.0,4.0,4.0,4.0,4.0,4.0,3.0,3.0],\"type\":\"scatter\"}],                        {\"template\":{\"data\":{\"histogram2dcontour\":[{\"type\":\"histogram2dcontour\",\"colorbar\":{\"outlinewidth\":0,\"ticks\":\"\"},\"colorscale\":[[0.0,\"#0d0887\"],[0.1111111111111111,\"#46039f\"],[0.2222222222222222,\"#7201a8\"],[0.3333333333333333,\"#9c179e\"],[0.4444444444444444,\"#bd3786\"],[0.5555555555555556,\"#d8576b\"],[0.6666666666666666,\"#ed7953\"],[0.7777777777777778,\"#fb9f3a\"],[0.8888888888888888,\"#fdca26\"],[1.0,\"#f0f921\"]]}],\"choropleth\":[{\"type\":\"choropleth\",\"colorbar\":{\"outlinewidth\":0,\"ticks\":\"\"}}],\"histogram2d\":[{\"type\":\"histogram2d\",\"colorbar\":{\"outlinewidth\":0,\"ticks\":\"\"},\"colorscale\":[[0.0,\"#0d0887\"],[0.1111111111111111,\"#46039f\"],[0.2222222222222222,\"#7201a8\"],[0.3333333333333333,\"#9c179e\"],[0.4444444444444444,\"#bd3786\"],[0.5555555555555556,\"#d8576b\"],[0.6666666666666666,\"#ed7953\"],[0.7777777777777778,\"#fb9f3a\"],[0.8888888888888888,\"#fdca26\"],[1.0,\"#f0f921\"]]}],\"heatmap\":[{\"type\":\"heatmap\",\"colorbar\":{\"outlinewidth\":0,\"ticks\":\"\"},\"colorscale\":[[0.0,\"#0d0887\"],[0.1111111111111111,\"#46039f\"],[0.2222222222222222,\"#7201a8\"],[0.3333333333333333,\"#9c179e\"],[0.4444444444444444,\"#bd3786\"],[0.5555555555555556,\"#d8576b\"],[0.6666666666666666,\"#ed7953\"],[0.7777777777777778,\"#fb9f3a\"],[0.8888888888888888,\"#fdca26\"],[1.0,\"#f0f921\"]]}],\"heatmapgl\":[{\"type\":\"heatmapgl\",\"colorbar\":{\"outlinewidth\":0,\"ticks\":\"\"},\"colorscale\":[[0.0,\"#0d0887\"],[0.1111111111111111,\"#46039f\"],[0.2222222222222222,\"#7201a8\"],[0.3333333333333333,\"#9c179e\"],[0.4444444444444444,\"#bd3786\"],[0.5555555555555556,\"#d8576b\"],[0.6666666666666666,\"#ed7953\"],[0.7777777777777778,\"#fb9f3a\"],[0.8888888888888888,\"#fdca26\"],[1.0,\"#f0f921\"]]}],\"contourcarpet\":[{\"type\":\"contourcarpet\",\"colorbar\":{\"outlinewidth\":0,\"ticks\":\"\"}}],\"contour\":[{\"type\":\"contour\",\"colorbar\":{\"outlinewidth\":0,\"ticks\":\"\"},\"colorscale\":[[0.0,\"#0d0887\"],[0.1111111111111111,\"#46039f\"],[0.2222222222222222,\"#7201a8\"],[0.3333333333333333,\"#9c179e\"],[0.4444444444444444,\"#bd3786\"],[0.5555555555555556,\"#d8576b\"],[0.6666666666666666,\"#ed7953\"],[0.7777777777777778,\"#fb9f3a\"],[0.8888888888888888,\"#fdca26\"],[1.0,\"#f0f921\"]]}],\"surface\":[{\"type\":\"surface\",\"colorbar\":{\"outlinewidth\":0,\"ticks\":\"\"},\"colorscale\":[[0.0,\"#0d0887\"],[0.1111111111111111,\"#46039f\"],[0.2222222222222222,\"#7201a8\"],[0.3333333333333333,\"#9c179e\"],[0.4444444444444444,\"#bd3786\"],[0.5555555555555556,\"#d8576b\"],[0.6666666666666666,\"#ed7953\"],[0.7777777777777778,\"#fb9f3a\"],[0.8888888888888888,\"#fdca26\"],[1.0,\"#f0f921\"]]}],\"mesh3d\":[{\"type\":\"mesh3d\",\"colorbar\":{\"outlinewidth\":0,\"ticks\":\"\"}}],\"scatter\":[{\"fillpattern\":{\"fillmode\":\"overlay\",\"size\":10,\"solidity\":0.2},\"type\":\"scatter\"}],\"parcoords\":[{\"type\":\"parcoords\",\"line\":{\"colorbar\":{\"outlinewidth\":0,\"ticks\":\"\"}}}],\"scatterpolargl\":[{\"type\":\"scatterpolargl\",\"marker\":{\"colorbar\":{\"outlinewidth\":0,\"ticks\":\"\"}}}],\"bar\":[{\"error_x\":{\"color\":\"#2a3f5f\"},\"error_y\":{\"color\":\"#2a3f5f\"},\"marker\":{\"line\":{\"color\":\"#E5ECF6\",\"width\":0.5},\"pattern\":{\"fillmode\":\"overlay\",\"size\":10,\"solidity\":0.2}},\"type\":\"bar\"}],\"scattergeo\":[{\"type\":\"scattergeo\",\"marker\":{\"colorbar\":{\"outlinewidth\":0,\"ticks\":\"\"}}}],\"scatterpolar\":[{\"type\":\"scatterpolar\",\"marker\":{\"colorbar\":{\"outlinewidth\":0,\"ticks\":\"\"}}}],\"histogram\":[{\"marker\":{\"pattern\":{\"fillmode\":\"overlay\",\"size\":10,\"solidity\":0.2}},\"type\":\"histogram\"}],\"scattergl\":[{\"type\":\"scattergl\",\"marker\":{\"colorbar\":{\"outlinewidth\":0,\"ticks\":\"\"}}}],\"scatter3d\":[{\"type\":\"scatter3d\",\"line\":{\"colorbar\":{\"outlinewidth\":0,\"ticks\":\"\"}},\"marker\":{\"colorbar\":{\"outlinewidth\":0,\"ticks\":\"\"}}}],\"scattermapbox\":[{\"type\":\"scattermapbox\",\"marker\":{\"colorbar\":{\"outlinewidth\":0,\"ticks\":\"\"}}}],\"scatterternary\":[{\"type\":\"scatterternary\",\"marker\":{\"colorbar\":{\"outlinewidth\":0,\"ticks\":\"\"}}}],\"scattercarpet\":[{\"type\":\"scattercarpet\",\"marker\":{\"colorbar\":{\"outlinewidth\":0,\"ticks\":\"\"}}}],\"carpet\":[{\"aaxis\":{\"endlinecolor\":\"#2a3f5f\",\"gridcolor\":\"white\",\"linecolor\":\"white\",\"minorgridcolor\":\"white\",\"startlinecolor\":\"#2a3f5f\"},\"baxis\":{\"endlinecolor\":\"#2a3f5f\",\"gridcolor\":\"white\",\"linecolor\":\"white\",\"minorgridcolor\":\"white\",\"startlinecolor\":\"#2a3f5f\"},\"type\":\"carpet\"}],\"table\":[{\"cells\":{\"fill\":{\"color\":\"#EBF0F8\"},\"line\":{\"color\":\"white\"}},\"header\":{\"fill\":{\"color\":\"#C8D4E3\"},\"line\":{\"color\":\"white\"}},\"type\":\"table\"}],\"barpolar\":[{\"marker\":{\"line\":{\"color\":\"#E5ECF6\",\"width\":0.5},\"pattern\":{\"fillmode\":\"overlay\",\"size\":10,\"solidity\":0.2}},\"type\":\"barpolar\"}],\"pie\":[{\"automargin\":true,\"type\":\"pie\"}]},\"layout\":{\"autotypenumbers\":\"strict\",\"colorway\":[\"#636efa\",\"#EF553B\",\"#00cc96\",\"#ab63fa\",\"#FFA15A\",\"#19d3f3\",\"#FF6692\",\"#B6E880\",\"#FF97FF\",\"#FECB52\"],\"font\":{\"color\":\"#2a3f5f\"},\"hovermode\":\"closest\",\"hoverlabel\":{\"align\":\"left\"},\"paper_bgcolor\":\"white\",\"plot_bgcolor\":\"#E5ECF6\",\"polar\":{\"bgcolor\":\"#E5ECF6\",\"angularaxis\":{\"gridcolor\":\"white\",\"linecolor\":\"white\",\"ticks\":\"\"},\"radialaxis\":{\"gridcolor\":\"white\",\"linecolor\":\"white\",\"ticks\":\"\"}},\"ternary\":{\"bgcolor\":\"#E5ECF6\",\"aaxis\":{\"gridcolor\":\"white\",\"linecolor\":\"white\",\"ticks\":\"\"},\"baxis\":{\"gridcolor\":\"white\",\"linecolor\":\"white\",\"ticks\":\"\"},\"caxis\":{\"gridcolor\":\"white\",\"linecolor\":\"white\",\"ticks\":\"\"}},\"coloraxis\":{\"colorbar\":{\"outlinewidth\":0,\"ticks\":\"\"}},\"colorscale\":{\"sequential\":[[0.0,\"#0d0887\"],[0.1111111111111111,\"#46039f\"],[0.2222222222222222,\"#7201a8\"],[0.3333333333333333,\"#9c179e\"],[0.4444444444444444,\"#bd3786\"],[0.5555555555555556,\"#d8576b\"],[0.6666666666666666,\"#ed7953\"],[0.7777777777777778,\"#fb9f3a\"],[0.8888888888888888,\"#fdca26\"],[1.0,\"#f0f921\"]],\"sequentialminus\":[[0.0,\"#0d0887\"],[0.1111111111111111,\"#46039f\"],[0.2222222222222222,\"#7201a8\"],[0.3333333333333333,\"#9c179e\"],[0.4444444444444444,\"#bd3786\"],[0.5555555555555556,\"#d8576b\"],[0.6666666666666666,\"#ed7953\"],[0.7777777777777778,\"#fb9f3a\"],[0.8888888888888888,\"#fdca26\"],[1.0,\"#f0f921\"]],\"diverging\":[[0,\"#8e0152\"],[0.1,\"#c51b7d\"],[0.2,\"#de77ae\"],[0.3,\"#f1b6da\"],[0.4,\"#fde0ef\"],[0.5,\"#f7f7f7\"],[0.6,\"#e6f5d0\"],[0.7,\"#b8e186\"],[0.8,\"#7fbc41\"],[0.9,\"#4d9221\"],[1,\"#276419\"]]},\"xaxis\":{\"gridcolor\":\"white\",\"linecolor\":\"white\",\"ticks\":\"\",\"title\":{\"standoff\":15},\"zerolinecolor\":\"white\",\"automargin\":true,\"zerolinewidth\":2},\"yaxis\":{\"gridcolor\":\"white\",\"linecolor\":\"white\",\"ticks\":\"\",\"title\":{\"standoff\":15},\"zerolinecolor\":\"white\",\"automargin\":true,\"zerolinewidth\":2},\"scene\":{\"xaxis\":{\"backgroundcolor\":\"#E5ECF6\",\"gridcolor\":\"white\",\"linecolor\":\"white\",\"showbackground\":true,\"ticks\":\"\",\"zerolinecolor\":\"white\",\"gridwidth\":2},\"yaxis\":{\"backgroundcolor\":\"#E5ECF6\",\"gridcolor\":\"white\",\"linecolor\":\"white\",\"showbackground\":true,\"ticks\":\"\",\"zerolinecolor\":\"white\",\"gridwidth\":2},\"zaxis\":{\"backgroundcolor\":\"#E5ECF6\",\"gridcolor\":\"white\",\"linecolor\":\"white\",\"showbackground\":true,\"ticks\":\"\",\"zerolinecolor\":\"white\",\"gridwidth\":2}},\"shapedefaults\":{\"line\":{\"color\":\"#2a3f5f\"}},\"annotationdefaults\":{\"arrowcolor\":\"#2a3f5f\",\"arrowhead\":0,\"arrowwidth\":1},\"geo\":{\"bgcolor\":\"white\",\"landcolor\":\"#E5ECF6\",\"subunitcolor\":\"white\",\"showland\":true,\"showlakes\":true,\"lakecolor\":\"white\"},\"title\":{\"x\":0.05},\"mapbox\":{\"style\":\"light\"}}}},                        {\"responsive\": true}                    ).then(function(){\n",
       "                            \n",
       "var gd = document.getElementById('f743fabe-7ec3-4642-848b-0ed54228b687');\n",
       "var x = new MutationObserver(function (mutations, observer) {{\n",
       "        var display = window.getComputedStyle(gd).display;\n",
       "        if (!display || display === 'none') {{\n",
       "            console.log([gd, 'removed!']);\n",
       "            Plotly.purge(gd);\n",
       "            observer.disconnect();\n",
       "        }}\n",
       "}});\n",
       "\n",
       "// Listen for the removal of the full notebook cells\n",
       "var notebookContainer = gd.closest('#notebook-container');\n",
       "if (notebookContainer) {{\n",
       "    x.observe(notebookContainer, {childList: true});\n",
       "}}\n",
       "\n",
       "// Listen for the clearing of the current output cell\n",
       "var outputEl = gd.closest('.output');\n",
       "if (outputEl) {{\n",
       "    x.observe(outputEl, {childList: true});\n",
       "}}\n",
       "\n",
       "                        })                };                });            </script>        </div>"
      ]
     },
     "metadata": {},
     "output_type": "display_data"
    }
   ],
   "source": [
    "import igraph\n",
    "from igraph import Graph, EdgeSeq\n",
    "\n",
    "father_list = sorted([16, 17, 18, 19, 10, 23, 44, 45, 12, 13, 15, 28, 29, 1, 2, 4, 8, 9, 5, 11, 22, 3, 6, 7, 14])\n",
    "\n",
    "nr_vertices = max(father_list) #make too many to allow for missing nodes\n",
    "\n",
    "v_label = list(map(str, father_list) )                    # create node labbels \n",
    "\n",
    "\n",
    "G = Graph.Tree(nr_vertices, 2) # 2 stands for children number\n",
    "lay = G.layout_reingold_tilford(root=[0])\n",
    "\n",
    "\n",
    "\n",
    "position = {k: lay[k-1] for k in father_list}    #assigning nodes to positions \n",
    "\n",
    "Y = [lay[k][1] for k in range(len(father_list))]\n",
    "M = max(Y)\n",
    "\n",
    "es = EdgeSeq(G) # sequence of edges\n",
    "E = [e.tuple for e in G.es] # list of edges\n",
    "\n",
    "\n",
    "L = len(position)\n",
    "Xn = [position[k][0] for k in father_list]\n",
    "Yn = [2*M-position[k][1] for k in father_list]\n",
    "\n",
    "\n",
    "\n",
    "a = 0\n",
    "while a<10:\n",
    "\n",
    "    for edge in E:\n",
    "        if edge[0] +1 not in position or edge[1]+1 not in position:\n",
    "            E.remove(edge) \n",
    "    a+=1\n",
    "\n",
    "Xe = []\n",
    "Ye = []\n",
    "\n",
    "\n",
    "\n",
    "for edge in E:\n",
    "    \n",
    "    \n",
    "    Xe+=[position[edge[0]+1][0],position[edge[1]+1][0], None]\n",
    "    Ye+=[2*M-position[edge[0]+1][1],2*M-position[edge[1]+1][1], None]\n",
    "\n",
    "\n",
    "\n",
    "for label in v_label:\n",
    "    print(label)\n",
    "    print(type(label))\n",
    "    \n",
    "labels = v_label\n",
    "\n",
    "\n",
    "\n",
    "#Drawing\n",
    "\n",
    "import plotly.graph_objects as go\n",
    "fig = go.Figure()\n",
    "#fig.add_annotation(name=\"Graph\")\n",
    "fig.add_trace(go.Scatter(x=Xe,\n",
    "                   y=Ye,\n",
    "                   mode='lines',\n",
    "                   line=dict(color='rgb(210,210,210)', width=1),\n",
    "                   hoverinfo='none'\n",
    "                   ))\n",
    "fig.add_trace(go.Scatter(x=Xn,\n",
    "                  y=Yn,\n",
    "                  mode='markers',\n",
    "                  name='Nodes',\n",
    "                  marker=dict(symbol='circle-dot',\n",
    "                                size=18,\n",
    "                                color='#6175c1',    #'#DB4551',\n",
    "                                line=dict(color='rgb(50,50,50)', width=1)\n",
    "                                ),\n",
    "                  text=labels,\n",
    "                  hoverinfo='text',\n",
    "                  opacity=0.8\n",
    "                  ))"
   ]
  },
  {
   "cell_type": "code",
   "execution_count": 1,
   "id": "ab902854",
   "metadata": {},
   "outputs": [
    {
     "data": {
      "text/plain": [
       "<function __main__.fun()>"
      ]
     },
     "execution_count": 1,
     "metadata": {},
     "output_type": "execute_result"
    }
   ],
   "source": [
    "def fun():\n",
    "    print(cat)\n",
    "    \n",
    "fun"
   ]
  },
  {
   "cell_type": "code",
   "execution_count": null,
   "id": "24791e85",
   "metadata": {},
   "outputs": [],
   "source": []
  }
 ],
 "metadata": {
  "kernelspec": {
   "display_name": "Python 3",
   "language": "python",
   "name": "python3"
  },
  "language_info": {
   "codemirror_mode": {
    "name": "ipython",
    "version": 3
   },
   "file_extension": ".py",
   "mimetype": "text/x-python",
   "name": "python",
   "nbconvert_exporter": "python",
   "pygments_lexer": "ipython3",
   "version": "3.8.8"
  }
 },
 "nbformat": 4,
 "nbformat_minor": 5
}
