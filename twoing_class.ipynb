{
 "cells": [
  {
   "cell_type": "code",
   "execution_count": 1,
   "metadata": {},
   "outputs": [
    {
     "name": "stderr",
     "output_type": "stream",
     "text": [
      "C:\\Users\\danie\\AppData\\Local\\Temp\\ipykernel_14832\\1183594070.py:1: DeprecationWarning: \n",
      "Pyarrow will become a required dependency of pandas in the next major release of pandas (pandas 3.0),\n",
      "(to allow more performant data types, such as the Arrow string type, and better interoperability with other libraries)\n",
      "but was not found to be installed on your system.\n",
      "If this would cause problems for you,\n",
      "please provide us feedback at https://github.com/pandas-dev/pandas/issues/54466\n",
      "        \n",
      "  import pandas as pd\n"
     ]
    }
   ],
   "source": [
    "import pandas as pd\n",
    "import numpy as np\n",
    "\n",
    "from TREEplus import *"
   ]
  },
  {
   "cell_type": "code",
   "execution_count": 2,
   "metadata": {},
   "outputs": [
    {
     "name": "stdout",
     "output_type": "stream",
     "text": [
      "(81086, 32)\n"
     ]
    },
    {
     "data": {
      "text/html": [
       "<div>\n",
       "<style scoped>\n",
       "    .dataframe tbody tr th:only-of-type {\n",
       "        vertical-align: middle;\n",
       "    }\n",
       "\n",
       "    .dataframe tbody tr th {\n",
       "        vertical-align: top;\n",
       "    }\n",
       "\n",
       "    .dataframe thead th {\n",
       "        text-align: right;\n",
       "    }\n",
       "</style>\n",
       "<table border=\"1\" class=\"dataframe\">\n",
       "  <thead>\n",
       "    <tr style=\"text-align: right;\">\n",
       "      <th></th>\n",
       "      <th>trip_id</th>\n",
       "      <th>household_id</th>\n",
       "      <th>person_n</th>\n",
       "      <th>trip_n</th>\n",
       "      <th>travel_mode</th>\n",
       "      <th>purpose</th>\n",
       "      <th>fueltype</th>\n",
       "      <th>faretype</th>\n",
       "      <th>bus_scale</th>\n",
       "      <th>survey_year</th>\n",
       "      <th>travel_year</th>\n",
       "      <th>travel_month</th>\n",
       "      <th>travel_date</th>\n",
       "      <th>day_of_week</th>\n",
       "      <th>start_time</th>\n",
       "      <th>age</th>\n",
       "      <th>female</th>\n",
       "      <th>driving_license</th>\n",
       "      <th>car_ownership</th>\n",
       "      <th>distance</th>\n",
       "      <th>dur_walking</th>\n",
       "      <th>dur_cycling</th>\n",
       "      <th>dur_pt_access</th>\n",
       "      <th>dur_pt_rail</th>\n",
       "      <th>dur_pt_bus</th>\n",
       "      <th>dur_pt_int</th>\n",
       "      <th>pt_interchanges</th>\n",
       "      <th>dur_driving</th>\n",
       "      <th>cost_transit</th>\n",
       "      <th>cost_driving_fuel</th>\n",
       "      <th>cost_driving_ccharge</th>\n",
       "      <th>driving_traffic_percent</th>\n",
       "    </tr>\n",
       "  </thead>\n",
       "  <tbody>\n",
       "    <tr>\n",
       "      <th>0</th>\n",
       "      <td>0</td>\n",
       "      <td>0</td>\n",
       "      <td>0</td>\n",
       "      <td>0</td>\n",
       "      <td>4</td>\n",
       "      <td>3</td>\n",
       "      <td>1</td>\n",
       "      <td>1</td>\n",
       "      <td>1.0</td>\n",
       "      <td>1</td>\n",
       "      <td>2012</td>\n",
       "      <td>4</td>\n",
       "      <td>1</td>\n",
       "      <td>7</td>\n",
       "      <td>10.000000</td>\n",
       "      <td>56</td>\n",
       "      <td>1</td>\n",
       "      <td>1</td>\n",
       "      <td>2</td>\n",
       "      <td>778</td>\n",
       "      <td>0.218056</td>\n",
       "      <td>0.092222</td>\n",
       "      <td>0.134444</td>\n",
       "      <td>0.0</td>\n",
       "      <td>0.016667</td>\n",
       "      <td>0.0</td>\n",
       "      <td>0</td>\n",
       "      <td>0.052222</td>\n",
       "      <td>1.5</td>\n",
       "      <td>0.14</td>\n",
       "      <td>0.0</td>\n",
       "      <td>0.111702</td>\n",
       "    </tr>\n",
       "    <tr>\n",
       "      <th>1</th>\n",
       "      <td>1</td>\n",
       "      <td>0</td>\n",
       "      <td>0</td>\n",
       "      <td>1</td>\n",
       "      <td>4</td>\n",
       "      <td>3</td>\n",
       "      <td>1</td>\n",
       "      <td>1</td>\n",
       "      <td>1.0</td>\n",
       "      <td>1</td>\n",
       "      <td>2012</td>\n",
       "      <td>4</td>\n",
       "      <td>1</td>\n",
       "      <td>7</td>\n",
       "      <td>13.000000</td>\n",
       "      <td>56</td>\n",
       "      <td>1</td>\n",
       "      <td>1</td>\n",
       "      <td>2</td>\n",
       "      <td>778</td>\n",
       "      <td>0.188889</td>\n",
       "      <td>0.061944</td>\n",
       "      <td>0.109444</td>\n",
       "      <td>0.0</td>\n",
       "      <td>0.055556</td>\n",
       "      <td>0.0</td>\n",
       "      <td>0</td>\n",
       "      <td>0.059444</td>\n",
       "      <td>1.5</td>\n",
       "      <td>0.15</td>\n",
       "      <td>0.0</td>\n",
       "      <td>0.112150</td>\n",
       "    </tr>\n",
       "    <tr>\n",
       "      <th>2</th>\n",
       "      <td>2</td>\n",
       "      <td>0</td>\n",
       "      <td>0</td>\n",
       "      <td>2</td>\n",
       "      <td>4</td>\n",
       "      <td>3</td>\n",
       "      <td>1</td>\n",
       "      <td>1</td>\n",
       "      <td>1.0</td>\n",
       "      <td>1</td>\n",
       "      <td>2012</td>\n",
       "      <td>4</td>\n",
       "      <td>1</td>\n",
       "      <td>7</td>\n",
       "      <td>17.000000</td>\n",
       "      <td>56</td>\n",
       "      <td>1</td>\n",
       "      <td>1</td>\n",
       "      <td>2</td>\n",
       "      <td>4562</td>\n",
       "      <td>1.037778</td>\n",
       "      <td>0.355833</td>\n",
       "      <td>0.203056</td>\n",
       "      <td>0.0</td>\n",
       "      <td>0.210278</td>\n",
       "      <td>0.0</td>\n",
       "      <td>0</td>\n",
       "      <td>0.236667</td>\n",
       "      <td>1.5</td>\n",
       "      <td>0.79</td>\n",
       "      <td>0.0</td>\n",
       "      <td>0.203052</td>\n",
       "    </tr>\n",
       "    <tr>\n",
       "      <th>3</th>\n",
       "      <td>3</td>\n",
       "      <td>0</td>\n",
       "      <td>0</td>\n",
       "      <td>3</td>\n",
       "      <td>4</td>\n",
       "      <td>3</td>\n",
       "      <td>1</td>\n",
       "      <td>1</td>\n",
       "      <td>1.0</td>\n",
       "      <td>1</td>\n",
       "      <td>2012</td>\n",
       "      <td>4</td>\n",
       "      <td>1</td>\n",
       "      <td>7</td>\n",
       "      <td>17.350000</td>\n",
       "      <td>56</td>\n",
       "      <td>1</td>\n",
       "      <td>1</td>\n",
       "      <td>2</td>\n",
       "      <td>4562</td>\n",
       "      <td>1.039444</td>\n",
       "      <td>0.384444</td>\n",
       "      <td>0.205556</td>\n",
       "      <td>0.0</td>\n",
       "      <td>0.258611</td>\n",
       "      <td>0.0</td>\n",
       "      <td>0</td>\n",
       "      <td>0.233333</td>\n",
       "      <td>1.5</td>\n",
       "      <td>0.78</td>\n",
       "      <td>0.0</td>\n",
       "      <td>0.160714</td>\n",
       "    </tr>\n",
       "    <tr>\n",
       "      <th>4</th>\n",
       "      <td>4</td>\n",
       "      <td>0</td>\n",
       "      <td>1</td>\n",
       "      <td>2</td>\n",
       "      <td>4</td>\n",
       "      <td>3</td>\n",
       "      <td>1</td>\n",
       "      <td>4</td>\n",
       "      <td>1.0</td>\n",
       "      <td>1</td>\n",
       "      <td>2012</td>\n",
       "      <td>4</td>\n",
       "      <td>1</td>\n",
       "      <td>7</td>\n",
       "      <td>19.583333</td>\n",
       "      <td>54</td>\n",
       "      <td>0</td>\n",
       "      <td>1</td>\n",
       "      <td>2</td>\n",
       "      <td>4562</td>\n",
       "      <td>1.037778</td>\n",
       "      <td>0.355833</td>\n",
       "      <td>0.203056</td>\n",
       "      <td>0.0</td>\n",
       "      <td>0.189444</td>\n",
       "      <td>0.0</td>\n",
       "      <td>0</td>\n",
       "      <td>0.229167</td>\n",
       "      <td>1.5</td>\n",
       "      <td>0.78</td>\n",
       "      <td>0.0</td>\n",
       "      <td>0.130909</td>\n",
       "    </tr>\n",
       "  </tbody>\n",
       "</table>\n",
       "</div>"
      ],
      "text/plain": [
       "   trip_id  household_id  person_n  trip_n  travel_mode  purpose  fueltype  \\\n",
       "0        0             0         0       0            4        3         1   \n",
       "1        1             0         0       1            4        3         1   \n",
       "2        2             0         0       2            4        3         1   \n",
       "3        3             0         0       3            4        3         1   \n",
       "4        4             0         1       2            4        3         1   \n",
       "\n",
       "   faretype  bus_scale  survey_year  travel_year  travel_month  travel_date  \\\n",
       "0         1        1.0            1         2012             4            1   \n",
       "1         1        1.0            1         2012             4            1   \n",
       "2         1        1.0            1         2012             4            1   \n",
       "3         1        1.0            1         2012             4            1   \n",
       "4         4        1.0            1         2012             4            1   \n",
       "\n",
       "   day_of_week  start_time  age  female  driving_license  car_ownership  \\\n",
       "0            7   10.000000   56       1                1              2   \n",
       "1            7   13.000000   56       1                1              2   \n",
       "2            7   17.000000   56       1                1              2   \n",
       "3            7   17.350000   56       1                1              2   \n",
       "4            7   19.583333   54       0                1              2   \n",
       "\n",
       "   distance  dur_walking  dur_cycling  dur_pt_access  dur_pt_rail  dur_pt_bus  \\\n",
       "0       778     0.218056     0.092222       0.134444          0.0    0.016667   \n",
       "1       778     0.188889     0.061944       0.109444          0.0    0.055556   \n",
       "2      4562     1.037778     0.355833       0.203056          0.0    0.210278   \n",
       "3      4562     1.039444     0.384444       0.205556          0.0    0.258611   \n",
       "4      4562     1.037778     0.355833       0.203056          0.0    0.189444   \n",
       "\n",
       "   dur_pt_int  pt_interchanges  dur_driving  cost_transit  cost_driving_fuel  \\\n",
       "0         0.0                0     0.052222           1.5               0.14   \n",
       "1         0.0                0     0.059444           1.5               0.15   \n",
       "2         0.0                0     0.236667           1.5               0.79   \n",
       "3         0.0                0     0.233333           1.5               0.78   \n",
       "4         0.0                0     0.229167           1.5               0.78   \n",
       "\n",
       "   cost_driving_ccharge  driving_traffic_percent  \n",
       "0                   0.0                 0.111702  \n",
       "1                   0.0                 0.112150  \n",
       "2                   0.0                 0.203052  \n",
       "3                   0.0                 0.160714  \n",
       "4                   0.0                 0.130909  "
      ]
     },
     "execution_count": 2,
     "metadata": {},
     "output_type": "execute_result"
    }
   ],
   "source": [
    "pd.options.display.max_columns = None\n",
    "dataframe = pd.read_table('lpmc.dat')\n",
    "print(dataframe.shape)\n",
    "dataframe.head()"
   ]
  },
  {
   "cell_type": "code",
   "execution_count": 3,
   "metadata": {},
   "outputs": [],
   "source": [
    "#binning age\n",
    "\n",
    "groupDict={'0-18':0,'19-30':0,'31-65':0, '66+': 0}\n",
    "\n",
    "for i in dataframe['age']:\n",
    "    if i>=0 and i<=10:\n",
    "        groupDict['0-18']+=1\n",
    "    elif i>=19 and i<=30:\n",
    "        groupDict['19-30']+=1\n",
    "    elif i>=31 and i<=65:\n",
    "        groupDict['31-65']+=1\n",
    "    else:\n",
    "        groupDict['66+']+=1\n",
    "\n",
    "dataframe.loc[dataframe['age']<=18, 'age_group'] = '0-18'\n",
    "dataframe.loc[dataframe['age'].between(19,30), 'age_group'] = '19-30'\n",
    "dataframe.loc[dataframe['age'].between(31,65), 'age_group'] = '31-65'\n",
    "dataframe.loc[dataframe['age']>65, 'age_group'] = '66+'\n",
    "dataframe.drop(['age'], axis= 1, inplace = True)\n",
    "\n",
    "\n",
    "#binning distance\n",
    "\n",
    "dataframe.loc[dataframe['distance']< 658.50, 'distance_group'] = 'distance01'\n",
    "dataframe.loc[dataframe['distance'].between(658.50,861.49), 'distance_group'] = 'distance02'\n",
    "dataframe.loc[dataframe['distance'].between(861.50,1214.49), 'distance_group'] = 'distance03'\n",
    "dataframe.loc[dataframe['distance'].between(1214.50,1514.49 ), 'distance_group'] = 'distance04'\n",
    "dataframe.loc[dataframe['distance'].between(1514.50, 2156.49), 'distance_group'] = 'distance05'\n",
    "dataframe.loc[dataframe['distance'].between(2156.50, 2759.49), 'distance_group'] = 'distance06'\n",
    "dataframe.loc[dataframe['distance'].between(2759.50, 4391.49), 'distance_group'] = 'distance07'\n",
    "dataframe.loc[dataframe['distance'].between(4391.50, 5369.49), 'distance_group'] = 'distance08'\n",
    "dataframe.loc[dataframe['distance'].between(5369.50, 10087.49), 'distance_group'] = 'distance09'\n",
    "dataframe.loc[dataframe['distance'].between(10087.50, 14695.49), 'distance_group'] = 'distance10'\n",
    "dataframe.loc[dataframe['distance']>=14695.50, 'distance_group'] = 'distance11'\n",
    "dataframe.drop('distance', axis = 1, inplace = True)\n",
    "\n",
    "#binning start time\n",
    "\n",
    "dataframe.loc[dataframe['start_time']<8.091666, 'starttime_group'] = 'early_morning'\n",
    "dataframe.loc[dataframe['start_time'].between(8.091666,10.00833320), 'starttime_group'] = 'morning'\n",
    "dataframe.loc[dataframe['start_time'].between(10.008333211,18.50833320), 'starttime_group'] = 'afternoon'\n",
    "dataframe.loc[dataframe['start_time']> 18.50833321, 'starttime_group'] = 'evening'\n",
    "dataframe.drop('start_time', axis = 1, inplace = True)\n",
    "\n",
    "#binning cost transit\n",
    "\n",
    "dataframe.loc[dataframe['cost_transit']< 1.52499998, 'cost_group'] = 'low_cost'\n",
    "dataframe.loc[dataframe['cost_transit'].between(1.52499998,3.01999997), 'cost_group'] = 'medium_cost'\n",
    "dataframe.loc[dataframe['cost_transit']> 3.01999998, 'cost_group'] = 'high_cost'\n",
    "dataframe.drop('cost_transit', axis = 1, inplace = True)\n",
    "\n",
    "#binning cost_driving_Fuel\n",
    "\n",
    "dataframe.loc[dataframe['cost_driving_fuel']< 0.165, 'costdrivingfuel_group'] = 'costdrivingfuelgroup1'\n",
    "dataframe.loc[dataframe['cost_driving_fuel'].between(0.165,0.204), 'costdrivingfuel_group'] = 'costdrivingfuelgroup2'\n",
    "dataframe.loc[dataframe['cost_driving_fuel'].between(0.205,0.244), 'costdrivingfuel_group'] = 'costdrivingfuelgroup3'\n",
    "dataframe.loc[dataframe['cost_driving_fuel'].between(0.245, 0.294), 'costdrivingfuel_group'] = 'costdrivingfuelgroup4'\n",
    "dataframe.loc[dataframe['cost_driving_fuel'].between(0.295, 0.354), 'costdrivingfuel_group'] = 'costdrivingfuelgroup5'\n",
    "dataframe.loc[dataframe['cost_driving_fuel'].between(0.355, 0.44499998), 'costdrivingfuel_group'] = 'costdrivingfuelgroup6'\n",
    "dataframe.loc[dataframe['cost_driving_fuel'].between(0.44499999, 0.83499997), 'costdrivingfuel_group'] = 'costdrivingfuelgroup7'\n",
    "dataframe.loc[dataframe['cost_driving_fuel'].between(0.83499998, 1.17499994), 'costdrivingfuel_group'] = 'costdrivingfuelgroup8'\n",
    "dataframe.loc[dataframe['cost_driving_fuel'].between(1.17499995, 2.31499993), 'costdrivingfuel_group'] = 'costdrivingfuelgroup9'\n",
    "dataframe.loc[dataframe['cost_driving_fuel']> 2.31499994, 'costdrivingfuel_group'] = 'costdrivingfuelgroup10'\n",
    "dataframe.drop('cost_driving_fuel', axis = 1, inplace = True)\n",
    "\n",
    "#binning driving traddic percent\n",
    "\n",
    "dataframe.loc[dataframe['driving_traffic_percent']< 0.24422751, 'trafficperc_group'] = '0low_traffic'\n",
    "dataframe.loc[dataframe['driving_traffic_percent'].between(0.24422751,0.36449698), 'trafficperc_group'] = '1mediumlow_traffic'\n",
    "dataframe.loc[dataframe['driving_traffic_percent'].between(0.36449699,0.49620750), 'trafficperc_group'] = '2medium_traffic'\n",
    "dataframe.loc[dataframe['driving_traffic_percent'].between(0.49620751, 0.57161700), 'trafficperc_group'] = '3mediumhigh_traffic'\n",
    "dataframe.loc[dataframe['driving_traffic_percent']> 0.57161701, 'trafficperc_group'] = '4high_traffic'\n",
    "dataframe.drop('driving_traffic_percent', axis = 1, inplace = True)\n",
    "\n",
    "#binning cost_driving_ccharge\n",
    "\n",
    "dataframe.loc[dataframe['cost_driving_ccharge']< 5.25, 'drivingcharge_group'] = 'low_charge'\n",
    "dataframe.loc[dataframe['cost_driving_ccharge']> 5.25, 'drivingcharge_group'] = 'high_charge'\n",
    "dataframe.drop('cost_driving_ccharge', axis = 1, inplace = True)"
   ]
  },
  {
   "cell_type": "code",
   "execution_count": 4,
   "metadata": {},
   "outputs": [
    {
     "name": "stdout",
     "output_type": "stream",
     "text": [
      "{2012, 2013, 2014, 2015}\n"
     ]
    },
    {
     "name": "stdout",
     "output_type": "stream",
     "text": [
      "Number of columns dropped: 12\n",
      "Index(['purpose', 'fueltype', 'faretype', 'bus_scale', 'travel_month',\n",
      "       'day_of_week', 'female', 'driving_license', 'car_ownership',\n",
      "       'pt_interchanges', 'age_group', 'distance_group', 'starttime_group',\n",
      "       'cost_group', 'costdrivingfuel_group', 'trafficperc_group',\n",
      "       'drivingcharge_group'],\n",
      "      dtype='object')\n"
     ]
    }
   ],
   "source": [
    "y = dataframe[['travel_mode', 'travel_year']]\n",
    "X = dataframe.drop(['travel_mode', 'survey_year'], axis = 1)\n",
    "\n",
    "print(set(X[\"travel_year\"]))\n",
    "\n",
    "a = X.loc[X[\"travel_year\"]==2015]\n",
    "#creating test set \n",
    "\n",
    "X_test= X.query('travel_year == 2015') #creates a subset, like this: X.loc[X[\"travel_year\"]==2015]\n",
    "y_test = y.query('travel_year == 2015')\n",
    "\n",
    "X_test = X_test.drop(['travel_year'], axis =1).copy()\n",
    "y_test = y_test.drop(['travel_year'], axis =1).copy()\n",
    "\n",
    "#create training set \n",
    "\n",
    "X_train_1 = X.query('travel_year == 2012')\n",
    "y_train_1 = y.query('travel_year == 2012')\n",
    "X_train_2 = X.query('travel_year == 2013')\n",
    "y_train_2 = y.query('travel_year == 2013')\n",
    "X_train_3 = X.query('travel_year == 2014')\n",
    "y_train_3 = y.query('travel_year == 2014')\n",
    "\n",
    "X_train = pd.concat([X_train_1, X_train_2, X_train_3])\n",
    "y_train = pd.concat([y_train_1, y_train_2, y_train_3])\n",
    "\n",
    "X_train = X_train.drop(['travel_year'], axis = 1)\n",
    "y_train = y_train.drop(['travel_year'], axis = 1)\n",
    "\n",
    "\n",
    "data = pd.concat([X_train, y_train], axis = 1)\n",
    "#data = data_to_shuffle.sample(frac=1, random_state = 3).reset_index(drop=True) #sampling returning all, and resetting index , no seed?\n",
    "y_train = data['travel_mode']\n",
    "X_train = data.drop(['travel_mode'], axis = 1)\n",
    "\n",
    "#feature selection\n",
    "\n",
    "to_drop = ['trip_id', 'household_id', 'person_n', 'trip_n', 'travel_date', 'dur_pt_int',\n",
    "          'dur_pt_rail', 'dur_pt_access', 'dur_pt_bus', 'dur_walking', 'dur_cycling', 'dur_driving']\n",
    "print(f'Number of columns dropped: {len(to_drop)}')\n",
    "X_train.drop(to_drop, axis = 1, inplace = True)\n",
    "\n",
    "X_test.drop(to_drop, axis = 1, inplace = True)\n",
    "\n",
    "predictors = X_test.columns\n",
    "y = y_test #is the whole vector\n",
    "print(predictors)\n",
    "\n",
    "datatest = pd.concat([y_test, X_test], axis = 1).reset_index()\n",
    "datatest.drop('index', axis = 1, inplace = True)\n",
    "datatest.to_csv(\"data_test.csv\", index = False)\n",
    "\n",
    "datatraining = pd.concat([y_train, X_train], axis = 1).reset_index()\n",
    "datatraining.drop('index', axis = 1, inplace = True)\n",
    "datatraining.to_csv(\"data_training.csv\", index = False)\n"
   ]
  },
  {
   "cell_type": "code",
   "execution_count": 5,
   "metadata": {},
   "outputs": [],
   "source": [
    "X_train.reset_index(inplace = True, drop = True)\n",
    "y_train.reset_index(inplace = True, drop = True)\n",
    "\n",
    "#X_train=X_train.applymap(str) moves elements into strings\n",
    "#y_train=y_train.astype(str)\n",
    "\n",
    "n_features = X_train\n",
    "n_features_names = list(X_train.columns)\n",
    "indici = np.arange(0, len(y_train))\n",
    "y = y_train\n",
    "\n",
    "\n",
    "\n"
   ]
  },
  {
   "cell_type": "code",
   "execution_count": 6,
   "metadata": {},
   "outputs": [
    {
     "data": {
      "text/html": [
       "<div>\n",
       "<style scoped>\n",
       "    .dataframe tbody tr th:only-of-type {\n",
       "        vertical-align: middle;\n",
       "    }\n",
       "\n",
       "    .dataframe tbody tr th {\n",
       "        vertical-align: top;\n",
       "    }\n",
       "\n",
       "    .dataframe thead th {\n",
       "        text-align: right;\n",
       "    }\n",
       "</style>\n",
       "<table border=\"1\" class=\"dataframe\">\n",
       "  <thead>\n",
       "    <tr style=\"text-align: right;\">\n",
       "      <th></th>\n",
       "      <th>purpose</th>\n",
       "      <th>fueltype</th>\n",
       "      <th>faretype</th>\n",
       "      <th>bus_scale</th>\n",
       "      <th>travel_month</th>\n",
       "      <th>day_of_week</th>\n",
       "      <th>female</th>\n",
       "      <th>driving_license</th>\n",
       "      <th>car_ownership</th>\n",
       "      <th>pt_interchanges</th>\n",
       "      <th>age_group</th>\n",
       "      <th>distance_group</th>\n",
       "      <th>starttime_group</th>\n",
       "      <th>cost_group</th>\n",
       "      <th>costdrivingfuel_group</th>\n",
       "      <th>trafficperc_group</th>\n",
       "      <th>drivingcharge_group</th>\n",
       "    </tr>\n",
       "  </thead>\n",
       "  <tbody>\n",
       "    <tr>\n",
       "      <th>0</th>\n",
       "      <td>purpose3</td>\n",
       "      <td>fueltype1</td>\n",
       "      <td>faretype1</td>\n",
       "      <td>bus_scale1.0</td>\n",
       "      <td>travel_month4</td>\n",
       "      <td>day_of_week7</td>\n",
       "      <td>female1</td>\n",
       "      <td>driving_license1</td>\n",
       "      <td>car_ownership2</td>\n",
       "      <td>pt_interchanges0</td>\n",
       "      <td>age_group31-65</td>\n",
       "      <td>distance02</td>\n",
       "      <td>morning</td>\n",
       "      <td>low_cost</td>\n",
       "      <td>costdrivingfuelgroup1</td>\n",
       "      <td>0low_traffic</td>\n",
       "      <td>low_charge</td>\n",
       "    </tr>\n",
       "    <tr>\n",
       "      <th>1</th>\n",
       "      <td>purpose3</td>\n",
       "      <td>fueltype1</td>\n",
       "      <td>faretype1</td>\n",
       "      <td>bus_scale1.0</td>\n",
       "      <td>travel_month4</td>\n",
       "      <td>day_of_week7</td>\n",
       "      <td>female1</td>\n",
       "      <td>driving_license1</td>\n",
       "      <td>car_ownership2</td>\n",
       "      <td>pt_interchanges0</td>\n",
       "      <td>age_group31-65</td>\n",
       "      <td>distance02</td>\n",
       "      <td>afternoon</td>\n",
       "      <td>low_cost</td>\n",
       "      <td>costdrivingfuelgroup1</td>\n",
       "      <td>0low_traffic</td>\n",
       "      <td>low_charge</td>\n",
       "    </tr>\n",
       "    <tr>\n",
       "      <th>2</th>\n",
       "      <td>purpose3</td>\n",
       "      <td>fueltype1</td>\n",
       "      <td>faretype1</td>\n",
       "      <td>bus_scale1.0</td>\n",
       "      <td>travel_month4</td>\n",
       "      <td>day_of_week7</td>\n",
       "      <td>female1</td>\n",
       "      <td>driving_license1</td>\n",
       "      <td>car_ownership2</td>\n",
       "      <td>pt_interchanges0</td>\n",
       "      <td>age_group31-65</td>\n",
       "      <td>distance08</td>\n",
       "      <td>afternoon</td>\n",
       "      <td>low_cost</td>\n",
       "      <td>costdrivingfuelgroup7</td>\n",
       "      <td>0low_traffic</td>\n",
       "      <td>low_charge</td>\n",
       "    </tr>\n",
       "    <tr>\n",
       "      <th>3</th>\n",
       "      <td>purpose3</td>\n",
       "      <td>fueltype1</td>\n",
       "      <td>faretype1</td>\n",
       "      <td>bus_scale1.0</td>\n",
       "      <td>travel_month4</td>\n",
       "      <td>day_of_week7</td>\n",
       "      <td>female1</td>\n",
       "      <td>driving_license1</td>\n",
       "      <td>car_ownership2</td>\n",
       "      <td>pt_interchanges0</td>\n",
       "      <td>age_group31-65</td>\n",
       "      <td>distance08</td>\n",
       "      <td>afternoon</td>\n",
       "      <td>low_cost</td>\n",
       "      <td>costdrivingfuelgroup7</td>\n",
       "      <td>0low_traffic</td>\n",
       "      <td>low_charge</td>\n",
       "    </tr>\n",
       "    <tr>\n",
       "      <th>4</th>\n",
       "      <td>purpose3</td>\n",
       "      <td>fueltype1</td>\n",
       "      <td>faretype4</td>\n",
       "      <td>bus_scale1.0</td>\n",
       "      <td>travel_month4</td>\n",
       "      <td>day_of_week7</td>\n",
       "      <td>female0</td>\n",
       "      <td>driving_license1</td>\n",
       "      <td>car_ownership2</td>\n",
       "      <td>pt_interchanges0</td>\n",
       "      <td>age_group31-65</td>\n",
       "      <td>distance08</td>\n",
       "      <td>evening</td>\n",
       "      <td>low_cost</td>\n",
       "      <td>costdrivingfuelgroup7</td>\n",
       "      <td>0low_traffic</td>\n",
       "      <td>low_charge</td>\n",
       "    </tr>\n",
       "  </tbody>\n",
       "</table>\n",
       "</div>"
      ],
      "text/plain": [
       "    purpose   fueltype   faretype     bus_scale   travel_month   day_of_week  \\\n",
       "0  purpose3  fueltype1  faretype1  bus_scale1.0  travel_month4  day_of_week7   \n",
       "1  purpose3  fueltype1  faretype1  bus_scale1.0  travel_month4  day_of_week7   \n",
       "2  purpose3  fueltype1  faretype1  bus_scale1.0  travel_month4  day_of_week7   \n",
       "3  purpose3  fueltype1  faretype1  bus_scale1.0  travel_month4  day_of_week7   \n",
       "4  purpose3  fueltype1  faretype4  bus_scale1.0  travel_month4  day_of_week7   \n",
       "\n",
       "    female   driving_license   car_ownership   pt_interchanges  \\\n",
       "0  female1  driving_license1  car_ownership2  pt_interchanges0   \n",
       "1  female1  driving_license1  car_ownership2  pt_interchanges0   \n",
       "2  female1  driving_license1  car_ownership2  pt_interchanges0   \n",
       "3  female1  driving_license1  car_ownership2  pt_interchanges0   \n",
       "4  female0  driving_license1  car_ownership2  pt_interchanges0   \n",
       "\n",
       "        age_group distance_group starttime_group cost_group  \\\n",
       "0  age_group31-65     distance02         morning   low_cost   \n",
       "1  age_group31-65     distance02       afternoon   low_cost   \n",
       "2  age_group31-65     distance08       afternoon   low_cost   \n",
       "3  age_group31-65     distance08       afternoon   low_cost   \n",
       "4  age_group31-65     distance08         evening   low_cost   \n",
       "\n",
       "   costdrivingfuel_group trafficperc_group drivingcharge_group  \n",
       "0  costdrivingfuelgroup1      0low_traffic          low_charge  \n",
       "1  costdrivingfuelgroup1      0low_traffic          low_charge  \n",
       "2  costdrivingfuelgroup7      0low_traffic          low_charge  \n",
       "3  costdrivingfuelgroup7      0low_traffic          low_charge  \n",
       "4  costdrivingfuelgroup7      0low_traffic          low_charge  "
      ]
     },
     "execution_count": 6,
     "metadata": {},
     "output_type": "execute_result"
    }
   ],
   "source": [
    "n_features['purpose'] = 'purpose' + n_features['purpose'].astype(str)\n",
    "n_features['fueltype'] = 'fueltype' + n_features['fueltype'].astype(str)\n",
    "n_features['faretype'] = 'faretype' + n_features['faretype'].astype(str)\n",
    "n_features['bus_scale'] = 'bus_scale' + n_features['bus_scale'].astype(str)\n",
    "n_features['travel_month'] = 'travel_month' + n_features['travel_month'].astype(str)\n",
    "n_features['day_of_week'] = 'day_of_week' + n_features['day_of_week'].astype(str)\n",
    "n_features['female'] = 'female' + n_features['female'].astype(str)\n",
    "n_features['driving_license'] = 'driving_license' + n_features['driving_license'].astype(str)\n",
    "n_features['car_ownership'] = 'car_ownership' + n_features['car_ownership'].astype(str)\n",
    "n_features['pt_interchanges'] = 'pt_interchanges' + n_features['pt_interchanges'].astype(str)\n",
    "n_features['age_group'] = 'age_group' + n_features['age_group'].astype(str)\n",
    "\n",
    "\n",
    "n_features.head()"
   ]
  },
  {
   "cell_type": "code",
   "execution_count": 7,
   "metadata": {},
   "outputs": [],
   "source": [
    "features = []\n",
    "features_names = []\n"
   ]
  },
  {
   "cell_type": "code",
   "execution_count": 8,
   "metadata": {},
   "outputs": [],
   "source": [
    "from collections import Counter\n",
    "import itertools\n"
   ]
  },
  {
   "cell_type": "code",
   "execution_count": 9,
   "metadata": {},
   "outputs": [
    {
     "data": {
      "text/plain": [
       "[(1, 2),\n",
       " (1, 3),\n",
       " (1, 4),\n",
       " (2, 3),\n",
       " (2, 4),\n",
       " (3, 4),\n",
       " (1, 2, 3),\n",
       " (1, 2, 4),\n",
       " (1, 3, 4),\n",
       " (2, 3, 4),\n",
       " 1,\n",
       " 2,\n",
       " 3,\n",
       " 4]"
      ]
     },
     "execution_count": 9,
     "metadata": {},
     "output_type": "execute_result"
    }
   ],
   "source": [
    "combinazioni = []\n",
    "distinct_values= []\n",
    "distinct_values.append(list(set(y)))\n",
    "distinct_values = list(itertools.chain(*distinct_values)) #flattens, removed nesting\n",
    "for i in range(1,len(distinct_values)):\n",
    "    combinazioni.append(list(itertools.combinations(distinct_values, i)))\n",
    "combinazioni=combinazioni[1:]\n",
    "combinazioni = list(itertools.chain(*combinazioni))\n",
    "combinazioni = combinazioni +  distinct_values\n",
    "combinazioni"
   ]
  },
  {
   "cell_type": "code",
   "execution_count": 10,
   "metadata": {},
   "outputs": [
    {
     "data": {
      "text/plain": [
       "([[1, 2], [1, 3], [1, 4], [1, 2, 3], [1, 2, 4], [1, 3, 4], [2, 3, 4]],\n",
       " [[3, 4], [2, 4], [2, 3], [4], [3], [2], [1]],\n",
       " 7)"
      ]
     },
     "execution_count": 10,
     "metadata": {},
     "output_type": "execute_result"
    }
   ],
   "source": [
    "c1, c2 = [], []\n",
    "for i in combinazioni:\n",
    "        if isinstance(i, int): \n",
    "            if [i] not in c2:\n",
    "                c1.append([i])\n",
    "            if list(set(y)-{i}) not in c1:\n",
    "                c2.append(list(set(y)-{i}))\n",
    "        else:\n",
    "            if list(i) not in c2:\n",
    "                c1.append(list(i))\n",
    "            if list(set(y) - set(tuple(i))) not in c1:\n",
    "                c2.append(list(set(y) - set(tuple(i))))\n",
    "            \n",
    "    \n",
    "               \n",
    "c1,c2, len(c1)"
   ]
  },
  {
   "cell_type": "code",
   "execution_count": 11,
   "metadata": {},
   "outputs": [
    {
     "data": {
      "text/plain": [
       "{'distance09': 12640,\n",
       " 'distance07': 11691,\n",
       " 'distance05': 8878,\n",
       " 'distance03': 7402,\n",
       " 'distance06': 6235,\n",
       " 'distance01': 5844,\n",
       " 'distance04': 5281,\n",
       " 'distance10': 5278,\n",
       " 'distance08': 4782,\n",
       " 'distance02': 4079,\n",
       " 'distance11': 3993}"
      ]
     },
     "execution_count": 11,
     "metadata": {},
     "output_type": "execute_result"
    }
   ],
   "source": [
    "dict(n_features['distance_group'].value_counts())"
   ]
  },
  {
   "attachments": {},
   "cell_type": "markdown",
   "metadata": {},
   "source": [
    "Twoing "
   ]
  },
  {
   "cell_type": "code",
   "execution_count": 12,
   "metadata": {},
   "outputs": [
    {
     "data": {
      "text/plain": [
       "(0    4\n",
       " 1    4\n",
       " 2    4\n",
       " 3    4\n",
       " 4    4\n",
       " Name: travel_mode, dtype: int64,\n",
       " [],\n",
       " [],\n",
       "     purpose   fueltype   faretype     bus_scale   travel_month   day_of_week  \\\n",
       " 0  purpose3  fueltype1  faretype1  bus_scale1.0  travel_month4  day_of_week7   \n",
       " 1  purpose3  fueltype1  faretype1  bus_scale1.0  travel_month4  day_of_week7   \n",
       " 2  purpose3  fueltype1  faretype1  bus_scale1.0  travel_month4  day_of_week7   \n",
       " 3  purpose3  fueltype1  faretype1  bus_scale1.0  travel_month4  day_of_week7   \n",
       " 4  purpose3  fueltype1  faretype4  bus_scale1.0  travel_month4  day_of_week7   \n",
       " \n",
       "     female   driving_license   car_ownership   pt_interchanges  \\\n",
       " 0  female1  driving_license1  car_ownership2  pt_interchanges0   \n",
       " 1  female1  driving_license1  car_ownership2  pt_interchanges0   \n",
       " 2  female1  driving_license1  car_ownership2  pt_interchanges0   \n",
       " 3  female1  driving_license1  car_ownership2  pt_interchanges0   \n",
       " 4  female0  driving_license1  car_ownership2  pt_interchanges0   \n",
       " \n",
       "         age_group distance_group starttime_group cost_group  \\\n",
       " 0  age_group31-65     distance02         morning   low_cost   \n",
       " 1  age_group31-65     distance02       afternoon   low_cost   \n",
       " 2  age_group31-65     distance08       afternoon   low_cost   \n",
       " 3  age_group31-65     distance08       afternoon   low_cost   \n",
       " 4  age_group31-65     distance08         evening   low_cost   \n",
       " \n",
       "    costdrivingfuel_group trafficperc_group drivingcharge_group  \n",
       " 0  costdrivingfuelgroup1      0low_traffic          low_charge  \n",
       " 1  costdrivingfuelgroup1      0low_traffic          low_charge  \n",
       " 2  costdrivingfuelgroup7      0low_traffic          low_charge  \n",
       " 3  costdrivingfuelgroup7      0low_traffic          low_charge  \n",
       " 4  costdrivingfuelgroup7      0low_traffic          low_charge  ,\n",
       " ['purpose',\n",
       "  'fueltype',\n",
       "  'faretype',\n",
       "  'bus_scale',\n",
       "  'travel_month',\n",
       "  'day_of_week',\n",
       "  'female',\n",
       "  'driving_license',\n",
       "  'car_ownership',\n",
       "  'pt_interchanges',\n",
       "  'age_group',\n",
       "  'distance_group',\n",
       "  'starttime_group',\n",
       "  'cost_group',\n",
       "  'costdrivingfuel_group',\n",
       "  'trafficperc_group',\n",
       "  'drivingcharge_group'])"
      ]
     },
     "execution_count": 12,
     "metadata": {},
     "output_type": "execute_result"
    }
   ],
   "source": [
    "y.head(), features, features_names, n_features.head(), n_features_names"
   ]
  },
  {
   "cell_type": "code",
   "execution_count": 13,
   "metadata": {},
   "outputs": [],
   "source": [
    "tau = False #making y binary \n",
    "if tau:\n",
    "    y = pd.DataFrame(y)\n",
    "    y[\"travel_mode\"].loc[y[\"travel_mode\"]==2] = 1\n",
    "    y[\"travel_mode\"].loc[y[\"travel_mode\"]==4] = 3\n",
    "    y = y[\"travel_mode\"]"
   ]
  },
  {
   "attachments": {},
   "cell_type": "markdown",
   "metadata": {},
   "source": [
    "setting class as binary for fast test   "
   ]
  },
  {
   "cell_type": "code",
   "execution_count": 14,
   "metadata": {},
   "outputs": [
    {
     "data": {
      "text/plain": [
       "13367"
      ]
     },
     "execution_count": 14,
     "metadata": {},
     "output_type": "execute_result"
    }
   ],
   "source": [
    "y.value_counts()[1]"
   ]
  },
  {
   "cell_type": "code",
   "execution_count": 15,
   "metadata": {},
   "outputs": [
    {
     "data": {
      "text/plain": [
       "Text(0.5, 1.0, 'Distribution of Travel Modes Training Set')"
      ]
     },
     "execution_count": 15,
     "metadata": {},
     "output_type": "execute_result"
    },
    {
     "data": {
      "image/png": "[encoded data removed]",
      "text/plain": [
       "<Figure size 640x480 with 1 Axes>"
      ]
     },
     "metadata": {},
     "output_type": "display_data"
    }
   ],
   "source": [
    "import matplotlib.pyplot as plt\n",
    "\n",
    "groups = [\"Walking\", \"Cycling\", \"Public Transport\", \"Driving\"]\n",
    "countss = [y.value_counts()[1], y.value_counts()[2], y.value_counts()[3], y.value_counts()[4]]\n",
    "plt.bar(groups, countss)\n",
    "plt.ylabel(\"Instances\")\n",
    "plt.xlabel(\"Travel Mode\")\n",
    "plt.title(\"Distribution of Travel Modes Training Set\")"
   ]
  },
  {
   "cell_type": "code",
   "execution_count": 16,
   "metadata": {},
   "outputs": [
    {
     "name": "stdout",
     "output_type": "stream",
     "text": [
      "Split Found:  n1 [['costdrivingfuel_group', ('costdrivingfuelgroup10', 'costdrivingfuelgroup4', 'costdrivingfuelgroup5', 'costdrivingfuelgroup6', 'costdrivingfuelgroup7', 'costdrivingfuelgroup8', 'costdrivingfuelgroup9'), 1.8887554080312314, 0]] start\n",
      "node_proportion_total  0.05793579624852918\n",
      "Split Found:  n2 [['car_ownership', ('car_ownership1', 'car_ownership2'), 1.8972547414252556, 1]] left\n",
      "node_proportion_total  0.45540360423465953\n",
      "Node_proportion_gain  0.39746780798613035\n",
      "Split Found:  n4 [['age_group', ('age_group0-18', 'age_group19-30', 'age_group31-65'), 1.920492865354233, 2]] left\n",
      "node_proportion_total  0.5041127818474017\n",
      "Node_proportion_gain  0.04870917761274218\n",
      "Split Found:  n5 [['travel_month', ('travel_month10', 'travel_month12', 'travel_month3', 'travel_month4', 'travel_month7'), 1.8998136358757358, 2]] right\n",
      "node_proportion_total  0.5330758474181037\n",
      "Node_proportion_gain  0.02896306557070194\n",
      "Split Found:  n3 [['trafficperc_group', ('2medium_traffic', '3mediumhigh_traffic', '4high_traffic'), 1.8786673820138833, 1]] right\n",
      "node_proportion_total  0.5593982946973628\n",
      "Node_proportion_gain  0.026322447279259142\n",
      "Split Found:  n6 [['driving_license', ('driving_license1',), 1.9053210259573872, 2]] left\n",
      "node_proportion_total  0.5756963924135658\n",
      "Node_proportion_gain  0.016298097716203053\n",
      "Split Found:  n7 [['fueltype', ('fueltype1', 'fueltype2', 'fueltype4', 'fueltype6'), 1.8928725713223, 2]] right\n",
      "node_proportion_total  0.5850317639643648\n",
      "Node_proportion_gain  0.009335371550798999\n"
     ]
    },
    {
     "data": {
      "text/plain": [
       "(((None, None), (None, None)), ((None, None), (None, None)))"
      ]
     },
     "execution_count": 16,
     "metadata": {},
     "output_type": "execute_result"
    }
   ],
   "source": [
    "\n",
    "my_tree = MyNodeClass('n1', indici) \n",
    "tree = TREEplus(y,features,features_names,n_features,n_features_names,impurity_fn = \"tau\",problem=\"classifier\",method = \"LATENT-BUDGET-TREE\",twoing = True, min_cases_parent= 1000,min_cases_child= 500, max_level = 2, min_imp_gain = 0.0001)\n",
    "tree.growing_tree(my_tree, max_k = 5, combination_split = False)\n"
   ]
  },
  {
   "attachments": {},
   "cell_type": "markdown",
   "metadata": {},
   "source": [
    "impurity value is the actual impurity in the node accotding to impurity fn aka. gini for the j classes\n",
    "\n",
    "not for the classes created by twoing the final impuritry measure shown\n",
    "\n",
    "tomorrow, attempts with cart fast two stage - need to really think about the displayed errors!! worried about tau not decreasing with tree growth , checking if a problem without twoing , no good still may be because of 4 classes \n",
    "\n",
    "then regression\n",
    "\n",
    "then pruning visually\n"
   ]
  },
  {
   "cell_type": "code",
   "execution_count": 17,
   "metadata": {},
   "outputs": [
    {
     "data": {
      "application/vnd.plotly.v1+json": {
       "config": {
        "plotlyServerURL": "https://plot.ly"
       },
       "data": [
        {
         "hoverinfo": "none",
         "line": {
          "color": "rgb(210,210,210)",
          "width": 1
         },
         "mode": "lines",
         "type": "scatter",
         "x": [
          0,
          -2,
          null,
          0,
          2,
          null,
          -2,
          -3,
          null,
          -2,
          -1,
          null,
          2,
          1,
          null,
          2,
          3,
          null,
          -3,
          -3.5,
          null,
          -3,
          -2.5,
          null,
          -1,
          -1.5,
          null,
          -1,
          -0.5,
          null,
          1,
          0.5,
          null,
          1,
          1.5,
          null,
          3,
          2.5,
          null,
          3,
          3.5,
          null
         ],
         "y": [
          6,
          5,
          null,
          6,
          5,
          null,
          5,
          4,
          null,
          5,
          4,
          null,
          5,
          4,
          null,
          5,
          4,
          null,
          4,
          3,
          null,
          4,
          3,
          null,
          4,
          3,
          null,
          4,
          3,
          null,
          4,
          3,
          null,
          4,
          3,
          null,
          4,
          3,
          null,
          4,
          3,
          null
         ]
        },
        {
         "hoverinfo": "text",
         "marker": {
          "color": "#6175c1",
          "line": {
           "color": "rgb(50,50,50)",
           "width": 1
          },
          "size": 18,
          "symbol": "circle-dot"
         },
         "mode": "markers",
         "name": "Nodes",
         "opacity": 0.8,
         "text": [
          "n8, Class: {1: 0.48, 2: 0.01, 3: 0.43, 4: 0.07}, tau : None, Samples : 928",
          "n9, Class: {1: 0.76, 2: 0.03, 3: 0.17, 4: 0.05}, tau : None, Samples : 4433",
          "n10, Class: {1: 0.46, 2: 0.03, 3: 0.05, 4: 0.46}, tau : None, Samples : 6159",
          "n11, Class: {1: 0.51, 2: 0.02, 3: 0.06, 4: 0.41}, tau : None, Samples : 4088",
          "n12, Class: {1: 0.12, 2: 0.02, 3: 0.46, 4: 0.39}, tau : None, Samples : 12407",
          "n13, Class: {1: 0.07, 2: 0.03, 3: 0.15, 4: 0.76}, tau : None, Samples : 20548",
          "n14, Class: {1: 0.04, 2: 0.02, 3: 0.3, 4: 0.64}, tau : None, Samples : 603",
          "n15, Class: {1: 0.07, 2: 0.04, 3: 0.6, 4: 0.29}, tau : None, Samples : 26937",
          "n1, costdrivingfuel_group in ('costdrivingfuelgroup10', 'costdrivingfuelgroup4', 'costdrivingfuelgroup5', 'costdrivingfuelgroup6', 'costdrivingfuelgroup7', 'costdrivingfuelgroup8', 'costdrivingfuelgroup9'), Class:{1: 0.18, 2: 0.03, 3: 0.35, 4: 0.44}, tau : 1.89, Samples: 76103",
          "n2, car_ownership in ('car_ownership1', 'car_ownership2'), Class:{1: 0.56, 2: 0.03, 3: 0.11, 4: 0.31}, tau : 1.9, Samples: 15608",
          "n4, age_group in ('age_group0-18', 'age_group19-30', 'age_group31-65'), Class:{1: 0.71, 2: 0.03, 3: 0.21, 4: 0.05}, tau : 1.92, Samples: 5361",
          "n5, travel_month in ('travel_month10', 'travel_month12', 'travel_month3', 'travel_month4', 'travel_month7'), Class:{1: 0.48, 2: 0.03, 3: 0.05, 4: 0.44}, tau : 1.9, Samples: 10247",
          "n3, trafficperc_group in ('2medium_traffic', '3mediumhigh_traffic', '4high_traffic'), Class:{1: 0.08, 2: 0.03, 3: 0.42, 4: 0.48}, tau : 1.88, Samples: 60495",
          "n6, driving_license in ('driving_license1',), Class:{1: 0.09, 2: 0.02, 3: 0.27, 4: 0.62}, tau : 1.91, Samples: 32955",
          "n7, fueltype in ('fueltype1', 'fueltype2', 'fueltype4', 'fueltype6'), Class:{1: 0.06, 2: 0.04, 3: 0.6, 4: 0.3}, tau : 1.89, Samples: 27540"
         ],
         "type": "scatter",
         "x": [
          -3.5,
          -2.5,
          -1.5,
          -0.5,
          0.5,
          1.5,
          2.5,
          3.5,
          0,
          -2,
          -3,
          -1,
          2,
          1,
          3
         ],
         "y": [
          3,
          3,
          3,
          3,
          3,
          3,
          3,
          3,
          6,
          5,
          4,
          4,
          5,
          4,
          4
         ]
        }
       ],
       "layout": {
        "template": {
         "data": {
          "bar": [
           {
            "error_x": {
             "color": "#2a3f5f"
            },
            "error_y": {
             "color": "#2a3f5f"
            },
            "marker": {
             "line": {
              "color": "#E5ECF6",
              "width": 0.5
             },
             "pattern": {
              "fillmode": "overlay",
              "size": 10,
              "solidity": 0.2
             }
            },
            "type": "bar"
           }
          ],
          "barpolar": [
           {
            "marker": {
             "line": {
              "color": "#E5ECF6",
              "width": 0.5
             },
             "pattern": {
              "fillmode": "overlay",
              "size": 10,
              "solidity": 0.2
             }
            },
            "type": "barpolar"
           }
          ],
          "carpet": [
           {
            "aaxis": {
             "endlinecolor": "#2a3f5f",
             "gridcolor": "white",
             "linecolor": "white",
             "minorgridcolor": "white",
             "startlinecolor": "#2a3f5f"
            },
            "baxis": {
             "endlinecolor": "#2a3f5f",
             "gridcolor": "white",
             "linecolor": "white",
             "minorgridcolor": "white",
             "startlinecolor": "#2a3f5f"
            },
            "type": "carpet"
           }
          ],
          "choropleth": [
           {
            "colorbar": {
             "outlinewidth": 0,
             "ticks": ""
            },
            "type": "choropleth"
           }
          ],
          "contour": [
           {
            "colorbar": {
             "outlinewidth": 0,
             "ticks": ""
            },
            "colorscale": [
             [
              0,
              "#0d0887"
             ],
             [
              0.1111111111111111,
              "#46039f"
             ],
             [
              0.2222222222222222,
              "#7201a8"
             ],
             [
              0.3333333333333333,
              "#9c179e"
             ],
             [
              0.4444444444444444,
              "#bd3786"
             ],
             [
              0.5555555555555556,
              "#d8576b"
             ],
             [
              0.6666666666666666,
              "#ed7953"
             ],
             [
              0.7777777777777778,
              "#fb9f3a"
             ],
             [
              0.8888888888888888,
              "#fdca26"
             ],
             [
              1,
              "#f0f921"
             ]
            ],
            "type": "contour"
           }
          ],
          "contourcarpet": [
           {
            "colorbar": {
             "outlinewidth": 0,
             "ticks": ""
            },
            "type": "contourcarpet"
           }
          ],
          "heatmap": [
           {
            "colorbar": {
             "outlinewidth": 0,
             "ticks": ""
            },
            "colorscale": [
             [
              0,
              "#0d0887"
             ],
             [
              0.1111111111111111,
              "#46039f"
             ],
             [
              0.2222222222222222,
              "#7201a8"
             ],
             [
              0.3333333333333333,
              "#9c179e"
             ],
             [
              0.4444444444444444,
              "#bd3786"
             ],
             [
              0.5555555555555556,
              "#d8576b"
             ],
             [
              0.6666666666666666,
              "#ed7953"
             ],
             [
              0.7777777777777778,
              "#fb9f3a"
             ],
             [
              0.8888888888888888,
              "#fdca26"
             ],
             [
              1,
              "#f0f921"
             ]
            ],
            "type": "heatmap"
           }
          ],
          "heatmapgl": [
           {
            "colorbar": {
             "outlinewidth": 0,
             "ticks": ""
            },
            "colorscale": [
             [
              0,
              "#0d0887"
             ],
             [
              0.1111111111111111,
              "#46039f"
             ],
             [
              0.2222222222222222,
              "#7201a8"
             ],
             [
              0.3333333333333333,
              "#9c179e"
             ],
             [
              0.4444444444444444,
              "#bd3786"
             ],
             [
              0.5555555555555556,
              "#d8576b"
             ],
             [
              0.6666666666666666,
              "#ed7953"
             ],
             [
              0.7777777777777778,
              "#fb9f3a"
             ],
             [
              0.8888888888888888,
              "#fdca26"
             ],
             [
              1,
              "#f0f921"
             ]
            ],
            "type": "heatmapgl"
           }
          ],
          "histogram": [
           {
            "marker": {
             "pattern": {
              "fillmode": "overlay",
              "size": 10,
              "solidity": 0.2
             }
            },
            "type": "histogram"
           }
          ],
          "histogram2d": [
           {
            "colorbar": {
             "outlinewidth": 0,
             "ticks": ""
            },
            "colorscale": [
             [
              0,
              "#0d0887"
             ],
             [
              0.1111111111111111,
              "#46039f"
             ],
             [
              0.2222222222222222,
              "#7201a8"
             ],
             [
              0.3333333333333333,
              "#9c179e"
             ],
             [
              0.4444444444444444,
              "#bd3786"
             ],
             [
              0.5555555555555556,
              "#d8576b"
             ],
             [
              0.6666666666666666,
              "#ed7953"
             ],
             [
              0.7777777777777778,
              "#fb9f3a"
             ],
             [
              0.8888888888888888,
              "#fdca26"
             ],
             [
              1,
              "#f0f921"
             ]
            ],
            "type": "histogram2d"
           }
          ],
          "histogram2dcontour": [
           {
            "colorbar": {
             "outlinewidth": 0,
             "ticks": ""
            },
            "colorscale": [
             [
              0,
              "#0d0887"
             ],
             [
              0.1111111111111111,
              "#46039f"
             ],
             [
              0.2222222222222222,
              "#7201a8"
             ],
             [
              0.3333333333333333,
              "#9c179e"
             ],
             [
              0.4444444444444444,
              "#bd3786"
             ],
             [
              0.5555555555555556,
              "#d8576b"
             ],
             [
              0.6666666666666666,
              "#ed7953"
             ],
             [
              0.7777777777777778,
              "#fb9f3a"
             ],
             [
              0.8888888888888888,
              "#fdca26"
             ],
             [
              1,
              "#f0f921"
             ]
            ],
            "type": "histogram2dcontour"
           }
          ],
          "mesh3d": [
           {
            "colorbar": {
             "outlinewidth": 0,
             "ticks": ""
            },
            "type": "mesh3d"
           }
          ],
          "parcoords": [
           {
            "line": {
             "colorbar": {
              "outlinewidth": 0,
              "ticks": ""
             }
            },
            "type": "parcoords"
           }
          ],
          "pie": [
           {
            "automargin": true,
            "type": "pie"
           }
          ],
          "scatter": [
           {
            "fillpattern": {
             "fillmode": "overlay",
             "size": 10,
             "solidity": 0.2
            },
            "type": "scatter"
           }
          ],
          "scatter3d": [
           {
            "line": {
             "colorbar": {
              "outlinewidth": 0,
              "ticks": ""
             }
            },
            "marker": {
             "colorbar": {
              "outlinewidth": 0,
              "ticks": ""
             }
            },
            "type": "scatter3d"
           }
          ],
          "scattercarpet": [
           {
            "marker": {
             "colorbar": {
              "outlinewidth": 0,
              "ticks": ""
             }
            },
            "type": "scattercarpet"
           }
          ],
          "scattergeo": [
           {
            "marker": {
             "colorbar": {
              "outlinewidth": 0,
              "ticks": ""
             }
            },
            "type": "scattergeo"
           }
          ],
          "scattergl": [
           {
            "marker": {
             "colorbar": {
              "outlinewidth": 0,
              "ticks": ""
             }
            },
            "type": "scattergl"
           }
          ],
          "scattermapbox": [
           {
            "marker": {
             "colorbar": {
              "outlinewidth": 0,
              "ticks": ""
             }
            },
            "type": "scattermapbox"
           }
          ],
          "scatterpolar": [
           {
            "marker": {
             "colorbar": {
              "outlinewidth": 0,
              "ticks": ""
             }
            },
            "type": "scatterpolar"
           }
          ],
          "scatterpolargl": [
           {
            "marker": {
             "colorbar": {
              "outlinewidth": 0,
              "ticks": ""
             }
            },
            "type": "scatterpolargl"
           }
          ],
          "scatterternary": [
           {
            "marker": {
             "colorbar": {
              "outlinewidth": 0,
              "ticks": ""
             }
            },
            "type": "scatterternary"
           }
          ],
          "surface": [
           {
            "colorbar": {
             "outlinewidth": 0,
             "ticks": ""
            },
            "colorscale": [
             [
              0,
              "#0d0887"
             ],
             [
              0.1111111111111111,
              "#46039f"
             ],
             [
              0.2222222222222222,
              "#7201a8"
             ],
             [
              0.3333333333333333,
              "#9c179e"
             ],
             [
              0.4444444444444444,
              "#bd3786"
             ],
             [
              0.5555555555555556,
              "#d8576b"
             ],
             [
              0.6666666666666666,
              "#ed7953"
             ],
             [
              0.7777777777777778,
              "#fb9f3a"
             ],
             [
              0.8888888888888888,
              "#fdca26"
             ],
             [
              1,
              "#f0f921"
             ]
            ],
            "type": "surface"
           }
          ],
          "table": [
           {
            "cells": {
             "fill": {
              "color": "#EBF0F8"
             },
             "line": {
              "color": "white"
             }
            },
            "header": {
             "fill": {
              "color": "#C8D4E3"
             },
             "line": {
              "color": "white"
             }
            },
            "type": "table"
           }
          ]
         },
         "layout": {
          "annotationdefaults": {
           "arrowcolor": "#2a3f5f",
           "arrowhead": 0,
           "arrowwidth": 1
          },
          "autotypenumbers": "strict",
          "coloraxis": {
           "colorbar": {
            "outlinewidth": 0,
            "ticks": ""
           }
          },
          "colorscale": {
           "diverging": [
            [
             0,
             "#8e0152"
            ],
            [
             0.1,
             "#c51b7d"
            ],
            [
             0.2,
             "#de77ae"
            ],
            [
             0.3,
             "#f1b6da"
            ],
            [
             0.4,
             "#fde0ef"
            ],
            [
             0.5,
             "#f7f7f7"
            ],
            [
             0.6,
             "#e6f5d0"
            ],
            [
             0.7,
             "#b8e186"
            ],
            [
             0.8,
             "#7fbc41"
            ],
            [
             0.9,
             "#4d9221"
            ],
            [
             1,
             "#276419"
            ]
           ],
           "sequential": [
            [
             0,
             "#0d0887"
            ],
            [
             0.1111111111111111,
             "#46039f"
            ],
            [
             0.2222222222222222,
             "#7201a8"
            ],
            [
             0.3333333333333333,
             "#9c179e"
            ],
            [
             0.4444444444444444,
             "#bd3786"
            ],
            [
             0.5555555555555556,
             "#d8576b"
            ],
            [
             0.6666666666666666,
             "#ed7953"
            ],
            [
             0.7777777777777778,
             "#fb9f3a"
            ],
            [
             0.8888888888888888,
             "#fdca26"
            ],
            [
             1,
             "#f0f921"
            ]
           ],
           "sequentialminus": [
            [
             0,
             "#0d0887"
            ],
            [
             0.1111111111111111,
             "#46039f"
            ],
            [
             0.2222222222222222,
             "#7201a8"
            ],
            [
             0.3333333333333333,
             "#9c179e"
            ],
            [
             0.4444444444444444,
             "#bd3786"
            ],
            [
             0.5555555555555556,
             "#d8576b"
            ],
            [
             0.6666666666666666,
             "#ed7953"
            ],
            [
             0.7777777777777778,
             "#fb9f3a"
            ],
            [
             0.8888888888888888,
             "#fdca26"
            ],
            [
             1,
             "#f0f921"
            ]
           ]
          },
          "colorway": [
           "#636efa",
           "#EF553B",
           "#00cc96",
           "#ab63fa",
           "#FFA15A",
           "#19d3f3",
           "#FF6692",
           "#B6E880",
           "#FF97FF",
           "#FECB52"
          ],
          "font": {
           "color": "#2a3f5f"
          },
          "geo": {
           "bgcolor": "white",
           "lakecolor": "white",
           "landcolor": "#E5ECF6",
           "showlakes": true,
           "showland": true,
           "subunitcolor": "white"
          },
          "hoverlabel": {
           "align": "left"
          },
          "hovermode": "closest",
          "mapbox": {
           "style": "light"
          },
          "paper_bgcolor": "white",
          "plot_bgcolor": "#E5ECF6",
          "polar": {
           "angularaxis": {
            "gridcolor": "white",
            "linecolor": "white",
            "ticks": ""
           },
           "bgcolor": "#E5ECF6",
           "radialaxis": {
            "gridcolor": "white",
            "linecolor": "white",
            "ticks": ""
           }
          },
          "scene": {
           "xaxis": {
            "backgroundcolor": "#E5ECF6",
            "gridcolor": "white",
            "gridwidth": 2,
            "linecolor": "white",
            "showbackground": true,
            "ticks": "",
            "zerolinecolor": "white"
           },
           "yaxis": {
            "backgroundcolor": "#E5ECF6",
            "gridcolor": "white",
            "gridwidth": 2,
            "linecolor": "white",
            "showbackground": true,
            "ticks": "",
            "zerolinecolor": "white"
           },
           "zaxis": {
            "backgroundcolor": "#E5ECF6",
            "gridcolor": "white",
            "gridwidth": 2,
            "linecolor": "white",
            "showbackground": true,
            "ticks": "",
            "zerolinecolor": "white"
           }
          },
          "shapedefaults": {
           "line": {
            "color": "#2a3f5f"
           }
          },
          "ternary": {
           "aaxis": {
            "gridcolor": "white",
            "linecolor": "white",
            "ticks": ""
           },
           "baxis": {
            "gridcolor": "white",
            "linecolor": "white",
            "ticks": ""
           },
           "bgcolor": "#E5ECF6",
           "caxis": {
            "gridcolor": "white",
            "linecolor": "white",
            "ticks": ""
           }
          },
          "title": {
           "x": 0.05
          },
          "xaxis": {
           "automargin": true,
           "gridcolor": "white",
           "linecolor": "white",
           "ticks": "",
           "title": {
            "standoff": 15
           },
           "zerolinecolor": "white",
           "zerolinewidth": 2
          },
          "yaxis": {
           "automargin": true,
           "gridcolor": "white",
           "linecolor": "white",
           "ticks": "",
           "title": {
            "standoff": 15
           },
           "zerolinecolor": "white",
           "zerolinewidth": 2
          }
         }
        },
        "title": {
         "text": "TREEplus_tree"
        }
       }
      }
     },
     "metadata": {},
     "output_type": "display_data"
    },
    {
     "data": {
      "text/html": [
       "<style type=\"text/css\">\n",
       "</style>\n",
       "<table id=\"T_9ba7e\">\n",
       "  <thead>\n",
       "    <tr>\n",
       "      <th id=\"T_9ba7e_level0_col0\" class=\"col_heading level0 col0\" >Node</th>\n",
       "      <th id=\"T_9ba7e_level0_col1\" class=\"col_heading level0 col1\" >Node Type</th>\n",
       "      <th id=\"T_9ba7e_level0_col2\" class=\"col_heading level0 col2\" >Variable Split</th>\n",
       "      <th id=\"T_9ba7e_level0_col3\" class=\"col_heading level0 col3\" >Twoing Classes C1</th>\n",
       "      <th id=\"T_9ba7e_level0_col4\" class=\"col_heading level0 col4\" >Twoing Classes C2</th>\n",
       "      <th id=\"T_9ba7e_level0_col5\" class=\"col_heading level0 col5\" >n</th>\n",
       "      <th id=\"T_9ba7e_level0_col6\" class=\"col_heading level0 col6\" >Deviance</th>\n",
       "      <th id=\"T_9ba7e_level0_col7\" class=\"col_heading level0 col7\" >Explained Deviance</th>\n",
       "      <th id=\"T_9ba7e_level0_col8\" class=\"col_heading level0 col8\" >Class Probabilities</th>\n",
       "      <th id=\"T_9ba7e_level0_col9\" class=\"col_heading level0 col9\" >Alpha</th>\n",
       "      <th id=\"T_9ba7e_level0_col10\" class=\"col_heading level0 col10\" >Beta</th>\n",
       "      <th id=\"T_9ba7e_level0_col11\" class=\"col_heading level0 col11\" >LS Error</th>\n",
       "    </tr>\n",
       "  </thead>\n",
       "  <tbody>\n",
       "    <tr>\n",
       "      <td id=\"T_9ba7e_row0_col0\" class=\"data row0 col0\" >n1</td>\n",
       "      <td id=\"T_9ba7e_row0_col1\" class=\"data row0 col1\" >Parent</td>\n",
       "      <td id=\"T_9ba7e_row0_col2\" class=\"data row0 col2\" >costdrivingfuel_group in ('costdrivingfuelgroup10', 'costdrivingfuelgroup4', 'costdrivingfuelgroup5', 'costdrivingfuelgroup6', 'costdrivingfuelgroup7', 'costdrivingfuelgroup8', 'costdrivingfuelgroup9')</td>\n",
       "      <td id=\"T_9ba7e_row0_col3\" class=\"data row0 col3\" >[1, 3, 4]</td>\n",
       "      <td id=\"T_9ba7e_row0_col4\" class=\"data row0 col4\" >[2]</td>\n",
       "      <td id=\"T_9ba7e_row0_col5\" class=\"data row0 col5\" >76103</td>\n",
       "      <td id=\"T_9ba7e_row0_col6\" class=\"data row0 col6\" >173353.59</td>\n",
       "      <td id=\"T_9ba7e_row0_col7\" class=\"data row0 col7\" >0.058</td>\n",
       "      <td id=\"T_9ba7e_row0_col8\" class=\"data row0 col8\" >{1: 0.18, 2: 0.03, 3: 0.35, 4: 0.44}</td>\n",
       "      <td id=\"T_9ba7e_row0_col9\" class=\"data row0 col9\" >[[0.0, 1.04], [0.24, 0.76], [0.43, 0.57], [0.62, 0.38], [0.78, 0.22], [0.86, 0.14], [0.93, 0.07], [0.97, 0.03], [1.0, 0.0], [1.03, 0.0], [1.05, 0.0]]</td>\n",
       "      <td id=\"T_9ba7e_row0_col10\" class=\"data row0 col10\" >[[0.0, 0.03, 0.5, 0.48], [0.74, 0.03, 0.0, 0.26]]</td>\n",
       "      <td id=\"T_9ba7e_row0_col11\" class=\"data row0 col11\" >[]</td>\n",
       "    </tr>\n",
       "    <tr>\n",
       "      <td id=\"T_9ba7e_row1_col0\" class=\"data row1 col0\" >n2</td>\n",
       "      <td id=\"T_9ba7e_row1_col1\" class=\"data row1 col1\" >Parent</td>\n",
       "      <td id=\"T_9ba7e_row1_col2\" class=\"data row1 col2\" >car_ownership in ('car_ownership1', 'car_ownership2')</td>\n",
       "      <td id=\"T_9ba7e_row1_col3\" class=\"data row1 col3\" >[1, 3, 4]</td>\n",
       "      <td id=\"T_9ba7e_row1_col4\" class=\"data row1 col4\" >[2]</td>\n",
       "      <td id=\"T_9ba7e_row1_col5\" class=\"data row1 col5\" >15608</td>\n",
       "      <td id=\"T_9ba7e_row1_col6\" class=\"data row1 col6\" >31995.42</td>\n",
       "      <td id=\"T_9ba7e_row1_col7\" class=\"data row1 col7\" >0.455</td>\n",
       "      <td id=\"T_9ba7e_row1_col8\" class=\"data row1 col8\" >{1: 0.56, 2: 0.03, 3: 0.11, 4: 0.31}</td>\n",
       "      <td id=\"T_9ba7e_row1_col9\" class=\"data row1 col9\" >[[0.89, 0.11], [0.59, 0.41], [0.39, 0.61], [0.24, 0.76], [0.0, 1.0]]</td>\n",
       "      <td id=\"T_9ba7e_row1_col10\" class=\"data row1 col10\" >[[0.86, 0.02, 0.0, 0.11], [0.12, 0.03, 0.27, 0.58]]</td>\n",
       "      <td id=\"T_9ba7e_row1_col11\" class=\"data row1 col11\" >[]</td>\n",
       "    </tr>\n",
       "    <tr>\n",
       "      <td id=\"T_9ba7e_row2_col0\" class=\"data row2 col0\" >n4</td>\n",
       "      <td id=\"T_9ba7e_row2_col1\" class=\"data row2 col1\" >Parent</td>\n",
       "      <td id=\"T_9ba7e_row2_col2\" class=\"data row2 col2\" >age_group in ('age_group0-18', 'age_group19-30', 'age_group31-65')</td>\n",
       "      <td id=\"T_9ba7e_row2_col3\" class=\"data row2 col3\" >[1, 3, 4]</td>\n",
       "      <td id=\"T_9ba7e_row2_col4\" class=\"data row2 col4\" >[2]</td>\n",
       "      <td id=\"T_9ba7e_row2_col5\" class=\"data row2 col5\" >5361</td>\n",
       "      <td id=\"T_9ba7e_row2_col6\" class=\"data row2 col6\" >8733.03</td>\n",
       "      <td id=\"T_9ba7e_row2_col7\" class=\"data row2 col7\" >0.504</td>\n",
       "      <td id=\"T_9ba7e_row2_col8\" class=\"data row2 col8\" >{1: 0.71, 2: 0.03, 3: 0.21, 4: 0.05}</td>\n",
       "      <td id=\"T_9ba7e_row2_col9\" class=\"data row2 col9\" >[[0.41, 0.59], [0.87, 0.13], [1.0, 0.0]]</td>\n",
       "      <td id=\"T_9ba7e_row2_col10\" class=\"data row2 col10\" >[[0.79, 0.04, 0.11, 0.06], [0.43, 0.0, 0.51, 0.06]]</td>\n",
       "      <td id=\"T_9ba7e_row2_col11\" class=\"data row2 col11\" >[]</td>\n",
       "    </tr>\n",
       "    <tr>\n",
       "      <td id=\"T_9ba7e_row3_col0\" class=\"data row3 col0\" >n8</td>\n",
       "      <td id=\"T_9ba7e_row3_col1\" class=\"data row3 col1\" >Child</td>\n",
       "      <td id=\"T_9ba7e_row3_col2\" class=\"data row3 col2\" >None</td>\n",
       "      <td id=\"T_9ba7e_row3_col3\" class=\"data row3 col3\" >None</td>\n",
       "      <td id=\"T_9ba7e_row3_col4\" class=\"data row3 col4\" >None</td>\n",
       "      <td id=\"T_9ba7e_row3_col5\" class=\"data row3 col5\" >928</td>\n",
       "      <td id=\"T_9ba7e_row3_col6\" class=\"data row3 col6\" >1770.84</td>\n",
       "      <td id=\"T_9ba7e_row3_col7\" class=\"data row3 col7\" >None</td>\n",
       "      <td id=\"T_9ba7e_row3_col8\" class=\"data row3 col8\" >{1: 0.48, 2: 0.01, 3: 0.43, 4: 0.07}</td>\n",
       "      <td id=\"T_9ba7e_row3_col9\" class=\"data row3 col9\" >[]</td>\n",
       "      <td id=\"T_9ba7e_row3_col10\" class=\"data row3 col10\" >[]</td>\n",
       "      <td id=\"T_9ba7e_row3_col11\" class=\"data row3 col11\" >[]</td>\n",
       "    </tr>\n",
       "    <tr>\n",
       "      <td id=\"T_9ba7e_row4_col0\" class=\"data row4 col0\" >n9</td>\n",
       "      <td id=\"T_9ba7e_row4_col1\" class=\"data row4 col1\" >Child</td>\n",
       "      <td id=\"T_9ba7e_row4_col2\" class=\"data row4 col2\" >None</td>\n",
       "      <td id=\"T_9ba7e_row4_col3\" class=\"data row4 col3\" >None</td>\n",
       "      <td id=\"T_9ba7e_row4_col4\" class=\"data row4 col4\" >None</td>\n",
       "      <td id=\"T_9ba7e_row4_col5\" class=\"data row4 col5\" >4433</td>\n",
       "      <td id=\"T_9ba7e_row4_col6\" class=\"data row4 col6\" >6641.92</td>\n",
       "      <td id=\"T_9ba7e_row4_col7\" class=\"data row4 col7\" >None</td>\n",
       "      <td id=\"T_9ba7e_row4_col8\" class=\"data row4 col8\" >{1: 0.76, 2: 0.03, 3: 0.17, 4: 0.05}</td>\n",
       "      <td id=\"T_9ba7e_row4_col9\" class=\"data row4 col9\" >[]</td>\n",
       "      <td id=\"T_9ba7e_row4_col10\" class=\"data row4 col10\" >[]</td>\n",
       "      <td id=\"T_9ba7e_row4_col11\" class=\"data row4 col11\" >[]</td>\n",
       "    </tr>\n",
       "    <tr>\n",
       "      <td id=\"T_9ba7e_row5_col0\" class=\"data row5 col0\" >n5</td>\n",
       "      <td id=\"T_9ba7e_row5_col1\" class=\"data row5 col1\" >Parent</td>\n",
       "      <td id=\"T_9ba7e_row5_col2\" class=\"data row5 col2\" >travel_month in ('travel_month10', 'travel_month12', 'travel_month3', 'travel_month4', 'travel_month7')</td>\n",
       "      <td id=\"T_9ba7e_row5_col3\" class=\"data row5 col3\" >[1, 3, 4]</td>\n",
       "      <td id=\"T_9ba7e_row5_col4\" class=\"data row5 col4\" >[2]</td>\n",
       "      <td id=\"T_9ba7e_row5_col5\" class=\"data row5 col5\" >10247</td>\n",
       "      <td id=\"T_9ba7e_row5_col6\" class=\"data row5 col6\" >19861.1</td>\n",
       "      <td id=\"T_9ba7e_row5_col7\" class=\"data row5 col7\" >0.533</td>\n",
       "      <td id=\"T_9ba7e_row5_col8\" class=\"data row5 col8\" >{1: 0.48, 2: 0.03, 3: 0.05, 4: 0.44}</td>\n",
       "      <td id=\"T_9ba7e_row5_col9\" class=\"data row5 col9\" >[[0.1, 0.9], [0.47, 0.53], [0.67, 0.33], [0.79, 0.21], [1.0, 0.0]]</td>\n",
       "      <td id=\"T_9ba7e_row5_col10\" class=\"data row5 col10\" >[[0.11, 0.03, 0.12, 0.73], [0.78, 0.02, 0.0, 0.19]]</td>\n",
       "      <td id=\"T_9ba7e_row5_col11\" class=\"data row5 col11\" >[]</td>\n",
       "    </tr>\n",
       "    <tr>\n",
       "      <td id=\"T_9ba7e_row6_col0\" class=\"data row6 col0\" >n10</td>\n",
       "      <td id=\"T_9ba7e_row6_col1\" class=\"data row6 col1\" >Child</td>\n",
       "      <td id=\"T_9ba7e_row6_col2\" class=\"data row6 col2\" >None</td>\n",
       "      <td id=\"T_9ba7e_row6_col3\" class=\"data row6 col3\" >None</td>\n",
       "      <td id=\"T_9ba7e_row6_col4\" class=\"data row6 col4\" >None</td>\n",
       "      <td id=\"T_9ba7e_row6_col5\" class=\"data row6 col5\" >6159</td>\n",
       "      <td id=\"T_9ba7e_row6_col6\" class=\"data row6 col6\" >11993.53</td>\n",
       "      <td id=\"T_9ba7e_row6_col7\" class=\"data row6 col7\" >None</td>\n",
       "      <td id=\"T_9ba7e_row6_col8\" class=\"data row6 col8\" >{1: 0.46, 2: 0.03, 3: 0.05, 4: 0.46}</td>\n",
       "      <td id=\"T_9ba7e_row6_col9\" class=\"data row6 col9\" >[]</td>\n",
       "      <td id=\"T_9ba7e_row6_col10\" class=\"data row6 col10\" >[]</td>\n",
       "      <td id=\"T_9ba7e_row6_col11\" class=\"data row6 col11\" >[]</td>\n",
       "    </tr>\n",
       "    <tr>\n",
       "      <td id=\"T_9ba7e_row7_col0\" class=\"data row7 col0\" >n11</td>\n",
       "      <td id=\"T_9ba7e_row7_col1\" class=\"data row7 col1\" >Child</td>\n",
       "      <td id=\"T_9ba7e_row7_col2\" class=\"data row7 col2\" >None</td>\n",
       "      <td id=\"T_9ba7e_row7_col3\" class=\"data row7 col3\" >None</td>\n",
       "      <td id=\"T_9ba7e_row7_col4\" class=\"data row7 col4\" >None</td>\n",
       "      <td id=\"T_9ba7e_row7_col5\" class=\"data row7 col5\" >4088</td>\n",
       "      <td id=\"T_9ba7e_row7_col6\" class=\"data row7 col6\" >7824.38</td>\n",
       "      <td id=\"T_9ba7e_row7_col7\" class=\"data row7 col7\" >None</td>\n",
       "      <td id=\"T_9ba7e_row7_col8\" class=\"data row7 col8\" >{1: 0.51, 2: 0.02, 3: 0.06, 4: 0.41}</td>\n",
       "      <td id=\"T_9ba7e_row7_col9\" class=\"data row7 col9\" >[]</td>\n",
       "      <td id=\"T_9ba7e_row7_col10\" class=\"data row7 col10\" >[]</td>\n",
       "      <td id=\"T_9ba7e_row7_col11\" class=\"data row7 col11\" >[]</td>\n",
       "    </tr>\n",
       "    <tr>\n",
       "      <td id=\"T_9ba7e_row8_col0\" class=\"data row8 col0\" >n3</td>\n",
       "      <td id=\"T_9ba7e_row8_col1\" class=\"data row8 col1\" >Parent</td>\n",
       "      <td id=\"T_9ba7e_row8_col2\" class=\"data row8 col2\" >trafficperc_group in ('2medium_traffic', '3mediumhigh_traffic', '4high_traffic')</td>\n",
       "      <td id=\"T_9ba7e_row8_col3\" class=\"data row8 col3\" >[1, 3, 4]</td>\n",
       "      <td id=\"T_9ba7e_row8_col4\" class=\"data row8 col4\" >[2]</td>\n",
       "      <td id=\"T_9ba7e_row8_col5\" class=\"data row8 col5\" >60495</td>\n",
       "      <td id=\"T_9ba7e_row8_col6\" class=\"data row8 col6\" >123704.61</td>\n",
       "      <td id=\"T_9ba7e_row8_col7\" class=\"data row8 col7\" >0.559</td>\n",
       "      <td id=\"T_9ba7e_row8_col8\" class=\"data row8 col8\" >{1: 0.08, 2: 0.03, 3: 0.42, 4: 0.48}</td>\n",
       "      <td id=\"T_9ba7e_row8_col9\" class=\"data row8 col9\" >[[0.29, 0.71], [0.46, 0.54], [0.61, 0.39], [0.8, 0.2], [1.0, 0.0]]</td>\n",
       "      <td id=\"T_9ba7e_row8_col10\" class=\"data row8 col10\" >[[0.05, 0.05, 0.74, 0.16], [0.1, 0.01, 0.0, 0.89]]</td>\n",
       "      <td id=\"T_9ba7e_row8_col11\" class=\"data row8 col11\" >[]</td>\n",
       "    </tr>\n",
       "    <tr>\n",
       "      <td id=\"T_9ba7e_row9_col0\" class=\"data row9 col0\" >n6</td>\n",
       "      <td id=\"T_9ba7e_row9_col1\" class=\"data row9 col1\" >Parent</td>\n",
       "      <td id=\"T_9ba7e_row9_col2\" class=\"data row9 col2\" >driving_license in ('driving_license1',)</td>\n",
       "      <td id=\"T_9ba7e_row9_col3\" class=\"data row9 col3\" >[1, 3, 4]</td>\n",
       "      <td id=\"T_9ba7e_row9_col4\" class=\"data row9 col4\" >[2]</td>\n",
       "      <td id=\"T_9ba7e_row9_col5\" class=\"data row9 col5\" >32955</td>\n",
       "      <td id=\"T_9ba7e_row9_col6\" class=\"data row9 col6\" >62628.81</td>\n",
       "      <td id=\"T_9ba7e_row9_col7\" class=\"data row9 col7\" >0.576</td>\n",
       "      <td id=\"T_9ba7e_row9_col8\" class=\"data row9 col8\" >{1: 0.09, 2: 0.02, 3: 0.27, 4: 0.62}</td>\n",
       "      <td id=\"T_9ba7e_row9_col9\" class=\"data row9 col9\" >[[0.45, 0.55], [0.87, 0.13]]</td>\n",
       "      <td id=\"T_9ba7e_row9_col10\" class=\"data row9 col10\" >[[0.05, 0.03, 0.05, 0.87], [0.18, 0.02, 0.8, 0.0]]</td>\n",
       "      <td id=\"T_9ba7e_row9_col11\" class=\"data row9 col11\" >[]</td>\n",
       "    </tr>\n",
       "    <tr>\n",
       "      <td id=\"T_9ba7e_row10_col0\" class=\"data row10 col0\" >n12</td>\n",
       "      <td id=\"T_9ba7e_row10_col1\" class=\"data row10 col1\" >Child</td>\n",
       "      <td id=\"T_9ba7e_row10_col2\" class=\"data row10 col2\" >None</td>\n",
       "      <td id=\"T_9ba7e_row10_col3\" class=\"data row10 col3\" >None</td>\n",
       "      <td id=\"T_9ba7e_row10_col4\" class=\"data row10 col4\" >None</td>\n",
       "      <td id=\"T_9ba7e_row10_col5\" class=\"data row10 col5\" >12407</td>\n",
       "      <td id=\"T_9ba7e_row10_col6\" class=\"data row10 col6\" >26460.86</td>\n",
       "      <td id=\"T_9ba7e_row10_col7\" class=\"data row10 col7\" >None</td>\n",
       "      <td id=\"T_9ba7e_row10_col8\" class=\"data row10 col8\" >{1: 0.12, 2: 0.02, 3: 0.46, 4: 0.39}</td>\n",
       "      <td id=\"T_9ba7e_row10_col9\" class=\"data row10 col9\" >[]</td>\n",
       "      <td id=\"T_9ba7e_row10_col10\" class=\"data row10 col10\" >[]</td>\n",
       "      <td id=\"T_9ba7e_row10_col11\" class=\"data row10 col11\" >[]</td>\n",
       "    </tr>\n",
       "    <tr>\n",
       "      <td id=\"T_9ba7e_row11_col0\" class=\"data row11 col0\" >n13</td>\n",
       "      <td id=\"T_9ba7e_row11_col1\" class=\"data row11 col1\" >Child</td>\n",
       "      <td id=\"T_9ba7e_row11_col2\" class=\"data row11 col2\" >None</td>\n",
       "      <td id=\"T_9ba7e_row11_col3\" class=\"data row11 col3\" >None</td>\n",
       "      <td id=\"T_9ba7e_row11_col4\" class=\"data row11 col4\" >None</td>\n",
       "      <td id=\"T_9ba7e_row11_col5\" class=\"data row11 col5\" >20548</td>\n",
       "      <td id=\"T_9ba7e_row11_col6\" class=\"data row11 col6\" >31223.56</td>\n",
       "      <td id=\"T_9ba7e_row11_col7\" class=\"data row11 col7\" >None</td>\n",
       "      <td id=\"T_9ba7e_row11_col8\" class=\"data row11 col8\" >{1: 0.07, 2: 0.03, 3: 0.15, 4: 0.76}</td>\n",
       "      <td id=\"T_9ba7e_row11_col9\" class=\"data row11 col9\" >[]</td>\n",
       "      <td id=\"T_9ba7e_row11_col10\" class=\"data row11 col10\" >[]</td>\n",
       "      <td id=\"T_9ba7e_row11_col11\" class=\"data row11 col11\" >[]</td>\n",
       "    </tr>\n",
       "    <tr>\n",
       "      <td id=\"T_9ba7e_row12_col0\" class=\"data row12 col0\" >n7</td>\n",
       "      <td id=\"T_9ba7e_row12_col1\" class=\"data row12 col1\" >Parent</td>\n",
       "      <td id=\"T_9ba7e_row12_col2\" class=\"data row12 col2\" >fueltype in ('fueltype1', 'fueltype2', 'fueltype4', 'fueltype6')</td>\n",
       "      <td id=\"T_9ba7e_row12_col3\" class=\"data row12 col3\" >[1, 3, 4]</td>\n",
       "      <td id=\"T_9ba7e_row12_col4\" class=\"data row12 col4\" >[2]</td>\n",
       "      <td id=\"T_9ba7e_row12_col5\" class=\"data row12 col5\" >27540</td>\n",
       "      <td id=\"T_9ba7e_row12_col6\" class=\"data row12 col6\" >53504.14</td>\n",
       "      <td id=\"T_9ba7e_row12_col7\" class=\"data row12 col7\" >0.585</td>\n",
       "      <td id=\"T_9ba7e_row12_col8\" class=\"data row12 col8\" >{1: 0.06, 2: 0.04, 3: 0.6, 4: 0.3}</td>\n",
       "      <td id=\"T_9ba7e_row12_col9\" class=\"data row12 col9\" >[[0.6, 0.4], [0.6, 0.4], [0.48, 0.52], [0.5, 0.5], [0.3, 0.7], [1.0, 0.0]]</td>\n",
       "      <td id=\"T_9ba7e_row12_col10\" class=\"data row12 col10\" >[[0.08, 0.06, 0.78, 0.08], [0.01, 0.0, 0.03, 0.96]]</td>\n",
       "      <td id=\"T_9ba7e_row12_col11\" class=\"data row12 col11\" >[]</td>\n",
       "    </tr>\n",
       "    <tr>\n",
       "      <td id=\"T_9ba7e_row13_col0\" class=\"data row13 col0\" >n14</td>\n",
       "      <td id=\"T_9ba7e_row13_col1\" class=\"data row13 col1\" >Child</td>\n",
       "      <td id=\"T_9ba7e_row13_col2\" class=\"data row13 col2\" >None</td>\n",
       "      <td id=\"T_9ba7e_row13_col3\" class=\"data row13 col3\" >None</td>\n",
       "      <td id=\"T_9ba7e_row13_col4\" class=\"data row13 col4\" >None</td>\n",
       "      <td id=\"T_9ba7e_row13_col5\" class=\"data row13 col5\" >603</td>\n",
       "      <td id=\"T_9ba7e_row13_col6\" class=\"data row13 col6\" >1032.33</td>\n",
       "      <td id=\"T_9ba7e_row13_col7\" class=\"data row13 col7\" >None</td>\n",
       "      <td id=\"T_9ba7e_row13_col8\" class=\"data row13 col8\" >{1: 0.04, 2: 0.02, 3: 0.3, 4: 0.64}</td>\n",
       "      <td id=\"T_9ba7e_row13_col9\" class=\"data row13 col9\" >[]</td>\n",
       "      <td id=\"T_9ba7e_row13_col10\" class=\"data row13 col10\" >[]</td>\n",
       "      <td id=\"T_9ba7e_row13_col11\" class=\"data row13 col11\" >[]</td>\n",
       "    </tr>\n",
       "    <tr>\n",
       "      <td id=\"T_9ba7e_row14_col0\" class=\"data row14 col0\" >n15</td>\n",
       "      <td id=\"T_9ba7e_row14_col1\" class=\"data row14 col1\" >Child</td>\n",
       "      <td id=\"T_9ba7e_row14_col2\" class=\"data row14 col2\" >None</td>\n",
       "      <td id=\"T_9ba7e_row14_col3\" class=\"data row14 col3\" >None</td>\n",
       "      <td id=\"T_9ba7e_row14_col4\" class=\"data row14 col4\" >None</td>\n",
       "      <td id=\"T_9ba7e_row14_col5\" class=\"data row14 col5\" >26937</td>\n",
       "      <td id=\"T_9ba7e_row14_col6\" class=\"data row14 col6\" >52172.34</td>\n",
       "      <td id=\"T_9ba7e_row14_col7\" class=\"data row14 col7\" >None</td>\n",
       "      <td id=\"T_9ba7e_row14_col8\" class=\"data row14 col8\" >{1: 0.07, 2: 0.04, 3: 0.6, 4: 0.29}</td>\n",
       "      <td id=\"T_9ba7e_row14_col9\" class=\"data row14 col9\" >[]</td>\n",
       "      <td id=\"T_9ba7e_row14_col10\" class=\"data row14 col10\" >[]</td>\n",
       "      <td id=\"T_9ba7e_row14_col11\" class=\"data row14 col11\" >[]</td>\n",
       "    </tr>\n",
       "  </tbody>\n",
       "</table>\n"
      ],
      "text/plain": [
       "<pandas.io.formats.style.Styler at 0x1553f23dd10>"
      ]
     },
     "execution_count": 17,
     "metadata": {},
     "output_type": "execute_result"
    }
   ],
   "source": [
    "\n",
    "pd.set_option('display.max_rows', None)\n",
    "pd.set_option('display.max_colwidth', 3000)\n",
    "\n",
    "\n",
    "\n",
    "tree.print_tree(table = True, html = False).style.hide()"
   ]
  },
  {
   "cell_type": "code",
   "execution_count": 18,
   "metadata": {},
   "outputs": [
    {
     "data": {
      "text/html": [
       "<div>\n",
       "<style scoped>\n",
       "    .dataframe tbody tr th:only-of-type {\n",
       "        vertical-align: middle;\n",
       "    }\n",
       "\n",
       "    .dataframe tbody tr th {\n",
       "        vertical-align: top;\n",
       "    }\n",
       "\n",
       "    .dataframe thead th {\n",
       "        text-align: right;\n",
       "    }\n",
       "</style>\n",
       "<table border=\"1\" class=\"dataframe\">\n",
       "  <thead>\n",
       "    <tr style=\"text-align: right;\">\n",
       "      <th></th>\n",
       "      <th>purpose</th>\n",
       "      <th>fueltype</th>\n",
       "      <th>faretype</th>\n",
       "      <th>bus_scale</th>\n",
       "      <th>travel_month</th>\n",
       "      <th>day_of_week</th>\n",
       "      <th>female</th>\n",
       "      <th>driving_license</th>\n",
       "      <th>car_ownership</th>\n",
       "      <th>pt_interchanges</th>\n",
       "      <th>age_group</th>\n",
       "      <th>distance_group</th>\n",
       "      <th>starttime_group</th>\n",
       "      <th>cost_group</th>\n",
       "      <th>costdrivingfuel_group</th>\n",
       "      <th>trafficperc_group</th>\n",
       "      <th>drivingcharge_group</th>\n",
       "    </tr>\n",
       "  </thead>\n",
       "  <tbody>\n",
       "    <tr>\n",
       "      <th>76103</th>\n",
       "      <td>purpose3</td>\n",
       "      <td>fueltype1</td>\n",
       "      <td>faretype1</td>\n",
       "      <td>bus_scale1.0</td>\n",
       "      <td>travel_month1</td>\n",
       "      <td>day_of_week4</td>\n",
       "      <td>female1</td>\n",
       "      <td>driving_license0</td>\n",
       "      <td>car_ownership1</td>\n",
       "      <td>pt_interchanges1</td>\n",
       "      <td>age_group19-30</td>\n",
       "      <td>distance07</td>\n",
       "      <td>morning</td>\n",
       "      <td>medium_cost</td>\n",
       "      <td>costdrivingfuelgroup7</td>\n",
       "      <td>1mediumlow_traffic</td>\n",
       "      <td>low_charge</td>\n",
       "    </tr>\n",
       "    <tr>\n",
       "      <th>76104</th>\n",
       "      <td>purpose3</td>\n",
       "      <td>fueltype1</td>\n",
       "      <td>faretype1</td>\n",
       "      <td>bus_scale1.0</td>\n",
       "      <td>travel_month1</td>\n",
       "      <td>day_of_week4</td>\n",
       "      <td>female1</td>\n",
       "      <td>driving_license0</td>\n",
       "      <td>car_ownership1</td>\n",
       "      <td>pt_interchanges1</td>\n",
       "      <td>age_group19-30</td>\n",
       "      <td>distance07</td>\n",
       "      <td>afternoon</td>\n",
       "      <td>medium_cost</td>\n",
       "      <td>costdrivingfuelgroup7</td>\n",
       "      <td>1mediumlow_traffic</td>\n",
       "      <td>low_charge</td>\n",
       "    </tr>\n",
       "    <tr>\n",
       "      <th>76105</th>\n",
       "      <td>purpose3</td>\n",
       "      <td>fueltype1</td>\n",
       "      <td>faretype1</td>\n",
       "      <td>bus_scale1.0</td>\n",
       "      <td>travel_month1</td>\n",
       "      <td>day_of_week4</td>\n",
       "      <td>female0</td>\n",
       "      <td>driving_license1</td>\n",
       "      <td>car_ownership1</td>\n",
       "      <td>pt_interchanges1</td>\n",
       "      <td>age_group31-65</td>\n",
       "      <td>distance07</td>\n",
       "      <td>morning</td>\n",
       "      <td>medium_cost</td>\n",
       "      <td>costdrivingfuelgroup7</td>\n",
       "      <td>1mediumlow_traffic</td>\n",
       "      <td>low_charge</td>\n",
       "    </tr>\n",
       "    <tr>\n",
       "      <th>76106</th>\n",
       "      <td>purpose3</td>\n",
       "      <td>fueltype1</td>\n",
       "      <td>faretype1</td>\n",
       "      <td>bus_scale1.0</td>\n",
       "      <td>travel_month1</td>\n",
       "      <td>day_of_week4</td>\n",
       "      <td>female0</td>\n",
       "      <td>driving_license1</td>\n",
       "      <td>car_ownership1</td>\n",
       "      <td>pt_interchanges1</td>\n",
       "      <td>age_group31-65</td>\n",
       "      <td>distance07</td>\n",
       "      <td>afternoon</td>\n",
       "      <td>medium_cost</td>\n",
       "      <td>costdrivingfuelgroup7</td>\n",
       "      <td>1mediumlow_traffic</td>\n",
       "      <td>low_charge</td>\n",
       "    </tr>\n",
       "    <tr>\n",
       "      <th>76107</th>\n",
       "      <td>purpose5</td>\n",
       "      <td>fueltype1</td>\n",
       "      <td>faretype1</td>\n",
       "      <td>bus_scale1.0</td>\n",
       "      <td>travel_month1</td>\n",
       "      <td>day_of_week4</td>\n",
       "      <td>female0</td>\n",
       "      <td>driving_license1</td>\n",
       "      <td>car_ownership2</td>\n",
       "      <td>pt_interchanges0</td>\n",
       "      <td>age_group31-65</td>\n",
       "      <td>distance06</td>\n",
       "      <td>afternoon</td>\n",
       "      <td>low_cost</td>\n",
       "      <td>costdrivingfuelgroup7</td>\n",
       "      <td>0low_traffic</td>\n",
       "      <td>low_charge</td>\n",
       "    </tr>\n",
       "  </tbody>\n",
       "</table>\n",
       "</div>"
      ],
      "text/plain": [
       "        purpose   fueltype   faretype     bus_scale   travel_month  \\\n",
       "76103  purpose3  fueltype1  faretype1  bus_scale1.0  travel_month1   \n",
       "76104  purpose3  fueltype1  faretype1  bus_scale1.0  travel_month1   \n",
       "76105  purpose3  fueltype1  faretype1  bus_scale1.0  travel_month1   \n",
       "76106  purpose3  fueltype1  faretype1  bus_scale1.0  travel_month1   \n",
       "76107  purpose5  fueltype1  faretype1  bus_scale1.0  travel_month1   \n",
       "\n",
       "        day_of_week   female   driving_license   car_ownership  \\\n",
       "76103  day_of_week4  female1  driving_license0  car_ownership1   \n",
       "76104  day_of_week4  female1  driving_license0  car_ownership1   \n",
       "76105  day_of_week4  female0  driving_license1  car_ownership1   \n",
       "76106  day_of_week4  female0  driving_license1  car_ownership1   \n",
       "76107  day_of_week4  female0  driving_license1  car_ownership2   \n",
       "\n",
       "        pt_interchanges       age_group distance_group starttime_group  \\\n",
       "76103  pt_interchanges1  age_group19-30     distance07         morning   \n",
       "76104  pt_interchanges1  age_group19-30     distance07       afternoon   \n",
       "76105  pt_interchanges1  age_group31-65     distance07         morning   \n",
       "76106  pt_interchanges1  age_group31-65     distance07       afternoon   \n",
       "76107  pt_interchanges0  age_group31-65     distance06       afternoon   \n",
       "\n",
       "        cost_group  costdrivingfuel_group   trafficperc_group  \\\n",
       "76103  medium_cost  costdrivingfuelgroup7  1mediumlow_traffic   \n",
       "76104  medium_cost  costdrivingfuelgroup7  1mediumlow_traffic   \n",
       "76105  medium_cost  costdrivingfuelgroup7  1mediumlow_traffic   \n",
       "76106  medium_cost  costdrivingfuelgroup7  1mediumlow_traffic   \n",
       "76107     low_cost  costdrivingfuelgroup7        0low_traffic   \n",
       "\n",
       "      drivingcharge_group  \n",
       "76103          low_charge  \n",
       "76104          low_charge  \n",
       "76105          low_charge  \n",
       "76106          low_charge  \n",
       "76107          low_charge  "
      ]
     },
     "execution_count": 18,
     "metadata": {},
     "output_type": "execute_result"
    }
   ],
   "source": [
    "X_test['purpose'] = 'purpose' + X_test['purpose'].astype(str)\n",
    "X_test['fueltype'] = 'fueltype' + X_test['fueltype'].astype(str)\n",
    "X_test['faretype'] = 'faretype' + X_test['faretype'].astype(str)\n",
    "X_test['bus_scale'] = 'bus_scale' + X_test['bus_scale'].astype(str)\n",
    "X_test['travel_month'] = 'travel_month' + X_test['travel_month'].astype(str)\n",
    "X_test['day_of_week'] = 'day_of_week' + X_test['day_of_week'].astype(str)\n",
    "X_test['female'] = 'female' + X_test['female'].astype(str)\n",
    "X_test['driving_license'] = 'driving_license' + X_test['driving_license'].astype(str)\n",
    "X_test['car_ownership'] = 'car_ownership' + X_test['car_ownership'].astype(str)\n",
    "X_test['pt_interchanges'] = 'pt_interchanges' + X_test['pt_interchanges'].astype(str)\n",
    "X_test['age_group'] = 'age_group' + X_test['age_group'].astype(str)\n",
    "\n",
    "X_test.head()"
   ]
  },
  {
   "cell_type": "code",
   "execution_count": 19,
   "metadata": {},
   "outputs": [],
   "source": [
    "\n",
    "predictions = []\n",
    "\n",
    "for i in range(X_test.shape[0]):\n",
    "\n",
    "    d = dict(X_test.iloc[i,])\n",
    "    for list in tree.tree:\n",
    "        for tuple in list:\n",
    "                for node in tuple:\n",
    "                    if node.name ==\"n1\":\n",
    "                        tree.pred_x(node, d, tree.get_all_node(), tree.get_leaf())\n",
    "                        predictions.append(tree.prediction_cat[-1])\n"
   ]
  },
  {
   "cell_type": "code",
   "execution_count": 20,
   "metadata": {},
   "outputs": [
    {
     "data": {
      "text/plain": [
       "38.61"
      ]
     },
     "execution_count": 20,
     "metadata": {},
     "output_type": "execute_result"
    }
   ],
   "source": [
    "y_test_list = y_test[\"travel_mode\"].values.tolist()\n",
    "\n",
    "\n",
    "missclass = 0 \n",
    "\n",
    "for i in range(len(predictions)):\n",
    "    if predictions[i] != y_test_list[i]:\n",
    "        missclass += 1 \n",
    "\n",
    "round(missclass / len(y_test_list) * 100, 2)"
   ]
  },
  {
   "cell_type": "markdown",
   "metadata": {},
   "source": [
    "27.87"
   ]
  },
  {
   "cell_type": "code",
   "execution_count": 21,
   "metadata": {},
   "outputs": [
    {
     "data": {
      "text/plain": [
       "travel_mode\n",
       "4    2213\n",
       "3    1738\n",
       "1     901\n",
       "2     131\n",
       "Name: count, dtype: int64"
      ]
     },
     "execution_count": 21,
     "metadata": {},
     "output_type": "execute_result"
    }
   ],
   "source": [
    "set(y_test_list)\n",
    "y_test['travel_mode'].value_counts()"
   ]
  },
  {
   "cell_type": "code",
   "execution_count": 22,
   "metadata": {},
   "outputs": [
    {
     "data": {
      "text/plain": [
       "('Accuracy', 35.74, 0.0, 84.46, 57.34)"
      ]
     },
     "execution_count": 22,
     "metadata": {},
     "output_type": "execute_result"
    }
   ],
   "source": [
    "missclass1 = 0 \n",
    "class1 = 0\n",
    "missclass2 = 0 \n",
    "class2 = 0\n",
    "missclass3 = 0 \n",
    "class3 = 0\n",
    "missclass4 = 0 \n",
    "class4 = 0\n",
    "\n",
    "for i in range(len(predictions)):\n",
    "    if y_test_list[i] ==1:\n",
    "        class1 += 1\n",
    "        if predictions[i] != y_test_list[i]:\n",
    "            missclass1 += 1 \n",
    "    if y_test_list[i] ==2:\n",
    "        class2 += 1\n",
    "        if predictions[i] != y_test_list[i]:\n",
    "            missclass2 += 1 \n",
    "    if y_test_list[i] ==3:\n",
    "        class3 += 1\n",
    "        if predictions[i] != y_test_list[i]:\n",
    "            missclass3 += 1 \n",
    "    if y_test_list[i] ==4:\n",
    "        class4 += 1\n",
    "        if predictions[i] != y_test_list[i]:\n",
    "            missclass4 += 1 \n",
    "\n",
    "\n",
    "\"Accuracy\", round((1-missclass1 / class1) * 100, 2), round((1-missclass2 / class2) * 100, 2), round((1-missclass3 / class3) * 100, 2), round((1-missclass4 / class4 )* 100, 2)"
   ]
  }
 ],
 "metadata": {
  "kernelspec": {
   "display_name": "base",
   "language": "python",
   "name": "python3"
  },
  "language_info": {
   "codemirror_mode": {
    "name": "ipython",
    "version": 3
   },
   "file_extension": ".py",
   "mimetype": "text/x-python",
   "name": "python",
   "nbconvert_exporter": "python",
   "pygments_lexer": "ipython3",
   "version": "3.11.0"
  },
  "orig_nbformat": 4
 },
 "nbformat": 4,
 "nbformat_minor": 2
}
