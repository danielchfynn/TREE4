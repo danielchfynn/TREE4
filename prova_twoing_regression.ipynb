{
 "cells": [
  {
   "cell_type": "code",
   "execution_count": 1,
   "metadata": {},
   "outputs": [],
   "source": [
    "#from __future__ import annotations\n",
    "#from tkinter import N\n",
    "\n",
    "from cart import *\n",
    "\n",
    "import pandas as pd\n",
    "\n",
    "#d = dict(features, **n_features)  #merges the two dicts\n",
    "#df = pd.DataFrame(data=d)         #creates the dataframe\n",
    "\n",
    "#print(df)\n",
    "#import csv\n",
    "\n",
    "\n",
    "\n",
    "#####################################loading the carseats data#########################\n",
    "\n",
    "df=pd.read_csv('Carseats_train.csv')\n",
    "df=df.iloc[:,1:]\n",
    "\n",
    "#df = df.iloc[:50, ] #making it easier for twoing\n",
    "\n",
    "features_names=list(df.columns)\n",
    "\n",
    "colonne=features_names[:6]\n",
    "features_name=features_names[7:9]\n",
    "features_names=colonne + features_name\n",
    "\n",
    "n_features_names=list(df.columns)\n",
    "columns = [(n_features_names[6])]\n",
    "n_features_name = n_features_names[9:11]\n",
    "n_features_names=columns + n_features_name\n",
    "\n",
    "features=df.iloc[:,0:6]\n",
    "features2=df.iloc[:,7:9]\n",
    "\n",
    "features=dict(features)\n",
    "features2=dict(features2)\n",
    "\n",
    "\n",
    "n_features=df.iloc[:,6:7]\n",
    "n_features2=df.iloc[:,9:11]\n",
    "\n",
    "\n",
    "n_features=dict(n_features)\n",
    "n_features2=dict(n_features2)\n",
    "\n",
    "features = dict(features, **features2)\n",
    "n_features = dict(n_features, **n_features2)\n",
    "\n",
    "\n",
    "\n",
    "y=features['Price']\n",
    "exclude_keys = ['Price']\n",
    "new_d = {k: features[k] for k in set(list(features.keys())) - set(exclude_keys)}\n",
    "features=new_d\n",
    "\n",
    "indici = np.arange(0, len(y))\n",
    "\n",
    "features_names3 = features_names[0:5]\n",
    "features_names4 = features_names[6:]\n",
    "features_names = features_names3 +  features_names4 \n",
    "\n",
    "#############Data Prep for prediction ############\n",
    "df_test=pd.read_csv('Carseats_test.csv')\n",
    "df_test=df_test.iloc[:,1:]\n",
    "\n",
    "\n",
    "features_test=df_test.iloc[:,0:6]\n",
    "features2_test=df_test.iloc[:,7:9]\n",
    "\n",
    "features_test=dict(features_test)\n",
    "features2_test=dict(features2_test)\n",
    "\n",
    "\n",
    "n_features_test=df_test.iloc[:,6:7]\n",
    "n_features2_test=df_test.iloc[:,9:11]\n",
    "\n",
    "\n",
    "n_features_test=dict(n_features_test)\n",
    "n_features2_test=dict(n_features2_test)\n",
    "\n",
    "features_test = dict(features_test, **features2_test)\n",
    "n_features_test = dict(n_features_test, **n_features2_test)\n",
    "\n",
    "y_test=features_test['Price']\n",
    "\n",
    "y_test = y_test.tolist()\n",
    "\n",
    "del features_test[\"Price\"]   \n",
    "\n",
    "#impurity = impurity_fn('MSE') # chhose the simplest impurity functin (for regression tree)\n",
    "\n",
    "#impurity = Impurity (\"MSE\")\n",
    "# start a tree structure by instantiating its root\n",
    "#print(\"features\", features)\n",
    "#print(\"features_names\", features_names)\n",
    "#print(\"n_features\", n_features)\n",
    "#print(\"n_features_names\", n_features_names)\n",
    "\n",
    "\n",
    "\n",
    "############Program Running\n",
    "\n",
    "\n",
    "###User Defined Function \n",
    "\n",
    "\n",
    "\n",
    "#when definining a funcion please be aware we are using purity gain or information gain or greatest difference between variance, all positive aspects \n",
    "#adding user_defined as a possible impurity_fn and added user_impur to carry that function \n",
    "def user_fn(self, node): #impur just takes node in CART\n",
    "    \n",
    "    return (mean(self.y[node.indexes])**2)*len(self.y[node.indexes])\n",
    "\n",
    "\n",
    "\n",
    "\n"
   ]
  },
  {
   "attachments": {},
   "cell_type": "markdown",
   "metadata": {},
   "source": [
    "remember when running lbt will need classes for variables only!!\n",
    "\n",
    "will trial in twoing_classification as the data is there "
   ]
  },
  {
   "cell_type": "code",
   "execution_count": 2,
   "metadata": {},
   "outputs": [],
   "source": [
    "lbt = False\n",
    "if lbt == True:\n",
    "\n",
    "    min(features[\"Population\"]), max(features[\"Population\"])\n",
    "    features[\"Population\"].loc[features[\"Population\"]<100] = 1\n",
    "    features[\"Population\"].loc[features[\"Population\"].between(100,200)] = 2\n",
    "    features[\"Population\"].loc[features[\"Population\"].between(200,300)] = 3\n",
    "    features[\"Population\"].loc[features[\"Population\"].between(300,400)] = 4\n",
    "    features[\"Population\"].loc[features[\"Population\"]>=400] = 5\n",
    "    features[\"Population\"] = \"Population\" + features[\"Population\"].astype(str)\n",
    "\n",
    "    features[\"CompPrice\"].loc[features[\"CompPrice\"]<100] = 1\n",
    "    features[\"CompPrice\"].loc[features[\"CompPrice\"].between(100,125)] = 2\n",
    "    features[\"CompPrice\"].loc[features[\"CompPrice\"].between(125,150)] = 3\n",
    "    features[\"CompPrice\"].loc[features[\"CompPrice\"]>=150] = 4\n",
    "    features[\"CompPrice\"] = \"CompPrice\" + features[\"CompPrice\"].astype(str)\n",
    "\n",
    "    features[\"Sales\"] = round(features[\"Sales\"])\n",
    "    features[\"Sales\"] = \"Sales\" + features[\"Sales\"].astype(str)\n",
    "\n",
    "    features[\"Age\"].loc[features[\"Age\"]<35] = 1\n",
    "    features[\"Age\"].loc[features[\"Age\"].between(35,45)] = 2\n",
    "    features[\"Age\"].loc[features[\"Age\"].between(45,55)] = 3\n",
    "    features[\"Age\"].loc[features[\"Age\"].between(55,65)] = 4\n",
    "    features[\"Age\"].loc[features[\"Age\"]>=65] = 5\n",
    "    features[\"Age\"] = \"Age\" + features[\"Age\"].astype(str)\n",
    "\n",
    "    features[\"Advertising\"] = \"Advertising\" + features[\"Advertising\"].astype(str)\n",
    "\n",
    "    features[\"Education\"] = \"Education\" + features[\"Education\"].astype(str)\n",
    "\n",
    "    features[\"Income\"].loc[features[\"Income\"]<40] = 1\n",
    "    features[\"Income\"].loc[features[\"Income\"].between(40,60)] = 2\n",
    "    features[\"Income\"].loc[features[\"Income\"].between(60,80)] = 3\n",
    "    features[\"Income\"].loc[features[\"Income\"].between(80,100)] = 4\n",
    "    features[\"Income\"].loc[features[\"Income\"]>=100] = 5\n",
    "    features[\"Income\"] = \"Income\" + features[\"Income\"].astype(str)\n",
    "\n",
    "\n",
    "    for f in features:\n",
    "        n_features[f] = features[f]\n",
    "\n",
    "    n_features_names = n_features_names + features_names\n",
    "\n",
    "    features_names = []\n",
    "    features = []"
   ]
  },
  {
   "cell_type": "code",
   "execution_count": 3,
   "metadata": {},
   "outputs": [
    {
     "name": "stdout",
     "output_type": "stream",
     "text": [
      "Split Found:  n1 [['Sales', 0.91, 0.25994967727818896, 0]] start\n",
      "node_proportion_total  0.05870565115754729\n",
      "Split Found:  n3 [['Sales', 9.95, 0.1779100943899147, 1]] right\n",
      "node_proportion_total  0.17829644227884245\n",
      "Node_proportion_gain  0.11959079112129516\n",
      "Split Found:  n6 [['Sales', 7.52, 0.0933332131484029, 2]] left\n",
      "node_proportion_total  0.24085664614508612\n",
      "Node_proportion_gain  0.06256020386624367\n",
      "Split Found:  n12 [['CompPrice', 148, 0.4161490683229818, 3]] left\n",
      "node_proportion_total  0.28284453406366844\n",
      "Node_proportion_gain  0.04198788791858232\n",
      "Split Found:  n24 [['Sales', 3.42, 0.11193640749666481, 4]] left\n",
      "node_proportion_total  0.2889639633718404\n",
      "Node_proportion_gain  0.006119429308171942\n",
      "Node Search Split Error for:  n25 with obs in node:  7  which is less than minimum parent size:  10\n",
      "Split Found:  n13 [['CompPrice', 98, 0.4810126582278495, 3]] right\n",
      "node_proportion_total  0.3406605427053574\n",
      "Node_proportion_gain  0.05169657933351701\n",
      "Node Search Split Error for:  n26 with obs in node:  6  which is less than minimum parent size:  10\n",
      "Split Found:  n27 [['Sales', 9.39, 0.13580842172934754, 4]] right\n",
      "node_proportion_total  0.3484458505771611\n",
      "Node_proportion_gain  0.007785307871803704\n",
      "Split Found:  n7 [['CompPrice', 113, 0.5215077605321505, 2]] right\n",
      "node_proportion_total  0.40337036019008626\n",
      "Node_proportion_gain  0.054924509612925165\n",
      "Split Found:  n14 [['Advertising', 10, 0.5, 3]] left\n",
      "node_proportion_total  0.41383479293344094\n",
      "Node_proportion_gain  0.010464432743354679\n",
      "Node Search Split Error for:  n28 with obs in node:  6  which is less than minimum parent size:  10\n",
      "Node Search Split Error for:  n29 with obs in node:  6  which is less than minimum parent size:  10\n",
      "Split Found:  n15 [['Sales', 11.85, 0.12087912087912099, 3]] right\n",
      "node_proportion_total  0.41670096190920625\n",
      "Node_proportion_gain  0.002866168975765304\n",
      "Split Found:  n30 [['Sales', 10.27, 0.3125000000000001, 4]] left\n",
      "node_proportion_total  0.4211423394542973\n",
      "Node_proportion_gain  0.004441377545091052\n",
      "Split Found:  n31 [['Sales', 12.04, 0.19692307692307703, 4]] right\n",
      "node_proportion_total  0.42403650804321014\n",
      "Node_proportion_gain  0.0028941685889128377\n"
     ]
    },
    {
     "data": {
      "text/plain": [
       "(None,\n",
       " ((((None, None), None), (None, (None, None))),\n",
       "  ((None, None), ((None, None), (None, None)))))"
      ]
     },
     "execution_count": 3,
     "metadata": {},
     "output_type": "execute_result"
    }
   ],
   "source": [
    "my_tree = MyNodeClass('n1', indici) \n",
    "cart = CART(y,features,features_names,n_features,n_features_names, impurity_fn = \"pearson\", problem=\"regression\", method = \"TWO-STAGE\", twoing = True, max_level = 4, min_cases_parent= 10,min_cases_child= 5, min_imp_gain=0.0001) \n",
    "cart.growing_tree(my_tree, max_k = 1) \n",
    "\n"
   ]
  },
  {
   "attachments": {},
   "cell_type": "markdown",
   "metadata": {},
   "source": [
    "these are the associated node proportion total, maybe should focus on gains instead "
   ]
  },
  {
   "cell_type": "code",
   "execution_count": 4,
   "metadata": {},
   "outputs": [
    {
     "data": {
      "application/vnd.plotly.v1+json": {
       "config": {
        "plotlyServerURL": "https://plot.ly"
       },
       "data": [
        {
         "hoverinfo": "none",
         "line": {
          "color": "rgb(210,210,210)",
          "width": 1
         },
         "mode": "lines",
         "type": "scatter",
         "x": [
          0,
          -8,
          null,
          0,
          8,
          null,
          8,
          4,
          null,
          8,
          12,
          null,
          4,
          2,
          null,
          4,
          6,
          null,
          12,
          10,
          null,
          12,
          14,
          null,
          2,
          1,
          null,
          2,
          3,
          null,
          6,
          5,
          null,
          6,
          7,
          null,
          10,
          9,
          null,
          10,
          11,
          null,
          14,
          13,
          null,
          14,
          15,
          null,
          1,
          0.5,
          null,
          1,
          1.5,
          null,
          7,
          6.5,
          null,
          7,
          7.5,
          null,
          13,
          12.5,
          null,
          13,
          13.5,
          null,
          15,
          14.5,
          null,
          15,
          15.5,
          null
         ],
         "y": [
          8,
          7,
          null,
          8,
          7,
          null,
          7,
          6,
          null,
          7,
          6,
          null,
          6,
          5,
          null,
          6,
          5,
          null,
          6,
          5,
          null,
          6,
          5,
          null,
          5,
          4,
          null,
          5,
          4,
          null,
          5,
          4,
          null,
          5,
          4,
          null,
          5,
          4,
          null,
          5,
          4,
          null,
          5,
          4,
          null,
          5,
          4,
          null,
          4,
          3,
          null,
          4,
          3,
          null,
          4,
          3,
          null,
          4,
          3,
          null,
          4,
          3,
          null,
          4,
          3,
          null,
          4,
          3,
          null,
          4,
          3,
          null
         ]
        },
        {
         "hoverinfo": "text",
         "marker": {
          "color": "#6175c1",
          "line": {
           "color": "rgb(50,50,50)",
           "width": 1
          },
          "size": 18,
          "symbol": "circle-dot"
         },
         "mode": "markers",
         "name": "Nodes",
         "opacity": 0.8,
         "text": [
          "n2, None, Bin Value: 158.2, pearson : 3860.8, Samples : 5",
          "n25, None, Bin Value: 153.86, pearson : 1586.86, Samples : 7",
          "n48, None, Bin Value: 130.62, pearson : 6015.08, Samples : 13",
          "n49, None, Bin Value: 121.6, pearson : 37775.16, Samples : 121",
          "n26, None, Bin Value: 75, pearson : 1702, Samples : 6",
          "n54, None, Bin Value: 111.72, pearson : 20469.69, Samples : 68",
          "n55, None, Bin Value: 124.75, pearson : 1135.5, Samples : 8",
          "n28, None, Bin Value: 62.83, pearson : 1964.83, Samples : 6",
          "n29, None, Bin Value: 86.17, pearson : 2388.83, Samples : 6",
          "n60, None, Bin Value: 98.83, pearson : 730.83, Samples : 6",
          "n61, None, Bin Value: 111.44, pearson : 7193.94, Samples : 16",
          "n62, None, Bin Value: 93.2, pearson : 242.8, Samples : 5",
          "n63, None, Bin Value: 104.38, pearson : 4275.08, Samples : 13",
          "n1, Sales>0.91, Bin Value: 115.78, pearson : 155526.82, Samples : 280",
          "n3, Sales>9.95, Bin Value: 115.0, pearson : 142503.0, Samples : 275",
          "n6, Sales>7.52, Bin Value: 118.98, pearson : 95241.93, Samples : 223",
          "n12, CompPrice>148, Bin Value: 124.03, pearson : 52885.89, Samples : 141",
          "n24, Sales>3.42, Bin Value: 122.47, pearson : 44745.38, Samples : 134",
          "n13, CompPrice>98, Bin Value: 110.3, pearson : 32591.38, Samples : 82",
          "n27, Sales>9.39, Bin Value: 113.09, pearson : 22820.36, Samples : 76",
          "n7, CompPrice>113, Bin Value: 97.94, pearson : 28594.83, Samples : 52",
          "n14, Advertising>10, Bin Value: 74.5, pearson : 5987.0, Samples : 12",
          "n15, Sales>11.85, Bin Value: 104.97, pearson : 14034.97, Samples : 40",
          "n30, Sales>10.27, Bin Value: 108, pearson : 8618, Samples : 22",
          "n31, Sales>12.04, Bin Value: 101.28, pearson : 4969.61, Samples : 18"
         ],
         "type": "scatter",
         "x": [
          -8,
          3,
          0.5,
          1.5,
          5,
          6.5,
          7.5,
          9,
          11,
          12.5,
          13.5,
          14.5,
          15.5,
          0,
          8,
          4,
          2,
          1,
          6,
          7,
          12,
          10,
          14,
          13,
          15
         ],
         "y": [
          7,
          4,
          3,
          3,
          4,
          3,
          3,
          4,
          4,
          3,
          3,
          3,
          3,
          8,
          7,
          6,
          5,
          4,
          5,
          4,
          6,
          5,
          5,
          4,
          4
         ]
        }
       ],
       "layout": {
        "template": {
         "data": {
          "bar": [
           {
            "error_x": {
             "color": "#2a3f5f"
            },
            "error_y": {
             "color": "#2a3f5f"
            },
            "marker": {
             "line": {
              "color": "#E5ECF6",
              "width": 0.5
             },
             "pattern": {
              "fillmode": "overlay",
              "size": 10,
              "solidity": 0.2
             }
            },
            "type": "bar"
           }
          ],
          "barpolar": [
           {
            "marker": {
             "line": {
              "color": "#E5ECF6",
              "width": 0.5
             },
             "pattern": {
              "fillmode": "overlay",
              "size": 10,
              "solidity": 0.2
             }
            },
            "type": "barpolar"
           }
          ],
          "carpet": [
           {
            "aaxis": {
             "endlinecolor": "#2a3f5f",
             "gridcolor": "white",
             "linecolor": "white",
             "minorgridcolor": "white",
             "startlinecolor": "#2a3f5f"
            },
            "baxis": {
             "endlinecolor": "#2a3f5f",
             "gridcolor": "white",
             "linecolor": "white",
             "minorgridcolor": "white",
             "startlinecolor": "#2a3f5f"
            },
            "type": "carpet"
           }
          ],
          "choropleth": [
           {
            "colorbar": {
             "outlinewidth": 0,
             "ticks": ""
            },
            "type": "choropleth"
           }
          ],
          "contour": [
           {
            "colorbar": {
             "outlinewidth": 0,
             "ticks": ""
            },
            "colorscale": [
             [
              0,
              "#0d0887"
             ],
             [
              0.1111111111111111,
              "#46039f"
             ],
             [
              0.2222222222222222,
              "#7201a8"
             ],
             [
              0.3333333333333333,
              "#9c179e"
             ],
             [
              0.4444444444444444,
              "#bd3786"
             ],
             [
              0.5555555555555556,
              "#d8576b"
             ],
             [
              0.6666666666666666,
              "#ed7953"
             ],
             [
              0.7777777777777778,
              "#fb9f3a"
             ],
             [
              0.8888888888888888,
              "#fdca26"
             ],
             [
              1,
              "#f0f921"
             ]
            ],
            "type": "contour"
           }
          ],
          "contourcarpet": [
           {
            "colorbar": {
             "outlinewidth": 0,
             "ticks": ""
            },
            "type": "contourcarpet"
           }
          ],
          "heatmap": [
           {
            "colorbar": {
             "outlinewidth": 0,
             "ticks": ""
            },
            "colorscale": [
             [
              0,
              "#0d0887"
             ],
             [
              0.1111111111111111,
              "#46039f"
             ],
             [
              0.2222222222222222,
              "#7201a8"
             ],
             [
              0.3333333333333333,
              "#9c179e"
             ],
             [
              0.4444444444444444,
              "#bd3786"
             ],
             [
              0.5555555555555556,
              "#d8576b"
             ],
             [
              0.6666666666666666,
              "#ed7953"
             ],
             [
              0.7777777777777778,
              "#fb9f3a"
             ],
             [
              0.8888888888888888,
              "#fdca26"
             ],
             [
              1,
              "#f0f921"
             ]
            ],
            "type": "heatmap"
           }
          ],
          "heatmapgl": [
           {
            "colorbar": {
             "outlinewidth": 0,
             "ticks": ""
            },
            "colorscale": [
             [
              0,
              "#0d0887"
             ],
             [
              0.1111111111111111,
              "#46039f"
             ],
             [
              0.2222222222222222,
              "#7201a8"
             ],
             [
              0.3333333333333333,
              "#9c179e"
             ],
             [
              0.4444444444444444,
              "#bd3786"
             ],
             [
              0.5555555555555556,
              "#d8576b"
             ],
             [
              0.6666666666666666,
              "#ed7953"
             ],
             [
              0.7777777777777778,
              "#fb9f3a"
             ],
             [
              0.8888888888888888,
              "#fdca26"
             ],
             [
              1,
              "#f0f921"
             ]
            ],
            "type": "heatmapgl"
           }
          ],
          "histogram": [
           {
            "marker": {
             "pattern": {
              "fillmode": "overlay",
              "size": 10,
              "solidity": 0.2
             }
            },
            "type": "histogram"
           }
          ],
          "histogram2d": [
           {
            "colorbar": {
             "outlinewidth": 0,
             "ticks": ""
            },
            "colorscale": [
             [
              0,
              "#0d0887"
             ],
             [
              0.1111111111111111,
              "#46039f"
             ],
             [
              0.2222222222222222,
              "#7201a8"
             ],
             [
              0.3333333333333333,
              "#9c179e"
             ],
             [
              0.4444444444444444,
              "#bd3786"
             ],
             [
              0.5555555555555556,
              "#d8576b"
             ],
             [
              0.6666666666666666,
              "#ed7953"
             ],
             [
              0.7777777777777778,
              "#fb9f3a"
             ],
             [
              0.8888888888888888,
              "#fdca26"
             ],
             [
              1,
              "#f0f921"
             ]
            ],
            "type": "histogram2d"
           }
          ],
          "histogram2dcontour": [
           {
            "colorbar": {
             "outlinewidth": 0,
             "ticks": ""
            },
            "colorscale": [
             [
              0,
              "#0d0887"
             ],
             [
              0.1111111111111111,
              "#46039f"
             ],
             [
              0.2222222222222222,
              "#7201a8"
             ],
             [
              0.3333333333333333,
              "#9c179e"
             ],
             [
              0.4444444444444444,
              "#bd3786"
             ],
             [
              0.5555555555555556,
              "#d8576b"
             ],
             [
              0.6666666666666666,
              "#ed7953"
             ],
             [
              0.7777777777777778,
              "#fb9f3a"
             ],
             [
              0.8888888888888888,
              "#fdca26"
             ],
             [
              1,
              "#f0f921"
             ]
            ],
            "type": "histogram2dcontour"
           }
          ],
          "mesh3d": [
           {
            "colorbar": {
             "outlinewidth": 0,
             "ticks": ""
            },
            "type": "mesh3d"
           }
          ],
          "parcoords": [
           {
            "line": {
             "colorbar": {
              "outlinewidth": 0,
              "ticks": ""
             }
            },
            "type": "parcoords"
           }
          ],
          "pie": [
           {
            "automargin": true,
            "type": "pie"
           }
          ],
          "scatter": [
           {
            "fillpattern": {
             "fillmode": "overlay",
             "size": 10,
             "solidity": 0.2
            },
            "type": "scatter"
           }
          ],
          "scatter3d": [
           {
            "line": {
             "colorbar": {
              "outlinewidth": 0,
              "ticks": ""
             }
            },
            "marker": {
             "colorbar": {
              "outlinewidth": 0,
              "ticks": ""
             }
            },
            "type": "scatter3d"
           }
          ],
          "scattercarpet": [
           {
            "marker": {
             "colorbar": {
              "outlinewidth": 0,
              "ticks": ""
             }
            },
            "type": "scattercarpet"
           }
          ],
          "scattergeo": [
           {
            "marker": {
             "colorbar": {
              "outlinewidth": 0,
              "ticks": ""
             }
            },
            "type": "scattergeo"
           }
          ],
          "scattergl": [
           {
            "marker": {
             "colorbar": {
              "outlinewidth": 0,
              "ticks": ""
             }
            },
            "type": "scattergl"
           }
          ],
          "scattermapbox": [
           {
            "marker": {
             "colorbar": {
              "outlinewidth": 0,
              "ticks": ""
             }
            },
            "type": "scattermapbox"
           }
          ],
          "scatterpolar": [
           {
            "marker": {
             "colorbar": {
              "outlinewidth": 0,
              "ticks": ""
             }
            },
            "type": "scatterpolar"
           }
          ],
          "scatterpolargl": [
           {
            "marker": {
             "colorbar": {
              "outlinewidth": 0,
              "ticks": ""
             }
            },
            "type": "scatterpolargl"
           }
          ],
          "scatterternary": [
           {
            "marker": {
             "colorbar": {
              "outlinewidth": 0,
              "ticks": ""
             }
            },
            "type": "scatterternary"
           }
          ],
          "surface": [
           {
            "colorbar": {
             "outlinewidth": 0,
             "ticks": ""
            },
            "colorscale": [
             [
              0,
              "#0d0887"
             ],
             [
              0.1111111111111111,
              "#46039f"
             ],
             [
              0.2222222222222222,
              "#7201a8"
             ],
             [
              0.3333333333333333,
              "#9c179e"
             ],
             [
              0.4444444444444444,
              "#bd3786"
             ],
             [
              0.5555555555555556,
              "#d8576b"
             ],
             [
              0.6666666666666666,
              "#ed7953"
             ],
             [
              0.7777777777777778,
              "#fb9f3a"
             ],
             [
              0.8888888888888888,
              "#fdca26"
             ],
             [
              1,
              "#f0f921"
             ]
            ],
            "type": "surface"
           }
          ],
          "table": [
           {
            "cells": {
             "fill": {
              "color": "#EBF0F8"
             },
             "line": {
              "color": "white"
             }
            },
            "header": {
             "fill": {
              "color": "#C8D4E3"
             },
             "line": {
              "color": "white"
             }
            },
            "type": "table"
           }
          ]
         },
         "layout": {
          "annotationdefaults": {
           "arrowcolor": "#2a3f5f",
           "arrowhead": 0,
           "arrowwidth": 1
          },
          "autotypenumbers": "strict",
          "coloraxis": {
           "colorbar": {
            "outlinewidth": 0,
            "ticks": ""
           }
          },
          "colorscale": {
           "diverging": [
            [
             0,
             "#8e0152"
            ],
            [
             0.1,
             "#c51b7d"
            ],
            [
             0.2,
             "#de77ae"
            ],
            [
             0.3,
             "#f1b6da"
            ],
            [
             0.4,
             "#fde0ef"
            ],
            [
             0.5,
             "#f7f7f7"
            ],
            [
             0.6,
             "#e6f5d0"
            ],
            [
             0.7,
             "#b8e186"
            ],
            [
             0.8,
             "#7fbc41"
            ],
            [
             0.9,
             "#4d9221"
            ],
            [
             1,
             "#276419"
            ]
           ],
           "sequential": [
            [
             0,
             "#0d0887"
            ],
            [
             0.1111111111111111,
             "#46039f"
            ],
            [
             0.2222222222222222,
             "#7201a8"
            ],
            [
             0.3333333333333333,
             "#9c179e"
            ],
            [
             0.4444444444444444,
             "#bd3786"
            ],
            [
             0.5555555555555556,
             "#d8576b"
            ],
            [
             0.6666666666666666,
             "#ed7953"
            ],
            [
             0.7777777777777778,
             "#fb9f3a"
            ],
            [
             0.8888888888888888,
             "#fdca26"
            ],
            [
             1,
             "#f0f921"
            ]
           ],
           "sequentialminus": [
            [
             0,
             "#0d0887"
            ],
            [
             0.1111111111111111,
             "#46039f"
            ],
            [
             0.2222222222222222,
             "#7201a8"
            ],
            [
             0.3333333333333333,
             "#9c179e"
            ],
            [
             0.4444444444444444,
             "#bd3786"
            ],
            [
             0.5555555555555556,
             "#d8576b"
            ],
            [
             0.6666666666666666,
             "#ed7953"
            ],
            [
             0.7777777777777778,
             "#fb9f3a"
            ],
            [
             0.8888888888888888,
             "#fdca26"
            ],
            [
             1,
             "#f0f921"
            ]
           ]
          },
          "colorway": [
           "#636efa",
           "#EF553B",
           "#00cc96",
           "#ab63fa",
           "#FFA15A",
           "#19d3f3",
           "#FF6692",
           "#B6E880",
           "#FF97FF",
           "#FECB52"
          ],
          "font": {
           "color": "#2a3f5f"
          },
          "geo": {
           "bgcolor": "white",
           "lakecolor": "white",
           "landcolor": "#E5ECF6",
           "showlakes": true,
           "showland": true,
           "subunitcolor": "white"
          },
          "hoverlabel": {
           "align": "left"
          },
          "hovermode": "closest",
          "mapbox": {
           "style": "light"
          },
          "paper_bgcolor": "white",
          "plot_bgcolor": "#E5ECF6",
          "polar": {
           "angularaxis": {
            "gridcolor": "white",
            "linecolor": "white",
            "ticks": ""
           },
           "bgcolor": "#E5ECF6",
           "radialaxis": {
            "gridcolor": "white",
            "linecolor": "white",
            "ticks": ""
           }
          },
          "scene": {
           "xaxis": {
            "backgroundcolor": "#E5ECF6",
            "gridcolor": "white",
            "gridwidth": 2,
            "linecolor": "white",
            "showbackground": true,
            "ticks": "",
            "zerolinecolor": "white"
           },
           "yaxis": {
            "backgroundcolor": "#E5ECF6",
            "gridcolor": "white",
            "gridwidth": 2,
            "linecolor": "white",
            "showbackground": true,
            "ticks": "",
            "zerolinecolor": "white"
           },
           "zaxis": {
            "backgroundcolor": "#E5ECF6",
            "gridcolor": "white",
            "gridwidth": 2,
            "linecolor": "white",
            "showbackground": true,
            "ticks": "",
            "zerolinecolor": "white"
           }
          },
          "shapedefaults": {
           "line": {
            "color": "#2a3f5f"
           }
          },
          "ternary": {
           "aaxis": {
            "gridcolor": "white",
            "linecolor": "white",
            "ticks": ""
           },
           "baxis": {
            "gridcolor": "white",
            "linecolor": "white",
            "ticks": ""
           },
           "bgcolor": "#E5ECF6",
           "caxis": {
            "gridcolor": "white",
            "linecolor": "white",
            "ticks": ""
           }
          },
          "title": {
           "x": 0.05
          },
          "xaxis": {
           "automargin": true,
           "gridcolor": "white",
           "linecolor": "white",
           "ticks": "",
           "title": {
            "standoff": 15
           },
           "zerolinecolor": "white",
           "zerolinewidth": 2
          },
          "yaxis": {
           "automargin": true,
           "gridcolor": "white",
           "linecolor": "white",
           "ticks": "",
           "title": {
            "standoff": 15
           },
           "zerolinecolor": "white",
           "zerolinewidth": 2
          }
         }
        },
        "title": {
         "text": "CART_tree"
        }
       }
      }
     },
     "metadata": {},
     "output_type": "display_data"
    },
    {
     "data": {
      "text/html": [
       "<style type=\"text/css\">\n",
       "</style>\n",
       "<table id=\"T_128bc\">\n",
       "  <thead>\n",
       "    <tr>\n",
       "      <th id=\"T_128bc_level0_col0\" class=\"col_heading level0 col0\" >Node</th>\n",
       "      <th id=\"T_128bc_level0_col1\" class=\"col_heading level0 col1\" >Node_type</th>\n",
       "      <th id=\"T_128bc_level0_col2\" class=\"col_heading level0 col2\" >Variable_Split</th>\n",
       "      <th id=\"T_128bc_level0_col3\" class=\"col_heading level0 col3\" >Twoing_Classes_C1</th>\n",
       "      <th id=\"T_128bc_level0_col4\" class=\"col_heading level0 col4\" >Twoing_Classes_C2</th>\n",
       "      <th id=\"T_128bc_level0_col5\" class=\"col_heading level0 col5\" >n</th>\n",
       "      <th id=\"T_128bc_level0_col6\" class=\"col_heading level0 col6\" >Impurity_Value</th>\n",
       "      <th id=\"T_128bc_level0_col7\" class=\"col_heading level0 col7\" >Class/Value</th>\n",
       "    </tr>\n",
       "  </thead>\n",
       "  <tbody>\n",
       "    <tr>\n",
       "      <td id=\"T_128bc_row0_col0\" class=\"data row0 col0\" >n1</td>\n",
       "      <td id=\"T_128bc_row0_col1\" class=\"data row0 col1\" >Parent</td>\n",
       "      <td id=\"T_128bc_row0_col2\" class=\"data row0 col2\" >Sales>0.91</td>\n",
       "      <td id=\"T_128bc_row0_col3\" class=\"data row0 col3\" ><=160</td>\n",
       "      <td id=\"T_128bc_row0_col4\" class=\"data row0 col4\" >>160</td>\n",
       "      <td id=\"T_128bc_row0_col5\" class=\"data row0 col5\" >280</td>\n",
       "      <td id=\"T_128bc_row0_col6\" class=\"data row0 col6\" >155526.820000</td>\n",
       "      <td id=\"T_128bc_row0_col7\" class=\"data row0 col7\" >115.775000</td>\n",
       "    </tr>\n",
       "    <tr>\n",
       "      <td id=\"T_128bc_row1_col0\" class=\"data row1 col0\" >n2</td>\n",
       "      <td id=\"T_128bc_row1_col1\" class=\"data row1 col1\" >Child</td>\n",
       "      <td id=\"T_128bc_row1_col2\" class=\"data row1 col2\" >None</td>\n",
       "      <td id=\"T_128bc_row1_col3\" class=\"data row1 col3\" >None</td>\n",
       "      <td id=\"T_128bc_row1_col4\" class=\"data row1 col4\" >None</td>\n",
       "      <td id=\"T_128bc_row1_col5\" class=\"data row1 col5\" >5</td>\n",
       "      <td id=\"T_128bc_row1_col6\" class=\"data row1 col6\" >3860.800000</td>\n",
       "      <td id=\"T_128bc_row1_col7\" class=\"data row1 col7\" >158.200000</td>\n",
       "    </tr>\n",
       "    <tr>\n",
       "      <td id=\"T_128bc_row2_col0\" class=\"data row2 col0\" >n3</td>\n",
       "      <td id=\"T_128bc_row2_col1\" class=\"data row2 col1\" >Parent</td>\n",
       "      <td id=\"T_128bc_row2_col2\" class=\"data row2 col2\" >Sales>9.95</td>\n",
       "      <td id=\"T_128bc_row2_col3\" class=\"data row2 col3\" ><=87</td>\n",
       "      <td id=\"T_128bc_row2_col4\" class=\"data row2 col4\" >>87</td>\n",
       "      <td id=\"T_128bc_row2_col5\" class=\"data row2 col5\" >275</td>\n",
       "      <td id=\"T_128bc_row2_col6\" class=\"data row2 col6\" >142503.000000</td>\n",
       "      <td id=\"T_128bc_row2_col7\" class=\"data row2 col7\" >115.004000</td>\n",
       "    </tr>\n",
       "    <tr>\n",
       "      <td id=\"T_128bc_row3_col0\" class=\"data row3 col0\" >n6</td>\n",
       "      <td id=\"T_128bc_row3_col1\" class=\"data row3 col1\" >Parent</td>\n",
       "      <td id=\"T_128bc_row3_col2\" class=\"data row3 col2\" >Sales>7.52</td>\n",
       "      <td id=\"T_128bc_row3_col3\" class=\"data row3 col3\" ><=122</td>\n",
       "      <td id=\"T_128bc_row3_col4\" class=\"data row3 col4\" >>122</td>\n",
       "      <td id=\"T_128bc_row3_col5\" class=\"data row3 col5\" >223</td>\n",
       "      <td id=\"T_128bc_row3_col6\" class=\"data row3 col6\" >95241.930000</td>\n",
       "      <td id=\"T_128bc_row3_col7\" class=\"data row3 col7\" >118.982000</td>\n",
       "    </tr>\n",
       "    <tr>\n",
       "      <td id=\"T_128bc_row4_col0\" class=\"data row4 col0\" >n12</td>\n",
       "      <td id=\"T_128bc_row4_col1\" class=\"data row4 col1\" >Parent</td>\n",
       "      <td id=\"T_128bc_row4_col2\" class=\"data row4 col2\" >CompPrice>148</td>\n",
       "      <td id=\"T_128bc_row4_col3\" class=\"data row4 col3\" ><=160</td>\n",
       "      <td id=\"T_128bc_row4_col4\" class=\"data row4 col4\" >>160</td>\n",
       "      <td id=\"T_128bc_row4_col5\" class=\"data row4 col5\" >141</td>\n",
       "      <td id=\"T_128bc_row4_col6\" class=\"data row4 col6\" >52885.890000</td>\n",
       "      <td id=\"T_128bc_row4_col7\" class=\"data row4 col7\" >124.028000</td>\n",
       "    </tr>\n",
       "    <tr>\n",
       "      <td id=\"T_128bc_row5_col0\" class=\"data row5 col0\" >n25</td>\n",
       "      <td id=\"T_128bc_row5_col1\" class=\"data row5 col1\" >Child</td>\n",
       "      <td id=\"T_128bc_row5_col2\" class=\"data row5 col2\" >None</td>\n",
       "      <td id=\"T_128bc_row5_col3\" class=\"data row5 col3\" >None</td>\n",
       "      <td id=\"T_128bc_row5_col4\" class=\"data row5 col4\" >None</td>\n",
       "      <td id=\"T_128bc_row5_col5\" class=\"data row5 col5\" >7</td>\n",
       "      <td id=\"T_128bc_row5_col6\" class=\"data row5 col6\" >1586.860000</td>\n",
       "      <td id=\"T_128bc_row5_col7\" class=\"data row5 col7\" >153.857000</td>\n",
       "    </tr>\n",
       "    <tr>\n",
       "      <td id=\"T_128bc_row6_col0\" class=\"data row6 col0\" >n24</td>\n",
       "      <td id=\"T_128bc_row6_col1\" class=\"data row6 col1\" >Parent</td>\n",
       "      <td id=\"T_128bc_row6_col2\" class=\"data row6 col2\" >Sales>3.42</td>\n",
       "      <td id=\"T_128bc_row6_col3\" class=\"data row6 col3\" ><=154</td>\n",
       "      <td id=\"T_128bc_row6_col4\" class=\"data row6 col4\" >>154</td>\n",
       "      <td id=\"T_128bc_row6_col5\" class=\"data row6 col5\" >134</td>\n",
       "      <td id=\"T_128bc_row6_col6\" class=\"data row6 col6\" >44745.380000</td>\n",
       "      <td id=\"T_128bc_row6_col7\" class=\"data row6 col7\" >122.470000</td>\n",
       "    </tr>\n",
       "    <tr>\n",
       "      <td id=\"T_128bc_row7_col0\" class=\"data row7 col0\" >n48</td>\n",
       "      <td id=\"T_128bc_row7_col1\" class=\"data row7 col1\" >Child</td>\n",
       "      <td id=\"T_128bc_row7_col2\" class=\"data row7 col2\" >None</td>\n",
       "      <td id=\"T_128bc_row7_col3\" class=\"data row7 col3\" >None</td>\n",
       "      <td id=\"T_128bc_row7_col4\" class=\"data row7 col4\" >None</td>\n",
       "      <td id=\"T_128bc_row7_col5\" class=\"data row7 col5\" >13</td>\n",
       "      <td id=\"T_128bc_row7_col6\" class=\"data row7 col6\" >6015.080000</td>\n",
       "      <td id=\"T_128bc_row7_col7\" class=\"data row7 col7\" >130.615000</td>\n",
       "    </tr>\n",
       "    <tr>\n",
       "      <td id=\"T_128bc_row8_col0\" class=\"data row8 col0\" >n49</td>\n",
       "      <td id=\"T_128bc_row8_col1\" class=\"data row8 col1\" >Child</td>\n",
       "      <td id=\"T_128bc_row8_col2\" class=\"data row8 col2\" >None</td>\n",
       "      <td id=\"T_128bc_row8_col3\" class=\"data row8 col3\" >None</td>\n",
       "      <td id=\"T_128bc_row8_col4\" class=\"data row8 col4\" >None</td>\n",
       "      <td id=\"T_128bc_row8_col5\" class=\"data row8 col5\" >121</td>\n",
       "      <td id=\"T_128bc_row8_col6\" class=\"data row8 col6\" >37775.160000</td>\n",
       "      <td id=\"T_128bc_row8_col7\" class=\"data row8 col7\" >121.595000</td>\n",
       "    </tr>\n",
       "    <tr>\n",
       "      <td id=\"T_128bc_row9_col0\" class=\"data row9 col0\" >n13</td>\n",
       "      <td id=\"T_128bc_row9_col1\" class=\"data row9 col1\" >Parent</td>\n",
       "      <td id=\"T_128bc_row9_col2\" class=\"data row9 col2\" >CompPrice>98</td>\n",
       "      <td id=\"T_128bc_row9_col3\" class=\"data row9 col3\" ><=144</td>\n",
       "      <td id=\"T_128bc_row9_col4\" class=\"data row9 col4\" >>144</td>\n",
       "      <td id=\"T_128bc_row9_col5\" class=\"data row9 col5\" >82</td>\n",
       "      <td id=\"T_128bc_row9_col6\" class=\"data row9 col6\" >32591.380000</td>\n",
       "      <td id=\"T_128bc_row9_col7\" class=\"data row9 col7\" >110.305000</td>\n",
       "    </tr>\n",
       "    <tr>\n",
       "      <td id=\"T_128bc_row10_col0\" class=\"data row10 col0\" >n26</td>\n",
       "      <td id=\"T_128bc_row10_col1\" class=\"data row10 col1\" >Child</td>\n",
       "      <td id=\"T_128bc_row10_col2\" class=\"data row10 col2\" >None</td>\n",
       "      <td id=\"T_128bc_row10_col3\" class=\"data row10 col3\" >None</td>\n",
       "      <td id=\"T_128bc_row10_col4\" class=\"data row10 col4\" >None</td>\n",
       "      <td id=\"T_128bc_row10_col5\" class=\"data row10 col5\" >6</td>\n",
       "      <td id=\"T_128bc_row10_col6\" class=\"data row10 col6\" >1702.000000</td>\n",
       "      <td id=\"T_128bc_row10_col7\" class=\"data row10 col7\" >75.000000</td>\n",
       "    </tr>\n",
       "    <tr>\n",
       "      <td id=\"T_128bc_row11_col0\" class=\"data row11 col0\" >n27</td>\n",
       "      <td id=\"T_128bc_row11_col1\" class=\"data row11 col1\" >Parent</td>\n",
       "      <td id=\"T_128bc_row11_col2\" class=\"data row11 col2\" >Sales>9.39</td>\n",
       "      <td id=\"T_128bc_row11_col3\" class=\"data row11 col3\" ><=128</td>\n",
       "      <td id=\"T_128bc_row11_col4\" class=\"data row11 col4\" >>128</td>\n",
       "      <td id=\"T_128bc_row11_col5\" class=\"data row11 col5\" >76</td>\n",
       "      <td id=\"T_128bc_row11_col6\" class=\"data row11 col6\" >22820.360000</td>\n",
       "      <td id=\"T_128bc_row11_col7\" class=\"data row11 col7\" >113.092000</td>\n",
       "    </tr>\n",
       "    <tr>\n",
       "      <td id=\"T_128bc_row12_col0\" class=\"data row12 col0\" >n54</td>\n",
       "      <td id=\"T_128bc_row12_col1\" class=\"data row12 col1\" >Child</td>\n",
       "      <td id=\"T_128bc_row12_col2\" class=\"data row12 col2\" >None</td>\n",
       "      <td id=\"T_128bc_row12_col3\" class=\"data row12 col3\" >None</td>\n",
       "      <td id=\"T_128bc_row12_col4\" class=\"data row12 col4\" >None</td>\n",
       "      <td id=\"T_128bc_row12_col5\" class=\"data row12 col5\" >68</td>\n",
       "      <td id=\"T_128bc_row12_col6\" class=\"data row12 col6\" >20469.690000</td>\n",
       "      <td id=\"T_128bc_row12_col7\" class=\"data row12 col7\" >111.721000</td>\n",
       "    </tr>\n",
       "    <tr>\n",
       "      <td id=\"T_128bc_row13_col0\" class=\"data row13 col0\" >n55</td>\n",
       "      <td id=\"T_128bc_row13_col1\" class=\"data row13 col1\" >Child</td>\n",
       "      <td id=\"T_128bc_row13_col2\" class=\"data row13 col2\" >None</td>\n",
       "      <td id=\"T_128bc_row13_col3\" class=\"data row13 col3\" >None</td>\n",
       "      <td id=\"T_128bc_row13_col4\" class=\"data row13 col4\" >None</td>\n",
       "      <td id=\"T_128bc_row13_col5\" class=\"data row13 col5\" >8</td>\n",
       "      <td id=\"T_128bc_row13_col6\" class=\"data row13 col6\" >1135.500000</td>\n",
       "      <td id=\"T_128bc_row13_col7\" class=\"data row13 col7\" >124.750000</td>\n",
       "    </tr>\n",
       "    <tr>\n",
       "      <td id=\"T_128bc_row14_col0\" class=\"data row14 col0\" >n7</td>\n",
       "      <td id=\"T_128bc_row14_col1\" class=\"data row14 col1\" >Parent</td>\n",
       "      <td id=\"T_128bc_row14_col2\" class=\"data row14 col2\" >CompPrice>113</td>\n",
       "      <td id=\"T_128bc_row14_col3\" class=\"data row14 col3\" ><=68</td>\n",
       "      <td id=\"T_128bc_row14_col4\" class=\"data row14 col4\" >>68</td>\n",
       "      <td id=\"T_128bc_row14_col5\" class=\"data row14 col5\" >52</td>\n",
       "      <td id=\"T_128bc_row14_col6\" class=\"data row14 col6\" >28594.830000</td>\n",
       "      <td id=\"T_128bc_row14_col7\" class=\"data row14 col7\" >97.942000</td>\n",
       "    </tr>\n",
       "    <tr>\n",
       "      <td id=\"T_128bc_row15_col0\" class=\"data row15 col0\" >n14</td>\n",
       "      <td id=\"T_128bc_row15_col1\" class=\"data row15 col1\" >Parent</td>\n",
       "      <td id=\"T_128bc_row15_col2\" class=\"data row15 col2\" >Advertising>10</td>\n",
       "      <td id=\"T_128bc_row15_col3\" class=\"data row15 col3\" ><=77</td>\n",
       "      <td id=\"T_128bc_row15_col4\" class=\"data row15 col4\" >>77</td>\n",
       "      <td id=\"T_128bc_row15_col5\" class=\"data row15 col5\" >12</td>\n",
       "      <td id=\"T_128bc_row15_col6\" class=\"data row15 col6\" >5987.000000</td>\n",
       "      <td id=\"T_128bc_row15_col7\" class=\"data row15 col7\" >74.500000</td>\n",
       "    </tr>\n",
       "    <tr>\n",
       "      <td id=\"T_128bc_row16_col0\" class=\"data row16 col0\" >n28</td>\n",
       "      <td id=\"T_128bc_row16_col1\" class=\"data row16 col1\" >Child</td>\n",
       "      <td id=\"T_128bc_row16_col2\" class=\"data row16 col2\" >None</td>\n",
       "      <td id=\"T_128bc_row16_col3\" class=\"data row16 col3\" >None</td>\n",
       "      <td id=\"T_128bc_row16_col4\" class=\"data row16 col4\" >None</td>\n",
       "      <td id=\"T_128bc_row16_col5\" class=\"data row16 col5\" >6</td>\n",
       "      <td id=\"T_128bc_row16_col6\" class=\"data row16 col6\" >1964.830000</td>\n",
       "      <td id=\"T_128bc_row16_col7\" class=\"data row16 col7\" >62.833000</td>\n",
       "    </tr>\n",
       "    <tr>\n",
       "      <td id=\"T_128bc_row17_col0\" class=\"data row17 col0\" >n29</td>\n",
       "      <td id=\"T_128bc_row17_col1\" class=\"data row17 col1\" >Child</td>\n",
       "      <td id=\"T_128bc_row17_col2\" class=\"data row17 col2\" >None</td>\n",
       "      <td id=\"T_128bc_row17_col3\" class=\"data row17 col3\" >None</td>\n",
       "      <td id=\"T_128bc_row17_col4\" class=\"data row17 col4\" >None</td>\n",
       "      <td id=\"T_128bc_row17_col5\" class=\"data row17 col5\" >6</td>\n",
       "      <td id=\"T_128bc_row17_col6\" class=\"data row17 col6\" >2388.830000</td>\n",
       "      <td id=\"T_128bc_row17_col7\" class=\"data row17 col7\" >86.167000</td>\n",
       "    </tr>\n",
       "    <tr>\n",
       "      <td id=\"T_128bc_row18_col0\" class=\"data row18 col0\" >n15</td>\n",
       "      <td id=\"T_128bc_row18_col1\" class=\"data row18 col1\" >Parent</td>\n",
       "      <td id=\"T_128bc_row18_col2\" class=\"data row18 col2\" >Sales>11.85</td>\n",
       "      <td id=\"T_128bc_row18_col3\" class=\"data row18 col3\" ><=96</td>\n",
       "      <td id=\"T_128bc_row18_col4\" class=\"data row18 col4\" >>96</td>\n",
       "      <td id=\"T_128bc_row18_col5\" class=\"data row18 col5\" >40</td>\n",
       "      <td id=\"T_128bc_row18_col6\" class=\"data row18 col6\" >14034.970000</td>\n",
       "      <td id=\"T_128bc_row18_col7\" class=\"data row18 col7\" >104.975000</td>\n",
       "    </tr>\n",
       "    <tr>\n",
       "      <td id=\"T_128bc_row19_col0\" class=\"data row19 col0\" >n30</td>\n",
       "      <td id=\"T_128bc_row19_col1\" class=\"data row19 col1\" >Parent</td>\n",
       "      <td id=\"T_128bc_row19_col2\" class=\"data row19 col2\" >Sales>10.27</td>\n",
       "      <td id=\"T_128bc_row19_col3\" class=\"data row19 col3\" ><=90</td>\n",
       "      <td id=\"T_128bc_row19_col4\" class=\"data row19 col4\" >>90</td>\n",
       "      <td id=\"T_128bc_row19_col5\" class=\"data row19 col5\" >22</td>\n",
       "      <td id=\"T_128bc_row19_col6\" class=\"data row19 col6\" >8618.000000</td>\n",
       "      <td id=\"T_128bc_row19_col7\" class=\"data row19 col7\" >108.000000</td>\n",
       "    </tr>\n",
       "    <tr>\n",
       "      <td id=\"T_128bc_row20_col0\" class=\"data row20 col0\" >n60</td>\n",
       "      <td id=\"T_128bc_row20_col1\" class=\"data row20 col1\" >Child</td>\n",
       "      <td id=\"T_128bc_row20_col2\" class=\"data row20 col2\" >None</td>\n",
       "      <td id=\"T_128bc_row20_col3\" class=\"data row20 col3\" >None</td>\n",
       "      <td id=\"T_128bc_row20_col4\" class=\"data row20 col4\" >None</td>\n",
       "      <td id=\"T_128bc_row20_col5\" class=\"data row20 col5\" >6</td>\n",
       "      <td id=\"T_128bc_row20_col6\" class=\"data row20 col6\" >730.830000</td>\n",
       "      <td id=\"T_128bc_row20_col7\" class=\"data row20 col7\" >98.833000</td>\n",
       "    </tr>\n",
       "    <tr>\n",
       "      <td id=\"T_128bc_row21_col0\" class=\"data row21 col0\" >n61</td>\n",
       "      <td id=\"T_128bc_row21_col1\" class=\"data row21 col1\" >Child</td>\n",
       "      <td id=\"T_128bc_row21_col2\" class=\"data row21 col2\" >None</td>\n",
       "      <td id=\"T_128bc_row21_col3\" class=\"data row21 col3\" >None</td>\n",
       "      <td id=\"T_128bc_row21_col4\" class=\"data row21 col4\" >None</td>\n",
       "      <td id=\"T_128bc_row21_col5\" class=\"data row21 col5\" >16</td>\n",
       "      <td id=\"T_128bc_row21_col6\" class=\"data row21 col6\" >7193.940000</td>\n",
       "      <td id=\"T_128bc_row21_col7\" class=\"data row21 col7\" >111.438000</td>\n",
       "    </tr>\n",
       "    <tr>\n",
       "      <td id=\"T_128bc_row22_col0\" class=\"data row22 col0\" >n31</td>\n",
       "      <td id=\"T_128bc_row22_col1\" class=\"data row22 col1\" >Parent</td>\n",
       "      <td id=\"T_128bc_row22_col2\" class=\"data row22 col2\" >Sales>12.04</td>\n",
       "      <td id=\"T_128bc_row22_col3\" class=\"data row22 col3\" ><=112</td>\n",
       "      <td id=\"T_128bc_row22_col4\" class=\"data row22 col4\" >>112</td>\n",
       "      <td id=\"T_128bc_row22_col5\" class=\"data row22 col5\" >18</td>\n",
       "      <td id=\"T_128bc_row22_col6\" class=\"data row22 col6\" >4969.610000</td>\n",
       "      <td id=\"T_128bc_row22_col7\" class=\"data row22 col7\" >101.278000</td>\n",
       "    </tr>\n",
       "    <tr>\n",
       "      <td id=\"T_128bc_row23_col0\" class=\"data row23 col0\" >n62</td>\n",
       "      <td id=\"T_128bc_row23_col1\" class=\"data row23 col1\" >Child</td>\n",
       "      <td id=\"T_128bc_row23_col2\" class=\"data row23 col2\" >None</td>\n",
       "      <td id=\"T_128bc_row23_col3\" class=\"data row23 col3\" >None</td>\n",
       "      <td id=\"T_128bc_row23_col4\" class=\"data row23 col4\" >None</td>\n",
       "      <td id=\"T_128bc_row23_col5\" class=\"data row23 col5\" >5</td>\n",
       "      <td id=\"T_128bc_row23_col6\" class=\"data row23 col6\" >242.800000</td>\n",
       "      <td id=\"T_128bc_row23_col7\" class=\"data row23 col7\" >93.200000</td>\n",
       "    </tr>\n",
       "    <tr>\n",
       "      <td id=\"T_128bc_row24_col0\" class=\"data row24 col0\" >n63</td>\n",
       "      <td id=\"T_128bc_row24_col1\" class=\"data row24 col1\" >Child</td>\n",
       "      <td id=\"T_128bc_row24_col2\" class=\"data row24 col2\" >None</td>\n",
       "      <td id=\"T_128bc_row24_col3\" class=\"data row24 col3\" >None</td>\n",
       "      <td id=\"T_128bc_row24_col4\" class=\"data row24 col4\" >None</td>\n",
       "      <td id=\"T_128bc_row24_col5\" class=\"data row24 col5\" >13</td>\n",
       "      <td id=\"T_128bc_row24_col6\" class=\"data row24 col6\" >4275.080000</td>\n",
       "      <td id=\"T_128bc_row24_col7\" class=\"data row24 col7\" >104.385000</td>\n",
       "    </tr>\n",
       "  </tbody>\n",
       "</table>\n"
      ],
      "text/plain": [
       "<pandas.io.formats.style.Styler at 0x18e494e9370>"
      ]
     },
     "execution_count": 4,
     "metadata": {},
     "output_type": "execute_result"
    }
   ],
   "source": [
    "#pd.set_option('display.max_rows', None)\n",
    "#pd.set_option('display.max_colwidth', 3000)\n",
    "import warnings\n",
    "warnings.filterwarnings(\"ignore\", category=FutureWarning) \n",
    "cart.print_tree(table = True, html = True).style.hide_index()"
   ]
  },
  {
   "cell_type": "code",
   "execution_count": 5,
   "metadata": {},
   "outputs": [
    {
     "name": "stdout",
     "output_type": "stream",
     "text": [
      "{leaves : mean square error} =  {13: 458.48389277375884, 12: 454.16553012248175, 10: 444.18726687659694, 9: 446.00186959427543, 8: 434.84143285888405, 7: 426.80439582184687, 6: 453.6796121913558, 5: 478.3687886627256, 4: 510.8348821045401, 3: 532.3419103381426, 1: 567.8877083333336}\n",
      "Best tree for test set has 7 leaves with a deviance of: 426.80439582184687 \n"
     ]
    },
    {
     "data": {
      "image/png": "[encoded data removed]",
      "text/plain": [
       "<Figure size 640x480 with 1 Axes>"
      ]
     },
     "metadata": {},
     "output_type": "display_data"
    },
    {
     "data": {
      "application/vnd.plotly.v1+json": {
       "config": {
        "plotlyServerURL": "https://plot.ly"
       },
       "data": [
        {
         "hoverinfo": "none",
         "line": {
          "color": "rgb(210,210,210)",
          "width": 1
         },
         "mode": "lines",
         "type": "scatter",
         "x": [
          0,
          -3.625,
          null,
          0,
          3.625,
          null,
          3.625,
          2.375,
          null,
          3.625,
          4.875,
          null,
          2.375,
          1.375,
          null,
          2.375,
          3.375,
          null,
          4.875,
          4.375,
          null,
          4.875,
          5.375,
          null,
          1.375,
          0.875,
          null,
          1.375,
          1.875,
          null,
          3.375,
          2.875,
          null,
          3.375,
          3.875,
          null
         ],
         "y": [
          6,
          5,
          null,
          6,
          5,
          null,
          5,
          4,
          null,
          5,
          4,
          null,
          4,
          3,
          null,
          4,
          3,
          null,
          4,
          3,
          null,
          4,
          3,
          null,
          3,
          2,
          null,
          3,
          2,
          null,
          3,
          2,
          null,
          3,
          2,
          null
         ]
        },
        {
         "hoverinfo": "text",
         "marker": {
          "color": "#6175c1",
          "line": {
           "color": "rgb(50,50,50)",
           "width": 1
          },
          "size": 18,
          "symbol": "circle-dot"
         },
         "mode": "markers",
         "name": "Nodes",
         "opacity": 0.8,
         "text": [
          "n2, None, Bin Value: 158.2, pearson : 3860.8, Samples : 5",
          "n25, None, Bin Value: 153.86, pearson : 1586.86, Samples : 7",
          "n26, None, Bin Value: 75, pearson : 1702, Samples : 6",
          "n1, Sales>0.91, Bin Value: 115.78, pearson : 155526.82, Samples : 280",
          "n3, Sales>9.95, Bin Value: 115.0, pearson : 142503.0, Samples : 275",
          "n6, Sales>7.52, Bin Value: 118.98, pearson : 95241.93, Samples : 223",
          "n12, CompPrice>148, Bin Value: 124.03, pearson : 52885.89, Samples : 141",
          "n24, Sales>3.42, Bin Value: 122.47, pearson : 44745.38, Samples : 134",
          "n13, CompPrice>98, Bin Value: 110.3, pearson : 32591.38, Samples : 82",
          "n27, Sales>9.39, Bin Value: 113.09, pearson : 22820.36, Samples : 76",
          "n7, CompPrice>113, Bin Value: 97.94, pearson : 28594.83, Samples : 52",
          "n14, Advertising>10, Bin Value: 74.5, pearson : 5987.0, Samples : 12",
          "n15, Sales>11.85, Bin Value: 104.97, pearson : 14034.97, Samples : 40"
         ],
         "type": "scatter",
         "x": [
          -3.625,
          1.875,
          2.875,
          0,
          3.625,
          2.375,
          1.375,
          0.875,
          3.375,
          3.875,
          4.875,
          4.375,
          5.375
         ],
         "y": [
          5,
          2,
          2,
          6,
          5,
          4,
          3,
          2,
          3,
          2,
          4,
          3,
          3
         ]
        }
       ],
       "layout": {
        "template": {
         "data": {
          "bar": [
           {
            "error_x": {
             "color": "#2a3f5f"
            },
            "error_y": {
             "color": "#2a3f5f"
            },
            "marker": {
             "line": {
              "color": "#E5ECF6",
              "width": 0.5
             },
             "pattern": {
              "fillmode": "overlay",
              "size": 10,
              "solidity": 0.2
             }
            },
            "type": "bar"
           }
          ],
          "barpolar": [
           {
            "marker": {
             "line": {
              "color": "#E5ECF6",
              "width": 0.5
             },
             "pattern": {
              "fillmode": "overlay",
              "size": 10,
              "solidity": 0.2
             }
            },
            "type": "barpolar"
           }
          ],
          "carpet": [
           {
            "aaxis": {
             "endlinecolor": "#2a3f5f",
             "gridcolor": "white",
             "linecolor": "white",
             "minorgridcolor": "white",
             "startlinecolor": "#2a3f5f"
            },
            "baxis": {
             "endlinecolor": "#2a3f5f",
             "gridcolor": "white",
             "linecolor": "white",
             "minorgridcolor": "white",
             "startlinecolor": "#2a3f5f"
            },
            "type": "carpet"
           }
          ],
          "choropleth": [
           {
            "colorbar": {
             "outlinewidth": 0,
             "ticks": ""
            },
            "type": "choropleth"
           }
          ],
          "contour": [
           {
            "colorbar": {
             "outlinewidth": 0,
             "ticks": ""
            },
            "colorscale": [
             [
              0,
              "#0d0887"
             ],
             [
              0.1111111111111111,
              "#46039f"
             ],
             [
              0.2222222222222222,
              "#7201a8"
             ],
             [
              0.3333333333333333,
              "#9c179e"
             ],
             [
              0.4444444444444444,
              "#bd3786"
             ],
             [
              0.5555555555555556,
              "#d8576b"
             ],
             [
              0.6666666666666666,
              "#ed7953"
             ],
             [
              0.7777777777777778,
              "#fb9f3a"
             ],
             [
              0.8888888888888888,
              "#fdca26"
             ],
             [
              1,
              "#f0f921"
             ]
            ],
            "type": "contour"
           }
          ],
          "contourcarpet": [
           {
            "colorbar": {
             "outlinewidth": 0,
             "ticks": ""
            },
            "type": "contourcarpet"
           }
          ],
          "heatmap": [
           {
            "colorbar": {
             "outlinewidth": 0,
             "ticks": ""
            },
            "colorscale": [
             [
              0,
              "#0d0887"
             ],
             [
              0.1111111111111111,
              "#46039f"
             ],
             [
              0.2222222222222222,
              "#7201a8"
             ],
             [
              0.3333333333333333,
              "#9c179e"
             ],
             [
              0.4444444444444444,
              "#bd3786"
             ],
             [
              0.5555555555555556,
              "#d8576b"
             ],
             [
              0.6666666666666666,
              "#ed7953"
             ],
             [
              0.7777777777777778,
              "#fb9f3a"
             ],
             [
              0.8888888888888888,
              "#fdca26"
             ],
             [
              1,
              "#f0f921"
             ]
            ],
            "type": "heatmap"
           }
          ],
          "heatmapgl": [
           {
            "colorbar": {
             "outlinewidth": 0,
             "ticks": ""
            },
            "colorscale": [
             [
              0,
              "#0d0887"
             ],
             [
              0.1111111111111111,
              "#46039f"
             ],
             [
              0.2222222222222222,
              "#7201a8"
             ],
             [
              0.3333333333333333,
              "#9c179e"
             ],
             [
              0.4444444444444444,
              "#bd3786"
             ],
             [
              0.5555555555555556,
              "#d8576b"
             ],
             [
              0.6666666666666666,
              "#ed7953"
             ],
             [
              0.7777777777777778,
              "#fb9f3a"
             ],
             [
              0.8888888888888888,
              "#fdca26"
             ],
             [
              1,
              "#f0f921"
             ]
            ],
            "type": "heatmapgl"
           }
          ],
          "histogram": [
           {
            "marker": {
             "pattern": {
              "fillmode": "overlay",
              "size": 10,
              "solidity": 0.2
             }
            },
            "type": "histogram"
           }
          ],
          "histogram2d": [
           {
            "colorbar": {
             "outlinewidth": 0,
             "ticks": ""
            },
            "colorscale": [
             [
              0,
              "#0d0887"
             ],
             [
              0.1111111111111111,
              "#46039f"
             ],
             [
              0.2222222222222222,
              "#7201a8"
             ],
             [
              0.3333333333333333,
              "#9c179e"
             ],
             [
              0.4444444444444444,
              "#bd3786"
             ],
             [
              0.5555555555555556,
              "#d8576b"
             ],
             [
              0.6666666666666666,
              "#ed7953"
             ],
             [
              0.7777777777777778,
              "#fb9f3a"
             ],
             [
              0.8888888888888888,
              "#fdca26"
             ],
             [
              1,
              "#f0f921"
             ]
            ],
            "type": "histogram2d"
           }
          ],
          "histogram2dcontour": [
           {
            "colorbar": {
             "outlinewidth": 0,
             "ticks": ""
            },
            "colorscale": [
             [
              0,
              "#0d0887"
             ],
             [
              0.1111111111111111,
              "#46039f"
             ],
             [
              0.2222222222222222,
              "#7201a8"
             ],
             [
              0.3333333333333333,
              "#9c179e"
             ],
             [
              0.4444444444444444,
              "#bd3786"
             ],
             [
              0.5555555555555556,
              "#d8576b"
             ],
             [
              0.6666666666666666,
              "#ed7953"
             ],
             [
              0.7777777777777778,
              "#fb9f3a"
             ],
             [
              0.8888888888888888,
              "#fdca26"
             ],
             [
              1,
              "#f0f921"
             ]
            ],
            "type": "histogram2dcontour"
           }
          ],
          "mesh3d": [
           {
            "colorbar": {
             "outlinewidth": 0,
             "ticks": ""
            },
            "type": "mesh3d"
           }
          ],
          "parcoords": [
           {
            "line": {
             "colorbar": {
              "outlinewidth": 0,
              "ticks": ""
             }
            },
            "type": "parcoords"
           }
          ],
          "pie": [
           {
            "automargin": true,
            "type": "pie"
           }
          ],
          "scatter": [
           {
            "fillpattern": {
             "fillmode": "overlay",
             "size": 10,
             "solidity": 0.2
            },
            "type": "scatter"
           }
          ],
          "scatter3d": [
           {
            "line": {
             "colorbar": {
              "outlinewidth": 0,
              "ticks": ""
             }
            },
            "marker": {
             "colorbar": {
              "outlinewidth": 0,
              "ticks": ""
             }
            },
            "type": "scatter3d"
           }
          ],
          "scattercarpet": [
           {
            "marker": {
             "colorbar": {
              "outlinewidth": 0,
              "ticks": ""
             }
            },
            "type": "scattercarpet"
           }
          ],
          "scattergeo": [
           {
            "marker": {
             "colorbar": {
              "outlinewidth": 0,
              "ticks": ""
             }
            },
            "type": "scattergeo"
           }
          ],
          "scattergl": [
           {
            "marker": {
             "colorbar": {
              "outlinewidth": 0,
              "ticks": ""
             }
            },
            "type": "scattergl"
           }
          ],
          "scattermapbox": [
           {
            "marker": {
             "colorbar": {
              "outlinewidth": 0,
              "ticks": ""
             }
            },
            "type": "scattermapbox"
           }
          ],
          "scatterpolar": [
           {
            "marker": {
             "colorbar": {
              "outlinewidth": 0,
              "ticks": ""
             }
            },
            "type": "scatterpolar"
           }
          ],
          "scatterpolargl": [
           {
            "marker": {
             "colorbar": {
              "outlinewidth": 0,
              "ticks": ""
             }
            },
            "type": "scatterpolargl"
           }
          ],
          "scatterternary": [
           {
            "marker": {
             "colorbar": {
              "outlinewidth": 0,
              "ticks": ""
             }
            },
            "type": "scatterternary"
           }
          ],
          "surface": [
           {
            "colorbar": {
             "outlinewidth": 0,
             "ticks": ""
            },
            "colorscale": [
             [
              0,
              "#0d0887"
             ],
             [
              0.1111111111111111,
              "#46039f"
             ],
             [
              0.2222222222222222,
              "#7201a8"
             ],
             [
              0.3333333333333333,
              "#9c179e"
             ],
             [
              0.4444444444444444,
              "#bd3786"
             ],
             [
              0.5555555555555556,
              "#d8576b"
             ],
             [
              0.6666666666666666,
              "#ed7953"
             ],
             [
              0.7777777777777778,
              "#fb9f3a"
             ],
             [
              0.8888888888888888,
              "#fdca26"
             ],
             [
              1,
              "#f0f921"
             ]
            ],
            "type": "surface"
           }
          ],
          "table": [
           {
            "cells": {
             "fill": {
              "color": "#EBF0F8"
             },
             "line": {
              "color": "white"
             }
            },
            "header": {
             "fill": {
              "color": "#C8D4E3"
             },
             "line": {
              "color": "white"
             }
            },
            "type": "table"
           }
          ]
         },
         "layout": {
          "annotationdefaults": {
           "arrowcolor": "#2a3f5f",
           "arrowhead": 0,
           "arrowwidth": 1
          },
          "autotypenumbers": "strict",
          "coloraxis": {
           "colorbar": {
            "outlinewidth": 0,
            "ticks": ""
           }
          },
          "colorscale": {
           "diverging": [
            [
             0,
             "#8e0152"
            ],
            [
             0.1,
             "#c51b7d"
            ],
            [
             0.2,
             "#de77ae"
            ],
            [
             0.3,
             "#f1b6da"
            ],
            [
             0.4,
             "#fde0ef"
            ],
            [
             0.5,
             "#f7f7f7"
            ],
            [
             0.6,
             "#e6f5d0"
            ],
            [
             0.7,
             "#b8e186"
            ],
            [
             0.8,
             "#7fbc41"
            ],
            [
             0.9,
             "#4d9221"
            ],
            [
             1,
             "#276419"
            ]
           ],
           "sequential": [
            [
             0,
             "#0d0887"
            ],
            [
             0.1111111111111111,
             "#46039f"
            ],
            [
             0.2222222222222222,
             "#7201a8"
            ],
            [
             0.3333333333333333,
             "#9c179e"
            ],
            [
             0.4444444444444444,
             "#bd3786"
            ],
            [
             0.5555555555555556,
             "#d8576b"
            ],
            [
             0.6666666666666666,
             "#ed7953"
            ],
            [
             0.7777777777777778,
             "#fb9f3a"
            ],
            [
             0.8888888888888888,
             "#fdca26"
            ],
            [
             1,
             "#f0f921"
            ]
           ],
           "sequentialminus": [
            [
             0,
             "#0d0887"
            ],
            [
             0.1111111111111111,
             "#46039f"
            ],
            [
             0.2222222222222222,
             "#7201a8"
            ],
            [
             0.3333333333333333,
             "#9c179e"
            ],
            [
             0.4444444444444444,
             "#bd3786"
            ],
            [
             0.5555555555555556,
             "#d8576b"
            ],
            [
             0.6666666666666666,
             "#ed7953"
            ],
            [
             0.7777777777777778,
             "#fb9f3a"
            ],
            [
             0.8888888888888888,
             "#fdca26"
            ],
            [
             1,
             "#f0f921"
            ]
           ]
          },
          "colorway": [
           "#636efa",
           "#EF553B",
           "#00cc96",
           "#ab63fa",
           "#FFA15A",
           "#19d3f3",
           "#FF6692",
           "#B6E880",
           "#FF97FF",
           "#FECB52"
          ],
          "font": {
           "color": "#2a3f5f"
          },
          "geo": {
           "bgcolor": "white",
           "lakecolor": "white",
           "landcolor": "#E5ECF6",
           "showlakes": true,
           "showland": true,
           "subunitcolor": "white"
          },
          "hoverlabel": {
           "align": "left"
          },
          "hovermode": "closest",
          "mapbox": {
           "style": "light"
          },
          "paper_bgcolor": "white",
          "plot_bgcolor": "#E5ECF6",
          "polar": {
           "angularaxis": {
            "gridcolor": "white",
            "linecolor": "white",
            "ticks": ""
           },
           "bgcolor": "#E5ECF6",
           "radialaxis": {
            "gridcolor": "white",
            "linecolor": "white",
            "ticks": ""
           }
          },
          "scene": {
           "xaxis": {
            "backgroundcolor": "#E5ECF6",
            "gridcolor": "white",
            "gridwidth": 2,
            "linecolor": "white",
            "showbackground": true,
            "ticks": "",
            "zerolinecolor": "white"
           },
           "yaxis": {
            "backgroundcolor": "#E5ECF6",
            "gridcolor": "white",
            "gridwidth": 2,
            "linecolor": "white",
            "showbackground": true,
            "ticks": "",
            "zerolinecolor": "white"
           },
           "zaxis": {
            "backgroundcolor": "#E5ECF6",
            "gridcolor": "white",
            "gridwidth": 2,
            "linecolor": "white",
            "showbackground": true,
            "ticks": "",
            "zerolinecolor": "white"
           }
          },
          "shapedefaults": {
           "line": {
            "color": "#2a3f5f"
           }
          },
          "ternary": {
           "aaxis": {
            "gridcolor": "white",
            "linecolor": "white",
            "ticks": ""
           },
           "baxis": {
            "gridcolor": "white",
            "linecolor": "white",
            "ticks": ""
           },
           "bgcolor": "#E5ECF6",
           "caxis": {
            "gridcolor": "white",
            "linecolor": "white",
            "ticks": ""
           }
          },
          "title": {
           "x": 0.05
          },
          "xaxis": {
           "automargin": true,
           "gridcolor": "white",
           "linecolor": "white",
           "ticks": "",
           "title": {
            "standoff": 15
           },
           "zerolinecolor": "white",
           "zerolinewidth": 2
          },
          "yaxis": {
           "automargin": true,
           "gridcolor": "white",
           "linecolor": "white",
           "ticks": "",
           "title": {
            "standoff": 15
           },
           "zerolinecolor": "white",
           "zerolinewidth": 2
          }
         }
        },
        "title": {
         "text": "CART_tree_pruned"
        }
       }
      }
     },
     "metadata": {},
     "output_type": "display_data"
    },
    {
     "data": {
      "text/html": [
       "<style type=\"text/css\">\n",
       "</style>\n",
       "<table id=\"T_28712\">\n",
       "  <thead>\n",
       "    <tr>\n",
       "      <th id=\"T_28712_level0_col0\" class=\"col_heading level0 col0\" >Node</th>\n",
       "      <th id=\"T_28712_level0_col1\" class=\"col_heading level0 col1\" >Node_type</th>\n",
       "      <th id=\"T_28712_level0_col2\" class=\"col_heading level0 col2\" >Variable_Split</th>\n",
       "      <th id=\"T_28712_level0_col3\" class=\"col_heading level0 col3\" >Twoing_Classes_C1</th>\n",
       "      <th id=\"T_28712_level0_col4\" class=\"col_heading level0 col4\" >Twoing_Classes_C2</th>\n",
       "      <th id=\"T_28712_level0_col5\" class=\"col_heading level0 col5\" >n</th>\n",
       "      <th id=\"T_28712_level0_col6\" class=\"col_heading level0 col6\" >Impurity_Value</th>\n",
       "      <th id=\"T_28712_level0_col7\" class=\"col_heading level0 col7\" >Class/Value</th>\n",
       "    </tr>\n",
       "  </thead>\n",
       "  <tbody>\n",
       "    <tr>\n",
       "      <td id=\"T_28712_row0_col0\" class=\"data row0 col0\" >n1</td>\n",
       "      <td id=\"T_28712_row0_col1\" class=\"data row0 col1\" >Parent</td>\n",
       "      <td id=\"T_28712_row0_col2\" class=\"data row0 col2\" >Sales>0.91</td>\n",
       "      <td id=\"T_28712_row0_col3\" class=\"data row0 col3\" ><=160</td>\n",
       "      <td id=\"T_28712_row0_col4\" class=\"data row0 col4\" >>160</td>\n",
       "      <td id=\"T_28712_row0_col5\" class=\"data row0 col5\" >280</td>\n",
       "      <td id=\"T_28712_row0_col6\" class=\"data row0 col6\" >155526.820000</td>\n",
       "      <td id=\"T_28712_row0_col7\" class=\"data row0 col7\" >115.775000</td>\n",
       "    </tr>\n",
       "    <tr>\n",
       "      <td id=\"T_28712_row1_col0\" class=\"data row1 col0\" >n2</td>\n",
       "      <td id=\"T_28712_row1_col1\" class=\"data row1 col1\" >Child</td>\n",
       "      <td id=\"T_28712_row1_col2\" class=\"data row1 col2\" >None</td>\n",
       "      <td id=\"T_28712_row1_col3\" class=\"data row1 col3\" >None</td>\n",
       "      <td id=\"T_28712_row1_col4\" class=\"data row1 col4\" >None</td>\n",
       "      <td id=\"T_28712_row1_col5\" class=\"data row1 col5\" >5</td>\n",
       "      <td id=\"T_28712_row1_col6\" class=\"data row1 col6\" >3860.800000</td>\n",
       "      <td id=\"T_28712_row1_col7\" class=\"data row1 col7\" >158.200000</td>\n",
       "    </tr>\n",
       "    <tr>\n",
       "      <td id=\"T_28712_row2_col0\" class=\"data row2 col0\" >n3</td>\n",
       "      <td id=\"T_28712_row2_col1\" class=\"data row2 col1\" >Parent</td>\n",
       "      <td id=\"T_28712_row2_col2\" class=\"data row2 col2\" >Sales>9.95</td>\n",
       "      <td id=\"T_28712_row2_col3\" class=\"data row2 col3\" ><=87</td>\n",
       "      <td id=\"T_28712_row2_col4\" class=\"data row2 col4\" >>87</td>\n",
       "      <td id=\"T_28712_row2_col5\" class=\"data row2 col5\" >275</td>\n",
       "      <td id=\"T_28712_row2_col6\" class=\"data row2 col6\" >142503.000000</td>\n",
       "      <td id=\"T_28712_row2_col7\" class=\"data row2 col7\" >115.004000</td>\n",
       "    </tr>\n",
       "    <tr>\n",
       "      <td id=\"T_28712_row3_col0\" class=\"data row3 col0\" >n6</td>\n",
       "      <td id=\"T_28712_row3_col1\" class=\"data row3 col1\" >Parent</td>\n",
       "      <td id=\"T_28712_row3_col2\" class=\"data row3 col2\" >Sales>7.52</td>\n",
       "      <td id=\"T_28712_row3_col3\" class=\"data row3 col3\" ><=122</td>\n",
       "      <td id=\"T_28712_row3_col4\" class=\"data row3 col4\" >>122</td>\n",
       "      <td id=\"T_28712_row3_col5\" class=\"data row3 col5\" >223</td>\n",
       "      <td id=\"T_28712_row3_col6\" class=\"data row3 col6\" >95241.930000</td>\n",
       "      <td id=\"T_28712_row3_col7\" class=\"data row3 col7\" >118.982000</td>\n",
       "    </tr>\n",
       "    <tr>\n",
       "      <td id=\"T_28712_row4_col0\" class=\"data row4 col0\" >n12</td>\n",
       "      <td id=\"T_28712_row4_col1\" class=\"data row4 col1\" >Parent</td>\n",
       "      <td id=\"T_28712_row4_col2\" class=\"data row4 col2\" >CompPrice>148</td>\n",
       "      <td id=\"T_28712_row4_col3\" class=\"data row4 col3\" ><=160</td>\n",
       "      <td id=\"T_28712_row4_col4\" class=\"data row4 col4\" >>160</td>\n",
       "      <td id=\"T_28712_row4_col5\" class=\"data row4 col5\" >141</td>\n",
       "      <td id=\"T_28712_row4_col6\" class=\"data row4 col6\" >52885.890000</td>\n",
       "      <td id=\"T_28712_row4_col7\" class=\"data row4 col7\" >124.028000</td>\n",
       "    </tr>\n",
       "    <tr>\n",
       "      <td id=\"T_28712_row5_col0\" class=\"data row5 col0\" >n24</td>\n",
       "      <td id=\"T_28712_row5_col1\" class=\"data row5 col1\" >Child</td>\n",
       "      <td id=\"T_28712_row5_col2\" class=\"data row5 col2\" >None</td>\n",
       "      <td id=\"T_28712_row5_col3\" class=\"data row5 col3\" >None</td>\n",
       "      <td id=\"T_28712_row5_col4\" class=\"data row5 col4\" >None</td>\n",
       "      <td id=\"T_28712_row5_col5\" class=\"data row5 col5\" >134</td>\n",
       "      <td id=\"T_28712_row5_col6\" class=\"data row5 col6\" >44745.380000</td>\n",
       "      <td id=\"T_28712_row5_col7\" class=\"data row5 col7\" >122.470000</td>\n",
       "    </tr>\n",
       "    <tr>\n",
       "      <td id=\"T_28712_row6_col0\" class=\"data row6 col0\" >n25</td>\n",
       "      <td id=\"T_28712_row6_col1\" class=\"data row6 col1\" >Child</td>\n",
       "      <td id=\"T_28712_row6_col2\" class=\"data row6 col2\" >None</td>\n",
       "      <td id=\"T_28712_row6_col3\" class=\"data row6 col3\" >None</td>\n",
       "      <td id=\"T_28712_row6_col4\" class=\"data row6 col4\" >None</td>\n",
       "      <td id=\"T_28712_row6_col5\" class=\"data row6 col5\" >7</td>\n",
       "      <td id=\"T_28712_row6_col6\" class=\"data row6 col6\" >1586.860000</td>\n",
       "      <td id=\"T_28712_row6_col7\" class=\"data row6 col7\" >153.857000</td>\n",
       "    </tr>\n",
       "    <tr>\n",
       "      <td id=\"T_28712_row7_col0\" class=\"data row7 col0\" >n24</td>\n",
       "      <td id=\"T_28712_row7_col1\" class=\"data row7 col1\" >Parent</td>\n",
       "      <td id=\"T_28712_row7_col2\" class=\"data row7 col2\" >Sales>3.42</td>\n",
       "      <td id=\"T_28712_row7_col3\" class=\"data row7 col3\" ><=154</td>\n",
       "      <td id=\"T_28712_row7_col4\" class=\"data row7 col4\" >>154</td>\n",
       "      <td id=\"T_28712_row7_col5\" class=\"data row7 col5\" >134</td>\n",
       "      <td id=\"T_28712_row7_col6\" class=\"data row7 col6\" >44745.380000</td>\n",
       "      <td id=\"T_28712_row7_col7\" class=\"data row7 col7\" >122.470000</td>\n",
       "    </tr>\n",
       "    <tr>\n",
       "      <td id=\"T_28712_row8_col0\" class=\"data row8 col0\" >n13</td>\n",
       "      <td id=\"T_28712_row8_col1\" class=\"data row8 col1\" >Parent</td>\n",
       "      <td id=\"T_28712_row8_col2\" class=\"data row8 col2\" >CompPrice>98</td>\n",
       "      <td id=\"T_28712_row8_col3\" class=\"data row8 col3\" ><=144</td>\n",
       "      <td id=\"T_28712_row8_col4\" class=\"data row8 col4\" >>144</td>\n",
       "      <td id=\"T_28712_row8_col5\" class=\"data row8 col5\" >82</td>\n",
       "      <td id=\"T_28712_row8_col6\" class=\"data row8 col6\" >32591.380000</td>\n",
       "      <td id=\"T_28712_row8_col7\" class=\"data row8 col7\" >110.305000</td>\n",
       "    </tr>\n",
       "    <tr>\n",
       "      <td id=\"T_28712_row9_col0\" class=\"data row9 col0\" >n26</td>\n",
       "      <td id=\"T_28712_row9_col1\" class=\"data row9 col1\" >Child</td>\n",
       "      <td id=\"T_28712_row9_col2\" class=\"data row9 col2\" >None</td>\n",
       "      <td id=\"T_28712_row9_col3\" class=\"data row9 col3\" >None</td>\n",
       "      <td id=\"T_28712_row9_col4\" class=\"data row9 col4\" >None</td>\n",
       "      <td id=\"T_28712_row9_col5\" class=\"data row9 col5\" >6</td>\n",
       "      <td id=\"T_28712_row9_col6\" class=\"data row9 col6\" >1702.000000</td>\n",
       "      <td id=\"T_28712_row9_col7\" class=\"data row9 col7\" >75.000000</td>\n",
       "    </tr>\n",
       "    <tr>\n",
       "      <td id=\"T_28712_row10_col0\" class=\"data row10 col0\" >n27</td>\n",
       "      <td id=\"T_28712_row10_col1\" class=\"data row10 col1\" >Child</td>\n",
       "      <td id=\"T_28712_row10_col2\" class=\"data row10 col2\" >None</td>\n",
       "      <td id=\"T_28712_row10_col3\" class=\"data row10 col3\" >None</td>\n",
       "      <td id=\"T_28712_row10_col4\" class=\"data row10 col4\" >None</td>\n",
       "      <td id=\"T_28712_row10_col5\" class=\"data row10 col5\" >76</td>\n",
       "      <td id=\"T_28712_row10_col6\" class=\"data row10 col6\" >22820.360000</td>\n",
       "      <td id=\"T_28712_row10_col7\" class=\"data row10 col7\" >113.092000</td>\n",
       "    </tr>\n",
       "    <tr>\n",
       "      <td id=\"T_28712_row11_col0\" class=\"data row11 col0\" >n27</td>\n",
       "      <td id=\"T_28712_row11_col1\" class=\"data row11 col1\" >Parent</td>\n",
       "      <td id=\"T_28712_row11_col2\" class=\"data row11 col2\" >Sales>9.39</td>\n",
       "      <td id=\"T_28712_row11_col3\" class=\"data row11 col3\" ><=128</td>\n",
       "      <td id=\"T_28712_row11_col4\" class=\"data row11 col4\" >>128</td>\n",
       "      <td id=\"T_28712_row11_col5\" class=\"data row11 col5\" >76</td>\n",
       "      <td id=\"T_28712_row11_col6\" class=\"data row11 col6\" >22820.360000</td>\n",
       "      <td id=\"T_28712_row11_col7\" class=\"data row11 col7\" >113.092000</td>\n",
       "    </tr>\n",
       "    <tr>\n",
       "      <td id=\"T_28712_row12_col0\" class=\"data row12 col0\" >n7</td>\n",
       "      <td id=\"T_28712_row12_col1\" class=\"data row12 col1\" >Parent</td>\n",
       "      <td id=\"T_28712_row12_col2\" class=\"data row12 col2\" >CompPrice>113</td>\n",
       "      <td id=\"T_28712_row12_col3\" class=\"data row12 col3\" ><=68</td>\n",
       "      <td id=\"T_28712_row12_col4\" class=\"data row12 col4\" >>68</td>\n",
       "      <td id=\"T_28712_row12_col5\" class=\"data row12 col5\" >52</td>\n",
       "      <td id=\"T_28712_row12_col6\" class=\"data row12 col6\" >28594.830000</td>\n",
       "      <td id=\"T_28712_row12_col7\" class=\"data row12 col7\" >97.942000</td>\n",
       "    </tr>\n",
       "    <tr>\n",
       "      <td id=\"T_28712_row13_col0\" class=\"data row13 col0\" >n14</td>\n",
       "      <td id=\"T_28712_row13_col1\" class=\"data row13 col1\" >Child</td>\n",
       "      <td id=\"T_28712_row13_col2\" class=\"data row13 col2\" >None</td>\n",
       "      <td id=\"T_28712_row13_col3\" class=\"data row13 col3\" >None</td>\n",
       "      <td id=\"T_28712_row13_col4\" class=\"data row13 col4\" >None</td>\n",
       "      <td id=\"T_28712_row13_col5\" class=\"data row13 col5\" >12</td>\n",
       "      <td id=\"T_28712_row13_col6\" class=\"data row13 col6\" >5987.000000</td>\n",
       "      <td id=\"T_28712_row13_col7\" class=\"data row13 col7\" >74.500000</td>\n",
       "    </tr>\n",
       "    <tr>\n",
       "      <td id=\"T_28712_row14_col0\" class=\"data row14 col0\" >n15</td>\n",
       "      <td id=\"T_28712_row14_col1\" class=\"data row14 col1\" >Child</td>\n",
       "      <td id=\"T_28712_row14_col2\" class=\"data row14 col2\" >None</td>\n",
       "      <td id=\"T_28712_row14_col3\" class=\"data row14 col3\" >None</td>\n",
       "      <td id=\"T_28712_row14_col4\" class=\"data row14 col4\" >None</td>\n",
       "      <td id=\"T_28712_row14_col5\" class=\"data row14 col5\" >40</td>\n",
       "      <td id=\"T_28712_row14_col6\" class=\"data row14 col6\" >14034.970000</td>\n",
       "      <td id=\"T_28712_row14_col7\" class=\"data row14 col7\" >104.975000</td>\n",
       "    </tr>\n",
       "    <tr>\n",
       "      <td id=\"T_28712_row15_col0\" class=\"data row15 col0\" >n14</td>\n",
       "      <td id=\"T_28712_row15_col1\" class=\"data row15 col1\" >Parent</td>\n",
       "      <td id=\"T_28712_row15_col2\" class=\"data row15 col2\" >Advertising>10</td>\n",
       "      <td id=\"T_28712_row15_col3\" class=\"data row15 col3\" ><=77</td>\n",
       "      <td id=\"T_28712_row15_col4\" class=\"data row15 col4\" >>77</td>\n",
       "      <td id=\"T_28712_row15_col5\" class=\"data row15 col5\" >12</td>\n",
       "      <td id=\"T_28712_row15_col6\" class=\"data row15 col6\" >5987.000000</td>\n",
       "      <td id=\"T_28712_row15_col7\" class=\"data row15 col7\" >74.500000</td>\n",
       "    </tr>\n",
       "    <tr>\n",
       "      <td id=\"T_28712_row16_col0\" class=\"data row16 col0\" >n15</td>\n",
       "      <td id=\"T_28712_row16_col1\" class=\"data row16 col1\" >Parent</td>\n",
       "      <td id=\"T_28712_row16_col2\" class=\"data row16 col2\" >Sales>11.85</td>\n",
       "      <td id=\"T_28712_row16_col3\" class=\"data row16 col3\" ><=96</td>\n",
       "      <td id=\"T_28712_row16_col4\" class=\"data row16 col4\" >>96</td>\n",
       "      <td id=\"T_28712_row16_col5\" class=\"data row16 col5\" >40</td>\n",
       "      <td id=\"T_28712_row16_col6\" class=\"data row16 col6\" >14034.970000</td>\n",
       "      <td id=\"T_28712_row16_col7\" class=\"data row16 col7\" >104.975000</td>\n",
       "    </tr>\n",
       "  </tbody>\n",
       "</table>\n"
      ],
      "text/plain": [
       "<pandas.io.formats.style.Styler at 0x18e494e9670>"
      ]
     },
     "execution_count": 5,
     "metadata": {},
     "output_type": "execute_result"
    }
   ],
   "source": [
    "alpha, pruned_table = cart.pruning(features_test, n_features_test, y_test)\n",
    "pruned_table.style.hide_index()"
   ]
  }
 ],
 "metadata": {
  "kernelspec": {
   "display_name": "base",
   "language": "python",
   "name": "python3"
  },
  "language_info": {
   "codemirror_mode": {
    "name": "ipython",
    "version": 3
   },
   "file_extension": ".py",
   "mimetype": "text/x-python",
   "name": "python",
   "nbconvert_exporter": "python",
   "pygments_lexer": "ipython3",
   "version": "3.8.15"
  },
  "orig_nbformat": 4
 },
 "nbformat": 4,
 "nbformat_minor": 2
}
