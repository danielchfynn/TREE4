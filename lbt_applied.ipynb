{
 "cells": [
  {
   "cell_type": "code",
   "execution_count": 1,
   "metadata": {},
   "outputs": [
    {
     "name": "stderr",
     "output_type": "stream",
     "text": [
      "C:\\Users\\danie\\AppData\\Local\\Temp\\ipykernel_21024\\1183594070.py:1: DeprecationWarning: \n",
      "Pyarrow will become a required dependency of pandas in the next major release of pandas (pandas 3.0),\n",
      "(to allow more performant data types, such as the Arrow string type, and better interoperability with other libraries)\n",
      "but was not found to be installed on your system.\n",
      "If this would cause problems for you,\n",
      "please provide us feedback at https://github.com/pandas-dev/pandas/issues/54466\n",
      "        \n",
      "  import pandas as pd\n"
     ]
    }
   ],
   "source": [
    "import pandas as pd\n",
    "import numpy as np\n",
    "\n",
    "from TREEplus import *"
   ]
  },
  {
   "cell_type": "code",
   "execution_count": 2,
   "metadata": {},
   "outputs": [
    {
     "name": "stdout",
     "output_type": "stream",
     "text": [
      "(81086, 32)\n"
     ]
    },
    {
     "data": {
      "text/html": [
       "<div>\n",
       "<style scoped>\n",
       "    .dataframe tbody tr th:only-of-type {\n",
       "        vertical-align: middle;\n",
       "    }\n",
       "\n",
       "    .dataframe tbody tr th {\n",
       "        vertical-align: top;\n",
       "    }\n",
       "\n",
       "    .dataframe thead th {\n",
       "        text-align: right;\n",
       "    }\n",
       "</style>\n",
       "<table border=\"1\" class=\"dataframe\">\n",
       "  <thead>\n",
       "    <tr style=\"text-align: right;\">\n",
       "      <th></th>\n",
       "      <th>trip_id</th>\n",
       "      <th>household_id</th>\n",
       "      <th>person_n</th>\n",
       "      <th>trip_n</th>\n",
       "      <th>travel_mode</th>\n",
       "      <th>purpose</th>\n",
       "      <th>fueltype</th>\n",
       "      <th>faretype</th>\n",
       "      <th>bus_scale</th>\n",
       "      <th>survey_year</th>\n",
       "      <th>travel_year</th>\n",
       "      <th>travel_month</th>\n",
       "      <th>travel_date</th>\n",
       "      <th>day_of_week</th>\n",
       "      <th>start_time</th>\n",
       "      <th>age</th>\n",
       "      <th>female</th>\n",
       "      <th>driving_license</th>\n",
       "      <th>car_ownership</th>\n",
       "      <th>distance</th>\n",
       "      <th>dur_walking</th>\n",
       "      <th>dur_cycling</th>\n",
       "      <th>dur_pt_access</th>\n",
       "      <th>dur_pt_rail</th>\n",
       "      <th>dur_pt_bus</th>\n",
       "      <th>dur_pt_int</th>\n",
       "      <th>pt_interchanges</th>\n",
       "      <th>dur_driving</th>\n",
       "      <th>cost_transit</th>\n",
       "      <th>cost_driving_fuel</th>\n",
       "      <th>cost_driving_ccharge</th>\n",
       "      <th>driving_traffic_percent</th>\n",
       "    </tr>\n",
       "  </thead>\n",
       "  <tbody>\n",
       "    <tr>\n",
       "      <th>0</th>\n",
       "      <td>0</td>\n",
       "      <td>0</td>\n",
       "      <td>0</td>\n",
       "      <td>0</td>\n",
       "      <td>4</td>\n",
       "      <td>3</td>\n",
       "      <td>1</td>\n",
       "      <td>1</td>\n",
       "      <td>1.0</td>\n",
       "      <td>1</td>\n",
       "      <td>2012</td>\n",
       "      <td>4</td>\n",
       "      <td>1</td>\n",
       "      <td>7</td>\n",
       "      <td>10.000000</td>\n",
       "      <td>56</td>\n",
       "      <td>1</td>\n",
       "      <td>1</td>\n",
       "      <td>2</td>\n",
       "      <td>778</td>\n",
       "      <td>0.218056</td>\n",
       "      <td>0.092222</td>\n",
       "      <td>0.134444</td>\n",
       "      <td>0.0</td>\n",
       "      <td>0.016667</td>\n",
       "      <td>0.0</td>\n",
       "      <td>0</td>\n",
       "      <td>0.052222</td>\n",
       "      <td>1.5</td>\n",
       "      <td>0.14</td>\n",
       "      <td>0.0</td>\n",
       "      <td>0.111702</td>\n",
       "    </tr>\n",
       "    <tr>\n",
       "      <th>1</th>\n",
       "      <td>1</td>\n",
       "      <td>0</td>\n",
       "      <td>0</td>\n",
       "      <td>1</td>\n",
       "      <td>4</td>\n",
       "      <td>3</td>\n",
       "      <td>1</td>\n",
       "      <td>1</td>\n",
       "      <td>1.0</td>\n",
       "      <td>1</td>\n",
       "      <td>2012</td>\n",
       "      <td>4</td>\n",
       "      <td>1</td>\n",
       "      <td>7</td>\n",
       "      <td>13.000000</td>\n",
       "      <td>56</td>\n",
       "      <td>1</td>\n",
       "      <td>1</td>\n",
       "      <td>2</td>\n",
       "      <td>778</td>\n",
       "      <td>0.188889</td>\n",
       "      <td>0.061944</td>\n",
       "      <td>0.109444</td>\n",
       "      <td>0.0</td>\n",
       "      <td>0.055556</td>\n",
       "      <td>0.0</td>\n",
       "      <td>0</td>\n",
       "      <td>0.059444</td>\n",
       "      <td>1.5</td>\n",
       "      <td>0.15</td>\n",
       "      <td>0.0</td>\n",
       "      <td>0.112150</td>\n",
       "    </tr>\n",
       "    <tr>\n",
       "      <th>2</th>\n",
       "      <td>2</td>\n",
       "      <td>0</td>\n",
       "      <td>0</td>\n",
       "      <td>2</td>\n",
       "      <td>4</td>\n",
       "      <td>3</td>\n",
       "      <td>1</td>\n",
       "      <td>1</td>\n",
       "      <td>1.0</td>\n",
       "      <td>1</td>\n",
       "      <td>2012</td>\n",
       "      <td>4</td>\n",
       "      <td>1</td>\n",
       "      <td>7</td>\n",
       "      <td>17.000000</td>\n",
       "      <td>56</td>\n",
       "      <td>1</td>\n",
       "      <td>1</td>\n",
       "      <td>2</td>\n",
       "      <td>4562</td>\n",
       "      <td>1.037778</td>\n",
       "      <td>0.355833</td>\n",
       "      <td>0.203056</td>\n",
       "      <td>0.0</td>\n",
       "      <td>0.210278</td>\n",
       "      <td>0.0</td>\n",
       "      <td>0</td>\n",
       "      <td>0.236667</td>\n",
       "      <td>1.5</td>\n",
       "      <td>0.79</td>\n",
       "      <td>0.0</td>\n",
       "      <td>0.203052</td>\n",
       "    </tr>\n",
       "    <tr>\n",
       "      <th>3</th>\n",
       "      <td>3</td>\n",
       "      <td>0</td>\n",
       "      <td>0</td>\n",
       "      <td>3</td>\n",
       "      <td>4</td>\n",
       "      <td>3</td>\n",
       "      <td>1</td>\n",
       "      <td>1</td>\n",
       "      <td>1.0</td>\n",
       "      <td>1</td>\n",
       "      <td>2012</td>\n",
       "      <td>4</td>\n",
       "      <td>1</td>\n",
       "      <td>7</td>\n",
       "      <td>17.350000</td>\n",
       "      <td>56</td>\n",
       "      <td>1</td>\n",
       "      <td>1</td>\n",
       "      <td>2</td>\n",
       "      <td>4562</td>\n",
       "      <td>1.039444</td>\n",
       "      <td>0.384444</td>\n",
       "      <td>0.205556</td>\n",
       "      <td>0.0</td>\n",
       "      <td>0.258611</td>\n",
       "      <td>0.0</td>\n",
       "      <td>0</td>\n",
       "      <td>0.233333</td>\n",
       "      <td>1.5</td>\n",
       "      <td>0.78</td>\n",
       "      <td>0.0</td>\n",
       "      <td>0.160714</td>\n",
       "    </tr>\n",
       "    <tr>\n",
       "      <th>4</th>\n",
       "      <td>4</td>\n",
       "      <td>0</td>\n",
       "      <td>1</td>\n",
       "      <td>2</td>\n",
       "      <td>4</td>\n",
       "      <td>3</td>\n",
       "      <td>1</td>\n",
       "      <td>4</td>\n",
       "      <td>1.0</td>\n",
       "      <td>1</td>\n",
       "      <td>2012</td>\n",
       "      <td>4</td>\n",
       "      <td>1</td>\n",
       "      <td>7</td>\n",
       "      <td>19.583333</td>\n",
       "      <td>54</td>\n",
       "      <td>0</td>\n",
       "      <td>1</td>\n",
       "      <td>2</td>\n",
       "      <td>4562</td>\n",
       "      <td>1.037778</td>\n",
       "      <td>0.355833</td>\n",
       "      <td>0.203056</td>\n",
       "      <td>0.0</td>\n",
       "      <td>0.189444</td>\n",
       "      <td>0.0</td>\n",
       "      <td>0</td>\n",
       "      <td>0.229167</td>\n",
       "      <td>1.5</td>\n",
       "      <td>0.78</td>\n",
       "      <td>0.0</td>\n",
       "      <td>0.130909</td>\n",
       "    </tr>\n",
       "  </tbody>\n",
       "</table>\n",
       "</div>"
      ],
      "text/plain": [
       "   trip_id  household_id  person_n  trip_n  travel_mode  purpose  fueltype  \\\n",
       "0        0             0         0       0            4        3         1   \n",
       "1        1             0         0       1            4        3         1   \n",
       "2        2             0         0       2            4        3         1   \n",
       "3        3             0         0       3            4        3         1   \n",
       "4        4             0         1       2            4        3         1   \n",
       "\n",
       "   faretype  bus_scale  survey_year  travel_year  travel_month  travel_date  \\\n",
       "0         1        1.0            1         2012             4            1   \n",
       "1         1        1.0            1         2012             4            1   \n",
       "2         1        1.0            1         2012             4            1   \n",
       "3         1        1.0            1         2012             4            1   \n",
       "4         4        1.0            1         2012             4            1   \n",
       "\n",
       "   day_of_week  start_time  age  female  driving_license  car_ownership  \\\n",
       "0            7   10.000000   56       1                1              2   \n",
       "1            7   13.000000   56       1                1              2   \n",
       "2            7   17.000000   56       1                1              2   \n",
       "3            7   17.350000   56       1                1              2   \n",
       "4            7   19.583333   54       0                1              2   \n",
       "\n",
       "   distance  dur_walking  dur_cycling  dur_pt_access  dur_pt_rail  dur_pt_bus  \\\n",
       "0       778     0.218056     0.092222       0.134444          0.0    0.016667   \n",
       "1       778     0.188889     0.061944       0.109444          0.0    0.055556   \n",
       "2      4562     1.037778     0.355833       0.203056          0.0    0.210278   \n",
       "3      4562     1.039444     0.384444       0.205556          0.0    0.258611   \n",
       "4      4562     1.037778     0.355833       0.203056          0.0    0.189444   \n",
       "\n",
       "   dur_pt_int  pt_interchanges  dur_driving  cost_transit  cost_driving_fuel  \\\n",
       "0         0.0                0     0.052222           1.5               0.14   \n",
       "1         0.0                0     0.059444           1.5               0.15   \n",
       "2         0.0                0     0.236667           1.5               0.79   \n",
       "3         0.0                0     0.233333           1.5               0.78   \n",
       "4         0.0                0     0.229167           1.5               0.78   \n",
       "\n",
       "   cost_driving_ccharge  driving_traffic_percent  \n",
       "0                   0.0                 0.111702  \n",
       "1                   0.0                 0.112150  \n",
       "2                   0.0                 0.203052  \n",
       "3                   0.0                 0.160714  \n",
       "4                   0.0                 0.130909  "
      ]
     },
     "execution_count": 2,
     "metadata": {},
     "output_type": "execute_result"
    }
   ],
   "source": [
    "pd.options.display.max_columns = None\n",
    "dataframe = pd.read_table('lpmc.dat')\n",
    "print(dataframe.shape)\n",
    "dataframe.head()"
   ]
  },
  {
   "cell_type": "code",
   "execution_count": 3,
   "metadata": {},
   "outputs": [],
   "source": [
    "#binning age\n",
    "dataframe = pd.read_table('lpmc.dat')\n",
    "\n",
    "groupDict={'0-18':0,'19-30':0,'31-65':0, '66+': 0}\n",
    "\n",
    "for i in dataframe['age']:\n",
    "    if i>=0 and i<=10:\n",
    "        groupDict['0-18']+=1\n",
    "    elif i>=19 and i<=30:\n",
    "        groupDict['19-30']+=1\n",
    "    elif i>=31 and i<=65:\n",
    "        groupDict['31-65']+=1\n",
    "    else:\n",
    "        groupDict['66+']+=1\n",
    "\n",
    "dataframe.loc[dataframe['age']<=18, 'age_group'] = '0-18'\n",
    "dataframe.loc[dataframe['age'].between(19,30), 'age_group'] = '19-30'\n",
    "dataframe.loc[dataframe['age'].between(31,65), 'age_group'] = '31-65'\n",
    "dataframe.loc[dataframe['age']>65, 'age_group'] = '66+'\n",
    "dataframe.drop(['age'], axis= 1, inplace = True)\n",
    "\n",
    "\n",
    "#binning distance\n",
    "\n",
    "dataframe.loc[dataframe['distance']< 658.50, 'distance_group'] = 'distance01'\n",
    "dataframe.loc[dataframe['distance'].between(658.50,861.49), 'distance_group'] = 'distance02'\n",
    "dataframe.loc[dataframe['distance'].between(861.50,1214.49), 'distance_group'] = 'distance03'\n",
    "dataframe.loc[dataframe['distance'].between(1214.50,1514.49 ), 'distance_group'] = 'distance04'\n",
    "dataframe.loc[dataframe['distance'].between(1514.50, 2156.49), 'distance_group'] = 'distance05'\n",
    "dataframe.loc[dataframe['distance'].between(2156.50, 2759.49), 'distance_group'] = 'distance06'\n",
    "dataframe.loc[dataframe['distance'].between(2759.50, 4391.49), 'distance_group'] = 'distance07'\n",
    "dataframe.loc[dataframe['distance'].between(4391.50, 5369.49), 'distance_group'] = 'distance08'\n",
    "dataframe.loc[dataframe['distance'].between(5369.50, 10087.49), 'distance_group'] = 'distance09'\n",
    "dataframe.loc[dataframe['distance'].between(10087.50, 14695.49), 'distance_group'] = 'distance10'\n",
    "dataframe.loc[dataframe['distance']>=14695.50, 'distance_group'] = 'distance11'\n",
    "dataframe.drop('distance', axis = 1, inplace = True)\n",
    "\n",
    "#binning start time\n",
    "\n",
    "dataframe.loc[dataframe['start_time']<8.091666, 'starttime_group'] = 'early_morning'\n",
    "dataframe.loc[dataframe['start_time'].between(8.091666,10.00833320), 'starttime_group'] = 'morning'\n",
    "dataframe.loc[dataframe['start_time'].between(10.008333211,18.50833320), 'starttime_group'] = 'afternoon'\n",
    "dataframe.loc[dataframe['start_time']> 18.50833321, 'starttime_group'] = 'evening'\n",
    "dataframe.drop('start_time', axis = 1, inplace = True)\n",
    "\n",
    "#binning cost transit\n",
    "\n",
    "dataframe.loc[dataframe['cost_transit']< 1.52499998, 'cost_group'] = 'low_cost'\n",
    "dataframe.loc[dataframe['cost_transit'].between(1.52499998,3.01999997), 'cost_group'] = 'medium_cost'\n",
    "dataframe.loc[dataframe['cost_transit']> 3.01999998, 'cost_group'] = 'high_cost'\n",
    "dataframe.drop('cost_transit', axis = 1, inplace = True)\n",
    "\n",
    "#binning cost_driving_Fuel\n",
    "\n",
    "dataframe.loc[dataframe['cost_driving_fuel']< 0.165, 'costdrivingfuel_group'] = 'costdrivingfuelgroup1'\n",
    "dataframe.loc[dataframe['cost_driving_fuel'].between(0.165,0.204), 'costdrivingfuel_group'] = 'costdrivingfuelgroup2'\n",
    "dataframe.loc[dataframe['cost_driving_fuel'].between(0.205,0.244), 'costdrivingfuel_group'] = 'costdrivingfuelgroup3'\n",
    "dataframe.loc[dataframe['cost_driving_fuel'].between(0.245, 0.294), 'costdrivingfuel_group'] = 'costdrivingfuelgroup4'\n",
    "dataframe.loc[dataframe['cost_driving_fuel'].between(0.295, 0.354), 'costdrivingfuel_group'] = 'costdrivingfuelgroup5'\n",
    "dataframe.loc[dataframe['cost_driving_fuel'].between(0.355, 0.44499998), 'costdrivingfuel_group'] = 'costdrivingfuelgroup6'\n",
    "dataframe.loc[dataframe['cost_driving_fuel'].between(0.44499999, 0.83499997), 'costdrivingfuel_group'] = 'costdrivingfuelgroup7'\n",
    "dataframe.loc[dataframe['cost_driving_fuel'].between(0.83499998, 1.17499994), 'costdrivingfuel_group'] = 'costdrivingfuelgroup8'\n",
    "dataframe.loc[dataframe['cost_driving_fuel'].between(1.17499995, 2.31499993), 'costdrivingfuel_group'] = 'costdrivingfuelgroup9'\n",
    "dataframe.loc[dataframe['cost_driving_fuel']> 2.31499994, 'costdrivingfuel_group'] = 'costdrivingfuelgroup10'\n",
    "dataframe.drop('cost_driving_fuel', axis = 1, inplace = True)\n",
    "\n",
    "#binning driving traddic percent\n",
    "\n",
    "dataframe.loc[dataframe['driving_traffic_percent']< 0.24422751, 'trafficperc_group'] = '0low_traffic'\n",
    "dataframe.loc[dataframe['driving_traffic_percent'].between(0.24422751,0.36449698), 'trafficperc_group'] = '1mediumlow_traffic'\n",
    "dataframe.loc[dataframe['driving_traffic_percent'].between(0.36449699,0.49620750), 'trafficperc_group'] = '2medium_traffic'\n",
    "dataframe.loc[dataframe['driving_traffic_percent'].between(0.49620751, 0.57161700), 'trafficperc_group'] = '3mediumhigh_traffic'\n",
    "dataframe.loc[dataframe['driving_traffic_percent']> 0.57161701, 'trafficperc_group'] = '4high_traffic'\n",
    "dataframe.drop('driving_traffic_percent', axis = 1, inplace = True)\n",
    "\n",
    "#binning cost_driving_ccharge\n",
    "\n",
    "dataframe.loc[dataframe['cost_driving_ccharge']< 5.25, 'drivingcharge_group'] = 'low_charge'\n",
    "dataframe.loc[dataframe['cost_driving_ccharge']> 5.25, 'drivingcharge_group'] = 'high_charge'\n",
    "dataframe.drop('cost_driving_ccharge', axis = 1, inplace = True)"
   ]
  },
  {
   "cell_type": "code",
   "execution_count": 4,
   "metadata": {},
   "outputs": [
    {
     "name": "stdout",
     "output_type": "stream",
     "text": [
      "travel_mode {1, 2, 3, 4}\n",
      "purpose {1, 2, 3, 4, 5}\n",
      "fueltype {1, 2, 3, 4, 5, 6}\n",
      "faretype {1, 2, 3, 4, 5}\n",
      "bus_scale {0.0, 1.0, 0.5}\n",
      "survey_year {1, 2, 3}\n",
      "travel_year {2012, 2013, 2014, 2015}\n",
      "travel_month {1, 2, 3, 4, 5, 6, 7, 8, 9, 10, 11, 12}\n",
      "day_of_week {1, 2, 3, 4, 5, 6, 7}\n",
      "female {0, 1}\n",
      "driving_license {0, 1}\n",
      "car_ownership {0, 1, 2}\n",
      "pt_interchanges {0, 1, 2, 3, 4}\n",
      "age_group {'66+', '0-18', '31-65', '19-30'}\n",
      "distance_group {'distance09', 'distance03', 'distance07', 'distance06', 'distance08', 'distance01', 'distance05', 'distance10', 'distance11', 'distance02', 'distance04'}\n",
      "starttime_group {'afternoon', 'early_morning', 'morning', 'evening'}\n",
      "cost_group {'low_cost', 'medium_cost', 'high_cost'}\n",
      "costdrivingfuel_group {'costdrivingfuelgroup9', 'costdrivingfuelgroup4', 'costdrivingfuelgroup3', 'costdrivingfuelgroup7', 'costdrivingfuelgroup6', 'costdrivingfuelgroup1', 'costdrivingfuelgroup8', 'costdrivingfuelgroup5', 'costdrivingfuelgroup2', 'costdrivingfuelgroup10'}\n",
      "trafficperc_group {'2medium_traffic', '3mediumhigh_traffic', '0low_traffic', '1mediumlow_traffic', '4high_traffic'}\n",
      "drivingcharge_group {'high_charge', 'low_charge'}\n"
     ]
    }
   ],
   "source": [
    "for i in dataframe.columns:\n",
    "      if i not in ['trip_id', 'household_id', 'person_n', 'trip_n', 'travel_date', 'dur_pt_int',\n",
    "          'dur_pt_rail', 'dur_pt_access', 'dur_pt_bus', 'dur_walking', 'dur_cycling', 'dur_driving']:\n",
    "            print(i, set(dataframe[i]))"
   ]
  },
  {
   "cell_type": "code",
   "execution_count": 5,
   "metadata": {},
   "outputs": [
    {
     "name": "stdout",
     "output_type": "stream",
     "text": [
      "{2012, 2013, 2014, 2015}\n",
      "Number of columns dropped: 12\n",
      "Index(['purpose', 'fueltype', 'faretype', 'bus_scale', 'travel_month',\n",
      "       'day_of_week', 'female', 'driving_license', 'car_ownership',\n",
      "       'pt_interchanges', 'age_group', 'distance_group', 'starttime_group',\n",
      "       'cost_group', 'costdrivingfuel_group', 'trafficperc_group',\n",
      "       'drivingcharge_group'],\n",
      "      dtype='object')\n"
     ]
    }
   ],
   "source": [
    "y = dataframe[['travel_mode', 'travel_year']]\n",
    "X = dataframe.drop(['travel_mode', 'survey_year'], axis = 1)\n",
    "\n",
    "print(set(X[\"travel_year\"]))\n",
    "\n",
    "a = X.loc[X[\"travel_year\"]==2015]\n",
    "#creating test set \n",
    "\n",
    "X_test= X.query('travel_year == 2015') #creates a subset, like this: X.loc[X[\"travel_year\"]==2015]\n",
    "y_test = y.query('travel_year == 2015')\n",
    "\n",
    "X_test = X_test.drop(['travel_year'], axis =1).copy()\n",
    "y_test = y_test.drop(['travel_year'], axis =1).copy()\n",
    "\n",
    "#create training set \n",
    "\n",
    "X_train_1 = X.query('travel_year == 2012')\n",
    "y_train_1 = y.query('travel_year == 2012')\n",
    "X_train_2 = X.query('travel_year == 2013')\n",
    "y_train_2 = y.query('travel_year == 2013')\n",
    "X_train_3 = X.query('travel_year == 2014')\n",
    "y_train_3 = y.query('travel_year == 2014')\n",
    "\n",
    "X_train = pd.concat([X_train_1, X_train_2, X_train_3])\n",
    "y_train = pd.concat([y_train_1, y_train_2, y_train_3])\n",
    "\n",
    "X_train = X_train.drop(['travel_year'], axis = 1)\n",
    "y_train = y_train.drop(['travel_year'], axis = 1)\n",
    "\n",
    "\n",
    "data = pd.concat([X_train, y_train], axis = 1).copy()\n",
    "#data = data_to_shuffle.sample(frac=1, random_state = 42).reset_index(drop=True) #sampling returning all, and resetting index , no seed?\n",
    "y_train = data['travel_mode']\n",
    "X_train = data.drop(['travel_mode'], axis = 1)\n",
    "\n",
    "#feature selection\n",
    "\n",
    "to_drop = ['trip_id', 'household_id', 'person_n', 'trip_n', 'travel_date', 'dur_pt_int',\n",
    "          'dur_pt_rail', 'dur_pt_access', 'dur_pt_bus', 'dur_walking', 'dur_cycling', 'dur_driving']\n",
    "print(f'Number of columns dropped: {len(to_drop)}')\n",
    "X_train.drop(to_drop, axis = 1, inplace = True)\n",
    "\n",
    "X_test.drop(to_drop, axis = 1, inplace = True)\n",
    "\n",
    "predictors = X_test.columns\n",
    "y = y_test #is the whole vector\n",
    "print(predictors)\n",
    "\n",
    "datatest = pd.concat([y_test, X_test], axis = 1).reset_index()\n",
    "datatest.drop('index', axis = 1, inplace = True)\n",
    "datatest.to_csv(\"data_test.csv\", index = False)\n",
    "\n",
    "datatraining = pd.concat([y_train, X_train], axis = 1).reset_index()\n",
    "datatraining.drop('index', axis = 1, inplace = True)\n",
    "datatraining.to_csv(\"data_training.csv\", index = False)\n"
   ]
  },
  {
   "cell_type": "code",
   "execution_count": 6,
   "metadata": {},
   "outputs": [
    {
     "data": {
      "text/plain": [
       "0    4\n",
       "1    4\n",
       "2    4\n",
       "3    4\n",
       "4    4\n",
       "5    4\n",
       "6    4\n",
       "7    4\n",
       "8    4\n",
       "9    4\n",
       "Name: travel_mode, dtype: int64"
      ]
     },
     "metadata": {},
     "output_type": "display_data"
    },
    {
     "name": "stdout",
     "output_type": "stream",
     "text": [
      "(76103, 17)\n"
     ]
    },
    {
     "data": {
      "text/html": [
       "<div>\n",
       "<style scoped>\n",
       "    .dataframe tbody tr th:only-of-type {\n",
       "        vertical-align: middle;\n",
       "    }\n",
       "\n",
       "    .dataframe tbody tr th {\n",
       "        vertical-align: top;\n",
       "    }\n",
       "\n",
       "    .dataframe thead th {\n",
       "        text-align: right;\n",
       "    }\n",
       "</style>\n",
       "<table border=\"1\" class=\"dataframe\">\n",
       "  <thead>\n",
       "    <tr style=\"text-align: right;\">\n",
       "      <th></th>\n",
       "      <th>purpose</th>\n",
       "      <th>fueltype</th>\n",
       "      <th>faretype</th>\n",
       "      <th>bus_scale</th>\n",
       "      <th>travel_month</th>\n",
       "      <th>day_of_week</th>\n",
       "      <th>female</th>\n",
       "      <th>driving_license</th>\n",
       "      <th>car_ownership</th>\n",
       "      <th>pt_interchanges</th>\n",
       "      <th>age_group</th>\n",
       "      <th>distance_group</th>\n",
       "      <th>starttime_group</th>\n",
       "      <th>cost_group</th>\n",
       "      <th>costdrivingfuel_group</th>\n",
       "      <th>trafficperc_group</th>\n",
       "      <th>drivingcharge_group</th>\n",
       "    </tr>\n",
       "  </thead>\n",
       "  <tbody>\n",
       "    <tr>\n",
       "      <th>0</th>\n",
       "      <td>3</td>\n",
       "      <td>1</td>\n",
       "      <td>1</td>\n",
       "      <td>1.0</td>\n",
       "      <td>4</td>\n",
       "      <td>7</td>\n",
       "      <td>1</td>\n",
       "      <td>1</td>\n",
       "      <td>2</td>\n",
       "      <td>0</td>\n",
       "      <td>31-65</td>\n",
       "      <td>distance02</td>\n",
       "      <td>morning</td>\n",
       "      <td>low_cost</td>\n",
       "      <td>costdrivingfuelgroup1</td>\n",
       "      <td>0low_traffic</td>\n",
       "      <td>low_charge</td>\n",
       "    </tr>\n",
       "    <tr>\n",
       "      <th>1</th>\n",
       "      <td>3</td>\n",
       "      <td>1</td>\n",
       "      <td>1</td>\n",
       "      <td>1.0</td>\n",
       "      <td>4</td>\n",
       "      <td>7</td>\n",
       "      <td>1</td>\n",
       "      <td>1</td>\n",
       "      <td>2</td>\n",
       "      <td>0</td>\n",
       "      <td>31-65</td>\n",
       "      <td>distance02</td>\n",
       "      <td>afternoon</td>\n",
       "      <td>low_cost</td>\n",
       "      <td>costdrivingfuelgroup1</td>\n",
       "      <td>0low_traffic</td>\n",
       "      <td>low_charge</td>\n",
       "    </tr>\n",
       "    <tr>\n",
       "      <th>2</th>\n",
       "      <td>3</td>\n",
       "      <td>1</td>\n",
       "      <td>1</td>\n",
       "      <td>1.0</td>\n",
       "      <td>4</td>\n",
       "      <td>7</td>\n",
       "      <td>1</td>\n",
       "      <td>1</td>\n",
       "      <td>2</td>\n",
       "      <td>0</td>\n",
       "      <td>31-65</td>\n",
       "      <td>distance08</td>\n",
       "      <td>afternoon</td>\n",
       "      <td>low_cost</td>\n",
       "      <td>costdrivingfuelgroup7</td>\n",
       "      <td>0low_traffic</td>\n",
       "      <td>low_charge</td>\n",
       "    </tr>\n",
       "    <tr>\n",
       "      <th>3</th>\n",
       "      <td>3</td>\n",
       "      <td>1</td>\n",
       "      <td>1</td>\n",
       "      <td>1.0</td>\n",
       "      <td>4</td>\n",
       "      <td>7</td>\n",
       "      <td>1</td>\n",
       "      <td>1</td>\n",
       "      <td>2</td>\n",
       "      <td>0</td>\n",
       "      <td>31-65</td>\n",
       "      <td>distance08</td>\n",
       "      <td>afternoon</td>\n",
       "      <td>low_cost</td>\n",
       "      <td>costdrivingfuelgroup7</td>\n",
       "      <td>0low_traffic</td>\n",
       "      <td>low_charge</td>\n",
       "    </tr>\n",
       "    <tr>\n",
       "      <th>4</th>\n",
       "      <td>3</td>\n",
       "      <td>1</td>\n",
       "      <td>4</td>\n",
       "      <td>1.0</td>\n",
       "      <td>4</td>\n",
       "      <td>7</td>\n",
       "      <td>0</td>\n",
       "      <td>1</td>\n",
       "      <td>2</td>\n",
       "      <td>0</td>\n",
       "      <td>31-65</td>\n",
       "      <td>distance08</td>\n",
       "      <td>evening</td>\n",
       "      <td>low_cost</td>\n",
       "      <td>costdrivingfuelgroup7</td>\n",
       "      <td>0low_traffic</td>\n",
       "      <td>low_charge</td>\n",
       "    </tr>\n",
       "    <tr>\n",
       "      <th>5</th>\n",
       "      <td>3</td>\n",
       "      <td>1</td>\n",
       "      <td>4</td>\n",
       "      <td>1.0</td>\n",
       "      <td>4</td>\n",
       "      <td>7</td>\n",
       "      <td>0</td>\n",
       "      <td>1</td>\n",
       "      <td>2</td>\n",
       "      <td>0</td>\n",
       "      <td>31-65</td>\n",
       "      <td>distance08</td>\n",
       "      <td>evening</td>\n",
       "      <td>low_cost</td>\n",
       "      <td>costdrivingfuelgroup7</td>\n",
       "      <td>0low_traffic</td>\n",
       "      <td>low_charge</td>\n",
       "    </tr>\n",
       "    <tr>\n",
       "      <th>6</th>\n",
       "      <td>3</td>\n",
       "      <td>1</td>\n",
       "      <td>3</td>\n",
       "      <td>0.0</td>\n",
       "      <td>4</td>\n",
       "      <td>7</td>\n",
       "      <td>1</td>\n",
       "      <td>0</td>\n",
       "      <td>2</td>\n",
       "      <td>0</td>\n",
       "      <td>0-18</td>\n",
       "      <td>distance02</td>\n",
       "      <td>morning</td>\n",
       "      <td>low_cost</td>\n",
       "      <td>costdrivingfuelgroup1</td>\n",
       "      <td>0low_traffic</td>\n",
       "      <td>low_charge</td>\n",
       "    </tr>\n",
       "    <tr>\n",
       "      <th>7</th>\n",
       "      <td>3</td>\n",
       "      <td>1</td>\n",
       "      <td>3</td>\n",
       "      <td>0.0</td>\n",
       "      <td>4</td>\n",
       "      <td>7</td>\n",
       "      <td>1</td>\n",
       "      <td>0</td>\n",
       "      <td>2</td>\n",
       "      <td>0</td>\n",
       "      <td>0-18</td>\n",
       "      <td>distance02</td>\n",
       "      <td>afternoon</td>\n",
       "      <td>low_cost</td>\n",
       "      <td>costdrivingfuelgroup1</td>\n",
       "      <td>0low_traffic</td>\n",
       "      <td>low_charge</td>\n",
       "    </tr>\n",
       "    <tr>\n",
       "      <th>8</th>\n",
       "      <td>3</td>\n",
       "      <td>1</td>\n",
       "      <td>3</td>\n",
       "      <td>0.0</td>\n",
       "      <td>4</td>\n",
       "      <td>7</td>\n",
       "      <td>1</td>\n",
       "      <td>0</td>\n",
       "      <td>2</td>\n",
       "      <td>0</td>\n",
       "      <td>0-18</td>\n",
       "      <td>distance08</td>\n",
       "      <td>afternoon</td>\n",
       "      <td>low_cost</td>\n",
       "      <td>costdrivingfuelgroup7</td>\n",
       "      <td>0low_traffic</td>\n",
       "      <td>low_charge</td>\n",
       "    </tr>\n",
       "    <tr>\n",
       "      <th>9</th>\n",
       "      <td>3</td>\n",
       "      <td>1</td>\n",
       "      <td>3</td>\n",
       "      <td>0.0</td>\n",
       "      <td>4</td>\n",
       "      <td>7</td>\n",
       "      <td>1</td>\n",
       "      <td>0</td>\n",
       "      <td>2</td>\n",
       "      <td>0</td>\n",
       "      <td>0-18</td>\n",
       "      <td>distance08</td>\n",
       "      <td>evening</td>\n",
       "      <td>low_cost</td>\n",
       "      <td>costdrivingfuelgroup7</td>\n",
       "      <td>0low_traffic</td>\n",
       "      <td>low_charge</td>\n",
       "    </tr>\n",
       "  </tbody>\n",
       "</table>\n",
       "</div>"
      ],
      "text/plain": [
       "   purpose  fueltype  faretype  bus_scale  travel_month  day_of_week  female  \\\n",
       "0        3         1         1        1.0             4            7       1   \n",
       "1        3         1         1        1.0             4            7       1   \n",
       "2        3         1         1        1.0             4            7       1   \n",
       "3        3         1         1        1.0             4            7       1   \n",
       "4        3         1         4        1.0             4            7       0   \n",
       "5        3         1         4        1.0             4            7       0   \n",
       "6        3         1         3        0.0             4            7       1   \n",
       "7        3         1         3        0.0             4            7       1   \n",
       "8        3         1         3        0.0             4            7       1   \n",
       "9        3         1         3        0.0             4            7       1   \n",
       "\n",
       "   driving_license  car_ownership  pt_interchanges age_group distance_group  \\\n",
       "0                1              2                0     31-65     distance02   \n",
       "1                1              2                0     31-65     distance02   \n",
       "2                1              2                0     31-65     distance08   \n",
       "3                1              2                0     31-65     distance08   \n",
       "4                1              2                0     31-65     distance08   \n",
       "5                1              2                0     31-65     distance08   \n",
       "6                0              2                0      0-18     distance02   \n",
       "7                0              2                0      0-18     distance02   \n",
       "8                0              2                0      0-18     distance08   \n",
       "9                0              2                0      0-18     distance08   \n",
       "\n",
       "  starttime_group cost_group  costdrivingfuel_group trafficperc_group  \\\n",
       "0         morning   low_cost  costdrivingfuelgroup1      0low_traffic   \n",
       "1       afternoon   low_cost  costdrivingfuelgroup1      0low_traffic   \n",
       "2       afternoon   low_cost  costdrivingfuelgroup7      0low_traffic   \n",
       "3       afternoon   low_cost  costdrivingfuelgroup7      0low_traffic   \n",
       "4         evening   low_cost  costdrivingfuelgroup7      0low_traffic   \n",
       "5         evening   low_cost  costdrivingfuelgroup7      0low_traffic   \n",
       "6         morning   low_cost  costdrivingfuelgroup1      0low_traffic   \n",
       "7       afternoon   low_cost  costdrivingfuelgroup1      0low_traffic   \n",
       "8       afternoon   low_cost  costdrivingfuelgroup7      0low_traffic   \n",
       "9         evening   low_cost  costdrivingfuelgroup7      0low_traffic   \n",
       "\n",
       "  drivingcharge_group  \n",
       "0          low_charge  \n",
       "1          low_charge  \n",
       "2          low_charge  \n",
       "3          low_charge  \n",
       "4          low_charge  \n",
       "5          low_charge  \n",
       "6          low_charge  \n",
       "7          low_charge  \n",
       "8          low_charge  \n",
       "9          low_charge  "
      ]
     },
     "execution_count": 6,
     "metadata": {},
     "output_type": "execute_result"
    }
   ],
   "source": [
    "display(y_train.head(10))\n",
    "print(X_train.shape)\n",
    "X_train.head(10)"
   ]
  },
  {
   "cell_type": "code",
   "execution_count": 7,
   "metadata": {},
   "outputs": [],
   "source": [
    "X_train.reset_index(inplace = True, drop = True)\n",
    "y_train.reset_index(inplace = True, drop = True)\n",
    "\n",
    "X_train=X_train.applymap(str)\n",
    "#y_train=y_train.astype(str)\n",
    "\n",
    "n_features = X_train\n",
    "n_features_names = list(X_train.columns)\n",
    "indici = np.arange(0, len(y_train))\n",
    "y = y_train\n"
   ]
  },
  {
   "cell_type": "code",
   "execution_count": 8,
   "metadata": {},
   "outputs": [],
   "source": [
    "#need to bin num vars and have features, features_names empty\n",
    "\n",
    "features = []\n",
    "features_names = []\n"
   ]
  },
  {
   "attachments": {},
   "cell_type": "markdown",
   "metadata": {},
   "source": [
    "negative node prop gain? maybe ok\n"
   ]
  },
  {
   "cell_type": "code",
   "execution_count": 9,
   "metadata": {},
   "outputs": [
    {
     "data": {
      "text/html": [
       "<div>\n",
       "<style scoped>\n",
       "    .dataframe tbody tr th:only-of-type {\n",
       "        vertical-align: middle;\n",
       "    }\n",
       "\n",
       "    .dataframe tbody tr th {\n",
       "        vertical-align: top;\n",
       "    }\n",
       "\n",
       "    .dataframe thead th {\n",
       "        text-align: right;\n",
       "    }\n",
       "</style>\n",
       "<table border=\"1\" class=\"dataframe\">\n",
       "  <thead>\n",
       "    <tr style=\"text-align: right;\">\n",
       "      <th></th>\n",
       "      <th>purpose</th>\n",
       "      <th>fueltype</th>\n",
       "      <th>faretype</th>\n",
       "      <th>bus_scale</th>\n",
       "      <th>travel_month</th>\n",
       "      <th>day_of_week</th>\n",
       "      <th>female</th>\n",
       "      <th>driving_license</th>\n",
       "      <th>car_ownership</th>\n",
       "      <th>pt_interchanges</th>\n",
       "      <th>age_group</th>\n",
       "      <th>distance_group</th>\n",
       "      <th>starttime_group</th>\n",
       "      <th>cost_group</th>\n",
       "      <th>costdrivingfuel_group</th>\n",
       "      <th>trafficperc_group</th>\n",
       "      <th>drivingcharge_group</th>\n",
       "    </tr>\n",
       "  </thead>\n",
       "  <tbody>\n",
       "    <tr>\n",
       "      <th>0</th>\n",
       "      <td>purpose3</td>\n",
       "      <td>fueltype1</td>\n",
       "      <td>faretype1</td>\n",
       "      <td>bus_scale1.0</td>\n",
       "      <td>travel_month4</td>\n",
       "      <td>day_of_week7</td>\n",
       "      <td>female1</td>\n",
       "      <td>driving_license1</td>\n",
       "      <td>car_ownership2</td>\n",
       "      <td>pt_interchanges0</td>\n",
       "      <td>age_group31-65</td>\n",
       "      <td>distance02</td>\n",
       "      <td>morning</td>\n",
       "      <td>low_cost</td>\n",
       "      <td>costdrivingfuelgroup1</td>\n",
       "      <td>0low_traffic</td>\n",
       "      <td>low_charge</td>\n",
       "    </tr>\n",
       "    <tr>\n",
       "      <th>1</th>\n",
       "      <td>purpose3</td>\n",
       "      <td>fueltype1</td>\n",
       "      <td>faretype1</td>\n",
       "      <td>bus_scale1.0</td>\n",
       "      <td>travel_month4</td>\n",
       "      <td>day_of_week7</td>\n",
       "      <td>female1</td>\n",
       "      <td>driving_license1</td>\n",
       "      <td>car_ownership2</td>\n",
       "      <td>pt_interchanges0</td>\n",
       "      <td>age_group31-65</td>\n",
       "      <td>distance02</td>\n",
       "      <td>afternoon</td>\n",
       "      <td>low_cost</td>\n",
       "      <td>costdrivingfuelgroup1</td>\n",
       "      <td>0low_traffic</td>\n",
       "      <td>low_charge</td>\n",
       "    </tr>\n",
       "    <tr>\n",
       "      <th>2</th>\n",
       "      <td>purpose3</td>\n",
       "      <td>fueltype1</td>\n",
       "      <td>faretype1</td>\n",
       "      <td>bus_scale1.0</td>\n",
       "      <td>travel_month4</td>\n",
       "      <td>day_of_week7</td>\n",
       "      <td>female1</td>\n",
       "      <td>driving_license1</td>\n",
       "      <td>car_ownership2</td>\n",
       "      <td>pt_interchanges0</td>\n",
       "      <td>age_group31-65</td>\n",
       "      <td>distance08</td>\n",
       "      <td>afternoon</td>\n",
       "      <td>low_cost</td>\n",
       "      <td>costdrivingfuelgroup7</td>\n",
       "      <td>0low_traffic</td>\n",
       "      <td>low_charge</td>\n",
       "    </tr>\n",
       "    <tr>\n",
       "      <th>3</th>\n",
       "      <td>purpose3</td>\n",
       "      <td>fueltype1</td>\n",
       "      <td>faretype1</td>\n",
       "      <td>bus_scale1.0</td>\n",
       "      <td>travel_month4</td>\n",
       "      <td>day_of_week7</td>\n",
       "      <td>female1</td>\n",
       "      <td>driving_license1</td>\n",
       "      <td>car_ownership2</td>\n",
       "      <td>pt_interchanges0</td>\n",
       "      <td>age_group31-65</td>\n",
       "      <td>distance08</td>\n",
       "      <td>afternoon</td>\n",
       "      <td>low_cost</td>\n",
       "      <td>costdrivingfuelgroup7</td>\n",
       "      <td>0low_traffic</td>\n",
       "      <td>low_charge</td>\n",
       "    </tr>\n",
       "    <tr>\n",
       "      <th>4</th>\n",
       "      <td>purpose3</td>\n",
       "      <td>fueltype1</td>\n",
       "      <td>faretype4</td>\n",
       "      <td>bus_scale1.0</td>\n",
       "      <td>travel_month4</td>\n",
       "      <td>day_of_week7</td>\n",
       "      <td>female0</td>\n",
       "      <td>driving_license1</td>\n",
       "      <td>car_ownership2</td>\n",
       "      <td>pt_interchanges0</td>\n",
       "      <td>age_group31-65</td>\n",
       "      <td>distance08</td>\n",
       "      <td>evening</td>\n",
       "      <td>low_cost</td>\n",
       "      <td>costdrivingfuelgroup7</td>\n",
       "      <td>0low_traffic</td>\n",
       "      <td>low_charge</td>\n",
       "    </tr>\n",
       "  </tbody>\n",
       "</table>\n",
       "</div>"
      ],
      "text/plain": [
       "    purpose   fueltype   faretype     bus_scale   travel_month   day_of_week  \\\n",
       "0  purpose3  fueltype1  faretype1  bus_scale1.0  travel_month4  day_of_week7   \n",
       "1  purpose3  fueltype1  faretype1  bus_scale1.0  travel_month4  day_of_week7   \n",
       "2  purpose3  fueltype1  faretype1  bus_scale1.0  travel_month4  day_of_week7   \n",
       "3  purpose3  fueltype1  faretype1  bus_scale1.0  travel_month4  day_of_week7   \n",
       "4  purpose3  fueltype1  faretype4  bus_scale1.0  travel_month4  day_of_week7   \n",
       "\n",
       "    female   driving_license   car_ownership   pt_interchanges  \\\n",
       "0  female1  driving_license1  car_ownership2  pt_interchanges0   \n",
       "1  female1  driving_license1  car_ownership2  pt_interchanges0   \n",
       "2  female1  driving_license1  car_ownership2  pt_interchanges0   \n",
       "3  female1  driving_license1  car_ownership2  pt_interchanges0   \n",
       "4  female0  driving_license1  car_ownership2  pt_interchanges0   \n",
       "\n",
       "        age_group distance_group starttime_group cost_group  \\\n",
       "0  age_group31-65     distance02         morning   low_cost   \n",
       "1  age_group31-65     distance02       afternoon   low_cost   \n",
       "2  age_group31-65     distance08       afternoon   low_cost   \n",
       "3  age_group31-65     distance08       afternoon   low_cost   \n",
       "4  age_group31-65     distance08         evening   low_cost   \n",
       "\n",
       "   costdrivingfuel_group trafficperc_group drivingcharge_group  \n",
       "0  costdrivingfuelgroup1      0low_traffic          low_charge  \n",
       "1  costdrivingfuelgroup1      0low_traffic          low_charge  \n",
       "2  costdrivingfuelgroup7      0low_traffic          low_charge  \n",
       "3  costdrivingfuelgroup7      0low_traffic          low_charge  \n",
       "4  costdrivingfuelgroup7      0low_traffic          low_charge  "
      ]
     },
     "execution_count": 9,
     "metadata": {},
     "output_type": "execute_result"
    }
   ],
   "source": [
    "n_features['purpose'] = 'purpose' + n_features['purpose'].astype(str)\n",
    "n_features['fueltype'] = 'fueltype' + n_features['fueltype'].astype(str)\n",
    "n_features['faretype'] = 'faretype' + n_features['faretype'].astype(str)\n",
    "n_features['bus_scale'] = 'bus_scale' + n_features['bus_scale'].astype(str)\n",
    "n_features['travel_month'] = 'travel_month' + n_features['travel_month'].astype(str)\n",
    "n_features['day_of_week'] = 'day_of_week' + n_features['day_of_week'].astype(str)\n",
    "n_features['female'] = 'female' + n_features['female'].astype(str)\n",
    "n_features['driving_license'] = 'driving_license' + n_features['driving_license'].astype(str)\n",
    "n_features['car_ownership'] = 'car_ownership' + n_features['car_ownership'].astype(str)\n",
    "n_features['pt_interchanges'] = 'pt_interchanges' + n_features['pt_interchanges'].astype(str)\n",
    "n_features['age_group'] = 'age_group' + n_features['age_group'].astype(str)\n",
    "\n",
    "\n",
    "n_features.head()"
   ]
  },
  {
   "cell_type": "code",
   "execution_count": 10,
   "metadata": {},
   "outputs": [
    {
     "data": {
      "text/plain": [
       "travel_mode\n",
       "4    33595\n",
       "3    26867\n",
       "1    13367\n",
       "2     2274\n",
       "Name: count, dtype: int64"
      ]
     },
     "execution_count": 10,
     "metadata": {},
     "output_type": "execute_result"
    }
   ],
   "source": [
    "y.value_counts()"
   ]
  },
  {
   "cell_type": "code",
   "execution_count": 12,
   "metadata": {},
   "outputs": [
    {
     "name": "stdout",
     "output_type": "stream",
     "text": [
      "Split Found:  n1 [['car_ownership', ('car_ownership0',), [17746.82661997004, array([6.86946852e-05])], 0]] start\n",
      "node_proportion_total  0.08692787714564254\n",
      "Split Found:  n2 [['trafficperc_group', ('0low_traffic', '1mediumlow_traffic', '2medium_traffic'), [15161.326270121412, array([0.00516819])], 1]] left\n",
      "node_proportion_total  0.4724971836832328\n",
      "Node_proportion_gain  0.38556930653759025\n",
      "Split Found:  n4 [['drivingcharge_group', ('high_charge',), [2940.461542516754, array([4.12338039e-31])], 2]] left\n",
      "node_proportion_total  0.5181924769732803\n",
      "Node_proportion_gain  0.04569529329004751\n",
      "Split Found:  n8 [['distance_group', ('distance04', 'distance05', 'distance06', 'distance07', 'distance08', 'distance09', 'distance10', 'distance11'), [1380.2125546568288, array([0.04196496])], 3]] left\n",
      "node_proportion_total  0.5451034269434386\n",
      "Node_proportion_gain  0.026910949970158304\n",
      "Node Search Split Error for:  n16 with obs in node:  624  which is less than minimum parent size:  1000\n",
      "TypeError: Node search split (CART) failure\n",
      "Split Found:  n17 [['driving_license', ('driving_license0',), [1303.6330109907105, array([6.07152646e-31])], 4]] right\n",
      "node_proportion_total  0.5625095470423463\n",
      "Node_proportion_gain  0.01740612009890774\n",
      "Split Found:  n34 [['purpose', ('purpose2', 'purpose3', 'purpose4', 'purpose5'), [1008.6333604969893, array([0.00382059])], 5]] left\n",
      "node_proportion_total  0.5749501312792384\n",
      "Node_proportion_gain  0.012440584236892094\n"
     ]
    },
    {
     "name": "stderr",
     "output_type": "stream",
     "text": [
      "R[write to console]: Error in solve.default(Tb) : 'a' (1 x 2) must be square\n",
      "\n"
     ]
    },
    {
     "name": "stdout",
     "output_type": "stream",
     "text": [
      "Error in LBA function\n"
     ]
    },
    {
     "name": "stderr",
     "output_type": "stream",
     "text": [
      "R[write to console]: Error in solve.default(Tb) : 'a' (1 x 2) must be square\n",
      "\n"
     ]
    },
    {
     "name": "stdout",
     "output_type": "stream",
     "text": [
      "Error in LBA function\n"
     ]
    },
    {
     "name": "stderr",
     "output_type": "stream",
     "text": [
      "R[write to console]: Error in solve.default(Tb) : 'a' (1 x 2) must be square\n",
      "\n"
     ]
    },
    {
     "name": "stdout",
     "output_type": "stream",
     "text": [
      "Error in LBA function\n"
     ]
    },
    {
     "name": "stderr",
     "output_type": "stream",
     "text": [
      "R[write to console]: Error in solve.default(Tb) : 'a' (1 x 2) must be square\n",
      "\n"
     ]
    },
    {
     "name": "stdout",
     "output_type": "stream",
     "text": [
      "Error in LBA function\n"
     ]
    },
    {
     "name": "stderr",
     "output_type": "stream",
     "text": [
      "R[write to console]: Error in solve.default(Tb) : 'a' (1 x 2) must be square\n",
      "\n"
     ]
    },
    {
     "name": "stdout",
     "output_type": "stream",
     "text": [
      "Error in LBA function\n"
     ]
    },
    {
     "name": "stderr",
     "output_type": "stream",
     "text": [
      "R[write to console]: Error in solve.default(Tb) : 'a' (1 x 2) must be square\n",
      "\n"
     ]
    },
    {
     "name": "stdout",
     "output_type": "stream",
     "text": [
      "Error in LBA function\n",
      "Split Found:  n68 [['trafficperc_group', ('3mediumhigh_traffic',), [358.7712949848228, array([7.12990586e-312])], 6]] left\n",
      "node_proportion_total  0.5842051985746066\n",
      "Node_proportion_gain  0.00925506729536818\n",
      "Node Search Split Error for:  n136 with obs in node:  873  which is less than minimum parent size:  1000\n",
      "TypeError: Node search split (CART) failure\n",
      "Node Search Split Error for:  n137 with obs in node:  608  which is less than minimum parent size:  1000\n",
      "TypeError: Node search split (CART) failure\n",
      "Split Found:  n69 [['cost_group', ('high_cost', 'medium_cost'), [689.5494664552393, array([7.14665585e-312])], 6]] right\n",
      "node_proportion_total  0.5913977961208517\n",
      "Node_proportion_gain  0.0071925975462451275\n"
     ]
    },
    {
     "name": "stderr",
     "output_type": "stream",
     "text": [
      "R[write to console]: Error in solve.default(Tb) : 'a' (1 x 2) must be square\n",
      "\n"
     ]
    },
    {
     "name": "stdout",
     "output_type": "stream",
     "text": [
      "Error in LBA function\n"
     ]
    },
    {
     "name": "stderr",
     "output_type": "stream",
     "text": [
      "R[write to console]: Error in solve.default(Tb) : 'a' (1 x 2) must be square\n",
      "\n"
     ]
    },
    {
     "name": "stdout",
     "output_type": "stream",
     "text": [
      "Error in LBA function\n"
     ]
    },
    {
     "name": "stderr",
     "output_type": "stream",
     "text": [
      "R[write to console]: Error in solve.default(Tb) : 'a' (1 x 2) must be square\n",
      "\n"
     ]
    },
    {
     "name": "stdout",
     "output_type": "stream",
     "text": [
      "Error in LBA function\n"
     ]
    },
    {
     "name": "stderr",
     "output_type": "stream",
     "text": [
      "R[write to console]: Error in solve.default(Tb) : 'a' (1 x 2) must be square\n",
      "\n"
     ]
    },
    {
     "name": "stdout",
     "output_type": "stream",
     "text": [
      "Error in LBA function\n"
     ]
    },
    {
     "name": "stderr",
     "output_type": "stream",
     "text": [
      "R[write to console]: Error in solve.default(Tb) : 'a' (1 x 2) must be square\n",
      "\n"
     ]
    },
    {
     "name": "stdout",
     "output_type": "stream",
     "text": [
      "Error in LBA function\n"
     ]
    },
    {
     "name": "stderr",
     "output_type": "stream",
     "text": [
      "R[write to console]: Error in solve.default(Tb) : 'a' (1 x 2) must be square\n",
      "\n"
     ]
    },
    {
     "name": "stdout",
     "output_type": "stream",
     "text": [
      "Error in LBA function\n",
      "Split Found:  n138 [['faretype', ('faretype1',), [309.62329041249234, array([2.12199579e-314])], 7]] left\n",
      "node_proportion_total  0.5971590298758733\n",
      "Node_proportion_gain  0.0057612337550215775\n",
      "Node Search Split Error for:  n276 with obs in node:  602  which is less than minimum parent size:  1000\n",
      "TypeError: Node search split (CART) failure\n",
      "Node Search Split Error for:  n277 with obs in node:  677  which is less than minimum parent size:  1000\n",
      "TypeError: Node search split (CART) failure\n",
      "Split Found:  n139 [['trafficperc_group', ('3mediumhigh_traffic',), [416.8933277733564, array([6.32488971e-31])], 7]] right\n",
      "node_proportion_total  0.6018608120606321\n",
      "Node_proportion_gain  0.004701782184758807\n"
     ]
    },
    {
     "name": "stderr",
     "output_type": "stream",
     "text": [
      "R[write to console]: Error in solve.default(Tb) : 'a' (1 x 2) must be square\n",
      "\n"
     ]
    },
    {
     "name": "stdout",
     "output_type": "stream",
     "text": [
      "Error in LBA function\n"
     ]
    },
    {
     "name": "stderr",
     "output_type": "stream",
     "text": [
      "R[write to console]: Error in solve.default(Tb) : 'a' (1 x 2) must be square\n",
      "\n"
     ]
    },
    {
     "name": "stdout",
     "output_type": "stream",
     "text": [
      "Error in LBA function\n"
     ]
    },
    {
     "name": "stderr",
     "output_type": "stream",
     "text": [
      "R[write to console]: Error in solve.default(Tb) : 'a' (1 x 2) must be square\n",
      "\n"
     ]
    },
    {
     "name": "stdout",
     "output_type": "stream",
     "text": [
      "Error in LBA function\n"
     ]
    },
    {
     "name": "stderr",
     "output_type": "stream",
     "text": [
      "R[write to console]: Error in solve.default(Tb) : 'a' (1 x 2) must be square\n",
      "\n"
     ]
    },
    {
     "name": "stdout",
     "output_type": "stream",
     "text": [
      "Error in LBA function\n"
     ]
    },
    {
     "name": "stderr",
     "output_type": "stream",
     "text": [
      "R[write to console]: Error in solve.default(Tb) : 'a' (1 x 2) must be square\n",
      "\n"
     ]
    },
    {
     "name": "stdout",
     "output_type": "stream",
     "text": [
      "Error in LBA function\n"
     ]
    },
    {
     "name": "stderr",
     "output_type": "stream",
     "text": [
      "R[write to console]: Error in solve.default(Tb) : 'a' (1 x 2) must be square\n",
      "\n"
     ]
    },
    {
     "name": "stdout",
     "output_type": "stream",
     "text": [
      "Error in LBA function\n",
      "Node Search Split Error for:  n278 couldn't find an appropiate looking at k variables =  16\n",
      "TypeError: Node search split (CART) failure\n",
      "Node Search Split Error for:  n279 with obs in node:  816  which is less than minimum parent size:  1000\n",
      "TypeError: Node search split (CART) failure\n",
      "Split Found:  n35 [['faretype', ('faretype1', 'faretype2', 'faretype4'), [457.8930120082887, array([0.01231934])], 5]] right\n",
      "node_proportion_total  0.6058295405094225\n",
      "Node_proportion_gain  0.003968728448790371\n",
      "Node Search Split Error for:  n70 with obs in node:  573  which is less than minimum parent size:  1000\n",
      "TypeError: Node search split (CART) failure\n",
      "Node Search Split Error for:  n71 with obs in node:  792  which is less than minimum parent size:  1000\n",
      "TypeError: Node search split (CART) failure\n",
      "Split Found:  n9 [['purpose', ('purpose1', 'purpose2', 'purpose3', 'purpose4'), [1925.808086686332, array([7.14645108e-312])], 3]] right\n",
      "node_proportion_total  0.6092189828584385\n",
      "Node_proportion_gain  0.0033894423490159475\n",
      "Node Search Split Error for:  n18 with obs in node:  735  which is less than minimum parent size:  1000\n",
      "TypeError: Node search split (CART) failure\n",
      "Split Found:  n19 [['driving_license', ('driving_license0',), [1793.435952943416, array([5.16805398e-31])], 4]] right\n",
      "node_proportion_total  0.6120525614688203\n",
      "Node_proportion_gain  0.002833578610381804\n",
      "Split Found:  n38 [['purpose', ('purpose1',), [1379.6416584400586, array([0.01685258])], 5]] left\n",
      "node_proportion_total  0.6145102541574802\n",
      "Node_proportion_gain  0.002457692688659918\n"
     ]
    },
    {
     "name": "stderr",
     "output_type": "stream",
     "text": [
      "R[write to console]: Error in solve.default(Tb) : 'a' (1 x 2) must be square\n",
      "\n"
     ]
    },
    {
     "name": "stdout",
     "output_type": "stream",
     "text": [
      "Error in LBA function\n"
     ]
    },
    {
     "name": "stderr",
     "output_type": "stream",
     "text": [
      "R[write to console]: Error in solve.default(Tb) : 'a' (1 x 2) must be square\n",
      "\n"
     ]
    },
    {
     "name": "stdout",
     "output_type": "stream",
     "text": [
      "Error in LBA function\n"
     ]
    },
    {
     "name": "stderr",
     "output_type": "stream",
     "text": [
      "R[write to console]: Error in solve.default(Tb) : 'a' (1 x 2) must be square\n",
      "\n"
     ]
    },
    {
     "name": "stdout",
     "output_type": "stream",
     "text": [
      "Error in LBA function\n"
     ]
    },
    {
     "name": "stderr",
     "output_type": "stream",
     "text": [
      "R[write to console]: Error in solve.default(Tb) : 'a' (1 x 2) must be square\n",
      "\n"
     ]
    },
    {
     "name": "stdout",
     "output_type": "stream",
     "text": [
      "Error in LBA function\n",
      "Node Search Split Error for:  n76 couldn't find an appropiate looking at k variables =  16\n",
      "TypeError: Node search split (CART) failure\n"
     ]
    },
    {
     "name": "stderr",
     "output_type": "stream",
     "text": [
      "R[write to console]: Error in solve.default(Tb) : 'a' (1 x 2) must be square\n",
      "\n"
     ]
    },
    {
     "name": "stdout",
     "output_type": "stream",
     "text": [
      "Error in LBA function\n"
     ]
    },
    {
     "name": "stderr",
     "output_type": "stream",
     "text": [
      "R[write to console]: Error in solve.default(Tb) : 'a' (1 x 2) must be square\n",
      "\n"
     ]
    },
    {
     "name": "stdout",
     "output_type": "stream",
     "text": [
      "Error in LBA function\n"
     ]
    },
    {
     "name": "stderr",
     "output_type": "stream",
     "text": [
      "R[write to console]: Error in solve.default(Tb) : 'a' (1 x 2) must be square\n",
      "\n"
     ]
    },
    {
     "name": "stdout",
     "output_type": "stream",
     "text": [
      "Error in LBA function\n"
     ]
    },
    {
     "name": "stderr",
     "output_type": "stream",
     "text": [
      "R[write to console]: Error in solve.default(Tb) : 'a' (1 x 2) must be square\n",
      "\n"
     ]
    },
    {
     "name": "stdout",
     "output_type": "stream",
     "text": [
      "Error in LBA function\n"
     ]
    },
    {
     "name": "stderr",
     "output_type": "stream",
     "text": [
      "R[write to console]: Error in solve.default(Tb) : 'a' (1 x 2) must be square\n",
      "\n"
     ]
    },
    {
     "name": "stdout",
     "output_type": "stream",
     "text": [
      "Error in LBA function\n"
     ]
    },
    {
     "name": "stderr",
     "output_type": "stream",
     "text": [
      "R[write to console]: Error in solve.default(Tb) : 'a' (1 x 2) must be square\n",
      "\n"
     ]
    },
    {
     "name": "stdout",
     "output_type": "stream",
     "text": [
      "Error in LBA function\n",
      "Node Search Split Error for:  n77 couldn't find an appropiate looking at k variables =  16\n",
      "TypeError: Node search split (CART) failure\n",
      "Node Search Split Error for:  n39 with obs in node:  542  which is less than minimum parent size:  1000\n",
      "TypeError: Node search split (CART) failure\n",
      "Split Found:  n5 [['distance_group', ('distance03', 'distance04', 'distance05', 'distance06', 'distance07', 'distance08', 'distance09', 'distance10', 'distance11'), [15153.00443434435, array([0.04037727])], 2]] right\n",
      "node_proportion_total  0.618365958330316\n",
      "Node_proportion_gain  0.003855704172835872\n",
      "Split Found:  n10 [['distance_group', ('distance01',), [1653.8845996120044, array([1.07373797e-31])], 3]] left\n",
      "node_proportion_total  0.620261253059978\n",
      "Node_proportion_gain  0.0018952947296619893\n"
     ]
    },
    {
     "name": "stderr",
     "output_type": "stream",
     "text": [
      "R[write to console]: Error in solve.default(Tb) : 'a' (1 x 2) must be square\n",
      "\n"
     ]
    },
    {
     "name": "stdout",
     "output_type": "stream",
     "text": [
      "Error in LBA function\n"
     ]
    },
    {
     "name": "stderr",
     "output_type": "stream",
     "text": [
      "R[write to console]: Error in solve.default(Tb) : 'a' (1 x 2) must be square\n",
      "\n"
     ]
    },
    {
     "name": "stdout",
     "output_type": "stream",
     "text": [
      "Error in LBA function\n",
      "Split Found:  n20 [['day_of_week', ('day_of_week6', 'day_of_week7'), [490.2242335946345, array([4.24399158e-314])], 4]] left\n",
      "node_proportion_total  0.6218494104597048\n",
      "Node_proportion_gain  0.0015881573997267306\n"
     ]
    },
    {
     "name": "stderr",
     "output_type": "stream",
     "text": [
      "R[write to console]: Error in solve.default(Tb) : 'a' (1 x 2) must be square\n",
      "\n"
     ]
    },
    {
     "name": "stdout",
     "output_type": "stream",
     "text": [
      "Error in LBA function\n"
     ]
    },
    {
     "name": "stderr",
     "output_type": "stream",
     "text": [
      "R[write to console]: Error in solve.default(Tb) : 'a' (1 x 2) must be square\n",
      "\n"
     ]
    },
    {
     "name": "stdout",
     "output_type": "stream",
     "text": [
      "Error in LBA function\n",
      "Split Found:  n40 [['driving_license', ('driving_license1',), [429.36729718362915, array([7.14645108e-312])], 5]] left\n",
      "node_proportion_total  0.6233028827363837\n",
      "Node_proportion_gain  0.0014534722766789132\n",
      "Node Search Split Error for:  n80 with obs in node:  691  which is less than minimum parent size:  1000\n",
      "TypeError: Node search split (CART) failure\n"
     ]
    },
    {
     "name": "stderr",
     "output_type": "stream",
     "text": [
      "R[write to console]: Error in solve.default(Tb) : 'a' (1 x 2) must be square\n",
      "\n"
     ]
    },
    {
     "name": "stdout",
     "output_type": "stream",
     "text": [
      "Error in LBA function\n"
     ]
    },
    {
     "name": "stderr",
     "output_type": "stream",
     "text": [
      "R[write to console]: Error in solve.default(Tb) : 'a' (1 x 2) must be square\n",
      "\n"
     ]
    },
    {
     "name": "stdout",
     "output_type": "stream",
     "text": [
      "Error in LBA function\n"
     ]
    },
    {
     "name": "stderr",
     "output_type": "stream",
     "text": [
      "R[write to console]: Error in solve.default(Tb) : 'a' (1 x 2) must be square\n",
      "\n"
     ]
    },
    {
     "name": "stdout",
     "output_type": "stream",
     "text": [
      "Error in LBA function\n"
     ]
    },
    {
     "name": "stderr",
     "output_type": "stream",
     "text": [
      "R[write to console]: Error in solve.default(Tb) : 'a' (1 x 2) must be square\n",
      "\n"
     ]
    },
    {
     "name": "stdout",
     "output_type": "stream",
     "text": [
      "Error in LBA function\n",
      "Split Found:  n81 [['day_of_week', ('day_of_week3', 'day_of_week4'), [265.91787474728267, array([0.19316804])], 6]] right\n",
      "node_proportion_total  0.6245769798358729\n",
      "Node_proportion_gain  0.0012740970994892242\n",
      "Node Search Split Error for:  n162 with obs in node:  730  which is less than minimum parent size:  1000\n",
      "TypeError: Node search split (CART) failure\n",
      "Node Search Split Error for:  n163 with obs in node:  506  which is less than minimum parent size:  1000\n",
      "TypeError: Node search split (CART) failure\n",
      "Node Search Split Error for:  n41 with obs in node:  616  which is less than minimum parent size:  1000\n",
      "TypeError: Node search split (CART) failure\n"
     ]
    },
    {
     "name": "stderr",
     "output_type": "stream",
     "text": [
      "R[write to console]: Error in solve.default(Tb) : 'a' (1 x 2) must be square\n",
      "\n"
     ]
    },
    {
     "name": "stdout",
     "output_type": "stream",
     "text": [
      "Error in LBA function\n"
     ]
    },
    {
     "name": "stderr",
     "output_type": "stream",
     "text": [
      "R[write to console]: Error in solve.default(Tb) : 'a' (1 x 2) must be square\n",
      "\n"
     ]
    },
    {
     "name": "stdout",
     "output_type": "stream",
     "text": [
      "Error in LBA function\n"
     ]
    },
    {
     "name": "stderr",
     "output_type": "stream",
     "text": [
      "R[write to console]: Error in solve.default(Tb) : 'a' (1 x 2) must be square\n",
      "\n"
     ]
    },
    {
     "name": "stdout",
     "output_type": "stream",
     "text": [
      "Error in LBA function\n"
     ]
    },
    {
     "name": "stderr",
     "output_type": "stream",
     "text": [
      "R[write to console]: Error in solve.default(Tb) : 'a' (1 x 2) must be square\n",
      "\n"
     ]
    },
    {
     "name": "stdout",
     "output_type": "stream",
     "text": [
      "Error in LBA function\n",
      "Split Found:  n21 [['driving_license', ('driving_license1',), [1208.8170469807949, array([7.12990586e-312])], 4]] right\n",
      "node_proportion_total  0.6257443133435554\n",
      "Node_proportion_gain  0.0011673335076824998\n"
     ]
    },
    {
     "name": "stderr",
     "output_type": "stream",
     "text": [
      "R[write to console]: Error in solve.default(Tb) : 'a' (1 x 2) must be square\n",
      "\n"
     ]
    },
    {
     "name": "stdout",
     "output_type": "stream",
     "text": [
      "Error in LBA function\n"
     ]
    },
    {
     "name": "stderr",
     "output_type": "stream",
     "text": [
      "R[write to console]: Error in solve.default(Tb) : 'a' (1 x 2) must be square\n",
      "\n"
     ]
    },
    {
     "name": "stdout",
     "output_type": "stream",
     "text": [
      "Error in LBA function\n"
     ]
    },
    {
     "name": "stderr",
     "output_type": "stream",
     "text": [
      "R[write to console]: Error in solve.default(Tb) : 'a' (1 x 2) must be square\n",
      "\n"
     ]
    },
    {
     "name": "stdout",
     "output_type": "stream",
     "text": [
      "Error in LBA function\n"
     ]
    },
    {
     "name": "stderr",
     "output_type": "stream",
     "text": [
      "R[write to console]: Error in solve.default(Tb) : 'a' (1 x 2) must be square\n",
      "\n"
     ]
    },
    {
     "name": "stdout",
     "output_type": "stream",
     "text": [
      "Error in LBA function\n"
     ]
    },
    {
     "name": "stderr",
     "output_type": "stream",
     "text": [
      "R[write to console]: Error in solve.default(Tb) : 'a' (1 x 2) must be square\n",
      "\n"
     ]
    },
    {
     "name": "stdout",
     "output_type": "stream",
     "text": [
      "Error in LBA function\n"
     ]
    },
    {
     "name": "stderr",
     "output_type": "stream",
     "text": [
      "R[write to console]: Error in solve.default(Tb) : 'a' (1 x 2) must be square\n",
      "\n"
     ]
    },
    {
     "name": "stdout",
     "output_type": "stream",
     "text": [
      "Error in LBA function\n",
      "Split Found:  n42 [['travel_month', ('travel_month1', 'travel_month10', 'travel_month12', 'travel_month3', 'travel_month4', 'travel_month7'), [539.8259397570608, array([0.02602712])], 5]] left\n",
      "node_proportion_total  0.6267951975370852\n",
      "Node_proportion_gain  0.001050884193529833\n",
      "Node Search Split Error for:  n84 with obs in node:  549  which is less than minimum parent size:  1000\n",
      "TypeError: Node search split (CART) failure\n",
      "Node Search Split Error for:  n85 with obs in node:  533  which is less than minimum parent size:  1000\n",
      "TypeError: Node search split (CART) failure\n"
     ]
    },
    {
     "name": "stderr",
     "output_type": "stream",
     "text": [
      "R[write to console]: Error in solve.default(Tb) : 'a' (1 x 2) must be square\n",
      "\n"
     ]
    },
    {
     "name": "stdout",
     "output_type": "stream",
     "text": [
      "Error in LBA function\n"
     ]
    },
    {
     "name": "stderr",
     "output_type": "stream",
     "text": [
      "R[write to console]: Error in solve.default(Tb) : 'a' (1 x 2) must be square\n",
      "\n"
     ]
    },
    {
     "name": "stdout",
     "output_type": "stream",
     "text": [
      "Error in LBA function\n"
     ]
    },
    {
     "name": "stderr",
     "output_type": "stream",
     "text": [
      "R[write to console]: Error in solve.default(Tb) : 'a' (1 x 2) must be square\n",
      "\n"
     ]
    },
    {
     "name": "stdout",
     "output_type": "stream",
     "text": [
      "Error in LBA function\n"
     ]
    },
    {
     "name": "stderr",
     "output_type": "stream",
     "text": [
      "R[write to console]: Error in solve.default(Tb) : 'a' (1 x 2) must be square\n",
      "\n"
     ]
    },
    {
     "name": "stdout",
     "output_type": "stream",
     "text": [
      "Error in LBA function\n"
     ]
    },
    {
     "name": "stderr",
     "output_type": "stream",
     "text": [
      "R[write to console]: Error in solve.default(Tb) : 'a' (1 x 2) must be square\n",
      "\n"
     ]
    },
    {
     "name": "stdout",
     "output_type": "stream",
     "text": [
      "Error in LBA function\n"
     ]
    },
    {
     "name": "stderr",
     "output_type": "stream",
     "text": [
      "R[write to console]: Error in solve.default(Tb) : 'a' (1 x 2) must be square\n",
      "\n"
     ]
    },
    {
     "name": "stdout",
     "output_type": "stream",
     "text": [
      "Error in LBA function\n",
      "Split Found:  n43 [['day_of_week', ('day_of_week1', 'day_of_week3', 'day_of_week4', 'day_of_week6', 'day_of_week7'), [688.0199248645872, array([7.12990586e-312])], 5]] right\n",
      "node_proportion_total  0.6277519655685595\n",
      "Node_proportion_gain  0.0009567680314742644\n",
      "Node Search Split Error for:  n86 with obs in node:  733  which is less than minimum parent size:  1000\n",
      "TypeError: Node search split (CART) failure\n"
     ]
    },
    {
     "name": "stderr",
     "output_type": "stream",
     "text": [
      "R[write to console]: Error in solve.default(Tb) : 'a' (1 x 2) must be square\n",
      "\n"
     ]
    },
    {
     "name": "stdout",
     "output_type": "stream",
     "text": [
      "Error in LBA function\n"
     ]
    },
    {
     "name": "stderr",
     "output_type": "stream",
     "text": [
      "R[write to console]: Error in solve.default(Tb) : 'a' (1 x 2) must be square\n",
      "\n"
     ]
    },
    {
     "name": "stdout",
     "output_type": "stream",
     "text": [
      "Error in LBA function\n"
     ]
    },
    {
     "name": "stderr",
     "output_type": "stream",
     "text": [
      "R[write to console]: Error in solve.default(Tb) : 'a' (1 x 2) must be square\n",
      "\n"
     ]
    },
    {
     "name": "stdout",
     "output_type": "stream",
     "text": [
      "Error in LBA function\n"
     ]
    },
    {
     "name": "stderr",
     "output_type": "stream",
     "text": [
      "R[write to console]: Error in solve.default(Tb) : 'a' (1 x 2) must be square\n",
      "\n"
     ]
    },
    {
     "name": "stdout",
     "output_type": "stream",
     "text": [
      "Error in LBA function\n"
     ]
    },
    {
     "name": "stderr",
     "output_type": "stream",
     "text": [
      "R[write to console]: Error in solve.default(Tb) : 'a' (1 x 2) must be square\n",
      "\n"
     ]
    },
    {
     "name": "stdout",
     "output_type": "stream",
     "text": [
      "Error in LBA function\n"
     ]
    },
    {
     "name": "stderr",
     "output_type": "stream",
     "text": [
      "R[write to console]: Error in solve.default(Tb) : 'a' (1 x 2) must be square\n",
      "\n"
     ]
    },
    {
     "name": "stdout",
     "output_type": "stream",
     "text": [
      "Error in LBA function\n",
      "Node Search Split Error for:  n87 couldn't find an appropiate looking at k variables =  16\n",
      "TypeError: Node search split (CART) failure\n",
      "Split Found:  n11 [['faretype', ('faretype1', 'faretype5'), [14354.246526929168, array([0.00895286])], 3]] right\n",
      "node_proportion_total  0.6288758066868393\n",
      "Node_proportion_gain  0.0011238411182797892\n",
      "Split Found:  n22 [['purpose', ('purpose1', 'purpose3', 'purpose4', 'purpose5'), [1004.7851858227248, array([0.02963271])], 4]] left\n",
      "node_proportion_total  0.6297809026149432\n",
      "Node_proportion_gain  0.0009050959281039495\n",
      "Split Found:  n44 [['car_ownership', ('car_ownership1',), [337.4375165479778, array([7.14665623e-312])], 5]] left\n",
      "node_proportion_total  0.6305208875738888\n",
      "Node_proportion_gain  0.0007399849589455609\n",
      "Node Search Split Error for:  n88 with obs in node:  676  which is less than minimum parent size:  1000\n",
      "TypeError: Node search split (CART) failure\n",
      "Node Search Split Error for:  n89 with obs in node:  963  which is less than minimum parent size:  1000\n",
      "TypeError: Node search split (CART) failure\n",
      "Split Found:  n45 [['distance_group', ('distance05', 'distance06', 'distance07', 'distance08', 'distance09', 'distance10', 'distance11'), [739.856269447084, array([0.04863578])], 5]] right\n",
      "node_proportion_total  0.6312319812413313\n",
      "Node_proportion_gain  0.0007110936674424861\n",
      "Node Search Split Error for:  n90 with obs in node:  669  which is less than minimum parent size:  1000\n",
      "TypeError: Node search split (CART) failure\n",
      "Split Found:  n91 [['day_of_week', ('day_of_week1', 'day_of_week7'), [657.3157352155437, array([7.14645903e-312])], 6]] right\n",
      "node_proportion_total  0.6318651345058129\n",
      "Node_proportion_gain  0.0006331532644816562\n",
      "Split Found:  n182 [['travel_month', ('travel_month1', 'travel_month2', 'travel_month4', 'travel_month5', 'travel_month8'), [392.15068206242177, array([4.])], 7]] left\n",
      "node_proportion_total  0.6324514718963707\n",
      "Node_proportion_gain  0.0005863373905578007\n",
      "Node Search Split Error for:  n364 with obs in node:  846  which is less than minimum parent size:  1000\n",
      "TypeError: Node search split (CART) failure\n",
      "Node Search Split Error for:  n365 with obs in node:  701  which is less than minimum parent size:  1000\n",
      "TypeError: Node search split (CART) failure\n",
      "Node Search Split Error for:  n183 with obs in node:  720  which is less than minimum parent size:  1000\n",
      "TypeError: Node search split (CART) failure\n",
      "Split Found:  n23 [['distance_group', ('distance05', 'distance06', 'distance07', 'distance08', 'distance09', 'distance10', 'distance11'), [13926.795397102567, array([10.])], 4]] right\n",
      "node_proportion_total  0.6331725322376971\n",
      "Node_proportion_gain  0.0007210603413263517\n",
      "Split Found:  n46 [['trafficperc_group', ('0low_traffic',), [2035.1100396673264, array([0.00018669])], 5]] left\n",
      "node_proportion_total  0.6336888111068512\n",
      "Node_proportion_gain  0.0005162788691540632\n",
      "Split Found:  n92 [['distance_group', ('distance03',), [448.18437190290024, array([7.14645908e-312])], 6]] left\n",
      "node_proportion_total  0.6341665655814647\n",
      "Node_proportion_gain  0.00047775447461351206\n",
      "Node Search Split Error for:  n184 with obs in node:  960  which is less than minimum parent size:  1000\n",
      "TypeError: Node search split (CART) failure\n"
     ]
    },
    {
     "name": "stderr",
     "output_type": "stream",
     "text": [
      "R[write to console]: Error in solve.default(Tb) : 'a' (1 x 2) must be square\n",
      "\n"
     ]
    },
    {
     "name": "stdout",
     "output_type": "stream",
     "text": [
      "Error in LBA function\n"
     ]
    },
    {
     "name": "stderr",
     "output_type": "stream",
     "text": [
      "R[write to console]: Error in solve.default(Tb) : 'a' (1 x 2) must be square\n",
      "\n"
     ]
    },
    {
     "name": "stdout",
     "output_type": "stream",
     "text": [
      "Error in LBA function\n",
      "Split Found:  n185 [['costdrivingfuel_group', ('costdrivingfuelgroup10', 'costdrivingfuelgroup3', 'costdrivingfuelgroup4', 'costdrivingfuelgroup6', 'costdrivingfuelgroup7'), [232.92626765012918, array([7.14645108e-312])], 7]] right\n",
      "node_proportion_total  0.6346094820076386\n",
      "Node_proportion_gain  0.0004429164261738894\n",
      "Node Search Split Error for:  n370 with obs in node:  541  which is less than minimum parent size:  1000\n",
      "TypeError: Node search split (CART) failure\n",
      "Node Search Split Error for:  n371 with obs in node:  686  which is less than minimum parent size:  1000\n",
      "TypeError: Node search split (CART) failure\n",
      "Split Found:  n93 [['starttime_group', ('evening',), [1621.3211575809132, array([0.00342847])], 6]] right\n",
      "node_proportion_total  0.6350296747114735\n",
      "Node_proportion_gain  0.0004201927038349762\n",
      "Split Found:  n186 [['costdrivingfuel_group', ('costdrivingfuelgroup5', 'costdrivingfuelgroup6', 'costdrivingfuelgroup7'), [1295.0649417764762, array([0.00672978])], 7]] left\n",
      "node_proportion_total  0.6354241418916581\n",
      "Node_proportion_gain  0.0003944671801845434\n",
      "Split Found:  n372 [['day_of_week', ('day_of_week3', 'day_of_week6', 'day_of_week7'), [969.0686810477105, array([0.00462244])], 8]] left\n",
      "node_proportion_total  0.6357962073225631\n",
      "Node_proportion_gain  0.0003720654309050664\n"
     ]
    },
    {
     "name": "stderr",
     "output_type": "stream",
     "text": [
      "R[write to console]: Error in solve.default(Tb) : 'a' (1 x 2) must be square\n",
      "\n"
     ]
    },
    {
     "name": "stdout",
     "output_type": "stream",
     "text": [
      "Error in LBA function\n"
     ]
    },
    {
     "name": "stderr",
     "output_type": "stream",
     "text": [
      "R[write to console]: Error in solve.default(Tb) : 'a' (1 x 2) must be square\n",
      "\n"
     ]
    },
    {
     "name": "stdout",
     "output_type": "stream",
     "text": [
      "Error in LBA function\n"
     ]
    },
    {
     "name": "stderr",
     "output_type": "stream",
     "text": [
      "R[write to console]: Error in solve.default(Tb) : 'a' (1 x 2) must be square\n",
      "\n"
     ]
    },
    {
     "name": "stdout",
     "output_type": "stream",
     "text": [
      "Error in LBA function\n"
     ]
    },
    {
     "name": "stderr",
     "output_type": "stream",
     "text": [
      "R[write to console]: Error in solve.default(Tb) : 'a' (1 x 2) must be square\n",
      "\n"
     ]
    },
    {
     "name": "stdout",
     "output_type": "stream",
     "text": [
      "Error in LBA function\n",
      "Split Found:  n744 [['faretype', ('faretype1',), [494.96387507998986, array([7.14645108e-312])], 9]] left\n",
      "node_proportion_total  0.6361481962965029\n",
      "Node_proportion_gain  0.00035198897393973194\n",
      "Node Search Split Error for:  n1488 with obs in node:  744  which is less than minimum parent size:  1000\n",
      "TypeError: Node search split (CART) failure\n"
     ]
    },
    {
     "name": "stderr",
     "output_type": "stream",
     "text": [
      "R[write to console]: Error in solve.default(Tb) : 'a' (1 x 2) must be square\n",
      "\n"
     ]
    },
    {
     "name": "stdout",
     "output_type": "stream",
     "text": [
      "Error in LBA function\n"
     ]
    },
    {
     "name": "stderr",
     "output_type": "stream",
     "text": [
      "R[write to console]: Error in solve.default(Tb) : 'a' (1 x 2) must be square\n",
      "\n"
     ]
    },
    {
     "name": "stdout",
     "output_type": "stream",
     "text": [
      "Error in LBA function\n"
     ]
    },
    {
     "name": "stderr",
     "output_type": "stream",
     "text": [
      "R[write to console]: Error in solve.default(Tb) : 'a' (1 x 2) must be square\n",
      "\n"
     ]
    },
    {
     "name": "stdout",
     "output_type": "stream",
     "text": [
      "Error in LBA function\n"
     ]
    },
    {
     "name": "stderr",
     "output_type": "stream",
     "text": [
      "R[write to console]: Error in solve.default(Tb) : 'a' (1 x 2) must be square\n",
      "\n"
     ]
    },
    {
     "name": "stdout",
     "output_type": "stream",
     "text": [
      "Error in LBA function\n"
     ]
    },
    {
     "name": "stderr",
     "output_type": "stream",
     "text": [
      "R[write to console]: Error in solve.default(Tb) : 'a' (1 x 2) must be square\n",
      "\n"
     ]
    },
    {
     "name": "stdout",
     "output_type": "stream",
     "text": [
      "Error in LBA function\n"
     ]
    },
    {
     "name": "stderr",
     "output_type": "stream",
     "text": [
      "R[write to console]: Error in solve.default(Tb) : 'a' (1 x 2) must be square\n",
      "\n"
     ]
    },
    {
     "name": "stdout",
     "output_type": "stream",
     "text": [
      "Error in LBA function\n",
      "Node Search Split Error for:  n1489 couldn't find an appropiate looking at k variables =  16\n",
      "TypeError: Node search split (CART) failure\n"
     ]
    },
    {
     "name": "stderr",
     "output_type": "stream",
     "text": [
      "R[write to console]: Error in solve.default(Tb) : 'a' (1 x 2) must be square\n",
      "\n"
     ]
    },
    {
     "name": "stdout",
     "output_type": "stream",
     "text": [
      "Error in LBA function\n"
     ]
    },
    {
     "name": "stderr",
     "output_type": "stream",
     "text": [
      "R[write to console]: Error in solve.default(Tb) : 'a' (1 x 2) must be square\n",
      "\n"
     ]
    },
    {
     "name": "stdout",
     "output_type": "stream",
     "text": [
      "Error in LBA function\n"
     ]
    },
    {
     "name": "stderr",
     "output_type": "stream",
     "text": [
      "R[write to console]: Error in solve.default(Tb) : 'a' (1 x 2) must be square\n",
      "\n"
     ]
    },
    {
     "name": "stdout",
     "output_type": "stream",
     "text": [
      "Error in LBA function\n"
     ]
    },
    {
     "name": "stderr",
     "output_type": "stream",
     "text": [
      "R[write to console]: Error in solve.default(Tb) : 'a' (1 x 2) must be square\n",
      "\n"
     ]
    },
    {
     "name": "stdout",
     "output_type": "stream",
     "text": [
      "Error in LBA function\n",
      "Split Found:  n745 [['faretype', ('faretype1',), [477.880226752414, array([1.86972906e-31])], 9]] right\n",
      "node_proportion_total  0.6364803051901946\n",
      "Node_proportion_gain  0.00033210889369172936\n",
      "Node Search Split Error for:  n1490 with obs in node:  503  which is less than minimum parent size:  1000\n",
      "TypeError: Node search split (CART) failure\n",
      "Node Search Split Error for:  n1491 with obs in node:  903  which is less than minimum parent size:  1000\n",
      "TypeError: Node search split (CART) failure\n",
      "Node Search Split Error for:  n373 with obs in node:  969  which is less than minimum parent size:  1000\n",
      "TypeError: Node search split (CART) failure\n",
      "Node Search Split Error for:  n187 with obs in node:  706  which is less than minimum parent size:  1000\n",
      "TypeError: Node search split (CART) failure\n",
      "Split Found:  n47 [['distance_group', ('distance07', 'distance08', 'distance09', 'distance10', 'distance11'), [11962.408640334503, array([7.14645908e-312])], 5]] right\n",
      "node_proportion_total  0.6368170463706602\n",
      "Node_proportion_gain  0.0003367411804655607\n",
      "Split Found:  n94 [['day_of_week', ('day_of_week6', 'day_of_week7'), [4029.9513112352943, array([0.0016528])], 6]] left\n",
      "node_proportion_total  0.6371203105249448\n",
      "Node_proportion_gain  0.0003032641542846104\n",
      "Split Found:  n188 [['bus_scale', ('bus_scale0.0', 'bus_scale0.5'), [2691.424296283575, array([7.14645108e-312])], 7]] left\n",
      "node_proportion_total  0.6374074658457789\n",
      "Node_proportion_gain  0.00028715532083412043\n",
      "Split Found:  n376 [['trafficperc_group', ('0low_traffic',), [1790.965812880911, array([0.00224093])], 8]] left\n",
      "node_proportion_total  0.6376839752312956\n",
      "Node_proportion_gain  0.00027650938551671\n"
     ]
    },
    {
     "name": "stderr",
     "output_type": "stream",
     "text": [
      "R[write to console]: Error in solve.default(Tb) : 'a' (1 x 2) must be square\n",
      "\n"
     ]
    },
    {
     "name": "stdout",
     "output_type": "stream",
     "text": [
      "Error in LBA function\n"
     ]
    },
    {
     "name": "stderr",
     "output_type": "stream",
     "text": [
      "R[write to console]: Error in solve.default(Tb) : 'a' (1 x 2) must be square\n",
      "\n"
     ]
    },
    {
     "name": "stdout",
     "output_type": "stream",
     "text": [
      "Error in LBA function\n"
     ]
    },
    {
     "name": "stderr",
     "output_type": "stream",
     "text": [
      "R[write to console]: Error in solve.default(Tb) : 'a' (1 x 2) must be square\n",
      "\n"
     ]
    },
    {
     "name": "stdout",
     "output_type": "stream",
     "text": [
      "Error in LBA function\n"
     ]
    },
    {
     "name": "stderr",
     "output_type": "stream",
     "text": [
      "R[write to console]: Error in solve.default(Tb) : 'a' (1 x 2) must be square\n",
      "\n"
     ]
    },
    {
     "name": "stdout",
     "output_type": "stream",
     "text": [
      "Error in LBA function\n",
      "Split Found:  n752 [['travel_month', ('travel_month10', 'travel_month2', 'travel_month3', 'travel_month4', 'travel_month6', 'travel_month8', 'travel_month9'), [558.1043053989912, array([7.14645908e-312])], 9]] left\n",
      "node_proportion_total  0.6379433554564865\n",
      "Node_proportion_gain  0.0002593802251908972\n",
      "Node Search Split Error for:  n1504 with obs in node:  696  which is less than minimum parent size:  1000\n",
      "TypeError: Node search split (CART) failure\n",
      "Node Search Split Error for:  n1505 with obs in node:  906  which is less than minimum parent size:  1000\n",
      "TypeError: Node search split (CART) failure\n"
     ]
    },
    {
     "name": "stderr",
     "output_type": "stream",
     "text": [
      "R[write to console]: Error in solve.default(Tb) : 'a' (1 x 2) must be square\n",
      "\n"
     ]
    },
    {
     "name": "stdout",
     "output_type": "stream",
     "text": [
      "Error in LBA function\n"
     ]
    },
    {
     "name": "stderr",
     "output_type": "stream",
     "text": [
      "R[write to console]: Error in solve.default(Tb) : 'a' (1 x 2) must be square\n",
      "\n"
     ]
    },
    {
     "name": "stdout",
     "output_type": "stream",
     "text": [
      "Error in LBA function\n"
     ]
    },
    {
     "name": "stderr",
     "output_type": "stream",
     "text": [
      "R[write to console]: Error in solve.default(Tb) : 'a' (1 x 2) must be square\n",
      "\n"
     ]
    },
    {
     "name": "stdout",
     "output_type": "stream",
     "text": [
      "Error in LBA function\n"
     ]
    },
    {
     "name": "stderr",
     "output_type": "stream",
     "text": [
      "R[write to console]: Error in solve.default(Tb) : 'a' (1 x 2) must be square\n",
      "\n"
     ]
    },
    {
     "name": "stdout",
     "output_type": "stream",
     "text": [
      "Error in LBA function\n"
     ]
    },
    {
     "name": "stderr",
     "output_type": "stream",
     "text": [
      "R[write to console]: Error in solve.default(Tb) : 'a' (1 x 2) must be square\n",
      "\n"
     ]
    },
    {
     "name": "stdout",
     "output_type": "stream",
     "text": [
      "Error in LBA function\n"
     ]
    },
    {
     "name": "stderr",
     "output_type": "stream",
     "text": [
      "R[write to console]: Error in solve.default(Tb) : 'a' (1 x 2) must be square\n",
      "\n"
     ]
    },
    {
     "name": "stdout",
     "output_type": "stream",
     "text": [
      "Error in LBA function\n"
     ]
    },
    {
     "name": "stderr",
     "output_type": "stream",
     "text": [
      "R[write to console]: Error in solve.default(Tb) : 'a' (1 x 2) must be square\n",
      "\n"
     ]
    },
    {
     "name": "stdout",
     "output_type": "stream",
     "text": [
      "Error in LBA function\n"
     ]
    },
    {
     "name": "stderr",
     "output_type": "stream",
     "text": [
      "R[write to console]: Error in solve.default(Tb) : 'a' (1 x 2) must be square\n",
      "\n"
     ]
    },
    {
     "name": "stdout",
     "output_type": "stream",
     "text": [
      "Error in LBA function\n",
      "Node Search Split Error for:  n753 couldn't find an appropiate looking at k variables =  16\n",
      "TypeError: Node search split (CART) failure\n",
      "Split Found:  n377 [['age_group', ('age_group19-30', 'age_group31-65', 'age_group66+'), [948.3882444802359, array([7.14645823e-312])], 8]] right\n",
      "node_proportion_total  0.638192886986227\n",
      "Node_proportion_gain  0.00024953152974049875\n",
      "Node Search Split Error for:  n754 with obs in node:  703  which is less than minimum parent size:  1000\n",
      "TypeError: Node search split (CART) failure\n",
      "Split Found:  n755 [['trafficperc_group', ('1mediumlow_traffic', '2medium_traffic'), [582.4610718179107, array([4.24399158e-314])], 9]] right\n",
      "node_proportion_total  0.6384288832738093\n",
      "Node_proportion_gain  0.0002359962875823074\n"
     ]
    },
    {
     "name": "stderr",
     "output_type": "stream",
     "text": [
      "R[write to console]: Error in solve.default(Tb) : 'a' (1 x 2) must be square\n",
      "\n"
     ]
    },
    {
     "name": "stdout",
     "output_type": "stream",
     "text": [
      "Error in LBA function\n"
     ]
    },
    {
     "name": "stderr",
     "output_type": "stream",
     "text": [
      "R[write to console]: Error in solve.default(Tb) : 'a' (1 x 2) must be square\n",
      "\n"
     ]
    },
    {
     "name": "stdout",
     "output_type": "stream",
     "text": [
      "Error in LBA function\n"
     ]
    },
    {
     "name": "stderr",
     "output_type": "stream",
     "text": [
      "R[write to console]: Error in solve.default(Tb) : 'a' (1 x 2) must be square\n",
      "\n"
     ]
    },
    {
     "name": "stdout",
     "output_type": "stream",
     "text": [
      "Error in LBA function\n"
     ]
    },
    {
     "name": "stderr",
     "output_type": "stream",
     "text": [
      "R[write to console]: Error in solve.default(Tb) : 'a' (1 x 2) must be square\n",
      "\n"
     ]
    },
    {
     "name": "stdout",
     "output_type": "stream",
     "text": [
      "Error in LBA function\n",
      "Node Search Split Error for:  n1510 couldn't find an appropiate looking at k variables =  16\n",
      "TypeError: Node search split (CART) failure\n",
      "Node Search Split Error for:  n1511 with obs in node:  595  which is less than minimum parent size:  1000\n",
      "TypeError: Node search split (CART) failure\n",
      "Split Found:  n189 [['car_ownership', ('car_ownership1',), [1348.468920833198, array([7.14645908e-312])], 7]] right\n",
      "node_proportion_total  0.6386539697266047\n",
      "Node_proportion_gain  0.00022508645279539774\n",
      "Node Search Split Error for:  n378 with obs in node:  932  which is less than minimum parent size:  1000\n",
      "TypeError: Node search split (CART) failure\n"
     ]
    },
    {
     "name": "stderr",
     "output_type": "stream",
     "text": [
      "R[write to console]: Error in solve.default(Tb) : 'a' (3 x 2) must be square\n",
      "\n"
     ]
    },
    {
     "name": "stdout",
     "output_type": "stream",
     "text": [
      "Error in LBA function\n"
     ]
    },
    {
     "name": "stderr",
     "output_type": "stream",
     "text": [
      "R[write to console]: Error in solve.default(Tb) : 'a' (3 x 2) must be square\n",
      "\n"
     ]
    },
    {
     "name": "stdout",
     "output_type": "stream",
     "text": [
      "Error in LBA function\n",
      "Split Found:  n379 [['distance_group', ('distance05',), [785.0563763675091, array([2.96217155])], 8]] right\n",
      "node_proportion_total  0.6388693668753797\n",
      "Node_proportion_gain  0.00021539714877494287\n",
      "Node Search Split Error for:  n758 with obs in node:  629  which is less than minimum parent size:  1000\n",
      "TypeError: Node search split (CART) failure\n",
      "Node Search Split Error for:  n759 with obs in node:  876  which is less than minimum parent size:  1000\n",
      "TypeError: Node search split (CART) failure\n",
      "Split Found:  n95 [['costdrivingfuel_group', ('costdrivingfuelgroup5', 'costdrivingfuelgroup6', 'costdrivingfuelgroup7', 'costdrivingfuelgroup8', 'costdrivingfuelgroup9'), [8117.285040644696, array([0.02803865])], 6]] right\n",
      "node_proportion_total  0.6391076502118936\n",
      "Node_proportion_gain  0.00023828333651398914\n"
     ]
    },
    {
     "name": "stderr",
     "output_type": "stream",
     "text": [
      "R[write to console]: Error in solve.default(Tb) : 'a' (1 x 2) must be square\n",
      "\n"
     ]
    },
    {
     "name": "stdout",
     "output_type": "stream",
     "text": [
      "Error in LBA function\n"
     ]
    },
    {
     "name": "stderr",
     "output_type": "stream",
     "text": [
      "R[write to console]: Error in solve.default(Tb) : 'a' (1 x 2) must be square\n",
      "\n"
     ]
    },
    {
     "name": "stdout",
     "output_type": "stream",
     "text": [
      "Error in LBA function\n",
      "Split Found:  n190 [['car_ownership', ('car_ownership1',), [439.8424765181571, array([7.14679014e-312])], 7]] left\n",
      "node_proportion_total  0.6393104988779074\n",
      "Node_proportion_gain  0.00020284866601372187\n",
      "Node Search Split Error for:  n380 with obs in node:  648  which is less than minimum parent size:  1000\n",
      "TypeError: Node search split (CART) failure\n",
      "Node Search Split Error for:  n381 with obs in node:  835  which is less than minimum parent size:  1000\n",
      "TypeError: Node search split (CART) failure\n",
      "Split Found:  n191 [['age_group', ('age_group0-18', 'age_group31-65'), [7798.466323512765, array([0.00317341])], 7]] right\n",
      "node_proportion_total  0.6395152759222024\n",
      "Node_proportion_gain  0.00020477704429500143\n",
      "Split Found:  n382 [['day_of_week', ('day_of_week7',), [1656.4224760007573, array([8.48798316e-314])], 8]] left\n",
      "node_proportion_total  0.6396997864320966\n",
      "Node_proportion_gain  0.00018451050989420903\n",
      "Split Found:  n764 [['driving_license', ('driving_license1',), [1534.5664257147482, array([3.39519327e-313])], 9]] left\n",
      "node_proportion_total  0.6399105931262478\n",
      "Node_proportion_gain  0.0002108066941511888\n",
      "Node Search Split Error for:  n1528 with obs in node:  750  which is less than minimum parent size:  1000\n",
      "TypeError: Node search split (CART) failure\n",
      "Split Found:  n1529 [['trafficperc_group', ('0low_traffic', '1mediumlow_traffic'), [1394.1701060271414, array([0.0014404])], 10]] right\n",
      "node_proportion_total  0.6400835270888295\n",
      "Node_proportion_gain  0.0001729339625817783\n",
      "Node Search Split Error for:  n765 with obs in node:  620  which is less than minimum parent size:  1000\n",
      "TypeError: Node search split (CART) failure\n",
      "Split Found:  n383 [['driving_license', ('driving_license0',), [6286.143319514424, array([2.0720762e-31])], 8]] right\n",
      "node_proportion_total  0.640265545082831\n",
      "Node_proportion_gain  0.0001820179940014155\n",
      "Split Found:  n766 [['trafficperc_group', ('0low_traffic', '1mediumlow_traffic'), [5644.776989078686, array([7.14645903e-312])], 9]] left\n",
      "node_proportion_total  0.6404349569720699\n",
      "Node_proportion_gain  0.00016941188923891293\n",
      "Split Found:  n1532 [['day_of_week', ('day_of_week6', 'day_of_week7'), [1142.1158238524022, array([2.12199579e-314])], 10]] left\n",
      "node_proportion_total  0.6405868312240329\n",
      "Node_proportion_gain  0.00015187425196305782\n",
      "Split Found:  n1533 [['trafficperc_group', ('0low_traffic',), [4554.424551926807, array([4.99989713])], 10]] right\n",
      "node_proportion_total  0.6407345487453304\n",
      "Node_proportion_gain  0.00014771752129749682\n",
      "Split Found:  n767 [['faretype', ('faretype5',), [993.178832343347, array([8.26528787e-09])], 9]] right\n",
      "node_proportion_total  0.6409118305483364\n",
      "Node_proportion_gain  0.00017728180300602414\n",
      "Node Search Split Error for:  n1534 with obs in node:  825  which is less than minimum parent size:  1000\n",
      "TypeError: Node search split (CART) failure\n"
     ]
    },
    {
     "name": "stderr",
     "output_type": "stream",
     "text": [
      "R[write to console]: Error in solve.default(Tb) : 'a' (1 x 2) must be square\n",
      "\n"
     ]
    },
    {
     "name": "stdout",
     "output_type": "stream",
     "text": [
      "Error in LBA function\n"
     ]
    },
    {
     "name": "stderr",
     "output_type": "stream",
     "text": [
      "R[write to console]: Error in solve.default(Tb) : 'a' (1 x 2) must be square\n",
      "\n"
     ]
    },
    {
     "name": "stdout",
     "output_type": "stream",
     "text": [
      "Error in LBA function\n"
     ]
    },
    {
     "name": "stderr",
     "output_type": "stream",
     "text": [
      "R[write to console]: Error in solve.default(Tb) : 'a' (1 x 2) must be square\n",
      "\n"
     ]
    },
    {
     "name": "stdout",
     "output_type": "stream",
     "text": [
      "Error in LBA function\n"
     ]
    },
    {
     "name": "stderr",
     "output_type": "stream",
     "text": [
      "R[write to console]: Error in solve.default(Tb) : 'a' (1 x 2) must be square\n",
      "\n"
     ]
    },
    {
     "name": "stdout",
     "output_type": "stream",
     "text": [
      "Error in LBA function\n"
     ]
    },
    {
     "name": "stderr",
     "output_type": "stream",
     "text": [
      "R[write to console]: Error in solve.default(Tb) : 'a' (1 x 2) must be square\n",
      "\n"
     ]
    },
    {
     "name": "stdout",
     "output_type": "stream",
     "text": [
      "Error in LBA function\n"
     ]
    },
    {
     "name": "stderr",
     "output_type": "stream",
     "text": [
      "R[write to console]: Error in solve.default(Tb) : 'a' (1 x 2) must be square\n",
      "\n"
     ]
    },
    {
     "name": "stdout",
     "output_type": "stream",
     "text": [
      "Error in LBA function\n"
     ]
    },
    {
     "name": "stderr",
     "output_type": "stream",
     "text": [
      "R[write to console]: Error in solve.default(Tb) : 'a' (1 x 2) must be square\n",
      "\n"
     ]
    },
    {
     "name": "stdout",
     "output_type": "stream",
     "text": [
      "Error in LBA function\n"
     ]
    },
    {
     "name": "stderr",
     "output_type": "stream",
     "text": [
      "R[write to console]: Error in solve.default(Tb) : 'a' (1 x 2) must be square\n",
      "\n"
     ]
    },
    {
     "name": "stdout",
     "output_type": "stream",
     "text": [
      "Error in LBA function\n",
      "Node Search Split Error for:  n1535 couldn't find an appropiate looking at k variables =  16\n",
      "TypeError: Node search split (CART) failure\n",
      "Split Found:  n3 [['distance_group', ('distance04', 'distance05', 'distance06', 'distance07', 'distance08', 'distance09', 'distance10', 'distance11'), [9710.816137833894, array([0.00906386])], 1]] right\n",
      "node_proportion_total  0.6417372578262722\n",
      "Node_proportion_gain  0.0008254272779357752\n",
      "Split Found:  n6 [['faretype', ('faretype3', 'faretype5'), [2485.753817238778, array([2.12199579e-314])], 2]] left\n",
      "node_proportion_total  0.6418834287161604\n",
      "Node_proportion_gain  0.0001461708898882197\n",
      "Split Found:  n12 [['female', ('female1',), [1944.0139189477352, array([4.75093318e-31])], 3]] left\n",
      "node_proportion_total  0.641997221481299\n",
      "Node_proportion_gain  0.00011379276513856507\n"
     ]
    },
    {
     "name": "stderr",
     "output_type": "stream",
     "text": [
      "R[write to console]: Error in solve.default(Tb) : 'a' (1 x 2) must be square\n",
      "\n"
     ]
    },
    {
     "name": "stdout",
     "output_type": "stream",
     "text": [
      "Error in LBA function\n"
     ]
    },
    {
     "name": "stderr",
     "output_type": "stream",
     "text": [
      "R[write to console]: Error in solve.default(Tb) : 'a' (1 x 2) must be square\n",
      "\n"
     ]
    },
    {
     "name": "stdout",
     "output_type": "stream",
     "text": [
      "Error in LBA function\n"
     ]
    },
    {
     "name": "stderr",
     "output_type": "stream",
     "text": [
      "R[write to console]: Error in solve.default(Tb) : 'a' (1 x 2) must be square\n",
      "\n"
     ]
    },
    {
     "name": "stdout",
     "output_type": "stream",
     "text": [
      "Error in LBA function\n"
     ]
    },
    {
     "name": "stderr",
     "output_type": "stream",
     "text": [
      "R[write to console]: Error in solve.default(Tb) : 'a' (1 x 2) must be square\n",
      "\n"
     ]
    },
    {
     "name": "stdout",
     "output_type": "stream",
     "text": [
      "Error in LBA function\n"
     ]
    },
    {
     "name": "stderr",
     "output_type": "stream",
     "text": [
      "R[write to console]: Error in solve.default(Tb) : 'a' (1 x 2) must be square\n",
      "\n"
     ]
    },
    {
     "name": "stdout",
     "output_type": "stream",
     "text": [
      "Error in LBA function\n"
     ]
    },
    {
     "name": "stderr",
     "output_type": "stream",
     "text": [
      "R[write to console]: Error in solve.default(Tb) : 'a' (1 x 2) must be square\n",
      "\n"
     ]
    },
    {
     "name": "stdout",
     "output_type": "stream",
     "text": [
      "Error in LBA function\n",
      "Split Found:  n24 [['driving_license', ('driving_license0',), [827.4664060487044, array([4.70357458e-32])], 4]] left\n",
      "node_proportion_total  0.642106545804813\n",
      "Node_proportion_gain  0.0001093243235139596\n",
      "Node Search Split Error for:  n48 with obs in node:  717  which is less than minimum parent size:  1000\n",
      "TypeError: Node search split (CART) failure\n",
      "Node Search Split Error for:  n49 with obs in node:  759  which is less than minimum parent size:  1000\n",
      "TypeError: Node search split (CART) failure\n"
     ]
    },
    {
     "name": "stderr",
     "output_type": "stream",
     "text": [
      "R[write to console]: Error in solve.default(Tb) : 'a' (1 x 2) must be square\n",
      "\n"
     ]
    },
    {
     "name": "stdout",
     "output_type": "stream",
     "text": [
      "Error in LBA function\n"
     ]
    },
    {
     "name": "stderr",
     "output_type": "stream",
     "text": [
      "R[write to console]: Error in solve.default(Tb) : 'a' (1 x 2) must be square\n",
      "\n"
     ]
    },
    {
     "name": "stdout",
     "output_type": "stream",
     "text": [
      "Error in LBA function\n"
     ]
    },
    {
     "name": "stderr",
     "output_type": "stream",
     "text": [
      "R[write to console]: Error in solve.default(Tb) : 'a' (1 x 2) must be square\n",
      "\n"
     ]
    },
    {
     "name": "stdout",
     "output_type": "stream",
     "text": [
      "Error in LBA function\n"
     ]
    },
    {
     "name": "stderr",
     "output_type": "stream",
     "text": [
      "R[write to console]: Error in solve.default(Tb) : 'a' (1 x 2) must be square\n",
      "\n"
     ]
    },
    {
     "name": "stdout",
     "output_type": "stream",
     "text": [
      "Error in LBA function\n"
     ]
    },
    {
     "name": "stderr",
     "output_type": "stream",
     "text": [
      "R[write to console]: Error in solve.default(Tb) : 'a' (1 x 2) must be square\n",
      "\n"
     ]
    },
    {
     "name": "stdout",
     "output_type": "stream",
     "text": [
      "Error in LBA function\n"
     ]
    },
    {
     "name": "stderr",
     "output_type": "stream",
     "text": [
      "R[write to console]: Error in solve.default(Tb) : 'a' (1 x 2) must be square\n",
      "\n"
     ]
    },
    {
     "name": "stdout",
     "output_type": "stream",
     "text": [
      "Error in LBA function\n",
      "Split Found:  n25 [['driving_license', ('driving_license0',), [1118.0819832281359, array([1.17944728e-31])], 4]] right\n",
      "node_proportion_total  0.6422122654514126\n",
      "Node_proportion_gain  0.00010571964659966682\n",
      "Node Search Split Error for:  n50 with obs in node:  803  which is less than minimum parent size:  1000\n",
      "TypeError: Node search split (CART) failure\n"
     ]
    },
    {
     "name": "stderr",
     "output_type": "stream",
     "text": [
      "R[write to console]: Error in solve.default(Tb) : 'a' (1 x 2) must be square\n",
      "\n"
     ]
    },
    {
     "name": "stdout",
     "output_type": "stream",
     "text": [
      "Error in LBA function\n"
     ]
    },
    {
     "name": "stderr",
     "output_type": "stream",
     "text": [
      "R[write to console]: Error in solve.default(Tb) : 'a' (1 x 2) must be square\n",
      "\n"
     ]
    },
    {
     "name": "stdout",
     "output_type": "stream",
     "text": [
      "Error in LBA function\n"
     ]
    },
    {
     "name": "stderr",
     "output_type": "stream",
     "text": [
      "R[write to console]: Error in solve.default(Tb) : 'a' (1 x 2) must be square\n",
      "\n"
     ]
    },
    {
     "name": "stdout",
     "output_type": "stream",
     "text": [
      "Error in LBA function\n"
     ]
    },
    {
     "name": "stderr",
     "output_type": "stream",
     "text": [
      "R[write to console]: Error in solve.default(Tb) : 'a' (1 x 2) must be square\n",
      "\n"
     ]
    },
    {
     "name": "stdout",
     "output_type": "stream",
     "text": [
      "Error in LBA function\n"
     ]
    },
    {
     "name": "stderr",
     "output_type": "stream",
     "text": [
      "R[write to console]: Error in solve.default(Tb) : 'a' (1 x 2) must be square\n",
      "\n"
     ]
    },
    {
     "name": "stdout",
     "output_type": "stream",
     "text": [
      "Error in LBA function\n"
     ]
    },
    {
     "name": "stderr",
     "output_type": "stream",
     "text": [
      "R[write to console]: Error in solve.default(Tb) : 'a' (1 x 2) must be square\n",
      "\n"
     ]
    },
    {
     "name": "stdout",
     "output_type": "stream",
     "text": [
      "Error in LBA function\n"
     ]
    },
    {
     "name": "stderr",
     "output_type": "stream",
     "text": [
      "R[write to console]: Error in solve.default(Tb) : 'a' (1 x 2) must be square\n",
      "\n"
     ]
    },
    {
     "name": "stdout",
     "output_type": "stream",
     "text": [
      "Error in LBA function\n"
     ]
    },
    {
     "name": "stderr",
     "output_type": "stream",
     "text": [
      "R[write to console]: Error in solve.default(Tb) : 'a' (1 x 2) must be square\n",
      "\n"
     ]
    },
    {
     "name": "stdout",
     "output_type": "stream",
     "text": [
      "Error in LBA function\n",
      "Split Found:  n51 [['trafficperc_group', ('1mediumlow_traffic', '2medium_traffic', '3mediumhigh_traffic', '4high_traffic'), [696.8376873778689, array([0.01128613])], 5]] right\n",
      "node_proportion_total  0.6423146579866013\n",
      "Node_proportion_gain  0.00010239253518862235\n",
      "Node Search Split Error for:  n102 with obs in node:  763  which is less than minimum parent size:  1000\n",
      "TypeError: Node search split (CART) failure\n",
      "Node Search Split Error for:  n103 with obs in node:  636  which is less than minimum parent size:  1000\n",
      "TypeError: Node search split (CART) failure\n"
     ]
    },
    {
     "name": "stderr",
     "output_type": "stream",
     "text": [
      "R[write to console]: Error in solve.default(Tb) : 'a' is 0-diml\n",
      "\n"
     ]
    },
    {
     "name": "stdout",
     "output_type": "stream",
     "text": [
      "Error in LBA function\n"
     ]
    },
    {
     "name": "stderr",
     "output_type": "stream",
     "text": [
      "R[write to console]: Error in solve.default(Tb) : 'a' is 0-diml\n",
      "\n"
     ]
    },
    {
     "name": "stdout",
     "output_type": "stream",
     "text": [
      "Error in LBA function\n"
     ]
    },
    {
     "name": "stderr",
     "output_type": "stream",
     "text": [
      "R[write to console]: Error in solve.default(Tb) : 'a' is 0-diml\n",
      "\n"
     ]
    },
    {
     "name": "stdout",
     "output_type": "stream",
     "text": [
      "Error in LBA function\n"
     ]
    },
    {
     "name": "stderr",
     "output_type": "stream",
     "text": [
      "R[write to console]: Error in solve.default(Tb) : 'a' is 0-diml\n",
      "\n"
     ]
    },
    {
     "name": "stdout",
     "output_type": "stream",
     "text": [
      "Error in LBA function\n"
     ]
    },
    {
     "name": "stderr",
     "output_type": "stream",
     "text": [
      "R[write to console]: Error in solve.default(Tb) : 'a' is 0-diml\n",
      "\n"
     ]
    },
    {
     "name": "stdout",
     "output_type": "stream",
     "text": [
      "Error in LBA function\n"
     ]
    },
    {
     "name": "stderr",
     "output_type": "stream",
     "text": [
      "R[write to console]: Error in solve.default(Tb) : 'a' is 0-diml\n",
      "\n"
     ]
    },
    {
     "name": "stdout",
     "output_type": "stream",
     "text": [
      "Error in LBA function\n"
     ]
    },
    {
     "name": "stderr",
     "output_type": "stream",
     "text": [
      "R[write to console]: Error in solve.default(Tb) : 'a' is 0-diml\n",
      "\n"
     ]
    },
    {
     "name": "stdout",
     "output_type": "stream",
     "text": [
      "Error in LBA function\n"
     ]
    },
    {
     "name": "stderr",
     "output_type": "stream",
     "text": [
      "R[write to console]: Error in solve.default(Tb) : 'a' is 0-diml\n",
      "\n"
     ]
    },
    {
     "name": "stdout",
     "output_type": "stream",
     "text": [
      "Error in LBA function\n",
      "Split Found:  n13 [['distance_group', ('distance01',), [705.890008041386, array([7.14645108e-312])], 3]] right\n",
      "node_proportion_total  0.6424360596834506\n",
      "Node_proportion_gain  0.00012140169684937696\n"
     ]
    },
    {
     "name": "stderr",
     "output_type": "stream",
     "text": [
      "R[write to console]: Error in solve.default(Tb) : 'a' (1 x 2) must be square\n",
      "\n"
     ]
    },
    {
     "name": "stdout",
     "output_type": "stream",
     "text": [
      "Error in LBA function\n"
     ]
    },
    {
     "name": "stderr",
     "output_type": "stream",
     "text": [
      "R[write to console]: Error in solve.default(Tb) : 'a' (1 x 2) must be square\n",
      "\n"
     ]
    },
    {
     "name": "stdout",
     "output_type": "stream",
     "text": [
      "Error in LBA function\n"
     ]
    },
    {
     "name": "stderr",
     "output_type": "stream",
     "text": [
      "R[write to console]: Error in solve.default(Tb) : 'a' (1 x 2) must be square\n",
      "\n"
     ]
    },
    {
     "name": "stdout",
     "output_type": "stream",
     "text": [
      "Error in LBA function\n"
     ]
    },
    {
     "name": "stderr",
     "output_type": "stream",
     "text": [
      "R[write to console]: Error in solve.default(Tb) : 'a' (1 x 2) must be square\n",
      "\n"
     ]
    },
    {
     "name": "stdout",
     "output_type": "stream",
     "text": [
      "Error in LBA function\n"
     ]
    },
    {
     "name": "stderr",
     "output_type": "stream",
     "text": [
      "R[write to console]: Error in solve.default(Tb) : 'a' (1 x 2) must be square\n",
      "\n"
     ]
    },
    {
     "name": "stdout",
     "output_type": "stream",
     "text": [
      "Error in LBA function\n"
     ]
    },
    {
     "name": "stderr",
     "output_type": "stream",
     "text": [
      "R[write to console]: Error in solve.default(Tb) : 'a' (1 x 2) must be square\n",
      "\n"
     ]
    },
    {
     "name": "stdout",
     "output_type": "stream",
     "text": [
      "Error in LBA function\n"
     ]
    },
    {
     "name": "stderr",
     "output_type": "stream",
     "text": [
      "R[write to console]: Error in solve.default(Tb) : 'a' (1 x 2) must be square\n",
      "\n"
     ]
    },
    {
     "name": "stdout",
     "output_type": "stream",
     "text": [
      "Error in LBA function\n"
     ]
    },
    {
     "name": "stderr",
     "output_type": "stream",
     "text": [
      "R[write to console]: Error in solve.default(Tb) : 'a' (1 x 2) must be square\n",
      "\n"
     ]
    },
    {
     "name": "stdout",
     "output_type": "stream",
     "text": [
      "Error in LBA function\n",
      "Node Search Split Error for:  n26 couldn't find an appropiate looking at k variables =  16\n",
      "TypeError: Node search split (CART) failure\n",
      "Node Search Split Error for:  n27 with obs in node:  770  which is less than minimum parent size:  1000\n",
      "TypeError: Node search split (CART) failure\n",
      "Split Found:  n7 [['cost_group', ('high_cost', 'medium_cost'), [7506.72088857454, array([0.00214913])], 2]] right\n",
      "node_proportion_total  0.642546750145\n",
      "Node_proportion_gain  0.00011069046154932316\n",
      "Split Found:  n14 [['age_group', ('age_group0-18', 'age_group66+'), [3993.3163361261372, array([0.00177856])], 3]] left\n",
      "node_proportion_total  0.6426466728070439\n",
      "Node_proportion_gain  9.992266204394973e-05\n",
      "This split isn't good now i cut it [cat delta]\n",
      "Split Found:  n15 [['cost_group', ('high_cost',), [3595.1448212268633, array([2.79100869e-31])], 3]] right\n",
      "node_proportion_total  0.6427405280318944\n",
      "Node_proportion_gain  9.385522485050313e-05\n",
      "This split isn't good now i cut it [cat delta]\n"
     ]
    },
    {
     "data": {
      "text/plain": [
       "((((None, (((None, None), ((None, None), (None, None))), (None, None))),\n",
       "   (None, ((None, None), None))),\n",
       "  ((((None, (None, None)), None), ((None, None), (None, None))),\n",
       "   (((None, None), (None, ((None, None), None))),\n",
       "    (((None, (None, None)), ((((None, None), (None, None)), None), None)),\n",
       "     (((((None, None), None), (None, (None, None))), (None, (None, None))),\n",
       "      ((None, None),\n",
       "       (((None, (None, None)), None),\n",
       "        (((None, None), (None, None)), (None, None))))))))),\n",
       " ((((None, None), (None, (None, None))), (None, None)), (None, None)))"
      ]
     },
     "execution_count": 12,
     "metadata": {},
     "output_type": "execute_result"
    }
   ],
   "source": [
    "my_tree = NodeClass('n1', indici) \n",
    "tree = TREEplus(y,features,features_names,n_features,n_features_names,impurity_fn = \"gini\",problem=\"classifier\",method = \"LATENT-BUDGET-TREE\",twoing = False, max_level =10 , min_cases_parent= 1000,min_cases_child= 500, min_imp_gain = 0.0001) \n",
    "tree.growing_tree(my_tree, max_k = 5, combination_split = False, max_c = 5) \n"
   ]
  },
  {
   "cell_type": "code",
   "execution_count": 13,
   "metadata": {},
   "outputs": [
    {
     "data": {
      "application/vnd.plotly.v1+json": {
       "config": {
        "plotlyServerURL": "https://plot.ly"
       },
       "data": [
        {
         "hoverinfo": "none",
         "line": {
          "color": "rgb(210,210,210)",
          "width": 1
         },
         "mode": "lines",
         "type": "scatter",
         "x": [
          0,
          -382.7529296875,
          null,
          0,
          382.7529296875,
          null,
          -382.7529296875,
          -638.7470703125,
          null,
          -382.7529296875,
          -126.7587890625,
          null,
          382.7529296875,
          254.7529296875,
          null,
          382.7529296875,
          510.7529296875,
          null,
          -638.7470703125,
          -766.7470703125,
          null,
          -638.7470703125,
          -510.7470703125,
          null,
          -126.7587890625,
          -254.7470703125,
          null,
          -126.7587890625,
          1.2294921875,
          null,
          254.7529296875,
          190.7529296875,
          null,
          254.7529296875,
          318.7529296875,
          null,
          510.7529296875,
          446.7529296875,
          null,
          510.7529296875,
          574.7529296875,
          null,
          -766.7470703125,
          -830.7470703125,
          null,
          -766.7470703125,
          -702.7470703125,
          null,
          -510.7470703125,
          -574.7470703125,
          null,
          -510.7470703125,
          -446.7470703125,
          null,
          -254.7470703125,
          -318.7470703125,
          null,
          -254.7470703125,
          -190.7470703125,
          null,
          1.2294921875,
          -62.7470703125,
          null,
          1.2294921875,
          65.2060546875,
          null,
          190.7529296875,
          158.7529296875,
          null,
          190.7529296875,
          222.7529296875,
          null,
          318.7529296875,
          286.7529296875,
          null,
          318.7529296875,
          350.7529296875,
          null,
          -702.7470703125,
          -734.7470703125,
          null,
          -702.7470703125,
          -670.7470703125,
          null,
          -446.7470703125,
          -478.7470703125,
          null,
          -446.7470703125,
          -414.7470703125,
          null,
          -318.7470703125,
          -350.7470703125,
          null,
          -318.7470703125,
          -286.7470703125,
          null,
          -190.7470703125,
          -222.7470703125,
          null,
          -190.7470703125,
          -158.7470703125,
          null,
          -62.7470703125,
          -94.7470703125,
          null,
          -62.7470703125,
          -30.7470703125,
          null,
          65.2060546875,
          33.2529296875,
          null,
          65.2060546875,
          97.1591796875,
          null,
          158.7529296875,
          142.7529296875,
          null,
          158.7529296875,
          174.7529296875,
          null,
          222.7529296875,
          206.7529296875,
          null,
          222.7529296875,
          238.7529296875,
          null,
          -734.7470703125,
          -750.7470703125,
          null,
          -734.7470703125,
          -718.7470703125,
          null,
          -670.7470703125,
          -686.7470703125,
          null,
          -670.7470703125,
          -654.7470703125,
          null,
          -478.7470703125,
          -494.7470703125,
          null,
          -478.7470703125,
          -462.7470703125,
          null,
          -350.7470703125,
          -366.7470703125,
          null,
          -350.7470703125,
          -334.7470703125,
          null,
          -222.7470703125,
          -238.7470703125,
          null,
          -222.7470703125,
          -206.7470703125,
          null,
          -158.7470703125,
          -174.7470703125,
          null,
          -158.7470703125,
          -142.7470703125,
          null,
          -94.7470703125,
          -110.7470703125,
          null,
          -94.7470703125,
          -78.7470703125,
          null,
          -30.7470703125,
          -46.7470703125,
          null,
          -30.7470703125,
          -14.7470703125,
          null,
          33.2529296875,
          17.2529296875,
          null,
          33.2529296875,
          49.2529296875,
          null,
          97.1591796875,
          81.2529296875,
          null,
          97.1591796875,
          113.0654296875,
          null,
          238.7529296875,
          230.7529296875,
          null,
          238.7529296875,
          246.7529296875,
          null,
          -750.7470703125,
          -758.7470703125,
          null,
          -750.7470703125,
          -742.7470703125,
          null,
          -718.7470703125,
          -726.7470703125,
          null,
          -718.7470703125,
          -710.7470703125,
          null,
          -334.7470703125,
          -342.7470703125,
          null,
          -334.7470703125,
          -326.7470703125,
          null,
          -14.7470703125,
          -22.7470703125,
          null,
          -14.7470703125,
          -6.7470703125,
          null,
          17.2529296875,
          9.2529296875,
          null,
          17.2529296875,
          25.2529296875,
          null,
          49.2529296875,
          41.2529296875,
          null,
          49.2529296875,
          57.2529296875,
          null,
          81.2529296875,
          73.2529296875,
          null,
          81.2529296875,
          89.2529296875,
          null,
          113.0654296875,
          105.2529296875,
          null,
          113.0654296875,
          120.8779296875,
          null,
          -726.7470703125,
          -730.7470703125,
          null,
          -726.7470703125,
          -722.7470703125,
          null,
          -710.7470703125,
          -714.7470703125,
          null,
          -710.7470703125,
          -706.7470703125,
          null,
          -22.7470703125,
          -26.7470703125,
          null,
          -22.7470703125,
          -18.7470703125,
          null,
          25.2529296875,
          21.2529296875,
          null,
          25.2529296875,
          29.2529296875,
          null,
          41.2529296875,
          37.2529296875,
          null,
          41.2529296875,
          45.2529296875,
          null,
          73.2529296875,
          69.2529296875,
          null,
          73.2529296875,
          77.2529296875,
          null,
          89.2529296875,
          85.2529296875,
          null,
          89.2529296875,
          93.2529296875,
          null,
          105.2529296875,
          101.2529296875,
          null,
          105.2529296875,
          109.2529296875,
          null,
          120.8779296875,
          117.2529296875,
          null,
          120.8779296875,
          124.5029296875,
          null,
          37.2529296875,
          35.2529296875,
          null,
          37.2529296875,
          39.2529296875,
          null,
          69.2529296875,
          67.2529296875,
          null,
          69.2529296875,
          71.2529296875,
          null,
          77.2529296875,
          75.2529296875,
          null,
          77.2529296875,
          79.2529296875,
          null,
          93.2529296875,
          91.2529296875,
          null,
          93.2529296875,
          95.2529296875,
          null,
          117.2529296875,
          115.2529296875,
          null,
          117.2529296875,
          119.2529296875,
          null,
          124.5029296875,
          123.2529296875,
          null,
          124.5029296875,
          125.7529296875,
          null,
          35.2529296875,
          34.2529296875,
          null,
          35.2529296875,
          36.2529296875,
          null,
          39.2529296875,
          38.2529296875,
          null,
          39.2529296875,
          40.2529296875,
          null,
          67.2529296875,
          66.2529296875,
          null,
          67.2529296875,
          68.2529296875,
          null,
          79.2529296875,
          78.2529296875,
          null,
          79.2529296875,
          80.2529296875,
          null,
          115.2529296875,
          114.2529296875,
          null,
          115.2529296875,
          116.2529296875,
          null,
          123.2529296875,
          122.2529296875,
          null,
          123.2529296875,
          124.2529296875,
          null,
          125.7529296875,
          125.2529296875,
          null,
          125.7529296875,
          126.2529296875,
          null,
          116.2529296875,
          115.7529296875,
          null,
          116.2529296875,
          116.7529296875,
          null,
          122.2529296875,
          121.7529296875,
          null,
          122.2529296875,
          122.7529296875,
          null,
          124.2529296875,
          123.7529296875,
          null,
          124.2529296875,
          124.7529296875,
          null
         ],
         "y": [
          1,
          0.9130721228543575,
          null,
          1,
          0.9130721228543575,
          null,
          0.9130721228543575,
          0.5275028163167672,
          null,
          0.9130721228543575,
          0.5275028163167672,
          null,
          0.9130721228543575,
          0.9122466955764217,
          null,
          0.9130721228543575,
          0.9122466955764217,
          null,
          0.5275028163167672,
          0.4818075230267197,
          null,
          0.5275028163167672,
          0.4818075230267197,
          null,
          0.5275028163167672,
          0.5236471121439313,
          null,
          0.5275028163167672,
          0.5236471121439313,
          null,
          0.9122466955764217,
          0.9121005246865335,
          null,
          0.9122466955764217,
          0.9121005246865335,
          null,
          0.9122466955764217,
          0.9121360051148724,
          null,
          0.9122466955764217,
          0.9121360051148724,
          null,
          0.4818075230267197,
          0.4548965730565614,
          null,
          0.4818075230267197,
          0.4548965730565614,
          null,
          0.4818075230267197,
          0.47841808067770375,
          null,
          0.4818075230267197,
          0.47841808067770375,
          null,
          0.5236471121439313,
          0.5217518174142693,
          null,
          0.5236471121439313,
          0.5217518174142693,
          null,
          0.5236471121439313,
          0.5225232710256515,
          null,
          0.5236471121439313,
          0.5225232710256515,
          null,
          0.9121005246865335,
          0.9119867319213949,
          null,
          0.9121005246865335,
          0.9119867319213949,
          null,
          0.9121005246865335,
          0.9119791229896841,
          null,
          0.9121005246865335,
          0.9119791229896841,
          null,
          0.4548965730565614,
          0.43749045295765365,
          null,
          0.4548965730565614,
          0.43749045295765365,
          null,
          0.47841808067770375,
          0.47558450206732195,
          null,
          0.47841808067770375,
          0.47558450206732195,
          null,
          0.5217518174142693,
          0.5201636600145426,
          null,
          0.5217518174142693,
          0.5201636600145426,
          null,
          0.5217518174142693,
          0.5205844839065868,
          null,
          0.5217518174142693,
          0.5205844839065868,
          null,
          0.5225232710256515,
          0.5216181750975476,
          null,
          0.5225232710256515,
          0.5216181750975476,
          null,
          0.5225232710256515,
          0.5218022106843252,
          null,
          0.5225232710256515,
          0.5218022106843252,
          null,
          0.9119867319213949,
          0.9118774075978809,
          null,
          0.9119867319213949,
          0.9118774075978809,
          null,
          0.9119867319213949,
          0.9118810122747952,
          null,
          0.9119867319213949,
          0.9118810122747952,
          null,
          0.43749045295765365,
          0.42504986872076156,
          null,
          0.43749045295765365,
          0.42504986872076156,
          null,
          0.43749045295765365,
          0.4335217245088633,
          null,
          0.43749045295765365,
          0.4335217245088633,
          null,
          0.47558450206732195,
          0.473126809378662,
          null,
          0.47558450206732195,
          0.473126809378662,
          null,
          0.5201636600145426,
          0.5187101877378637,
          null,
          0.5201636600145426,
          0.5187101877378637,
          null,
          0.5205844839065868,
          0.519533599713057,
          null,
          0.5205844839065868,
          0.519533599713057,
          null,
          0.5205844839065868,
          0.5196277158751126,
          null,
          0.5205844839065868,
          0.5196277158751126,
          null,
          0.5216181750975476,
          0.520878190138602,
          null,
          0.5216181750975476,
          0.520878190138602,
          null,
          0.5216181750975476,
          0.5209070814301051,
          null,
          0.5216181750975476,
          0.5209070814301051,
          null,
          0.5218022106843252,
          0.5212859318151711,
          null,
          0.5218022106843252,
          0.5212859318151711,
          null,
          0.5218022106843252,
          0.5214654695038596,
          null,
          0.5218022106843252,
          0.5214654695038596,
          null,
          0.9118810122747952,
          0.9117786197396066,
          null,
          0.9118810122747952,
          0.9117786197396066,
          null,
          0.42504986872076156,
          0.4157948014253934,
          null,
          0.42504986872076156,
          0.4157948014253934,
          null,
          0.42504986872076156,
          0.41785727117451643,
          null,
          0.42504986872076156,
          0.41785727117451643,
          null,
          0.5187101877378637,
          0.5174360906383745,
          null,
          0.5187101877378637,
          0.5174360906383745,
          null,
          0.5209070814301051,
          0.5202739281656235,
          null,
          0.5209070814301051,
          0.5202739281656235,
          null,
          0.5212859318151711,
          0.5208081773405576,
          null,
          0.5212859318151711,
          0.5208081773405576,
          null,
          0.5212859318151711,
          0.5208657391113362,
          null,
          0.5212859318151711,
          0.5208657391113362,
          null,
          0.5214654695038596,
          0.521162205349575,
          null,
          0.5214654695038596,
          0.521162205349575,
          null,
          0.5214654695038596,
          0.5212271861673456,
          null,
          0.5214654695038596,
          0.5212271861673456,
          null,
          0.41785727117451643,
          0.41209603741949485,
          null,
          0.41785727117451643,
          0.41209603741949485,
          null,
          0.41785727117451643,
          0.4131554889897576,
          null,
          0.41785727117451643,
          0.4131554889897576,
          null,
          0.5202739281656235,
          0.5196875907750657,
          null,
          0.5202739281656235,
          0.5196875907750657,
          null,
          0.5208081773405576,
          0.5203652609143837,
          null,
          0.5208081773405576,
          0.5203652609143837,
          null,
          0.5208657391113362,
          0.5204712719311516,
          null,
          0.5208657391113362,
          0.5204712719311516,
          null,
          0.521162205349575,
          0.5208750500287409,
          null,
          0.521162205349575,
          0.5208750500287409,
          null,
          0.521162205349575,
          0.5209371188967796,
          null,
          0.521162205349575,
          0.5209371188967796,
          null,
          0.5212271861673456,
          0.5210243375013319,
          null,
          0.5212271861673456,
          0.5210243375013319,
          null,
          0.5212271861673456,
          0.5210224091230506,
          null,
          0.5212271861673456,
          0.5210224091230506,
          null,
          0.5204712719311516,
          0.5200992065002465,
          null,
          0.5204712719311516,
          0.5200992065002465,
          null,
          0.5208750500287409,
          0.5205985406432242,
          null,
          0.5208750500287409,
          0.5205985406432242,
          null,
          0.5208750500287409,
          0.5206255184990004,
          null,
          0.5208750500287409,
          0.5206255184990004,
          null,
          0.5209371188967796,
          0.5207217217480047,
          null,
          0.5209371188967796,
          0.5207217217480047,
          null,
          0.5210224091230506,
          0.5208378986131564,
          null,
          0.5210224091230506,
          0.5208378986131564,
          null,
          0.5210224091230506,
          0.5208403911290492,
          null,
          0.5210224091230506,
          0.5208403911290492,
          null,
          0.5200992065002465,
          0.5197472175263068,
          null,
          0.5200992065002465,
          0.5197472175263068,
          null,
          0.5200992065002465,
          0.5197670976065548,
          null,
          0.5200992065002465,
          0.5197670976065548,
          null,
          0.5205985406432242,
          0.5203391604180333,
          null,
          0.5205985406432242,
          0.5203391604180333,
          null,
          0.5206255184990004,
          0.5203895222114181,
          null,
          0.5206255184990004,
          0.5203895222114181,
          null,
          0.5208378986131564,
          0.5206270919190052,
          null,
          0.5208378986131564,
          0.5206270919190052,
          null,
          0.5208403911290492,
          0.5206709792398103,
          null,
          0.5208403911290492,
          0.5206709792398103,
          null,
          0.5208403911290492,
          0.5206631093260432,
          null,
          0.5208403911290492,
          0.5206631093260432,
          null,
          0.5206270919190052,
          0.5204541579564235,
          null,
          0.5206270919190052,
          0.5204541579564235,
          null,
          0.5206709792398103,
          0.5205191049878473,
          null,
          0.5206709792398103,
          0.5205191049878473,
          null,
          0.5206709792398103,
          0.5205232617185128,
          null,
          0.5206709792398103,
          0.5205232617185128,
          null
         ]
        },
        {
         "hoverinfo": "text",
         "marker": {
          "color": "#6175c1",
          "line": {
           "color": "rgb(50,50,50)",
           "width": 1
          },
          "size": 18,
          "symbol": "circle-dot"
         },
         "mode": "markers",
         "name": "Nodes",
         "opacity": 0.8,
         "text": [
          "n16, Class: {1: 0.62, 2: 0.02, 3: 0.08, 4: 0.27}, gini : 0.53, Samples : 624",
          "n136, Class: {1: 0.02, 2: 0.07, 3: 0.62, 4: 0.28}, gini : 0.53, Samples : 873",
          "n137, Class: {1: 0.01, 2: 0.05, 3: 0.49, 4: 0.46}, gini : 0.55, Samples : 608",
          "n276, Class: {1: 0.04, 2: 0.02, 3: 0.44, 4: 0.5}, gini : 0.56, Samples : 602",
          "n277, Class: {1: 0.09, 2: 0.04, 3: 0.24, 4: 0.64}, gini : 0.53, Samples : 677",
          "n278, Class: {1: 0.02, 2: 0.03, 3: 0.49, 4: 0.46}, gini : 0.55, Samples : 1000",
          "n279, Class: {1: 0.02, 2: 0.01, 3: 0.39, 4: 0.57}, gini : 0.51, Samples : 816",
          "n70, Class: {1: 0.03, 2: 0.01, 3: 0.47, 4: 0.49}, gini : 0.53, Samples : 573",
          "n71, Class: {1: 0.04, 2: 0.03, 3: 0.74, 4: 0.19}, gini : 0.41, Samples : 792",
          "n18, Class: {1: 0.31, 2: 0.01, 3: 0.56, 4: 0.12}, gini : 0.58, Samples : 735",
          "n39, Class: {1: 0.02, 2: 0.01, 3: 0.92, 4: 0.04}, gini : 0.14, Samples : 542",
          "n76, Class: {1: 0.06, 2: 0.02, 3: 0.75, 4: 0.17}, gini : 0.41, Samples : 1166",
          "n77, Class: {1: 0.02, 2: 0.07, 3: 0.84, 4: 0.08}, gini : 0.29, Samples : 1501",
          "n41, Class: {1: 0.4, 2: 0.04, 3: 0.04, 4: 0.53}, gini : 0.56, Samples : 616",
          "n80, Class: {1: 0.61, 2: 0.02, 3: 0.12, 4: 0.26}, gini : 0.55, Samples : 691",
          "n162, Class: {1: 0.41, 2: 0.04, 3: 0.05, 4: 0.5}, gini : 0.58, Samples : 730",
          "n163, Class: {1: 0.38, 2: 0.01, 3: 0.03, 4: 0.58}, gini : 0.52, Samples : 506",
          "n84, Class: {1: 0.72, 2: 0.03, 3: 0.04, 4: 0.22}, gini : 0.44, Samples : 549",
          "n85, Class: {1: 0.85, 2: 0.02, 3: 0.01, 4: 0.11}, gini : 0.26, Samples : 533",
          "n86, Class: {1: 0.61, 2: 0.05, 3: 0.01, 4: 0.33}, gini : 0.52, Samples : 733",
          "n87, Class: {1: 0.68, 2: 0.02, 3: 0.01, 4: 0.29}, gini : 0.46, Samples : 1476",
          "n88, Class: {1: 0.13, 2: 0.01, 3: 0.48, 4: 0.38}, gini : 0.61, Samples : 676",
          "n89, Class: {1: 0.19, 2: 0.02, 3: 0.6, 4: 0.19}, gini : 0.56, Samples : 963",
          "n90, Class: {1: 0.33, 2: 0.06, 3: 0.12, 4: 0.49}, gini : 0.63, Samples : 669",
          "n183, Class: {1: 0.03, 2: 0.03, 3: 0.22, 4: 0.72}, gini : 0.43, Samples : 720",
          "n364, Class: {1: 0.04, 2: 0.03, 3: 0.39, 4: 0.54}, gini : 0.55, Samples : 846",
          "n365, Class: {1: 0.05, 2: 0.02, 3: 0.28, 4: 0.65}, gini : 0.5, Samples : 701",
          "n184, Class: {1: 0.21, 2: 0.06, 3: 0.14, 4: 0.6}, gini : 0.58, Samples : 960",
          "n370, Class: {1: 0.39, 2: 0.03, 3: 0.1, 4: 0.48}, gini : 0.6, Samples : 541",
          "n371, Class: {1: 0.33, 2: 0.03, 3: 0.09, 4: 0.55}, gini : 0.58, Samples : 686",
          "n187, Class: {1: 0.17, 2: 0.0, 3: 0.05, 4: 0.77}, gini : 0.37, Samples : 706",
          "n373, Class: {1: 0.18, 2: 0.03, 3: 0.1, 4: 0.7}, gini : 0.47, Samples : 969",
          "n1488, Class: {1: 0.24, 2: 0.03, 3: 0.14, 4: 0.6}, gini : 0.56, Samples : 744",
          "n1489, Class: {1: 0.28, 2: 0.03, 3: 0.05, 4: 0.64}, gini : 0.5, Samples : 1117",
          "n1490, Class: {1: 0.21, 2: 0.05, 3: 0.05, 4: 0.69}, gini : 0.48, Samples : 503",
          "n1491, Class: {1: 0.26, 2: 0.02, 3: 0.03, 4: 0.69}, gini : 0.46, Samples : 903",
          "n753, Class: {1: 0.08, 2: 0.02, 3: 0.08, 4: 0.81}, gini : 0.33, Samples : 2318",
          "n1504, Class: {1: 0.14, 2: 0.02, 3: 0.19, 4: 0.64}, gini : 0.53, Samples : 696",
          "n1505, Class: {1: 0.07, 2: 0.04, 3: 0.15, 4: 0.74}, gini : 0.43, Samples : 906",
          "n754, Class: {1: 0.06, 2: 0.03, 3: 0.11, 4: 0.81}, gini : 0.33, Samples : 703",
          "n1510, Class: {1: 0.06, 2: 0.01, 3: 0.2, 4: 0.73}, gini : 0.43, Samples : 1023",
          "n1511, Class: {1: 0.06, 2: 0.01, 3: 0.28, 4: 0.66}, gini : 0.49, Samples : 595",
          "n378, Class: {1: 0.07, 2: 0.03, 3: 0.06, 4: 0.85}, gini : 0.27, Samples : 932",
          "n758, Class: {1: 0.06, 2: 0.02, 3: 0.08, 4: 0.83}, gini : 0.29, Samples : 629",
          "n759, Class: {1: 0.1, 2: 0.01, 3: 0.11, 4: 0.78}, gini : 0.37, Samples : 876",
          "n380, Class: {2: 0.0, 3: 0.31, 4: 0.69}, gini : 0.43, Samples : 648",
          "n381, Class: {3: 0.49, 4: 0.51}, gini : 0.5, Samples : 835",
          "n765, Class: {1: 0.01, 2: 0.01, 3: 0.17, 4: 0.81}, gini : 0.31, Samples : 620",
          "n1528, Class: {1: 0.01, 2: 0.03, 3: 0.55, 4: 0.41}, gini : 0.53, Samples : 750",
          "n3058, Class: {1: 0.01, 2: 0.01, 3: 0.32, 4: 0.66}, gini : 0.46, Samples : 751",
          "n3059, Class: {1: 0.01, 2: 0.01, 3: 0.17, 4: 0.81}, gini : 0.32, Samples : 2164",
          "n3064, Class: {1: 0.01, 2: 0.03, 3: 0.25, 4: 0.71}, gini : 0.43, Samples : 1891",
          "n3065, Class: {1: 0.01, 2: 0.02, 3: 0.14, 4: 0.83}, gini : 0.29, Samples : 737",
          "n3066, Class: {1: 0.01, 2: 0.02, 3: 0.13, 4: 0.83}, gini : 0.29, Samples : 3092",
          "n3067, Class: {1: 0.01, 2: 0.02, 3: 0.06, 4: 0.91}, gini : 0.16, Samples : 3597",
          "n1534, Class: {1: 0.02, 2: 0.02, 3: 0.54, 4: 0.43}, gini : 0.53, Samples : 825",
          "n1535, Class: {1: 0.01, 2: 0.0, 3: 0.14, 4: 0.85}, gini : 0.26, Samples : 1289",
          "n48, Class: {1: 0.81, 2: 0.07, 3: 0.06, 4: 0.06}, gini : 0.33, Samples : 717",
          "n49, Class: {1: 0.84, 2: 0.04, 3: 0.1, 4: 0.02}, gini : 0.29, Samples : 759",
          "n50, Class: {1: 0.81, 2: 0.04, 3: 0.12, 4: 0.03}, gini : 0.33, Samples : 803",
          "n102, Class: {1: 0.8, 2: 0.0, 3: 0.14, 4: 0.06}, gini : 0.34, Samples : 763",
          "n103, Class: {1: 0.78, 2: 0.01, 3: 0.17, 4: 0.03}, gini : 0.35, Samples : 636",
          "n26, Class: {1: 0.47, 2: 0.01, 3: 0.45, 4: 0.07}, gini : 0.57, Samples : 1424",
          "n27, Class: {1: 0.82, 2: 0.01, 3: 0.14, 4: 0.02}, gini : 0.31, Samples : 770",
          "n14, Class: {1: 0.13, 2: 0.04, 3: 0.73, 4: 0.1}, gini : 0.44, Samples : 10101",
          "n15, Class: {1: 0.04, 2: 0.06, 3: 0.83, 4: 0.07}, gini : 0.3, Samples : 6206",
          "n1, car_ownership in ('car_ownership0',), Class:{1: 0.18, 2: 0.03, 3: 0.35, 4: 0.44}, gini : 0.65, Samples: 76103",
          "n2, trafficperc_group in ('0low_traffic', '1mediumlow_traffic', '2medium_traffic'), Class:{1: 0.14, 2: 0.02, 3: 0.24, 4: 0.59}, gini : 0.57, Samples: 53924",
          "n4, drivingcharge_group in ('high_charge',), Class:{1: 0.09, 2: 0.03, 3: 0.57, 4: 0.31}, gini : 0.57, Samples: 10509",
          "n8, distance_group in ('distance04', 'distance05', 'distance06', 'distance07', 'distance08', 'distance09', 'distance10', 'distance11'), Class:{1: 0.09, 2: 0.03, 3: 0.45, 4: 0.42}, gini : 0.6, Samples: 6565",
          "n17, driving_license in ('driving_license0',), Class:{1: 0.03, 2: 0.03, 3: 0.49, 4: 0.44}, gini : 0.56, Samples: 5941",
          "n34, purpose in ('purpose2', 'purpose3', 'purpose4', 'purpose5'), Class:{1: 0.03, 2: 0.04, 3: 0.45, 4: 0.48}, gini : 0.56, Samples: 4576",
          "n68, trafficperc_group in ('3mediumhigh_traffic',), Class:{1: 0.02, 2: 0.06, 3: 0.57, 4: 0.35}, gini : 0.55, Samples: 1481",
          "n69, cost_group in ('high_cost', 'medium_cost'), Class:{1: 0.04, 2: 0.03, 3: 0.4, 4: 0.54}, gini : 0.55, Samples: 3095",
          "n138, faretype in ('faretype1',), Class:{1: 0.07, 2: 0.03, 3: 0.33, 4: 0.57}, gini : 0.56, Samples: 1279",
          "n139, trafficperc_group in ('3mediumhigh_traffic',), Class:{1: 0.02, 2: 0.02, 3: 0.44, 4: 0.51}, gini : 0.54, Samples: 1816",
          "n35, faretype in ('faretype1', 'faretype2', 'faretype4'), Class:{1: 0.04, 2: 0.02, 3: 0.63, 4: 0.32}, gini : 0.5, Samples: 1365",
          "n9, purpose in ('purpose1', 'purpose2', 'purpose3', 'purpose4'), Class:{1: 0.08, 2: 0.04, 3: 0.77, 4: 0.11}, gini : 0.38, Samples: 3944",
          "n19, driving_license in ('driving_license0',), Class:{1: 0.03, 2: 0.04, 3: 0.82, 4: 0.11}, gini : 0.31, Samples: 3209",
          "n38, purpose in ('purpose1',), Class:{1: 0.03, 2: 0.05, 3: 0.8, 4: 0.12}, gini : 0.34, Samples: 2667",
          "n5, distance_group in ('distance03', 'distance04', 'distance05', 'distance06', 'distance07', 'distance08', 'distance09', 'distance10', 'distance11'), Class:{1: 0.15, 2: 0.02, 3: 0.16, 4: 0.66}, gini : 0.51, Samples: 43415",
          "n10, distance_group in ('distance01',), Class:{1: 0.59, 2: 0.03, 3: 0.04, 4: 0.35}, gini : 0.53, Samples: 5834",
          "n20, day_of_week in ('day_of_week6', 'day_of_week7'), Class:{1: 0.46, 2: 0.03, 3: 0.06, 4: 0.45}, gini : 0.58, Samples: 2543",
          "n40, driving_license in ('driving_license1',), Class:{1: 0.47, 2: 0.03, 3: 0.07, 4: 0.43}, gini : 0.58, Samples: 1927",
          "n81, day_of_week in ('day_of_week3', 'day_of_week4'), Class:{1: 0.4, 2: 0.03, 3: 0.04, 4: 0.53}, gini : 0.56, Samples: 1236",
          "n21, driving_license in ('driving_license1',), Class:{1: 0.7, 2: 0.03, 3: 0.02, 4: 0.26}, gini : 0.45, Samples: 3291",
          "n42, travel_month in ('travel_month1', 'travel_month10', 'travel_month12', 'travel_month3', 'travel_month4', 'travel_month7'), Class:{1: 0.78, 2: 0.02, 3: 0.02, 4: 0.17}, gini : 0.36, Samples: 1082",
          "n43, day_of_week in ('day_of_week1', 'day_of_week3', 'day_of_week4', 'day_of_week6', 'day_of_week7'), Class:{1: 0.65, 2: 0.03, 3: 0.01, 4: 0.31}, gini : 0.48, Samples: 2209",
          "n11, faretype in ('faretype1', 'faretype5'), Class:{1: 0.08, 2: 0.02, 3: 0.18, 4: 0.71}, gini : 0.45, Samples: 37581",
          "n22, purpose in ('purpose1', 'purpose3', 'purpose4', 'purpose5'), Class:{1: 0.13, 2: 0.03, 3: 0.37, 4: 0.48}, gini : 0.62, Samples: 4575",
          "n44, car_ownership in ('car_ownership1',), Class:{1: 0.16, 2: 0.02, 3: 0.55, 4: 0.27}, gini : 0.6, Samples: 1639",
          "n45, distance_group in ('distance05', 'distance06', 'distance07', 'distance08', 'distance09', 'distance10', 'distance11'), Class:{1: 0.11, 2: 0.03, 3: 0.26, 4: 0.6}, gini : 0.56, Samples: 2936",
          "n91, day_of_week in ('day_of_week1', 'day_of_week7'), Class:{1: 0.04, 2: 0.03, 3: 0.3, 4: 0.63}, gini : 0.51, Samples: 2267",
          "n182, travel_month in ('travel_month1', 'travel_month2', 'travel_month4', 'travel_month5', 'travel_month8'), Class:{1: 0.04, 2: 0.03, 3: 0.34, 4: 0.59}, gini : 0.53, Samples: 1547",
          "n23, distance_group in ('distance05', 'distance06', 'distance07', 'distance08', 'distance09', 'distance10', 'distance11'), Class:{1: 0.08, 2: 0.02, 3: 0.16, 4: 0.74}, gini : 0.42, Samples: 33006",
          "n46, trafficperc_group in ('0low_traffic',), Class:{1: 0.25, 2: 0.03, 3: 0.08, 4: 0.64}, gini : 0.52, Samples: 7129",
          "n92, distance_group in ('distance03',), Class:{1: 0.29, 2: 0.04, 3: 0.11, 4: 0.56}, gini : 0.59, Samples: 2187",
          "n185, costdrivingfuel_group in ('costdrivingfuelgroup10', 'costdrivingfuelgroup3', 'costdrivingfuelgroup4', 'costdrivingfuelgroup6', 'costdrivingfuelgroup7'), Class:{1: 0.36, 2: 0.03, 3: 0.1, 4: 0.52}, gini : 0.59, Samples: 1227",
          "n93, starttime_group in ('evening',), Class:{1: 0.23, 2: 0.03, 3: 0.07, 4: 0.68}, gini : 0.48, Samples: 4942",
          "n186, costdrivingfuel_group in ('costdrivingfuelgroup5', 'costdrivingfuelgroup6', 'costdrivingfuelgroup7'), Class:{1: 0.24, 2: 0.03, 3: 0.07, 4: 0.66}, gini : 0.5, Samples: 4236",
          "n372, day_of_week in ('day_of_week3', 'day_of_week6', 'day_of_week7'), Class:{1: 0.25, 2: 0.03, 3: 0.06, 4: 0.65}, gini : 0.5, Samples: 3267",
          "n744, faretype in ('faretype1',), Class:{1: 0.26, 2: 0.03, 3: 0.08, 4: 0.63}, gini : 0.53, Samples: 1861",
          "n745, faretype in ('faretype1',), Class:{1: 0.24, 2: 0.03, 3: 0.04, 4: 0.69}, gini : 0.47, Samples: 1406",
          "n47, distance_group in ('distance07', 'distance08', 'distance09', 'distance10', 'distance11'), Class:{1: 0.03, 2: 0.02, 3: 0.18, 4: 0.77}, gini : 0.37, Samples: 25877",
          "n94, day_of_week in ('day_of_week6', 'day_of_week7'), Class:{1: 0.08, 2: 0.02, 3: 0.13, 4: 0.77}, gini : 0.38, Samples: 8678",
          "n188, bus_scale in ('bus_scale0.0', 'bus_scale0.5'), Class:{1: 0.08, 2: 0.02, 3: 0.15, 4: 0.75}, gini : 0.41, Samples: 6241",
          "n376, trafficperc_group in ('0low_traffic',), Class:{1: 0.09, 2: 0.03, 3: 0.12, 4: 0.76}, gini : 0.39, Samples: 3920",
          "n752, travel_month in ('travel_month10', 'travel_month2', 'travel_month3', 'travel_month4', 'travel_month6', 'travel_month8', 'travel_month9'), Class:{1: 0.1, 2: 0.03, 3: 0.17, 4: 0.7}, gini : 0.48, Samples: 1602",
          "n377, age_group in ('age_group19-30', 'age_group31-65', 'age_group66+'), Class:{1: 0.06, 2: 0.02, 3: 0.19, 4: 0.73}, gini : 0.42, Samples: 2321",
          "n755, trafficperc_group in ('1mediumlow_traffic', '2medium_traffic'), Class:{1: 0.06, 2: 0.01, 3: 0.23, 4: 0.7}, gini : 0.45, Samples: 1618",
          "n189, car_ownership in ('car_ownership1',), Class:{1: 0.08, 2: 0.02, 3: 0.08, 4: 0.82}, gini : 0.31, Samples: 2437",
          "n379, distance_group in ('distance05',), Class:{1: 0.08, 2: 0.01, 3: 0.1, 4: 0.8}, gini : 0.34, Samples: 1505",
          "n95, costdrivingfuel_group in ('costdrivingfuelgroup5', 'costdrivingfuelgroup6', 'costdrivingfuelgroup7', 'costdrivingfuelgroup8', 'costdrivingfuelgroup9'), Class:{1: 0.01, 2: 0.02, 3: 0.21, 4: 0.77}, gini : 0.37, Samples: 17199",
          "n190, car_ownership in ('car_ownership1',), Class:{2: 0.0, 3: 0.41, 4: 0.59}, gini : 0.48, Samples: 1483",
          "n191, age_group in ('age_group0-18', 'age_group31-65'), Class:{1: 0.01, 2: 0.02, 3: 0.19, 4: 0.79}, gini : 0.35, Samples: 15716",
          "n382, day_of_week in ('day_of_week7',), Class:{1: 0.01, 2: 0.02, 3: 0.26, 4: 0.71}, gini : 0.42, Samples: 4285",
          "n764, driving_license in ('driving_license1',), Class:{1: 0.01, 2: 0.02, 3: 0.28, 4: 0.7}, gini : 0.44, Samples: 3665",
          "n1529, trafficperc_group in ('0low_traffic', '1mediumlow_traffic'), Class:{1: 0.01, 2: 0.01, 3: 0.21, 4: 0.77}, gini : 0.36, Samples: 2915",
          "n383, driving_license in ('driving_license0',), Class:{1: 0.01, 2: 0.02, 3: 0.16, 4: 0.81}, gini : 0.31, Samples: 11431",
          "n766, trafficperc_group in ('0low_traffic', '1mediumlow_traffic'), Class:{1: 0.01, 2: 0.02, 3: 0.13, 4: 0.84}, gini : 0.28, Samples: 9317",
          "n1532, day_of_week in ('day_of_week6', 'day_of_week7'), Class:{1: 0.01, 2: 0.03, 3: 0.22, 4: 0.75}, gini : 0.39, Samples: 2628",
          "n1533, trafficperc_group in ('0low_traffic',), Class:{1: 0.01, 2: 0.02, 3: 0.09, 4: 0.88}, gini : 0.22, Samples: 6689",
          "n767, faretype in ('faretype5',), Class:{1: 0.01, 2: 0.01, 3: 0.3, 4: 0.69}, gini : 0.44, Samples: 2114",
          "n3, distance_group in ('distance04', 'distance05', 'distance06', 'distance07', 'distance08', 'distance09', 'distance10', 'distance11'), Class:{1: 0.26, 2: 0.04, 3: 0.62, 4: 0.08}, gini : 0.54, Samples: 22179",
          "n6, faretype in ('faretype3', 'faretype5'), Class:{1: 0.73, 2: 0.03, 3: 0.2, 4: 0.05}, gini : 0.43, Samples: 5872",
          "n12, female in ('female1',), Class:{1: 0.81, 2: 0.03, 3: 0.12, 4: 0.04}, gini : 0.33, Samples: 3678",
          "n24, driving_license in ('driving_license0',), Class:{1: 0.82, 2: 0.06, 3: 0.08, 4: 0.04}, gini : 0.31, Samples: 1476",
          "n25, driving_license in ('driving_license0',), Class:{1: 0.8, 2: 0.02, 3: 0.14, 4: 0.04}, gini : 0.34, Samples: 2202",
          "n51, trafficperc_group in ('1mediumlow_traffic', '2medium_traffic', '3mediumhigh_traffic', '4high_traffic'), Class:{1: 0.79, 2: 0.01, 3: 0.15, 4: 0.05}, gini : 0.35, Samples: 1399",
          "n13, distance_group in ('distance01',), Class:{1: 0.59, 2: 0.01, 3: 0.34, 4: 0.05}, gini : 0.53, Samples: 2194",
          "n7, cost_group in ('high_cost', 'medium_cost'), Class:{1: 0.1, 2: 0.05, 3: 0.77, 4: 0.09}, gini : 0.39, Samples: 16307"
         ],
         "type": "scatter",
         "x": [
          -830.7470703125,
          -758.7470703125,
          -742.7470703125,
          -730.7470703125,
          -722.7470703125,
          -714.7470703125,
          -706.7470703125,
          -686.7470703125,
          -654.7470703125,
          -574.7470703125,
          -414.7470703125,
          -494.7470703125,
          -462.7470703125,
          -286.7470703125,
          -366.7470703125,
          -342.7470703125,
          -326.7470703125,
          -238.7470703125,
          -206.7470703125,
          -174.7470703125,
          -142.7470703125,
          -110.7470703125,
          -78.7470703125,
          -46.7470703125,
          -6.7470703125,
          -26.7470703125,
          -18.7470703125,
          9.2529296875,
          21.2529296875,
          29.2529296875,
          57.2529296875,
          45.2529296875,
          34.2529296875,
          36.2529296875,
          38.2529296875,
          40.2529296875,
          71.2529296875,
          66.2529296875,
          68.2529296875,
          75.2529296875,
          78.2529296875,
          80.2529296875,
          85.2529296875,
          91.2529296875,
          95.2529296875,
          101.2529296875,
          109.2529296875,
          119.2529296875,
          114.2529296875,
          115.7529296875,
          116.7529296875,
          121.7529296875,
          122.7529296875,
          123.7529296875,
          124.7529296875,
          125.2529296875,
          126.2529296875,
          142.7529296875,
          174.7529296875,
          206.7529296875,
          230.7529296875,
          246.7529296875,
          286.7529296875,
          350.7529296875,
          446.7529296875,
          574.7529296875,
          0,
          -382.7529296875,
          -638.7470703125,
          -766.7470703125,
          -702.7470703125,
          -734.7470703125,
          -750.7470703125,
          -718.7470703125,
          -726.7470703125,
          -710.7470703125,
          -670.7470703125,
          -510.7470703125,
          -446.7470703125,
          -478.7470703125,
          -126.7587890625,
          -254.7470703125,
          -318.7470703125,
          -350.7470703125,
          -334.7470703125,
          -190.7470703125,
          -222.7470703125,
          -158.7470703125,
          1.2294921875,
          -62.7470703125,
          -94.7470703125,
          -30.7470703125,
          -14.7470703125,
          -22.7470703125,
          65.2060546875,
          33.2529296875,
          17.2529296875,
          25.2529296875,
          49.2529296875,
          41.2529296875,
          37.2529296875,
          35.2529296875,
          39.2529296875,
          97.1591796875,
          81.2529296875,
          73.2529296875,
          69.2529296875,
          67.2529296875,
          77.2529296875,
          79.2529296875,
          89.2529296875,
          93.2529296875,
          113.0654296875,
          105.2529296875,
          120.8779296875,
          117.2529296875,
          115.2529296875,
          116.2529296875,
          124.5029296875,
          123.2529296875,
          122.2529296875,
          124.2529296875,
          125.7529296875,
          382.7529296875,
          254.7529296875,
          190.7529296875,
          158.7529296875,
          222.7529296875,
          238.7529296875,
          318.7529296875,
          510.7529296875
         ],
         "y": [
          0.4548965730565614,
          0.4157948014253934,
          0.4157948014253934,
          0.41209603741949485,
          0.41209603741949485,
          0.4131554889897576,
          0.4131554889897576,
          0.4335217245088633,
          0.4335217245088633,
          0.47841808067770375,
          0.47558450206732195,
          0.473126809378662,
          0.473126809378662,
          0.5201636600145426,
          0.5187101877378637,
          0.5174360906383745,
          0.5174360906383745,
          0.519533599713057,
          0.519533599713057,
          0.5196277158751126,
          0.5196277158751126,
          0.520878190138602,
          0.520878190138602,
          0.5209070814301051,
          0.5202739281656235,
          0.5196875907750657,
          0.5196875907750657,
          0.5208081773405576,
          0.5203652609143837,
          0.5203652609143837,
          0.5208657391113362,
          0.5204712719311516,
          0.5197472175263068,
          0.5197472175263068,
          0.5197670976065548,
          0.5197670976065548,
          0.5205985406432242,
          0.5203391604180333,
          0.5203391604180333,
          0.5206255184990004,
          0.5203895222114181,
          0.5203895222114181,
          0.5209371188967796,
          0.5207217217480047,
          0.5207217217480047,
          0.5210243375013319,
          0.5210243375013319,
          0.5208378986131564,
          0.5206270919190052,
          0.5204541579564235,
          0.5204541579564235,
          0.5205191049878473,
          0.5205191049878473,
          0.5205232617185128,
          0.5205232617185128,
          0.5206631093260432,
          0.5206631093260432,
          0.9118774075978809,
          0.9118774075978809,
          0.9118810122747952,
          0.9117786197396066,
          0.9117786197396066,
          0.9119791229896841,
          0.9119791229896841,
          0.9121360051148724,
          0.9121360051148724,
          1,
          0.9130721228543575,
          0.5275028163167672,
          0.4818075230267197,
          0.4548965730565614,
          0.43749045295765365,
          0.42504986872076156,
          0.42504986872076156,
          0.41785727117451643,
          0.41785727117451643,
          0.43749045295765365,
          0.4818075230267197,
          0.47841808067770375,
          0.47558450206732195,
          0.5275028163167672,
          0.5236471121439313,
          0.5217518174142693,
          0.5201636600145426,
          0.5187101877378637,
          0.5217518174142693,
          0.5205844839065868,
          0.5205844839065868,
          0.5236471121439313,
          0.5225232710256515,
          0.5216181750975476,
          0.5216181750975476,
          0.5209070814301051,
          0.5202739281656235,
          0.5225232710256515,
          0.5218022106843252,
          0.5212859318151711,
          0.5208081773405576,
          0.5212859318151711,
          0.5208657391113362,
          0.5204712719311516,
          0.5200992065002465,
          0.5200992065002465,
          0.5218022106843252,
          0.5214654695038596,
          0.521162205349575,
          0.5208750500287409,
          0.5205985406432242,
          0.5208750500287409,
          0.5206255184990004,
          0.521162205349575,
          0.5209371188967796,
          0.5214654695038596,
          0.5212271861673456,
          0.5212271861673456,
          0.5210224091230506,
          0.5208378986131564,
          0.5206270919190052,
          0.5210224091230506,
          0.5208403911290492,
          0.5206709792398103,
          0.5206709792398103,
          0.5208403911290492,
          0.9130721228543575,
          0.9122466955764217,
          0.9121005246865335,
          0.9119867319213949,
          0.9119867319213949,
          0.9118810122747952,
          0.9121005246865335,
          0.9122466955764217
         ]
        }
       ],
       "layout": {
        "template": {
         "data": {
          "bar": [
           {
            "error_x": {
             "color": "#2a3f5f"
            },
            "error_y": {
             "color": "#2a3f5f"
            },
            "marker": {
             "line": {
              "color": "#E5ECF6",
              "width": 0.5
             },
             "pattern": {
              "fillmode": "overlay",
              "size": 10,
              "solidity": 0.2
             }
            },
            "type": "bar"
           }
          ],
          "barpolar": [
           {
            "marker": {
             "line": {
              "color": "#E5ECF6",
              "width": 0.5
             },
             "pattern": {
              "fillmode": "overlay",
              "size": 10,
              "solidity": 0.2
             }
            },
            "type": "barpolar"
           }
          ],
          "carpet": [
           {
            "aaxis": {
             "endlinecolor": "#2a3f5f",
             "gridcolor": "white",
             "linecolor": "white",
             "minorgridcolor": "white",
             "startlinecolor": "#2a3f5f"
            },
            "baxis": {
             "endlinecolor": "#2a3f5f",
             "gridcolor": "white",
             "linecolor": "white",
             "minorgridcolor": "white",
             "startlinecolor": "#2a3f5f"
            },
            "type": "carpet"
           }
          ],
          "choropleth": [
           {
            "colorbar": {
             "outlinewidth": 0,
             "ticks": ""
            },
            "type": "choropleth"
           }
          ],
          "contour": [
           {
            "colorbar": {
             "outlinewidth": 0,
             "ticks": ""
            },
            "colorscale": [
             [
              0,
              "#0d0887"
             ],
             [
              0.1111111111111111,
              "#46039f"
             ],
             [
              0.2222222222222222,
              "#7201a8"
             ],
             [
              0.3333333333333333,
              "#9c179e"
             ],
             [
              0.4444444444444444,
              "#bd3786"
             ],
             [
              0.5555555555555556,
              "#d8576b"
             ],
             [
              0.6666666666666666,
              "#ed7953"
             ],
             [
              0.7777777777777778,
              "#fb9f3a"
             ],
             [
              0.8888888888888888,
              "#fdca26"
             ],
             [
              1,
              "#f0f921"
             ]
            ],
            "type": "contour"
           }
          ],
          "contourcarpet": [
           {
            "colorbar": {
             "outlinewidth": 0,
             "ticks": ""
            },
            "type": "contourcarpet"
           }
          ],
          "heatmap": [
           {
            "colorbar": {
             "outlinewidth": 0,
             "ticks": ""
            },
            "colorscale": [
             [
              0,
              "#0d0887"
             ],
             [
              0.1111111111111111,
              "#46039f"
             ],
             [
              0.2222222222222222,
              "#7201a8"
             ],
             [
              0.3333333333333333,
              "#9c179e"
             ],
             [
              0.4444444444444444,
              "#bd3786"
             ],
             [
              0.5555555555555556,
              "#d8576b"
             ],
             [
              0.6666666666666666,
              "#ed7953"
             ],
             [
              0.7777777777777778,
              "#fb9f3a"
             ],
             [
              0.8888888888888888,
              "#fdca26"
             ],
             [
              1,
              "#f0f921"
             ]
            ],
            "type": "heatmap"
           }
          ],
          "heatmapgl": [
           {
            "colorbar": {
             "outlinewidth": 0,
             "ticks": ""
            },
            "colorscale": [
             [
              0,
              "#0d0887"
             ],
             [
              0.1111111111111111,
              "#46039f"
             ],
             [
              0.2222222222222222,
              "#7201a8"
             ],
             [
              0.3333333333333333,
              "#9c179e"
             ],
             [
              0.4444444444444444,
              "#bd3786"
             ],
             [
              0.5555555555555556,
              "#d8576b"
             ],
             [
              0.6666666666666666,
              "#ed7953"
             ],
             [
              0.7777777777777778,
              "#fb9f3a"
             ],
             [
              0.8888888888888888,
              "#fdca26"
             ],
             [
              1,
              "#f0f921"
             ]
            ],
            "type": "heatmapgl"
           }
          ],
          "histogram": [
           {
            "marker": {
             "pattern": {
              "fillmode": "overlay",
              "size": 10,
              "solidity": 0.2
             }
            },
            "type": "histogram"
           }
          ],
          "histogram2d": [
           {
            "colorbar": {
             "outlinewidth": 0,
             "ticks": ""
            },
            "colorscale": [
             [
              0,
              "#0d0887"
             ],
             [
              0.1111111111111111,
              "#46039f"
             ],
             [
              0.2222222222222222,
              "#7201a8"
             ],
             [
              0.3333333333333333,
              "#9c179e"
             ],
             [
              0.4444444444444444,
              "#bd3786"
             ],
             [
              0.5555555555555556,
              "#d8576b"
             ],
             [
              0.6666666666666666,
              "#ed7953"
             ],
             [
              0.7777777777777778,
              "#fb9f3a"
             ],
             [
              0.8888888888888888,
              "#fdca26"
             ],
             [
              1,
              "#f0f921"
             ]
            ],
            "type": "histogram2d"
           }
          ],
          "histogram2dcontour": [
           {
            "colorbar": {
             "outlinewidth": 0,
             "ticks": ""
            },
            "colorscale": [
             [
              0,
              "#0d0887"
             ],
             [
              0.1111111111111111,
              "#46039f"
             ],
             [
              0.2222222222222222,
              "#7201a8"
             ],
             [
              0.3333333333333333,
              "#9c179e"
             ],
             [
              0.4444444444444444,
              "#bd3786"
             ],
             [
              0.5555555555555556,
              "#d8576b"
             ],
             [
              0.6666666666666666,
              "#ed7953"
             ],
             [
              0.7777777777777778,
              "#fb9f3a"
             ],
             [
              0.8888888888888888,
              "#fdca26"
             ],
             [
              1,
              "#f0f921"
             ]
            ],
            "type": "histogram2dcontour"
           }
          ],
          "mesh3d": [
           {
            "colorbar": {
             "outlinewidth": 0,
             "ticks": ""
            },
            "type": "mesh3d"
           }
          ],
          "parcoords": [
           {
            "line": {
             "colorbar": {
              "outlinewidth": 0,
              "ticks": ""
             }
            },
            "type": "parcoords"
           }
          ],
          "pie": [
           {
            "automargin": true,
            "type": "pie"
           }
          ],
          "scatter": [
           {
            "fillpattern": {
             "fillmode": "overlay",
             "size": 10,
             "solidity": 0.2
            },
            "type": "scatter"
           }
          ],
          "scatter3d": [
           {
            "line": {
             "colorbar": {
              "outlinewidth": 0,
              "ticks": ""
             }
            },
            "marker": {
             "colorbar": {
              "outlinewidth": 0,
              "ticks": ""
             }
            },
            "type": "scatter3d"
           }
          ],
          "scattercarpet": [
           {
            "marker": {
             "colorbar": {
              "outlinewidth": 0,
              "ticks": ""
             }
            },
            "type": "scattercarpet"
           }
          ],
          "scattergeo": [
           {
            "marker": {
             "colorbar": {
              "outlinewidth": 0,
              "ticks": ""
             }
            },
            "type": "scattergeo"
           }
          ],
          "scattergl": [
           {
            "marker": {
             "colorbar": {
              "outlinewidth": 0,
              "ticks": ""
             }
            },
            "type": "scattergl"
           }
          ],
          "scattermapbox": [
           {
            "marker": {
             "colorbar": {
              "outlinewidth": 0,
              "ticks": ""
             }
            },
            "type": "scattermapbox"
           }
          ],
          "scatterpolar": [
           {
            "marker": {
             "colorbar": {
              "outlinewidth": 0,
              "ticks": ""
             }
            },
            "type": "scatterpolar"
           }
          ],
          "scatterpolargl": [
           {
            "marker": {
             "colorbar": {
              "outlinewidth": 0,
              "ticks": ""
             }
            },
            "type": "scatterpolargl"
           }
          ],
          "scatterternary": [
           {
            "marker": {
             "colorbar": {
              "outlinewidth": 0,
              "ticks": ""
             }
            },
            "type": "scatterternary"
           }
          ],
          "surface": [
           {
            "colorbar": {
             "outlinewidth": 0,
             "ticks": ""
            },
            "colorscale": [
             [
              0,
              "#0d0887"
             ],
             [
              0.1111111111111111,
              "#46039f"
             ],
             [
              0.2222222222222222,
              "#7201a8"
             ],
             [
              0.3333333333333333,
              "#9c179e"
             ],
             [
              0.4444444444444444,
              "#bd3786"
             ],
             [
              0.5555555555555556,
              "#d8576b"
             ],
             [
              0.6666666666666666,
              "#ed7953"
             ],
             [
              0.7777777777777778,
              "#fb9f3a"
             ],
             [
              0.8888888888888888,
              "#fdca26"
             ],
             [
              1,
              "#f0f921"
             ]
            ],
            "type": "surface"
           }
          ],
          "table": [
           {
            "cells": {
             "fill": {
              "color": "#EBF0F8"
             },
             "line": {
              "color": "white"
             }
            },
            "header": {
             "fill": {
              "color": "#C8D4E3"
             },
             "line": {
              "color": "white"
             }
            },
            "type": "table"
           }
          ]
         },
         "layout": {
          "annotationdefaults": {
           "arrowcolor": "#2a3f5f",
           "arrowhead": 0,
           "arrowwidth": 1
          },
          "autotypenumbers": "strict",
          "coloraxis": {
           "colorbar": {
            "outlinewidth": 0,
            "ticks": ""
           }
          },
          "colorscale": {
           "diverging": [
            [
             0,
             "#8e0152"
            ],
            [
             0.1,
             "#c51b7d"
            ],
            [
             0.2,
             "#de77ae"
            ],
            [
             0.3,
             "#f1b6da"
            ],
            [
             0.4,
             "#fde0ef"
            ],
            [
             0.5,
             "#f7f7f7"
            ],
            [
             0.6,
             "#e6f5d0"
            ],
            [
             0.7,
             "#b8e186"
            ],
            [
             0.8,
             "#7fbc41"
            ],
            [
             0.9,
             "#4d9221"
            ],
            [
             1,
             "#276419"
            ]
           ],
           "sequential": [
            [
             0,
             "#0d0887"
            ],
            [
             0.1111111111111111,
             "#46039f"
            ],
            [
             0.2222222222222222,
             "#7201a8"
            ],
            [
             0.3333333333333333,
             "#9c179e"
            ],
            [
             0.4444444444444444,
             "#bd3786"
            ],
            [
             0.5555555555555556,
             "#d8576b"
            ],
            [
             0.6666666666666666,
             "#ed7953"
            ],
            [
             0.7777777777777778,
             "#fb9f3a"
            ],
            [
             0.8888888888888888,
             "#fdca26"
            ],
            [
             1,
             "#f0f921"
            ]
           ],
           "sequentialminus": [
            [
             0,
             "#0d0887"
            ],
            [
             0.1111111111111111,
             "#46039f"
            ],
            [
             0.2222222222222222,
             "#7201a8"
            ],
            [
             0.3333333333333333,
             "#9c179e"
            ],
            [
             0.4444444444444444,
             "#bd3786"
            ],
            [
             0.5555555555555556,
             "#d8576b"
            ],
            [
             0.6666666666666666,
             "#ed7953"
            ],
            [
             0.7777777777777778,
             "#fb9f3a"
            ],
            [
             0.8888888888888888,
             "#fdca26"
            ],
            [
             1,
             "#f0f921"
            ]
           ]
          },
          "colorway": [
           "#636efa",
           "#EF553B",
           "#00cc96",
           "#ab63fa",
           "#FFA15A",
           "#19d3f3",
           "#FF6692",
           "#B6E880",
           "#FF97FF",
           "#FECB52"
          ],
          "font": {
           "color": "#2a3f5f"
          },
          "geo": {
           "bgcolor": "white",
           "lakecolor": "white",
           "landcolor": "#E5ECF6",
           "showlakes": true,
           "showland": true,
           "subunitcolor": "white"
          },
          "hoverlabel": {
           "align": "left"
          },
          "hovermode": "closest",
          "mapbox": {
           "style": "light"
          },
          "paper_bgcolor": "white",
          "plot_bgcolor": "#E5ECF6",
          "polar": {
           "angularaxis": {
            "gridcolor": "white",
            "linecolor": "white",
            "ticks": ""
           },
           "bgcolor": "#E5ECF6",
           "radialaxis": {
            "gridcolor": "white",
            "linecolor": "white",
            "ticks": ""
           }
          },
          "scene": {
           "xaxis": {
            "backgroundcolor": "#E5ECF6",
            "gridcolor": "white",
            "gridwidth": 2,
            "linecolor": "white",
            "showbackground": true,
            "ticks": "",
            "zerolinecolor": "white"
           },
           "yaxis": {
            "backgroundcolor": "#E5ECF6",
            "gridcolor": "white",
            "gridwidth": 2,
            "linecolor": "white",
            "showbackground": true,
            "ticks": "",
            "zerolinecolor": "white"
           },
           "zaxis": {
            "backgroundcolor": "#E5ECF6",
            "gridcolor": "white",
            "gridwidth": 2,
            "linecolor": "white",
            "showbackground": true,
            "ticks": "",
            "zerolinecolor": "white"
           }
          },
          "shapedefaults": {
           "line": {
            "color": "#2a3f5f"
           }
          },
          "ternary": {
           "aaxis": {
            "gridcolor": "white",
            "linecolor": "white",
            "ticks": ""
           },
           "baxis": {
            "gridcolor": "white",
            "linecolor": "white",
            "ticks": ""
           },
           "bgcolor": "#E5ECF6",
           "caxis": {
            "gridcolor": "white",
            "linecolor": "white",
            "ticks": ""
           }
          },
          "title": {
           "x": 0.05
          },
          "xaxis": {
           "automargin": true,
           "gridcolor": "white",
           "linecolor": "white",
           "ticks": "",
           "title": {
            "standoff": 15
           },
           "zerolinecolor": "white",
           "zerolinewidth": 2
          },
          "yaxis": {
           "automargin": true,
           "gridcolor": "white",
           "linecolor": "white",
           "ticks": "",
           "title": {
            "standoff": 15
           },
           "zerolinecolor": "white",
           "zerolinewidth": 2
          }
         }
        },
        "title": {
         "text": "TREEplus_tree"
        }
       }
      }
     },
     "metadata": {},
     "output_type": "display_data"
    }
   ],
   "source": [
    "tree.print_tree(table = False, html = False, visual_pruning = True)#.style.hide_index()"
   ]
  },
  {
   "cell_type": "code",
   "execution_count": 25,
   "metadata": {},
   "outputs": [
    {
     "data": {
      "application/vnd.plotly.v1+json": {
       "config": {
        "plotlyServerURL": "https://plot.ly"
       },
       "data": [
        {
         "hoverinfo": "none",
         "line": {
          "color": "rgb(210,210,210)",
          "width": 1
         },
         "mode": "lines",
         "type": "scatter",
         "x": [
          0,
          -191.75,
          null,
          0,
          191.75,
          null,
          -191.75,
          -319.75,
          null,
          -191.75,
          -63.75,
          null,
          191.75,
          127.75,
          null,
          191.75,
          255.75,
          null,
          -319.75,
          -383.75,
          null,
          -319.75,
          -255.75,
          null,
          -63.75,
          -127.75,
          null,
          -63.75,
          0.25,
          null,
          -383.75,
          -415.75,
          null,
          -383.75,
          -351.75,
          null,
          -127.75,
          -159.75,
          null,
          -127.75,
          -95.75,
          null,
          0.25,
          -31.75,
          null,
          0.25,
          32.25,
          null,
          -351.75,
          -367.75,
          null,
          -351.75,
          -335.75,
          null,
          -159.75,
          -175.75,
          null,
          -159.75,
          -143.75,
          null,
          -31.75,
          -47.75,
          null,
          -31.75,
          -15.75,
          null,
          32.25,
          16.25,
          null,
          32.25,
          48.25,
          null,
          -367.75,
          -375.75,
          null,
          -367.75,
          -359.75,
          null,
          -335.75,
          -343.75,
          null,
          -335.75,
          -327.75,
          null,
          -175.75,
          -183.75,
          null,
          -175.75,
          -167.75,
          null,
          48.25,
          40.25,
          null,
          48.25,
          56.25,
          null,
          -359.75,
          -363.75,
          null,
          -359.75,
          -355.75,
          null,
          56.25,
          52.25,
          null,
          56.25,
          60.25,
          null,
          -355.75,
          -357.75,
          null,
          -355.75,
          -353.75,
          null,
          60.25,
          58.25,
          null,
          60.25,
          62.25,
          null,
          58.25,
          57.25,
          null,
          58.25,
          59.25,
          null,
          62.25,
          61.25,
          null,
          62.25,
          63.25,
          null,
          57.25,
          56.75,
          null,
          57.25,
          57.75,
          null,
          63.25,
          62.75,
          null,
          63.25,
          63.75,
          null
         ],
         "y": [
          1,
          0.9130721228543575,
          null,
          1,
          0.9130721228543575,
          null,
          0.9130721228543575,
          0.5275028163167672,
          null,
          0.9130721228543575,
          0.5275028163167672,
          null,
          0.9130721228543575,
          0.9122466955764217,
          null,
          0.9130721228543575,
          0.9122466955764217,
          null,
          0.5275028163167672,
          0.4818075230267197,
          null,
          0.5275028163167672,
          0.4818075230267197,
          null,
          0.5275028163167672,
          0.5236471121439313,
          null,
          0.5275028163167672,
          0.5236471121439313,
          null,
          0.4818075230267197,
          0.4548965730565614,
          null,
          0.4818075230267197,
          0.4548965730565614,
          null,
          0.5236471121439313,
          0.5217518174142693,
          null,
          0.5236471121439313,
          0.5217518174142693,
          null,
          0.5236471121439313,
          0.5225232710256515,
          null,
          0.5236471121439313,
          0.5225232710256515,
          null,
          0.4548965730565614,
          0.43749045295765365,
          null,
          0.4548965730565614,
          0.43749045295765365,
          null,
          0.5217518174142693,
          0.5201636600145426,
          null,
          0.5217518174142693,
          0.5201636600145426,
          null,
          0.5225232710256515,
          0.5216181750975476,
          null,
          0.5225232710256515,
          0.5216181750975476,
          null,
          0.5225232710256515,
          0.5218022106843252,
          null,
          0.5225232710256515,
          0.5218022106843252,
          null,
          0.43749045295765365,
          0.42504986872076156,
          null,
          0.43749045295765365,
          0.42504986872076156,
          null,
          0.43749045295765365,
          0.4335217245088633,
          null,
          0.43749045295765365,
          0.4335217245088633,
          null,
          0.5201636600145426,
          0.5187101877378637,
          null,
          0.5201636600145426,
          0.5187101877378637,
          null,
          0.5218022106843252,
          0.5214654695038596,
          null,
          0.5218022106843252,
          0.5214654695038596,
          null,
          0.42504986872076156,
          0.41785727117451643,
          null,
          0.42504986872076156,
          0.41785727117451643,
          null,
          0.5214654695038596,
          0.5212271861673456,
          null,
          0.5214654695038596,
          0.5212271861673456,
          null,
          0.41785727117451643,
          0.4131554889897576,
          null,
          0.41785727117451643,
          0.4131554889897576,
          null,
          0.5212271861673456,
          0.5210224091230506,
          null,
          0.5212271861673456,
          0.5210224091230506,
          null,
          0.5210224091230506,
          0.5208378986131564,
          null,
          0.5210224091230506,
          0.5208378986131564,
          null,
          0.5210224091230506,
          0.5208403911290492,
          null,
          0.5210224091230506,
          0.5208403911290492,
          null,
          0.5208378986131564,
          0.5206270919190052,
          null,
          0.5208378986131564,
          0.5206270919190052,
          null,
          0.5208403911290492,
          0.5206631093260432,
          null,
          0.5208403911290492,
          0.5206631093260432,
          null
         ]
        },
        {
         "hoverinfo": "text",
         "marker": {
          "color": "#6175c1",
          "line": {
           "color": "rgb(50,50,50)",
           "width": 1
          },
          "size": 18,
          "symbol": "circle-dot"
         },
         "mode": "markers",
         "name": "Nodes",
         "opacity": 0.8,
         "text": [
          "n16, Class: {1: 0.62, 2: 0.02, 3: 0.08, 4: 0.27}, gini : 0.53, Samples : 624",
          "n278, Class: {1: 0.02, 2: 0.03, 3: 0.49, 4: 0.46}, gini : 0.55, Samples : 1000",
          "n279, Class: {1: 0.02, 2: 0.01, 3: 0.39, 4: 0.57}, gini : 0.51, Samples : 816",
          "n70, Class: {1: 0.03, 2: 0.01, 3: 0.47, 4: 0.49}, gini : 0.53, Samples : 573",
          "n71, Class: {1: 0.04, 2: 0.03, 3: 0.74, 4: 0.19}, gini : 0.41, Samples : 792",
          "n41, Class: {1: 0.4, 2: 0.04, 3: 0.04, 4: 0.53}, gini : 0.56, Samples : 616",
          "n80, Class: {1: 0.61, 2: 0.02, 3: 0.12, 4: 0.26}, gini : 0.55, Samples : 691",
          "n765, Class: {1: 0.01, 2: 0.01, 3: 0.17, 4: 0.81}, gini : 0.31, Samples : 620",
          "n1528, Class: {1: 0.01, 2: 0.03, 3: 0.55, 4: 0.41}, gini : 0.53, Samples : 750",
          "n1534, Class: {1: 0.02, 2: 0.02, 3: 0.54, 4: 0.43}, gini : 0.53, Samples : 825",
          "n1535, Class: {1: 0.01, 2: 0.0, 3: 0.14, 4: 0.85}, gini : 0.26, Samples : 1289",
          "n1, car_ownership in ('car_ownership0',), Class:{1: 0.18, 2: 0.03, 3: 0.35, 4: 0.44}, gini : 0.65, Samples: 76103",
          "n2, trafficperc_group in ('0low_traffic', '1mediumlow_traffic', '2medium_traffic'), Class:{1: 0.14, 2: 0.02, 3: 0.24, 4: 0.59}, gini : 0.57, Samples: 53924",
          "n4, drivingcharge_group in ('high_charge',), Class:{1: 0.09, 2: 0.03, 3: 0.57, 4: 0.31}, gini : 0.57, Samples: 10509",
          "n8, distance_group in ('distance04', 'distance05', 'distance06', 'distance07', 'distance08', 'distance09', 'distance10', 'distance11'), Class:{1: 0.09, 2: 0.03, 3: 0.45, 4: 0.42}, gini : 0.6, Samples: 6565",
          "n17, driving_license in ('driving_license0',), Class:{1: 0.03, 2: 0.03, 3: 0.49, 4: 0.44}, gini : 0.56, Samples: 5941",
          "n34, purpose in ('purpose2', 'purpose3', 'purpose4', 'purpose5'), Class:{1: 0.03, 2: 0.04, 3: 0.45, 4: 0.48}, gini : 0.56, Samples: 4576",
          "n68, Class: {1: 0.02, 2: 0.06, 3: 0.57, 4: 0.35}, gini : 0.55, Samples : 1481",
          "n69, cost_group in ('high_cost', 'medium_cost'), Class:{1: 0.04, 2: 0.03, 3: 0.4, 4: 0.54}, gini : 0.55, Samples: 3095",
          "n138, Class: {1: 0.07, 2: 0.03, 3: 0.33, 4: 0.57}, gini : 0.56, Samples : 1279",
          "n139, trafficperc_group in ('3mediumhigh_traffic',), Class:{1: 0.02, 2: 0.02, 3: 0.44, 4: 0.51}, gini : 0.54, Samples: 1816",
          "n35, faretype in ('faretype1', 'faretype2', 'faretype4'), Class:{1: 0.04, 2: 0.02, 3: 0.63, 4: 0.32}, gini : 0.5, Samples: 1365",
          "n9, Class: {1: 0.08, 2: 0.04, 3: 0.77, 4: 0.11}, gini : 0.38, Samples : 3944",
          "n5, distance_group in ('distance03', 'distance04', 'distance05', 'distance06', 'distance07', 'distance08', 'distance09', 'distance10', 'distance11'), Class:{1: 0.15, 2: 0.02, 3: 0.16, 4: 0.66}, gini : 0.51, Samples: 43415",
          "n10, distance_group in ('distance01',), Class:{1: 0.59, 2: 0.03, 3: 0.04, 4: 0.35}, gini : 0.53, Samples: 5834",
          "n20, day_of_week in ('day_of_week6', 'day_of_week7'), Class:{1: 0.46, 2: 0.03, 3: 0.06, 4: 0.45}, gini : 0.58, Samples: 2543",
          "n40, driving_license in ('driving_license1',), Class:{1: 0.47, 2: 0.03, 3: 0.07, 4: 0.43}, gini : 0.58, Samples: 1927",
          "n81, Class: {1: 0.4, 2: 0.03, 3: 0.04, 4: 0.53}, gini : 0.56, Samples : 1236",
          "n21, Class: {1: 0.7, 2: 0.03, 3: 0.02, 4: 0.26}, gini : 0.45, Samples : 3291",
          "n11, faretype in ('faretype1', 'faretype5'), Class:{1: 0.08, 2: 0.02, 3: 0.18, 4: 0.71}, gini : 0.45, Samples: 37581",
          "n22, purpose in ('purpose1', 'purpose3', 'purpose4', 'purpose5'), Class:{1: 0.13, 2: 0.03, 3: 0.37, 4: 0.48}, gini : 0.62, Samples: 4575",
          "n44, Class: {1: 0.16, 2: 0.02, 3: 0.55, 4: 0.27}, gini : 0.6, Samples : 1639",
          "n45, Class: {1: 0.11, 2: 0.03, 3: 0.26, 4: 0.6}, gini : 0.56, Samples : 2936",
          "n23, distance_group in ('distance05', 'distance06', 'distance07', 'distance08', 'distance09', 'distance10', 'distance11'), Class:{1: 0.08, 2: 0.02, 3: 0.16, 4: 0.74}, gini : 0.42, Samples: 33006",
          "n46, Class: {1: 0.25, 2: 0.03, 3: 0.08, 4: 0.64}, gini : 0.52, Samples : 7129",
          "n47, distance_group in ('distance07', 'distance08', 'distance09', 'distance10', 'distance11'), Class:{1: 0.03, 2: 0.02, 3: 0.18, 4: 0.77}, gini : 0.37, Samples: 25877",
          "n94, Class: {1: 0.08, 2: 0.02, 3: 0.13, 4: 0.77}, gini : 0.38, Samples : 8678",
          "n95, costdrivingfuel_group in ('costdrivingfuelgroup5', 'costdrivingfuelgroup6', 'costdrivingfuelgroup7', 'costdrivingfuelgroup8', 'costdrivingfuelgroup9'), Class:{1: 0.01, 2: 0.02, 3: 0.21, 4: 0.77}, gini : 0.37, Samples: 17199",
          "n190, Class: {2: 0.0, 3: 0.41, 4: 0.59}, gini : 0.48, Samples : 1483",
          "n191, age_group in ('age_group0-18', 'age_group31-65'), Class:{1: 0.01, 2: 0.02, 3: 0.19, 4: 0.79}, gini : 0.35, Samples: 15716",
          "n382, day_of_week in ('day_of_week7',), Class:{1: 0.01, 2: 0.02, 3: 0.26, 4: 0.71}, gini : 0.42, Samples: 4285",
          "n764, driving_license in ('driving_license1',), Class:{1: 0.01, 2: 0.02, 3: 0.28, 4: 0.7}, gini : 0.44, Samples: 3665",
          "n1529, Class: {1: 0.01, 2: 0.01, 3: 0.21, 4: 0.77}, gini : 0.36, Samples : 2915",
          "n383, driving_license in ('driving_license0',), Class:{1: 0.01, 2: 0.02, 3: 0.16, 4: 0.81}, gini : 0.31, Samples: 11431",
          "n766, Class: {1: 0.01, 2: 0.02, 3: 0.13, 4: 0.84}, gini : 0.28, Samples : 9317",
          "n767, faretype in ('faretype5',), Class:{1: 0.01, 2: 0.01, 3: 0.3, 4: 0.69}, gini : 0.44, Samples: 2114",
          "n3, distance_group in ('distance04', 'distance05', 'distance06', 'distance07', 'distance08', 'distance09', 'distance10', 'distance11'), Class:{1: 0.26, 2: 0.04, 3: 0.62, 4: 0.08}, gini : 0.54, Samples: 22179",
          "n6, Class: {1: 0.73, 2: 0.03, 3: 0.2, 4: 0.05}, gini : 0.43, Samples : 5872",
          "n7, Class: {1: 0.1, 2: 0.05, 3: 0.77, 4: 0.09}, gini : 0.39, Samples : 16307"
         ],
         "type": "scatter",
         "x": [
          -415.75,
          -357.75,
          -353.75,
          -343.75,
          -327.75,
          -143.75,
          -183.75,
          59.25,
          56.75,
          62.75,
          63.75,
          0,
          -191.75,
          -319.75,
          -383.75,
          -351.75,
          -367.75,
          -375.75,
          -359.75,
          -363.75,
          -355.75,
          -335.75,
          -255.75,
          -63.75,
          -127.75,
          -159.75,
          -175.75,
          -167.75,
          -95.75,
          0.25,
          -31.75,
          -47.75,
          -15.75,
          32.25,
          16.25,
          48.25,
          40.25,
          56.25,
          52.25,
          60.25,
          58.25,
          57.25,
          57.75,
          62.25,
          61.25,
          63.25,
          191.75,
          127.75,
          255.75
         ],
         "y": [
          0.4548965730565614,
          0.4131554889897576,
          0.4131554889897576,
          0.4335217245088633,
          0.4335217245088633,
          0.5201636600145426,
          0.5187101877378637,
          0.5208378986131564,
          0.5206270919190052,
          0.5206631093260432,
          0.5206631093260432,
          1,
          0.9130721228543575,
          0.5275028163167672,
          0.4818075230267197,
          0.4548965730565614,
          0.43749045295765365,
          0.42504986872076156,
          0.42504986872076156,
          0.41785727117451643,
          0.41785727117451643,
          0.43749045295765365,
          0.4818075230267197,
          0.5275028163167672,
          0.5236471121439313,
          0.5217518174142693,
          0.5201636600145426,
          0.5187101877378637,
          0.5217518174142693,
          0.5236471121439313,
          0.5225232710256515,
          0.5216181750975476,
          0.5216181750975476,
          0.5225232710256515,
          0.5218022106843252,
          0.5218022106843252,
          0.5214654695038596,
          0.5214654695038596,
          0.5212271861673456,
          0.5212271861673456,
          0.5210224091230506,
          0.5208378986131564,
          0.5206270919190052,
          0.5210224091230506,
          0.5208403911290492,
          0.5208403911290492,
          0.9130721228543575,
          0.9122466955764217,
          0.9122466955764217
         ]
        }
       ],
       "layout": {
        "template": {
         "data": {
          "bar": [
           {
            "error_x": {
             "color": "#2a3f5f"
            },
            "error_y": {
             "color": "#2a3f5f"
            },
            "marker": {
             "line": {
              "color": "#E5ECF6",
              "width": 0.5
             },
             "pattern": {
              "fillmode": "overlay",
              "size": 10,
              "solidity": 0.2
             }
            },
            "type": "bar"
           }
          ],
          "barpolar": [
           {
            "marker": {
             "line": {
              "color": "#E5ECF6",
              "width": 0.5
             },
             "pattern": {
              "fillmode": "overlay",
              "size": 10,
              "solidity": 0.2
             }
            },
            "type": "barpolar"
           }
          ],
          "carpet": [
           {
            "aaxis": {
             "endlinecolor": "#2a3f5f",
             "gridcolor": "white",
             "linecolor": "white",
             "minorgridcolor": "white",
             "startlinecolor": "#2a3f5f"
            },
            "baxis": {
             "endlinecolor": "#2a3f5f",
             "gridcolor": "white",
             "linecolor": "white",
             "minorgridcolor": "white",
             "startlinecolor": "#2a3f5f"
            },
            "type": "carpet"
           }
          ],
          "choropleth": [
           {
            "colorbar": {
             "outlinewidth": 0,
             "ticks": ""
            },
            "type": "choropleth"
           }
          ],
          "contour": [
           {
            "colorbar": {
             "outlinewidth": 0,
             "ticks": ""
            },
            "colorscale": [
             [
              0,
              "#0d0887"
             ],
             [
              0.1111111111111111,
              "#46039f"
             ],
             [
              0.2222222222222222,
              "#7201a8"
             ],
             [
              0.3333333333333333,
              "#9c179e"
             ],
             [
              0.4444444444444444,
              "#bd3786"
             ],
             [
              0.5555555555555556,
              "#d8576b"
             ],
             [
              0.6666666666666666,
              "#ed7953"
             ],
             [
              0.7777777777777778,
              "#fb9f3a"
             ],
             [
              0.8888888888888888,
              "#fdca26"
             ],
             [
              1,
              "#f0f921"
             ]
            ],
            "type": "contour"
           }
          ],
          "contourcarpet": [
           {
            "colorbar": {
             "outlinewidth": 0,
             "ticks": ""
            },
            "type": "contourcarpet"
           }
          ],
          "heatmap": [
           {
            "colorbar": {
             "outlinewidth": 0,
             "ticks": ""
            },
            "colorscale": [
             [
              0,
              "#0d0887"
             ],
             [
              0.1111111111111111,
              "#46039f"
             ],
             [
              0.2222222222222222,
              "#7201a8"
             ],
             [
              0.3333333333333333,
              "#9c179e"
             ],
             [
              0.4444444444444444,
              "#bd3786"
             ],
             [
              0.5555555555555556,
              "#d8576b"
             ],
             [
              0.6666666666666666,
              "#ed7953"
             ],
             [
              0.7777777777777778,
              "#fb9f3a"
             ],
             [
              0.8888888888888888,
              "#fdca26"
             ],
             [
              1,
              "#f0f921"
             ]
            ],
            "type": "heatmap"
           }
          ],
          "heatmapgl": [
           {
            "colorbar": {
             "outlinewidth": 0,
             "ticks": ""
            },
            "colorscale": [
             [
              0,
              "#0d0887"
             ],
             [
              0.1111111111111111,
              "#46039f"
             ],
             [
              0.2222222222222222,
              "#7201a8"
             ],
             [
              0.3333333333333333,
              "#9c179e"
             ],
             [
              0.4444444444444444,
              "#bd3786"
             ],
             [
              0.5555555555555556,
              "#d8576b"
             ],
             [
              0.6666666666666666,
              "#ed7953"
             ],
             [
              0.7777777777777778,
              "#fb9f3a"
             ],
             [
              0.8888888888888888,
              "#fdca26"
             ],
             [
              1,
              "#f0f921"
             ]
            ],
            "type": "heatmapgl"
           }
          ],
          "histogram": [
           {
            "marker": {
             "pattern": {
              "fillmode": "overlay",
              "size": 10,
              "solidity": 0.2
             }
            },
            "type": "histogram"
           }
          ],
          "histogram2d": [
           {
            "colorbar": {
             "outlinewidth": 0,
             "ticks": ""
            },
            "colorscale": [
             [
              0,
              "#0d0887"
             ],
             [
              0.1111111111111111,
              "#46039f"
             ],
             [
              0.2222222222222222,
              "#7201a8"
             ],
             [
              0.3333333333333333,
              "#9c179e"
             ],
             [
              0.4444444444444444,
              "#bd3786"
             ],
             [
              0.5555555555555556,
              "#d8576b"
             ],
             [
              0.6666666666666666,
              "#ed7953"
             ],
             [
              0.7777777777777778,
              "#fb9f3a"
             ],
             [
              0.8888888888888888,
              "#fdca26"
             ],
             [
              1,
              "#f0f921"
             ]
            ],
            "type": "histogram2d"
           }
          ],
          "histogram2dcontour": [
           {
            "colorbar": {
             "outlinewidth": 0,
             "ticks": ""
            },
            "colorscale": [
             [
              0,
              "#0d0887"
             ],
             [
              0.1111111111111111,
              "#46039f"
             ],
             [
              0.2222222222222222,
              "#7201a8"
             ],
             [
              0.3333333333333333,
              "#9c179e"
             ],
             [
              0.4444444444444444,
              "#bd3786"
             ],
             [
              0.5555555555555556,
              "#d8576b"
             ],
             [
              0.6666666666666666,
              "#ed7953"
             ],
             [
              0.7777777777777778,
              "#fb9f3a"
             ],
             [
              0.8888888888888888,
              "#fdca26"
             ],
             [
              1,
              "#f0f921"
             ]
            ],
            "type": "histogram2dcontour"
           }
          ],
          "mesh3d": [
           {
            "colorbar": {
             "outlinewidth": 0,
             "ticks": ""
            },
            "type": "mesh3d"
           }
          ],
          "parcoords": [
           {
            "line": {
             "colorbar": {
              "outlinewidth": 0,
              "ticks": ""
             }
            },
            "type": "parcoords"
           }
          ],
          "pie": [
           {
            "automargin": true,
            "type": "pie"
           }
          ],
          "scatter": [
           {
            "fillpattern": {
             "fillmode": "overlay",
             "size": 10,
             "solidity": 0.2
            },
            "type": "scatter"
           }
          ],
          "scatter3d": [
           {
            "line": {
             "colorbar": {
              "outlinewidth": 0,
              "ticks": ""
             }
            },
            "marker": {
             "colorbar": {
              "outlinewidth": 0,
              "ticks": ""
             }
            },
            "type": "scatter3d"
           }
          ],
          "scattercarpet": [
           {
            "marker": {
             "colorbar": {
              "outlinewidth": 0,
              "ticks": ""
             }
            },
            "type": "scattercarpet"
           }
          ],
          "scattergeo": [
           {
            "marker": {
             "colorbar": {
              "outlinewidth": 0,
              "ticks": ""
             }
            },
            "type": "scattergeo"
           }
          ],
          "scattergl": [
           {
            "marker": {
             "colorbar": {
              "outlinewidth": 0,
              "ticks": ""
             }
            },
            "type": "scattergl"
           }
          ],
          "scattermapbox": [
           {
            "marker": {
             "colorbar": {
              "outlinewidth": 0,
              "ticks": ""
             }
            },
            "type": "scattermapbox"
           }
          ],
          "scatterpolar": [
           {
            "marker": {
             "colorbar": {
              "outlinewidth": 0,
              "ticks": ""
             }
            },
            "type": "scatterpolar"
           }
          ],
          "scatterpolargl": [
           {
            "marker": {
             "colorbar": {
              "outlinewidth": 0,
              "ticks": ""
             }
            },
            "type": "scatterpolargl"
           }
          ],
          "scatterternary": [
           {
            "marker": {
             "colorbar": {
              "outlinewidth": 0,
              "ticks": ""
             }
            },
            "type": "scatterternary"
           }
          ],
          "surface": [
           {
            "colorbar": {
             "outlinewidth": 0,
             "ticks": ""
            },
            "colorscale": [
             [
              0,
              "#0d0887"
             ],
             [
              0.1111111111111111,
              "#46039f"
             ],
             [
              0.2222222222222222,
              "#7201a8"
             ],
             [
              0.3333333333333333,
              "#9c179e"
             ],
             [
              0.4444444444444444,
              "#bd3786"
             ],
             [
              0.5555555555555556,
              "#d8576b"
             ],
             [
              0.6666666666666666,
              "#ed7953"
             ],
             [
              0.7777777777777778,
              "#fb9f3a"
             ],
             [
              0.8888888888888888,
              "#fdca26"
             ],
             [
              1,
              "#f0f921"
             ]
            ],
            "type": "surface"
           }
          ],
          "table": [
           {
            "cells": {
             "fill": {
              "color": "#EBF0F8"
             },
             "line": {
              "color": "white"
             }
            },
            "header": {
             "fill": {
              "color": "#C8D4E3"
             },
             "line": {
              "color": "white"
             }
            },
            "type": "table"
           }
          ]
         },
         "layout": {
          "annotationdefaults": {
           "arrowcolor": "#2a3f5f",
           "arrowhead": 0,
           "arrowwidth": 1
          },
          "autotypenumbers": "strict",
          "coloraxis": {
           "colorbar": {
            "outlinewidth": 0,
            "ticks": ""
           }
          },
          "colorscale": {
           "diverging": [
            [
             0,
             "#8e0152"
            ],
            [
             0.1,
             "#c51b7d"
            ],
            [
             0.2,
             "#de77ae"
            ],
            [
             0.3,
             "#f1b6da"
            ],
            [
             0.4,
             "#fde0ef"
            ],
            [
             0.5,
             "#f7f7f7"
            ],
            [
             0.6,
             "#e6f5d0"
            ],
            [
             0.7,
             "#b8e186"
            ],
            [
             0.8,
             "#7fbc41"
            ],
            [
             0.9,
             "#4d9221"
            ],
            [
             1,
             "#276419"
            ]
           ],
           "sequential": [
            [
             0,
             "#0d0887"
            ],
            [
             0.1111111111111111,
             "#46039f"
            ],
            [
             0.2222222222222222,
             "#7201a8"
            ],
            [
             0.3333333333333333,
             "#9c179e"
            ],
            [
             0.4444444444444444,
             "#bd3786"
            ],
            [
             0.5555555555555556,
             "#d8576b"
            ],
            [
             0.6666666666666666,
             "#ed7953"
            ],
            [
             0.7777777777777778,
             "#fb9f3a"
            ],
            [
             0.8888888888888888,
             "#fdca26"
            ],
            [
             1,
             "#f0f921"
            ]
           ],
           "sequentialminus": [
            [
             0,
             "#0d0887"
            ],
            [
             0.1111111111111111,
             "#46039f"
            ],
            [
             0.2222222222222222,
             "#7201a8"
            ],
            [
             0.3333333333333333,
             "#9c179e"
            ],
            [
             0.4444444444444444,
             "#bd3786"
            ],
            [
             0.5555555555555556,
             "#d8576b"
            ],
            [
             0.6666666666666666,
             "#ed7953"
            ],
            [
             0.7777777777777778,
             "#fb9f3a"
            ],
            [
             0.8888888888888888,
             "#fdca26"
            ],
            [
             1,
             "#f0f921"
            ]
           ]
          },
          "colorway": [
           "#636efa",
           "#EF553B",
           "#00cc96",
           "#ab63fa",
           "#FFA15A",
           "#19d3f3",
           "#FF6692",
           "#B6E880",
           "#FF97FF",
           "#FECB52"
          ],
          "font": {
           "color": "#2a3f5f"
          },
          "geo": {
           "bgcolor": "white",
           "lakecolor": "white",
           "landcolor": "#E5ECF6",
           "showlakes": true,
           "showland": true,
           "subunitcolor": "white"
          },
          "hoverlabel": {
           "align": "left"
          },
          "hovermode": "closest",
          "mapbox": {
           "style": "light"
          },
          "paper_bgcolor": "white",
          "plot_bgcolor": "#E5ECF6",
          "polar": {
           "angularaxis": {
            "gridcolor": "white",
            "linecolor": "white",
            "ticks": ""
           },
           "bgcolor": "#E5ECF6",
           "radialaxis": {
            "gridcolor": "white",
            "linecolor": "white",
            "ticks": ""
           }
          },
          "scene": {
           "xaxis": {
            "backgroundcolor": "#E5ECF6",
            "gridcolor": "white",
            "gridwidth": 2,
            "linecolor": "white",
            "showbackground": true,
            "ticks": "",
            "zerolinecolor": "white"
           },
           "yaxis": {
            "backgroundcolor": "#E5ECF6",
            "gridcolor": "white",
            "gridwidth": 2,
            "linecolor": "white",
            "showbackground": true,
            "ticks": "",
            "zerolinecolor": "white"
           },
           "zaxis": {
            "backgroundcolor": "#E5ECF6",
            "gridcolor": "white",
            "gridwidth": 2,
            "linecolor": "white",
            "showbackground": true,
            "ticks": "",
            "zerolinecolor": "white"
           }
          },
          "shapedefaults": {
           "line": {
            "color": "#2a3f5f"
           }
          },
          "ternary": {
           "aaxis": {
            "gridcolor": "white",
            "linecolor": "white",
            "ticks": ""
           },
           "baxis": {
            "gridcolor": "white",
            "linecolor": "white",
            "ticks": ""
           },
           "bgcolor": "#E5ECF6",
           "caxis": {
            "gridcolor": "white",
            "linecolor": "white",
            "ticks": ""
           }
          },
          "title": {
           "x": 0.05
          },
          "xaxis": {
           "automargin": true,
           "gridcolor": "white",
           "linecolor": "white",
           "ticks": "",
           "title": {
            "standoff": 15
           },
           "zerolinecolor": "white",
           "zerolinewidth": 2
          },
          "yaxis": {
           "automargin": true,
           "gridcolor": "white",
           "linecolor": "white",
           "ticks": "",
           "title": {
            "standoff": 15
           },
           "zerolinecolor": "white",
           "zerolinewidth": 2
          }
         }
        },
        "title": {
         "text": "TREEplus_tree"
        }
       }
      }
     },
     "metadata": {},
     "output_type": "display_data"
    }
   ],
   "source": [
    "tree.print_tree(table = False, html = False, merge_leaves = True, visual_pruning = True)"
   ]
  },
  {
   "cell_type": "code",
   "execution_count": 15,
   "metadata": {},
   "outputs": [
    {
     "data": {
      "text/html": [
       "<div>\n",
       "<style scoped>\n",
       "    .dataframe tbody tr th:only-of-type {\n",
       "        vertical-align: middle;\n",
       "    }\n",
       "\n",
       "    .dataframe tbody tr th {\n",
       "        vertical-align: top;\n",
       "    }\n",
       "\n",
       "    .dataframe thead th {\n",
       "        text-align: right;\n",
       "    }\n",
       "</style>\n",
       "<table border=\"1\" class=\"dataframe\">\n",
       "  <thead>\n",
       "    <tr style=\"text-align: right;\">\n",
       "      <th></th>\n",
       "      <th>purpose</th>\n",
       "      <th>fueltype</th>\n",
       "      <th>faretype</th>\n",
       "      <th>bus_scale</th>\n",
       "      <th>travel_month</th>\n",
       "      <th>day_of_week</th>\n",
       "      <th>female</th>\n",
       "      <th>driving_license</th>\n",
       "      <th>car_ownership</th>\n",
       "      <th>pt_interchanges</th>\n",
       "      <th>age_group</th>\n",
       "      <th>distance_group</th>\n",
       "      <th>starttime_group</th>\n",
       "      <th>cost_group</th>\n",
       "      <th>costdrivingfuel_group</th>\n",
       "      <th>trafficperc_group</th>\n",
       "      <th>drivingcharge_group</th>\n",
       "    </tr>\n",
       "  </thead>\n",
       "  <tbody>\n",
       "    <tr>\n",
       "      <th>76103</th>\n",
       "      <td>purpose3</td>\n",
       "      <td>fueltype1</td>\n",
       "      <td>faretype1</td>\n",
       "      <td>bus_scale1.0</td>\n",
       "      <td>travel_month1</td>\n",
       "      <td>day_of_week4</td>\n",
       "      <td>female1</td>\n",
       "      <td>driving_license0</td>\n",
       "      <td>car_ownership1</td>\n",
       "      <td>pt_interchanges1</td>\n",
       "      <td>age_group19-30</td>\n",
       "      <td>distance07</td>\n",
       "      <td>morning</td>\n",
       "      <td>medium_cost</td>\n",
       "      <td>costdrivingfuelgroup7</td>\n",
       "      <td>1mediumlow_traffic</td>\n",
       "      <td>low_charge</td>\n",
       "    </tr>\n",
       "    <tr>\n",
       "      <th>76104</th>\n",
       "      <td>purpose3</td>\n",
       "      <td>fueltype1</td>\n",
       "      <td>faretype1</td>\n",
       "      <td>bus_scale1.0</td>\n",
       "      <td>travel_month1</td>\n",
       "      <td>day_of_week4</td>\n",
       "      <td>female1</td>\n",
       "      <td>driving_license0</td>\n",
       "      <td>car_ownership1</td>\n",
       "      <td>pt_interchanges1</td>\n",
       "      <td>age_group19-30</td>\n",
       "      <td>distance07</td>\n",
       "      <td>afternoon</td>\n",
       "      <td>medium_cost</td>\n",
       "      <td>costdrivingfuelgroup7</td>\n",
       "      <td>1mediumlow_traffic</td>\n",
       "      <td>low_charge</td>\n",
       "    </tr>\n",
       "    <tr>\n",
       "      <th>76105</th>\n",
       "      <td>purpose3</td>\n",
       "      <td>fueltype1</td>\n",
       "      <td>faretype1</td>\n",
       "      <td>bus_scale1.0</td>\n",
       "      <td>travel_month1</td>\n",
       "      <td>day_of_week4</td>\n",
       "      <td>female0</td>\n",
       "      <td>driving_license1</td>\n",
       "      <td>car_ownership1</td>\n",
       "      <td>pt_interchanges1</td>\n",
       "      <td>age_group31-65</td>\n",
       "      <td>distance07</td>\n",
       "      <td>morning</td>\n",
       "      <td>medium_cost</td>\n",
       "      <td>costdrivingfuelgroup7</td>\n",
       "      <td>1mediumlow_traffic</td>\n",
       "      <td>low_charge</td>\n",
       "    </tr>\n",
       "    <tr>\n",
       "      <th>76106</th>\n",
       "      <td>purpose3</td>\n",
       "      <td>fueltype1</td>\n",
       "      <td>faretype1</td>\n",
       "      <td>bus_scale1.0</td>\n",
       "      <td>travel_month1</td>\n",
       "      <td>day_of_week4</td>\n",
       "      <td>female0</td>\n",
       "      <td>driving_license1</td>\n",
       "      <td>car_ownership1</td>\n",
       "      <td>pt_interchanges1</td>\n",
       "      <td>age_group31-65</td>\n",
       "      <td>distance07</td>\n",
       "      <td>afternoon</td>\n",
       "      <td>medium_cost</td>\n",
       "      <td>costdrivingfuelgroup7</td>\n",
       "      <td>1mediumlow_traffic</td>\n",
       "      <td>low_charge</td>\n",
       "    </tr>\n",
       "    <tr>\n",
       "      <th>76107</th>\n",
       "      <td>purpose5</td>\n",
       "      <td>fueltype1</td>\n",
       "      <td>faretype1</td>\n",
       "      <td>bus_scale1.0</td>\n",
       "      <td>travel_month1</td>\n",
       "      <td>day_of_week4</td>\n",
       "      <td>female0</td>\n",
       "      <td>driving_license1</td>\n",
       "      <td>car_ownership2</td>\n",
       "      <td>pt_interchanges0</td>\n",
       "      <td>age_group31-65</td>\n",
       "      <td>distance06</td>\n",
       "      <td>afternoon</td>\n",
       "      <td>low_cost</td>\n",
       "      <td>costdrivingfuelgroup7</td>\n",
       "      <td>0low_traffic</td>\n",
       "      <td>low_charge</td>\n",
       "    </tr>\n",
       "  </tbody>\n",
       "</table>\n",
       "</div>"
      ],
      "text/plain": [
       "        purpose   fueltype   faretype     bus_scale   travel_month  \\\n",
       "76103  purpose3  fueltype1  faretype1  bus_scale1.0  travel_month1   \n",
       "76104  purpose3  fueltype1  faretype1  bus_scale1.0  travel_month1   \n",
       "76105  purpose3  fueltype1  faretype1  bus_scale1.0  travel_month1   \n",
       "76106  purpose3  fueltype1  faretype1  bus_scale1.0  travel_month1   \n",
       "76107  purpose5  fueltype1  faretype1  bus_scale1.0  travel_month1   \n",
       "\n",
       "        day_of_week   female   driving_license   car_ownership  \\\n",
       "76103  day_of_week4  female1  driving_license0  car_ownership1   \n",
       "76104  day_of_week4  female1  driving_license0  car_ownership1   \n",
       "76105  day_of_week4  female0  driving_license1  car_ownership1   \n",
       "76106  day_of_week4  female0  driving_license1  car_ownership1   \n",
       "76107  day_of_week4  female0  driving_license1  car_ownership2   \n",
       "\n",
       "        pt_interchanges       age_group distance_group starttime_group  \\\n",
       "76103  pt_interchanges1  age_group19-30     distance07         morning   \n",
       "76104  pt_interchanges1  age_group19-30     distance07       afternoon   \n",
       "76105  pt_interchanges1  age_group31-65     distance07         morning   \n",
       "76106  pt_interchanges1  age_group31-65     distance07       afternoon   \n",
       "76107  pt_interchanges0  age_group31-65     distance06       afternoon   \n",
       "\n",
       "        cost_group  costdrivingfuel_group   trafficperc_group  \\\n",
       "76103  medium_cost  costdrivingfuelgroup7  1mediumlow_traffic   \n",
       "76104  medium_cost  costdrivingfuelgroup7  1mediumlow_traffic   \n",
       "76105  medium_cost  costdrivingfuelgroup7  1mediumlow_traffic   \n",
       "76106  medium_cost  costdrivingfuelgroup7  1mediumlow_traffic   \n",
       "76107     low_cost  costdrivingfuelgroup7        0low_traffic   \n",
       "\n",
       "      drivingcharge_group  \n",
       "76103          low_charge  \n",
       "76104          low_charge  \n",
       "76105          low_charge  \n",
       "76106          low_charge  \n",
       "76107          low_charge  "
      ]
     },
     "execution_count": 15,
     "metadata": {},
     "output_type": "execute_result"
    }
   ],
   "source": [
    "X_test = X_test.copy()\n",
    "y_test = y_test.copy()\n",
    "\n",
    "X_test['purpose'] = 'purpose' + X_test['purpose'].astype(str)\n",
    "X_test['fueltype'] = 'fueltype' + X_test['fueltype'].astype(str)\n",
    "X_test['faretype'] = 'faretype' + X_test['faretype'].astype(str)\n",
    "X_test['bus_scale'] = 'bus_scale' + X_test['bus_scale'].astype(str)\n",
    "X_test['travel_month'] = 'travel_month' + X_test['travel_month'].astype(str)\n",
    "X_test['day_of_week'] = 'day_of_week' + X_test['day_of_week'].astype(str)\n",
    "X_test['female'] = 'female' + X_test['female'].astype(str)\n",
    "X_test['driving_license'] = 'driving_license' + X_test['driving_license'].astype(str)\n",
    "X_test['car_ownership'] = 'car_ownership' + X_test['car_ownership'].astype(str)\n",
    "X_test['pt_interchanges'] = 'pt_interchanges' + X_test['pt_interchanges'].astype(str)\n",
    "X_test['age_group'] = 'age_group' + X_test['age_group'].astype(str)\n",
    "\n",
    "X_test.head()"
   ]
  },
  {
   "cell_type": "code",
   "execution_count": 16,
   "metadata": {},
   "outputs": [],
   "source": [
    "n_features_test = X_test.copy()\n",
    "features_test = []\n",
    "\n",
    "n_features_test.reset_index(inplace = True, drop = True)\n",
    "y_test.reset_index(inplace = True, drop = True)\n",
    "y_test_list = y_test[\"travel_mode\"].values.tolist()\n"
   ]
  },
  {
   "cell_type": "markdown",
   "metadata": {},
   "source": [
    "pruning not prepared for combination "
   ]
  },
  {
   "cell_type": "code",
   "execution_count": 17,
   "metadata": {},
   "outputs": [
    {
     "data": {
      "text/plain": [
       "travel_mode\n",
       "4    2213\n",
       "3    1738\n",
       "1     901\n",
       "2     131\n",
       "Name: count, dtype: int64"
      ]
     },
     "execution_count": 17,
     "metadata": {},
     "output_type": "execute_result"
    }
   ],
   "source": [
    "y_test['travel_mode'].value_counts()"
   ]
  },
  {
   "cell_type": "markdown",
   "metadata": {},
   "source": [
    "takes a whle for comb to prune, 100min"
   ]
  },
  {
   "cell_type": "code",
   "execution_count": 19,
   "metadata": {},
   "outputs": [
    {
     "name": "stdout",
     "output_type": "stream",
     "text": [
      "To return the table, print_tree must be True\n",
      "Best tree for test set has 22 leaves with misclassification count 1333 \n"
     ]
    },
    {
     "data": {
      "application/vnd.plotly.v1+json": {
       "config": {
        "plotlyServerURL": "https://plot.ly"
       },
       "data": [
        {
         "hoverinfo": "none",
         "line": {
          "color": "rgb(210,210,210)",
          "width": 1
         },
         "mode": "lines",
         "type": "scatter",
         "x": [
          0,
          -191.75,
          null,
          0,
          191.75,
          null,
          -191.75,
          -319.75,
          null,
          -191.75,
          -63.75,
          null,
          191.75,
          127.75,
          null,
          191.75,
          255.75,
          null,
          -319.75,
          -383.75,
          null,
          -319.75,
          -255.75,
          null,
          -63.75,
          -127.75,
          null,
          -63.75,
          0.25,
          null,
          -383.75,
          -415.75,
          null,
          -383.75,
          -351.75,
          null,
          -127.75,
          -159.75,
          null,
          -127.75,
          -95.75,
          null,
          0.25,
          -31.75,
          null,
          0.25,
          32.25,
          null,
          -351.75,
          -367.75,
          null,
          -351.75,
          -335.75,
          null,
          -159.75,
          -175.75,
          null,
          -159.75,
          -143.75,
          null,
          -31.75,
          -47.75,
          null,
          -31.75,
          -15.75,
          null,
          32.25,
          16.25,
          null,
          32.25,
          48.25,
          null,
          -367.75,
          -375.75,
          null,
          -367.75,
          -359.75,
          null,
          -175.75,
          -183.75,
          null,
          -175.75,
          -167.75,
          null,
          48.25,
          40.25,
          null,
          48.25,
          56.25,
          null,
          56.25,
          52.25,
          null,
          56.25,
          60.25,
          null,
          60.25,
          58.25,
          null,
          60.25,
          62.25,
          null,
          58.25,
          57.25,
          null,
          58.25,
          59.25,
          null,
          62.25,
          61.25,
          null,
          62.25,
          63.25,
          null,
          57.25,
          56.75,
          null,
          57.25,
          57.75,
          null,
          63.25,
          62.75,
          null,
          63.25,
          63.75,
          null
         ],
         "y": [
          10,
          9,
          null,
          10,
          9,
          null,
          9,
          8,
          null,
          9,
          8,
          null,
          9,
          8,
          null,
          9,
          8,
          null,
          8,
          7,
          null,
          8,
          7,
          null,
          8,
          7,
          null,
          8,
          7,
          null,
          7,
          6,
          null,
          7,
          6,
          null,
          7,
          6,
          null,
          7,
          6,
          null,
          7,
          6,
          null,
          7,
          6,
          null,
          6,
          5,
          null,
          6,
          5,
          null,
          6,
          5,
          null,
          6,
          5,
          null,
          6,
          5,
          null,
          6,
          5,
          null,
          6,
          5,
          null,
          6,
          5,
          null,
          5,
          4,
          null,
          5,
          4,
          null,
          5,
          4,
          null,
          5,
          4,
          null,
          5,
          4,
          null,
          5,
          4,
          null,
          4,
          3,
          null,
          4,
          3,
          null,
          3,
          2,
          null,
          3,
          2,
          null,
          2,
          1,
          null,
          2,
          1,
          null,
          2,
          1,
          null,
          2,
          1,
          null,
          1,
          0,
          null,
          1,
          0,
          null,
          1,
          0,
          null,
          1,
          0,
          null
         ]
        },
        {
         "hoverinfo": "text",
         "marker": {
          "color": "#6175c1",
          "line": {
           "color": "rgb(50,50,50)",
           "width": 1
          },
          "size": 18,
          "symbol": "circle-dot"
         },
         "mode": "markers",
         "name": "Nodes",
         "opacity": 0.8,
         "text": [
          "n16, Class: {1: 0.62, 2: 0.02, 3: 0.08, 4: 0.27}, gini : 0.53, Samples : 624",
          "n41, Class: {1: 0.4, 2: 0.04, 3: 0.04, 4: 0.53}, gini : 0.56, Samples : 616",
          "n80, Class: {1: 0.61, 2: 0.02, 3: 0.12, 4: 0.26}, gini : 0.55, Samples : 691",
          "n765, Class: {1: 0.01, 2: 0.01, 3: 0.17, 4: 0.81}, gini : 0.31, Samples : 620",
          "n1528, Class: {1: 0.01, 2: 0.03, 3: 0.55, 4: 0.41}, gini : 0.53, Samples : 750",
          "n1534, Class: {1: 0.02, 2: 0.02, 3: 0.54, 4: 0.43}, gini : 0.53, Samples : 825",
          "n1535, Class: {1: 0.01, 2: 0.0, 3: 0.14, 4: 0.85}, gini : 0.26, Samples : 1289",
          "n1, car_ownership in ('car_ownership0',), Class:{1: 0.18, 2: 0.03, 3: 0.35, 4: 0.44}, gini : 0.65, Samples: 76103",
          "n2, trafficperc_group in ('0low_traffic', '1mediumlow_traffic', '2medium_traffic'), Class:{1: 0.14, 2: 0.02, 3: 0.24, 4: 0.59}, gini : 0.57, Samples: 53924",
          "n4, drivingcharge_group in ('high_charge',), Class:{1: 0.09, 2: 0.03, 3: 0.57, 4: 0.31}, gini : 0.57, Samples: 10509",
          "n8, distance_group in ('distance04', 'distance05', 'distance06', 'distance07', 'distance08', 'distance09', 'distance10', 'distance11'), Class:{1: 0.09, 2: 0.03, 3: 0.45, 4: 0.42}, gini : 0.6, Samples: 6565",
          "n17, driving_license in ('driving_license0',), Class:{1: 0.03, 2: 0.03, 3: 0.49, 4: 0.44}, gini : 0.56, Samples: 5941",
          "n34, purpose in ('purpose2', 'purpose3', 'purpose4', 'purpose5'), Class:{1: 0.03, 2: 0.04, 3: 0.45, 4: 0.48}, gini : 0.56, Samples: 4576",
          "n68, Class: {1: 0.02, 2: 0.06, 3: 0.57, 4: 0.35}, gini : 0.55, Samples : 1481",
          "n69, Class: {1: 0.04, 2: 0.03, 3: 0.4, 4: 0.54}, gini : 0.55, Samples : 3095",
          "n35, Class: {1: 0.04, 2: 0.02, 3: 0.63, 4: 0.32}, gini : 0.5, Samples : 1365",
          "n9, Class: {1: 0.08, 2: 0.04, 3: 0.77, 4: 0.11}, gini : 0.38, Samples : 3944",
          "n5, distance_group in ('distance03', 'distance04', 'distance05', 'distance06', 'distance07', 'distance08', 'distance09', 'distance10', 'distance11'), Class:{1: 0.15, 2: 0.02, 3: 0.16, 4: 0.66}, gini : 0.51, Samples: 43415",
          "n10, distance_group in ('distance01',), Class:{1: 0.59, 2: 0.03, 3: 0.04, 4: 0.35}, gini : 0.53, Samples: 5834",
          "n20, day_of_week in ('day_of_week6', 'day_of_week7'), Class:{1: 0.46, 2: 0.03, 3: 0.06, 4: 0.45}, gini : 0.58, Samples: 2543",
          "n40, driving_license in ('driving_license1',), Class:{1: 0.47, 2: 0.03, 3: 0.07, 4: 0.43}, gini : 0.58, Samples: 1927",
          "n81, Class: {1: 0.4, 2: 0.03, 3: 0.04, 4: 0.53}, gini : 0.56, Samples : 1236",
          "n21, Class: {1: 0.7, 2: 0.03, 3: 0.02, 4: 0.26}, gini : 0.45, Samples : 3291",
          "n11, faretype in ('faretype1', 'faretype5'), Class:{1: 0.08, 2: 0.02, 3: 0.18, 4: 0.71}, gini : 0.45, Samples: 37581",
          "n22, purpose in ('purpose1', 'purpose3', 'purpose4', 'purpose5'), Class:{1: 0.13, 2: 0.03, 3: 0.37, 4: 0.48}, gini : 0.62, Samples: 4575",
          "n44, Class: {1: 0.16, 2: 0.02, 3: 0.55, 4: 0.27}, gini : 0.6, Samples : 1639",
          "n45, Class: {1: 0.11, 2: 0.03, 3: 0.26, 4: 0.6}, gini : 0.56, Samples : 2936",
          "n23, distance_group in ('distance05', 'distance06', 'distance07', 'distance08', 'distance09', 'distance10', 'distance11'), Class:{1: 0.08, 2: 0.02, 3: 0.16, 4: 0.74}, gini : 0.42, Samples: 33006",
          "n46, Class: {1: 0.25, 2: 0.03, 3: 0.08, 4: 0.64}, gini : 0.52, Samples : 7129",
          "n47, distance_group in ('distance07', 'distance08', 'distance09', 'distance10', 'distance11'), Class:{1: 0.03, 2: 0.02, 3: 0.18, 4: 0.77}, gini : 0.37, Samples: 25877",
          "n94, Class: {1: 0.08, 2: 0.02, 3: 0.13, 4: 0.77}, gini : 0.38, Samples : 8678",
          "n95, costdrivingfuel_group in ('costdrivingfuelgroup5', 'costdrivingfuelgroup6', 'costdrivingfuelgroup7', 'costdrivingfuelgroup8', 'costdrivingfuelgroup9'), Class:{1: 0.01, 2: 0.02, 3: 0.21, 4: 0.77}, gini : 0.37, Samples: 17199",
          "n190, Class: {2: 0.0, 3: 0.41, 4: 0.59}, gini : 0.48, Samples : 1483",
          "n191, age_group in ('age_group0-18', 'age_group31-65'), Class:{1: 0.01, 2: 0.02, 3: 0.19, 4: 0.79}, gini : 0.35, Samples: 15716",
          "n382, day_of_week in ('day_of_week7',), Class:{1: 0.01, 2: 0.02, 3: 0.26, 4: 0.71}, gini : 0.42, Samples: 4285",
          "n764, driving_license in ('driving_license1',), Class:{1: 0.01, 2: 0.02, 3: 0.28, 4: 0.7}, gini : 0.44, Samples: 3665",
          "n1529, Class: {1: 0.01, 2: 0.01, 3: 0.21, 4: 0.77}, gini : 0.36, Samples : 2915",
          "n383, driving_license in ('driving_license0',), Class:{1: 0.01, 2: 0.02, 3: 0.16, 4: 0.81}, gini : 0.31, Samples: 11431",
          "n766, Class: {1: 0.01, 2: 0.02, 3: 0.13, 4: 0.84}, gini : 0.28, Samples : 9317",
          "n767, faretype in ('faretype5',), Class:{1: 0.01, 2: 0.01, 3: 0.3, 4: 0.69}, gini : 0.44, Samples: 2114",
          "n3, distance_group in ('distance04', 'distance05', 'distance06', 'distance07', 'distance08', 'distance09', 'distance10', 'distance11'), Class:{1: 0.26, 2: 0.04, 3: 0.62, 4: 0.08}, gini : 0.54, Samples: 22179",
          "n6, Class: {1: 0.73, 2: 0.03, 3: 0.2, 4: 0.05}, gini : 0.43, Samples : 5872",
          "n7, Class: {1: 0.1, 2: 0.05, 3: 0.77, 4: 0.09}, gini : 0.39, Samples : 16307"
         ],
         "type": "scatter",
         "x": [
          -415.75,
          -143.75,
          -183.75,
          59.25,
          56.75,
          62.75,
          63.75,
          0,
          -191.75,
          -319.75,
          -383.75,
          -351.75,
          -367.75,
          -375.75,
          -359.75,
          -335.75,
          -255.75,
          -63.75,
          -127.75,
          -159.75,
          -175.75,
          -167.75,
          -95.75,
          0.25,
          -31.75,
          -47.75,
          -15.75,
          32.25,
          16.25,
          48.25,
          40.25,
          56.25,
          52.25,
          60.25,
          58.25,
          57.25,
          57.75,
          62.25,
          61.25,
          63.25,
          191.75,
          127.75,
          255.75
         ],
         "y": [
          6,
          5,
          4,
          1,
          0,
          0,
          0,
          10,
          9,
          8,
          7,
          6,
          5,
          4,
          4,
          5,
          7,
          8,
          7,
          6,
          5,
          4,
          6,
          7,
          6,
          5,
          5,
          6,
          5,
          5,
          4,
          4,
          3,
          3,
          2,
          1,
          0,
          2,
          1,
          1,
          9,
          8,
          8
         ]
        }
       ],
       "layout": {
        "template": {
         "data": {
          "bar": [
           {
            "error_x": {
             "color": "#2a3f5f"
            },
            "error_y": {
             "color": "#2a3f5f"
            },
            "marker": {
             "line": {
              "color": "#E5ECF6",
              "width": 0.5
             },
             "pattern": {
              "fillmode": "overlay",
              "size": 10,
              "solidity": 0.2
             }
            },
            "type": "bar"
           }
          ],
          "barpolar": [
           {
            "marker": {
             "line": {
              "color": "#E5ECF6",
              "width": 0.5
             },
             "pattern": {
              "fillmode": "overlay",
              "size": 10,
              "solidity": 0.2
             }
            },
            "type": "barpolar"
           }
          ],
          "carpet": [
           {
            "aaxis": {
             "endlinecolor": "#2a3f5f",
             "gridcolor": "white",
             "linecolor": "white",
             "minorgridcolor": "white",
             "startlinecolor": "#2a3f5f"
            },
            "baxis": {
             "endlinecolor": "#2a3f5f",
             "gridcolor": "white",
             "linecolor": "white",
             "minorgridcolor": "white",
             "startlinecolor": "#2a3f5f"
            },
            "type": "carpet"
           }
          ],
          "choropleth": [
           {
            "colorbar": {
             "outlinewidth": 0,
             "ticks": ""
            },
            "type": "choropleth"
           }
          ],
          "contour": [
           {
            "colorbar": {
             "outlinewidth": 0,
             "ticks": ""
            },
            "colorscale": [
             [
              0,
              "#0d0887"
             ],
             [
              0.1111111111111111,
              "#46039f"
             ],
             [
              0.2222222222222222,
              "#7201a8"
             ],
             [
              0.3333333333333333,
              "#9c179e"
             ],
             [
              0.4444444444444444,
              "#bd3786"
             ],
             [
              0.5555555555555556,
              "#d8576b"
             ],
             [
              0.6666666666666666,
              "#ed7953"
             ],
             [
              0.7777777777777778,
              "#fb9f3a"
             ],
             [
              0.8888888888888888,
              "#fdca26"
             ],
             [
              1,
              "#f0f921"
             ]
            ],
            "type": "contour"
           }
          ],
          "contourcarpet": [
           {
            "colorbar": {
             "outlinewidth": 0,
             "ticks": ""
            },
            "type": "contourcarpet"
           }
          ],
          "heatmap": [
           {
            "colorbar": {
             "outlinewidth": 0,
             "ticks": ""
            },
            "colorscale": [
             [
              0,
              "#0d0887"
             ],
             [
              0.1111111111111111,
              "#46039f"
             ],
             [
              0.2222222222222222,
              "#7201a8"
             ],
             [
              0.3333333333333333,
              "#9c179e"
             ],
             [
              0.4444444444444444,
              "#bd3786"
             ],
             [
              0.5555555555555556,
              "#d8576b"
             ],
             [
              0.6666666666666666,
              "#ed7953"
             ],
             [
              0.7777777777777778,
              "#fb9f3a"
             ],
             [
              0.8888888888888888,
              "#fdca26"
             ],
             [
              1,
              "#f0f921"
             ]
            ],
            "type": "heatmap"
           }
          ],
          "heatmapgl": [
           {
            "colorbar": {
             "outlinewidth": 0,
             "ticks": ""
            },
            "colorscale": [
             [
              0,
              "#0d0887"
             ],
             [
              0.1111111111111111,
              "#46039f"
             ],
             [
              0.2222222222222222,
              "#7201a8"
             ],
             [
              0.3333333333333333,
              "#9c179e"
             ],
             [
              0.4444444444444444,
              "#bd3786"
             ],
             [
              0.5555555555555556,
              "#d8576b"
             ],
             [
              0.6666666666666666,
              "#ed7953"
             ],
             [
              0.7777777777777778,
              "#fb9f3a"
             ],
             [
              0.8888888888888888,
              "#fdca26"
             ],
             [
              1,
              "#f0f921"
             ]
            ],
            "type": "heatmapgl"
           }
          ],
          "histogram": [
           {
            "marker": {
             "pattern": {
              "fillmode": "overlay",
              "size": 10,
              "solidity": 0.2
             }
            },
            "type": "histogram"
           }
          ],
          "histogram2d": [
           {
            "colorbar": {
             "outlinewidth": 0,
             "ticks": ""
            },
            "colorscale": [
             [
              0,
              "#0d0887"
             ],
             [
              0.1111111111111111,
              "#46039f"
             ],
             [
              0.2222222222222222,
              "#7201a8"
             ],
             [
              0.3333333333333333,
              "#9c179e"
             ],
             [
              0.4444444444444444,
              "#bd3786"
             ],
             [
              0.5555555555555556,
              "#d8576b"
             ],
             [
              0.6666666666666666,
              "#ed7953"
             ],
             [
              0.7777777777777778,
              "#fb9f3a"
             ],
             [
              0.8888888888888888,
              "#fdca26"
             ],
             [
              1,
              "#f0f921"
             ]
            ],
            "type": "histogram2d"
           }
          ],
          "histogram2dcontour": [
           {
            "colorbar": {
             "outlinewidth": 0,
             "ticks": ""
            },
            "colorscale": [
             [
              0,
              "#0d0887"
             ],
             [
              0.1111111111111111,
              "#46039f"
             ],
             [
              0.2222222222222222,
              "#7201a8"
             ],
             [
              0.3333333333333333,
              "#9c179e"
             ],
             [
              0.4444444444444444,
              "#bd3786"
             ],
             [
              0.5555555555555556,
              "#d8576b"
             ],
             [
              0.6666666666666666,
              "#ed7953"
             ],
             [
              0.7777777777777778,
              "#fb9f3a"
             ],
             [
              0.8888888888888888,
              "#fdca26"
             ],
             [
              1,
              "#f0f921"
             ]
            ],
            "type": "histogram2dcontour"
           }
          ],
          "mesh3d": [
           {
            "colorbar": {
             "outlinewidth": 0,
             "ticks": ""
            },
            "type": "mesh3d"
           }
          ],
          "parcoords": [
           {
            "line": {
             "colorbar": {
              "outlinewidth": 0,
              "ticks": ""
             }
            },
            "type": "parcoords"
           }
          ],
          "pie": [
           {
            "automargin": true,
            "type": "pie"
           }
          ],
          "scatter": [
           {
            "fillpattern": {
             "fillmode": "overlay",
             "size": 10,
             "solidity": 0.2
            },
            "type": "scatter"
           }
          ],
          "scatter3d": [
           {
            "line": {
             "colorbar": {
              "outlinewidth": 0,
              "ticks": ""
             }
            },
            "marker": {
             "colorbar": {
              "outlinewidth": 0,
              "ticks": ""
             }
            },
            "type": "scatter3d"
           }
          ],
          "scattercarpet": [
           {
            "marker": {
             "colorbar": {
              "outlinewidth": 0,
              "ticks": ""
             }
            },
            "type": "scattercarpet"
           }
          ],
          "scattergeo": [
           {
            "marker": {
             "colorbar": {
              "outlinewidth": 0,
              "ticks": ""
             }
            },
            "type": "scattergeo"
           }
          ],
          "scattergl": [
           {
            "marker": {
             "colorbar": {
              "outlinewidth": 0,
              "ticks": ""
             }
            },
            "type": "scattergl"
           }
          ],
          "scattermapbox": [
           {
            "marker": {
             "colorbar": {
              "outlinewidth": 0,
              "ticks": ""
             }
            },
            "type": "scattermapbox"
           }
          ],
          "scatterpolar": [
           {
            "marker": {
             "colorbar": {
              "outlinewidth": 0,
              "ticks": ""
             }
            },
            "type": "scatterpolar"
           }
          ],
          "scatterpolargl": [
           {
            "marker": {
             "colorbar": {
              "outlinewidth": 0,
              "ticks": ""
             }
            },
            "type": "scatterpolargl"
           }
          ],
          "scatterternary": [
           {
            "marker": {
             "colorbar": {
              "outlinewidth": 0,
              "ticks": ""
             }
            },
            "type": "scatterternary"
           }
          ],
          "surface": [
           {
            "colorbar": {
             "outlinewidth": 0,
             "ticks": ""
            },
            "colorscale": [
             [
              0,
              "#0d0887"
             ],
             [
              0.1111111111111111,
              "#46039f"
             ],
             [
              0.2222222222222222,
              "#7201a8"
             ],
             [
              0.3333333333333333,
              "#9c179e"
             ],
             [
              0.4444444444444444,
              "#bd3786"
             ],
             [
              0.5555555555555556,
              "#d8576b"
             ],
             [
              0.6666666666666666,
              "#ed7953"
             ],
             [
              0.7777777777777778,
              "#fb9f3a"
             ],
             [
              0.8888888888888888,
              "#fdca26"
             ],
             [
              1,
              "#f0f921"
             ]
            ],
            "type": "surface"
           }
          ],
          "table": [
           {
            "cells": {
             "fill": {
              "color": "#EBF0F8"
             },
             "line": {
              "color": "white"
             }
            },
            "header": {
             "fill": {
              "color": "#C8D4E3"
             },
             "line": {
              "color": "white"
             }
            },
            "type": "table"
           }
          ]
         },
         "layout": {
          "annotationdefaults": {
           "arrowcolor": "#2a3f5f",
           "arrowhead": 0,
           "arrowwidth": 1
          },
          "autotypenumbers": "strict",
          "coloraxis": {
           "colorbar": {
            "outlinewidth": 0,
            "ticks": ""
           }
          },
          "colorscale": {
           "diverging": [
            [
             0,
             "#8e0152"
            ],
            [
             0.1,
             "#c51b7d"
            ],
            [
             0.2,
             "#de77ae"
            ],
            [
             0.3,
             "#f1b6da"
            ],
            [
             0.4,
             "#fde0ef"
            ],
            [
             0.5,
             "#f7f7f7"
            ],
            [
             0.6,
             "#e6f5d0"
            ],
            [
             0.7,
             "#b8e186"
            ],
            [
             0.8,
             "#7fbc41"
            ],
            [
             0.9,
             "#4d9221"
            ],
            [
             1,
             "#276419"
            ]
           ],
           "sequential": [
            [
             0,
             "#0d0887"
            ],
            [
             0.1111111111111111,
             "#46039f"
            ],
            [
             0.2222222222222222,
             "#7201a8"
            ],
            [
             0.3333333333333333,
             "#9c179e"
            ],
            [
             0.4444444444444444,
             "#bd3786"
            ],
            [
             0.5555555555555556,
             "#d8576b"
            ],
            [
             0.6666666666666666,
             "#ed7953"
            ],
            [
             0.7777777777777778,
             "#fb9f3a"
            ],
            [
             0.8888888888888888,
             "#fdca26"
            ],
            [
             1,
             "#f0f921"
            ]
           ],
           "sequentialminus": [
            [
             0,
             "#0d0887"
            ],
            [
             0.1111111111111111,
             "#46039f"
            ],
            [
             0.2222222222222222,
             "#7201a8"
            ],
            [
             0.3333333333333333,
             "#9c179e"
            ],
            [
             0.4444444444444444,
             "#bd3786"
            ],
            [
             0.5555555555555556,
             "#d8576b"
            ],
            [
             0.6666666666666666,
             "#ed7953"
            ],
            [
             0.7777777777777778,
             "#fb9f3a"
            ],
            [
             0.8888888888888888,
             "#fdca26"
            ],
            [
             1,
             "#f0f921"
            ]
           ]
          },
          "colorway": [
           "#636efa",
           "#EF553B",
           "#00cc96",
           "#ab63fa",
           "#FFA15A",
           "#19d3f3",
           "#FF6692",
           "#B6E880",
           "#FF97FF",
           "#FECB52"
          ],
          "font": {
           "color": "#2a3f5f"
          },
          "geo": {
           "bgcolor": "white",
           "lakecolor": "white",
           "landcolor": "#E5ECF6",
           "showlakes": true,
           "showland": true,
           "subunitcolor": "white"
          },
          "hoverlabel": {
           "align": "left"
          },
          "hovermode": "closest",
          "mapbox": {
           "style": "light"
          },
          "paper_bgcolor": "white",
          "plot_bgcolor": "#E5ECF6",
          "polar": {
           "angularaxis": {
            "gridcolor": "white",
            "linecolor": "white",
            "ticks": ""
           },
           "bgcolor": "#E5ECF6",
           "radialaxis": {
            "gridcolor": "white",
            "linecolor": "white",
            "ticks": ""
           }
          },
          "scene": {
           "xaxis": {
            "backgroundcolor": "#E5ECF6",
            "gridcolor": "white",
            "gridwidth": 2,
            "linecolor": "white",
            "showbackground": true,
            "ticks": "",
            "zerolinecolor": "white"
           },
           "yaxis": {
            "backgroundcolor": "#E5ECF6",
            "gridcolor": "white",
            "gridwidth": 2,
            "linecolor": "white",
            "showbackground": true,
            "ticks": "",
            "zerolinecolor": "white"
           },
           "zaxis": {
            "backgroundcolor": "#E5ECF6",
            "gridcolor": "white",
            "gridwidth": 2,
            "linecolor": "white",
            "showbackground": true,
            "ticks": "",
            "zerolinecolor": "white"
           }
          },
          "shapedefaults": {
           "line": {
            "color": "#2a3f5f"
           }
          },
          "ternary": {
           "aaxis": {
            "gridcolor": "white",
            "linecolor": "white",
            "ticks": ""
           },
           "baxis": {
            "gridcolor": "white",
            "linecolor": "white",
            "ticks": ""
           },
           "bgcolor": "#E5ECF6",
           "caxis": {
            "gridcolor": "white",
            "linecolor": "white",
            "ticks": ""
           }
          },
          "title": {
           "x": 0.05
          },
          "xaxis": {
           "automargin": true,
           "gridcolor": "white",
           "linecolor": "white",
           "ticks": "",
           "title": {
            "standoff": 15
           },
           "zerolinecolor": "white",
           "zerolinewidth": 2
          },
          "yaxis": {
           "automargin": true,
           "gridcolor": "white",
           "linecolor": "white",
           "ticks": "",
           "title": {
            "standoff": 15
           },
           "zerolinecolor": "white",
           "zerolinewidth": 2
          }
         }
        },
        "title": {
         "text": "TREEplus_tree_pruned"
        }
       }
      }
     },
     "metadata": {},
     "output_type": "display_data"
    },
    {
     "ename": "TypeError",
     "evalue": "'Styler' object is not callable",
     "output_type": "error",
     "traceback": [
      "\u001b[1;31m---------------------------------------------------------------------------\u001b[0m",
      "\u001b[1;31mTypeError\u001b[0m                                 Traceback (most recent call last)",
      "\u001b[1;32mc:\\Users\\danie\\Documents\\Universita\\Thesis\\Tree_Methods\\Tree_project\\Tree_project\\lbt_applied.ipynb Cell 22\u001b[0m line \u001b[0;36m2\n\u001b[0;32m      <a href='vscode-notebook-cell:/c%3A/Users/danie/Documents/Universita/Thesis/Tree_Methods/Tree_project/Tree_project/lbt_applied.ipynb#X26sZmlsZQ%3D%3D?line=0'>1</a>\u001b[0m alpha, pruned_table \u001b[39m=\u001b[39m tree\u001b[39m.\u001b[39mpruning(features_test, n_features_test, y_test_list, table \u001b[39m=\u001b[39m \u001b[39mTrue\u001b[39;00m)\n\u001b[1;32m----> <a href='vscode-notebook-cell:/c%3A/Users/danie/Documents/Universita/Thesis/Tree_Methods/Tree_project/Tree_project/lbt_applied.ipynb#X26sZmlsZQ%3D%3D?line=1'>2</a>\u001b[0m pruned_table\u001b[39m.\u001b[39;49mstyle()\n",
      "\u001b[1;31mTypeError\u001b[0m: 'Styler' object is not callable"
     ]
    }
   ],
   "source": [
    "alpha, pruned_table = tree.pruning(features_test, n_features_test, y_test_list, table = True)\n"
   ]
  },
  {
   "cell_type": "code",
   "execution_count": 20,
   "metadata": {},
   "outputs": [
    {
     "data": {
      "text/html": [
       "<style type=\"text/css\">\n",
       "</style>\n",
       "<table id=\"T_03e99\">\n",
       "  <thead>\n",
       "    <tr>\n",
       "      <th id=\"T_03e99_level0_col0\" class=\"col_heading level0 col0\" >Node</th>\n",
       "      <th id=\"T_03e99_level0_col1\" class=\"col_heading level0 col1\" >Node Type</th>\n",
       "      <th id=\"T_03e99_level0_col2\" class=\"col_heading level0 col2\" >Variable Split</th>\n",
       "      <th id=\"T_03e99_level0_col3\" class=\"col_heading level0 col3\" >n</th>\n",
       "      <th id=\"T_03e99_level0_col4\" class=\"col_heading level0 col4\" >Deviance</th>\n",
       "      <th id=\"T_03e99_level0_col5\" class=\"col_heading level0 col5\" >Explained Deviance</th>\n",
       "      <th id=\"T_03e99_level0_col6\" class=\"col_heading level0 col6\" >Class Probabilities</th>\n",
       "      <th id=\"T_03e99_level0_col7\" class=\"col_heading level0 col7\" >Alpha</th>\n",
       "      <th id=\"T_03e99_level0_col8\" class=\"col_heading level0 col8\" >Beta</th>\n",
       "      <th id=\"T_03e99_level0_col9\" class=\"col_heading level0 col9\" >LS Error</th>\n",
       "    </tr>\n",
       "  </thead>\n",
       "  <tbody>\n",
       "    <tr>\n",
       "      <td id=\"T_03e99_row0_col0\" class=\"data row0 col0\" >n1</td>\n",
       "      <td id=\"T_03e99_row0_col1\" class=\"data row0 col1\" >Parent</td>\n",
       "      <td id=\"T_03e99_row0_col2\" class=\"data row0 col2\" >car_ownership in ('car_ownership0',)</td>\n",
       "      <td id=\"T_03e99_row0_col3\" class=\"data row0 col3\" >76103</td>\n",
       "      <td id=\"T_03e99_row0_col4\" class=\"data row0 col4\" >173353.59</td>\n",
       "      <td id=\"T_03e99_row0_col5\" class=\"data row0 col5\" >0.087</td>\n",
       "      <td id=\"T_03e99_row0_col6\" class=\"data row0 col6\" >{1: 0.18, 2: 0.03, 3: 0.35, 4: 0.44}</td>\n",
       "      <td id=\"T_03e99_row0_col7\" class=\"data row0 col7\" >[[0.89, 0.11], [0.25, 0.75], [0.0, 1.0]]</td>\n",
       "      <td id=\"T_03e99_row0_col8\" class=\"data row0 col8\" >[[0.28, 0.05, 0.67, 0.0], [0.11, 0.02, 0.17, 0.7]]</td>\n",
       "      <td id=\"T_03e99_row0_col9\" class=\"data row0 col9\" >[0.0]</td>\n",
       "    </tr>\n",
       "    <tr>\n",
       "      <td id=\"T_03e99_row1_col0\" class=\"data row1 col0\" >n2</td>\n",
       "      <td id=\"T_03e99_row1_col1\" class=\"data row1 col1\" >Parent</td>\n",
       "      <td id=\"T_03e99_row1_col2\" class=\"data row1 col2\" >trafficperc_group in ('0low_traffic', '1mediumlow_traffic', '2medium_traffic')</td>\n",
       "      <td id=\"T_03e99_row1_col3\" class=\"data row1 col3\" >53924</td>\n",
       "      <td id=\"T_03e99_row1_col4\" class=\"data row1 col4\" >110112.33</td>\n",
       "      <td id=\"T_03e99_row1_col5\" class=\"data row1 col5\" >0.472</td>\n",
       "      <td id=\"T_03e99_row1_col6\" class=\"data row1 col6\" >{1: 0.14, 2: 0.02, 3: 0.24, 4: 0.59}</td>\n",
       "      <td id=\"T_03e99_row1_col7\" class=\"data row1 col7\" >[[0.83, 0.17], [0.7, 0.3], [0.54, 0.46], [0.29, 0.71], [0.0, 1.0]]</td>\n",
       "      <td id=\"T_03e99_row1_col8\" class=\"data row1 col8\" >[[0.17, 0.02, 0.0, 0.81], [0.07, 0.04, 0.64, 0.26]]</td>\n",
       "      <td id=\"T_03e99_row1_col9\" class=\"data row1 col9\" >[0.01]</td>\n",
       "    </tr>\n",
       "    <tr>\n",
       "      <td id=\"T_03e99_row2_col0\" class=\"data row2 col0\" >n4</td>\n",
       "      <td id=\"T_03e99_row2_col1\" class=\"data row2 col1\" >Parent</td>\n",
       "      <td id=\"T_03e99_row2_col2\" class=\"data row2 col2\" >drivingcharge_group in ('high_charge',)</td>\n",
       "      <td id=\"T_03e99_row2_col3\" class=\"data row2 col3\" >10509</td>\n",
       "      <td id=\"T_03e99_row2_col4\" class=\"data row2 col4\" >21215.88</td>\n",
       "      <td id=\"T_03e99_row2_col5\" class=\"data row2 col5\" >0.518</td>\n",
       "      <td id=\"T_03e99_row2_col6\" class=\"data row2 col6\" >{1: 0.09, 2: 0.03, 3: 0.57, 4: 0.31}</td>\n",
       "      <td id=\"T_03e99_row2_col7\" class=\"data row2 col7\" >[[0.79, 0.21], [0.18, 0.82]]</td>\n",
       "      <td id=\"T_03e99_row2_col8\" class=\"data row2 col8\" >[[0.08, 0.04, 0.88, 0.0], [0.09, 0.03, 0.36, 0.52]]</td>\n",
       "      <td id=\"T_03e99_row2_col9\" class=\"data row2 col9\" >[0.0]</td>\n",
       "    </tr>\n",
       "    <tr>\n",
       "      <td id=\"T_03e99_row3_col0\" class=\"data row3 col0\" >n9</td>\n",
       "      <td id=\"T_03e99_row3_col1\" class=\"data row3 col1\" >Child</td>\n",
       "      <td id=\"T_03e99_row3_col2\" class=\"data row3 col2\" >None</td>\n",
       "      <td id=\"T_03e99_row3_col3\" class=\"data row3 col3\" >3944</td>\n",
       "      <td id=\"T_03e99_row3_col4\" class=\"data row3 col4\" >6073.62</td>\n",
       "      <td id=\"T_03e99_row3_col5\" class=\"data row3 col5\" >None</td>\n",
       "      <td id=\"T_03e99_row3_col6\" class=\"data row3 col6\" >{1: 0.08, 2: 0.04, 3: 0.77, 4: 0.11}</td>\n",
       "      <td id=\"T_03e99_row3_col7\" class=\"data row3 col7\" >[[0.97, 0.03], [0.91, 0.09], [0.88, 0.12], [0.72, 0.28], [0.0, 1.0]]</td>\n",
       "      <td id=\"T_03e99_row3_col8\" class=\"data row3 col8\" >[[0.0, 0.04, 0.86, 0.1], [0.3, 0.01, 0.55, 0.14]]</td>\n",
       "      <td id=\"T_03e99_row3_col9\" class=\"data row3 col9\" >[0.02]</td>\n",
       "    </tr>\n",
       "    <tr>\n",
       "      <td id=\"T_03e99_row4_col0\" class=\"data row4 col0\" >n8</td>\n",
       "      <td id=\"T_03e99_row4_col1\" class=\"data row4 col1\" >Parent</td>\n",
       "      <td id=\"T_03e99_row4_col2\" class=\"data row4 col2\" >distance_group in ('distance04', 'distance05', 'distance06', 'distance07', 'distance08', 'distance09', 'distance10', 'distance11')</td>\n",
       "      <td id=\"T_03e99_row4_col3\" class=\"data row4 col3\" >6565</td>\n",
       "      <td id=\"T_03e99_row4_col4\" class=\"data row4 col4\" >13773.49</td>\n",
       "      <td id=\"T_03e99_row4_col5\" class=\"data row4 col5\" >0.545</td>\n",
       "      <td id=\"T_03e99_row4_col6\" class=\"data row4 col6\" >{1: 0.09, 2: 0.03, 3: 0.45, 4: 0.42}</td>\n",
       "      <td id=\"T_03e99_row4_col7\" class=\"data row4 col7\" >[[0.0, 1.09], [0.22, 0.78], [0.41, 0.59], [0.62, 0.38], [0.72, 0.28], [0.89, 0.11], [0.93, 0.07], [0.97, 0.03], [1.0, 0.0], [1.02, 0.0], [1.03, 0.0]]</td>\n",
       "      <td id=\"T_03e99_row4_col8\" class=\"data row4 col8\" >[[0.0, 0.04, 0.49, 0.48], [0.78, 0.02, 0.0, 0.24]]</td>\n",
       "      <td id=\"T_03e99_row4_col9\" class=\"data row4 col9\" >[0.04]</td>\n",
       "    </tr>\n",
       "    <tr>\n",
       "      <td id=\"T_03e99_row5_col0\" class=\"data row5 col0\" >n16</td>\n",
       "      <td id=\"T_03e99_row5_col1\" class=\"data row5 col1\" >Child</td>\n",
       "      <td id=\"T_03e99_row5_col2\" class=\"data row5 col2\" >None</td>\n",
       "      <td id=\"T_03e99_row5_col3\" class=\"data row5 col3\" >624</td>\n",
       "      <td id=\"T_03e99_row5_col4\" class=\"data row5 col4\" >1183.79</td>\n",
       "      <td id=\"T_03e99_row5_col5\" class=\"data row5 col5\" >None</td>\n",
       "      <td id=\"T_03e99_row5_col6\" class=\"data row5 col6\" >{1: 0.62, 2: 0.02, 3: 0.08, 4: 0.27}</td>\n",
       "      <td id=\"T_03e99_row5_col7\" class=\"data row5 col7\" >[]</td>\n",
       "      <td id=\"T_03e99_row5_col8\" class=\"data row5 col8\" >[]</td>\n",
       "      <td id=\"T_03e99_row5_col9\" class=\"data row5 col9\" >[]</td>\n",
       "    </tr>\n",
       "    <tr>\n",
       "      <td id=\"T_03e99_row6_col0\" class=\"data row6 col0\" >n17</td>\n",
       "      <td id=\"T_03e99_row6_col1\" class=\"data row6 col1\" >Parent</td>\n",
       "      <td id=\"T_03e99_row6_col2\" class=\"data row6 col2\" >driving_license in ('driving_license0',)</td>\n",
       "      <td id=\"T_03e99_row6_col3\" class=\"data row6 col3\" >5941</td>\n",
       "      <td id=\"T_03e99_row6_col4\" class=\"data row6 col4\" >11128.61</td>\n",
       "      <td id=\"T_03e99_row6_col5\" class=\"data row6 col5\" >0.563</td>\n",
       "      <td id=\"T_03e99_row6_col6\" class=\"data row6 col6\" >{1: 0.03, 2: 0.03, 3: 0.49, 4: 0.44}</td>\n",
       "      <td id=\"T_03e99_row6_col7\" class=\"data row6 col7\" >[[0.63, 0.37], [0.14, 0.86]]</td>\n",
       "      <td id=\"T_03e99_row6_col8\" class=\"data row6 col8\" >[[0.04, 0.0, 0.76, 0.19], [0.03, 0.05, 0.4, 0.52]]</td>\n",
       "      <td id=\"T_03e99_row6_col9\" class=\"data row6 col9\" >[0.0]</td>\n",
       "    </tr>\n",
       "    <tr>\n",
       "      <td id=\"T_03e99_row7_col0\" class=\"data row7 col0\" >n35</td>\n",
       "      <td id=\"T_03e99_row7_col1\" class=\"data row7 col1\" >Child</td>\n",
       "      <td id=\"T_03e99_row7_col2\" class=\"data row7 col2\" >None</td>\n",
       "      <td id=\"T_03e99_row7_col3\" class=\"data row7 col3\" >1365</td>\n",
       "      <td id=\"T_03e99_row7_col4\" class=\"data row7 col4\" >2319.81</td>\n",
       "      <td id=\"T_03e99_row7_col5\" class=\"data row7 col5\" >None</td>\n",
       "      <td id=\"T_03e99_row7_col6\" class=\"data row7 col6\" >{1: 0.04, 2: 0.02, 3: 0.63, 4: 0.32}</td>\n",
       "      <td id=\"T_03e99_row7_col7\" class=\"data row7 col7\" >[[0.62, 0.38], [0.71, 0.29], [0.32, 0.68], [0.76, 0.24], [0.0, 1.0]]</td>\n",
       "      <td id=\"T_03e99_row7_col8\" class=\"data row7 col8\" >[[0.03, 0.02, 0.94, 0.0], [0.03, 0.0, 0.41, 0.56]]</td>\n",
       "      <td id=\"T_03e99_row7_col9\" class=\"data row7 col9\" >[0.01]</td>\n",
       "    </tr>\n",
       "    <tr>\n",
       "      <td id=\"T_03e99_row8_col0\" class=\"data row8 col0\" >n34</td>\n",
       "      <td id=\"T_03e99_row8_col1\" class=\"data row8 col1\" >Parent</td>\n",
       "      <td id=\"T_03e99_row8_col2\" class=\"data row8 col2\" >purpose in ('purpose2', 'purpose3', 'purpose4', 'purpose5')</td>\n",
       "      <td id=\"T_03e99_row8_col3\" class=\"data row8 col3\" >4576</td>\n",
       "      <td id=\"T_03e99_row8_col4\" class=\"data row8 col4\" >8662.0</td>\n",
       "      <td id=\"T_03e99_row8_col5\" class=\"data row8 col5\" >0.575</td>\n",
       "      <td id=\"T_03e99_row8_col6\" class=\"data row8 col6\" >{1: 0.03, 2: 0.04, 3: 0.45, 4: 0.48}</td>\n",
       "      <td id=\"T_03e99_row8_col7\" class=\"data row8 col7\" >[[0.15, 0.85], [1.0, 0.0], [0.76, 0.24], [0.57, 0.43], [0.73, 0.27]]</td>\n",
       "      <td id=\"T_03e99_row8_col8\" class=\"data row8 col8\" >[[0.06, 0.0, 0.33, 0.61], [0.0, 0.08, 0.6, 0.33]]</td>\n",
       "      <td id=\"T_03e99_row8_col9\" class=\"data row8 col9\" >[0.0]</td>\n",
       "    </tr>\n",
       "    <tr>\n",
       "      <td id=\"T_03e99_row9_col0\" class=\"data row9 col0\" >n68</td>\n",
       "      <td id=\"T_03e99_row9_col1\" class=\"data row9 col1\" >Child</td>\n",
       "      <td id=\"T_03e99_row9_col2\" class=\"data row9 col2\" >None</td>\n",
       "      <td id=\"T_03e99_row9_col3\" class=\"data row9 col3\" >1481</td>\n",
       "      <td id=\"T_03e99_row9_col4\" class=\"data row9 col4\" >2755.84</td>\n",
       "      <td id=\"T_03e99_row9_col5\" class=\"data row9 col5\" >None</td>\n",
       "      <td id=\"T_03e99_row9_col6\" class=\"data row9 col6\" >{1: 0.02, 2: 0.06, 3: 0.57, 4: 0.35}</td>\n",
       "      <td id=\"T_03e99_row9_col7\" class=\"data row9 col7\" >[]</td>\n",
       "      <td id=\"T_03e99_row9_col8\" class=\"data row9 col8\" >[]</td>\n",
       "      <td id=\"T_03e99_row9_col9\" class=\"data row9 col9\" >[]</td>\n",
       "    </tr>\n",
       "    <tr>\n",
       "      <td id=\"T_03e99_row10_col0\" class=\"data row10 col0\" >n69</td>\n",
       "      <td id=\"T_03e99_row10_col1\" class=\"data row10 col1\" >Child</td>\n",
       "      <td id=\"T_03e99_row10_col2\" class=\"data row10 col2\" >None</td>\n",
       "      <td id=\"T_03e99_row10_col3\" class=\"data row10 col3\" >3095</td>\n",
       "      <td id=\"T_03e99_row10_col4\" class=\"data row10 col4\" >5717.33</td>\n",
       "      <td id=\"T_03e99_row10_col5\" class=\"data row10 col5\" >None</td>\n",
       "      <td id=\"T_03e99_row10_col6\" class=\"data row10 col6\" >{1: 0.04, 2: 0.03, 3: 0.4, 4: 0.54}</td>\n",
       "      <td id=\"T_03e99_row10_col7\" class=\"data row10 col7\" >[[0.95, 0.05], [0.17, 0.83], [0.53, 0.47]]</td>\n",
       "      <td id=\"T_03e99_row10_col8\" class=\"data row10 col8\" >[[0.0, 0.02, 0.49, 0.49], [0.08, 0.04, 0.3, 0.58]]</td>\n",
       "      <td id=\"T_03e99_row10_col9\" class=\"data row10 col9\" >[0.0]</td>\n",
       "    </tr>\n",
       "    <tr>\n",
       "      <td id=\"T_03e99_row11_col0\" class=\"data row11 col0\" >n5</td>\n",
       "      <td id=\"T_03e99_row11_col1\" class=\"data row11 col1\" >Parent</td>\n",
       "      <td id=\"T_03e99_row11_col2\" class=\"data row11 col2\" >distance_group in ('distance03', 'distance04', 'distance05', 'distance06', 'distance07', 'distance08', 'distance09', 'distance10', 'distance11')</td>\n",
       "      <td id=\"T_03e99_row11_col3\" class=\"data row11 col3\" >43415</td>\n",
       "      <td id=\"T_03e99_row11_col4\" class=\"data row11 col4\" >81816.36</td>\n",
       "      <td id=\"T_03e99_row11_col5\" class=\"data row11 col5\" >0.618</td>\n",
       "      <td id=\"T_03e99_row11_col6\" class=\"data row11 col6\" >{1: 0.15, 2: 0.02, 3: 0.16, 4: 0.66}</td>\n",
       "      <td id=\"T_03e99_row11_col7\" class=\"data row11 col7\" >[[0.0, 1.05], [0.3, 0.7], [0.5, 0.5], [0.68, 0.32], [0.82, 0.18], [0.9, 0.1], [0.95, 0.05], [0.98, 0.02], [0.99, 0.01], [1.03, 0.0], [1.04, 0.0]]</td>\n",
       "      <td id=\"T_03e99_row11_col8\" class=\"data row11 col8\" >[[0.0, 0.02, 0.26, 0.73], [0.66, 0.03, 0.0, 0.33]]</td>\n",
       "      <td id=\"T_03e99_row11_col9\" class=\"data row11 col9\" >[0.04]</td>\n",
       "    </tr>\n",
       "    <tr>\n",
       "      <td id=\"T_03e99_row12_col0\" class=\"data row12 col0\" >n10</td>\n",
       "      <td id=\"T_03e99_row12_col1\" class=\"data row12 col1\" >Parent</td>\n",
       "      <td id=\"T_03e99_row12_col2\" class=\"data row12 col2\" >distance_group in ('distance01',)</td>\n",
       "      <td id=\"T_03e99_row12_col3\" class=\"data row12 col3\" >5834</td>\n",
       "      <td id=\"T_03e99_row12_col4\" class=\"data row12 col4\" >10431.84</td>\n",
       "      <td id=\"T_03e99_row12_col5\" class=\"data row12 col5\" >0.62</td>\n",
       "      <td id=\"T_03e99_row12_col6\" class=\"data row12 col6\" >{1: 0.59, 2: 0.03, 3: 0.04, 4: 0.35}</td>\n",
       "      <td id=\"T_03e99_row12_col7\" class=\"data row12 col7\" >[[0.78, 0.22], [0.18, 0.82]]</td>\n",
       "      <td id=\"T_03e99_row12_col8\" class=\"data row12 col8\" >[[0.78, 0.03, 0.0, 0.19], [0.39, 0.03, 0.07, 0.51]]</td>\n",
       "      <td id=\"T_03e99_row12_col9\" class=\"data row12 col9\" >[0.0]</td>\n",
       "    </tr>\n",
       "    <tr>\n",
       "      <td id=\"T_03e99_row13_col0\" class=\"data row13 col0\" >n21</td>\n",
       "      <td id=\"T_03e99_row13_col1\" class=\"data row13 col1\" >Child</td>\n",
       "      <td id=\"T_03e99_row13_col2\" class=\"data row13 col2\" >None</td>\n",
       "      <td id=\"T_03e99_row13_col3\" class=\"data row13 col3\" >3291</td>\n",
       "      <td id=\"T_03e99_row13_col4\" class=\"data row13 col4\" >5027.18</td>\n",
       "      <td id=\"T_03e99_row13_col5\" class=\"data row13 col5\" >None</td>\n",
       "      <td id=\"T_03e99_row13_col6\" class=\"data row13 col6\" >{1: 0.7, 2: 0.03, 3: 0.02, 4: 0.26}</td>\n",
       "      <td id=\"T_03e99_row13_col7\" class=\"data row13 col7\" >[]</td>\n",
       "      <td id=\"T_03e99_row13_col8\" class=\"data row13 col8\" >[]</td>\n",
       "      <td id=\"T_03e99_row13_col9\" class=\"data row13 col9\" >[]</td>\n",
       "    </tr>\n",
       "    <tr>\n",
       "      <td id=\"T_03e99_row14_col0\" class=\"data row14 col0\" >n20</td>\n",
       "      <td id=\"T_03e99_row14_col1\" class=\"data row14 col1\" >Parent</td>\n",
       "      <td id=\"T_03e99_row14_col2\" class=\"data row14 col2\" >day_of_week in ('day_of_week6', 'day_of_week7')</td>\n",
       "      <td id=\"T_03e99_row14_col3\" class=\"data row14 col3\" >2543</td>\n",
       "      <td id=\"T_03e99_row14_col4\" class=\"data row14 col4\" >5025.82</td>\n",
       "      <td id=\"T_03e99_row14_col5\" class=\"data row14 col5\" >0.622</td>\n",
       "      <td id=\"T_03e99_row14_col6\" class=\"data row14 col6\" >{1: 0.46, 2: 0.03, 3: 0.06, 4: 0.45}</td>\n",
       "      <td id=\"T_03e99_row14_col7\" class=\"data row14 col7\" >[]</td>\n",
       "      <td id=\"T_03e99_row14_col8\" class=\"data row14 col8\" >[]</td>\n",
       "      <td id=\"T_03e99_row14_col9\" class=\"data row14 col9\" >[]</td>\n",
       "    </tr>\n",
       "    <tr>\n",
       "      <td id=\"T_03e99_row15_col0\" class=\"data row15 col0\" >n41</td>\n",
       "      <td id=\"T_03e99_row15_col1\" class=\"data row15 col1\" >Child</td>\n",
       "      <td id=\"T_03e99_row15_col2\" class=\"data row15 col2\" >None</td>\n",
       "      <td id=\"T_03e99_row15_col3\" class=\"data row15 col3\" >616</td>\n",
       "      <td id=\"T_03e99_row15_col4\" class=\"data row15 col4\" >1165.64</td>\n",
       "      <td id=\"T_03e99_row15_col5\" class=\"data row15 col5\" >None</td>\n",
       "      <td id=\"T_03e99_row15_col6\" class=\"data row15 col6\" >{1: 0.4, 2: 0.04, 3: 0.04, 4: 0.53}</td>\n",
       "      <td id=\"T_03e99_row15_col7\" class=\"data row15 col7\" >[]</td>\n",
       "      <td id=\"T_03e99_row15_col8\" class=\"data row15 col8\" >[]</td>\n",
       "      <td id=\"T_03e99_row15_col9\" class=\"data row15 col9\" >[]</td>\n",
       "    </tr>\n",
       "    <tr>\n",
       "      <td id=\"T_03e99_row16_col0\" class=\"data row16 col0\" >n40</td>\n",
       "      <td id=\"T_03e99_row16_col1\" class=\"data row16 col1\" >Parent</td>\n",
       "      <td id=\"T_03e99_row16_col2\" class=\"data row16 col2\" >driving_license in ('driving_license1',)</td>\n",
       "      <td id=\"T_03e99_row16_col3\" class=\"data row16 col3\" >1927</td>\n",
       "      <td id=\"T_03e99_row16_col4\" class=\"data row16 col4\" >3834.31</td>\n",
       "      <td id=\"T_03e99_row16_col5\" class=\"data row16 col5\" >0.623</td>\n",
       "      <td id=\"T_03e99_row16_col6\" class=\"data row16 col6\" >{1: 0.47, 2: 0.03, 3: 0.07, 4: 0.43}</td>\n",
       "      <td id=\"T_03e99_row16_col7\" class=\"data row16 col7\" >[]</td>\n",
       "      <td id=\"T_03e99_row16_col8\" class=\"data row16 col8\" >[]</td>\n",
       "      <td id=\"T_03e99_row16_col9\" class=\"data row16 col9\" >[]</td>\n",
       "    </tr>\n",
       "    <tr>\n",
       "      <td id=\"T_03e99_row17_col0\" class=\"data row17 col0\" >n80</td>\n",
       "      <td id=\"T_03e99_row17_col1\" class=\"data row17 col1\" >Child</td>\n",
       "      <td id=\"T_03e99_row17_col2\" class=\"data row17 col2\" >None</td>\n",
       "      <td id=\"T_03e99_row17_col3\" class=\"data row17 col3\" >691</td>\n",
       "      <td id=\"T_03e99_row17_col4\" class=\"data row17 col4\" >1361.25</td>\n",
       "      <td id=\"T_03e99_row17_col5\" class=\"data row17 col5\" >None</td>\n",
       "      <td id=\"T_03e99_row17_col6\" class=\"data row17 col6\" >{1: 0.61, 2: 0.02, 3: 0.12, 4: 0.26}</td>\n",
       "      <td id=\"T_03e99_row17_col7\" class=\"data row17 col7\" >[]</td>\n",
       "      <td id=\"T_03e99_row17_col8\" class=\"data row17 col8\" >[]</td>\n",
       "      <td id=\"T_03e99_row17_col9\" class=\"data row17 col9\" >[]</td>\n",
       "    </tr>\n",
       "    <tr>\n",
       "      <td id=\"T_03e99_row18_col0\" class=\"data row18 col0\" >n81</td>\n",
       "      <td id=\"T_03e99_row18_col1\" class=\"data row18 col1\" >Child</td>\n",
       "      <td id=\"T_03e99_row18_col2\" class=\"data row18 col2\" >None</td>\n",
       "      <td id=\"T_03e99_row18_col3\" class=\"data row18 col3\" >1236</td>\n",
       "      <td id=\"T_03e99_row18_col4\" class=\"data row18 col4\" >2317.52</td>\n",
       "      <td id=\"T_03e99_row18_col5\" class=\"data row18 col5\" >None</td>\n",
       "      <td id=\"T_03e99_row18_col6\" class=\"data row18 col6\" >{1: 0.4, 2: 0.03, 3: 0.04, 4: 0.53}</td>\n",
       "      <td id=\"T_03e99_row18_col7\" class=\"data row18 col7\" >[]</td>\n",
       "      <td id=\"T_03e99_row18_col8\" class=\"data row18 col8\" >[]</td>\n",
       "      <td id=\"T_03e99_row18_col9\" class=\"data row18 col9\" >[]</td>\n",
       "    </tr>\n",
       "    <tr>\n",
       "      <td id=\"T_03e99_row19_col0\" class=\"data row19 col0\" >n11</td>\n",
       "      <td id=\"T_03e99_row19_col1\" class=\"data row19 col1\" >Parent</td>\n",
       "      <td id=\"T_03e99_row19_col2\" class=\"data row19 col2\" >faretype in ('faretype1', 'faretype5')</td>\n",
       "      <td id=\"T_03e99_row19_col3\" class=\"data row19 col3\" >37581</td>\n",
       "      <td id=\"T_03e99_row19_col4\" class=\"data row19 col4\" >63588.47</td>\n",
       "      <td id=\"T_03e99_row19_col5\" class=\"data row19 col5\" >0.629</td>\n",
       "      <td id=\"T_03e99_row19_col6\" class=\"data row19 col6\" >{1: 0.08, 2: 0.02, 3: 0.18, 4: 0.71}</td>\n",
       "      <td id=\"T_03e99_row19_col7\" class=\"data row19 col7\" >[[0.7, 0.3], [0.0, 1.0], [0.29, 0.71], [0.39, 0.61], [0.67, 0.33]]</td>\n",
       "      <td id=\"T_03e99_row19_col8\" class=\"data row19 col8\" >[[0.06, 0.02, 0.0, 0.92], [0.13, 0.03, 0.5, 0.34]]</td>\n",
       "      <td id=\"T_03e99_row19_col9\" class=\"data row19 col9\" >[0.01]</td>\n",
       "    </tr>\n",
       "    <tr>\n",
       "      <td id=\"T_03e99_row20_col0\" class=\"data row20 col0\" >n22</td>\n",
       "      <td id=\"T_03e99_row20_col1\" class=\"data row20 col1\" >Parent</td>\n",
       "      <td id=\"T_03e99_row20_col2\" class=\"data row20 col2\" >purpose in ('purpose1', 'purpose3', 'purpose4', 'purpose5')</td>\n",
       "      <td id=\"T_03e99_row20_col3\" class=\"data row20 col3\" >4575</td>\n",
       "      <td id=\"T_03e99_row20_col4\" class=\"data row20 col4\" >9874.36</td>\n",
       "      <td id=\"T_03e99_row20_col5\" class=\"data row20 col5\" >0.63</td>\n",
       "      <td id=\"T_03e99_row20_col6\" class=\"data row20 col6\" >{1: 0.13, 2: 0.03, 3: 0.37, 4: 0.48}</td>\n",
       "      <td id=\"T_03e99_row20_col7\" class=\"data row20 col7\" >[[0.58, 0.42], [0.43, 0.57], [0.99, 0.01], [0.76, 0.24], [0.97, 0.03]]</td>\n",
       "      <td id=\"T_03e99_row20_col8\" class=\"data row20 col8\" >[[0.09, 0.03, 0.25, 0.63], [0.15, 0.07, 0.77, 0.0]]</td>\n",
       "      <td id=\"T_03e99_row20_col9\" class=\"data row20 col9\" >[0.03]</td>\n",
       "    </tr>\n",
       "    <tr>\n",
       "      <td id=\"T_03e99_row21_col0\" class=\"data row21 col0\" >n44</td>\n",
       "      <td id=\"T_03e99_row21_col1\" class=\"data row21 col1\" >Child</td>\n",
       "      <td id=\"T_03e99_row21_col2\" class=\"data row21 col2\" >None</td>\n",
       "      <td id=\"T_03e99_row21_col3\" class=\"data row21 col3\" >1639</td>\n",
       "      <td id=\"T_03e99_row21_col4\" class=\"data row21 col4\" >3409.73</td>\n",
       "      <td id=\"T_03e99_row21_col5\" class=\"data row21 col5\" >None</td>\n",
       "      <td id=\"T_03e99_row21_col6\" class=\"data row21 col6\" >{1: 0.16, 2: 0.02, 3: 0.55, 4: 0.27}</td>\n",
       "      <td id=\"T_03e99_row21_col7\" class=\"data row21 col7\" >[[0.55, 0.45], [0.13, 0.87]]</td>\n",
       "      <td id=\"T_03e99_row21_col8\" class=\"data row21 col8\" >[[0.25, 0.02, 0.73, 0.0], [0.11, 0.01, 0.45, 0.43]]</td>\n",
       "      <td id=\"T_03e99_row21_col9\" class=\"data row21 col9\" >[0.0]</td>\n",
       "    </tr>\n",
       "    <tr>\n",
       "      <td id=\"T_03e99_row22_col0\" class=\"data row22 col0\" >n45</td>\n",
       "      <td id=\"T_03e99_row22_col1\" class=\"data row22 col1\" >Child</td>\n",
       "      <td id=\"T_03e99_row22_col2\" class=\"data row22 col2\" >None</td>\n",
       "      <td id=\"T_03e99_row22_col3\" class=\"data row22 col3\" >2936</td>\n",
       "      <td id=\"T_03e99_row22_col4\" class=\"data row22 col4\" >5925.48</td>\n",
       "      <td id=\"T_03e99_row22_col5\" class=\"data row22 col5\" >None</td>\n",
       "      <td id=\"T_03e99_row22_col6\" class=\"data row22 col6\" >{1: 0.11, 2: 0.03, 3: 0.26, 4: 0.6}</td>\n",
       "      <td id=\"T_03e99_row22_col7\" class=\"data row22 col7\" >[[0.22, 0.78], [0.34, 0.66], [0.71, 0.29], [0.84, 0.16], [0.89, 0.11], [0.97, 0.03], [0.98, 0.02], [1.03, 0.0], [1.08, 0.0]]</td>\n",
       "      <td id=\"T_03e99_row22_col8\" class=\"data row22 col8\" >[[0.0, 0.01, 0.4, 0.59], [0.46, 0.08, 0.0, 0.49]]</td>\n",
       "      <td id=\"T_03e99_row22_col9\" class=\"data row22 col9\" >[0.05]</td>\n",
       "    </tr>\n",
       "    <tr>\n",
       "      <td id=\"T_03e99_row23_col0\" class=\"data row23 col0\" >n23</td>\n",
       "      <td id=\"T_03e99_row23_col1\" class=\"data row23 col1\" >Parent</td>\n",
       "      <td id=\"T_03e99_row23_col2\" class=\"data row23 col2\" >distance_group in ('distance05', 'distance06', 'distance07', 'distance08', 'distance09', 'distance10', 'distance11')</td>\n",
       "      <td id=\"T_03e99_row23_col3\" class=\"data row23 col3\" >33006</td>\n",
       "      <td id=\"T_03e99_row23_col4\" class=\"data row23 col4\" >52429.75</td>\n",
       "      <td id=\"T_03e99_row23_col5\" class=\"data row23 col5\" >0.633</td>\n",
       "      <td id=\"T_03e99_row23_col6\" class=\"data row23 col6\" >{1: 0.08, 2: 0.02, 3: 0.16, 4: 0.74}</td>\n",
       "      <td id=\"T_03e99_row23_col7\" class=\"data row23 col7\" >[[0.17, 0.83], [0.47, 0.53], [0.68, 0.32], [0.8, 0.2], [0.89, 0.11], [0.94, 0.06], [0.95, 0.05], [1.05, 0.0], [1.1, 0.0]]</td>\n",
       "      <td id=\"T_03e99_row23_col8\" class=\"data row23 col8\" >[[0.0, 0.01, 0.26, 0.74], [0.35, 0.04, 0.0, 0.64]]</td>\n",
       "      <td id=\"T_03e99_row23_col9\" class=\"data row23 col9\" >[0.04]</td>\n",
       "    </tr>\n",
       "    <tr>\n",
       "      <td id=\"T_03e99_row24_col0\" class=\"data row24 col0\" >n46</td>\n",
       "      <td id=\"T_03e99_row24_col1\" class=\"data row24 col1\" >Child</td>\n",
       "      <td id=\"T_03e99_row24_col2\" class=\"data row24 col2\" >None</td>\n",
       "      <td id=\"T_03e99_row24_col3\" class=\"data row24 col3\" >7129</td>\n",
       "      <td id=\"T_03e99_row24_col4\" class=\"data row24 col4\" >13424.47</td>\n",
       "      <td id=\"T_03e99_row24_col5\" class=\"data row24 col5\" >None</td>\n",
       "      <td id=\"T_03e99_row24_col6\" class=\"data row24 col6\" >{1: 0.25, 2: 0.03, 3: 0.08, 4: 0.64}</td>\n",
       "      <td id=\"T_03e99_row24_col7\" class=\"data row24 col7\" >[[0.51, 0.49], [0.22, 0.78], [0.0, 1.0]]</td>\n",
       "      <td id=\"T_03e99_row24_col8\" class=\"data row24 col8\" >[[0.16, 0.0, 0.0, 0.84], [0.31, 0.05, 0.14, 0.51]]</td>\n",
       "      <td id=\"T_03e99_row24_col9\" class=\"data row24 col9\" >[0.0]</td>\n",
       "    </tr>\n",
       "    <tr>\n",
       "      <td id=\"T_03e99_row25_col0\" class=\"data row25 col0\" >n47</td>\n",
       "      <td id=\"T_03e99_row25_col1\" class=\"data row25 col1\" >Parent</td>\n",
       "      <td id=\"T_03e99_row25_col2\" class=\"data row25 col2\" >distance_group in ('distance07', 'distance08', 'distance09', 'distance10', 'distance11')</td>\n",
       "      <td id=\"T_03e99_row25_col3\" class=\"data row25 col3\" >25877</td>\n",
       "      <td id=\"T_03e99_row25_col4\" class=\"data row25 col4\" >35883.68</td>\n",
       "      <td id=\"T_03e99_row25_col5\" class=\"data row25 col5\" >0.637</td>\n",
       "      <td id=\"T_03e99_row25_col6\" class=\"data row25 col6\" >{1: 0.03, 2: 0.02, 3: 0.18, 4: 0.77}</td>\n",
       "      <td id=\"T_03e99_row25_col7\" class=\"data row25 col7\" >[[0.27, 0.73], [0.49, 0.51], [0.64, 0.36], [0.74, 0.26], [0.76, 0.24], [1.03, 0.0], [1.14, 0.0]]</td>\n",
       "      <td id=\"T_03e99_row25_col8\" class=\"data row25 col8\" >[[0.0, 0.01, 0.32, 0.68], [0.11, 0.04, 0.0, 0.88]]</td>\n",
       "      <td id=\"T_03e99_row25_col9\" class=\"data row25 col9\" >[0.03]</td>\n",
       "    </tr>\n",
       "    <tr>\n",
       "      <td id=\"T_03e99_row26_col0\" class=\"data row26 col0\" >n94</td>\n",
       "      <td id=\"T_03e99_row26_col1\" class=\"data row26 col1\" >Child</td>\n",
       "      <td id=\"T_03e99_row26_col2\" class=\"data row26 col2\" >None</td>\n",
       "      <td id=\"T_03e99_row26_col3\" class=\"data row26 col3\" >8678</td>\n",
       "      <td id=\"T_03e99_row26_col4\" class=\"data row26 col4\" >12968.66</td>\n",
       "      <td id=\"T_03e99_row26_col5\" class=\"data row26 col5\" >None</td>\n",
       "      <td id=\"T_03e99_row26_col6\" class=\"data row26 col6\" >{1: 0.08, 2: 0.02, 3: 0.13, 4: 0.77}</td>\n",
       "      <td id=\"T_03e99_row26_col7\" class=\"data row26 col7\" >[[0.09, 0.91], [0.0, 1.0], [0.17, 0.83], [0.18, 0.82], [0.2, 0.8], [0.5, 0.5], [0.74, 0.26]]</td>\n",
       "      <td id=\"T_03e99_row26_col8\" class=\"data row26 col8\" >[[0.08, 0.01, 0.03, 0.87], [0.08, 0.02, 0.16, 0.74]]</td>\n",
       "      <td id=\"T_03e99_row26_col9\" class=\"data row26 col9\" >[0.0]</td>\n",
       "    </tr>\n",
       "    <tr>\n",
       "      <td id=\"T_03e99_row27_col0\" class=\"data row27 col0\" >n95</td>\n",
       "      <td id=\"T_03e99_row27_col1\" class=\"data row27 col1\" >Parent</td>\n",
       "      <td id=\"T_03e99_row27_col2\" class=\"data row27 col2\" >costdrivingfuel_group in ('costdrivingfuelgroup5', 'costdrivingfuelgroup6', 'costdrivingfuelgroup7', 'costdrivingfuelgroup8', 'costdrivingfuelgroup9')</td>\n",
       "      <td id=\"T_03e99_row27_col3\" class=\"data row27 col3\" >17199</td>\n",
       "      <td id=\"T_03e99_row27_col4\" class=\"data row27 col4\" >21831.29</td>\n",
       "      <td id=\"T_03e99_row27_col5\" class=\"data row27 col5\" >0.639</td>\n",
       "      <td id=\"T_03e99_row27_col6\" class=\"data row27 col6\" >{1: 0.01, 2: 0.02, 3: 0.21, 4: 0.77}</td>\n",
       "      <td id=\"T_03e99_row27_col7\" class=\"data row27 col7\" >[[0.2, 0.8], [0.99, 0.01], [0.75, 0.25], [0.7, 0.3], [0.63, 0.37], [0.53, 0.47]]</td>\n",
       "      <td id=\"T_03e99_row27_col8\" class=\"data row27 col8\" >[[0.02, 0.02, 0.0, 0.97], [0.0, 0.01, 0.52, 0.48]]</td>\n",
       "      <td id=\"T_03e99_row27_col9\" class=\"data row27 col9\" >[0.03]</td>\n",
       "    </tr>\n",
       "    <tr>\n",
       "      <td id=\"T_03e99_row28_col0\" class=\"data row28 col0\" >n190</td>\n",
       "      <td id=\"T_03e99_row28_col1\" class=\"data row28 col1\" >Child</td>\n",
       "      <td id=\"T_03e99_row28_col2\" class=\"data row28 col2\" >None</td>\n",
       "      <td id=\"T_03e99_row28_col3\" class=\"data row28 col3\" >1483</td>\n",
       "      <td id=\"T_03e99_row28_col4\" class=\"data row28 col4\" >2022.36</td>\n",
       "      <td id=\"T_03e99_row28_col5\" class=\"data row28 col5\" >None</td>\n",
       "      <td id=\"T_03e99_row28_col6\" class=\"data row28 col6\" >{2: 0.0, 3: 0.41, 4: 0.59}</td>\n",
       "      <td id=\"T_03e99_row28_col7\" class=\"data row28 col7\" >[]</td>\n",
       "      <td id=\"T_03e99_row28_col8\" class=\"data row28 col8\" >[]</td>\n",
       "      <td id=\"T_03e99_row28_col9\" class=\"data row28 col9\" >[]</td>\n",
       "    </tr>\n",
       "    <tr>\n",
       "      <td id=\"T_03e99_row29_col0\" class=\"data row29 col0\" >n191</td>\n",
       "      <td id=\"T_03e99_row29_col1\" class=\"data row29 col1\" >Parent</td>\n",
       "      <td id=\"T_03e99_row29_col2\" class=\"data row29 col2\" >age_group in ('age_group0-18', 'age_group31-65')</td>\n",
       "      <td id=\"T_03e99_row29_col3\" class=\"data row29 col3\" >15716</td>\n",
       "      <td id=\"T_03e99_row29_col4\" class=\"data row29 col4\" >19414.39</td>\n",
       "      <td id=\"T_03e99_row29_col5\" class=\"data row29 col5\" >0.64</td>\n",
       "      <td id=\"T_03e99_row29_col6\" class=\"data row29 col6\" >{1: 0.01, 2: 0.02, 3: 0.19, 4: 0.79}</td>\n",
       "      <td id=\"T_03e99_row29_col7\" class=\"data row29 col7\" >[[0.7, 0.3], [0.07, 0.93], [0.55, 0.45], [0.47, 0.53]]</td>\n",
       "      <td id=\"T_03e99_row29_col8\" class=\"data row29 col8\" >[[0.01, 0.0, 0.06, 0.94], [0.01, 0.02, 0.32, 0.64]]</td>\n",
       "      <td id=\"T_03e99_row29_col9\" class=\"data row29 col9\" >[0.0]</td>\n",
       "    </tr>\n",
       "    <tr>\n",
       "      <td id=\"T_03e99_row30_col0\" class=\"data row30 col0\" >n382</td>\n",
       "      <td id=\"T_03e99_row30_col1\" class=\"data row30 col1\" >Parent</td>\n",
       "      <td id=\"T_03e99_row30_col2\" class=\"data row30 col2\" >day_of_week in ('day_of_week7',)</td>\n",
       "      <td id=\"T_03e99_row30_col3\" class=\"data row30 col3\" >4285</td>\n",
       "      <td id=\"T_03e99_row30_col4\" class=\"data row30 col4\" >6004.44</td>\n",
       "      <td id=\"T_03e99_row30_col5\" class=\"data row30 col5\" >0.64</td>\n",
       "      <td id=\"T_03e99_row30_col6\" class=\"data row30 col6\" >{1: 0.01, 2: 0.02, 3: 0.26, 4: 0.71}</td>\n",
       "      <td id=\"T_03e99_row30_col7\" class=\"data row30 col7\" >[[0.0, 1.0], [0.32, 0.68], [0.02, 0.98], [0.23, 0.77], [0.03, 0.97], [0.21, 0.79], [0.78, 0.22]]</td>\n",
       "      <td id=\"T_03e99_row30_col8\" class=\"data row30 col8\" >[[0.0, 0.01, 0.14, 0.85], [0.01, 0.02, 0.3, 0.67]]</td>\n",
       "      <td id=\"T_03e99_row30_col9\" class=\"data row30 col9\" >[0.0]</td>\n",
       "    </tr>\n",
       "    <tr>\n",
       "      <td id=\"T_03e99_row31_col0\" class=\"data row31 col0\" >n765</td>\n",
       "      <td id=\"T_03e99_row31_col1\" class=\"data row31 col1\" >Child</td>\n",
       "      <td id=\"T_03e99_row31_col2\" class=\"data row31 col2\" >None</td>\n",
       "      <td id=\"T_03e99_row31_col3\" class=\"data row31 col3\" >620</td>\n",
       "      <td id=\"T_03e99_row31_col4\" class=\"data row31 col4\" >684.83</td>\n",
       "      <td id=\"T_03e99_row31_col5\" class=\"data row31 col5\" >None</td>\n",
       "      <td id=\"T_03e99_row31_col6\" class=\"data row31 col6\" >{1: 0.01, 2: 0.01, 3: 0.17, 4: 0.81}</td>\n",
       "      <td id=\"T_03e99_row31_col7\" class=\"data row31 col7\" >[]</td>\n",
       "      <td id=\"T_03e99_row31_col8\" class=\"data row31 col8\" >[]</td>\n",
       "      <td id=\"T_03e99_row31_col9\" class=\"data row31 col9\" >[]</td>\n",
       "    </tr>\n",
       "    <tr>\n",
       "      <td id=\"T_03e99_row32_col0\" class=\"data row32 col0\" >n764</td>\n",
       "      <td id=\"T_03e99_row32_col1\" class=\"data row32 col1\" >Parent</td>\n",
       "      <td id=\"T_03e99_row32_col2\" class=\"data row32 col2\" >driving_license in ('driving_license1',)</td>\n",
       "      <td id=\"T_03e99_row32_col3\" class=\"data row32 col3\" >3665</td>\n",
       "      <td id=\"T_03e99_row32_col4\" class=\"data row32 col4\" >5282.28</td>\n",
       "      <td id=\"T_03e99_row32_col5\" class=\"data row32 col5\" >0.64</td>\n",
       "      <td id=\"T_03e99_row32_col6\" class=\"data row32 col6\" >{1: 0.01, 2: 0.02, 3: 0.28, 4: 0.7}</td>\n",
       "      <td id=\"T_03e99_row32_col7\" class=\"data row32 col7\" >[[0.47, 0.53], [0.88, 0.12]]</td>\n",
       "      <td id=\"T_03e99_row32_col8\" class=\"data row32 col8\" >[[0.01, 0.01, 0.11, 0.88], [0.01, 0.05, 0.94, 0.0]]</td>\n",
       "      <td id=\"T_03e99_row32_col9\" class=\"data row32 col9\" >[0.0]</td>\n",
       "    </tr>\n",
       "    <tr>\n",
       "      <td id=\"T_03e99_row33_col0\" class=\"data row33 col0\" >n1528</td>\n",
       "      <td id=\"T_03e99_row33_col1\" class=\"data row33 col1\" >Child</td>\n",
       "      <td id=\"T_03e99_row33_col2\" class=\"data row33 col2\" >None</td>\n",
       "      <td id=\"T_03e99_row33_col3\" class=\"data row33 col3\" >750</td>\n",
       "      <td id=\"T_03e99_row33_col4\" class=\"data row33 col4\" >1270.91</td>\n",
       "      <td id=\"T_03e99_row33_col5\" class=\"data row33 col5\" >None</td>\n",
       "      <td id=\"T_03e99_row33_col6\" class=\"data row33 col6\" >{1: 0.01, 2: 0.03, 3: 0.55, 4: 0.41}</td>\n",
       "      <td id=\"T_03e99_row33_col7\" class=\"data row33 col7\" >[]</td>\n",
       "      <td id=\"T_03e99_row33_col8\" class=\"data row33 col8\" >[]</td>\n",
       "      <td id=\"T_03e99_row33_col9\" class=\"data row33 col9\" >[]</td>\n",
       "    </tr>\n",
       "    <tr>\n",
       "      <td id=\"T_03e99_row34_col0\" class=\"data row34 col0\" >n1529</td>\n",
       "      <td id=\"T_03e99_row34_col1\" class=\"data row34 col1\" >Child</td>\n",
       "      <td id=\"T_03e99_row34_col2\" class=\"data row34 col2\" >None</td>\n",
       "      <td id=\"T_03e99_row34_col3\" class=\"data row34 col3\" >2915</td>\n",
       "      <td id=\"T_03e99_row34_col4\" class=\"data row34 col4\" >3668.38</td>\n",
       "      <td id=\"T_03e99_row34_col5\" class=\"data row34 col5\" >None</td>\n",
       "      <td id=\"T_03e99_row34_col6\" class=\"data row34 col6\" >{1: 0.01, 2: 0.01, 3: 0.21, 4: 0.77}</td>\n",
       "      <td id=\"T_03e99_row34_col7\" class=\"data row34 col7\" >[[1.0, 0.0], [0.77, 0.23], [0.41, 0.59]]</td>\n",
       "      <td id=\"T_03e99_row34_col8\" class=\"data row34 col8\" >[[0.01, 0.01, 0.14, 0.83], [0.0, 0.01, 0.44, 0.55]]</td>\n",
       "      <td id=\"T_03e99_row34_col9\" class=\"data row34 col9\" >[0.0]</td>\n",
       "    </tr>\n",
       "    <tr>\n",
       "      <td id=\"T_03e99_row35_col0\" class=\"data row35 col0\" >n383</td>\n",
       "      <td id=\"T_03e99_row35_col1\" class=\"data row35 col1\" >Parent</td>\n",
       "      <td id=\"T_03e99_row35_col2\" class=\"data row35 col2\" >driving_license in ('driving_license0',)</td>\n",
       "      <td id=\"T_03e99_row35_col3\" class=\"data row35 col3\" >11431</td>\n",
       "      <td id=\"T_03e99_row35_col4\" class=\"data row35 col4\" >13214.52</td>\n",
       "      <td id=\"T_03e99_row35_col5\" class=\"data row35 col5\" >0.64</td>\n",
       "      <td id=\"T_03e99_row35_col6\" class=\"data row35 col6\" >{1: 0.01, 2: 0.02, 3: 0.16, 4: 0.81}</td>\n",
       "      <td id=\"T_03e99_row35_col7\" class=\"data row35 col7\" >[[0.66, 0.34], [0.15, 0.85]]</td>\n",
       "      <td id=\"T_03e99_row35_col8\" class=\"data row35 col8\" >[[0.01, 0.0, 0.41, 0.58], [0.01, 0.02, 0.08, 0.89]]</td>\n",
       "      <td id=\"T_03e99_row35_col9\" class=\"data row35 col9\" >[0.0]</td>\n",
       "    </tr>\n",
       "    <tr>\n",
       "      <td id=\"T_03e99_row36_col0\" class=\"data row36 col0\" >n766</td>\n",
       "      <td id=\"T_03e99_row36_col1\" class=\"data row36 col1\" >Child</td>\n",
       "      <td id=\"T_03e99_row36_col2\" class=\"data row36 col2\" >None</td>\n",
       "      <td id=\"T_03e99_row36_col3\" class=\"data row36 col3\" >9317</td>\n",
       "      <td id=\"T_03e99_row36_col4\" class=\"data row36 col4\" >9898.97</td>\n",
       "      <td id=\"T_03e99_row36_col5\" class=\"data row36 col5\" >None</td>\n",
       "      <td id=\"T_03e99_row36_col6\" class=\"data row36 col6\" >{1: 0.01, 2: 0.02, 3: 0.13, 4: 0.84}</td>\n",
       "      <td id=\"T_03e99_row36_col7\" class=\"data row36 col7\" >[[1.0, 0.0], [0.77, 0.23], [0.5, 0.5]]</td>\n",
       "      <td id=\"T_03e99_row36_col8\" class=\"data row36 col8\" >[[0.01, 0.02, 0.06, 0.91], [0.01, 0.03, 0.38, 0.58]]</td>\n",
       "      <td id=\"T_03e99_row36_col9\" class=\"data row36 col9\" >[0.0]</td>\n",
       "    </tr>\n",
       "    <tr>\n",
       "      <td id=\"T_03e99_row37_col0\" class=\"data row37 col0\" >n767</td>\n",
       "      <td id=\"T_03e99_row37_col1\" class=\"data row37 col1\" >Parent</td>\n",
       "      <td id=\"T_03e99_row37_col2\" class=\"data row37 col2\" >faretype in ('faretype5',)</td>\n",
       "      <td id=\"T_03e99_row37_col3\" class=\"data row37 col3\" >2114</td>\n",
       "      <td id=\"T_03e99_row37_col4\" class=\"data row37 col4\" >2996.93</td>\n",
       "      <td id=\"T_03e99_row37_col5\" class=\"data row37 col5\" >0.641</td>\n",
       "      <td id=\"T_03e99_row37_col6\" class=\"data row37 col6\" >{1: 0.01, 2: 0.01, 3: 0.3, 4: 0.69}</td>\n",
       "      <td id=\"T_03e99_row37_col7\" class=\"data row37 col7\" >[[0.45, 0.55], [0.9, 0.1]]</td>\n",
       "      <td id=\"T_03e99_row37_col8\" class=\"data row37 col8\" >[[0.0, 0.0, 0.05, 0.95], [0.03, 0.03, 0.94, 0.0]]</td>\n",
       "      <td id=\"T_03e99_row37_col9\" class=\"data row37 col9\" >[0.0]</td>\n",
       "    </tr>\n",
       "    <tr>\n",
       "      <td id=\"T_03e99_row38_col0\" class=\"data row38 col0\" >n1534</td>\n",
       "      <td id=\"T_03e99_row38_col1\" class=\"data row38 col1\" >Child</td>\n",
       "      <td id=\"T_03e99_row38_col2\" class=\"data row38 col2\" >None</td>\n",
       "      <td id=\"T_03e99_row38_col3\" class=\"data row38 col3\" >825</td>\n",
       "      <td id=\"T_03e99_row38_col4\" class=\"data row38 col4\" >1383.69</td>\n",
       "      <td id=\"T_03e99_row38_col5\" class=\"data row38 col5\" >None</td>\n",
       "      <td id=\"T_03e99_row38_col6\" class=\"data row38 col6\" >{1: 0.02, 2: 0.02, 3: 0.54, 4: 0.43}</td>\n",
       "      <td id=\"T_03e99_row38_col7\" class=\"data row38 col7\" >[]</td>\n",
       "      <td id=\"T_03e99_row38_col8\" class=\"data row38 col8\" >[]</td>\n",
       "      <td id=\"T_03e99_row38_col9\" class=\"data row38 col9\" >[]</td>\n",
       "    </tr>\n",
       "    <tr>\n",
       "      <td id=\"T_03e99_row39_col0\" class=\"data row39 col0\" >n1535</td>\n",
       "      <td id=\"T_03e99_row39_col1\" class=\"data row39 col1\" >Child</td>\n",
       "      <td id=\"T_03e99_row39_col2\" class=\"data row39 col2\" >None</td>\n",
       "      <td id=\"T_03e99_row39_col3\" class=\"data row39 col3\" >1289</td>\n",
       "      <td id=\"T_03e99_row39_col4\" class=\"data row39 col4\" >1186.48</td>\n",
       "      <td id=\"T_03e99_row39_col5\" class=\"data row39 col5\" >None</td>\n",
       "      <td id=\"T_03e99_row39_col6\" class=\"data row39 col6\" >{1: 0.01, 2: 0.0, 3: 0.14, 4: 0.85}</td>\n",
       "      <td id=\"T_03e99_row39_col7\" class=\"data row39 col7\" >[]</td>\n",
       "      <td id=\"T_03e99_row39_col8\" class=\"data row39 col8\" >[]</td>\n",
       "      <td id=\"T_03e99_row39_col9\" class=\"data row39 col9\" >[]</td>\n",
       "    </tr>\n",
       "    <tr>\n",
       "      <td id=\"T_03e99_row40_col0\" class=\"data row40 col0\" >n3</td>\n",
       "      <td id=\"T_03e99_row40_col1\" class=\"data row40 col1\" >Parent</td>\n",
       "      <td id=\"T_03e99_row40_col2\" class=\"data row40 col2\" >distance_group in ('distance04', 'distance05', 'distance06', 'distance07', 'distance08', 'distance09', 'distance10', 'distance11')</td>\n",
       "      <td id=\"T_03e99_row40_col3\" class=\"data row40 col3\" >22179</td>\n",
       "      <td id=\"T_03e99_row40_col4\" class=\"data row40 col4\" >43438.91</td>\n",
       "      <td id=\"T_03e99_row40_col5\" class=\"data row40 col5\" >0.642</td>\n",
       "      <td id=\"T_03e99_row40_col6\" class=\"data row40 col6\" >{1: 0.26, 2: 0.04, 3: 0.62, 4: 0.08}</td>\n",
       "      <td id=\"T_03e99_row40_col7\" class=\"data row40 col7\" >[[0.06, 0.94], [0.22, 0.78], [0.39, 0.61], [0.59, 0.41], [0.77, 0.23], [0.85, 0.15], [0.95, 0.05], [0.99, 0.01], [1.0, 0.0], [1.0, 0.0], [1.01, 0.0]]</td>\n",
       "      <td id=\"T_03e99_row40_col8\" class=\"data row40 col8\" >[[0.0, 0.05, 0.87, 0.09], [0.94, 0.03, 0.0, 0.03]]</td>\n",
       "      <td id=\"T_03e99_row40_col9\" class=\"data row40 col9\" >[0.01]</td>\n",
       "    </tr>\n",
       "    <tr>\n",
       "      <td id=\"T_03e99_row41_col0\" class=\"data row41 col0\" >n6</td>\n",
       "      <td id=\"T_03e99_row41_col1\" class=\"data row41 col1\" >Child</td>\n",
       "      <td id=\"T_03e99_row41_col2\" class=\"data row41 col2\" >None</td>\n",
       "      <td id=\"T_03e99_row41_col3\" class=\"data row41 col3\" >5872</td>\n",
       "      <td id=\"T_03e99_row41_col4\" class=\"data row41 col4\" >9279.29</td>\n",
       "      <td id=\"T_03e99_row41_col5\" class=\"data row41 col5\" >None</td>\n",
       "      <td id=\"T_03e99_row41_col6\" class=\"data row41 col6\" >{1: 0.73, 2: 0.03, 3: 0.2, 4: 0.05}</td>\n",
       "      <td id=\"T_03e99_row41_col7\" class=\"data row41 col7\" >[[0.38, 0.62], [0.37, 0.63], [0.85, 0.15], [0.24, 0.76], [1.0, 0.0]]</td>\n",
       "      <td id=\"T_03e99_row41_col8\" class=\"data row41 col8\" >[[0.6, 0.01, 0.35, 0.04], [0.9, 0.07, 0.0, 0.04]]</td>\n",
       "      <td id=\"T_03e99_row41_col9\" class=\"data row41 col9\" >[0.01]</td>\n",
       "    </tr>\n",
       "    <tr>\n",
       "      <td id=\"T_03e99_row42_col0\" class=\"data row42 col0\" >n7</td>\n",
       "      <td id=\"T_03e99_row42_col1\" class=\"data row42 col1\" >Child</td>\n",
       "      <td id=\"T_03e99_row42_col2\" class=\"data row42 col2\" >None</td>\n",
       "      <td id=\"T_03e99_row42_col3\" class=\"data row42 col3\" >16307</td>\n",
       "      <td id=\"T_03e99_row42_col4\" class=\"data row42 col4\" >25702.84</td>\n",
       "      <td id=\"T_03e99_row42_col5\" class=\"data row42 col5\" >None</td>\n",
       "      <td id=\"T_03e99_row42_col6\" class=\"data row42 col6\" >{1: 0.1, 2: 0.05, 3: 0.77, 4: 0.09}</td>\n",
       "      <td id=\"T_03e99_row42_col7\" class=\"data row42 col7\" >[[0.96, 0.04], [0.17, 0.83], [0.59, 0.41]]</td>\n",
       "      <td id=\"T_03e99_row42_col8\" class=\"data row42 col8\" >[[0.0, 0.06, 0.89, 0.05], [0.16, 0.05, 0.69, 0.11]]</td>\n",
       "      <td id=\"T_03e99_row42_col9\" class=\"data row42 col9\" >[0.0]</td>\n",
       "    </tr>\n",
       "  </tbody>\n",
       "</table>\n"
      ],
      "text/plain": [
       "<pandas.io.formats.style.Styler at 0x150c8bd8850>"
      ]
     },
     "execution_count": 20,
     "metadata": {},
     "output_type": "execute_result"
    }
   ],
   "source": [
    "pruned_table.style.hide()"
   ]
  },
  {
   "cell_type": "code",
   "execution_count": 21,
   "metadata": {},
   "outputs": [],
   "source": [
    "predictions = []\n",
    "\n",
    "for i in range(n_features_test.shape[0]):\n",
    "    d = dict(n_features_test.iloc[i,])\n",
    "    tree.pred_x(my_tree, d, tree.get_all_node(), tree.get_leaf())\n",
    "    predictions.append(tree.prediction_cat[-1])\n"
   ]
  },
  {
   "cell_type": "code",
   "execution_count": 22,
   "metadata": {},
   "outputs": [
    {
     "data": {
      "text/plain": [
       "26.93"
      ]
     },
     "execution_count": 22,
     "metadata": {},
     "output_type": "execute_result"
    }
   ],
   "source": [
    "y_test_list = y_test[\"travel_mode\"].values.tolist()\n",
    "\n",
    "missclass = 0 \n",
    "\n",
    "for i in range(len(predictions)):\n",
    "    if predictions[i] != y_test_list[i]:\n",
    "        missclass += 1 \n",
    "\n",
    "round(missclass / len(y_test_list) * 100, 2)"
   ]
  },
  {
   "cell_type": "markdown",
   "metadata": {},
   "source": [
    "27.61 non combination\n",
    "\n",
    "26.53 combination"
   ]
  },
  {
   "cell_type": "code",
   "execution_count": 23,
   "metadata": {},
   "outputs": [
    {
     "data": {
      "text/plain": [
       "('Accuracy', 55.6, 0.0, 74.97, 83.01)"
      ]
     },
     "execution_count": 23,
     "metadata": {},
     "output_type": "execute_result"
    }
   ],
   "source": [
    "missclass1 = 0 \n",
    "class1 = 0\n",
    "missclass2 = 0 \n",
    "class2 = 0\n",
    "missclass3 = 0 \n",
    "class3 = 0\n",
    "missclass4 = 0 \n",
    "class4 = 0\n",
    "\n",
    "for i in range(len(predictions)):\n",
    "    if y_test_list[i] ==1:\n",
    "        class1 += 1\n",
    "        if predictions[i] != y_test_list[i]:\n",
    "            missclass1 += 1 \n",
    "    if y_test_list[i] ==2:\n",
    "        class2 += 1\n",
    "        if predictions[i] != y_test_list[i]:\n",
    "            missclass2 += 1 \n",
    "    if y_test_list[i] ==3:\n",
    "        class3 += 1\n",
    "        if predictions[i] != y_test_list[i]:\n",
    "            missclass3 += 1 \n",
    "    if y_test_list[i] ==4:\n",
    "        class4 += 1\n",
    "        if predictions[i] != y_test_list[i]:\n",
    "            missclass4 += 1 \n",
    "\n",
    "\n",
    "\"Accuracy\", round((1-missclass1 / class1) * 100, 2), round((1-missclass2 / class2) * 100, 2), round((1-missclass3 / class3) * 100, 2), round((1-missclass4 / class4 )* 100, 2)"
   ]
  }
 ],
 "metadata": {
  "kernelspec": {
   "display_name": "base",
   "language": "python",
   "name": "python3"
  },
  "language_info": {
   "codemirror_mode": {
    "name": "ipython",
    "version": 3
   },
   "file_extension": ".py",
   "mimetype": "text/x-python",
   "name": "python",
   "nbconvert_exporter": "python",
   "pygments_lexer": "ipython3",
   "version": "3.11.5"
  },
  "orig_nbformat": 4
 },
 "nbformat": 4,
 "nbformat_minor": 2
}
