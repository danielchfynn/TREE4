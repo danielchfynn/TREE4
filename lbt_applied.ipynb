{
 "cells": [
  {
   "cell_type": "code",
   "execution_count": 1,
   "metadata": {},
   "outputs": [],
   "source": [
    "import pandas as pd\n",
    "import numpy as np\n",
    "\n",
    "from cart import *"
   ]
  },
  {
   "cell_type": "code",
   "execution_count": 5,
   "metadata": {},
   "outputs": [
    {
     "name": "stdout",
     "output_type": "stream",
     "text": [
      "(81086, 32)\n"
     ]
    },
    {
     "data": {
      "text/html": [
       "<div>\n",
       "<style scoped>\n",
       "    .dataframe tbody tr th:only-of-type {\n",
       "        vertical-align: middle;\n",
       "    }\n",
       "\n",
       "    .dataframe tbody tr th {\n",
       "        vertical-align: top;\n",
       "    }\n",
       "\n",
       "    .dataframe thead th {\n",
       "        text-align: right;\n",
       "    }\n",
       "</style>\n",
       "<table border=\"1\" class=\"dataframe\">\n",
       "  <thead>\n",
       "    <tr style=\"text-align: right;\">\n",
       "      <th></th>\n",
       "      <th>trip_id</th>\n",
       "      <th>household_id</th>\n",
       "      <th>person_n</th>\n",
       "      <th>trip_n</th>\n",
       "      <th>travel_mode</th>\n",
       "      <th>purpose</th>\n",
       "      <th>fueltype</th>\n",
       "      <th>faretype</th>\n",
       "      <th>bus_scale</th>\n",
       "      <th>survey_year</th>\n",
       "      <th>travel_year</th>\n",
       "      <th>travel_month</th>\n",
       "      <th>travel_date</th>\n",
       "      <th>day_of_week</th>\n",
       "      <th>start_time</th>\n",
       "      <th>age</th>\n",
       "      <th>female</th>\n",
       "      <th>driving_license</th>\n",
       "      <th>car_ownership</th>\n",
       "      <th>distance</th>\n",
       "      <th>dur_walking</th>\n",
       "      <th>dur_cycling</th>\n",
       "      <th>dur_pt_access</th>\n",
       "      <th>dur_pt_rail</th>\n",
       "      <th>dur_pt_bus</th>\n",
       "      <th>dur_pt_int</th>\n",
       "      <th>pt_interchanges</th>\n",
       "      <th>dur_driving</th>\n",
       "      <th>cost_transit</th>\n",
       "      <th>cost_driving_fuel</th>\n",
       "      <th>cost_driving_ccharge</th>\n",
       "      <th>driving_traffic_percent</th>\n",
       "    </tr>\n",
       "  </thead>\n",
       "  <tbody>\n",
       "    <tr>\n",
       "      <th>0</th>\n",
       "      <td>0</td>\n",
       "      <td>0</td>\n",
       "      <td>0</td>\n",
       "      <td>0</td>\n",
       "      <td>4</td>\n",
       "      <td>3</td>\n",
       "      <td>1</td>\n",
       "      <td>1</td>\n",
       "      <td>1.0</td>\n",
       "      <td>1</td>\n",
       "      <td>2012</td>\n",
       "      <td>4</td>\n",
       "      <td>1</td>\n",
       "      <td>7</td>\n",
       "      <td>10.000000</td>\n",
       "      <td>56</td>\n",
       "      <td>1</td>\n",
       "      <td>1</td>\n",
       "      <td>2</td>\n",
       "      <td>778</td>\n",
       "      <td>0.218056</td>\n",
       "      <td>0.092222</td>\n",
       "      <td>0.134444</td>\n",
       "      <td>0.0</td>\n",
       "      <td>0.016667</td>\n",
       "      <td>0.0</td>\n",
       "      <td>0</td>\n",
       "      <td>0.052222</td>\n",
       "      <td>1.5</td>\n",
       "      <td>0.14</td>\n",
       "      <td>0.0</td>\n",
       "      <td>0.111702</td>\n",
       "    </tr>\n",
       "    <tr>\n",
       "      <th>1</th>\n",
       "      <td>1</td>\n",
       "      <td>0</td>\n",
       "      <td>0</td>\n",
       "      <td>1</td>\n",
       "      <td>4</td>\n",
       "      <td>3</td>\n",
       "      <td>1</td>\n",
       "      <td>1</td>\n",
       "      <td>1.0</td>\n",
       "      <td>1</td>\n",
       "      <td>2012</td>\n",
       "      <td>4</td>\n",
       "      <td>1</td>\n",
       "      <td>7</td>\n",
       "      <td>13.000000</td>\n",
       "      <td>56</td>\n",
       "      <td>1</td>\n",
       "      <td>1</td>\n",
       "      <td>2</td>\n",
       "      <td>778</td>\n",
       "      <td>0.188889</td>\n",
       "      <td>0.061944</td>\n",
       "      <td>0.109444</td>\n",
       "      <td>0.0</td>\n",
       "      <td>0.055556</td>\n",
       "      <td>0.0</td>\n",
       "      <td>0</td>\n",
       "      <td>0.059444</td>\n",
       "      <td>1.5</td>\n",
       "      <td>0.15</td>\n",
       "      <td>0.0</td>\n",
       "      <td>0.112150</td>\n",
       "    </tr>\n",
       "    <tr>\n",
       "      <th>2</th>\n",
       "      <td>2</td>\n",
       "      <td>0</td>\n",
       "      <td>0</td>\n",
       "      <td>2</td>\n",
       "      <td>4</td>\n",
       "      <td>3</td>\n",
       "      <td>1</td>\n",
       "      <td>1</td>\n",
       "      <td>1.0</td>\n",
       "      <td>1</td>\n",
       "      <td>2012</td>\n",
       "      <td>4</td>\n",
       "      <td>1</td>\n",
       "      <td>7</td>\n",
       "      <td>17.000000</td>\n",
       "      <td>56</td>\n",
       "      <td>1</td>\n",
       "      <td>1</td>\n",
       "      <td>2</td>\n",
       "      <td>4562</td>\n",
       "      <td>1.037778</td>\n",
       "      <td>0.355833</td>\n",
       "      <td>0.203056</td>\n",
       "      <td>0.0</td>\n",
       "      <td>0.210278</td>\n",
       "      <td>0.0</td>\n",
       "      <td>0</td>\n",
       "      <td>0.236667</td>\n",
       "      <td>1.5</td>\n",
       "      <td>0.79</td>\n",
       "      <td>0.0</td>\n",
       "      <td>0.203052</td>\n",
       "    </tr>\n",
       "    <tr>\n",
       "      <th>3</th>\n",
       "      <td>3</td>\n",
       "      <td>0</td>\n",
       "      <td>0</td>\n",
       "      <td>3</td>\n",
       "      <td>4</td>\n",
       "      <td>3</td>\n",
       "      <td>1</td>\n",
       "      <td>1</td>\n",
       "      <td>1.0</td>\n",
       "      <td>1</td>\n",
       "      <td>2012</td>\n",
       "      <td>4</td>\n",
       "      <td>1</td>\n",
       "      <td>7</td>\n",
       "      <td>17.350000</td>\n",
       "      <td>56</td>\n",
       "      <td>1</td>\n",
       "      <td>1</td>\n",
       "      <td>2</td>\n",
       "      <td>4562</td>\n",
       "      <td>1.039444</td>\n",
       "      <td>0.384444</td>\n",
       "      <td>0.205556</td>\n",
       "      <td>0.0</td>\n",
       "      <td>0.258611</td>\n",
       "      <td>0.0</td>\n",
       "      <td>0</td>\n",
       "      <td>0.233333</td>\n",
       "      <td>1.5</td>\n",
       "      <td>0.78</td>\n",
       "      <td>0.0</td>\n",
       "      <td>0.160714</td>\n",
       "    </tr>\n",
       "    <tr>\n",
       "      <th>4</th>\n",
       "      <td>4</td>\n",
       "      <td>0</td>\n",
       "      <td>1</td>\n",
       "      <td>2</td>\n",
       "      <td>4</td>\n",
       "      <td>3</td>\n",
       "      <td>1</td>\n",
       "      <td>4</td>\n",
       "      <td>1.0</td>\n",
       "      <td>1</td>\n",
       "      <td>2012</td>\n",
       "      <td>4</td>\n",
       "      <td>1</td>\n",
       "      <td>7</td>\n",
       "      <td>19.583333</td>\n",
       "      <td>54</td>\n",
       "      <td>0</td>\n",
       "      <td>1</td>\n",
       "      <td>2</td>\n",
       "      <td>4562</td>\n",
       "      <td>1.037778</td>\n",
       "      <td>0.355833</td>\n",
       "      <td>0.203056</td>\n",
       "      <td>0.0</td>\n",
       "      <td>0.189444</td>\n",
       "      <td>0.0</td>\n",
       "      <td>0</td>\n",
       "      <td>0.229167</td>\n",
       "      <td>1.5</td>\n",
       "      <td>0.78</td>\n",
       "      <td>0.0</td>\n",
       "      <td>0.130909</td>\n",
       "    </tr>\n",
       "  </tbody>\n",
       "</table>\n",
       "</div>"
      ],
      "text/plain": [
       "   trip_id  household_id  person_n  trip_n  travel_mode  purpose  fueltype  \\\n",
       "0        0             0         0       0            4        3         1   \n",
       "1        1             0         0       1            4        3         1   \n",
       "2        2             0         0       2            4        3         1   \n",
       "3        3             0         0       3            4        3         1   \n",
       "4        4             0         1       2            4        3         1   \n",
       "\n",
       "   faretype  bus_scale  survey_year  travel_year  travel_month  travel_date  \\\n",
       "0         1        1.0            1         2012             4            1   \n",
       "1         1        1.0            1         2012             4            1   \n",
       "2         1        1.0            1         2012             4            1   \n",
       "3         1        1.0            1         2012             4            1   \n",
       "4         4        1.0            1         2012             4            1   \n",
       "\n",
       "   day_of_week  start_time  age  female  driving_license  car_ownership  \\\n",
       "0            7   10.000000   56       1                1              2   \n",
       "1            7   13.000000   56       1                1              2   \n",
       "2            7   17.000000   56       1                1              2   \n",
       "3            7   17.350000   56       1                1              2   \n",
       "4            7   19.583333   54       0                1              2   \n",
       "\n",
       "   distance  dur_walking  dur_cycling  dur_pt_access  dur_pt_rail  dur_pt_bus  \\\n",
       "0       778     0.218056     0.092222       0.134444          0.0    0.016667   \n",
       "1       778     0.188889     0.061944       0.109444          0.0    0.055556   \n",
       "2      4562     1.037778     0.355833       0.203056          0.0    0.210278   \n",
       "3      4562     1.039444     0.384444       0.205556          0.0    0.258611   \n",
       "4      4562     1.037778     0.355833       0.203056          0.0    0.189444   \n",
       "\n",
       "   dur_pt_int  pt_interchanges  dur_driving  cost_transit  cost_driving_fuel  \\\n",
       "0         0.0                0     0.052222           1.5               0.14   \n",
       "1         0.0                0     0.059444           1.5               0.15   \n",
       "2         0.0                0     0.236667           1.5               0.79   \n",
       "3         0.0                0     0.233333           1.5               0.78   \n",
       "4         0.0                0     0.229167           1.5               0.78   \n",
       "\n",
       "   cost_driving_ccharge  driving_traffic_percent  \n",
       "0                   0.0                 0.111702  \n",
       "1                   0.0                 0.112150  \n",
       "2                   0.0                 0.203052  \n",
       "3                   0.0                 0.160714  \n",
       "4                   0.0                 0.130909  "
      ]
     },
     "execution_count": 5,
     "metadata": {},
     "output_type": "execute_result"
    }
   ],
   "source": [
    "pd.options.display.max_columns = None\n",
    "dataframe = pd.read_table('lpmc.dat')\n",
    "print(dataframe.shape)\n",
    "dataframe.head()"
   ]
  },
  {
   "cell_type": "code",
   "execution_count": 6,
   "metadata": {},
   "outputs": [],
   "source": [
    "#binning age\n",
    "\n",
    "groupDict={'0-18':0,'19-30':0,'31-65':0, '66+': 0}\n",
    "\n",
    "for i in dataframe['age']:\n",
    "    if i>=0 and i<=10:\n",
    "        groupDict['0-18']+=1\n",
    "    elif i>=19 and i<=30:\n",
    "        groupDict['19-30']+=1\n",
    "    elif i>=31 and i<=65:\n",
    "        groupDict['31-65']+=1\n",
    "    else:\n",
    "        groupDict['66+']+=1\n",
    "\n",
    "dataframe.loc[dataframe['age']<=18, 'age_group'] = '0-18'\n",
    "dataframe.loc[dataframe['age'].between(19,30), 'age_group'] = '19-30'\n",
    "dataframe.loc[dataframe['age'].between(31,65), 'age_group'] = '31-65'\n",
    "dataframe.loc[dataframe['age']>65, 'age_group'] = '66+'\n",
    "dataframe.drop(['age'], axis= 1, inplace = True)\n",
    "\n",
    "\n",
    "#binning distance\n",
    "\n",
    "dataframe.loc[dataframe['distance']< 658.50, 'distance_group'] = 'distance01'\n",
    "dataframe.loc[dataframe['distance'].between(658.50,861.49), 'distance_group'] = 'distance02'\n",
    "dataframe.loc[dataframe['distance'].between(861.50,1214.49), 'distance_group'] = 'distance03'\n",
    "dataframe.loc[dataframe['distance'].between(1214.50,1514.49 ), 'distance_group'] = 'distance04'\n",
    "dataframe.loc[dataframe['distance'].between(1514.50, 2156.49), 'distance_group'] = 'distance05'\n",
    "dataframe.loc[dataframe['distance'].between(2156.50, 2759.49), 'distance_group'] = 'distance06'\n",
    "dataframe.loc[dataframe['distance'].between(2759.50, 4391.49), 'distance_group'] = 'distance07'\n",
    "dataframe.loc[dataframe['distance'].between(4391.50, 5369.49), 'distance_group'] = 'distance08'\n",
    "dataframe.loc[dataframe['distance'].between(5369.50, 10087.49), 'distance_group'] = 'distance09'\n",
    "dataframe.loc[dataframe['distance'].between(10087.50, 14695.49), 'distance_group'] = 'distance10'\n",
    "dataframe.loc[dataframe['distance']>=14695.50, 'distance_group'] = 'distance11'\n",
    "dataframe.drop('distance', axis = 1, inplace = True)\n",
    "\n",
    "#binning start time\n",
    "\n",
    "dataframe.loc[dataframe['start_time']<8.091666, 'starttime_group'] = 'early_morning'\n",
    "dataframe.loc[dataframe['start_time'].between(8.091666,10.00833320), 'starttime_group'] = 'morning'\n",
    "dataframe.loc[dataframe['start_time'].between(10.008333211,18.50833320), 'starttime_group'] = 'afternoon'\n",
    "dataframe.loc[dataframe['start_time']> 18.50833321, 'starttime_group'] = 'evening'\n",
    "dataframe.drop('start_time', axis = 1, inplace = True)\n",
    "\n",
    "#binning cost transit\n",
    "\n",
    "dataframe.loc[dataframe['cost_transit']< 1.52499998, 'cost_group'] = 'low_cost'\n",
    "dataframe.loc[dataframe['cost_transit'].between(1.52499998,3.01999997), 'cost_group'] = 'medium_cost'\n",
    "dataframe.loc[dataframe['cost_transit']> 3.01999998, 'cost_group'] = 'high_cost'\n",
    "dataframe.drop('cost_transit', axis = 1, inplace = True)\n",
    "\n",
    "#binning cost_driving_Fuel\n",
    "\n",
    "dataframe.loc[dataframe['cost_driving_fuel']< 0.165, 'costdrivingfuel_group'] = 'costdrivingfuelgroup1'\n",
    "dataframe.loc[dataframe['cost_driving_fuel'].between(0.165,0.204), 'costdrivingfuel_group'] = 'costdrivingfuelgroup2'\n",
    "dataframe.loc[dataframe['cost_driving_fuel'].between(0.205,0.244), 'costdrivingfuel_group'] = 'costdrivingfuelgroup3'\n",
    "dataframe.loc[dataframe['cost_driving_fuel'].between(0.245, 0.294), 'costdrivingfuel_group'] = 'costdrivingfuelgroup4'\n",
    "dataframe.loc[dataframe['cost_driving_fuel'].between(0.295, 0.354), 'costdrivingfuel_group'] = 'costdrivingfuelgroup5'\n",
    "dataframe.loc[dataframe['cost_driving_fuel'].between(0.355, 0.44499998), 'costdrivingfuel_group'] = 'costdrivingfuelgroup6'\n",
    "dataframe.loc[dataframe['cost_driving_fuel'].between(0.44499999, 0.83499997), 'costdrivingfuel_group'] = 'costdrivingfuelgroup7'\n",
    "dataframe.loc[dataframe['cost_driving_fuel'].between(0.83499998, 1.17499994), 'costdrivingfuel_group'] = 'costdrivingfuelgroup8'\n",
    "dataframe.loc[dataframe['cost_driving_fuel'].between(1.17499995, 2.31499993), 'costdrivingfuel_group'] = 'costdrivingfuelgroup9'\n",
    "dataframe.loc[dataframe['cost_driving_fuel']> 2.31499994, 'costdrivingfuel_group'] = 'costdrivingfuelgroup10'\n",
    "dataframe.drop('cost_driving_fuel', axis = 1, inplace = True)\n",
    "\n",
    "#binning driving traddic percent\n",
    "\n",
    "dataframe.loc[dataframe['driving_traffic_percent']< 0.24422751, 'trafficperc_group'] = '0low_traffic'\n",
    "dataframe.loc[dataframe['driving_traffic_percent'].between(0.24422751,0.36449698), 'trafficperc_group'] = '1mediumlow_traffic'\n",
    "dataframe.loc[dataframe['driving_traffic_percent'].between(0.36449699,0.49620750), 'trafficperc_group'] = '2medium_traffic'\n",
    "dataframe.loc[dataframe['driving_traffic_percent'].between(0.49620751, 0.57161700), 'trafficperc_group'] = '3mediumhigh_traffic'\n",
    "dataframe.loc[dataframe['driving_traffic_percent']> 0.57161701, 'trafficperc_group'] = '4high_traffic'\n",
    "dataframe.drop('driving_traffic_percent', axis = 1, inplace = True)\n",
    "\n",
    "#binning cost_driving_ccharge\n",
    "\n",
    "dataframe.loc[dataframe['cost_driving_ccharge']< 5.25, 'drivingcharge_group'] = 'low_charge'\n",
    "dataframe.loc[dataframe['cost_driving_ccharge']> 5.25, 'drivingcharge_group'] = 'high_charge'\n",
    "dataframe.drop('cost_driving_ccharge', axis = 1, inplace = True)"
   ]
  },
  {
   "cell_type": "code",
   "execution_count": 7,
   "metadata": {},
   "outputs": [
    {
     "name": "stdout",
     "output_type": "stream",
     "text": [
      "travel_mode {1, 2, 3, 4}\n",
      "purpose {1, 2, 3, 4, 5}\n",
      "fueltype {1, 2, 3, 4, 5, 6}\n",
      "faretype {1, 2, 3, 4, 5}\n",
      "bus_scale {0.0, 1.0, 0.5}\n",
      "survey_year {1, 2, 3}\n",
      "travel_year {2012, 2013, 2014, 2015}\n",
      "travel_month {1, 2, 3, 4, 5, 6, 7, 8, 9, 10, 11, 12}\n",
      "day_of_week {1, 2, 3, 4, 5, 6, 7}\n",
      "female {0, 1}\n",
      "driving_license {0, 1}\n",
      "car_ownership {0, 1, 2}\n",
      "pt_interchanges {0, 1, 2, 3, 4}\n",
      "age_group {'66+', '19-30', '0-18', '31-65'}\n",
      "distance_group {'distance09', 'distance05', 'distance06', 'distance07', 'distance04', 'distance10', 'distance08', 'distance03', 'distance01', 'distance02', 'distance11'}\n",
      "starttime_group {'evening', 'morning', 'early_morning', 'afternoon'}\n",
      "cost_group {'low_cost', 'medium_cost', 'high_cost'}\n",
      "costdrivingfuel_group {'costdrivingfuelgroup8', 'costdrivingfuelgroup6', 'costdrivingfuelgroup7', 'costdrivingfuelgroup10', 'costdrivingfuelgroup5', 'costdrivingfuelgroup1', 'costdrivingfuelgroup3', 'costdrivingfuelgroup4', 'costdrivingfuelgroup2', 'costdrivingfuelgroup9'}\n",
      "trafficperc_group {'0low_traffic', '2medium_traffic', '1mediumlow_traffic', '3mediumhigh_traffic', '4high_traffic'}\n",
      "drivingcharge_group {'high_charge', 'low_charge'}\n"
     ]
    }
   ],
   "source": [
    "for i in dataframe.columns:\n",
    "      if i not in ['trip_id', 'household_id', 'person_n', 'trip_n', 'travel_date', 'dur_pt_int',\n",
    "          'dur_pt_rail', 'dur_pt_access', 'dur_pt_bus', 'dur_walking', 'dur_cycling', 'dur_driving']:\n",
    "            print(i, set(dataframe[i]))"
   ]
  },
  {
   "cell_type": "code",
   "execution_count": 8,
   "metadata": {},
   "outputs": [
    {
     "name": "stdout",
     "output_type": "stream",
     "text": [
      "{2012, 2013, 2014, 2015}\n"
     ]
    },
    {
     "name": "stdout",
     "output_type": "stream",
     "text": [
      "Number of columns dropped: 12\n",
      "Index(['purpose', 'fueltype', 'faretype', 'bus_scale', 'travel_month',\n",
      "       'day_of_week', 'female', 'driving_license', 'car_ownership',\n",
      "       'pt_interchanges', 'age_group', 'distance_group', 'starttime_group',\n",
      "       'cost_group', 'costdrivingfuel_group', 'trafficperc_group',\n",
      "       'drivingcharge_group'],\n",
      "      dtype='object')\n"
     ]
    }
   ],
   "source": [
    "y = dataframe[['travel_mode', 'travel_year']]\n",
    "X = dataframe.drop(['travel_mode', 'survey_year'], axis = 1)\n",
    "\n",
    "print(set(X[\"travel_year\"]))\n",
    "\n",
    "a = X.loc[X[\"travel_year\"]==2015]\n",
    "#creating test set \n",
    "\n",
    "X_test= X.query('travel_year == 2015') #creates a subset, like this: X.loc[X[\"travel_year\"]==2015]\n",
    "y_test = y.query('travel_year == 2015')\n",
    "\n",
    "X_test = X_test.drop(['travel_year'], axis =1).copy()\n",
    "y_test = y_test.drop(['travel_year'], axis =1).copy()\n",
    "\n",
    "#create training set \n",
    "\n",
    "X_train_1 = X.query('travel_year == 2012')\n",
    "y_train_1 = y.query('travel_year == 2012')\n",
    "X_train_2 = X.query('travel_year == 2013')\n",
    "y_train_2 = y.query('travel_year == 2013')\n",
    "X_train_3 = X.query('travel_year == 2014')\n",
    "y_train_3 = y.query('travel_year == 2014')\n",
    "\n",
    "X_train = pd.concat([X_train_1, X_train_2, X_train_3])\n",
    "y_train = pd.concat([y_train_1, y_train_2, y_train_3])\n",
    "\n",
    "X_train = X_train.drop(['travel_year'], axis = 1)\n",
    "y_train = y_train.drop(['travel_year'], axis = 1)\n",
    "\n",
    "\n",
    "data = pd.concat([X_train, y_train], axis = 1).copy()\n",
    "#data = data_to_shuffle.sample(frac=1, random_state = 42).reset_index(drop=True) #sampling returning all, and resetting index , no seed?\n",
    "y_train = data['travel_mode']\n",
    "X_train = data.drop(['travel_mode'], axis = 1)\n",
    "\n",
    "#feature selection\n",
    "\n",
    "to_drop = ['trip_id', 'household_id', 'person_n', 'trip_n', 'travel_date', 'dur_pt_int',\n",
    "          'dur_pt_rail', 'dur_pt_access', 'dur_pt_bus', 'dur_walking', 'dur_cycling', 'dur_driving']\n",
    "print(f'Number of columns dropped: {len(to_drop)}')\n",
    "X_train.drop(to_drop, axis = 1, inplace = True)\n",
    "\n",
    "X_test.drop(to_drop, axis = 1, inplace = True)\n",
    "\n",
    "predictors = X_test.columns\n",
    "y = y_test #is the whole vector\n",
    "print(predictors)\n",
    "\n",
    "datatest = pd.concat([y_test, X_test], axis = 1).reset_index()\n",
    "datatest.drop('index', axis = 1, inplace = True)\n",
    "datatest.to_csv(\"data_test.csv\", index = False)\n",
    "\n",
    "datatraining = pd.concat([y_train, X_train], axis = 1).reset_index()\n",
    "datatraining.drop('index', axis = 1, inplace = True)\n",
    "datatraining.to_csv(\"data_training.csv\", index = False)\n"
   ]
  },
  {
   "cell_type": "code",
   "execution_count": 9,
   "metadata": {},
   "outputs": [
    {
     "data": {
      "text/plain": [
       "0    4\n",
       "1    4\n",
       "2    4\n",
       "3    4\n",
       "4    4\n",
       "5    4\n",
       "6    4\n",
       "7    4\n",
       "8    4\n",
       "9    4\n",
       "Name: travel_mode, dtype: int64"
      ]
     },
     "metadata": {},
     "output_type": "display_data"
    },
    {
     "name": "stdout",
     "output_type": "stream",
     "text": [
      "(76103, 17)\n"
     ]
    },
    {
     "data": {
      "text/html": [
       "<div>\n",
       "<style scoped>\n",
       "    .dataframe tbody tr th:only-of-type {\n",
       "        vertical-align: middle;\n",
       "    }\n",
       "\n",
       "    .dataframe tbody tr th {\n",
       "        vertical-align: top;\n",
       "    }\n",
       "\n",
       "    .dataframe thead th {\n",
       "        text-align: right;\n",
       "    }\n",
       "</style>\n",
       "<table border=\"1\" class=\"dataframe\">\n",
       "  <thead>\n",
       "    <tr style=\"text-align: right;\">\n",
       "      <th></th>\n",
       "      <th>purpose</th>\n",
       "      <th>fueltype</th>\n",
       "      <th>faretype</th>\n",
       "      <th>bus_scale</th>\n",
       "      <th>travel_month</th>\n",
       "      <th>day_of_week</th>\n",
       "      <th>female</th>\n",
       "      <th>driving_license</th>\n",
       "      <th>car_ownership</th>\n",
       "      <th>pt_interchanges</th>\n",
       "      <th>age_group</th>\n",
       "      <th>distance_group</th>\n",
       "      <th>starttime_group</th>\n",
       "      <th>cost_group</th>\n",
       "      <th>costdrivingfuel_group</th>\n",
       "      <th>trafficperc_group</th>\n",
       "      <th>drivingcharge_group</th>\n",
       "    </tr>\n",
       "  </thead>\n",
       "  <tbody>\n",
       "    <tr>\n",
       "      <th>0</th>\n",
       "      <td>3</td>\n",
       "      <td>1</td>\n",
       "      <td>1</td>\n",
       "      <td>1.0</td>\n",
       "      <td>4</td>\n",
       "      <td>7</td>\n",
       "      <td>1</td>\n",
       "      <td>1</td>\n",
       "      <td>2</td>\n",
       "      <td>0</td>\n",
       "      <td>31-65</td>\n",
       "      <td>distance02</td>\n",
       "      <td>morning</td>\n",
       "      <td>low_cost</td>\n",
       "      <td>costdrivingfuelgroup1</td>\n",
       "      <td>0low_traffic</td>\n",
       "      <td>low_charge</td>\n",
       "    </tr>\n",
       "    <tr>\n",
       "      <th>1</th>\n",
       "      <td>3</td>\n",
       "      <td>1</td>\n",
       "      <td>1</td>\n",
       "      <td>1.0</td>\n",
       "      <td>4</td>\n",
       "      <td>7</td>\n",
       "      <td>1</td>\n",
       "      <td>1</td>\n",
       "      <td>2</td>\n",
       "      <td>0</td>\n",
       "      <td>31-65</td>\n",
       "      <td>distance02</td>\n",
       "      <td>afternoon</td>\n",
       "      <td>low_cost</td>\n",
       "      <td>costdrivingfuelgroup1</td>\n",
       "      <td>0low_traffic</td>\n",
       "      <td>low_charge</td>\n",
       "    </tr>\n",
       "    <tr>\n",
       "      <th>2</th>\n",
       "      <td>3</td>\n",
       "      <td>1</td>\n",
       "      <td>1</td>\n",
       "      <td>1.0</td>\n",
       "      <td>4</td>\n",
       "      <td>7</td>\n",
       "      <td>1</td>\n",
       "      <td>1</td>\n",
       "      <td>2</td>\n",
       "      <td>0</td>\n",
       "      <td>31-65</td>\n",
       "      <td>distance08</td>\n",
       "      <td>afternoon</td>\n",
       "      <td>low_cost</td>\n",
       "      <td>costdrivingfuelgroup7</td>\n",
       "      <td>0low_traffic</td>\n",
       "      <td>low_charge</td>\n",
       "    </tr>\n",
       "    <tr>\n",
       "      <th>3</th>\n",
       "      <td>3</td>\n",
       "      <td>1</td>\n",
       "      <td>1</td>\n",
       "      <td>1.0</td>\n",
       "      <td>4</td>\n",
       "      <td>7</td>\n",
       "      <td>1</td>\n",
       "      <td>1</td>\n",
       "      <td>2</td>\n",
       "      <td>0</td>\n",
       "      <td>31-65</td>\n",
       "      <td>distance08</td>\n",
       "      <td>afternoon</td>\n",
       "      <td>low_cost</td>\n",
       "      <td>costdrivingfuelgroup7</td>\n",
       "      <td>0low_traffic</td>\n",
       "      <td>low_charge</td>\n",
       "    </tr>\n",
       "    <tr>\n",
       "      <th>4</th>\n",
       "      <td>3</td>\n",
       "      <td>1</td>\n",
       "      <td>4</td>\n",
       "      <td>1.0</td>\n",
       "      <td>4</td>\n",
       "      <td>7</td>\n",
       "      <td>0</td>\n",
       "      <td>1</td>\n",
       "      <td>2</td>\n",
       "      <td>0</td>\n",
       "      <td>31-65</td>\n",
       "      <td>distance08</td>\n",
       "      <td>evening</td>\n",
       "      <td>low_cost</td>\n",
       "      <td>costdrivingfuelgroup7</td>\n",
       "      <td>0low_traffic</td>\n",
       "      <td>low_charge</td>\n",
       "    </tr>\n",
       "    <tr>\n",
       "      <th>5</th>\n",
       "      <td>3</td>\n",
       "      <td>1</td>\n",
       "      <td>4</td>\n",
       "      <td>1.0</td>\n",
       "      <td>4</td>\n",
       "      <td>7</td>\n",
       "      <td>0</td>\n",
       "      <td>1</td>\n",
       "      <td>2</td>\n",
       "      <td>0</td>\n",
       "      <td>31-65</td>\n",
       "      <td>distance08</td>\n",
       "      <td>evening</td>\n",
       "      <td>low_cost</td>\n",
       "      <td>costdrivingfuelgroup7</td>\n",
       "      <td>0low_traffic</td>\n",
       "      <td>low_charge</td>\n",
       "    </tr>\n",
       "    <tr>\n",
       "      <th>6</th>\n",
       "      <td>3</td>\n",
       "      <td>1</td>\n",
       "      <td>3</td>\n",
       "      <td>0.0</td>\n",
       "      <td>4</td>\n",
       "      <td>7</td>\n",
       "      <td>1</td>\n",
       "      <td>0</td>\n",
       "      <td>2</td>\n",
       "      <td>0</td>\n",
       "      <td>0-18</td>\n",
       "      <td>distance02</td>\n",
       "      <td>morning</td>\n",
       "      <td>low_cost</td>\n",
       "      <td>costdrivingfuelgroup1</td>\n",
       "      <td>0low_traffic</td>\n",
       "      <td>low_charge</td>\n",
       "    </tr>\n",
       "    <tr>\n",
       "      <th>7</th>\n",
       "      <td>3</td>\n",
       "      <td>1</td>\n",
       "      <td>3</td>\n",
       "      <td>0.0</td>\n",
       "      <td>4</td>\n",
       "      <td>7</td>\n",
       "      <td>1</td>\n",
       "      <td>0</td>\n",
       "      <td>2</td>\n",
       "      <td>0</td>\n",
       "      <td>0-18</td>\n",
       "      <td>distance02</td>\n",
       "      <td>afternoon</td>\n",
       "      <td>low_cost</td>\n",
       "      <td>costdrivingfuelgroup1</td>\n",
       "      <td>0low_traffic</td>\n",
       "      <td>low_charge</td>\n",
       "    </tr>\n",
       "    <tr>\n",
       "      <th>8</th>\n",
       "      <td>3</td>\n",
       "      <td>1</td>\n",
       "      <td>3</td>\n",
       "      <td>0.0</td>\n",
       "      <td>4</td>\n",
       "      <td>7</td>\n",
       "      <td>1</td>\n",
       "      <td>0</td>\n",
       "      <td>2</td>\n",
       "      <td>0</td>\n",
       "      <td>0-18</td>\n",
       "      <td>distance08</td>\n",
       "      <td>afternoon</td>\n",
       "      <td>low_cost</td>\n",
       "      <td>costdrivingfuelgroup7</td>\n",
       "      <td>0low_traffic</td>\n",
       "      <td>low_charge</td>\n",
       "    </tr>\n",
       "    <tr>\n",
       "      <th>9</th>\n",
       "      <td>3</td>\n",
       "      <td>1</td>\n",
       "      <td>3</td>\n",
       "      <td>0.0</td>\n",
       "      <td>4</td>\n",
       "      <td>7</td>\n",
       "      <td>1</td>\n",
       "      <td>0</td>\n",
       "      <td>2</td>\n",
       "      <td>0</td>\n",
       "      <td>0-18</td>\n",
       "      <td>distance08</td>\n",
       "      <td>evening</td>\n",
       "      <td>low_cost</td>\n",
       "      <td>costdrivingfuelgroup7</td>\n",
       "      <td>0low_traffic</td>\n",
       "      <td>low_charge</td>\n",
       "    </tr>\n",
       "  </tbody>\n",
       "</table>\n",
       "</div>"
      ],
      "text/plain": [
       "   purpose  fueltype  faretype  bus_scale  travel_month  day_of_week  female  \\\n",
       "0        3         1         1        1.0             4            7       1   \n",
       "1        3         1         1        1.0             4            7       1   \n",
       "2        3         1         1        1.0             4            7       1   \n",
       "3        3         1         1        1.0             4            7       1   \n",
       "4        3         1         4        1.0             4            7       0   \n",
       "5        3         1         4        1.0             4            7       0   \n",
       "6        3         1         3        0.0             4            7       1   \n",
       "7        3         1         3        0.0             4            7       1   \n",
       "8        3         1         3        0.0             4            7       1   \n",
       "9        3         1         3        0.0             4            7       1   \n",
       "\n",
       "   driving_license  car_ownership  pt_interchanges age_group distance_group  \\\n",
       "0                1              2                0     31-65     distance02   \n",
       "1                1              2                0     31-65     distance02   \n",
       "2                1              2                0     31-65     distance08   \n",
       "3                1              2                0     31-65     distance08   \n",
       "4                1              2                0     31-65     distance08   \n",
       "5                1              2                0     31-65     distance08   \n",
       "6                0              2                0      0-18     distance02   \n",
       "7                0              2                0      0-18     distance02   \n",
       "8                0              2                0      0-18     distance08   \n",
       "9                0              2                0      0-18     distance08   \n",
       "\n",
       "  starttime_group cost_group  costdrivingfuel_group trafficperc_group  \\\n",
       "0         morning   low_cost  costdrivingfuelgroup1      0low_traffic   \n",
       "1       afternoon   low_cost  costdrivingfuelgroup1      0low_traffic   \n",
       "2       afternoon   low_cost  costdrivingfuelgroup7      0low_traffic   \n",
       "3       afternoon   low_cost  costdrivingfuelgroup7      0low_traffic   \n",
       "4         evening   low_cost  costdrivingfuelgroup7      0low_traffic   \n",
       "5         evening   low_cost  costdrivingfuelgroup7      0low_traffic   \n",
       "6         morning   low_cost  costdrivingfuelgroup1      0low_traffic   \n",
       "7       afternoon   low_cost  costdrivingfuelgroup1      0low_traffic   \n",
       "8       afternoon   low_cost  costdrivingfuelgroup7      0low_traffic   \n",
       "9         evening   low_cost  costdrivingfuelgroup7      0low_traffic   \n",
       "\n",
       "  drivingcharge_group  \n",
       "0          low_charge  \n",
       "1          low_charge  \n",
       "2          low_charge  \n",
       "3          low_charge  \n",
       "4          low_charge  \n",
       "5          low_charge  \n",
       "6          low_charge  \n",
       "7          low_charge  \n",
       "8          low_charge  \n",
       "9          low_charge  "
      ]
     },
     "execution_count": 9,
     "metadata": {},
     "output_type": "execute_result"
    }
   ],
   "source": [
    "display(y_train.head(10))\n",
    "print(X_train.shape)\n",
    "X_train.head(10)"
   ]
  },
  {
   "cell_type": "code",
   "execution_count": 10,
   "metadata": {},
   "outputs": [],
   "source": [
    "X_train.reset_index(inplace = True, drop = True)\n",
    "y_train.reset_index(inplace = True, drop = True)\n",
    "\n",
    "X_train=X_train.applymap(str)\n",
    "#y_train=y_train.astype(str)\n",
    "\n",
    "n_features = X_train\n",
    "n_features_names = list(X_train.columns)\n",
    "indici = np.arange(0, len(y_train))\n",
    "y = y_train\n",
    "\n",
    "\n",
    "\n"
   ]
  },
  {
   "cell_type": "code",
   "execution_count": 11,
   "metadata": {},
   "outputs": [],
   "source": [
    "#need to bin num vars and have features, features_names empty\n",
    "\n",
    "#reched tau at each new split\n",
    "\n",
    "\n",
    "#not doing optbinning internally  maybe could\n",
    "\n",
    "features = []\n",
    "features_names = []\n",
    "\n",
    "\n",
    "#features, features_names, n_features, n_features_names, y"
   ]
  },
  {
   "attachments": {},
   "cell_type": "markdown",
   "metadata": {},
   "source": [
    "negative node prop gain? maybe ok\n"
   ]
  },
  {
   "cell_type": "code",
   "execution_count": 12,
   "metadata": {},
   "outputs": [
    {
     "data": {
      "text/html": [
       "<div>\n",
       "<style scoped>\n",
       "    .dataframe tbody tr th:only-of-type {\n",
       "        vertical-align: middle;\n",
       "    }\n",
       "\n",
       "    .dataframe tbody tr th {\n",
       "        vertical-align: top;\n",
       "    }\n",
       "\n",
       "    .dataframe thead th {\n",
       "        text-align: right;\n",
       "    }\n",
       "</style>\n",
       "<table border=\"1\" class=\"dataframe\">\n",
       "  <thead>\n",
       "    <tr style=\"text-align: right;\">\n",
       "      <th></th>\n",
       "      <th>purpose</th>\n",
       "      <th>fueltype</th>\n",
       "      <th>faretype</th>\n",
       "      <th>bus_scale</th>\n",
       "      <th>travel_month</th>\n",
       "      <th>day_of_week</th>\n",
       "      <th>female</th>\n",
       "      <th>driving_license</th>\n",
       "      <th>car_ownership</th>\n",
       "      <th>pt_interchanges</th>\n",
       "      <th>age_group</th>\n",
       "      <th>distance_group</th>\n",
       "      <th>starttime_group</th>\n",
       "      <th>cost_group</th>\n",
       "      <th>costdrivingfuel_group</th>\n",
       "      <th>trafficperc_group</th>\n",
       "      <th>drivingcharge_group</th>\n",
       "    </tr>\n",
       "  </thead>\n",
       "  <tbody>\n",
       "    <tr>\n",
       "      <th>0</th>\n",
       "      <td>purpose3</td>\n",
       "      <td>fueltype1</td>\n",
       "      <td>faretype1</td>\n",
       "      <td>bus_scale1.0</td>\n",
       "      <td>travel_month4</td>\n",
       "      <td>day_of_week7</td>\n",
       "      <td>female1</td>\n",
       "      <td>driving_license1</td>\n",
       "      <td>car_ownership2</td>\n",
       "      <td>pt_interchanges0</td>\n",
       "      <td>age_group31-65</td>\n",
       "      <td>distance02</td>\n",
       "      <td>morning</td>\n",
       "      <td>low_cost</td>\n",
       "      <td>costdrivingfuelgroup1</td>\n",
       "      <td>0low_traffic</td>\n",
       "      <td>low_charge</td>\n",
       "    </tr>\n",
       "    <tr>\n",
       "      <th>1</th>\n",
       "      <td>purpose3</td>\n",
       "      <td>fueltype1</td>\n",
       "      <td>faretype1</td>\n",
       "      <td>bus_scale1.0</td>\n",
       "      <td>travel_month4</td>\n",
       "      <td>day_of_week7</td>\n",
       "      <td>female1</td>\n",
       "      <td>driving_license1</td>\n",
       "      <td>car_ownership2</td>\n",
       "      <td>pt_interchanges0</td>\n",
       "      <td>age_group31-65</td>\n",
       "      <td>distance02</td>\n",
       "      <td>afternoon</td>\n",
       "      <td>low_cost</td>\n",
       "      <td>costdrivingfuelgroup1</td>\n",
       "      <td>0low_traffic</td>\n",
       "      <td>low_charge</td>\n",
       "    </tr>\n",
       "    <tr>\n",
       "      <th>2</th>\n",
       "      <td>purpose3</td>\n",
       "      <td>fueltype1</td>\n",
       "      <td>faretype1</td>\n",
       "      <td>bus_scale1.0</td>\n",
       "      <td>travel_month4</td>\n",
       "      <td>day_of_week7</td>\n",
       "      <td>female1</td>\n",
       "      <td>driving_license1</td>\n",
       "      <td>car_ownership2</td>\n",
       "      <td>pt_interchanges0</td>\n",
       "      <td>age_group31-65</td>\n",
       "      <td>distance08</td>\n",
       "      <td>afternoon</td>\n",
       "      <td>low_cost</td>\n",
       "      <td>costdrivingfuelgroup7</td>\n",
       "      <td>0low_traffic</td>\n",
       "      <td>low_charge</td>\n",
       "    </tr>\n",
       "    <tr>\n",
       "      <th>3</th>\n",
       "      <td>purpose3</td>\n",
       "      <td>fueltype1</td>\n",
       "      <td>faretype1</td>\n",
       "      <td>bus_scale1.0</td>\n",
       "      <td>travel_month4</td>\n",
       "      <td>day_of_week7</td>\n",
       "      <td>female1</td>\n",
       "      <td>driving_license1</td>\n",
       "      <td>car_ownership2</td>\n",
       "      <td>pt_interchanges0</td>\n",
       "      <td>age_group31-65</td>\n",
       "      <td>distance08</td>\n",
       "      <td>afternoon</td>\n",
       "      <td>low_cost</td>\n",
       "      <td>costdrivingfuelgroup7</td>\n",
       "      <td>0low_traffic</td>\n",
       "      <td>low_charge</td>\n",
       "    </tr>\n",
       "    <tr>\n",
       "      <th>4</th>\n",
       "      <td>purpose3</td>\n",
       "      <td>fueltype1</td>\n",
       "      <td>faretype4</td>\n",
       "      <td>bus_scale1.0</td>\n",
       "      <td>travel_month4</td>\n",
       "      <td>day_of_week7</td>\n",
       "      <td>female0</td>\n",
       "      <td>driving_license1</td>\n",
       "      <td>car_ownership2</td>\n",
       "      <td>pt_interchanges0</td>\n",
       "      <td>age_group31-65</td>\n",
       "      <td>distance08</td>\n",
       "      <td>evening</td>\n",
       "      <td>low_cost</td>\n",
       "      <td>costdrivingfuelgroup7</td>\n",
       "      <td>0low_traffic</td>\n",
       "      <td>low_charge</td>\n",
       "    </tr>\n",
       "  </tbody>\n",
       "</table>\n",
       "</div>"
      ],
      "text/plain": [
       "    purpose   fueltype   faretype     bus_scale   travel_month   day_of_week  \\\n",
       "0  purpose3  fueltype1  faretype1  bus_scale1.0  travel_month4  day_of_week7   \n",
       "1  purpose3  fueltype1  faretype1  bus_scale1.0  travel_month4  day_of_week7   \n",
       "2  purpose3  fueltype1  faretype1  bus_scale1.0  travel_month4  day_of_week7   \n",
       "3  purpose3  fueltype1  faretype1  bus_scale1.0  travel_month4  day_of_week7   \n",
       "4  purpose3  fueltype1  faretype4  bus_scale1.0  travel_month4  day_of_week7   \n",
       "\n",
       "    female   driving_license   car_ownership   pt_interchanges  \\\n",
       "0  female1  driving_license1  car_ownership2  pt_interchanges0   \n",
       "1  female1  driving_license1  car_ownership2  pt_interchanges0   \n",
       "2  female1  driving_license1  car_ownership2  pt_interchanges0   \n",
       "3  female1  driving_license1  car_ownership2  pt_interchanges0   \n",
       "4  female0  driving_license1  car_ownership2  pt_interchanges0   \n",
       "\n",
       "        age_group distance_group starttime_group cost_group  \\\n",
       "0  age_group31-65     distance02         morning   low_cost   \n",
       "1  age_group31-65     distance02       afternoon   low_cost   \n",
       "2  age_group31-65     distance08       afternoon   low_cost   \n",
       "3  age_group31-65     distance08       afternoon   low_cost   \n",
       "4  age_group31-65     distance08         evening   low_cost   \n",
       "\n",
       "   costdrivingfuel_group trafficperc_group drivingcharge_group  \n",
       "0  costdrivingfuelgroup1      0low_traffic          low_charge  \n",
       "1  costdrivingfuelgroup1      0low_traffic          low_charge  \n",
       "2  costdrivingfuelgroup7      0low_traffic          low_charge  \n",
       "3  costdrivingfuelgroup7      0low_traffic          low_charge  \n",
       "4  costdrivingfuelgroup7      0low_traffic          low_charge  "
      ]
     },
     "execution_count": 12,
     "metadata": {},
     "output_type": "execute_result"
    }
   ],
   "source": [
    "n_features['purpose'] = 'purpose' + n_features['purpose'].astype(str)\n",
    "n_features['fueltype'] = 'fueltype' + n_features['fueltype'].astype(str)\n",
    "n_features['faretype'] = 'faretype' + n_features['faretype'].astype(str)\n",
    "n_features['bus_scale'] = 'bus_scale' + n_features['bus_scale'].astype(str)\n",
    "n_features['travel_month'] = 'travel_month' + n_features['travel_month'].astype(str)\n",
    "n_features['day_of_week'] = 'day_of_week' + n_features['day_of_week'].astype(str)\n",
    "n_features['female'] = 'female' + n_features['female'].astype(str)\n",
    "n_features['driving_license'] = 'driving_license' + n_features['driving_license'].astype(str)\n",
    "n_features['car_ownership'] = 'car_ownership' + n_features['car_ownership'].astype(str)\n",
    "n_features['pt_interchanges'] = 'pt_interchanges' + n_features['pt_interchanges'].astype(str)\n",
    "n_features['age_group'] = 'age_group' + n_features['age_group'].astype(str)\n",
    "\n",
    "\n",
    "n_features.head()"
   ]
  },
  {
   "cell_type": "code",
   "execution_count": 13,
   "metadata": {},
   "outputs": [
    {
     "data": {
      "text/plain": [
       "4    33595\n",
       "3    26867\n",
       "1    13367\n",
       "2     2274\n",
       "Name: travel_mode, dtype: int64"
      ]
     },
     "execution_count": 13,
     "metadata": {},
     "output_type": "execute_result"
    }
   ],
   "source": [
    "y.value_counts()"
   ]
  },
  {
   "cell_type": "code",
   "execution_count": 14,
   "metadata": {},
   "outputs": [
    {
     "name": "stdout",
     "output_type": "stream",
     "text": [
      "Split Found:  n1 [['distance_group__fueltype', ('distance02fueltype4', 'distance03fueltype1', 'distance03fueltype4', 'distance03fueltype5', 'distance04fueltype1', 'distance04fueltype2', 'distance04fueltype3', 'distance04fueltype4', 'distance04fueltype5', 'distance04fueltype6', 'distance05fueltype1', 'distance05fueltype2', 'distance05fueltype3', 'distance05fueltype4', 'distance05fueltype5', 'distance05fueltype6', 'distance06fueltype1', 'distance06fueltype2', 'distance06fueltype3', 'distance06fueltype4', 'distance06fueltype5', 'distance06fueltype6', 'distance07fueltype1', 'distance07fueltype2', 'distance07fueltype3', 'distance07fueltype4', 'distance07fueltype5', 'distance07fueltype6', 'distance08fueltype1', 'distance08fueltype2', 'distance08fueltype3', 'distance08fueltype4', 'distance08fueltype5', 'distance08fueltype6', 'distance09fueltype1', 'distance09fueltype2', 'distance09fueltype3', 'distance09fueltype4', 'distance09fueltype5', 'distance09fueltype6', 'distance10fueltype1', 'distance10fueltype2', 'distance10fueltype3', 'distance10fueltype4', 'distance10fueltype5', 'distance10fueltype6', 'distance11fueltype1', 'distance11fueltype2', 'distance11fueltype3', 'distance11fueltype4', 'distance11fueltype5', 'distance11fueltype6'), [15164.587249181486, array([0.3304179])], 0]] start\n",
      "node_proportion_total  0.06926041051567844\n",
      "Split Found:  n2 [['car_ownership__distance_group', ('car_ownership0distance01', 'car_ownership0distance02', 'car_ownership0distance03', 'car_ownership1distance01'), [4363.868326017919, array([0.07831276])], 1]] left\n",
      "node_proportion_total  0.458292689294894\n",
      "Node_proportion_gain  0.38903227877921553\n",
      "Split Found:  n4 [['distance_group__trafficperc_group', ('distance010low_traffic', 'distance011mediumlow_traffic', 'distance012medium_traffic', 'distance013mediumhigh_traffic', 'distance014high_traffic', 'distance022medium_traffic', 'distance023mediumhigh_traffic', 'distance024high_traffic', 'distance033mediumhigh_traffic', 'distance034high_traffic'), [1229.4185306995041, array([4.24399158e-314])], 2]] left\n",
      "node_proportion_total  0.5062683903135614\n",
      "Node_proportion_gain  0.04797570101866744\n",
      "Split Found:  n8 [['driving_license__faretype', ('driving_license0faretype1', 'driving_license0faretype2', 'driving_license0faretype3', 'driving_license0faretype4'), [844.0084050381749, array([0.02662813])], 3]] left\n",
      "node_proportion_total  0.5350115931398076\n",
      "Node_proportion_gain  0.028743202826246206\n",
      "Split Found:  n16 [['car_ownership__day_of_week', ('car_ownership1day_of_week7', 'car_ownership2day_of_week1', 'car_ownership2day_of_week2', 'car_ownership2day_of_week3', 'car_ownership2day_of_week4', 'car_ownership2day_of_week6', 'car_ownership2day_of_week7'), [707.9891108367267, array([5.9990169])], 4]] left\n",
      "node_proportion_total  0.5540271724868605\n",
      "Node_proportion_gain  0.01901557934705289\n",
      "Node Search Split Error for:  n17 with obs in node:  749  which is less than minimum parent size:  1000\n",
      "TypeError\n",
      "Unable to go through max_k, only went through:  2 time/s\n",
      "Split Found:  n9 [['distance_group__car_ownership', ('distance01car_ownership2', 'distance03car_ownership2'), [509.552092234601, array([8.44329524e-312])], 3]] right\n",
      "node_proportion_total  0.5675669247957238\n",
      "Node_proportion_gain  0.013539752308863284\n",
      "Node Search Split Error for:  n18 with obs in node:  503  which is less than minimum parent size:  1000\n",
      "TypeError\n",
      "No splits found\n",
      "TypeError\n",
      "Split Found:  n5 [['distance_group__age_group', ('distance01age_group0-18', 'distance01age_group19-30', 'distance01age_group31-65', 'distance01age_group66+', 'distance02age_group0-18', 'distance02age_group19-30', 'distance02age_group31-65', 'distance03age_group19-30'), [3636.807216178157, array([0.01793507])], 2]] right\n",
      "node_proportion_total  0.5781868763566653\n",
      "Node_proportion_gain  0.010619951560941532\n",
      "Split Found:  n10 [['faretype__travel_month', ('faretype1travel_month1', 'faretype1travel_month10', 'faretype1travel_month12', 'faretype1travel_month2', 'faretype1travel_month3', 'faretype1travel_month4', 'faretype1travel_month5', 'faretype1travel_month6', 'faretype1travel_month7', 'faretype1travel_month8', 'faretype1travel_month9', 'faretype2travel_month10', 'faretype2travel_month3', 'faretype2travel_month5', 'faretype2travel_month7', 'faretype2travel_month8', 'faretype2travel_month9', 'faretype3travel_month1', 'faretype3travel_month10', 'faretype3travel_month3', 'faretype3travel_month4', 'faretype3travel_month7', 'faretype3travel_month8', 'faretype3travel_month9', 'faretype4travel_month1', 'faretype4travel_month10', 'faretype4travel_month12', 'faretype4travel_month2', 'faretype4travel_month3', 'faretype4travel_month5', 'faretype4travel_month6', 'faretype4travel_month7', 'faretype4travel_month8', 'faretype4travel_month9', 'faretype5travel_month10', 'faretype5travel_month9'), [519.4121319660891, array([0.29795068])], 3]] left\n",
      "node_proportion_total  0.5861253821475827\n",
      "Node_proportion_gain  0.007938505790917372\n",
      "Node Search Split Error for:  n20 with obs in node:  942  which is less than minimum parent size:  1000\n",
      "TypeError\n",
      "Unable to go through max_k, only went through:  1 time/s\n",
      "Split Found:  n21 [['faretype__costdrivingfuel_group', ('faretype1costdrivingfuelgroup2', 'faretype1costdrivingfuelgroup3', 'faretype1costdrivingfuelgroup6', 'faretype1costdrivingfuelgroup7', 'faretype1costdrivingfuelgroup8', 'faretype2costdrivingfuelgroup1', 'faretype2costdrivingfuelgroup2', 'faretype2costdrivingfuelgroup3', 'faretype2costdrivingfuelgroup4', 'faretype2costdrivingfuelgroup5', 'faretype3costdrivingfuelgroup3', 'faretype3costdrivingfuelgroup4', 'faretype3costdrivingfuelgroup5', 'faretype4costdrivingfuelgroup1', 'faretype4costdrivingfuelgroup2', 'faretype4costdrivingfuelgroup3', 'faretype4costdrivingfuelgroup4', 'faretype4costdrivingfuelgroup5', 'faretype4costdrivingfuelgroup6', 'faretype4costdrivingfuelgroup7', 'faretype5costdrivingfuelgroup6', 'faretype5costdrivingfuelgroup7'), [353.96631608319916, array([8.44329524e-312])], 4]] right\n",
      "node_proportion_total  0.5924095474954094\n",
      "Node_proportion_gain  0.00628416534782672\n",
      "Split Found:  n11 [['car_ownership__trafficperc_group', ('car_ownership00low_traffic', 'car_ownership01mediumlow_traffic', 'car_ownership02medium_traffic', 'car_ownership03mediumhigh_traffic', 'car_ownership04high_traffic', 'car_ownership12medium_traffic', 'car_ownership13mediumhigh_traffic', 'car_ownership14high_traffic'), [3276.5990810456506, array([0.01719577])], 3]] right\n",
      "node_proportion_total  0.5976246793211227\n",
      "Node_proportion_gain  0.005215131825713315\n",
      "Split Found:  n22 [['driving_license__travel_month', ('driving_license0travel_month1', 'driving_license0travel_month10', 'driving_license0travel_month12', 'driving_license0travel_month2', 'driving_license0travel_month3', 'driving_license0travel_month4', 'driving_license0travel_month5', 'driving_license0travel_month6', 'driving_license0travel_month7', 'driving_license0travel_month8', 'driving_license0travel_month9'), [790.8327883239863, array([8.44329524e-312])], 4]] left\n",
      "node_proportion_total  0.6019246030530844\n",
      "Node_proportion_gain  0.004299923731961641\n",
      "Split Found:  n23 [['distance_group__age_group', ('distance01age_group0-18', 'distance01age_group19-30', 'distance01age_group31-65', 'distance02age_group19-30'), [2588.474286984863, array([4.24399158e-314])], 4]] right\n",
      "node_proportion_total  0.6055572062701051\n",
      "Node_proportion_gain  0.0036326032170207467\n",
      "Split Found:  n3 [['car_ownership__trafficperc_group', ('car_ownership00low_traffic', 'car_ownership01mediumlow_traffic', 'car_ownership02medium_traffic', 'car_ownership03mediumhigh_traffic', 'car_ownership04high_traffic', 'car_ownership13mediumhigh_traffic', 'car_ownership14high_traffic', 'car_ownership24high_traffic'), [23180.047606108623, array([0.01632899])], 1]] right\n",
      "node_proportion_total  0.6168481636912274\n",
      "Node_proportion_gain  0.011290957421122294\n",
      "Split Found:  n6 [['distance_group__driving_license', ('distance02driving_license1', 'distance04driving_license1', 'distance05driving_license0', 'distance05driving_license1', 'distance06driving_license0', 'distance06driving_license1', 'distance07driving_license0', 'distance07driving_license1', 'distance08driving_license0', 'distance08driving_license1', 'distance09driving_license0', 'distance09driving_license1', 'distance10driving_license0', 'distance10driving_license1', 'distance11driving_license0', 'distance11driving_license1'), [14008.021885201319, array([8.42432329e-312])], 2]] left\n",
      "node_proportion_total  0.6193098366423431\n",
      "Node_proportion_gain  0.0024616729511156565\n",
      "Split Found:  n12 [['driving_license__faretype', ('driving_license0faretype5', 'driving_license1faretype1', 'driving_license1faretype2', 'driving_license1faretype4', 'driving_license1faretype5'), [1117.6326105247917, array([0.03117276])], 3]] left\n",
      "node_proportion_total  0.6212620906183375\n",
      "Node_proportion_gain  0.0019522539759944113\n",
      "Split Found:  n24 [['travel_month__costdrivingfuel_group', ('travel_month10costdrivingfuelgroup4', 'travel_month10costdrivingfuelgroup5', 'travel_month10costdrivingfuelgroup6', 'travel_month10costdrivingfuelgroup7', 'travel_month11costdrivingfuelgroup3', 'travel_month11costdrivingfuelgroup4', 'travel_month11costdrivingfuelgroup5', 'travel_month11costdrivingfuelgroup6', 'travel_month12costdrivingfuelgroup3', 'travel_month12costdrivingfuelgroup4', 'travel_month12costdrivingfuelgroup5', 'travel_month12costdrivingfuelgroup6', 'travel_month12costdrivingfuelgroup7', 'travel_month1costdrivingfuelgroup3', 'travel_month1costdrivingfuelgroup6', 'travel_month2costdrivingfuelgroup2', 'travel_month2costdrivingfuelgroup6', 'travel_month2costdrivingfuelgroup7', 'travel_month3costdrivingfuelgroup4', 'travel_month4costdrivingfuelgroup2', 'travel_month4costdrivingfuelgroup4', 'travel_month4costdrivingfuelgroup5', 'travel_month4costdrivingfuelgroup6', 'travel_month4costdrivingfuelgroup7', 'travel_month5costdrivingfuelgroup1', 'travel_month5costdrivingfuelgroup3', 'travel_month5costdrivingfuelgroup4', 'travel_month5costdrivingfuelgroup5', 'travel_month5costdrivingfuelgroup6', 'travel_month6costdrivingfuelgroup2', 'travel_month6costdrivingfuelgroup4', 'travel_month6costdrivingfuelgroup6', 'travel_month7costdrivingfuelgroup6', 'travel_month8costdrivingfuelgroup1', 'travel_month8costdrivingfuelgroup2', 'travel_month8costdrivingfuelgroup6', 'travel_month9costdrivingfuelgroup3', 'travel_month9costdrivingfuelgroup4', 'travel_month9costdrivingfuelgroup5', 'travel_month9costdrivingfuelgroup6'), [186.03749700564907, array([8.44329524e-312])], 4]] left\n",
      "node_proportion_total  0.6229047505370422\n",
      "Node_proportion_gain  0.0016426599187047142\n",
      "Split Found:  n25 [['car_ownership__age_group', ('car_ownership2age_group0-18', 'car_ownership2age_group19-30', 'car_ownership2age_group31-65'), [1006.0695711183774, array([2.12199579e-314])], 4]] right\n",
      "node_proportion_total  0.6243577121701642\n",
      "Node_proportion_gain  0.0014529616331220296\n",
      "Split Found:  n13 [['driving_license__faretype', ('driving_license0faretype5', 'driving_license1faretype1', 'driving_license1faretype2', 'driving_license1faretype4', 'driving_license1faretype5'), [14543.314161928041, array([8.44364568e-312])], 3]] right\n",
      "node_proportion_total  0.6263575147314723\n",
      "Node_proportion_gain  0.0019998025613080506\n",
      "Split Found:  n26 [['purpose__day_of_week', ('purpose1day_of_week1', 'purpose1day_of_week2', 'purpose1day_of_week3', 'purpose1day_of_week4', 'purpose1day_of_week5', 'purpose1day_of_week6', 'purpose1day_of_week7', 'purpose2day_of_week1', 'purpose2day_of_week2', 'purpose2day_of_week3', 'purpose2day_of_week4', 'purpose2day_of_week5', 'purpose4day_of_week1', 'purpose4day_of_week3', 'purpose4day_of_week4', 'purpose4day_of_week5', 'purpose4day_of_week6', 'purpose4day_of_week7'), [1438.6340562566954, array([0.06126951])], 4]] left\n",
      "node_proportion_total  0.6276633481533559\n",
      "Node_proportion_gain  0.0013058334218836176\n",
      "Split Found:  n27 [['trafficperc_group__purpose', ('0low_trafficpurpose1', '0low_trafficpurpose2', '0low_trafficpurpose3', '0low_trafficpurpose4', '0low_trafficpurpose5', '1mediumlow_trafficpurpose1', '1mediumlow_trafficpurpose2', '1mediumlow_trafficpurpose3', '1mediumlow_trafficpurpose4', '1mediumlow_trafficpurpose5', '2medium_trafficpurpose2', '2medium_trafficpurpose3', '2medium_trafficpurpose5'), [13870.711395915057, array([0.01354796])], 4]] right\n",
      "node_proportion_total  0.6288402682976639\n",
      "Node_proportion_gain  0.0011769201443080357\n",
      "Split Found:  n7 [['distance_group__fueltype', ('distance04fueltype5', 'distance05fueltype6', 'distance06fueltype1', 'distance06fueltype2', 'distance06fueltype4', 'distance06fueltype6', 'distance07fueltype1', 'distance07fueltype2', 'distance07fueltype3', 'distance07fueltype4', 'distance07fueltype5', 'distance07fueltype6', 'distance08fueltype1', 'distance08fueltype2', 'distance08fueltype3', 'distance08fueltype5', 'distance08fueltype6', 'distance09fueltype1', 'distance09fueltype2', 'distance09fueltype3', 'distance09fueltype4', 'distance09fueltype5', 'distance09fueltype6', 'distance10fueltype1', 'distance10fueltype2', 'distance10fueltype3', 'distance10fueltype4', 'distance10fueltype5', 'distance10fueltype6', 'distance11fueltype1', 'distance11fueltype2', 'distance11fueltype3', 'distance11fueltype4', 'distance11fueltype5', 'distance11fueltype6'), [10052.249595743198, array([0.21624115])], 2]] right\n",
      "node_proportion_total  0.6300149120080437\n",
      "Node_proportion_gain  0.0011746437103797858\n",
      "Split Found:  n14 [['car_ownership__faretype', ('car_ownership0faretype1', 'car_ownership0faretype2', 'car_ownership0faretype3', 'car_ownership0faretype4', 'car_ownership0faretype5', 'car_ownership1faretype3', 'car_ownership1faretype4', 'car_ownership2faretype2'), [392.29824510726604, array([2.12199579e-314])], 3]] left\n",
      "node_proportion_total  0.6308892023939754\n",
      "Node_proportion_gain  0.0008742903859316753\n",
      "Node Search Split Error for:  n28 with obs in node:  762  which is less than minimum parent size:  1000\n",
      "TypeError\n",
      "Split Found:  n29 [['bus_scale__driving_license', ('bus_scale0.0driving_license0', 'bus_scale0.0driving_license1', 'bus_scale0.5driving_license0'), [395.163119720875, array([2.12199579e-314])], 4]] right\n",
      "node_proportion_total  0.6316682407664199\n",
      "Node_proportion_gain  0.0007790383724445293\n",
      "Split Found:  n15 [['car_ownership__drivingcharge_group', ('car_ownership0high_charge', 'car_ownership0low_charge', 'car_ownership1high_charge', 'car_ownership2high_charge'), [10480.917465413986, array([0.0146311])], 3]] right\n",
      "node_proportion_total  0.6326643261257734\n",
      "Node_proportion_gain  0.0009960853593534713\n",
      "Split Found:  n30 [['purpose__age_group', ('purpose1age_group0-18', 'purpose1age_group66+', 'purpose2age_group31-65', 'purpose3age_group0-18', 'purpose3age_group31-65', 'purpose3age_group66+', 'purpose4age_group0-18', 'purpose4age_group31-65', 'purpose5age_group0-18', 'purpose5age_group31-65', 'purpose5age_group66+'), [1181.9544025379307, array([8.48798316e-314])], 4]] left\n",
      "node_proportion_total  0.6333317349318793\n",
      "Node_proportion_gain  0.0006674088061059402\n",
      "Split Found:  n31 [['trafficperc_group__purpose', ('0low_trafficpurpose1', '0low_trafficpurpose2', '0low_trafficpurpose4', '1mediumlow_trafficpurpose1', '1mediumlow_trafficpurpose2', '1mediumlow_trafficpurpose4', '2medium_trafficpurpose1', '2medium_trafficpurpose2', '2medium_trafficpurpose4', '2medium_trafficpurpose5', '3mediumhigh_trafficpurpose1', '3mediumhigh_trafficpurpose2', '3mediumhigh_trafficpurpose3', '3mediumhigh_trafficpurpose4', '3mediumhigh_trafficpurpose5', '4high_trafficpurpose1', '4high_trafficpurpose2', '4high_trafficpurpose3', '4high_trafficpurpose4', '4high_trafficpurpose5'), [9579.043430811906, array([8.44364568e-312])], 4]] right\n",
      "node_proportion_total  0.6339540825161496\n",
      "Node_proportion_gain  0.0006223475842702664\n"
     ]
    },
    {
     "data": {
      "text/plain": [
       "(((((None, None), None), (None, None)),\n",
       "  ((None, (None, None)), ((None, None), (None, None)))),\n",
       " ((((None, None), (None, None)), ((None, None), (None, None))),\n",
       "  ((None, (None, None)), ((None, None), (None, None)))))"
      ]
     },
     "execution_count": 14,
     "metadata": {},
     "output_type": "execute_result"
    }
   ],
   "source": [
    "from cart import *\n",
    "\n",
    "my_tree = MyNodeClass('n1', indici) \n",
    "cart = CART(y,features,features_names,n_features,n_features_names,impurity_fn = \"gini\",problem=\"classifier\",method = \"LATENT-BUDGET-TREE\",max_level =4 , min_cases_parent= 1000,min_cases_child= 500, min_imp_gain = 0.0001) \n",
    "cart.growing_tree(my_tree, max_k = 5, combination_split = True, max_c = 5)\n"
   ]
  },
  {
   "cell_type": "code",
   "execution_count": 27,
   "metadata": {},
   "outputs": [
    {
     "data": {
      "application/vnd.plotly.v1+json": {
       "config": {
        "plotlyServerURL": "https://plot.ly"
       },
       "data": [
        {
         "hoverinfo": "none",
         "line": {
          "color": "rgb(210,210,210)",
          "width": 1
         },
         "mode": "lines",
         "type": "scatter",
         "x": [
          0,
          -8,
          null,
          0,
          8,
          null,
          -8,
          -12,
          null,
          -8,
          -4,
          null,
          8,
          4,
          null,
          8,
          12,
          null,
          -12,
          -14,
          null,
          -12,
          -10,
          null,
          -4,
          -6,
          null,
          -4,
          -2,
          null,
          4,
          2,
          null,
          4,
          6,
          null,
          12,
          10,
          null,
          12,
          14,
          null,
          -14,
          -15,
          null,
          -14,
          -13,
          null,
          -10,
          -11,
          null,
          -10,
          -9,
          null,
          -6,
          -7,
          null,
          -6,
          -5,
          null,
          -2,
          -3,
          null,
          -2,
          -1,
          null,
          2,
          1,
          null,
          2,
          3,
          null,
          6,
          5,
          null,
          6,
          7,
          null,
          10,
          9,
          null,
          10,
          11,
          null,
          14,
          13,
          null,
          14,
          15,
          null,
          -15,
          -15.5,
          null,
          -15,
          -14.5,
          null,
          -5,
          -5.5,
          null,
          -5,
          -4.5,
          null,
          -3,
          -3.5,
          null,
          -3,
          -2.5,
          null,
          -1,
          -1.5,
          null,
          -1,
          -0.5,
          null,
          1,
          0.5,
          null,
          1,
          1.5,
          null,
          3,
          2.5,
          null,
          3,
          3.5,
          null,
          5,
          4.5,
          null,
          5,
          5.5,
          null,
          7,
          6.5,
          null,
          7,
          7.5,
          null,
          11,
          10.5,
          null,
          11,
          11.5,
          null,
          13,
          12.5,
          null,
          13,
          13.5,
          null,
          15,
          14.5,
          null,
          15,
          15.5,
          null
         ],
         "y": [
          10,
          9,
          null,
          10,
          9,
          null,
          9,
          8,
          null,
          9,
          8,
          null,
          9,
          8,
          null,
          9,
          8,
          null,
          8,
          7,
          null,
          8,
          7,
          null,
          8,
          7,
          null,
          8,
          7,
          null,
          8,
          7,
          null,
          8,
          7,
          null,
          8,
          7,
          null,
          8,
          7,
          null,
          7,
          6,
          null,
          7,
          6,
          null,
          7,
          6,
          null,
          7,
          6,
          null,
          7,
          6,
          null,
          7,
          6,
          null,
          7,
          6,
          null,
          7,
          6,
          null,
          7,
          6,
          null,
          7,
          6,
          null,
          7,
          6,
          null,
          7,
          6,
          null,
          7,
          6,
          null,
          7,
          6,
          null,
          7,
          6,
          null,
          7,
          6,
          null,
          6,
          5,
          null,
          6,
          5,
          null,
          6,
          5,
          null,
          6,
          5,
          null,
          6,
          5,
          null,
          6,
          5,
          null,
          6,
          5,
          null,
          6,
          5,
          null,
          6,
          5,
          null,
          6,
          5,
          null,
          6,
          5,
          null,
          6,
          5,
          null,
          6,
          5,
          null,
          6,
          5,
          null,
          6,
          5,
          null,
          6,
          5,
          null,
          6,
          5,
          null,
          6,
          5,
          null,
          6,
          5,
          null,
          6,
          5,
          null,
          6,
          5,
          null,
          6,
          5,
          null
         ]
        },
        {
         "hoverinfo": "text",
         "marker": {
          "color": "#6175c1",
          "line": {
           "color": "rgb(50,50,50)",
           "width": 1
          },
          "size": 18,
          "symbol": "circle-dot"
         },
         "mode": "markers",
         "name": "Nodes",
         "opacity": 0.8,
         "text": [
          "n17, Class: {1: 0.6, 2: 0.03, 3: 0.12, 4: 0.25}, gini : 0.56, Samples : 749",
          "n32, Class: {1: 0.41, 2: 0.03, 3: 0.06, 4: 0.5}, gini : 0.58, Samples : 1694",
          "n33, Class: {1: 0.3, 2: 0.02, 3: 0.02, 4: 0.65}, gini : 0.48, Samples : 1247",
          "n18, Class: {1: 0.6, 2: 0.02, 3: 0.1, 4: 0.28}, gini : 0.55, Samples : 503",
          "n19, Class: {1: 0.65, 2: 0.03, 3: 0.01, 4: 0.31}, gini : 0.48, Samples : 1274",
          "n20, Class: {1: 0.38, 2: 0.03, 3: 0.52, 4: 0.07}, gini : 0.57, Samples : 942",
          "n42, Class: {1: 0.55, 2: 0.02, 3: 0.36, 4: 0.06}, gini : 0.56, Samples : 538",
          "n43, Class: {1: 0.72, 2: 0.04, 3: 0.2, 4: 0.04}, gini : 0.43, Samples : 615",
          "n44, Class: {1: 0.65, 2: 0.03, 3: 0.01, 4: 0.31}, gini : 0.49, Samples : 1252",
          "n45, Class: {1: 0.86, 2: 0.01, 3: 0.02, 4: 0.11}, gini : 0.25, Samples : 651",
          "n46, Class: {1: 0.76, 2: 0.03, 3: 0.16, 4: 0.06}, gini : 0.4, Samples : 1651",
          "n47, Class: {1: 0.89, 2: 0.02, 3: 0.05, 4: 0.03}, gini : 0.2, Samples : 2613",
          "n48, Class: {1: 0.57, 2: 0.03, 3: 0.15, 4: 0.25}, gini : 0.59, Samples : 531",
          "n49, Class: {1: 0.3, 2: 0.04, 3: 0.26, 4: 0.4}, gini : 0.68, Samples : 701",
          "n50, Class: {1: 0.27, 2: 0.03, 3: 0.09, 4: 0.61}, gini : 0.55, Samples : 2239",
          "n51, Class: {1: 0.18, 2: 0.02, 3: 0.04, 4: 0.76}, gini : 0.39, Samples : 1035",
          "n52, Class: {1: 0.05, 2: 0.02, 3: 0.35, 4: 0.57}, gini : 0.55, Samples : 3169",
          "n53, Class: {1: 0.06, 2: 0.02, 3: 0.69, 4: 0.23}, gini : 0.47, Samples : 2113",
          "n54, Class: {1: 0.02, 2: 0.03, 3: 0.36, 4: 0.59}, gini : 0.52, Samples : 3049",
          "n55, Class: {1: 0.04, 2: 0.02, 3: 0.13, 4: 0.81}, gini : 0.33, Samples : 24532",
          "n28, Class: {1: 0.3, 2: 0.05, 3: 0.24, 4: 0.41}, gini : 0.68, Samples : 762",
          "n58, Class: {1: 0.5, 2: 0.07, 3: 0.36, 4: 0.07}, gini : 0.61, Samples : 882",
          "n59, Class: {1: 0.26, 2: 0.02, 3: 0.68, 4: 0.05}, gini : 0.47, Samples : 749",
          "n60, Class: {1: 0.02, 2: 0.05, 3: 0.65, 4: 0.29}, gini : 0.49, Samples : 2260",
          "n61, Class: {1: 0.01, 2: 0.03, 3: 0.45, 4: 0.51}, gini : 0.54, Samples : 2308",
          "n62, Class: {1: 0.09, 2: 0.03, 3: 0.72, 4: 0.16}, gini : 0.45, Samples : 5385",
          "n63, Class: {1: 0.04, 2: 0.05, 3: 0.84, 4: 0.06}, gini : 0.28, Samples : 12659",
          "n1, distance_group__fueltype in ('distance02fueltype4', 'distance03fueltype1', 'distance03fueltype4', 'distance03fueltype5', 'distance04fueltype1', 'distance04fueltype2', 'distance04fueltype3', 'distance04fueltype4', 'distance04fueltype5', 'distance04fueltype6', 'distance05fueltype1', 'distance05fueltype2', 'distance05fueltype3', 'distance05fueltype4', 'distance05fueltype5', 'distance05fueltype6', 'distance06fueltype1', 'distance06fueltype2', 'distance06fueltype3', 'distance06fueltype4', 'distance06fueltype5', 'distance06fueltype6', 'distance07fueltype1', 'distance07fueltype2', 'distance07fueltype3', 'distance07fueltype4', 'distance07fueltype5', 'distance07fueltype6', 'distance08fueltype1', 'distance08fueltype2', 'distance08fueltype3', 'distance08fueltype4', 'distance08fueltype5', 'distance08fueltype6', 'distance09fueltype1', 'distance09fueltype2', 'distance09fueltype3', 'distance09fueltype4', 'distance09fueltype5', 'distance09fueltype6', 'distance10fueltype1', 'distance10fueltype2', 'distance10fueltype3', 'distance10fueltype4', 'distance10fueltype5', 'distance10fueltype6', 'distance11fueltype1', 'distance11fueltype2', 'distance11fueltype3', 'distance11fueltype4', 'distance11fueltype5', 'distance11fueltype6'), Class:{1: 0.18, 2: 0.03, 3: 0.35, 4: 0.44}, gini : 0.65, Samples: 76103",
          "n2, car_ownership__distance_group in ('car_ownership0distance01', 'car_ownership0distance02', 'car_ownership0distance03', 'car_ownership1distance01'), Class:{1: 0.63, 2: 0.03, 3: 0.11, 4: 0.23}, gini : 0.53, Samples: 13729",
          "n4, distance_group__trafficperc_group in ('distance010low_traffic', 'distance011mediumlow_traffic', 'distance012medium_traffic', 'distance013mediumhigh_traffic', 'distance014high_traffic', 'distance022medium_traffic', 'distance023mediumhigh_traffic', 'distance024high_traffic', 'distance033mediumhigh_traffic', 'distance034high_traffic'), Class:{1: 0.49, 2: 0.03, 3: 0.05, 4: 0.43}, gini : 0.57, Samples: 5467",
          "n8, driving_license__faretype in ('driving_license0faretype1', 'driving_license0faretype2', 'driving_license0faretype3', 'driving_license0faretype4'), Class:{1: 0.41, 2: 0.03, 3: 0.06, 4: 0.5}, gini : 0.58, Samples: 3690",
          "n16, car_ownership__day_of_week in ('car_ownership1day_of_week7', 'car_ownership2day_of_week1', 'car_ownership2day_of_week2', 'car_ownership2day_of_week3', 'car_ownership2day_of_week4', 'car_ownership2day_of_week6', 'car_ownership2day_of_week7'), Class:{1: 0.36, 2: 0.03, 3: 0.04, 4: 0.56}, gini : 0.55, Samples: 2941",
          "n9, distance_group__car_ownership in ('distance01car_ownership2', 'distance03car_ownership2'), Class:{1: 0.64, 2: 0.03, 3: 0.04, 4: 0.3}, gini : 0.5, Samples: 1777",
          "n5, distance_group__age_group in ('distance01age_group0-18', 'distance01age_group19-30', 'distance01age_group31-65', 'distance01age_group66+', 'distance02age_group0-18', 'distance02age_group19-30', 'distance02age_group31-65', 'distance03age_group19-30'), Class:{1: 0.73, 2: 0.03, 3: 0.15, 4: 0.09}, gini : 0.43, Samples: 8262",
          "n10, faretype__travel_month in ('faretype1travel_month1', 'faretype1travel_month10', 'faretype1travel_month12', 'faretype1travel_month2', 'faretype1travel_month3', 'faretype1travel_month4', 'faretype1travel_month5', 'faretype1travel_month6', 'faretype1travel_month7', 'faretype1travel_month8', 'faretype1travel_month9', 'faretype2travel_month10', 'faretype2travel_month3', 'faretype2travel_month5', 'faretype2travel_month7', 'faretype2travel_month8', 'faretype2travel_month9', 'faretype3travel_month1', 'faretype3travel_month10', 'faretype3travel_month3', 'faretype3travel_month4', 'faretype3travel_month7', 'faretype3travel_month8', 'faretype3travel_month9', 'faretype4travel_month1', 'faretype4travel_month10', 'faretype4travel_month12', 'faretype4travel_month2', 'faretype4travel_month3', 'faretype4travel_month5', 'faretype4travel_month6', 'faretype4travel_month7', 'faretype4travel_month8', 'faretype4travel_month9', 'faretype5travel_month10', 'faretype5travel_month9'), Class:{1: 0.53, 2: 0.03, 3: 0.39, 4: 0.06}, gini : 0.57, Samples: 2095",
          "n21, faretype__costdrivingfuel_group in ('faretype1costdrivingfuelgroup2', 'faretype1costdrivingfuelgroup3', 'faretype1costdrivingfuelgroup6', 'faretype1costdrivingfuelgroup7', 'faretype1costdrivingfuelgroup8', 'faretype2costdrivingfuelgroup1', 'faretype2costdrivingfuelgroup2', 'faretype2costdrivingfuelgroup3', 'faretype2costdrivingfuelgroup4', 'faretype2costdrivingfuelgroup5', 'faretype3costdrivingfuelgroup3', 'faretype3costdrivingfuelgroup4', 'faretype3costdrivingfuelgroup5', 'faretype4costdrivingfuelgroup1', 'faretype4costdrivingfuelgroup2', 'faretype4costdrivingfuelgroup3', 'faretype4costdrivingfuelgroup4', 'faretype4costdrivingfuelgroup5', 'faretype4costdrivingfuelgroup6', 'faretype4costdrivingfuelgroup7', 'faretype5costdrivingfuelgroup6', 'faretype5costdrivingfuelgroup7'), Class:{1: 0.64, 2: 0.03, 3: 0.28, 4: 0.05}, gini : 0.51, Samples: 1153",
          "n11, car_ownership__trafficperc_group in ('car_ownership00low_traffic', 'car_ownership01mediumlow_traffic', 'car_ownership02medium_traffic', 'car_ownership03mediumhigh_traffic', 'car_ownership04high_traffic', 'car_ownership12medium_traffic', 'car_ownership13mediumhigh_traffic', 'car_ownership14high_traffic'), Class:{1: 0.8, 2: 0.02, 3: 0.07, 4: 0.1}, gini : 0.34, Samples: 6167",
          "n22, driving_license__travel_month in ('driving_license0travel_month1', 'driving_license0travel_month10', 'driving_license0travel_month12', 'driving_license0travel_month2', 'driving_license0travel_month3', 'driving_license0travel_month4', 'driving_license0travel_month5', 'driving_license0travel_month6', 'driving_license0travel_month7', 'driving_license0travel_month8', 'driving_license0travel_month9'), Class:{1: 0.72, 2: 0.02, 3: 0.01, 4: 0.24}, gini : 0.42, Samples: 1903",
          "n23, distance_group__age_group in ('distance01age_group0-18', 'distance01age_group19-30', 'distance01age_group31-65', 'distance02age_group19-30'), Class:{1: 0.84, 2: 0.02, 3: 0.09, 4: 0.04}, gini : 0.28, Samples: 4264",
          "n3, car_ownership__trafficperc_group in ('car_ownership00low_traffic', 'car_ownership01mediumlow_traffic', 'car_ownership02medium_traffic', 'car_ownership03mediumhigh_traffic', 'car_ownership04high_traffic', 'car_ownership13mediumhigh_traffic', 'car_ownership14high_traffic', 'car_ownership24high_traffic'), Class:{1: 0.07, 2: 0.03, 3: 0.41, 4: 0.49}, gini : 0.59, Samples: 62374",
          "n6, distance_group__driving_license in ('distance02driving_license1', 'distance04driving_license1', 'distance05driving_license0', 'distance05driving_license1', 'distance06driving_license0', 'distance06driving_license1', 'distance07driving_license0', 'distance07driving_license1', 'distance08driving_license0', 'distance08driving_license1', 'distance09driving_license0', 'distance09driving_license1', 'distance10driving_license0', 'distance10driving_license1', 'distance11driving_license0', 'distance11driving_license1'), Class:{1: 0.07, 2: 0.02, 3: 0.2, 4: 0.71}, gini : 0.45, Samples: 37369",
          "n12, driving_license__faretype in ('driving_license0faretype5', 'driving_license1faretype1', 'driving_license1faretype2', 'driving_license1faretype4', 'driving_license1faretype5'), Class:{1: 0.29, 2: 0.03, 3: 0.11, 4: 0.57}, gini : 0.58, Samples: 4506",
          "n24, travel_month__costdrivingfuel_group in ('travel_month10costdrivingfuelgroup4', 'travel_month10costdrivingfuelgroup5', 'travel_month10costdrivingfuelgroup6', 'travel_month10costdrivingfuelgroup7', 'travel_month11costdrivingfuelgroup3', 'travel_month11costdrivingfuelgroup4', 'travel_month11costdrivingfuelgroup5', 'travel_month11costdrivingfuelgroup6', 'travel_month12costdrivingfuelgroup3', 'travel_month12costdrivingfuelgroup4', 'travel_month12costdrivingfuelgroup5', 'travel_month12costdrivingfuelgroup6', 'travel_month12costdrivingfuelgroup7', 'travel_month1costdrivingfuelgroup3', 'travel_month1costdrivingfuelgroup6', 'travel_month2costdrivingfuelgroup2', 'travel_month2costdrivingfuelgroup6', 'travel_month2costdrivingfuelgroup7', 'travel_month3costdrivingfuelgroup4', 'travel_month4costdrivingfuelgroup2', 'travel_month4costdrivingfuelgroup4', 'travel_month4costdrivingfuelgroup5', 'travel_month4costdrivingfuelgroup6', 'travel_month4costdrivingfuelgroup7', 'travel_month5costdrivingfuelgroup1', 'travel_month5costdrivingfuelgroup3', 'travel_month5costdrivingfuelgroup4', 'travel_month5costdrivingfuelgroup5', 'travel_month5costdrivingfuelgroup6', 'travel_month6costdrivingfuelgroup2', 'travel_month6costdrivingfuelgroup4', 'travel_month6costdrivingfuelgroup6', 'travel_month7costdrivingfuelgroup6', 'travel_month8costdrivingfuelgroup1', 'travel_month8costdrivingfuelgroup2', 'travel_month8costdrivingfuelgroup6', 'travel_month9costdrivingfuelgroup3', 'travel_month9costdrivingfuelgroup4', 'travel_month9costdrivingfuelgroup5', 'travel_month9costdrivingfuelgroup6'), Class:{1: 0.42, 2: 0.04, 3: 0.21, 4: 0.33}, gini : 0.67, Samples: 1232",
          "n25, car_ownership__age_group in ('car_ownership2age_group0-18', 'car_ownership2age_group19-30', 'car_ownership2age_group31-65'), Class:{1: 0.24, 2: 0.03, 3: 0.08, 4: 0.66}, gini : 0.51, Samples: 3274",
          "n13, driving_license__faretype in ('driving_license0faretype5', 'driving_license1faretype1', 'driving_license1faretype2', 'driving_license1faretype4', 'driving_license1faretype5'), Class:{1: 0.04, 2: 0.02, 3: 0.21, 4: 0.73}, gini : 0.42, Samples: 32863",
          "n26, purpose__day_of_week in ('purpose1day_of_week1', 'purpose1day_of_week2', 'purpose1day_of_week3', 'purpose1day_of_week4', 'purpose1day_of_week5', 'purpose1day_of_week6', 'purpose1day_of_week7', 'purpose2day_of_week1', 'purpose2day_of_week2', 'purpose2day_of_week3', 'purpose2day_of_week4', 'purpose2day_of_week5', 'purpose4day_of_week1', 'purpose4day_of_week3', 'purpose4day_of_week4', 'purpose4day_of_week5', 'purpose4day_of_week6', 'purpose4day_of_week7'), Class:{1: 0.06, 2: 0.02, 3: 0.49, 4: 0.44}, gini : 0.57, Samples: 5282",
          "n27, trafficperc_group__purpose in ('0low_trafficpurpose1', '0low_trafficpurpose2', '0low_trafficpurpose3', '0low_trafficpurpose4', '0low_trafficpurpose5', '1mediumlow_trafficpurpose1', '1mediumlow_trafficpurpose2', '1mediumlow_trafficpurpose3', '1mediumlow_trafficpurpose4', '1mediumlow_trafficpurpose5', '2medium_trafficpurpose2', '2medium_trafficpurpose3', '2medium_trafficpurpose5'), Class:{1: 0.04, 2: 0.02, 3: 0.15, 4: 0.79}, gini : 0.36, Samples: 27581",
          "n7, distance_group__fueltype in ('distance04fueltype5', 'distance05fueltype6', 'distance06fueltype1', 'distance06fueltype2', 'distance06fueltype4', 'distance06fueltype6', 'distance07fueltype1', 'distance07fueltype2', 'distance07fueltype3', 'distance07fueltype4', 'distance07fueltype5', 'distance07fueltype6', 'distance08fueltype1', 'distance08fueltype2', 'distance08fueltype3', 'distance08fueltype5', 'distance08fueltype6', 'distance09fueltype1', 'distance09fueltype2', 'distance09fueltype3', 'distance09fueltype4', 'distance09fueltype5', 'distance09fueltype6', 'distance10fueltype1', 'distance10fueltype2', 'distance10fueltype3', 'distance10fueltype4', 'distance10fueltype5', 'distance10fueltype6', 'distance11fueltype1', 'distance11fueltype2', 'distance11fueltype3', 'distance11fueltype4', 'distance11fueltype5', 'distance11fueltype6'), Class:{1: 0.08, 2: 0.04, 3: 0.72, 4: 0.16}, gini : 0.45, Samples: 25005",
          "n14, car_ownership__faretype in ('car_ownership0faretype1', 'car_ownership0faretype2', 'car_ownership0faretype3', 'car_ownership0faretype4', 'car_ownership0faretype5', 'car_ownership1faretype3', 'car_ownership1faretype4', 'car_ownership2faretype2'), Class:{1: 0.36, 2: 0.05, 3: 0.42, 4: 0.17}, gini : 0.66, Samples: 2393",
          "n29, bus_scale__driving_license in ('bus_scale0.0driving_license0', 'bus_scale0.0driving_license1', 'bus_scale0.5driving_license0'), Class:{1: 0.39, 2: 0.05, 3: 0.51, 4: 0.06}, gini : 0.59, Samples: 1631",
          "n15, car_ownership__drivingcharge_group in ('car_ownership0high_charge', 'car_ownership0low_charge', 'car_ownership1high_charge', 'car_ownership2high_charge'), Class:{1: 0.05, 2: 0.04, 3: 0.75, 4: 0.15}, gini : 0.4, Samples: 22612",
          "n30, purpose__age_group in ('purpose1age_group0-18', 'purpose1age_group66+', 'purpose2age_group31-65', 'purpose3age_group0-18', 'purpose3age_group31-65', 'purpose3age_group66+', 'purpose4age_group0-18', 'purpose4age_group31-65', 'purpose5age_group0-18', 'purpose5age_group31-65', 'purpose5age_group66+'), Class:{1: 0.01, 2: 0.04, 3: 0.55, 4: 0.4}, gini : 0.54, Samples: 4568",
          "n31, trafficperc_group__purpose in ('0low_trafficpurpose1', '0low_trafficpurpose2', '0low_trafficpurpose4', '1mediumlow_trafficpurpose1', '1mediumlow_trafficpurpose2', '1mediumlow_trafficpurpose4', '2medium_trafficpurpose1', '2medium_trafficpurpose2', '2medium_trafficpurpose4', '2medium_trafficpurpose5', '3mediumhigh_trafficpurpose1', '3mediumhigh_trafficpurpose2', '3mediumhigh_trafficpurpose3', '3mediumhigh_trafficpurpose4', '3mediumhigh_trafficpurpose5', '4high_trafficpurpose1', '4high_trafficpurpose2', '4high_trafficpurpose3', '4high_trafficpurpose4', '4high_trafficpurpose5'), Class:{1: 0.06, 2: 0.05, 3: 0.81, 4: 0.09}, gini : 0.34, Samples: 18044"
         ],
         "type": "scatter",
         "x": [
          -13,
          -15.5,
          -14.5,
          -11,
          -9,
          -7,
          -5.5,
          -4.5,
          -3.5,
          -2.5,
          -1.5,
          -0.5,
          0.5,
          1.5,
          2.5,
          3.5,
          4.5,
          5.5,
          6.5,
          7.5,
          9,
          10.5,
          11.5,
          12.5,
          13.5,
          14.5,
          15.5,
          0,
          -8,
          -12,
          -14,
          -15,
          -10,
          -4,
          -6,
          -5,
          -2,
          -3,
          -1,
          8,
          4,
          2,
          1,
          3,
          6,
          5,
          7,
          12,
          10,
          11,
          14,
          13,
          15
         ],
         "y": [
          6,
          5,
          5,
          6,
          6,
          6,
          5,
          5,
          5,
          5,
          5,
          5,
          5,
          5,
          5,
          5,
          5,
          5,
          5,
          5,
          6,
          5,
          5,
          5,
          5,
          5,
          5,
          10,
          9,
          8,
          7,
          6,
          7,
          8,
          7,
          6,
          7,
          6,
          6,
          9,
          8,
          7,
          6,
          6,
          7,
          6,
          6,
          8,
          7,
          6,
          7,
          6,
          6
         ]
        }
       ],
       "layout": {
        "template": {
         "data": {
          "bar": [
           {
            "error_x": {
             "color": "#2a3f5f"
            },
            "error_y": {
             "color": "#2a3f5f"
            },
            "marker": {
             "line": {
              "color": "#E5ECF6",
              "width": 0.5
             },
             "pattern": {
              "fillmode": "overlay",
              "size": 10,
              "solidity": 0.2
             }
            },
            "type": "bar"
           }
          ],
          "barpolar": [
           {
            "marker": {
             "line": {
              "color": "#E5ECF6",
              "width": 0.5
             },
             "pattern": {
              "fillmode": "overlay",
              "size": 10,
              "solidity": 0.2
             }
            },
            "type": "barpolar"
           }
          ],
          "carpet": [
           {
            "aaxis": {
             "endlinecolor": "#2a3f5f",
             "gridcolor": "white",
             "linecolor": "white",
             "minorgridcolor": "white",
             "startlinecolor": "#2a3f5f"
            },
            "baxis": {
             "endlinecolor": "#2a3f5f",
             "gridcolor": "white",
             "linecolor": "white",
             "minorgridcolor": "white",
             "startlinecolor": "#2a3f5f"
            },
            "type": "carpet"
           }
          ],
          "choropleth": [
           {
            "colorbar": {
             "outlinewidth": 0,
             "ticks": ""
            },
            "type": "choropleth"
           }
          ],
          "contour": [
           {
            "colorbar": {
             "outlinewidth": 0,
             "ticks": ""
            },
            "colorscale": [
             [
              0,
              "#0d0887"
             ],
             [
              0.1111111111111111,
              "#46039f"
             ],
             [
              0.2222222222222222,
              "#7201a8"
             ],
             [
              0.3333333333333333,
              "#9c179e"
             ],
             [
              0.4444444444444444,
              "#bd3786"
             ],
             [
              0.5555555555555556,
              "#d8576b"
             ],
             [
              0.6666666666666666,
              "#ed7953"
             ],
             [
              0.7777777777777778,
              "#fb9f3a"
             ],
             [
              0.8888888888888888,
              "#fdca26"
             ],
             [
              1,
              "#f0f921"
             ]
            ],
            "type": "contour"
           }
          ],
          "contourcarpet": [
           {
            "colorbar": {
             "outlinewidth": 0,
             "ticks": ""
            },
            "type": "contourcarpet"
           }
          ],
          "heatmap": [
           {
            "colorbar": {
             "outlinewidth": 0,
             "ticks": ""
            },
            "colorscale": [
             [
              0,
              "#0d0887"
             ],
             [
              0.1111111111111111,
              "#46039f"
             ],
             [
              0.2222222222222222,
              "#7201a8"
             ],
             [
              0.3333333333333333,
              "#9c179e"
             ],
             [
              0.4444444444444444,
              "#bd3786"
             ],
             [
              0.5555555555555556,
              "#d8576b"
             ],
             [
              0.6666666666666666,
              "#ed7953"
             ],
             [
              0.7777777777777778,
              "#fb9f3a"
             ],
             [
              0.8888888888888888,
              "#fdca26"
             ],
             [
              1,
              "#f0f921"
             ]
            ],
            "type": "heatmap"
           }
          ],
          "heatmapgl": [
           {
            "colorbar": {
             "outlinewidth": 0,
             "ticks": ""
            },
            "colorscale": [
             [
              0,
              "#0d0887"
             ],
             [
              0.1111111111111111,
              "#46039f"
             ],
             [
              0.2222222222222222,
              "#7201a8"
             ],
             [
              0.3333333333333333,
              "#9c179e"
             ],
             [
              0.4444444444444444,
              "#bd3786"
             ],
             [
              0.5555555555555556,
              "#d8576b"
             ],
             [
              0.6666666666666666,
              "#ed7953"
             ],
             [
              0.7777777777777778,
              "#fb9f3a"
             ],
             [
              0.8888888888888888,
              "#fdca26"
             ],
             [
              1,
              "#f0f921"
             ]
            ],
            "type": "heatmapgl"
           }
          ],
          "histogram": [
           {
            "marker": {
             "pattern": {
              "fillmode": "overlay",
              "size": 10,
              "solidity": 0.2
             }
            },
            "type": "histogram"
           }
          ],
          "histogram2d": [
           {
            "colorbar": {
             "outlinewidth": 0,
             "ticks": ""
            },
            "colorscale": [
             [
              0,
              "#0d0887"
             ],
             [
              0.1111111111111111,
              "#46039f"
             ],
             [
              0.2222222222222222,
              "#7201a8"
             ],
             [
              0.3333333333333333,
              "#9c179e"
             ],
             [
              0.4444444444444444,
              "#bd3786"
             ],
             [
              0.5555555555555556,
              "#d8576b"
             ],
             [
              0.6666666666666666,
              "#ed7953"
             ],
             [
              0.7777777777777778,
              "#fb9f3a"
             ],
             [
              0.8888888888888888,
              "#fdca26"
             ],
             [
              1,
              "#f0f921"
             ]
            ],
            "type": "histogram2d"
           }
          ],
          "histogram2dcontour": [
           {
            "colorbar": {
             "outlinewidth": 0,
             "ticks": ""
            },
            "colorscale": [
             [
              0,
              "#0d0887"
             ],
             [
              0.1111111111111111,
              "#46039f"
             ],
             [
              0.2222222222222222,
              "#7201a8"
             ],
             [
              0.3333333333333333,
              "#9c179e"
             ],
             [
              0.4444444444444444,
              "#bd3786"
             ],
             [
              0.5555555555555556,
              "#d8576b"
             ],
             [
              0.6666666666666666,
              "#ed7953"
             ],
             [
              0.7777777777777778,
              "#fb9f3a"
             ],
             [
              0.8888888888888888,
              "#fdca26"
             ],
             [
              1,
              "#f0f921"
             ]
            ],
            "type": "histogram2dcontour"
           }
          ],
          "mesh3d": [
           {
            "colorbar": {
             "outlinewidth": 0,
             "ticks": ""
            },
            "type": "mesh3d"
           }
          ],
          "parcoords": [
           {
            "line": {
             "colorbar": {
              "outlinewidth": 0,
              "ticks": ""
             }
            },
            "type": "parcoords"
           }
          ],
          "pie": [
           {
            "automargin": true,
            "type": "pie"
           }
          ],
          "scatter": [
           {
            "fillpattern": {
             "fillmode": "overlay",
             "size": 10,
             "solidity": 0.2
            },
            "type": "scatter"
           }
          ],
          "scatter3d": [
           {
            "line": {
             "colorbar": {
              "outlinewidth": 0,
              "ticks": ""
             }
            },
            "marker": {
             "colorbar": {
              "outlinewidth": 0,
              "ticks": ""
             }
            },
            "type": "scatter3d"
           }
          ],
          "scattercarpet": [
           {
            "marker": {
             "colorbar": {
              "outlinewidth": 0,
              "ticks": ""
             }
            },
            "type": "scattercarpet"
           }
          ],
          "scattergeo": [
           {
            "marker": {
             "colorbar": {
              "outlinewidth": 0,
              "ticks": ""
             }
            },
            "type": "scattergeo"
           }
          ],
          "scattergl": [
           {
            "marker": {
             "colorbar": {
              "outlinewidth": 0,
              "ticks": ""
             }
            },
            "type": "scattergl"
           }
          ],
          "scattermapbox": [
           {
            "marker": {
             "colorbar": {
              "outlinewidth": 0,
              "ticks": ""
             }
            },
            "type": "scattermapbox"
           }
          ],
          "scatterpolar": [
           {
            "marker": {
             "colorbar": {
              "outlinewidth": 0,
              "ticks": ""
             }
            },
            "type": "scatterpolar"
           }
          ],
          "scatterpolargl": [
           {
            "marker": {
             "colorbar": {
              "outlinewidth": 0,
              "ticks": ""
             }
            },
            "type": "scatterpolargl"
           }
          ],
          "scatterternary": [
           {
            "marker": {
             "colorbar": {
              "outlinewidth": 0,
              "ticks": ""
             }
            },
            "type": "scatterternary"
           }
          ],
          "surface": [
           {
            "colorbar": {
             "outlinewidth": 0,
             "ticks": ""
            },
            "colorscale": [
             [
              0,
              "#0d0887"
             ],
             [
              0.1111111111111111,
              "#46039f"
             ],
             [
              0.2222222222222222,
              "#7201a8"
             ],
             [
              0.3333333333333333,
              "#9c179e"
             ],
             [
              0.4444444444444444,
              "#bd3786"
             ],
             [
              0.5555555555555556,
              "#d8576b"
             ],
             [
              0.6666666666666666,
              "#ed7953"
             ],
             [
              0.7777777777777778,
              "#fb9f3a"
             ],
             [
              0.8888888888888888,
              "#fdca26"
             ],
             [
              1,
              "#f0f921"
             ]
            ],
            "type": "surface"
           }
          ],
          "table": [
           {
            "cells": {
             "fill": {
              "color": "#EBF0F8"
             },
             "line": {
              "color": "white"
             }
            },
            "header": {
             "fill": {
              "color": "#C8D4E3"
             },
             "line": {
              "color": "white"
             }
            },
            "type": "table"
           }
          ]
         },
         "layout": {
          "annotationdefaults": {
           "arrowcolor": "#2a3f5f",
           "arrowhead": 0,
           "arrowwidth": 1
          },
          "autotypenumbers": "strict",
          "coloraxis": {
           "colorbar": {
            "outlinewidth": 0,
            "ticks": ""
           }
          },
          "colorscale": {
           "diverging": [
            [
             0,
             "#8e0152"
            ],
            [
             0.1,
             "#c51b7d"
            ],
            [
             0.2,
             "#de77ae"
            ],
            [
             0.3,
             "#f1b6da"
            ],
            [
             0.4,
             "#fde0ef"
            ],
            [
             0.5,
             "#f7f7f7"
            ],
            [
             0.6,
             "#e6f5d0"
            ],
            [
             0.7,
             "#b8e186"
            ],
            [
             0.8,
             "#7fbc41"
            ],
            [
             0.9,
             "#4d9221"
            ],
            [
             1,
             "#276419"
            ]
           ],
           "sequential": [
            [
             0,
             "#0d0887"
            ],
            [
             0.1111111111111111,
             "#46039f"
            ],
            [
             0.2222222222222222,
             "#7201a8"
            ],
            [
             0.3333333333333333,
             "#9c179e"
            ],
            [
             0.4444444444444444,
             "#bd3786"
            ],
            [
             0.5555555555555556,
             "#d8576b"
            ],
            [
             0.6666666666666666,
             "#ed7953"
            ],
            [
             0.7777777777777778,
             "#fb9f3a"
            ],
            [
             0.8888888888888888,
             "#fdca26"
            ],
            [
             1,
             "#f0f921"
            ]
           ],
           "sequentialminus": [
            [
             0,
             "#0d0887"
            ],
            [
             0.1111111111111111,
             "#46039f"
            ],
            [
             0.2222222222222222,
             "#7201a8"
            ],
            [
             0.3333333333333333,
             "#9c179e"
            ],
            [
             0.4444444444444444,
             "#bd3786"
            ],
            [
             0.5555555555555556,
             "#d8576b"
            ],
            [
             0.6666666666666666,
             "#ed7953"
            ],
            [
             0.7777777777777778,
             "#fb9f3a"
            ],
            [
             0.8888888888888888,
             "#fdca26"
            ],
            [
             1,
             "#f0f921"
            ]
           ]
          },
          "colorway": [
           "#636efa",
           "#EF553B",
           "#00cc96",
           "#ab63fa",
           "#FFA15A",
           "#19d3f3",
           "#FF6692",
           "#B6E880",
           "#FF97FF",
           "#FECB52"
          ],
          "font": {
           "color": "#2a3f5f"
          },
          "geo": {
           "bgcolor": "white",
           "lakecolor": "white",
           "landcolor": "#E5ECF6",
           "showlakes": true,
           "showland": true,
           "subunitcolor": "white"
          },
          "hoverlabel": {
           "align": "left"
          },
          "hovermode": "closest",
          "mapbox": {
           "style": "light"
          },
          "paper_bgcolor": "white",
          "plot_bgcolor": "#E5ECF6",
          "polar": {
           "angularaxis": {
            "gridcolor": "white",
            "linecolor": "white",
            "ticks": ""
           },
           "bgcolor": "#E5ECF6",
           "radialaxis": {
            "gridcolor": "white",
            "linecolor": "white",
            "ticks": ""
           }
          },
          "scene": {
           "xaxis": {
            "backgroundcolor": "#E5ECF6",
            "gridcolor": "white",
            "gridwidth": 2,
            "linecolor": "white",
            "showbackground": true,
            "ticks": "",
            "zerolinecolor": "white"
           },
           "yaxis": {
            "backgroundcolor": "#E5ECF6",
            "gridcolor": "white",
            "gridwidth": 2,
            "linecolor": "white",
            "showbackground": true,
            "ticks": "",
            "zerolinecolor": "white"
           },
           "zaxis": {
            "backgroundcolor": "#E5ECF6",
            "gridcolor": "white",
            "gridwidth": 2,
            "linecolor": "white",
            "showbackground": true,
            "ticks": "",
            "zerolinecolor": "white"
           }
          },
          "shapedefaults": {
           "line": {
            "color": "#2a3f5f"
           }
          },
          "ternary": {
           "aaxis": {
            "gridcolor": "white",
            "linecolor": "white",
            "ticks": ""
           },
           "baxis": {
            "gridcolor": "white",
            "linecolor": "white",
            "ticks": ""
           },
           "bgcolor": "#E5ECF6",
           "caxis": {
            "gridcolor": "white",
            "linecolor": "white",
            "ticks": ""
           }
          },
          "title": {
           "x": 0.05
          },
          "xaxis": {
           "automargin": true,
           "gridcolor": "white",
           "linecolor": "white",
           "ticks": "",
           "title": {
            "standoff": 15
           },
           "zerolinecolor": "white",
           "zerolinewidth": 2
          },
          "yaxis": {
           "automargin": true,
           "gridcolor": "white",
           "linecolor": "white",
           "ticks": "",
           "title": {
            "standoff": 15
           },
           "zerolinecolor": "white",
           "zerolinewidth": 2
          }
         }
        },
        "title": {
         "text": "CART_tree"
        }
       }
      }
     },
     "metadata": {},
     "output_type": "display_data"
    },
    {
     "data": {
      "text/html": [
       "<style type=\"text/css\">\n",
       "</style>\n",
       "<table id=\"T_01434\">\n",
       "  <thead>\n",
       "    <tr>\n",
       "      <th id=\"T_01434_level0_col0\" class=\"col_heading level0 col0\" >Node</th>\n",
       "      <th id=\"T_01434_level0_col1\" class=\"col_heading level0 col1\" >Node_type</th>\n",
       "      <th id=\"T_01434_level0_col2\" class=\"col_heading level0 col2\" >Variable_Split</th>\n",
       "      <th id=\"T_01434_level0_col3\" class=\"col_heading level0 col3\" >n</th>\n",
       "      <th id=\"T_01434_level0_col4\" class=\"col_heading level0 col4\" >Impurity_Value</th>\n",
       "      <th id=\"T_01434_level0_col5\" class=\"col_heading level0 col5\" >Class_Probabilities</th>\n",
       "      <th id=\"T_01434_level0_col6\" class=\"col_heading level0 col6\" >Alpha</th>\n",
       "      <th id=\"T_01434_level0_col7\" class=\"col_heading level0 col7\" >Beta</th>\n",
       "      <th id=\"T_01434_level0_col8\" class=\"col_heading level0 col8\" >LS Error</th>\n",
       "    </tr>\n",
       "  </thead>\n",
       "  <tbody>\n",
       "    <tr>\n",
       "      <td id=\"T_01434_row0_col0\" class=\"data row0 col0\" >n1</td>\n",
       "      <td id=\"T_01434_row0_col1\" class=\"data row0 col1\" >Parent</td>\n",
       "      <td id=\"T_01434_row0_col2\" class=\"data row0 col2\" >distance_group__fueltype in ('distance02fueltype4', 'distance03fueltype1', 'distance03fueltype4', 'distance03fueltype5', 'distance04fueltype1', 'distance04fueltype2', 'distance04fueltype3', 'distance04fueltype4', 'distance04fueltype5', 'distance04fueltype6', 'distance05fueltype1', 'distance05fueltype2', 'distance05fueltype3', 'distance05fueltype4', 'distance05fueltype5', 'distance05fueltype6', 'distance06fueltype1', 'distance06fueltype2', 'distance06fueltype3', 'distance06fueltype4', 'distance06fueltype5', 'distance06fueltype6', 'distance07fueltype1', 'distance07fueltype2', 'distance07fueltype3', 'distance07fueltype4', 'distance07fueltype5', 'distance07fueltype6', 'distance08fueltype1', 'distance08fueltype2', 'distance08fueltype3', 'distance08fueltype4', 'distance08fueltype5', 'distance08fueltype6', 'distance09fueltype1', 'distance09fueltype2', 'distance09fueltype3', 'distance09fueltype4', 'distance09fueltype5', 'distance09fueltype6', 'distance10fueltype1', 'distance10fueltype2', 'distance10fueltype3', 'distance10fueltype4', 'distance10fueltype5', 'distance10fueltype6', 'distance11fueltype1', 'distance11fueltype2', 'distance11fueltype3', 'distance11fueltype4', 'distance11fueltype5', 'distance11fueltype6')</td>\n",
       "      <td id=\"T_01434_row0_col3\" class=\"data row0 col3\" >76103</td>\n",
       "      <td id=\"T_01434_row0_col4\" class=\"data row0 col4\" >0.650000</td>\n",
       "      <td id=\"T_01434_row0_col5\" class=\"data row0 col5\" >{1: 0.18, 2: 0.03, 3: 0.35, 4: 0.44}</td>\n",
       "      <td id=\"T_01434_row0_col6\" class=\"data row0 col6\" >[[0.0, 1.0], [0.03, 0.97], [0.0, 1.07], [0.42, 0.58], [0.08, 0.92], [0.0, 1.19], [0.33, 0.67], [0.33, 0.67], [0.35, 0.65], [0.88, 0.12], [0.46, 0.54], [0.04, 0.96], [0.54, 0.46], [0.46, 0.54], [0.29, 0.71], [0.7, 0.3], [0.7, 0.3], [0.27, 0.73], [0.69, 0.31], [0.63, 0.37], [0.73, 0.27], [0.93, 0.07], [0.86, 0.14], [0.53, 0.47], [0.81, 0.19], [0.82, 0.18], [0.68, 0.32], [0.82, 0.18], [0.82, 0.18], [0.77, 0.23], [0.9, 0.1], [0.89, 0.11], [0.85, 0.15], [0.94, 0.06], [0.79, 0.21], [0.89, 0.11], [0.94, 0.06], [0.95, 0.05], [0.96, 0.04], [0.96, 0.04], [0.92, 0.08], [1.01, 0.0], [0.97, 0.03], [0.98, 0.02], [1.01, 0.0], [0.93, 0.07], [0.95, 0.05], [1.07, 0.0], [1.0, 0.0], [0.99, 0.01], [1.01, 0.0], [0.96, 0.04], [0.95, 0.05], [1.08, 0.0], [1.04, 0.0], [1.03, 0.0], [1.01, 0.0], [1.06, 0.0], [1.0, 0.0], [1.09, 0.0], [1.06, 0.0], [1.05, 0.0], [0.98, 0.02], [1.03, 0.0], [1.01, 0.0], [1.1, 0.0]]</td>\n",
       "      <td id=\"T_01434_row0_col7\" class=\"data row0 col7\" >[[0.0, 0.03, 0.36, 0.63], [0.72, 0.03, 0.0, 0.28]]</td>\n",
       "      <td id=\"T_01434_row0_col8\" class=\"data row0 col8\" >[0.33]</td>\n",
       "    </tr>\n",
       "    <tr>\n",
       "      <td id=\"T_01434_row1_col0\" class=\"data row1 col0\" >n2</td>\n",
       "      <td id=\"T_01434_row1_col1\" class=\"data row1 col1\" >Parent</td>\n",
       "      <td id=\"T_01434_row1_col2\" class=\"data row1 col2\" >car_ownership__distance_group in ('car_ownership0distance01', 'car_ownership0distance02', 'car_ownership0distance03', 'car_ownership1distance01')</td>\n",
       "      <td id=\"T_01434_row1_col3\" class=\"data row1 col3\" >13729</td>\n",
       "      <td id=\"T_01434_row1_col4\" class=\"data row1 col4\" >0.530000</td>\n",
       "      <td id=\"T_01434_row1_col5\" class=\"data row1 col5\" >{1: 0.63, 2: 0.03, 3: 0.11, 4: 0.23}</td>\n",
       "      <td id=\"T_01434_row1_col6\" class=\"data row1 col6\" >[[0.89, 0.11], [0.92, 0.08], [1.01, 0.0], [0.58, 0.42], [0.37, 0.63], [0.27, 0.73], [0.44, 0.56], [0.13, 0.87], [0.0, 1.03]]</td>\n",
       "      <td id=\"T_01434_row1_col7\" class=\"data row1 col7\" >[[0.79, 0.03, 0.19, 0.0], [0.37, 0.03, 0.0, 0.61]]</td>\n",
       "      <td id=\"T_01434_row1_col8\" class=\"data row1 col8\" >[0.08]</td>\n",
       "    </tr>\n",
       "    <tr>\n",
       "      <td id=\"T_01434_row2_col0\" class=\"data row2 col0\" >n4</td>\n",
       "      <td id=\"T_01434_row2_col1\" class=\"data row2 col1\" >Parent</td>\n",
       "      <td id=\"T_01434_row2_col2\" class=\"data row2 col2\" >distance_group__trafficperc_group in ('distance010low_traffic', 'distance011mediumlow_traffic', 'distance012medium_traffic', 'distance013mediumhigh_traffic', 'distance014high_traffic', 'distance022medium_traffic', 'distance023mediumhigh_traffic', 'distance024high_traffic', 'distance033mediumhigh_traffic', 'distance034high_traffic')</td>\n",
       "      <td id=\"T_01434_row2_col3\" class=\"data row2 col3\" >5467</td>\n",
       "      <td id=\"T_01434_row2_col4\" class=\"data row2 col4\" >0.570000</td>\n",
       "      <td id=\"T_01434_row2_col5\" class=\"data row2 col5\" >{1: 0.49, 2: 0.03, 3: 0.05, 4: 0.43}</td>\n",
       "      <td id=\"T_01434_row2_col6\" class=\"data row2 col6\" >[[0.55, 0.45], [0.61, 0.39], [0.75, 0.25], [0.87, 0.13], [1.0, 0.0], [0.28, 0.72], [0.37, 0.63], [0.51, 0.49], [0.57, 0.43], [0.6, 0.4], [0.12, 0.88], [0.21, 0.79], [0.32, 0.68], [0.61, 0.39], [0.59, 0.41]]</td>\n",
       "      <td id=\"T_01434_row2_col7\" class=\"data row2 col7\" >[[0.89, 0.02, 0.03, 0.06], [0.25, 0.03, 0.1, 0.62]]</td>\n",
       "      <td id=\"T_01434_row2_col8\" class=\"data row2 col8\" >[0.03]</td>\n",
       "    </tr>\n",
       "    <tr>\n",
       "      <td id=\"T_01434_row3_col0\" class=\"data row3 col0\" >n8</td>\n",
       "      <td id=\"T_01434_row3_col1\" class=\"data row3 col1\" >Parent</td>\n",
       "      <td id=\"T_01434_row3_col2\" class=\"data row3 col2\" >driving_license__faretype in ('driving_license0faretype1', 'driving_license0faretype2', 'driving_license0faretype3', 'driving_license0faretype4')</td>\n",
       "      <td id=\"T_01434_row3_col3\" class=\"data row3 col3\" >3690</td>\n",
       "      <td id=\"T_01434_row3_col4\" class=\"data row3 col4\" >0.580000</td>\n",
       "      <td id=\"T_01434_row3_col5\" class=\"data row3 col5\" >{1: 0.41, 2: 0.03, 3: 0.06, 4: 0.5}</td>\n",
       "      <td id=\"T_01434_row3_col6\" class=\"data row3 col6\" >[[1.0, 0.0], [0.75, 0.25], [0.71, 0.29], [0.93, 0.07], [0.49, 0.51], [0.38, 0.62], [0.46, 0.54], [0.46, 0.54]]</td>\n",
       "      <td id=\"T_01434_row3_col7\" class=\"data row3 col7\" >[[0.7, 0.01, 0.13, 0.16], [0.1, 0.07, 0.0, 0.82]]</td>\n",
       "      <td id=\"T_01434_row3_col8\" class=\"data row3 col8\" >[0.03]</td>\n",
       "    </tr>\n",
       "    <tr>\n",
       "      <td id=\"T_01434_row4_col0\" class=\"data row4 col0\" >n17</td>\n",
       "      <td id=\"T_01434_row4_col1\" class=\"data row4 col1\" >Child</td>\n",
       "      <td id=\"T_01434_row4_col2\" class=\"data row4 col2\" >None</td>\n",
       "      <td id=\"T_01434_row4_col3\" class=\"data row4 col3\" >749</td>\n",
       "      <td id=\"T_01434_row4_col4\" class=\"data row4 col4\" >0.560000</td>\n",
       "      <td id=\"T_01434_row4_col5\" class=\"data row4 col5\" >{1: 0.6, 2: 0.03, 3: 0.12, 4: 0.25}</td>\n",
       "      <td id=\"T_01434_row4_col6\" class=\"data row4 col6\" >[]</td>\n",
       "      <td id=\"T_01434_row4_col7\" class=\"data row4 col7\" >[]</td>\n",
       "      <td id=\"T_01434_row4_col8\" class=\"data row4 col8\" >[]</td>\n",
       "    </tr>\n",
       "    <tr>\n",
       "      <td id=\"T_01434_row5_col0\" class=\"data row5 col0\" >n16</td>\n",
       "      <td id=\"T_01434_row5_col1\" class=\"data row5 col1\" >Parent</td>\n",
       "      <td id=\"T_01434_row5_col2\" class=\"data row5 col2\" >car_ownership__day_of_week in ('car_ownership1day_of_week7', 'car_ownership2day_of_week1', 'car_ownership2day_of_week2', 'car_ownership2day_of_week3', 'car_ownership2day_of_week4', 'car_ownership2day_of_week6', 'car_ownership2day_of_week7')</td>\n",
       "      <td id=\"T_01434_row5_col3\" class=\"data row5 col3\" >2941</td>\n",
       "      <td id=\"T_01434_row5_col4\" class=\"data row5 col4\" >0.550000</td>\n",
       "      <td id=\"T_01434_row5_col5\" class=\"data row5 col5\" >{1: 0.36, 2: 0.03, 3: 0.04, 4: 0.56}</td>\n",
       "      <td id=\"T_01434_row5_col6\" class=\"data row5 col6\" >[[0.28, 0.72], [0.0, 1.0], [0.38, 0.62], [0.11, 0.89], [0.36, 0.64], [0.45, 0.55], [0.62, 0.38], [0.83, 0.17], [0.94, 0.06], [0.97, 0.03], [0.92, 0.08], [0.35, 0.65], [0.63, 0.37], [0.84, 0.16]]</td>\n",
       "      <td id=\"T_01434_row5_col7\" class=\"data row5 col7\" >[[0.27, 0.02, 0.01, 0.7], [0.47, 0.03, 0.08, 0.42]]</td>\n",
       "      <td id=\"T_01434_row5_col8\" class=\"data row5 col8\" >[0.02]</td>\n",
       "    </tr>\n",
       "    <tr>\n",
       "      <td id=\"T_01434_row6_col0\" class=\"data row6 col0\" >n32</td>\n",
       "      <td id=\"T_01434_row6_col1\" class=\"data row6 col1\" >Child</td>\n",
       "      <td id=\"T_01434_row6_col2\" class=\"data row6 col2\" >None</td>\n",
       "      <td id=\"T_01434_row6_col3\" class=\"data row6 col3\" >1694</td>\n",
       "      <td id=\"T_01434_row6_col4\" class=\"data row6 col4\" >0.580000</td>\n",
       "      <td id=\"T_01434_row6_col5\" class=\"data row6 col5\" >{1: 0.41, 2: 0.03, 3: 0.06, 4: 0.5}</td>\n",
       "      <td id=\"T_01434_row6_col6\" class=\"data row6 col6\" >[]</td>\n",
       "      <td id=\"T_01434_row6_col7\" class=\"data row6 col7\" >[]</td>\n",
       "      <td id=\"T_01434_row6_col8\" class=\"data row6 col8\" >[]</td>\n",
       "    </tr>\n",
       "    <tr>\n",
       "      <td id=\"T_01434_row7_col0\" class=\"data row7 col0\" >n33</td>\n",
       "      <td id=\"T_01434_row7_col1\" class=\"data row7 col1\" >Child</td>\n",
       "      <td id=\"T_01434_row7_col2\" class=\"data row7 col2\" >None</td>\n",
       "      <td id=\"T_01434_row7_col3\" class=\"data row7 col3\" >1247</td>\n",
       "      <td id=\"T_01434_row7_col4\" class=\"data row7 col4\" >0.480000</td>\n",
       "      <td id=\"T_01434_row7_col5\" class=\"data row7 col5\" >{1: 0.3, 2: 0.02, 3: 0.02, 4: 0.65}</td>\n",
       "      <td id=\"T_01434_row7_col6\" class=\"data row7 col6\" >[]</td>\n",
       "      <td id=\"T_01434_row7_col7\" class=\"data row7 col7\" >[]</td>\n",
       "      <td id=\"T_01434_row7_col8\" class=\"data row7 col8\" >[]</td>\n",
       "    </tr>\n",
       "    <tr>\n",
       "      <td id=\"T_01434_row8_col0\" class=\"data row8 col0\" >n9</td>\n",
       "      <td id=\"T_01434_row8_col1\" class=\"data row8 col1\" >Parent</td>\n",
       "      <td id=\"T_01434_row8_col2\" class=\"data row8 col2\" >distance_group__car_ownership in ('distance01car_ownership2', 'distance03car_ownership2')</td>\n",
       "      <td id=\"T_01434_row8_col3\" class=\"data row8 col3\" >1777</td>\n",
       "      <td id=\"T_01434_row8_col4\" class=\"data row8 col4\" >0.500000</td>\n",
       "      <td id=\"T_01434_row8_col5\" class=\"data row8 col5\" >{1: 0.64, 2: 0.03, 3: 0.04, 4: 0.3}</td>\n",
       "      <td id=\"T_01434_row8_col6\" class=\"data row8 col6\" >[[0.82, 0.18], [0.5, 0.5], [0.33, 0.67], [0.1, 0.9], [1.0, 0.0]]</td>\n",
       "      <td id=\"T_01434_row8_col7\" class=\"data row8 col7\" >[[0.65, 0.06, 0.01, 0.28], [0.57, 0.0, 0.16, 0.27]]</td>\n",
       "      <td id=\"T_01434_row8_col8\" class=\"data row8 col8\" >[0.02]</td>\n",
       "    </tr>\n",
       "    <tr>\n",
       "      <td id=\"T_01434_row9_col0\" class=\"data row9 col0\" >n18</td>\n",
       "      <td id=\"T_01434_row9_col1\" class=\"data row9 col1\" >Child</td>\n",
       "      <td id=\"T_01434_row9_col2\" class=\"data row9 col2\" >None</td>\n",
       "      <td id=\"T_01434_row9_col3\" class=\"data row9 col3\" >503</td>\n",
       "      <td id=\"T_01434_row9_col4\" class=\"data row9 col4\" >0.550000</td>\n",
       "      <td id=\"T_01434_row9_col5\" class=\"data row9 col5\" >{1: 0.6, 2: 0.02, 3: 0.1, 4: 0.28}</td>\n",
       "      <td id=\"T_01434_row9_col6\" class=\"data row9 col6\" >[]</td>\n",
       "      <td id=\"T_01434_row9_col7\" class=\"data row9 col7\" >[]</td>\n",
       "      <td id=\"T_01434_row9_col8\" class=\"data row9 col8\" >[]</td>\n",
       "    </tr>\n",
       "    <tr>\n",
       "      <td id=\"T_01434_row10_col0\" class=\"data row10 col0\" >n19</td>\n",
       "      <td id=\"T_01434_row10_col1\" class=\"data row10 col1\" >Child</td>\n",
       "      <td id=\"T_01434_row10_col2\" class=\"data row10 col2\" >None</td>\n",
       "      <td id=\"T_01434_row10_col3\" class=\"data row10 col3\" >1274</td>\n",
       "      <td id=\"T_01434_row10_col4\" class=\"data row10 col4\" >0.480000</td>\n",
       "      <td id=\"T_01434_row10_col5\" class=\"data row10 col5\" >{1: 0.65, 2: 0.03, 3: 0.01, 4: 0.31}</td>\n",
       "      <td id=\"T_01434_row10_col6\" class=\"data row10 col6\" >[]</td>\n",
       "      <td id=\"T_01434_row10_col7\" class=\"data row10 col7\" >[]</td>\n",
       "      <td id=\"T_01434_row10_col8\" class=\"data row10 col8\" >[]</td>\n",
       "    </tr>\n",
       "    <tr>\n",
       "      <td id=\"T_01434_row11_col0\" class=\"data row11 col0\" >n5</td>\n",
       "      <td id=\"T_01434_row11_col1\" class=\"data row11 col1\" >Parent</td>\n",
       "      <td id=\"T_01434_row11_col2\" class=\"data row11 col2\" >distance_group__age_group in ('distance01age_group0-18', 'distance01age_group19-30', 'distance01age_group31-65', 'distance01age_group66+', 'distance02age_group0-18', 'distance02age_group19-30', 'distance02age_group31-65', 'distance03age_group19-30')</td>\n",
       "      <td id=\"T_01434_row11_col3\" class=\"data row11 col3\" >8262</td>\n",
       "      <td id=\"T_01434_row11_col4\" class=\"data row11 col4\" >0.430000</td>\n",
       "      <td id=\"T_01434_row11_col5\" class=\"data row11 col5\" >{1: 0.73, 2: 0.03, 3: 0.15, 4: 0.09}</td>\n",
       "      <td id=\"T_01434_row11_col6\" class=\"data row11 col6\" >[[0.93, 0.07], [0.98, 0.02], [0.92, 0.08], [0.8, 0.2], [0.75, 0.25], [0.94, 0.06], [0.75, 0.25], [0.29, 0.71], [0.45, 0.55], [0.74, 0.26], [0.47, 0.53], [0.0, 1.0]]</td>\n",
       "      <td id=\"T_01434_row11_col7\" class=\"data row11 col7\" >[[0.89, 0.03, 0.0, 0.09], [0.32, 0.02, 0.6, 0.06]]</td>\n",
       "      <td id=\"T_01434_row11_col8\" class=\"data row11 col8\" >[0.02]</td>\n",
       "    </tr>\n",
       "    <tr>\n",
       "      <td id=\"T_01434_row12_col0\" class=\"data row12 col0\" >n10</td>\n",
       "      <td id=\"T_01434_row12_col1\" class=\"data row12 col1\" >Parent</td>\n",
       "      <td id=\"T_01434_row12_col2\" class=\"data row12 col2\" >faretype__travel_month in ('faretype1travel_month1', 'faretype1travel_month10', 'faretype1travel_month12', 'faretype1travel_month2', 'faretype1travel_month3', 'faretype1travel_month4', 'faretype1travel_month5', 'faretype1travel_month6', 'faretype1travel_month7', 'faretype1travel_month8', 'faretype1travel_month9', 'faretype2travel_month10', 'faretype2travel_month3', 'faretype2travel_month5', 'faretype2travel_month7', 'faretype2travel_month8', 'faretype2travel_month9', 'faretype3travel_month1', 'faretype3travel_month10', 'faretype3travel_month3', 'faretype3travel_month4', 'faretype3travel_month7', 'faretype3travel_month8', 'faretype3travel_month9', 'faretype4travel_month1', 'faretype4travel_month10', 'faretype4travel_month12', 'faretype4travel_month2', 'faretype4travel_month3', 'faretype4travel_month5', 'faretype4travel_month6', 'faretype4travel_month7', 'faretype4travel_month8', 'faretype4travel_month9', 'faretype5travel_month10', 'faretype5travel_month9')</td>\n",
       "      <td id=\"T_01434_row12_col3\" class=\"data row12 col3\" >2095</td>\n",
       "      <td id=\"T_01434_row12_col4\" class=\"data row12 col4\" >0.570000</td>\n",
       "      <td id=\"T_01434_row12_col5\" class=\"data row12 col5\" >{1: 0.53, 2: 0.03, 3: 0.39, 4: 0.06}</td>\n",
       "      <td id=\"T_01434_row12_col6\" class=\"data row12 col6\" >[[0.68, 0.32], [0.7, 0.3], [0.47, 0.53], [0.69, 0.31], [0.82, 0.18], [0.82, 0.18], [0.59, 0.41], [0.73, 0.27], [0.78, 0.22], [0.59, 0.41], [0.65, 0.35], [0.67, 0.33], [0.33, 0.67], [0.72, 0.28], [0.32, 0.68], [0.3, 0.7], [0.0, 1.03], [1.02, 0.0], [0.67, 0.33], [0.67, 0.33], [1.02, 0.0], [1.02, 0.0], [0.87, 0.13], [0.52, 0.48], [0.29, 0.71], [0.32, 0.68], [0.0, 1.03], [0.64, 0.36], [0.83, 0.17], [0.39, 0.61], [0.37, 0.63], [0.53, 0.47], [0.76, 0.24], [0.89, 0.11], [0.84, 0.16], [0.58, 0.42], [0.29, 0.71], [1.02, 0.0], [1.02, 0.0], [1.02, 0.0], [0.49, 0.51], [1.02, 0.0], [0.85, 0.15], [0.77, 0.23], [1.02, 0.0], [1.02, 0.0], [0.38, 0.62], [0.51, 0.49], [0.23, 0.77], [0.38, 0.62], [0.48, 0.52], [0.34, 0.66], [0.37, 0.63], [0.46, 0.54], [0.43, 0.57], [0.46, 0.54], [0.46, 0.54], [0.56, 0.44]]</td>\n",
       "      <td id=\"T_01434_row12_col7\" class=\"data row12 col7\" >[[0.98, 0.01, 0.0, 0.02], [0.0, 0.07, 0.86, 0.09]]</td>\n",
       "      <td id=\"T_01434_row12_col8\" class=\"data row12 col8\" >[0.3]</td>\n",
       "    </tr>\n",
       "    <tr>\n",
       "      <td id=\"T_01434_row13_col0\" class=\"data row13 col0\" >n20</td>\n",
       "      <td id=\"T_01434_row13_col1\" class=\"data row13 col1\" >Child</td>\n",
       "      <td id=\"T_01434_row13_col2\" class=\"data row13 col2\" >None</td>\n",
       "      <td id=\"T_01434_row13_col3\" class=\"data row13 col3\" >942</td>\n",
       "      <td id=\"T_01434_row13_col4\" class=\"data row13 col4\" >0.570000</td>\n",
       "      <td id=\"T_01434_row13_col5\" class=\"data row13 col5\" >{1: 0.38, 2: 0.03, 3: 0.52, 4: 0.07}</td>\n",
       "      <td id=\"T_01434_row13_col6\" class=\"data row13 col6\" >[]</td>\n",
       "      <td id=\"T_01434_row13_col7\" class=\"data row13 col7\" >[]</td>\n",
       "      <td id=\"T_01434_row13_col8\" class=\"data row13 col8\" >[]</td>\n",
       "    </tr>\n",
       "    <tr>\n",
       "      <td id=\"T_01434_row14_col0\" class=\"data row14 col0\" >n21</td>\n",
       "      <td id=\"T_01434_row14_col1\" class=\"data row14 col1\" >Parent</td>\n",
       "      <td id=\"T_01434_row14_col2\" class=\"data row14 col2\" >faretype__costdrivingfuel_group in ('faretype1costdrivingfuelgroup2', 'faretype1costdrivingfuelgroup3', 'faretype1costdrivingfuelgroup6', 'faretype1costdrivingfuelgroup7', 'faretype1costdrivingfuelgroup8', 'faretype2costdrivingfuelgroup1', 'faretype2costdrivingfuelgroup2', 'faretype2costdrivingfuelgroup3', 'faretype2costdrivingfuelgroup4', 'faretype2costdrivingfuelgroup5', 'faretype3costdrivingfuelgroup3', 'faretype3costdrivingfuelgroup4', 'faretype3costdrivingfuelgroup5', 'faretype4costdrivingfuelgroup1', 'faretype4costdrivingfuelgroup2', 'faretype4costdrivingfuelgroup3', 'faretype4costdrivingfuelgroup4', 'faretype4costdrivingfuelgroup5', 'faretype4costdrivingfuelgroup6', 'faretype4costdrivingfuelgroup7', 'faretype5costdrivingfuelgroup6', 'faretype5costdrivingfuelgroup7')</td>\n",
       "      <td id=\"T_01434_row14_col3\" class=\"data row14 col3\" >1153</td>\n",
       "      <td id=\"T_01434_row14_col4\" class=\"data row14 col4\" >0.510000</td>\n",
       "      <td id=\"T_01434_row14_col5\" class=\"data row14 col5\" >{1: 0.64, 2: 0.03, 3: 0.28, 4: 0.05}</td>\n",
       "      <td id=\"T_01434_row14_col6\" class=\"data row14 col6\" >[[0.45, 0.55], [0.51, 0.49], [0.64, 0.36], [0.48, 0.52], [0.38, 0.62], [0.72, 0.28], [0.6, 0.4], [1.0, 0.0], [1.0, 0.0], [0.71, 0.29], [0.63, 0.37], [0.6, 0.4], [0.6, 0.4], [0.0, 1.0], [0.41, 0.59], [0.66, 0.34], [0.73, 0.27], [1.0, 0.0], [0.88, 0.12], [0.63, 0.37], [1.03, 0.0], [0.89, 0.11], [0.88, 0.12], [1.0, 0.0], [1.0, 0.0], [0.36, 0.64], [0.23, 0.77], [0.22, 0.78], [0.25, 0.75], [0.28, 0.72], [1.0, 0.0], [1.0, 0.0]]</td>\n",
       "      <td id=\"T_01434_row14_col7\" class=\"data row14 col7\" >[[0.94, 0.05, 0.0, 0.02], [0.36, 0.0, 0.56, 0.09]]</td>\n",
       "      <td id=\"T_01434_row14_col8\" class=\"data row14 col8\" >[0.2]</td>\n",
       "    </tr>\n",
       "    <tr>\n",
       "      <td id=\"T_01434_row15_col0\" class=\"data row15 col0\" >n42</td>\n",
       "      <td id=\"T_01434_row15_col1\" class=\"data row15 col1\" >Child</td>\n",
       "      <td id=\"T_01434_row15_col2\" class=\"data row15 col2\" >None</td>\n",
       "      <td id=\"T_01434_row15_col3\" class=\"data row15 col3\" >538</td>\n",
       "      <td id=\"T_01434_row15_col4\" class=\"data row15 col4\" >0.560000</td>\n",
       "      <td id=\"T_01434_row15_col5\" class=\"data row15 col5\" >{1: 0.55, 2: 0.02, 3: 0.36, 4: 0.06}</td>\n",
       "      <td id=\"T_01434_row15_col6\" class=\"data row15 col6\" >[]</td>\n",
       "      <td id=\"T_01434_row15_col7\" class=\"data row15 col7\" >[]</td>\n",
       "      <td id=\"T_01434_row15_col8\" class=\"data row15 col8\" >[]</td>\n",
       "    </tr>\n",
       "    <tr>\n",
       "      <td id=\"T_01434_row16_col0\" class=\"data row16 col0\" >n43</td>\n",
       "      <td id=\"T_01434_row16_col1\" class=\"data row16 col1\" >Child</td>\n",
       "      <td id=\"T_01434_row16_col2\" class=\"data row16 col2\" >None</td>\n",
       "      <td id=\"T_01434_row16_col3\" class=\"data row16 col3\" >615</td>\n",
       "      <td id=\"T_01434_row16_col4\" class=\"data row16 col4\" >0.430000</td>\n",
       "      <td id=\"T_01434_row16_col5\" class=\"data row16 col5\" >{1: 0.72, 2: 0.04, 3: 0.2, 4: 0.04}</td>\n",
       "      <td id=\"T_01434_row16_col6\" class=\"data row16 col6\" >[]</td>\n",
       "      <td id=\"T_01434_row16_col7\" class=\"data row16 col7\" >[]</td>\n",
       "      <td id=\"T_01434_row16_col8\" class=\"data row16 col8\" >[]</td>\n",
       "    </tr>\n",
       "    <tr>\n",
       "      <td id=\"T_01434_row17_col0\" class=\"data row17 col0\" >n11</td>\n",
       "      <td id=\"T_01434_row17_col1\" class=\"data row17 col1\" >Parent</td>\n",
       "      <td id=\"T_01434_row17_col2\" class=\"data row17 col2\" >car_ownership__trafficperc_group in ('car_ownership00low_traffic', 'car_ownership01mediumlow_traffic', 'car_ownership02medium_traffic', 'car_ownership03mediumhigh_traffic', 'car_ownership04high_traffic', 'car_ownership12medium_traffic', 'car_ownership13mediumhigh_traffic', 'car_ownership14high_traffic')</td>\n",
       "      <td id=\"T_01434_row17_col3\" class=\"data row17 col3\" >6167</td>\n",
       "      <td id=\"T_01434_row17_col4\" class=\"data row17 col4\" >0.340000</td>\n",
       "      <td id=\"T_01434_row17_col5\" class=\"data row17 col5\" >{1: 0.8, 2: 0.02, 3: 0.07, 4: 0.1}</td>\n",
       "      <td id=\"T_01434_row17_col6\" class=\"data row17 col6\" >[[0.84, 0.16], [0.95, 0.05], [0.98, 0.02], [1.0, 0.0], [0.87, 0.13], [0.01, 0.99], [0.07, 0.93], [0.53, 0.47], [0.66, 0.34], [0.72, 0.28]]</td>\n",
       "      <td id=\"T_01434_row17_col7\" class=\"data row17 col7\" >[[0.87, 0.02, 0.1, 0.01], [0.74, 0.02, 0.0, 0.24]]</td>\n",
       "      <td id=\"T_01434_row17_col8\" class=\"data row17 col8\" >[0.02]</td>\n",
       "    </tr>\n",
       "    <tr>\n",
       "      <td id=\"T_01434_row18_col0\" class=\"data row18 col0\" >n22</td>\n",
       "      <td id=\"T_01434_row18_col1\" class=\"data row18 col1\" >Parent</td>\n",
       "      <td id=\"T_01434_row18_col2\" class=\"data row18 col2\" >driving_license__travel_month in ('driving_license0travel_month1', 'driving_license0travel_month10', 'driving_license0travel_month12', 'driving_license0travel_month2', 'driving_license0travel_month3', 'driving_license0travel_month4', 'driving_license0travel_month5', 'driving_license0travel_month6', 'driving_license0travel_month7', 'driving_license0travel_month8', 'driving_license0travel_month9')</td>\n",
       "      <td id=\"T_01434_row18_col3\" class=\"data row18 col3\" >1903</td>\n",
       "      <td id=\"T_01434_row18_col4\" class=\"data row18 col4\" >0.420000</td>\n",
       "      <td id=\"T_01434_row18_col5\" class=\"data row18 col5\" >{1: 0.72, 2: 0.02, 3: 0.01, 4: 0.24}</td>\n",
       "      <td id=\"T_01434_row18_col6\" class=\"data row18 col6\" >[[1.0, 0.0], [0.93, 0.07], [0.46, 0.54], [0.97, 0.03], [0.62, 0.38], [0.91, 0.09], [0.92, 0.08], [0.82, 0.18], [0.97, 0.03], [0.83, 0.17], [0.86, 0.14], [0.71, 0.29], [0.28, 0.72], [0.37, 0.63], [0.26, 0.74], [0.33, 0.67], [0.18, 0.82], [0.0, 1.0], [0.46, 0.54], [0.31, 0.69], [0.41, 0.59], [0.16, 0.84], [0.05, 0.95], [0.29, 0.71]]</td>\n",
       "      <td id=\"T_01434_row18_col7\" class=\"data row18 col7\" >[[0.9, 0.0, 0.02, 0.07], [0.54, 0.05, 0.01, 0.4]]</td>\n",
       "      <td id=\"T_01434_row18_col8\" class=\"data row18 col8\" >[0.03]</td>\n",
       "    </tr>\n",
       "    <tr>\n",
       "      <td id=\"T_01434_row19_col0\" class=\"data row19 col0\" >n44</td>\n",
       "      <td id=\"T_01434_row19_col1\" class=\"data row19 col1\" >Child</td>\n",
       "      <td id=\"T_01434_row19_col2\" class=\"data row19 col2\" >None</td>\n",
       "      <td id=\"T_01434_row19_col3\" class=\"data row19 col3\" >1252</td>\n",
       "      <td id=\"T_01434_row19_col4\" class=\"data row19 col4\" >0.490000</td>\n",
       "      <td id=\"T_01434_row19_col5\" class=\"data row19 col5\" >{1: 0.65, 2: 0.03, 3: 0.01, 4: 0.31}</td>\n",
       "      <td id=\"T_01434_row19_col6\" class=\"data row19 col6\" >[]</td>\n",
       "      <td id=\"T_01434_row19_col7\" class=\"data row19 col7\" >[]</td>\n",
       "      <td id=\"T_01434_row19_col8\" class=\"data row19 col8\" >[]</td>\n",
       "    </tr>\n",
       "    <tr>\n",
       "      <td id=\"T_01434_row20_col0\" class=\"data row20 col0\" >n45</td>\n",
       "      <td id=\"T_01434_row20_col1\" class=\"data row20 col1\" >Child</td>\n",
       "      <td id=\"T_01434_row20_col2\" class=\"data row20 col2\" >None</td>\n",
       "      <td id=\"T_01434_row20_col3\" class=\"data row20 col3\" >651</td>\n",
       "      <td id=\"T_01434_row20_col4\" class=\"data row20 col4\" >0.250000</td>\n",
       "      <td id=\"T_01434_row20_col5\" class=\"data row20 col5\" >{1: 0.86, 2: 0.01, 3: 0.02, 4: 0.11}</td>\n",
       "      <td id=\"T_01434_row20_col6\" class=\"data row20 col6\" >[]</td>\n",
       "      <td id=\"T_01434_row20_col7\" class=\"data row20 col7\" >[]</td>\n",
       "      <td id=\"T_01434_row20_col8\" class=\"data row20 col8\" >[]</td>\n",
       "    </tr>\n",
       "    <tr>\n",
       "      <td id=\"T_01434_row21_col0\" class=\"data row21 col0\" >n23</td>\n",
       "      <td id=\"T_01434_row21_col1\" class=\"data row21 col1\" >Parent</td>\n",
       "      <td id=\"T_01434_row21_col2\" class=\"data row21 col2\" >distance_group__age_group in ('distance01age_group0-18', 'distance01age_group19-30', 'distance01age_group31-65', 'distance02age_group19-30')</td>\n",
       "      <td id=\"T_01434_row21_col3\" class=\"data row21 col3\" >4264</td>\n",
       "      <td id=\"T_01434_row21_col4\" class=\"data row21 col4\" >0.280000</td>\n",
       "      <td id=\"T_01434_row21_col5\" class=\"data row21 col5\" >{1: 0.84, 2: 0.02, 3: 0.09, 4: 0.04}</td>\n",
       "      <td id=\"T_01434_row21_col6\" class=\"data row21 col6\" >[[0.75, 0.25], [1.0, 0.0], [0.82, 0.18], [0.15, 0.85], [0.17, 0.83], [0.89, 0.11], [0.24, 0.76], [0.12, 0.88]]</td>\n",
       "      <td id=\"T_01434_row21_col7\" class=\"data row21 col7\" >[[0.91, 0.03, 0.03, 0.03], [0.73, 0.02, 0.18, 0.06]]</td>\n",
       "      <td id=\"T_01434_row21_col8\" class=\"data row21 col8\" >[0.01]</td>\n",
       "    </tr>\n",
       "    <tr>\n",
       "      <td id=\"T_01434_row22_col0\" class=\"data row22 col0\" >n46</td>\n",
       "      <td id=\"T_01434_row22_col1\" class=\"data row22 col1\" >Child</td>\n",
       "      <td id=\"T_01434_row22_col2\" class=\"data row22 col2\" >None</td>\n",
       "      <td id=\"T_01434_row22_col3\" class=\"data row22 col3\" >1651</td>\n",
       "      <td id=\"T_01434_row22_col4\" class=\"data row22 col4\" >0.400000</td>\n",
       "      <td id=\"T_01434_row22_col5\" class=\"data row22 col5\" >{1: 0.76, 2: 0.03, 3: 0.16, 4: 0.06}</td>\n",
       "      <td id=\"T_01434_row22_col6\" class=\"data row22 col6\" >[]</td>\n",
       "      <td id=\"T_01434_row22_col7\" class=\"data row22 col7\" >[]</td>\n",
       "      <td id=\"T_01434_row22_col8\" class=\"data row22 col8\" >[]</td>\n",
       "    </tr>\n",
       "    <tr>\n",
       "      <td id=\"T_01434_row23_col0\" class=\"data row23 col0\" >n47</td>\n",
       "      <td id=\"T_01434_row23_col1\" class=\"data row23 col1\" >Child</td>\n",
       "      <td id=\"T_01434_row23_col2\" class=\"data row23 col2\" >None</td>\n",
       "      <td id=\"T_01434_row23_col3\" class=\"data row23 col3\" >2613</td>\n",
       "      <td id=\"T_01434_row23_col4\" class=\"data row23 col4\" >0.200000</td>\n",
       "      <td id=\"T_01434_row23_col5\" class=\"data row23 col5\" >{1: 0.89, 2: 0.02, 3: 0.05, 4: 0.03}</td>\n",
       "      <td id=\"T_01434_row23_col6\" class=\"data row23 col6\" >[]</td>\n",
       "      <td id=\"T_01434_row23_col7\" class=\"data row23 col7\" >[]</td>\n",
       "      <td id=\"T_01434_row23_col8\" class=\"data row23 col8\" >[]</td>\n",
       "    </tr>\n",
       "    <tr>\n",
       "      <td id=\"T_01434_row24_col0\" class=\"data row24 col0\" >n3</td>\n",
       "      <td id=\"T_01434_row24_col1\" class=\"data row24 col1\" >Parent</td>\n",
       "      <td id=\"T_01434_row24_col2\" class=\"data row24 col2\" >car_ownership__trafficperc_group in ('car_ownership00low_traffic', 'car_ownership01mediumlow_traffic', 'car_ownership02medium_traffic', 'car_ownership03mediumhigh_traffic', 'car_ownership04high_traffic', 'car_ownership13mediumhigh_traffic', 'car_ownership14high_traffic', 'car_ownership24high_traffic')</td>\n",
       "      <td id=\"T_01434_row24_col3\" class=\"data row24 col3\" >62374</td>\n",
       "      <td id=\"T_01434_row24_col4\" class=\"data row24 col4\" >0.590000</td>\n",
       "      <td id=\"T_01434_row24_col5\" class=\"data row24 col5\" >{1: 0.07, 2: 0.03, 3: 0.41, 4: 0.49}</td>\n",
       "      <td id=\"T_01434_row24_col6\" class=\"data row24 col6\" >[[0.82, 0.18], [0.89, 0.11], [0.93, 0.07], [0.97, 0.03], [1.0, 0.0], [0.15, 0.85], [0.24, 0.76], [0.37, 0.63], [0.57, 0.43], [0.81, 0.19], [0.0, 1.0], [0.07, 0.93], [0.16, 0.84], [0.39, 0.61], [0.63, 0.37]]</td>\n",
       "      <td id=\"T_01434_row24_col7\" class=\"data row24 col7\" >[[0.08, 0.05, 0.84, 0.03], [0.06, 0.01, 0.09, 0.85]]</td>\n",
       "      <td id=\"T_01434_row24_col8\" class=\"data row24 col8\" >[0.02]</td>\n",
       "    </tr>\n",
       "    <tr>\n",
       "      <td id=\"T_01434_row25_col0\" class=\"data row25 col0\" >n6</td>\n",
       "      <td id=\"T_01434_row25_col1\" class=\"data row25 col1\" >Parent</td>\n",
       "      <td id=\"T_01434_row25_col2\" class=\"data row25 col2\" >distance_group__driving_license in ('distance02driving_license1', 'distance04driving_license1', 'distance05driving_license0', 'distance05driving_license1', 'distance06driving_license0', 'distance06driving_license1', 'distance07driving_license0', 'distance07driving_license1', 'distance08driving_license0', 'distance08driving_license1', 'distance09driving_license0', 'distance09driving_license1', 'distance10driving_license0', 'distance10driving_license1', 'distance11driving_license0', 'distance11driving_license1')</td>\n",
       "      <td id=\"T_01434_row25_col3\" class=\"data row25 col3\" >37369</td>\n",
       "      <td id=\"T_01434_row25_col4\" class=\"data row25 col4\" >0.450000</td>\n",
       "      <td id=\"T_01434_row25_col5\" class=\"data row25 col5\" >{1: 0.07, 2: 0.02, 3: 0.2, 4: 0.71}</td>\n",
       "      <td id=\"T_01434_row25_col6\" class=\"data row25 col6\" >[[0.72, 0.28], [0.0, 1.0], [0.34, 0.66], [0.4, 0.6], [0.5, 0.5], [0.67, 0.33], [0.68, 0.32], [0.87, 0.13], [0.78, 0.22], [0.98, 0.02], [0.84, 0.16], [1.02, 0.0], [0.89, 0.11], [1.04, 0.0], [0.91, 0.09], [1.13, 0.0], [1.0, 0.0], [1.12, 0.0], [1.05, 0.0]]</td>\n",
       "      <td id=\"T_01434_row25_col7\" class=\"data row25 col7\" >[[0.0, 0.02, 0.34, 0.65], [0.39, 0.05, 0.0, 0.59]]</td>\n",
       "      <td id=\"T_01434_row25_col8\" class=\"data row25 col8\" >[0.18]</td>\n",
       "    </tr>\n",
       "    <tr>\n",
       "      <td id=\"T_01434_row26_col0\" class=\"data row26 col0\" >n12</td>\n",
       "      <td id=\"T_01434_row26_col1\" class=\"data row26 col1\" >Parent</td>\n",
       "      <td id=\"T_01434_row26_col2\" class=\"data row26 col2\" >driving_license__faretype in ('driving_license0faretype5', 'driving_license1faretype1', 'driving_license1faretype2', 'driving_license1faretype4', 'driving_license1faretype5')</td>\n",
       "      <td id=\"T_01434_row26_col3\" class=\"data row26 col3\" >4506</td>\n",
       "      <td id=\"T_01434_row26_col4\" class=\"data row26 col4\" >0.580000</td>\n",
       "      <td id=\"T_01434_row26_col5\" class=\"data row26 col5\" >{1: 0.29, 2: 0.03, 3: 0.11, 4: 0.57}</td>\n",
       "      <td id=\"T_01434_row26_col6\" class=\"data row26 col6\" >[[0.32, 0.68], [0.3, 0.7], [0.4, 0.6], [0.14, 0.86], [0.62, 0.38], [0.72, 0.28], [1.03, 0.0], [0.65, 0.35], [0.66, 0.34]]</td>\n",
       "      <td id=\"T_01434_row26_col7\" class=\"data row26 col7\" >[[0.03, 0.01, 0.0, 0.98], [0.63, 0.08, 0.31, 0.0]]</td>\n",
       "      <td id=\"T_01434_row26_col8\" class=\"data row26 col8\" >[0.03]</td>\n",
       "    </tr>\n",
       "    <tr>\n",
       "      <td id=\"T_01434_row27_col0\" class=\"data row27 col0\" >n24</td>\n",
       "      <td id=\"T_01434_row27_col1\" class=\"data row27 col1\" >Parent</td>\n",
       "      <td id=\"T_01434_row27_col2\" class=\"data row27 col2\" >travel_month__costdrivingfuel_group in ('travel_month10costdrivingfuelgroup4', 'travel_month10costdrivingfuelgroup5', 'travel_month10costdrivingfuelgroup6', 'travel_month10costdrivingfuelgroup7', 'travel_month11costdrivingfuelgroup3', 'travel_month11costdrivingfuelgroup4', 'travel_month11costdrivingfuelgroup5', 'travel_month11costdrivingfuelgroup6', 'travel_month12costdrivingfuelgroup3', 'travel_month12costdrivingfuelgroup4', 'travel_month12costdrivingfuelgroup5', 'travel_month12costdrivingfuelgroup6', 'travel_month12costdrivingfuelgroup7', 'travel_month1costdrivingfuelgroup3', 'travel_month1costdrivingfuelgroup6', 'travel_month2costdrivingfuelgroup2', 'travel_month2costdrivingfuelgroup6', 'travel_month2costdrivingfuelgroup7', 'travel_month3costdrivingfuelgroup4', 'travel_month4costdrivingfuelgroup2', 'travel_month4costdrivingfuelgroup4', 'travel_month4costdrivingfuelgroup5', 'travel_month4costdrivingfuelgroup6', 'travel_month4costdrivingfuelgroup7', 'travel_month5costdrivingfuelgroup1', 'travel_month5costdrivingfuelgroup3', 'travel_month5costdrivingfuelgroup4', 'travel_month5costdrivingfuelgroup5', 'travel_month5costdrivingfuelgroup6', 'travel_month6costdrivingfuelgroup2', 'travel_month6costdrivingfuelgroup4', 'travel_month6costdrivingfuelgroup6', 'travel_month7costdrivingfuelgroup6', 'travel_month8costdrivingfuelgroup1', 'travel_month8costdrivingfuelgroup2', 'travel_month8costdrivingfuelgroup6', 'travel_month9costdrivingfuelgroup3', 'travel_month9costdrivingfuelgroup4', 'travel_month9costdrivingfuelgroup5', 'travel_month9costdrivingfuelgroup6')</td>\n",
       "      <td id=\"T_01434_row27_col3\" class=\"data row27 col3\" >1232</td>\n",
       "      <td id=\"T_01434_row27_col4\" class=\"data row27 col4\" >0.670000</td>\n",
       "      <td id=\"T_01434_row27_col5\" class=\"data row27 col5\" >{1: 0.42, 2: 0.04, 3: 0.21, 4: 0.33}</td>\n",
       "      <td id=\"T_01434_row27_col6\" class=\"data row27 col6\" >[[0.43, 0.57], [0.19, 0.81], [0.32, 0.68], [0.56, 0.44], [0.72, 0.28], [0.74, 0.26], [1.0, 0.0], [0.0, 1.07], [0.31, 0.69], [0.59, 0.41], [0.56, 0.44], [0.79, 0.21], [0.65, 0.35], [0.0, 1.07], [0.33, 0.67], [0.65, 0.35], [0.52, 0.48], [0.83, 0.17], [0.97, 0.03], [0.93, 0.07], [0.32, 0.68], [0.41, 0.59], [0.6, 0.4], [0.48, 0.52], [0.39, 0.61], [0.65, 0.35], [0.43, 0.57], [0.0, 1.07], [0.93, 0.07], [0.18, 0.82], [0.13, 0.87], [0.49, 0.51], [1.1, 0.0], [1.1, 0.0], [0.26, 0.74], [0.83, 0.17], [0.37, 0.63], [0.0, 1.07], [0.26, 0.74], [0.6, 0.4], [0.46, 0.54], [0.51, 0.49], [0.76, 0.24], [0.6, 0.4], [0.81, 0.19], [0.93, 0.07], [0.44, 0.56], [0.69, 0.31], [0.77, 0.23], [0.77, 0.23], [0.8, 0.2], [0.18, 0.82], [0.63, 0.37], [0.41, 0.59], [0.52, 0.48], [0.49, 0.51], [0.69, 0.31], [0.11, 0.89], [0.5, 0.5], [0.48, 0.52], [0.42, 0.58], [0.24, 0.76], [0.51, 0.49], [0.0, 1.07], [0.93, 0.07], [0.54, 0.46], [0.39, 0.61], [0.43, 0.57], [0.4, 0.6], [0.57, 0.43], [0.0, 1.07], [0.26, 0.74], [0.31, 0.69], [0.56, 0.44], [0.57, 0.43], [0.5, 0.5], [0.66, 0.34], [0.18, 0.82]]</td>\n",
       "      <td id=\"T_01434_row27_col7\" class=\"data row27 col7\" >[[0.0, 0.03, 0.42, 0.57], [0.93, 0.03, 0.0, 0.07]]</td>\n",
       "      <td id=\"T_01434_row27_col8\" class=\"data row27 col8\" >[0.38]</td>\n",
       "    </tr>\n",
       "    <tr>\n",
       "      <td id=\"T_01434_row28_col0\" class=\"data row28 col0\" >n48</td>\n",
       "      <td id=\"T_01434_row28_col1\" class=\"data row28 col1\" >Child</td>\n",
       "      <td id=\"T_01434_row28_col2\" class=\"data row28 col2\" >None</td>\n",
       "      <td id=\"T_01434_row28_col3\" class=\"data row28 col3\" >531</td>\n",
       "      <td id=\"T_01434_row28_col4\" class=\"data row28 col4\" >0.590000</td>\n",
       "      <td id=\"T_01434_row28_col5\" class=\"data row28 col5\" >{1: 0.57, 2: 0.03, 3: 0.15, 4: 0.25}</td>\n",
       "      <td id=\"T_01434_row28_col6\" class=\"data row28 col6\" >[]</td>\n",
       "      <td id=\"T_01434_row28_col7\" class=\"data row28 col7\" >[]</td>\n",
       "      <td id=\"T_01434_row28_col8\" class=\"data row28 col8\" >[]</td>\n",
       "    </tr>\n",
       "    <tr>\n",
       "      <td id=\"T_01434_row29_col0\" class=\"data row29 col0\" >n49</td>\n",
       "      <td id=\"T_01434_row29_col1\" class=\"data row29 col1\" >Child</td>\n",
       "      <td id=\"T_01434_row29_col2\" class=\"data row29 col2\" >None</td>\n",
       "      <td id=\"T_01434_row29_col3\" class=\"data row29 col3\" >701</td>\n",
       "      <td id=\"T_01434_row29_col4\" class=\"data row29 col4\" >0.680000</td>\n",
       "      <td id=\"T_01434_row29_col5\" class=\"data row29 col5\" >{1: 0.3, 2: 0.04, 3: 0.26, 4: 0.4}</td>\n",
       "      <td id=\"T_01434_row29_col6\" class=\"data row29 col6\" >[]</td>\n",
       "      <td id=\"T_01434_row29_col7\" class=\"data row29 col7\" >[]</td>\n",
       "      <td id=\"T_01434_row29_col8\" class=\"data row29 col8\" >[]</td>\n",
       "    </tr>\n",
       "    <tr>\n",
       "      <td id=\"T_01434_row30_col0\" class=\"data row30 col0\" >n25</td>\n",
       "      <td id=\"T_01434_row30_col1\" class=\"data row30 col1\" >Parent</td>\n",
       "      <td id=\"T_01434_row30_col2\" class=\"data row30 col2\" >car_ownership__age_group in ('car_ownership2age_group0-18', 'car_ownership2age_group19-30', 'car_ownership2age_group31-65')</td>\n",
       "      <td id=\"T_01434_row30_col3\" class=\"data row30 col3\" >3274</td>\n",
       "      <td id=\"T_01434_row30_col4\" class=\"data row30 col4\" >0.510000</td>\n",
       "      <td id=\"T_01434_row30_col5\" class=\"data row30 col5\" >{1: 0.24, 2: 0.03, 3: 0.08, 4: 0.66}</td>\n",
       "      <td id=\"T_01434_row30_col6\" class=\"data row30 col6\" >[[0.16, 0.84], [0.04, 0.96], [0.3, 0.7], [0.04, 0.96], [0.86, 0.14], [0.6, 0.4], [0.61, 0.39], [0.34, 0.66]]</td>\n",
       "      <td id=\"T_01434_row30_col7\" class=\"data row30 col7\" >[[0.1, 0.01, 0.03, 0.86], [0.32, 0.03, 0.11, 0.54]]</td>\n",
       "      <td id=\"T_01434_row30_col8\" class=\"data row30 col8\" >[0.04]</td>\n",
       "    </tr>\n",
       "    <tr>\n",
       "      <td id=\"T_01434_row31_col0\" class=\"data row31 col0\" >n50</td>\n",
       "      <td id=\"T_01434_row31_col1\" class=\"data row31 col1\" >Child</td>\n",
       "      <td id=\"T_01434_row31_col2\" class=\"data row31 col2\" >None</td>\n",
       "      <td id=\"T_01434_row31_col3\" class=\"data row31 col3\" >2239</td>\n",
       "      <td id=\"T_01434_row31_col4\" class=\"data row31 col4\" >0.550000</td>\n",
       "      <td id=\"T_01434_row31_col5\" class=\"data row31 col5\" >{1: 0.27, 2: 0.03, 3: 0.09, 4: 0.61}</td>\n",
       "      <td id=\"T_01434_row31_col6\" class=\"data row31 col6\" >[]</td>\n",
       "      <td id=\"T_01434_row31_col7\" class=\"data row31 col7\" >[]</td>\n",
       "      <td id=\"T_01434_row31_col8\" class=\"data row31 col8\" >[]</td>\n",
       "    </tr>\n",
       "    <tr>\n",
       "      <td id=\"T_01434_row32_col0\" class=\"data row32 col0\" >n51</td>\n",
       "      <td id=\"T_01434_row32_col1\" class=\"data row32 col1\" >Child</td>\n",
       "      <td id=\"T_01434_row32_col2\" class=\"data row32 col2\" >None</td>\n",
       "      <td id=\"T_01434_row32_col3\" class=\"data row32 col3\" >1035</td>\n",
       "      <td id=\"T_01434_row32_col4\" class=\"data row32 col4\" >0.390000</td>\n",
       "      <td id=\"T_01434_row32_col5\" class=\"data row32 col5\" >{1: 0.18, 2: 0.02, 3: 0.04, 4: 0.76}</td>\n",
       "      <td id=\"T_01434_row32_col6\" class=\"data row32 col6\" >[]</td>\n",
       "      <td id=\"T_01434_row32_col7\" class=\"data row32 col7\" >[]</td>\n",
       "      <td id=\"T_01434_row32_col8\" class=\"data row32 col8\" >[]</td>\n",
       "    </tr>\n",
       "    <tr>\n",
       "      <td id=\"T_01434_row33_col0\" class=\"data row33 col0\" >n13</td>\n",
       "      <td id=\"T_01434_row33_col1\" class=\"data row33 col1\" >Parent</td>\n",
       "      <td id=\"T_01434_row33_col2\" class=\"data row33 col2\" >driving_license__faretype in ('driving_license0faretype5', 'driving_license1faretype1', 'driving_license1faretype2', 'driving_license1faretype4', 'driving_license1faretype5')</td>\n",
       "      <td id=\"T_01434_row33_col3\" class=\"data row33 col3\" >32863</td>\n",
       "      <td id=\"T_01434_row33_col4\" class=\"data row33 col4\" >0.420000</td>\n",
       "      <td id=\"T_01434_row33_col5\" class=\"data row33 col5\" >{1: 0.04, 2: 0.02, 3: 0.21, 4: 0.73}</td>\n",
       "      <td id=\"T_01434_row33_col6\" class=\"data row33 col6\" >[[0.18, 0.82], [0.02, 0.98], [0.36, 0.64], [0.0, 1.0], [0.74, 0.26], [0.8, 0.2], [0.73, 0.27], [0.65, 0.35], [0.68, 0.32]]</td>\n",
       "      <td id=\"T_01434_row33_col7\" class=\"data row33 col7\" >[[0.06, 0.04, 0.0, 0.9], [0.05, 0.03, 0.61, 0.31]]</td>\n",
       "      <td id=\"T_01434_row33_col8\" class=\"data row33 col8\" >[0.04]</td>\n",
       "    </tr>\n",
       "    <tr>\n",
       "      <td id=\"T_01434_row34_col0\" class=\"data row34 col0\" >n26</td>\n",
       "      <td id=\"T_01434_row34_col1\" class=\"data row34 col1\" >Parent</td>\n",
       "      <td id=\"T_01434_row34_col2\" class=\"data row34 col2\" >purpose__day_of_week in ('purpose1day_of_week1', 'purpose1day_of_week2', 'purpose1day_of_week3', 'purpose1day_of_week4', 'purpose1day_of_week5', 'purpose1day_of_week6', 'purpose1day_of_week7', 'purpose2day_of_week1', 'purpose2day_of_week2', 'purpose2day_of_week3', 'purpose2day_of_week4', 'purpose2day_of_week5', 'purpose4day_of_week1', 'purpose4day_of_week3', 'purpose4day_of_week4', 'purpose4day_of_week5', 'purpose4day_of_week6', 'purpose4day_of_week7')</td>\n",
       "      <td id=\"T_01434_row34_col3\" class=\"data row34 col3\" >5282</td>\n",
       "      <td id=\"T_01434_row34_col4\" class=\"data row34 col4\" >0.570000</td>\n",
       "      <td id=\"T_01434_row34_col5\" class=\"data row34 col5\" >{1: 0.06, 2: 0.02, 3: 0.49, 4: 0.44}</td>\n",
       "      <td id=\"T_01434_row34_col6\" class=\"data row34 col6\" >[[0.9, 0.1], [0.72, 0.28], [0.9, 0.1], [0.78, 0.22], [0.82, 0.18], [0.58, 0.42], [0.84, 0.16], [0.86, 0.14], [0.78, 0.22], [0.68, 0.32], [0.81, 0.19], [0.74, 0.26], [0.1, 0.9], [0.41, 0.59], [0.23, 0.77], [0.38, 0.62], [0.31, 0.69], [0.33, 0.67], [0.22, 0.78], [0.31, 0.69], [0.03, 0.97], [0.97, 0.03], [0.47, 0.53], [1.0, 0.0], [0.64, 0.36], [0.75, 0.25], [0.7, 0.3], [0.57, 0.43], [0.36, 0.64], [0.46, 0.54], [0.29, 0.71], [0.32, 0.68], [0.34, 0.66], [0.28, 0.72], [0.0, 1.0]]</td>\n",
       "      <td id=\"T_01434_row34_col7\" class=\"data row34 col7\" >[[0.06, 0.02, 0.83, 0.1], [0.05, 0.03, 0.2, 0.72]]</td>\n",
       "      <td id=\"T_01434_row34_col8\" class=\"data row34 col8\" >[0.06]</td>\n",
       "    </tr>\n",
       "    <tr>\n",
       "      <td id=\"T_01434_row35_col0\" class=\"data row35 col0\" >n52</td>\n",
       "      <td id=\"T_01434_row35_col1\" class=\"data row35 col1\" >Child</td>\n",
       "      <td id=\"T_01434_row35_col2\" class=\"data row35 col2\" >None</td>\n",
       "      <td id=\"T_01434_row35_col3\" class=\"data row35 col3\" >3169</td>\n",
       "      <td id=\"T_01434_row35_col4\" class=\"data row35 col4\" >0.550000</td>\n",
       "      <td id=\"T_01434_row35_col5\" class=\"data row35 col5\" >{1: 0.05, 2: 0.02, 3: 0.35, 4: 0.57}</td>\n",
       "      <td id=\"T_01434_row35_col6\" class=\"data row35 col6\" >[]</td>\n",
       "      <td id=\"T_01434_row35_col7\" class=\"data row35 col7\" >[]</td>\n",
       "      <td id=\"T_01434_row35_col8\" class=\"data row35 col8\" >[]</td>\n",
       "    </tr>\n",
       "    <tr>\n",
       "      <td id=\"T_01434_row36_col0\" class=\"data row36 col0\" >n53</td>\n",
       "      <td id=\"T_01434_row36_col1\" class=\"data row36 col1\" >Child</td>\n",
       "      <td id=\"T_01434_row36_col2\" class=\"data row36 col2\" >None</td>\n",
       "      <td id=\"T_01434_row36_col3\" class=\"data row36 col3\" >2113</td>\n",
       "      <td id=\"T_01434_row36_col4\" class=\"data row36 col4\" >0.470000</td>\n",
       "      <td id=\"T_01434_row36_col5\" class=\"data row36 col5\" >{1: 0.06, 2: 0.02, 3: 0.69, 4: 0.23}</td>\n",
       "      <td id=\"T_01434_row36_col6\" class=\"data row36 col6\" >[]</td>\n",
       "      <td id=\"T_01434_row36_col7\" class=\"data row36 col7\" >[]</td>\n",
       "      <td id=\"T_01434_row36_col8\" class=\"data row36 col8\" >[]</td>\n",
       "    </tr>\n",
       "    <tr>\n",
       "      <td id=\"T_01434_row37_col0\" class=\"data row37 col0\" >n27</td>\n",
       "      <td id=\"T_01434_row37_col1\" class=\"data row37 col1\" >Parent</td>\n",
       "      <td id=\"T_01434_row37_col2\" class=\"data row37 col2\" >trafficperc_group__purpose in ('0low_trafficpurpose1', '0low_trafficpurpose2', '0low_trafficpurpose3', '0low_trafficpurpose4', '0low_trafficpurpose5', '1mediumlow_trafficpurpose1', '1mediumlow_trafficpurpose2', '1mediumlow_trafficpurpose3', '1mediumlow_trafficpurpose4', '1mediumlow_trafficpurpose5', '2medium_trafficpurpose2', '2medium_trafficpurpose3', '2medium_trafficpurpose5')</td>\n",
       "      <td id=\"T_01434_row37_col3\" class=\"data row37 col3\" >27581</td>\n",
       "      <td id=\"T_01434_row37_col4\" class=\"data row37 col4\" >0.360000</td>\n",
       "      <td id=\"T_01434_row37_col5\" class=\"data row37 col5\" >{1: 0.04, 2: 0.02, 3: 0.15, 4: 0.79}</td>\n",
       "      <td id=\"T_01434_row37_col6\" class=\"data row37 col6\" >[[0.83, 0.17], [0.96, 0.04], [0.89, 0.11], [0.88, 0.12], [0.97, 0.03], [0.57, 0.43], [0.79, 0.21], [0.75, 0.25], [0.69, 0.31], [0.85, 0.15], [0.26, 0.74], [0.65, 0.35], [0.55, 0.45], [0.43, 0.57], [0.72, 0.28], [0.0, 1.0], [0.34, 0.66], [0.23, 0.77], [0.36, 0.64], [0.27, 0.73]]</td>\n",
       "      <td id=\"T_01434_row37_col7\" class=\"data row37 col7\" >[[0.04, 0.02, 0.03, 0.91], [0.01, 0.02, 0.49, 0.48]]</td>\n",
       "      <td id=\"T_01434_row37_col8\" class=\"data row37 col8\" >[0.01]</td>\n",
       "    </tr>\n",
       "    <tr>\n",
       "      <td id=\"T_01434_row38_col0\" class=\"data row38 col0\" >n54</td>\n",
       "      <td id=\"T_01434_row38_col1\" class=\"data row38 col1\" >Child</td>\n",
       "      <td id=\"T_01434_row38_col2\" class=\"data row38 col2\" >None</td>\n",
       "      <td id=\"T_01434_row38_col3\" class=\"data row38 col3\" >3049</td>\n",
       "      <td id=\"T_01434_row38_col4\" class=\"data row38 col4\" >0.520000</td>\n",
       "      <td id=\"T_01434_row38_col5\" class=\"data row38 col5\" >{1: 0.02, 2: 0.03, 3: 0.36, 4: 0.59}</td>\n",
       "      <td id=\"T_01434_row38_col6\" class=\"data row38 col6\" >[]</td>\n",
       "      <td id=\"T_01434_row38_col7\" class=\"data row38 col7\" >[]</td>\n",
       "      <td id=\"T_01434_row38_col8\" class=\"data row38 col8\" >[]</td>\n",
       "    </tr>\n",
       "    <tr>\n",
       "      <td id=\"T_01434_row39_col0\" class=\"data row39 col0\" >n55</td>\n",
       "      <td id=\"T_01434_row39_col1\" class=\"data row39 col1\" >Child</td>\n",
       "      <td id=\"T_01434_row39_col2\" class=\"data row39 col2\" >None</td>\n",
       "      <td id=\"T_01434_row39_col3\" class=\"data row39 col3\" >24532</td>\n",
       "      <td id=\"T_01434_row39_col4\" class=\"data row39 col4\" >0.330000</td>\n",
       "      <td id=\"T_01434_row39_col5\" class=\"data row39 col5\" >{1: 0.04, 2: 0.02, 3: 0.13, 4: 0.81}</td>\n",
       "      <td id=\"T_01434_row39_col6\" class=\"data row39 col6\" >[]</td>\n",
       "      <td id=\"T_01434_row39_col7\" class=\"data row39 col7\" >[]</td>\n",
       "      <td id=\"T_01434_row39_col8\" class=\"data row39 col8\" >[]</td>\n",
       "    </tr>\n",
       "    <tr>\n",
       "      <td id=\"T_01434_row40_col0\" class=\"data row40 col0\" >n7</td>\n",
       "      <td id=\"T_01434_row40_col1\" class=\"data row40 col1\" >Parent</td>\n",
       "      <td id=\"T_01434_row40_col2\" class=\"data row40 col2\" >distance_group__fueltype in ('distance04fueltype5', 'distance05fueltype6', 'distance06fueltype1', 'distance06fueltype2', 'distance06fueltype4', 'distance06fueltype6', 'distance07fueltype1', 'distance07fueltype2', 'distance07fueltype3', 'distance07fueltype4', 'distance07fueltype5', 'distance07fueltype6', 'distance08fueltype1', 'distance08fueltype2', 'distance08fueltype3', 'distance08fueltype5', 'distance08fueltype6', 'distance09fueltype1', 'distance09fueltype2', 'distance09fueltype3', 'distance09fueltype4', 'distance09fueltype5', 'distance09fueltype6', 'distance10fueltype1', 'distance10fueltype2', 'distance10fueltype3', 'distance10fueltype4', 'distance10fueltype5', 'distance10fueltype6', 'distance11fueltype1', 'distance11fueltype2', 'distance11fueltype3', 'distance11fueltype4', 'distance11fueltype5', 'distance11fueltype6')</td>\n",
       "      <td id=\"T_01434_row40_col3\" class=\"data row40 col3\" >25005</td>\n",
       "      <td id=\"T_01434_row40_col4\" class=\"data row40 col4\" >0.450000</td>\n",
       "      <td id=\"T_01434_row40_col5\" class=\"data row40 col5\" >{1: 0.08, 2: 0.04, 3: 0.72, 4: 0.16}</td>\n",
       "      <td id=\"T_01434_row40_col6\" class=\"data row40 col6\" >[[0.17, 0.83], [0.0, 1.08], [0.21, 0.79], [0.13, 0.87], [0.49, 0.51], [0.88, 0.12], [0.48, 0.52], [0.46, 0.54], [0.48, 0.52], [0.0, 1.01], [0.22, 0.78], [0.72, 0.28], [0.71, 0.29], [0.62, 0.38], [0.32, 0.68], [1.17, 0.0], [0.11, 0.89], [0.86, 0.14], [0.71, 0.29], [0.77, 0.23], [0.66, 0.34], [1.17, 0.0], [0.56, 0.44], [0.98, 0.02], [0.86, 0.14], [0.85, 0.15], [0.83, 0.17], [0.3, 0.7], [0.74, 0.26], [1.06, 0.0], [0.94, 0.06], [0.92, 0.08], [0.99, 0.01], [0.52, 0.48], [0.55, 0.45], [1.08, 0.0], [0.96, 0.04], [0.95, 0.05], [0.8, 0.2], [1.01, 0.0], [0.82, 0.18], [1.08, 0.0], [1.02, 0.0], [0.97, 0.03], [0.63, 0.37], [1.17, 0.0], [0.77, 0.23], [1.09, 0.0]]</td>\n",
       "      <td id=\"T_01434_row40_col7\" class=\"data row40 col7\" >[[0.0, 0.03, 0.79, 0.2], [0.38, 0.01, 0.0, 0.66]]</td>\n",
       "      <td id=\"T_01434_row40_col8\" class=\"data row40 col8\" >[0.22]</td>\n",
       "    </tr>\n",
       "    <tr>\n",
       "      <td id=\"T_01434_row41_col0\" class=\"data row41 col0\" >n14</td>\n",
       "      <td id=\"T_01434_row41_col1\" class=\"data row41 col1\" >Parent</td>\n",
       "      <td id=\"T_01434_row41_col2\" class=\"data row41 col2\" >car_ownership__faretype in ('car_ownership0faretype1', 'car_ownership0faretype2', 'car_ownership0faretype3', 'car_ownership0faretype4', 'car_ownership0faretype5', 'car_ownership1faretype3', 'car_ownership1faretype4', 'car_ownership2faretype2')</td>\n",
       "      <td id=\"T_01434_row41_col3\" class=\"data row41 col3\" >2393</td>\n",
       "      <td id=\"T_01434_row41_col4\" class=\"data row41 col4\" >0.660000</td>\n",
       "      <td id=\"T_01434_row41_col5\" class=\"data row41 col5\" >{1: 0.36, 2: 0.05, 3: 0.42, 4: 0.17}</td>\n",
       "      <td id=\"T_01434_row41_col6\" class=\"data row41 col6\" >[[0.58, 0.42], [0.75, 0.25], [0.9, 0.1], [0.59, 0.41], [0.9, 0.1], [0.25, 0.75], [0.45, 0.55], [0.56, 0.44], [0.52, 0.48], [0.35, 0.65], [0.22, 0.78], [1.19, 0.0], [0.0, 1.05], [0.17, 0.83], [0.44, 0.56]]</td>\n",
       "      <td id=\"T_01434_row41_col7\" class=\"data row41 col7\" >[[0.22, 0.02, 0.8, 0.0], [0.46, 0.07, 0.0, 0.5]]</td>\n",
       "      <td id=\"T_01434_row41_col8\" class=\"data row41 col8\" >[0.17]</td>\n",
       "    </tr>\n",
       "    <tr>\n",
       "      <td id=\"T_01434_row42_col0\" class=\"data row42 col0\" >n28</td>\n",
       "      <td id=\"T_01434_row42_col1\" class=\"data row42 col1\" >Child</td>\n",
       "      <td id=\"T_01434_row42_col2\" class=\"data row42 col2\" >None</td>\n",
       "      <td id=\"T_01434_row42_col3\" class=\"data row42 col3\" >762</td>\n",
       "      <td id=\"T_01434_row42_col4\" class=\"data row42 col4\" >0.680000</td>\n",
       "      <td id=\"T_01434_row42_col5\" class=\"data row42 col5\" >{1: 0.3, 2: 0.05, 3: 0.24, 4: 0.41}</td>\n",
       "      <td id=\"T_01434_row42_col6\" class=\"data row42 col6\" >[]</td>\n",
       "      <td id=\"T_01434_row42_col7\" class=\"data row42 col7\" >[]</td>\n",
       "      <td id=\"T_01434_row42_col8\" class=\"data row42 col8\" >[]</td>\n",
       "    </tr>\n",
       "    <tr>\n",
       "      <td id=\"T_01434_row43_col0\" class=\"data row43 col0\" >n29</td>\n",
       "      <td id=\"T_01434_row43_col1\" class=\"data row43 col1\" >Parent</td>\n",
       "      <td id=\"T_01434_row43_col2\" class=\"data row43 col2\" >bus_scale__driving_license in ('bus_scale0.0driving_license0', 'bus_scale0.0driving_license1', 'bus_scale0.5driving_license0')</td>\n",
       "      <td id=\"T_01434_row43_col3\" class=\"data row43 col3\" >1631</td>\n",
       "      <td id=\"T_01434_row43_col4\" class=\"data row43 col4\" >0.590000</td>\n",
       "      <td id=\"T_01434_row43_col5\" class=\"data row43 col5\" >{1: 0.39, 2: 0.05, 3: 0.51, 4: 0.06}</td>\n",
       "      <td id=\"T_01434_row43_col6\" class=\"data row43 col6\" >[[0.81, 0.19], [0.92, 0.08], [0.61, 0.39], [0.42, 0.58], [0.27, 0.73], [0.0, 1.0]]</td>\n",
       "      <td id=\"T_01434_row43_col7\" class=\"data row43 col7\" >[[0.21, 0.0, 0.77, 0.02], [0.58, 0.08, 0.28, 0.06]]</td>\n",
       "      <td id=\"T_01434_row43_col8\" class=\"data row43 col8\" >[0.02]</td>\n",
       "    </tr>\n",
       "    <tr>\n",
       "      <td id=\"T_01434_row44_col0\" class=\"data row44 col0\" >n58</td>\n",
       "      <td id=\"T_01434_row44_col1\" class=\"data row44 col1\" >Child</td>\n",
       "      <td id=\"T_01434_row44_col2\" class=\"data row44 col2\" >None</td>\n",
       "      <td id=\"T_01434_row44_col3\" class=\"data row44 col3\" >882</td>\n",
       "      <td id=\"T_01434_row44_col4\" class=\"data row44 col4\" >0.610000</td>\n",
       "      <td id=\"T_01434_row44_col5\" class=\"data row44 col5\" >{1: 0.5, 2: 0.07, 3: 0.36, 4: 0.07}</td>\n",
       "      <td id=\"T_01434_row44_col6\" class=\"data row44 col6\" >[]</td>\n",
       "      <td id=\"T_01434_row44_col7\" class=\"data row44 col7\" >[]</td>\n",
       "      <td id=\"T_01434_row44_col8\" class=\"data row44 col8\" >[]</td>\n",
       "    </tr>\n",
       "    <tr>\n",
       "      <td id=\"T_01434_row45_col0\" class=\"data row45 col0\" >n59</td>\n",
       "      <td id=\"T_01434_row45_col1\" class=\"data row45 col1\" >Child</td>\n",
       "      <td id=\"T_01434_row45_col2\" class=\"data row45 col2\" >None</td>\n",
       "      <td id=\"T_01434_row45_col3\" class=\"data row45 col3\" >749</td>\n",
       "      <td id=\"T_01434_row45_col4\" class=\"data row45 col4\" >0.470000</td>\n",
       "      <td id=\"T_01434_row45_col5\" class=\"data row45 col5\" >{1: 0.26, 2: 0.02, 3: 0.68, 4: 0.05}</td>\n",
       "      <td id=\"T_01434_row45_col6\" class=\"data row45 col6\" >[]</td>\n",
       "      <td id=\"T_01434_row45_col7\" class=\"data row45 col7\" >[]</td>\n",
       "      <td id=\"T_01434_row45_col8\" class=\"data row45 col8\" >[]</td>\n",
       "    </tr>\n",
       "    <tr>\n",
       "      <td id=\"T_01434_row46_col0\" class=\"data row46 col0\" >n15</td>\n",
       "      <td id=\"T_01434_row46_col1\" class=\"data row46 col1\" >Parent</td>\n",
       "      <td id=\"T_01434_row46_col2\" class=\"data row46 col2\" >car_ownership__drivingcharge_group in ('car_ownership0high_charge', 'car_ownership0low_charge', 'car_ownership1high_charge', 'car_ownership2high_charge')</td>\n",
       "      <td id=\"T_01434_row46_col3\" class=\"data row46 col3\" >22612</td>\n",
       "      <td id=\"T_01434_row46_col4\" class=\"data row46 col4\" >0.400000</td>\n",
       "      <td id=\"T_01434_row46_col5\" class=\"data row46 col5\" >{1: 0.05, 2: 0.04, 3: 0.75, 4: 0.15}</td>\n",
       "      <td id=\"T_01434_row46_col6\" class=\"data row46 col6\" >[[0.96, 0.04], [0.79, 0.21], [0.84, 0.16], [0.22, 0.78], [0.65, 0.35], [0.0, 1.0]]</td>\n",
       "      <td id=\"T_01434_row46_col7\" class=\"data row46 col7\" >[[0.04, 0.05, 0.91, 0.0], [0.01, 0.03, 0.48, 0.48]]</td>\n",
       "      <td id=\"T_01434_row46_col8\" class=\"data row46 col8\" >[0.01]</td>\n",
       "    </tr>\n",
       "    <tr>\n",
       "      <td id=\"T_01434_row47_col0\" class=\"data row47 col0\" >n30</td>\n",
       "      <td id=\"T_01434_row47_col1\" class=\"data row47 col1\" >Parent</td>\n",
       "      <td id=\"T_01434_row47_col2\" class=\"data row47 col2\" >purpose__age_group in ('purpose1age_group0-18', 'purpose1age_group66+', 'purpose2age_group31-65', 'purpose3age_group0-18', 'purpose3age_group31-65', 'purpose3age_group66+', 'purpose4age_group0-18', 'purpose4age_group31-65', 'purpose5age_group0-18', 'purpose5age_group31-65', 'purpose5age_group66+')</td>\n",
       "      <td id=\"T_01434_row47_col3\" class=\"data row47 col3\" >4568</td>\n",
       "      <td id=\"T_01434_row47_col4\" class=\"data row47 col4\" >0.540000</td>\n",
       "      <td id=\"T_01434_row47_col5\" class=\"data row47 col5\" >{1: 0.01, 2: 0.04, 3: 0.55, 4: 0.4}</td>\n",
       "      <td id=\"T_01434_row47_col6\" class=\"data row47 col6\" >[[0.94, 0.06], [0.12, 0.88], [0.32, 0.68], [0.62, 0.38], [0.17, 0.83], [0.0, 1.0], [0.94, 0.06], [0.7, 0.3], [0.46, 0.54], [0.74, 0.26], [0.69, 0.31], [0.66, 0.34], [0.42, 0.58], [0.54, 0.46], [0.32, 0.68], [0.61, 0.39], [0.36, 0.64], [0.63, 0.37], [0.56, 0.44]]</td>\n",
       "      <td id=\"T_01434_row47_col7\" class=\"data row47 col7\" >[[0.02, 0.01, 0.29, 0.68], [0.01, 0.03, 0.84, 0.12]]</td>\n",
       "      <td id=\"T_01434_row47_col8\" class=\"data row47 col8\" >[0.08]</td>\n",
       "    </tr>\n",
       "    <tr>\n",
       "      <td id=\"T_01434_row48_col0\" class=\"data row48 col0\" >n60</td>\n",
       "      <td id=\"T_01434_row48_col1\" class=\"data row48 col1\" >Child</td>\n",
       "      <td id=\"T_01434_row48_col2\" class=\"data row48 col2\" >None</td>\n",
       "      <td id=\"T_01434_row48_col3\" class=\"data row48 col3\" >2260</td>\n",
       "      <td id=\"T_01434_row48_col4\" class=\"data row48 col4\" >0.490000</td>\n",
       "      <td id=\"T_01434_row48_col5\" class=\"data row48 col5\" >{1: 0.02, 2: 0.05, 3: 0.65, 4: 0.29}</td>\n",
       "      <td id=\"T_01434_row48_col6\" class=\"data row48 col6\" >[]</td>\n",
       "      <td id=\"T_01434_row48_col7\" class=\"data row48 col7\" >[]</td>\n",
       "      <td id=\"T_01434_row48_col8\" class=\"data row48 col8\" >[]</td>\n",
       "    </tr>\n",
       "    <tr>\n",
       "      <td id=\"T_01434_row49_col0\" class=\"data row49 col0\" >n61</td>\n",
       "      <td id=\"T_01434_row49_col1\" class=\"data row49 col1\" >Child</td>\n",
       "      <td id=\"T_01434_row49_col2\" class=\"data row49 col2\" >None</td>\n",
       "      <td id=\"T_01434_row49_col3\" class=\"data row49 col3\" >2308</td>\n",
       "      <td id=\"T_01434_row49_col4\" class=\"data row49 col4\" >0.540000</td>\n",
       "      <td id=\"T_01434_row49_col5\" class=\"data row49 col5\" >{1: 0.01, 2: 0.03, 3: 0.45, 4: 0.51}</td>\n",
       "      <td id=\"T_01434_row49_col6\" class=\"data row49 col6\" >[]</td>\n",
       "      <td id=\"T_01434_row49_col7\" class=\"data row49 col7\" >[]</td>\n",
       "      <td id=\"T_01434_row49_col8\" class=\"data row49 col8\" >[]</td>\n",
       "    </tr>\n",
       "    <tr>\n",
       "      <td id=\"T_01434_row50_col0\" class=\"data row50 col0\" >n31</td>\n",
       "      <td id=\"T_01434_row50_col1\" class=\"data row50 col1\" >Parent</td>\n",
       "      <td id=\"T_01434_row50_col2\" class=\"data row50 col2\" >trafficperc_group__purpose in ('0low_trafficpurpose1', '0low_trafficpurpose2', '0low_trafficpurpose4', '1mediumlow_trafficpurpose1', '1mediumlow_trafficpurpose2', '1mediumlow_trafficpurpose4', '2medium_trafficpurpose1', '2medium_trafficpurpose2', '2medium_trafficpurpose4', '2medium_trafficpurpose5', '3mediumhigh_trafficpurpose1', '3mediumhigh_trafficpurpose2', '3mediumhigh_trafficpurpose3', '3mediumhigh_trafficpurpose4', '3mediumhigh_trafficpurpose5', '4high_trafficpurpose1', '4high_trafficpurpose2', '4high_trafficpurpose3', '4high_trafficpurpose4', '4high_trafficpurpose5')</td>\n",
       "      <td id=\"T_01434_row50_col3\" class=\"data row50 col3\" >18044</td>\n",
       "      <td id=\"T_01434_row50_col4\" class=\"data row50 col4\" >0.340000</td>\n",
       "      <td id=\"T_01434_row50_col5\" class=\"data row50 col5\" >{1: 0.06, 2: 0.05, 3: 0.81, 4: 0.09}</td>\n",
       "      <td id=\"T_01434_row50_col6\" class=\"data row50 col6\" >[[0.57, 0.43], [0.66, 0.34], [0.0, 1.0], [0.53, 0.47], [0.1, 0.9], [0.78, 0.22], [0.87, 0.13], [0.32, 0.68], [0.64, 0.36], [0.16, 0.84], [0.88, 0.12], [0.82, 0.18], [0.44, 0.56], [0.58, 0.42], [0.52, 0.48], [0.9, 0.1], [0.92, 0.08], [0.59, 0.41], [0.8, 0.2], [0.54, 0.46], [0.89, 0.11], [0.81, 0.19], [0.69, 0.31], [0.54, 0.46], [0.64, 0.36]]</td>\n",
       "      <td id=\"T_01434_row50_col7\" class=\"data row50 col7\" >[[0.03, 0.06, 0.91, 0.0], [0.1, 0.03, 0.65, 0.22]]</td>\n",
       "      <td id=\"T_01434_row50_col8\" class=\"data row50 col8\" >[0.02]</td>\n",
       "    </tr>\n",
       "    <tr>\n",
       "      <td id=\"T_01434_row51_col0\" class=\"data row51 col0\" >n62</td>\n",
       "      <td id=\"T_01434_row51_col1\" class=\"data row51 col1\" >Child</td>\n",
       "      <td id=\"T_01434_row51_col2\" class=\"data row51 col2\" >None</td>\n",
       "      <td id=\"T_01434_row51_col3\" class=\"data row51 col3\" >5385</td>\n",
       "      <td id=\"T_01434_row51_col4\" class=\"data row51 col4\" >0.450000</td>\n",
       "      <td id=\"T_01434_row51_col5\" class=\"data row51 col5\" >{1: 0.09, 2: 0.03, 3: 0.72, 4: 0.16}</td>\n",
       "      <td id=\"T_01434_row51_col6\" class=\"data row51 col6\" >[]</td>\n",
       "      <td id=\"T_01434_row51_col7\" class=\"data row51 col7\" >[]</td>\n",
       "      <td id=\"T_01434_row51_col8\" class=\"data row51 col8\" >[]</td>\n",
       "    </tr>\n",
       "    <tr>\n",
       "      <td id=\"T_01434_row52_col0\" class=\"data row52 col0\" >n63</td>\n",
       "      <td id=\"T_01434_row52_col1\" class=\"data row52 col1\" >Child</td>\n",
       "      <td id=\"T_01434_row52_col2\" class=\"data row52 col2\" >None</td>\n",
       "      <td id=\"T_01434_row52_col3\" class=\"data row52 col3\" >12659</td>\n",
       "      <td id=\"T_01434_row52_col4\" class=\"data row52 col4\" >0.280000</td>\n",
       "      <td id=\"T_01434_row52_col5\" class=\"data row52 col5\" >{1: 0.04, 2: 0.05, 3: 0.84, 4: 0.06}</td>\n",
       "      <td id=\"T_01434_row52_col6\" class=\"data row52 col6\" >[]</td>\n",
       "      <td id=\"T_01434_row52_col7\" class=\"data row52 col7\" >[]</td>\n",
       "      <td id=\"T_01434_row52_col8\" class=\"data row52 col8\" >[]</td>\n",
       "    </tr>\n",
       "  </tbody>\n",
       "</table>\n"
      ],
      "text/plain": [
       "<pandas.io.formats.style.Styler at 0x18de80dfdf0>"
      ]
     },
     "execution_count": 27,
     "metadata": {},
     "output_type": "execute_result"
    }
   ],
   "source": [
    "\n",
    "import warnings\n",
    "warnings.filterwarnings(\"ignore\", category=FutureWarning) \n",
    "\n",
    "\n",
    "cart.print_tree(table = True, html = True).style.hide_index()\n",
    "\n"
   ]
  },
  {
   "cell_type": "code",
   "execution_count": 17,
   "metadata": {},
   "outputs": [
    {
     "data": {
      "text/plain": [
       "'#run for comparison with lba \\nmy_tree = MyNodeClass(\\'n1\\', indici) \\ncart = CART(y,features,features_names,n_features,n_features_names,impurity_fn = \"tau\",problem=\"classifier\",method = \"TWO-STAGE\",max_level = 2, min_cases_parent= 1000,min_cases_child= 500) \\ncart.growing_tree(my_tree)\\n'"
      ]
     },
     "execution_count": 17,
     "metadata": {},
     "output_type": "execute_result"
    }
   ],
   "source": [
    "'''#run for comparison with lba \n",
    "my_tree = MyNodeClass('n1', indici) \n",
    "cart = CART(y,features,features_names,n_features,n_features_names,impurity_fn = \"tau\",problem=\"classifier\",method = \"TWO-STAGE\",max_level = 2, min_cases_parent= 1000,min_cases_child= 500) \n",
    "cart.growing_tree(my_tree)\n",
    "'''"
   ]
  },
  {
   "cell_type": "code",
   "execution_count": 19,
   "metadata": {},
   "outputs": [
    {
     "data": {
      "text/html": [
       "<div>\n",
       "<style scoped>\n",
       "    .dataframe tbody tr th:only-of-type {\n",
       "        vertical-align: middle;\n",
       "    }\n",
       "\n",
       "    .dataframe tbody tr th {\n",
       "        vertical-align: top;\n",
       "    }\n",
       "\n",
       "    .dataframe thead th {\n",
       "        text-align: right;\n",
       "    }\n",
       "</style>\n",
       "<table border=\"1\" class=\"dataframe\">\n",
       "  <thead>\n",
       "    <tr style=\"text-align: right;\">\n",
       "      <th></th>\n",
       "      <th>purpose</th>\n",
       "      <th>fueltype</th>\n",
       "      <th>faretype</th>\n",
       "      <th>bus_scale</th>\n",
       "      <th>travel_month</th>\n",
       "      <th>day_of_week</th>\n",
       "      <th>female</th>\n",
       "      <th>driving_license</th>\n",
       "      <th>car_ownership</th>\n",
       "      <th>pt_interchanges</th>\n",
       "      <th>age_group</th>\n",
       "      <th>distance_group</th>\n",
       "      <th>starttime_group</th>\n",
       "      <th>cost_group</th>\n",
       "      <th>costdrivingfuel_group</th>\n",
       "      <th>trafficperc_group</th>\n",
       "      <th>drivingcharge_group</th>\n",
       "    </tr>\n",
       "  </thead>\n",
       "  <tbody>\n",
       "    <tr>\n",
       "      <th>76103</th>\n",
       "      <td>purpose3</td>\n",
       "      <td>fueltype1</td>\n",
       "      <td>faretype1</td>\n",
       "      <td>bus_scale1.0</td>\n",
       "      <td>travel_month1</td>\n",
       "      <td>day_of_week4</td>\n",
       "      <td>female1</td>\n",
       "      <td>driving_license0</td>\n",
       "      <td>car_ownership1</td>\n",
       "      <td>pt_interchanges1</td>\n",
       "      <td>age_group19-30</td>\n",
       "      <td>distance07</td>\n",
       "      <td>morning</td>\n",
       "      <td>medium_cost</td>\n",
       "      <td>costdrivingfuelgroup7</td>\n",
       "      <td>1mediumlow_traffic</td>\n",
       "      <td>low_charge</td>\n",
       "    </tr>\n",
       "    <tr>\n",
       "      <th>76104</th>\n",
       "      <td>purpose3</td>\n",
       "      <td>fueltype1</td>\n",
       "      <td>faretype1</td>\n",
       "      <td>bus_scale1.0</td>\n",
       "      <td>travel_month1</td>\n",
       "      <td>day_of_week4</td>\n",
       "      <td>female1</td>\n",
       "      <td>driving_license0</td>\n",
       "      <td>car_ownership1</td>\n",
       "      <td>pt_interchanges1</td>\n",
       "      <td>age_group19-30</td>\n",
       "      <td>distance07</td>\n",
       "      <td>afternoon</td>\n",
       "      <td>medium_cost</td>\n",
       "      <td>costdrivingfuelgroup7</td>\n",
       "      <td>1mediumlow_traffic</td>\n",
       "      <td>low_charge</td>\n",
       "    </tr>\n",
       "    <tr>\n",
       "      <th>76105</th>\n",
       "      <td>purpose3</td>\n",
       "      <td>fueltype1</td>\n",
       "      <td>faretype1</td>\n",
       "      <td>bus_scale1.0</td>\n",
       "      <td>travel_month1</td>\n",
       "      <td>day_of_week4</td>\n",
       "      <td>female0</td>\n",
       "      <td>driving_license1</td>\n",
       "      <td>car_ownership1</td>\n",
       "      <td>pt_interchanges1</td>\n",
       "      <td>age_group31-65</td>\n",
       "      <td>distance07</td>\n",
       "      <td>morning</td>\n",
       "      <td>medium_cost</td>\n",
       "      <td>costdrivingfuelgroup7</td>\n",
       "      <td>1mediumlow_traffic</td>\n",
       "      <td>low_charge</td>\n",
       "    </tr>\n",
       "    <tr>\n",
       "      <th>76106</th>\n",
       "      <td>purpose3</td>\n",
       "      <td>fueltype1</td>\n",
       "      <td>faretype1</td>\n",
       "      <td>bus_scale1.0</td>\n",
       "      <td>travel_month1</td>\n",
       "      <td>day_of_week4</td>\n",
       "      <td>female0</td>\n",
       "      <td>driving_license1</td>\n",
       "      <td>car_ownership1</td>\n",
       "      <td>pt_interchanges1</td>\n",
       "      <td>age_group31-65</td>\n",
       "      <td>distance07</td>\n",
       "      <td>afternoon</td>\n",
       "      <td>medium_cost</td>\n",
       "      <td>costdrivingfuelgroup7</td>\n",
       "      <td>1mediumlow_traffic</td>\n",
       "      <td>low_charge</td>\n",
       "    </tr>\n",
       "    <tr>\n",
       "      <th>76107</th>\n",
       "      <td>purpose5</td>\n",
       "      <td>fueltype1</td>\n",
       "      <td>faretype1</td>\n",
       "      <td>bus_scale1.0</td>\n",
       "      <td>travel_month1</td>\n",
       "      <td>day_of_week4</td>\n",
       "      <td>female0</td>\n",
       "      <td>driving_license1</td>\n",
       "      <td>car_ownership2</td>\n",
       "      <td>pt_interchanges0</td>\n",
       "      <td>age_group31-65</td>\n",
       "      <td>distance06</td>\n",
       "      <td>afternoon</td>\n",
       "      <td>low_cost</td>\n",
       "      <td>costdrivingfuelgroup7</td>\n",
       "      <td>0low_traffic</td>\n",
       "      <td>low_charge</td>\n",
       "    </tr>\n",
       "  </tbody>\n",
       "</table>\n",
       "</div>"
      ],
      "text/plain": [
       "        purpose   fueltype   faretype     bus_scale   travel_month  \\\n",
       "76103  purpose3  fueltype1  faretype1  bus_scale1.0  travel_month1   \n",
       "76104  purpose3  fueltype1  faretype1  bus_scale1.0  travel_month1   \n",
       "76105  purpose3  fueltype1  faretype1  bus_scale1.0  travel_month1   \n",
       "76106  purpose3  fueltype1  faretype1  bus_scale1.0  travel_month1   \n",
       "76107  purpose5  fueltype1  faretype1  bus_scale1.0  travel_month1   \n",
       "\n",
       "        day_of_week   female   driving_license   car_ownership  \\\n",
       "76103  day_of_week4  female1  driving_license0  car_ownership1   \n",
       "76104  day_of_week4  female1  driving_license0  car_ownership1   \n",
       "76105  day_of_week4  female0  driving_license1  car_ownership1   \n",
       "76106  day_of_week4  female0  driving_license1  car_ownership1   \n",
       "76107  day_of_week4  female0  driving_license1  car_ownership2   \n",
       "\n",
       "        pt_interchanges       age_group distance_group starttime_group  \\\n",
       "76103  pt_interchanges1  age_group19-30     distance07         morning   \n",
       "76104  pt_interchanges1  age_group19-30     distance07       afternoon   \n",
       "76105  pt_interchanges1  age_group31-65     distance07         morning   \n",
       "76106  pt_interchanges1  age_group31-65     distance07       afternoon   \n",
       "76107  pt_interchanges0  age_group31-65     distance06       afternoon   \n",
       "\n",
       "        cost_group  costdrivingfuel_group   trafficperc_group  \\\n",
       "76103  medium_cost  costdrivingfuelgroup7  1mediumlow_traffic   \n",
       "76104  medium_cost  costdrivingfuelgroup7  1mediumlow_traffic   \n",
       "76105  medium_cost  costdrivingfuelgroup7  1mediumlow_traffic   \n",
       "76106  medium_cost  costdrivingfuelgroup7  1mediumlow_traffic   \n",
       "76107     low_cost  costdrivingfuelgroup7        0low_traffic   \n",
       "\n",
       "      drivingcharge_group  \n",
       "76103          low_charge  \n",
       "76104          low_charge  \n",
       "76105          low_charge  \n",
       "76106          low_charge  \n",
       "76107          low_charge  "
      ]
     },
     "execution_count": 19,
     "metadata": {},
     "output_type": "execute_result"
    }
   ],
   "source": [
    "X_test = X_test.copy()\n",
    "y_test = y_test.copy()\n",
    "\n",
    "X_test['purpose'] = 'purpose' + X_test['purpose'].astype(str)\n",
    "X_test['fueltype'] = 'fueltype' + X_test['fueltype'].astype(str)\n",
    "X_test['faretype'] = 'faretype' + X_test['faretype'].astype(str)\n",
    "X_test['bus_scale'] = 'bus_scale' + X_test['bus_scale'].astype(str)\n",
    "X_test['travel_month'] = 'travel_month' + X_test['travel_month'].astype(str)\n",
    "X_test['day_of_week'] = 'day_of_week' + X_test['day_of_week'].astype(str)\n",
    "X_test['female'] = 'female' + X_test['female'].astype(str)\n",
    "X_test['driving_license'] = 'driving_license' + X_test['driving_license'].astype(str)\n",
    "X_test['car_ownership'] = 'car_ownership' + X_test['car_ownership'].astype(str)\n",
    "X_test['pt_interchanges'] = 'pt_interchanges' + X_test['pt_interchanges'].astype(str)\n",
    "X_test['age_group'] = 'age_group' + X_test['age_group'].astype(str)\n",
    "\n",
    "X_test.head()"
   ]
  },
  {
   "cell_type": "code",
   "execution_count": 20,
   "metadata": {},
   "outputs": [],
   "source": [
    "n_features_test = X_test.copy()\n",
    "features_test = []\n",
    "\n",
    "n_features_test.reset_index(inplace = True, drop = True)\n",
    "y_test.reset_index(inplace = True, drop = True)\n",
    "y_test_list = y_test[\"travel_mode\"].values.tolist()\n"
   ]
  },
  {
   "cell_type": "markdown",
   "metadata": {},
   "source": [
    "pruning not prepared for combination "
   ]
  },
  {
   "cell_type": "code",
   "execution_count": 21,
   "metadata": {},
   "outputs": [
    {
     "data": {
      "text/plain": [
       "4    2213\n",
       "3    1738\n",
       "1     901\n",
       "2     131\n",
       "Name: travel_mode, dtype: int64"
      ]
     },
     "execution_count": 21,
     "metadata": {},
     "output_type": "execute_result"
    }
   ],
   "source": [
    "y_test['travel_mode'].value_counts()"
   ]
  },
  {
   "cell_type": "markdown",
   "metadata": {},
   "source": [
    "takes a whle for comb to prune, 100min"
   ]
  },
  {
   "cell_type": "code",
   "execution_count": 22,
   "metadata": {},
   "outputs": [
    {
     "name": "stdout",
     "output_type": "stream",
     "text": [
      "{leaves : misclassification count} =  {27: 1322, 26: 1322, 25: 1322, 24: 1322, 21: 1322, 20: 1322, 19: 1322, 18: 1322, 16: 1321, 14: 1311, 13: 1304, 10: 1327, 9: 1340, 6: 1358, 3: 1387, 1: 2770}\n",
      "Best tree for test set has 13 leaves with misclassification count 1304 \n"
     ]
    },
    {
     "data": {
      "image/png": "[encoded data removed]",
      "text/plain": [
       "<Figure size 640x480 with 1 Axes>"
      ]
     },
     "metadata": {},
     "output_type": "display_data"
    },
    {
     "data": {
      "application/vnd.plotly.v1+json": {
       "config": {
        "plotlyServerURL": "https://plot.ly"
       },
       "data": [
        {
         "hoverinfo": "none",
         "line": {
          "color": "rgb(210,210,210)",
          "width": 1
         },
         "mode": "lines",
         "type": "scatter",
         "x": [
          0,
          -7.8125,
          null,
          0,
          7.8125,
          null,
          -7.8125,
          -11.8125,
          null,
          -7.8125,
          -3.8125,
          null,
          7.8125,
          4.1875,
          null,
          7.8125,
          11.4375,
          null,
          -11.8125,
          -13.8125,
          null,
          -11.8125,
          -9.8125,
          null,
          4.1875,
          2.1875,
          null,
          4.1875,
          6.1875,
          null,
          11.4375,
          10.1875,
          null,
          11.4375,
          12.6875,
          null,
          -13.8125,
          -14.8125,
          null,
          -13.8125,
          -12.8125,
          null,
          2.1875,
          1.1875,
          null,
          2.1875,
          3.1875,
          null,
          6.1875,
          5.1875,
          null,
          6.1875,
          7.1875,
          null,
          10.1875,
          9.1875,
          null,
          10.1875,
          11.1875,
          null,
          5.1875,
          4.6875,
          null,
          5.1875,
          5.6875,
          null,
          11.1875,
          10.6875,
          null,
          11.1875,
          11.6875,
          null
         ],
         "y": [
          8,
          7,
          null,
          8,
          7,
          null,
          7,
          6,
          null,
          7,
          6,
          null,
          7,
          6,
          null,
          7,
          6,
          null,
          6,
          5,
          null,
          6,
          5,
          null,
          6,
          5,
          null,
          6,
          5,
          null,
          6,
          5,
          null,
          6,
          5,
          null,
          5,
          4,
          null,
          5,
          4,
          null,
          5,
          4,
          null,
          5,
          4,
          null,
          5,
          4,
          null,
          5,
          4,
          null,
          5,
          4,
          null,
          5,
          4,
          null,
          4,
          3,
          null,
          4,
          3,
          null,
          4,
          3,
          null,
          4,
          3,
          null
         ]
        },
        {
         "hoverinfo": "text",
         "marker": {
          "color": "#6175c1",
          "line": {
           "color": "rgb(50,50,50)",
           "width": 1
          },
          "size": 18,
          "symbol": "circle-dot"
         },
         "mode": "markers",
         "name": "Nodes",
         "opacity": 0.8,
         "text": [
          "n17, Class: {1: 0.6, 2: 0.03, 3: 0.12, 4: 0.25}, gini : 0.56, Samples : 749",
          "n52, Class: {1: 0.05, 2: 0.02, 3: 0.35, 4: 0.57}, gini : 0.55, Samples : 3169",
          "n53, Class: {1: 0.06, 2: 0.02, 3: 0.69, 4: 0.23}, gini : 0.47, Samples : 2113",
          "n28, Class: {1: 0.3, 2: 0.05, 3: 0.24, 4: 0.41}, gini : 0.68, Samples : 762",
          "n58, Class: {1: 0.5, 2: 0.07, 3: 0.36, 4: 0.07}, gini : 0.61, Samples : 882",
          "n59, Class: {1: 0.26, 2: 0.02, 3: 0.68, 4: 0.05}, gini : 0.47, Samples : 749",
          "n1, distance_group__fueltype in ('distance02fueltype4', 'distance03fueltype1', 'distance03fueltype4', 'distance03fueltype5', 'distance04fueltype1', 'distance04fueltype2', 'distance04fueltype3', 'distance04fueltype4', 'distance04fueltype5', 'distance04fueltype6', 'distance05fueltype1', 'distance05fueltype2', 'distance05fueltype3', 'distance05fueltype4', 'distance05fueltype5', 'distance05fueltype6', 'distance06fueltype1', 'distance06fueltype2', 'distance06fueltype3', 'distance06fueltype4', 'distance06fueltype5', 'distance06fueltype6', 'distance07fueltype1', 'distance07fueltype2', 'distance07fueltype3', 'distance07fueltype4', 'distance07fueltype5', 'distance07fueltype6', 'distance08fueltype1', 'distance08fueltype2', 'distance08fueltype3', 'distance08fueltype4', 'distance08fueltype5', 'distance08fueltype6', 'distance09fueltype1', 'distance09fueltype2', 'distance09fueltype3', 'distance09fueltype4', 'distance09fueltype5', 'distance09fueltype6', 'distance10fueltype1', 'distance10fueltype2', 'distance10fueltype3', 'distance10fueltype4', 'distance10fueltype5', 'distance10fueltype6', 'distance11fueltype1', 'distance11fueltype2', 'distance11fueltype3', 'distance11fueltype4', 'distance11fueltype5', 'distance11fueltype6'), Class:{1: 0.18, 2: 0.03, 3: 0.35, 4: 0.44}, gini : 0.65, Samples: 76103",
          "n2, car_ownership__distance_group in ('car_ownership0distance01', 'car_ownership0distance02', 'car_ownership0distance03', 'car_ownership1distance01'), Class:{1: 0.63, 2: 0.03, 3: 0.11, 4: 0.23}, gini : 0.53, Samples: 13729",
          "n4, distance_group__trafficperc_group in ('distance010low_traffic', 'distance011mediumlow_traffic', 'distance012medium_traffic', 'distance013mediumhigh_traffic', 'distance014high_traffic', 'distance022medium_traffic', 'distance023mediumhigh_traffic', 'distance024high_traffic', 'distance033mediumhigh_traffic', 'distance034high_traffic'), Class:{1: 0.49, 2: 0.03, 3: 0.05, 4: 0.43}, gini : 0.57, Samples: 5467",
          "n8, driving_license__faretype in ('driving_license0faretype1', 'driving_license0faretype2', 'driving_license0faretype3', 'driving_license0faretype4'), Class:{1: 0.41, 2: 0.03, 3: 0.06, 4: 0.5}, gini : 0.58, Samples: 3690",
          "n16, Class: {1: 0.36, 2: 0.03, 3: 0.04, 4: 0.56}, gini : 0.55, Samples : 2941",
          "n9, Class: {1: 0.64, 2: 0.03, 3: 0.04, 4: 0.3}, gini : 0.5, Samples : 1777",
          "n5, Class: {1: 0.73, 2: 0.03, 3: 0.15, 4: 0.09}, gini : 0.43, Samples : 8262",
          "n3, car_ownership__trafficperc_group in ('car_ownership00low_traffic', 'car_ownership01mediumlow_traffic', 'car_ownership02medium_traffic', 'car_ownership03mediumhigh_traffic', 'car_ownership04high_traffic', 'car_ownership13mediumhigh_traffic', 'car_ownership14high_traffic', 'car_ownership24high_traffic'), Class:{1: 0.07, 2: 0.03, 3: 0.41, 4: 0.49}, gini : 0.59, Samples: 62374",
          "n6, distance_group__driving_license in ('distance02driving_license1', 'distance04driving_license1', 'distance05driving_license0', 'distance05driving_license1', 'distance06driving_license0', 'distance06driving_license1', 'distance07driving_license0', 'distance07driving_license1', 'distance08driving_license0', 'distance08driving_license1', 'distance09driving_license0', 'distance09driving_license1', 'distance10driving_license0', 'distance10driving_license1', 'distance11driving_license0', 'distance11driving_license1'), Class:{1: 0.07, 2: 0.02, 3: 0.2, 4: 0.71}, gini : 0.45, Samples: 37369",
          "n12, driving_license__faretype in ('driving_license0faretype5', 'driving_license1faretype1', 'driving_license1faretype2', 'driving_license1faretype4', 'driving_license1faretype5'), Class:{1: 0.29, 2: 0.03, 3: 0.11, 4: 0.57}, gini : 0.58, Samples: 4506",
          "n24, Class: {1: 0.42, 2: 0.04, 3: 0.21, 4: 0.33}, gini : 0.67, Samples : 1232",
          "n25, Class: {1: 0.24, 2: 0.03, 3: 0.08, 4: 0.66}, gini : 0.51, Samples : 3274",
          "n13, driving_license__faretype in ('driving_license0faretype5', 'driving_license1faretype1', 'driving_license1faretype2', 'driving_license1faretype4', 'driving_license1faretype5'), Class:{1: 0.04, 2: 0.02, 3: 0.21, 4: 0.73}, gini : 0.42, Samples: 32863",
          "n26, purpose__day_of_week in ('purpose1day_of_week1', 'purpose1day_of_week2', 'purpose1day_of_week3', 'purpose1day_of_week4', 'purpose1day_of_week5', 'purpose1day_of_week6', 'purpose1day_of_week7', 'purpose2day_of_week1', 'purpose2day_of_week2', 'purpose2day_of_week3', 'purpose2day_of_week4', 'purpose2day_of_week5', 'purpose4day_of_week1', 'purpose4day_of_week3', 'purpose4day_of_week4', 'purpose4day_of_week5', 'purpose4day_of_week6', 'purpose4day_of_week7'), Class:{1: 0.06, 2: 0.02, 3: 0.49, 4: 0.44}, gini : 0.57, Samples: 5282",
          "n27, Class: {1: 0.04, 2: 0.02, 3: 0.15, 4: 0.79}, gini : 0.36, Samples : 27581",
          "n7, distance_group__fueltype in ('distance04fueltype5', 'distance05fueltype6', 'distance06fueltype1', 'distance06fueltype2', 'distance06fueltype4', 'distance06fueltype6', 'distance07fueltype1', 'distance07fueltype2', 'distance07fueltype3', 'distance07fueltype4', 'distance07fueltype5', 'distance07fueltype6', 'distance08fueltype1', 'distance08fueltype2', 'distance08fueltype3', 'distance08fueltype5', 'distance08fueltype6', 'distance09fueltype1', 'distance09fueltype2', 'distance09fueltype3', 'distance09fueltype4', 'distance09fueltype5', 'distance09fueltype6', 'distance10fueltype1', 'distance10fueltype2', 'distance10fueltype3', 'distance10fueltype4', 'distance10fueltype5', 'distance10fueltype6', 'distance11fueltype1', 'distance11fueltype2', 'distance11fueltype3', 'distance11fueltype4', 'distance11fueltype5', 'distance11fueltype6'), Class:{1: 0.08, 2: 0.04, 3: 0.72, 4: 0.16}, gini : 0.45, Samples: 25005",
          "n14, car_ownership__faretype in ('car_ownership0faretype1', 'car_ownership0faretype2', 'car_ownership0faretype3', 'car_ownership0faretype4', 'car_ownership0faretype5', 'car_ownership1faretype3', 'car_ownership1faretype4', 'car_ownership2faretype2'), Class:{1: 0.36, 2: 0.05, 3: 0.42, 4: 0.17}, gini : 0.66, Samples: 2393",
          "n29, bus_scale__driving_license in ('bus_scale0.0driving_license0', 'bus_scale0.0driving_license1', 'bus_scale0.5driving_license0'), Class:{1: 0.39, 2: 0.05, 3: 0.51, 4: 0.06}, gini : 0.59, Samples: 1631",
          "n15, Class: {1: 0.05, 2: 0.04, 3: 0.75, 4: 0.15}, gini : 0.4, Samples : 22612"
         ],
         "type": "scatter",
         "x": [
          -12.8125,
          4.6875,
          5.6875,
          9.1875,
          10.6875,
          11.6875,
          0,
          -7.8125,
          -11.8125,
          -13.8125,
          -14.8125,
          -9.8125,
          -3.8125,
          7.8125,
          4.1875,
          2.1875,
          1.1875,
          3.1875,
          6.1875,
          5.1875,
          7.1875,
          11.4375,
          10.1875,
          11.1875,
          12.6875
         ],
         "y": [
          4,
          3,
          3,
          4,
          3,
          3,
          8,
          7,
          6,
          5,
          4,
          5,
          6,
          7,
          6,
          5,
          4,
          4,
          5,
          4,
          4,
          6,
          5,
          4,
          5
         ]
        }
       ],
       "layout": {
        "template": {
         "data": {
          "bar": [
           {
            "error_x": {
             "color": "#2a3f5f"
            },
            "error_y": {
             "color": "#2a3f5f"
            },
            "marker": {
             "line": {
              "color": "#E5ECF6",
              "width": 0.5
             },
             "pattern": {
              "fillmode": "overlay",
              "size": 10,
              "solidity": 0.2
             }
            },
            "type": "bar"
           }
          ],
          "barpolar": [
           {
            "marker": {
             "line": {
              "color": "#E5ECF6",
              "width": 0.5
             },
             "pattern": {
              "fillmode": "overlay",
              "size": 10,
              "solidity": 0.2
             }
            },
            "type": "barpolar"
           }
          ],
          "carpet": [
           {
            "aaxis": {
             "endlinecolor": "#2a3f5f",
             "gridcolor": "white",
             "linecolor": "white",
             "minorgridcolor": "white",
             "startlinecolor": "#2a3f5f"
            },
            "baxis": {
             "endlinecolor": "#2a3f5f",
             "gridcolor": "white",
             "linecolor": "white",
             "minorgridcolor": "white",
             "startlinecolor": "#2a3f5f"
            },
            "type": "carpet"
           }
          ],
          "choropleth": [
           {
            "colorbar": {
             "outlinewidth": 0,
             "ticks": ""
            },
            "type": "choropleth"
           }
          ],
          "contour": [
           {
            "colorbar": {
             "outlinewidth": 0,
             "ticks": ""
            },
            "colorscale": [
             [
              0,
              "#0d0887"
             ],
             [
              0.1111111111111111,
              "#46039f"
             ],
             [
              0.2222222222222222,
              "#7201a8"
             ],
             [
              0.3333333333333333,
              "#9c179e"
             ],
             [
              0.4444444444444444,
              "#bd3786"
             ],
             [
              0.5555555555555556,
              "#d8576b"
             ],
             [
              0.6666666666666666,
              "#ed7953"
             ],
             [
              0.7777777777777778,
              "#fb9f3a"
             ],
             [
              0.8888888888888888,
              "#fdca26"
             ],
             [
              1,
              "#f0f921"
             ]
            ],
            "type": "contour"
           }
          ],
          "contourcarpet": [
           {
            "colorbar": {
             "outlinewidth": 0,
             "ticks": ""
            },
            "type": "contourcarpet"
           }
          ],
          "heatmap": [
           {
            "colorbar": {
             "outlinewidth": 0,
             "ticks": ""
            },
            "colorscale": [
             [
              0,
              "#0d0887"
             ],
             [
              0.1111111111111111,
              "#46039f"
             ],
             [
              0.2222222222222222,
              "#7201a8"
             ],
             [
              0.3333333333333333,
              "#9c179e"
             ],
             [
              0.4444444444444444,
              "#bd3786"
             ],
             [
              0.5555555555555556,
              "#d8576b"
             ],
             [
              0.6666666666666666,
              "#ed7953"
             ],
             [
              0.7777777777777778,
              "#fb9f3a"
             ],
             [
              0.8888888888888888,
              "#fdca26"
             ],
             [
              1,
              "#f0f921"
             ]
            ],
            "type": "heatmap"
           }
          ],
          "heatmapgl": [
           {
            "colorbar": {
             "outlinewidth": 0,
             "ticks": ""
            },
            "colorscale": [
             [
              0,
              "#0d0887"
             ],
             [
              0.1111111111111111,
              "#46039f"
             ],
             [
              0.2222222222222222,
              "#7201a8"
             ],
             [
              0.3333333333333333,
              "#9c179e"
             ],
             [
              0.4444444444444444,
              "#bd3786"
             ],
             [
              0.5555555555555556,
              "#d8576b"
             ],
             [
              0.6666666666666666,
              "#ed7953"
             ],
             [
              0.7777777777777778,
              "#fb9f3a"
             ],
             [
              0.8888888888888888,
              "#fdca26"
             ],
             [
              1,
              "#f0f921"
             ]
            ],
            "type": "heatmapgl"
           }
          ],
          "histogram": [
           {
            "marker": {
             "pattern": {
              "fillmode": "overlay",
              "size": 10,
              "solidity": 0.2
             }
            },
            "type": "histogram"
           }
          ],
          "histogram2d": [
           {
            "colorbar": {
             "outlinewidth": 0,
             "ticks": ""
            },
            "colorscale": [
             [
              0,
              "#0d0887"
             ],
             [
              0.1111111111111111,
              "#46039f"
             ],
             [
              0.2222222222222222,
              "#7201a8"
             ],
             [
              0.3333333333333333,
              "#9c179e"
             ],
             [
              0.4444444444444444,
              "#bd3786"
             ],
             [
              0.5555555555555556,
              "#d8576b"
             ],
             [
              0.6666666666666666,
              "#ed7953"
             ],
             [
              0.7777777777777778,
              "#fb9f3a"
             ],
             [
              0.8888888888888888,
              "#fdca26"
             ],
             [
              1,
              "#f0f921"
             ]
            ],
            "type": "histogram2d"
           }
          ],
          "histogram2dcontour": [
           {
            "colorbar": {
             "outlinewidth": 0,
             "ticks": ""
            },
            "colorscale": [
             [
              0,
              "#0d0887"
             ],
             [
              0.1111111111111111,
              "#46039f"
             ],
             [
              0.2222222222222222,
              "#7201a8"
             ],
             [
              0.3333333333333333,
              "#9c179e"
             ],
             [
              0.4444444444444444,
              "#bd3786"
             ],
             [
              0.5555555555555556,
              "#d8576b"
             ],
             [
              0.6666666666666666,
              "#ed7953"
             ],
             [
              0.7777777777777778,
              "#fb9f3a"
             ],
             [
              0.8888888888888888,
              "#fdca26"
             ],
             [
              1,
              "#f0f921"
             ]
            ],
            "type": "histogram2dcontour"
           }
          ],
          "mesh3d": [
           {
            "colorbar": {
             "outlinewidth": 0,
             "ticks": ""
            },
            "type": "mesh3d"
           }
          ],
          "parcoords": [
           {
            "line": {
             "colorbar": {
              "outlinewidth": 0,
              "ticks": ""
             }
            },
            "type": "parcoords"
           }
          ],
          "pie": [
           {
            "automargin": true,
            "type": "pie"
           }
          ],
          "scatter": [
           {
            "fillpattern": {
             "fillmode": "overlay",
             "size": 10,
             "solidity": 0.2
            },
            "type": "scatter"
           }
          ],
          "scatter3d": [
           {
            "line": {
             "colorbar": {
              "outlinewidth": 0,
              "ticks": ""
             }
            },
            "marker": {
             "colorbar": {
              "outlinewidth": 0,
              "ticks": ""
             }
            },
            "type": "scatter3d"
           }
          ],
          "scattercarpet": [
           {
            "marker": {
             "colorbar": {
              "outlinewidth": 0,
              "ticks": ""
             }
            },
            "type": "scattercarpet"
           }
          ],
          "scattergeo": [
           {
            "marker": {
             "colorbar": {
              "outlinewidth": 0,
              "ticks": ""
             }
            },
            "type": "scattergeo"
           }
          ],
          "scattergl": [
           {
            "marker": {
             "colorbar": {
              "outlinewidth": 0,
              "ticks": ""
             }
            },
            "type": "scattergl"
           }
          ],
          "scattermapbox": [
           {
            "marker": {
             "colorbar": {
              "outlinewidth": 0,
              "ticks": ""
             }
            },
            "type": "scattermapbox"
           }
          ],
          "scatterpolar": [
           {
            "marker": {
             "colorbar": {
              "outlinewidth": 0,
              "ticks": ""
             }
            },
            "type": "scatterpolar"
           }
          ],
          "scatterpolargl": [
           {
            "marker": {
             "colorbar": {
              "outlinewidth": 0,
              "ticks": ""
             }
            },
            "type": "scatterpolargl"
           }
          ],
          "scatterternary": [
           {
            "marker": {
             "colorbar": {
              "outlinewidth": 0,
              "ticks": ""
             }
            },
            "type": "scatterternary"
           }
          ],
          "surface": [
           {
            "colorbar": {
             "outlinewidth": 0,
             "ticks": ""
            },
            "colorscale": [
             [
              0,
              "#0d0887"
             ],
             [
              0.1111111111111111,
              "#46039f"
             ],
             [
              0.2222222222222222,
              "#7201a8"
             ],
             [
              0.3333333333333333,
              "#9c179e"
             ],
             [
              0.4444444444444444,
              "#bd3786"
             ],
             [
              0.5555555555555556,
              "#d8576b"
             ],
             [
              0.6666666666666666,
              "#ed7953"
             ],
             [
              0.7777777777777778,
              "#fb9f3a"
             ],
             [
              0.8888888888888888,
              "#fdca26"
             ],
             [
              1,
              "#f0f921"
             ]
            ],
            "type": "surface"
           }
          ],
          "table": [
           {
            "cells": {
             "fill": {
              "color": "#EBF0F8"
             },
             "line": {
              "color": "white"
             }
            },
            "header": {
             "fill": {
              "color": "#C8D4E3"
             },
             "line": {
              "color": "white"
             }
            },
            "type": "table"
           }
          ]
         },
         "layout": {
          "annotationdefaults": {
           "arrowcolor": "#2a3f5f",
           "arrowhead": 0,
           "arrowwidth": 1
          },
          "autotypenumbers": "strict",
          "coloraxis": {
           "colorbar": {
            "outlinewidth": 0,
            "ticks": ""
           }
          },
          "colorscale": {
           "diverging": [
            [
             0,
             "#8e0152"
            ],
            [
             0.1,
             "#c51b7d"
            ],
            [
             0.2,
             "#de77ae"
            ],
            [
             0.3,
             "#f1b6da"
            ],
            [
             0.4,
             "#fde0ef"
            ],
            [
             0.5,
             "#f7f7f7"
            ],
            [
             0.6,
             "#e6f5d0"
            ],
            [
             0.7,
             "#b8e186"
            ],
            [
             0.8,
             "#7fbc41"
            ],
            [
             0.9,
             "#4d9221"
            ],
            [
             1,
             "#276419"
            ]
           ],
           "sequential": [
            [
             0,
             "#0d0887"
            ],
            [
             0.1111111111111111,
             "#46039f"
            ],
            [
             0.2222222222222222,
             "#7201a8"
            ],
            [
             0.3333333333333333,
             "#9c179e"
            ],
            [
             0.4444444444444444,
             "#bd3786"
            ],
            [
             0.5555555555555556,
             "#d8576b"
            ],
            [
             0.6666666666666666,
             "#ed7953"
            ],
            [
             0.7777777777777778,
             "#fb9f3a"
            ],
            [
             0.8888888888888888,
             "#fdca26"
            ],
            [
             1,
             "#f0f921"
            ]
           ],
           "sequentialminus": [
            [
             0,
             "#0d0887"
            ],
            [
             0.1111111111111111,
             "#46039f"
            ],
            [
             0.2222222222222222,
             "#7201a8"
            ],
            [
             0.3333333333333333,
             "#9c179e"
            ],
            [
             0.4444444444444444,
             "#bd3786"
            ],
            [
             0.5555555555555556,
             "#d8576b"
            ],
            [
             0.6666666666666666,
             "#ed7953"
            ],
            [
             0.7777777777777778,
             "#fb9f3a"
            ],
            [
             0.8888888888888888,
             "#fdca26"
            ],
            [
             1,
             "#f0f921"
            ]
           ]
          },
          "colorway": [
           "#636efa",
           "#EF553B",
           "#00cc96",
           "#ab63fa",
           "#FFA15A",
           "#19d3f3",
           "#FF6692",
           "#B6E880",
           "#FF97FF",
           "#FECB52"
          ],
          "font": {
           "color": "#2a3f5f"
          },
          "geo": {
           "bgcolor": "white",
           "lakecolor": "white",
           "landcolor": "#E5ECF6",
           "showlakes": true,
           "showland": true,
           "subunitcolor": "white"
          },
          "hoverlabel": {
           "align": "left"
          },
          "hovermode": "closest",
          "mapbox": {
           "style": "light"
          },
          "paper_bgcolor": "white",
          "plot_bgcolor": "#E5ECF6",
          "polar": {
           "angularaxis": {
            "gridcolor": "white",
            "linecolor": "white",
            "ticks": ""
           },
           "bgcolor": "#E5ECF6",
           "radialaxis": {
            "gridcolor": "white",
            "linecolor": "white",
            "ticks": ""
           }
          },
          "scene": {
           "xaxis": {
            "backgroundcolor": "#E5ECF6",
            "gridcolor": "white",
            "gridwidth": 2,
            "linecolor": "white",
            "showbackground": true,
            "ticks": "",
            "zerolinecolor": "white"
           },
           "yaxis": {
            "backgroundcolor": "#E5ECF6",
            "gridcolor": "white",
            "gridwidth": 2,
            "linecolor": "white",
            "showbackground": true,
            "ticks": "",
            "zerolinecolor": "white"
           },
           "zaxis": {
            "backgroundcolor": "#E5ECF6",
            "gridcolor": "white",
            "gridwidth": 2,
            "linecolor": "white",
            "showbackground": true,
            "ticks": "",
            "zerolinecolor": "white"
           }
          },
          "shapedefaults": {
           "line": {
            "color": "#2a3f5f"
           }
          },
          "ternary": {
           "aaxis": {
            "gridcolor": "white",
            "linecolor": "white",
            "ticks": ""
           },
           "baxis": {
            "gridcolor": "white",
            "linecolor": "white",
            "ticks": ""
           },
           "bgcolor": "#E5ECF6",
           "caxis": {
            "gridcolor": "white",
            "linecolor": "white",
            "ticks": ""
           }
          },
          "title": {
           "x": 0.05
          },
          "xaxis": {
           "automargin": true,
           "gridcolor": "white",
           "linecolor": "white",
           "ticks": "",
           "title": {
            "standoff": 15
           },
           "zerolinecolor": "white",
           "zerolinewidth": 2
          },
          "yaxis": {
           "automargin": true,
           "gridcolor": "white",
           "linecolor": "white",
           "ticks": "",
           "title": {
            "standoff": 15
           },
           "zerolinecolor": "white",
           "zerolinewidth": 2
          }
         }
        },
        "title": {
         "text": "CART_tree_pruned"
        }
       }
      }
     },
     "metadata": {},
     "output_type": "display_data"
    },
    {
     "data": {
      "text/html": [
       "<style type=\"text/css\">\n",
       "</style>\n",
       "<table id=\"T_bd49a\">\n",
       "  <thead>\n",
       "    <tr>\n",
       "      <th id=\"T_bd49a_level0_col0\" class=\"col_heading level0 col0\" >Node</th>\n",
       "      <th id=\"T_bd49a_level0_col1\" class=\"col_heading level0 col1\" >Node_type</th>\n",
       "      <th id=\"T_bd49a_level0_col2\" class=\"col_heading level0 col2\" >Variable_Split</th>\n",
       "      <th id=\"T_bd49a_level0_col3\" class=\"col_heading level0 col3\" >n</th>\n",
       "      <th id=\"T_bd49a_level0_col4\" class=\"col_heading level0 col4\" >Impurity_Value</th>\n",
       "      <th id=\"T_bd49a_level0_col5\" class=\"col_heading level0 col5\" >Class_Probabilities</th>\n",
       "      <th id=\"T_bd49a_level0_col6\" class=\"col_heading level0 col6\" >Alpha</th>\n",
       "      <th id=\"T_bd49a_level0_col7\" class=\"col_heading level0 col7\" >Beta</th>\n",
       "      <th id=\"T_bd49a_level0_col8\" class=\"col_heading level0 col8\" >LS Error</th>\n",
       "    </tr>\n",
       "  </thead>\n",
       "  <tbody>\n",
       "    <tr>\n",
       "      <td id=\"T_bd49a_row0_col0\" class=\"data row0 col0\" >n1</td>\n",
       "      <td id=\"T_bd49a_row0_col1\" class=\"data row0 col1\" >Parent</td>\n",
       "      <td id=\"T_bd49a_row0_col2\" class=\"data row0 col2\" >distance_group__fueltype in ('distance02fueltype4', 'distance03fueltype1', 'distance03fueltype4', 'distance03fueltype5', 'distance04fueltype1', 'distance04fueltype2', 'distance04fueltype3', 'distance04fueltype4', 'distance04fueltype5', 'distance04fueltype6', 'distance05fueltype1', 'distance05fueltype2', 'distance05fueltype3', 'distance05fueltype4', 'distance05fueltype5', 'distance05fueltype6', 'distance06fueltype1', 'distance06fueltype2', 'distance06fueltype3', 'distance06fueltype4', 'distance06fueltype5', 'distance06fueltype6', 'distance07fueltype1', 'distance07fueltype2', 'distance07fueltype3', 'distance07fueltype4', 'distance07fueltype5', 'distance07fueltype6', 'distance08fueltype1', 'distance08fueltype2', 'distance08fueltype3', 'distance08fueltype4', 'distance08fueltype5', 'distance08fueltype6', 'distance09fueltype1', 'distance09fueltype2', 'distance09fueltype3', 'distance09fueltype4', 'distance09fueltype5', 'distance09fueltype6', 'distance10fueltype1', 'distance10fueltype2', 'distance10fueltype3', 'distance10fueltype4', 'distance10fueltype5', 'distance10fueltype6', 'distance11fueltype1', 'distance11fueltype2', 'distance11fueltype3', 'distance11fueltype4', 'distance11fueltype5', 'distance11fueltype6')</td>\n",
       "      <td id=\"T_bd49a_row0_col3\" class=\"data row0 col3\" >76103</td>\n",
       "      <td id=\"T_bd49a_row0_col4\" class=\"data row0 col4\" >0.650000</td>\n",
       "      <td id=\"T_bd49a_row0_col5\" class=\"data row0 col5\" >{1: 0.18, 2: 0.03, 3: 0.35, 4: 0.44}</td>\n",
       "      <td id=\"T_bd49a_row0_col6\" class=\"data row0 col6\" >[[0.0, 1.0], [0.03, 0.97], [0.0, 1.07], [0.42, 0.58], [0.08, 0.92], [0.0, 1.19], [0.33, 0.67], [0.33, 0.67], [0.35, 0.65], [0.88, 0.12], [0.46, 0.54], [0.04, 0.96], [0.54, 0.46], [0.46, 0.54], [0.29, 0.71], [0.7, 0.3], [0.7, 0.3], [0.27, 0.73], [0.69, 0.31], [0.63, 0.37], [0.73, 0.27], [0.93, 0.07], [0.86, 0.14], [0.53, 0.47], [0.81, 0.19], [0.82, 0.18], [0.68, 0.32], [0.82, 0.18], [0.82, 0.18], [0.77, 0.23], [0.9, 0.1], [0.89, 0.11], [0.85, 0.15], [0.94, 0.06], [0.79, 0.21], [0.89, 0.11], [0.94, 0.06], [0.95, 0.05], [0.96, 0.04], [0.96, 0.04], [0.92, 0.08], [1.01, 0.0], [0.97, 0.03], [0.98, 0.02], [1.01, 0.0], [0.93, 0.07], [0.95, 0.05], [1.07, 0.0], [1.0, 0.0], [0.99, 0.01], [1.01, 0.0], [0.96, 0.04], [0.95, 0.05], [1.08, 0.0], [1.04, 0.0], [1.03, 0.0], [1.01, 0.0], [1.06, 0.0], [1.0, 0.0], [1.09, 0.0], [1.06, 0.0], [1.05, 0.0], [0.98, 0.02], [1.03, 0.0], [1.01, 0.0], [1.1, 0.0]]</td>\n",
       "      <td id=\"T_bd49a_row0_col7\" class=\"data row0 col7\" >[[0.0, 0.03, 0.36, 0.63], [0.72, 0.03, 0.0, 0.28]]</td>\n",
       "      <td id=\"T_bd49a_row0_col8\" class=\"data row0 col8\" >[0.33]</td>\n",
       "    </tr>\n",
       "    <tr>\n",
       "      <td id=\"T_bd49a_row1_col0\" class=\"data row1 col0\" >n2</td>\n",
       "      <td id=\"T_bd49a_row1_col1\" class=\"data row1 col1\" >Parent</td>\n",
       "      <td id=\"T_bd49a_row1_col2\" class=\"data row1 col2\" >car_ownership__distance_group in ('car_ownership0distance01', 'car_ownership0distance02', 'car_ownership0distance03', 'car_ownership1distance01')</td>\n",
       "      <td id=\"T_bd49a_row1_col3\" class=\"data row1 col3\" >13729</td>\n",
       "      <td id=\"T_bd49a_row1_col4\" class=\"data row1 col4\" >0.530000</td>\n",
       "      <td id=\"T_bd49a_row1_col5\" class=\"data row1 col5\" >{1: 0.63, 2: 0.03, 3: 0.11, 4: 0.23}</td>\n",
       "      <td id=\"T_bd49a_row1_col6\" class=\"data row1 col6\" >[[0.89, 0.11], [0.92, 0.08], [1.01, 0.0], [0.58, 0.42], [0.37, 0.63], [0.27, 0.73], [0.44, 0.56], [0.13, 0.87], [0.0, 1.03]]</td>\n",
       "      <td id=\"T_bd49a_row1_col7\" class=\"data row1 col7\" >[[0.79, 0.03, 0.19, 0.0], [0.37, 0.03, 0.0, 0.61]]</td>\n",
       "      <td id=\"T_bd49a_row1_col8\" class=\"data row1 col8\" >[0.08]</td>\n",
       "    </tr>\n",
       "    <tr>\n",
       "      <td id=\"T_bd49a_row2_col0\" class=\"data row2 col0\" >n5</td>\n",
       "      <td id=\"T_bd49a_row2_col1\" class=\"data row2 col1\" >Child</td>\n",
       "      <td id=\"T_bd49a_row2_col2\" class=\"data row2 col2\" >None</td>\n",
       "      <td id=\"T_bd49a_row2_col3\" class=\"data row2 col3\" >8262</td>\n",
       "      <td id=\"T_bd49a_row2_col4\" class=\"data row2 col4\" >0.430000</td>\n",
       "      <td id=\"T_bd49a_row2_col5\" class=\"data row2 col5\" >{1: 0.73, 2: 0.03, 3: 0.15, 4: 0.09}</td>\n",
       "      <td id=\"T_bd49a_row2_col6\" class=\"data row2 col6\" >[[0.93, 0.07], [0.98, 0.02], [0.92, 0.08], [0.8, 0.2], [0.75, 0.25], [0.94, 0.06], [0.75, 0.25], [0.29, 0.71], [0.45, 0.55], [0.74, 0.26], [0.47, 0.53], [0.0, 1.0]]</td>\n",
       "      <td id=\"T_bd49a_row2_col7\" class=\"data row2 col7\" >[[0.89, 0.03, 0.0, 0.09], [0.32, 0.02, 0.6, 0.06]]</td>\n",
       "      <td id=\"T_bd49a_row2_col8\" class=\"data row2 col8\" >[0.02]</td>\n",
       "    </tr>\n",
       "    <tr>\n",
       "      <td id=\"T_bd49a_row3_col0\" class=\"data row3 col0\" >n4</td>\n",
       "      <td id=\"T_bd49a_row3_col1\" class=\"data row3 col1\" >Parent</td>\n",
       "      <td id=\"T_bd49a_row3_col2\" class=\"data row3 col2\" >distance_group__trafficperc_group in ('distance010low_traffic', 'distance011mediumlow_traffic', 'distance012medium_traffic', 'distance013mediumhigh_traffic', 'distance014high_traffic', 'distance022medium_traffic', 'distance023mediumhigh_traffic', 'distance024high_traffic', 'distance033mediumhigh_traffic', 'distance034high_traffic')</td>\n",
       "      <td id=\"T_bd49a_row3_col3\" class=\"data row3 col3\" >5467</td>\n",
       "      <td id=\"T_bd49a_row3_col4\" class=\"data row3 col4\" >0.570000</td>\n",
       "      <td id=\"T_bd49a_row3_col5\" class=\"data row3 col5\" >{1: 0.49, 2: 0.03, 3: 0.05, 4: 0.43}</td>\n",
       "      <td id=\"T_bd49a_row3_col6\" class=\"data row3 col6\" >[[0.55, 0.45], [0.61, 0.39], [0.75, 0.25], [0.87, 0.13], [1.0, 0.0], [0.28, 0.72], [0.37, 0.63], [0.51, 0.49], [0.57, 0.43], [0.6, 0.4], [0.12, 0.88], [0.21, 0.79], [0.32, 0.68], [0.61, 0.39], [0.59, 0.41]]</td>\n",
       "      <td id=\"T_bd49a_row3_col7\" class=\"data row3 col7\" >[[0.89, 0.02, 0.03, 0.06], [0.25, 0.03, 0.1, 0.62]]</td>\n",
       "      <td id=\"T_bd49a_row3_col8\" class=\"data row3 col8\" >[0.03]</td>\n",
       "    </tr>\n",
       "    <tr>\n",
       "      <td id=\"T_bd49a_row4_col0\" class=\"data row4 col0\" >n9</td>\n",
       "      <td id=\"T_bd49a_row4_col1\" class=\"data row4 col1\" >Child</td>\n",
       "      <td id=\"T_bd49a_row4_col2\" class=\"data row4 col2\" >None</td>\n",
       "      <td id=\"T_bd49a_row4_col3\" class=\"data row4 col3\" >1777</td>\n",
       "      <td id=\"T_bd49a_row4_col4\" class=\"data row4 col4\" >0.500000</td>\n",
       "      <td id=\"T_bd49a_row4_col5\" class=\"data row4 col5\" >{1: 0.64, 2: 0.03, 3: 0.04, 4: 0.3}</td>\n",
       "      <td id=\"T_bd49a_row4_col6\" class=\"data row4 col6\" >[[0.82, 0.18], [0.5, 0.5], [0.33, 0.67], [0.1, 0.9], [1.0, 0.0]]</td>\n",
       "      <td id=\"T_bd49a_row4_col7\" class=\"data row4 col7\" >[[0.65, 0.06, 0.01, 0.28], [0.57, 0.0, 0.16, 0.27]]</td>\n",
       "      <td id=\"T_bd49a_row4_col8\" class=\"data row4 col8\" >[0.02]</td>\n",
       "    </tr>\n",
       "    <tr>\n",
       "      <td id=\"T_bd49a_row5_col0\" class=\"data row5 col0\" >n8</td>\n",
       "      <td id=\"T_bd49a_row5_col1\" class=\"data row5 col1\" >Parent</td>\n",
       "      <td id=\"T_bd49a_row5_col2\" class=\"data row5 col2\" >driving_license__faretype in ('driving_license0faretype1', 'driving_license0faretype2', 'driving_license0faretype3', 'driving_license0faretype4')</td>\n",
       "      <td id=\"T_bd49a_row5_col3\" class=\"data row5 col3\" >3690</td>\n",
       "      <td id=\"T_bd49a_row5_col4\" class=\"data row5 col4\" >0.580000</td>\n",
       "      <td id=\"T_bd49a_row5_col5\" class=\"data row5 col5\" >{1: 0.41, 2: 0.03, 3: 0.06, 4: 0.5}</td>\n",
       "      <td id=\"T_bd49a_row5_col6\" class=\"data row5 col6\" >[[1.0, 0.0], [0.75, 0.25], [0.71, 0.29], [0.93, 0.07], [0.49, 0.51], [0.38, 0.62], [0.46, 0.54], [0.46, 0.54]]</td>\n",
       "      <td id=\"T_bd49a_row5_col7\" class=\"data row5 col7\" >[[0.7, 0.01, 0.13, 0.16], [0.1, 0.07, 0.0, 0.82]]</td>\n",
       "      <td id=\"T_bd49a_row5_col8\" class=\"data row5 col8\" >[0.03]</td>\n",
       "    </tr>\n",
       "    <tr>\n",
       "      <td id=\"T_bd49a_row6_col0\" class=\"data row6 col0\" >n16</td>\n",
       "      <td id=\"T_bd49a_row6_col1\" class=\"data row6 col1\" >Child</td>\n",
       "      <td id=\"T_bd49a_row6_col2\" class=\"data row6 col2\" >None</td>\n",
       "      <td id=\"T_bd49a_row6_col3\" class=\"data row6 col3\" >2941</td>\n",
       "      <td id=\"T_bd49a_row6_col4\" class=\"data row6 col4\" >0.550000</td>\n",
       "      <td id=\"T_bd49a_row6_col5\" class=\"data row6 col5\" >{1: 0.36, 2: 0.03, 3: 0.04, 4: 0.56}</td>\n",
       "      <td id=\"T_bd49a_row6_col6\" class=\"data row6 col6\" >[[0.28, 0.72], [0.0, 1.0], [0.38, 0.62], [0.11, 0.89], [0.36, 0.64], [0.45, 0.55], [0.62, 0.38], [0.83, 0.17], [0.94, 0.06], [0.97, 0.03], [0.92, 0.08], [0.35, 0.65], [0.63, 0.37], [0.84, 0.16]]</td>\n",
       "      <td id=\"T_bd49a_row6_col7\" class=\"data row6 col7\" >[[0.27, 0.02, 0.01, 0.7], [0.47, 0.03, 0.08, 0.42]]</td>\n",
       "      <td id=\"T_bd49a_row6_col8\" class=\"data row6 col8\" >[0.02]</td>\n",
       "    </tr>\n",
       "    <tr>\n",
       "      <td id=\"T_bd49a_row7_col0\" class=\"data row7 col0\" >n17</td>\n",
       "      <td id=\"T_bd49a_row7_col1\" class=\"data row7 col1\" >Child</td>\n",
       "      <td id=\"T_bd49a_row7_col2\" class=\"data row7 col2\" >None</td>\n",
       "      <td id=\"T_bd49a_row7_col3\" class=\"data row7 col3\" >749</td>\n",
       "      <td id=\"T_bd49a_row7_col4\" class=\"data row7 col4\" >0.560000</td>\n",
       "      <td id=\"T_bd49a_row7_col5\" class=\"data row7 col5\" >{1: 0.6, 2: 0.03, 3: 0.12, 4: 0.25}</td>\n",
       "      <td id=\"T_bd49a_row7_col6\" class=\"data row7 col6\" >[]</td>\n",
       "      <td id=\"T_bd49a_row7_col7\" class=\"data row7 col7\" >[]</td>\n",
       "      <td id=\"T_bd49a_row7_col8\" class=\"data row7 col8\" >[]</td>\n",
       "    </tr>\n",
       "    <tr>\n",
       "      <td id=\"T_bd49a_row8_col0\" class=\"data row8 col0\" >n16</td>\n",
       "      <td id=\"T_bd49a_row8_col1\" class=\"data row8 col1\" >Parent</td>\n",
       "      <td id=\"T_bd49a_row8_col2\" class=\"data row8 col2\" >car_ownership__day_of_week in ('car_ownership1day_of_week7', 'car_ownership2day_of_week1', 'car_ownership2day_of_week2', 'car_ownership2day_of_week3', 'car_ownership2day_of_week4', 'car_ownership2day_of_week6', 'car_ownership2day_of_week7')</td>\n",
       "      <td id=\"T_bd49a_row8_col3\" class=\"data row8 col3\" >2941</td>\n",
       "      <td id=\"T_bd49a_row8_col4\" class=\"data row8 col4\" >0.550000</td>\n",
       "      <td id=\"T_bd49a_row8_col5\" class=\"data row8 col5\" >{1: 0.36, 2: 0.03, 3: 0.04, 4: 0.56}</td>\n",
       "      <td id=\"T_bd49a_row8_col6\" class=\"data row8 col6\" >[[0.28, 0.72], [0.0, 1.0], [0.38, 0.62], [0.11, 0.89], [0.36, 0.64], [0.45, 0.55], [0.62, 0.38], [0.83, 0.17], [0.94, 0.06], [0.97, 0.03], [0.92, 0.08], [0.35, 0.65], [0.63, 0.37], [0.84, 0.16]]</td>\n",
       "      <td id=\"T_bd49a_row8_col7\" class=\"data row8 col7\" >[[0.27, 0.02, 0.01, 0.7], [0.47, 0.03, 0.08, 0.42]]</td>\n",
       "      <td id=\"T_bd49a_row8_col8\" class=\"data row8 col8\" >[0.02]</td>\n",
       "    </tr>\n",
       "    <tr>\n",
       "      <td id=\"T_bd49a_row9_col0\" class=\"data row9 col0\" >n9</td>\n",
       "      <td id=\"T_bd49a_row9_col1\" class=\"data row9 col1\" >Parent</td>\n",
       "      <td id=\"T_bd49a_row9_col2\" class=\"data row9 col2\" >distance_group__car_ownership in ('distance01car_ownership2', 'distance03car_ownership2')</td>\n",
       "      <td id=\"T_bd49a_row9_col3\" class=\"data row9 col3\" >1777</td>\n",
       "      <td id=\"T_bd49a_row9_col4\" class=\"data row9 col4\" >0.500000</td>\n",
       "      <td id=\"T_bd49a_row9_col5\" class=\"data row9 col5\" >{1: 0.64, 2: 0.03, 3: 0.04, 4: 0.3}</td>\n",
       "      <td id=\"T_bd49a_row9_col6\" class=\"data row9 col6\" >[[0.82, 0.18], [0.5, 0.5], [0.33, 0.67], [0.1, 0.9], [1.0, 0.0]]</td>\n",
       "      <td id=\"T_bd49a_row9_col7\" class=\"data row9 col7\" >[[0.65, 0.06, 0.01, 0.28], [0.57, 0.0, 0.16, 0.27]]</td>\n",
       "      <td id=\"T_bd49a_row9_col8\" class=\"data row9 col8\" >[0.02]</td>\n",
       "    </tr>\n",
       "    <tr>\n",
       "      <td id=\"T_bd49a_row10_col0\" class=\"data row10 col0\" >n5</td>\n",
       "      <td id=\"T_bd49a_row10_col1\" class=\"data row10 col1\" >Parent</td>\n",
       "      <td id=\"T_bd49a_row10_col2\" class=\"data row10 col2\" >distance_group__age_group in ('distance01age_group0-18', 'distance01age_group19-30', 'distance01age_group31-65', 'distance01age_group66+', 'distance02age_group0-18', 'distance02age_group19-30', 'distance02age_group31-65', 'distance03age_group19-30')</td>\n",
       "      <td id=\"T_bd49a_row10_col3\" class=\"data row10 col3\" >8262</td>\n",
       "      <td id=\"T_bd49a_row10_col4\" class=\"data row10 col4\" >0.430000</td>\n",
       "      <td id=\"T_bd49a_row10_col5\" class=\"data row10 col5\" >{1: 0.73, 2: 0.03, 3: 0.15, 4: 0.09}</td>\n",
       "      <td id=\"T_bd49a_row10_col6\" class=\"data row10 col6\" >[[0.93, 0.07], [0.98, 0.02], [0.92, 0.08], [0.8, 0.2], [0.75, 0.25], [0.94, 0.06], [0.75, 0.25], [0.29, 0.71], [0.45, 0.55], [0.74, 0.26], [0.47, 0.53], [0.0, 1.0]]</td>\n",
       "      <td id=\"T_bd49a_row10_col7\" class=\"data row10 col7\" >[[0.89, 0.03, 0.0, 0.09], [0.32, 0.02, 0.6, 0.06]]</td>\n",
       "      <td id=\"T_bd49a_row10_col8\" class=\"data row10 col8\" >[0.02]</td>\n",
       "    </tr>\n",
       "    <tr>\n",
       "      <td id=\"T_bd49a_row11_col0\" class=\"data row11 col0\" >n3</td>\n",
       "      <td id=\"T_bd49a_row11_col1\" class=\"data row11 col1\" >Parent</td>\n",
       "      <td id=\"T_bd49a_row11_col2\" class=\"data row11 col2\" >car_ownership__trafficperc_group in ('car_ownership00low_traffic', 'car_ownership01mediumlow_traffic', 'car_ownership02medium_traffic', 'car_ownership03mediumhigh_traffic', 'car_ownership04high_traffic', 'car_ownership13mediumhigh_traffic', 'car_ownership14high_traffic', 'car_ownership24high_traffic')</td>\n",
       "      <td id=\"T_bd49a_row11_col3\" class=\"data row11 col3\" >62374</td>\n",
       "      <td id=\"T_bd49a_row11_col4\" class=\"data row11 col4\" >0.590000</td>\n",
       "      <td id=\"T_bd49a_row11_col5\" class=\"data row11 col5\" >{1: 0.07, 2: 0.03, 3: 0.41, 4: 0.49}</td>\n",
       "      <td id=\"T_bd49a_row11_col6\" class=\"data row11 col6\" >[[0.82, 0.18], [0.89, 0.11], [0.93, 0.07], [0.97, 0.03], [1.0, 0.0], [0.15, 0.85], [0.24, 0.76], [0.37, 0.63], [0.57, 0.43], [0.81, 0.19], [0.0, 1.0], [0.07, 0.93], [0.16, 0.84], [0.39, 0.61], [0.63, 0.37]]</td>\n",
       "      <td id=\"T_bd49a_row11_col7\" class=\"data row11 col7\" >[[0.08, 0.05, 0.84, 0.03], [0.06, 0.01, 0.09, 0.85]]</td>\n",
       "      <td id=\"T_bd49a_row11_col8\" class=\"data row11 col8\" >[0.02]</td>\n",
       "    </tr>\n",
       "    <tr>\n",
       "      <td id=\"T_bd49a_row12_col0\" class=\"data row12 col0\" >n6</td>\n",
       "      <td id=\"T_bd49a_row12_col1\" class=\"data row12 col1\" >Parent</td>\n",
       "      <td id=\"T_bd49a_row12_col2\" class=\"data row12 col2\" >distance_group__driving_license in ('distance02driving_license1', 'distance04driving_license1', 'distance05driving_license0', 'distance05driving_license1', 'distance06driving_license0', 'distance06driving_license1', 'distance07driving_license0', 'distance07driving_license1', 'distance08driving_license0', 'distance08driving_license1', 'distance09driving_license0', 'distance09driving_license1', 'distance10driving_license0', 'distance10driving_license1', 'distance11driving_license0', 'distance11driving_license1')</td>\n",
       "      <td id=\"T_bd49a_row12_col3\" class=\"data row12 col3\" >37369</td>\n",
       "      <td id=\"T_bd49a_row12_col4\" class=\"data row12 col4\" >0.450000</td>\n",
       "      <td id=\"T_bd49a_row12_col5\" class=\"data row12 col5\" >{1: 0.07, 2: 0.02, 3: 0.2, 4: 0.71}</td>\n",
       "      <td id=\"T_bd49a_row12_col6\" class=\"data row12 col6\" >[[0.72, 0.28], [0.0, 1.0], [0.34, 0.66], [0.4, 0.6], [0.5, 0.5], [0.67, 0.33], [0.68, 0.32], [0.87, 0.13], [0.78, 0.22], [0.98, 0.02], [0.84, 0.16], [1.02, 0.0], [0.89, 0.11], [1.04, 0.0], [0.91, 0.09], [1.13, 0.0], [1.0, 0.0], [1.12, 0.0], [1.05, 0.0]]</td>\n",
       "      <td id=\"T_bd49a_row12_col7\" class=\"data row12 col7\" >[[0.0, 0.02, 0.34, 0.65], [0.39, 0.05, 0.0, 0.59]]</td>\n",
       "      <td id=\"T_bd49a_row12_col8\" class=\"data row12 col8\" >[0.18]</td>\n",
       "    </tr>\n",
       "    <tr>\n",
       "      <td id=\"T_bd49a_row13_col0\" class=\"data row13 col0\" >n12</td>\n",
       "      <td id=\"T_bd49a_row13_col1\" class=\"data row13 col1\" >Parent</td>\n",
       "      <td id=\"T_bd49a_row13_col2\" class=\"data row13 col2\" >driving_license__faretype in ('driving_license0faretype5', 'driving_license1faretype1', 'driving_license1faretype2', 'driving_license1faretype4', 'driving_license1faretype5')</td>\n",
       "      <td id=\"T_bd49a_row13_col3\" class=\"data row13 col3\" >4506</td>\n",
       "      <td id=\"T_bd49a_row13_col4\" class=\"data row13 col4\" >0.580000</td>\n",
       "      <td id=\"T_bd49a_row13_col5\" class=\"data row13 col5\" >{1: 0.29, 2: 0.03, 3: 0.11, 4: 0.57}</td>\n",
       "      <td id=\"T_bd49a_row13_col6\" class=\"data row13 col6\" >[[0.32, 0.68], [0.3, 0.7], [0.4, 0.6], [0.14, 0.86], [0.62, 0.38], [0.72, 0.28], [1.03, 0.0], [0.65, 0.35], [0.66, 0.34]]</td>\n",
       "      <td id=\"T_bd49a_row13_col7\" class=\"data row13 col7\" >[[0.03, 0.01, 0.0, 0.98], [0.63, 0.08, 0.31, 0.0]]</td>\n",
       "      <td id=\"T_bd49a_row13_col8\" class=\"data row13 col8\" >[0.03]</td>\n",
       "    </tr>\n",
       "    <tr>\n",
       "      <td id=\"T_bd49a_row14_col0\" class=\"data row14 col0\" >n24</td>\n",
       "      <td id=\"T_bd49a_row14_col1\" class=\"data row14 col1\" >Child</td>\n",
       "      <td id=\"T_bd49a_row14_col2\" class=\"data row14 col2\" >None</td>\n",
       "      <td id=\"T_bd49a_row14_col3\" class=\"data row14 col3\" >1232</td>\n",
       "      <td id=\"T_bd49a_row14_col4\" class=\"data row14 col4\" >0.670000</td>\n",
       "      <td id=\"T_bd49a_row14_col5\" class=\"data row14 col5\" >{1: 0.42, 2: 0.04, 3: 0.21, 4: 0.33}</td>\n",
       "      <td id=\"T_bd49a_row14_col6\" class=\"data row14 col6\" >[[0.43, 0.57], [0.19, 0.81], [0.32, 0.68], [0.56, 0.44], [0.72, 0.28], [0.74, 0.26], [1.0, 0.0], [0.0, 1.07], [0.31, 0.69], [0.59, 0.41], [0.56, 0.44], [0.79, 0.21], [0.65, 0.35], [0.0, 1.07], [0.33, 0.67], [0.65, 0.35], [0.52, 0.48], [0.83, 0.17], [0.97, 0.03], [0.93, 0.07], [0.32, 0.68], [0.41, 0.59], [0.6, 0.4], [0.48, 0.52], [0.39, 0.61], [0.65, 0.35], [0.43, 0.57], [0.0, 1.07], [0.93, 0.07], [0.18, 0.82], [0.13, 0.87], [0.49, 0.51], [1.1, 0.0], [1.1, 0.0], [0.26, 0.74], [0.83, 0.17], [0.37, 0.63], [0.0, 1.07], [0.26, 0.74], [0.6, 0.4], [0.46, 0.54], [0.51, 0.49], [0.76, 0.24], [0.6, 0.4], [0.81, 0.19], [0.93, 0.07], [0.44, 0.56], [0.69, 0.31], [0.77, 0.23], [0.77, 0.23], [0.8, 0.2], [0.18, 0.82], [0.63, 0.37], [0.41, 0.59], [0.52, 0.48], [0.49, 0.51], [0.69, 0.31], [0.11, 0.89], [0.5, 0.5], [0.48, 0.52], [0.42, 0.58], [0.24, 0.76], [0.51, 0.49], [0.0, 1.07], [0.93, 0.07], [0.54, 0.46], [0.39, 0.61], [0.43, 0.57], [0.4, 0.6], [0.57, 0.43], [0.0, 1.07], [0.26, 0.74], [0.31, 0.69], [0.56, 0.44], [0.57, 0.43], [0.5, 0.5], [0.66, 0.34], [0.18, 0.82]]</td>\n",
       "      <td id=\"T_bd49a_row14_col7\" class=\"data row14 col7\" >[[0.0, 0.03, 0.42, 0.57], [0.93, 0.03, 0.0, 0.07]]</td>\n",
       "      <td id=\"T_bd49a_row14_col8\" class=\"data row14 col8\" >[0.38]</td>\n",
       "    </tr>\n",
       "    <tr>\n",
       "      <td id=\"T_bd49a_row15_col0\" class=\"data row15 col0\" >n25</td>\n",
       "      <td id=\"T_bd49a_row15_col1\" class=\"data row15 col1\" >Child</td>\n",
       "      <td id=\"T_bd49a_row15_col2\" class=\"data row15 col2\" >None</td>\n",
       "      <td id=\"T_bd49a_row15_col3\" class=\"data row15 col3\" >3274</td>\n",
       "      <td id=\"T_bd49a_row15_col4\" class=\"data row15 col4\" >0.510000</td>\n",
       "      <td id=\"T_bd49a_row15_col5\" class=\"data row15 col5\" >{1: 0.24, 2: 0.03, 3: 0.08, 4: 0.66}</td>\n",
       "      <td id=\"T_bd49a_row15_col6\" class=\"data row15 col6\" >[[0.16, 0.84], [0.04, 0.96], [0.3, 0.7], [0.04, 0.96], [0.86, 0.14], [0.6, 0.4], [0.61, 0.39], [0.34, 0.66]]</td>\n",
       "      <td id=\"T_bd49a_row15_col7\" class=\"data row15 col7\" >[[0.1, 0.01, 0.03, 0.86], [0.32, 0.03, 0.11, 0.54]]</td>\n",
       "      <td id=\"T_bd49a_row15_col8\" class=\"data row15 col8\" >[0.04]</td>\n",
       "    </tr>\n",
       "    <tr>\n",
       "      <td id=\"T_bd49a_row16_col0\" class=\"data row16 col0\" >n24</td>\n",
       "      <td id=\"T_bd49a_row16_col1\" class=\"data row16 col1\" >Parent</td>\n",
       "      <td id=\"T_bd49a_row16_col2\" class=\"data row16 col2\" >travel_month__costdrivingfuel_group in ('travel_month10costdrivingfuelgroup4', 'travel_month10costdrivingfuelgroup5', 'travel_month10costdrivingfuelgroup6', 'travel_month10costdrivingfuelgroup7', 'travel_month11costdrivingfuelgroup3', 'travel_month11costdrivingfuelgroup4', 'travel_month11costdrivingfuelgroup5', 'travel_month11costdrivingfuelgroup6', 'travel_month12costdrivingfuelgroup3', 'travel_month12costdrivingfuelgroup4', 'travel_month12costdrivingfuelgroup5', 'travel_month12costdrivingfuelgroup6', 'travel_month12costdrivingfuelgroup7', 'travel_month1costdrivingfuelgroup3', 'travel_month1costdrivingfuelgroup6', 'travel_month2costdrivingfuelgroup2', 'travel_month2costdrivingfuelgroup6', 'travel_month2costdrivingfuelgroup7', 'travel_month3costdrivingfuelgroup4', 'travel_month4costdrivingfuelgroup2', 'travel_month4costdrivingfuelgroup4', 'travel_month4costdrivingfuelgroup5', 'travel_month4costdrivingfuelgroup6', 'travel_month4costdrivingfuelgroup7', 'travel_month5costdrivingfuelgroup1', 'travel_month5costdrivingfuelgroup3', 'travel_month5costdrivingfuelgroup4', 'travel_month5costdrivingfuelgroup5', 'travel_month5costdrivingfuelgroup6', 'travel_month6costdrivingfuelgroup2', 'travel_month6costdrivingfuelgroup4', 'travel_month6costdrivingfuelgroup6', 'travel_month7costdrivingfuelgroup6', 'travel_month8costdrivingfuelgroup1', 'travel_month8costdrivingfuelgroup2', 'travel_month8costdrivingfuelgroup6', 'travel_month9costdrivingfuelgroup3', 'travel_month9costdrivingfuelgroup4', 'travel_month9costdrivingfuelgroup5', 'travel_month9costdrivingfuelgroup6')</td>\n",
       "      <td id=\"T_bd49a_row16_col3\" class=\"data row16 col3\" >1232</td>\n",
       "      <td id=\"T_bd49a_row16_col4\" class=\"data row16 col4\" >0.670000</td>\n",
       "      <td id=\"T_bd49a_row16_col5\" class=\"data row16 col5\" >{1: 0.42, 2: 0.04, 3: 0.21, 4: 0.33}</td>\n",
       "      <td id=\"T_bd49a_row16_col6\" class=\"data row16 col6\" >[[0.43, 0.57], [0.19, 0.81], [0.32, 0.68], [0.56, 0.44], [0.72, 0.28], [0.74, 0.26], [1.0, 0.0], [0.0, 1.07], [0.31, 0.69], [0.59, 0.41], [0.56, 0.44], [0.79, 0.21], [0.65, 0.35], [0.0, 1.07], [0.33, 0.67], [0.65, 0.35], [0.52, 0.48], [0.83, 0.17], [0.97, 0.03], [0.93, 0.07], [0.32, 0.68], [0.41, 0.59], [0.6, 0.4], [0.48, 0.52], [0.39, 0.61], [0.65, 0.35], [0.43, 0.57], [0.0, 1.07], [0.93, 0.07], [0.18, 0.82], [0.13, 0.87], [0.49, 0.51], [1.1, 0.0], [1.1, 0.0], [0.26, 0.74], [0.83, 0.17], [0.37, 0.63], [0.0, 1.07], [0.26, 0.74], [0.6, 0.4], [0.46, 0.54], [0.51, 0.49], [0.76, 0.24], [0.6, 0.4], [0.81, 0.19], [0.93, 0.07], [0.44, 0.56], [0.69, 0.31], [0.77, 0.23], [0.77, 0.23], [0.8, 0.2], [0.18, 0.82], [0.63, 0.37], [0.41, 0.59], [0.52, 0.48], [0.49, 0.51], [0.69, 0.31], [0.11, 0.89], [0.5, 0.5], [0.48, 0.52], [0.42, 0.58], [0.24, 0.76], [0.51, 0.49], [0.0, 1.07], [0.93, 0.07], [0.54, 0.46], [0.39, 0.61], [0.43, 0.57], [0.4, 0.6], [0.57, 0.43], [0.0, 1.07], [0.26, 0.74], [0.31, 0.69], [0.56, 0.44], [0.57, 0.43], [0.5, 0.5], [0.66, 0.34], [0.18, 0.82]]</td>\n",
       "      <td id=\"T_bd49a_row16_col7\" class=\"data row16 col7\" >[[0.0, 0.03, 0.42, 0.57], [0.93, 0.03, 0.0, 0.07]]</td>\n",
       "      <td id=\"T_bd49a_row16_col8\" class=\"data row16 col8\" >[0.38]</td>\n",
       "    </tr>\n",
       "    <tr>\n",
       "      <td id=\"T_bd49a_row17_col0\" class=\"data row17 col0\" >n25</td>\n",
       "      <td id=\"T_bd49a_row17_col1\" class=\"data row17 col1\" >Parent</td>\n",
       "      <td id=\"T_bd49a_row17_col2\" class=\"data row17 col2\" >car_ownership__age_group in ('car_ownership2age_group0-18', 'car_ownership2age_group19-30', 'car_ownership2age_group31-65')</td>\n",
       "      <td id=\"T_bd49a_row17_col3\" class=\"data row17 col3\" >3274</td>\n",
       "      <td id=\"T_bd49a_row17_col4\" class=\"data row17 col4\" >0.510000</td>\n",
       "      <td id=\"T_bd49a_row17_col5\" class=\"data row17 col5\" >{1: 0.24, 2: 0.03, 3: 0.08, 4: 0.66}</td>\n",
       "      <td id=\"T_bd49a_row17_col6\" class=\"data row17 col6\" >[[0.16, 0.84], [0.04, 0.96], [0.3, 0.7], [0.04, 0.96], [0.86, 0.14], [0.6, 0.4], [0.61, 0.39], [0.34, 0.66]]</td>\n",
       "      <td id=\"T_bd49a_row17_col7\" class=\"data row17 col7\" >[[0.1, 0.01, 0.03, 0.86], [0.32, 0.03, 0.11, 0.54]]</td>\n",
       "      <td id=\"T_bd49a_row17_col8\" class=\"data row17 col8\" >[0.04]</td>\n",
       "    </tr>\n",
       "    <tr>\n",
       "      <td id=\"T_bd49a_row18_col0\" class=\"data row18 col0\" >n13</td>\n",
       "      <td id=\"T_bd49a_row18_col1\" class=\"data row18 col1\" >Parent</td>\n",
       "      <td id=\"T_bd49a_row18_col2\" class=\"data row18 col2\" >driving_license__faretype in ('driving_license0faretype5', 'driving_license1faretype1', 'driving_license1faretype2', 'driving_license1faretype4', 'driving_license1faretype5')</td>\n",
       "      <td id=\"T_bd49a_row18_col3\" class=\"data row18 col3\" >32863</td>\n",
       "      <td id=\"T_bd49a_row18_col4\" class=\"data row18 col4\" >0.420000</td>\n",
       "      <td id=\"T_bd49a_row18_col5\" class=\"data row18 col5\" >{1: 0.04, 2: 0.02, 3: 0.21, 4: 0.73}</td>\n",
       "      <td id=\"T_bd49a_row18_col6\" class=\"data row18 col6\" >[[0.18, 0.82], [0.02, 0.98], [0.36, 0.64], [0.0, 1.0], [0.74, 0.26], [0.8, 0.2], [0.73, 0.27], [0.65, 0.35], [0.68, 0.32]]</td>\n",
       "      <td id=\"T_bd49a_row18_col7\" class=\"data row18 col7\" >[[0.06, 0.04, 0.0, 0.9], [0.05, 0.03, 0.61, 0.31]]</td>\n",
       "      <td id=\"T_bd49a_row18_col8\" class=\"data row18 col8\" >[0.04]</td>\n",
       "    </tr>\n",
       "    <tr>\n",
       "      <td id=\"T_bd49a_row19_col0\" class=\"data row19 col0\" >n27</td>\n",
       "      <td id=\"T_bd49a_row19_col1\" class=\"data row19 col1\" >Child</td>\n",
       "      <td id=\"T_bd49a_row19_col2\" class=\"data row19 col2\" >None</td>\n",
       "      <td id=\"T_bd49a_row19_col3\" class=\"data row19 col3\" >27581</td>\n",
       "      <td id=\"T_bd49a_row19_col4\" class=\"data row19 col4\" >0.360000</td>\n",
       "      <td id=\"T_bd49a_row19_col5\" class=\"data row19 col5\" >{1: 0.04, 2: 0.02, 3: 0.15, 4: 0.79}</td>\n",
       "      <td id=\"T_bd49a_row19_col6\" class=\"data row19 col6\" >[[0.83, 0.17], [0.96, 0.04], [0.89, 0.11], [0.88, 0.12], [0.97, 0.03], [0.57, 0.43], [0.79, 0.21], [0.75, 0.25], [0.69, 0.31], [0.85, 0.15], [0.26, 0.74], [0.65, 0.35], [0.55, 0.45], [0.43, 0.57], [0.72, 0.28], [0.0, 1.0], [0.34, 0.66], [0.23, 0.77], [0.36, 0.64], [0.27, 0.73]]</td>\n",
       "      <td id=\"T_bd49a_row19_col7\" class=\"data row19 col7\" >[[0.04, 0.02, 0.03, 0.91], [0.01, 0.02, 0.49, 0.48]]</td>\n",
       "      <td id=\"T_bd49a_row19_col8\" class=\"data row19 col8\" >[0.01]</td>\n",
       "    </tr>\n",
       "    <tr>\n",
       "      <td id=\"T_bd49a_row20_col0\" class=\"data row20 col0\" >n26</td>\n",
       "      <td id=\"T_bd49a_row20_col1\" class=\"data row20 col1\" >Parent</td>\n",
       "      <td id=\"T_bd49a_row20_col2\" class=\"data row20 col2\" >purpose__day_of_week in ('purpose1day_of_week1', 'purpose1day_of_week2', 'purpose1day_of_week3', 'purpose1day_of_week4', 'purpose1day_of_week5', 'purpose1day_of_week6', 'purpose1day_of_week7', 'purpose2day_of_week1', 'purpose2day_of_week2', 'purpose2day_of_week3', 'purpose2day_of_week4', 'purpose2day_of_week5', 'purpose4day_of_week1', 'purpose4day_of_week3', 'purpose4day_of_week4', 'purpose4day_of_week5', 'purpose4day_of_week6', 'purpose4day_of_week7')</td>\n",
       "      <td id=\"T_bd49a_row20_col3\" class=\"data row20 col3\" >5282</td>\n",
       "      <td id=\"T_bd49a_row20_col4\" class=\"data row20 col4\" >0.570000</td>\n",
       "      <td id=\"T_bd49a_row20_col5\" class=\"data row20 col5\" >{1: 0.06, 2: 0.02, 3: 0.49, 4: 0.44}</td>\n",
       "      <td id=\"T_bd49a_row20_col6\" class=\"data row20 col6\" >[[0.9, 0.1], [0.72, 0.28], [0.9, 0.1], [0.78, 0.22], [0.82, 0.18], [0.58, 0.42], [0.84, 0.16], [0.86, 0.14], [0.78, 0.22], [0.68, 0.32], [0.81, 0.19], [0.74, 0.26], [0.1, 0.9], [0.41, 0.59], [0.23, 0.77], [0.38, 0.62], [0.31, 0.69], [0.33, 0.67], [0.22, 0.78], [0.31, 0.69], [0.03, 0.97], [0.97, 0.03], [0.47, 0.53], [1.0, 0.0], [0.64, 0.36], [0.75, 0.25], [0.7, 0.3], [0.57, 0.43], [0.36, 0.64], [0.46, 0.54], [0.29, 0.71], [0.32, 0.68], [0.34, 0.66], [0.28, 0.72], [0.0, 1.0]]</td>\n",
       "      <td id=\"T_bd49a_row20_col7\" class=\"data row20 col7\" >[[0.06, 0.02, 0.83, 0.1], [0.05, 0.03, 0.2, 0.72]]</td>\n",
       "      <td id=\"T_bd49a_row20_col8\" class=\"data row20 col8\" >[0.06]</td>\n",
       "    </tr>\n",
       "    <tr>\n",
       "      <td id=\"T_bd49a_row21_col0\" class=\"data row21 col0\" >n52</td>\n",
       "      <td id=\"T_bd49a_row21_col1\" class=\"data row21 col1\" >Child</td>\n",
       "      <td id=\"T_bd49a_row21_col2\" class=\"data row21 col2\" >None</td>\n",
       "      <td id=\"T_bd49a_row21_col3\" class=\"data row21 col3\" >3169</td>\n",
       "      <td id=\"T_bd49a_row21_col4\" class=\"data row21 col4\" >0.550000</td>\n",
       "      <td id=\"T_bd49a_row21_col5\" class=\"data row21 col5\" >{1: 0.05, 2: 0.02, 3: 0.35, 4: 0.57}</td>\n",
       "      <td id=\"T_bd49a_row21_col6\" class=\"data row21 col6\" >[]</td>\n",
       "      <td id=\"T_bd49a_row21_col7\" class=\"data row21 col7\" >[]</td>\n",
       "      <td id=\"T_bd49a_row21_col8\" class=\"data row21 col8\" >[]</td>\n",
       "    </tr>\n",
       "    <tr>\n",
       "      <td id=\"T_bd49a_row22_col0\" class=\"data row22 col0\" >n53</td>\n",
       "      <td id=\"T_bd49a_row22_col1\" class=\"data row22 col1\" >Child</td>\n",
       "      <td id=\"T_bd49a_row22_col2\" class=\"data row22 col2\" >None</td>\n",
       "      <td id=\"T_bd49a_row22_col3\" class=\"data row22 col3\" >2113</td>\n",
       "      <td id=\"T_bd49a_row22_col4\" class=\"data row22 col4\" >0.470000</td>\n",
       "      <td id=\"T_bd49a_row22_col5\" class=\"data row22 col5\" >{1: 0.06, 2: 0.02, 3: 0.69, 4: 0.23}</td>\n",
       "      <td id=\"T_bd49a_row22_col6\" class=\"data row22 col6\" >[]</td>\n",
       "      <td id=\"T_bd49a_row22_col7\" class=\"data row22 col7\" >[]</td>\n",
       "      <td id=\"T_bd49a_row22_col8\" class=\"data row22 col8\" >[]</td>\n",
       "    </tr>\n",
       "    <tr>\n",
       "      <td id=\"T_bd49a_row23_col0\" class=\"data row23 col0\" >n27</td>\n",
       "      <td id=\"T_bd49a_row23_col1\" class=\"data row23 col1\" >Parent</td>\n",
       "      <td id=\"T_bd49a_row23_col2\" class=\"data row23 col2\" >trafficperc_group__purpose in ('0low_trafficpurpose1', '0low_trafficpurpose2', '0low_trafficpurpose3', '0low_trafficpurpose4', '0low_trafficpurpose5', '1mediumlow_trafficpurpose1', '1mediumlow_trafficpurpose2', '1mediumlow_trafficpurpose3', '1mediumlow_trafficpurpose4', '1mediumlow_trafficpurpose5', '2medium_trafficpurpose2', '2medium_trafficpurpose3', '2medium_trafficpurpose5')</td>\n",
       "      <td id=\"T_bd49a_row23_col3\" class=\"data row23 col3\" >27581</td>\n",
       "      <td id=\"T_bd49a_row23_col4\" class=\"data row23 col4\" >0.360000</td>\n",
       "      <td id=\"T_bd49a_row23_col5\" class=\"data row23 col5\" >{1: 0.04, 2: 0.02, 3: 0.15, 4: 0.79}</td>\n",
       "      <td id=\"T_bd49a_row23_col6\" class=\"data row23 col6\" >[[0.83, 0.17], [0.96, 0.04], [0.89, 0.11], [0.88, 0.12], [0.97, 0.03], [0.57, 0.43], [0.79, 0.21], [0.75, 0.25], [0.69, 0.31], [0.85, 0.15], [0.26, 0.74], [0.65, 0.35], [0.55, 0.45], [0.43, 0.57], [0.72, 0.28], [0.0, 1.0], [0.34, 0.66], [0.23, 0.77], [0.36, 0.64], [0.27, 0.73]]</td>\n",
       "      <td id=\"T_bd49a_row23_col7\" class=\"data row23 col7\" >[[0.04, 0.02, 0.03, 0.91], [0.01, 0.02, 0.49, 0.48]]</td>\n",
       "      <td id=\"T_bd49a_row23_col8\" class=\"data row23 col8\" >[0.01]</td>\n",
       "    </tr>\n",
       "    <tr>\n",
       "      <td id=\"T_bd49a_row24_col0\" class=\"data row24 col0\" >n7</td>\n",
       "      <td id=\"T_bd49a_row24_col1\" class=\"data row24 col1\" >Parent</td>\n",
       "      <td id=\"T_bd49a_row24_col2\" class=\"data row24 col2\" >distance_group__fueltype in ('distance04fueltype5', 'distance05fueltype6', 'distance06fueltype1', 'distance06fueltype2', 'distance06fueltype4', 'distance06fueltype6', 'distance07fueltype1', 'distance07fueltype2', 'distance07fueltype3', 'distance07fueltype4', 'distance07fueltype5', 'distance07fueltype6', 'distance08fueltype1', 'distance08fueltype2', 'distance08fueltype3', 'distance08fueltype5', 'distance08fueltype6', 'distance09fueltype1', 'distance09fueltype2', 'distance09fueltype3', 'distance09fueltype4', 'distance09fueltype5', 'distance09fueltype6', 'distance10fueltype1', 'distance10fueltype2', 'distance10fueltype3', 'distance10fueltype4', 'distance10fueltype5', 'distance10fueltype6', 'distance11fueltype1', 'distance11fueltype2', 'distance11fueltype3', 'distance11fueltype4', 'distance11fueltype5', 'distance11fueltype6')</td>\n",
       "      <td id=\"T_bd49a_row24_col3\" class=\"data row24 col3\" >25005</td>\n",
       "      <td id=\"T_bd49a_row24_col4\" class=\"data row24 col4\" >0.450000</td>\n",
       "      <td id=\"T_bd49a_row24_col5\" class=\"data row24 col5\" >{1: 0.08, 2: 0.04, 3: 0.72, 4: 0.16}</td>\n",
       "      <td id=\"T_bd49a_row24_col6\" class=\"data row24 col6\" >[[0.17, 0.83], [0.0, 1.08], [0.21, 0.79], [0.13, 0.87], [0.49, 0.51], [0.88, 0.12], [0.48, 0.52], [0.46, 0.54], [0.48, 0.52], [0.0, 1.01], [0.22, 0.78], [0.72, 0.28], [0.71, 0.29], [0.62, 0.38], [0.32, 0.68], [1.17, 0.0], [0.11, 0.89], [0.86, 0.14], [0.71, 0.29], [0.77, 0.23], [0.66, 0.34], [1.17, 0.0], [0.56, 0.44], [0.98, 0.02], [0.86, 0.14], [0.85, 0.15], [0.83, 0.17], [0.3, 0.7], [0.74, 0.26], [1.06, 0.0], [0.94, 0.06], [0.92, 0.08], [0.99, 0.01], [0.52, 0.48], [0.55, 0.45], [1.08, 0.0], [0.96, 0.04], [0.95, 0.05], [0.8, 0.2], [1.01, 0.0], [0.82, 0.18], [1.08, 0.0], [1.02, 0.0], [0.97, 0.03], [0.63, 0.37], [1.17, 0.0], [0.77, 0.23], [1.09, 0.0]]</td>\n",
       "      <td id=\"T_bd49a_row24_col7\" class=\"data row24 col7\" >[[0.0, 0.03, 0.79, 0.2], [0.38, 0.01, 0.0, 0.66]]</td>\n",
       "      <td id=\"T_bd49a_row24_col8\" class=\"data row24 col8\" >[0.22]</td>\n",
       "    </tr>\n",
       "    <tr>\n",
       "      <td id=\"T_bd49a_row25_col0\" class=\"data row25 col0\" >n15</td>\n",
       "      <td id=\"T_bd49a_row25_col1\" class=\"data row25 col1\" >Child</td>\n",
       "      <td id=\"T_bd49a_row25_col2\" class=\"data row25 col2\" >None</td>\n",
       "      <td id=\"T_bd49a_row25_col3\" class=\"data row25 col3\" >22612</td>\n",
       "      <td id=\"T_bd49a_row25_col4\" class=\"data row25 col4\" >0.400000</td>\n",
       "      <td id=\"T_bd49a_row25_col5\" class=\"data row25 col5\" >{1: 0.05, 2: 0.04, 3: 0.75, 4: 0.15}</td>\n",
       "      <td id=\"T_bd49a_row25_col6\" class=\"data row25 col6\" >[[0.96, 0.04], [0.79, 0.21], [0.84, 0.16], [0.22, 0.78], [0.65, 0.35], [0.0, 1.0]]</td>\n",
       "      <td id=\"T_bd49a_row25_col7\" class=\"data row25 col7\" >[[0.04, 0.05, 0.91, 0.0], [0.01, 0.03, 0.48, 0.48]]</td>\n",
       "      <td id=\"T_bd49a_row25_col8\" class=\"data row25 col8\" >[0.01]</td>\n",
       "    </tr>\n",
       "    <tr>\n",
       "      <td id=\"T_bd49a_row26_col0\" class=\"data row26 col0\" >n14</td>\n",
       "      <td id=\"T_bd49a_row26_col1\" class=\"data row26 col1\" >Parent</td>\n",
       "      <td id=\"T_bd49a_row26_col2\" class=\"data row26 col2\" >car_ownership__faretype in ('car_ownership0faretype1', 'car_ownership0faretype2', 'car_ownership0faretype3', 'car_ownership0faretype4', 'car_ownership0faretype5', 'car_ownership1faretype3', 'car_ownership1faretype4', 'car_ownership2faretype2')</td>\n",
       "      <td id=\"T_bd49a_row26_col3\" class=\"data row26 col3\" >2393</td>\n",
       "      <td id=\"T_bd49a_row26_col4\" class=\"data row26 col4\" >0.660000</td>\n",
       "      <td id=\"T_bd49a_row26_col5\" class=\"data row26 col5\" >{1: 0.36, 2: 0.05, 3: 0.42, 4: 0.17}</td>\n",
       "      <td id=\"T_bd49a_row26_col6\" class=\"data row26 col6\" >[[0.58, 0.42], [0.75, 0.25], [0.9, 0.1], [0.59, 0.41], [0.9, 0.1], [0.25, 0.75], [0.45, 0.55], [0.56, 0.44], [0.52, 0.48], [0.35, 0.65], [0.22, 0.78], [1.19, 0.0], [0.0, 1.05], [0.17, 0.83], [0.44, 0.56]]</td>\n",
       "      <td id=\"T_bd49a_row26_col7\" class=\"data row26 col7\" >[[0.22, 0.02, 0.8, 0.0], [0.46, 0.07, 0.0, 0.5]]</td>\n",
       "      <td id=\"T_bd49a_row26_col8\" class=\"data row26 col8\" >[0.17]</td>\n",
       "    </tr>\n",
       "    <tr>\n",
       "      <td id=\"T_bd49a_row27_col0\" class=\"data row27 col0\" >n28</td>\n",
       "      <td id=\"T_bd49a_row27_col1\" class=\"data row27 col1\" >Child</td>\n",
       "      <td id=\"T_bd49a_row27_col2\" class=\"data row27 col2\" >None</td>\n",
       "      <td id=\"T_bd49a_row27_col3\" class=\"data row27 col3\" >762</td>\n",
       "      <td id=\"T_bd49a_row27_col4\" class=\"data row27 col4\" >0.680000</td>\n",
       "      <td id=\"T_bd49a_row27_col5\" class=\"data row27 col5\" >{1: 0.3, 2: 0.05, 3: 0.24, 4: 0.41}</td>\n",
       "      <td id=\"T_bd49a_row27_col6\" class=\"data row27 col6\" >[]</td>\n",
       "      <td id=\"T_bd49a_row27_col7\" class=\"data row27 col7\" >[]</td>\n",
       "      <td id=\"T_bd49a_row27_col8\" class=\"data row27 col8\" >[]</td>\n",
       "    </tr>\n",
       "    <tr>\n",
       "      <td id=\"T_bd49a_row28_col0\" class=\"data row28 col0\" >n29</td>\n",
       "      <td id=\"T_bd49a_row28_col1\" class=\"data row28 col1\" >Parent</td>\n",
       "      <td id=\"T_bd49a_row28_col2\" class=\"data row28 col2\" >bus_scale__driving_license in ('bus_scale0.0driving_license0', 'bus_scale0.0driving_license1', 'bus_scale0.5driving_license0')</td>\n",
       "      <td id=\"T_bd49a_row28_col3\" class=\"data row28 col3\" >1631</td>\n",
       "      <td id=\"T_bd49a_row28_col4\" class=\"data row28 col4\" >0.590000</td>\n",
       "      <td id=\"T_bd49a_row28_col5\" class=\"data row28 col5\" >{1: 0.39, 2: 0.05, 3: 0.51, 4: 0.06}</td>\n",
       "      <td id=\"T_bd49a_row28_col6\" class=\"data row28 col6\" >[[0.81, 0.19], [0.92, 0.08], [0.61, 0.39], [0.42, 0.58], [0.27, 0.73], [0.0, 1.0]]</td>\n",
       "      <td id=\"T_bd49a_row28_col7\" class=\"data row28 col7\" >[[0.21, 0.0, 0.77, 0.02], [0.58, 0.08, 0.28, 0.06]]</td>\n",
       "      <td id=\"T_bd49a_row28_col8\" class=\"data row28 col8\" >[0.02]</td>\n",
       "    </tr>\n",
       "    <tr>\n",
       "      <td id=\"T_bd49a_row29_col0\" class=\"data row29 col0\" >n58</td>\n",
       "      <td id=\"T_bd49a_row29_col1\" class=\"data row29 col1\" >Child</td>\n",
       "      <td id=\"T_bd49a_row29_col2\" class=\"data row29 col2\" >None</td>\n",
       "      <td id=\"T_bd49a_row29_col3\" class=\"data row29 col3\" >882</td>\n",
       "      <td id=\"T_bd49a_row29_col4\" class=\"data row29 col4\" >0.610000</td>\n",
       "      <td id=\"T_bd49a_row29_col5\" class=\"data row29 col5\" >{1: 0.5, 2: 0.07, 3: 0.36, 4: 0.07}</td>\n",
       "      <td id=\"T_bd49a_row29_col6\" class=\"data row29 col6\" >[]</td>\n",
       "      <td id=\"T_bd49a_row29_col7\" class=\"data row29 col7\" >[]</td>\n",
       "      <td id=\"T_bd49a_row29_col8\" class=\"data row29 col8\" >[]</td>\n",
       "    </tr>\n",
       "    <tr>\n",
       "      <td id=\"T_bd49a_row30_col0\" class=\"data row30 col0\" >n59</td>\n",
       "      <td id=\"T_bd49a_row30_col1\" class=\"data row30 col1\" >Child</td>\n",
       "      <td id=\"T_bd49a_row30_col2\" class=\"data row30 col2\" >None</td>\n",
       "      <td id=\"T_bd49a_row30_col3\" class=\"data row30 col3\" >749</td>\n",
       "      <td id=\"T_bd49a_row30_col4\" class=\"data row30 col4\" >0.470000</td>\n",
       "      <td id=\"T_bd49a_row30_col5\" class=\"data row30 col5\" >{1: 0.26, 2: 0.02, 3: 0.68, 4: 0.05}</td>\n",
       "      <td id=\"T_bd49a_row30_col6\" class=\"data row30 col6\" >[]</td>\n",
       "      <td id=\"T_bd49a_row30_col7\" class=\"data row30 col7\" >[]</td>\n",
       "      <td id=\"T_bd49a_row30_col8\" class=\"data row30 col8\" >[]</td>\n",
       "    </tr>\n",
       "    <tr>\n",
       "      <td id=\"T_bd49a_row31_col0\" class=\"data row31 col0\" >n15</td>\n",
       "      <td id=\"T_bd49a_row31_col1\" class=\"data row31 col1\" >Parent</td>\n",
       "      <td id=\"T_bd49a_row31_col2\" class=\"data row31 col2\" >car_ownership__drivingcharge_group in ('car_ownership0high_charge', 'car_ownership0low_charge', 'car_ownership1high_charge', 'car_ownership2high_charge')</td>\n",
       "      <td id=\"T_bd49a_row31_col3\" class=\"data row31 col3\" >22612</td>\n",
       "      <td id=\"T_bd49a_row31_col4\" class=\"data row31 col4\" >0.400000</td>\n",
       "      <td id=\"T_bd49a_row31_col5\" class=\"data row31 col5\" >{1: 0.05, 2: 0.04, 3: 0.75, 4: 0.15}</td>\n",
       "      <td id=\"T_bd49a_row31_col6\" class=\"data row31 col6\" >[[0.96, 0.04], [0.79, 0.21], [0.84, 0.16], [0.22, 0.78], [0.65, 0.35], [0.0, 1.0]]</td>\n",
       "      <td id=\"T_bd49a_row31_col7\" class=\"data row31 col7\" >[[0.04, 0.05, 0.91, 0.0], [0.01, 0.03, 0.48, 0.48]]</td>\n",
       "      <td id=\"T_bd49a_row31_col8\" class=\"data row31 col8\" >[0.01]</td>\n",
       "    </tr>\n",
       "  </tbody>\n",
       "</table>\n"
      ],
      "text/plain": [
       "<pandas.io.formats.style.Styler at 0x18de80dfbe0>"
      ]
     },
     "execution_count": 22,
     "metadata": {},
     "output_type": "execute_result"
    }
   ],
   "source": [
    "alpha, pruned_table = cart.pruning(features_test, n_features_test, y_test_list)\n",
    "pruned_table.style.hide_index()"
   ]
  },
  {
   "cell_type": "code",
   "execution_count": 23,
   "metadata": {},
   "outputs": [],
   "source": [
    "#n_features_test = n_features_test.iloc[:10,]\n",
    "#print(n_features_test.shape)\n",
    "#example = n_features_test.iloc[0,]\n",
    "#example = dict(example)\n",
    "#example[\"trafficperc_group\"] = \"4high_traffic\"\n",
    "#example\n",
    "#\n",
    "#n_features_test.iloc[0,] = example"
   ]
  },
  {
   "cell_type": "code",
   "execution_count": 24,
   "metadata": {},
   "outputs": [],
   "source": [
    "predictions = []\n",
    "\n",
    "for i in range(n_features_test.shape[0]):\n",
    "    d = dict(n_features_test.iloc[i,])\n",
    "    cart.pred_x(my_tree, d, cart.get_all_node(), cart.get_leaf())\n",
    "    predictions.append(cart.prediction_cat[-1])\n"
   ]
  },
  {
   "cell_type": "code",
   "execution_count": 25,
   "metadata": {},
   "outputs": [
    {
     "data": {
      "text/plain": [
       "26.53"
      ]
     },
     "execution_count": 25,
     "metadata": {},
     "output_type": "execute_result"
    }
   ],
   "source": [
    "y_test_list = y_test[\"travel_mode\"].values.tolist()\n",
    "\n",
    "missclass = 0 \n",
    "\n",
    "for i in range(len(predictions)):\n",
    "    if predictions[i] != y_test_list[i]:\n",
    "        missclass += 1 \n",
    "\n",
    "round(missclass / len(y_test_list) * 100, 2)"
   ]
  },
  {
   "cell_type": "markdown",
   "metadata": {},
   "source": [
    "27.61 non combination\n",
    "\n",
    "26.53 combination"
   ]
  },
  {
   "cell_type": "code",
   "execution_count": 26,
   "metadata": {},
   "outputs": [
    {
     "data": {
      "text/plain": [
       "('Accuracy', 59.71, 0.0, 70.94, 85.4)"
      ]
     },
     "execution_count": 26,
     "metadata": {},
     "output_type": "execute_result"
    }
   ],
   "source": [
    "missclass1 = 0 \n",
    "class1 = 0\n",
    "missclass2 = 0 \n",
    "class2 = 0\n",
    "missclass3 = 0 \n",
    "class3 = 0\n",
    "missclass4 = 0 \n",
    "class4 = 0\n",
    "\n",
    "for i in range(len(predictions)):\n",
    "    if y_test_list[i] ==1:\n",
    "        class1 += 1\n",
    "        if predictions[i] != y_test_list[i]:\n",
    "            missclass1 += 1 \n",
    "    if y_test_list[i] ==2:\n",
    "        class2 += 1\n",
    "        if predictions[i] != y_test_list[i]:\n",
    "            missclass2 += 1 \n",
    "    if y_test_list[i] ==3:\n",
    "        class3 += 1\n",
    "        if predictions[i] != y_test_list[i]:\n",
    "            missclass3 += 1 \n",
    "    if y_test_list[i] ==4:\n",
    "        class4 += 1\n",
    "        if predictions[i] != y_test_list[i]:\n",
    "            missclass4 += 1 \n",
    "\n",
    "\n",
    "\"Accuracy\", round((1-missclass1 / class1) * 100, 2), round((1-missclass2 / class2) * 100, 2), round((1-missclass3 / class3) * 100, 2), round((1-missclass4 / class4 )* 100, 2)"
   ]
  }
 ],
 "metadata": {
  "kernelspec": {
   "display_name": "base",
   "language": "python",
   "name": "python3"
  },
  "language_info": {
   "codemirror_mode": {
    "name": "ipython",
    "version": 3
   },
   "file_extension": ".py",
   "mimetype": "text/x-python",
   "name": "python",
   "nbconvert_exporter": "python",
   "pygments_lexer": "ipython3",
   "version": "3.8.15"
  },
  "orig_nbformat": 4
 },
 "nbformat": 4,
 "nbformat_minor": 2
}
