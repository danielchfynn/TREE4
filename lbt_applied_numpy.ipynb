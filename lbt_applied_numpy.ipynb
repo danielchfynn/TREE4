{
 "cells": [
  {
   "cell_type": "code",
   "execution_count": 1,
   "metadata": {},
   "outputs": [],
   "source": [
    "import pandas as pd\n",
    "import numpy as np\n",
    "\n",
    "from TREEplus import *"
   ]
  },
  {
   "cell_type": "code",
   "execution_count": 2,
   "metadata": {},
   "outputs": [
    {
     "name": "stdout",
     "output_type": "stream",
     "text": [
      "(81086, 32)\n"
     ]
    },
    {
     "data": {
      "text/html": [
       "<div>\n",
       "<style scoped>\n",
       "    .dataframe tbody tr th:only-of-type {\n",
       "        vertical-align: middle;\n",
       "    }\n",
       "\n",
       "    .dataframe tbody tr th {\n",
       "        vertical-align: top;\n",
       "    }\n",
       "\n",
       "    .dataframe thead th {\n",
       "        text-align: right;\n",
       "    }\n",
       "</style>\n",
       "<table border=\"1\" class=\"dataframe\">\n",
       "  <thead>\n",
       "    <tr style=\"text-align: right;\">\n",
       "      <th></th>\n",
       "      <th>trip_id</th>\n",
       "      <th>household_id</th>\n",
       "      <th>person_n</th>\n",
       "      <th>trip_n</th>\n",
       "      <th>travel_mode</th>\n",
       "      <th>purpose</th>\n",
       "      <th>fueltype</th>\n",
       "      <th>faretype</th>\n",
       "      <th>bus_scale</th>\n",
       "      <th>survey_year</th>\n",
       "      <th>travel_year</th>\n",
       "      <th>travel_month</th>\n",
       "      <th>travel_date</th>\n",
       "      <th>day_of_week</th>\n",
       "      <th>start_time</th>\n",
       "      <th>age</th>\n",
       "      <th>female</th>\n",
       "      <th>driving_license</th>\n",
       "      <th>car_ownership</th>\n",
       "      <th>distance</th>\n",
       "      <th>dur_walking</th>\n",
       "      <th>dur_cycling</th>\n",
       "      <th>dur_pt_access</th>\n",
       "      <th>dur_pt_rail</th>\n",
       "      <th>dur_pt_bus</th>\n",
       "      <th>dur_pt_int</th>\n",
       "      <th>pt_interchanges</th>\n",
       "      <th>dur_driving</th>\n",
       "      <th>cost_transit</th>\n",
       "      <th>cost_driving_fuel</th>\n",
       "      <th>cost_driving_ccharge</th>\n",
       "      <th>driving_traffic_percent</th>\n",
       "    </tr>\n",
       "  </thead>\n",
       "  <tbody>\n",
       "    <tr>\n",
       "      <th>0</th>\n",
       "      <td>0</td>\n",
       "      <td>0</td>\n",
       "      <td>0</td>\n",
       "      <td>0</td>\n",
       "      <td>4</td>\n",
       "      <td>3</td>\n",
       "      <td>1</td>\n",
       "      <td>1</td>\n",
       "      <td>1.0</td>\n",
       "      <td>1</td>\n",
       "      <td>2012</td>\n",
       "      <td>4</td>\n",
       "      <td>1</td>\n",
       "      <td>7</td>\n",
       "      <td>10.000000</td>\n",
       "      <td>56</td>\n",
       "      <td>1</td>\n",
       "      <td>1</td>\n",
       "      <td>2</td>\n",
       "      <td>778</td>\n",
       "      <td>0.218056</td>\n",
       "      <td>0.092222</td>\n",
       "      <td>0.134444</td>\n",
       "      <td>0.0</td>\n",
       "      <td>0.016667</td>\n",
       "      <td>0.0</td>\n",
       "      <td>0</td>\n",
       "      <td>0.052222</td>\n",
       "      <td>1.5</td>\n",
       "      <td>0.14</td>\n",
       "      <td>0.0</td>\n",
       "      <td>0.111702</td>\n",
       "    </tr>\n",
       "    <tr>\n",
       "      <th>1</th>\n",
       "      <td>1</td>\n",
       "      <td>0</td>\n",
       "      <td>0</td>\n",
       "      <td>1</td>\n",
       "      <td>4</td>\n",
       "      <td>3</td>\n",
       "      <td>1</td>\n",
       "      <td>1</td>\n",
       "      <td>1.0</td>\n",
       "      <td>1</td>\n",
       "      <td>2012</td>\n",
       "      <td>4</td>\n",
       "      <td>1</td>\n",
       "      <td>7</td>\n",
       "      <td>13.000000</td>\n",
       "      <td>56</td>\n",
       "      <td>1</td>\n",
       "      <td>1</td>\n",
       "      <td>2</td>\n",
       "      <td>778</td>\n",
       "      <td>0.188889</td>\n",
       "      <td>0.061944</td>\n",
       "      <td>0.109444</td>\n",
       "      <td>0.0</td>\n",
       "      <td>0.055556</td>\n",
       "      <td>0.0</td>\n",
       "      <td>0</td>\n",
       "      <td>0.059444</td>\n",
       "      <td>1.5</td>\n",
       "      <td>0.15</td>\n",
       "      <td>0.0</td>\n",
       "      <td>0.112150</td>\n",
       "    </tr>\n",
       "    <tr>\n",
       "      <th>2</th>\n",
       "      <td>2</td>\n",
       "      <td>0</td>\n",
       "      <td>0</td>\n",
       "      <td>2</td>\n",
       "      <td>4</td>\n",
       "      <td>3</td>\n",
       "      <td>1</td>\n",
       "      <td>1</td>\n",
       "      <td>1.0</td>\n",
       "      <td>1</td>\n",
       "      <td>2012</td>\n",
       "      <td>4</td>\n",
       "      <td>1</td>\n",
       "      <td>7</td>\n",
       "      <td>17.000000</td>\n",
       "      <td>56</td>\n",
       "      <td>1</td>\n",
       "      <td>1</td>\n",
       "      <td>2</td>\n",
       "      <td>4562</td>\n",
       "      <td>1.037778</td>\n",
       "      <td>0.355833</td>\n",
       "      <td>0.203056</td>\n",
       "      <td>0.0</td>\n",
       "      <td>0.210278</td>\n",
       "      <td>0.0</td>\n",
       "      <td>0</td>\n",
       "      <td>0.236667</td>\n",
       "      <td>1.5</td>\n",
       "      <td>0.79</td>\n",
       "      <td>0.0</td>\n",
       "      <td>0.203052</td>\n",
       "    </tr>\n",
       "    <tr>\n",
       "      <th>3</th>\n",
       "      <td>3</td>\n",
       "      <td>0</td>\n",
       "      <td>0</td>\n",
       "      <td>3</td>\n",
       "      <td>4</td>\n",
       "      <td>3</td>\n",
       "      <td>1</td>\n",
       "      <td>1</td>\n",
       "      <td>1.0</td>\n",
       "      <td>1</td>\n",
       "      <td>2012</td>\n",
       "      <td>4</td>\n",
       "      <td>1</td>\n",
       "      <td>7</td>\n",
       "      <td>17.350000</td>\n",
       "      <td>56</td>\n",
       "      <td>1</td>\n",
       "      <td>1</td>\n",
       "      <td>2</td>\n",
       "      <td>4562</td>\n",
       "      <td>1.039444</td>\n",
       "      <td>0.384444</td>\n",
       "      <td>0.205556</td>\n",
       "      <td>0.0</td>\n",
       "      <td>0.258611</td>\n",
       "      <td>0.0</td>\n",
       "      <td>0</td>\n",
       "      <td>0.233333</td>\n",
       "      <td>1.5</td>\n",
       "      <td>0.78</td>\n",
       "      <td>0.0</td>\n",
       "      <td>0.160714</td>\n",
       "    </tr>\n",
       "    <tr>\n",
       "      <th>4</th>\n",
       "      <td>4</td>\n",
       "      <td>0</td>\n",
       "      <td>1</td>\n",
       "      <td>2</td>\n",
       "      <td>4</td>\n",
       "      <td>3</td>\n",
       "      <td>1</td>\n",
       "      <td>4</td>\n",
       "      <td>1.0</td>\n",
       "      <td>1</td>\n",
       "      <td>2012</td>\n",
       "      <td>4</td>\n",
       "      <td>1</td>\n",
       "      <td>7</td>\n",
       "      <td>19.583333</td>\n",
       "      <td>54</td>\n",
       "      <td>0</td>\n",
       "      <td>1</td>\n",
       "      <td>2</td>\n",
       "      <td>4562</td>\n",
       "      <td>1.037778</td>\n",
       "      <td>0.355833</td>\n",
       "      <td>0.203056</td>\n",
       "      <td>0.0</td>\n",
       "      <td>0.189444</td>\n",
       "      <td>0.0</td>\n",
       "      <td>0</td>\n",
       "      <td>0.229167</td>\n",
       "      <td>1.5</td>\n",
       "      <td>0.78</td>\n",
       "      <td>0.0</td>\n",
       "      <td>0.130909</td>\n",
       "    </tr>\n",
       "  </tbody>\n",
       "</table>\n",
       "</div>"
      ],
      "text/plain": [
       "   trip_id  household_id  person_n  trip_n  travel_mode  purpose  fueltype  \\\n",
       "0        0             0         0       0            4        3         1   \n",
       "1        1             0         0       1            4        3         1   \n",
       "2        2             0         0       2            4        3         1   \n",
       "3        3             0         0       3            4        3         1   \n",
       "4        4             0         1       2            4        3         1   \n",
       "\n",
       "   faretype  bus_scale  survey_year  travel_year  travel_month  travel_date  \\\n",
       "0         1        1.0            1         2012             4            1   \n",
       "1         1        1.0            1         2012             4            1   \n",
       "2         1        1.0            1         2012             4            1   \n",
       "3         1        1.0            1         2012             4            1   \n",
       "4         4        1.0            1         2012             4            1   \n",
       "\n",
       "   day_of_week  start_time  age  female  driving_license  car_ownership  \\\n",
       "0            7   10.000000   56       1                1              2   \n",
       "1            7   13.000000   56       1                1              2   \n",
       "2            7   17.000000   56       1                1              2   \n",
       "3            7   17.350000   56       1                1              2   \n",
       "4            7   19.583333   54       0                1              2   \n",
       "\n",
       "   distance  dur_walking  dur_cycling  dur_pt_access  dur_pt_rail  dur_pt_bus  \\\n",
       "0       778     0.218056     0.092222       0.134444          0.0    0.016667   \n",
       "1       778     0.188889     0.061944       0.109444          0.0    0.055556   \n",
       "2      4562     1.037778     0.355833       0.203056          0.0    0.210278   \n",
       "3      4562     1.039444     0.384444       0.205556          0.0    0.258611   \n",
       "4      4562     1.037778     0.355833       0.203056          0.0    0.189444   \n",
       "\n",
       "   dur_pt_int  pt_interchanges  dur_driving  cost_transit  cost_driving_fuel  \\\n",
       "0         0.0                0     0.052222           1.5               0.14   \n",
       "1         0.0                0     0.059444           1.5               0.15   \n",
       "2         0.0                0     0.236667           1.5               0.79   \n",
       "3         0.0                0     0.233333           1.5               0.78   \n",
       "4         0.0                0     0.229167           1.5               0.78   \n",
       "\n",
       "   cost_driving_ccharge  driving_traffic_percent  \n",
       "0                   0.0                 0.111702  \n",
       "1                   0.0                 0.112150  \n",
       "2                   0.0                 0.203052  \n",
       "3                   0.0                 0.160714  \n",
       "4                   0.0                 0.130909  "
      ]
     },
     "execution_count": 2,
     "metadata": {},
     "output_type": "execute_result"
    }
   ],
   "source": [
    "pd.options.display.max_columns = None\n",
    "dataframe = pd.read_table('lpmc.dat')\n",
    "print(dataframe.shape)\n",
    "dataframe.head()"
   ]
  },
  {
   "cell_type": "code",
   "execution_count": 3,
   "metadata": {},
   "outputs": [],
   "source": [
    "#binning age\n",
    "dataframe = pd.read_table('lpmc.dat')\n",
    "\n",
    "groupDict={'0-18':0,'19-30':0,'31-65':0, '66+': 0}\n",
    "\n",
    "for i in dataframe['age']:\n",
    "    if i>=0 and i<=10:\n",
    "        groupDict['0-18']+=1\n",
    "    elif i>=19 and i<=30:\n",
    "        groupDict['19-30']+=1\n",
    "    elif i>=31 and i<=65:\n",
    "        groupDict['31-65']+=1\n",
    "    else:\n",
    "        groupDict['66+']+=1\n",
    "\n",
    "dataframe.loc[dataframe['age']<=18, 'age_group'] = '0-18'\n",
    "dataframe.loc[dataframe['age'].between(19,30), 'age_group'] = '19-30'\n",
    "dataframe.loc[dataframe['age'].between(31,65), 'age_group'] = '31-65'\n",
    "dataframe.loc[dataframe['age']>65, 'age_group'] = '66+'\n",
    "dataframe.drop(['age'], axis= 1, inplace = True)\n",
    "\n",
    "\n",
    "#binning distance\n",
    "\n",
    "dataframe.loc[dataframe['distance']< 658.50, 'distance_group'] = 'distance01'\n",
    "dataframe.loc[dataframe['distance'].between(658.50,861.49), 'distance_group'] = 'distance02'\n",
    "dataframe.loc[dataframe['distance'].between(861.50,1214.49), 'distance_group'] = 'distance03'\n",
    "dataframe.loc[dataframe['distance'].between(1214.50,1514.49 ), 'distance_group'] = 'distance04'\n",
    "dataframe.loc[dataframe['distance'].between(1514.50, 2156.49), 'distance_group'] = 'distance05'\n",
    "dataframe.loc[dataframe['distance'].between(2156.50, 2759.49), 'distance_group'] = 'distance06'\n",
    "dataframe.loc[dataframe['distance'].between(2759.50, 4391.49), 'distance_group'] = 'distance07'\n",
    "dataframe.loc[dataframe['distance'].between(4391.50, 5369.49), 'distance_group'] = 'distance08'\n",
    "dataframe.loc[dataframe['distance'].between(5369.50, 10087.49), 'distance_group'] = 'distance09'\n",
    "dataframe.loc[dataframe['distance'].between(10087.50, 14695.49), 'distance_group'] = 'distance10'\n",
    "dataframe.loc[dataframe['distance']>=14695.50, 'distance_group'] = 'distance11'\n",
    "dataframe.drop('distance', axis = 1, inplace = True)\n",
    "\n",
    "#binning start time\n",
    "\n",
    "dataframe.loc[dataframe['start_time']<8.091666, 'starttime_group'] = 'early_morning'\n",
    "dataframe.loc[dataframe['start_time'].between(8.091666,10.00833320), 'starttime_group'] = 'morning'\n",
    "dataframe.loc[dataframe['start_time'].between(10.008333211,18.50833320), 'starttime_group'] = 'afternoon'\n",
    "dataframe.loc[dataframe['start_time']> 18.50833321, 'starttime_group'] = 'evening'\n",
    "dataframe.drop('start_time', axis = 1, inplace = True)\n",
    "\n",
    "#binning cost transit\n",
    "\n",
    "dataframe.loc[dataframe['cost_transit']< 1.52499998, 'cost_group'] = 'low_cost'\n",
    "dataframe.loc[dataframe['cost_transit'].between(1.52499998,3.01999997), 'cost_group'] = 'medium_cost'\n",
    "dataframe.loc[dataframe['cost_transit']> 3.01999998, 'cost_group'] = 'high_cost'\n",
    "dataframe.drop('cost_transit', axis = 1, inplace = True)\n",
    "\n",
    "#binning cost_driving_Fuel\n",
    "\n",
    "dataframe.loc[dataframe['cost_driving_fuel']< 0.165, 'costdrivingfuel_group'] = 'costdrivingfuelgroup1'\n",
    "dataframe.loc[dataframe['cost_driving_fuel'].between(0.165,0.204), 'costdrivingfuel_group'] = 'costdrivingfuelgroup2'\n",
    "dataframe.loc[dataframe['cost_driving_fuel'].between(0.205,0.244), 'costdrivingfuel_group'] = 'costdrivingfuelgroup3'\n",
    "dataframe.loc[dataframe['cost_driving_fuel'].between(0.245, 0.294), 'costdrivingfuel_group'] = 'costdrivingfuelgroup4'\n",
    "dataframe.loc[dataframe['cost_driving_fuel'].between(0.295, 0.354), 'costdrivingfuel_group'] = 'costdrivingfuelgroup5'\n",
    "dataframe.loc[dataframe['cost_driving_fuel'].between(0.355, 0.44499998), 'costdrivingfuel_group'] = 'costdrivingfuelgroup6'\n",
    "dataframe.loc[dataframe['cost_driving_fuel'].between(0.44499999, 0.83499997), 'costdrivingfuel_group'] = 'costdrivingfuelgroup7'\n",
    "dataframe.loc[dataframe['cost_driving_fuel'].between(0.83499998, 1.17499994), 'costdrivingfuel_group'] = 'costdrivingfuelgroup8'\n",
    "dataframe.loc[dataframe['cost_driving_fuel'].between(1.17499995, 2.31499993), 'costdrivingfuel_group'] = 'costdrivingfuelgroup9'\n",
    "dataframe.loc[dataframe['cost_driving_fuel']> 2.31499994, 'costdrivingfuel_group'] = 'costdrivingfuelgroup10'\n",
    "dataframe.drop('cost_driving_fuel', axis = 1, inplace = True)\n",
    "\n",
    "#binning driving traddic percent\n",
    "\n",
    "dataframe.loc[dataframe['driving_traffic_percent']< 0.24422751, 'trafficperc_group'] = '0low_traffic'\n",
    "dataframe.loc[dataframe['driving_traffic_percent'].between(0.24422751,0.36449698), 'trafficperc_group'] = '1mediumlow_traffic'\n",
    "dataframe.loc[dataframe['driving_traffic_percent'].between(0.36449699,0.49620750), 'trafficperc_group'] = '2medium_traffic'\n",
    "dataframe.loc[dataframe['driving_traffic_percent'].between(0.49620751, 0.57161700), 'trafficperc_group'] = '3mediumhigh_traffic'\n",
    "dataframe.loc[dataframe['driving_traffic_percent']> 0.57161701, 'trafficperc_group'] = '4high_traffic'\n",
    "dataframe.drop('driving_traffic_percent', axis = 1, inplace = True)\n",
    "\n",
    "#binning cost_driving_ccharge\n",
    "\n",
    "dataframe.loc[dataframe['cost_driving_ccharge']< 5.25, 'drivingcharge_group'] = 'low_charge'\n",
    "dataframe.loc[dataframe['cost_driving_ccharge']> 5.25, 'drivingcharge_group'] = 'high_charge'\n",
    "dataframe.drop('cost_driving_ccharge', axis = 1, inplace = True)"
   ]
  },
  {
   "cell_type": "code",
   "execution_count": 4,
   "metadata": {},
   "outputs": [
    {
     "name": "stdout",
     "output_type": "stream",
     "text": [
      "travel_mode {1, 2, 3, 4}\n",
      "purpose {1, 2, 3, 4, 5}\n",
      "fueltype {1, 2, 3, 4, 5, 6}\n",
      "faretype {1, 2, 3, 4, 5}\n",
      "bus_scale {0.0, 1.0, 0.5}\n",
      "survey_year {1, 2, 3}\n",
      "travel_year {2012, 2013, 2014, 2015}\n",
      "travel_month {1, 2, 3, 4, 5, 6, 7, 8, 9, 10, 11, 12}\n",
      "day_of_week {1, 2, 3, 4, 5, 6, 7}\n",
      "female {0, 1}\n",
      "driving_license {0, 1}\n",
      "car_ownership {0, 1, 2}\n",
      "pt_interchanges {0, 1, 2, 3, 4}\n",
      "age_group {'31-65', '0-18', '19-30', '66+'}\n",
      "distance_group {'distance09', 'distance10', 'distance04', 'distance06', 'distance08', 'distance03', 'distance01', 'distance11', 'distance02', 'distance07', 'distance05'}\n",
      "starttime_group {'early_morning', 'morning', 'evening', 'afternoon'}\n",
      "cost_group {'low_cost', 'medium_cost', 'high_cost'}\n",
      "costdrivingfuel_group {'costdrivingfuelgroup5', 'costdrivingfuelgroup6', 'costdrivingfuelgroup2', 'costdrivingfuelgroup8', 'costdrivingfuelgroup1', 'costdrivingfuelgroup7', 'costdrivingfuelgroup10', 'costdrivingfuelgroup3', 'costdrivingfuelgroup9', 'costdrivingfuelgroup4'}\n",
      "trafficperc_group {'2medium_traffic', '1mediumlow_traffic', '4high_traffic', '0low_traffic', '3mediumhigh_traffic'}\n",
      "drivingcharge_group {'high_charge', 'low_charge'}\n"
     ]
    }
   ],
   "source": [
    "for i in dataframe.columns:\n",
    "      if i not in ['trip_id', 'household_id', 'person_n', 'trip_n', 'travel_date', 'dur_pt_int',\n",
    "          'dur_pt_rail', 'dur_pt_access', 'dur_pt_bus', 'dur_walking', 'dur_cycling', 'dur_driving']:\n",
    "            print(i, set(dataframe[i]))"
   ]
  },
  {
   "cell_type": "code",
   "execution_count": 5,
   "metadata": {},
   "outputs": [
    {
     "name": "stdout",
     "output_type": "stream",
     "text": [
      "{2012, 2013, 2014, 2015}\n",
      "Number of columns dropped: 12\n",
      "Index(['purpose', 'fueltype', 'faretype', 'bus_scale', 'travel_month',\n",
      "       'day_of_week', 'female', 'driving_license', 'car_ownership',\n",
      "       'pt_interchanges', 'age_group', 'distance_group', 'starttime_group',\n",
      "       'cost_group', 'costdrivingfuel_group', 'trafficperc_group',\n",
      "       'drivingcharge_group'],\n",
      "      dtype='object')\n"
     ]
    }
   ],
   "source": [
    "y = dataframe[['travel_mode', 'travel_year']]\n",
    "X = dataframe.drop(['travel_mode', 'survey_year'], axis = 1)\n",
    "\n",
    "print(set(X[\"travel_year\"]))\n",
    "\n",
    "a = X.loc[X[\"travel_year\"]==2015]\n",
    "#creating test set \n",
    "\n",
    "X_test= X.query('travel_year == 2015') #creates a subset, like this: X.loc[X[\"travel_year\"]==2015]\n",
    "y_test = y.query('travel_year == 2015')\n",
    "\n",
    "X_test = X_test.drop(['travel_year'], axis =1).copy()\n",
    "y_test = y_test.drop(['travel_year'], axis =1).copy()\n",
    "\n",
    "#create training set \n",
    "\n",
    "X_train_1 = X.query('travel_year == 2012')\n",
    "y_train_1 = y.query('travel_year == 2012')\n",
    "X_train_2 = X.query('travel_year == 2013')\n",
    "y_train_2 = y.query('travel_year == 2013')\n",
    "X_train_3 = X.query('travel_year == 2014')\n",
    "y_train_3 = y.query('travel_year == 2014')\n",
    "\n",
    "X_train = pd.concat([X_train_1, X_train_2, X_train_3])\n",
    "y_train = pd.concat([y_train_1, y_train_2, y_train_3])\n",
    "\n",
    "X_train = X_train.drop(['travel_year'], axis = 1)\n",
    "y_train = y_train.drop(['travel_year'], axis = 1)\n",
    "\n",
    "\n",
    "data = pd.concat([X_train, y_train], axis = 1).copy()\n",
    "#data = data_to_shuffle.sample(frac=1, random_state = 42).reset_index(drop=True) #sampling returning all, and resetting index , no seed?\n",
    "y_train = data['travel_mode']\n",
    "X_train = data.drop(['travel_mode'], axis = 1)\n",
    "\n",
    "#feature selection\n",
    "\n",
    "to_drop = ['trip_id', 'household_id', 'person_n', 'trip_n', 'travel_date', 'dur_pt_int',\n",
    "          'dur_pt_rail', 'dur_pt_access', 'dur_pt_bus', 'dur_walking', 'dur_cycling', 'dur_driving']\n",
    "print(f'Number of columns dropped: {len(to_drop)}')\n",
    "X_train.drop(to_drop, axis = 1, inplace = True)\n",
    "\n",
    "X_test.drop(to_drop, axis = 1, inplace = True)\n",
    "\n",
    "predictors = X_test.columns\n",
    "y = y_test #is the whole vector\n",
    "print(predictors)\n",
    "\n",
    "datatest = pd.concat([y_test, X_test], axis = 1).reset_index()\n",
    "datatest.drop('index', axis = 1, inplace = True)\n",
    "datatest.to_csv(\"data_test.csv\", index = False)\n",
    "\n",
    "datatraining = pd.concat([y_train, X_train], axis = 1).reset_index()\n",
    "datatraining.drop('index', axis = 1, inplace = True)\n",
    "datatraining.to_csv(\"data_training.csv\", index = False)\n"
   ]
  },
  {
   "cell_type": "code",
   "execution_count": 6,
   "metadata": {},
   "outputs": [
    {
     "data": {
      "text/plain": [
       "0    4\n",
       "1    4\n",
       "2    4\n",
       "3    4\n",
       "4    4\n",
       "5    4\n",
       "6    4\n",
       "7    4\n",
       "8    4\n",
       "9    4\n",
       "Name: travel_mode, dtype: int64"
      ]
     },
     "metadata": {},
     "output_type": "display_data"
    },
    {
     "name": "stdout",
     "output_type": "stream",
     "text": [
      "(76103, 17)\n"
     ]
    },
    {
     "data": {
      "text/html": [
       "<div>\n",
       "<style scoped>\n",
       "    .dataframe tbody tr th:only-of-type {\n",
       "        vertical-align: middle;\n",
       "    }\n",
       "\n",
       "    .dataframe tbody tr th {\n",
       "        vertical-align: top;\n",
       "    }\n",
       "\n",
       "    .dataframe thead th {\n",
       "        text-align: right;\n",
       "    }\n",
       "</style>\n",
       "<table border=\"1\" class=\"dataframe\">\n",
       "  <thead>\n",
       "    <tr style=\"text-align: right;\">\n",
       "      <th></th>\n",
       "      <th>purpose</th>\n",
       "      <th>fueltype</th>\n",
       "      <th>faretype</th>\n",
       "      <th>bus_scale</th>\n",
       "      <th>travel_month</th>\n",
       "      <th>day_of_week</th>\n",
       "      <th>female</th>\n",
       "      <th>driving_license</th>\n",
       "      <th>car_ownership</th>\n",
       "      <th>pt_interchanges</th>\n",
       "      <th>age_group</th>\n",
       "      <th>distance_group</th>\n",
       "      <th>starttime_group</th>\n",
       "      <th>cost_group</th>\n",
       "      <th>costdrivingfuel_group</th>\n",
       "      <th>trafficperc_group</th>\n",
       "      <th>drivingcharge_group</th>\n",
       "    </tr>\n",
       "  </thead>\n",
       "  <tbody>\n",
       "    <tr>\n",
       "      <th>0</th>\n",
       "      <td>3</td>\n",
       "      <td>1</td>\n",
       "      <td>1</td>\n",
       "      <td>1.0</td>\n",
       "      <td>4</td>\n",
       "      <td>7</td>\n",
       "      <td>1</td>\n",
       "      <td>1</td>\n",
       "      <td>2</td>\n",
       "      <td>0</td>\n",
       "      <td>31-65</td>\n",
       "      <td>distance02</td>\n",
       "      <td>morning</td>\n",
       "      <td>low_cost</td>\n",
       "      <td>costdrivingfuelgroup1</td>\n",
       "      <td>0low_traffic</td>\n",
       "      <td>low_charge</td>\n",
       "    </tr>\n",
       "    <tr>\n",
       "      <th>1</th>\n",
       "      <td>3</td>\n",
       "      <td>1</td>\n",
       "      <td>1</td>\n",
       "      <td>1.0</td>\n",
       "      <td>4</td>\n",
       "      <td>7</td>\n",
       "      <td>1</td>\n",
       "      <td>1</td>\n",
       "      <td>2</td>\n",
       "      <td>0</td>\n",
       "      <td>31-65</td>\n",
       "      <td>distance02</td>\n",
       "      <td>afternoon</td>\n",
       "      <td>low_cost</td>\n",
       "      <td>costdrivingfuelgroup1</td>\n",
       "      <td>0low_traffic</td>\n",
       "      <td>low_charge</td>\n",
       "    </tr>\n",
       "    <tr>\n",
       "      <th>2</th>\n",
       "      <td>3</td>\n",
       "      <td>1</td>\n",
       "      <td>1</td>\n",
       "      <td>1.0</td>\n",
       "      <td>4</td>\n",
       "      <td>7</td>\n",
       "      <td>1</td>\n",
       "      <td>1</td>\n",
       "      <td>2</td>\n",
       "      <td>0</td>\n",
       "      <td>31-65</td>\n",
       "      <td>distance08</td>\n",
       "      <td>afternoon</td>\n",
       "      <td>low_cost</td>\n",
       "      <td>costdrivingfuelgroup7</td>\n",
       "      <td>0low_traffic</td>\n",
       "      <td>low_charge</td>\n",
       "    </tr>\n",
       "    <tr>\n",
       "      <th>3</th>\n",
       "      <td>3</td>\n",
       "      <td>1</td>\n",
       "      <td>1</td>\n",
       "      <td>1.0</td>\n",
       "      <td>4</td>\n",
       "      <td>7</td>\n",
       "      <td>1</td>\n",
       "      <td>1</td>\n",
       "      <td>2</td>\n",
       "      <td>0</td>\n",
       "      <td>31-65</td>\n",
       "      <td>distance08</td>\n",
       "      <td>afternoon</td>\n",
       "      <td>low_cost</td>\n",
       "      <td>costdrivingfuelgroup7</td>\n",
       "      <td>0low_traffic</td>\n",
       "      <td>low_charge</td>\n",
       "    </tr>\n",
       "    <tr>\n",
       "      <th>4</th>\n",
       "      <td>3</td>\n",
       "      <td>1</td>\n",
       "      <td>4</td>\n",
       "      <td>1.0</td>\n",
       "      <td>4</td>\n",
       "      <td>7</td>\n",
       "      <td>0</td>\n",
       "      <td>1</td>\n",
       "      <td>2</td>\n",
       "      <td>0</td>\n",
       "      <td>31-65</td>\n",
       "      <td>distance08</td>\n",
       "      <td>evening</td>\n",
       "      <td>low_cost</td>\n",
       "      <td>costdrivingfuelgroup7</td>\n",
       "      <td>0low_traffic</td>\n",
       "      <td>low_charge</td>\n",
       "    </tr>\n",
       "    <tr>\n",
       "      <th>5</th>\n",
       "      <td>3</td>\n",
       "      <td>1</td>\n",
       "      <td>4</td>\n",
       "      <td>1.0</td>\n",
       "      <td>4</td>\n",
       "      <td>7</td>\n",
       "      <td>0</td>\n",
       "      <td>1</td>\n",
       "      <td>2</td>\n",
       "      <td>0</td>\n",
       "      <td>31-65</td>\n",
       "      <td>distance08</td>\n",
       "      <td>evening</td>\n",
       "      <td>low_cost</td>\n",
       "      <td>costdrivingfuelgroup7</td>\n",
       "      <td>0low_traffic</td>\n",
       "      <td>low_charge</td>\n",
       "    </tr>\n",
       "    <tr>\n",
       "      <th>6</th>\n",
       "      <td>3</td>\n",
       "      <td>1</td>\n",
       "      <td>3</td>\n",
       "      <td>0.0</td>\n",
       "      <td>4</td>\n",
       "      <td>7</td>\n",
       "      <td>1</td>\n",
       "      <td>0</td>\n",
       "      <td>2</td>\n",
       "      <td>0</td>\n",
       "      <td>0-18</td>\n",
       "      <td>distance02</td>\n",
       "      <td>morning</td>\n",
       "      <td>low_cost</td>\n",
       "      <td>costdrivingfuelgroup1</td>\n",
       "      <td>0low_traffic</td>\n",
       "      <td>low_charge</td>\n",
       "    </tr>\n",
       "    <tr>\n",
       "      <th>7</th>\n",
       "      <td>3</td>\n",
       "      <td>1</td>\n",
       "      <td>3</td>\n",
       "      <td>0.0</td>\n",
       "      <td>4</td>\n",
       "      <td>7</td>\n",
       "      <td>1</td>\n",
       "      <td>0</td>\n",
       "      <td>2</td>\n",
       "      <td>0</td>\n",
       "      <td>0-18</td>\n",
       "      <td>distance02</td>\n",
       "      <td>afternoon</td>\n",
       "      <td>low_cost</td>\n",
       "      <td>costdrivingfuelgroup1</td>\n",
       "      <td>0low_traffic</td>\n",
       "      <td>low_charge</td>\n",
       "    </tr>\n",
       "    <tr>\n",
       "      <th>8</th>\n",
       "      <td>3</td>\n",
       "      <td>1</td>\n",
       "      <td>3</td>\n",
       "      <td>0.0</td>\n",
       "      <td>4</td>\n",
       "      <td>7</td>\n",
       "      <td>1</td>\n",
       "      <td>0</td>\n",
       "      <td>2</td>\n",
       "      <td>0</td>\n",
       "      <td>0-18</td>\n",
       "      <td>distance08</td>\n",
       "      <td>afternoon</td>\n",
       "      <td>low_cost</td>\n",
       "      <td>costdrivingfuelgroup7</td>\n",
       "      <td>0low_traffic</td>\n",
       "      <td>low_charge</td>\n",
       "    </tr>\n",
       "    <tr>\n",
       "      <th>9</th>\n",
       "      <td>3</td>\n",
       "      <td>1</td>\n",
       "      <td>3</td>\n",
       "      <td>0.0</td>\n",
       "      <td>4</td>\n",
       "      <td>7</td>\n",
       "      <td>1</td>\n",
       "      <td>0</td>\n",
       "      <td>2</td>\n",
       "      <td>0</td>\n",
       "      <td>0-18</td>\n",
       "      <td>distance08</td>\n",
       "      <td>evening</td>\n",
       "      <td>low_cost</td>\n",
       "      <td>costdrivingfuelgroup7</td>\n",
       "      <td>0low_traffic</td>\n",
       "      <td>low_charge</td>\n",
       "    </tr>\n",
       "  </tbody>\n",
       "</table>\n",
       "</div>"
      ],
      "text/plain": [
       "   purpose  fueltype  faretype  bus_scale  travel_month  day_of_week  female  \\\n",
       "0        3         1         1        1.0             4            7       1   \n",
       "1        3         1         1        1.0             4            7       1   \n",
       "2        3         1         1        1.0             4            7       1   \n",
       "3        3         1         1        1.0             4            7       1   \n",
       "4        3         1         4        1.0             4            7       0   \n",
       "5        3         1         4        1.0             4            7       0   \n",
       "6        3         1         3        0.0             4            7       1   \n",
       "7        3         1         3        0.0             4            7       1   \n",
       "8        3         1         3        0.0             4            7       1   \n",
       "9        3         1         3        0.0             4            7       1   \n",
       "\n",
       "   driving_license  car_ownership  pt_interchanges age_group distance_group  \\\n",
       "0                1              2                0     31-65     distance02   \n",
       "1                1              2                0     31-65     distance02   \n",
       "2                1              2                0     31-65     distance08   \n",
       "3                1              2                0     31-65     distance08   \n",
       "4                1              2                0     31-65     distance08   \n",
       "5                1              2                0     31-65     distance08   \n",
       "6                0              2                0      0-18     distance02   \n",
       "7                0              2                0      0-18     distance02   \n",
       "8                0              2                0      0-18     distance08   \n",
       "9                0              2                0      0-18     distance08   \n",
       "\n",
       "  starttime_group cost_group  costdrivingfuel_group trafficperc_group  \\\n",
       "0         morning   low_cost  costdrivingfuelgroup1      0low_traffic   \n",
       "1       afternoon   low_cost  costdrivingfuelgroup1      0low_traffic   \n",
       "2       afternoon   low_cost  costdrivingfuelgroup7      0low_traffic   \n",
       "3       afternoon   low_cost  costdrivingfuelgroup7      0low_traffic   \n",
       "4         evening   low_cost  costdrivingfuelgroup7      0low_traffic   \n",
       "5         evening   low_cost  costdrivingfuelgroup7      0low_traffic   \n",
       "6         morning   low_cost  costdrivingfuelgroup1      0low_traffic   \n",
       "7       afternoon   low_cost  costdrivingfuelgroup1      0low_traffic   \n",
       "8       afternoon   low_cost  costdrivingfuelgroup7      0low_traffic   \n",
       "9         evening   low_cost  costdrivingfuelgroup7      0low_traffic   \n",
       "\n",
       "  drivingcharge_group  \n",
       "0          low_charge  \n",
       "1          low_charge  \n",
       "2          low_charge  \n",
       "3          low_charge  \n",
       "4          low_charge  \n",
       "5          low_charge  \n",
       "6          low_charge  \n",
       "7          low_charge  \n",
       "8          low_charge  \n",
       "9          low_charge  "
      ]
     },
     "execution_count": 6,
     "metadata": {},
     "output_type": "execute_result"
    }
   ],
   "source": [
    "display(y_train.head(10))\n",
    "print(X_train.shape)\n",
    "X_train.head(10)"
   ]
  },
  {
   "cell_type": "code",
   "execution_count": 7,
   "metadata": {},
   "outputs": [
    {
     "name": "stdout",
     "output_type": "stream",
     "text": [
      "travel_mode\n",
      "4    33595\n",
      "3    26867\n",
      "1    13367\n",
      "2     2274\n",
      "Name: count, dtype: int64\n"
     ]
    }
   ],
   "source": [
    "X_train.reset_index(inplace = True, drop = True)\n",
    "y_train.reset_index(inplace = True, drop = True)\n",
    "\n",
    "X_train=X_train.applymap(str)\n",
    "#y_train=y_train.astype(str)\n",
    "\n",
    "n_features = X_train\n",
    "n_features_names = list(X_train.columns)\n",
    "indici = np.arange(0, len(y_train))\n",
    "y = y_train\n",
    "\n",
    "#need to bin num vars and have features, features_names empty\n",
    "\n",
    "features = np.empty((0,0))\n",
    "features_names = []\n",
    "\n",
    "\n",
    "n_features['purpose'] = 'purpose' + n_features['purpose'].astype(str)\n",
    "n_features['fueltype'] = 'fueltype' + n_features['fueltype'].astype(str)\n",
    "n_features['faretype'] = 'faretype' + n_features['faretype'].astype(str)\n",
    "n_features['bus_scale'] = 'bus_scale' + n_features['bus_scale'].astype(str)\n",
    "n_features['travel_month'] = 'travel_month' + n_features['travel_month'].astype(str)\n",
    "n_features['day_of_week'] = 'day_of_week' + n_features['day_of_week'].astype(str)\n",
    "n_features['female'] = 'female' + n_features['female'].astype(str)\n",
    "n_features['driving_license'] = 'driving_license' + n_features['driving_license'].astype(str)\n",
    "n_features['car_ownership'] = 'car_ownership' + n_features['car_ownership'].astype(str)\n",
    "n_features['pt_interchanges'] = 'pt_interchanges' + n_features['pt_interchanges'].astype(str)\n",
    "n_features['age_group'] = 'age_group' + n_features['age_group'].astype(str)\n",
    "\n",
    "n_features.head()\n",
    "\n",
    "print(y.value_counts())\n",
    "y = np.asarray(y)#.to_numpy()\n",
    "#features = features.to_numpy()\n",
    "\n",
    "\n",
    "arr_ip = [tuple(i) for i in n_features.values]\n",
    "dtyp = np.dtype(list(zip(n_features.dtypes.index, n_features.dtypes)))\n",
    "\n",
    "n_features = np.array(arr_ip, dtype=dtyp)\n",
    "\n",
    "#n_features = np.asarray(n_features)#.to_numpy(dtype = ())"
   ]
  },
  {
   "cell_type": "code",
   "execution_count": 11,
   "metadata": {},
   "outputs": [
    {
     "name": "stdout",
     "output_type": "stream",
     "text": [
      "Split Found:  n1 [['car_ownership', ('car_ownership0',), 0.8884519855086923, 0]] start <TREEplus.NodeClass object at 0x000001BF26338B90> car_ownership in ('car_ownership0',)\n",
      "node_proportion_total  0.08692787714564254\n",
      "Split Found:  n2 [['distance_group', ('distance04', 'distance05', 'distance06', 'distance07', 'distance08', 'distance09', 'distance10', 'distance11'), 0.9192606197702635, 1]] left <TREEplus.NodeClass object at 0x000001BF250EF910> distance_group in ('distance04', 'distance05', 'distance06', 'distance07', 'distance08', 'distance09', 'distance10', 'distance11')\n",
      "node_proportion_total  0.4729322026169833\n",
      "Node_proportion_gain  0.3860043254713408\n",
      "Split Found:  n4 [['distance_group', ('distance01',), 0.9939729327363488, 2]] left <TREEplus.NodeClass object at 0x000001BF263CE1D0> distance_group in ('distance01',)\n",
      "node_proportion_total  0.5184779193025366\n",
      "Node_proportion_gain  0.045545716685553295\n",
      "Split Found:  n8 [['day_of_week', ('day_of_week6', 'day_of_week7'), 0.868597720330729, 3]] left <TREEplus.NodeClass object at 0x000001BF227DC150> day_of_week in ('day_of_week6', 'day_of_week7')\n",
      "node_proportion_total  0.5445608899754701\n",
      "Node_proportion_gain  0.026082970672933525\n",
      "Split Found:  n16 [['trafficperc_group', ('1mediumlow_traffic', '2medium_traffic', '3mediumhigh_traffic', '4high_traffic'), 0.8189866855106902, 4]] left <TREEplus.NodeClass object at 0x000001BF1F000110> trafficperc_group in ('1mediumlow_traffic', '2medium_traffic', '3mediumhigh_traffic', '4high_traffic')\n",
      "node_proportion_total  0.5620160545118233\n",
      "Node_proportion_gain  0.017455164536353207\n",
      "Split Found:  n32 [['starttime_group', ('evening',), 0.9827614877006678, 5]] left <TREEplus.NodeClass object at 0x000001BF250B5E90> starttime_group in ('evening',)\n",
      "node_proportion_total  0.5744454060131071\n",
      "Node_proportion_gain  0.01242935150128377\n"
     ]
    },
    {
     "name": "stderr",
     "output_type": "stream",
     "text": [
      "R[write to console]: Error in solve.default(Tb) : \n",
      "  Lapack routine dgesv: system is exactly singular: U[2,2] = 0\n",
      "\n"
     ]
    },
    {
     "name": "stdout",
     "output_type": "stream",
     "text": [
      "Error in LBA function\n"
     ]
    },
    {
     "name": "stderr",
     "output_type": "stream",
     "text": [
      "R[write to console]: Error in solve.default(Tb) : \n",
      "  Lapack routine dgesv: system is exactly singular: U[2,2] = 0\n",
      "\n"
     ]
    },
    {
     "name": "stdout",
     "output_type": "stream",
     "text": [
      "Error in LBA function\n",
      "Split Found:  n64 [['driving_license', ('driving_license1',), 0.8938489524811927, 6]] left <TREEplus.NodeClass object at 0x000001BF263325D0> driving_license in ('driving_license1',)\n",
      "node_proportion_total  0.5839350984957113\n",
      "Node_proportion_gain  0.009489692482604228\n"
     ]
    },
    {
     "name": "stderr",
     "output_type": "stream",
     "text": [
      "R[write to console]: Error in solve.default(Tb) : 'a' is 0-diml\n",
      "\n"
     ]
    },
    {
     "name": "stdout",
     "output_type": "stream",
     "text": [
      "Error in LBA function\n"
     ]
    },
    {
     "name": "stderr",
     "output_type": "stream",
     "text": [
      "R[write to console]: Error in solve.default(Tb) : 'a' is 0-diml\n",
      "\n"
     ]
    },
    {
     "name": "stdout",
     "output_type": "stream",
     "text": [
      "Error in LBA function\n"
     ]
    },
    {
     "name": "stderr",
     "output_type": "stream",
     "text": [
      "R[write to console]: Error in solve.default(Tb) : 'a' is 0-diml\n",
      "\n"
     ]
    },
    {
     "name": "stdout",
     "output_type": "stream",
     "text": [
      "Error in LBA function\n"
     ]
    },
    {
     "name": "stderr",
     "output_type": "stream",
     "text": [
      "R[write to console]: Error in solve.default(Tb) : 'a' is 0-diml\n",
      "\n"
     ]
    },
    {
     "name": "stdout",
     "output_type": "stream",
     "text": [
      "Error in LBA function\n",
      "Split Found:  n128 [['travel_month', ('travel_month1', 'travel_month2', 'travel_month3', 'travel_month5', 'travel_month6', 'travel_month8'), 0.810269081492966, 7]] left <TREEplus.NodeClass object at 0x000001BF225A61D0> travel_month in ('travel_month1', 'travel_month2', 'travel_month3', 'travel_month5', 'travel_month6', 'travel_month8')\n",
      "node_proportion_total  0.5911484219740135\n",
      "Node_proportion_gain  0.007213323478302169\n",
      "Node Search Split Error for:  n256 with obs in node:  668  which is less than minimum parent size:  1000\n",
      "TypeError: Node search split (CART) failure\n",
      "Node Search Split Error for:  n257 with obs in node:  512  which is less than minimum parent size:  1000\n",
      "TypeError: Node search split (CART) failure\n"
     ]
    },
    {
     "name": "stderr",
     "output_type": "stream",
     "text": [
      "R[write to console]: Error in solve.default(Tb) : 'a' (1 x 2) must be square\n",
      "\n"
     ]
    },
    {
     "name": "stdout",
     "output_type": "stream",
     "text": [
      "Error in LBA function\n"
     ]
    },
    {
     "name": "stderr",
     "output_type": "stream",
     "text": [
      "R[write to console]: Error in solve.default(Tb) : 'a' (1 x 2) must be square\n",
      "\n"
     ]
    },
    {
     "name": "stdout",
     "output_type": "stream",
     "text": [
      "Error in LBA function\n"
     ]
    },
    {
     "name": "stderr",
     "output_type": "stream",
     "text": [
      "R[write to console]: Error in solve.default(Tb) : 'a' (1 x 2) must be square\n",
      "\n"
     ]
    },
    {
     "name": "stdout",
     "output_type": "stream",
     "text": [
      "Error in LBA function\n"
     ]
    },
    {
     "name": "stderr",
     "output_type": "stream",
     "text": [
      "R[write to console]: Error in solve.default(Tb) : 'a' (1 x 2) must be square\n",
      "\n"
     ]
    },
    {
     "name": "stdout",
     "output_type": "stream",
     "text": [
      "Error in LBA function\n",
      "Split Found:  n129 [['age_group', ('age_group0-18', 'age_group31-65'), 0.9663995423964701, 7]] right <TREEplus.NodeClass object at 0x000001BF26424990> age_group in ('age_group0-18', 'age_group31-65')\n",
      "node_proportion_total  0.5969130869426543\n",
      "Node_proportion_gain  0.005764664968640809\n",
      "Node Search Split Error for:  n258 with obs in node:  646  which is less than minimum parent size:  1000\n",
      "TypeError: Node search split (CART) failure\n"
     ]
    },
    {
     "name": "stderr",
     "output_type": "stream",
     "text": [
      "R[write to console]: Error in solve.default(Tb) : 'a' (1 x 2) must be square\n",
      "\n"
     ]
    },
    {
     "name": "stdout",
     "output_type": "stream",
     "text": [
      "Error in LBA function\n"
     ]
    },
    {
     "name": "stderr",
     "output_type": "stream",
     "text": [
      "R[write to console]: Error in solve.default(Tb) : 'a' (1 x 2) must be square\n",
      "\n"
     ]
    },
    {
     "name": "stdout",
     "output_type": "stream",
     "text": [
      "Error in LBA function\n"
     ]
    },
    {
     "name": "stderr",
     "output_type": "stream",
     "text": [
      "R[write to console]: Error in solve.default(Tb) : 'a' (1 x 2) must be square\n",
      "\n"
     ]
    },
    {
     "name": "stdout",
     "output_type": "stream",
     "text": [
      "Error in LBA function\n"
     ]
    },
    {
     "name": "stderr",
     "output_type": "stream",
     "text": [
      "R[write to console]: Error in solve.default(Tb) : 'a' (1 x 2) must be square\n",
      "\n"
     ]
    },
    {
     "name": "stdout",
     "output_type": "stream",
     "text": [
      "Error in LBA function\n",
      "Split Found:  n259 [['day_of_week', ('day_of_week3', 'day_of_week4', 'day_of_week5'), 1.0304957144002027, 8]] right <TREEplus.NodeClass object at 0x000001BF250892D0> day_of_week in ('day_of_week3', 'day_of_week4', 'day_of_week5')\n",
      "node_proportion_total  0.6016289915098839\n",
      "Node_proportion_gain  0.00471590456722959\n",
      "Node Search Split Error for:  n518 with obs in node:  663  which is less than minimum parent size:  1000\n",
      "TypeError: Node search split (CART) failure\n",
      "Node Search Split Error for:  n519 with obs in node:  883  which is less than minimum parent size:  1000\n",
      "TypeError: Node search split (CART) failure\n",
      "Node Search Split Error for:  n65 with obs in node:  542  which is less than minimum parent size:  1000\n",
      "TypeError: Node search split (CART) failure\n",
      "Split Found:  n33 [['starttime_group', ('afternoon',), 0.7636877698226929, 5]] right <TREEplus.NodeClass object at 0x000001BF22974CD0> starttime_group in ('afternoon',)\n",
      "node_proportion_total  0.6055583708214082\n",
      "Node_proportion_gain  0.0039293793115242615\n",
      "Node Search Split Error for:  n66 with obs in node:  715  which is less than minimum parent size:  1000\n",
      "TypeError: Node search split (CART) failure\n"
     ]
    },
    {
     "name": "stderr",
     "output_type": "stream",
     "text": [
      "R[write to console]: Error in solve.default(Tb) : 'a' is 0-diml\n",
      "\n"
     ]
    },
    {
     "name": "stdout",
     "output_type": "stream",
     "text": [
      "Error in LBA function\n"
     ]
    },
    {
     "name": "stderr",
     "output_type": "stream",
     "text": [
      "R[write to console]: Error in solve.default(Tb) : 'a' is 0-diml\n",
      "\n"
     ]
    },
    {
     "name": "stdout",
     "output_type": "stream",
     "text": [
      "Error in LBA function\n",
      "Node Search Split Error for:  n67 couldn't find an appropiate looking at k variables =  16\n",
      "TypeError: Node search split (CART) failure\n",
      "Split Found:  n17 [['trafficperc_group', ('0low_traffic',), 0.9108124078867406, 4]] right <TREEplus.NodeClass object at 0x000001BF22504D10> trafficperc_group in ('0low_traffic',)\n",
      "node_proportion_total  0.6089051255068262\n",
      "Node_proportion_gain  0.0033467546854180075\n",
      "Node Search Split Error for:  n34 with obs in node:  697  which is less than minimum parent size:  1000\n",
      "TypeError: Node search split (CART) failure\n"
     ]
    },
    {
     "name": "stderr",
     "output_type": "stream",
     "text": [
      "R[write to console]: Error in solve.default(Tb) : 'a' (1 x 2) must be square\n",
      "\n"
     ]
    },
    {
     "name": "stdout",
     "output_type": "stream",
     "text": [
      "Error in LBA function\n"
     ]
    },
    {
     "name": "stderr",
     "output_type": "stream",
     "text": [
      "R[write to console]: Error in solve.default(Tb) : 'a' (1 x 2) must be square\n",
      "\n"
     ]
    },
    {
     "name": "stdout",
     "output_type": "stream",
     "text": [
      "Error in LBA function\n"
     ]
    },
    {
     "name": "stderr",
     "output_type": "stream",
     "text": [
      "R[write to console]: Error in solve.default(Tb) : 'a' (1 x 2) must be square\n",
      "\n"
     ]
    },
    {
     "name": "stdout",
     "output_type": "stream",
     "text": [
      "Error in LBA function\n"
     ]
    },
    {
     "name": "stderr",
     "output_type": "stream",
     "text": [
      "R[write to console]: Error in solve.default(Tb) : 'a' (1 x 2) must be square\n",
      "\n"
     ]
    },
    {
     "name": "stdout",
     "output_type": "stream",
     "text": [
      "Error in LBA function\n",
      "Node Search Split Error for:  n35 couldn't find an appropiate looking at k variables =  16\n",
      "TypeError: Node search split (CART) failure\n"
     ]
    },
    {
     "name": "stderr",
     "output_type": "stream",
     "text": [
      "R[write to console]: Error in solve.default(Tb) : 'a' (1 x 2) must be square\n",
      "\n"
     ]
    },
    {
     "name": "stdout",
     "output_type": "stream",
     "text": [
      "Error in LBA function\n"
     ]
    },
    {
     "name": "stderr",
     "output_type": "stream",
     "text": [
      "R[write to console]: Error in solve.default(Tb) : 'a' (1 x 2) must be square\n",
      "\n"
     ]
    },
    {
     "name": "stdout",
     "output_type": "stream",
     "text": [
      "Error in LBA function\n"
     ]
    },
    {
     "name": "stderr",
     "output_type": "stream",
     "text": [
      "R[write to console]: Error in solve.default(Tb) : 'a' (1 x 2) must be square\n",
      "\n"
     ]
    },
    {
     "name": "stdout",
     "output_type": "stream",
     "text": [
      "Error in LBA function\n"
     ]
    },
    {
     "name": "stderr",
     "output_type": "stream",
     "text": [
      "R[write to console]: Error in solve.default(Tb) : 'a' (1 x 2) must be square\n",
      "\n"
     ]
    },
    {
     "name": "stdout",
     "output_type": "stream",
     "text": [
      "Error in LBA function\n",
      "Node Search Split Error for:  n9 couldn't find an appropiate looking at k variables =  16\n",
      "TypeError: Node search split (CART) failure\n",
      "Split Found:  n5 [['drivingcharge_group', ('high_charge',), 1.2031806099592073, 2]] right <TREEplus.NodeClass object at 0x000001BF229764D0> drivingcharge_group in ('high_charge',)\n",
      "node_proportion_total  0.6139289737562761\n",
      "Node_proportion_gain  0.005023848249449903\n",
      "Split Found:  n10 [['trafficperc_group', ('0low_traffic', '1mediumlow_traffic'), 1.062218573679264, 3]] left <TREEplus.NodeClass object at 0x000001BF227EC190> trafficperc_group in ('0low_traffic', '1mediumlow_traffic')\n",
      "node_proportion_total  0.6169939557254085\n",
      "Node_proportion_gain  0.0030649819691324076\n",
      "Split Found:  n20 [['faretype', ('faretype1', 'faretype2', 'faretype3', 'faretype4'), 0.9382674165706592, 4]] left <TREEplus.NodeClass object at 0x000001BF25091690> faretype in ('faretype1', 'faretype2', 'faretype3', 'faretype4')\n",
      "node_proportion_total  0.6189971010545436\n",
      "Node_proportion_gain  0.0020031453291351475\n",
      "Split Found:  n40 [['age_group', ('age_group19-30', 'age_group31-65', 'age_group66+'), 1.0903179581488978, 5]] left <TREEplus.NodeClass object at 0x000001BF3F1C8350> age_group in ('age_group19-30', 'age_group31-65', 'age_group66+')\n",
      "node_proportion_total  0.6207791563981376\n",
      "Node_proportion_gain  0.0017820553435939912\n",
      "Node Search Split Error for:  n80 with obs in node:  682  which is less than minimum parent size:  1000\n",
      "TypeError: Node search split (CART) failure\n"
     ]
    },
    {
     "name": "stderr",
     "output_type": "stream",
     "text": [
      "R[write to console]: Error in solve.default(Tb) : 'a' is 0-diml\n",
      "\n"
     ]
    },
    {
     "name": "stdout",
     "output_type": "stream",
     "text": [
      "Error in LBA function\n"
     ]
    },
    {
     "name": "stderr",
     "output_type": "stream",
     "text": [
      "R[write to console]: Error in solve.default(Tb) : 'a' is 0-diml\n",
      "\n"
     ]
    },
    {
     "name": "stdout",
     "output_type": "stream",
     "text": [
      "Error in LBA function\n"
     ]
    },
    {
     "name": "stderr",
     "output_type": "stream",
     "text": [
      "R[write to console]: Error in solve.default(Tb) : 'a' is 0-diml\n",
      "\n"
     ]
    },
    {
     "name": "stdout",
     "output_type": "stream",
     "text": [
      "Error in LBA function\n"
     ]
    },
    {
     "name": "stderr",
     "output_type": "stream",
     "text": [
      "R[write to console]: Error in solve.default(Tb) : 'a' is 0-diml\n",
      "\n"
     ]
    },
    {
     "name": "stdout",
     "output_type": "stream",
     "text": [
      "Error in LBA function\n"
     ]
    },
    {
     "name": "stderr",
     "output_type": "stream",
     "text": [
      "R[write to console]: Error in solve.default(Tb) : 'a' is 0-diml\n",
      "\n"
     ]
    },
    {
     "name": "stdout",
     "output_type": "stream",
     "text": [
      "Error in LBA function\n"
     ]
    },
    {
     "name": "stderr",
     "output_type": "stream",
     "text": [
      "R[write to console]: Error in solve.default(Tb) : 'a' is 0-diml\n",
      "\n"
     ]
    },
    {
     "name": "stdout",
     "output_type": "stream",
     "text": [
      "Error in LBA function\n"
     ]
    },
    {
     "name": "stderr",
     "output_type": "stream",
     "text": [
      "R[write to console]: Error in solve.default(Tb) : 'a' is 0-diml\n",
      "\n"
     ]
    },
    {
     "name": "stdout",
     "output_type": "stream",
     "text": [
      "Error in LBA function\n"
     ]
    },
    {
     "name": "stderr",
     "output_type": "stream",
     "text": [
      "R[write to console]: Error in solve.default(Tb) : 'a' is 0-diml\n",
      "\n"
     ]
    },
    {
     "name": "stdout",
     "output_type": "stream",
     "text": [
      "Error in LBA function\n",
      "Split Found:  n81 [['travel_month', ('travel_month1', 'travel_month11', 'travel_month12', 'travel_month3', 'travel_month6', 'travel_month8', 'travel_month9'), 0.9278378763140123, 6]] right <TREEplus.NodeClass object at 0x000001BF3F1C8FD0> travel_month in ('travel_month1', 'travel_month11', 'travel_month12', 'travel_month3', 'travel_month6', 'travel_month8', 'travel_month9')\n",
      "node_proportion_total  0.622334154661586\n",
      "Node_proportion_gain  0.0015549982634484039\n",
      "Node Search Split Error for:  n162 with obs in node:  908  which is less than minimum parent size:  1000\n",
      "TypeError: Node search split (CART) failure\n",
      "Node Search Split Error for:  n163 with obs in node:  972  which is less than minimum parent size:  1000\n",
      "TypeError: Node search split (CART) failure\n",
      "Split Found:  n41 [['driving_license', ('driving_license0',), 0.9760627117496415, 5]] right <TREEplus.NodeClass object at 0x000001BF225A5350> driving_license in ('driving_license0',)\n",
      "node_proportion_total  0.6239663240114044\n",
      "Node_proportion_gain  0.0016321693498183576\n",
      "Split Found:  n82 [['cost_group', ('high_cost', 'medium_cost'), 0.9953207794874173, 6]] left <TREEplus.NodeClass object at 0x000001BF25091810> cost_group in ('high_cost', 'medium_cost')\n",
      "node_proportion_total  0.6252871962382899\n",
      "Node_proportion_gain  0.0013208722268854833\n"
     ]
    },
    {
     "name": "stderr",
     "output_type": "stream",
     "text": [
      "R[write to console]: Error in solve.default(Tb) : 'a' (3 x 2) must be square\n",
      "\n"
     ]
    },
    {
     "name": "stdout",
     "output_type": "stream",
     "text": [
      "Error in LBA function\n"
     ]
    },
    {
     "name": "stderr",
     "output_type": "stream",
     "text": [
      "R[write to console]: Error in solve.default(Tb) : 'a' (3 x 2) must be square\n",
      "\n"
     ]
    },
    {
     "name": "stdout",
     "output_type": "stream",
     "text": [
      "Error in LBA function\n"
     ]
    },
    {
     "name": "stderr",
     "output_type": "stream",
     "text": [
      "R[write to console]: Error in solve.default(Tb) : 'a' (3 x 2) must be square\n",
      "\n"
     ]
    },
    {
     "name": "stdout",
     "output_type": "stream",
     "text": [
      "Error in LBA function\n"
     ]
    },
    {
     "name": "stderr",
     "output_type": "stream",
     "text": [
      "R[write to console]: Error in solve.default(Tb) : 'a' (3 x 2) must be square\n",
      "\n"
     ]
    },
    {
     "name": "stdout",
     "output_type": "stream",
     "text": [
      "Error in LBA function\n"
     ]
    },
    {
     "name": "stderr",
     "output_type": "stream",
     "text": [
      "R[write to console]: Error in solve.default(Tb) : 'a' (3 x 2) must be square\n",
      "\n"
     ]
    },
    {
     "name": "stdout",
     "output_type": "stream",
     "text": [
      "Error in LBA function\n"
     ]
    },
    {
     "name": "stderr",
     "output_type": "stream",
     "text": [
      "R[write to console]: Error in solve.default(Tb) : 'a' (3 x 2) must be square\n",
      "\n"
     ]
    },
    {
     "name": "stdout",
     "output_type": "stream",
     "text": [
      "Error in LBA function\n",
      "Split Found:  n164 [['travel_month', ('travel_month1', 'travel_month12', 'travel_month2', 'travel_month4', 'travel_month6', 'travel_month9'), 1.0511686547014492, 7]] left <TREEplus.NodeClass object at 0x000001BF2282AC50> travel_month in ('travel_month1', 'travel_month12', 'travel_month2', 'travel_month4', 'travel_month6', 'travel_month9')\n",
      "node_proportion_total  0.6264099806215241\n",
      "Node_proportion_gain  0.00112278438323421\n"
     ]
    },
    {
     "name": "stderr",
     "output_type": "stream",
     "text": [
      "R[write to console]: Error in solve.default(Tb) : 'a' (1 x 2) must be square\n",
      "\n"
     ]
    },
    {
     "name": "stdout",
     "output_type": "stream",
     "text": [
      "Error in LBA function\n"
     ]
    },
    {
     "name": "stderr",
     "output_type": "stream",
     "text": [
      "R[write to console]: Error in solve.default(Tb) : 'a' (1 x 2) must be square\n",
      "\n"
     ]
    },
    {
     "name": "stdout",
     "output_type": "stream",
     "text": [
      "Error in LBA function\n"
     ]
    },
    {
     "name": "stderr",
     "output_type": "stream",
     "text": [
      "R[write to console]: Error in solve.default(Tb) : 'a' (1 x 2) must be square\n",
      "\n"
     ]
    },
    {
     "name": "stdout",
     "output_type": "stream",
     "text": [
      "Error in LBA function\n"
     ]
    },
    {
     "name": "stderr",
     "output_type": "stream",
     "text": [
      "R[write to console]: Error in solve.default(Tb) : 'a' (1 x 2) must be square\n",
      "\n"
     ]
    },
    {
     "name": "stdout",
     "output_type": "stream",
     "text": [
      "Error in LBA function\n"
     ]
    },
    {
     "name": "stderr",
     "output_type": "stream",
     "text": [
      "R[write to console]: Error in solve.default(Tb) : 'a' (1 x 2) must be square\n",
      "\n"
     ]
    },
    {
     "name": "stdout",
     "output_type": "stream",
     "text": [
      "Error in LBA function\n"
     ]
    },
    {
     "name": "stderr",
     "output_type": "stream",
     "text": [
      "R[write to console]: Error in solve.default(Tb) : 'a' (1 x 2) must be square\n",
      "\n"
     ]
    },
    {
     "name": "stdout",
     "output_type": "stream",
     "text": [
      "Error in LBA function\n",
      "Split Found:  n328 [['day_of_week', ('day_of_week1', 'day_of_week3', 'day_of_week5', 'day_of_week6'), 0.934297796954747, 8]] left <TREEplus.NodeClass object at 0x000001BF2508B2D0> day_of_week in ('day_of_week1', 'day_of_week3', 'day_of_week5', 'day_of_week6')\n",
      "node_proportion_total  0.6274263170196638\n",
      "Node_proportion_gain  0.0010163363981396945\n",
      "Node Search Split Error for:  n656 with obs in node:  516  which is less than minimum parent size:  1000\n",
      "TypeError: Node search split (CART) failure\n",
      "Node Search Split Error for:  n657 with obs in node:  861  which is less than minimum parent size:  1000\n",
      "TypeError: Node search split (CART) failure\n"
     ]
    },
    {
     "name": "stderr",
     "output_type": "stream",
     "text": [
      "R[write to console]: Error in solve.default(Tb) : 'a' (1 x 2) must be square\n",
      "\n"
     ]
    },
    {
     "name": "stdout",
     "output_type": "stream",
     "text": [
      "Error in LBA function\n"
     ]
    },
    {
     "name": "stderr",
     "output_type": "stream",
     "text": [
      "R[write to console]: Error in solve.default(Tb) : 'a' (1 x 2) must be square\n",
      "\n"
     ]
    },
    {
     "name": "stdout",
     "output_type": "stream",
     "text": [
      "Error in LBA function\n"
     ]
    },
    {
     "name": "stderr",
     "output_type": "stream",
     "text": [
      "R[write to console]: Error in solve.default(Tb) : 'a' (1 x 2) must be square\n",
      "\n"
     ]
    },
    {
     "name": "stdout",
     "output_type": "stream",
     "text": [
      "Error in LBA function\n"
     ]
    },
    {
     "name": "stderr",
     "output_type": "stream",
     "text": [
      "R[write to console]: Error in solve.default(Tb) : 'a' (1 x 2) must be square\n",
      "\n"
     ]
    },
    {
     "name": "stdout",
     "output_type": "stream",
     "text": [
      "Error in LBA function\n"
     ]
    },
    {
     "name": "stderr",
     "output_type": "stream",
     "text": [
      "R[write to console]: Error in solve.default(Tb) : 'a' (1 x 2) must be square\n",
      "\n"
     ]
    },
    {
     "name": "stdout",
     "output_type": "stream",
     "text": [
      "Error in LBA function\n"
     ]
    },
    {
     "name": "stderr",
     "output_type": "stream",
     "text": [
      "R[write to console]: Error in solve.default(Tb) : 'a' (1 x 2) must be square\n",
      "\n"
     ]
    },
    {
     "name": "stdout",
     "output_type": "stream",
     "text": [
      "Error in LBA function\n",
      "Split Found:  n329 [['travel_month', ('travel_month1', 'travel_month12', 'travel_month2'), 1.1681848989912638, 8]] right <TREEplus.NodeClass object at 0x000001BF3F226550> travel_month in ('travel_month1', 'travel_month12', 'travel_month2')\n",
      "node_proportion_total  0.6283537480856226\n",
      "Node_proportion_gain  0.0009274310659588281\n",
      "Node Search Split Error for:  n658 with obs in node:  778  which is less than minimum parent size:  1000\n",
      "TypeError: Node search split (CART) failure\n",
      "Node Search Split Error for:  n659 with obs in node:  561  which is less than minimum parent size:  1000\n",
      "TypeError: Node search split (CART) failure\n",
      "Split Found:  n165 [['day_of_week', ('day_of_week1', 'day_of_week2', 'day_of_week3', 'day_of_week4', 'day_of_week5'), 0.9983834647796404, 7]] right <TREEplus.NodeClass object at 0x000001BF26351A10> day_of_week in ('day_of_week1', 'day_of_week2', 'day_of_week3', 'day_of_week4', 'day_of_week5')\n",
      "node_proportion_total  0.629225584669612\n",
      "Node_proportion_gain  0.0008718365839893716\n"
     ]
    },
    {
     "name": "stderr",
     "output_type": "stream",
     "text": [
      "R[write to console]: Error in solve.default(Tb) : 'a' (1 x 2) must be square\n",
      "\n"
     ]
    },
    {
     "name": "stdout",
     "output_type": "stream",
     "text": [
      "Error in LBA function\n"
     ]
    },
    {
     "name": "stderr",
     "output_type": "stream",
     "text": [
      "R[write to console]: Error in solve.default(Tb) : 'a' (1 x 2) must be square\n",
      "\n"
     ]
    },
    {
     "name": "stdout",
     "output_type": "stream",
     "text": [
      "Error in LBA function\n"
     ]
    },
    {
     "name": "stderr",
     "output_type": "stream",
     "text": [
      "R[write to console]: Error in solve.default(Tb) : 'a' (1 x 2) must be square\n",
      "\n"
     ]
    },
    {
     "name": "stdout",
     "output_type": "stream",
     "text": [
      "Error in LBA function\n"
     ]
    },
    {
     "name": "stderr",
     "output_type": "stream",
     "text": [
      "R[write to console]: Error in solve.default(Tb) : 'a' (1 x 2) must be square\n",
      "\n"
     ]
    },
    {
     "name": "stdout",
     "output_type": "stream",
     "text": [
      "Error in LBA function\n",
      "Split Found:  n330 [['cost_group', ('high_cost',), 1.0710282921993621, 8]] left <TREEplus.NodeClass object at 0x000001BF2633BE50> cost_group in ('high_cost',)\n",
      "node_proportion_total  0.630009107594643\n",
      "Node_proportion_gain  0.0007835229250310327\n",
      "Node Search Split Error for:  n660 with obs in node:  696  which is less than minimum parent size:  1000\n",
      "TypeError: Node search split (CART) failure\n",
      "Node Search Split Error for:  n661 with obs in node:  573  which is less than minimum parent size:  1000\n",
      "TypeError: Node search split (CART) failure\n",
      "Split Found:  n331 [['trafficperc_group', ('2medium_traffic',), 0.9957409603396697, 8]] right <TREEplus.NodeClass object at 0x000001BF2633E850> trafficperc_group in ('2medium_traffic',)\n",
      "node_proportion_total  0.6307866637598911\n",
      "Node_proportion_gain  0.0007775561652481056\n",
      "Split Found:  n662 [['purpose', ('purpose2', 'purpose3', 'purpose4', 'purpose5'), 0.9505305173701651, 9]] left <TREEplus.NodeClass object at 0x000001BF3F1C66D0> purpose in ('purpose2', 'purpose3', 'purpose4', 'purpose5')\n",
      "node_proportion_total  0.6314698983578805\n",
      "Node_proportion_gain  0.0006832345979893573\n"
     ]
    },
    {
     "name": "stderr",
     "output_type": "stream",
     "text": [
      "R[write to console]: Error in solve.default(Tb) : 'a' (1 x 2) must be square\n",
      "\n"
     ]
    },
    {
     "name": "stdout",
     "output_type": "stream",
     "text": [
      "Error in LBA function\n"
     ]
    },
    {
     "name": "stderr",
     "output_type": "stream",
     "text": [
      "R[write to console]: Error in solve.default(Tb) : 'a' (1 x 2) must be square\n",
      "\n"
     ]
    },
    {
     "name": "stdout",
     "output_type": "stream",
     "text": [
      "Error in LBA function\n"
     ]
    },
    {
     "name": "stderr",
     "output_type": "stream",
     "text": [
      "R[write to console]: Error in solve.default(Tb) : 'a' (1 x 2) must be square\n",
      "\n"
     ]
    },
    {
     "name": "stdout",
     "output_type": "stream",
     "text": [
      "Error in LBA function\n"
     ]
    },
    {
     "name": "stderr",
     "output_type": "stream",
     "text": [
      "R[write to console]: Error in solve.default(Tb) : 'a' (1 x 2) must be square\n",
      "\n"
     ]
    },
    {
     "name": "stdout",
     "output_type": "stream",
     "text": [
      "Error in LBA function\n"
     ]
    },
    {
     "name": "stderr",
     "output_type": "stream",
     "text": [
      "R[write to console]: Error in solve.default(Tb) : 'a' (1 x 2) must be square\n",
      "\n"
     ]
    },
    {
     "name": "stdout",
     "output_type": "stream",
     "text": [
      "Error in LBA function\n"
     ]
    },
    {
     "name": "stderr",
     "output_type": "stream",
     "text": [
      "R[write to console]: Error in solve.default(Tb) : 'a' (1 x 2) must be square\n",
      "\n"
     ]
    },
    {
     "name": "stdout",
     "output_type": "stream",
     "text": [
      "Error in LBA function\n",
      "Node Search Split Error for:  n1324 couldn't find an appropiate looking at k variables =  16\n",
      "TypeError: Node search split (CART) failure\n"
     ]
    },
    {
     "name": "stderr",
     "output_type": "stream",
     "text": [
      "R[write to console]: Error in solve.default(Tb) : 'a' is 0-diml\n",
      "\n"
     ]
    },
    {
     "name": "stdout",
     "output_type": "stream",
     "text": [
      "Error in LBA function\n"
     ]
    },
    {
     "name": "stderr",
     "output_type": "stream",
     "text": [
      "R[write to console]: Error in solve.default(Tb) : 'a' is 0-diml\n",
      "\n"
     ]
    },
    {
     "name": "stdout",
     "output_type": "stream",
     "text": [
      "Error in LBA function\n"
     ]
    },
    {
     "name": "stderr",
     "output_type": "stream",
     "text": [
      "R[write to console]: Error in solve.default(Tb) : 'a' is 0-diml\n",
      "\n"
     ]
    },
    {
     "name": "stdout",
     "output_type": "stream",
     "text": [
      "Error in LBA function\n"
     ]
    },
    {
     "name": "stderr",
     "output_type": "stream",
     "text": [
      "R[write to console]: Error in solve.default(Tb) : 'a' is 0-diml\n",
      "\n"
     ]
    },
    {
     "name": "stdout",
     "output_type": "stream",
     "text": [
      "Error in LBA function\n",
      "Split Found:  n1325 [['trafficperc_group', ('3mediumhigh_traffic',), 0.9279609828040107, 10]] right <TREEplus.NodeClass object at 0x000001BF3792EF10> trafficperc_group in ('3mediumhigh_traffic',)\n",
      "node_proportion_total  0.6320890990826946\n",
      "Node_proportion_gain  0.0006192007248141396\n"
     ]
    },
    {
     "name": "stderr",
     "output_type": "stream",
     "text": [
      "R[write to console]: Error in solve.default(Tb) : \n",
      "  Lapack routine dgesv: system is exactly singular: U[2,2] = 0\n",
      "\n"
     ]
    },
    {
     "name": "stdout",
     "output_type": "stream",
     "text": [
      "Error in LBA function\n"
     ]
    },
    {
     "name": "stderr",
     "output_type": "stream",
     "text": [
      "R[write to console]: Error in solve.default(Tb) : \n",
      "  Lapack routine dgesv: system is exactly singular: U[2,2] = 0\n",
      "\n"
     ]
    },
    {
     "name": "stdout",
     "output_type": "stream",
     "text": [
      "Error in LBA function\n"
     ]
    },
    {
     "name": "stderr",
     "output_type": "stream",
     "text": [
      "R[write to console]: Error in solve.default(Tb) : \n",
      "  Lapack routine dgesv: system is exactly singular: U[2,2] = 0\n",
      "\n"
     ]
    },
    {
     "name": "stdout",
     "output_type": "stream",
     "text": [
      "Error in LBA function\n"
     ]
    },
    {
     "name": "stderr",
     "output_type": "stream",
     "text": [
      "R[write to console]: Error in solve.default(Tb) : \n",
      "  Lapack routine dgesv: system is exactly singular: U[2,2] = 0\n",
      "\n"
     ]
    },
    {
     "name": "stdout",
     "output_type": "stream",
     "text": [
      "Error in LBA function\n"
     ]
    },
    {
     "name": "stderr",
     "output_type": "stream",
     "text": [
      "R[write to console]: Error in solve.default(Tb) : \n",
      "  Lapack routine dgesv: system is exactly singular: U[2,2] = 0\n",
      "\n"
     ]
    },
    {
     "name": "stdout",
     "output_type": "stream",
     "text": [
      "Error in LBA function\n"
     ]
    },
    {
     "name": "stderr",
     "output_type": "stream",
     "text": [
      "R[write to console]: Error in solve.default(Tb) : \n",
      "  Lapack routine dgesv: system is exactly singular: U[2,2] = 0\n",
      "\n"
     ]
    },
    {
     "name": "stdout",
     "output_type": "stream",
     "text": [
      "Error in LBA function\n",
      "Split Found:  n663 [['cost_group', ('high_cost',), 1.0804317167814617, 9]] right <TREEplus.NodeClass object at 0x000001BF3F1D6110> cost_group in ('high_cost',)\n",
      "node_proportion_total  0.6326672490044609\n",
      "Node_proportion_gain  0.0005781499217663022\n",
      "Node Search Split Error for:  n1326 with obs in node:  920  which is less than minimum parent size:  1000\n",
      "TypeError: Node search split (CART) failure\n",
      "Node Search Split Error for:  n1327 with obs in node:  860  which is less than minimum parent size:  1000\n",
      "TypeError: Node search split (CART) failure\n",
      "Split Found:  n83 [['purpose', ('purpose1', 'purpose2', 'purpose4'), 1.0772968019166118, 6]] right <TREEplus.NodeClass object at 0x000001BF22955750> purpose in ('purpose1', 'purpose2', 'purpose4')\n",
      "node_proportion_total  0.6332362000999849\n",
      "Node_proportion_gain  0.0005689510955240173\n"
     ]
    },
    {
     "name": "stderr",
     "output_type": "stream",
     "text": [
      "R[write to console]: Error in solve.default(Tb) : 'a' (1 x 2) must be square\n",
      "\n"
     ]
    },
    {
     "name": "stdout",
     "output_type": "stream",
     "text": [
      "Error in LBA function\n"
     ]
    },
    {
     "name": "stderr",
     "output_type": "stream",
     "text": [
      "R[write to console]: Error in solve.default(Tb) : 'a' (1 x 2) must be square\n",
      "\n"
     ]
    },
    {
     "name": "stdout",
     "output_type": "stream",
     "text": [
      "Error in LBA function\n"
     ]
    },
    {
     "name": "stderr",
     "output_type": "stream",
     "text": [
      "R[write to console]: Error in solve.default(Tb) : 'a' (1 x 2) must be square\n",
      "\n"
     ]
    },
    {
     "name": "stdout",
     "output_type": "stream",
     "text": [
      "Error in LBA function\n"
     ]
    },
    {
     "name": "stderr",
     "output_type": "stream",
     "text": [
      "R[write to console]: Error in solve.default(Tb) : 'a' (1 x 2) must be square\n",
      "\n"
     ]
    },
    {
     "name": "stdout",
     "output_type": "stream",
     "text": [
      "Error in LBA function\n",
      "Split Found:  n166 [['bus_scale', ('bus_scale0.0',), 0.8938325734241648, 7]] left <TREEplus.NodeClass object at 0x000001BF250B7410> bus_scale in ('bus_scale0.0',)\n",
      "node_proportion_total  0.6337405320977753\n",
      "Node_proportion_gain  0.0005043319977903193\n",
      "Node Search Split Error for:  n332 with obs in node:  701  which is less than minimum parent size:  1000\n",
      "TypeError: Node search split (CART) failure\n",
      "Node Search Split Error for:  n333 with obs in node:  512  which is less than minimum parent size:  1000\n",
      "TypeError: Node search split (CART) failure\n"
     ]
    },
    {
     "name": "stderr",
     "output_type": "stream",
     "text": [
      "R[write to console]: Error in solve.default(Tb) : \n",
      "  Lapack routine dgesv: system is exactly singular: U[2,2] = 0\n",
      "\n"
     ]
    },
    {
     "name": "stdout",
     "output_type": "stream",
     "text": [
      "Error in LBA function\n"
     ]
    },
    {
     "name": "stderr",
     "output_type": "stream",
     "text": [
      "R[write to console]: Error in solve.default(Tb) : \n",
      "  Lapack routine dgesv: system is exactly singular: U[2,2] = 0\n",
      "\n"
     ]
    },
    {
     "name": "stdout",
     "output_type": "stream",
     "text": [
      "Error in LBA function\n"
     ]
    },
    {
     "name": "stderr",
     "output_type": "stream",
     "text": [
      "R[write to console]: Error in solve.default(Tb) : \n",
      "  Lapack routine dgesv: system is exactly singular: U[2,2] = 0\n",
      "\n"
     ]
    },
    {
     "name": "stdout",
     "output_type": "stream",
     "text": [
      "Error in LBA function\n"
     ]
    },
    {
     "name": "stderr",
     "output_type": "stream",
     "text": [
      "R[write to console]: Error in solve.default(Tb) : \n",
      "  Lapack routine dgesv: system is exactly singular: U[2,2] = 0\n",
      "\n"
     ]
    },
    {
     "name": "stdout",
     "output_type": "stream",
     "text": [
      "Error in LBA function\n",
      "Split Found:  n167 [['cost_group', ('high_cost', 'medium_cost'), 1.302359879198931, 7]] right <TREEplus.NodeClass object at 0x000001BF25088B90> cost_group in ('high_cost', 'medium_cost')\n",
      "node_proportion_total  0.6342118737957694\n",
      "Node_proportion_gain  0.00047134169799412096\n",
      "Node Search Split Error for:  n334 with obs in node:  603  which is less than minimum parent size:  1000\n",
      "TypeError: Node search split (CART) failure\n",
      "Node Search Split Error for:  n335 with obs in node:  501  which is less than minimum parent size:  1000\n",
      "TypeError: Node search split (CART) failure\n",
      "Split Found:  n21 [['age_group', ('age_group31-65',), 1.21251303691574, 4]] right <TREEplus.NodeClass object at 0x000001BF263B9750> age_group in ('age_group31-65',)\n",
      "node_proportion_total  0.6347188297333618\n",
      "Node_proportion_gain  0.0005069559375924237\n",
      "Split Found:  n42 [['starttime_group', ('evening', 'morning'), 1.1248167683648023, 5]] left <TREEplus.NodeClass object at 0x000001BF263BEFD0> starttime_group in ('evening', 'morning')\n",
      "node_proportion_total  0.6351471494355047\n",
      "Node_proportion_gain  0.0004283197021428542\n",
      "Split Found:  n84 [['day_of_week', ('day_of_week1', 'day_of_week2', 'day_of_week3', 'day_of_week4', 'day_of_week5', 'day_of_week6'), 1.169475930097564, 6]] left <TREEplus.NodeClass object at 0x000001BF227CB390> day_of_week in ('day_of_week1', 'day_of_week2', 'day_of_week3', 'day_of_week4', 'day_of_week5', 'day_of_week6')\n",
      "node_proportion_total  0.635557625886661\n",
      "Node_proportion_gain  0.00041047645115632747\n"
     ]
    },
    {
     "name": "stderr",
     "output_type": "stream",
     "text": [
      "R[write to console]: Error in solve.default(Tb) : 'a' is 0-diml\n",
      "\n"
     ]
    },
    {
     "name": "stdout",
     "output_type": "stream",
     "text": [
      "Error in LBA function\n"
     ]
    },
    {
     "name": "stderr",
     "output_type": "stream",
     "text": [
      "R[write to console]: Error in solve.default(Tb) : 'a' is 0-diml\n",
      "\n"
     ]
    },
    {
     "name": "stdout",
     "output_type": "stream",
     "text": [
      "Error in LBA function\n"
     ]
    },
    {
     "name": "stderr",
     "output_type": "stream",
     "text": [
      "R[write to console]: Error in solve.default(Tb) : 'a' is 0-diml\n",
      "\n"
     ]
    },
    {
     "name": "stdout",
     "output_type": "stream",
     "text": [
      "Error in LBA function\n"
     ]
    },
    {
     "name": "stderr",
     "output_type": "stream",
     "text": [
      "R[write to console]: Error in solve.default(Tb) : 'a' is 0-diml\n",
      "\n"
     ]
    },
    {
     "name": "stdout",
     "output_type": "stream",
     "text": [
      "Error in LBA function\n",
      "Node Search Split Error for:  n168 couldn't find an appropiate looking at k variables =  16\n",
      "TypeError: Node search split (CART) failure\n",
      "Split Found:  n169 [['age_group', ('age_group66+',), 1.0524073105047107, 7]] right <TREEplus.NodeClass object at 0x000001BF26352E90> age_group in ('age_group66+',)\n",
      "node_proportion_total  0.6359393908339815\n",
      "Node_proportion_gain  0.000381764947320562\n",
      "Split Found:  n338 [['purpose', ('purpose3', 'purpose5'), 0.9579877679089104, 8]] left <TREEplus.NodeClass object at 0x000001BF2508B950> purpose in ('purpose3', 'purpose5')\n",
      "node_proportion_total  0.6363341049377861\n",
      "Node_proportion_gain  0.00039471410380453875\n",
      "Split Found:  n676 [['driving_license', ('driving_license1',), 0.9863137259450294, 9]] left <TREEplus.NodeClass object at 0x000001BF22ACE9D0> driving_license in ('driving_license1',)\n",
      "node_proportion_total  0.6366910565278988\n",
      "Node_proportion_gain  0.0003569515901127307\n"
     ]
    },
    {
     "name": "stderr",
     "output_type": "stream",
     "text": [
      "R[write to console]: Error in solve.default(Tb) : 'a' (1 x 2) must be square\n",
      "\n"
     ]
    },
    {
     "name": "stdout",
     "output_type": "stream",
     "text": [
      "Error in LBA function\n"
     ]
    },
    {
     "name": "stderr",
     "output_type": "stream",
     "text": [
      "R[write to console]: Error in solve.default(Tb) : 'a' (1 x 2) must be square\n",
      "\n"
     ]
    },
    {
     "name": "stdout",
     "output_type": "stream",
     "text": [
      "Error in LBA function\n"
     ]
    },
    {
     "name": "stderr",
     "output_type": "stream",
     "text": [
      "R[write to console]: Error in solve.default(Tb) : 'a' (1 x 2) must be square\n",
      "\n"
     ]
    },
    {
     "name": "stdout",
     "output_type": "stream",
     "text": [
      "Error in LBA function\n"
     ]
    },
    {
     "name": "stderr",
     "output_type": "stream",
     "text": [
      "R[write to console]: Error in solve.default(Tb) : 'a' (1 x 2) must be square\n",
      "\n"
     ]
    },
    {
     "name": "stdout",
     "output_type": "stream",
     "text": [
      "Error in LBA function\n",
      "Split Found:  n1352 [['car_ownership', ('car_ownership2',), 0.8701423577626324, 10]] left <TREEplus.NodeClass object at 0x000001BF26352F50> car_ownership in ('car_ownership2',)\n",
      "node_proportion_total  0.6370120986727291\n",
      "Node_proportion_gain  0.000321042144830308\n",
      "Node Search Split Error for:  n1353 with obs in node:  517  which is less than minimum parent size:  1000\n",
      "TypeError: Node search split (CART) failure\n"
     ]
    },
    {
     "name": "stderr",
     "output_type": "stream",
     "text": [
      "R[write to console]: Error in solve.default(Tb) : 'a' (1 x 2) must be square\n",
      "\n"
     ]
    },
    {
     "name": "stdout",
     "output_type": "stream",
     "text": [
      "Error in LBA function\n"
     ]
    },
    {
     "name": "stderr",
     "output_type": "stream",
     "text": [
      "R[write to console]: Error in solve.default(Tb) : 'a' (1 x 2) must be square\n",
      "\n"
     ]
    },
    {
     "name": "stdout",
     "output_type": "stream",
     "text": [
      "Error in LBA function\n",
      "Split Found:  n677 [['travel_month', ('travel_month1', 'travel_month10', 'travel_month11', 'travel_month2', 'travel_month4', 'travel_month5'), 1.1072074488540848, 9]] right <TREEplus.NodeClass object at 0x000001BF2634FA10> travel_month in ('travel_month1', 'travel_month10', 'travel_month11', 'travel_month2', 'travel_month4', 'travel_month5')\n",
      "node_proportion_total  0.6373085499587632\n",
      "Node_proportion_gain  0.0002964512860340607\n"
     ]
    },
    {
     "name": "stderr",
     "output_type": "stream",
     "text": [
      "R[write to console]: Error in solve.default(Tb) : 'a' (1 x 2) must be square\n",
      "\n"
     ]
    },
    {
     "name": "stdout",
     "output_type": "stream",
     "text": [
      "Error in LBA function\n"
     ]
    },
    {
     "name": "stderr",
     "output_type": "stream",
     "text": [
      "R[write to console]: Error in solve.default(Tb) : 'a' (1 x 2) must be square\n",
      "\n"
     ]
    },
    {
     "name": "stdout",
     "output_type": "stream",
     "text": [
      "Error in LBA function\n",
      "Split Found:  n1354 [['day_of_week', ('day_of_week1', 'day_of_week2', 'day_of_week4'), 1.0218801570275056, 10]] left <TREEplus.NodeClass object at 0x000001BF2633CE10> day_of_week in ('day_of_week1', 'day_of_week2', 'day_of_week4')\n",
      "node_proportion_total  0.6375892588483627\n",
      "Node_proportion_gain  0.00028070888959952356\n"
     ]
    },
    {
     "name": "stderr",
     "output_type": "stream",
     "text": [
      "R[write to console]: Error in solve.default(Tb) : 'a' (1 x 2) must be square\n",
      "\n"
     ]
    },
    {
     "name": "stdout",
     "output_type": "stream",
     "text": [
      "Error in LBA function\n"
     ]
    },
    {
     "name": "stderr",
     "output_type": "stream",
     "text": [
      "R[write to console]: Error in solve.default(Tb) : 'a' (1 x 2) must be square\n",
      "\n"
     ]
    },
    {
     "name": "stdout",
     "output_type": "stream",
     "text": [
      "Error in LBA function\n",
      "Node Search Split Error for:  n1355 couldn't find an appropiate looking at k variables =  16\n",
      "TypeError: Node search split (CART) failure\n"
     ]
    },
    {
     "name": "stderr",
     "output_type": "stream",
     "text": [
      "R[write to console]: Error in solve.default(Tb) : 'a' (1 x 2) must be square\n",
      "\n"
     ]
    },
    {
     "name": "stdout",
     "output_type": "stream",
     "text": [
      "Error in LBA function\n"
     ]
    },
    {
     "name": "stderr",
     "output_type": "stream",
     "text": [
      "R[write to console]: Error in solve.default(Tb) : 'a' (1 x 2) must be square\n",
      "\n"
     ]
    },
    {
     "name": "stdout",
     "output_type": "stream",
     "text": [
      "Error in LBA function\n"
     ]
    },
    {
     "name": "stderr",
     "output_type": "stream",
     "text": [
      "R[write to console]: Error in solve.default(Tb) : 'a' (1 x 2) must be square\n",
      "\n"
     ]
    },
    {
     "name": "stdout",
     "output_type": "stream",
     "text": [
      "Error in LBA function\n"
     ]
    },
    {
     "name": "stderr",
     "output_type": "stream",
     "text": [
      "R[write to console]: Error in solve.default(Tb) : 'a' (1 x 2) must be square\n",
      "\n"
     ]
    },
    {
     "name": "stdout",
     "output_type": "stream",
     "text": [
      "Error in LBA function\n",
      "Split Found:  n339 [['day_of_week', ('day_of_week1', 'day_of_week3', 'day_of_week4', 'day_of_week6'), 1.1817995688730747, 8]] right <TREEplus.NodeClass object at 0x000001BF3F1F8350> day_of_week in ('day_of_week1', 'day_of_week3', 'day_of_week4', 'day_of_week6')\n",
      "node_proportion_total  0.6378551560266661\n",
      "Node_proportion_gain  0.000265897178303387\n",
      "Node Search Split Error for:  n678 with obs in node:  738  which is less than minimum parent size:  1000\n",
      "TypeError: Node search split (CART) failure\n"
     ]
    },
    {
     "name": "stderr",
     "output_type": "stream",
     "text": [
      "R[write to console]: Error in solve.default(Tb) : \n",
      "  Lapack routine dgesv: system is exactly singular: U[2,2] = 0\n",
      "\n"
     ]
    },
    {
     "name": "stdout",
     "output_type": "stream",
     "text": [
      "Error in LBA function\n"
     ]
    },
    {
     "name": "stderr",
     "output_type": "stream",
     "text": [
      "R[write to console]: Error in solve.default(Tb) : \n",
      "  Lapack routine dgesv: system is exactly singular: U[2,2] = 0\n",
      "\n"
     ]
    },
    {
     "name": "stdout",
     "output_type": "stream",
     "text": [
      "Error in LBA function\n"
     ]
    },
    {
     "name": "stderr",
     "output_type": "stream",
     "text": [
      "R[write to console]: Error in solve.default(Tb) : \n",
      "  Lapack routine dgesv: system is exactly singular: U[2,2] = 0\n",
      "\n"
     ]
    },
    {
     "name": "stdout",
     "output_type": "stream",
     "text": [
      "Error in LBA function\n"
     ]
    },
    {
     "name": "stderr",
     "output_type": "stream",
     "text": [
      "R[write to console]: Error in solve.default(Tb) : \n",
      "  Lapack routine dgesv: system is exactly singular: U[2,2] = 0\n",
      "\n"
     ]
    },
    {
     "name": "stdout",
     "output_type": "stream",
     "text": [
      "Error in LBA function\n",
      "Node Search Split Error for:  n679 couldn't find an appropiate looking at k variables =  16\n",
      "TypeError: Node search split (CART) failure\n",
      "Split Found:  n85 [['faretype', ('faretype3', 'faretype5'), 1.2220570700462887, 6]] right <TREEplus.NodeClass object at 0x000001BF3F1D5D50> faretype in ('faretype3', 'faretype5')\n",
      "node_proportion_total  0.6381145664242582\n",
      "Node_proportion_gain  0.00025941039759214135\n"
     ]
    },
    {
     "name": "stderr",
     "output_type": "stream",
     "text": [
      "R[write to console]: Error in solve.default(Tb) : 'a' (1 x 2) must be square\n",
      "\n"
     ]
    },
    {
     "name": "stdout",
     "output_type": "stream",
     "text": [
      "Error in LBA function\n"
     ]
    },
    {
     "name": "stderr",
     "output_type": "stream",
     "text": [
      "R[write to console]: Error in solve.default(Tb) : 'a' (1 x 2) must be square\n",
      "\n"
     ]
    },
    {
     "name": "stdout",
     "output_type": "stream",
     "text": [
      "Error in LBA function\n",
      "Node Search Split Error for:  n170 couldn't find an appropiate looking at k variables =  16\n",
      "TypeError: Node search split (CART) failure\n",
      "Split Found:  n171 [['car_ownership', ('car_ownership1',), 1.3753980131411518, 7]] right <TREEplus.NodeClass object at 0x000001BF263D6890> car_ownership in ('car_ownership1',)\n",
      "node_proportion_total  0.6383569293879654\n",
      "Node_proportion_gain  0.0002423629637071656\n",
      "Node Search Split Error for:  n342 with obs in node:  848  which is less than minimum parent size:  1000\n",
      "TypeError: Node search split (CART) failure\n",
      "Node Search Split Error for:  n343 with obs in node:  928  which is less than minimum parent size:  1000\n",
      "TypeError: Node search split (CART) failure\n",
      "Split Found:  n43 [['distance_group', ('distance05', 'distance06', 'distance07', 'distance08', 'distance09', 'distance10', 'distance11'), 1.2309869428077425, 5]] right <TREEplus.NodeClass object at 0x000001BF379382D0> distance_group in ('distance05', 'distance06', 'distance07', 'distance08', 'distance09', 'distance10', 'distance11')\n",
      "node_proportion_total  0.6386045100726847\n",
      "Node_proportion_gain  0.0002475806847193063\n",
      "Split Found:  n86 [['travel_month', ('travel_month1', 'travel_month12', 'travel_month4', 'travel_month6', 'travel_month7', 'travel_month8', 'travel_month9'), 1.0959054253293163, 6]] left <TREEplus.NodeClass object at 0x000001BF3F20D290> travel_month in ('travel_month1', 'travel_month12', 'travel_month4', 'travel_month6', 'travel_month7', 'travel_month8', 'travel_month9')\n",
      "node_proportion_total  0.6388264353883921\n",
      "Node_proportion_gain  0.00022192531570741636\n",
      "Node Search Split Error for:  n172 with obs in node:  595  which is less than minimum parent size:  1000\n",
      "TypeError: Node search split (CART) failure\n"
     ]
    },
    {
     "name": "stderr",
     "output_type": "stream",
     "text": [
      "R[write to console]: Error in solve.default(Tb) : \n",
      "  Lapack routine dgesv: system is exactly singular: U[2,2] = 0\n",
      "\n"
     ]
    },
    {
     "name": "stdout",
     "output_type": "stream",
     "text": [
      "Error in LBA function\n"
     ]
    },
    {
     "name": "stderr",
     "output_type": "stream",
     "text": [
      "R[write to console]: Error in solve.default(Tb) : \n",
      "  Lapack routine dgesv: system is exactly singular: U[2,2] = 0\n",
      "\n"
     ]
    },
    {
     "name": "stdout",
     "output_type": "stream",
     "text": [
      "Error in LBA function\n"
     ]
    },
    {
     "name": "stderr",
     "output_type": "stream",
     "text": [
      "R[write to console]: Error in solve.default(Tb) : \n",
      "  Lapack routine dgesv: system is exactly singular: U[2,2] = 0\n",
      "\n"
     ]
    },
    {
     "name": "stdout",
     "output_type": "stream",
     "text": [
      "Error in LBA function\n"
     ]
    },
    {
     "name": "stderr",
     "output_type": "stream",
     "text": [
      "R[write to console]: Error in solve.default(Tb) : \n",
      "  Lapack routine dgesv: system is exactly singular: U[2,2] = 0\n",
      "\n"
     ]
    },
    {
     "name": "stdout",
     "output_type": "stream",
     "text": [
      "Error in LBA function\n"
     ]
    },
    {
     "name": "stderr",
     "output_type": "stream",
     "text": [
      "R[write to console]: Error in solve.default(Tb) : \n",
      "  Lapack routine dgesv: system is exactly singular: U[2,2] = 0\n",
      "\n"
     ]
    },
    {
     "name": "stdout",
     "output_type": "stream",
     "text": [
      "Error in LBA function\n"
     ]
    },
    {
     "name": "stderr",
     "output_type": "stream",
     "text": [
      "R[write to console]: Error in solve.default(Tb) : \n",
      "  Lapack routine dgesv: system is exactly singular: U[2,2] = 0\n",
      "\n"
     ]
    },
    {
     "name": "stdout",
     "output_type": "stream",
     "text": [
      "Error in LBA function\n",
      "Split Found:  n173 [['day_of_week', ('day_of_week2', 'day_of_week4', 'day_of_week6'), 1.0248532905396255, 7]] right <TREEplus.NodeClass object at 0x000001BF3F226FD0> day_of_week in ('day_of_week2', 'day_of_week4', 'day_of_week6')\n",
      "node_proportion_total  0.639038594450234\n",
      "Node_proportion_gain  0.00021215906184191002\n",
      "Node Search Split Error for:  n346 with obs in node:  587  which is less than minimum parent size:  1000\n",
      "TypeError: Node search split (CART) failure\n",
      "Node Search Split Error for:  n347 with obs in node:  519  which is less than minimum parent size:  1000\n",
      "TypeError: Node search split (CART) failure\n",
      "Split Found:  n87 [['trafficperc_group', ('0low_traffic',), 1.384118118810577, 6]] right <TREEplus.NodeClass object at 0x000001BF2633E550> trafficperc_group in ('0low_traffic',)\n",
      "node_proportion_total  0.6392520081678457\n",
      "Node_proportion_gain  0.00021341371761163241\n",
      "Split Found:  n174 [['day_of_week', ('day_of_week6', 'day_of_week7'), 1.31784165896851, 7]] left <TREEplus.NodeClass object at 0x000001BF3F1F8710> day_of_week in ('day_of_week6', 'day_of_week7')\n",
      "node_proportion_total  0.6394483445374572\n",
      "Node_proportion_gain  0.00019633636961158274\n",
      "Split Found:  n348 [['cost_group', ('high_cost', 'medium_cost'), 1.2538283741848897, 8]] left <TREEplus.NodeClass object at 0x000001BF2634D6D0> cost_group in ('high_cost', 'medium_cost')\n",
      "node_proportion_total  0.6396357689222503\n",
      "Node_proportion_gain  0.00018742438479302237\n"
     ]
    },
    {
     "name": "stderr",
     "output_type": "stream",
     "text": [
      "R[write to console]: Error in solve.default(Tb) : 'a' (1 x 2) must be square\n",
      "\n"
     ]
    },
    {
     "name": "stdout",
     "output_type": "stream",
     "text": [
      "Error in LBA function\n"
     ]
    },
    {
     "name": "stderr",
     "output_type": "stream",
     "text": [
      "R[write to console]: Error in solve.default(Tb) : 'a' (1 x 2) must be square\n",
      "\n"
     ]
    },
    {
     "name": "stdout",
     "output_type": "stream",
     "text": [
      "Error in LBA function\n"
     ]
    },
    {
     "name": "stderr",
     "output_type": "stream",
     "text": [
      "R[write to console]: Error in solve.default(Tb) : 'a' (1 x 2) must be square\n",
      "\n"
     ]
    },
    {
     "name": "stdout",
     "output_type": "stream",
     "text": [
      "Error in LBA function\n"
     ]
    },
    {
     "name": "stderr",
     "output_type": "stream",
     "text": [
      "R[write to console]: Error in solve.default(Tb) : 'a' (1 x 2) must be square\n",
      "\n"
     ]
    },
    {
     "name": "stdout",
     "output_type": "stream",
     "text": [
      "Error in LBA function\n"
     ]
    },
    {
     "name": "stderr",
     "output_type": "stream",
     "text": [
      "R[write to console]: Error in solve.default(Tb) : 'a' (1 x 2) must be square\n",
      "\n"
     ]
    },
    {
     "name": "stdout",
     "output_type": "stream",
     "text": [
      "Error in LBA function\n"
     ]
    },
    {
     "name": "stderr",
     "output_type": "stream",
     "text": [
      "R[write to console]: Error in solve.default(Tb) : 'a' (1 x 2) must be square\n",
      "\n"
     ]
    },
    {
     "name": "stdout",
     "output_type": "stream",
     "text": [
      "Error in LBA function\n"
     ]
    },
    {
     "name": "stderr",
     "output_type": "stream",
     "text": [
      "R[write to console]: Error in solve.default(Tb) : 'a' (1 x 2) must be square\n",
      "\n"
     ]
    },
    {
     "name": "stdout",
     "output_type": "stream",
     "text": [
      "Error in LBA function\n"
     ]
    },
    {
     "name": "stderr",
     "output_type": "stream",
     "text": [
      "R[write to console]: Error in solve.default(Tb) : 'a' (1 x 2) must be square\n",
      "\n"
     ]
    },
    {
     "name": "stdout",
     "output_type": "stream",
     "text": [
      "Error in LBA function\n",
      "Split Found:  n696 [['costdrivingfuel_group', ('costdrivingfuelgroup10', 'costdrivingfuelgroup2', 'costdrivingfuelgroup8', 'costdrivingfuelgroup9'), 1.1682486440825375, 9]] left <TREEplus.NodeClass object at 0x000001BF3F1EAB50> costdrivingfuel_group in ('costdrivingfuelgroup10', 'costdrivingfuelgroup2', 'costdrivingfuelgroup8', 'costdrivingfuelgroup9')\n",
      "node_proportion_total  0.6398157258561524\n",
      "Node_proportion_gain  0.00017995693390215894\n"
     ]
    },
    {
     "name": "stderr",
     "output_type": "stream",
     "text": [
      "R[write to console]: Error in solve.default(Tb) : 'a' (1 x 2) must be square\n",
      "\n"
     ]
    },
    {
     "name": "stdout",
     "output_type": "stream",
     "text": [
      "Error in LBA function\n"
     ]
    },
    {
     "name": "stderr",
     "output_type": "stream",
     "text": [
      "R[write to console]: Error in solve.default(Tb) : 'a' (1 x 2) must be square\n",
      "\n"
     ]
    },
    {
     "name": "stdout",
     "output_type": "stream",
     "text": [
      "Error in LBA function\n"
     ]
    },
    {
     "name": "stderr",
     "output_type": "stream",
     "text": [
      "R[write to console]: Error in solve.default(Tb) : 'a' (1 x 2) must be square\n",
      "\n"
     ]
    },
    {
     "name": "stdout",
     "output_type": "stream",
     "text": [
      "Error in LBA function\n"
     ]
    },
    {
     "name": "stderr",
     "output_type": "stream",
     "text": [
      "R[write to console]: Error in solve.default(Tb) : 'a' (1 x 2) must be square\n",
      "\n"
     ]
    },
    {
     "name": "stdout",
     "output_type": "stream",
     "text": [
      "Error in LBA function\n"
     ]
    },
    {
     "name": "stderr",
     "output_type": "stream",
     "text": [
      "R[write to console]: Error in solve.default(Tb) : 'a' (1 x 2) must be square\n",
      "\n"
     ]
    },
    {
     "name": "stdout",
     "output_type": "stream",
     "text": [
      "Error in LBA function\n"
     ]
    },
    {
     "name": "stderr",
     "output_type": "stream",
     "text": [
      "R[write to console]: Error in solve.default(Tb) : 'a' (1 x 2) must be square\n",
      "\n"
     ]
    },
    {
     "name": "stdout",
     "output_type": "stream",
     "text": [
      "Error in LBA function\n"
     ]
    },
    {
     "name": "stderr",
     "output_type": "stream",
     "text": [
      "R[write to console]: Error in solve.default(Tb) : 'a' (1 x 2) must be square\n",
      "\n"
     ]
    },
    {
     "name": "stdout",
     "output_type": "stream",
     "text": [
      "Error in LBA function\n"
     ]
    },
    {
     "name": "stderr",
     "output_type": "stream",
     "text": [
      "R[write to console]: Error in solve.default(Tb) : 'a' (1 x 2) must be square\n",
      "\n"
     ]
    },
    {
     "name": "stdout",
     "output_type": "stream",
     "text": [
      "Error in LBA function\n",
      "Node Search Split Error for:  n1392 couldn't find an appropiate looking at k variables =  16\n",
      "TypeError: Node search split (CART) failure\n",
      "Node Search Split Error for:  n1393 with obs in node:  613  which is less than minimum parent size:  1000\n",
      "TypeError: Node search split (CART) failure\n"
     ]
    },
    {
     "name": "stderr",
     "output_type": "stream",
     "text": [
      "R[write to console]: Error in solve.default(Tb) : \n",
      "  Lapack routine dgesv: system is exactly singular: U[2,2] = 0\n",
      "\n"
     ]
    },
    {
     "name": "stdout",
     "output_type": "stream",
     "text": [
      "Error in LBA function\n"
     ]
    },
    {
     "name": "stderr",
     "output_type": "stream",
     "text": [
      "R[write to console]: Error in solve.default(Tb) : \n",
      "  Lapack routine dgesv: system is exactly singular: U[2,2] = 0\n",
      "\n"
     ]
    },
    {
     "name": "stdout",
     "output_type": "stream",
     "text": [
      "Error in LBA function\n"
     ]
    },
    {
     "name": "stderr",
     "output_type": "stream",
     "text": [
      "R[write to console]: Error in solve.default(Tb) : \n",
      "  Lapack routine dgesv: system is exactly singular: U[2,2] = 0\n",
      "\n"
     ]
    },
    {
     "name": "stdout",
     "output_type": "stream",
     "text": [
      "Error in LBA function\n"
     ]
    },
    {
     "name": "stderr",
     "output_type": "stream",
     "text": [
      "R[write to console]: Error in solve.default(Tb) : \n",
      "  Lapack routine dgesv: system is exactly singular: U[2,2] = 0\n",
      "\n"
     ]
    },
    {
     "name": "stdout",
     "output_type": "stream",
     "text": [
      "Error in LBA function\n"
     ]
    },
    {
     "name": "stderr",
     "output_type": "stream",
     "text": [
      "R[write to console]: Error in solve.default(Tb) : \n",
      "  Lapack routine dgesv: system is exactly singular: U[2,2] = 0\n",
      "\n"
     ]
    },
    {
     "name": "stdout",
     "output_type": "stream",
     "text": [
      "Error in LBA function\n"
     ]
    },
    {
     "name": "stderr",
     "output_type": "stream",
     "text": [
      "R[write to console]: Error in solve.default(Tb) : \n",
      "  Lapack routine dgesv: system is exactly singular: U[2,2] = 0\n",
      "\n"
     ]
    },
    {
     "name": "stdout",
     "output_type": "stream",
     "text": [
      "Error in LBA function\n",
      "Split Found:  n697 [['female', ('female0',), 1.3435150017680657, 9]] right <TREEplus.NodeClass object at 0x000001BF2634F890> female in ('female0',)\n",
      "node_proportion_total  0.6399876730281859\n",
      "Node_proportion_gain  0.00017194717203350418\n",
      "Node Search Split Error for:  n1394 with obs in node:  732  which is less than minimum parent size:  1000\n",
      "TypeError: Node search split (CART) failure\n",
      "Node Search Split Error for:  n1395 with obs in node:  735  which is less than minimum parent size:  1000\n",
      "TypeError: Node search split (CART) failure\n"
     ]
    },
    {
     "name": "stderr",
     "output_type": "stream",
     "text": [
      "R[write to console]: Error in solve.default(Tb) : 'a' (1 x 2) must be square\n",
      "\n"
     ]
    },
    {
     "name": "stdout",
     "output_type": "stream",
     "text": [
      "Error in LBA function\n"
     ]
    },
    {
     "name": "stderr",
     "output_type": "stream",
     "text": [
      "R[write to console]: Error in solve.default(Tb) : 'a' (1 x 2) must be square\n",
      "\n"
     ]
    },
    {
     "name": "stdout",
     "output_type": "stream",
     "text": [
      "Error in LBA function\n"
     ]
    },
    {
     "name": "stderr",
     "output_type": "stream",
     "text": [
      "R[write to console]: Error in solve.default(Tb) : 'a' (1 x 2) must be square\n",
      "\n"
     ]
    },
    {
     "name": "stdout",
     "output_type": "stream",
     "text": [
      "Error in LBA function\n"
     ]
    },
    {
     "name": "stderr",
     "output_type": "stream",
     "text": [
      "R[write to console]: Error in solve.default(Tb) : 'a' (1 x 2) must be square\n",
      "\n"
     ]
    },
    {
     "name": "stdout",
     "output_type": "stream",
     "text": [
      "Error in LBA function\n"
     ]
    },
    {
     "name": "stderr",
     "output_type": "stream",
     "text": [
      "R[write to console]: Error in solve.default(Tb) : 'a' (1 x 2) must be square\n",
      "\n"
     ]
    },
    {
     "name": "stdout",
     "output_type": "stream",
     "text": [
      "Error in LBA function\n"
     ]
    },
    {
     "name": "stderr",
     "output_type": "stream",
     "text": [
      "R[write to console]: Error in solve.default(Tb) : 'a' (1 x 2) must be square\n",
      "\n"
     ]
    },
    {
     "name": "stdout",
     "output_type": "stream",
     "text": [
      "Error in LBA function\n",
      "Split Found:  n349 [['car_ownership', ('car_ownership1',), 1.4351373188520524, 8]] right <TREEplus.NodeClass object at 0x000001BF3F1E8BD0> car_ownership in ('car_ownership1',)\n",
      "node_proportion_total  0.6401541061856321\n",
      "Node_proportion_gain  0.00016643315744613307\n",
      "Node Search Split Error for:  n698 with obs in node:  540  which is less than minimum parent size:  1000\n",
      "TypeError: Node search split (CART) failure\n",
      "Node Search Split Error for:  n699 with obs in node:  957  which is less than minimum parent size:  1000\n",
      "TypeError: Node search split (CART) failure\n",
      "Split Found:  n175 [['day_of_week', ('day_of_week7',), 1.5604457990536575, 7]] right <TREEplus.NodeClass object at 0x000001BF3793AE90> day_of_week in ('day_of_week7',)\n",
      "node_proportion_total  0.6403149948247474\n",
      "Node_proportion_gain  0.0001608886391153419\n",
      "Split Found:  n350 [['travel_month', ('travel_month1', 'travel_month10', 'travel_month12', 'travel_month2', 'travel_month4', 'travel_month5', 'travel_month6', 'travel_month7', 'travel_month8', 'travel_month9'), 1.4241943355672746, 8]] left <TREEplus.NodeClass object at 0x000001BF37925390> travel_month in ('travel_month1', 'travel_month10', 'travel_month12', 'travel_month2', 'travel_month4', 'travel_month5', 'travel_month6', 'travel_month7', 'travel_month8', 'travel_month9')\n",
      "node_proportion_total  0.6404686821960331\n",
      "Node_proportion_gain  0.00015368737128573784\n",
      "Node Search Split Error for:  n700 with obs in node:  656  which is less than minimum parent size:  1000\n",
      "TypeError: Node search split (CART) failure\n",
      "Split Found:  n701 [['travel_month', ('travel_month1', 'travel_month2', 'travel_month4'), 1.5136145194185593, 9]] right <TREEplus.NodeClass object at 0x000001BF227EC050> travel_month in ('travel_month1', 'travel_month2', 'travel_month4')\n",
      "node_proportion_total  0.640617429657608\n",
      "Node_proportion_gain  0.00014874746157489405\n",
      "Split Found:  n1402 [['cost_group', ('high_cost', 'medium_cost'), 1.4814811953691445, 10]] left <TREEplus.NodeClass object at 0x000001BF3F25BCD0> cost_group in ('high_cost', 'medium_cost')\n",
      "node_proportion_total  0.640761131371357\n",
      "Node_proportion_gain  0.00014370171374900043\n"
     ]
    },
    {
     "name": "stderr",
     "output_type": "stream",
     "text": [
      "R[write to console]: Error in solve.default(Tb) : 'a' (1 x 2) must be square\n",
      "\n"
     ]
    },
    {
     "name": "stdout",
     "output_type": "stream",
     "text": [
      "Error in LBA function\n"
     ]
    },
    {
     "name": "stderr",
     "output_type": "stream",
     "text": [
      "R[write to console]: Error in solve.default(Tb) : 'a' (1 x 2) must be square\n",
      "\n"
     ]
    },
    {
     "name": "stdout",
     "output_type": "stream",
     "text": [
      "Error in LBA function\n"
     ]
    },
    {
     "name": "stderr",
     "output_type": "stream",
     "text": [
      "R[write to console]: Error in solve.default(Tb) : 'a' (1 x 2) must be square\n",
      "\n"
     ]
    },
    {
     "name": "stdout",
     "output_type": "stream",
     "text": [
      "Error in LBA function\n"
     ]
    },
    {
     "name": "stderr",
     "output_type": "stream",
     "text": [
      "R[write to console]: Error in solve.default(Tb) : 'a' (1 x 2) must be square\n",
      "\n"
     ]
    },
    {
     "name": "stdout",
     "output_type": "stream",
     "text": [
      "Error in LBA function\n"
     ]
    },
    {
     "name": "stderr",
     "output_type": "stream",
     "text": [
      "R[write to console]: Error in solve.default(Tb) : 'a' (1 x 2) must be square\n",
      "\n"
     ]
    },
    {
     "name": "stdout",
     "output_type": "stream",
     "text": [
      "Error in LBA function\n"
     ]
    },
    {
     "name": "stderr",
     "output_type": "stream",
     "text": [
      "R[write to console]: Error in solve.default(Tb) : 'a' (1 x 2) must be square\n",
      "\n"
     ]
    },
    {
     "name": "stdout",
     "output_type": "stream",
     "text": [
      "Error in LBA function\n",
      "Node Search Split Error for:  n1403 couldn't find an appropiate looking at k variables =  16\n",
      "TypeError: Node search split (CART) failure\n"
     ]
    },
    {
     "name": "stderr",
     "output_type": "stream",
     "text": [
      "R[write to console]: Error in solve.default(Tb) : 'a' (1 x 2) must be square\n",
      "\n"
     ]
    },
    {
     "name": "stdout",
     "output_type": "stream",
     "text": [
      "Error in LBA function\n"
     ]
    },
    {
     "name": "stderr",
     "output_type": "stream",
     "text": [
      "R[write to console]: Error in solve.default(Tb) : 'a' (1 x 2) must be square\n",
      "\n"
     ]
    },
    {
     "name": "stdout",
     "output_type": "stream",
     "text": [
      "Error in LBA function\n"
     ]
    },
    {
     "name": "stderr",
     "output_type": "stream",
     "text": [
      "R[write to console]: Error in solve.default(Tb) : 'a' (1 x 2) must be square\n",
      "\n"
     ]
    },
    {
     "name": "stdout",
     "output_type": "stream",
     "text": [
      "Error in LBA function\n"
     ]
    },
    {
     "name": "stderr",
     "output_type": "stream",
     "text": [
      "R[write to console]: Error in solve.default(Tb) : 'a' (1 x 2) must be square\n",
      "\n"
     ]
    },
    {
     "name": "stdout",
     "output_type": "stream",
     "text": [
      "Error in LBA function\n"
     ]
    },
    {
     "name": "stderr",
     "output_type": "stream",
     "text": [
      "R[write to console]: Error in solve.default(Tb) : 'a' (1 x 2) must be square\n",
      "\n"
     ]
    },
    {
     "name": "stdout",
     "output_type": "stream",
     "text": [
      "Error in LBA function\n"
     ]
    },
    {
     "name": "stderr",
     "output_type": "stream",
     "text": [
      "R[write to console]: Error in solve.default(Tb) : 'a' (1 x 2) must be square\n",
      "\n"
     ]
    },
    {
     "name": "stdout",
     "output_type": "stream",
     "text": [
      "Error in LBA function\n"
     ]
    },
    {
     "name": "stderr",
     "output_type": "stream",
     "text": [
      "R[write to console]: Error in solve.default(Tb) : 'a' (1 x 2) must be square\n",
      "\n"
     ]
    },
    {
     "name": "stdout",
     "output_type": "stream",
     "text": [
      "Error in LBA function\n"
     ]
    },
    {
     "name": "stderr",
     "output_type": "stream",
     "text": [
      "R[write to console]: Error in solve.default(Tb) : 'a' (1 x 2) must be square\n",
      "\n"
     ]
    },
    {
     "name": "stdout",
     "output_type": "stream",
     "text": [
      "Error in LBA function\n",
      "Split Found:  n351 [['car_ownership', ('car_ownership2',), 1.6764852915672916, 8]] right <TREEplus.NodeClass object at 0x000001BF3F2497D0> car_ownership in ('car_ownership2',)\n",
      "node_proportion_total  0.6408992183832084\n",
      "Node_proportion_gain  0.00013808701185136218\n",
      "Node Search Split Error for:  n702 with obs in node:  681  which is less than minimum parent size:  1000\n",
      "TypeError: Node search split (CART) failure\n",
      "Node Search Split Error for:  n703 with obs in node:  503  which is less than minimum parent size:  1000\n",
      "TypeError: Node search split (CART) failure\n",
      "Split Found:  n11 [['car_ownership', ('car_ownership1',), 1.2961460616020628, 3]] right <TREEplus.NodeClass object at 0x000001BF2507E390> car_ownership in ('car_ownership1',)\n",
      "node_proportion_total  0.6410362489061695\n",
      "Node_proportion_gain  0.0001370305229611013\n"
     ]
    },
    {
     "name": "stderr",
     "output_type": "stream",
     "text": [
      "R[write to console]: Error in solve.default(Tb) : 'a' (1 x 2) must be square\n",
      "\n"
     ]
    },
    {
     "name": "stdout",
     "output_type": "stream",
     "text": [
      "Error in LBA function\n"
     ]
    },
    {
     "name": "stderr",
     "output_type": "stream",
     "text": [
      "R[write to console]: Error in solve.default(Tb) : 'a' (1 x 2) must be square\n",
      "\n"
     ]
    },
    {
     "name": "stdout",
     "output_type": "stream",
     "text": [
      "Error in LBA function\n"
     ]
    },
    {
     "name": "stderr",
     "output_type": "stream",
     "text": [
      "R[write to console]: Error in solve.default(Tb) : 'a' (1 x 2) must be square\n",
      "\n"
     ]
    },
    {
     "name": "stdout",
     "output_type": "stream",
     "text": [
      "Error in LBA function\n"
     ]
    },
    {
     "name": "stderr",
     "output_type": "stream",
     "text": [
      "R[write to console]: Error in solve.default(Tb) : 'a' (1 x 2) must be square\n",
      "\n"
     ]
    },
    {
     "name": "stdout",
     "output_type": "stream",
     "text": [
      "Error in LBA function\n",
      "Node Search Split Error for:  n22 couldn't find an appropiate looking at k variables =  16\n",
      "TypeError: Node search split (CART) failure\n",
      "Split Found:  n23 [['driving_license', ('driving_license0',), 1.5269989121784544, 4]] right <TREEplus.NodeClass object at 0x000001BF263B4390> driving_license in ('driving_license0',)\n",
      "node_proportion_total  0.641166732753181\n",
      "Node_proportion_gain  0.00013048384701153104\n"
     ]
    },
    {
     "name": "stderr",
     "output_type": "stream",
     "text": [
      "R[write to console]: Error in solve.default(Tb) : 'a' (1 x 2) must be square\n",
      "\n"
     ]
    },
    {
     "name": "stdout",
     "output_type": "stream",
     "text": [
      "Error in LBA function\n"
     ]
    },
    {
     "name": "stderr",
     "output_type": "stream",
     "text": [
      "R[write to console]: Error in solve.default(Tb) : 'a' (1 x 2) must be square\n",
      "\n"
     ]
    },
    {
     "name": "stdout",
     "output_type": "stream",
     "text": [
      "Error in LBA function\n"
     ]
    },
    {
     "name": "stderr",
     "output_type": "stream",
     "text": [
      "R[write to console]: Error in solve.default(Tb) : 'a' (1 x 2) must be square\n",
      "\n"
     ]
    },
    {
     "name": "stdout",
     "output_type": "stream",
     "text": [
      "Error in LBA function\n"
     ]
    },
    {
     "name": "stderr",
     "output_type": "stream",
     "text": [
      "R[write to console]: Error in solve.default(Tb) : 'a' (1 x 2) must be square\n",
      "\n"
     ]
    },
    {
     "name": "stdout",
     "output_type": "stream",
     "text": [
      "Error in LBA function\n"
     ]
    },
    {
     "name": "stderr",
     "output_type": "stream",
     "text": [
      "R[write to console]: Error in solve.default(Tb) : 'a' (1 x 2) must be square\n",
      "\n"
     ]
    },
    {
     "name": "stdout",
     "output_type": "stream",
     "text": [
      "Error in LBA function\n"
     ]
    },
    {
     "name": "stderr",
     "output_type": "stream",
     "text": [
      "R[write to console]: Error in solve.default(Tb) : 'a' (1 x 2) must be square\n",
      "\n"
     ]
    },
    {
     "name": "stdout",
     "output_type": "stream",
     "text": [
      "Error in LBA function\n",
      "Split Found:  n46 [['travel_month', ('travel_month10', 'travel_month11', 'travel_month12', 'travel_month4', 'travel_month5', 'travel_month6', 'travel_month8', 'travel_month9'), 1.3239639562416263, 5]] left <TREEplus.NodeClass object at 0x000001BF24FFEBD0> travel_month in ('travel_month10', 'travel_month11', 'travel_month12', 'travel_month4', 'travel_month5', 'travel_month6', 'travel_month8', 'travel_month9')\n",
      "node_proportion_total  0.6412918871279719\n",
      "Node_proportion_gain  0.0001251543747908812\n",
      "Node Search Split Error for:  n92 with obs in node:  617  which is less than minimum parent size:  1000\n",
      "TypeError: Node search split (CART) failure\n"
     ]
    },
    {
     "name": "stderr",
     "output_type": "stream",
     "text": [
      "R[write to console]: Error in solve.default(Tb) : \n",
      "  Lapack routine dgesv: system is exactly singular: U[2,2] = 0\n",
      "\n"
     ]
    },
    {
     "name": "stdout",
     "output_type": "stream",
     "text": [
      "Error in LBA function\n"
     ]
    },
    {
     "name": "stderr",
     "output_type": "stream",
     "text": [
      "R[write to console]: Error in solve.default(Tb) : \n",
      "  Lapack routine dgesv: system is exactly singular: U[2,2] = 0\n",
      "\n"
     ]
    },
    {
     "name": "stdout",
     "output_type": "stream",
     "text": [
      "Error in LBA function\n"
     ]
    },
    {
     "name": "stderr",
     "output_type": "stream",
     "text": [
      "R[write to console]: Error in solve.default(Tb) : \n",
      "  Lapack routine dgesv: system is exactly singular: U[2,2] = 0\n",
      "\n"
     ]
    },
    {
     "name": "stdout",
     "output_type": "stream",
     "text": [
      "Error in LBA function\n"
     ]
    },
    {
     "name": "stderr",
     "output_type": "stream",
     "text": [
      "R[write to console]: Error in solve.default(Tb) : \n",
      "  Lapack routine dgesv: system is exactly singular: U[2,2] = 0\n",
      "\n"
     ]
    },
    {
     "name": "stdout",
     "output_type": "stream",
     "text": [
      "Error in LBA function\n"
     ]
    },
    {
     "name": "stderr",
     "output_type": "stream",
     "text": [
      "R[write to console]: Error in solve.default(Tb) : \n",
      "  Lapack routine dgesv: system is exactly singular: U[2,2] = 0\n",
      "\n"
     ]
    },
    {
     "name": "stdout",
     "output_type": "stream",
     "text": [
      "Error in LBA function\n"
     ]
    },
    {
     "name": "stderr",
     "output_type": "stream",
     "text": [
      "R[write to console]: Error in solve.default(Tb) : \n",
      "  Lapack routine dgesv: system is exactly singular: U[2,2] = 0\n",
      "\n"
     ]
    },
    {
     "name": "stdout",
     "output_type": "stream",
     "text": [
      "Error in LBA function\n",
      "Split Found:  n93 [['purpose', ('purpose1', 'purpose2'), 1.40924189315563, 6]] right <TREEplus.NodeClass object at 0x000001BF3F1D4890> purpose in ('purpose1', 'purpose2')\n",
      "node_proportion_total  0.6414133035958467\n",
      "Node_proportion_gain  0.00012141646787477978\n",
      "Node Search Split Error for:  n186 with obs in node:  736  which is less than minimum parent size:  1000\n",
      "TypeError: Node search split (CART) failure\n",
      "Node Search Split Error for:  n187 with obs in node:  857  which is less than minimum parent size:  1000\n",
      "TypeError: Node search split (CART) failure\n",
      "Node Search Split Error for:  n47 with obs in node:  607  which is less than minimum parent size:  1000\n",
      "TypeError: Node search split (CART) failure\n",
      "Split Found:  n3 [['distance_group', ('distance04', 'distance05', 'distance06', 'distance07', 'distance08', 'distance09', 'distance10', 'distance11'), 1.180552524923716, 1]] right <TREEplus.NodeClass object at 0x000001BF263B9250> distance_group in ('distance04', 'distance05', 'distance06', 'distance07', 'distance08', 'distance09', 'distance10', 'distance11')\n",
      "node_proportion_total  0.6421783629030007\n",
      "Node_proportion_gain  0.0007650593071539813\n",
      "Split Found:  n6 [['driving_license', ('driving_license0',), 1.1619663206327495, 2]] left <TREEplus.NodeClass object at 0x000001BF2633F290> driving_license in ('driving_license0',)\n",
      "node_proportion_total  0.6422833978477896\n",
      "Node_proportion_gain  0.00010503494478897313\n"
     ]
    },
    {
     "name": "stderr",
     "output_type": "stream",
     "text": [
      "R[write to console]: Error in solve.default(Tb) : 'a' (1 x 2) must be square\n",
      "\n"
     ]
    },
    {
     "name": "stdout",
     "output_type": "stream",
     "text": [
      "Error in LBA function\n"
     ]
    },
    {
     "name": "stderr",
     "output_type": "stream",
     "text": [
      "R[write to console]: Error in solve.default(Tb) : 'a' (1 x 2) must be square\n",
      "\n"
     ]
    },
    {
     "name": "stdout",
     "output_type": "stream",
     "text": [
      "Error in LBA function\n"
     ]
    },
    {
     "name": "stderr",
     "output_type": "stream",
     "text": [
      "R[write to console]: Error in solve.default(Tb) : 'a' (1 x 2) must be square\n",
      "\n"
     ]
    },
    {
     "name": "stdout",
     "output_type": "stream",
     "text": [
      "Error in LBA function\n"
     ]
    },
    {
     "name": "stderr",
     "output_type": "stream",
     "text": [
      "R[write to console]: Error in solve.default(Tb) : 'a' (1 x 2) must be square\n",
      "\n"
     ]
    },
    {
     "name": "stdout",
     "output_type": "stream",
     "text": [
      "Error in LBA function\n"
     ]
    },
    {
     "name": "stderr",
     "output_type": "stream",
     "text": [
      "R[write to console]: Error in solve.default(Tb) : 'a' (1 x 2) must be square\n",
      "\n"
     ]
    },
    {
     "name": "stdout",
     "output_type": "stream",
     "text": [
      "Error in LBA function\n"
     ]
    },
    {
     "name": "stderr",
     "output_type": "stream",
     "text": [
      "R[write to console]: Error in solve.default(Tb) : 'a' (1 x 2) must be square\n",
      "\n"
     ]
    },
    {
     "name": "stdout",
     "output_type": "stream",
     "text": [
      "Error in LBA function\n",
      "Split Found:  n12 [['travel_month', ('travel_month1', 'travel_month10', 'travel_month12', 'travel_month3', 'travel_month4', 'travel_month7', 'travel_month8', 'travel_month9'), 1.1772092376487109, 3]] left <TREEplus.NodeClass object at 0x000001BF379253D0> travel_month in ('travel_month1', 'travel_month10', 'travel_month12', 'travel_month3', 'travel_month4', 'travel_month7', 'travel_month8', 'travel_month9')\n",
      "node_proportion_total  0.6423837357222573\n",
      "Node_proportion_gain  0.00010033787446761533\n",
      "Node Search Split Error for:  n24 with obs in node:  631  which is less than minimum parent size:  1000\n",
      "TypeError: Node search split (CART) failure\n"
     ]
    },
    {
     "name": "stderr",
     "output_type": "stream",
     "text": [
      "R[write to console]: Error in solve.default(Tb) : 'a' (1 x 2) must be square\n",
      "\n"
     ]
    },
    {
     "name": "stdout",
     "output_type": "stream",
     "text": [
      "Error in LBA function\n"
     ]
    },
    {
     "name": "stderr",
     "output_type": "stream",
     "text": [
      "R[write to console]: Error in solve.default(Tb) : 'a' (1 x 2) must be square\n",
      "\n"
     ]
    },
    {
     "name": "stdout",
     "output_type": "stream",
     "text": [
      "Error in LBA function\n"
     ]
    },
    {
     "name": "stderr",
     "output_type": "stream",
     "text": [
      "R[write to console]: Error in solve.default(Tb) : 'a' (1 x 2) must be square\n",
      "\n"
     ]
    },
    {
     "name": "stdout",
     "output_type": "stream",
     "text": [
      "Error in LBA function\n"
     ]
    },
    {
     "name": "stderr",
     "output_type": "stream",
     "text": [
      "R[write to console]: Error in solve.default(Tb) : 'a' (1 x 2) must be square\n",
      "\n"
     ]
    },
    {
     "name": "stdout",
     "output_type": "stream",
     "text": [
      "Error in LBA function\n"
     ]
    },
    {
     "name": "stderr",
     "output_type": "stream",
     "text": [
      "R[write to console]: Error in solve.default(Tb) : 'a' (1 x 2) must be square\n",
      "\n"
     ]
    },
    {
     "name": "stdout",
     "output_type": "stream",
     "text": [
      "Error in LBA function\n"
     ]
    },
    {
     "name": "stderr",
     "output_type": "stream",
     "text": [
      "R[write to console]: Error in solve.default(Tb) : 'a' (1 x 2) must be square\n",
      "\n"
     ]
    },
    {
     "name": "stdout",
     "output_type": "stream",
     "text": [
      "Error in LBA function\n",
      "Split Found:  n25 [['travel_month', ('travel_month1', 'travel_month12', 'travel_month3', 'travel_month7'), 1.265607383281393, 4]] right <TREEplus.NodeClass object at 0x000001BF3F1C93D0> travel_month in ('travel_month1', 'travel_month12', 'travel_month3', 'travel_month7')\n",
      "node_proportion_total  0.6424804982826958\n",
      "Node_proportion_gain  9.676256043855691e-05\n",
      "This split isn't good now i cut it [cat delta]\n",
      "Split Found:  n13 [['faretype', ('faretype1', 'faretype2', 'faretype4'), 1.1446832293237028, 3]] right <TREEplus.NodeClass object at 0x000001BF36213D90> faretype in ('faretype1', 'faretype2', 'faretype4')\n",
      "node_proportion_total  0.6425903682316236\n",
      "Node_proportion_gain  0.00010986994892780988\n"
     ]
    },
    {
     "name": "stderr",
     "output_type": "stream",
     "text": [
      "R[write to console]: Error in solve.default(Tb) : 'a' (1 x 2) must be square\n",
      "\n"
     ]
    },
    {
     "name": "stdout",
     "output_type": "stream",
     "text": [
      "Error in LBA function\n"
     ]
    },
    {
     "name": "stderr",
     "output_type": "stream",
     "text": [
      "R[write to console]: Error in solve.default(Tb) : 'a' (1 x 2) must be square\n",
      "\n"
     ]
    },
    {
     "name": "stdout",
     "output_type": "stream",
     "text": [
      "Error in LBA function\n"
     ]
    },
    {
     "name": "stderr",
     "output_type": "stream",
     "text": [
      "R[write to console]: Error in solve.default(Tb) : 'a' (1 x 2) must be square\n",
      "\n"
     ]
    },
    {
     "name": "stdout",
     "output_type": "stream",
     "text": [
      "Error in LBA function\n"
     ]
    },
    {
     "name": "stderr",
     "output_type": "stream",
     "text": [
      "R[write to console]: Error in solve.default(Tb) : 'a' (1 x 2) must be square\n",
      "\n"
     ]
    },
    {
     "name": "stdout",
     "output_type": "stream",
     "text": [
      "Error in LBA function\n"
     ]
    },
    {
     "name": "stderr",
     "output_type": "stream",
     "text": [
      "R[write to console]: Error in solve.default(Tb) : 'a' (1 x 2) must be square\n",
      "\n"
     ]
    },
    {
     "name": "stdout",
     "output_type": "stream",
     "text": [
      "Error in LBA function\n"
     ]
    },
    {
     "name": "stderr",
     "output_type": "stream",
     "text": [
      "R[write to console]: Error in solve.default(Tb) : 'a' (1 x 2) must be square\n",
      "\n"
     ]
    },
    {
     "name": "stdout",
     "output_type": "stream",
     "text": [
      "Error in LBA function\n"
     ]
    },
    {
     "name": "stderr",
     "output_type": "stream",
     "text": [
      "R[write to console]: Error in solve.default(Tb) : 'a' (1 x 2) must be square\n",
      "\n"
     ]
    },
    {
     "name": "stdout",
     "output_type": "stream",
     "text": [
      "Error in LBA function\n"
     ]
    },
    {
     "name": "stderr",
     "output_type": "stream",
     "text": [
      "R[write to console]: Error in solve.default(Tb) : 'a' (1 x 2) must be square\n",
      "\n"
     ]
    },
    {
     "name": "stdout",
     "output_type": "stream",
     "text": [
      "Error in LBA function\n"
     ]
    },
    {
     "name": "stderr",
     "output_type": "stream",
     "text": [
      "R[write to console]: Error in solve.default(Tb) : 'a' (1 x 2) must be square\n",
      "\n"
     ]
    },
    {
     "name": "stdout",
     "output_type": "stream",
     "text": [
      "Error in LBA function\n"
     ]
    },
    {
     "name": "stderr",
     "output_type": "stream",
     "text": [
      "R[write to console]: Error in solve.default(Tb) : 'a' (1 x 2) must be square\n",
      "\n"
     ]
    },
    {
     "name": "stdout",
     "output_type": "stream",
     "text": [
      "Error in LBA function\n",
      "Split Found:  n26 [['distance_group', ('distance01',), 1.1433680836609765, 4]] left <TREEplus.NodeClass object at 0x000001BF26332350> distance_group in ('distance01',)\n",
      "node_proportion_total  0.6426998098909192\n",
      "Node_proportion_gain  0.00010944165929560601\n"
     ]
    },
    {
     "name": "stderr",
     "output_type": "stream",
     "text": [
      "R[write to console]: Error in solve.default(Tb) : 'a' (1 x 2) must be square\n",
      "\n"
     ]
    },
    {
     "name": "stdout",
     "output_type": "stream",
     "text": [
      "Error in LBA function\n"
     ]
    },
    {
     "name": "stderr",
     "output_type": "stream",
     "text": [
      "R[write to console]: Error in solve.default(Tb) : 'a' (1 x 2) must be square\n",
      "\n"
     ]
    },
    {
     "name": "stdout",
     "output_type": "stream",
     "text": [
      "Error in LBA function\n"
     ]
    },
    {
     "name": "stderr",
     "output_type": "stream",
     "text": [
      "R[write to console]: Error in solve.default(Tb) : 'a' (1 x 2) must be square\n",
      "\n"
     ]
    },
    {
     "name": "stdout",
     "output_type": "stream",
     "text": [
      "Error in LBA function\n"
     ]
    },
    {
     "name": "stderr",
     "output_type": "stream",
     "text": [
      "R[write to console]: Error in solve.default(Tb) : 'a' (1 x 2) must be square\n",
      "\n"
     ]
    },
    {
     "name": "stdout",
     "output_type": "stream",
     "text": [
      "Error in LBA function\n"
     ]
    },
    {
     "name": "stderr",
     "output_type": "stream",
     "text": [
      "R[write to console]: Error in solve.default(Tb) : 'a' (1 x 2) must be square\n",
      "\n"
     ]
    },
    {
     "name": "stdout",
     "output_type": "stream",
     "text": [
      "Error in LBA function\n"
     ]
    },
    {
     "name": "stderr",
     "output_type": "stream",
     "text": [
      "R[write to console]: Error in solve.default(Tb) : 'a' (1 x 2) must be square\n",
      "\n"
     ]
    },
    {
     "name": "stdout",
     "output_type": "stream",
     "text": [
      "Error in LBA function\n"
     ]
    },
    {
     "name": "stderr",
     "output_type": "stream",
     "text": [
      "R[write to console]: Error in solve.default(Tb) : 'a' (1 x 2) must be square\n",
      "\n"
     ]
    },
    {
     "name": "stdout",
     "output_type": "stream",
     "text": [
      "Error in LBA function\n"
     ]
    },
    {
     "name": "stderr",
     "output_type": "stream",
     "text": [
      "R[write to console]: Error in solve.default(Tb) : 'a' (1 x 2) must be square\n",
      "\n"
     ]
    },
    {
     "name": "stdout",
     "output_type": "stream",
     "text": [
      "Error in LBA function\n"
     ]
    },
    {
     "name": "stderr",
     "output_type": "stream",
     "text": [
      "R[write to console]: Error in solve.default(Tb) : 'a' (1 x 2) must be square\n",
      "\n"
     ]
    },
    {
     "name": "stdout",
     "output_type": "stream",
     "text": [
      "Error in LBA function\n"
     ]
    },
    {
     "name": "stderr",
     "output_type": "stream",
     "text": [
      "R[write to console]: Error in solve.default(Tb) : 'a' (1 x 2) must be square\n",
      "\n"
     ]
    },
    {
     "name": "stdout",
     "output_type": "stream",
     "text": [
      "Error in LBA function\n",
      "Split Found:  n52 [['age_group', ('age_group19-30', 'age_group31-65', 'age_group66+'), 0.939147396045271, 5]] left <TREEplus.NodeClass object at 0x000001BF3F20FC90> age_group in ('age_group19-30', 'age_group31-65', 'age_group66+')\n",
      "node_proportion_total  0.6427966137126506\n",
      "Node_proportion_gain  9.68038217313838e-05\n",
      "This split isn't good now i cut it [cat delta]\n",
      "Node Search Split Error for:  n53 with obs in node:  627  which is less than minimum parent size:  1000\n",
      "TypeError: Node search split (CART) failure\n",
      "Split Found:  n27 [['female', ('female1',), 1.365103265216768, 4]] right <TREEplus.NodeClass object at 0x000001BF26352490> female in ('female1',)\n",
      "node_proportion_total  0.6428823605671191\n",
      "Node_proportion_gain  8.574685446849362e-05\n",
      "This split isn't good now i cut it [cat delta]\n",
      "Split Found:  n7 [['drivingcharge_group', ('high_charge',), 1.316035753872903, 2]] right <TREEplus.NodeClass object at 0x000001BF3F2DE1D0> drivingcharge_group in ('high_charge',)\n",
      "node_proportion_total  0.6429725463510068\n",
      "Node_proportion_gain  9.018578388764187e-05\n",
      "This split isn't good now i cut it [cat delta]\n"
     ]
    },
    {
     "data": {
      "text/plain": [
       "((((((((None, None), (None, (None, None))), None), (None, None)),\n",
       "    (None, None)),\n",
       "   None),\n",
       "  ((((None, (None, None)),\n",
       "     ((((None, None), (None, None)),\n",
       "       ((None, None), ((None, (None, None)), (None, None)))),\n",
       "      ((None, None), (None, None)))),\n",
       "    (((None, ((((None, None), None), ((None, None), None)), (None, None))),\n",
       "      (None, (None, None))),\n",
       "     ((None, (None, None)),\n",
       "      ((((None, None), (None, None)), (None, None)),\n",
       "       ((None, ((None, None), None)), (None, None)))))),\n",
       "   (None, ((None, (None, None)), None)))),\n",
       " (((None, None), ((None, None), None)), None))"
      ]
     },
     "execution_count": 11,
     "metadata": {},
     "output_type": "execute_result"
    }
   ],
   "source": [
    "my_tree = NodeClass('n1', indici) \n",
    "tree = TREEplus(y,features,features_names,n_features,n_features_names,impurity_fn = \"tau\",problem=\"classifier\",method = \"LATENT-BUDGET-TREE\",twoing = False, max_level = 10, min_cases_parent= 1000,min_cases_child= 500, min_imp_gain = 0.0001, surrogate_split = False) \n",
    "tree.growing_tree(my_tree, max_k = 5, combination_split = False , max_c = 5) \n"
   ]
  },
  {
   "cell_type": "code",
   "execution_count": 28,
   "metadata": {},
   "outputs": [
    {
     "data": {
      "application/vnd.plotly.v1+json": {
       "config": {
        "plotlyServerURL": "https://plot.ly"
       },
       "data": [
        {
         "hoverinfo": "none",
         "line": {
          "color": "rgb(210,210,210)",
          "width": 1
         },
         "mode": "lines",
         "type": "scatter",
         "x": [
          0,
          -325.9521484375,
          null,
          0,
          325.9521484375,
          null,
          -325.9521484375,
          -564.5478515625,
          null,
          -325.9521484375,
          -87.3564453125,
          null,
          325.9521484375,
          197.9521484375,
          null,
          325.9521484375,
          453.9521484375,
          null,
          -564.5478515625,
          -692.5478515625,
          null,
          -564.5478515625,
          -436.5478515625,
          null,
          -87.3564453125,
          -180.6650390625,
          null,
          -87.3564453125,
          5.9521484375,
          null,
          197.9521484375,
          133.9521484375,
          null,
          197.9521484375,
          261.9521484375,
          null,
          -692.5478515625,
          -756.5478515625,
          null,
          -692.5478515625,
          -628.5478515625,
          null,
          -180.6650390625,
          -244.5478515625,
          null,
          -180.6650390625,
          -116.7822265625,
          null,
          5.9521484375,
          -26.0478515625,
          null,
          5.9521484375,
          37.9521484375,
          null,
          133.9521484375,
          101.9521484375,
          null,
          133.9521484375,
          165.9521484375,
          null,
          261.9521484375,
          229.9521484375,
          null,
          261.9521484375,
          293.9521484375,
          null,
          -756.5478515625,
          -788.5478515625,
          null,
          -756.5478515625,
          -724.5478515625,
          null,
          -628.5478515625,
          -660.5478515625,
          null,
          -628.5478515625,
          -596.5478515625,
          null,
          -244.5478515625,
          -276.5478515625,
          null,
          -244.5478515625,
          -212.5478515625,
          null,
          -116.7822265625,
          -148.5478515625,
          null,
          -116.7822265625,
          -85.0166015625,
          null,
          37.9521484375,
          21.9521484375,
          null,
          37.9521484375,
          53.9521484375,
          null,
          229.9521484375,
          213.9521484375,
          null,
          229.9521484375,
          245.9521484375,
          null,
          -788.5478515625,
          -804.5478515625,
          null,
          -788.5478515625,
          -772.5478515625,
          null,
          -724.5478515625,
          -740.5478515625,
          null,
          -724.5478515625,
          -708.5478515625,
          null,
          -276.5478515625,
          -292.5478515625,
          null,
          -276.5478515625,
          -260.5478515625,
          null,
          -212.5478515625,
          -228.5478515625,
          null,
          -212.5478515625,
          -196.5478515625,
          null,
          -148.5478515625,
          -164.5478515625,
          null,
          -148.5478515625,
          -132.5478515625,
          null,
          -85.0166015625,
          -100.5478515625,
          null,
          -85.0166015625,
          -69.4853515625,
          null,
          21.9521484375,
          13.9521484375,
          null,
          21.9521484375,
          29.9521484375,
          null,
          -804.5478515625,
          -812.5478515625,
          null,
          -804.5478515625,
          -796.5478515625,
          null,
          -260.5478515625,
          -268.5478515625,
          null,
          -260.5478515625,
          -252.5478515625,
          null,
          -228.5478515625,
          -236.5478515625,
          null,
          -228.5478515625,
          -220.5478515625,
          null,
          -196.5478515625,
          -204.5478515625,
          null,
          -196.5478515625,
          -188.5478515625,
          null,
          -164.5478515625,
          -172.5478515625,
          null,
          -164.5478515625,
          -156.5478515625,
          null,
          -132.5478515625,
          -140.5478515625,
          null,
          -132.5478515625,
          -124.5478515625,
          null,
          -100.5478515625,
          -108.5478515625,
          null,
          -100.5478515625,
          -92.5478515625,
          null,
          -69.4853515625,
          -76.5478515625,
          null,
          -69.4853515625,
          -62.4228515625,
          null,
          29.9521484375,
          25.9521484375,
          null,
          29.9521484375,
          33.9521484375,
          null,
          -812.5478515625,
          -816.5478515625,
          null,
          -812.5478515625,
          -808.5478515625,
          null,
          -796.5478515625,
          -800.5478515625,
          null,
          -796.5478515625,
          -792.5478515625,
          null,
          -236.5478515625,
          -240.5478515625,
          null,
          -236.5478515625,
          -232.5478515625,
          null,
          -220.5478515625,
          -224.5478515625,
          null,
          -220.5478515625,
          -216.5478515625,
          null,
          -204.5478515625,
          -208.5478515625,
          null,
          -204.5478515625,
          -200.5478515625,
          null,
          -188.5478515625,
          -192.5478515625,
          null,
          -188.5478515625,
          -184.5478515625,
          null,
          -156.5478515625,
          -160.5478515625,
          null,
          -156.5478515625,
          -152.5478515625,
          null,
          -124.5478515625,
          -128.5478515625,
          null,
          -124.5478515625,
          -120.5478515625,
          null,
          -92.5478515625,
          -96.5478515625,
          null,
          -92.5478515625,
          -88.5478515625,
          null,
          -76.5478515625,
          -80.5478515625,
          null,
          -76.5478515625,
          -72.5478515625,
          null,
          -62.4228515625,
          -64.7978515625,
          null,
          -62.4228515625,
          -60.0478515625,
          null,
          -792.5478515625,
          -794.5478515625,
          null,
          -792.5478515625,
          -790.5478515625,
          null,
          -240.5478515625,
          -242.5478515625,
          null,
          -240.5478515625,
          -238.5478515625,
          null,
          -232.5478515625,
          -234.5478515625,
          null,
          -232.5478515625,
          -230.5478515625,
          null,
          -224.5478515625,
          -226.5478515625,
          null,
          -224.5478515625,
          -222.5478515625,
          null,
          -216.5478515625,
          -218.5478515625,
          null,
          -216.5478515625,
          -214.5478515625,
          null,
          -160.5478515625,
          -162.5478515625,
          null,
          -160.5478515625,
          -158.5478515625,
          null,
          -152.5478515625,
          -154.5478515625,
          null,
          -152.5478515625,
          -150.5478515625,
          null,
          -80.5478515625,
          -82.5478515625,
          null,
          -80.5478515625,
          -78.5478515625,
          null,
          -72.5478515625,
          -74.5478515625,
          null,
          -72.5478515625,
          -70.5478515625,
          null,
          -64.7978515625,
          -66.5478515625,
          null,
          -64.7978515625,
          -63.0478515625,
          null,
          -60.0478515625,
          -61.0478515625,
          null,
          -60.0478515625,
          -59.0478515625,
          null,
          -218.5478515625,
          -219.5478515625,
          null,
          -218.5478515625,
          -217.5478515625,
          null,
          -214.5478515625,
          -215.5478515625,
          null,
          -214.5478515625,
          -213.5478515625,
          null,
          -162.5478515625,
          -163.5478515625,
          null,
          -162.5478515625,
          -161.5478515625,
          null,
          -158.5478515625,
          -159.5478515625,
          null,
          -158.5478515625,
          -157.5478515625,
          null,
          -82.5478515625,
          -83.5478515625,
          null,
          -82.5478515625,
          -81.5478515625,
          null,
          -78.5478515625,
          -79.5478515625,
          null,
          -78.5478515625,
          -77.5478515625,
          null,
          -63.0478515625,
          -63.5478515625,
          null,
          -63.0478515625,
          -62.5478515625,
          null,
          -217.5478515625,
          -218.0478515625,
          null,
          -217.5478515625,
          -217.0478515625,
          null,
          -163.5478515625,
          -164.0478515625,
          null,
          -163.5478515625,
          -163.0478515625,
          null,
          -159.5478515625,
          -160.0478515625,
          null,
          -159.5478515625,
          -159.0478515625,
          null,
          -63.5478515625,
          -64.0478515625,
          null,
          -63.5478515625,
          -63.0478515625,
          null
         ],
         "y": [
          14,
          13,
          null,
          14,
          13,
          null,
          13,
          12,
          null,
          13,
          12,
          null,
          13,
          12,
          null,
          13,
          12,
          null,
          12,
          11,
          null,
          12,
          11,
          null,
          12,
          11,
          null,
          12,
          11,
          null,
          12,
          11,
          null,
          12,
          11,
          null,
          11,
          10,
          null,
          11,
          10,
          null,
          11,
          10,
          null,
          11,
          10,
          null,
          11,
          10,
          null,
          11,
          10,
          null,
          11,
          10,
          null,
          11,
          10,
          null,
          11,
          10,
          null,
          11,
          10,
          null,
          10,
          9,
          null,
          10,
          9,
          null,
          10,
          9,
          null,
          10,
          9,
          null,
          10,
          9,
          null,
          10,
          9,
          null,
          10,
          9,
          null,
          10,
          9,
          null,
          10,
          9,
          null,
          10,
          9,
          null,
          10,
          9,
          null,
          10,
          9,
          null,
          9,
          8,
          null,
          9,
          8,
          null,
          9,
          8,
          null,
          9,
          8,
          null,
          9,
          8,
          null,
          9,
          8,
          null,
          9,
          8,
          null,
          9,
          8,
          null,
          9,
          8,
          null,
          9,
          8,
          null,
          9,
          8,
          null,
          9,
          8,
          null,
          9,
          8,
          null,
          9,
          8,
          null,
          8,
          7,
          null,
          8,
          7,
          null,
          8,
          7,
          null,
          8,
          7,
          null,
          8,
          7,
          null,
          8,
          7,
          null,
          8,
          7,
          null,
          8,
          7,
          null,
          8,
          7,
          null,
          8,
          7,
          null,
          8,
          7,
          null,
          8,
          7,
          null,
          8,
          7,
          null,
          8,
          7,
          null,
          8,
          7,
          null,
          8,
          7,
          null,
          8,
          7,
          null,
          8,
          7,
          null,
          7,
          6,
          null,
          7,
          6,
          null,
          7,
          6,
          null,
          7,
          6,
          null,
          7,
          6,
          null,
          7,
          6,
          null,
          7,
          6,
          null,
          7,
          6,
          null,
          7,
          6,
          null,
          7,
          6,
          null,
          7,
          6,
          null,
          7,
          6,
          null,
          7,
          6,
          null,
          7,
          6,
          null,
          7,
          6,
          null,
          7,
          6,
          null,
          7,
          6,
          null,
          7,
          6,
          null,
          7,
          6,
          null,
          7,
          6,
          null,
          7,
          6,
          null,
          7,
          6,
          null,
          6,
          5,
          null,
          6,
          5,
          null,
          6,
          5,
          null,
          6,
          5,
          null,
          6,
          5,
          null,
          6,
          5,
          null,
          6,
          5,
          null,
          6,
          5,
          null,
          6,
          5,
          null,
          6,
          5,
          null,
          6,
          5,
          null,
          6,
          5,
          null,
          6,
          5,
          null,
          6,
          5,
          null,
          6,
          5,
          null,
          6,
          5,
          null,
          6,
          5,
          null,
          6,
          5,
          null,
          6,
          5,
          null,
          6,
          5,
          null,
          6,
          5,
          null,
          6,
          5,
          null,
          5,
          4,
          null,
          5,
          4,
          null,
          5,
          4,
          null,
          5,
          4,
          null,
          5,
          4,
          null,
          5,
          4,
          null,
          5,
          4,
          null,
          5,
          4,
          null,
          5,
          4,
          null,
          5,
          4,
          null,
          5,
          4,
          null,
          5,
          4,
          null,
          5,
          4,
          null,
          5,
          4,
          null,
          4,
          3,
          null,
          4,
          3,
          null,
          4,
          3,
          null,
          4,
          3,
          null,
          4,
          3,
          null,
          4,
          3,
          null,
          4,
          3,
          null,
          4,
          3,
          null
         ]
        },
        {
         "hoverinfo": "text",
         "marker": {
          "color": "#6175c1",
          "line": {
           "color": "rgb(50,50,50)",
           "width": 1
          },
          "size": 18,
          "symbol": "circle-dot"
         },
         "mode": "markers",
         "name": "Nodes",
         "opacity": 0.8,
         "text": [
          "n9, Class: {1: 0.72, 2: 0.02, 3: 0.02, 4: 0.24}, tau : None, Samples : 3628",
          "n65, Class: {1: 0.26, 2: 0.02, 3: 0.02, 4: 0.7}, tau : None, Samples : 542",
          "n256, Class: {1: 0.55, 2: 0.02, 3: 0.16, 4: 0.27}, tau : None, Samples : 668",
          "n257, Class: {1: 0.49, 2: 0.03, 3: 0.08, 4: 0.4}, tau : None, Samples : 512",
          "n258, Class: {1: 0.3, 2: 0.03, 3: 0.08, 4: 0.59}, tau : None, Samples : 646",
          "n518, Class: {1: 0.31, 2: 0.05, 3: 0.02, 4: 0.62}, tau : None, Samples : 663",
          "n519, Class: {1: 0.27, 2: 0.02, 3: 0.02, 4: 0.69}, tau : None, Samples : 883",
          "n66, Class: {1: 0.42, 2: 0.03, 3: 0.11, 4: 0.44}, tau : None, Samples : 715",
          "n67, Class: {1: 0.46, 2: 0.03, 3: 0.12, 4: 0.39}, tau : None, Samples : 1194",
          "n34, Class: {1: 0.44, 2: 0.04, 3: 0.06, 4: 0.46}, tau : None, Samples : 697",
          "n35, Class: {1: 0.3, 2: 0.02, 3: 0.04, 4: 0.64}, tau : None, Samples : 1305",
          "n80, Class: {1: 0.03, 2: 0.01, 3: 0.2, 4: 0.77}, tau : None, Samples : 682",
          "n162, Class: {1: 0.05, 2: 0.02, 3: 0.37, 4: 0.55}, tau : None, Samples : 908",
          "n163, Class: {1: 0.02, 2: 0.01, 3: 0.41, 4: 0.56}, tau : None, Samples : 972",
          "n656, Class: {1: 0.11, 2: 0.07, 3: 0.18, 4: 0.64}, tau : None, Samples : 516",
          "n657, Class: {1: 0.07, 2: 0.05, 3: 0.23, 4: 0.64}, tau : None, Samples : 861",
          "n658, Class: {1: 0.06, 2: 0.04, 3: 0.17, 4: 0.74}, tau : None, Samples : 778",
          "n659, Class: {1: 0.06, 2: 0.01, 3: 0.19, 4: 0.74}, tau : None, Samples : 561",
          "n660, Class: {1: 0.03, 2: 0.02, 3: 0.26, 4: 0.69}, tau : None, Samples : 696",
          "n661, Class: {1: 0.0, 2: 0.01, 3: 0.35, 4: 0.63}, tau : None, Samples : 573",
          "n1324, Class: {1: 0.0, 2: 0.06, 3: 0.62, 4: 0.32}, tau : None, Samples : 1134",
          "n2650, Class: {1: 0.01, 2: 0.03, 3: 0.49, 4: 0.46}, tau : None, Samples : 741",
          "n2651, Class: {1: 0.02, 2: 0.02, 3: 0.41, 4: 0.55}, tau : None, Samples : 548",
          "n1326, Class: {1: 0.01, 2: 0.02, 3: 0.26, 4: 0.7}, tau : None, Samples : 920",
          "n1327, Class: {1: 0.0, 2: 0.01, 3: 0.37, 4: 0.62}, tau : None, Samples : 860",
          "n332, Class: {1: 0.07, 2: 0.03, 3: 0.56, 4: 0.34}, tau : None, Samples : 701",
          "n333, Class: {1: 0.04, 2: 0.01, 3: 0.47, 4: 0.49}, tau : None, Samples : 512",
          "n334, Class: {1: 0.06, 2: 0.02, 3: 0.73, 4: 0.19}, tau : None, Samples : 603",
          "n335, Class: {1: 0.01, 2: 0.02, 3: 0.84, 4: 0.12}, tau : None, Samples : 501",
          "n168, Class: {1: 0.05, 2: 0.02, 3: 0.11, 4: 0.81}, tau : None, Samples : 1165",
          "n1353, Class: {1: 0.04, 2: 0.02, 3: 0.21, 4: 0.73}, tau : None, Samples : 517",
          "n2704, Class: {1: 0.12, 2: 0.02, 3: 0.58, 4: 0.28}, tau : None, Samples : 976",
          "n2705, Class: {1: 0.07, 2: 0.01, 3: 0.4, 4: 0.52}, tau : None, Samples : 572",
          "n1355, Class: {1: 0.05, 2: 0.02, 3: 0.17, 4: 0.76}, tau : None, Samples : 1239",
          "n2708, Class: {1: 0.12, 2: 0.03, 3: 0.23, 4: 0.62}, tau : None, Samples : 789",
          "n2709, Class: {1: 0.04, 2: 0.01, 3: 0.23, 4: 0.72}, tau : None, Samples : 559",
          "n678, Class: {1: 0.04, 2: 0.01, 3: 0.22, 4: 0.72}, tau : None, Samples : 738",
          "n679, Class: {1: 0.03, 2: 0.0, 3: 0.22, 4: 0.75}, tau : None, Samples : 1306",
          "n170, Class: {1: 0.06, 2: 0.02, 3: 0.22, 4: 0.7}, tau : None, Samples : 1476",
          "n342, Class: {1: 0.05, 2: 0.02, 3: 0.09, 4: 0.84}, tau : None, Samples : 848",
          "n343, Class: {1: 0.05, 2: 0.01, 3: 0.15, 4: 0.8}, tau : None, Samples : 928",
          "n172, Class: {1: 0.13, 2: 0.05, 3: 0.07, 4: 0.75}, tau : None, Samples : 595",
          "n346, Class: {1: 0.25, 2: 0.03, 3: 0.07, 4: 0.65}, tau : None, Samples : 587",
          "n347, Class: {1: 0.16, 2: 0.04, 3: 0.09, 4: 0.71}, tau : None, Samples : 519",
          "n1392, Class: {1: 0.05, 2: 0.03, 3: 0.17, 4: 0.74}, tau : None, Samples : 1640",
          "n1393, Class: {1: 0.0, 2: 0.02, 3: 0.26, 4: 0.72}, tau : None, Samples : 613",
          "n1394, Class: {1: 0.01, 2: 0.01, 3: 0.17, 4: 0.81}, tau : None, Samples : 732",
          "n1395, Class: {1: 0.0, 2: 0.02, 3: 0.18, 4: 0.79}, tau : None, Samples : 735",
          "n698, Class: {1: 0.03, 2: 0.03, 3: 0.07, 4: 0.87}, tau : None, Samples : 540",
          "n699, Class: {1: 0.04, 2: 0.0, 3: 0.15, 4: 0.8}, tau : None, Samples : 957",
          "n700, Class: {1: 0.06, 2: 0.03, 3: 0.08, 4: 0.82}, tau : None, Samples : 656",
          "n1403, Class: {1: 0.02, 2: 0.01, 3: 0.07, 4: 0.89}, tau : None, Samples : 1301",
          "n2804, Class: {1: 0.05, 2: 0.02, 3: 0.11, 4: 0.82}, tau : None, Samples : 3099",
          "n2805, Class: {1: 0.02, 2: 0.01, 3: 0.08, 4: 0.88}, tau : None, Samples : 1108",
          "n702, Class: {1: 0.05, 2: 0.01, 3: 0.05, 4: 0.89}, tau : None, Samples : 681",
          "n703, Class: {1: 0.03, 2: 0.02, 3: 0.02, 4: 0.94}, tau : None, Samples : 503",
          "n22, Class: {1: 0.04, 2: 0.03, 3: 0.74, 4: 0.2}, tau : None, Samples : 1208",
          "n47, Class: {1: 0.03, 2: 0.01, 3: 0.92, 4: 0.04}, tau : None, Samples : 607",
          "n92, Class: {1: 0.04, 2: 0.04, 3: 0.77, 4: 0.15}, tau : None, Samples : 617",
          "n186, Class: {1: 0.03, 2: 0.03, 3: 0.8, 4: 0.14}, tau : None, Samples : 736",
          "n187, Class: {1: 0.01, 2: 0.07, 3: 0.86, 4: 0.06}, tau : None, Samples : 857",
          "n7, Class: {1: 0.1, 2: 0.05, 3: 0.77, 4: 0.09}, tau : None, Samples : 16307",
          "n24, Class: {1: 0.71, 2: 0.03, 3: 0.17, 4: 0.08}, tau : None, Samples : 631",
          "n25, Class: {1: 0.78, 2: 0.06, 3: 0.14, 4: 0.02}, tau : None, Samples : 1282",
          "n27, Class: {1: 0.81, 2: 0.02, 3: 0.13, 4: 0.04}, tau : None, Samples : 2158",
          "n52, Class: {1: 0.47, 2: 0.01, 3: 0.45, 4: 0.07}, tau : None, Samples : 1174",
          "n53, Class: {1: 0.84, 2: 0.01, 3: 0.13, 4: 0.03}, tau : None, Samples : 627",
          "n1, car_ownership in ('car_ownership0',), Class:{1: 0.18, 2: 0.03, 3: 0.35, 4: 0.44}, tau : 0.89, Samples: 76103",
          "n2, distance_group in ('distance04', 'distance05', 'distance06', 'distance07', 'distance08', 'distance09', 'distance10', 'distance11'), Class:{1: 0.14, 2: 0.02, 3: 0.24, 4: 0.59}, tau : 0.92, Samples: 53924",
          "n4, distance_group in ('distance01',), Class:{1: 0.48, 2: 0.03, 3: 0.05, 4: 0.43}, tau : 0.99, Samples: 11453",
          "n8, day_of_week in ('day_of_week6', 'day_of_week7'), Class:{1: 0.38, 2: 0.03, 3: 0.07, 4: 0.52}, tau : 0.87, Samples: 7825",
          "n16, trafficperc_group in ('1mediumlow_traffic', '2medium_traffic', '3mediumhigh_traffic', '4high_traffic'), Class:{1: 0.39, 2: 0.03, 3: 0.08, 4: 0.51}, tau : 0.82, Samples: 5823",
          "n32, starttime_group in ('evening',), Class:{1: 0.36, 2: 0.03, 3: 0.06, 4: 0.55}, tau : 0.98, Samples: 3914",
          "n64, driving_license in ('driving_license1',), Class:{1: 0.37, 2: 0.03, 3: 0.07, 4: 0.53}, tau : 0.89, Samples: 3372",
          "n128, travel_month in ('travel_month1', 'travel_month2', 'travel_month3', 'travel_month5', 'travel_month6', 'travel_month8'), Class:{1: 0.52, 2: 0.02, 3: 0.13, 4: 0.33}, tau : 0.81, Samples: 1180",
          "n129, age_group in ('age_group0-18', 'age_group31-65'), Class:{1: 0.29, 2: 0.03, 3: 0.04, 4: 0.64}, tau : 0.97, Samples: 2192",
          "n259, day_of_week in ('day_of_week3', 'day_of_week4', 'day_of_week5'), Class:{1: 0.29, 2: 0.03, 3: 0.02, 4: 0.66}, tau : 1.03, Samples: 1546",
          "n33, starttime_group in ('afternoon',), Class:{1: 0.45, 2: 0.03, 3: 0.12, 4: 0.41}, tau : 0.76, Samples: 1909",
          "n17, trafficperc_group in ('0low_traffic',), Class:{1: 0.35, 2: 0.03, 3: 0.05, 4: 0.57}, tau : 0.91, Samples: 2002",
          "n5, drivingcharge_group in ('high_charge',), Class:{1: 0.05, 2: 0.02, 3: 0.3, 4: 0.63}, tau : 1.2, Samples: 42471",
          "n10, trafficperc_group in ('0low_traffic', '1mediumlow_traffic'), Class:{1: 0.05, 2: 0.02, 3: 0.24, 4: 0.69}, tau : 1.06, Samples: 38446",
          "n20, faretype in ('faretype1', 'faretype2', 'faretype3', 'faretype4'), Class:{1: 0.03, 2: 0.03, 3: 0.39, 4: 0.55}, tau : 0.94, Samples: 13067",
          "n40, age_group in ('age_group19-30', 'age_group31-65', 'age_group66+'), Class:{1: 0.03, 2: 0.01, 3: 0.34, 4: 0.61}, tau : 1.09, Samples: 2562",
          "n81, travel_month in ('travel_month1', 'travel_month11', 'travel_month12', 'travel_month3', 'travel_month6', 'travel_month8', 'travel_month9'), Class:{1: 0.04, 2: 0.02, 3: 0.39, 4: 0.55}, tau : 0.93, Samples: 1880",
          "n41, driving_license in ('driving_license0',), Class:{1: 0.03, 2: 0.03, 3: 0.4, 4: 0.53}, tau : 0.98, Samples: 10505",
          "n82, cost_group in ('high_cost', 'medium_cost'), Class:{1: 0.03, 2: 0.03, 3: 0.34, 4: 0.6}, tau : 1.0, Samples: 8188",
          "n164, travel_month in ('travel_month1', 'travel_month12', 'travel_month2', 'travel_month4', 'travel_month6', 'travel_month9'), Class:{1: 0.07, 2: 0.04, 3: 0.19, 4: 0.69}, tau : 1.05, Samples: 2716",
          "n328, day_of_week in ('day_of_week1', 'day_of_week3', 'day_of_week5', 'day_of_week6'), Class:{1: 0.08, 2: 0.06, 3: 0.21, 4: 0.64}, tau : 0.93, Samples: 1377",
          "n329, travel_month in ('travel_month1', 'travel_month12', 'travel_month2'), Class:{1: 0.06, 2: 0.03, 3: 0.18, 4: 0.74}, tau : 1.17, Samples: 1339",
          "n165, day_of_week in ('day_of_week1', 'day_of_week2', 'day_of_week3', 'day_of_week4', 'day_of_week5'), Class:{1: 0.01, 2: 0.03, 3: 0.41, 4: 0.55}, tau : 1.0, Samples: 5472",
          "n330, cost_group in ('high_cost',), Class:{1: 0.02, 2: 0.01, 3: 0.3, 4: 0.67}, tau : 1.07, Samples: 1269",
          "n331, trafficperc_group in ('2medium_traffic',), Class:{1: 0.01, 2: 0.03, 3: 0.44, 4: 0.52}, tau : 1.0, Samples: 4203",
          "n662, purpose in ('purpose2', 'purpose3', 'purpose4', 'purpose5'), Class:{1: 0.01, 2: 0.04, 3: 0.53, 4: 0.42}, tau : 0.95, Samples: 2423",
          "n1325, trafficperc_group in ('3mediumhigh_traffic',), Class:{1: 0.02, 2: 0.03, 3: 0.46, 4: 0.5}, tau : 0.93, Samples: 1289",
          "n663, cost_group in ('high_cost',), Class:{1: 0.01, 2: 0.02, 3: 0.31, 4: 0.66}, tau : 1.08, Samples: 1780",
          "n83, purpose in ('purpose1', 'purpose2', 'purpose4'), Class:{1: 0.05, 2: 0.02, 3: 0.65, 4: 0.29}, tau : 1.08, Samples: 2317",
          "n166, bus_scale in ('bus_scale0.0',), Class:{1: 0.06, 2: 0.02, 3: 0.52, 4: 0.4}, tau : 0.89, Samples: 1213",
          "n167, cost_group in ('high_cost', 'medium_cost'), Class:{1: 0.04, 2: 0.02, 3: 0.78, 4: 0.16}, tau : 1.3, Samples: 1104",
          "n21, age_group in ('age_group31-65',), Class:{1: 0.06, 2: 0.02, 3: 0.16, 4: 0.76}, tau : 1.21, Samples: 25379",
          "n42, starttime_group in ('evening', 'morning'), Class:{1: 0.06, 2: 0.02, 3: 0.23, 4: 0.69}, tau : 1.12, Samples: 11113",
          "n84, day_of_week in ('day_of_week1', 'day_of_week2', 'day_of_week3', 'day_of_week4', 'day_of_week5', 'day_of_week6'), Class:{1: 0.06, 2: 0.02, 3: 0.25, 4: 0.67}, tau : 1.17, Samples: 7861",
          "n169, age_group in ('age_group66+',), Class:{1: 0.06, 2: 0.02, 3: 0.28, 4: 0.64}, tau : 1.05, Samples: 6696",
          "n338, purpose in ('purpose3', 'purpose5'), Class:{1: 0.08, 2: 0.02, 3: 0.31, 4: 0.6}, tau : 0.96, Samples: 4652",
          "n676, driving_license in ('driving_license1',), Class:{1: 0.08, 2: 0.02, 3: 0.44, 4: 0.46}, tau : 0.99, Samples: 2065",
          "n1352, car_ownership in ('car_ownership2',), Class:{1: 0.1, 2: 0.02, 3: 0.51, 4: 0.37}, tau : 0.87, Samples: 1548",
          "n677, travel_month in ('travel_month1', 'travel_month10', 'travel_month11', 'travel_month2', 'travel_month4', 'travel_month5'), Class:{1: 0.07, 2: 0.02, 3: 0.2, 4: 0.71}, tau : 1.11, Samples: 2587",
          "n1354, day_of_week in ('day_of_week1', 'day_of_week2', 'day_of_week4'), Class:{1: 0.09, 2: 0.02, 3: 0.23, 4: 0.66}, tau : 1.02, Samples: 1348",
          "n339, day_of_week in ('day_of_week1', 'day_of_week3', 'day_of_week4', 'day_of_week6'), Class:{1: 0.03, 2: 0.01, 3: 0.22, 4: 0.74}, tau : 1.18, Samples: 2044",
          "n85, faretype in ('faretype3', 'faretype5'), Class:{1: 0.05, 2: 0.02, 3: 0.16, 4: 0.76}, tau : 1.22, Samples: 3252",
          "n171, car_ownership in ('car_ownership1',), Class:{1: 0.05, 2: 0.01, 3: 0.12, 4: 0.82}, tau : 1.38, Samples: 1776",
          "n43, distance_group in ('distance05', 'distance06', 'distance07', 'distance08', 'distance09', 'distance10', 'distance11'), Class:{1: 0.05, 2: 0.02, 3: 0.11, 4: 0.81}, tau : 1.23, Samples: 14266",
          "n86, travel_month in ('travel_month1', 'travel_month12', 'travel_month4', 'travel_month6', 'travel_month7', 'travel_month8', 'travel_month9'), Class:{1: 0.18, 2: 0.04, 3: 0.08, 4: 0.7}, tau : 1.1, Samples: 1701",
          "n173, day_of_week in ('day_of_week2', 'day_of_week4', 'day_of_week6'), Class:{1: 0.21, 2: 0.04, 3: 0.08, 4: 0.68}, tau : 1.02, Samples: 1106",
          "n87, trafficperc_group in ('0low_traffic',), Class:{1: 0.03, 2: 0.02, 3: 0.12, 4: 0.83}, tau : 1.38, Samples: 12565",
          "n174, day_of_week in ('day_of_week6', 'day_of_week7'), Class:{1: 0.03, 2: 0.02, 3: 0.17, 4: 0.78}, tau : 1.32, Samples: 5217",
          "n348, cost_group in ('high_cost', 'medium_cost'), Class:{1: 0.03, 2: 0.03, 3: 0.19, 4: 0.76}, tau : 1.25, Samples: 3720",
          "n696, costdrivingfuel_group in ('costdrivingfuelgroup10', 'costdrivingfuelgroup2', 'costdrivingfuelgroup8', 'costdrivingfuelgroup9'), Class:{1: 0.04, 2: 0.03, 3: 0.19, 4: 0.74}, tau : 1.17, Samples: 2253",
          "n697, female in ('female0',), Class:{1: 0.01, 2: 0.02, 3: 0.18, 4: 0.8}, tau : 1.34, Samples: 1467",
          "n349, car_ownership in ('car_ownership1',), Class:{1: 0.04, 2: 0.01, 3: 0.12, 4: 0.83}, tau : 1.44, Samples: 1497",
          "n175, day_of_week in ('day_of_week7',), Class:{1: 0.04, 2: 0.02, 3: 0.08, 4: 0.86}, tau : 1.56, Samples: 7348",
          "n350, travel_month in ('travel_month1', 'travel_month10', 'travel_month12', 'travel_month2', 'travel_month4', 'travel_month5', 'travel_month6', 'travel_month7', 'travel_month8', 'travel_month9'), Class:{1: 0.04, 2: 0.02, 3: 0.09, 4: 0.85}, tau : 1.42, Samples: 6164",
          "n701, travel_month in ('travel_month1', 'travel_month2', 'travel_month4'), Class:{1: 0.04, 2: 0.02, 3: 0.09, 4: 0.85}, tau : 1.51, Samples: 5508",
          "n1402, cost_group in ('high_cost', 'medium_cost'), Class:{1: 0.04, 2: 0.02, 3: 0.1, 4: 0.84}, tau : 1.48, Samples: 4207",
          "n351, car_ownership in ('car_ownership2',), Class:{1: 0.04, 2: 0.01, 3: 0.04, 4: 0.91}, tau : 1.68, Samples: 1184",
          "n11, car_ownership in ('car_ownership1',), Class:{1: 0.03, 2: 0.04, 3: 0.81, 4: 0.12}, tau : 1.3, Samples: 4025",
          "n23, driving_license in ('driving_license0',), Class:{1: 0.03, 2: 0.04, 3: 0.84, 4: 0.09}, tau : 1.53, Samples: 2817",
          "n46, travel_month in ('travel_month10', 'travel_month11', 'travel_month12', 'travel_month4', 'travel_month5', 'travel_month6', 'travel_month8', 'travel_month9'), Class:{1: 0.03, 2: 0.05, 3: 0.81, 4: 0.11}, tau : 1.32, Samples: 2210",
          "n93, purpose in ('purpose1', 'purpose2'), Class:{1: 0.02, 2: 0.06, 3: 0.83, 4: 0.09}, tau : 1.41, Samples: 1593",
          "n3, distance_group in ('distance04', 'distance05', 'distance06', 'distance07', 'distance08', 'distance09', 'distance10', 'distance11'), Class:{1: 0.26, 2: 0.04, 3: 0.62, 4: 0.08}, tau : 1.18, Samples: 22179",
          "n6, driving_license in ('driving_license0',), Class:{1: 0.73, 2: 0.03, 3: 0.2, 4: 0.05}, tau : 1.16, Samples: 5872",
          "n12, travel_month in ('travel_month1', 'travel_month10', 'travel_month12', 'travel_month3', 'travel_month4', 'travel_month7', 'travel_month8', 'travel_month9'), Class:{1: 0.76, 2: 0.05, 3: 0.15, 4: 0.04}, tau : 1.18, Samples: 1913",
          "n13, faretype in ('faretype1', 'faretype2', 'faretype4'), Class:{1: 0.71, 2: 0.02, 3: 0.23, 4: 0.05}, tau : 1.14, Samples: 3959",
          "n26, distance_group in ('distance01',), Class:{1: 0.6, 2: 0.01, 3: 0.33, 4: 0.06}, tau : 1.14, Samples: 1801"
         ],
         "type": "scatter",
         "x": [
          -436.5478515625,
          -772.5478515625,
          -816.5478515625,
          -808.5478515625,
          -800.5478515625,
          -794.5478515625,
          -790.5478515625,
          -740.5478515625,
          -708.5478515625,
          -660.5478515625,
          -596.5478515625,
          -292.5478515625,
          -268.5478515625,
          -252.5478515625,
          -242.5478515625,
          -238.5478515625,
          -234.5478515625,
          -230.5478515625,
          -226.5478515625,
          -222.5478515625,
          -219.5478515625,
          -218.0478515625,
          -217.0478515625,
          -215.5478515625,
          -213.5478515625,
          -208.5478515625,
          -200.5478515625,
          -192.5478515625,
          -184.5478515625,
          -172.5478515625,
          -161.5478515625,
          -164.0478515625,
          -163.0478515625,
          -157.5478515625,
          -160.0478515625,
          -159.0478515625,
          -154.5478515625,
          -150.5478515625,
          -140.5478515625,
          -128.5478515625,
          -120.5478515625,
          -108.5478515625,
          -96.5478515625,
          -88.5478515625,
          -83.5478515625,
          -81.5478515625,
          -79.5478515625,
          -77.5478515625,
          -74.5478515625,
          -70.5478515625,
          -66.5478515625,
          -62.5478515625,
          -64.0478515625,
          -63.0478515625,
          -61.0478515625,
          -59.0478515625,
          -26.0478515625,
          53.9521484375,
          13.9521484375,
          25.9521484375,
          33.9521484375,
          453.9521484375,
          101.9521484375,
          165.9521484375,
          293.9521484375,
          213.9521484375,
          245.9521484375,
          0,
          -325.9521484375,
          -564.5478515625,
          -692.5478515625,
          -756.5478515625,
          -788.5478515625,
          -804.5478515625,
          -812.5478515625,
          -796.5478515625,
          -792.5478515625,
          -724.5478515625,
          -628.5478515625,
          -87.3564453125,
          -180.6650390625,
          -244.5478515625,
          -276.5478515625,
          -260.5478515625,
          -212.5478515625,
          -228.5478515625,
          -236.5478515625,
          -240.5478515625,
          -232.5478515625,
          -220.5478515625,
          -224.5478515625,
          -216.5478515625,
          -218.5478515625,
          -217.5478515625,
          -214.5478515625,
          -196.5478515625,
          -204.5478515625,
          -188.5478515625,
          -116.7822265625,
          -148.5478515625,
          -164.5478515625,
          -156.5478515625,
          -160.5478515625,
          -162.5478515625,
          -163.5478515625,
          -158.5478515625,
          -159.5478515625,
          -152.5478515625,
          -132.5478515625,
          -124.5478515625,
          -85.0166015625,
          -100.5478515625,
          -92.5478515625,
          -69.4853515625,
          -76.5478515625,
          -80.5478515625,
          -82.5478515625,
          -78.5478515625,
          -72.5478515625,
          -62.4228515625,
          -64.7978515625,
          -63.0478515625,
          -63.5478515625,
          -60.0478515625,
          5.9521484375,
          37.9521484375,
          21.9521484375,
          29.9521484375,
          325.9521484375,
          197.9521484375,
          133.9521484375,
          261.9521484375,
          229.9521484375
         ],
         "y": [
          11,
          8,
          6,
          6,
          6,
          5,
          5,
          8,
          8,
          9,
          9,
          8,
          7,
          7,
          5,
          5,
          5,
          5,
          5,
          5,
          4,
          3,
          3,
          4,
          4,
          6,
          6,
          6,
          6,
          7,
          4,
          3,
          3,
          4,
          3,
          3,
          5,
          5,
          7,
          6,
          6,
          7,
          6,
          6,
          4,
          4,
          4,
          4,
          5,
          5,
          5,
          4,
          3,
          3,
          5,
          5,
          10,
          9,
          8,
          7,
          7,
          12,
          10,
          10,
          10,
          9,
          9,
          14,
          13,
          12,
          11,
          10,
          9,
          8,
          7,
          7,
          6,
          9,
          10,
          12,
          11,
          10,
          9,
          8,
          9,
          8,
          7,
          6,
          6,
          7,
          6,
          6,
          5,
          4,
          5,
          8,
          7,
          7,
          10,
          9,
          8,
          7,
          6,
          5,
          4,
          5,
          4,
          6,
          8,
          7,
          9,
          8,
          7,
          8,
          7,
          6,
          5,
          5,
          6,
          7,
          6,
          5,
          4,
          6,
          11,
          10,
          9,
          8,
          13,
          12,
          11,
          11,
          10
         ]
        }
       ],
       "layout": {
        "margin": {
         "b": 0,
         "l": 0,
         "r": 0,
         "t": 0
        },
        "plot_bgcolor": "rgba(0, 0, 0, 0)",
        "template": {
         "data": {
          "bar": [
           {
            "error_x": {
             "color": "#2a3f5f"
            },
            "error_y": {
             "color": "#2a3f5f"
            },
            "marker": {
             "line": {
              "color": "#E5ECF6",
              "width": 0.5
             },
             "pattern": {
              "fillmode": "overlay",
              "size": 10,
              "solidity": 0.2
             }
            },
            "type": "bar"
           }
          ],
          "barpolar": [
           {
            "marker": {
             "line": {
              "color": "#E5ECF6",
              "width": 0.5
             },
             "pattern": {
              "fillmode": "overlay",
              "size": 10,
              "solidity": 0.2
             }
            },
            "type": "barpolar"
           }
          ],
          "carpet": [
           {
            "aaxis": {
             "endlinecolor": "#2a3f5f",
             "gridcolor": "white",
             "linecolor": "white",
             "minorgridcolor": "white",
             "startlinecolor": "#2a3f5f"
            },
            "baxis": {
             "endlinecolor": "#2a3f5f",
             "gridcolor": "white",
             "linecolor": "white",
             "minorgridcolor": "white",
             "startlinecolor": "#2a3f5f"
            },
            "type": "carpet"
           }
          ],
          "choropleth": [
           {
            "colorbar": {
             "outlinewidth": 0,
             "ticks": ""
            },
            "type": "choropleth"
           }
          ],
          "contour": [
           {
            "colorbar": {
             "outlinewidth": 0,
             "ticks": ""
            },
            "colorscale": [
             [
              0,
              "#0d0887"
             ],
             [
              0.1111111111111111,
              "#46039f"
             ],
             [
              0.2222222222222222,
              "#7201a8"
             ],
             [
              0.3333333333333333,
              "#9c179e"
             ],
             [
              0.4444444444444444,
              "#bd3786"
             ],
             [
              0.5555555555555556,
              "#d8576b"
             ],
             [
              0.6666666666666666,
              "#ed7953"
             ],
             [
              0.7777777777777778,
              "#fb9f3a"
             ],
             [
              0.8888888888888888,
              "#fdca26"
             ],
             [
              1,
              "#f0f921"
             ]
            ],
            "type": "contour"
           }
          ],
          "contourcarpet": [
           {
            "colorbar": {
             "outlinewidth": 0,
             "ticks": ""
            },
            "type": "contourcarpet"
           }
          ],
          "heatmap": [
           {
            "colorbar": {
             "outlinewidth": 0,
             "ticks": ""
            },
            "colorscale": [
             [
              0,
              "#0d0887"
             ],
             [
              0.1111111111111111,
              "#46039f"
             ],
             [
              0.2222222222222222,
              "#7201a8"
             ],
             [
              0.3333333333333333,
              "#9c179e"
             ],
             [
              0.4444444444444444,
              "#bd3786"
             ],
             [
              0.5555555555555556,
              "#d8576b"
             ],
             [
              0.6666666666666666,
              "#ed7953"
             ],
             [
              0.7777777777777778,
              "#fb9f3a"
             ],
             [
              0.8888888888888888,
              "#fdca26"
             ],
             [
              1,
              "#f0f921"
             ]
            ],
            "type": "heatmap"
           }
          ],
          "heatmapgl": [
           {
            "colorbar": {
             "outlinewidth": 0,
             "ticks": ""
            },
            "colorscale": [
             [
              0,
              "#0d0887"
             ],
             [
              0.1111111111111111,
              "#46039f"
             ],
             [
              0.2222222222222222,
              "#7201a8"
             ],
             [
              0.3333333333333333,
              "#9c179e"
             ],
             [
              0.4444444444444444,
              "#bd3786"
             ],
             [
              0.5555555555555556,
              "#d8576b"
             ],
             [
              0.6666666666666666,
              "#ed7953"
             ],
             [
              0.7777777777777778,
              "#fb9f3a"
             ],
             [
              0.8888888888888888,
              "#fdca26"
             ],
             [
              1,
              "#f0f921"
             ]
            ],
            "type": "heatmapgl"
           }
          ],
          "histogram": [
           {
            "marker": {
             "pattern": {
              "fillmode": "overlay",
              "size": 10,
              "solidity": 0.2
             }
            },
            "type": "histogram"
           }
          ],
          "histogram2d": [
           {
            "colorbar": {
             "outlinewidth": 0,
             "ticks": ""
            },
            "colorscale": [
             [
              0,
              "#0d0887"
             ],
             [
              0.1111111111111111,
              "#46039f"
             ],
             [
              0.2222222222222222,
              "#7201a8"
             ],
             [
              0.3333333333333333,
              "#9c179e"
             ],
             [
              0.4444444444444444,
              "#bd3786"
             ],
             [
              0.5555555555555556,
              "#d8576b"
             ],
             [
              0.6666666666666666,
              "#ed7953"
             ],
             [
              0.7777777777777778,
              "#fb9f3a"
             ],
             [
              0.8888888888888888,
              "#fdca26"
             ],
             [
              1,
              "#f0f921"
             ]
            ],
            "type": "histogram2d"
           }
          ],
          "histogram2dcontour": [
           {
            "colorbar": {
             "outlinewidth": 0,
             "ticks": ""
            },
            "colorscale": [
             [
              0,
              "#0d0887"
             ],
             [
              0.1111111111111111,
              "#46039f"
             ],
             [
              0.2222222222222222,
              "#7201a8"
             ],
             [
              0.3333333333333333,
              "#9c179e"
             ],
             [
              0.4444444444444444,
              "#bd3786"
             ],
             [
              0.5555555555555556,
              "#d8576b"
             ],
             [
              0.6666666666666666,
              "#ed7953"
             ],
             [
              0.7777777777777778,
              "#fb9f3a"
             ],
             [
              0.8888888888888888,
              "#fdca26"
             ],
             [
              1,
              "#f0f921"
             ]
            ],
            "type": "histogram2dcontour"
           }
          ],
          "mesh3d": [
           {
            "colorbar": {
             "outlinewidth": 0,
             "ticks": ""
            },
            "type": "mesh3d"
           }
          ],
          "parcoords": [
           {
            "line": {
             "colorbar": {
              "outlinewidth": 0,
              "ticks": ""
             }
            },
            "type": "parcoords"
           }
          ],
          "pie": [
           {
            "automargin": true,
            "type": "pie"
           }
          ],
          "scatter": [
           {
            "fillpattern": {
             "fillmode": "overlay",
             "size": 10,
             "solidity": 0.2
            },
            "type": "scatter"
           }
          ],
          "scatter3d": [
           {
            "line": {
             "colorbar": {
              "outlinewidth": 0,
              "ticks": ""
             }
            },
            "marker": {
             "colorbar": {
              "outlinewidth": 0,
              "ticks": ""
             }
            },
            "type": "scatter3d"
           }
          ],
          "scattercarpet": [
           {
            "marker": {
             "colorbar": {
              "outlinewidth": 0,
              "ticks": ""
             }
            },
            "type": "scattercarpet"
           }
          ],
          "scattergeo": [
           {
            "marker": {
             "colorbar": {
              "outlinewidth": 0,
              "ticks": ""
             }
            },
            "type": "scattergeo"
           }
          ],
          "scattergl": [
           {
            "marker": {
             "colorbar": {
              "outlinewidth": 0,
              "ticks": ""
             }
            },
            "type": "scattergl"
           }
          ],
          "scattermapbox": [
           {
            "marker": {
             "colorbar": {
              "outlinewidth": 0,
              "ticks": ""
             }
            },
            "type": "scattermapbox"
           }
          ],
          "scatterpolar": [
           {
            "marker": {
             "colorbar": {
              "outlinewidth": 0,
              "ticks": ""
             }
            },
            "type": "scatterpolar"
           }
          ],
          "scatterpolargl": [
           {
            "marker": {
             "colorbar": {
              "outlinewidth": 0,
              "ticks": ""
             }
            },
            "type": "scatterpolargl"
           }
          ],
          "scatterternary": [
           {
            "marker": {
             "colorbar": {
              "outlinewidth": 0,
              "ticks": ""
             }
            },
            "type": "scatterternary"
           }
          ],
          "surface": [
           {
            "colorbar": {
             "outlinewidth": 0,
             "ticks": ""
            },
            "colorscale": [
             [
              0,
              "#0d0887"
             ],
             [
              0.1111111111111111,
              "#46039f"
             ],
             [
              0.2222222222222222,
              "#7201a8"
             ],
             [
              0.3333333333333333,
              "#9c179e"
             ],
             [
              0.4444444444444444,
              "#bd3786"
             ],
             [
              0.5555555555555556,
              "#d8576b"
             ],
             [
              0.6666666666666666,
              "#ed7953"
             ],
             [
              0.7777777777777778,
              "#fb9f3a"
             ],
             [
              0.8888888888888888,
              "#fdca26"
             ],
             [
              1,
              "#f0f921"
             ]
            ],
            "type": "surface"
           }
          ],
          "table": [
           {
            "cells": {
             "fill": {
              "color": "#EBF0F8"
             },
             "line": {
              "color": "white"
             }
            },
            "header": {
             "fill": {
              "color": "#C8D4E3"
             },
             "line": {
              "color": "white"
             }
            },
            "type": "table"
           }
          ]
         },
         "layout": {
          "annotationdefaults": {
           "arrowcolor": "#2a3f5f",
           "arrowhead": 0,
           "arrowwidth": 1
          },
          "autotypenumbers": "strict",
          "coloraxis": {
           "colorbar": {
            "outlinewidth": 0,
            "ticks": ""
           }
          },
          "colorscale": {
           "diverging": [
            [
             0,
             "#8e0152"
            ],
            [
             0.1,
             "#c51b7d"
            ],
            [
             0.2,
             "#de77ae"
            ],
            [
             0.3,
             "#f1b6da"
            ],
            [
             0.4,
             "#fde0ef"
            ],
            [
             0.5,
             "#f7f7f7"
            ],
            [
             0.6,
             "#e6f5d0"
            ],
            [
             0.7,
             "#b8e186"
            ],
            [
             0.8,
             "#7fbc41"
            ],
            [
             0.9,
             "#4d9221"
            ],
            [
             1,
             "#276419"
            ]
           ],
           "sequential": [
            [
             0,
             "#0d0887"
            ],
            [
             0.1111111111111111,
             "#46039f"
            ],
            [
             0.2222222222222222,
             "#7201a8"
            ],
            [
             0.3333333333333333,
             "#9c179e"
            ],
            [
             0.4444444444444444,
             "#bd3786"
            ],
            [
             0.5555555555555556,
             "#d8576b"
            ],
            [
             0.6666666666666666,
             "#ed7953"
            ],
            [
             0.7777777777777778,
             "#fb9f3a"
            ],
            [
             0.8888888888888888,
             "#fdca26"
            ],
            [
             1,
             "#f0f921"
            ]
           ],
           "sequentialminus": [
            [
             0,
             "#0d0887"
            ],
            [
             0.1111111111111111,
             "#46039f"
            ],
            [
             0.2222222222222222,
             "#7201a8"
            ],
            [
             0.3333333333333333,
             "#9c179e"
            ],
            [
             0.4444444444444444,
             "#bd3786"
            ],
            [
             0.5555555555555556,
             "#d8576b"
            ],
            [
             0.6666666666666666,
             "#ed7953"
            ],
            [
             0.7777777777777778,
             "#fb9f3a"
            ],
            [
             0.8888888888888888,
             "#fdca26"
            ],
            [
             1,
             "#f0f921"
            ]
           ]
          },
          "colorway": [
           "#636efa",
           "#EF553B",
           "#00cc96",
           "#ab63fa",
           "#FFA15A",
           "#19d3f3",
           "#FF6692",
           "#B6E880",
           "#FF97FF",
           "#FECB52"
          ],
          "font": {
           "color": "#2a3f5f"
          },
          "geo": {
           "bgcolor": "white",
           "lakecolor": "white",
           "landcolor": "#E5ECF6",
           "showlakes": true,
           "showland": true,
           "subunitcolor": "white"
          },
          "hoverlabel": {
           "align": "left"
          },
          "hovermode": "closest",
          "mapbox": {
           "style": "light"
          },
          "paper_bgcolor": "white",
          "plot_bgcolor": "#E5ECF6",
          "polar": {
           "angularaxis": {
            "gridcolor": "white",
            "linecolor": "white",
            "ticks": ""
           },
           "bgcolor": "#E5ECF6",
           "radialaxis": {
            "gridcolor": "white",
            "linecolor": "white",
            "ticks": ""
           }
          },
          "scene": {
           "xaxis": {
            "backgroundcolor": "#E5ECF6",
            "gridcolor": "white",
            "gridwidth": 2,
            "linecolor": "white",
            "showbackground": true,
            "ticks": "",
            "zerolinecolor": "white"
           },
           "yaxis": {
            "backgroundcolor": "#E5ECF6",
            "gridcolor": "white",
            "gridwidth": 2,
            "linecolor": "white",
            "showbackground": true,
            "ticks": "",
            "zerolinecolor": "white"
           },
           "zaxis": {
            "backgroundcolor": "#E5ECF6",
            "gridcolor": "white",
            "gridwidth": 2,
            "linecolor": "white",
            "showbackground": true,
            "ticks": "",
            "zerolinecolor": "white"
           }
          },
          "shapedefaults": {
           "line": {
            "color": "#2a3f5f"
           }
          },
          "ternary": {
           "aaxis": {
            "gridcolor": "white",
            "linecolor": "white",
            "ticks": ""
           },
           "baxis": {
            "gridcolor": "white",
            "linecolor": "white",
            "ticks": ""
           },
           "bgcolor": "#E5ECF6",
           "caxis": {
            "gridcolor": "white",
            "linecolor": "white",
            "ticks": ""
           }
          },
          "title": {
           "x": 0.05
          },
          "xaxis": {
           "automargin": true,
           "gridcolor": "white",
           "linecolor": "white",
           "ticks": "",
           "title": {
            "standoff": 15
           },
           "zerolinecolor": "white",
           "zerolinewidth": 2
          },
          "yaxis": {
           "automargin": true,
           "gridcolor": "white",
           "linecolor": "white",
           "ticks": "",
           "title": {
            "standoff": 15
           },
           "zerolinecolor": "white",
           "zerolinewidth": 2
          }
         }
        },
        "xaxis": {
         "showticklabels": false,
         "visible": false
        },
        "yaxis": {
         "showticklabels": true,
         "visible": false
        }
       }
      }
     },
     "metadata": {},
     "output_type": "display_data"
    },
    {
     "data": {
      "text/html": [
       "<div>\n",
       "<style scoped>\n",
       "    .dataframe tbody tr th:only-of-type {\n",
       "        vertical-align: middle;\n",
       "    }\n",
       "\n",
       "    .dataframe tbody tr th {\n",
       "        vertical-align: top;\n",
       "    }\n",
       "\n",
       "    .dataframe thead th {\n",
       "        text-align: right;\n",
       "    }\n",
       "</style>\n",
       "<table border=\"1\" class=\"dataframe\">\n",
       "  <thead>\n",
       "    <tr style=\"text-align: right;\">\n",
       "      <th></th>\n",
       "      <th>Node</th>\n",
       "      <th>Node Type</th>\n",
       "      <th>Variable Split</th>\n",
       "      <th>n</th>\n",
       "      <th>Deviance</th>\n",
       "      <th>Explained Deviance</th>\n",
       "      <th>Class Probabilities</th>\n",
       "      <th>Alpha</th>\n",
       "      <th>Beta</th>\n",
       "      <th>LS Error</th>\n",
       "    </tr>\n",
       "  </thead>\n",
       "  <tbody>\n",
       "    <tr>\n",
       "      <th>0</th>\n",
       "      <td>n1</td>\n",
       "      <td>Parent</td>\n",
       "      <td>car_ownership in ('car_ownership0',)</td>\n",
       "      <td>76103</td>\n",
       "      <td>173353.59</td>\n",
       "      <td>0.087</td>\n",
       "      <td>{1: 0.18, 2: 0.03, 3: 0.35, 4: 0.44}</td>\n",
       "      <td>[[0.89, 0.11], [0.25, 0.75], [0.0, 1.0]]</td>\n",
       "      <td>[[0.28, 0.05, 0.67, 0.0], [0.11, 0.02, 0.17, 0.7]]</td>\n",
       "      <td>[]</td>\n",
       "    </tr>\n",
       "    <tr>\n",
       "      <th>1</th>\n",
       "      <td>n2</td>\n",
       "      <td>Parent</td>\n",
       "      <td>distance_group in ('distance04', 'distance05', 'distance06', 'distance07', 'distance08', 'distance09', 'distance10', 'distance11')</td>\n",
       "      <td>53924</td>\n",
       "      <td>110112.33</td>\n",
       "      <td>0.473</td>\n",
       "      <td>{1: 0.14, 2: 0.02, 3: 0.24, 4: 0.59}</td>\n",
       "      <td>[[0.0, 1.11], [0.24, 0.76], [0.44, 0.56], [0.62, 0.38], [0.76, 0.24], [0.86, 0.14], [0.91, 0.09], [0.95, 0.05], [0.99, 0.01], [1.06, 0.0], [1.09, 0.0]]</td>\n",
       "      <td>[[0.0, 0.02, 0.37, 0.63], [0.63, 0.03, 0.0, 0.39]]</td>\n",
       "      <td>[]</td>\n",
       "    </tr>\n",
       "    <tr>\n",
       "      <th>2</th>\n",
       "      <td>n4</td>\n",
       "      <td>Parent</td>\n",
       "      <td>distance_group in ('distance01',)</td>\n",
       "      <td>11453</td>\n",
       "      <td>22169.04</td>\n",
       "      <td>0.518</td>\n",
       "      <td>{1: 0.48, 2: 0.03, 3: 0.05, 4: 0.43}</td>\n",
       "      <td>[[0.78, 0.22], [0.28, 0.72], [0.0, 1.0]]</td>\n",
       "      <td>[[0.83, 0.02, 0.0, 0.15], [0.33, 0.03, 0.08, 0.56]]</td>\n",
       "      <td>[]</td>\n",
       "    </tr>\n",
       "    <tr>\n",
       "      <th>3</th>\n",
       "      <td>n9</td>\n",
       "      <td>Child</td>\n",
       "      <td>None</td>\n",
       "      <td>3628</td>\n",
       "      <td>5392.34</td>\n",
       "      <td>None</td>\n",
       "      <td>{1: 0.72, 2: 0.02, 3: 0.02, 4: 0.24}</td>\n",
       "      <td>[]</td>\n",
       "      <td>[]</td>\n",
       "      <td>[]</td>\n",
       "    </tr>\n",
       "    <tr>\n",
       "      <th>4</th>\n",
       "      <td>n8</td>\n",
       "      <td>Parent</td>\n",
       "      <td>day_of_week in ('day_of_week6', 'day_of_week7')</td>\n",
       "      <td>7825</td>\n",
       "      <td>15561.98</td>\n",
       "      <td>0.545</td>\n",
       "      <td>{1: 0.38, 2: 0.03, 3: 0.07, 4: 0.52}</td>\n",
       "      <td>[[0.3, 0.7], [0.0, 1.0], [0.2, 0.8], [0.12, 0.88], [0.0, 1.0], [0.63, 0.37], [0.74, 0.26]]</td>\n",
       "      <td>[[0.33, 0.03, 0.03, 0.61], [0.39, 0.03, 0.09, 0.49]]</td>\n",
       "      <td>[]</td>\n",
       "    </tr>\n",
       "    <tr>\n",
       "      <th>5</th>\n",
       "      <td>n16</td>\n",
       "      <td>Parent</td>\n",
       "      <td>trafficperc_group in ('1mediumlow_traffic', '2medium_traffic', '3mediumhigh_traffic', '4high_traffic')</td>\n",
       "      <td>5823</td>\n",
       "      <td>11799.44</td>\n",
       "      <td>0.562</td>\n",
       "      <td>{1: 0.39, 2: 0.03, 3: 0.08, 4: 0.51}</td>\n",
       "      <td>[[0.49, 0.51], [0.61, 0.39], [0.74, 0.26], [0.88, 0.12], [1.0, 0.0]]</td>\n",
       "      <td>[[0.59, 0.03, 0.15, 0.22], [0.1, 0.02, 0.0, 0.87]]</td>\n",
       "      <td>[]</td>\n",
       "    </tr>\n",
       "    <tr>\n",
       "      <th>6</th>\n",
       "      <td>n32</td>\n",
       "      <td>Parent</td>\n",
       "      <td>starttime_group in ('evening',)</td>\n",
       "      <td>3914</td>\n",
       "      <td>7560.22</td>\n",
       "      <td>0.574</td>\n",
       "      <td>{1: 0.36, 2: 0.03, 3: 0.06, 4: 0.55}</td>\n",
       "      <td>[[0.0, 1.0], [0.27, 0.73], [0.62, 0.38], [0.08, 0.92]]</td>\n",
       "      <td>[[0.17, 0.01, 0.0, 0.82], [0.38, 0.03, 0.07, 0.52]]</td>\n",
       "      <td>[]</td>\n",
       "    </tr>\n",
       "    <tr>\n",
       "      <th>7</th>\n",
       "      <td>n65</td>\n",
       "      <td>Child</td>\n",
       "      <td>None</td>\n",
       "      <td>542</td>\n",
       "      <td>822.18</td>\n",
       "      <td>None</td>\n",
       "      <td>{1: 0.26, 2: 0.02, 3: 0.02, 4: 0.7}</td>\n",
       "      <td>[]</td>\n",
       "      <td>[]</td>\n",
       "      <td>[]</td>\n",
       "    </tr>\n",
       "    <tr>\n",
       "      <th>8</th>\n",
       "      <td>n64</td>\n",
       "      <td>Parent</td>\n",
       "      <td>driving_license in ('driving_license1',)</td>\n",
       "      <td>3372</td>\n",
       "      <td>6674.28</td>\n",
       "      <td>0.584</td>\n",
       "      <td>{1: 0.37, 2: 0.03, 3: 0.07, 4: 0.53}</td>\n",
       "      <td>[]</td>\n",
       "      <td>[]</td>\n",
       "      <td>[]</td>\n",
       "    </tr>\n",
       "    <tr>\n",
       "      <th>9</th>\n",
       "      <td>n128</td>\n",
       "      <td>Parent</td>\n",
       "      <td>travel_month in ('travel_month1', 'travel_month2', 'travel_month3', 'travel_month5', 'travel_month6', 'travel_month8')</td>\n",
       "      <td>1180</td>\n",
       "      <td>2485.15</td>\n",
       "      <td>0.591</td>\n",
       "      <td>{1: 0.52, 2: 0.02, 3: 0.13, 4: 0.33}</td>\n",
       "      <td>[]</td>\n",
       "      <td>[]</td>\n",
       "      <td>[]</td>\n",
       "    </tr>\n",
       "    <tr>\n",
       "      <th>10</th>\n",
       "      <td>n256</td>\n",
       "      <td>Child</td>\n",
       "      <td>None</td>\n",
       "      <td>668</td>\n",
       "      <td>1411.85</td>\n",
       "      <td>None</td>\n",
       "      <td>{1: 0.55, 2: 0.02, 3: 0.16, 4: 0.27}</td>\n",
       "      <td>[]</td>\n",
       "      <td>[]</td>\n",
       "      <td>[]</td>\n",
       "    </tr>\n",
       "    <tr>\n",
       "      <th>11</th>\n",
       "      <td>n257</td>\n",
       "      <td>Child</td>\n",
       "      <td>None</td>\n",
       "      <td>512</td>\n",
       "      <td>1040.37</td>\n",
       "      <td>None</td>\n",
       "      <td>{1: 0.49, 2: 0.03, 3: 0.08, 4: 0.4}</td>\n",
       "      <td>[]</td>\n",
       "      <td>[]</td>\n",
       "      <td>[]</td>\n",
       "    </tr>\n",
       "    <tr>\n",
       "      <th>12</th>\n",
       "      <td>n129</td>\n",
       "      <td>Parent</td>\n",
       "      <td>age_group in ('age_group0-18', 'age_group31-65')</td>\n",
       "      <td>2192</td>\n",
       "      <td>3849.46</td>\n",
       "      <td>0.597</td>\n",
       "      <td>{1: 0.29, 2: 0.03, 3: 0.04, 4: 0.64}</td>\n",
       "      <td>[]</td>\n",
       "      <td>[]</td>\n",
       "      <td>[]</td>\n",
       "    </tr>\n",
       "    <tr>\n",
       "      <th>13</th>\n",
       "      <td>n258</td>\n",
       "      <td>Child</td>\n",
       "      <td>None</td>\n",
       "      <td>646</td>\n",
       "      <td>1260.27</td>\n",
       "      <td>None</td>\n",
       "      <td>{1: 0.3, 2: 0.03, 3: 0.08, 4: 0.59}</td>\n",
       "      <td>[]</td>\n",
       "      <td>[]</td>\n",
       "      <td>[]</td>\n",
       "    </tr>\n",
       "    <tr>\n",
       "      <th>14</th>\n",
       "      <td>n259</td>\n",
       "      <td>Parent</td>\n",
       "      <td>day_of_week in ('day_of_week3', 'day_of_week4', 'day_of_week5')</td>\n",
       "      <td>1546</td>\n",
       "      <td>2554.74</td>\n",
       "      <td>0.602</td>\n",
       "      <td>{1: 0.29, 2: 0.03, 3: 0.02, 4: 0.66}</td>\n",
       "      <td>[]</td>\n",
       "      <td>[]</td>\n",
       "      <td>[]</td>\n",
       "    </tr>\n",
       "    <tr>\n",
       "      <th>15</th>\n",
       "      <td>n518</td>\n",
       "      <td>Child</td>\n",
       "      <td>None</td>\n",
       "      <td>663</td>\n",
       "      <td>1167.43</td>\n",
       "      <td>None</td>\n",
       "      <td>{1: 0.31, 2: 0.05, 3: 0.02, 4: 0.62}</td>\n",
       "      <td>[]</td>\n",
       "      <td>[]</td>\n",
       "      <td>[]</td>\n",
       "    </tr>\n",
       "    <tr>\n",
       "      <th>16</th>\n",
       "      <td>n519</td>\n",
       "      <td>Child</td>\n",
       "      <td>None</td>\n",
       "      <td>883</td>\n",
       "      <td>1371.74</td>\n",
       "      <td>None</td>\n",
       "      <td>{1: 0.27, 2: 0.02, 3: 0.02, 4: 0.69}</td>\n",
       "      <td>[]</td>\n",
       "      <td>[]</td>\n",
       "      <td>[]</td>\n",
       "    </tr>\n",
       "    <tr>\n",
       "      <th>17</th>\n",
       "      <td>n33</td>\n",
       "      <td>Parent</td>\n",
       "      <td>starttime_group in ('afternoon',)</td>\n",
       "      <td>1909</td>\n",
       "      <td>4113.48</td>\n",
       "      <td>0.606</td>\n",
       "      <td>{1: 0.45, 2: 0.03, 3: 0.12, 4: 0.41}</td>\n",
       "      <td>[]</td>\n",
       "      <td>[]</td>\n",
       "      <td>[]</td>\n",
       "    </tr>\n",
       "    <tr>\n",
       "      <th>18</th>\n",
       "      <td>n66</td>\n",
       "      <td>Child</td>\n",
       "      <td>None</td>\n",
       "      <td>715</td>\n",
       "      <td>1539.0</td>\n",
       "      <td>None</td>\n",
       "      <td>{1: 0.42, 2: 0.03, 3: 0.11, 4: 0.44}</td>\n",
       "      <td>[]</td>\n",
       "      <td>[]</td>\n",
       "      <td>[]</td>\n",
       "    </tr>\n",
       "    <tr>\n",
       "      <th>19</th>\n",
       "      <td>n67</td>\n",
       "      <td>Child</td>\n",
       "      <td>None</td>\n",
       "      <td>1194</td>\n",
       "      <td>2568.79</td>\n",
       "      <td>None</td>\n",
       "      <td>{1: 0.46, 2: 0.03, 3: 0.12, 4: 0.39}</td>\n",
       "      <td>[]</td>\n",
       "      <td>[]</td>\n",
       "      <td>[]</td>\n",
       "    </tr>\n",
       "    <tr>\n",
       "      <th>20</th>\n",
       "      <td>n17</td>\n",
       "      <td>Parent</td>\n",
       "      <td>trafficperc_group in ('0low_traffic',)</td>\n",
       "      <td>2002</td>\n",
       "      <td>3717.99</td>\n",
       "      <td>0.609</td>\n",
       "      <td>{1: 0.35, 2: 0.03, 3: 0.05, 4: 0.57}</td>\n",
       "      <td>[]</td>\n",
       "      <td>[]</td>\n",
       "      <td>[]</td>\n",
       "    </tr>\n",
       "    <tr>\n",
       "      <th>21</th>\n",
       "      <td>n34</td>\n",
       "      <td>Child</td>\n",
       "      <td>None</td>\n",
       "      <td>697</td>\n",
       "      <td>1402.91</td>\n",
       "      <td>None</td>\n",
       "      <td>{1: 0.44, 2: 0.04, 3: 0.06, 4: 0.46}</td>\n",
       "      <td>[]</td>\n",
       "      <td>[]</td>\n",
       "      <td>[]</td>\n",
       "    </tr>\n",
       "    <tr>\n",
       "      <th>22</th>\n",
       "      <td>n35</td>\n",
       "      <td>Child</td>\n",
       "      <td>None</td>\n",
       "      <td>1305</td>\n",
       "      <td>2257.1</td>\n",
       "      <td>None</td>\n",
       "      <td>{1: 0.3, 2: 0.02, 3: 0.04, 4: 0.64}</td>\n",
       "      <td>[]</td>\n",
       "      <td>[]</td>\n",
       "      <td>[]</td>\n",
       "    </tr>\n",
       "    <tr>\n",
       "      <th>23</th>\n",
       "      <td>n5</td>\n",
       "      <td>Parent</td>\n",
       "      <td>drivingcharge_group in ('high_charge',)</td>\n",
       "      <td>42471</td>\n",
       "      <td>74895.62</td>\n",
       "      <td>0.614</td>\n",
       "      <td>{1: 0.05, 2: 0.02, 3: 0.3, 4: 0.63}</td>\n",
       "      <td>[[0.85, 0.15], [0.19, 0.81]]</td>\n",
       "      <td>[[0.03, 0.04, 0.93, 0.0], [0.05, 0.02, 0.08, 0.85]]</td>\n",
       "      <td>[]</td>\n",
       "    </tr>\n",
       "    <tr>\n",
       "      <th>24</th>\n",
       "      <td>n10</td>\n",
       "      <td>Parent</td>\n",
       "      <td>trafficperc_group in ('0low_traffic', '1mediumlow_traffic')</td>\n",
       "      <td>38446</td>\n",
       "      <td>64062.46</td>\n",
       "      <td>0.617</td>\n",
       "      <td>{1: 0.05, 2: 0.02, 3: 0.24, 4: 0.69}</td>\n",
       "      <td>[[0.76, 0.24], [0.6, 0.4], [0.44, 0.56], [0.22, 0.78], [0.0, 1.0]]</td>\n",
       "      <td>[[0.06, 0.01, 0.0, 0.93], [0.03, 0.04, 0.55, 0.39]]</td>\n",
       "      <td>[]</td>\n",
       "    </tr>\n",
       "    <tr>\n",
       "      <th>25</th>\n",
       "      <td>n20</td>\n",
       "      <td>Parent</td>\n",
       "      <td>faretype in ('faretype1', 'faretype2', 'faretype3', 'faretype4')</td>\n",
       "      <td>13067</td>\n",
       "      <td>23814.25</td>\n",
       "      <td>0.619</td>\n",
       "      <td>{1: 0.03, 2: 0.03, 3: 0.39, 4: 0.55}</td>\n",
       "      <td>[[0.51, 0.49], [1.0, 0.0], [0.68, 0.32], [0.84, 0.16], [0.45, 0.55]]</td>\n",
       "      <td>[[0.03, 0.02, 0.74, 0.21], [0.05, 0.03, 0.0, 0.93]]</td>\n",
       "      <td>[]</td>\n",
       "    </tr>\n",
       "    <tr>\n",
       "      <th>26</th>\n",
       "      <td>n40</td>\n",
       "      <td>Parent</td>\n",
       "      <td>age_group in ('age_group19-30', 'age_group31-65', 'age_group66+')</td>\n",
       "      <td>2562</td>\n",
       "      <td>4313.73</td>\n",
       "      <td>0.621</td>\n",
       "      <td>{1: 0.03, 2: 0.01, 3: 0.34, 4: 0.61}</td>\n",
       "      <td>[[0.31, 0.69], [0.94, 0.06], [0.56, 0.44], [0.59, 0.41]]</td>\n",
       "      <td>[[0.01, 0.0, 0.66, 0.33], [0.06, 0.02, 0.0, 0.92]]</td>\n",
       "      <td>[]</td>\n",
       "    </tr>\n",
       "    <tr>\n",
       "      <th>27</th>\n",
       "      <td>n80</td>\n",
       "      <td>Child</td>\n",
       "      <td>None</td>\n",
       "      <td>682</td>\n",
       "      <td>899.97</td>\n",
       "      <td>None</td>\n",
       "      <td>{1: 0.03, 2: 0.01, 3: 0.2, 4: 0.77}</td>\n",
       "      <td>[]</td>\n",
       "      <td>[]</td>\n",
       "      <td>[]</td>\n",
       "    </tr>\n",
       "    <tr>\n",
       "      <th>28</th>\n",
       "      <td>n81</td>\n",
       "      <td>Parent</td>\n",
       "      <td>travel_month in ('travel_month1', 'travel_month11', 'travel_month12', 'travel_month3', 'travel_month6', 'travel_month8', 'travel_month9')</td>\n",
       "      <td>1880</td>\n",
       "      <td>3311.87</td>\n",
       "      <td>0.622</td>\n",
       "      <td>{1: 0.04, 2: 0.02, 3: 0.39, 4: 0.55}</td>\n",
       "      <td>[]</td>\n",
       "      <td>[]</td>\n",
       "      <td>[]</td>\n",
       "    </tr>\n",
       "    <tr>\n",
       "      <th>29</th>\n",
       "      <td>n162</td>\n",
       "      <td>Child</td>\n",
       "      <td>None</td>\n",
       "      <td>908</td>\n",
       "      <td>1700.37</td>\n",
       "      <td>None</td>\n",
       "      <td>{1: 0.05, 2: 0.02, 3: 0.37, 4: 0.55}</td>\n",
       "      <td>[]</td>\n",
       "      <td>[]</td>\n",
       "      <td>[]</td>\n",
       "    </tr>\n",
       "    <tr>\n",
       "      <th>30</th>\n",
       "      <td>n163</td>\n",
       "      <td>Child</td>\n",
       "      <td>None</td>\n",
       "      <td>972</td>\n",
       "      <td>1591.59</td>\n",
       "      <td>None</td>\n",
       "      <td>{1: 0.02, 2: 0.01, 3: 0.41, 4: 0.56}</td>\n",
       "      <td>[]</td>\n",
       "      <td>[]</td>\n",
       "      <td>[]</td>\n",
       "    </tr>\n",
       "    <tr>\n",
       "      <th>31</th>\n",
       "      <td>n41</td>\n",
       "      <td>Parent</td>\n",
       "      <td>driving_license in ('driving_license0',)</td>\n",
       "      <td>10505</td>\n",
       "      <td>19431.51</td>\n",
       "      <td>0.624</td>\n",
       "      <td>{1: 0.03, 2: 0.03, 3: 0.4, 4: 0.53}</td>\n",
       "      <td>[[0.59, 0.41], [0.13, 0.87]]</td>\n",
       "      <td>[[0.06, 0.01, 0.93, 0.0], [0.03, 0.04, 0.25, 0.69]]</td>\n",
       "      <td>[]</td>\n",
       "    </tr>\n",
       "    <tr>\n",
       "      <th>32</th>\n",
       "      <td>n82</td>\n",
       "      <td>Parent</td>\n",
       "      <td>cost_group in ('high_cost', 'medium_cost')</td>\n",
       "      <td>8188</td>\n",
       "      <td>14639.81</td>\n",
       "      <td>0.625</td>\n",
       "      <td>{1: 0.03, 2: 0.03, 3: 0.34, 4: 0.6}</td>\n",
       "      <td>[[1.0, 0.0], [0.41, 0.59], [0.76, 0.24]]</td>\n",
       "      <td>[[0.0, 0.02, 0.46, 0.52], [0.12, 0.06, 0.0, 0.82]]</td>\n",
       "      <td>[]</td>\n",
       "    </tr>\n",
       "    <tr>\n",
       "      <th>33</th>\n",
       "      <td>n164</td>\n",
       "      <td>Parent</td>\n",
       "      <td>travel_month in ('travel_month1', 'travel_month12', 'travel_month2', 'travel_month4', 'travel_month6', 'travel_month9')</td>\n",
       "      <td>2716</td>\n",
       "      <td>4889.77</td>\n",
       "      <td>0.626</td>\n",
       "      <td>{1: 0.07, 2: 0.04, 3: 0.19, 4: 0.69}</td>\n",
       "      <td>[]</td>\n",
       "      <td>[]</td>\n",
       "      <td>[]</td>\n",
       "    </tr>\n",
       "    <tr>\n",
       "      <th>34</th>\n",
       "      <td>n328</td>\n",
       "      <td>Parent</td>\n",
       "      <td>day_of_week in ('day_of_week1', 'day_of_week3', 'day_of_week5', 'day_of_week6')</td>\n",
       "      <td>1377</td>\n",
       "      <td>2736.36</td>\n",
       "      <td>0.627</td>\n",
       "      <td>{1: 0.08, 2: 0.06, 3: 0.21, 4: 0.64}</td>\n",
       "      <td>[]</td>\n",
       "      <td>[]</td>\n",
       "      <td>[]</td>\n",
       "    </tr>\n",
       "    <tr>\n",
       "      <th>35</th>\n",
       "      <td>n656</td>\n",
       "      <td>Child</td>\n",
       "      <td>None</td>\n",
       "      <td>516</td>\n",
       "      <td>1058.25</td>\n",
       "      <td>None</td>\n",
       "      <td>{1: 0.11, 2: 0.07, 3: 0.18, 4: 0.64}</td>\n",
       "      <td>[]</td>\n",
       "      <td>[]</td>\n",
       "      <td>[]</td>\n",
       "    </tr>\n",
       "    <tr>\n",
       "      <th>36</th>\n",
       "      <td>n657</td>\n",
       "      <td>Child</td>\n",
       "      <td>None</td>\n",
       "      <td>861</td>\n",
       "      <td>1668.12</td>\n",
       "      <td>None</td>\n",
       "      <td>{1: 0.07, 2: 0.05, 3: 0.23, 4: 0.64}</td>\n",
       "      <td>[]</td>\n",
       "      <td>[]</td>\n",
       "      <td>[]</td>\n",
       "    </tr>\n",
       "    <tr>\n",
       "      <th>37</th>\n",
       "      <td>n329</td>\n",
       "      <td>Parent</td>\n",
       "      <td>travel_month in ('travel_month1', 'travel_month12', 'travel_month2')</td>\n",
       "      <td>1339</td>\n",
       "      <td>2113.73</td>\n",
       "      <td>0.628</td>\n",
       "      <td>{1: 0.06, 2: 0.03, 3: 0.18, 4: 0.74}</td>\n",
       "      <td>[]</td>\n",
       "      <td>[]</td>\n",
       "      <td>[]</td>\n",
       "    </tr>\n",
       "    <tr>\n",
       "      <th>38</th>\n",
       "      <td>n658</td>\n",
       "      <td>Child</td>\n",
       "      <td>None</td>\n",
       "      <td>778</td>\n",
       "      <td>1260.21</td>\n",
       "      <td>None</td>\n",
       "      <td>{1: 0.06, 2: 0.04, 3: 0.17, 4: 0.74}</td>\n",
       "      <td>[]</td>\n",
       "      <td>[]</td>\n",
       "      <td>[]</td>\n",
       "    </tr>\n",
       "    <tr>\n",
       "      <th>39</th>\n",
       "      <td>n659</td>\n",
       "      <td>Child</td>\n",
       "      <td>None</td>\n",
       "      <td>561</td>\n",
       "      <td>843.97</td>\n",
       "      <td>None</td>\n",
       "      <td>{1: 0.06, 2: 0.01, 3: 0.19, 4: 0.74}</td>\n",
       "      <td>[]</td>\n",
       "      <td>[]</td>\n",
       "      <td>[]</td>\n",
       "    </tr>\n",
       "    <tr>\n",
       "      <th>40</th>\n",
       "      <td>n165</td>\n",
       "      <td>Parent</td>\n",
       "      <td>day_of_week in ('day_of_week1', 'day_of_week2', 'day_of_week3', 'day_of_week4', 'day_of_week5')</td>\n",
       "      <td>5472</td>\n",
       "      <td>9218.03</td>\n",
       "      <td>0.629</td>\n",
       "      <td>{1: 0.01, 2: 0.03, 3: 0.41, 4: 0.55}</td>\n",
       "      <td>[[0.77, 0.23], [0.81, 0.19], [1.0, 0.0], [0.92, 0.08], [0.89, 0.11], [0.12, 0.88], [0.21, 0.79]]</td>\n",
       "      <td>[[0.01, 0.03, 0.46, 0.5], [0.02, 0.01, 0.27, 0.7]]</td>\n",
       "      <td>[]</td>\n",
       "    </tr>\n",
       "    <tr>\n",
       "      <th>41</th>\n",
       "      <td>n330</td>\n",
       "      <td>Parent</td>\n",
       "      <td>cost_group in ('high_cost',)</td>\n",
       "      <td>1269</td>\n",
       "      <td>1960.62</td>\n",
       "      <td>0.63</td>\n",
       "      <td>{1: 0.02, 2: 0.01, 3: 0.3, 4: 0.67}</td>\n",
       "      <td>[]</td>\n",
       "      <td>[]</td>\n",
       "      <td>[]</td>\n",
       "    </tr>\n",
       "    <tr>\n",
       "      <th>42</th>\n",
       "      <td>n660</td>\n",
       "      <td>Child</td>\n",
       "      <td>None</td>\n",
       "      <td>696</td>\n",
       "      <td>1091.22</td>\n",
       "      <td>None</td>\n",
       "      <td>{1: 0.03, 2: 0.02, 3: 0.26, 4: 0.69}</td>\n",
       "      <td>[]</td>\n",
       "      <td>[]</td>\n",
       "      <td>[]</td>\n",
       "    </tr>\n",
       "    <tr>\n",
       "      <th>43</th>\n",
       "      <td>n661</td>\n",
       "      <td>Child</td>\n",
       "      <td>None</td>\n",
       "      <td>573</td>\n",
       "      <td>839.17</td>\n",
       "      <td>None</td>\n",
       "      <td>{1: 0.0, 2: 0.01, 3: 0.35, 4: 0.63}</td>\n",
       "      <td>[]</td>\n",
       "      <td>[]</td>\n",
       "      <td>[]</td>\n",
       "    </tr>\n",
       "    <tr>\n",
       "      <th>44</th>\n",
       "      <td>n331</td>\n",
       "      <td>Parent</td>\n",
       "      <td>trafficperc_group in ('2medium_traffic',)</td>\n",
       "      <td>4203</td>\n",
       "      <td>7150.81</td>\n",
       "      <td>0.631</td>\n",
       "      <td>{1: 0.01, 2: 0.03, 3: 0.44, 4: 0.52}</td>\n",
       "      <td>[[0.69, 0.31], [0.3, 0.7], [0.0, 1.0]]</td>\n",
       "      <td>[[0.01, 0.0, 0.2, 0.79], [0.01, 0.05, 0.58, 0.36]]</td>\n",
       "      <td>[]</td>\n",
       "    </tr>\n",
       "    <tr>\n",
       "      <th>45</th>\n",
       "      <td>n662</td>\n",
       "      <td>Parent</td>\n",
       "      <td>purpose in ('purpose2', 'purpose3', 'purpose4', 'purpose5')</td>\n",
       "      <td>2423</td>\n",
       "      <td>4250.39</td>\n",
       "      <td>0.631</td>\n",
       "      <td>{1: 0.01, 2: 0.04, 3: 0.53, 4: 0.42}</td>\n",
       "      <td>[[0.19, 0.81], [0.99, 0.01], [0.82, 0.18], [0.8, 0.2], [0.78, 0.22]]</td>\n",
       "      <td>[[0.02, 0.01, 0.42, 0.55], [0.0, 0.07, 0.66, 0.27]]</td>\n",
       "      <td>[]</td>\n",
       "    </tr>\n",
       "    <tr>\n",
       "      <th>46</th>\n",
       "      <td>n1324</td>\n",
       "      <td>Child</td>\n",
       "      <td>None</td>\n",
       "      <td>1134</td>\n",
       "      <td>1901.78</td>\n",
       "      <td>None</td>\n",
       "      <td>{1: 0.0, 2: 0.06, 3: 0.62, 4: 0.32}</td>\n",
       "      <td>[]</td>\n",
       "      <td>[]</td>\n",
       "      <td>[]</td>\n",
       "    </tr>\n",
       "    <tr>\n",
       "      <th>47</th>\n",
       "      <td>n1325</td>\n",
       "      <td>Parent</td>\n",
       "      <td>trafficperc_group in ('3mediumhigh_traffic',)</td>\n",
       "      <td>1289</td>\n",
       "      <td>2242.5</td>\n",
       "      <td>0.632</td>\n",
       "      <td>{1: 0.02, 2: 0.03, 3: 0.46, 4: 0.5}</td>\n",
       "      <td>[]</td>\n",
       "      <td>[]</td>\n",
       "      <td>[]</td>\n",
       "    </tr>\n",
       "    <tr>\n",
       "      <th>48</th>\n",
       "      <td>n2650</td>\n",
       "      <td>Child</td>\n",
       "      <td>None</td>\n",
       "      <td>741</td>\n",
       "      <td>1303.84</td>\n",
       "      <td>None</td>\n",
       "      <td>{1: 0.01, 2: 0.03, 3: 0.49, 4: 0.46}</td>\n",
       "      <td>[]</td>\n",
       "      <td>[]</td>\n",
       "      <td>[]</td>\n",
       "    </tr>\n",
       "    <tr>\n",
       "      <th>49</th>\n",
       "      <td>n2651</td>\n",
       "      <td>Child</td>\n",
       "      <td>None</td>\n",
       "      <td>548</td>\n",
       "      <td>927.11</td>\n",
       "      <td>None</td>\n",
       "      <td>{1: 0.02, 2: 0.02, 3: 0.41, 4: 0.55}</td>\n",
       "      <td>[]</td>\n",
       "      <td>[]</td>\n",
       "      <td>[]</td>\n",
       "    </tr>\n",
       "    <tr>\n",
       "      <th>50</th>\n",
       "      <td>n663</td>\n",
       "      <td>Parent</td>\n",
       "      <td>cost_group in ('high_cost',)</td>\n",
       "      <td>1780</td>\n",
       "      <td>2646.15</td>\n",
       "      <td>0.633</td>\n",
       "      <td>{1: 0.01, 2: 0.02, 3: 0.31, 4: 0.66}</td>\n",
       "      <td>[]</td>\n",
       "      <td>[]</td>\n",
       "      <td>[]</td>\n",
       "    </tr>\n",
       "    <tr>\n",
       "      <th>51</th>\n",
       "      <td>n1326</td>\n",
       "      <td>Child</td>\n",
       "      <td>None</td>\n",
       "      <td>920</td>\n",
       "      <td>1353.03</td>\n",
       "      <td>None</td>\n",
       "      <td>{1: 0.01, 2: 0.02, 3: 0.26, 4: 0.7}</td>\n",
       "      <td>[]</td>\n",
       "      <td>[]</td>\n",
       "      <td>[]</td>\n",
       "    </tr>\n",
       "    <tr>\n",
       "      <th>52</th>\n",
       "      <td>n1327</td>\n",
       "      <td>Child</td>\n",
       "      <td>None</td>\n",
       "      <td>860</td>\n",
       "      <td>1266.81</td>\n",
       "      <td>None</td>\n",
       "      <td>{1: 0.0, 2: 0.01, 3: 0.37, 4: 0.62}</td>\n",
       "      <td>[]</td>\n",
       "      <td>[]</td>\n",
       "      <td>[]</td>\n",
       "    </tr>\n",
       "    <tr>\n",
       "      <th>53</th>\n",
       "      <td>n83</td>\n",
       "      <td>Parent</td>\n",
       "      <td>purpose in ('purpose1', 'purpose2', 'purpose4')</td>\n",
       "      <td>2317</td>\n",
       "      <td>4008.74</td>\n",
       "      <td>0.633</td>\n",
       "      <td>{1: 0.05, 2: 0.02, 3: 0.65, 4: 0.29}</td>\n",
       "      <td>[[0.64, 0.36], [0.58, 0.42], [0.04, 0.96], [0.56, 0.44], [0.0, 1.0]]</td>\n",
       "      <td>[[0.01, 0.03, 0.96, 0.0], [0.07, 0.02, 0.51, 0.4]]</td>\n",
       "      <td>[]</td>\n",
       "    </tr>\n",
       "    <tr>\n",
       "      <th>54</th>\n",
       "      <td>n166</td>\n",
       "      <td>Parent</td>\n",
       "      <td>bus_scale in ('bus_scale0.0',)</td>\n",
       "      <td>1213</td>\n",
       "      <td>2288.78</td>\n",
       "      <td>0.634</td>\n",
       "      <td>{1: 0.06, 2: 0.02, 3: 0.52, 4: 0.4}</td>\n",
       "      <td>[]</td>\n",
       "      <td>[]</td>\n",
       "      <td>[]</td>\n",
       "    </tr>\n",
       "    <tr>\n",
       "      <th>55</th>\n",
       "      <td>n332</td>\n",
       "      <td>Child</td>\n",
       "      <td>None</td>\n",
       "      <td>701</td>\n",
       "      <td>1367.42</td>\n",
       "      <td>None</td>\n",
       "      <td>{1: 0.07, 2: 0.03, 3: 0.56, 4: 0.34}</td>\n",
       "      <td>[]</td>\n",
       "      <td>[]</td>\n",
       "      <td>[]</td>\n",
       "    </tr>\n",
       "    <tr>\n",
       "      <th>56</th>\n",
       "      <td>n333</td>\n",
       "      <td>Child</td>\n",
       "      <td>None</td>\n",
       "      <td>512</td>\n",
       "      <td>888.14</td>\n",
       "      <td>None</td>\n",
       "      <td>{1: 0.04, 2: 0.01, 3: 0.47, 4: 0.49}</td>\n",
       "      <td>[]</td>\n",
       "      <td>[]</td>\n",
       "      <td>[]</td>\n",
       "    </tr>\n",
       "    <tr>\n",
       "      <th>57</th>\n",
       "      <td>n167</td>\n",
       "      <td>Parent</td>\n",
       "      <td>cost_group in ('high_cost', 'medium_cost')</td>\n",
       "      <td>1104</td>\n",
       "      <td>1525.98</td>\n",
       "      <td>0.634</td>\n",
       "      <td>{1: 0.04, 2: 0.02, 3: 0.78, 4: 0.16}</td>\n",
       "      <td>[]</td>\n",
       "      <td>[]</td>\n",
       "      <td>[]</td>\n",
       "    </tr>\n",
       "    <tr>\n",
       "      <th>58</th>\n",
       "      <td>n334</td>\n",
       "      <td>Child</td>\n",
       "      <td>None</td>\n",
       "      <td>603</td>\n",
       "      <td>954.76</td>\n",
       "      <td>None</td>\n",
       "      <td>{1: 0.06, 2: 0.02, 3: 0.73, 4: 0.19}</td>\n",
       "      <td>[]</td>\n",
       "      <td>[]</td>\n",
       "      <td>[]</td>\n",
       "    </tr>\n",
       "    <tr>\n",
       "      <th>59</th>\n",
       "      <td>n335</td>\n",
       "      <td>Child</td>\n",
       "      <td>None</td>\n",
       "      <td>501</td>\n",
       "      <td>540.5</td>\n",
       "      <td>None</td>\n",
       "      <td>{1: 0.01, 2: 0.02, 3: 0.84, 4: 0.12}</td>\n",
       "      <td>[]</td>\n",
       "      <td>[]</td>\n",
       "      <td>[]</td>\n",
       "    </tr>\n",
       "    <tr>\n",
       "      <th>60</th>\n",
       "      <td>n21</td>\n",
       "      <td>Parent</td>\n",
       "      <td>age_group in ('age_group31-65',)</td>\n",
       "      <td>25379</td>\n",
       "      <td>37810.84</td>\n",
       "      <td>0.635</td>\n",
       "      <td>{1: 0.06, 2: 0.02, 3: 0.16, 4: 0.76}</td>\n",
       "      <td>[[0.0, 1.0], [0.17, 0.83], [0.53, 0.47], [0.38, 0.62]]</td>\n",
       "      <td>[[0.01, 0.01, 0.0, 0.97], [0.07, 0.02, 0.27, 0.64]]</td>\n",
       "      <td>[]</td>\n",
       "    </tr>\n",
       "    <tr>\n",
       "      <th>61</th>\n",
       "      <td>n42</td>\n",
       "      <td>Parent</td>\n",
       "      <td>starttime_group in ('evening', 'morning')</td>\n",
       "      <td>11113</td>\n",
       "      <td>18444.73</td>\n",
       "      <td>0.635</td>\n",
       "      <td>{1: 0.06, 2: 0.02, 3: 0.23, 4: 0.69}</td>\n",
       "      <td>[[0.39, 0.61], [0.01, 0.99], [0.61, 0.39], [0.51, 0.49]]</td>\n",
       "      <td>[[0.04, 0.02, 0.0, 0.94], [0.08, 0.02, 0.38, 0.52]]</td>\n",
       "      <td>[]</td>\n",
       "    </tr>\n",
       "    <tr>\n",
       "      <th>62</th>\n",
       "      <td>n84</td>\n",
       "      <td>Parent</td>\n",
       "      <td>day_of_week in ('day_of_week1', 'day_of_week2', 'day_of_week3', 'day_of_week4', 'day_of_week5', 'day_of_week6')</td>\n",
       "      <td>7861</td>\n",
       "      <td>13537.52</td>\n",
       "      <td>0.636</td>\n",
       "      <td>{1: 0.06, 2: 0.02, 3: 0.25, 4: 0.67}</td>\n",
       "      <td>[[0.94, 0.06], [0.88, 0.12], [0.87, 0.13], [1.0, 0.0], [0.83, 0.17], [0.58, 0.42], [0.22, 0.78]]</td>\n",
       "      <td>[[0.06, 0.01, 0.32, 0.61], [0.05, 0.03, 0.05, 0.86]]</td>\n",
       "      <td>[]</td>\n",
       "    </tr>\n",
       "    <tr>\n",
       "      <th>63</th>\n",
       "      <td>n168</td>\n",
       "      <td>Child</td>\n",
       "      <td>None</td>\n",
       "      <td>1165</td>\n",
       "      <td>1530.31</td>\n",
       "      <td>None</td>\n",
       "      <td>{1: 0.05, 2: 0.02, 3: 0.11, 4: 0.81}</td>\n",
       "      <td>[]</td>\n",
       "      <td>[]</td>\n",
       "      <td>[]</td>\n",
       "    </tr>\n",
       "    <tr>\n",
       "      <th>64</th>\n",
       "      <td>n169</td>\n",
       "      <td>Parent</td>\n",
       "      <td>age_group in ('age_group66+',)</td>\n",
       "      <td>6696</td>\n",
       "      <td>11822.74</td>\n",
       "      <td>0.636</td>\n",
       "      <td>{1: 0.06, 2: 0.02, 3: 0.28, 4: 0.64}</td>\n",
       "      <td>[[0.0, 1.0], [0.29, 0.71], [0.59, 0.41]]</td>\n",
       "      <td>[[0.0, 0.01, 0.13, 0.86], [0.08, 0.02, 0.33, 0.57]]</td>\n",
       "      <td>[]</td>\n",
       "    </tr>\n",
       "    <tr>\n",
       "      <th>65</th>\n",
       "      <td>n338</td>\n",
       "      <td>Parent</td>\n",
       "      <td>purpose in ('purpose3', 'purpose5')</td>\n",
       "      <td>4652</td>\n",
       "      <td>8776.29</td>\n",
       "      <td>0.636</td>\n",
       "      <td>{1: 0.08, 2: 0.02, 3: 0.31, 4: 0.6}</td>\n",
       "      <td>[[0.3, 0.7], [0.0, 1.0], [0.57, 0.43], [0.4, 0.6], [0.58, 0.42]]</td>\n",
       "      <td>[[0.04, 0.01, 0.0, 0.95], [0.08, 0.02, 0.49, 0.41]]</td>\n",
       "      <td>[]</td>\n",
       "    </tr>\n",
       "    <tr>\n",
       "      <th>66</th>\n",
       "      <td>n676</td>\n",
       "      <td>Parent</td>\n",
       "      <td>driving_license in ('driving_license1',)</td>\n",
       "      <td>2065</td>\n",
       "      <td>4136.8</td>\n",
       "      <td>0.637</td>\n",
       "      <td>{1: 0.08, 2: 0.02, 3: 0.44, 4: 0.46}</td>\n",
       "      <td>[[0.44, 0.56], [0.87, 0.13]]</td>\n",
       "      <td>[[0.02, 0.02, 0.12, 0.83], [0.16, 0.01, 0.83, 0.0]]</td>\n",
       "      <td>[]</td>\n",
       "    </tr>\n",
       "    <tr>\n",
       "      <th>67</th>\n",
       "      <td>n1353</td>\n",
       "      <td>Child</td>\n",
       "      <td>None</td>\n",
       "      <td>517</td>\n",
       "      <td>802.58</td>\n",
       "      <td>None</td>\n",
       "      <td>{1: 0.04, 2: 0.02, 3: 0.21, 4: 0.73}</td>\n",
       "      <td>[]</td>\n",
       "      <td>[]</td>\n",
       "      <td>[]</td>\n",
       "    </tr>\n",
       "    <tr>\n",
       "      <th>68</th>\n",
       "      <td>n1352</td>\n",
       "      <td>Parent</td>\n",
       "      <td>car_ownership in ('car_ownership2',)</td>\n",
       "      <td>1548</td>\n",
       "      <td>3121.32</td>\n",
       "      <td>0.637</td>\n",
       "      <td>{1: 0.1, 2: 0.02, 3: 0.51, 4: 0.37}</td>\n",
       "      <td>[]</td>\n",
       "      <td>[]</td>\n",
       "      <td>[]</td>\n",
       "    </tr>\n",
       "    <tr>\n",
       "      <th>69</th>\n",
       "      <td>n2704</td>\n",
       "      <td>Child</td>\n",
       "      <td>None</td>\n",
       "      <td>976</td>\n",
       "      <td>1963.23</td>\n",
       "      <td>None</td>\n",
       "      <td>{1: 0.12, 2: 0.02, 3: 0.58, 4: 0.28}</td>\n",
       "      <td>[]</td>\n",
       "      <td>[]</td>\n",
       "      <td>[]</td>\n",
       "    </tr>\n",
       "    <tr>\n",
       "      <th>70</th>\n",
       "      <td>n2705</td>\n",
       "      <td>Child</td>\n",
       "      <td>None</td>\n",
       "      <td>572</td>\n",
       "      <td>1063.51</td>\n",
       "      <td>None</td>\n",
       "      <td>{1: 0.07, 2: 0.01, 3: 0.4, 4: 0.52}</td>\n",
       "      <td>[]</td>\n",
       "      <td>[]</td>\n",
       "      <td>[]</td>\n",
       "    </tr>\n",
       "    <tr>\n",
       "      <th>71</th>\n",
       "      <td>n677</td>\n",
       "      <td>Parent</td>\n",
       "      <td>travel_month in ('travel_month1', 'travel_month10', 'travel_month11', 'travel_month2', 'travel_month4', 'travel_month5')</td>\n",
       "      <td>2587</td>\n",
       "      <td>4304.18</td>\n",
       "      <td>0.637</td>\n",
       "      <td>{1: 0.07, 2: 0.02, 3: 0.2, 4: 0.71}</td>\n",
       "      <td>[]</td>\n",
       "      <td>[]</td>\n",
       "      <td>[]</td>\n",
       "    </tr>\n",
       "    <tr>\n",
       "      <th>72</th>\n",
       "      <td>n1355</td>\n",
       "      <td>Child</td>\n",
       "      <td>None</td>\n",
       "      <td>1239</td>\n",
       "      <td>1813.71</td>\n",
       "      <td>None</td>\n",
       "      <td>{1: 0.05, 2: 0.02, 3: 0.17, 4: 0.76}</td>\n",
       "      <td>[]</td>\n",
       "      <td>[]</td>\n",
       "      <td>[]</td>\n",
       "    </tr>\n",
       "    <tr>\n",
       "      <th>73</th>\n",
       "      <td>n1354</td>\n",
       "      <td>Parent</td>\n",
       "      <td>day_of_week in ('day_of_week1', 'day_of_week2', 'day_of_week4')</td>\n",
       "      <td>1348</td>\n",
       "      <td>2458.33</td>\n",
       "      <td>0.638</td>\n",
       "      <td>{1: 0.09, 2: 0.02, 3: 0.23, 4: 0.66}</td>\n",
       "      <td>[]</td>\n",
       "      <td>[]</td>\n",
       "      <td>[]</td>\n",
       "    </tr>\n",
       "    <tr>\n",
       "      <th>74</th>\n",
       "      <td>n2708</td>\n",
       "      <td>Child</td>\n",
       "      <td>None</td>\n",
       "      <td>789</td>\n",
       "      <td>1565.41</td>\n",
       "      <td>None</td>\n",
       "      <td>{1: 0.12, 2: 0.03, 3: 0.23, 4: 0.62}</td>\n",
       "      <td>[]</td>\n",
       "      <td>[]</td>\n",
       "      <td>[]</td>\n",
       "    </tr>\n",
       "    <tr>\n",
       "      <th>75</th>\n",
       "      <td>n2709</td>\n",
       "      <td>Child</td>\n",
       "      <td>None</td>\n",
       "      <td>559</td>\n",
       "      <td>860.92</td>\n",
       "      <td>None</td>\n",
       "      <td>{1: 0.04, 2: 0.01, 3: 0.23, 4: 0.72}</td>\n",
       "      <td>[]</td>\n",
       "      <td>[]</td>\n",
       "      <td>[]</td>\n",
       "    </tr>\n",
       "    <tr>\n",
       "      <th>76</th>\n",
       "      <td>n339</td>\n",
       "      <td>Parent</td>\n",
       "      <td>day_of_week in ('day_of_week1', 'day_of_week3', 'day_of_week4', 'day_of_week6')</td>\n",
       "      <td>2044</td>\n",
       "      <td>2904.93</td>\n",
       "      <td>0.638</td>\n",
       "      <td>{1: 0.03, 2: 0.01, 3: 0.22, 4: 0.74}</td>\n",
       "      <td>[]</td>\n",
       "      <td>[]</td>\n",
       "      <td>[]</td>\n",
       "    </tr>\n",
       "    <tr>\n",
       "      <th>77</th>\n",
       "      <td>n678</td>\n",
       "      <td>Child</td>\n",
       "      <td>None</td>\n",
       "      <td>738</td>\n",
       "      <td>1120.19</td>\n",
       "      <td>None</td>\n",
       "      <td>{1: 0.04, 2: 0.01, 3: 0.22, 4: 0.72}</td>\n",
       "      <td>[]</td>\n",
       "      <td>[]</td>\n",
       "      <td>[]</td>\n",
       "    </tr>\n",
       "    <tr>\n",
       "      <th>78</th>\n",
       "      <td>n679</td>\n",
       "      <td>Child</td>\n",
       "      <td>None</td>\n",
       "      <td>1306</td>\n",
       "      <td>1777.14</td>\n",
       "      <td>None</td>\n",
       "      <td>{1: 0.03, 2: 0.0, 3: 0.22, 4: 0.75}</td>\n",
       "      <td>[]</td>\n",
       "      <td>[]</td>\n",
       "      <td>[]</td>\n",
       "    </tr>\n",
       "    <tr>\n",
       "      <th>79</th>\n",
       "      <td>n85</td>\n",
       "      <td>Parent</td>\n",
       "      <td>faretype in ('faretype3', 'faretype5')</td>\n",
       "      <td>3252</td>\n",
       "      <td>4787.09</td>\n",
       "      <td>0.638</td>\n",
       "      <td>{1: 0.05, 2: 0.02, 3: 0.16, 4: 0.76}</td>\n",
       "      <td>[[0.5, 0.5], [0.0, 1.0], [0.52, 0.48], [0.12, 0.88], [0.72, 0.28]]</td>\n",
       "      <td>[[0.04, 0.0, 0.01, 0.95], [0.08, 0.04, 0.34, 0.53]]</td>\n",
       "      <td>[]</td>\n",
       "    </tr>\n",
       "    <tr>\n",
       "      <th>80</th>\n",
       "      <td>n170</td>\n",
       "      <td>Child</td>\n",
       "      <td>None</td>\n",
       "      <td>1476</td>\n",
       "      <td>2496.23</td>\n",
       "      <td>None</td>\n",
       "      <td>{1: 0.06, 2: 0.02, 3: 0.22, 4: 0.7}</td>\n",
       "      <td>[]</td>\n",
       "      <td>[]</td>\n",
       "      <td>[]</td>\n",
       "    </tr>\n",
       "    <tr>\n",
       "      <th>81</th>\n",
       "      <td>n171</td>\n",
       "      <td>Parent</td>\n",
       "      <td>car_ownership in ('car_ownership1',)</td>\n",
       "      <td>1776</td>\n",
       "      <td>2222.91</td>\n",
       "      <td>0.638</td>\n",
       "      <td>{1: 0.05, 2: 0.01, 3: 0.12, 4: 0.82}</td>\n",
       "      <td>[[0.58, 0.42], [0.13, 0.87]]</td>\n",
       "      <td>[[0.04, 0.0, 0.19, 0.76], [0.05, 0.02, 0.08, 0.85]]</td>\n",
       "      <td>[]</td>\n",
       "    </tr>\n",
       "    <tr>\n",
       "      <th>82</th>\n",
       "      <td>n342</td>\n",
       "      <td>Child</td>\n",
       "      <td>None</td>\n",
       "      <td>848</td>\n",
       "      <td>1006.9</td>\n",
       "      <td>None</td>\n",
       "      <td>{1: 0.05, 2: 0.02, 3: 0.09, 4: 0.84}</td>\n",
       "      <td>[]</td>\n",
       "      <td>[]</td>\n",
       "      <td>[]</td>\n",
       "    </tr>\n",
       "    <tr>\n",
       "      <th>83</th>\n",
       "      <td>n343</td>\n",
       "      <td>Child</td>\n",
       "      <td>None</td>\n",
       "      <td>928</td>\n",
       "      <td>1201.61</td>\n",
       "      <td>None</td>\n",
       "      <td>{1: 0.05, 2: 0.01, 3: 0.15, 4: 0.8}</td>\n",
       "      <td>[]</td>\n",
       "      <td>[]</td>\n",
       "      <td>[]</td>\n",
       "    </tr>\n",
       "    <tr>\n",
       "      <th>84</th>\n",
       "      <td>n43</td>\n",
       "      <td>Parent</td>\n",
       "      <td>distance_group in ('distance05', 'distance06', 'distance07', 'distance08', 'distance09', 'distance10', 'distance11')</td>\n",
       "      <td>14266</td>\n",
       "      <td>18749.34</td>\n",
       "      <td>0.639</td>\n",
       "      <td>{1: 0.05, 2: 0.02, 3: 0.11, 4: 0.81}</td>\n",
       "      <td>[[0.42, 0.58], [0.68, 0.32], [0.81, 0.19], [0.91, 0.09], [0.96, 0.04], [0.98, 0.02], [1.02, 0.0], [1.05, 0.0]]</td>\n",
       "      <td>[[0.0, 0.01, 0.17, 0.82], [0.31, 0.07, 0.0, 0.67]]</td>\n",
       "      <td>[]</td>\n",
       "    </tr>\n",
       "    <tr>\n",
       "      <th>85</th>\n",
       "      <td>n86</td>\n",
       "      <td>Parent</td>\n",
       "      <td>travel_month in ('travel_month1', 'travel_month12', 'travel_month4', 'travel_month6', 'travel_month7', 'travel_month8', 'travel_month9')</td>\n",
       "      <td>1701</td>\n",
       "      <td>3012.63</td>\n",
       "      <td>0.639</td>\n",
       "      <td>{1: 0.18, 2: 0.04, 3: 0.08, 4: 0.7}</td>\n",
       "      <td>[[0.64, 0.36], [0.5, 0.5], [0.41, 0.59], [0.5, 0.5], [0.45, 0.55], [0.0, 1.0], [0.54, 0.46], [0.43, 0.57], [0.53, 0.47], [0.76, 0.24], [0.75, 0.25], [0.58, 0.42]]</td>\n",
       "      <td>[[0.3, 0.0, 0.14, 0.56], [0.04, 0.09, 0.0, 0.87]]</td>\n",
       "      <td>[]</td>\n",
       "    </tr>\n",
       "    <tr>\n",
       "      <th>86</th>\n",
       "      <td>n172</td>\n",
       "      <td>Child</td>\n",
       "      <td>None</td>\n",
       "      <td>595</td>\n",
       "      <td>969.66</td>\n",
       "      <td>None</td>\n",
       "      <td>{1: 0.13, 2: 0.05, 3: 0.07, 4: 0.75}</td>\n",
       "      <td>[]</td>\n",
       "      <td>[]</td>\n",
       "      <td>[]</td>\n",
       "    </tr>\n",
       "    <tr>\n",
       "      <th>87</th>\n",
       "      <td>n173</td>\n",
       "      <td>Parent</td>\n",
       "      <td>day_of_week in ('day_of_week2', 'day_of_week4', 'day_of_week6')</td>\n",
       "      <td>1106</td>\n",
       "      <td>2024.16</td>\n",
       "      <td>0.639</td>\n",
       "      <td>{1: 0.21, 2: 0.04, 3: 0.08, 4: 0.68}</td>\n",
       "      <td>[]</td>\n",
       "      <td>[]</td>\n",
       "      <td>[]</td>\n",
       "    </tr>\n",
       "    <tr>\n",
       "      <th>88</th>\n",
       "      <td>n346</td>\n",
       "      <td>Child</td>\n",
       "      <td>None</td>\n",
       "      <td>587</td>\n",
       "      <td>1095.48</td>\n",
       "      <td>None</td>\n",
       "      <td>{1: 0.25, 2: 0.03, 3: 0.07, 4: 0.65}</td>\n",
       "      <td>[]</td>\n",
       "      <td>[]</td>\n",
       "      <td>[]</td>\n",
       "    </tr>\n",
       "    <tr>\n",
       "      <th>89</th>\n",
       "      <td>n347</td>\n",
       "      <td>Child</td>\n",
       "      <td>None</td>\n",
       "      <td>519</td>\n",
       "      <td>914.82</td>\n",
       "      <td>None</td>\n",
       "      <td>{1: 0.16, 2: 0.04, 3: 0.09, 4: 0.71}</td>\n",
       "      <td>[]</td>\n",
       "      <td>[]</td>\n",
       "      <td>[]</td>\n",
       "    </tr>\n",
       "    <tr>\n",
       "      <th>90</th>\n",
       "      <td>n87</td>\n",
       "      <td>Parent</td>\n",
       "      <td>trafficperc_group in ('0low_traffic',)</td>\n",
       "      <td>12565</td>\n",
       "      <td>15260.93</td>\n",
       "      <td>0.639</td>\n",
       "      <td>{1: 0.03, 2: 0.02, 3: 0.12, 4: 0.83}</td>\n",
       "      <td>[[0.57, 0.43], [0.13, 0.87]]</td>\n",
       "      <td>[[0.05, 0.02, 0.0, 0.94], [0.03, 0.02, 0.19, 0.76]]</td>\n",
       "      <td>[]</td>\n",
       "    </tr>\n",
       "    <tr>\n",
       "      <th>91</th>\n",
       "      <td>n174</td>\n",
       "      <td>Parent</td>\n",
       "      <td>day_of_week in ('day_of_week6', 'day_of_week7')</td>\n",
       "      <td>5217</td>\n",
       "      <td>7094.84</td>\n",
       "      <td>0.639</td>\n",
       "      <td>{1: 0.03, 2: 0.02, 3: 0.17, 4: 0.78}</td>\n",
       "      <td>[[0.28, 0.72], [0.0, 1.0], [0.16, 0.84], [0.03, 0.97], [0.21, 0.79], [0.56, 0.44], [0.74, 0.26]]</td>\n",
       "      <td>[[0.04, 0.01, 0.07, 0.88], [0.03, 0.03, 0.2, 0.74]]</td>\n",
       "      <td>[]</td>\n",
       "    </tr>\n",
       "    <tr>\n",
       "      <th>92</th>\n",
       "      <td>n348</td>\n",
       "      <td>Parent</td>\n",
       "      <td>cost_group in ('high_cost', 'medium_cost')</td>\n",
       "      <td>3720</td>\n",
       "      <td>5283.2</td>\n",
       "      <td>0.64</td>\n",
       "      <td>{1: 0.03, 2: 0.03, 3: 0.19, 4: 0.76}</td>\n",
       "      <td>[[0.96, 0.04], [0.17, 0.83], [0.85, 0.15]]</td>\n",
       "      <td>[[0.0, 0.02, 0.18, 0.8], [0.05, 0.03, 0.19, 0.73]]</td>\n",
       "      <td>[]</td>\n",
       "    </tr>\n",
       "    <tr>\n",
       "      <th>93</th>\n",
       "      <td>n696</td>\n",
       "      <td>Parent</td>\n",
       "      <td>costdrivingfuel_group in ('costdrivingfuelgroup10', 'costdrivingfuelgroup2', 'costdrivingfuelgroup8', 'costdrivingfuelgroup9')</td>\n",
       "      <td>2253</td>\n",
       "      <td>3498.97</td>\n",
       "      <td>0.64</td>\n",
       "      <td>{1: 0.04, 2: 0.03, 3: 0.19, 4: 0.74}</td>\n",
       "      <td>[]</td>\n",
       "      <td>[]</td>\n",
       "      <td>[]</td>\n",
       "    </tr>\n",
       "    <tr>\n",
       "      <th>94</th>\n",
       "      <td>n1392</td>\n",
       "      <td>Child</td>\n",
       "      <td>None</td>\n",
       "      <td>1640</td>\n",
       "      <td>2598.04</td>\n",
       "      <td>None</td>\n",
       "      <td>{1: 0.05, 2: 0.03, 3: 0.17, 4: 0.74}</td>\n",
       "      <td>[]</td>\n",
       "      <td>[]</td>\n",
       "      <td>[]</td>\n",
       "    </tr>\n",
       "    <tr>\n",
       "      <th>95</th>\n",
       "      <td>n1393</td>\n",
       "      <td>Child</td>\n",
       "      <td>None</td>\n",
       "      <td>613</td>\n",
       "      <td>844.49</td>\n",
       "      <td>None</td>\n",
       "      <td>{1: 0.0, 2: 0.02, 3: 0.26, 4: 0.72}</td>\n",
       "      <td>[]</td>\n",
       "      <td>[]</td>\n",
       "      <td>[]</td>\n",
       "    </tr>\n",
       "    <tr>\n",
       "      <th>96</th>\n",
       "      <td>n697</td>\n",
       "      <td>Parent</td>\n",
       "      <td>female in ('female0',)</td>\n",
       "      <td>1467</td>\n",
       "      <td>1725.9</td>\n",
       "      <td>0.64</td>\n",
       "      <td>{1: 0.01, 2: 0.02, 3: 0.18, 4: 0.8}</td>\n",
       "      <td>[]</td>\n",
       "      <td>[]</td>\n",
       "      <td>[]</td>\n",
       "    </tr>\n",
       "    <tr>\n",
       "      <th>97</th>\n",
       "      <td>n1394</td>\n",
       "      <td>Child</td>\n",
       "      <td>None</td>\n",
       "      <td>732</td>\n",
       "      <td>828.88</td>\n",
       "      <td>None</td>\n",
       "      <td>{1: 0.01, 2: 0.01, 3: 0.17, 4: 0.81}</td>\n",
       "      <td>[]</td>\n",
       "      <td>[]</td>\n",
       "      <td>[]</td>\n",
       "    </tr>\n",
       "    <tr>\n",
       "      <th>98</th>\n",
       "      <td>n1395</td>\n",
       "      <td>Child</td>\n",
       "      <td>None</td>\n",
       "      <td>735</td>\n",
       "      <td>893.35</td>\n",
       "      <td>None</td>\n",
       "      <td>{1: 0.0, 2: 0.02, 3: 0.18, 4: 0.79}</td>\n",
       "      <td>[]</td>\n",
       "      <td>[]</td>\n",
       "      <td>[]</td>\n",
       "    </tr>\n",
       "    <tr>\n",
       "      <th>99</th>\n",
       "      <td>n349</td>\n",
       "      <td>Parent</td>\n",
       "      <td>car_ownership in ('car_ownership1',)</td>\n",
       "      <td>1497</td>\n",
       "      <td>1769.11</td>\n",
       "      <td>0.64</td>\n",
       "      <td>{1: 0.04, 2: 0.01, 3: 0.12, 4: 0.83}</td>\n",
       "      <td>[]</td>\n",
       "      <td>[]</td>\n",
       "      <td>[]</td>\n",
       "    </tr>\n",
       "    <tr>\n",
       "      <th>100</th>\n",
       "      <td>n698</td>\n",
       "      <td>Child</td>\n",
       "      <td>None</td>\n",
       "      <td>540</td>\n",
       "      <td>557.3</td>\n",
       "      <td>None</td>\n",
       "      <td>{1: 0.03, 2: 0.03, 3: 0.07, 4: 0.87}</td>\n",
       "      <td>[]</td>\n",
       "      <td>[]</td>\n",
       "      <td>[]</td>\n",
       "    </tr>\n",
       "    <tr>\n",
       "      <th>101</th>\n",
       "      <td>n699</td>\n",
       "      <td>Child</td>\n",
       "      <td>None</td>\n",
       "      <td>957</td>\n",
       "      <td>1166.93</td>\n",
       "      <td>None</td>\n",
       "      <td>{1: 0.04, 2: 0.0, 3: 0.15, 4: 0.8}</td>\n",
       "      <td>[]</td>\n",
       "      <td>[]</td>\n",
       "      <td>[]</td>\n",
       "    </tr>\n",
       "    <tr>\n",
       "      <th>102</th>\n",
       "      <td>n175</td>\n",
       "      <td>Parent</td>\n",
       "      <td>day_of_week in ('day_of_week7',)</td>\n",
       "      <td>7348</td>\n",
       "      <td>7957.16</td>\n",
       "      <td>0.64</td>\n",
       "      <td>{1: 0.04, 2: 0.02, 3: 0.08, 4: 0.86}</td>\n",
       "      <td>[[0.05, 0.95], [0.2, 0.8], [0.0, 1.0], [0.12, 0.88], [0.23, 0.77], [0.43, 0.57], [0.78, 0.22]]</td>\n",
       "      <td>[[0.03, 0.01, 0.02, 0.93], [0.04, 0.02, 0.11, 0.83]]</td>\n",
       "      <td>[]</td>\n",
       "    </tr>\n",
       "    <tr>\n",
       "      <th>103</th>\n",
       "      <td>n350</td>\n",
       "      <td>Parent</td>\n",
       "      <td>travel_month in ('travel_month1', 'travel_month10', 'travel_month12', 'travel_month2', 'travel_month4', 'travel_month5', 'travel_month6', 'travel_month7', 'travel_month8', 'travel_month9')</td>\n",
       "      <td>6164</td>\n",
       "      <td>6971.81</td>\n",
       "      <td>0.64</td>\n",
       "      <td>{1: 0.04, 2: 0.02, 3: 0.09, 4: 0.85}</td>\n",
       "      <td>[[0.83, 0.17], [0.62, 0.38], [0.41, 0.59], [0.72, 0.28], [0.96, 0.04], [0.0, 1.0], [0.69, 0.31], [0.72, 0.28], [0.61, 0.39], [0.63, 0.37], [0.57, 0.43], [0.53, 0.47]]</td>\n",
       "      <td>[[0.01, 0.0, 0.09, 0.9], [0.08, 0.06, 0.09, 0.77]]</td>\n",
       "      <td>[]</td>\n",
       "    </tr>\n",
       "    <tr>\n",
       "      <th>104</th>\n",
       "      <td>n700</td>\n",
       "      <td>Child</td>\n",
       "      <td>None</td>\n",
       "      <td>656</td>\n",
       "      <td>852.26</td>\n",
       "      <td>None</td>\n",
       "      <td>{1: 0.06, 2: 0.03, 3: 0.08, 4: 0.82}</td>\n",
       "      <td>[]</td>\n",
       "      <td>[]</td>\n",
       "      <td>[]</td>\n",
       "    </tr>\n",
       "    <tr>\n",
       "      <th>105</th>\n",
       "      <td>n701</td>\n",
       "      <td>Parent</td>\n",
       "      <td>travel_month in ('travel_month1', 'travel_month2', 'travel_month4')</td>\n",
       "      <td>5508</td>\n",
       "      <td>6102.89</td>\n",
       "      <td>0.641</td>\n",
       "      <td>{1: 0.04, 2: 0.02, 3: 0.09, 4: 0.85}</td>\n",
       "      <td>[[0.87, 0.13], [0.42, 0.58], [0.5, 0.5], [1.0, 0.0], [0.59, 0.41], [0.35, 0.65], [0.42, 0.58], [0.48, 0.52], [0.17, 0.83], [0.01, 0.99]]</td>\n",
       "      <td>[[0.02, 0.01, 0.06, 0.91], [0.05, 0.03, 0.12, 0.8]]</td>\n",
       "      <td>[]</td>\n",
       "    </tr>\n",
       "    <tr>\n",
       "      <th>106</th>\n",
       "      <td>n1403</td>\n",
       "      <td>Child</td>\n",
       "      <td>None</td>\n",
       "      <td>1301</td>\n",
       "      <td>1151.06</td>\n",
       "      <td>None</td>\n",
       "      <td>{1: 0.02, 2: 0.01, 3: 0.07, 4: 0.89}</td>\n",
       "      <td>[]</td>\n",
       "      <td>[]</td>\n",
       "      <td>[]</td>\n",
       "    </tr>\n",
       "    <tr>\n",
       "      <th>107</th>\n",
       "      <td>n1402</td>\n",
       "      <td>Parent</td>\n",
       "      <td>cost_group in ('high_cost', 'medium_cost')</td>\n",
       "      <td>4207</td>\n",
       "      <td>4930.29</td>\n",
       "      <td>0.641</td>\n",
       "      <td>{1: 0.04, 2: 0.02, 3: 0.1, 4: 0.84}</td>\n",
       "      <td>[[0.86, 0.14], [0.15, 0.85], [0.59, 0.41]]</td>\n",
       "      <td>[[0.0, 0.01, 0.06, 0.93], [0.05, 0.03, 0.12, 0.8]]</td>\n",
       "      <td>[]</td>\n",
       "    </tr>\n",
       "    <tr>\n",
       "      <th>108</th>\n",
       "      <td>n2804</td>\n",
       "      <td>Child</td>\n",
       "      <td>None</td>\n",
       "      <td>3099</td>\n",
       "      <td>3904.32</td>\n",
       "      <td>None</td>\n",
       "      <td>{1: 0.05, 2: 0.02, 3: 0.11, 4: 0.82}</td>\n",
       "      <td>[]</td>\n",
       "      <td>[]</td>\n",
       "      <td>[]</td>\n",
       "    </tr>\n",
       "    <tr>\n",
       "      <th>109</th>\n",
       "      <td>n2805</td>\n",
       "      <td>Child</td>\n",
       "      <td>None</td>\n",
       "      <td>1108</td>\n",
       "      <td>994.69</td>\n",
       "      <td>None</td>\n",
       "      <td>{1: 0.02, 2: 0.01, 3: 0.08, 4: 0.88}</td>\n",
       "      <td>[]</td>\n",
       "      <td>[]</td>\n",
       "      <td>[]</td>\n",
       "    </tr>\n",
       "    <tr>\n",
       "      <th>110</th>\n",
       "      <td>n351</td>\n",
       "      <td>Parent</td>\n",
       "      <td>car_ownership in ('car_ownership2',)</td>\n",
       "      <td>1184</td>\n",
       "      <td>934.87</td>\n",
       "      <td>0.641</td>\n",
       "      <td>{1: 0.04, 2: 0.01, 3: 0.04, 4: 0.91}</td>\n",
       "      <td>[]</td>\n",
       "      <td>[]</td>\n",
       "      <td>[]</td>\n",
       "    </tr>\n",
       "    <tr>\n",
       "      <th>111</th>\n",
       "      <td>n702</td>\n",
       "      <td>Child</td>\n",
       "      <td>None</td>\n",
       "      <td>681</td>\n",
       "      <td>615.29</td>\n",
       "      <td>None</td>\n",
       "      <td>{1: 0.05, 2: 0.01, 3: 0.05, 4: 0.89}</td>\n",
       "      <td>[]</td>\n",
       "      <td>[]</td>\n",
       "      <td>[]</td>\n",
       "    </tr>\n",
       "    <tr>\n",
       "      <th>112</th>\n",
       "      <td>n703</td>\n",
       "      <td>Child</td>\n",
       "      <td>None</td>\n",
       "      <td>503</td>\n",
       "      <td>299.71</td>\n",
       "      <td>None</td>\n",
       "      <td>{1: 0.03, 2: 0.02, 3: 0.02, 4: 0.94}</td>\n",
       "      <td>[]</td>\n",
       "      <td>[]</td>\n",
       "      <td>[]</td>\n",
       "    </tr>\n",
       "    <tr>\n",
       "      <th>113</th>\n",
       "      <td>n11</td>\n",
       "      <td>Parent</td>\n",
       "      <td>car_ownership in ('car_ownership1',)</td>\n",
       "      <td>4025</td>\n",
       "      <td>5331.27</td>\n",
       "      <td>0.641</td>\n",
       "      <td>{1: 0.03, 2: 0.04, 3: 0.81, 4: 0.12}</td>\n",
       "      <td>[[0.58, 0.42], [0.13, 0.87]]</td>\n",
       "      <td>[[0.02, 0.05, 0.93, 0.0], [0.04, 0.03, 0.71, 0.23]]</td>\n",
       "      <td>[]</td>\n",
       "    </tr>\n",
       "    <tr>\n",
       "      <th>114</th>\n",
       "      <td>n22</td>\n",
       "      <td>Child</td>\n",
       "      <td>None</td>\n",
       "      <td>1208</td>\n",
       "      <td>1864.33</td>\n",
       "      <td>None</td>\n",
       "      <td>{1: 0.04, 2: 0.03, 3: 0.74, 4: 0.2}</td>\n",
       "      <td>[]</td>\n",
       "      <td>[]</td>\n",
       "      <td>[]</td>\n",
       "    </tr>\n",
       "    <tr>\n",
       "      <th>115</th>\n",
       "      <td>n23</td>\n",
       "      <td>Parent</td>\n",
       "      <td>driving_license in ('driving_license0',)</td>\n",
       "      <td>2817</td>\n",
       "      <td>3384.28</td>\n",
       "      <td>0.641</td>\n",
       "      <td>{1: 0.03, 2: 0.04, 3: 0.84, 4: 0.09}</td>\n",
       "      <td>[[0.84, 0.16], [0.19, 0.81]]</td>\n",
       "      <td>[[0.04, 0.0, 0.95, 0.02], [0.02, 0.06, 0.78, 0.13]]</td>\n",
       "      <td>[]</td>\n",
       "    </tr>\n",
       "    <tr>\n",
       "      <th>116</th>\n",
       "      <td>n47</td>\n",
       "      <td>Child</td>\n",
       "      <td>None</td>\n",
       "      <td>607</td>\n",
       "      <td>436.59</td>\n",
       "      <td>None</td>\n",
       "      <td>{1: 0.03, 2: 0.01, 3: 0.92, 4: 0.04}</td>\n",
       "      <td>[]</td>\n",
       "      <td>[]</td>\n",
       "      <td>[]</td>\n",
       "    </tr>\n",
       "    <tr>\n",
       "      <th>117</th>\n",
       "      <td>n46</td>\n",
       "      <td>Parent</td>\n",
       "      <td>travel_month in ('travel_month10', 'travel_month11', 'travel_month12', 'travel_month4', 'travel_month5', 'travel_month6', 'travel_month8', 'travel_month9')</td>\n",
       "      <td>2210</td>\n",
       "      <td>2881.79</td>\n",
       "      <td>0.641</td>\n",
       "      <td>{1: 0.03, 2: 0.05, 3: 0.81, 4: 0.11}</td>\n",
       "      <td>[]</td>\n",
       "      <td>[]</td>\n",
       "      <td>[]</td>\n",
       "    </tr>\n",
       "    <tr>\n",
       "      <th>118</th>\n",
       "      <td>n92</td>\n",
       "      <td>Child</td>\n",
       "      <td>None</td>\n",
       "      <td>617</td>\n",
       "      <td>913.57</td>\n",
       "      <td>None</td>\n",
       "      <td>{1: 0.04, 2: 0.04, 3: 0.77, 4: 0.15}</td>\n",
       "      <td>[]</td>\n",
       "      <td>[]</td>\n",
       "      <td>[]</td>\n",
       "    </tr>\n",
       "    <tr>\n",
       "      <th>119</th>\n",
       "      <td>n93</td>\n",
       "      <td>Parent</td>\n",
       "      <td>purpose in ('purpose1', 'purpose2')</td>\n",
       "      <td>1593</td>\n",
       "      <td>1940.64</td>\n",
       "      <td>0.641</td>\n",
       "      <td>{1: 0.02, 2: 0.06, 3: 0.83, 4: 0.09}</td>\n",
       "      <td>[]</td>\n",
       "      <td>[]</td>\n",
       "      <td>[]</td>\n",
       "    </tr>\n",
       "    <tr>\n",
       "      <th>120</th>\n",
       "      <td>n186</td>\n",
       "      <td>Child</td>\n",
       "      <td>None</td>\n",
       "      <td>736</td>\n",
       "      <td>995.3</td>\n",
       "      <td>None</td>\n",
       "      <td>{1: 0.03, 2: 0.03, 3: 0.8, 4: 0.14}</td>\n",
       "      <td>[]</td>\n",
       "      <td>[]</td>\n",
       "      <td>[]</td>\n",
       "    </tr>\n",
       "    <tr>\n",
       "      <th>121</th>\n",
       "      <td>n187</td>\n",
       "      <td>Child</td>\n",
       "      <td>None</td>\n",
       "      <td>857</td>\n",
       "      <td>891.85</td>\n",
       "      <td>None</td>\n",
       "      <td>{1: 0.01, 2: 0.07, 3: 0.86, 4: 0.06}</td>\n",
       "      <td>[]</td>\n",
       "      <td>[]</td>\n",
       "      <td>[]</td>\n",
       "    </tr>\n",
       "    <tr>\n",
       "      <th>122</th>\n",
       "      <td>n3</td>\n",
       "      <td>Parent</td>\n",
       "      <td>distance_group in ('distance04', 'distance05', 'distance06', 'distance07', 'distance08', 'distance09', 'distance10', 'distance11')</td>\n",
       "      <td>22179</td>\n",
       "      <td>43438.91</td>\n",
       "      <td>0.642</td>\n",
       "      <td>{1: 0.26, 2: 0.04, 3: 0.62, 4: 0.08}</td>\n",
       "      <td>[[0.06, 0.94], [0.22, 0.78], [0.39, 0.61], [0.59, 0.41], [0.77, 0.23], [0.85, 0.15], [0.95, 0.05], [0.99, 0.01], [1.0, 0.0], [1.0, 0.0], [1.01, 0.0]]</td>\n",
       "      <td>[[0.0, 0.05, 0.87, 0.09], [0.94, 0.03, 0.0, 0.03]]</td>\n",
       "      <td>[]</td>\n",
       "    </tr>\n",
       "    <tr>\n",
       "      <th>123</th>\n",
       "      <td>n7</td>\n",
       "      <td>Child</td>\n",
       "      <td>None</td>\n",
       "      <td>16307</td>\n",
       "      <td>25702.84</td>\n",
       "      <td>None</td>\n",
       "      <td>{1: 0.1, 2: 0.05, 3: 0.77, 4: 0.09}</td>\n",
       "      <td>[[0.83, 0.17], [0.19, 0.81]]</td>\n",
       "      <td>[[0.06, 0.07, 0.88, 0.0], [0.11, 0.04, 0.72, 0.12]]</td>\n",
       "      <td>[]</td>\n",
       "    </tr>\n",
       "    <tr>\n",
       "      <th>124</th>\n",
       "      <td>n6</td>\n",
       "      <td>Parent</td>\n",
       "      <td>driving_license in ('driving_license0',)</td>\n",
       "      <td>5872</td>\n",
       "      <td>9279.29</td>\n",
       "      <td>0.642</td>\n",
       "      <td>{1: 0.73, 2: 0.03, 3: 0.2, 4: 0.05}</td>\n",
       "      <td>[[0.74, 0.26], [0.17, 0.83]]</td>\n",
       "      <td>[[0.69, 0.0, 0.26, 0.05], [0.77, 0.06, 0.13, 0.04]]</td>\n",
       "      <td>[]</td>\n",
       "    </tr>\n",
       "    <tr>\n",
       "      <th>125</th>\n",
       "      <td>n12</td>\n",
       "      <td>Parent</td>\n",
       "      <td>travel_month in ('travel_month1', 'travel_month10', 'travel_month12', 'travel_month3', 'travel_month4', 'travel_month7', 'travel_month8', 'travel_month9')</td>\n",
       "      <td>1913</td>\n",
       "      <td>2968.15</td>\n",
       "      <td>0.642</td>\n",
       "      <td>{1: 0.76, 2: 0.05, 3: 0.15, 4: 0.04}</td>\n",
       "      <td>[]</td>\n",
       "      <td>[]</td>\n",
       "      <td>[]</td>\n",
       "    </tr>\n",
       "    <tr>\n",
       "      <th>126</th>\n",
       "      <td>n24</td>\n",
       "      <td>Child</td>\n",
       "      <td>None</td>\n",
       "      <td>631</td>\n",
       "      <td>1091.08</td>\n",
       "      <td>None</td>\n",
       "      <td>{1: 0.71, 2: 0.03, 3: 0.17, 4: 0.08}</td>\n",
       "      <td>[]</td>\n",
       "      <td>[]</td>\n",
       "      <td>[]</td>\n",
       "    </tr>\n",
       "    <tr>\n",
       "      <th>127</th>\n",
       "      <td>n25</td>\n",
       "      <td>Child</td>\n",
       "      <td>None</td>\n",
       "      <td>1282</td>\n",
       "      <td>1838.27</td>\n",
       "      <td>None</td>\n",
       "      <td>{1: 0.78, 2: 0.06, 3: 0.14, 4: 0.02}</td>\n",
       "      <td>[]</td>\n",
       "      <td>[]</td>\n",
       "      <td>[]</td>\n",
       "    </tr>\n",
       "    <tr>\n",
       "      <th>128</th>\n",
       "      <td>n13</td>\n",
       "      <td>Parent</td>\n",
       "      <td>faretype in ('faretype1', 'faretype2', 'faretype4')</td>\n",
       "      <td>3959</td>\n",
       "      <td>6218.77</td>\n",
       "      <td>0.643</td>\n",
       "      <td>{1: 0.71, 2: 0.02, 3: 0.23, 4: 0.05}</td>\n",
       "      <td>[[0.59, 0.41], [0.64, 0.36], [0.17, 0.83], [0.7, 0.3], [0.0, 1.0]]</td>\n",
       "      <td>[[0.93, 0.04, 0.0, 0.03], [0.6, 0.01, 0.35, 0.05]]</td>\n",
       "      <td>[]</td>\n",
       "    </tr>\n",
       "    <tr>\n",
       "      <th>129</th>\n",
       "      <td>n27</td>\n",
       "      <td>Child</td>\n",
       "      <td>None</td>\n",
       "      <td>2158</td>\n",
       "      <td>2787.78</td>\n",
       "      <td>None</td>\n",
       "      <td>{1: 0.81, 2: 0.02, 3: 0.13, 4: 0.04}</td>\n",
       "      <td>[[0.39, 0.61], [0.89, 0.11]]</td>\n",
       "      <td>[[0.78, 0.0, 0.17, 0.05], [0.88, 0.07, 0.06, 0.0]]</td>\n",
       "      <td>[]</td>\n",
       "    </tr>\n",
       "    <tr>\n",
       "      <th>130</th>\n",
       "      <td>n26</td>\n",
       "      <td>Parent</td>\n",
       "      <td>distance_group in ('distance01',)</td>\n",
       "      <td>1801</td>\n",
       "      <td>3178.78</td>\n",
       "      <td>0.643</td>\n",
       "      <td>{1: 0.6, 2: 0.01, 3: 0.33, 4: 0.06}</td>\n",
       "      <td>[]</td>\n",
       "      <td>[]</td>\n",
       "      <td>[]</td>\n",
       "    </tr>\n",
       "    <tr>\n",
       "      <th>131</th>\n",
       "      <td>n52</td>\n",
       "      <td>Child</td>\n",
       "      <td>None</td>\n",
       "      <td>1174</td>\n",
       "      <td>2237.62</td>\n",
       "      <td>None</td>\n",
       "      <td>{1: 0.47, 2: 0.01, 3: 0.45, 4: 0.07}</td>\n",
       "      <td>[]</td>\n",
       "      <td>[]</td>\n",
       "      <td>[]</td>\n",
       "    </tr>\n",
       "    <tr>\n",
       "      <th>132</th>\n",
       "      <td>n53</td>\n",
       "      <td>Child</td>\n",
       "      <td>None</td>\n",
       "      <td>627</td>\n",
       "      <td>689.03</td>\n",
       "      <td>None</td>\n",
       "      <td>{1: 0.84, 2: 0.01, 3: 0.13, 4: 0.03}</td>\n",
       "      <td>[]</td>\n",
       "      <td>[]</td>\n",
       "      <td>[]</td>\n",
       "    </tr>\n",
       "  </tbody>\n",
       "</table>\n",
       "</div>"
      ],
      "text/plain": [
       "      Node Node Type  \\\n",
       "0       n1    Parent   \n",
       "1       n2    Parent   \n",
       "2       n4    Parent   \n",
       "3       n9     Child   \n",
       "4       n8    Parent   \n",
       "5      n16    Parent   \n",
       "6      n32    Parent   \n",
       "7      n65     Child   \n",
       "8      n64    Parent   \n",
       "9     n128    Parent   \n",
       "10    n256     Child   \n",
       "11    n257     Child   \n",
       "12    n129    Parent   \n",
       "13    n258     Child   \n",
       "14    n259    Parent   \n",
       "15    n518     Child   \n",
       "16    n519     Child   \n",
       "17     n33    Parent   \n",
       "18     n66     Child   \n",
       "19     n67     Child   \n",
       "20     n17    Parent   \n",
       "21     n34     Child   \n",
       "22     n35     Child   \n",
       "23      n5    Parent   \n",
       "24     n10    Parent   \n",
       "25     n20    Parent   \n",
       "26     n40    Parent   \n",
       "27     n80     Child   \n",
       "28     n81    Parent   \n",
       "29    n162     Child   \n",
       "30    n163     Child   \n",
       "31     n41    Parent   \n",
       "32     n82    Parent   \n",
       "33    n164    Parent   \n",
       "34    n328    Parent   \n",
       "35    n656     Child   \n",
       "36    n657     Child   \n",
       "37    n329    Parent   \n",
       "38    n658     Child   \n",
       "39    n659     Child   \n",
       "40    n165    Parent   \n",
       "41    n330    Parent   \n",
       "42    n660     Child   \n",
       "43    n661     Child   \n",
       "44    n331    Parent   \n",
       "45    n662    Parent   \n",
       "46   n1324     Child   \n",
       "47   n1325    Parent   \n",
       "48   n2650     Child   \n",
       "49   n2651     Child   \n",
       "50    n663    Parent   \n",
       "51   n1326     Child   \n",
       "52   n1327     Child   \n",
       "53     n83    Parent   \n",
       "54    n166    Parent   \n",
       "55    n332     Child   \n",
       "56    n333     Child   \n",
       "57    n167    Parent   \n",
       "58    n334     Child   \n",
       "59    n335     Child   \n",
       "60     n21    Parent   \n",
       "61     n42    Parent   \n",
       "62     n84    Parent   \n",
       "63    n168     Child   \n",
       "64    n169    Parent   \n",
       "65    n338    Parent   \n",
       "66    n676    Parent   \n",
       "67   n1353     Child   \n",
       "68   n1352    Parent   \n",
       "69   n2704     Child   \n",
       "70   n2705     Child   \n",
       "71    n677    Parent   \n",
       "72   n1355     Child   \n",
       "73   n1354    Parent   \n",
       "74   n2708     Child   \n",
       "75   n2709     Child   \n",
       "76    n339    Parent   \n",
       "77    n678     Child   \n",
       "78    n679     Child   \n",
       "79     n85    Parent   \n",
       "80    n170     Child   \n",
       "81    n171    Parent   \n",
       "82    n342     Child   \n",
       "83    n343     Child   \n",
       "84     n43    Parent   \n",
       "85     n86    Parent   \n",
       "86    n172     Child   \n",
       "87    n173    Parent   \n",
       "88    n346     Child   \n",
       "89    n347     Child   \n",
       "90     n87    Parent   \n",
       "91    n174    Parent   \n",
       "92    n348    Parent   \n",
       "93    n696    Parent   \n",
       "94   n1392     Child   \n",
       "95   n1393     Child   \n",
       "96    n697    Parent   \n",
       "97   n1394     Child   \n",
       "98   n1395     Child   \n",
       "99    n349    Parent   \n",
       "100   n698     Child   \n",
       "101   n699     Child   \n",
       "102   n175    Parent   \n",
       "103   n350    Parent   \n",
       "104   n700     Child   \n",
       "105   n701    Parent   \n",
       "106  n1403     Child   \n",
       "107  n1402    Parent   \n",
       "108  n2804     Child   \n",
       "109  n2805     Child   \n",
       "110   n351    Parent   \n",
       "111   n702     Child   \n",
       "112   n703     Child   \n",
       "113    n11    Parent   \n",
       "114    n22     Child   \n",
       "115    n23    Parent   \n",
       "116    n47     Child   \n",
       "117    n46    Parent   \n",
       "118    n92     Child   \n",
       "119    n93    Parent   \n",
       "120   n186     Child   \n",
       "121   n187     Child   \n",
       "122     n3    Parent   \n",
       "123     n7     Child   \n",
       "124     n6    Parent   \n",
       "125    n12    Parent   \n",
       "126    n24     Child   \n",
       "127    n25     Child   \n",
       "128    n13    Parent   \n",
       "129    n27     Child   \n",
       "130    n26    Parent   \n",
       "131    n52     Child   \n",
       "132    n53     Child   \n",
       "\n",
       "                                                                                                                                                                                   Variable Split  \\\n",
       "0                                                                                                                                                            car_ownership in ('car_ownership0',)   \n",
       "1                                                              distance_group in ('distance04', 'distance05', 'distance06', 'distance07', 'distance08', 'distance09', 'distance10', 'distance11')   \n",
       "2                                                                                                                                                               distance_group in ('distance01',)   \n",
       "3                                                                                                                                                                                            None   \n",
       "4                                                                                                                                                 day_of_week in ('day_of_week6', 'day_of_week7')   \n",
       "5                                                                                          trafficperc_group in ('1mediumlow_traffic', '2medium_traffic', '3mediumhigh_traffic', '4high_traffic')   \n",
       "6                                                                                                                                                                 starttime_group in ('evening',)   \n",
       "7                                                                                                                                                                                            None   \n",
       "8                                                                                                                                                        driving_license in ('driving_license1',)   \n",
       "9                                                                          travel_month in ('travel_month1', 'travel_month2', 'travel_month3', 'travel_month5', 'travel_month6', 'travel_month8')   \n",
       "10                                                                                                                                                                                           None   \n",
       "11                                                                                                                                                                                           None   \n",
       "12                                                                                                                                               age_group in ('age_group0-18', 'age_group31-65')   \n",
       "13                                                                                                                                                                                           None   \n",
       "14                                                                                                                                day_of_week in ('day_of_week3', 'day_of_week4', 'day_of_week5')   \n",
       "15                                                                                                                                                                                           None   \n",
       "16                                                                                                                                                                                           None   \n",
       "17                                                                                                                                                              starttime_group in ('afternoon',)   \n",
       "18                                                                                                                                                                                           None   \n",
       "19                                                                                                                                                                                           None   \n",
       "20                                                                                                                                                         trafficperc_group in ('0low_traffic',)   \n",
       "21                                                                                                                                                                                           None   \n",
       "22                                                                                                                                                                                           None   \n",
       "23                                                                                                                                                        drivingcharge_group in ('high_charge',)   \n",
       "24                                                                                                                                    trafficperc_group in ('0low_traffic', '1mediumlow_traffic')   \n",
       "25                                                                                                                               faretype in ('faretype1', 'faretype2', 'faretype3', 'faretype4')   \n",
       "26                                                                                                                              age_group in ('age_group19-30', 'age_group31-65', 'age_group66+')   \n",
       "27                                                                                                                                                                                           None   \n",
       "28                                                      travel_month in ('travel_month1', 'travel_month11', 'travel_month12', 'travel_month3', 'travel_month6', 'travel_month8', 'travel_month9')   \n",
       "29                                                                                                                                                                                           None   \n",
       "30                                                                                                                                                                                           None   \n",
       "31                                                                                                                                                       driving_license in ('driving_license0',)   \n",
       "32                                                                                                                                                     cost_group in ('high_cost', 'medium_cost')   \n",
       "33                                                                        travel_month in ('travel_month1', 'travel_month12', 'travel_month2', 'travel_month4', 'travel_month6', 'travel_month9')   \n",
       "34                                                                                                                day_of_week in ('day_of_week1', 'day_of_week3', 'day_of_week5', 'day_of_week6')   \n",
       "35                                                                                                                                                                                           None   \n",
       "36                                                                                                                                                                                           None   \n",
       "37                                                                                                                           travel_month in ('travel_month1', 'travel_month12', 'travel_month2')   \n",
       "38                                                                                                                                                                                           None   \n",
       "39                                                                                                                                                                                           None   \n",
       "40                                                                                                day_of_week in ('day_of_week1', 'day_of_week2', 'day_of_week3', 'day_of_week4', 'day_of_week5')   \n",
       "41                                                                                                                                                                   cost_group in ('high_cost',)   \n",
       "42                                                                                                                                                                                           None   \n",
       "43                                                                                                                                                                                           None   \n",
       "44                                                                                                                                                      trafficperc_group in ('2medium_traffic',)   \n",
       "45                                                                                                                                    purpose in ('purpose2', 'purpose3', 'purpose4', 'purpose5')   \n",
       "46                                                                                                                                                                                           None   \n",
       "47                                                                                                                                                  trafficperc_group in ('3mediumhigh_traffic',)   \n",
       "48                                                                                                                                                                                           None   \n",
       "49                                                                                                                                                                                           None   \n",
       "50                                                                                                                                                                   cost_group in ('high_cost',)   \n",
       "51                                                                                                                                                                                           None   \n",
       "52                                                                                                                                                                                           None   \n",
       "53                                                                                                                                                purpose in ('purpose1', 'purpose2', 'purpose4')   \n",
       "54                                                                                                                                                                 bus_scale in ('bus_scale0.0',)   \n",
       "55                                                                                                                                                                                           None   \n",
       "56                                                                                                                                                                                           None   \n",
       "57                                                                                                                                                     cost_group in ('high_cost', 'medium_cost')   \n",
       "58                                                                                                                                                                                           None   \n",
       "59                                                                                                                                                                                           None   \n",
       "60                                                                                                                                                               age_group in ('age_group31-65',)   \n",
       "61                                                                                                                                                      starttime_group in ('evening', 'morning')   \n",
       "62                                                                                day_of_week in ('day_of_week1', 'day_of_week2', 'day_of_week3', 'day_of_week4', 'day_of_week5', 'day_of_week6')   \n",
       "63                                                                                                                                                                                           None   \n",
       "64                                                                                                                                                                 age_group in ('age_group66+',)   \n",
       "65                                                                                                                                                            purpose in ('purpose3', 'purpose5')   \n",
       "66                                                                                                                                                       driving_license in ('driving_license1',)   \n",
       "67                                                                                                                                                                                           None   \n",
       "68                                                                                                                                                           car_ownership in ('car_ownership2',)   \n",
       "69                                                                                                                                                                                           None   \n",
       "70                                                                                                                                                                                           None   \n",
       "71                                                                       travel_month in ('travel_month1', 'travel_month10', 'travel_month11', 'travel_month2', 'travel_month4', 'travel_month5')   \n",
       "72                                                                                                                                                                                           None   \n",
       "73                                                                                                                                day_of_week in ('day_of_week1', 'day_of_week2', 'day_of_week4')   \n",
       "74                                                                                                                                                                                           None   \n",
       "75                                                                                                                                                                                           None   \n",
       "76                                                                                                                day_of_week in ('day_of_week1', 'day_of_week3', 'day_of_week4', 'day_of_week6')   \n",
       "77                                                                                                                                                                                           None   \n",
       "78                                                                                                                                                                                           None   \n",
       "79                                                                                                                                                         faretype in ('faretype3', 'faretype5')   \n",
       "80                                                                                                                                                                                           None   \n",
       "81                                                                                                                                                           car_ownership in ('car_ownership1',)   \n",
       "82                                                                                                                                                                                           None   \n",
       "83                                                                                                                                                                                           None   \n",
       "84                                                                           distance_group in ('distance05', 'distance06', 'distance07', 'distance08', 'distance09', 'distance10', 'distance11')   \n",
       "85                                                       travel_month in ('travel_month1', 'travel_month12', 'travel_month4', 'travel_month6', 'travel_month7', 'travel_month8', 'travel_month9')   \n",
       "86                                                                                                                                                                                           None   \n",
       "87                                                                                                                                day_of_week in ('day_of_week2', 'day_of_week4', 'day_of_week6')   \n",
       "88                                                                                                                                                                                           None   \n",
       "89                                                                                                                                                                                           None   \n",
       "90                                                                                                                                                         trafficperc_group in ('0low_traffic',)   \n",
       "91                                                                                                                                                day_of_week in ('day_of_week6', 'day_of_week7')   \n",
       "92                                                                                                                                                     cost_group in ('high_cost', 'medium_cost')   \n",
       "93                                                                 costdrivingfuel_group in ('costdrivingfuelgroup10', 'costdrivingfuelgroup2', 'costdrivingfuelgroup8', 'costdrivingfuelgroup9')   \n",
       "94                                                                                                                                                                                           None   \n",
       "95                                                                                                                                                                                           None   \n",
       "96                                                                                                                                                                         female in ('female0',)   \n",
       "97                                                                                                                                                                                           None   \n",
       "98                                                                                                                                                                                           None   \n",
       "99                                                                                                                                                           car_ownership in ('car_ownership1',)   \n",
       "100                                                                                                                                                                                          None   \n",
       "101                                                                                                                                                                                          None   \n",
       "102                                                                                                                                                              day_of_week in ('day_of_week7',)   \n",
       "103  travel_month in ('travel_month1', 'travel_month10', 'travel_month12', 'travel_month2', 'travel_month4', 'travel_month5', 'travel_month6', 'travel_month7', 'travel_month8', 'travel_month9')   \n",
       "104                                                                                                                                                                                          None   \n",
       "105                                                                                                                           travel_month in ('travel_month1', 'travel_month2', 'travel_month4')   \n",
       "106                                                                                                                                                                                          None   \n",
       "107                                                                                                                                                    cost_group in ('high_cost', 'medium_cost')   \n",
       "108                                                                                                                                                                                          None   \n",
       "109                                                                                                                                                                                          None   \n",
       "110                                                                                                                                                          car_ownership in ('car_ownership2',)   \n",
       "111                                                                                                                                                                                          None   \n",
       "112                                                                                                                                                                                          None   \n",
       "113                                                                                                                                                          car_ownership in ('car_ownership1',)   \n",
       "114                                                                                                                                                                                          None   \n",
       "115                                                                                                                                                      driving_license in ('driving_license0',)   \n",
       "116                                                                                                                                                                                          None   \n",
       "117                                   travel_month in ('travel_month10', 'travel_month11', 'travel_month12', 'travel_month4', 'travel_month5', 'travel_month6', 'travel_month8', 'travel_month9')   \n",
       "118                                                                                                                                                                                          None   \n",
       "119                                                                                                                                                           purpose in ('purpose1', 'purpose2')   \n",
       "120                                                                                                                                                                                          None   \n",
       "121                                                                                                                                                                                          None   \n",
       "122                                                            distance_group in ('distance04', 'distance05', 'distance06', 'distance07', 'distance08', 'distance09', 'distance10', 'distance11')   \n",
       "123                                                                                                                                                                                          None   \n",
       "124                                                                                                                                                      driving_license in ('driving_license0',)   \n",
       "125                                    travel_month in ('travel_month1', 'travel_month10', 'travel_month12', 'travel_month3', 'travel_month4', 'travel_month7', 'travel_month8', 'travel_month9')   \n",
       "126                                                                                                                                                                                          None   \n",
       "127                                                                                                                                                                                          None   \n",
       "128                                                                                                                                           faretype in ('faretype1', 'faretype2', 'faretype4')   \n",
       "129                                                                                                                                                                                          None   \n",
       "130                                                                                                                                                             distance_group in ('distance01',)   \n",
       "131                                                                                                                                                                                          None   \n",
       "132                                                                                                                                                                                          None   \n",
       "\n",
       "         n   Deviance Explained Deviance  \\\n",
       "0    76103  173353.59              0.087   \n",
       "1    53924  110112.33              0.473   \n",
       "2    11453   22169.04              0.518   \n",
       "3     3628    5392.34               None   \n",
       "4     7825   15561.98              0.545   \n",
       "5     5823   11799.44              0.562   \n",
       "6     3914    7560.22              0.574   \n",
       "7      542     822.18               None   \n",
       "8     3372    6674.28              0.584   \n",
       "9     1180    2485.15              0.591   \n",
       "10     668    1411.85               None   \n",
       "11     512    1040.37               None   \n",
       "12    2192    3849.46              0.597   \n",
       "13     646    1260.27               None   \n",
       "14    1546    2554.74              0.602   \n",
       "15     663    1167.43               None   \n",
       "16     883    1371.74               None   \n",
       "17    1909    4113.48              0.606   \n",
       "18     715     1539.0               None   \n",
       "19    1194    2568.79               None   \n",
       "20    2002    3717.99              0.609   \n",
       "21     697    1402.91               None   \n",
       "22    1305     2257.1               None   \n",
       "23   42471   74895.62              0.614   \n",
       "24   38446   64062.46              0.617   \n",
       "25   13067   23814.25              0.619   \n",
       "26    2562    4313.73              0.621   \n",
       "27     682     899.97               None   \n",
       "28    1880    3311.87              0.622   \n",
       "29     908    1700.37               None   \n",
       "30     972    1591.59               None   \n",
       "31   10505   19431.51              0.624   \n",
       "32    8188   14639.81              0.625   \n",
       "33    2716    4889.77              0.626   \n",
       "34    1377    2736.36              0.627   \n",
       "35     516    1058.25               None   \n",
       "36     861    1668.12               None   \n",
       "37    1339    2113.73              0.628   \n",
       "38     778    1260.21               None   \n",
       "39     561     843.97               None   \n",
       "40    5472    9218.03              0.629   \n",
       "41    1269    1960.62               0.63   \n",
       "42     696    1091.22               None   \n",
       "43     573     839.17               None   \n",
       "44    4203    7150.81              0.631   \n",
       "45    2423    4250.39              0.631   \n",
       "46    1134    1901.78               None   \n",
       "47    1289     2242.5              0.632   \n",
       "48     741    1303.84               None   \n",
       "49     548     927.11               None   \n",
       "50    1780    2646.15              0.633   \n",
       "51     920    1353.03               None   \n",
       "52     860    1266.81               None   \n",
       "53    2317    4008.74              0.633   \n",
       "54    1213    2288.78              0.634   \n",
       "55     701    1367.42               None   \n",
       "56     512     888.14               None   \n",
       "57    1104    1525.98              0.634   \n",
       "58     603     954.76               None   \n",
       "59     501      540.5               None   \n",
       "60   25379   37810.84              0.635   \n",
       "61   11113   18444.73              0.635   \n",
       "62    7861   13537.52              0.636   \n",
       "63    1165    1530.31               None   \n",
       "64    6696   11822.74              0.636   \n",
       "65    4652    8776.29              0.636   \n",
       "66    2065     4136.8              0.637   \n",
       "67     517     802.58               None   \n",
       "68    1548    3121.32              0.637   \n",
       "69     976    1963.23               None   \n",
       "70     572    1063.51               None   \n",
       "71    2587    4304.18              0.637   \n",
       "72    1239    1813.71               None   \n",
       "73    1348    2458.33              0.638   \n",
       "74     789    1565.41               None   \n",
       "75     559     860.92               None   \n",
       "76    2044    2904.93              0.638   \n",
       "77     738    1120.19               None   \n",
       "78    1306    1777.14               None   \n",
       "79    3252    4787.09              0.638   \n",
       "80    1476    2496.23               None   \n",
       "81    1776    2222.91              0.638   \n",
       "82     848     1006.9               None   \n",
       "83     928    1201.61               None   \n",
       "84   14266   18749.34              0.639   \n",
       "85    1701    3012.63              0.639   \n",
       "86     595     969.66               None   \n",
       "87    1106    2024.16              0.639   \n",
       "88     587    1095.48               None   \n",
       "89     519     914.82               None   \n",
       "90   12565   15260.93              0.639   \n",
       "91    5217    7094.84              0.639   \n",
       "92    3720     5283.2               0.64   \n",
       "93    2253    3498.97               0.64   \n",
       "94    1640    2598.04               None   \n",
       "95     613     844.49               None   \n",
       "96    1467     1725.9               0.64   \n",
       "97     732     828.88               None   \n",
       "98     735     893.35               None   \n",
       "99    1497    1769.11               0.64   \n",
       "100    540      557.3               None   \n",
       "101    957    1166.93               None   \n",
       "102   7348    7957.16               0.64   \n",
       "103   6164    6971.81               0.64   \n",
       "104    656     852.26               None   \n",
       "105   5508    6102.89              0.641   \n",
       "106   1301    1151.06               None   \n",
       "107   4207    4930.29              0.641   \n",
       "108   3099    3904.32               None   \n",
       "109   1108     994.69               None   \n",
       "110   1184     934.87              0.641   \n",
       "111    681     615.29               None   \n",
       "112    503     299.71               None   \n",
       "113   4025    5331.27              0.641   \n",
       "114   1208    1864.33               None   \n",
       "115   2817    3384.28              0.641   \n",
       "116    607     436.59               None   \n",
       "117   2210    2881.79              0.641   \n",
       "118    617     913.57               None   \n",
       "119   1593    1940.64              0.641   \n",
       "120    736      995.3               None   \n",
       "121    857     891.85               None   \n",
       "122  22179   43438.91              0.642   \n",
       "123  16307   25702.84               None   \n",
       "124   5872    9279.29              0.642   \n",
       "125   1913    2968.15              0.642   \n",
       "126    631    1091.08               None   \n",
       "127   1282    1838.27               None   \n",
       "128   3959    6218.77              0.643   \n",
       "129   2158    2787.78               None   \n",
       "130   1801    3178.78              0.643   \n",
       "131   1174    2237.62               None   \n",
       "132    627     689.03               None   \n",
       "\n",
       "                      Class Probabilities  \\\n",
       "0    {1: 0.18, 2: 0.03, 3: 0.35, 4: 0.44}   \n",
       "1    {1: 0.14, 2: 0.02, 3: 0.24, 4: 0.59}   \n",
       "2    {1: 0.48, 2: 0.03, 3: 0.05, 4: 0.43}   \n",
       "3    {1: 0.72, 2: 0.02, 3: 0.02, 4: 0.24}   \n",
       "4    {1: 0.38, 2: 0.03, 3: 0.07, 4: 0.52}   \n",
       "5    {1: 0.39, 2: 0.03, 3: 0.08, 4: 0.51}   \n",
       "6    {1: 0.36, 2: 0.03, 3: 0.06, 4: 0.55}   \n",
       "7     {1: 0.26, 2: 0.02, 3: 0.02, 4: 0.7}   \n",
       "8    {1: 0.37, 2: 0.03, 3: 0.07, 4: 0.53}   \n",
       "9    {1: 0.52, 2: 0.02, 3: 0.13, 4: 0.33}   \n",
       "10   {1: 0.55, 2: 0.02, 3: 0.16, 4: 0.27}   \n",
       "11    {1: 0.49, 2: 0.03, 3: 0.08, 4: 0.4}   \n",
       "12   {1: 0.29, 2: 0.03, 3: 0.04, 4: 0.64}   \n",
       "13    {1: 0.3, 2: 0.03, 3: 0.08, 4: 0.59}   \n",
       "14   {1: 0.29, 2: 0.03, 3: 0.02, 4: 0.66}   \n",
       "15   {1: 0.31, 2: 0.05, 3: 0.02, 4: 0.62}   \n",
       "16   {1: 0.27, 2: 0.02, 3: 0.02, 4: 0.69}   \n",
       "17   {1: 0.45, 2: 0.03, 3: 0.12, 4: 0.41}   \n",
       "18   {1: 0.42, 2: 0.03, 3: 0.11, 4: 0.44}   \n",
       "19   {1: 0.46, 2: 0.03, 3: 0.12, 4: 0.39}   \n",
       "20   {1: 0.35, 2: 0.03, 3: 0.05, 4: 0.57}   \n",
       "21   {1: 0.44, 2: 0.04, 3: 0.06, 4: 0.46}   \n",
       "22    {1: 0.3, 2: 0.02, 3: 0.04, 4: 0.64}   \n",
       "23    {1: 0.05, 2: 0.02, 3: 0.3, 4: 0.63}   \n",
       "24   {1: 0.05, 2: 0.02, 3: 0.24, 4: 0.69}   \n",
       "25   {1: 0.03, 2: 0.03, 3: 0.39, 4: 0.55}   \n",
       "26   {1: 0.03, 2: 0.01, 3: 0.34, 4: 0.61}   \n",
       "27    {1: 0.03, 2: 0.01, 3: 0.2, 4: 0.77}   \n",
       "28   {1: 0.04, 2: 0.02, 3: 0.39, 4: 0.55}   \n",
       "29   {1: 0.05, 2: 0.02, 3: 0.37, 4: 0.55}   \n",
       "30   {1: 0.02, 2: 0.01, 3: 0.41, 4: 0.56}   \n",
       "31    {1: 0.03, 2: 0.03, 3: 0.4, 4: 0.53}   \n",
       "32    {1: 0.03, 2: 0.03, 3: 0.34, 4: 0.6}   \n",
       "33   {1: 0.07, 2: 0.04, 3: 0.19, 4: 0.69}   \n",
       "34   {1: 0.08, 2: 0.06, 3: 0.21, 4: 0.64}   \n",
       "35   {1: 0.11, 2: 0.07, 3: 0.18, 4: 0.64}   \n",
       "36   {1: 0.07, 2: 0.05, 3: 0.23, 4: 0.64}   \n",
       "37   {1: 0.06, 2: 0.03, 3: 0.18, 4: 0.74}   \n",
       "38   {1: 0.06, 2: 0.04, 3: 0.17, 4: 0.74}   \n",
       "39   {1: 0.06, 2: 0.01, 3: 0.19, 4: 0.74}   \n",
       "40   {1: 0.01, 2: 0.03, 3: 0.41, 4: 0.55}   \n",
       "41    {1: 0.02, 2: 0.01, 3: 0.3, 4: 0.67}   \n",
       "42   {1: 0.03, 2: 0.02, 3: 0.26, 4: 0.69}   \n",
       "43    {1: 0.0, 2: 0.01, 3: 0.35, 4: 0.63}   \n",
       "44   {1: 0.01, 2: 0.03, 3: 0.44, 4: 0.52}   \n",
       "45   {1: 0.01, 2: 0.04, 3: 0.53, 4: 0.42}   \n",
       "46    {1: 0.0, 2: 0.06, 3: 0.62, 4: 0.32}   \n",
       "47    {1: 0.02, 2: 0.03, 3: 0.46, 4: 0.5}   \n",
       "48   {1: 0.01, 2: 0.03, 3: 0.49, 4: 0.46}   \n",
       "49   {1: 0.02, 2: 0.02, 3: 0.41, 4: 0.55}   \n",
       "50   {1: 0.01, 2: 0.02, 3: 0.31, 4: 0.66}   \n",
       "51    {1: 0.01, 2: 0.02, 3: 0.26, 4: 0.7}   \n",
       "52    {1: 0.0, 2: 0.01, 3: 0.37, 4: 0.62}   \n",
       "53   {1: 0.05, 2: 0.02, 3: 0.65, 4: 0.29}   \n",
       "54    {1: 0.06, 2: 0.02, 3: 0.52, 4: 0.4}   \n",
       "55   {1: 0.07, 2: 0.03, 3: 0.56, 4: 0.34}   \n",
       "56   {1: 0.04, 2: 0.01, 3: 0.47, 4: 0.49}   \n",
       "57   {1: 0.04, 2: 0.02, 3: 0.78, 4: 0.16}   \n",
       "58   {1: 0.06, 2: 0.02, 3: 0.73, 4: 0.19}   \n",
       "59   {1: 0.01, 2: 0.02, 3: 0.84, 4: 0.12}   \n",
       "60   {1: 0.06, 2: 0.02, 3: 0.16, 4: 0.76}   \n",
       "61   {1: 0.06, 2: 0.02, 3: 0.23, 4: 0.69}   \n",
       "62   {1: 0.06, 2: 0.02, 3: 0.25, 4: 0.67}   \n",
       "63   {1: 0.05, 2: 0.02, 3: 0.11, 4: 0.81}   \n",
       "64   {1: 0.06, 2: 0.02, 3: 0.28, 4: 0.64}   \n",
       "65    {1: 0.08, 2: 0.02, 3: 0.31, 4: 0.6}   \n",
       "66   {1: 0.08, 2: 0.02, 3: 0.44, 4: 0.46}   \n",
       "67   {1: 0.04, 2: 0.02, 3: 0.21, 4: 0.73}   \n",
       "68    {1: 0.1, 2: 0.02, 3: 0.51, 4: 0.37}   \n",
       "69   {1: 0.12, 2: 0.02, 3: 0.58, 4: 0.28}   \n",
       "70    {1: 0.07, 2: 0.01, 3: 0.4, 4: 0.52}   \n",
       "71    {1: 0.07, 2: 0.02, 3: 0.2, 4: 0.71}   \n",
       "72   {1: 0.05, 2: 0.02, 3: 0.17, 4: 0.76}   \n",
       "73   {1: 0.09, 2: 0.02, 3: 0.23, 4: 0.66}   \n",
       "74   {1: 0.12, 2: 0.03, 3: 0.23, 4: 0.62}   \n",
       "75   {1: 0.04, 2: 0.01, 3: 0.23, 4: 0.72}   \n",
       "76   {1: 0.03, 2: 0.01, 3: 0.22, 4: 0.74}   \n",
       "77   {1: 0.04, 2: 0.01, 3: 0.22, 4: 0.72}   \n",
       "78    {1: 0.03, 2: 0.0, 3: 0.22, 4: 0.75}   \n",
       "79   {1: 0.05, 2: 0.02, 3: 0.16, 4: 0.76}   \n",
       "80    {1: 0.06, 2: 0.02, 3: 0.22, 4: 0.7}   \n",
       "81   {1: 0.05, 2: 0.01, 3: 0.12, 4: 0.82}   \n",
       "82   {1: 0.05, 2: 0.02, 3: 0.09, 4: 0.84}   \n",
       "83    {1: 0.05, 2: 0.01, 3: 0.15, 4: 0.8}   \n",
       "84   {1: 0.05, 2: 0.02, 3: 0.11, 4: 0.81}   \n",
       "85    {1: 0.18, 2: 0.04, 3: 0.08, 4: 0.7}   \n",
       "86   {1: 0.13, 2: 0.05, 3: 0.07, 4: 0.75}   \n",
       "87   {1: 0.21, 2: 0.04, 3: 0.08, 4: 0.68}   \n",
       "88   {1: 0.25, 2: 0.03, 3: 0.07, 4: 0.65}   \n",
       "89   {1: 0.16, 2: 0.04, 3: 0.09, 4: 0.71}   \n",
       "90   {1: 0.03, 2: 0.02, 3: 0.12, 4: 0.83}   \n",
       "91   {1: 0.03, 2: 0.02, 3: 0.17, 4: 0.78}   \n",
       "92   {1: 0.03, 2: 0.03, 3: 0.19, 4: 0.76}   \n",
       "93   {1: 0.04, 2: 0.03, 3: 0.19, 4: 0.74}   \n",
       "94   {1: 0.05, 2: 0.03, 3: 0.17, 4: 0.74}   \n",
       "95    {1: 0.0, 2: 0.02, 3: 0.26, 4: 0.72}   \n",
       "96    {1: 0.01, 2: 0.02, 3: 0.18, 4: 0.8}   \n",
       "97   {1: 0.01, 2: 0.01, 3: 0.17, 4: 0.81}   \n",
       "98    {1: 0.0, 2: 0.02, 3: 0.18, 4: 0.79}   \n",
       "99   {1: 0.04, 2: 0.01, 3: 0.12, 4: 0.83}   \n",
       "100  {1: 0.03, 2: 0.03, 3: 0.07, 4: 0.87}   \n",
       "101    {1: 0.04, 2: 0.0, 3: 0.15, 4: 0.8}   \n",
       "102  {1: 0.04, 2: 0.02, 3: 0.08, 4: 0.86}   \n",
       "103  {1: 0.04, 2: 0.02, 3: 0.09, 4: 0.85}   \n",
       "104  {1: 0.06, 2: 0.03, 3: 0.08, 4: 0.82}   \n",
       "105  {1: 0.04, 2: 0.02, 3: 0.09, 4: 0.85}   \n",
       "106  {1: 0.02, 2: 0.01, 3: 0.07, 4: 0.89}   \n",
       "107   {1: 0.04, 2: 0.02, 3: 0.1, 4: 0.84}   \n",
       "108  {1: 0.05, 2: 0.02, 3: 0.11, 4: 0.82}   \n",
       "109  {1: 0.02, 2: 0.01, 3: 0.08, 4: 0.88}   \n",
       "110  {1: 0.04, 2: 0.01, 3: 0.04, 4: 0.91}   \n",
       "111  {1: 0.05, 2: 0.01, 3: 0.05, 4: 0.89}   \n",
       "112  {1: 0.03, 2: 0.02, 3: 0.02, 4: 0.94}   \n",
       "113  {1: 0.03, 2: 0.04, 3: 0.81, 4: 0.12}   \n",
       "114   {1: 0.04, 2: 0.03, 3: 0.74, 4: 0.2}   \n",
       "115  {1: 0.03, 2: 0.04, 3: 0.84, 4: 0.09}   \n",
       "116  {1: 0.03, 2: 0.01, 3: 0.92, 4: 0.04}   \n",
       "117  {1: 0.03, 2: 0.05, 3: 0.81, 4: 0.11}   \n",
       "118  {1: 0.04, 2: 0.04, 3: 0.77, 4: 0.15}   \n",
       "119  {1: 0.02, 2: 0.06, 3: 0.83, 4: 0.09}   \n",
       "120   {1: 0.03, 2: 0.03, 3: 0.8, 4: 0.14}   \n",
       "121  {1: 0.01, 2: 0.07, 3: 0.86, 4: 0.06}   \n",
       "122  {1: 0.26, 2: 0.04, 3: 0.62, 4: 0.08}   \n",
       "123   {1: 0.1, 2: 0.05, 3: 0.77, 4: 0.09}   \n",
       "124   {1: 0.73, 2: 0.03, 3: 0.2, 4: 0.05}   \n",
       "125  {1: 0.76, 2: 0.05, 3: 0.15, 4: 0.04}   \n",
       "126  {1: 0.71, 2: 0.03, 3: 0.17, 4: 0.08}   \n",
       "127  {1: 0.78, 2: 0.06, 3: 0.14, 4: 0.02}   \n",
       "128  {1: 0.71, 2: 0.02, 3: 0.23, 4: 0.05}   \n",
       "129  {1: 0.81, 2: 0.02, 3: 0.13, 4: 0.04}   \n",
       "130   {1: 0.6, 2: 0.01, 3: 0.33, 4: 0.06}   \n",
       "131  {1: 0.47, 2: 0.01, 3: 0.45, 4: 0.07}   \n",
       "132  {1: 0.84, 2: 0.01, 3: 0.13, 4: 0.03}   \n",
       "\n",
       "                                                                                                                                                                      Alpha  \\\n",
       "0                                                                                                                                  [[0.89, 0.11], [0.25, 0.75], [0.0, 1.0]]   \n",
       "1                   [[0.0, 1.11], [0.24, 0.76], [0.44, 0.56], [0.62, 0.38], [0.76, 0.24], [0.86, 0.14], [0.91, 0.09], [0.95, 0.05], [0.99, 0.01], [1.06, 0.0], [1.09, 0.0]]   \n",
       "2                                                                                                                                  [[0.78, 0.22], [0.28, 0.72], [0.0, 1.0]]   \n",
       "3                                                                                                                                                                        []   \n",
       "4                                                                                [[0.3, 0.7], [0.0, 1.0], [0.2, 0.8], [0.12, 0.88], [0.0, 1.0], [0.63, 0.37], [0.74, 0.26]]   \n",
       "5                                                                                                      [[0.49, 0.51], [0.61, 0.39], [0.74, 0.26], [0.88, 0.12], [1.0, 0.0]]   \n",
       "6                                                                                                                    [[0.0, 1.0], [0.27, 0.73], [0.62, 0.38], [0.08, 0.92]]   \n",
       "7                                                                                                                                                                        []   \n",
       "8                                                                                                                                                                        []   \n",
       "9                                                                                                                                                                        []   \n",
       "10                                                                                                                                                                       []   \n",
       "11                                                                                                                                                                       []   \n",
       "12                                                                                                                                                                       []   \n",
       "13                                                                                                                                                                       []   \n",
       "14                                                                                                                                                                       []   \n",
       "15                                                                                                                                                                       []   \n",
       "16                                                                                                                                                                       []   \n",
       "17                                                                                                                                                                       []   \n",
       "18                                                                                                                                                                       []   \n",
       "19                                                                                                                                                                       []   \n",
       "20                                                                                                                                                                       []   \n",
       "21                                                                                                                                                                       []   \n",
       "22                                                                                                                                                                       []   \n",
       "23                                                                                                                                             [[0.85, 0.15], [0.19, 0.81]]   \n",
       "24                                                                                                       [[0.76, 0.24], [0.6, 0.4], [0.44, 0.56], [0.22, 0.78], [0.0, 1.0]]   \n",
       "25                                                                                                     [[0.51, 0.49], [1.0, 0.0], [0.68, 0.32], [0.84, 0.16], [0.45, 0.55]]   \n",
       "26                                                                                                                 [[0.31, 0.69], [0.94, 0.06], [0.56, 0.44], [0.59, 0.41]]   \n",
       "27                                                                                                                                                                       []   \n",
       "28                                                                                                                                                                       []   \n",
       "29                                                                                                                                                                       []   \n",
       "30                                                                                                                                                                       []   \n",
       "31                                                                                                                                             [[0.59, 0.41], [0.13, 0.87]]   \n",
       "32                                                                                                                                 [[1.0, 0.0], [0.41, 0.59], [0.76, 0.24]]   \n",
       "33                                                                                                                                                                       []   \n",
       "34                                                                                                                                                                       []   \n",
       "35                                                                                                                                                                       []   \n",
       "36                                                                                                                                                                       []   \n",
       "37                                                                                                                                                                       []   \n",
       "38                                                                                                                                                                       []   \n",
       "39                                                                                                                                                                       []   \n",
       "40                                                                         [[0.77, 0.23], [0.81, 0.19], [1.0, 0.0], [0.92, 0.08], [0.89, 0.11], [0.12, 0.88], [0.21, 0.79]]   \n",
       "41                                                                                                                                                                       []   \n",
       "42                                                                                                                                                                       []   \n",
       "43                                                                                                                                                                       []   \n",
       "44                                                                                                                                   [[0.69, 0.31], [0.3, 0.7], [0.0, 1.0]]   \n",
       "45                                                                                                     [[0.19, 0.81], [0.99, 0.01], [0.82, 0.18], [0.8, 0.2], [0.78, 0.22]]   \n",
       "46                                                                                                                                                                       []   \n",
       "47                                                                                                                                                                       []   \n",
       "48                                                                                                                                                                       []   \n",
       "49                                                                                                                                                                       []   \n",
       "50                                                                                                                                                                       []   \n",
       "51                                                                                                                                                                       []   \n",
       "52                                                                                                                                                                       []   \n",
       "53                                                                                                     [[0.64, 0.36], [0.58, 0.42], [0.04, 0.96], [0.56, 0.44], [0.0, 1.0]]   \n",
       "54                                                                                                                                                                       []   \n",
       "55                                                                                                                                                                       []   \n",
       "56                                                                                                                                                                       []   \n",
       "57                                                                                                                                                                       []   \n",
       "58                                                                                                                                                                       []   \n",
       "59                                                                                                                                                                       []   \n",
       "60                                                                                                                   [[0.0, 1.0], [0.17, 0.83], [0.53, 0.47], [0.38, 0.62]]   \n",
       "61                                                                                                                 [[0.39, 0.61], [0.01, 0.99], [0.61, 0.39], [0.51, 0.49]]   \n",
       "62                                                                         [[0.94, 0.06], [0.88, 0.12], [0.87, 0.13], [1.0, 0.0], [0.83, 0.17], [0.58, 0.42], [0.22, 0.78]]   \n",
       "63                                                                                                                                                                       []   \n",
       "64                                                                                                                                 [[0.0, 1.0], [0.29, 0.71], [0.59, 0.41]]   \n",
       "65                                                                                                         [[0.3, 0.7], [0.0, 1.0], [0.57, 0.43], [0.4, 0.6], [0.58, 0.42]]   \n",
       "66                                                                                                                                             [[0.44, 0.56], [0.87, 0.13]]   \n",
       "67                                                                                                                                                                       []   \n",
       "68                                                                                                                                                                       []   \n",
       "69                                                                                                                                                                       []   \n",
       "70                                                                                                                                                                       []   \n",
       "71                                                                                                                                                                       []   \n",
       "72                                                                                                                                                                       []   \n",
       "73                                                                                                                                                                       []   \n",
       "74                                                                                                                                                                       []   \n",
       "75                                                                                                                                                                       []   \n",
       "76                                                                                                                                                                       []   \n",
       "77                                                                                                                                                                       []   \n",
       "78                                                                                                                                                                       []   \n",
       "79                                                                                                       [[0.5, 0.5], [0.0, 1.0], [0.52, 0.48], [0.12, 0.88], [0.72, 0.28]]   \n",
       "80                                                                                                                                                                       []   \n",
       "81                                                                                                                                             [[0.58, 0.42], [0.13, 0.87]]   \n",
       "82                                                                                                                                                                       []   \n",
       "83                                                                                                                                                                       []   \n",
       "84                                                           [[0.42, 0.58], [0.68, 0.32], [0.81, 0.19], [0.91, 0.09], [0.96, 0.04], [0.98, 0.02], [1.02, 0.0], [1.05, 0.0]]   \n",
       "85       [[0.64, 0.36], [0.5, 0.5], [0.41, 0.59], [0.5, 0.5], [0.45, 0.55], [0.0, 1.0], [0.54, 0.46], [0.43, 0.57], [0.53, 0.47], [0.76, 0.24], [0.75, 0.25], [0.58, 0.42]]   \n",
       "86                                                                                                                                                                       []   \n",
       "87                                                                                                                                                                       []   \n",
       "88                                                                                                                                                                       []   \n",
       "89                                                                                                                                                                       []   \n",
       "90                                                                                                                                             [[0.57, 0.43], [0.13, 0.87]]   \n",
       "91                                                                         [[0.28, 0.72], [0.0, 1.0], [0.16, 0.84], [0.03, 0.97], [0.21, 0.79], [0.56, 0.44], [0.74, 0.26]]   \n",
       "92                                                                                                                               [[0.96, 0.04], [0.17, 0.83], [0.85, 0.15]]   \n",
       "93                                                                                                                                                                       []   \n",
       "94                                                                                                                                                                       []   \n",
       "95                                                                                                                                                                       []   \n",
       "96                                                                                                                                                                       []   \n",
       "97                                                                                                                                                                       []   \n",
       "98                                                                                                                                                                       []   \n",
       "99                                                                                                                                                                       []   \n",
       "100                                                                                                                                                                      []   \n",
       "101                                                                                                                                                                      []   \n",
       "102                                                                          [[0.05, 0.95], [0.2, 0.8], [0.0, 1.0], [0.12, 0.88], [0.23, 0.77], [0.43, 0.57], [0.78, 0.22]]   \n",
       "103  [[0.83, 0.17], [0.62, 0.38], [0.41, 0.59], [0.72, 0.28], [0.96, 0.04], [0.0, 1.0], [0.69, 0.31], [0.72, 0.28], [0.61, 0.39], [0.63, 0.37], [0.57, 0.43], [0.53, 0.47]]   \n",
       "104                                                                                                                                                                      []   \n",
       "105                                [[0.87, 0.13], [0.42, 0.58], [0.5, 0.5], [1.0, 0.0], [0.59, 0.41], [0.35, 0.65], [0.42, 0.58], [0.48, 0.52], [0.17, 0.83], [0.01, 0.99]]   \n",
       "106                                                                                                                                                                      []   \n",
       "107                                                                                                                              [[0.86, 0.14], [0.15, 0.85], [0.59, 0.41]]   \n",
       "108                                                                                                                                                                      []   \n",
       "109                                                                                                                                                                      []   \n",
       "110                                                                                                                                                                      []   \n",
       "111                                                                                                                                                                      []   \n",
       "112                                                                                                                                                                      []   \n",
       "113                                                                                                                                            [[0.58, 0.42], [0.13, 0.87]]   \n",
       "114                                                                                                                                                                      []   \n",
       "115                                                                                                                                            [[0.84, 0.16], [0.19, 0.81]]   \n",
       "116                                                                                                                                                                      []   \n",
       "117                                                                                                                                                                      []   \n",
       "118                                                                                                                                                                      []   \n",
       "119                                                                                                                                                                      []   \n",
       "120                                                                                                                                                                      []   \n",
       "121                                                                                                                                                                      []   \n",
       "122                   [[0.06, 0.94], [0.22, 0.78], [0.39, 0.61], [0.59, 0.41], [0.77, 0.23], [0.85, 0.15], [0.95, 0.05], [0.99, 0.01], [1.0, 0.0], [1.0, 0.0], [1.01, 0.0]]   \n",
       "123                                                                                                                                            [[0.83, 0.17], [0.19, 0.81]]   \n",
       "124                                                                                                                                            [[0.74, 0.26], [0.17, 0.83]]   \n",
       "125                                                                                                                                                                      []   \n",
       "126                                                                                                                                                                      []   \n",
       "127                                                                                                                                                                      []   \n",
       "128                                                                                                      [[0.59, 0.41], [0.64, 0.36], [0.17, 0.83], [0.7, 0.3], [0.0, 1.0]]   \n",
       "129                                                                                                                                            [[0.39, 0.61], [0.89, 0.11]]   \n",
       "130                                                                                                                                                                      []   \n",
       "131                                                                                                                                                                      []   \n",
       "132                                                                                                                                                                      []   \n",
       "\n",
       "                                                     Beta LS Error  \n",
       "0      [[0.28, 0.05, 0.67, 0.0], [0.11, 0.02, 0.17, 0.7]]       []  \n",
       "1      [[0.0, 0.02, 0.37, 0.63], [0.63, 0.03, 0.0, 0.39]]       []  \n",
       "2     [[0.83, 0.02, 0.0, 0.15], [0.33, 0.03, 0.08, 0.56]]       []  \n",
       "3                                                      []       []  \n",
       "4    [[0.33, 0.03, 0.03, 0.61], [0.39, 0.03, 0.09, 0.49]]       []  \n",
       "5      [[0.59, 0.03, 0.15, 0.22], [0.1, 0.02, 0.0, 0.87]]       []  \n",
       "6     [[0.17, 0.01, 0.0, 0.82], [0.38, 0.03, 0.07, 0.52]]       []  \n",
       "7                                                      []       []  \n",
       "8                                                      []       []  \n",
       "9                                                      []       []  \n",
       "10                                                     []       []  \n",
       "11                                                     []       []  \n",
       "12                                                     []       []  \n",
       "13                                                     []       []  \n",
       "14                                                     []       []  \n",
       "15                                                     []       []  \n",
       "16                                                     []       []  \n",
       "17                                                     []       []  \n",
       "18                                                     []       []  \n",
       "19                                                     []       []  \n",
       "20                                                     []       []  \n",
       "21                                                     []       []  \n",
       "22                                                     []       []  \n",
       "23    [[0.03, 0.04, 0.93, 0.0], [0.05, 0.02, 0.08, 0.85]]       []  \n",
       "24    [[0.06, 0.01, 0.0, 0.93], [0.03, 0.04, 0.55, 0.39]]       []  \n",
       "25    [[0.03, 0.02, 0.74, 0.21], [0.05, 0.03, 0.0, 0.93]]       []  \n",
       "26     [[0.01, 0.0, 0.66, 0.33], [0.06, 0.02, 0.0, 0.92]]       []  \n",
       "27                                                     []       []  \n",
       "28                                                     []       []  \n",
       "29                                                     []       []  \n",
       "30                                                     []       []  \n",
       "31    [[0.06, 0.01, 0.93, 0.0], [0.03, 0.04, 0.25, 0.69]]       []  \n",
       "32     [[0.0, 0.02, 0.46, 0.52], [0.12, 0.06, 0.0, 0.82]]       []  \n",
       "33                                                     []       []  \n",
       "34                                                     []       []  \n",
       "35                                                     []       []  \n",
       "36                                                     []       []  \n",
       "37                                                     []       []  \n",
       "38                                                     []       []  \n",
       "39                                                     []       []  \n",
       "40     [[0.01, 0.03, 0.46, 0.5], [0.02, 0.01, 0.27, 0.7]]       []  \n",
       "41                                                     []       []  \n",
       "42                                                     []       []  \n",
       "43                                                     []       []  \n",
       "44     [[0.01, 0.0, 0.2, 0.79], [0.01, 0.05, 0.58, 0.36]]       []  \n",
       "45    [[0.02, 0.01, 0.42, 0.55], [0.0, 0.07, 0.66, 0.27]]       []  \n",
       "46                                                     []       []  \n",
       "47                                                     []       []  \n",
       "48                                                     []       []  \n",
       "49                                                     []       []  \n",
       "50                                                     []       []  \n",
       "51                                                     []       []  \n",
       "52                                                     []       []  \n",
       "53     [[0.01, 0.03, 0.96, 0.0], [0.07, 0.02, 0.51, 0.4]]       []  \n",
       "54                                                     []       []  \n",
       "55                                                     []       []  \n",
       "56                                                     []       []  \n",
       "57                                                     []       []  \n",
       "58                                                     []       []  \n",
       "59                                                     []       []  \n",
       "60    [[0.01, 0.01, 0.0, 0.97], [0.07, 0.02, 0.27, 0.64]]       []  \n",
       "61    [[0.04, 0.02, 0.0, 0.94], [0.08, 0.02, 0.38, 0.52]]       []  \n",
       "62   [[0.06, 0.01, 0.32, 0.61], [0.05, 0.03, 0.05, 0.86]]       []  \n",
       "63                                                     []       []  \n",
       "64    [[0.0, 0.01, 0.13, 0.86], [0.08, 0.02, 0.33, 0.57]]       []  \n",
       "65    [[0.04, 0.01, 0.0, 0.95], [0.08, 0.02, 0.49, 0.41]]       []  \n",
       "66    [[0.02, 0.02, 0.12, 0.83], [0.16, 0.01, 0.83, 0.0]]       []  \n",
       "67                                                     []       []  \n",
       "68                                                     []       []  \n",
       "69                                                     []       []  \n",
       "70                                                     []       []  \n",
       "71                                                     []       []  \n",
       "72                                                     []       []  \n",
       "73                                                     []       []  \n",
       "74                                                     []       []  \n",
       "75                                                     []       []  \n",
       "76                                                     []       []  \n",
       "77                                                     []       []  \n",
       "78                                                     []       []  \n",
       "79    [[0.04, 0.0, 0.01, 0.95], [0.08, 0.04, 0.34, 0.53]]       []  \n",
       "80                                                     []       []  \n",
       "81    [[0.04, 0.0, 0.19, 0.76], [0.05, 0.02, 0.08, 0.85]]       []  \n",
       "82                                                     []       []  \n",
       "83                                                     []       []  \n",
       "84     [[0.0, 0.01, 0.17, 0.82], [0.31, 0.07, 0.0, 0.67]]       []  \n",
       "85      [[0.3, 0.0, 0.14, 0.56], [0.04, 0.09, 0.0, 0.87]]       []  \n",
       "86                                                     []       []  \n",
       "87                                                     []       []  \n",
       "88                                                     []       []  \n",
       "89                                                     []       []  \n",
       "90    [[0.05, 0.02, 0.0, 0.94], [0.03, 0.02, 0.19, 0.76]]       []  \n",
       "91    [[0.04, 0.01, 0.07, 0.88], [0.03, 0.03, 0.2, 0.74]]       []  \n",
       "92     [[0.0, 0.02, 0.18, 0.8], [0.05, 0.03, 0.19, 0.73]]       []  \n",
       "93                                                     []       []  \n",
       "94                                                     []       []  \n",
       "95                                                     []       []  \n",
       "96                                                     []       []  \n",
       "97                                                     []       []  \n",
       "98                                                     []       []  \n",
       "99                                                     []       []  \n",
       "100                                                    []       []  \n",
       "101                                                    []       []  \n",
       "102  [[0.03, 0.01, 0.02, 0.93], [0.04, 0.02, 0.11, 0.83]]       []  \n",
       "103    [[0.01, 0.0, 0.09, 0.9], [0.08, 0.06, 0.09, 0.77]]       []  \n",
       "104                                                    []       []  \n",
       "105   [[0.02, 0.01, 0.06, 0.91], [0.05, 0.03, 0.12, 0.8]]       []  \n",
       "106                                                    []       []  \n",
       "107    [[0.0, 0.01, 0.06, 0.93], [0.05, 0.03, 0.12, 0.8]]       []  \n",
       "108                                                    []       []  \n",
       "109                                                    []       []  \n",
       "110                                                    []       []  \n",
       "111                                                    []       []  \n",
       "112                                                    []       []  \n",
       "113   [[0.02, 0.05, 0.93, 0.0], [0.04, 0.03, 0.71, 0.23]]       []  \n",
       "114                                                    []       []  \n",
       "115   [[0.04, 0.0, 0.95, 0.02], [0.02, 0.06, 0.78, 0.13]]       []  \n",
       "116                                                    []       []  \n",
       "117                                                    []       []  \n",
       "118                                                    []       []  \n",
       "119                                                    []       []  \n",
       "120                                                    []       []  \n",
       "121                                                    []       []  \n",
       "122    [[0.0, 0.05, 0.87, 0.09], [0.94, 0.03, 0.0, 0.03]]       []  \n",
       "123   [[0.06, 0.07, 0.88, 0.0], [0.11, 0.04, 0.72, 0.12]]       []  \n",
       "124   [[0.69, 0.0, 0.26, 0.05], [0.77, 0.06, 0.13, 0.04]]       []  \n",
       "125                                                    []       []  \n",
       "126                                                    []       []  \n",
       "127                                                    []       []  \n",
       "128    [[0.93, 0.04, 0.0, 0.03], [0.6, 0.01, 0.35, 0.05]]       []  \n",
       "129    [[0.78, 0.0, 0.17, 0.05], [0.88, 0.07, 0.06, 0.0]]       []  \n",
       "130                                                    []       []  \n",
       "131                                                    []       []  \n",
       "132                                                    []       []  "
      ]
     },
     "execution_count": 28,
     "metadata": {},
     "output_type": "execute_result"
    }
   ],
   "source": [
    "tree.print_tree(table = True, html = False, merge_leaves = False)"
   ]
  },
  {
   "cell_type": "code",
   "execution_count": 18,
   "metadata": {},
   "outputs": [
    {
     "data": {
      "application/vnd.plotly.v1+json": {
       "config": {
        "plotlyServerURL": "https://plot.ly"
       },
       "data": [
        {
         "hoverinfo": "none",
         "line": {
          "color": "rgb(210,210,210)",
          "width": 1
         },
         "mode": "lines",
         "type": "scatter",
         "x": [
          0,
          -308.69140625,
          null,
          0,
          308.69140625,
          null,
          -308.69140625,
          -531.80859375,
          null,
          -308.69140625,
          -85.57421875,
          null,
          308.69140625,
          180.69140625,
          null,
          308.69140625,
          436.69140625,
          null,
          -531.80859375,
          -659.80859375,
          null,
          -531.80859375,
          -403.80859375,
          null,
          -85.57421875,
          -159.83984375,
          null,
          -85.57421875,
          -11.30859375,
          null,
          -659.80859375,
          -723.80859375,
          null,
          -659.80859375,
          -595.80859375,
          null,
          -159.83984375,
          -211.80859375,
          null,
          -159.83984375,
          -107.87109375,
          null,
          -723.80859375,
          -755.80859375,
          null,
          -723.80859375,
          -691.80859375,
          null,
          -211.80859375,
          -243.80859375,
          null,
          -211.80859375,
          -179.80859375,
          null,
          -107.87109375,
          -124.43359375,
          null,
          -107.87109375,
          -91.30859375,
          null,
          -755.80859375,
          -771.80859375,
          null,
          -755.80859375,
          -739.80859375,
          null,
          -691.80859375,
          -707.80859375,
          null,
          -691.80859375,
          -675.80859375,
          null,
          -179.80859375,
          -195.80859375,
          null,
          -179.80859375,
          -163.80859375,
          null,
          -124.43359375,
          -133.55859375,
          null,
          -124.43359375,
          -115.30859375,
          null,
          -771.80859375,
          -779.80859375,
          null,
          -771.80859375,
          -763.80859375,
          null,
          -195.80859375,
          -203.80859375,
          null,
          -195.80859375,
          -187.80859375,
          null,
          -163.80859375,
          -171.80859375,
          null,
          -163.80859375,
          -155.80859375,
          null,
          -133.55859375,
          -139.80859375,
          null,
          -133.55859375,
          -127.30859375,
          null,
          -187.80859375,
          -191.80859375,
          null,
          -187.80859375,
          -183.80859375,
          null,
          -171.80859375,
          -175.80859375,
          null,
          -171.80859375,
          -167.80859375,
          null,
          -127.30859375,
          -129.30859375,
          null,
          -127.30859375,
          -125.30859375,
          null,
          -183.80859375,
          -185.80859375,
          null,
          -183.80859375,
          -181.80859375,
          null,
          -129.30859375,
          -130.30859375,
          null,
          -129.30859375,
          -128.30859375,
          null,
          -185.80859375,
          -186.80859375,
          null,
          -185.80859375,
          -184.80859375,
          null,
          -130.30859375,
          -130.80859375,
          null,
          -130.30859375,
          -129.80859375,
          null,
          -184.80859375,
          -185.30859375,
          null,
          -184.80859375,
          -184.30859375,
          null,
          -130.80859375,
          -131.30859375,
          null,
          -130.80859375,
          -130.30859375,
          null
         ],
         "y": [
          10,
          9,
          null,
          10,
          9,
          null,
          9,
          8,
          null,
          9,
          8,
          null,
          9,
          8,
          null,
          9,
          8,
          null,
          8,
          7,
          null,
          8,
          7,
          null,
          8,
          7,
          null,
          8,
          7,
          null,
          7,
          6,
          null,
          7,
          6,
          null,
          7,
          6,
          null,
          7,
          6,
          null,
          6,
          5,
          null,
          6,
          5,
          null,
          6,
          5,
          null,
          6,
          5,
          null,
          6,
          5,
          null,
          6,
          5,
          null,
          5,
          4,
          null,
          5,
          4,
          null,
          5,
          4,
          null,
          5,
          4,
          null,
          5,
          4,
          null,
          5,
          4,
          null,
          5,
          4,
          null,
          5,
          4,
          null,
          4,
          3,
          null,
          4,
          3,
          null,
          4,
          3,
          null,
          4,
          3,
          null,
          4,
          3,
          null,
          4,
          3,
          null,
          4,
          3,
          null,
          4,
          3,
          null,
          3,
          2,
          null,
          3,
          2,
          null,
          3,
          2,
          null,
          3,
          2,
          null,
          3,
          2,
          null,
          3,
          2,
          null,
          2,
          1,
          null,
          2,
          1,
          null,
          2,
          1,
          null,
          2,
          1,
          null,
          1,
          0,
          null,
          1,
          0,
          null,
          1,
          0,
          null,
          1,
          0,
          null,
          0,
          -1,
          null,
          0,
          -1,
          null,
          0,
          -1,
          null,
          0,
          -1,
          null
         ]
        },
        {
         "hoverinfo": "text",
         "marker": {
          "color": "#6175c1",
          "line": {
           "color": "rgb(50,50,50)",
           "width": 1
          },
          "size": 18,
          "symbol": "circle-dot"
         },
         "mode": "markers",
         "name": "Nodes",
         "opacity": 0.8,
         "text": [
          "n9, Class: {1: 0.72, 2: 0.02, 3: 0.02, 4: 0.24}, tau : None, Samples : 3628",
          "n65, Class: {1: 0.26, 2: 0.02, 3: 0.02, 4: 0.7}, tau : None, Samples : 542",
          "n66, Class: {1: 0.42, 2: 0.03, 3: 0.11, 4: 0.44}, tau : None, Samples : 715",
          "n67, Class: {1: 0.46, 2: 0.03, 3: 0.12, 4: 0.39}, tau : None, Samples : 1194",
          "n1324, Class: {1: 0.0, 2: 0.06, 3: 0.62, 4: 0.32}, tau : None, Samples : 1134",
          "n2650, Class: {1: 0.01, 2: 0.03, 3: 0.49, 4: 0.46}, tau : None, Samples : 741",
          "n2651, Class: {1: 0.02, 2: 0.02, 3: 0.41, 4: 0.55}, tau : None, Samples : 548",
          "n332, Class: {1: 0.07, 2: 0.03, 3: 0.56, 4: 0.34}, tau : None, Samples : 701",
          "n333, Class: {1: 0.04, 2: 0.01, 3: 0.47, 4: 0.49}, tau : None, Samples : 512",
          "n168, Class: {1: 0.05, 2: 0.02, 3: 0.11, 4: 0.81}, tau : None, Samples : 1165",
          "n1353, Class: {1: 0.04, 2: 0.02, 3: 0.21, 4: 0.73}, tau : None, Samples : 517",
          "n2704, Class: {1: 0.12, 2: 0.02, 3: 0.58, 4: 0.28}, tau : None, Samples : 976",
          "n2705, Class: {1: 0.07, 2: 0.01, 3: 0.4, 4: 0.52}, tau : None, Samples : 572",
          "n7, Class: {1: 0.1, 2: 0.05, 3: 0.77, 4: 0.09}, tau : None, Samples : 16307",
          "n1, car_ownership in ('car_ownership0',), Class:{1: 0.18, 2: 0.03, 3: 0.35, 4: 0.44}, tau : 0.89, Samples: 76103",
          "n2, distance_group in ('distance04', 'distance05', 'distance06', 'distance07', 'distance08', 'distance09', 'distance10', 'distance11'), Class:{1: 0.14, 2: 0.02, 3: 0.24, 4: 0.59}, tau : 0.92, Samples: 53924",
          "n4, distance_group in ('distance01',), Class:{1: 0.48, 2: 0.03, 3: 0.05, 4: 0.43}, tau : 0.99, Samples: 11453",
          "n8, day_of_week in ('day_of_week6', 'day_of_week7'), Class:{1: 0.38, 2: 0.03, 3: 0.07, 4: 0.52}, tau : 0.87, Samples: 7825",
          "n16, trafficperc_group in ('1mediumlow_traffic', '2medium_traffic', '3mediumhigh_traffic', '4high_traffic'), Class:{1: 0.39, 2: 0.03, 3: 0.08, 4: 0.51}, tau : 0.82, Samples: 5823",
          "n32, starttime_group in ('evening',), Class:{1: 0.36, 2: 0.03, 3: 0.06, 4: 0.55}, tau : 0.98, Samples: 3914",
          "n64, driving_license in ('driving_license1',), Class:{1: 0.37, 2: 0.03, 3: 0.07, 4: 0.53}, tau : 0.89, Samples: 3372",
          "n128, Class: {1: 0.52, 2: 0.02, 3: 0.13, 4: 0.33}, tau : None, Samples : 1180",
          "n129, Class: {1: 0.29, 2: 0.03, 3: 0.04, 4: 0.64}, tau : None, Samples : 2192",
          "n33, starttime_group in ('afternoon',), Class:{1: 0.45, 2: 0.03, 3: 0.12, 4: 0.41}, tau : 0.76, Samples: 1909",
          "n17, Class: {1: 0.35, 2: 0.03, 3: 0.05, 4: 0.57}, tau : None, Samples : 2002",
          "n5, drivingcharge_group in ('high_charge',), Class:{1: 0.05, 2: 0.02, 3: 0.3, 4: 0.63}, tau : 1.2, Samples: 42471",
          "n10, trafficperc_group in ('0low_traffic', '1mediumlow_traffic'), Class:{1: 0.05, 2: 0.02, 3: 0.24, 4: 0.69}, tau : 1.06, Samples: 38446",
          "n20, faretype in ('faretype1', 'faretype2', 'faretype3', 'faretype4'), Class:{1: 0.03, 2: 0.03, 3: 0.39, 4: 0.55}, tau : 0.94, Samples: 13067",
          "n40, Class: {1: 0.03, 2: 0.01, 3: 0.34, 4: 0.61}, tau : None, Samples : 2562",
          "n41, driving_license in ('driving_license0',), Class:{1: 0.03, 2: 0.03, 3: 0.4, 4: 0.53}, tau : 0.98, Samples: 10505",
          "n82, cost_group in ('high_cost', 'medium_cost'), Class:{1: 0.03, 2: 0.03, 3: 0.34, 4: 0.6}, tau : 1.0, Samples: 8188",
          "n164, Class: {1: 0.07, 2: 0.04, 3: 0.19, 4: 0.69}, tau : None, Samples : 2716",
          "n165, day_of_week in ('day_of_week1', 'day_of_week2', 'day_of_week3', 'day_of_week4', 'day_of_week5'), Class:{1: 0.01, 2: 0.03, 3: 0.41, 4: 0.55}, tau : 1.0, Samples: 5472",
          "n330, Class: {1: 0.02, 2: 0.01, 3: 0.3, 4: 0.67}, tau : None, Samples : 1269",
          "n331, trafficperc_group in ('2medium_traffic',), Class:{1: 0.01, 2: 0.03, 3: 0.44, 4: 0.52}, tau : 1.0, Samples: 4203",
          "n662, purpose in ('purpose2', 'purpose3', 'purpose4', 'purpose5'), Class:{1: 0.01, 2: 0.04, 3: 0.53, 4: 0.42}, tau : 0.95, Samples: 2423",
          "n1325, trafficperc_group in ('3mediumhigh_traffic',), Class:{1: 0.02, 2: 0.03, 3: 0.46, 4: 0.5}, tau : 0.93, Samples: 1289",
          "n663, Class: {1: 0.01, 2: 0.02, 3: 0.31, 4: 0.66}, tau : None, Samples : 1780",
          "n83, purpose in ('purpose1', 'purpose2', 'purpose4'), Class:{1: 0.05, 2: 0.02, 3: 0.65, 4: 0.29}, tau : 1.08, Samples: 2317",
          "n166, bus_scale in ('bus_scale0.0',), Class:{1: 0.06, 2: 0.02, 3: 0.52, 4: 0.4}, tau : 0.89, Samples: 1213",
          "n167, Class: {1: 0.04, 2: 0.02, 3: 0.78, 4: 0.16}, tau : None, Samples : 1104",
          "n21, age_group in ('age_group31-65',), Class:{1: 0.06, 2: 0.02, 3: 0.16, 4: 0.76}, tau : 1.21, Samples: 25379",
          "n42, starttime_group in ('evening', 'morning'), Class:{1: 0.06, 2: 0.02, 3: 0.23, 4: 0.69}, tau : 1.12, Samples: 11113",
          "n84, day_of_week in ('day_of_week1', 'day_of_week2', 'day_of_week3', 'day_of_week4', 'day_of_week5', 'day_of_week6'), Class:{1: 0.06, 2: 0.02, 3: 0.25, 4: 0.67}, tau : 1.17, Samples: 7861",
          "n169, age_group in ('age_group66+',), Class:{1: 0.06, 2: 0.02, 3: 0.28, 4: 0.64}, tau : 1.05, Samples: 6696",
          "n338, purpose in ('purpose3', 'purpose5'), Class:{1: 0.08, 2: 0.02, 3: 0.31, 4: 0.6}, tau : 0.96, Samples: 4652",
          "n676, driving_license in ('driving_license1',), Class:{1: 0.08, 2: 0.02, 3: 0.44, 4: 0.46}, tau : 0.99, Samples: 2065",
          "n1352, car_ownership in ('car_ownership2',), Class:{1: 0.1, 2: 0.02, 3: 0.51, 4: 0.37}, tau : 0.87, Samples: 1548",
          "n677, Class: {1: 0.07, 2: 0.02, 3: 0.2, 4: 0.71}, tau : None, Samples : 2587",
          "n339, Class: {1: 0.03, 2: 0.01, 3: 0.22, 4: 0.74}, tau : None, Samples : 2044",
          "n85, Class: {1: 0.05, 2: 0.02, 3: 0.16, 4: 0.76}, tau : None, Samples : 3252",
          "n43, Class: {1: 0.05, 2: 0.02, 3: 0.11, 4: 0.81}, tau : None, Samples : 14266",
          "n11, Class: {1: 0.03, 2: 0.04, 3: 0.81, 4: 0.12}, tau : None, Samples : 4025",
          "n3, distance_group in ('distance04', 'distance05', 'distance06', 'distance07', 'distance08', 'distance09', 'distance10', 'distance11'), Class:{1: 0.26, 2: 0.04, 3: 0.62, 4: 0.08}, tau : 1.18, Samples: 22179",
          "n6, Class: {1: 0.73, 2: 0.03, 3: 0.2, 4: 0.05}, tau : None, Samples : 5872"
         ],
         "type": "scatter",
         "x": [
          -403.80859375,
          -739.80859375,
          -707.80859375,
          -675.80859375,
          -186.80859375,
          -185.30859375,
          -184.30859375,
          -175.80859375,
          -167.80859375,
          -139.80859375,
          -129.80859375,
          -131.30859375,
          -130.30859375,
          436.69140625,
          0,
          -308.69140625,
          -531.80859375,
          -659.80859375,
          -723.80859375,
          -755.80859375,
          -771.80859375,
          -779.80859375,
          -763.80859375,
          -691.80859375,
          -595.80859375,
          -85.57421875,
          -159.83984375,
          -211.80859375,
          -243.80859375,
          -179.80859375,
          -195.80859375,
          -203.80859375,
          -187.80859375,
          -191.80859375,
          -183.80859375,
          -185.80859375,
          -184.80859375,
          -181.80859375,
          -163.80859375,
          -171.80859375,
          -155.80859375,
          -107.87109375,
          -124.43359375,
          -133.55859375,
          -127.30859375,
          -129.30859375,
          -130.30859375,
          -130.80859375,
          -128.30859375,
          -125.30859375,
          -115.30859375,
          -91.30859375,
          -11.30859375,
          308.69140625,
          180.69140625
         ],
         "y": [
          7,
          4,
          4,
          4,
          0,
          -1,
          -1,
          2,
          2,
          3,
          0,
          -1,
          -1,
          8,
          10,
          9,
          8,
          7,
          6,
          5,
          4,
          3,
          3,
          5,
          6,
          8,
          7,
          6,
          5,
          5,
          4,
          3,
          3,
          2,
          2,
          1,
          0,
          1,
          4,
          3,
          3,
          6,
          5,
          4,
          3,
          2,
          1,
          0,
          1,
          2,
          4,
          5,
          7,
          9,
          8
         ]
        }
       ],
       "layout": {
        "margin": {
         "b": 0,
         "l": 0,
         "r": 0,
         "t": 0
        },
        "plot_bgcolor": "rgba(0, 0, 0, 0)",
        "template": {
         "data": {
          "bar": [
           {
            "error_x": {
             "color": "#2a3f5f"
            },
            "error_y": {
             "color": "#2a3f5f"
            },
            "marker": {
             "line": {
              "color": "#E5ECF6",
              "width": 0.5
             },
             "pattern": {
              "fillmode": "overlay",
              "size": 10,
              "solidity": 0.2
             }
            },
            "type": "bar"
           }
          ],
          "barpolar": [
           {
            "marker": {
             "line": {
              "color": "#E5ECF6",
              "width": 0.5
             },
             "pattern": {
              "fillmode": "overlay",
              "size": 10,
              "solidity": 0.2
             }
            },
            "type": "barpolar"
           }
          ],
          "carpet": [
           {
            "aaxis": {
             "endlinecolor": "#2a3f5f",
             "gridcolor": "white",
             "linecolor": "white",
             "minorgridcolor": "white",
             "startlinecolor": "#2a3f5f"
            },
            "baxis": {
             "endlinecolor": "#2a3f5f",
             "gridcolor": "white",
             "linecolor": "white",
             "minorgridcolor": "white",
             "startlinecolor": "#2a3f5f"
            },
            "type": "carpet"
           }
          ],
          "choropleth": [
           {
            "colorbar": {
             "outlinewidth": 0,
             "ticks": ""
            },
            "type": "choropleth"
           }
          ],
          "contour": [
           {
            "colorbar": {
             "outlinewidth": 0,
             "ticks": ""
            },
            "colorscale": [
             [
              0,
              "#0d0887"
             ],
             [
              0.1111111111111111,
              "#46039f"
             ],
             [
              0.2222222222222222,
              "#7201a8"
             ],
             [
              0.3333333333333333,
              "#9c179e"
             ],
             [
              0.4444444444444444,
              "#bd3786"
             ],
             [
              0.5555555555555556,
              "#d8576b"
             ],
             [
              0.6666666666666666,
              "#ed7953"
             ],
             [
              0.7777777777777778,
              "#fb9f3a"
             ],
             [
              0.8888888888888888,
              "#fdca26"
             ],
             [
              1,
              "#f0f921"
             ]
            ],
            "type": "contour"
           }
          ],
          "contourcarpet": [
           {
            "colorbar": {
             "outlinewidth": 0,
             "ticks": ""
            },
            "type": "contourcarpet"
           }
          ],
          "heatmap": [
           {
            "colorbar": {
             "outlinewidth": 0,
             "ticks": ""
            },
            "colorscale": [
             [
              0,
              "#0d0887"
             ],
             [
              0.1111111111111111,
              "#46039f"
             ],
             [
              0.2222222222222222,
              "#7201a8"
             ],
             [
              0.3333333333333333,
              "#9c179e"
             ],
             [
              0.4444444444444444,
              "#bd3786"
             ],
             [
              0.5555555555555556,
              "#d8576b"
             ],
             [
              0.6666666666666666,
              "#ed7953"
             ],
             [
              0.7777777777777778,
              "#fb9f3a"
             ],
             [
              0.8888888888888888,
              "#fdca26"
             ],
             [
              1,
              "#f0f921"
             ]
            ],
            "type": "heatmap"
           }
          ],
          "heatmapgl": [
           {
            "colorbar": {
             "outlinewidth": 0,
             "ticks": ""
            },
            "colorscale": [
             [
              0,
              "#0d0887"
             ],
             [
              0.1111111111111111,
              "#46039f"
             ],
             [
              0.2222222222222222,
              "#7201a8"
             ],
             [
              0.3333333333333333,
              "#9c179e"
             ],
             [
              0.4444444444444444,
              "#bd3786"
             ],
             [
              0.5555555555555556,
              "#d8576b"
             ],
             [
              0.6666666666666666,
              "#ed7953"
             ],
             [
              0.7777777777777778,
              "#fb9f3a"
             ],
             [
              0.8888888888888888,
              "#fdca26"
             ],
             [
              1,
              "#f0f921"
             ]
            ],
            "type": "heatmapgl"
           }
          ],
          "histogram": [
           {
            "marker": {
             "pattern": {
              "fillmode": "overlay",
              "size": 10,
              "solidity": 0.2
             }
            },
            "type": "histogram"
           }
          ],
          "histogram2d": [
           {
            "colorbar": {
             "outlinewidth": 0,
             "ticks": ""
            },
            "colorscale": [
             [
              0,
              "#0d0887"
             ],
             [
              0.1111111111111111,
              "#46039f"
             ],
             [
              0.2222222222222222,
              "#7201a8"
             ],
             [
              0.3333333333333333,
              "#9c179e"
             ],
             [
              0.4444444444444444,
              "#bd3786"
             ],
             [
              0.5555555555555556,
              "#d8576b"
             ],
             [
              0.6666666666666666,
              "#ed7953"
             ],
             [
              0.7777777777777778,
              "#fb9f3a"
             ],
             [
              0.8888888888888888,
              "#fdca26"
             ],
             [
              1,
              "#f0f921"
             ]
            ],
            "type": "histogram2d"
           }
          ],
          "histogram2dcontour": [
           {
            "colorbar": {
             "outlinewidth": 0,
             "ticks": ""
            },
            "colorscale": [
             [
              0,
              "#0d0887"
             ],
             [
              0.1111111111111111,
              "#46039f"
             ],
             [
              0.2222222222222222,
              "#7201a8"
             ],
             [
              0.3333333333333333,
              "#9c179e"
             ],
             [
              0.4444444444444444,
              "#bd3786"
             ],
             [
              0.5555555555555556,
              "#d8576b"
             ],
             [
              0.6666666666666666,
              "#ed7953"
             ],
             [
              0.7777777777777778,
              "#fb9f3a"
             ],
             [
              0.8888888888888888,
              "#fdca26"
             ],
             [
              1,
              "#f0f921"
             ]
            ],
            "type": "histogram2dcontour"
           }
          ],
          "mesh3d": [
           {
            "colorbar": {
             "outlinewidth": 0,
             "ticks": ""
            },
            "type": "mesh3d"
           }
          ],
          "parcoords": [
           {
            "line": {
             "colorbar": {
              "outlinewidth": 0,
              "ticks": ""
             }
            },
            "type": "parcoords"
           }
          ],
          "pie": [
           {
            "automargin": true,
            "type": "pie"
           }
          ],
          "scatter": [
           {
            "fillpattern": {
             "fillmode": "overlay",
             "size": 10,
             "solidity": 0.2
            },
            "type": "scatter"
           }
          ],
          "scatter3d": [
           {
            "line": {
             "colorbar": {
              "outlinewidth": 0,
              "ticks": ""
             }
            },
            "marker": {
             "colorbar": {
              "outlinewidth": 0,
              "ticks": ""
             }
            },
            "type": "scatter3d"
           }
          ],
          "scattercarpet": [
           {
            "marker": {
             "colorbar": {
              "outlinewidth": 0,
              "ticks": ""
             }
            },
            "type": "scattercarpet"
           }
          ],
          "scattergeo": [
           {
            "marker": {
             "colorbar": {
              "outlinewidth": 0,
              "ticks": ""
             }
            },
            "type": "scattergeo"
           }
          ],
          "scattergl": [
           {
            "marker": {
             "colorbar": {
              "outlinewidth": 0,
              "ticks": ""
             }
            },
            "type": "scattergl"
           }
          ],
          "scattermapbox": [
           {
            "marker": {
             "colorbar": {
              "outlinewidth": 0,
              "ticks": ""
             }
            },
            "type": "scattermapbox"
           }
          ],
          "scatterpolar": [
           {
            "marker": {
             "colorbar": {
              "outlinewidth": 0,
              "ticks": ""
             }
            },
            "type": "scatterpolar"
           }
          ],
          "scatterpolargl": [
           {
            "marker": {
             "colorbar": {
              "outlinewidth": 0,
              "ticks": ""
             }
            },
            "type": "scatterpolargl"
           }
          ],
          "scatterternary": [
           {
            "marker": {
             "colorbar": {
              "outlinewidth": 0,
              "ticks": ""
             }
            },
            "type": "scatterternary"
           }
          ],
          "surface": [
           {
            "colorbar": {
             "outlinewidth": 0,
             "ticks": ""
            },
            "colorscale": [
             [
              0,
              "#0d0887"
             ],
             [
              0.1111111111111111,
              "#46039f"
             ],
             [
              0.2222222222222222,
              "#7201a8"
             ],
             [
              0.3333333333333333,
              "#9c179e"
             ],
             [
              0.4444444444444444,
              "#bd3786"
             ],
             [
              0.5555555555555556,
              "#d8576b"
             ],
             [
              0.6666666666666666,
              "#ed7953"
             ],
             [
              0.7777777777777778,
              "#fb9f3a"
             ],
             [
              0.8888888888888888,
              "#fdca26"
             ],
             [
              1,
              "#f0f921"
             ]
            ],
            "type": "surface"
           }
          ],
          "table": [
           {
            "cells": {
             "fill": {
              "color": "#EBF0F8"
             },
             "line": {
              "color": "white"
             }
            },
            "header": {
             "fill": {
              "color": "#C8D4E3"
             },
             "line": {
              "color": "white"
             }
            },
            "type": "table"
           }
          ]
         },
         "layout": {
          "annotationdefaults": {
           "arrowcolor": "#2a3f5f",
           "arrowhead": 0,
           "arrowwidth": 1
          },
          "autotypenumbers": "strict",
          "coloraxis": {
           "colorbar": {
            "outlinewidth": 0,
            "ticks": ""
           }
          },
          "colorscale": {
           "diverging": [
            [
             0,
             "#8e0152"
            ],
            [
             0.1,
             "#c51b7d"
            ],
            [
             0.2,
             "#de77ae"
            ],
            [
             0.3,
             "#f1b6da"
            ],
            [
             0.4,
             "#fde0ef"
            ],
            [
             0.5,
             "#f7f7f7"
            ],
            [
             0.6,
             "#e6f5d0"
            ],
            [
             0.7,
             "#b8e186"
            ],
            [
             0.8,
             "#7fbc41"
            ],
            [
             0.9,
             "#4d9221"
            ],
            [
             1,
             "#276419"
            ]
           ],
           "sequential": [
            [
             0,
             "#0d0887"
            ],
            [
             0.1111111111111111,
             "#46039f"
            ],
            [
             0.2222222222222222,
             "#7201a8"
            ],
            [
             0.3333333333333333,
             "#9c179e"
            ],
            [
             0.4444444444444444,
             "#bd3786"
            ],
            [
             0.5555555555555556,
             "#d8576b"
            ],
            [
             0.6666666666666666,
             "#ed7953"
            ],
            [
             0.7777777777777778,
             "#fb9f3a"
            ],
            [
             0.8888888888888888,
             "#fdca26"
            ],
            [
             1,
             "#f0f921"
            ]
           ],
           "sequentialminus": [
            [
             0,
             "#0d0887"
            ],
            [
             0.1111111111111111,
             "#46039f"
            ],
            [
             0.2222222222222222,
             "#7201a8"
            ],
            [
             0.3333333333333333,
             "#9c179e"
            ],
            [
             0.4444444444444444,
             "#bd3786"
            ],
            [
             0.5555555555555556,
             "#d8576b"
            ],
            [
             0.6666666666666666,
             "#ed7953"
            ],
            [
             0.7777777777777778,
             "#fb9f3a"
            ],
            [
             0.8888888888888888,
             "#fdca26"
            ],
            [
             1,
             "#f0f921"
            ]
           ]
          },
          "colorway": [
           "#636efa",
           "#EF553B",
           "#00cc96",
           "#ab63fa",
           "#FFA15A",
           "#19d3f3",
           "#FF6692",
           "#B6E880",
           "#FF97FF",
           "#FECB52"
          ],
          "font": {
           "color": "#2a3f5f"
          },
          "geo": {
           "bgcolor": "white",
           "lakecolor": "white",
           "landcolor": "#E5ECF6",
           "showlakes": true,
           "showland": true,
           "subunitcolor": "white"
          },
          "hoverlabel": {
           "align": "left"
          },
          "hovermode": "closest",
          "mapbox": {
           "style": "light"
          },
          "paper_bgcolor": "white",
          "plot_bgcolor": "#E5ECF6",
          "polar": {
           "angularaxis": {
            "gridcolor": "white",
            "linecolor": "white",
            "ticks": ""
           },
           "bgcolor": "#E5ECF6",
           "radialaxis": {
            "gridcolor": "white",
            "linecolor": "white",
            "ticks": ""
           }
          },
          "scene": {
           "xaxis": {
            "backgroundcolor": "#E5ECF6",
            "gridcolor": "white",
            "gridwidth": 2,
            "linecolor": "white",
            "showbackground": true,
            "ticks": "",
            "zerolinecolor": "white"
           },
           "yaxis": {
            "backgroundcolor": "#E5ECF6",
            "gridcolor": "white",
            "gridwidth": 2,
            "linecolor": "white",
            "showbackground": true,
            "ticks": "",
            "zerolinecolor": "white"
           },
           "zaxis": {
            "backgroundcolor": "#E5ECF6",
            "gridcolor": "white",
            "gridwidth": 2,
            "linecolor": "white",
            "showbackground": true,
            "ticks": "",
            "zerolinecolor": "white"
           }
          },
          "shapedefaults": {
           "line": {
            "color": "#2a3f5f"
           }
          },
          "ternary": {
           "aaxis": {
            "gridcolor": "white",
            "linecolor": "white",
            "ticks": ""
           },
           "baxis": {
            "gridcolor": "white",
            "linecolor": "white",
            "ticks": ""
           },
           "bgcolor": "#E5ECF6",
           "caxis": {
            "gridcolor": "white",
            "linecolor": "white",
            "ticks": ""
           }
          },
          "title": {
           "x": 0.05
          },
          "xaxis": {
           "automargin": true,
           "gridcolor": "white",
           "linecolor": "white",
           "ticks": "",
           "title": {
            "standoff": 15
           },
           "zerolinecolor": "white",
           "zerolinewidth": 2
          },
          "yaxis": {
           "automargin": true,
           "gridcolor": "white",
           "linecolor": "white",
           "ticks": "",
           "title": {
            "standoff": 15
           },
           "zerolinecolor": "white",
           "zerolinewidth": 2
          }
         }
        },
        "xaxis": {
         "showticklabels": false,
         "visible": false
        },
        "yaxis": {
         "showticklabels": true,
         "visible": false
        }
       }
      }
     },
     "metadata": {},
     "output_type": "display_data"
    }
   ],
   "source": [
    "\n",
    "#import warnings\n",
    "#warnings.filterwarnings(\"ignore\", category=FutureWarning) \n",
    "\n",
    "\n",
    "tree.print_tree(table = False, html = False, merge_leaves = True)#.style.hide()\n",
    "\n"
   ]
  },
  {
   "cell_type": "code",
   "execution_count": 20,
   "metadata": {},
   "outputs": [
    {
     "data": {
      "text/html": [
       "<div>\n",
       "<style scoped>\n",
       "    .dataframe tbody tr th:only-of-type {\n",
       "        vertical-align: middle;\n",
       "    }\n",
       "\n",
       "    .dataframe tbody tr th {\n",
       "        vertical-align: top;\n",
       "    }\n",
       "\n",
       "    .dataframe thead th {\n",
       "        text-align: right;\n",
       "    }\n",
       "</style>\n",
       "<table border=\"1\" class=\"dataframe\">\n",
       "  <thead>\n",
       "    <tr style=\"text-align: right;\">\n",
       "      <th></th>\n",
       "      <th>purpose</th>\n",
       "      <th>fueltype</th>\n",
       "      <th>faretype</th>\n",
       "      <th>bus_scale</th>\n",
       "      <th>travel_month</th>\n",
       "      <th>day_of_week</th>\n",
       "      <th>female</th>\n",
       "      <th>driving_license</th>\n",
       "      <th>car_ownership</th>\n",
       "      <th>pt_interchanges</th>\n",
       "      <th>age_group</th>\n",
       "      <th>distance_group</th>\n",
       "      <th>starttime_group</th>\n",
       "      <th>cost_group</th>\n",
       "      <th>costdrivingfuel_group</th>\n",
       "      <th>trafficperc_group</th>\n",
       "      <th>drivingcharge_group</th>\n",
       "    </tr>\n",
       "  </thead>\n",
       "  <tbody>\n",
       "    <tr>\n",
       "      <th>76103</th>\n",
       "      <td>purpose3</td>\n",
       "      <td>fueltype1</td>\n",
       "      <td>faretype1</td>\n",
       "      <td>bus_scale1.0</td>\n",
       "      <td>travel_month1</td>\n",
       "      <td>day_of_week4</td>\n",
       "      <td>female1</td>\n",
       "      <td>driving_license0</td>\n",
       "      <td>car_ownership1</td>\n",
       "      <td>pt_interchanges1</td>\n",
       "      <td>age_group19-30</td>\n",
       "      <td>distance07</td>\n",
       "      <td>morning</td>\n",
       "      <td>medium_cost</td>\n",
       "      <td>costdrivingfuelgroup7</td>\n",
       "      <td>1mediumlow_traffic</td>\n",
       "      <td>low_charge</td>\n",
       "    </tr>\n",
       "    <tr>\n",
       "      <th>76104</th>\n",
       "      <td>purpose3</td>\n",
       "      <td>fueltype1</td>\n",
       "      <td>faretype1</td>\n",
       "      <td>bus_scale1.0</td>\n",
       "      <td>travel_month1</td>\n",
       "      <td>day_of_week4</td>\n",
       "      <td>female1</td>\n",
       "      <td>driving_license0</td>\n",
       "      <td>car_ownership1</td>\n",
       "      <td>pt_interchanges1</td>\n",
       "      <td>age_group19-30</td>\n",
       "      <td>distance07</td>\n",
       "      <td>afternoon</td>\n",
       "      <td>medium_cost</td>\n",
       "      <td>costdrivingfuelgroup7</td>\n",
       "      <td>1mediumlow_traffic</td>\n",
       "      <td>low_charge</td>\n",
       "    </tr>\n",
       "    <tr>\n",
       "      <th>76105</th>\n",
       "      <td>purpose3</td>\n",
       "      <td>fueltype1</td>\n",
       "      <td>faretype1</td>\n",
       "      <td>bus_scale1.0</td>\n",
       "      <td>travel_month1</td>\n",
       "      <td>day_of_week4</td>\n",
       "      <td>female0</td>\n",
       "      <td>driving_license1</td>\n",
       "      <td>car_ownership1</td>\n",
       "      <td>pt_interchanges1</td>\n",
       "      <td>age_group31-65</td>\n",
       "      <td>distance07</td>\n",
       "      <td>morning</td>\n",
       "      <td>medium_cost</td>\n",
       "      <td>costdrivingfuelgroup7</td>\n",
       "      <td>1mediumlow_traffic</td>\n",
       "      <td>low_charge</td>\n",
       "    </tr>\n",
       "    <tr>\n",
       "      <th>76106</th>\n",
       "      <td>purpose3</td>\n",
       "      <td>fueltype1</td>\n",
       "      <td>faretype1</td>\n",
       "      <td>bus_scale1.0</td>\n",
       "      <td>travel_month1</td>\n",
       "      <td>day_of_week4</td>\n",
       "      <td>female0</td>\n",
       "      <td>driving_license1</td>\n",
       "      <td>car_ownership1</td>\n",
       "      <td>pt_interchanges1</td>\n",
       "      <td>age_group31-65</td>\n",
       "      <td>distance07</td>\n",
       "      <td>afternoon</td>\n",
       "      <td>medium_cost</td>\n",
       "      <td>costdrivingfuelgroup7</td>\n",
       "      <td>1mediumlow_traffic</td>\n",
       "      <td>low_charge</td>\n",
       "    </tr>\n",
       "    <tr>\n",
       "      <th>76107</th>\n",
       "      <td>purpose5</td>\n",
       "      <td>fueltype1</td>\n",
       "      <td>faretype1</td>\n",
       "      <td>bus_scale1.0</td>\n",
       "      <td>travel_month1</td>\n",
       "      <td>day_of_week4</td>\n",
       "      <td>female0</td>\n",
       "      <td>driving_license1</td>\n",
       "      <td>car_ownership2</td>\n",
       "      <td>pt_interchanges0</td>\n",
       "      <td>age_group31-65</td>\n",
       "      <td>distance06</td>\n",
       "      <td>afternoon</td>\n",
       "      <td>low_cost</td>\n",
       "      <td>costdrivingfuelgroup7</td>\n",
       "      <td>0low_traffic</td>\n",
       "      <td>low_charge</td>\n",
       "    </tr>\n",
       "  </tbody>\n",
       "</table>\n",
       "</div>"
      ],
      "text/plain": [
       "        purpose   fueltype   faretype     bus_scale   travel_month  \\\n",
       "76103  purpose3  fueltype1  faretype1  bus_scale1.0  travel_month1   \n",
       "76104  purpose3  fueltype1  faretype1  bus_scale1.0  travel_month1   \n",
       "76105  purpose3  fueltype1  faretype1  bus_scale1.0  travel_month1   \n",
       "76106  purpose3  fueltype1  faretype1  bus_scale1.0  travel_month1   \n",
       "76107  purpose5  fueltype1  faretype1  bus_scale1.0  travel_month1   \n",
       "\n",
       "        day_of_week   female   driving_license   car_ownership  \\\n",
       "76103  day_of_week4  female1  driving_license0  car_ownership1   \n",
       "76104  day_of_week4  female1  driving_license0  car_ownership1   \n",
       "76105  day_of_week4  female0  driving_license1  car_ownership1   \n",
       "76106  day_of_week4  female0  driving_license1  car_ownership1   \n",
       "76107  day_of_week4  female0  driving_license1  car_ownership2   \n",
       "\n",
       "        pt_interchanges       age_group distance_group starttime_group  \\\n",
       "76103  pt_interchanges1  age_group19-30     distance07         morning   \n",
       "76104  pt_interchanges1  age_group19-30     distance07       afternoon   \n",
       "76105  pt_interchanges1  age_group31-65     distance07         morning   \n",
       "76106  pt_interchanges1  age_group31-65     distance07       afternoon   \n",
       "76107  pt_interchanges0  age_group31-65     distance06       afternoon   \n",
       "\n",
       "        cost_group  costdrivingfuel_group   trafficperc_group  \\\n",
       "76103  medium_cost  costdrivingfuelgroup7  1mediumlow_traffic   \n",
       "76104  medium_cost  costdrivingfuelgroup7  1mediumlow_traffic   \n",
       "76105  medium_cost  costdrivingfuelgroup7  1mediumlow_traffic   \n",
       "76106  medium_cost  costdrivingfuelgroup7  1mediumlow_traffic   \n",
       "76107     low_cost  costdrivingfuelgroup7        0low_traffic   \n",
       "\n",
       "      drivingcharge_group  \n",
       "76103          low_charge  \n",
       "76104          low_charge  \n",
       "76105          low_charge  \n",
       "76106          low_charge  \n",
       "76107          low_charge  "
      ]
     },
     "execution_count": 20,
     "metadata": {},
     "output_type": "execute_result"
    }
   ],
   "source": [
    "X_test = X_test.copy()\n",
    "y_test = y_test.copy()\n",
    "\n",
    "X_test['purpose'] = 'purpose' + X_test['purpose'].astype(str)\n",
    "X_test['fueltype'] = 'fueltype' + X_test['fueltype'].astype(str)\n",
    "X_test['faretype'] = 'faretype' + X_test['faretype'].astype(str)\n",
    "X_test['bus_scale'] = 'bus_scale' + X_test['bus_scale'].astype(str)\n",
    "X_test['travel_month'] = 'travel_month' + X_test['travel_month'].astype(str)\n",
    "X_test['day_of_week'] = 'day_of_week' + X_test['day_of_week'].astype(str)\n",
    "X_test['female'] = 'female' + X_test['female'].astype(str)\n",
    "X_test['driving_license'] = 'driving_license' + X_test['driving_license'].astype(str)\n",
    "X_test['car_ownership'] = 'car_ownership' + X_test['car_ownership'].astype(str)\n",
    "X_test['pt_interchanges'] = 'pt_interchanges' + X_test['pt_interchanges'].astype(str)\n",
    "X_test['age_group'] = 'age_group' + X_test['age_group'].astype(str)\n",
    "\n",
    "X_test.head()"
   ]
  },
  {
   "cell_type": "code",
   "execution_count": 21,
   "metadata": {},
   "outputs": [],
   "source": [
    "n_features_test = X_test.copy()\n",
    "features_test = []\n",
    "\n",
    "n_features_test.reset_index(inplace = True, drop = True)\n",
    "y_test.reset_index(inplace = True, drop = True)\n",
    "y_test_list = y_test[\"travel_mode\"].values.tolist()\n"
   ]
  },
  {
   "cell_type": "markdown",
   "metadata": {},
   "source": [
    "pruning not prepared for combination "
   ]
  },
  {
   "cell_type": "code",
   "execution_count": 22,
   "metadata": {},
   "outputs": [
    {
     "data": {
      "text/plain": [
       "travel_mode\n",
       "4    2213\n",
       "3    1738\n",
       "1     901\n",
       "2     131\n",
       "Name: count, dtype: int64"
      ]
     },
     "execution_count": 22,
     "metadata": {},
     "output_type": "execute_result"
    }
   ],
   "source": [
    "y_test['travel_mode'].value_counts()"
   ]
  },
  {
   "cell_type": "markdown",
   "metadata": {},
   "source": [
    "takes a whle for comb to prune, 100min"
   ]
  },
  {
   "cell_type": "code",
   "execution_count": 23,
   "metadata": {},
   "outputs": [],
   "source": [
    "y_test = np.asarray(y_test)#.to_numpy()\n",
    "#features = features.to_numpy()\n",
    "\n",
    "\n",
    "arr_ip = [tuple(i) for i in n_features_test.values]\n",
    "dtyp = np.dtype(list(zip(n_features_test.dtypes.index, n_features_test.dtypes)))\n",
    "\n",
    "n_features_test = np.array(arr_ip, dtype=dtyp)"
   ]
  },
  {
   "cell_type": "code",
   "execution_count": 24,
   "metadata": {},
   "outputs": [
    {
     "name": "stdout",
     "output_type": "stream",
     "text": [
      "Best tree for test set has 17 leaves with misclassification count 1337 \n"
     ]
    },
    {
     "data": {
      "application/vnd.plotly.v1+json": {
       "config": {
        "plotlyServerURL": "https://plot.ly"
       },
       "data": [
        {
         "hoverinfo": "none",
         "line": {
          "color": "rgb(210,210,210)",
          "width": 1
         },
         "mode": "lines",
         "type": "scatter",
         "x": [
          0,
          -150.119140625,
          null,
          0,
          150.119140625,
          null,
          -150.119140625,
          -256.380859375,
          null,
          -150.119140625,
          -43.857421875,
          null,
          150.119140625,
          86.119140625,
          null,
          150.119140625,
          214.119140625,
          null,
          -256.380859375,
          -320.380859375,
          null,
          -256.380859375,
          -192.380859375,
          null,
          -43.857421875,
          -77.833984375,
          null,
          -43.857421875,
          -9.880859375,
          null,
          -320.380859375,
          -352.380859375,
          null,
          -320.380859375,
          -288.380859375,
          null,
          -77.833984375,
          -97.787109375,
          null,
          -77.833984375,
          -57.880859375,
          null,
          -352.380859375,
          -368.380859375,
          null,
          -352.380859375,
          -336.380859375,
          null,
          -97.787109375,
          -112.380859375,
          null,
          -97.787109375,
          -83.193359375,
          null,
          -368.380859375,
          -376.380859375,
          null,
          -368.380859375,
          -360.380859375,
          null,
          -83.193359375,
          -88.505859375,
          null,
          -83.193359375,
          -77.880859375,
          null,
          -376.380859375,
          -380.380859375,
          null,
          -376.380859375,
          -372.380859375,
          null,
          -88.505859375,
          -92.380859375,
          null,
          -88.505859375,
          -84.630859375,
          null,
          -84.630859375,
          -86.380859375,
          null,
          -84.630859375,
          -82.880859375,
          null,
          -82.880859375,
          -83.380859375,
          null,
          -82.880859375,
          -82.380859375,
          null,
          -83.380859375,
          -83.880859375,
          null,
          -83.380859375,
          -82.880859375,
          null
         ],
         "y": [
          10,
          9,
          null,
          10,
          9,
          null,
          9,
          8,
          null,
          9,
          8,
          null,
          9,
          8,
          null,
          9,
          8,
          null,
          8,
          7,
          null,
          8,
          7,
          null,
          8,
          7,
          null,
          8,
          7,
          null,
          7,
          6,
          null,
          7,
          6,
          null,
          7,
          6,
          null,
          7,
          6,
          null,
          6,
          5,
          null,
          6,
          5,
          null,
          6,
          5,
          null,
          6,
          5,
          null,
          5,
          4,
          null,
          5,
          4,
          null,
          5,
          4,
          null,
          5,
          4,
          null,
          4,
          3,
          null,
          4,
          3,
          null,
          4,
          3,
          null,
          4,
          3,
          null,
          3,
          2,
          null,
          3,
          2,
          null,
          2,
          1,
          null,
          2,
          1,
          null,
          1,
          0,
          null,
          1,
          0,
          null
         ]
        },
        {
         "hoverinfo": "text",
         "marker": {
          "color": "#6175c1",
          "line": {
           "color": "rgb(50,50,50)",
           "width": 1
          },
          "size": 18,
          "symbol": "circle-dot"
         },
         "mode": "markers",
         "name": "Nodes",
         "opacity": 0.8,
         "text": [
          "n9, Class: {1: 0.72, 2: 0.02, 3: 0.02, 4: 0.24}, tau : None, Samples : 3628",
          "n65, Class: {1: 0.26, 2: 0.02, 3: 0.02, 4: 0.7}, tau : None, Samples : 542",
          "n1324, Class: {1: 0.0, 2: 0.06, 3: 0.62, 4: 0.32}, tau : None, Samples : 1134",
          "n7, Class: {1: 0.1, 2: 0.05, 3: 0.77, 4: 0.09}, tau : None, Samples : 16307",
          "n1, car_ownership in ('car_ownership0',), Class:{1: 0.18, 2: 0.03, 3: 0.35, 4: 0.44}, tau : 0.89, Samples: 76103",
          "n2, distance_group in ('distance04', 'distance05', 'distance06', 'distance07', 'distance08', 'distance09', 'distance10', 'distance11'), Class:{1: 0.14, 2: 0.02, 3: 0.24, 4: 0.59}, tau : 0.92, Samples: 53924",
          "n4, distance_group in ('distance01',), Class:{1: 0.48, 2: 0.03, 3: 0.05, 4: 0.43}, tau : 0.99, Samples: 11453",
          "n8, day_of_week in ('day_of_week6', 'day_of_week7'), Class:{1: 0.38, 2: 0.03, 3: 0.07, 4: 0.52}, tau : 0.87, Samples: 7825",
          "n16, trafficperc_group in ('1mediumlow_traffic', '2medium_traffic', '3mediumhigh_traffic', '4high_traffic'), Class:{1: 0.39, 2: 0.03, 3: 0.08, 4: 0.51}, tau : 0.82, Samples: 5823",
          "n32, starttime_group in ('evening',), Class:{1: 0.36, 2: 0.03, 3: 0.06, 4: 0.55}, tau : 0.98, Samples: 3914",
          "n64, driving_license in ('driving_license1',), Class:{1: 0.37, 2: 0.03, 3: 0.07, 4: 0.53}, tau : 0.89, Samples: 3372",
          "n128, Class: {1: 0.52, 2: 0.02, 3: 0.13, 4: 0.33}, tau : None, Samples : 1180",
          "n129, Class: {1: 0.29, 2: 0.03, 3: 0.04, 4: 0.64}, tau : None, Samples : 2192",
          "n33, Class: {1: 0.45, 2: 0.03, 3: 0.12, 4: 0.41}, tau : None, Samples : 1909",
          "n17, Class: {1: 0.35, 2: 0.03, 3: 0.05, 4: 0.57}, tau : None, Samples : 2002",
          "n5, drivingcharge_group in ('high_charge',), Class:{1: 0.05, 2: 0.02, 3: 0.3, 4: 0.63}, tau : 1.2, Samples: 42471",
          "n10, trafficperc_group in ('0low_traffic', '1mediumlow_traffic'), Class:{1: 0.05, 2: 0.02, 3: 0.24, 4: 0.69}, tau : 1.06, Samples: 38446",
          "n20, faretype in ('faretype1', 'faretype2', 'faretype3', 'faretype4'), Class:{1: 0.03, 2: 0.03, 3: 0.39, 4: 0.55}, tau : 0.94, Samples: 13067",
          "n40, Class: {1: 0.03, 2: 0.01, 3: 0.34, 4: 0.61}, tau : None, Samples : 2562",
          "n41, driving_license in ('driving_license0',), Class:{1: 0.03, 2: 0.03, 3: 0.4, 4: 0.53}, tau : 0.98, Samples: 10505",
          "n82, cost_group in ('high_cost', 'medium_cost'), Class:{1: 0.03, 2: 0.03, 3: 0.34, 4: 0.6}, tau : 1.0, Samples: 8188",
          "n164, Class: {1: 0.07, 2: 0.04, 3: 0.19, 4: 0.69}, tau : None, Samples : 2716",
          "n165, day_of_week in ('day_of_week1', 'day_of_week2', 'day_of_week3', 'day_of_week4', 'day_of_week5'), Class:{1: 0.01, 2: 0.03, 3: 0.41, 4: 0.55}, tau : 1.0, Samples: 5472",
          "n330, Class: {1: 0.02, 2: 0.01, 3: 0.3, 4: 0.67}, tau : None, Samples : 1269",
          "n331, trafficperc_group in ('2medium_traffic',), Class:{1: 0.01, 2: 0.03, 3: 0.44, 4: 0.52}, tau : 1.0, Samples: 4203",
          "n662, purpose in ('purpose2', 'purpose3', 'purpose4', 'purpose5'), Class:{1: 0.01, 2: 0.04, 3: 0.53, 4: 0.42}, tau : 0.95, Samples: 2423",
          "n1325, Class: {1: 0.02, 2: 0.03, 3: 0.46, 4: 0.5}, tau : None, Samples : 1289",
          "n663, Class: {1: 0.01, 2: 0.02, 3: 0.31, 4: 0.66}, tau : None, Samples : 1780",
          "n83, Class: {1: 0.05, 2: 0.02, 3: 0.65, 4: 0.29}, tau : None, Samples : 2317",
          "n21, Class: {1: 0.06, 2: 0.02, 3: 0.16, 4: 0.76}, tau : None, Samples : 25379",
          "n11, Class: {1: 0.03, 2: 0.04, 3: 0.81, 4: 0.12}, tau : None, Samples : 4025",
          "n3, distance_group in ('distance04', 'distance05', 'distance06', 'distance07', 'distance08', 'distance09', 'distance10', 'distance11'), Class:{1: 0.26, 2: 0.04, 3: 0.62, 4: 0.08}, tau : 1.18, Samples: 22179",
          "n6, Class: {1: 0.73, 2: 0.03, 3: 0.2, 4: 0.05}, tau : None, Samples : 5872"
         ],
         "type": "scatter",
         "x": [
          -192.380859375,
          -360.380859375,
          -83.880859375,
          214.119140625,
          0,
          -150.119140625,
          -256.380859375,
          -320.380859375,
          -352.380859375,
          -368.380859375,
          -376.380859375,
          -380.380859375,
          -372.380859375,
          -336.380859375,
          -288.380859375,
          -43.857421875,
          -77.833984375,
          -97.787109375,
          -112.380859375,
          -83.193359375,
          -88.505859375,
          -92.380859375,
          -84.630859375,
          -86.380859375,
          -82.880859375,
          -83.380859375,
          -82.880859375,
          -82.380859375,
          -77.880859375,
          -57.880859375,
          -9.880859375,
          150.119140625,
          86.119140625
         ],
         "y": [
          7,
          4,
          0,
          8,
          10,
          9,
          8,
          7,
          6,
          5,
          4,
          3,
          3,
          5,
          6,
          8,
          7,
          6,
          5,
          5,
          4,
          3,
          3,
          2,
          2,
          1,
          0,
          1,
          4,
          6,
          7,
          9,
          8
         ]
        }
       ],
       "layout": {
        "margin": {
         "b": 0,
         "l": 0,
         "r": 0,
         "t": 0
        },
        "plot_bgcolor": "rgba(0, 0, 0, 0)",
        "template": {
         "data": {
          "bar": [
           {
            "error_x": {
             "color": "#2a3f5f"
            },
            "error_y": {
             "color": "#2a3f5f"
            },
            "marker": {
             "line": {
              "color": "#E5ECF6",
              "width": 0.5
             },
             "pattern": {
              "fillmode": "overlay",
              "size": 10,
              "solidity": 0.2
             }
            },
            "type": "bar"
           }
          ],
          "barpolar": [
           {
            "marker": {
             "line": {
              "color": "#E5ECF6",
              "width": 0.5
             },
             "pattern": {
              "fillmode": "overlay",
              "size": 10,
              "solidity": 0.2
             }
            },
            "type": "barpolar"
           }
          ],
          "carpet": [
           {
            "aaxis": {
             "endlinecolor": "#2a3f5f",
             "gridcolor": "white",
             "linecolor": "white",
             "minorgridcolor": "white",
             "startlinecolor": "#2a3f5f"
            },
            "baxis": {
             "endlinecolor": "#2a3f5f",
             "gridcolor": "white",
             "linecolor": "white",
             "minorgridcolor": "white",
             "startlinecolor": "#2a3f5f"
            },
            "type": "carpet"
           }
          ],
          "choropleth": [
           {
            "colorbar": {
             "outlinewidth": 0,
             "ticks": ""
            },
            "type": "choropleth"
           }
          ],
          "contour": [
           {
            "colorbar": {
             "outlinewidth": 0,
             "ticks": ""
            },
            "colorscale": [
             [
              0,
              "#0d0887"
             ],
             [
              0.1111111111111111,
              "#46039f"
             ],
             [
              0.2222222222222222,
              "#7201a8"
             ],
             [
              0.3333333333333333,
              "#9c179e"
             ],
             [
              0.4444444444444444,
              "#bd3786"
             ],
             [
              0.5555555555555556,
              "#d8576b"
             ],
             [
              0.6666666666666666,
              "#ed7953"
             ],
             [
              0.7777777777777778,
              "#fb9f3a"
             ],
             [
              0.8888888888888888,
              "#fdca26"
             ],
             [
              1,
              "#f0f921"
             ]
            ],
            "type": "contour"
           }
          ],
          "contourcarpet": [
           {
            "colorbar": {
             "outlinewidth": 0,
             "ticks": ""
            },
            "type": "contourcarpet"
           }
          ],
          "heatmap": [
           {
            "colorbar": {
             "outlinewidth": 0,
             "ticks": ""
            },
            "colorscale": [
             [
              0,
              "#0d0887"
             ],
             [
              0.1111111111111111,
              "#46039f"
             ],
             [
              0.2222222222222222,
              "#7201a8"
             ],
             [
              0.3333333333333333,
              "#9c179e"
             ],
             [
              0.4444444444444444,
              "#bd3786"
             ],
             [
              0.5555555555555556,
              "#d8576b"
             ],
             [
              0.6666666666666666,
              "#ed7953"
             ],
             [
              0.7777777777777778,
              "#fb9f3a"
             ],
             [
              0.8888888888888888,
              "#fdca26"
             ],
             [
              1,
              "#f0f921"
             ]
            ],
            "type": "heatmap"
           }
          ],
          "heatmapgl": [
           {
            "colorbar": {
             "outlinewidth": 0,
             "ticks": ""
            },
            "colorscale": [
             [
              0,
              "#0d0887"
             ],
             [
              0.1111111111111111,
              "#46039f"
             ],
             [
              0.2222222222222222,
              "#7201a8"
             ],
             [
              0.3333333333333333,
              "#9c179e"
             ],
             [
              0.4444444444444444,
              "#bd3786"
             ],
             [
              0.5555555555555556,
              "#d8576b"
             ],
             [
              0.6666666666666666,
              "#ed7953"
             ],
             [
              0.7777777777777778,
              "#fb9f3a"
             ],
             [
              0.8888888888888888,
              "#fdca26"
             ],
             [
              1,
              "#f0f921"
             ]
            ],
            "type": "heatmapgl"
           }
          ],
          "histogram": [
           {
            "marker": {
             "pattern": {
              "fillmode": "overlay",
              "size": 10,
              "solidity": 0.2
             }
            },
            "type": "histogram"
           }
          ],
          "histogram2d": [
           {
            "colorbar": {
             "outlinewidth": 0,
             "ticks": ""
            },
            "colorscale": [
             [
              0,
              "#0d0887"
             ],
             [
              0.1111111111111111,
              "#46039f"
             ],
             [
              0.2222222222222222,
              "#7201a8"
             ],
             [
              0.3333333333333333,
              "#9c179e"
             ],
             [
              0.4444444444444444,
              "#bd3786"
             ],
             [
              0.5555555555555556,
              "#d8576b"
             ],
             [
              0.6666666666666666,
              "#ed7953"
             ],
             [
              0.7777777777777778,
              "#fb9f3a"
             ],
             [
              0.8888888888888888,
              "#fdca26"
             ],
             [
              1,
              "#f0f921"
             ]
            ],
            "type": "histogram2d"
           }
          ],
          "histogram2dcontour": [
           {
            "colorbar": {
             "outlinewidth": 0,
             "ticks": ""
            },
            "colorscale": [
             [
              0,
              "#0d0887"
             ],
             [
              0.1111111111111111,
              "#46039f"
             ],
             [
              0.2222222222222222,
              "#7201a8"
             ],
             [
              0.3333333333333333,
              "#9c179e"
             ],
             [
              0.4444444444444444,
              "#bd3786"
             ],
             [
              0.5555555555555556,
              "#d8576b"
             ],
             [
              0.6666666666666666,
              "#ed7953"
             ],
             [
              0.7777777777777778,
              "#fb9f3a"
             ],
             [
              0.8888888888888888,
              "#fdca26"
             ],
             [
              1,
              "#f0f921"
             ]
            ],
            "type": "histogram2dcontour"
           }
          ],
          "mesh3d": [
           {
            "colorbar": {
             "outlinewidth": 0,
             "ticks": ""
            },
            "type": "mesh3d"
           }
          ],
          "parcoords": [
           {
            "line": {
             "colorbar": {
              "outlinewidth": 0,
              "ticks": ""
             }
            },
            "type": "parcoords"
           }
          ],
          "pie": [
           {
            "automargin": true,
            "type": "pie"
           }
          ],
          "scatter": [
           {
            "fillpattern": {
             "fillmode": "overlay",
             "size": 10,
             "solidity": 0.2
            },
            "type": "scatter"
           }
          ],
          "scatter3d": [
           {
            "line": {
             "colorbar": {
              "outlinewidth": 0,
              "ticks": ""
             }
            },
            "marker": {
             "colorbar": {
              "outlinewidth": 0,
              "ticks": ""
             }
            },
            "type": "scatter3d"
           }
          ],
          "scattercarpet": [
           {
            "marker": {
             "colorbar": {
              "outlinewidth": 0,
              "ticks": ""
             }
            },
            "type": "scattercarpet"
           }
          ],
          "scattergeo": [
           {
            "marker": {
             "colorbar": {
              "outlinewidth": 0,
              "ticks": ""
             }
            },
            "type": "scattergeo"
           }
          ],
          "scattergl": [
           {
            "marker": {
             "colorbar": {
              "outlinewidth": 0,
              "ticks": ""
             }
            },
            "type": "scattergl"
           }
          ],
          "scattermapbox": [
           {
            "marker": {
             "colorbar": {
              "outlinewidth": 0,
              "ticks": ""
             }
            },
            "type": "scattermapbox"
           }
          ],
          "scatterpolar": [
           {
            "marker": {
             "colorbar": {
              "outlinewidth": 0,
              "ticks": ""
             }
            },
            "type": "scatterpolar"
           }
          ],
          "scatterpolargl": [
           {
            "marker": {
             "colorbar": {
              "outlinewidth": 0,
              "ticks": ""
             }
            },
            "type": "scatterpolargl"
           }
          ],
          "scatterternary": [
           {
            "marker": {
             "colorbar": {
              "outlinewidth": 0,
              "ticks": ""
             }
            },
            "type": "scatterternary"
           }
          ],
          "surface": [
           {
            "colorbar": {
             "outlinewidth": 0,
             "ticks": ""
            },
            "colorscale": [
             [
              0,
              "#0d0887"
             ],
             [
              0.1111111111111111,
              "#46039f"
             ],
             [
              0.2222222222222222,
              "#7201a8"
             ],
             [
              0.3333333333333333,
              "#9c179e"
             ],
             [
              0.4444444444444444,
              "#bd3786"
             ],
             [
              0.5555555555555556,
              "#d8576b"
             ],
             [
              0.6666666666666666,
              "#ed7953"
             ],
             [
              0.7777777777777778,
              "#fb9f3a"
             ],
             [
              0.8888888888888888,
              "#fdca26"
             ],
             [
              1,
              "#f0f921"
             ]
            ],
            "type": "surface"
           }
          ],
          "table": [
           {
            "cells": {
             "fill": {
              "color": "#EBF0F8"
             },
             "line": {
              "color": "white"
             }
            },
            "header": {
             "fill": {
              "color": "#C8D4E3"
             },
             "line": {
              "color": "white"
             }
            },
            "type": "table"
           }
          ]
         },
         "layout": {
          "annotationdefaults": {
           "arrowcolor": "#2a3f5f",
           "arrowhead": 0,
           "arrowwidth": 1
          },
          "autotypenumbers": "strict",
          "coloraxis": {
           "colorbar": {
            "outlinewidth": 0,
            "ticks": ""
           }
          },
          "colorscale": {
           "diverging": [
            [
             0,
             "#8e0152"
            ],
            [
             0.1,
             "#c51b7d"
            ],
            [
             0.2,
             "#de77ae"
            ],
            [
             0.3,
             "#f1b6da"
            ],
            [
             0.4,
             "#fde0ef"
            ],
            [
             0.5,
             "#f7f7f7"
            ],
            [
             0.6,
             "#e6f5d0"
            ],
            [
             0.7,
             "#b8e186"
            ],
            [
             0.8,
             "#7fbc41"
            ],
            [
             0.9,
             "#4d9221"
            ],
            [
             1,
             "#276419"
            ]
           ],
           "sequential": [
            [
             0,
             "#0d0887"
            ],
            [
             0.1111111111111111,
             "#46039f"
            ],
            [
             0.2222222222222222,
             "#7201a8"
            ],
            [
             0.3333333333333333,
             "#9c179e"
            ],
            [
             0.4444444444444444,
             "#bd3786"
            ],
            [
             0.5555555555555556,
             "#d8576b"
            ],
            [
             0.6666666666666666,
             "#ed7953"
            ],
            [
             0.7777777777777778,
             "#fb9f3a"
            ],
            [
             0.8888888888888888,
             "#fdca26"
            ],
            [
             1,
             "#f0f921"
            ]
           ],
           "sequentialminus": [
            [
             0,
             "#0d0887"
            ],
            [
             0.1111111111111111,
             "#46039f"
            ],
            [
             0.2222222222222222,
             "#7201a8"
            ],
            [
             0.3333333333333333,
             "#9c179e"
            ],
            [
             0.4444444444444444,
             "#bd3786"
            ],
            [
             0.5555555555555556,
             "#d8576b"
            ],
            [
             0.6666666666666666,
             "#ed7953"
            ],
            [
             0.7777777777777778,
             "#fb9f3a"
            ],
            [
             0.8888888888888888,
             "#fdca26"
            ],
            [
             1,
             "#f0f921"
            ]
           ]
          },
          "colorway": [
           "#636efa",
           "#EF553B",
           "#00cc96",
           "#ab63fa",
           "#FFA15A",
           "#19d3f3",
           "#FF6692",
           "#B6E880",
           "#FF97FF",
           "#FECB52"
          ],
          "font": {
           "color": "#2a3f5f"
          },
          "geo": {
           "bgcolor": "white",
           "lakecolor": "white",
           "landcolor": "#E5ECF6",
           "showlakes": true,
           "showland": true,
           "subunitcolor": "white"
          },
          "hoverlabel": {
           "align": "left"
          },
          "hovermode": "closest",
          "mapbox": {
           "style": "light"
          },
          "paper_bgcolor": "white",
          "plot_bgcolor": "#E5ECF6",
          "polar": {
           "angularaxis": {
            "gridcolor": "white",
            "linecolor": "white",
            "ticks": ""
           },
           "bgcolor": "#E5ECF6",
           "radialaxis": {
            "gridcolor": "white",
            "linecolor": "white",
            "ticks": ""
           }
          },
          "scene": {
           "xaxis": {
            "backgroundcolor": "#E5ECF6",
            "gridcolor": "white",
            "gridwidth": 2,
            "linecolor": "white",
            "showbackground": true,
            "ticks": "",
            "zerolinecolor": "white"
           },
           "yaxis": {
            "backgroundcolor": "#E5ECF6",
            "gridcolor": "white",
            "gridwidth": 2,
            "linecolor": "white",
            "showbackground": true,
            "ticks": "",
            "zerolinecolor": "white"
           },
           "zaxis": {
            "backgroundcolor": "#E5ECF6",
            "gridcolor": "white",
            "gridwidth": 2,
            "linecolor": "white",
            "showbackground": true,
            "ticks": "",
            "zerolinecolor": "white"
           }
          },
          "shapedefaults": {
           "line": {
            "color": "#2a3f5f"
           }
          },
          "ternary": {
           "aaxis": {
            "gridcolor": "white",
            "linecolor": "white",
            "ticks": ""
           },
           "baxis": {
            "gridcolor": "white",
            "linecolor": "white",
            "ticks": ""
           },
           "bgcolor": "#E5ECF6",
           "caxis": {
            "gridcolor": "white",
            "linecolor": "white",
            "ticks": ""
           }
          },
          "title": {
           "x": 0.05
          },
          "xaxis": {
           "automargin": true,
           "gridcolor": "white",
           "linecolor": "white",
           "ticks": "",
           "title": {
            "standoff": 15
           },
           "zerolinecolor": "white",
           "zerolinewidth": 2
          },
          "yaxis": {
           "automargin": true,
           "gridcolor": "white",
           "linecolor": "white",
           "ticks": "",
           "title": {
            "standoff": 15
           },
           "zerolinecolor": "white",
           "zerolinewidth": 2
          }
         }
        },
        "xaxis": {
         "showticklabels": false,
         "visible": false
        },
        "yaxis": {
         "showticklabels": true,
         "visible": false
        }
       }
      }
     },
     "metadata": {},
     "output_type": "display_data"
    }
   ],
   "source": [
    "alpha, pruned_table = tree.pruning(features_test, n_features_test, y_test_list, table = True, print_tree = True, html = False)\n",
    "#pruned_table.style.hide() "
   ]
  },
  {
   "cell_type": "code",
   "execution_count": 27,
   "metadata": {},
   "outputs": [
    {
     "ename": "KeyboardInterrupt",
     "evalue": "",
     "output_type": "error",
     "traceback": [
      "\u001b[1;31m---------------------------------------------------------------------------\u001b[0m",
      "\u001b[1;31mKeyboardInterrupt\u001b[0m                         Traceback (most recent call last)",
      "Cell \u001b[1;32mIn[27], line 6\u001b[0m\n\u001b[0;32m      4\u001b[0m d \u001b[38;5;241m=\u001b[39m \u001b[38;5;28mdict\u001b[39m(\u001b[38;5;28mzip\u001b[39m(n_features_names, n_features_test[i]\u001b[38;5;241m.\u001b[39mT))\n\u001b[0;32m      5\u001b[0m \u001b[38;5;66;03m#d = dict(n_features_test[i])\u001b[39;00m\n\u001b[1;32m----> 6\u001b[0m tree\u001b[38;5;241m.\u001b[39mpred_x(my_tree, d, tree\u001b[38;5;241m.\u001b[39mget_all_node(), tree\u001b[38;5;241m.\u001b[39mget_leaf())\n\u001b[0;32m      7\u001b[0m predictions\u001b[38;5;241m.\u001b[39mappend(tree\u001b[38;5;241m.\u001b[39mprediction_cat[\u001b[38;5;241m-\u001b[39m\u001b[38;5;241m1\u001b[39m])\n",
      "File \u001b[1;32mc:\\Users\\Dan\\Documents\\Universita\\Thesis\\Tree_Methods\\Tree_project\\Tree_project\\TREEplus.py:460\u001b[0m, in \u001b[0;36mTREEplus.get_leaf\u001b[1;34m(self)\u001b[0m\n\u001b[0;32m    458\u001b[0m \u001b[38;5;28;01mdef\u001b[39;00m \u001b[38;5;21mget_leaf\u001b[39m(\u001b[38;5;28mself\u001b[39m):\n\u001b[0;32m    459\u001b[0m \u001b[38;5;250m    \u001b[39m\u001b[38;5;124;03m'''returns a list of NodeClass objects that make up the leaves of the fully grown tree tree'''\u001b[39;00m\n\u001b[1;32m--> 460\u001b[0m     leaf \u001b[38;5;241m=\u001b[39m [inode \u001b[38;5;28;01mfor\u001b[39;00m inode \u001b[38;5;129;01min\u001b[39;00m \u001b[38;5;28mself\u001b[39m\u001b[38;5;241m.\u001b[39mbigtree \u001b[38;5;28;01mif\u001b[39;00m inode \u001b[38;5;129;01mnot\u001b[39;00m \u001b[38;5;129;01min\u001b[39;00m \u001b[38;5;28mself\u001b[39m\u001b[38;5;241m.\u001b[39mget_father() ]\n\u001b[0;32m    461\u001b[0m     le \u001b[38;5;241m=\u001b[39m []\n\u001b[0;32m    462\u001b[0m     \u001b[38;5;28;01mfor\u001b[39;00m i \u001b[38;5;129;01min\u001b[39;00m leaf:\n",
      "File \u001b[1;32mc:\\Users\\Dan\\Documents\\Universita\\Thesis\\Tree_Methods\\Tree_project\\Tree_project\\TREEplus.py:460\u001b[0m, in \u001b[0;36m<listcomp>\u001b[1;34m(.0)\u001b[0m\n\u001b[0;32m    458\u001b[0m \u001b[38;5;28;01mdef\u001b[39;00m \u001b[38;5;21mget_leaf\u001b[39m(\u001b[38;5;28mself\u001b[39m):\n\u001b[0;32m    459\u001b[0m \u001b[38;5;250m    \u001b[39m\u001b[38;5;124;03m'''returns a list of NodeClass objects that make up the leaves of the fully grown tree tree'''\u001b[39;00m\n\u001b[1;32m--> 460\u001b[0m     leaf \u001b[38;5;241m=\u001b[39m [inode \u001b[38;5;28;01mfor\u001b[39;00m inode \u001b[38;5;129;01min\u001b[39;00m \u001b[38;5;28mself\u001b[39m\u001b[38;5;241m.\u001b[39mbigtree \u001b[38;5;28;01mif\u001b[39;00m inode \u001b[38;5;129;01mnot\u001b[39;00m \u001b[38;5;129;01min\u001b[39;00m \u001b[38;5;28mself\u001b[39m\u001b[38;5;241m.\u001b[39mget_father() ]\n\u001b[0;32m    461\u001b[0m     le \u001b[38;5;241m=\u001b[39m []\n\u001b[0;32m    462\u001b[0m     \u001b[38;5;28;01mfor\u001b[39;00m i \u001b[38;5;129;01min\u001b[39;00m leaf:\n",
      "File \u001b[1;32mc:\\Users\\Dan\\Documents\\Universita\\Thesis\\Tree_Methods\\Tree_project\\Tree_project\\TREEplus.py:473\u001b[0m, in \u001b[0;36mTREEplus.get_father\u001b[1;34m(self)\u001b[0m\n\u001b[0;32m    469\u001b[0m \u001b[38;5;28;01mdef\u001b[39;00m \u001b[38;5;21mget_father\u001b[39m(\u001b[38;5;28mself\u001b[39m):\n\u001b[0;32m    470\u001b[0m \u001b[38;5;250m    \u001b[39m\u001b[38;5;124;03m'''\u001b[39;00m\n\u001b[0;32m    471\u001b[0m \u001b[38;5;124;03m    return all the node father\u001b[39;00m\n\u001b[0;32m    472\u001b[0m \u001b[38;5;124;03m    '''\u001b[39;00m\n\u001b[1;32m--> 473\u001b[0m     \u001b[38;5;28;01mreturn\u001b[39;00m [inode \u001b[38;5;28;01mfor\u001b[39;00m inode \u001b[38;5;129;01min\u001b[39;00m \u001b[38;5;28mself\u001b[39m\u001b[38;5;241m.\u001b[39mfather \u001b[38;5;28;01mif\u001b[39;00m inode \u001b[38;5;129;01mnot\u001b[39;00m \u001b[38;5;129;01min\u001b[39;00m \u001b[38;5;28mself\u001b[39m\u001b[38;5;241m.\u001b[39mfather_to_pop]\n",
      "File \u001b[1;32mc:\\Users\\Dan\\Documents\\Universita\\Thesis\\Tree_Methods\\Tree_project\\Tree_project\\TREEplus.py:473\u001b[0m, in \u001b[0;36m<listcomp>\u001b[1;34m(.0)\u001b[0m\n\u001b[0;32m    469\u001b[0m \u001b[38;5;28;01mdef\u001b[39;00m \u001b[38;5;21mget_father\u001b[39m(\u001b[38;5;28mself\u001b[39m):\n\u001b[0;32m    470\u001b[0m \u001b[38;5;250m    \u001b[39m\u001b[38;5;124;03m'''\u001b[39;00m\n\u001b[0;32m    471\u001b[0m \u001b[38;5;124;03m    return all the node father\u001b[39;00m\n\u001b[0;32m    472\u001b[0m \u001b[38;5;124;03m    '''\u001b[39;00m\n\u001b[1;32m--> 473\u001b[0m     \u001b[38;5;28;01mreturn\u001b[39;00m [inode \u001b[38;5;28;01mfor\u001b[39;00m inode \u001b[38;5;129;01min\u001b[39;00m \u001b[38;5;28mself\u001b[39m\u001b[38;5;241m.\u001b[39mfather \u001b[38;5;28;01mif\u001b[39;00m inode \u001b[38;5;129;01mnot\u001b[39;00m \u001b[38;5;129;01min\u001b[39;00m \u001b[38;5;28mself\u001b[39m\u001b[38;5;241m.\u001b[39mfather_to_pop]\n",
      "\u001b[1;31mKeyboardInterrupt\u001b[0m: "
     ]
    }
   ],
   "source": [
    "predictions = []\n",
    "\n",
    "for i in range(n_features_test.shape[0]):\n",
    "    d = dict(zip(n_features_names, n_features_test[i].T))\n",
    "    #d = dict(n_features_test[i])\n",
    "    tree.pred_x(my_tree, d, tree.get_all_node(), tree.get_leaf())\n",
    "    predictions.append(tree.prediction_cat[-1])\n"
   ]
  },
  {
   "cell_type": "code",
   "execution_count": null,
   "metadata": {},
   "outputs": [],
   "source": [
    "y_test = y_test.ravel()"
   ]
  },
  {
   "cell_type": "code",
   "execution_count": null,
   "metadata": {},
   "outputs": [
    {
     "data": {
      "text/plain": [
       "[4, 4, 4, 4, 4]"
      ]
     },
     "execution_count": 29,
     "metadata": {},
     "output_type": "execute_result"
    }
   ],
   "source": [
    "y_test[0:5].tolist()"
   ]
  },
  {
   "cell_type": "code",
   "execution_count": null,
   "metadata": {},
   "outputs": [
    {
     "data": {
      "text/plain": [
       "25.37"
      ]
     },
     "execution_count": 30,
     "metadata": {},
     "output_type": "execute_result"
    }
   ],
   "source": [
    "y_test_list = y_test.tolist()\n",
    "\n",
    "missclass = 0 \n",
    "\n",
    "for i in range(len(predictions)):\n",
    "    if predictions[i] != y_test_list[i]:\n",
    "        missclass += 1 \n",
    "\n",
    "round(missclass / len(y_test_list) * 100, 2)"
   ]
  },
  {
   "cell_type": "markdown",
   "metadata": {},
   "source": [
    "27.61 non combination\n",
    "\n",
    "26.53 combination"
   ]
  },
  {
   "cell_type": "code",
   "execution_count": null,
   "metadata": {},
   "outputs": [
    {
     "data": {
      "text/plain": [
       "('Accuracy', 63.49, 0.0, 73.99, 84.09)"
      ]
     },
     "execution_count": 31,
     "metadata": {},
     "output_type": "execute_result"
    }
   ],
   "source": [
    "missclass1 = 0 \n",
    "class1 = 0\n",
    "missclass2 = 0 \n",
    "class2 = 0\n",
    "missclass3 = 0 \n",
    "class3 = 0\n",
    "missclass4 = 0 \n",
    "class4 = 0\n",
    "\n",
    "for i in range(len(predictions)):\n",
    "    if y_test_list[i] ==1:\n",
    "        class1 += 1\n",
    "        if predictions[i] != y_test_list[i]:\n",
    "            missclass1 += 1 \n",
    "    if y_test_list[i] ==2:\n",
    "        class2 += 1\n",
    "        if predictions[i] != y_test_list[i]:\n",
    "            missclass2 += 1 \n",
    "    if y_test_list[i] ==3:\n",
    "        class3 += 1\n",
    "        if predictions[i] != y_test_list[i]:\n",
    "            missclass3 += 1 \n",
    "    if y_test_list[i] ==4:\n",
    "        class4 += 1\n",
    "        if predictions[i] != y_test_list[i]:\n",
    "            missclass4 += 1 \n",
    "\n",
    "\n",
    "\"Accuracy\", round((1-missclass1 / class1) * 100, 2), round((1-missclass2 / class2) * 100, 2), round((1-missclass3 / class3) * 100, 2), round((1-missclass4 / class4 )* 100, 2)"
   ]
  }
 ],
 "metadata": {
  "kernelspec": {
   "display_name": "base",
   "language": "python",
   "name": "python3"
  },
  "language_info": {
   "codemirror_mode": {
    "name": "ipython",
    "version": 3
   },
   "file_extension": ".py",
   "mimetype": "text/x-python",
   "name": "python",
   "nbconvert_exporter": "python",
   "pygments_lexer": "ipython3",
   "version": "3.11.5"
  },
  "orig_nbformat": 4
 },
 "nbformat": 4,
 "nbformat_minor": 2
}
