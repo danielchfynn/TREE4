{
 "cells": [
  {
   "cell_type": "code",
   "execution_count": 6,
   "metadata": {},
   "outputs": [],
   "source": [
    "#from __future__ import annotations\n",
    "#from tkinter import N\n",
    "\n",
    "from TREEplus import *\n",
    "\n",
    "import pandas as pd\n",
    "\n",
    "#d = dict(features, **n_features)  #merges the two dicts\n",
    "#df = pd.DataFrame(data=d)         #creates the dataframe\n",
    "\n",
    "#print(df)\n",
    "#import csv\n",
    "\n",
    "\n",
    "\n",
    "#####################################loading the carseats data#########################\n",
    "\n",
    "df=pd.read_csv('Carseats_train.csv')\n",
    "#df=df.iloc[:,1:]\n",
    "\n",
    "#df = df.iloc[:50, ] #making it easier for twoing\n",
    "\n",
    "features_names=list(df.columns)\n",
    "\n",
    "colonne=features_names[:6]\n",
    "features_name=features_names[7:9]\n",
    "features_names=colonne + features_name\n",
    "\n",
    "n_features_names=list(df.columns)\n",
    "columns = [(n_features_names[6])]\n",
    "n_features_name = n_features_names[9:11]\n",
    "n_features_names=columns + n_features_name\n",
    "\n",
    "features=df.iloc[:,0:6]\n",
    "features2=df.iloc[:,7:9]\n",
    "\n",
    "features=dict(features)\n",
    "features2=dict(features2)\n",
    "\n",
    "\n",
    "n_features=df.iloc[:,6:7]\n",
    "n_features2=df.iloc[:,9:11]\n",
    "\n",
    "\n",
    "n_features=dict(n_features)\n",
    "n_features2=dict(n_features2)\n",
    "\n",
    "features = dict(features, **features2)\n",
    "n_features = dict(n_features, **n_features2)\n",
    "\n",
    "\n",
    "\n",
    "y=features['Price']\n",
    "exclude_keys = ['Price']\n",
    "new_d = {k: features[k] for k in set(list(features.keys())) - set(exclude_keys)}\n",
    "features=new_d\n",
    "\n",
    "indici = np.arange(0, len(y))\n",
    "\n",
    "features_names3 = features_names[0:5]\n",
    "features_names4 = features_names[6:]\n",
    "features_names = features_names3 +  features_names4 \n",
    "\n",
    "#############Data Prep for prediction ############\n",
    "df_test=pd.read_csv('Carseats_test.csv')\n",
    "#df_test=df_test.iloc[:,1:]\n",
    "\n",
    "\n",
    "features_test=df_test.iloc[:,0:6]\n",
    "features2_test=df_test.iloc[:,7:9]\n",
    "\n",
    "features_test=dict(features_test)\n",
    "features2_test=dict(features2_test)\n",
    "\n",
    "\n",
    "n_features_test=df_test.iloc[:,6:7]\n",
    "n_features2_test=df_test.iloc[:,9:11]\n",
    "\n",
    "\n",
    "n_features_test=dict(n_features_test)\n",
    "n_features2_test=dict(n_features2_test)\n",
    "\n",
    "features_test = dict(features_test, **features2_test)\n",
    "n_features_test = dict(n_features_test, **n_features2_test)\n",
    "\n",
    "y_test=features_test['Price']\n",
    "\n",
    "y_test = y_test.tolist()\n",
    "\n",
    "del features_test[\"Price\"]   \n",
    "\n",
    "#impurity = impurity_fn('MSE') # chhose the simplest impurity functin (for regression tree)\n",
    "\n",
    "#impurity = Impurity (\"MSE\")\n",
    "# start a tree structure by instantiating its root\n",
    "#print(\"features\", features)\n",
    "#print(\"features_names\", features_names)\n",
    "#print(\"n_features\", n_features)\n",
    "#print(\"n_features_names\", n_features_names)\n",
    "\n",
    "\n",
    "\n",
    "############Program Running\n",
    "\n",
    "\n",
    "###User Defined Function \n",
    "\n",
    "\n",
    "\n",
    "#when definining a funcion please be aware we are using purity gain or information gain or greatest difference between variance, all positive aspects \n",
    "#adding user_defined as a possible impurity_fn and added user_impur to carry that function \n",
    "def user_fn(self, node): #impur just takes node in CART\n",
    "    \n",
    "    return (mean(self.y[node.indexes])**2)*len(self.y[node.indexes])\n",
    "\n",
    "\n",
    "\n",
    "\n"
   ]
  },
  {
   "attachments": {},
   "cell_type": "markdown",
   "metadata": {},
   "source": [
    "remember when running lbt will need classes for variables only!!\n",
    "\n",
    "will trial in twoing_classification as the data is there "
   ]
  },
  {
   "cell_type": "code",
   "execution_count": 2,
   "metadata": {},
   "outputs": [],
   "source": [
    "lbt = False\n",
    "if lbt == True:\n",
    "\n",
    "    min(features[\"Population\"]), max(features[\"Population\"])\n",
    "    features[\"Population\"].loc[features[\"Population\"]<100] = 1\n",
    "    features[\"Population\"].loc[features[\"Population\"].between(100,200)] = 2\n",
    "    features[\"Population\"].loc[features[\"Population\"].between(200,300)] = 3\n",
    "    features[\"Population\"].loc[features[\"Population\"].between(300,400)] = 4\n",
    "    features[\"Population\"].loc[features[\"Population\"]>=400] = 5\n",
    "    features[\"Population\"] = \"Population\" + features[\"Population\"].astype(str)\n",
    "\n",
    "    features[\"CompPrice\"].loc[features[\"CompPrice\"]<100] = 1\n",
    "    features[\"CompPrice\"].loc[features[\"CompPrice\"].between(100,125)] = 2\n",
    "    features[\"CompPrice\"].loc[features[\"CompPrice\"].between(125,150)] = 3\n",
    "    features[\"CompPrice\"].loc[features[\"CompPrice\"]>=150] = 4\n",
    "    features[\"CompPrice\"] = \"CompPrice\" + features[\"CompPrice\"].astype(str)\n",
    "\n",
    "    features[\"Sales\"] = round(features[\"Sales\"])\n",
    "    features[\"Sales\"] = \"Sales\" + features[\"Sales\"].astype(str)\n",
    "\n",
    "    features[\"Age\"].loc[features[\"Age\"]<35] = 1\n",
    "    features[\"Age\"].loc[features[\"Age\"].between(35,45)] = 2\n",
    "    features[\"Age\"].loc[features[\"Age\"].between(45,55)] = 3\n",
    "    features[\"Age\"].loc[features[\"Age\"].between(55,65)] = 4\n",
    "    features[\"Age\"].loc[features[\"Age\"]>=65] = 5\n",
    "    features[\"Age\"] = \"Age\" + features[\"Age\"].astype(str)\n",
    "\n",
    "    features[\"Advertising\"] = \"Advertising\" + features[\"Advertising\"].astype(str)\n",
    "\n",
    "    features[\"Education\"] = \"Education\" + features[\"Education\"].astype(str)\n",
    "\n",
    "    features[\"Income\"].loc[features[\"Income\"]<40] = 1\n",
    "    features[\"Income\"].loc[features[\"Income\"].between(40,60)] = 2\n",
    "    features[\"Income\"].loc[features[\"Income\"].between(60,80)] = 3\n",
    "    features[\"Income\"].loc[features[\"Income\"].between(80,100)] = 4\n",
    "    features[\"Income\"].loc[features[\"Income\"]>=100] = 5\n",
    "    features[\"Income\"] = \"Income\" + features[\"Income\"].astype(str)\n",
    "\n",
    "\n",
    "    for f in features:\n",
    "        n_features[f] = features[f]\n",
    "\n",
    "    n_features_names = n_features_names + features_names\n",
    "\n",
    "    features_names = []\n",
    "    features = []"
   ]
  },
  {
   "cell_type": "code",
   "execution_count": 3,
   "metadata": {},
   "outputs": [
    {
     "name": "stdout",
     "output_type": "stream",
     "text": [
      "Split Found:  n1 [['Sales', 1.165, 0.25994967727818896, 0]] start\n",
      "node_proportion_total  0.05891606567782527\n",
      "Split Found:  n3 [['Sales', 9.975, 0.1779100943899147, 1]] right\n",
      "node_proportion_total  0.17893549762751224\n",
      "Node_proportion_gain  0.12001943194968696\n",
      "Split Found:  n6 [['Sales', 7.529999999999999, 0.0933332131484029, 2]] left\n",
      "node_proportion_total  0.24171993161514033\n",
      "Node_proportion_gain  0.06278443398762809\n",
      "Split Found:  n12 [['Population', 94.5, 0.05182359785911114, 3]] left\n",
      "node_proportion_total  0.2445875283769076\n",
      "Node_proportion_gain  0.0028675967617672604\n",
      "Split Found:  n24 [['Sales', 5.01, 0.38027777777777777, 4]] left\n",
      "node_proportion_total  0.25642321438584315\n",
      "Node_proportion_gain  0.011835686008935559\n",
      "Split Found:  n25 [['Sales', 6.675, 0.05825898500993313, 4]] right\n",
      "node_proportion_total  0.2570509972817839\n",
      "Node_proportion_gain  0.0006277828959407317\n",
      "Split Found:  n13 [['Population', 496.5, 0.1303491313880939, 3]] right\n",
      "node_proportion_total  0.2629306786721204\n",
      "Node_proportion_gain  0.005879681390336511\n",
      "Split Found:  n26 [['Population', 219.0, 0.07824074074074071, 4]] left\n",
      "node_proportion_total  0.26693995494339223\n",
      "Node_proportion_gain  0.004009276271271844\n",
      "Split Found:  n7 [['Sales', 12.465, 0.1448632668144846, 2]] right\n",
      "node_proportion_total  0.2682705435567183\n",
      "Node_proportion_gain  0.001330588613326078\n",
      "Split Found:  n14 [['Sales', 10.629999999999999, 0.10667307692307666, 3]] left\n",
      "node_proportion_total  0.26991782287703237\n",
      "Node_proportion_gain  0.0016472793203140546\n",
      "Split Found:  n28 [['Sales', 10.485, 0.7500000000000002, 4]] left\n",
      "node_proportion_total  0.2935416146784359\n",
      "Node_proportion_gain  0.02362379180140356\n",
      "Split Found:  n29 [['Sales', 11.245000000000001, 0.2402921953094963, 4]] right\n",
      "node_proportion_total  0.3029294183847931\n",
      "Node_proportion_gain  0.009387803706357167\n",
      "Split Found:  n15 [['Population', 182.5, 0.31250000000000006, 3]] right\n",
      "node_proportion_total  0.3039158018650004\n",
      "Node_proportion_gain  0.000986383480207298\n",
      "Node Search Split Error for:  n31 with obs in node:  6  which is less than minimum parent size:  10\n"
     ]
    },
    {
     "data": {
      "text/plain": [
       "(None,\n",
       " ((((None, None), (None, None)), ((None, None), None)),\n",
       "  (((None, None), (None, None)), (None, None))))"
      ]
     },
     "execution_count": 3,
     "metadata": {},
     "output_type": "execute_result"
    }
   ],
   "source": [
    "my_tree = NodeClass('n1', indici) \n",
    "tree = TREEplus(y,features,features_names,n_features,n_features_names, impurity_fn = \"pearson\", problem=\"regression\", method = \"TWO-STAGE\", twoing = True, max_level = 4, min_cases_parent= 10,min_cases_child= 5, min_imp_gain=0.0001) \n",
    "tree.growing_tree(my_tree, max_k = 1) \n",
    "\n"
   ]
  },
  {
   "attachments": {},
   "cell_type": "markdown",
   "metadata": {},
   "source": [
    "these are the associated node proportion total, maybe should focus on gains instead "
   ]
  },
  {
   "cell_type": "code",
   "execution_count": 4,
   "metadata": {},
   "outputs": [
    {
     "data": {
      "application/vnd.plotly.v1+json": {
       "config": {
        "plotlyServerURL": "https://plot.ly"
       },
       "data": [
        {
         "hoverinfo": "none",
         "line": {
          "color": "rgb(210,210,210)",
          "width": 1
         },
         "mode": "lines",
         "type": "scatter",
         "x": [
          0,
          -7.8125,
          null,
          0,
          7.8125,
          null,
          7.8125,
          4.1875,
          null,
          7.8125,
          11.4375,
          null,
          4.1875,
          2.1875,
          null,
          4.1875,
          6.1875,
          null,
          11.4375,
          10.1875,
          null,
          11.4375,
          12.6875,
          null,
          2.1875,
          1.1875,
          null,
          2.1875,
          3.1875,
          null,
          6.1875,
          5.1875,
          null,
          6.1875,
          7.1875,
          null,
          10.1875,
          9.1875,
          null,
          10.1875,
          11.1875,
          null,
          12.6875,
          12.1875,
          null,
          12.6875,
          13.1875,
          null,
          1.1875,
          0.6875,
          null,
          1.1875,
          1.6875,
          null,
          3.1875,
          2.6875,
          null,
          3.1875,
          3.6875,
          null,
          5.1875,
          4.6875,
          null,
          5.1875,
          5.6875,
          null,
          9.1875,
          8.6875,
          null,
          9.1875,
          9.6875,
          null,
          11.1875,
          10.6875,
          null,
          11.1875,
          11.6875,
          null
         ],
         "y": [
          8,
          7,
          null,
          8,
          7,
          null,
          7,
          6,
          null,
          7,
          6,
          null,
          6,
          5,
          null,
          6,
          5,
          null,
          6,
          5,
          null,
          6,
          5,
          null,
          5,
          4,
          null,
          5,
          4,
          null,
          5,
          4,
          null,
          5,
          4,
          null,
          5,
          4,
          null,
          5,
          4,
          null,
          5,
          4,
          null,
          5,
          4,
          null,
          4,
          3,
          null,
          4,
          3,
          null,
          4,
          3,
          null,
          4,
          3,
          null,
          4,
          3,
          null,
          4,
          3,
          null,
          4,
          3,
          null,
          4,
          3,
          null,
          4,
          3,
          null,
          4,
          3,
          null
         ]
        },
        {
         "hoverinfo": "text",
         "marker": {
          "color": "#6175c1",
          "line": {
           "color": "rgb(50,50,50)",
           "width": 1
          },
          "size": 18,
          "symbol": "circle-dot"
         },
         "mode": "markers",
         "name": "Nodes",
         "opacity": 0.8,
         "text": [
          "n2, None, Bin Value: 158.2, pearson : 3860.8, Samples : 5",
          "n48, None, Bin Value: 132.25, pearson : 3173.5, Samples : 8",
          "n49, None, Bin Value: 113.47, pearson : 3283.73, Samples : 15",
          "n50, None, Bin Value: 125.22, pearson : 34637.06, Samples : 98",
          "n51, None, Bin Value: 122.8, pearson : 9407.2, Samples : 20",
          "n27, None, Bin Value: 97.2, pearson : 3452.8, Samples : 5",
          "n52, None, Bin Value: 107.78, pearson : 13313.47, Samples : 32",
          "n53, None, Bin Value: 113.56, pearson : 14287.11, Samples : 45",
          "n56, None, Bin Value: 91.2, pearson : 6617.6, Samples : 10",
          "n57, None, Bin Value: 124.4, pearson : 813.2, Samples : 5",
          "n58, None, Bin Value: 86.78, pearson : 2089.56, Samples : 9",
          "n59, None, Bin Value: 102.53, pearson : 6912.24, Samples : 17",
          "n30, None, Bin Value: 90, pearson : 1250, Samples : 5",
          "n31, None, Bin Value: 97.5, pearson : 5161.5, Samples : 6",
          "n1, Sales>1.17, Bin Value: 115.78, pearson : 155526.82, Samples : 280",
          "n3, Sales>9.97, Bin Value: 115.0, pearson : 142503.0, Samples : 275",
          "n6, Sales>7.53, Bin Value: 118.98, pearson : 95241.93, Samples : 223",
          "n12, Population>94.5, Bin Value: 124.03, pearson : 52885.89, Samples : 141",
          "n24, Sales>5.01, Bin Value: 120, pearson : 8298, Samples : 23",
          "n25, Sales>6.67, Bin Value: 124.81, pearson : 44141.9, Samples : 118",
          "n13, Population>496.5, Bin Value: 110.3, pearson : 32591.38, Samples : 82",
          "n26, Population>219.0, Bin Value: 111.16, pearson : 28224.13, Samples : 77",
          "n7, Sales>12.46, Bin Value: 97.94, pearson : 28594.83, Samples : 52",
          "n14, Sales>10.63, Bin Value: 98.98, pearson : 21822.98, Samples : 41",
          "n28, Sales>10.48, Bin Value: 102.27, pearson : 11104.93, Samples : 15",
          "n29, Sales>11.25, Bin Value: 97.08, pearson : 10461.85, Samples : 26",
          "n15, Population>182.5, Bin Value: 94.09, pearson : 6564.91, Samples : 11"
         ],
         "type": "scatter",
         "x": [
          -7.8125,
          0.6875,
          1.6875,
          2.6875,
          3.6875,
          7.1875,
          4.6875,
          5.6875,
          8.6875,
          9.6875,
          10.6875,
          11.6875,
          12.1875,
          13.1875,
          0,
          7.8125,
          4.1875,
          2.1875,
          1.1875,
          3.1875,
          6.1875,
          5.1875,
          11.4375,
          10.1875,
          9.1875,
          11.1875,
          12.6875
         ],
         "y": [
          7,
          3,
          3,
          3,
          3,
          4,
          3,
          3,
          3,
          3,
          3,
          3,
          4,
          4,
          8,
          7,
          6,
          5,
          4,
          4,
          5,
          4,
          6,
          5,
          4,
          4,
          5
         ]
        }
       ],
       "layout": {
        "template": {
         "data": {
          "bar": [
           {
            "error_x": {
             "color": "#2a3f5f"
            },
            "error_y": {
             "color": "#2a3f5f"
            },
            "marker": {
             "line": {
              "color": "#E5ECF6",
              "width": 0.5
             },
             "pattern": {
              "fillmode": "overlay",
              "size": 10,
              "solidity": 0.2
             }
            },
            "type": "bar"
           }
          ],
          "barpolar": [
           {
            "marker": {
             "line": {
              "color": "#E5ECF6",
              "width": 0.5
             },
             "pattern": {
              "fillmode": "overlay",
              "size": 10,
              "solidity": 0.2
             }
            },
            "type": "barpolar"
           }
          ],
          "carpet": [
           {
            "aaxis": {
             "endlinecolor": "#2a3f5f",
             "gridcolor": "white",
             "linecolor": "white",
             "minorgridcolor": "white",
             "startlinecolor": "#2a3f5f"
            },
            "baxis": {
             "endlinecolor": "#2a3f5f",
             "gridcolor": "white",
             "linecolor": "white",
             "minorgridcolor": "white",
             "startlinecolor": "#2a3f5f"
            },
            "type": "carpet"
           }
          ],
          "choropleth": [
           {
            "colorbar": {
             "outlinewidth": 0,
             "ticks": ""
            },
            "type": "choropleth"
           }
          ],
          "contour": [
           {
            "colorbar": {
             "outlinewidth": 0,
             "ticks": ""
            },
            "colorscale": [
             [
              0,
              "#0d0887"
             ],
             [
              0.1111111111111111,
              "#46039f"
             ],
             [
              0.2222222222222222,
              "#7201a8"
             ],
             [
              0.3333333333333333,
              "#9c179e"
             ],
             [
              0.4444444444444444,
              "#bd3786"
             ],
             [
              0.5555555555555556,
              "#d8576b"
             ],
             [
              0.6666666666666666,
              "#ed7953"
             ],
             [
              0.7777777777777778,
              "#fb9f3a"
             ],
             [
              0.8888888888888888,
              "#fdca26"
             ],
             [
              1,
              "#f0f921"
             ]
            ],
            "type": "contour"
           }
          ],
          "contourcarpet": [
           {
            "colorbar": {
             "outlinewidth": 0,
             "ticks": ""
            },
            "type": "contourcarpet"
           }
          ],
          "heatmap": [
           {
            "colorbar": {
             "outlinewidth": 0,
             "ticks": ""
            },
            "colorscale": [
             [
              0,
              "#0d0887"
             ],
             [
              0.1111111111111111,
              "#46039f"
             ],
             [
              0.2222222222222222,
              "#7201a8"
             ],
             [
              0.3333333333333333,
              "#9c179e"
             ],
             [
              0.4444444444444444,
              "#bd3786"
             ],
             [
              0.5555555555555556,
              "#d8576b"
             ],
             [
              0.6666666666666666,
              "#ed7953"
             ],
             [
              0.7777777777777778,
              "#fb9f3a"
             ],
             [
              0.8888888888888888,
              "#fdca26"
             ],
             [
              1,
              "#f0f921"
             ]
            ],
            "type": "heatmap"
           }
          ],
          "heatmapgl": [
           {
            "colorbar": {
             "outlinewidth": 0,
             "ticks": ""
            },
            "colorscale": [
             [
              0,
              "#0d0887"
             ],
             [
              0.1111111111111111,
              "#46039f"
             ],
             [
              0.2222222222222222,
              "#7201a8"
             ],
             [
              0.3333333333333333,
              "#9c179e"
             ],
             [
              0.4444444444444444,
              "#bd3786"
             ],
             [
              0.5555555555555556,
              "#d8576b"
             ],
             [
              0.6666666666666666,
              "#ed7953"
             ],
             [
              0.7777777777777778,
              "#fb9f3a"
             ],
             [
              0.8888888888888888,
              "#fdca26"
             ],
             [
              1,
              "#f0f921"
             ]
            ],
            "type": "heatmapgl"
           }
          ],
          "histogram": [
           {
            "marker": {
             "pattern": {
              "fillmode": "overlay",
              "size": 10,
              "solidity": 0.2
             }
            },
            "type": "histogram"
           }
          ],
          "histogram2d": [
           {
            "colorbar": {
             "outlinewidth": 0,
             "ticks": ""
            },
            "colorscale": [
             [
              0,
              "#0d0887"
             ],
             [
              0.1111111111111111,
              "#46039f"
             ],
             [
              0.2222222222222222,
              "#7201a8"
             ],
             [
              0.3333333333333333,
              "#9c179e"
             ],
             [
              0.4444444444444444,
              "#bd3786"
             ],
             [
              0.5555555555555556,
              "#d8576b"
             ],
             [
              0.6666666666666666,
              "#ed7953"
             ],
             [
              0.7777777777777778,
              "#fb9f3a"
             ],
             [
              0.8888888888888888,
              "#fdca26"
             ],
             [
              1,
              "#f0f921"
             ]
            ],
            "type": "histogram2d"
           }
          ],
          "histogram2dcontour": [
           {
            "colorbar": {
             "outlinewidth": 0,
             "ticks": ""
            },
            "colorscale": [
             [
              0,
              "#0d0887"
             ],
             [
              0.1111111111111111,
              "#46039f"
             ],
             [
              0.2222222222222222,
              "#7201a8"
             ],
             [
              0.3333333333333333,
              "#9c179e"
             ],
             [
              0.4444444444444444,
              "#bd3786"
             ],
             [
              0.5555555555555556,
              "#d8576b"
             ],
             [
              0.6666666666666666,
              "#ed7953"
             ],
             [
              0.7777777777777778,
              "#fb9f3a"
             ],
             [
              0.8888888888888888,
              "#fdca26"
             ],
             [
              1,
              "#f0f921"
             ]
            ],
            "type": "histogram2dcontour"
           }
          ],
          "mesh3d": [
           {
            "colorbar": {
             "outlinewidth": 0,
             "ticks": ""
            },
            "type": "mesh3d"
           }
          ],
          "parcoords": [
           {
            "line": {
             "colorbar": {
              "outlinewidth": 0,
              "ticks": ""
             }
            },
            "type": "parcoords"
           }
          ],
          "pie": [
           {
            "automargin": true,
            "type": "pie"
           }
          ],
          "scatter": [
           {
            "fillpattern": {
             "fillmode": "overlay",
             "size": 10,
             "solidity": 0.2
            },
            "type": "scatter"
           }
          ],
          "scatter3d": [
           {
            "line": {
             "colorbar": {
              "outlinewidth": 0,
              "ticks": ""
             }
            },
            "marker": {
             "colorbar": {
              "outlinewidth": 0,
              "ticks": ""
             }
            },
            "type": "scatter3d"
           }
          ],
          "scattercarpet": [
           {
            "marker": {
             "colorbar": {
              "outlinewidth": 0,
              "ticks": ""
             }
            },
            "type": "scattercarpet"
           }
          ],
          "scattergeo": [
           {
            "marker": {
             "colorbar": {
              "outlinewidth": 0,
              "ticks": ""
             }
            },
            "type": "scattergeo"
           }
          ],
          "scattergl": [
           {
            "marker": {
             "colorbar": {
              "outlinewidth": 0,
              "ticks": ""
             }
            },
            "type": "scattergl"
           }
          ],
          "scattermapbox": [
           {
            "marker": {
             "colorbar": {
              "outlinewidth": 0,
              "ticks": ""
             }
            },
            "type": "scattermapbox"
           }
          ],
          "scatterpolar": [
           {
            "marker": {
             "colorbar": {
              "outlinewidth": 0,
              "ticks": ""
             }
            },
            "type": "scatterpolar"
           }
          ],
          "scatterpolargl": [
           {
            "marker": {
             "colorbar": {
              "outlinewidth": 0,
              "ticks": ""
             }
            },
            "type": "scatterpolargl"
           }
          ],
          "scatterternary": [
           {
            "marker": {
             "colorbar": {
              "outlinewidth": 0,
              "ticks": ""
             }
            },
            "type": "scatterternary"
           }
          ],
          "surface": [
           {
            "colorbar": {
             "outlinewidth": 0,
             "ticks": ""
            },
            "colorscale": [
             [
              0,
              "#0d0887"
             ],
             [
              0.1111111111111111,
              "#46039f"
             ],
             [
              0.2222222222222222,
              "#7201a8"
             ],
             [
              0.3333333333333333,
              "#9c179e"
             ],
             [
              0.4444444444444444,
              "#bd3786"
             ],
             [
              0.5555555555555556,
              "#d8576b"
             ],
             [
              0.6666666666666666,
              "#ed7953"
             ],
             [
              0.7777777777777778,
              "#fb9f3a"
             ],
             [
              0.8888888888888888,
              "#fdca26"
             ],
             [
              1,
              "#f0f921"
             ]
            ],
            "type": "surface"
           }
          ],
          "table": [
           {
            "cells": {
             "fill": {
              "color": "#EBF0F8"
             },
             "line": {
              "color": "white"
             }
            },
            "header": {
             "fill": {
              "color": "#C8D4E3"
             },
             "line": {
              "color": "white"
             }
            },
            "type": "table"
           }
          ]
         },
         "layout": {
          "annotationdefaults": {
           "arrowcolor": "#2a3f5f",
           "arrowhead": 0,
           "arrowwidth": 1
          },
          "autotypenumbers": "strict",
          "coloraxis": {
           "colorbar": {
            "outlinewidth": 0,
            "ticks": ""
           }
          },
          "colorscale": {
           "diverging": [
            [
             0,
             "#8e0152"
            ],
            [
             0.1,
             "#c51b7d"
            ],
            [
             0.2,
             "#de77ae"
            ],
            [
             0.3,
             "#f1b6da"
            ],
            [
             0.4,
             "#fde0ef"
            ],
            [
             0.5,
             "#f7f7f7"
            ],
            [
             0.6,
             "#e6f5d0"
            ],
            [
             0.7,
             "#b8e186"
            ],
            [
             0.8,
             "#7fbc41"
            ],
            [
             0.9,
             "#4d9221"
            ],
            [
             1,
             "#276419"
            ]
           ],
           "sequential": [
            [
             0,
             "#0d0887"
            ],
            [
             0.1111111111111111,
             "#46039f"
            ],
            [
             0.2222222222222222,
             "#7201a8"
            ],
            [
             0.3333333333333333,
             "#9c179e"
            ],
            [
             0.4444444444444444,
             "#bd3786"
            ],
            [
             0.5555555555555556,
             "#d8576b"
            ],
            [
             0.6666666666666666,
             "#ed7953"
            ],
            [
             0.7777777777777778,
             "#fb9f3a"
            ],
            [
             0.8888888888888888,
             "#fdca26"
            ],
            [
             1,
             "#f0f921"
            ]
           ],
           "sequentialminus": [
            [
             0,
             "#0d0887"
            ],
            [
             0.1111111111111111,
             "#46039f"
            ],
            [
             0.2222222222222222,
             "#7201a8"
            ],
            [
             0.3333333333333333,
             "#9c179e"
            ],
            [
             0.4444444444444444,
             "#bd3786"
            ],
            [
             0.5555555555555556,
             "#d8576b"
            ],
            [
             0.6666666666666666,
             "#ed7953"
            ],
            [
             0.7777777777777778,
             "#fb9f3a"
            ],
            [
             0.8888888888888888,
             "#fdca26"
            ],
            [
             1,
             "#f0f921"
            ]
           ]
          },
          "colorway": [
           "#636efa",
           "#EF553B",
           "#00cc96",
           "#ab63fa",
           "#FFA15A",
           "#19d3f3",
           "#FF6692",
           "#B6E880",
           "#FF97FF",
           "#FECB52"
          ],
          "font": {
           "color": "#2a3f5f"
          },
          "geo": {
           "bgcolor": "white",
           "lakecolor": "white",
           "landcolor": "#E5ECF6",
           "showlakes": true,
           "showland": true,
           "subunitcolor": "white"
          },
          "hoverlabel": {
           "align": "left"
          },
          "hovermode": "closest",
          "mapbox": {
           "style": "light"
          },
          "paper_bgcolor": "white",
          "plot_bgcolor": "#E5ECF6",
          "polar": {
           "angularaxis": {
            "gridcolor": "white",
            "linecolor": "white",
            "ticks": ""
           },
           "bgcolor": "#E5ECF6",
           "radialaxis": {
            "gridcolor": "white",
            "linecolor": "white",
            "ticks": ""
           }
          },
          "scene": {
           "xaxis": {
            "backgroundcolor": "#E5ECF6",
            "gridcolor": "white",
            "gridwidth": 2,
            "linecolor": "white",
            "showbackground": true,
            "ticks": "",
            "zerolinecolor": "white"
           },
           "yaxis": {
            "backgroundcolor": "#E5ECF6",
            "gridcolor": "white",
            "gridwidth": 2,
            "linecolor": "white",
            "showbackground": true,
            "ticks": "",
            "zerolinecolor": "white"
           },
           "zaxis": {
            "backgroundcolor": "#E5ECF6",
            "gridcolor": "white",
            "gridwidth": 2,
            "linecolor": "white",
            "showbackground": true,
            "ticks": "",
            "zerolinecolor": "white"
           }
          },
          "shapedefaults": {
           "line": {
            "color": "#2a3f5f"
           }
          },
          "ternary": {
           "aaxis": {
            "gridcolor": "white",
            "linecolor": "white",
            "ticks": ""
           },
           "baxis": {
            "gridcolor": "white",
            "linecolor": "white",
            "ticks": ""
           },
           "bgcolor": "#E5ECF6",
           "caxis": {
            "gridcolor": "white",
            "linecolor": "white",
            "ticks": ""
           }
          },
          "title": {
           "x": 0.05
          },
          "xaxis": {
           "automargin": true,
           "gridcolor": "white",
           "linecolor": "white",
           "ticks": "",
           "title": {
            "standoff": 15
           },
           "zerolinecolor": "white",
           "zerolinewidth": 2
          },
          "yaxis": {
           "automargin": true,
           "gridcolor": "white",
           "linecolor": "white",
           "ticks": "",
           "title": {
            "standoff": 15
           },
           "zerolinecolor": "white",
           "zerolinewidth": 2
          }
         }
        },
        "title": {
         "text": "TREEplus_tree"
        }
       }
      }
     },
     "metadata": {},
     "output_type": "display_data"
    },
    {
     "data": {
      "text/html": [
       "<style type=\"text/css\">\n",
       "</style>\n",
       "<table id=\"T_807a3\">\n",
       "  <thead>\n",
       "    <tr>\n",
       "      <th id=\"T_807a3_level0_col0\" class=\"col_heading level0 col0\" >Node</th>\n",
       "      <th id=\"T_807a3_level0_col1\" class=\"col_heading level0 col1\" >Node Type</th>\n",
       "      <th id=\"T_807a3_level0_col2\" class=\"col_heading level0 col2\" >Variable Split</th>\n",
       "      <th id=\"T_807a3_level0_col3\" class=\"col_heading level0 col3\" >Twoing Classes C1</th>\n",
       "      <th id=\"T_807a3_level0_col4\" class=\"col_heading level0 col4\" >Twoing Classes C2</th>\n",
       "      <th id=\"T_807a3_level0_col5\" class=\"col_heading level0 col5\" >n</th>\n",
       "      <th id=\"T_807a3_level0_col6\" class=\"col_heading level0 col6\" >Deviance</th>\n",
       "      <th id=\"T_807a3_level0_col7\" class=\"col_heading level0 col7\" >Explained Deviance</th>\n",
       "      <th id=\"T_807a3_level0_col8\" class=\"col_heading level0 col8\" >Class/Value</th>\n",
       "    </tr>\n",
       "  </thead>\n",
       "  <tbody>\n",
       "    <tr>\n",
       "      <td id=\"T_807a3_row0_col0\" class=\"data row0 col0\" >n1</td>\n",
       "      <td id=\"T_807a3_row0_col1\" class=\"data row0 col1\" >Parent</td>\n",
       "      <td id=\"T_807a3_row0_col2\" class=\"data row0 col2\" >Sales>1.17</td>\n",
       "      <td id=\"T_807a3_row0_col3\" class=\"data row0 col3\" ><=160</td>\n",
       "      <td id=\"T_807a3_row0_col4\" class=\"data row0 col4\" >>160</td>\n",
       "      <td id=\"T_807a3_row0_col5\" class=\"data row0 col5\" >280</td>\n",
       "      <td id=\"T_807a3_row0_col6\" class=\"data row0 col6\" >155526.82</td>\n",
       "      <td id=\"T_807a3_row0_col7\" class=\"data row0 col7\" >0.059</td>\n",
       "      <td id=\"T_807a3_row0_col8\" class=\"data row0 col8\" >115.78</td>\n",
       "    </tr>\n",
       "    <tr>\n",
       "      <td id=\"T_807a3_row1_col0\" class=\"data row1 col0\" >n2</td>\n",
       "      <td id=\"T_807a3_row1_col1\" class=\"data row1 col1\" >Child</td>\n",
       "      <td id=\"T_807a3_row1_col2\" class=\"data row1 col2\" >None</td>\n",
       "      <td id=\"T_807a3_row1_col3\" class=\"data row1 col3\" >None</td>\n",
       "      <td id=\"T_807a3_row1_col4\" class=\"data row1 col4\" >None</td>\n",
       "      <td id=\"T_807a3_row1_col5\" class=\"data row1 col5\" >5</td>\n",
       "      <td id=\"T_807a3_row1_col6\" class=\"data row1 col6\" >3860.8</td>\n",
       "      <td id=\"T_807a3_row1_col7\" class=\"data row1 col7\" >None</td>\n",
       "      <td id=\"T_807a3_row1_col8\" class=\"data row1 col8\" >158.2</td>\n",
       "    </tr>\n",
       "    <tr>\n",
       "      <td id=\"T_807a3_row2_col0\" class=\"data row2 col0\" >n3</td>\n",
       "      <td id=\"T_807a3_row2_col1\" class=\"data row2 col1\" >Parent</td>\n",
       "      <td id=\"T_807a3_row2_col2\" class=\"data row2 col2\" >Sales>9.97</td>\n",
       "      <td id=\"T_807a3_row2_col3\" class=\"data row2 col3\" ><=87</td>\n",
       "      <td id=\"T_807a3_row2_col4\" class=\"data row2 col4\" >>87</td>\n",
       "      <td id=\"T_807a3_row2_col5\" class=\"data row2 col5\" >275</td>\n",
       "      <td id=\"T_807a3_row2_col6\" class=\"data row2 col6\" >142503.0</td>\n",
       "      <td id=\"T_807a3_row2_col7\" class=\"data row2 col7\" >0.179</td>\n",
       "      <td id=\"T_807a3_row2_col8\" class=\"data row2 col8\" >115.0</td>\n",
       "    </tr>\n",
       "    <tr>\n",
       "      <td id=\"T_807a3_row3_col0\" class=\"data row3 col0\" >n6</td>\n",
       "      <td id=\"T_807a3_row3_col1\" class=\"data row3 col1\" >Parent</td>\n",
       "      <td id=\"T_807a3_row3_col2\" class=\"data row3 col2\" >Sales>7.53</td>\n",
       "      <td id=\"T_807a3_row3_col3\" class=\"data row3 col3\" ><=122</td>\n",
       "      <td id=\"T_807a3_row3_col4\" class=\"data row3 col4\" >>122</td>\n",
       "      <td id=\"T_807a3_row3_col5\" class=\"data row3 col5\" >223</td>\n",
       "      <td id=\"T_807a3_row3_col6\" class=\"data row3 col6\" >95241.93</td>\n",
       "      <td id=\"T_807a3_row3_col7\" class=\"data row3 col7\" >0.242</td>\n",
       "      <td id=\"T_807a3_row3_col8\" class=\"data row3 col8\" >118.98</td>\n",
       "    </tr>\n",
       "    <tr>\n",
       "      <td id=\"T_807a3_row4_col0\" class=\"data row4 col0\" >n12</td>\n",
       "      <td id=\"T_807a3_row4_col1\" class=\"data row4 col1\" >Parent</td>\n",
       "      <td id=\"T_807a3_row4_col2\" class=\"data row4 col2\" >Population>94.5</td>\n",
       "      <td id=\"T_807a3_row4_col3\" class=\"data row4 col3\" ><=116</td>\n",
       "      <td id=\"T_807a3_row4_col4\" class=\"data row4 col4\" >>116</td>\n",
       "      <td id=\"T_807a3_row4_col5\" class=\"data row4 col5\" >141</td>\n",
       "      <td id=\"T_807a3_row4_col6\" class=\"data row4 col6\" >52885.89</td>\n",
       "      <td id=\"T_807a3_row4_col7\" class=\"data row4 col7\" >0.245</td>\n",
       "      <td id=\"T_807a3_row4_col8\" class=\"data row4 col8\" >124.03</td>\n",
       "    </tr>\n",
       "    <tr>\n",
       "      <td id=\"T_807a3_row5_col0\" class=\"data row5 col0\" >n24</td>\n",
       "      <td id=\"T_807a3_row5_col1\" class=\"data row5 col1\" >Parent</td>\n",
       "      <td id=\"T_807a3_row5_col2\" class=\"data row5 col2\" >Sales>5.01</td>\n",
       "      <td id=\"T_807a3_row5_col3\" class=\"data row5 col3\" ><=117</td>\n",
       "      <td id=\"T_807a3_row5_col4\" class=\"data row5 col4\" >>117</td>\n",
       "      <td id=\"T_807a3_row5_col5\" class=\"data row5 col5\" >23</td>\n",
       "      <td id=\"T_807a3_row5_col6\" class=\"data row5 col6\" >8298.0</td>\n",
       "      <td id=\"T_807a3_row5_col7\" class=\"data row5 col7\" >0.256</td>\n",
       "      <td id=\"T_807a3_row5_col8\" class=\"data row5 col8\" >120</td>\n",
       "    </tr>\n",
       "    <tr>\n",
       "      <td id=\"T_807a3_row6_col0\" class=\"data row6 col0\" >n48</td>\n",
       "      <td id=\"T_807a3_row6_col1\" class=\"data row6 col1\" >Child</td>\n",
       "      <td id=\"T_807a3_row6_col2\" class=\"data row6 col2\" >None</td>\n",
       "      <td id=\"T_807a3_row6_col3\" class=\"data row6 col3\" >None</td>\n",
       "      <td id=\"T_807a3_row6_col4\" class=\"data row6 col4\" >None</td>\n",
       "      <td id=\"T_807a3_row6_col5\" class=\"data row6 col5\" >8</td>\n",
       "      <td id=\"T_807a3_row6_col6\" class=\"data row6 col6\" >3173.5</td>\n",
       "      <td id=\"T_807a3_row6_col7\" class=\"data row6 col7\" >None</td>\n",
       "      <td id=\"T_807a3_row6_col8\" class=\"data row6 col8\" >132.25</td>\n",
       "    </tr>\n",
       "    <tr>\n",
       "      <td id=\"T_807a3_row7_col0\" class=\"data row7 col0\" >n49</td>\n",
       "      <td id=\"T_807a3_row7_col1\" class=\"data row7 col1\" >Child</td>\n",
       "      <td id=\"T_807a3_row7_col2\" class=\"data row7 col2\" >None</td>\n",
       "      <td id=\"T_807a3_row7_col3\" class=\"data row7 col3\" >None</td>\n",
       "      <td id=\"T_807a3_row7_col4\" class=\"data row7 col4\" >None</td>\n",
       "      <td id=\"T_807a3_row7_col5\" class=\"data row7 col5\" >15</td>\n",
       "      <td id=\"T_807a3_row7_col6\" class=\"data row7 col6\" >3283.73</td>\n",
       "      <td id=\"T_807a3_row7_col7\" class=\"data row7 col7\" >None</td>\n",
       "      <td id=\"T_807a3_row7_col8\" class=\"data row7 col8\" >113.47</td>\n",
       "    </tr>\n",
       "    <tr>\n",
       "      <td id=\"T_807a3_row8_col0\" class=\"data row8 col0\" >n25</td>\n",
       "      <td id=\"T_807a3_row8_col1\" class=\"data row8 col1\" >Parent</td>\n",
       "      <td id=\"T_807a3_row8_col2\" class=\"data row8 col2\" >Sales>6.67</td>\n",
       "      <td id=\"T_807a3_row8_col3\" class=\"data row8 col3\" ><=166</td>\n",
       "      <td id=\"T_807a3_row8_col4\" class=\"data row8 col4\" >>166</td>\n",
       "      <td id=\"T_807a3_row8_col5\" class=\"data row8 col5\" >118</td>\n",
       "      <td id=\"T_807a3_row8_col6\" class=\"data row8 col6\" >44141.9</td>\n",
       "      <td id=\"T_807a3_row8_col7\" class=\"data row8 col7\" >0.257</td>\n",
       "      <td id=\"T_807a3_row8_col8\" class=\"data row8 col8\" >124.81</td>\n",
       "    </tr>\n",
       "    <tr>\n",
       "      <td id=\"T_807a3_row9_col0\" class=\"data row9 col0\" >n50</td>\n",
       "      <td id=\"T_807a3_row9_col1\" class=\"data row9 col1\" >Child</td>\n",
       "      <td id=\"T_807a3_row9_col2\" class=\"data row9 col2\" >None</td>\n",
       "      <td id=\"T_807a3_row9_col3\" class=\"data row9 col3\" >None</td>\n",
       "      <td id=\"T_807a3_row9_col4\" class=\"data row9 col4\" >None</td>\n",
       "      <td id=\"T_807a3_row9_col5\" class=\"data row9 col5\" >98</td>\n",
       "      <td id=\"T_807a3_row9_col6\" class=\"data row9 col6\" >34637.06</td>\n",
       "      <td id=\"T_807a3_row9_col7\" class=\"data row9 col7\" >None</td>\n",
       "      <td id=\"T_807a3_row9_col8\" class=\"data row9 col8\" >125.22</td>\n",
       "    </tr>\n",
       "    <tr>\n",
       "      <td id=\"T_807a3_row10_col0\" class=\"data row10 col0\" >n51</td>\n",
       "      <td id=\"T_807a3_row10_col1\" class=\"data row10 col1\" >Child</td>\n",
       "      <td id=\"T_807a3_row10_col2\" class=\"data row10 col2\" >None</td>\n",
       "      <td id=\"T_807a3_row10_col3\" class=\"data row10 col3\" >None</td>\n",
       "      <td id=\"T_807a3_row10_col4\" class=\"data row10 col4\" >None</td>\n",
       "      <td id=\"T_807a3_row10_col5\" class=\"data row10 col5\" >20</td>\n",
       "      <td id=\"T_807a3_row10_col6\" class=\"data row10 col6\" >9407.2</td>\n",
       "      <td id=\"T_807a3_row10_col7\" class=\"data row10 col7\" >None</td>\n",
       "      <td id=\"T_807a3_row10_col8\" class=\"data row10 col8\" >122.8</td>\n",
       "    </tr>\n",
       "    <tr>\n",
       "      <td id=\"T_807a3_row11_col0\" class=\"data row11 col0\" >n13</td>\n",
       "      <td id=\"T_807a3_row11_col1\" class=\"data row11 col1\" >Parent</td>\n",
       "      <td id=\"T_807a3_row11_col2\" class=\"data row11 col2\" >Population>496.5</td>\n",
       "      <td id=\"T_807a3_row11_col3\" class=\"data row11 col3\" ><=156</td>\n",
       "      <td id=\"T_807a3_row11_col4\" class=\"data row11 col4\" >>156</td>\n",
       "      <td id=\"T_807a3_row11_col5\" class=\"data row11 col5\" >82</td>\n",
       "      <td id=\"T_807a3_row11_col6\" class=\"data row11 col6\" >32591.38</td>\n",
       "      <td id=\"T_807a3_row11_col7\" class=\"data row11 col7\" >0.263</td>\n",
       "      <td id=\"T_807a3_row11_col8\" class=\"data row11 col8\" >110.3</td>\n",
       "    </tr>\n",
       "    <tr>\n",
       "      <td id=\"T_807a3_row12_col0\" class=\"data row12 col0\" >n27</td>\n",
       "      <td id=\"T_807a3_row12_col1\" class=\"data row12 col1\" >Child</td>\n",
       "      <td id=\"T_807a3_row12_col2\" class=\"data row12 col2\" >None</td>\n",
       "      <td id=\"T_807a3_row12_col3\" class=\"data row12 col3\" >None</td>\n",
       "      <td id=\"T_807a3_row12_col4\" class=\"data row12 col4\" >None</td>\n",
       "      <td id=\"T_807a3_row12_col5\" class=\"data row12 col5\" >5</td>\n",
       "      <td id=\"T_807a3_row12_col6\" class=\"data row12 col6\" >3452.8</td>\n",
       "      <td id=\"T_807a3_row12_col7\" class=\"data row12 col7\" >None</td>\n",
       "      <td id=\"T_807a3_row12_col8\" class=\"data row12 col8\" >97.2</td>\n",
       "    </tr>\n",
       "    <tr>\n",
       "      <td id=\"T_807a3_row13_col0\" class=\"data row13 col0\" >n26</td>\n",
       "      <td id=\"T_807a3_row13_col1\" class=\"data row13 col1\" >Parent</td>\n",
       "      <td id=\"T_807a3_row13_col2\" class=\"data row13 col2\" >Population>219.0</td>\n",
       "      <td id=\"T_807a3_row13_col3\" class=\"data row13 col3\" ><=117</td>\n",
       "      <td id=\"T_807a3_row13_col4\" class=\"data row13 col4\" >>117</td>\n",
       "      <td id=\"T_807a3_row13_col5\" class=\"data row13 col5\" >77</td>\n",
       "      <td id=\"T_807a3_row13_col6\" class=\"data row13 col6\" >28224.13</td>\n",
       "      <td id=\"T_807a3_row13_col7\" class=\"data row13 col7\" >0.267</td>\n",
       "      <td id=\"T_807a3_row13_col8\" class=\"data row13 col8\" >111.16</td>\n",
       "    </tr>\n",
       "    <tr>\n",
       "      <td id=\"T_807a3_row14_col0\" class=\"data row14 col0\" >n52</td>\n",
       "      <td id=\"T_807a3_row14_col1\" class=\"data row14 col1\" >Child</td>\n",
       "      <td id=\"T_807a3_row14_col2\" class=\"data row14 col2\" >None</td>\n",
       "      <td id=\"T_807a3_row14_col3\" class=\"data row14 col3\" >None</td>\n",
       "      <td id=\"T_807a3_row14_col4\" class=\"data row14 col4\" >None</td>\n",
       "      <td id=\"T_807a3_row14_col5\" class=\"data row14 col5\" >32</td>\n",
       "      <td id=\"T_807a3_row14_col6\" class=\"data row14 col6\" >13313.47</td>\n",
       "      <td id=\"T_807a3_row14_col7\" class=\"data row14 col7\" >None</td>\n",
       "      <td id=\"T_807a3_row14_col8\" class=\"data row14 col8\" >107.78</td>\n",
       "    </tr>\n",
       "    <tr>\n",
       "      <td id=\"T_807a3_row15_col0\" class=\"data row15 col0\" >n53</td>\n",
       "      <td id=\"T_807a3_row15_col1\" class=\"data row15 col1\" >Child</td>\n",
       "      <td id=\"T_807a3_row15_col2\" class=\"data row15 col2\" >None</td>\n",
       "      <td id=\"T_807a3_row15_col3\" class=\"data row15 col3\" >None</td>\n",
       "      <td id=\"T_807a3_row15_col4\" class=\"data row15 col4\" >None</td>\n",
       "      <td id=\"T_807a3_row15_col5\" class=\"data row15 col5\" >45</td>\n",
       "      <td id=\"T_807a3_row15_col6\" class=\"data row15 col6\" >14287.11</td>\n",
       "      <td id=\"T_807a3_row15_col7\" class=\"data row15 col7\" >None</td>\n",
       "      <td id=\"T_807a3_row15_col8\" class=\"data row15 col8\" >113.56</td>\n",
       "    </tr>\n",
       "    <tr>\n",
       "      <td id=\"T_807a3_row16_col0\" class=\"data row16 col0\" >n7</td>\n",
       "      <td id=\"T_807a3_row16_col1\" class=\"data row16 col1\" >Parent</td>\n",
       "      <td id=\"T_807a3_row16_col2\" class=\"data row16 col2\" >Sales>12.46</td>\n",
       "      <td id=\"T_807a3_row16_col3\" class=\"data row16 col3\" ><=139</td>\n",
       "      <td id=\"T_807a3_row16_col4\" class=\"data row16 col4\" >>139</td>\n",
       "      <td id=\"T_807a3_row16_col5\" class=\"data row16 col5\" >52</td>\n",
       "      <td id=\"T_807a3_row16_col6\" class=\"data row16 col6\" >28594.83</td>\n",
       "      <td id=\"T_807a3_row16_col7\" class=\"data row16 col7\" >0.268</td>\n",
       "      <td id=\"T_807a3_row16_col8\" class=\"data row16 col8\" >97.94</td>\n",
       "    </tr>\n",
       "    <tr>\n",
       "      <td id=\"T_807a3_row17_col0\" class=\"data row17 col0\" >n14</td>\n",
       "      <td id=\"T_807a3_row17_col1\" class=\"data row17 col1\" >Parent</td>\n",
       "      <td id=\"T_807a3_row17_col2\" class=\"data row17 col2\" >Sales>10.63</td>\n",
       "      <td id=\"T_807a3_row17_col3\" class=\"data row17 col3\" ><=90</td>\n",
       "      <td id=\"T_807a3_row17_col4\" class=\"data row17 col4\" >>90</td>\n",
       "      <td id=\"T_807a3_row17_col5\" class=\"data row17 col5\" >41</td>\n",
       "      <td id=\"T_807a3_row17_col6\" class=\"data row17 col6\" >21822.98</td>\n",
       "      <td id=\"T_807a3_row17_col7\" class=\"data row17 col7\" >0.27</td>\n",
       "      <td id=\"T_807a3_row17_col8\" class=\"data row17 col8\" >98.98</td>\n",
       "    </tr>\n",
       "    <tr>\n",
       "      <td id=\"T_807a3_row18_col0\" class=\"data row18 col0\" >n28</td>\n",
       "      <td id=\"T_807a3_row18_col1\" class=\"data row18 col1\" >Parent</td>\n",
       "      <td id=\"T_807a3_row18_col2\" class=\"data row18 col2\" >Sales>10.48</td>\n",
       "      <td id=\"T_807a3_row18_col3\" class=\"data row18 col3\" ><=80</td>\n",
       "      <td id=\"T_807a3_row18_col4\" class=\"data row18 col4\" >>80</td>\n",
       "      <td id=\"T_807a3_row18_col5\" class=\"data row18 col5\" >15</td>\n",
       "      <td id=\"T_807a3_row18_col6\" class=\"data row18 col6\" >11104.93</td>\n",
       "      <td id=\"T_807a3_row18_col7\" class=\"data row18 col7\" >0.294</td>\n",
       "      <td id=\"T_807a3_row18_col8\" class=\"data row18 col8\" >102.27</td>\n",
       "    </tr>\n",
       "    <tr>\n",
       "      <td id=\"T_807a3_row19_col0\" class=\"data row19 col0\" >n56</td>\n",
       "      <td id=\"T_807a3_row19_col1\" class=\"data row19 col1\" >Child</td>\n",
       "      <td id=\"T_807a3_row19_col2\" class=\"data row19 col2\" >None</td>\n",
       "      <td id=\"T_807a3_row19_col3\" class=\"data row19 col3\" >None</td>\n",
       "      <td id=\"T_807a3_row19_col4\" class=\"data row19 col4\" >None</td>\n",
       "      <td id=\"T_807a3_row19_col5\" class=\"data row19 col5\" >10</td>\n",
       "      <td id=\"T_807a3_row19_col6\" class=\"data row19 col6\" >6617.6</td>\n",
       "      <td id=\"T_807a3_row19_col7\" class=\"data row19 col7\" >None</td>\n",
       "      <td id=\"T_807a3_row19_col8\" class=\"data row19 col8\" >91.2</td>\n",
       "    </tr>\n",
       "    <tr>\n",
       "      <td id=\"T_807a3_row20_col0\" class=\"data row20 col0\" >n57</td>\n",
       "      <td id=\"T_807a3_row20_col1\" class=\"data row20 col1\" >Child</td>\n",
       "      <td id=\"T_807a3_row20_col2\" class=\"data row20 col2\" >None</td>\n",
       "      <td id=\"T_807a3_row20_col3\" class=\"data row20 col3\" >None</td>\n",
       "      <td id=\"T_807a3_row20_col4\" class=\"data row20 col4\" >None</td>\n",
       "      <td id=\"T_807a3_row20_col5\" class=\"data row20 col5\" >5</td>\n",
       "      <td id=\"T_807a3_row20_col6\" class=\"data row20 col6\" >813.2</td>\n",
       "      <td id=\"T_807a3_row20_col7\" class=\"data row20 col7\" >None</td>\n",
       "      <td id=\"T_807a3_row20_col8\" class=\"data row20 col8\" >124.4</td>\n",
       "    </tr>\n",
       "    <tr>\n",
       "      <td id=\"T_807a3_row21_col0\" class=\"data row21 col0\" >n29</td>\n",
       "      <td id=\"T_807a3_row21_col1\" class=\"data row21 col1\" >Parent</td>\n",
       "      <td id=\"T_807a3_row21_col2\" class=\"data row21 col2\" >Sales>11.25</td>\n",
       "      <td id=\"T_807a3_row21_col3\" class=\"data row21 col3\" ><=72</td>\n",
       "      <td id=\"T_807a3_row21_col4\" class=\"data row21 col4\" >>72</td>\n",
       "      <td id=\"T_807a3_row21_col5\" class=\"data row21 col5\" >26</td>\n",
       "      <td id=\"T_807a3_row21_col6\" class=\"data row21 col6\" >10461.85</td>\n",
       "      <td id=\"T_807a3_row21_col7\" class=\"data row21 col7\" >0.303</td>\n",
       "      <td id=\"T_807a3_row21_col8\" class=\"data row21 col8\" >97.08</td>\n",
       "    </tr>\n",
       "    <tr>\n",
       "      <td id=\"T_807a3_row22_col0\" class=\"data row22 col0\" >n58</td>\n",
       "      <td id=\"T_807a3_row22_col1\" class=\"data row22 col1\" >Child</td>\n",
       "      <td id=\"T_807a3_row22_col2\" class=\"data row22 col2\" >None</td>\n",
       "      <td id=\"T_807a3_row22_col3\" class=\"data row22 col3\" >None</td>\n",
       "      <td id=\"T_807a3_row22_col4\" class=\"data row22 col4\" >None</td>\n",
       "      <td id=\"T_807a3_row22_col5\" class=\"data row22 col5\" >9</td>\n",
       "      <td id=\"T_807a3_row22_col6\" class=\"data row22 col6\" >2089.56</td>\n",
       "      <td id=\"T_807a3_row22_col7\" class=\"data row22 col7\" >None</td>\n",
       "      <td id=\"T_807a3_row22_col8\" class=\"data row22 col8\" >86.78</td>\n",
       "    </tr>\n",
       "    <tr>\n",
       "      <td id=\"T_807a3_row23_col0\" class=\"data row23 col0\" >n59</td>\n",
       "      <td id=\"T_807a3_row23_col1\" class=\"data row23 col1\" >Child</td>\n",
       "      <td id=\"T_807a3_row23_col2\" class=\"data row23 col2\" >None</td>\n",
       "      <td id=\"T_807a3_row23_col3\" class=\"data row23 col3\" >None</td>\n",
       "      <td id=\"T_807a3_row23_col4\" class=\"data row23 col4\" >None</td>\n",
       "      <td id=\"T_807a3_row23_col5\" class=\"data row23 col5\" >17</td>\n",
       "      <td id=\"T_807a3_row23_col6\" class=\"data row23 col6\" >6912.24</td>\n",
       "      <td id=\"T_807a3_row23_col7\" class=\"data row23 col7\" >None</td>\n",
       "      <td id=\"T_807a3_row23_col8\" class=\"data row23 col8\" >102.53</td>\n",
       "    </tr>\n",
       "    <tr>\n",
       "      <td id=\"T_807a3_row24_col0\" class=\"data row24 col0\" >n15</td>\n",
       "      <td id=\"T_807a3_row24_col1\" class=\"data row24 col1\" >Parent</td>\n",
       "      <td id=\"T_807a3_row24_col2\" class=\"data row24 col2\" >Population>182.5</td>\n",
       "      <td id=\"T_807a3_row24_col3\" class=\"data row24 col3\" ><=104</td>\n",
       "      <td id=\"T_807a3_row24_col4\" class=\"data row24 col4\" >>104</td>\n",
       "      <td id=\"T_807a3_row24_col5\" class=\"data row24 col5\" >11</td>\n",
       "      <td id=\"T_807a3_row24_col6\" class=\"data row24 col6\" >6564.91</td>\n",
       "      <td id=\"T_807a3_row24_col7\" class=\"data row24 col7\" >0.304</td>\n",
       "      <td id=\"T_807a3_row24_col8\" class=\"data row24 col8\" >94.09</td>\n",
       "    </tr>\n",
       "    <tr>\n",
       "      <td id=\"T_807a3_row25_col0\" class=\"data row25 col0\" >n30</td>\n",
       "      <td id=\"T_807a3_row25_col1\" class=\"data row25 col1\" >Child</td>\n",
       "      <td id=\"T_807a3_row25_col2\" class=\"data row25 col2\" >None</td>\n",
       "      <td id=\"T_807a3_row25_col3\" class=\"data row25 col3\" >None</td>\n",
       "      <td id=\"T_807a3_row25_col4\" class=\"data row25 col4\" >None</td>\n",
       "      <td id=\"T_807a3_row25_col5\" class=\"data row25 col5\" >5</td>\n",
       "      <td id=\"T_807a3_row25_col6\" class=\"data row25 col6\" >1250.0</td>\n",
       "      <td id=\"T_807a3_row25_col7\" class=\"data row25 col7\" >None</td>\n",
       "      <td id=\"T_807a3_row25_col8\" class=\"data row25 col8\" >90</td>\n",
       "    </tr>\n",
       "    <tr>\n",
       "      <td id=\"T_807a3_row26_col0\" class=\"data row26 col0\" >n31</td>\n",
       "      <td id=\"T_807a3_row26_col1\" class=\"data row26 col1\" >Child</td>\n",
       "      <td id=\"T_807a3_row26_col2\" class=\"data row26 col2\" >None</td>\n",
       "      <td id=\"T_807a3_row26_col3\" class=\"data row26 col3\" >None</td>\n",
       "      <td id=\"T_807a3_row26_col4\" class=\"data row26 col4\" >None</td>\n",
       "      <td id=\"T_807a3_row26_col5\" class=\"data row26 col5\" >6</td>\n",
       "      <td id=\"T_807a3_row26_col6\" class=\"data row26 col6\" >5161.5</td>\n",
       "      <td id=\"T_807a3_row26_col7\" class=\"data row26 col7\" >None</td>\n",
       "      <td id=\"T_807a3_row26_col8\" class=\"data row26 col8\" >97.5</td>\n",
       "    </tr>\n",
       "  </tbody>\n",
       "</table>\n"
      ],
      "text/plain": [
       "<pandas.io.formats.style.Styler at 0x1357f9e4650>"
      ]
     },
     "execution_count": 4,
     "metadata": {},
     "output_type": "execute_result"
    }
   ],
   "source": [
    "#pd.set_option('display.max_rows', None)\n",
    "#pd.set_option('display.max_colwidth', 3000)\n",
    "\n",
    "tree.print_tree(table = True, html = False).style.hide()"
   ]
  },
  {
   "cell_type": "code",
   "execution_count": 7,
   "metadata": {},
   "outputs": [
    {
     "name": "stdout",
     "output_type": "stream",
     "text": [
      "To return the table, print_tree must be True: setting print_tree to True\n",
      "Best tree for test set has 4 leaves with a deviance of: 511.7878924039712 \n"
     ]
    },
    {
     "data": {
      "application/vnd.plotly.v1+json": {
       "config": {
        "plotlyServerURL": "https://plot.ly"
       },
       "data": [
        {
         "hoverinfo": "none",
         "line": {
          "color": "rgb(210,210,210)",
          "width": 1
         },
         "mode": "lines",
         "type": "scatter",
         "x": [
          0,
          -1.75,
          null,
          0,
          1.75,
          null,
          1.75,
          1.25,
          null,
          1.75,
          2.25,
          null,
          1.25,
          0.75,
          null,
          1.25,
          1.75,
          null
         ],
         "y": [
          4,
          3,
          null,
          4,
          3,
          null,
          3,
          2,
          null,
          3,
          2,
          null,
          2,
          1,
          null,
          2,
          1,
          null
         ]
        },
        {
         "hoverinfo": "text",
         "marker": {
          "color": "#6175c1",
          "line": {
           "color": "rgb(50,50,50)",
           "width": 1
          },
          "size": 18,
          "symbol": "circle-dot"
         },
         "mode": "markers",
         "name": "Nodes",
         "opacity": 0.8,
         "text": [
          "n2, None, Bin Value: 158.2, pearson : 3860.8, Samples : 5",
          "n1, Sales>1.17, Bin Value: 115.78, pearson : 155526.82, Samples : 280",
          "n3, Sales>9.97, Bin Value: 115.0, pearson : 142503.0, Samples : 275",
          "n6, Sales>7.53, Bin Value: 118.98, pearson : 95241.93, Samples : 223",
          "n12, Population>94.5, Bin Value: 124.03, pearson : 52885.89, Samples : 141",
          "n13, Population>496.5, Bin Value: 110.3, pearson : 32591.38, Samples : 82",
          "n7, Sales>12.46, Bin Value: 97.94, pearson : 28594.83, Samples : 52"
         ],
         "type": "scatter",
         "x": [
          -1.75,
          0,
          1.75,
          1.25,
          0.75,
          1.75,
          2.25
         ],
         "y": [
          3,
          4,
          3,
          2,
          1,
          1,
          2
         ]
        }
       ],
       "layout": {
        "template": {
         "data": {
          "bar": [
           {
            "error_x": {
             "color": "#2a3f5f"
            },
            "error_y": {
             "color": "#2a3f5f"
            },
            "marker": {
             "line": {
              "color": "#E5ECF6",
              "width": 0.5
             },
             "pattern": {
              "fillmode": "overlay",
              "size": 10,
              "solidity": 0.2
             }
            },
            "type": "bar"
           }
          ],
          "barpolar": [
           {
            "marker": {
             "line": {
              "color": "#E5ECF6",
              "width": 0.5
             },
             "pattern": {
              "fillmode": "overlay",
              "size": 10,
              "solidity": 0.2
             }
            },
            "type": "barpolar"
           }
          ],
          "carpet": [
           {
            "aaxis": {
             "endlinecolor": "#2a3f5f",
             "gridcolor": "white",
             "linecolor": "white",
             "minorgridcolor": "white",
             "startlinecolor": "#2a3f5f"
            },
            "baxis": {
             "endlinecolor": "#2a3f5f",
             "gridcolor": "white",
             "linecolor": "white",
             "minorgridcolor": "white",
             "startlinecolor": "#2a3f5f"
            },
            "type": "carpet"
           }
          ],
          "choropleth": [
           {
            "colorbar": {
             "outlinewidth": 0,
             "ticks": ""
            },
            "type": "choropleth"
           }
          ],
          "contour": [
           {
            "colorbar": {
             "outlinewidth": 0,
             "ticks": ""
            },
            "colorscale": [
             [
              0,
              "#0d0887"
             ],
             [
              0.1111111111111111,
              "#46039f"
             ],
             [
              0.2222222222222222,
              "#7201a8"
             ],
             [
              0.3333333333333333,
              "#9c179e"
             ],
             [
              0.4444444444444444,
              "#bd3786"
             ],
             [
              0.5555555555555556,
              "#d8576b"
             ],
             [
              0.6666666666666666,
              "#ed7953"
             ],
             [
              0.7777777777777778,
              "#fb9f3a"
             ],
             [
              0.8888888888888888,
              "#fdca26"
             ],
             [
              1,
              "#f0f921"
             ]
            ],
            "type": "contour"
           }
          ],
          "contourcarpet": [
           {
            "colorbar": {
             "outlinewidth": 0,
             "ticks": ""
            },
            "type": "contourcarpet"
           }
          ],
          "heatmap": [
           {
            "colorbar": {
             "outlinewidth": 0,
             "ticks": ""
            },
            "colorscale": [
             [
              0,
              "#0d0887"
             ],
             [
              0.1111111111111111,
              "#46039f"
             ],
             [
              0.2222222222222222,
              "#7201a8"
             ],
             [
              0.3333333333333333,
              "#9c179e"
             ],
             [
              0.4444444444444444,
              "#bd3786"
             ],
             [
              0.5555555555555556,
              "#d8576b"
             ],
             [
              0.6666666666666666,
              "#ed7953"
             ],
             [
              0.7777777777777778,
              "#fb9f3a"
             ],
             [
              0.8888888888888888,
              "#fdca26"
             ],
             [
              1,
              "#f0f921"
             ]
            ],
            "type": "heatmap"
           }
          ],
          "heatmapgl": [
           {
            "colorbar": {
             "outlinewidth": 0,
             "ticks": ""
            },
            "colorscale": [
             [
              0,
              "#0d0887"
             ],
             [
              0.1111111111111111,
              "#46039f"
             ],
             [
              0.2222222222222222,
              "#7201a8"
             ],
             [
              0.3333333333333333,
              "#9c179e"
             ],
             [
              0.4444444444444444,
              "#bd3786"
             ],
             [
              0.5555555555555556,
              "#d8576b"
             ],
             [
              0.6666666666666666,
              "#ed7953"
             ],
             [
              0.7777777777777778,
              "#fb9f3a"
             ],
             [
              0.8888888888888888,
              "#fdca26"
             ],
             [
              1,
              "#f0f921"
             ]
            ],
            "type": "heatmapgl"
           }
          ],
          "histogram": [
           {
            "marker": {
             "pattern": {
              "fillmode": "overlay",
              "size": 10,
              "solidity": 0.2
             }
            },
            "type": "histogram"
           }
          ],
          "histogram2d": [
           {
            "colorbar": {
             "outlinewidth": 0,
             "ticks": ""
            },
            "colorscale": [
             [
              0,
              "#0d0887"
             ],
             [
              0.1111111111111111,
              "#46039f"
             ],
             [
              0.2222222222222222,
              "#7201a8"
             ],
             [
              0.3333333333333333,
              "#9c179e"
             ],
             [
              0.4444444444444444,
              "#bd3786"
             ],
             [
              0.5555555555555556,
              "#d8576b"
             ],
             [
              0.6666666666666666,
              "#ed7953"
             ],
             [
              0.7777777777777778,
              "#fb9f3a"
             ],
             [
              0.8888888888888888,
              "#fdca26"
             ],
             [
              1,
              "#f0f921"
             ]
            ],
            "type": "histogram2d"
           }
          ],
          "histogram2dcontour": [
           {
            "colorbar": {
             "outlinewidth": 0,
             "ticks": ""
            },
            "colorscale": [
             [
              0,
              "#0d0887"
             ],
             [
              0.1111111111111111,
              "#46039f"
             ],
             [
              0.2222222222222222,
              "#7201a8"
             ],
             [
              0.3333333333333333,
              "#9c179e"
             ],
             [
              0.4444444444444444,
              "#bd3786"
             ],
             [
              0.5555555555555556,
              "#d8576b"
             ],
             [
              0.6666666666666666,
              "#ed7953"
             ],
             [
              0.7777777777777778,
              "#fb9f3a"
             ],
             [
              0.8888888888888888,
              "#fdca26"
             ],
             [
              1,
              "#f0f921"
             ]
            ],
            "type": "histogram2dcontour"
           }
          ],
          "mesh3d": [
           {
            "colorbar": {
             "outlinewidth": 0,
             "ticks": ""
            },
            "type": "mesh3d"
           }
          ],
          "parcoords": [
           {
            "line": {
             "colorbar": {
              "outlinewidth": 0,
              "ticks": ""
             }
            },
            "type": "parcoords"
           }
          ],
          "pie": [
           {
            "automargin": true,
            "type": "pie"
           }
          ],
          "scatter": [
           {
            "fillpattern": {
             "fillmode": "overlay",
             "size": 10,
             "solidity": 0.2
            },
            "type": "scatter"
           }
          ],
          "scatter3d": [
           {
            "line": {
             "colorbar": {
              "outlinewidth": 0,
              "ticks": ""
             }
            },
            "marker": {
             "colorbar": {
              "outlinewidth": 0,
              "ticks": ""
             }
            },
            "type": "scatter3d"
           }
          ],
          "scattercarpet": [
           {
            "marker": {
             "colorbar": {
              "outlinewidth": 0,
              "ticks": ""
             }
            },
            "type": "scattercarpet"
           }
          ],
          "scattergeo": [
           {
            "marker": {
             "colorbar": {
              "outlinewidth": 0,
              "ticks": ""
             }
            },
            "type": "scattergeo"
           }
          ],
          "scattergl": [
           {
            "marker": {
             "colorbar": {
              "outlinewidth": 0,
              "ticks": ""
             }
            },
            "type": "scattergl"
           }
          ],
          "scattermapbox": [
           {
            "marker": {
             "colorbar": {
              "outlinewidth": 0,
              "ticks": ""
             }
            },
            "type": "scattermapbox"
           }
          ],
          "scatterpolar": [
           {
            "marker": {
             "colorbar": {
              "outlinewidth": 0,
              "ticks": ""
             }
            },
            "type": "scatterpolar"
           }
          ],
          "scatterpolargl": [
           {
            "marker": {
             "colorbar": {
              "outlinewidth": 0,
              "ticks": ""
             }
            },
            "type": "scatterpolargl"
           }
          ],
          "scatterternary": [
           {
            "marker": {
             "colorbar": {
              "outlinewidth": 0,
              "ticks": ""
             }
            },
            "type": "scatterternary"
           }
          ],
          "surface": [
           {
            "colorbar": {
             "outlinewidth": 0,
             "ticks": ""
            },
            "colorscale": [
             [
              0,
              "#0d0887"
             ],
             [
              0.1111111111111111,
              "#46039f"
             ],
             [
              0.2222222222222222,
              "#7201a8"
             ],
             [
              0.3333333333333333,
              "#9c179e"
             ],
             [
              0.4444444444444444,
              "#bd3786"
             ],
             [
              0.5555555555555556,
              "#d8576b"
             ],
             [
              0.6666666666666666,
              "#ed7953"
             ],
             [
              0.7777777777777778,
              "#fb9f3a"
             ],
             [
              0.8888888888888888,
              "#fdca26"
             ],
             [
              1,
              "#f0f921"
             ]
            ],
            "type": "surface"
           }
          ],
          "table": [
           {
            "cells": {
             "fill": {
              "color": "#EBF0F8"
             },
             "line": {
              "color": "white"
             }
            },
            "header": {
             "fill": {
              "color": "#C8D4E3"
             },
             "line": {
              "color": "white"
             }
            },
            "type": "table"
           }
          ]
         },
         "layout": {
          "annotationdefaults": {
           "arrowcolor": "#2a3f5f",
           "arrowhead": 0,
           "arrowwidth": 1
          },
          "autotypenumbers": "strict",
          "coloraxis": {
           "colorbar": {
            "outlinewidth": 0,
            "ticks": ""
           }
          },
          "colorscale": {
           "diverging": [
            [
             0,
             "#8e0152"
            ],
            [
             0.1,
             "#c51b7d"
            ],
            [
             0.2,
             "#de77ae"
            ],
            [
             0.3,
             "#f1b6da"
            ],
            [
             0.4,
             "#fde0ef"
            ],
            [
             0.5,
             "#f7f7f7"
            ],
            [
             0.6,
             "#e6f5d0"
            ],
            [
             0.7,
             "#b8e186"
            ],
            [
             0.8,
             "#7fbc41"
            ],
            [
             0.9,
             "#4d9221"
            ],
            [
             1,
             "#276419"
            ]
           ],
           "sequential": [
            [
             0,
             "#0d0887"
            ],
            [
             0.1111111111111111,
             "#46039f"
            ],
            [
             0.2222222222222222,
             "#7201a8"
            ],
            [
             0.3333333333333333,
             "#9c179e"
            ],
            [
             0.4444444444444444,
             "#bd3786"
            ],
            [
             0.5555555555555556,
             "#d8576b"
            ],
            [
             0.6666666666666666,
             "#ed7953"
            ],
            [
             0.7777777777777778,
             "#fb9f3a"
            ],
            [
             0.8888888888888888,
             "#fdca26"
            ],
            [
             1,
             "#f0f921"
            ]
           ],
           "sequentialminus": [
            [
             0,
             "#0d0887"
            ],
            [
             0.1111111111111111,
             "#46039f"
            ],
            [
             0.2222222222222222,
             "#7201a8"
            ],
            [
             0.3333333333333333,
             "#9c179e"
            ],
            [
             0.4444444444444444,
             "#bd3786"
            ],
            [
             0.5555555555555556,
             "#d8576b"
            ],
            [
             0.6666666666666666,
             "#ed7953"
            ],
            [
             0.7777777777777778,
             "#fb9f3a"
            ],
            [
             0.8888888888888888,
             "#fdca26"
            ],
            [
             1,
             "#f0f921"
            ]
           ]
          },
          "colorway": [
           "#636efa",
           "#EF553B",
           "#00cc96",
           "#ab63fa",
           "#FFA15A",
           "#19d3f3",
           "#FF6692",
           "#B6E880",
           "#FF97FF",
           "#FECB52"
          ],
          "font": {
           "color": "#2a3f5f"
          },
          "geo": {
           "bgcolor": "white",
           "lakecolor": "white",
           "landcolor": "#E5ECF6",
           "showlakes": true,
           "showland": true,
           "subunitcolor": "white"
          },
          "hoverlabel": {
           "align": "left"
          },
          "hovermode": "closest",
          "mapbox": {
           "style": "light"
          },
          "paper_bgcolor": "white",
          "plot_bgcolor": "#E5ECF6",
          "polar": {
           "angularaxis": {
            "gridcolor": "white",
            "linecolor": "white",
            "ticks": ""
           },
           "bgcolor": "#E5ECF6",
           "radialaxis": {
            "gridcolor": "white",
            "linecolor": "white",
            "ticks": ""
           }
          },
          "scene": {
           "xaxis": {
            "backgroundcolor": "#E5ECF6",
            "gridcolor": "white",
            "gridwidth": 2,
            "linecolor": "white",
            "showbackground": true,
            "ticks": "",
            "zerolinecolor": "white"
           },
           "yaxis": {
            "backgroundcolor": "#E5ECF6",
            "gridcolor": "white",
            "gridwidth": 2,
            "linecolor": "white",
            "showbackground": true,
            "ticks": "",
            "zerolinecolor": "white"
           },
           "zaxis": {
            "backgroundcolor": "#E5ECF6",
            "gridcolor": "white",
            "gridwidth": 2,
            "linecolor": "white",
            "showbackground": true,
            "ticks": "",
            "zerolinecolor": "white"
           }
          },
          "shapedefaults": {
           "line": {
            "color": "#2a3f5f"
           }
          },
          "ternary": {
           "aaxis": {
            "gridcolor": "white",
            "linecolor": "white",
            "ticks": ""
           },
           "baxis": {
            "gridcolor": "white",
            "linecolor": "white",
            "ticks": ""
           },
           "bgcolor": "#E5ECF6",
           "caxis": {
            "gridcolor": "white",
            "linecolor": "white",
            "ticks": ""
           }
          },
          "title": {
           "x": 0.05
          },
          "xaxis": {
           "automargin": true,
           "gridcolor": "white",
           "linecolor": "white",
           "ticks": "",
           "title": {
            "standoff": 15
           },
           "zerolinecolor": "white",
           "zerolinewidth": 2
          },
          "yaxis": {
           "automargin": true,
           "gridcolor": "white",
           "linecolor": "white",
           "ticks": "",
           "title": {
            "standoff": 15
           },
           "zerolinecolor": "white",
           "zerolinewidth": 2
          }
         }
        },
        "title": {
         "text": "TREEplus_tree_pruned"
        }
       }
      }
     },
     "metadata": {},
     "output_type": "display_data"
    },
    {
     "data": {
      "text/html": [
       "<style type=\"text/css\">\n",
       "</style>\n",
       "<table id=\"T_300f1\">\n",
       "  <thead>\n",
       "    <tr>\n",
       "      <th id=\"T_300f1_level0_col0\" class=\"col_heading level0 col0\" >Node</th>\n",
       "      <th id=\"T_300f1_level0_col1\" class=\"col_heading level0 col1\" >Node Type</th>\n",
       "      <th id=\"T_300f1_level0_col2\" class=\"col_heading level0 col2\" >Variable Split</th>\n",
       "      <th id=\"T_300f1_level0_col3\" class=\"col_heading level0 col3\" >Twoing Classes C1</th>\n",
       "      <th id=\"T_300f1_level0_col4\" class=\"col_heading level0 col4\" >Twoing Classes C2</th>\n",
       "      <th id=\"T_300f1_level0_col5\" class=\"col_heading level0 col5\" >n</th>\n",
       "      <th id=\"T_300f1_level0_col6\" class=\"col_heading level0 col6\" >Deviance</th>\n",
       "      <th id=\"T_300f1_level0_col7\" class=\"col_heading level0 col7\" >Explained Deviance</th>\n",
       "      <th id=\"T_300f1_level0_col8\" class=\"col_heading level0 col8\" >Class/Value</th>\n",
       "    </tr>\n",
       "  </thead>\n",
       "  <tbody>\n",
       "    <tr>\n",
       "      <td id=\"T_300f1_row0_col0\" class=\"data row0 col0\" >n1</td>\n",
       "      <td id=\"T_300f1_row0_col1\" class=\"data row0 col1\" >Parent</td>\n",
       "      <td id=\"T_300f1_row0_col2\" class=\"data row0 col2\" >Sales>1.17</td>\n",
       "      <td id=\"T_300f1_row0_col3\" class=\"data row0 col3\" ><=160</td>\n",
       "      <td id=\"T_300f1_row0_col4\" class=\"data row0 col4\" >>160</td>\n",
       "      <td id=\"T_300f1_row0_col5\" class=\"data row0 col5\" >280</td>\n",
       "      <td id=\"T_300f1_row0_col6\" class=\"data row0 col6\" >155526.82</td>\n",
       "      <td id=\"T_300f1_row0_col7\" class=\"data row0 col7\" >0.059</td>\n",
       "      <td id=\"T_300f1_row0_col8\" class=\"data row0 col8\" >115.78</td>\n",
       "    </tr>\n",
       "    <tr>\n",
       "      <td id=\"T_300f1_row1_col0\" class=\"data row1 col0\" >n2</td>\n",
       "      <td id=\"T_300f1_row1_col1\" class=\"data row1 col1\" >Child</td>\n",
       "      <td id=\"T_300f1_row1_col2\" class=\"data row1 col2\" >None</td>\n",
       "      <td id=\"T_300f1_row1_col3\" class=\"data row1 col3\" >None</td>\n",
       "      <td id=\"T_300f1_row1_col4\" class=\"data row1 col4\" >None</td>\n",
       "      <td id=\"T_300f1_row1_col5\" class=\"data row1 col5\" >5</td>\n",
       "      <td id=\"T_300f1_row1_col6\" class=\"data row1 col6\" >3860.8</td>\n",
       "      <td id=\"T_300f1_row1_col7\" class=\"data row1 col7\" >None</td>\n",
       "      <td id=\"T_300f1_row1_col8\" class=\"data row1 col8\" >158.2</td>\n",
       "    </tr>\n",
       "    <tr>\n",
       "      <td id=\"T_300f1_row2_col0\" class=\"data row2 col0\" >n3</td>\n",
       "      <td id=\"T_300f1_row2_col1\" class=\"data row2 col1\" >Parent</td>\n",
       "      <td id=\"T_300f1_row2_col2\" class=\"data row2 col2\" >Sales>9.97</td>\n",
       "      <td id=\"T_300f1_row2_col3\" class=\"data row2 col3\" ><=87</td>\n",
       "      <td id=\"T_300f1_row2_col4\" class=\"data row2 col4\" >>87</td>\n",
       "      <td id=\"T_300f1_row2_col5\" class=\"data row2 col5\" >275</td>\n",
       "      <td id=\"T_300f1_row2_col6\" class=\"data row2 col6\" >142503.0</td>\n",
       "      <td id=\"T_300f1_row2_col7\" class=\"data row2 col7\" >0.179</td>\n",
       "      <td id=\"T_300f1_row2_col8\" class=\"data row2 col8\" >115.0</td>\n",
       "    </tr>\n",
       "    <tr>\n",
       "      <td id=\"T_300f1_row3_col0\" class=\"data row3 col0\" >n7</td>\n",
       "      <td id=\"T_300f1_row3_col1\" class=\"data row3 col1\" >Child</td>\n",
       "      <td id=\"T_300f1_row3_col2\" class=\"data row3 col2\" >None</td>\n",
       "      <td id=\"T_300f1_row3_col3\" class=\"data row3 col3\" >None</td>\n",
       "      <td id=\"T_300f1_row3_col4\" class=\"data row3 col4\" >None</td>\n",
       "      <td id=\"T_300f1_row3_col5\" class=\"data row3 col5\" >52</td>\n",
       "      <td id=\"T_300f1_row3_col6\" class=\"data row3 col6\" >28594.83</td>\n",
       "      <td id=\"T_300f1_row3_col7\" class=\"data row3 col7\" >None</td>\n",
       "      <td id=\"T_300f1_row3_col8\" class=\"data row3 col8\" >97.94</td>\n",
       "    </tr>\n",
       "    <tr>\n",
       "      <td id=\"T_300f1_row4_col0\" class=\"data row4 col0\" >n6</td>\n",
       "      <td id=\"T_300f1_row4_col1\" class=\"data row4 col1\" >Parent</td>\n",
       "      <td id=\"T_300f1_row4_col2\" class=\"data row4 col2\" >Sales>7.53</td>\n",
       "      <td id=\"T_300f1_row4_col3\" class=\"data row4 col3\" ><=122</td>\n",
       "      <td id=\"T_300f1_row4_col4\" class=\"data row4 col4\" >>122</td>\n",
       "      <td id=\"T_300f1_row4_col5\" class=\"data row4 col5\" >223</td>\n",
       "      <td id=\"T_300f1_row4_col6\" class=\"data row4 col6\" >95241.93</td>\n",
       "      <td id=\"T_300f1_row4_col7\" class=\"data row4 col7\" >0.242</td>\n",
       "      <td id=\"T_300f1_row4_col8\" class=\"data row4 col8\" >118.98</td>\n",
       "    </tr>\n",
       "    <tr>\n",
       "      <td id=\"T_300f1_row5_col0\" class=\"data row5 col0\" >n12</td>\n",
       "      <td id=\"T_300f1_row5_col1\" class=\"data row5 col1\" >Child</td>\n",
       "      <td id=\"T_300f1_row5_col2\" class=\"data row5 col2\" >None</td>\n",
       "      <td id=\"T_300f1_row5_col3\" class=\"data row5 col3\" >None</td>\n",
       "      <td id=\"T_300f1_row5_col4\" class=\"data row5 col4\" >None</td>\n",
       "      <td id=\"T_300f1_row5_col5\" class=\"data row5 col5\" >141</td>\n",
       "      <td id=\"T_300f1_row5_col6\" class=\"data row5 col6\" >52885.89</td>\n",
       "      <td id=\"T_300f1_row5_col7\" class=\"data row5 col7\" >None</td>\n",
       "      <td id=\"T_300f1_row5_col8\" class=\"data row5 col8\" >124.03</td>\n",
       "    </tr>\n",
       "    <tr>\n",
       "      <td id=\"T_300f1_row6_col0\" class=\"data row6 col0\" >n13</td>\n",
       "      <td id=\"T_300f1_row6_col1\" class=\"data row6 col1\" >Child</td>\n",
       "      <td id=\"T_300f1_row6_col2\" class=\"data row6 col2\" >None</td>\n",
       "      <td id=\"T_300f1_row6_col3\" class=\"data row6 col3\" >None</td>\n",
       "      <td id=\"T_300f1_row6_col4\" class=\"data row6 col4\" >None</td>\n",
       "      <td id=\"T_300f1_row6_col5\" class=\"data row6 col5\" >82</td>\n",
       "      <td id=\"T_300f1_row6_col6\" class=\"data row6 col6\" >32591.38</td>\n",
       "      <td id=\"T_300f1_row6_col7\" class=\"data row6 col7\" >None</td>\n",
       "      <td id=\"T_300f1_row6_col8\" class=\"data row6 col8\" >110.3</td>\n",
       "    </tr>\n",
       "  </tbody>\n",
       "</table>\n"
      ],
      "text/plain": [
       "<pandas.io.formats.style.Styler at 0x13562f90610>"
      ]
     },
     "execution_count": 7,
     "metadata": {},
     "output_type": "execute_result"
    }
   ],
   "source": [
    "alpha, pruned_table = tree.pruning(features_test, n_features_test, y_test, table = True)\n",
    "pruned_table.style.hide()"
   ]
  }
 ],
 "metadata": {
  "kernelspec": {
   "display_name": "base",
   "language": "python",
   "name": "python3"
  },
  "language_info": {
   "codemirror_mode": {
    "name": "ipython",
    "version": 3
   },
   "file_extension": ".py",
   "mimetype": "text/x-python",
   "name": "python",
   "nbconvert_exporter": "python",
   "pygments_lexer": "ipython3",
   "version": "3.11.0"
  },
  "orig_nbformat": 4
 },
 "nbformat": 4,
 "nbformat_minor": 2
}
