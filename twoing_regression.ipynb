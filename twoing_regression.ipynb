{
 "cells": [
  {
   "cell_type": "code",
   "execution_count": 1,
   "metadata": {},
   "outputs": [],
   "source": [
    "#from __future__ import annotations\n",
    "#from tkinter import N\n",
    "\n",
    "from TREE4.TREE4 import *\n",
    "\n",
    "import pandas as pd\n",
    "\n",
    "#d = dict(features, **n_features)  #merges the two dicts\n",
    "#df = pd.DataFrame(data=d)         #creates the dataframe\n",
    "\n",
    "#print(df)\n",
    "#import csv\n",
    "\n",
    "\n",
    "\n",
    "#####################################loading the carseats data#########################\n",
    "\n",
    "df=pd.read_csv('Carseats_train.csv')\n",
    "#df=df.iloc[:,1:]\n",
    "\n",
    "#df = df.iloc[:50, ] #making it easier for twoing\n",
    "\n",
    "features_names=list(df.columns)\n",
    "\n",
    "colonne=features_names[:6]\n",
    "features_name=features_names[7:9]\n",
    "features_names=colonne + features_name\n",
    "\n",
    "n_features_names=list(df.columns)\n",
    "columns = [(n_features_names[6])]\n",
    "n_features_name = n_features_names[9:11]\n",
    "n_features_names=columns + n_features_name\n",
    "\n",
    "features=df.iloc[:,0:6]\n",
    "features2=df.iloc[:,7:9]\n",
    "\n",
    "features=dict(features)\n",
    "features2=dict(features2)\n",
    "\n",
    "\n",
    "n_features=df.iloc[:,6:7]\n",
    "n_features2=df.iloc[:,9:11]\n",
    "\n",
    "\n",
    "n_features=dict(n_features)\n",
    "n_features2=dict(n_features2)\n",
    "\n",
    "features = dict(features, **features2)\n",
    "n_features = dict(n_features, **n_features2)\n",
    "\n",
    "\n",
    "\n",
    "y=features['Price']\n",
    "exclude_keys = ['Price']\n",
    "new_d = {k: features[k] for k in set(list(features.keys())) - set(exclude_keys)}\n",
    "features=new_d\n",
    "\n",
    "indici = np.arange(0, len(y))\n",
    "\n",
    "features_names3 = features_names[0:5]\n",
    "features_names4 = features_names[6:]\n",
    "features_names = features_names3 +  features_names4 \n",
    "\n",
    "#############Data Prep for prediction ############\n",
    "df_test=pd.read_csv('Carseats_test.csv')\n",
    "#df_test=df_test.iloc[:,1:]\n",
    "\n",
    "\n",
    "features_test=df_test.iloc[:,0:6]\n",
    "features2_test=df_test.iloc[:,7:9]\n",
    "\n",
    "features_test=dict(features_test)\n",
    "features2_test=dict(features2_test)\n",
    "\n",
    "\n",
    "n_features_test=df_test.iloc[:,6:7]\n",
    "n_features2_test=df_test.iloc[:,9:11]\n",
    "\n",
    "\n",
    "n_features_test=dict(n_features_test)\n",
    "n_features2_test=dict(n_features2_test)\n",
    "\n",
    "features_test = dict(features_test, **features2_test)\n",
    "n_features_test = dict(n_features_test, **n_features2_test)\n",
    "\n",
    "y_test=features_test['Price']\n",
    "\n",
    "y_test = y_test.tolist()\n",
    "\n",
    "del features_test[\"Price\"]   \n",
    "\n",
    "#impurity = impurity_fn('MSE') # chhose the simplest impurity functin (for regression tree)\n",
    "\n",
    "#impurity = Impurity (\"MSE\")\n",
    "# start a tree structure by instantiating its root\n",
    "#print(\"features\", features)\n",
    "#print(\"features_names\", features_names)\n",
    "#print(\"n_features\", n_features)\n",
    "#print(\"n_features_names\", n_features_names)\n",
    "\n",
    "\n",
    "\n",
    "############Program Running\n",
    "\n",
    "\n",
    "###User Defined Function \n",
    "\n",
    "\n",
    "\n",
    "#when definining a funcion please be aware we are using purity gain or information gain or greatest difference between variance, all positive aspects \n",
    "#adding user_defined as a possible impurity_fn and added user_impur to carry that function \n",
    "def user_fn(self, node): #impur just takes node in CART\n",
    "    \n",
    "    return (mean(self.y[node.indexes])**2)*len(self.y[node.indexes])\n",
    "\n",
    "\n",
    "\n",
    "\n"
   ]
  },
  {
   "attachments": {},
   "cell_type": "markdown",
   "metadata": {},
   "source": [
    "remember when running lbt will need classes for variables only!!\n",
    "\n",
    "will trial in twoing_classification as the data is there "
   ]
  },
  {
   "cell_type": "code",
   "execution_count": 2,
   "metadata": {},
   "outputs": [],
   "source": [
    "lbt = False\n",
    "if lbt == True:\n",
    "\n",
    "    min(features[\"Population\"]), max(features[\"Population\"])\n",
    "    features[\"Population\"].loc[features[\"Population\"]<100] = 1\n",
    "    features[\"Population\"].loc[features[\"Population\"].between(100,200)] = 2\n",
    "    features[\"Population\"].loc[features[\"Population\"].between(200,300)] = 3\n",
    "    features[\"Population\"].loc[features[\"Population\"].between(300,400)] = 4\n",
    "    features[\"Population\"].loc[features[\"Population\"]>=400] = 5\n",
    "    features[\"Population\"] = \"Population\" + features[\"Population\"].astype(str)\n",
    "\n",
    "    features[\"CompPrice\"].loc[features[\"CompPrice\"]<100] = 1\n",
    "    features[\"CompPrice\"].loc[features[\"CompPrice\"].between(100,125)] = 2\n",
    "    features[\"CompPrice\"].loc[features[\"CompPrice\"].between(125,150)] = 3\n",
    "    features[\"CompPrice\"].loc[features[\"CompPrice\"]>=150] = 4\n",
    "    features[\"CompPrice\"] = \"CompPrice\" + features[\"CompPrice\"].astype(str)\n",
    "\n",
    "    features[\"Sales\"] = round(features[\"Sales\"])\n",
    "    features[\"Sales\"] = \"Sales\" + features[\"Sales\"].astype(str)\n",
    "\n",
    "    features[\"Age\"].loc[features[\"Age\"]<35] = 1\n",
    "    features[\"Age\"].loc[features[\"Age\"].between(35,45)] = 2\n",
    "    features[\"Age\"].loc[features[\"Age\"].between(45,55)] = 3\n",
    "    features[\"Age\"].loc[features[\"Age\"].between(55,65)] = 4\n",
    "    features[\"Age\"].loc[features[\"Age\"]>=65] = 5\n",
    "    features[\"Age\"] = \"Age\" + features[\"Age\"].astype(str)\n",
    "\n",
    "    features[\"Advertising\"] = \"Advertising\" + features[\"Advertising\"].astype(str)\n",
    "\n",
    "    features[\"Education\"] = \"Education\" + features[\"Education\"].astype(str)\n",
    "\n",
    "    features[\"Income\"].loc[features[\"Income\"]<40] = 1\n",
    "    features[\"Income\"].loc[features[\"Income\"].between(40,60)] = 2\n",
    "    features[\"Income\"].loc[features[\"Income\"].between(60,80)] = 3\n",
    "    features[\"Income\"].loc[features[\"Income\"].between(80,100)] = 4\n",
    "    features[\"Income\"].loc[features[\"Income\"]>=100] = 5\n",
    "    features[\"Income\"] = \"Income\" + features[\"Income\"].astype(str)\n",
    "\n",
    "\n",
    "    for f in features:\n",
    "        n_features[f] = features[f]\n",
    "\n",
    "    n_features_names = n_features_names + features_names\n",
    "\n",
    "    features_names = []\n",
    "    features = []"
   ]
  },
  {
   "cell_type": "code",
   "execution_count": 3,
   "metadata": {},
   "outputs": [
    {
     "name": "stdout",
     "output_type": "stream",
     "text": [
      "Split Found:  n1 [['Sales', 1.165, 0.25994967727818896, 0]] start <TREE4.TREE4.NodeClass object at 0x000001BD7DC7E660> Sales > 1.17\n",
      "node_proportion_total  0.058916065677825244\n",
      "Split Found:  n3 [['Sales', 9.975, 0.1779100943899147, 1]] right <TREE4.TREE4.NodeClass object at 0x000001BD7E27D400> Sales > 9.97\n",
      "node_proportion_total  0.17893549762751215\n",
      "Node_proportion_gain  0.12001943194968691\n",
      "Split Found:  n6 [['Sales', 7.529999999999999, 0.0933332131484029, 2]] left <TREE4.TREE4.NodeClass object at 0x000001BD6D1FF890> Sales > 7.53\n",
      "node_proportion_total  0.24171993161514022\n",
      "Node_proportion_gain  0.06278443398762806\n",
      "Split Found:  n12 [['Sales', 6.675, 0.07296551724137573, 3]] left <TREE4.TREE4.NodeClass object at 0x000001BD7FC1BA10> Sales > 6.67\n",
      "node_proportion_total  0.24262173839678283\n",
      "Node_proportion_gain  0.0009018067816426167\n",
      "Split Found:  n24 [['Sales', 3.435, 0.06464889879871533, 4]] left <TREE4.TREE4.NodeClass object at 0x000001BD10E2EF90> Sales > 3.44\n",
      "node_proportion_total  0.24615218727450613\n",
      "Node_proportion_gain  0.0035304488777233023\n",
      "Split Found:  n25 [['Population', 228.5, 0.22161172161172207, 4]] right <TREE4.TREE4.NodeClass object at 0x000001BD7DD8F470> Population > 228.5\n",
      "node_proportion_total  0.2515593194689948\n",
      "Node_proportion_gain  0.005407132194488656\n",
      "Split Found:  n13 [['Population', 496.5, 0.1303491313880939, 3]] right <TREE4.TREE4.NodeClass object at 0x000001BD0D04F2C0> Population > 496.5\n",
      "node_proportion_total  0.2574390008593313\n",
      "Node_proportion_gain  0.005879681390336511\n",
      "Split Found:  n26 [['Sales', 7.74, 0.1229532163742688, 4]] left <TREE4.TREE4.NodeClass object at 0x000001BD0CAAEA80> Sales > 7.74\n",
      "node_proportion_total  0.27018507950433124\n",
      "Node_proportion_gain  0.012746078644999936\n",
      "Split Found:  n7 [['Population', 40.0, 0.18903591682419732, 2]] right <TREE4.TREE4.NodeClass object at 0x000001BD07797E90> Population > 40.0\n",
      "node_proportion_total  0.2951841275801268\n",
      "Node_proportion_gain  0.02499904807579556\n",
      "Node Search Split Error for:  n14 with obs in node:  6  which is less than minimum parent size:  10\n",
      "Split Found:  n15 [['Population', 403.0, 0.2549428104575161, 3]] right <TREE4.TREE4.NodeClass object at 0x000001BD130B6EA0> Population > 403.0\n",
      "node_proportion_total  0.3108027082937414\n",
      "Node_proportion_gain  0.015618580713614605\n",
      "Split Found:  n30 [['Income', 51.0, 0.25447016751364554, 4]] left <TREE4.TREE4.NodeClass object at 0x000001BD0D0DC380> Income > 51.0\n",
      "node_proportion_total  0.32415429193061374\n",
      "Node_proportion_gain  0.013351583636872333\n",
      "Split Found:  n31 [['CompPrice', 117.5, 0.5, 4]] right <TREE4.TREE4.NodeClass object at 0x000001BD7C8FEDE0> CompPrice > 117.5\n",
      "node_proportion_total  0.33293305619416325\n",
      "Node_proportion_gain  0.00877876426354951\n"
     ]
    },
    {
     "data": {
      "text/plain": [
       "(None,\n",
       " ((((None, None), (None, None)), ((None, None), None)),\n",
       "  (None, ((None, None), (None, None)))))"
      ]
     },
     "execution_count": 3,
     "metadata": {},
     "output_type": "execute_result"
    }
   ],
   "source": [
    "my_tree = NodeClass('n1', indici) \n",
    "tree = TREE4(y,features,features_names,n_features,n_features_names, impurity_fn = \"pearson\", problem=\"regression\", method = \"TWO-STAGE\", twoing = True, max_level = 4, min_cases_parent= 10,min_cases_child= 5, min_imp_gain=0.0001) \n",
    "tree.growing_tree(my_tree, max_k = 2) \n",
    "\n"
   ]
  },
  {
   "attachments": {},
   "cell_type": "markdown",
   "metadata": {},
   "source": [
    "these are the associated node proportion total, maybe should focus on gains instead "
   ]
  },
  {
   "cell_type": "code",
   "execution_count": 4,
   "metadata": {},
   "outputs": [
    {
     "data": {
      "application/vnd.plotly.v1+json": {
       "config": {
        "plotlyServerURL": "https://plot.ly"
       },
       "data": [
        {
         "hoverinfo": "none",
         "line": {
          "color": "rgb(210,210,210)",
          "width": 1
         },
         "mode": "lines",
         "type": "scatter",
         "x": [
          0,
          -8,
          null,
          0,
          8,
          null,
          8,
          4,
          null,
          8,
          12,
          null,
          4,
          2,
          null,
          4,
          6,
          null,
          12,
          10,
          null,
          12,
          14,
          null,
          2,
          1,
          null,
          2,
          3,
          null,
          6,
          5,
          null,
          6,
          7,
          null,
          14,
          13,
          null,
          14,
          15,
          null,
          1,
          0.5,
          null,
          1,
          1.5,
          null,
          3,
          2.5,
          null,
          3,
          3.5,
          null,
          5,
          4.5,
          null,
          5,
          5.5,
          null,
          13,
          12.5,
          null,
          13,
          13.5,
          null,
          15,
          14.5,
          null,
          15,
          15.5,
          null
         ],
         "y": [
          8,
          7,
          null,
          8,
          7,
          null,
          7,
          6,
          null,
          7,
          6,
          null,
          6,
          5,
          null,
          6,
          5,
          null,
          6,
          5,
          null,
          6,
          5,
          null,
          5,
          4,
          null,
          5,
          4,
          null,
          5,
          4,
          null,
          5,
          4,
          null,
          5,
          4,
          null,
          5,
          4,
          null,
          4,
          3,
          null,
          4,
          3,
          null,
          4,
          3,
          null,
          4,
          3,
          null,
          4,
          3,
          null,
          4,
          3,
          null,
          4,
          3,
          null,
          4,
          3,
          null,
          4,
          3,
          null,
          4,
          3,
          null
         ]
        },
        {
         "hoverinfo": "text",
         "marker": {
          "color": "#6175c1",
          "line": {
           "color": "rgb(50,50,50)",
           "width": 1
          },
          "size": 18,
          "symbol": "circle-dot"
         },
         "mode": "markers",
         "name": "Nodes",
         "opacity": 0.8,
         "text": [
          "n2<br>None<br>Bin Value: 158.2<br>pearson : 3860.8<br>Samples : 5<br>GPR: []<br>LPR: []",
          "n48<br>None<br>Bin Value: 130.62<br>pearson : 6015.08<br>Samples : 13<br>GPR: []<br>LPR: []",
          "n49<br>None<br>Bin Value: 123.72<br>pearson : 34562.83<br>Samples : 103<br>GPR: []<br>LPR: []",
          "n50<br>None<br>Bin Value: 127.92<br>pearson : 5596.92<br>Samples : 12<br>GPR: []<br>LPR: []",
          "n51<br>None<br>Bin Value: 116.31<br>pearson : 5180.77<br>Samples : 13<br>GPR: []<br>LPR: []",
          "n27<br>None<br>Bin Value: 97.2<br>pearson : 3452.8<br>Samples : 5<br>GPR: []<br>LPR: []",
          "n52<br>None<br>Bin Value: 98.73<br>pearson : 2862.18<br>Samples : 11<br>GPR: []<br>LPR: []",
          "n53<br>None<br>Bin Value: 113.23<br>pearson : 23379.59<br>Samples : 66<br>GPR: []<br>LPR: []",
          "n14<br>None<br>Bin Value: 74<br>pearson : 4226<br>Samples : 6<br>GPR: []<br>LPR: []",
          "n60<br>None<br>Bin Value: 88.5<br>pearson : 565.5<br>Samples : 6<br>GPR: []<br>LPR: []",
          "n61<br>None<br>Bin Value: 109<br>pearson : 11104<br>Samples : 28<br>GPR: []<br>LPR: []",
          "n62<br>None<br>Bin Value: 78.17<br>pearson : 1546.83<br>Samples : 6<br>GPR: []<br>LPR: []",
          "n63<br>None<br>Bin Value: 99.5<br>pearson : 1393.5<br>Samples : 6<br>GPR: []<br>LPR: []",
          "n1<br>Sales > 1.17<br>Bin Value: 115.78<br>pearson : 155526.82<br>Samples : 280<br>GPR: 0.884<br>LPR: 0.26",
          "n3<br>Sales > 9.97<br>Bin Value: 115.0<br>pearson : 142503.0<br>Samples : 275<br>GPR: 0.882<br>LPR: 0.178",
          "n6<br>Sales > 7.53<br>Bin Value: 118.98<br>pearson : 95241.93<br>Samples : 223<br>GPR: 0.863<br>LPR: 0.093",
          "n12<br>Sales > 6.67<br>Bin Value: 124.03<br>pearson : 52885.89<br>Samples : 141<br>GPR: 0.877<br>LPR: 0.073",
          "n24<br>Sales > 3.44<br>Bin Value: 124.49<br>pearson : 41126.99<br>Samples : 116<br>GPR: 0.885<br>LPR: 0.065",
          "n25<br>Population > 228.5<br>Bin Value: 121.88<br>pearson : 11618.64<br>Samples : 25<br>GPR: 1.0<br>LPR: 0.222",
          "n13<br>Population > 496.5<br>Bin Value: 110.3<br>pearson : 32591.38<br>Samples : 82<br>GPR: 0.849<br>LPR: 0.13",
          "n26<br>Sales > 7.74<br>Bin Value: 111.16<br>pearson : 28224.13<br>Samples : 77<br>GPR: 0.852<br>LPR: 0.123",
          "n7<br>Population > 40.0<br>Bin Value: 97.94<br>pearson : 28594.83<br>Samples : 52<br>GPR: 0.901<br>LPR: 0.189",
          "n15<br>Population > 403.0<br>Bin Value: 101.07<br>pearson : 20480.8<br>Samples : 46<br>GPR: 0.91<br>LPR: 0.255",
          "n30<br>Income > 51.0<br>Bin Value: 105.38<br>pearson : 13746.03<br>Samples : 34<br>GPR: 1.0<br>LPR: 0.254",
          "n31<br>CompPrice > 117.5<br>Bin Value: 88.83<br>pearson : 4305.67<br>Samples : 12<br>GPR: 1.0<br>LPR: 0.5"
         ],
         "type": "scatter",
         "x": [
          -8,
          0.5,
          1.5,
          2.5,
          3.5,
          7,
          4.5,
          5.5,
          10,
          12.5,
          13.5,
          14.5,
          15.5,
          0,
          8,
          4,
          2,
          1,
          3,
          6,
          5,
          12,
          14,
          13,
          15
         ],
         "y": [
          7,
          3,
          3,
          3,
          3,
          4,
          3,
          3,
          5,
          3,
          3,
          3,
          3,
          8,
          7,
          6,
          5,
          4,
          4,
          5,
          4,
          6,
          5,
          4,
          4
         ]
        }
       ],
       "layout": {
        "margin": {
         "b": 0,
         "l": 0,
         "r": 0,
         "t": 0
        },
        "plot_bgcolor": "rgba(0, 0, 0, 0)",
        "template": {
         "data": {
          "bar": [
           {
            "error_x": {
             "color": "#2a3f5f"
            },
            "error_y": {
             "color": "#2a3f5f"
            },
            "marker": {
             "line": {
              "color": "#E5ECF6",
              "width": 0.5
             },
             "pattern": {
              "fillmode": "overlay",
              "size": 10,
              "solidity": 0.2
             }
            },
            "type": "bar"
           }
          ],
          "barpolar": [
           {
            "marker": {
             "line": {
              "color": "#E5ECF6",
              "width": 0.5
             },
             "pattern": {
              "fillmode": "overlay",
              "size": 10,
              "solidity": 0.2
             }
            },
            "type": "barpolar"
           }
          ],
          "carpet": [
           {
            "aaxis": {
             "endlinecolor": "#2a3f5f",
             "gridcolor": "white",
             "linecolor": "white",
             "minorgridcolor": "white",
             "startlinecolor": "#2a3f5f"
            },
            "baxis": {
             "endlinecolor": "#2a3f5f",
             "gridcolor": "white",
             "linecolor": "white",
             "minorgridcolor": "white",
             "startlinecolor": "#2a3f5f"
            },
            "type": "carpet"
           }
          ],
          "choropleth": [
           {
            "colorbar": {
             "outlinewidth": 0,
             "ticks": ""
            },
            "type": "choropleth"
           }
          ],
          "contour": [
           {
            "colorbar": {
             "outlinewidth": 0,
             "ticks": ""
            },
            "colorscale": [
             [
              0,
              "#0d0887"
             ],
             [
              0.1111111111111111,
              "#46039f"
             ],
             [
              0.2222222222222222,
              "#7201a8"
             ],
             [
              0.3333333333333333,
              "#9c179e"
             ],
             [
              0.4444444444444444,
              "#bd3786"
             ],
             [
              0.5555555555555556,
              "#d8576b"
             ],
             [
              0.6666666666666666,
              "#ed7953"
             ],
             [
              0.7777777777777778,
              "#fb9f3a"
             ],
             [
              0.8888888888888888,
              "#fdca26"
             ],
             [
              1,
              "#f0f921"
             ]
            ],
            "type": "contour"
           }
          ],
          "contourcarpet": [
           {
            "colorbar": {
             "outlinewidth": 0,
             "ticks": ""
            },
            "type": "contourcarpet"
           }
          ],
          "heatmap": [
           {
            "colorbar": {
             "outlinewidth": 0,
             "ticks": ""
            },
            "colorscale": [
             [
              0,
              "#0d0887"
             ],
             [
              0.1111111111111111,
              "#46039f"
             ],
             [
              0.2222222222222222,
              "#7201a8"
             ],
             [
              0.3333333333333333,
              "#9c179e"
             ],
             [
              0.4444444444444444,
              "#bd3786"
             ],
             [
              0.5555555555555556,
              "#d8576b"
             ],
             [
              0.6666666666666666,
              "#ed7953"
             ],
             [
              0.7777777777777778,
              "#fb9f3a"
             ],
             [
              0.8888888888888888,
              "#fdca26"
             ],
             [
              1,
              "#f0f921"
             ]
            ],
            "type": "heatmap"
           }
          ],
          "heatmapgl": [
           {
            "colorbar": {
             "outlinewidth": 0,
             "ticks": ""
            },
            "colorscale": [
             [
              0,
              "#0d0887"
             ],
             [
              0.1111111111111111,
              "#46039f"
             ],
             [
              0.2222222222222222,
              "#7201a8"
             ],
             [
              0.3333333333333333,
              "#9c179e"
             ],
             [
              0.4444444444444444,
              "#bd3786"
             ],
             [
              0.5555555555555556,
              "#d8576b"
             ],
             [
              0.6666666666666666,
              "#ed7953"
             ],
             [
              0.7777777777777778,
              "#fb9f3a"
             ],
             [
              0.8888888888888888,
              "#fdca26"
             ],
             [
              1,
              "#f0f921"
             ]
            ],
            "type": "heatmapgl"
           }
          ],
          "histogram": [
           {
            "marker": {
             "pattern": {
              "fillmode": "overlay",
              "size": 10,
              "solidity": 0.2
             }
            },
            "type": "histogram"
           }
          ],
          "histogram2d": [
           {
            "colorbar": {
             "outlinewidth": 0,
             "ticks": ""
            },
            "colorscale": [
             [
              0,
              "#0d0887"
             ],
             [
              0.1111111111111111,
              "#46039f"
             ],
             [
              0.2222222222222222,
              "#7201a8"
             ],
             [
              0.3333333333333333,
              "#9c179e"
             ],
             [
              0.4444444444444444,
              "#bd3786"
             ],
             [
              0.5555555555555556,
              "#d8576b"
             ],
             [
              0.6666666666666666,
              "#ed7953"
             ],
             [
              0.7777777777777778,
              "#fb9f3a"
             ],
             [
              0.8888888888888888,
              "#fdca26"
             ],
             [
              1,
              "#f0f921"
             ]
            ],
            "type": "histogram2d"
           }
          ],
          "histogram2dcontour": [
           {
            "colorbar": {
             "outlinewidth": 0,
             "ticks": ""
            },
            "colorscale": [
             [
              0,
              "#0d0887"
             ],
             [
              0.1111111111111111,
              "#46039f"
             ],
             [
              0.2222222222222222,
              "#7201a8"
             ],
             [
              0.3333333333333333,
              "#9c179e"
             ],
             [
              0.4444444444444444,
              "#bd3786"
             ],
             [
              0.5555555555555556,
              "#d8576b"
             ],
             [
              0.6666666666666666,
              "#ed7953"
             ],
             [
              0.7777777777777778,
              "#fb9f3a"
             ],
             [
              0.8888888888888888,
              "#fdca26"
             ],
             [
              1,
              "#f0f921"
             ]
            ],
            "type": "histogram2dcontour"
           }
          ],
          "mesh3d": [
           {
            "colorbar": {
             "outlinewidth": 0,
             "ticks": ""
            },
            "type": "mesh3d"
           }
          ],
          "parcoords": [
           {
            "line": {
             "colorbar": {
              "outlinewidth": 0,
              "ticks": ""
             }
            },
            "type": "parcoords"
           }
          ],
          "pie": [
           {
            "automargin": true,
            "type": "pie"
           }
          ],
          "scatter": [
           {
            "fillpattern": {
             "fillmode": "overlay",
             "size": 10,
             "solidity": 0.2
            },
            "type": "scatter"
           }
          ],
          "scatter3d": [
           {
            "line": {
             "colorbar": {
              "outlinewidth": 0,
              "ticks": ""
             }
            },
            "marker": {
             "colorbar": {
              "outlinewidth": 0,
              "ticks": ""
             }
            },
            "type": "scatter3d"
           }
          ],
          "scattercarpet": [
           {
            "marker": {
             "colorbar": {
              "outlinewidth": 0,
              "ticks": ""
             }
            },
            "type": "scattercarpet"
           }
          ],
          "scattergeo": [
           {
            "marker": {
             "colorbar": {
              "outlinewidth": 0,
              "ticks": ""
             }
            },
            "type": "scattergeo"
           }
          ],
          "scattergl": [
           {
            "marker": {
             "colorbar": {
              "outlinewidth": 0,
              "ticks": ""
             }
            },
            "type": "scattergl"
           }
          ],
          "scattermapbox": [
           {
            "marker": {
             "colorbar": {
              "outlinewidth": 0,
              "ticks": ""
             }
            },
            "type": "scattermapbox"
           }
          ],
          "scatterpolar": [
           {
            "marker": {
             "colorbar": {
              "outlinewidth": 0,
              "ticks": ""
             }
            },
            "type": "scatterpolar"
           }
          ],
          "scatterpolargl": [
           {
            "marker": {
             "colorbar": {
              "outlinewidth": 0,
              "ticks": ""
             }
            },
            "type": "scatterpolargl"
           }
          ],
          "scatterternary": [
           {
            "marker": {
             "colorbar": {
              "outlinewidth": 0,
              "ticks": ""
             }
            },
            "type": "scatterternary"
           }
          ],
          "surface": [
           {
            "colorbar": {
             "outlinewidth": 0,
             "ticks": ""
            },
            "colorscale": [
             [
              0,
              "#0d0887"
             ],
             [
              0.1111111111111111,
              "#46039f"
             ],
             [
              0.2222222222222222,
              "#7201a8"
             ],
             [
              0.3333333333333333,
              "#9c179e"
             ],
             [
              0.4444444444444444,
              "#bd3786"
             ],
             [
              0.5555555555555556,
              "#d8576b"
             ],
             [
              0.6666666666666666,
              "#ed7953"
             ],
             [
              0.7777777777777778,
              "#fb9f3a"
             ],
             [
              0.8888888888888888,
              "#fdca26"
             ],
             [
              1,
              "#f0f921"
             ]
            ],
            "type": "surface"
           }
          ],
          "table": [
           {
            "cells": {
             "fill": {
              "color": "#EBF0F8"
             },
             "line": {
              "color": "white"
             }
            },
            "header": {
             "fill": {
              "color": "#C8D4E3"
             },
             "line": {
              "color": "white"
             }
            },
            "type": "table"
           }
          ]
         },
         "layout": {
          "annotationdefaults": {
           "arrowcolor": "#2a3f5f",
           "arrowhead": 0,
           "arrowwidth": 1
          },
          "autotypenumbers": "strict",
          "coloraxis": {
           "colorbar": {
            "outlinewidth": 0,
            "ticks": ""
           }
          },
          "colorscale": {
           "diverging": [
            [
             0,
             "#8e0152"
            ],
            [
             0.1,
             "#c51b7d"
            ],
            [
             0.2,
             "#de77ae"
            ],
            [
             0.3,
             "#f1b6da"
            ],
            [
             0.4,
             "#fde0ef"
            ],
            [
             0.5,
             "#f7f7f7"
            ],
            [
             0.6,
             "#e6f5d0"
            ],
            [
             0.7,
             "#b8e186"
            ],
            [
             0.8,
             "#7fbc41"
            ],
            [
             0.9,
             "#4d9221"
            ],
            [
             1,
             "#276419"
            ]
           ],
           "sequential": [
            [
             0,
             "#0d0887"
            ],
            [
             0.1111111111111111,
             "#46039f"
            ],
            [
             0.2222222222222222,
             "#7201a8"
            ],
            [
             0.3333333333333333,
             "#9c179e"
            ],
            [
             0.4444444444444444,
             "#bd3786"
            ],
            [
             0.5555555555555556,
             "#d8576b"
            ],
            [
             0.6666666666666666,
             "#ed7953"
            ],
            [
             0.7777777777777778,
             "#fb9f3a"
            ],
            [
             0.8888888888888888,
             "#fdca26"
            ],
            [
             1,
             "#f0f921"
            ]
           ],
           "sequentialminus": [
            [
             0,
             "#0d0887"
            ],
            [
             0.1111111111111111,
             "#46039f"
            ],
            [
             0.2222222222222222,
             "#7201a8"
            ],
            [
             0.3333333333333333,
             "#9c179e"
            ],
            [
             0.4444444444444444,
             "#bd3786"
            ],
            [
             0.5555555555555556,
             "#d8576b"
            ],
            [
             0.6666666666666666,
             "#ed7953"
            ],
            [
             0.7777777777777778,
             "#fb9f3a"
            ],
            [
             0.8888888888888888,
             "#fdca26"
            ],
            [
             1,
             "#f0f921"
            ]
           ]
          },
          "colorway": [
           "#636efa",
           "#EF553B",
           "#00cc96",
           "#ab63fa",
           "#FFA15A",
           "#19d3f3",
           "#FF6692",
           "#B6E880",
           "#FF97FF",
           "#FECB52"
          ],
          "font": {
           "color": "#2a3f5f"
          },
          "geo": {
           "bgcolor": "white",
           "lakecolor": "white",
           "landcolor": "#E5ECF6",
           "showlakes": true,
           "showland": true,
           "subunitcolor": "white"
          },
          "hoverlabel": {
           "align": "left"
          },
          "hovermode": "closest",
          "mapbox": {
           "style": "light"
          },
          "paper_bgcolor": "white",
          "plot_bgcolor": "#E5ECF6",
          "polar": {
           "angularaxis": {
            "gridcolor": "white",
            "linecolor": "white",
            "ticks": ""
           },
           "bgcolor": "#E5ECF6",
           "radialaxis": {
            "gridcolor": "white",
            "linecolor": "white",
            "ticks": ""
           }
          },
          "scene": {
           "xaxis": {
            "backgroundcolor": "#E5ECF6",
            "gridcolor": "white",
            "gridwidth": 2,
            "linecolor": "white",
            "showbackground": true,
            "ticks": "",
            "zerolinecolor": "white"
           },
           "yaxis": {
            "backgroundcolor": "#E5ECF6",
            "gridcolor": "white",
            "gridwidth": 2,
            "linecolor": "white",
            "showbackground": true,
            "ticks": "",
            "zerolinecolor": "white"
           },
           "zaxis": {
            "backgroundcolor": "#E5ECF6",
            "gridcolor": "white",
            "gridwidth": 2,
            "linecolor": "white",
            "showbackground": true,
            "ticks": "",
            "zerolinecolor": "white"
           }
          },
          "shapedefaults": {
           "line": {
            "color": "#2a3f5f"
           }
          },
          "ternary": {
           "aaxis": {
            "gridcolor": "white",
            "linecolor": "white",
            "ticks": ""
           },
           "baxis": {
            "gridcolor": "white",
            "linecolor": "white",
            "ticks": ""
           },
           "bgcolor": "#E5ECF6",
           "caxis": {
            "gridcolor": "white",
            "linecolor": "white",
            "ticks": ""
           }
          },
          "title": {
           "x": 0.05
          },
          "xaxis": {
           "automargin": true,
           "gridcolor": "white",
           "linecolor": "white",
           "ticks": "",
           "title": {
            "standoff": 15
           },
           "zerolinecolor": "white",
           "zerolinewidth": 2
          },
          "yaxis": {
           "automargin": true,
           "gridcolor": "white",
           "linecolor": "white",
           "ticks": "",
           "title": {
            "standoff": 15
           },
           "zerolinecolor": "white",
           "zerolinewidth": 2
          }
         }
        },
        "xaxis": {
         "showticklabels": false,
         "visible": false
        },
        "yaxis": {
         "showticklabels": true,
         "visible": false
        }
       }
      }
     },
     "metadata": {},
     "output_type": "display_data"
    },
    {
     "data": {
      "text/html": [
       "<style type=\"text/css\">\n",
       "</style>\n",
       "<table id=\"T_50436\">\n",
       "  <thead>\n",
       "    <tr>\n",
       "      <th id=\"T_50436_level0_col0\" class=\"col_heading level0 col0\" >Node</th>\n",
       "      <th id=\"T_50436_level0_col1\" class=\"col_heading level0 col1\" >Node Type</th>\n",
       "      <th id=\"T_50436_level0_col2\" class=\"col_heading level0 col2\" >Splitting Variable</th>\n",
       "      <th id=\"T_50436_level0_col3\" class=\"col_heading level0 col3\" >Twoing Classes C1</th>\n",
       "      <th id=\"T_50436_level0_col4\" class=\"col_heading level0 col4\" >Twoing Classes C2</th>\n",
       "      <th id=\"T_50436_level0_col5\" class=\"col_heading level0 col5\" >n</th>\n",
       "      <th id=\"T_50436_level0_col6\" class=\"col_heading level0 col6\" >Heterogeneity</th>\n",
       "      <th id=\"T_50436_level0_col7\" class=\"col_heading level0 col7\" >Explained Heterogeneity</th>\n",
       "      <th id=\"T_50436_level0_col8\" class=\"col_heading level0 col8\" >Class/Value</th>\n",
       "    </tr>\n",
       "  </thead>\n",
       "  <tbody>\n",
       "    <tr>\n",
       "      <td id=\"T_50436_row0_col0\" class=\"data row0 col0\" >n1</td>\n",
       "      <td id=\"T_50436_row0_col1\" class=\"data row0 col1\" >Parent</td>\n",
       "      <td id=\"T_50436_row0_col2\" class=\"data row0 col2\" >Sales > 1.17</td>\n",
       "      <td id=\"T_50436_row0_col3\" class=\"data row0 col3\" ><=160</td>\n",
       "      <td id=\"T_50436_row0_col4\" class=\"data row0 col4\" >>160</td>\n",
       "      <td id=\"T_50436_row0_col5\" class=\"data row0 col5\" >280</td>\n",
       "      <td id=\"T_50436_row0_col6\" class=\"data row0 col6\" >155526.83</td>\n",
       "      <td id=\"T_50436_row0_col7\" class=\"data row0 col7\" >0.059</td>\n",
       "      <td id=\"T_50436_row0_col8\" class=\"data row0 col8\" >115.78</td>\n",
       "    </tr>\n",
       "    <tr>\n",
       "      <td id=\"T_50436_row1_col0\" class=\"data row1 col0\" >n2</td>\n",
       "      <td id=\"T_50436_row1_col1\" class=\"data row1 col1\" >Child</td>\n",
       "      <td id=\"T_50436_row1_col2\" class=\"data row1 col2\" >None</td>\n",
       "      <td id=\"T_50436_row1_col3\" class=\"data row1 col3\" >None</td>\n",
       "      <td id=\"T_50436_row1_col4\" class=\"data row1 col4\" >None</td>\n",
       "      <td id=\"T_50436_row1_col5\" class=\"data row1 col5\" >5</td>\n",
       "      <td id=\"T_50436_row1_col6\" class=\"data row1 col6\" >3860.8</td>\n",
       "      <td id=\"T_50436_row1_col7\" class=\"data row1 col7\" >None</td>\n",
       "      <td id=\"T_50436_row1_col8\" class=\"data row1 col8\" >158.2</td>\n",
       "    </tr>\n",
       "    <tr>\n",
       "      <td id=\"T_50436_row2_col0\" class=\"data row2 col0\" >n3</td>\n",
       "      <td id=\"T_50436_row2_col1\" class=\"data row2 col1\" >Parent</td>\n",
       "      <td id=\"T_50436_row2_col2\" class=\"data row2 col2\" >Sales > 9.97</td>\n",
       "      <td id=\"T_50436_row2_col3\" class=\"data row2 col3\" ><=87</td>\n",
       "      <td id=\"T_50436_row2_col4\" class=\"data row2 col4\" >>87</td>\n",
       "      <td id=\"T_50436_row2_col5\" class=\"data row2 col5\" >275</td>\n",
       "      <td id=\"T_50436_row2_col6\" class=\"data row2 col6\" >142503.0</td>\n",
       "      <td id=\"T_50436_row2_col7\" class=\"data row2 col7\" >0.179</td>\n",
       "      <td id=\"T_50436_row2_col8\" class=\"data row2 col8\" >115.0</td>\n",
       "    </tr>\n",
       "    <tr>\n",
       "      <td id=\"T_50436_row3_col0\" class=\"data row3 col0\" >n6</td>\n",
       "      <td id=\"T_50436_row3_col1\" class=\"data row3 col1\" >Parent</td>\n",
       "      <td id=\"T_50436_row3_col2\" class=\"data row3 col2\" >Sales > 7.53</td>\n",
       "      <td id=\"T_50436_row3_col3\" class=\"data row3 col3\" ><=122</td>\n",
       "      <td id=\"T_50436_row3_col4\" class=\"data row3 col4\" >>122</td>\n",
       "      <td id=\"T_50436_row3_col5\" class=\"data row3 col5\" >223</td>\n",
       "      <td id=\"T_50436_row3_col6\" class=\"data row3 col6\" >95241.93</td>\n",
       "      <td id=\"T_50436_row3_col7\" class=\"data row3 col7\" >0.242</td>\n",
       "      <td id=\"T_50436_row3_col8\" class=\"data row3 col8\" >118.98</td>\n",
       "    </tr>\n",
       "    <tr>\n",
       "      <td id=\"T_50436_row4_col0\" class=\"data row4 col0\" >n12</td>\n",
       "      <td id=\"T_50436_row4_col1\" class=\"data row4 col1\" >Parent</td>\n",
       "      <td id=\"T_50436_row4_col2\" class=\"data row4 col2\" >Sales > 6.67</td>\n",
       "      <td id=\"T_50436_row4_col3\" class=\"data row4 col3\" ><=173</td>\n",
       "      <td id=\"T_50436_row4_col4\" class=\"data row4 col4\" >>173</td>\n",
       "      <td id=\"T_50436_row4_col5\" class=\"data row4 col5\" >141</td>\n",
       "      <td id=\"T_50436_row4_col6\" class=\"data row4 col6\" >52885.89</td>\n",
       "      <td id=\"T_50436_row4_col7\" class=\"data row4 col7\" >0.243</td>\n",
       "      <td id=\"T_50436_row4_col8\" class=\"data row4 col8\" >124.03</td>\n",
       "    </tr>\n",
       "    <tr>\n",
       "      <td id=\"T_50436_row5_col0\" class=\"data row5 col0\" >n24</td>\n",
       "      <td id=\"T_50436_row5_col1\" class=\"data row5 col1\" >Parent</td>\n",
       "      <td id=\"T_50436_row5_col2\" class=\"data row5 col2\" >Sales > 3.44</td>\n",
       "      <td id=\"T_50436_row5_col3\" class=\"data row5 col3\" ><=154</td>\n",
       "      <td id=\"T_50436_row5_col4\" class=\"data row5 col4\" >>154</td>\n",
       "      <td id=\"T_50436_row5_col5\" class=\"data row5 col5\" >116</td>\n",
       "      <td id=\"T_50436_row5_col6\" class=\"data row5 col6\" >41126.99</td>\n",
       "      <td id=\"T_50436_row5_col7\" class=\"data row5 col7\" >0.246</td>\n",
       "      <td id=\"T_50436_row5_col8\" class=\"data row5 col8\" >124.49</td>\n",
       "    </tr>\n",
       "    <tr>\n",
       "      <td id=\"T_50436_row6_col0\" class=\"data row6 col0\" >n48</td>\n",
       "      <td id=\"T_50436_row6_col1\" class=\"data row6 col1\" >Child</td>\n",
       "      <td id=\"T_50436_row6_col2\" class=\"data row6 col2\" >None</td>\n",
       "      <td id=\"T_50436_row6_col3\" class=\"data row6 col3\" >None</td>\n",
       "      <td id=\"T_50436_row6_col4\" class=\"data row6 col4\" >None</td>\n",
       "      <td id=\"T_50436_row6_col5\" class=\"data row6 col5\" >13</td>\n",
       "      <td id=\"T_50436_row6_col6\" class=\"data row6 col6\" >6015.08</td>\n",
       "      <td id=\"T_50436_row6_col7\" class=\"data row6 col7\" >None</td>\n",
       "      <td id=\"T_50436_row6_col8\" class=\"data row6 col8\" >130.62</td>\n",
       "    </tr>\n",
       "    <tr>\n",
       "      <td id=\"T_50436_row7_col0\" class=\"data row7 col0\" >n49</td>\n",
       "      <td id=\"T_50436_row7_col1\" class=\"data row7 col1\" >Child</td>\n",
       "      <td id=\"T_50436_row7_col2\" class=\"data row7 col2\" >None</td>\n",
       "      <td id=\"T_50436_row7_col3\" class=\"data row7 col3\" >None</td>\n",
       "      <td id=\"T_50436_row7_col4\" class=\"data row7 col4\" >None</td>\n",
       "      <td id=\"T_50436_row7_col5\" class=\"data row7 col5\" >103</td>\n",
       "      <td id=\"T_50436_row7_col6\" class=\"data row7 col6\" >34562.83</td>\n",
       "      <td id=\"T_50436_row7_col7\" class=\"data row7 col7\" >None</td>\n",
       "      <td id=\"T_50436_row7_col8\" class=\"data row7 col8\" >123.72</td>\n",
       "    </tr>\n",
       "    <tr>\n",
       "      <td id=\"T_50436_row8_col0\" class=\"data row8 col0\" >n25</td>\n",
       "      <td id=\"T_50436_row8_col1\" class=\"data row8 col1\" >Parent</td>\n",
       "      <td id=\"T_50436_row8_col2\" class=\"data row8 col2\" >Population > 228.5</td>\n",
       "      <td id=\"T_50436_row8_col3\" class=\"data row8 col3\" ><=131</td>\n",
       "      <td id=\"T_50436_row8_col4\" class=\"data row8 col4\" >>131</td>\n",
       "      <td id=\"T_50436_row8_col5\" class=\"data row8 col5\" >25</td>\n",
       "      <td id=\"T_50436_row8_col6\" class=\"data row8 col6\" >11618.64</td>\n",
       "      <td id=\"T_50436_row8_col7\" class=\"data row8 col7\" >0.252</td>\n",
       "      <td id=\"T_50436_row8_col8\" class=\"data row8 col8\" >121.88</td>\n",
       "    </tr>\n",
       "    <tr>\n",
       "      <td id=\"T_50436_row9_col0\" class=\"data row9 col0\" >n50</td>\n",
       "      <td id=\"T_50436_row9_col1\" class=\"data row9 col1\" >Child</td>\n",
       "      <td id=\"T_50436_row9_col2\" class=\"data row9 col2\" >None</td>\n",
       "      <td id=\"T_50436_row9_col3\" class=\"data row9 col3\" >None</td>\n",
       "      <td id=\"T_50436_row9_col4\" class=\"data row9 col4\" >None</td>\n",
       "      <td id=\"T_50436_row9_col5\" class=\"data row9 col5\" >12</td>\n",
       "      <td id=\"T_50436_row9_col6\" class=\"data row9 col6\" >5596.92</td>\n",
       "      <td id=\"T_50436_row9_col7\" class=\"data row9 col7\" >None</td>\n",
       "      <td id=\"T_50436_row9_col8\" class=\"data row9 col8\" >127.92</td>\n",
       "    </tr>\n",
       "    <tr>\n",
       "      <td id=\"T_50436_row10_col0\" class=\"data row10 col0\" >n51</td>\n",
       "      <td id=\"T_50436_row10_col1\" class=\"data row10 col1\" >Child</td>\n",
       "      <td id=\"T_50436_row10_col2\" class=\"data row10 col2\" >None</td>\n",
       "      <td id=\"T_50436_row10_col3\" class=\"data row10 col3\" >None</td>\n",
       "      <td id=\"T_50436_row10_col4\" class=\"data row10 col4\" >None</td>\n",
       "      <td id=\"T_50436_row10_col5\" class=\"data row10 col5\" >13</td>\n",
       "      <td id=\"T_50436_row10_col6\" class=\"data row10 col6\" >5180.77</td>\n",
       "      <td id=\"T_50436_row10_col7\" class=\"data row10 col7\" >None</td>\n",
       "      <td id=\"T_50436_row10_col8\" class=\"data row10 col8\" >116.31</td>\n",
       "    </tr>\n",
       "    <tr>\n",
       "      <td id=\"T_50436_row11_col0\" class=\"data row11 col0\" >n13</td>\n",
       "      <td id=\"T_50436_row11_col1\" class=\"data row11 col1\" >Parent</td>\n",
       "      <td id=\"T_50436_row11_col2\" class=\"data row11 col2\" >Population > 496.5</td>\n",
       "      <td id=\"T_50436_row11_col3\" class=\"data row11 col3\" ><=156</td>\n",
       "      <td id=\"T_50436_row11_col4\" class=\"data row11 col4\" >>156</td>\n",
       "      <td id=\"T_50436_row11_col5\" class=\"data row11 col5\" >82</td>\n",
       "      <td id=\"T_50436_row11_col6\" class=\"data row11 col6\" >32591.38</td>\n",
       "      <td id=\"T_50436_row11_col7\" class=\"data row11 col7\" >0.257</td>\n",
       "      <td id=\"T_50436_row11_col8\" class=\"data row11 col8\" >110.3</td>\n",
       "    </tr>\n",
       "    <tr>\n",
       "      <td id=\"T_50436_row12_col0\" class=\"data row12 col0\" >n27</td>\n",
       "      <td id=\"T_50436_row12_col1\" class=\"data row12 col1\" >Child</td>\n",
       "      <td id=\"T_50436_row12_col2\" class=\"data row12 col2\" >None</td>\n",
       "      <td id=\"T_50436_row12_col3\" class=\"data row12 col3\" >None</td>\n",
       "      <td id=\"T_50436_row12_col4\" class=\"data row12 col4\" >None</td>\n",
       "      <td id=\"T_50436_row12_col5\" class=\"data row12 col5\" >5</td>\n",
       "      <td id=\"T_50436_row12_col6\" class=\"data row12 col6\" >3452.8</td>\n",
       "      <td id=\"T_50436_row12_col7\" class=\"data row12 col7\" >None</td>\n",
       "      <td id=\"T_50436_row12_col8\" class=\"data row12 col8\" >97.2</td>\n",
       "    </tr>\n",
       "    <tr>\n",
       "      <td id=\"T_50436_row13_col0\" class=\"data row13 col0\" >n26</td>\n",
       "      <td id=\"T_50436_row13_col1\" class=\"data row13 col1\" >Parent</td>\n",
       "      <td id=\"T_50436_row13_col2\" class=\"data row13 col2\" >Sales > 7.74</td>\n",
       "      <td id=\"T_50436_row13_col3\" class=\"data row13 col3\" ><=89</td>\n",
       "      <td id=\"T_50436_row13_col4\" class=\"data row13 col4\" >>89</td>\n",
       "      <td id=\"T_50436_row13_col5\" class=\"data row13 col5\" >77</td>\n",
       "      <td id=\"T_50436_row13_col6\" class=\"data row13 col6\" >28224.13</td>\n",
       "      <td id=\"T_50436_row13_col7\" class=\"data row13 col7\" >0.27</td>\n",
       "      <td id=\"T_50436_row13_col8\" class=\"data row13 col8\" >111.16</td>\n",
       "    </tr>\n",
       "    <tr>\n",
       "      <td id=\"T_50436_row14_col0\" class=\"data row14 col0\" >n52</td>\n",
       "      <td id=\"T_50436_row14_col1\" class=\"data row14 col1\" >Child</td>\n",
       "      <td id=\"T_50436_row14_col2\" class=\"data row14 col2\" >None</td>\n",
       "      <td id=\"T_50436_row14_col3\" class=\"data row14 col3\" >None</td>\n",
       "      <td id=\"T_50436_row14_col4\" class=\"data row14 col4\" >None</td>\n",
       "      <td id=\"T_50436_row14_col5\" class=\"data row14 col5\" >11</td>\n",
       "      <td id=\"T_50436_row14_col6\" class=\"data row14 col6\" >2862.18</td>\n",
       "      <td id=\"T_50436_row14_col7\" class=\"data row14 col7\" >None</td>\n",
       "      <td id=\"T_50436_row14_col8\" class=\"data row14 col8\" >98.73</td>\n",
       "    </tr>\n",
       "    <tr>\n",
       "      <td id=\"T_50436_row15_col0\" class=\"data row15 col0\" >n53</td>\n",
       "      <td id=\"T_50436_row15_col1\" class=\"data row15 col1\" >Child</td>\n",
       "      <td id=\"T_50436_row15_col2\" class=\"data row15 col2\" >None</td>\n",
       "      <td id=\"T_50436_row15_col3\" class=\"data row15 col3\" >None</td>\n",
       "      <td id=\"T_50436_row15_col4\" class=\"data row15 col4\" >None</td>\n",
       "      <td id=\"T_50436_row15_col5\" class=\"data row15 col5\" >66</td>\n",
       "      <td id=\"T_50436_row15_col6\" class=\"data row15 col6\" >23379.59</td>\n",
       "      <td id=\"T_50436_row15_col7\" class=\"data row15 col7\" >None</td>\n",
       "      <td id=\"T_50436_row15_col8\" class=\"data row15 col8\" >113.23</td>\n",
       "    </tr>\n",
       "    <tr>\n",
       "      <td id=\"T_50436_row16_col0\" class=\"data row16 col0\" >n7</td>\n",
       "      <td id=\"T_50436_row16_col1\" class=\"data row16 col1\" >Parent</td>\n",
       "      <td id=\"T_50436_row16_col2\" class=\"data row16 col2\" >Population > 40.0</td>\n",
       "      <td id=\"T_50436_row16_col3\" class=\"data row16 col3\" ><=149</td>\n",
       "      <td id=\"T_50436_row16_col4\" class=\"data row16 col4\" >>149</td>\n",
       "      <td id=\"T_50436_row16_col5\" class=\"data row16 col5\" >52</td>\n",
       "      <td id=\"T_50436_row16_col6\" class=\"data row16 col6\" >28594.83</td>\n",
       "      <td id=\"T_50436_row16_col7\" class=\"data row16 col7\" >0.295</td>\n",
       "      <td id=\"T_50436_row16_col8\" class=\"data row16 col8\" >97.94</td>\n",
       "    </tr>\n",
       "    <tr>\n",
       "      <td id=\"T_50436_row17_col0\" class=\"data row17 col0\" >n14</td>\n",
       "      <td id=\"T_50436_row17_col1\" class=\"data row17 col1\" >Child</td>\n",
       "      <td id=\"T_50436_row17_col2\" class=\"data row17 col2\" >None</td>\n",
       "      <td id=\"T_50436_row17_col3\" class=\"data row17 col3\" >None</td>\n",
       "      <td id=\"T_50436_row17_col4\" class=\"data row17 col4\" >None</td>\n",
       "      <td id=\"T_50436_row17_col5\" class=\"data row17 col5\" >6</td>\n",
       "      <td id=\"T_50436_row17_col6\" class=\"data row17 col6\" >4226.0</td>\n",
       "      <td id=\"T_50436_row17_col7\" class=\"data row17 col7\" >None</td>\n",
       "      <td id=\"T_50436_row17_col8\" class=\"data row17 col8\" >74</td>\n",
       "    </tr>\n",
       "    <tr>\n",
       "      <td id=\"T_50436_row18_col0\" class=\"data row18 col0\" >n15</td>\n",
       "      <td id=\"T_50436_row18_col1\" class=\"data row18 col1\" >Parent</td>\n",
       "      <td id=\"T_50436_row18_col2\" class=\"data row18 col2\" >Population > 403.0</td>\n",
       "      <td id=\"T_50436_row18_col3\" class=\"data row18 col3\" ><=149</td>\n",
       "      <td id=\"T_50436_row18_col4\" class=\"data row18 col4\" >>149</td>\n",
       "      <td id=\"T_50436_row18_col5\" class=\"data row18 col5\" >46</td>\n",
       "      <td id=\"T_50436_row18_col6\" class=\"data row18 col6\" >20480.8</td>\n",
       "      <td id=\"T_50436_row18_col7\" class=\"data row18 col7\" >0.311</td>\n",
       "      <td id=\"T_50436_row18_col8\" class=\"data row18 col8\" >101.07</td>\n",
       "    </tr>\n",
       "    <tr>\n",
       "      <td id=\"T_50436_row19_col0\" class=\"data row19 col0\" >n30</td>\n",
       "      <td id=\"T_50436_row19_col1\" class=\"data row19 col1\" >Parent</td>\n",
       "      <td id=\"T_50436_row19_col2\" class=\"data row19 col2\" >Income > 51.0</td>\n",
       "      <td id=\"T_50436_row19_col3\" class=\"data row19 col3\" ><=83</td>\n",
       "      <td id=\"T_50436_row19_col4\" class=\"data row19 col4\" >>83</td>\n",
       "      <td id=\"T_50436_row19_col5\" class=\"data row19 col5\" >34</td>\n",
       "      <td id=\"T_50436_row19_col6\" class=\"data row19 col6\" >13746.03</td>\n",
       "      <td id=\"T_50436_row19_col7\" class=\"data row19 col7\" >0.324</td>\n",
       "      <td id=\"T_50436_row19_col8\" class=\"data row19 col8\" >105.38</td>\n",
       "    </tr>\n",
       "    <tr>\n",
       "      <td id=\"T_50436_row20_col0\" class=\"data row20 col0\" >n60</td>\n",
       "      <td id=\"T_50436_row20_col1\" class=\"data row20 col1\" >Child</td>\n",
       "      <td id=\"T_50436_row20_col2\" class=\"data row20 col2\" >None</td>\n",
       "      <td id=\"T_50436_row20_col3\" class=\"data row20 col3\" >None</td>\n",
       "      <td id=\"T_50436_row20_col4\" class=\"data row20 col4\" >None</td>\n",
       "      <td id=\"T_50436_row20_col5\" class=\"data row20 col5\" >6</td>\n",
       "      <td id=\"T_50436_row20_col6\" class=\"data row20 col6\" >565.5</td>\n",
       "      <td id=\"T_50436_row20_col7\" class=\"data row20 col7\" >None</td>\n",
       "      <td id=\"T_50436_row20_col8\" class=\"data row20 col8\" >88.5</td>\n",
       "    </tr>\n",
       "    <tr>\n",
       "      <td id=\"T_50436_row21_col0\" class=\"data row21 col0\" >n61</td>\n",
       "      <td id=\"T_50436_row21_col1\" class=\"data row21 col1\" >Child</td>\n",
       "      <td id=\"T_50436_row21_col2\" class=\"data row21 col2\" >None</td>\n",
       "      <td id=\"T_50436_row21_col3\" class=\"data row21 col3\" >None</td>\n",
       "      <td id=\"T_50436_row21_col4\" class=\"data row21 col4\" >None</td>\n",
       "      <td id=\"T_50436_row21_col5\" class=\"data row21 col5\" >28</td>\n",
       "      <td id=\"T_50436_row21_col6\" class=\"data row21 col6\" >11104.0</td>\n",
       "      <td id=\"T_50436_row21_col7\" class=\"data row21 col7\" >None</td>\n",
       "      <td id=\"T_50436_row21_col8\" class=\"data row21 col8\" >109</td>\n",
       "    </tr>\n",
       "    <tr>\n",
       "      <td id=\"T_50436_row22_col0\" class=\"data row22 col0\" >n31</td>\n",
       "      <td id=\"T_50436_row22_col1\" class=\"data row22 col1\" >Parent</td>\n",
       "      <td id=\"T_50436_row22_col2\" class=\"data row22 col2\" >CompPrice > 117.5</td>\n",
       "      <td id=\"T_50436_row22_col3\" class=\"data row22 col3\" ><=68</td>\n",
       "      <td id=\"T_50436_row22_col4\" class=\"data row22 col4\" >>68</td>\n",
       "      <td id=\"T_50436_row22_col5\" class=\"data row22 col5\" >12</td>\n",
       "      <td id=\"T_50436_row22_col6\" class=\"data row22 col6\" >4305.67</td>\n",
       "      <td id=\"T_50436_row22_col7\" class=\"data row22 col7\" >0.333</td>\n",
       "      <td id=\"T_50436_row22_col8\" class=\"data row22 col8\" >88.83</td>\n",
       "    </tr>\n",
       "    <tr>\n",
       "      <td id=\"T_50436_row23_col0\" class=\"data row23 col0\" >n62</td>\n",
       "      <td id=\"T_50436_row23_col1\" class=\"data row23 col1\" >Child</td>\n",
       "      <td id=\"T_50436_row23_col2\" class=\"data row23 col2\" >None</td>\n",
       "      <td id=\"T_50436_row23_col3\" class=\"data row23 col3\" >None</td>\n",
       "      <td id=\"T_50436_row23_col4\" class=\"data row23 col4\" >None</td>\n",
       "      <td id=\"T_50436_row23_col5\" class=\"data row23 col5\" >6</td>\n",
       "      <td id=\"T_50436_row23_col6\" class=\"data row23 col6\" >1546.83</td>\n",
       "      <td id=\"T_50436_row23_col7\" class=\"data row23 col7\" >None</td>\n",
       "      <td id=\"T_50436_row23_col8\" class=\"data row23 col8\" >78.17</td>\n",
       "    </tr>\n",
       "    <tr>\n",
       "      <td id=\"T_50436_row24_col0\" class=\"data row24 col0\" >n63</td>\n",
       "      <td id=\"T_50436_row24_col1\" class=\"data row24 col1\" >Child</td>\n",
       "      <td id=\"T_50436_row24_col2\" class=\"data row24 col2\" >None</td>\n",
       "      <td id=\"T_50436_row24_col3\" class=\"data row24 col3\" >None</td>\n",
       "      <td id=\"T_50436_row24_col4\" class=\"data row24 col4\" >None</td>\n",
       "      <td id=\"T_50436_row24_col5\" class=\"data row24 col5\" >6</td>\n",
       "      <td id=\"T_50436_row24_col6\" class=\"data row24 col6\" >1393.5</td>\n",
       "      <td id=\"T_50436_row24_col7\" class=\"data row24 col7\" >None</td>\n",
       "      <td id=\"T_50436_row24_col8\" class=\"data row24 col8\" >99.5</td>\n",
       "    </tr>\n",
       "  </tbody>\n",
       "</table>\n"
      ],
      "text/plain": [
       "<pandas.io.formats.style.Styler at 0x1bd1563fb90>"
      ]
     },
     "execution_count": 4,
     "metadata": {},
     "output_type": "execute_result"
    }
   ],
   "source": [
    "#pd.set_option('display.max_rows', None)\n",
    "#pd.set_option('display.max_colwidth', 3000)\n",
    "\n",
    "tree.print_tree(table = True, html = False).style.hide()"
   ]
  },
  {
   "cell_type": "code",
   "execution_count": 5,
   "metadata": {},
   "outputs": [
    {
     "name": "stdout",
     "output_type": "stream",
     "text": [
      "To return the table, print_tree must be True: setting print_tree to True\n",
      "Best tree for test set has 5 leaves with a deviance of: 502.53986272239587 \n"
     ]
    },
    {
     "data": {
      "application/vnd.plotly.v1+json": {
       "config": {
        "plotlyServerURL": "https://plot.ly"
       },
       "data": [
        {
         "hoverinfo": "none",
         "line": {
          "color": "rgb(210,210,210)",
          "width": 1
         },
         "mode": "lines",
         "type": "scatter",
         "x": [
          0,
          -2,
          null,
          0,
          2,
          null,
          2,
          1,
          null,
          2,
          3,
          null,
          1,
          0.5,
          null,
          1,
          1.5,
          null,
          3,
          2.5,
          null,
          3,
          3.5,
          null
         ],
         "y": [
          6,
          5,
          null,
          6,
          5,
          null,
          5,
          4,
          null,
          5,
          4,
          null,
          4,
          3,
          null,
          4,
          3,
          null,
          4,
          3,
          null,
          4,
          3,
          null
         ]
        },
        {
         "hoverinfo": "text",
         "marker": {
          "color": "#6175c1",
          "line": {
           "color": "rgb(50,50,50)",
           "width": 1
          },
          "size": 18,
          "symbol": "circle-dot"
         },
         "mode": "markers",
         "name": "Nodes",
         "opacity": 0.8,
         "text": [
          "n2<br>None<br>Bin Value: 158.2<br>pearson : 3860.8<br>Samples : 5<br>GPR: []<br>LPR: []",
          "n14<br>None<br>Bin Value: 74<br>pearson : 4226<br>Samples : 6<br>GPR: []<br>LPR: []",
          "n1<br>Sales > 1.17<br>Bin Value: 115.78<br>pearson : 155526.82<br>Samples : 280<br>GPR: 0.884<br>LPR: 0.26",
          "n3<br>Sales > 9.97<br>Bin Value: 115.0<br>pearson : 142503.0<br>Samples : 275<br>GPR: 0.882<br>LPR: 0.178",
          "n6<br>Sales > 7.53<br>Bin Value: 118.98<br>pearson : 95241.93<br>Samples : 223<br>GPR: 0.863<br>LPR: 0.093",
          "n12<br>Sales > 6.67<br>Bin Value: 124.03<br>pearson : 52885.89<br>Samples : 141<br>GPR: 0.877<br>LPR: 0.073",
          "n13<br>Population > 496.5<br>Bin Value: 110.3<br>pearson : 32591.38<br>Samples : 82<br>GPR: 0.849<br>LPR: 0.13",
          "n7<br>Population > 40.0<br>Bin Value: 97.94<br>pearson : 28594.83<br>Samples : 52<br>GPR: 0.901<br>LPR: 0.189",
          "n15<br>Population > 403.0<br>Bin Value: 101.07<br>pearson : 20480.8<br>Samples : 46<br>GPR: 0.91<br>LPR: 0.255"
         ],
         "type": "scatter",
         "x": [
          -2,
          2.5,
          0,
          2,
          1,
          0.5,
          1.5,
          3,
          3.5
         ],
         "y": [
          5,
          3,
          6,
          5,
          4,
          3,
          3,
          4,
          3
         ]
        }
       ],
       "layout": {
        "margin": {
         "b": 0,
         "l": 0,
         "r": 0,
         "t": 0
        },
        "plot_bgcolor": "rgba(0, 0, 0, 0)",
        "template": {
         "data": {
          "bar": [
           {
            "error_x": {
             "color": "#2a3f5f"
            },
            "error_y": {
             "color": "#2a3f5f"
            },
            "marker": {
             "line": {
              "color": "#E5ECF6",
              "width": 0.5
             },
             "pattern": {
              "fillmode": "overlay",
              "size": 10,
              "solidity": 0.2
             }
            },
            "type": "bar"
           }
          ],
          "barpolar": [
           {
            "marker": {
             "line": {
              "color": "#E5ECF6",
              "width": 0.5
             },
             "pattern": {
              "fillmode": "overlay",
              "size": 10,
              "solidity": 0.2
             }
            },
            "type": "barpolar"
           }
          ],
          "carpet": [
           {
            "aaxis": {
             "endlinecolor": "#2a3f5f",
             "gridcolor": "white",
             "linecolor": "white",
             "minorgridcolor": "white",
             "startlinecolor": "#2a3f5f"
            },
            "baxis": {
             "endlinecolor": "#2a3f5f",
             "gridcolor": "white",
             "linecolor": "white",
             "minorgridcolor": "white",
             "startlinecolor": "#2a3f5f"
            },
            "type": "carpet"
           }
          ],
          "choropleth": [
           {
            "colorbar": {
             "outlinewidth": 0,
             "ticks": ""
            },
            "type": "choropleth"
           }
          ],
          "contour": [
           {
            "colorbar": {
             "outlinewidth": 0,
             "ticks": ""
            },
            "colorscale": [
             [
              0,
              "#0d0887"
             ],
             [
              0.1111111111111111,
              "#46039f"
             ],
             [
              0.2222222222222222,
              "#7201a8"
             ],
             [
              0.3333333333333333,
              "#9c179e"
             ],
             [
              0.4444444444444444,
              "#bd3786"
             ],
             [
              0.5555555555555556,
              "#d8576b"
             ],
             [
              0.6666666666666666,
              "#ed7953"
             ],
             [
              0.7777777777777778,
              "#fb9f3a"
             ],
             [
              0.8888888888888888,
              "#fdca26"
             ],
             [
              1,
              "#f0f921"
             ]
            ],
            "type": "contour"
           }
          ],
          "contourcarpet": [
           {
            "colorbar": {
             "outlinewidth": 0,
             "ticks": ""
            },
            "type": "contourcarpet"
           }
          ],
          "heatmap": [
           {
            "colorbar": {
             "outlinewidth": 0,
             "ticks": ""
            },
            "colorscale": [
             [
              0,
              "#0d0887"
             ],
             [
              0.1111111111111111,
              "#46039f"
             ],
             [
              0.2222222222222222,
              "#7201a8"
             ],
             [
              0.3333333333333333,
              "#9c179e"
             ],
             [
              0.4444444444444444,
              "#bd3786"
             ],
             [
              0.5555555555555556,
              "#d8576b"
             ],
             [
              0.6666666666666666,
              "#ed7953"
             ],
             [
              0.7777777777777778,
              "#fb9f3a"
             ],
             [
              0.8888888888888888,
              "#fdca26"
             ],
             [
              1,
              "#f0f921"
             ]
            ],
            "type": "heatmap"
           }
          ],
          "heatmapgl": [
           {
            "colorbar": {
             "outlinewidth": 0,
             "ticks": ""
            },
            "colorscale": [
             [
              0,
              "#0d0887"
             ],
             [
              0.1111111111111111,
              "#46039f"
             ],
             [
              0.2222222222222222,
              "#7201a8"
             ],
             [
              0.3333333333333333,
              "#9c179e"
             ],
             [
              0.4444444444444444,
              "#bd3786"
             ],
             [
              0.5555555555555556,
              "#d8576b"
             ],
             [
              0.6666666666666666,
              "#ed7953"
             ],
             [
              0.7777777777777778,
              "#fb9f3a"
             ],
             [
              0.8888888888888888,
              "#fdca26"
             ],
             [
              1,
              "#f0f921"
             ]
            ],
            "type": "heatmapgl"
           }
          ],
          "histogram": [
           {
            "marker": {
             "pattern": {
              "fillmode": "overlay",
              "size": 10,
              "solidity": 0.2
             }
            },
            "type": "histogram"
           }
          ],
          "histogram2d": [
           {
            "colorbar": {
             "outlinewidth": 0,
             "ticks": ""
            },
            "colorscale": [
             [
              0,
              "#0d0887"
             ],
             [
              0.1111111111111111,
              "#46039f"
             ],
             [
              0.2222222222222222,
              "#7201a8"
             ],
             [
              0.3333333333333333,
              "#9c179e"
             ],
             [
              0.4444444444444444,
              "#bd3786"
             ],
             [
              0.5555555555555556,
              "#d8576b"
             ],
             [
              0.6666666666666666,
              "#ed7953"
             ],
             [
              0.7777777777777778,
              "#fb9f3a"
             ],
             [
              0.8888888888888888,
              "#fdca26"
             ],
             [
              1,
              "#f0f921"
             ]
            ],
            "type": "histogram2d"
           }
          ],
          "histogram2dcontour": [
           {
            "colorbar": {
             "outlinewidth": 0,
             "ticks": ""
            },
            "colorscale": [
             [
              0,
              "#0d0887"
             ],
             [
              0.1111111111111111,
              "#46039f"
             ],
             [
              0.2222222222222222,
              "#7201a8"
             ],
             [
              0.3333333333333333,
              "#9c179e"
             ],
             [
              0.4444444444444444,
              "#bd3786"
             ],
             [
              0.5555555555555556,
              "#d8576b"
             ],
             [
              0.6666666666666666,
              "#ed7953"
             ],
             [
              0.7777777777777778,
              "#fb9f3a"
             ],
             [
              0.8888888888888888,
              "#fdca26"
             ],
             [
              1,
              "#f0f921"
             ]
            ],
            "type": "histogram2dcontour"
           }
          ],
          "mesh3d": [
           {
            "colorbar": {
             "outlinewidth": 0,
             "ticks": ""
            },
            "type": "mesh3d"
           }
          ],
          "parcoords": [
           {
            "line": {
             "colorbar": {
              "outlinewidth": 0,
              "ticks": ""
             }
            },
            "type": "parcoords"
           }
          ],
          "pie": [
           {
            "automargin": true,
            "type": "pie"
           }
          ],
          "scatter": [
           {
            "fillpattern": {
             "fillmode": "overlay",
             "size": 10,
             "solidity": 0.2
            },
            "type": "scatter"
           }
          ],
          "scatter3d": [
           {
            "line": {
             "colorbar": {
              "outlinewidth": 0,
              "ticks": ""
             }
            },
            "marker": {
             "colorbar": {
              "outlinewidth": 0,
              "ticks": ""
             }
            },
            "type": "scatter3d"
           }
          ],
          "scattercarpet": [
           {
            "marker": {
             "colorbar": {
              "outlinewidth": 0,
              "ticks": ""
             }
            },
            "type": "scattercarpet"
           }
          ],
          "scattergeo": [
           {
            "marker": {
             "colorbar": {
              "outlinewidth": 0,
              "ticks": ""
             }
            },
            "type": "scattergeo"
           }
          ],
          "scattergl": [
           {
            "marker": {
             "colorbar": {
              "outlinewidth": 0,
              "ticks": ""
             }
            },
            "type": "scattergl"
           }
          ],
          "scattermapbox": [
           {
            "marker": {
             "colorbar": {
              "outlinewidth": 0,
              "ticks": ""
             }
            },
            "type": "scattermapbox"
           }
          ],
          "scatterpolar": [
           {
            "marker": {
             "colorbar": {
              "outlinewidth": 0,
              "ticks": ""
             }
            },
            "type": "scatterpolar"
           }
          ],
          "scatterpolargl": [
           {
            "marker": {
             "colorbar": {
              "outlinewidth": 0,
              "ticks": ""
             }
            },
            "type": "scatterpolargl"
           }
          ],
          "scatterternary": [
           {
            "marker": {
             "colorbar": {
              "outlinewidth": 0,
              "ticks": ""
             }
            },
            "type": "scatterternary"
           }
          ],
          "surface": [
           {
            "colorbar": {
             "outlinewidth": 0,
             "ticks": ""
            },
            "colorscale": [
             [
              0,
              "#0d0887"
             ],
             [
              0.1111111111111111,
              "#46039f"
             ],
             [
              0.2222222222222222,
              "#7201a8"
             ],
             [
              0.3333333333333333,
              "#9c179e"
             ],
             [
              0.4444444444444444,
              "#bd3786"
             ],
             [
              0.5555555555555556,
              "#d8576b"
             ],
             [
              0.6666666666666666,
              "#ed7953"
             ],
             [
              0.7777777777777778,
              "#fb9f3a"
             ],
             [
              0.8888888888888888,
              "#fdca26"
             ],
             [
              1,
              "#f0f921"
             ]
            ],
            "type": "surface"
           }
          ],
          "table": [
           {
            "cells": {
             "fill": {
              "color": "#EBF0F8"
             },
             "line": {
              "color": "white"
             }
            },
            "header": {
             "fill": {
              "color": "#C8D4E3"
             },
             "line": {
              "color": "white"
             }
            },
            "type": "table"
           }
          ]
         },
         "layout": {
          "annotationdefaults": {
           "arrowcolor": "#2a3f5f",
           "arrowhead": 0,
           "arrowwidth": 1
          },
          "autotypenumbers": "strict",
          "coloraxis": {
           "colorbar": {
            "outlinewidth": 0,
            "ticks": ""
           }
          },
          "colorscale": {
           "diverging": [
            [
             0,
             "#8e0152"
            ],
            [
             0.1,
             "#c51b7d"
            ],
            [
             0.2,
             "#de77ae"
            ],
            [
             0.3,
             "#f1b6da"
            ],
            [
             0.4,
             "#fde0ef"
            ],
            [
             0.5,
             "#f7f7f7"
            ],
            [
             0.6,
             "#e6f5d0"
            ],
            [
             0.7,
             "#b8e186"
            ],
            [
             0.8,
             "#7fbc41"
            ],
            [
             0.9,
             "#4d9221"
            ],
            [
             1,
             "#276419"
            ]
           ],
           "sequential": [
            [
             0,
             "#0d0887"
            ],
            [
             0.1111111111111111,
             "#46039f"
            ],
            [
             0.2222222222222222,
             "#7201a8"
            ],
            [
             0.3333333333333333,
             "#9c179e"
            ],
            [
             0.4444444444444444,
             "#bd3786"
            ],
            [
             0.5555555555555556,
             "#d8576b"
            ],
            [
             0.6666666666666666,
             "#ed7953"
            ],
            [
             0.7777777777777778,
             "#fb9f3a"
            ],
            [
             0.8888888888888888,
             "#fdca26"
            ],
            [
             1,
             "#f0f921"
            ]
           ],
           "sequentialminus": [
            [
             0,
             "#0d0887"
            ],
            [
             0.1111111111111111,
             "#46039f"
            ],
            [
             0.2222222222222222,
             "#7201a8"
            ],
            [
             0.3333333333333333,
             "#9c179e"
            ],
            [
             0.4444444444444444,
             "#bd3786"
            ],
            [
             0.5555555555555556,
             "#d8576b"
            ],
            [
             0.6666666666666666,
             "#ed7953"
            ],
            [
             0.7777777777777778,
             "#fb9f3a"
            ],
            [
             0.8888888888888888,
             "#fdca26"
            ],
            [
             1,
             "#f0f921"
            ]
           ]
          },
          "colorway": [
           "#636efa",
           "#EF553B",
           "#00cc96",
           "#ab63fa",
           "#FFA15A",
           "#19d3f3",
           "#FF6692",
           "#B6E880",
           "#FF97FF",
           "#FECB52"
          ],
          "font": {
           "color": "#2a3f5f"
          },
          "geo": {
           "bgcolor": "white",
           "lakecolor": "white",
           "landcolor": "#E5ECF6",
           "showlakes": true,
           "showland": true,
           "subunitcolor": "white"
          },
          "hoverlabel": {
           "align": "left"
          },
          "hovermode": "closest",
          "mapbox": {
           "style": "light"
          },
          "paper_bgcolor": "white",
          "plot_bgcolor": "#E5ECF6",
          "polar": {
           "angularaxis": {
            "gridcolor": "white",
            "linecolor": "white",
            "ticks": ""
           },
           "bgcolor": "#E5ECF6",
           "radialaxis": {
            "gridcolor": "white",
            "linecolor": "white",
            "ticks": ""
           }
          },
          "scene": {
           "xaxis": {
            "backgroundcolor": "#E5ECF6",
            "gridcolor": "white",
            "gridwidth": 2,
            "linecolor": "white",
            "showbackground": true,
            "ticks": "",
            "zerolinecolor": "white"
           },
           "yaxis": {
            "backgroundcolor": "#E5ECF6",
            "gridcolor": "white",
            "gridwidth": 2,
            "linecolor": "white",
            "showbackground": true,
            "ticks": "",
            "zerolinecolor": "white"
           },
           "zaxis": {
            "backgroundcolor": "#E5ECF6",
            "gridcolor": "white",
            "gridwidth": 2,
            "linecolor": "white",
            "showbackground": true,
            "ticks": "",
            "zerolinecolor": "white"
           }
          },
          "shapedefaults": {
           "line": {
            "color": "#2a3f5f"
           }
          },
          "ternary": {
           "aaxis": {
            "gridcolor": "white",
            "linecolor": "white",
            "ticks": ""
           },
           "baxis": {
            "gridcolor": "white",
            "linecolor": "white",
            "ticks": ""
           },
           "bgcolor": "#E5ECF6",
           "caxis": {
            "gridcolor": "white",
            "linecolor": "white",
            "ticks": ""
           }
          },
          "title": {
           "x": 0.05
          },
          "xaxis": {
           "automargin": true,
           "gridcolor": "white",
           "linecolor": "white",
           "ticks": "",
           "title": {
            "standoff": 15
           },
           "zerolinecolor": "white",
           "zerolinewidth": 2
          },
          "yaxis": {
           "automargin": true,
           "gridcolor": "white",
           "linecolor": "white",
           "ticks": "",
           "title": {
            "standoff": 15
           },
           "zerolinecolor": "white",
           "zerolinewidth": 2
          }
         }
        },
        "xaxis": {
         "showticklabels": false,
         "visible": false
        },
        "yaxis": {
         "showticklabels": true,
         "visible": false
        }
       }
      }
     },
     "metadata": {},
     "output_type": "display_data"
    },
    {
     "data": {
      "text/html": [
       "<style type=\"text/css\">\n",
       "</style>\n",
       "<table id=\"T_92f51\">\n",
       "  <thead>\n",
       "    <tr>\n",
       "      <th id=\"T_92f51_level0_col0\" class=\"col_heading level0 col0\" >Node</th>\n",
       "      <th id=\"T_92f51_level0_col1\" class=\"col_heading level0 col1\" >Node Type</th>\n",
       "      <th id=\"T_92f51_level0_col2\" class=\"col_heading level0 col2\" >Splitting Variable</th>\n",
       "      <th id=\"T_92f51_level0_col3\" class=\"col_heading level0 col3\" >Twoing Classes C1</th>\n",
       "      <th id=\"T_92f51_level0_col4\" class=\"col_heading level0 col4\" >Twoing Classes C2</th>\n",
       "      <th id=\"T_92f51_level0_col5\" class=\"col_heading level0 col5\" >n</th>\n",
       "      <th id=\"T_92f51_level0_col6\" class=\"col_heading level0 col6\" >Heterogeneity</th>\n",
       "      <th id=\"T_92f51_level0_col7\" class=\"col_heading level0 col7\" >Explained Heterogeneity</th>\n",
       "      <th id=\"T_92f51_level0_col8\" class=\"col_heading level0 col8\" >Class/Value</th>\n",
       "    </tr>\n",
       "  </thead>\n",
       "  <tbody>\n",
       "    <tr>\n",
       "      <td id=\"T_92f51_row0_col0\" class=\"data row0 col0\" >n1</td>\n",
       "      <td id=\"T_92f51_row0_col1\" class=\"data row0 col1\" >Parent</td>\n",
       "      <td id=\"T_92f51_row0_col2\" class=\"data row0 col2\" >Sales > 1.17</td>\n",
       "      <td id=\"T_92f51_row0_col3\" class=\"data row0 col3\" ><=160</td>\n",
       "      <td id=\"T_92f51_row0_col4\" class=\"data row0 col4\" >>160</td>\n",
       "      <td id=\"T_92f51_row0_col5\" class=\"data row0 col5\" >280</td>\n",
       "      <td id=\"T_92f51_row0_col6\" class=\"data row0 col6\" >155526.83</td>\n",
       "      <td id=\"T_92f51_row0_col7\" class=\"data row0 col7\" >0.059</td>\n",
       "      <td id=\"T_92f51_row0_col8\" class=\"data row0 col8\" >115.78</td>\n",
       "    </tr>\n",
       "    <tr>\n",
       "      <td id=\"T_92f51_row1_col0\" class=\"data row1 col0\" >n2</td>\n",
       "      <td id=\"T_92f51_row1_col1\" class=\"data row1 col1\" >Child</td>\n",
       "      <td id=\"T_92f51_row1_col2\" class=\"data row1 col2\" >None</td>\n",
       "      <td id=\"T_92f51_row1_col3\" class=\"data row1 col3\" >None</td>\n",
       "      <td id=\"T_92f51_row1_col4\" class=\"data row1 col4\" >None</td>\n",
       "      <td id=\"T_92f51_row1_col5\" class=\"data row1 col5\" >5</td>\n",
       "      <td id=\"T_92f51_row1_col6\" class=\"data row1 col6\" >3860.8</td>\n",
       "      <td id=\"T_92f51_row1_col7\" class=\"data row1 col7\" >None</td>\n",
       "      <td id=\"T_92f51_row1_col8\" class=\"data row1 col8\" >158.2</td>\n",
       "    </tr>\n",
       "    <tr>\n",
       "      <td id=\"T_92f51_row2_col0\" class=\"data row2 col0\" >n3</td>\n",
       "      <td id=\"T_92f51_row2_col1\" class=\"data row2 col1\" >Parent</td>\n",
       "      <td id=\"T_92f51_row2_col2\" class=\"data row2 col2\" >Sales > 9.97</td>\n",
       "      <td id=\"T_92f51_row2_col3\" class=\"data row2 col3\" ><=87</td>\n",
       "      <td id=\"T_92f51_row2_col4\" class=\"data row2 col4\" >>87</td>\n",
       "      <td id=\"T_92f51_row2_col5\" class=\"data row2 col5\" >275</td>\n",
       "      <td id=\"T_92f51_row2_col6\" class=\"data row2 col6\" >142503.0</td>\n",
       "      <td id=\"T_92f51_row2_col7\" class=\"data row2 col7\" >0.179</td>\n",
       "      <td id=\"T_92f51_row2_col8\" class=\"data row2 col8\" >115.0</td>\n",
       "    </tr>\n",
       "    <tr>\n",
       "      <td id=\"T_92f51_row3_col0\" class=\"data row3 col0\" >n6</td>\n",
       "      <td id=\"T_92f51_row3_col1\" class=\"data row3 col1\" >Parent</td>\n",
       "      <td id=\"T_92f51_row3_col2\" class=\"data row3 col2\" >Sales > 7.53</td>\n",
       "      <td id=\"T_92f51_row3_col3\" class=\"data row3 col3\" ><=122</td>\n",
       "      <td id=\"T_92f51_row3_col4\" class=\"data row3 col4\" >>122</td>\n",
       "      <td id=\"T_92f51_row3_col5\" class=\"data row3 col5\" >223</td>\n",
       "      <td id=\"T_92f51_row3_col6\" class=\"data row3 col6\" >95241.93</td>\n",
       "      <td id=\"T_92f51_row3_col7\" class=\"data row3 col7\" >0.242</td>\n",
       "      <td id=\"T_92f51_row3_col8\" class=\"data row3 col8\" >118.98</td>\n",
       "    </tr>\n",
       "    <tr>\n",
       "      <td id=\"T_92f51_row4_col0\" class=\"data row4 col0\" >n12</td>\n",
       "      <td id=\"T_92f51_row4_col1\" class=\"data row4 col1\" >Child</td>\n",
       "      <td id=\"T_92f51_row4_col2\" class=\"data row4 col2\" >None</td>\n",
       "      <td id=\"T_92f51_row4_col3\" class=\"data row4 col3\" >None</td>\n",
       "      <td id=\"T_92f51_row4_col4\" class=\"data row4 col4\" >None</td>\n",
       "      <td id=\"T_92f51_row4_col5\" class=\"data row4 col5\" >141</td>\n",
       "      <td id=\"T_92f51_row4_col6\" class=\"data row4 col6\" >52885.89</td>\n",
       "      <td id=\"T_92f51_row4_col7\" class=\"data row4 col7\" >None</td>\n",
       "      <td id=\"T_92f51_row4_col8\" class=\"data row4 col8\" >124.03</td>\n",
       "    </tr>\n",
       "    <tr>\n",
       "      <td id=\"T_92f51_row5_col0\" class=\"data row5 col0\" >n13</td>\n",
       "      <td id=\"T_92f51_row5_col1\" class=\"data row5 col1\" >Child</td>\n",
       "      <td id=\"T_92f51_row5_col2\" class=\"data row5 col2\" >None</td>\n",
       "      <td id=\"T_92f51_row5_col3\" class=\"data row5 col3\" >None</td>\n",
       "      <td id=\"T_92f51_row5_col4\" class=\"data row5 col4\" >None</td>\n",
       "      <td id=\"T_92f51_row5_col5\" class=\"data row5 col5\" >82</td>\n",
       "      <td id=\"T_92f51_row5_col6\" class=\"data row5 col6\" >32591.38</td>\n",
       "      <td id=\"T_92f51_row5_col7\" class=\"data row5 col7\" >None</td>\n",
       "      <td id=\"T_92f51_row5_col8\" class=\"data row5 col8\" >110.3</td>\n",
       "    </tr>\n",
       "    <tr>\n",
       "      <td id=\"T_92f51_row6_col0\" class=\"data row6 col0\" >n7</td>\n",
       "      <td id=\"T_92f51_row6_col1\" class=\"data row6 col1\" >Parent</td>\n",
       "      <td id=\"T_92f51_row6_col2\" class=\"data row6 col2\" >Population > 40.0</td>\n",
       "      <td id=\"T_92f51_row6_col3\" class=\"data row6 col3\" ><=149</td>\n",
       "      <td id=\"T_92f51_row6_col4\" class=\"data row6 col4\" >>149</td>\n",
       "      <td id=\"T_92f51_row6_col5\" class=\"data row6 col5\" >52</td>\n",
       "      <td id=\"T_92f51_row6_col6\" class=\"data row6 col6\" >28594.83</td>\n",
       "      <td id=\"T_92f51_row6_col7\" class=\"data row6 col7\" >0.295</td>\n",
       "      <td id=\"T_92f51_row6_col8\" class=\"data row6 col8\" >97.94</td>\n",
       "    </tr>\n",
       "    <tr>\n",
       "      <td id=\"T_92f51_row7_col0\" class=\"data row7 col0\" >n14</td>\n",
       "      <td id=\"T_92f51_row7_col1\" class=\"data row7 col1\" >Child</td>\n",
       "      <td id=\"T_92f51_row7_col2\" class=\"data row7 col2\" >None</td>\n",
       "      <td id=\"T_92f51_row7_col3\" class=\"data row7 col3\" >None</td>\n",
       "      <td id=\"T_92f51_row7_col4\" class=\"data row7 col4\" >None</td>\n",
       "      <td id=\"T_92f51_row7_col5\" class=\"data row7 col5\" >6</td>\n",
       "      <td id=\"T_92f51_row7_col6\" class=\"data row7 col6\" >4226.0</td>\n",
       "      <td id=\"T_92f51_row7_col7\" class=\"data row7 col7\" >None</td>\n",
       "      <td id=\"T_92f51_row7_col8\" class=\"data row7 col8\" >74</td>\n",
       "    </tr>\n",
       "    <tr>\n",
       "      <td id=\"T_92f51_row8_col0\" class=\"data row8 col0\" >n15</td>\n",
       "      <td id=\"T_92f51_row8_col1\" class=\"data row8 col1\" >Child</td>\n",
       "      <td id=\"T_92f51_row8_col2\" class=\"data row8 col2\" >None</td>\n",
       "      <td id=\"T_92f51_row8_col3\" class=\"data row8 col3\" >None</td>\n",
       "      <td id=\"T_92f51_row8_col4\" class=\"data row8 col4\" >None</td>\n",
       "      <td id=\"T_92f51_row8_col5\" class=\"data row8 col5\" >46</td>\n",
       "      <td id=\"T_92f51_row8_col6\" class=\"data row8 col6\" >20480.8</td>\n",
       "      <td id=\"T_92f51_row8_col7\" class=\"data row8 col7\" >None</td>\n",
       "      <td id=\"T_92f51_row8_col8\" class=\"data row8 col8\" >101.07</td>\n",
       "    </tr>\n",
       "  </tbody>\n",
       "</table>\n"
      ],
      "text/plain": [
       "<pandas.io.formats.style.Styler at 0x1bd07443c80>"
      ]
     },
     "execution_count": 5,
     "metadata": {},
     "output_type": "execute_result"
    }
   ],
   "source": [
    "alpha, pruned_table = tree.pruning(features_test, n_features_test, y_test, table = True)\n",
    "pruned_table.style.hide()"
   ]
  }
 ],
 "metadata": {
  "kernelspec": {
   "display_name": "base",
   "language": "python",
   "name": "python3"
  },
  "language_info": {
   "codemirror_mode": {
    "name": "ipython",
    "version": 3
   },
   "file_extension": ".py",
   "mimetype": "text/x-python",
   "name": "python",
   "nbconvert_exporter": "python",
   "pygments_lexer": "ipython3",
   "version": "3.12.2"
  },
  "orig_nbformat": 4
 },
 "nbformat": 4,
 "nbformat_minor": 2
}
