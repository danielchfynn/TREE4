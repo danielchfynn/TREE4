{
 "cells": [
  {
   "cell_type": "code",
   "execution_count": 1,
   "metadata": {},
   "outputs": [],
   "source": [
    "import pandas as pd\n",
    "import numpy as np\n",
    "\n",
    "from cart import *"
   ]
  },
  {
   "cell_type": "code",
   "execution_count": 2,
   "metadata": {},
   "outputs": [
    {
     "name": "stdout",
     "output_type": "stream",
     "text": [
      "(81086, 32)\n"
     ]
    },
    {
     "data": {
      "text/html": [
       "<div>\n",
       "<style scoped>\n",
       "    .dataframe tbody tr th:only-of-type {\n",
       "        vertical-align: middle;\n",
       "    }\n",
       "\n",
       "    .dataframe tbody tr th {\n",
       "        vertical-align: top;\n",
       "    }\n",
       "\n",
       "    .dataframe thead th {\n",
       "        text-align: right;\n",
       "    }\n",
       "</style>\n",
       "<table border=\"1\" class=\"dataframe\">\n",
       "  <thead>\n",
       "    <tr style=\"text-align: right;\">\n",
       "      <th></th>\n",
       "      <th>trip_id</th>\n",
       "      <th>household_id</th>\n",
       "      <th>person_n</th>\n",
       "      <th>trip_n</th>\n",
       "      <th>travel_mode</th>\n",
       "      <th>purpose</th>\n",
       "      <th>fueltype</th>\n",
       "      <th>faretype</th>\n",
       "      <th>bus_scale</th>\n",
       "      <th>survey_year</th>\n",
       "      <th>travel_year</th>\n",
       "      <th>travel_month</th>\n",
       "      <th>travel_date</th>\n",
       "      <th>day_of_week</th>\n",
       "      <th>start_time</th>\n",
       "      <th>age</th>\n",
       "      <th>female</th>\n",
       "      <th>driving_license</th>\n",
       "      <th>car_ownership</th>\n",
       "      <th>distance</th>\n",
       "      <th>dur_walking</th>\n",
       "      <th>dur_cycling</th>\n",
       "      <th>dur_pt_access</th>\n",
       "      <th>dur_pt_rail</th>\n",
       "      <th>dur_pt_bus</th>\n",
       "      <th>dur_pt_int</th>\n",
       "      <th>pt_interchanges</th>\n",
       "      <th>dur_driving</th>\n",
       "      <th>cost_transit</th>\n",
       "      <th>cost_driving_fuel</th>\n",
       "      <th>cost_driving_ccharge</th>\n",
       "      <th>driving_traffic_percent</th>\n",
       "    </tr>\n",
       "  </thead>\n",
       "  <tbody>\n",
       "    <tr>\n",
       "      <th>0</th>\n",
       "      <td>0</td>\n",
       "      <td>0</td>\n",
       "      <td>0</td>\n",
       "      <td>0</td>\n",
       "      <td>4</td>\n",
       "      <td>3</td>\n",
       "      <td>1</td>\n",
       "      <td>1</td>\n",
       "      <td>1.0</td>\n",
       "      <td>1</td>\n",
       "      <td>2012</td>\n",
       "      <td>4</td>\n",
       "      <td>1</td>\n",
       "      <td>7</td>\n",
       "      <td>10.000000</td>\n",
       "      <td>56</td>\n",
       "      <td>1</td>\n",
       "      <td>1</td>\n",
       "      <td>2</td>\n",
       "      <td>778</td>\n",
       "      <td>0.218056</td>\n",
       "      <td>0.092222</td>\n",
       "      <td>0.134444</td>\n",
       "      <td>0.0</td>\n",
       "      <td>0.016667</td>\n",
       "      <td>0.0</td>\n",
       "      <td>0</td>\n",
       "      <td>0.052222</td>\n",
       "      <td>1.5</td>\n",
       "      <td>0.14</td>\n",
       "      <td>0.0</td>\n",
       "      <td>0.111702</td>\n",
       "    </tr>\n",
       "    <tr>\n",
       "      <th>1</th>\n",
       "      <td>1</td>\n",
       "      <td>0</td>\n",
       "      <td>0</td>\n",
       "      <td>1</td>\n",
       "      <td>4</td>\n",
       "      <td>3</td>\n",
       "      <td>1</td>\n",
       "      <td>1</td>\n",
       "      <td>1.0</td>\n",
       "      <td>1</td>\n",
       "      <td>2012</td>\n",
       "      <td>4</td>\n",
       "      <td>1</td>\n",
       "      <td>7</td>\n",
       "      <td>13.000000</td>\n",
       "      <td>56</td>\n",
       "      <td>1</td>\n",
       "      <td>1</td>\n",
       "      <td>2</td>\n",
       "      <td>778</td>\n",
       "      <td>0.188889</td>\n",
       "      <td>0.061944</td>\n",
       "      <td>0.109444</td>\n",
       "      <td>0.0</td>\n",
       "      <td>0.055556</td>\n",
       "      <td>0.0</td>\n",
       "      <td>0</td>\n",
       "      <td>0.059444</td>\n",
       "      <td>1.5</td>\n",
       "      <td>0.15</td>\n",
       "      <td>0.0</td>\n",
       "      <td>0.112150</td>\n",
       "    </tr>\n",
       "    <tr>\n",
       "      <th>2</th>\n",
       "      <td>2</td>\n",
       "      <td>0</td>\n",
       "      <td>0</td>\n",
       "      <td>2</td>\n",
       "      <td>4</td>\n",
       "      <td>3</td>\n",
       "      <td>1</td>\n",
       "      <td>1</td>\n",
       "      <td>1.0</td>\n",
       "      <td>1</td>\n",
       "      <td>2012</td>\n",
       "      <td>4</td>\n",
       "      <td>1</td>\n",
       "      <td>7</td>\n",
       "      <td>17.000000</td>\n",
       "      <td>56</td>\n",
       "      <td>1</td>\n",
       "      <td>1</td>\n",
       "      <td>2</td>\n",
       "      <td>4562</td>\n",
       "      <td>1.037778</td>\n",
       "      <td>0.355833</td>\n",
       "      <td>0.203056</td>\n",
       "      <td>0.0</td>\n",
       "      <td>0.210278</td>\n",
       "      <td>0.0</td>\n",
       "      <td>0</td>\n",
       "      <td>0.236667</td>\n",
       "      <td>1.5</td>\n",
       "      <td>0.79</td>\n",
       "      <td>0.0</td>\n",
       "      <td>0.203052</td>\n",
       "    </tr>\n",
       "    <tr>\n",
       "      <th>3</th>\n",
       "      <td>3</td>\n",
       "      <td>0</td>\n",
       "      <td>0</td>\n",
       "      <td>3</td>\n",
       "      <td>4</td>\n",
       "      <td>3</td>\n",
       "      <td>1</td>\n",
       "      <td>1</td>\n",
       "      <td>1.0</td>\n",
       "      <td>1</td>\n",
       "      <td>2012</td>\n",
       "      <td>4</td>\n",
       "      <td>1</td>\n",
       "      <td>7</td>\n",
       "      <td>17.350000</td>\n",
       "      <td>56</td>\n",
       "      <td>1</td>\n",
       "      <td>1</td>\n",
       "      <td>2</td>\n",
       "      <td>4562</td>\n",
       "      <td>1.039444</td>\n",
       "      <td>0.384444</td>\n",
       "      <td>0.205556</td>\n",
       "      <td>0.0</td>\n",
       "      <td>0.258611</td>\n",
       "      <td>0.0</td>\n",
       "      <td>0</td>\n",
       "      <td>0.233333</td>\n",
       "      <td>1.5</td>\n",
       "      <td>0.78</td>\n",
       "      <td>0.0</td>\n",
       "      <td>0.160714</td>\n",
       "    </tr>\n",
       "    <tr>\n",
       "      <th>4</th>\n",
       "      <td>4</td>\n",
       "      <td>0</td>\n",
       "      <td>1</td>\n",
       "      <td>2</td>\n",
       "      <td>4</td>\n",
       "      <td>3</td>\n",
       "      <td>1</td>\n",
       "      <td>4</td>\n",
       "      <td>1.0</td>\n",
       "      <td>1</td>\n",
       "      <td>2012</td>\n",
       "      <td>4</td>\n",
       "      <td>1</td>\n",
       "      <td>7</td>\n",
       "      <td>19.583333</td>\n",
       "      <td>54</td>\n",
       "      <td>0</td>\n",
       "      <td>1</td>\n",
       "      <td>2</td>\n",
       "      <td>4562</td>\n",
       "      <td>1.037778</td>\n",
       "      <td>0.355833</td>\n",
       "      <td>0.203056</td>\n",
       "      <td>0.0</td>\n",
       "      <td>0.189444</td>\n",
       "      <td>0.0</td>\n",
       "      <td>0</td>\n",
       "      <td>0.229167</td>\n",
       "      <td>1.5</td>\n",
       "      <td>0.78</td>\n",
       "      <td>0.0</td>\n",
       "      <td>0.130909</td>\n",
       "    </tr>\n",
       "  </tbody>\n",
       "</table>\n",
       "</div>"
      ],
      "text/plain": [
       "   trip_id  household_id  person_n  trip_n  travel_mode  purpose  fueltype  \\\n",
       "0        0             0         0       0            4        3         1   \n",
       "1        1             0         0       1            4        3         1   \n",
       "2        2             0         0       2            4        3         1   \n",
       "3        3             0         0       3            4        3         1   \n",
       "4        4             0         1       2            4        3         1   \n",
       "\n",
       "   faretype  bus_scale  survey_year  travel_year  travel_month  travel_date  \\\n",
       "0         1        1.0            1         2012             4            1   \n",
       "1         1        1.0            1         2012             4            1   \n",
       "2         1        1.0            1         2012             4            1   \n",
       "3         1        1.0            1         2012             4            1   \n",
       "4         4        1.0            1         2012             4            1   \n",
       "\n",
       "   day_of_week  start_time  age  female  driving_license  car_ownership  \\\n",
       "0            7   10.000000   56       1                1              2   \n",
       "1            7   13.000000   56       1                1              2   \n",
       "2            7   17.000000   56       1                1              2   \n",
       "3            7   17.350000   56       1                1              2   \n",
       "4            7   19.583333   54       0                1              2   \n",
       "\n",
       "   distance  dur_walking  dur_cycling  dur_pt_access  dur_pt_rail  dur_pt_bus  \\\n",
       "0       778     0.218056     0.092222       0.134444          0.0    0.016667   \n",
       "1       778     0.188889     0.061944       0.109444          0.0    0.055556   \n",
       "2      4562     1.037778     0.355833       0.203056          0.0    0.210278   \n",
       "3      4562     1.039444     0.384444       0.205556          0.0    0.258611   \n",
       "4      4562     1.037778     0.355833       0.203056          0.0    0.189444   \n",
       "\n",
       "   dur_pt_int  pt_interchanges  dur_driving  cost_transit  cost_driving_fuel  \\\n",
       "0         0.0                0     0.052222           1.5               0.14   \n",
       "1         0.0                0     0.059444           1.5               0.15   \n",
       "2         0.0                0     0.236667           1.5               0.79   \n",
       "3         0.0                0     0.233333           1.5               0.78   \n",
       "4         0.0                0     0.229167           1.5               0.78   \n",
       "\n",
       "   cost_driving_ccharge  driving_traffic_percent  \n",
       "0                   0.0                 0.111702  \n",
       "1                   0.0                 0.112150  \n",
       "2                   0.0                 0.203052  \n",
       "3                   0.0                 0.160714  \n",
       "4                   0.0                 0.130909  "
      ]
     },
     "execution_count": 2,
     "metadata": {},
     "output_type": "execute_result"
    }
   ],
   "source": [
    "pd.options.display.max_columns = None\n",
    "dataframe = pd.read_table('lpmc.dat')\n",
    "print(dataframe.shape)\n",
    "dataframe.head()"
   ]
  },
  {
   "cell_type": "code",
   "execution_count": 3,
   "metadata": {},
   "outputs": [],
   "source": [
    "#binning age\n",
    "\n",
    "groupDict={'0-18':0,'19-30':0,'31-65':0, '66+': 0}\n",
    "\n",
    "for i in dataframe['age']:\n",
    "    if i>=0 and i<=10:\n",
    "        groupDict['0-18']+=1\n",
    "    elif i>=19 and i<=30:\n",
    "        groupDict['19-30']+=1\n",
    "    elif i>=31 and i<=65:\n",
    "        groupDict['31-65']+=1\n",
    "    else:\n",
    "        groupDict['66+']+=1\n",
    "\n",
    "dataframe.loc[dataframe['age']<=18, 'age_group'] = '0-18'\n",
    "dataframe.loc[dataframe['age'].between(19,30), 'age_group'] = '19-30'\n",
    "dataframe.loc[dataframe['age'].between(31,65), 'age_group'] = '31-65'\n",
    "dataframe.loc[dataframe['age']>65, 'age_group'] = '66+'\n",
    "dataframe.drop(['age'], axis= 1, inplace = True)\n",
    "\n",
    "\n",
    "#binning distance\n",
    "\n",
    "dataframe.loc[dataframe['distance']< 658.50, 'distance_group'] = 'distance01'\n",
    "dataframe.loc[dataframe['distance'].between(658.50,861.49), 'distance_group'] = 'distance02'\n",
    "dataframe.loc[dataframe['distance'].between(861.50,1214.49), 'distance_group'] = 'distance03'\n",
    "dataframe.loc[dataframe['distance'].between(1214.50,1514.49 ), 'distance_group'] = 'distance04'\n",
    "dataframe.loc[dataframe['distance'].between(1514.50, 2156.49), 'distance_group'] = 'distance05'\n",
    "dataframe.loc[dataframe['distance'].between(2156.50, 2759.49), 'distance_group'] = 'distance06'\n",
    "dataframe.loc[dataframe['distance'].between(2759.50, 4391.49), 'distance_group'] = 'distance07'\n",
    "dataframe.loc[dataframe['distance'].between(4391.50, 5369.49), 'distance_group'] = 'distance08'\n",
    "dataframe.loc[dataframe['distance'].between(5369.50, 10087.49), 'distance_group'] = 'distance09'\n",
    "dataframe.loc[dataframe['distance'].between(10087.50, 14695.49), 'distance_group'] = 'distance10'\n",
    "dataframe.loc[dataframe['distance']>=14695.50, 'distance_group'] = 'distance11'\n",
    "dataframe.drop('distance', axis = 1, inplace = True)\n",
    "\n",
    "#binning start time\n",
    "\n",
    "dataframe.loc[dataframe['start_time']<8.091666, 'starttime_group'] = 'early_morning'\n",
    "dataframe.loc[dataframe['start_time'].between(8.091666,10.00833320), 'starttime_group'] = 'morning'\n",
    "dataframe.loc[dataframe['start_time'].between(10.008333211,18.50833320), 'starttime_group'] = 'afternoon'\n",
    "dataframe.loc[dataframe['start_time']> 18.50833321, 'starttime_group'] = 'evening'\n",
    "dataframe.drop('start_time', axis = 1, inplace = True)\n",
    "\n",
    "#binning cost transit\n",
    "\n",
    "dataframe.loc[dataframe['cost_transit']< 1.52499998, 'cost_group'] = 'low_cost'\n",
    "dataframe.loc[dataframe['cost_transit'].between(1.52499998,3.01999997), 'cost_group'] = 'medium_cost'\n",
    "dataframe.loc[dataframe['cost_transit']> 3.01999998, 'cost_group'] = 'high_cost'\n",
    "dataframe.drop('cost_transit', axis = 1, inplace = True)\n",
    "\n",
    "#binning cost_driving_Fuel\n",
    "\n",
    "dataframe.loc[dataframe['cost_driving_fuel']< 0.165, 'costdrivingfuel_group'] = 'costdrivingfuelgroup1'\n",
    "dataframe.loc[dataframe['cost_driving_fuel'].between(0.165,0.204), 'costdrivingfuel_group'] = 'costdrivingfuelgroup2'\n",
    "dataframe.loc[dataframe['cost_driving_fuel'].between(0.205,0.244), 'costdrivingfuel_group'] = 'costdrivingfuelgroup3'\n",
    "dataframe.loc[dataframe['cost_driving_fuel'].between(0.245, 0.294), 'costdrivingfuel_group'] = 'costdrivingfuelgroup4'\n",
    "dataframe.loc[dataframe['cost_driving_fuel'].between(0.295, 0.354), 'costdrivingfuel_group'] = 'costdrivingfuelgroup5'\n",
    "dataframe.loc[dataframe['cost_driving_fuel'].between(0.355, 0.44499998), 'costdrivingfuel_group'] = 'costdrivingfuelgroup6'\n",
    "dataframe.loc[dataframe['cost_driving_fuel'].between(0.44499999, 0.83499997), 'costdrivingfuel_group'] = 'costdrivingfuelgroup7'\n",
    "dataframe.loc[dataframe['cost_driving_fuel'].between(0.83499998, 1.17499994), 'costdrivingfuel_group'] = 'costdrivingfuelgroup8'\n",
    "dataframe.loc[dataframe['cost_driving_fuel'].between(1.17499995, 2.31499993), 'costdrivingfuel_group'] = 'costdrivingfuelgroup9'\n",
    "dataframe.loc[dataframe['cost_driving_fuel']> 2.31499994, 'costdrivingfuel_group'] = 'costdrivingfuelgroup10'\n",
    "dataframe.drop('cost_driving_fuel', axis = 1, inplace = True)\n",
    "\n",
    "#binning driving traddic percent\n",
    "\n",
    "dataframe.loc[dataframe['driving_traffic_percent']< 0.24422751, 'trafficperc_group'] = '0low_traffic'\n",
    "dataframe.loc[dataframe['driving_traffic_percent'].between(0.24422751,0.36449698), 'trafficperc_group'] = '1mediumlow_traffic'\n",
    "dataframe.loc[dataframe['driving_traffic_percent'].between(0.36449699,0.49620750), 'trafficperc_group'] = '2medium_traffic'\n",
    "dataframe.loc[dataframe['driving_traffic_percent'].between(0.49620751, 0.57161700), 'trafficperc_group'] = '3mediumhigh_traffic'\n",
    "dataframe.loc[dataframe['driving_traffic_percent']> 0.57161701, 'trafficperc_group'] = '4high_traffic'\n",
    "dataframe.drop('driving_traffic_percent', axis = 1, inplace = True)\n",
    "\n",
    "#binning cost_driving_ccharge\n",
    "\n",
    "dataframe.loc[dataframe['cost_driving_ccharge']< 5.25, 'drivingcharge_group'] = 'low_charge'\n",
    "dataframe.loc[dataframe['cost_driving_ccharge']> 5.25, 'drivingcharge_group'] = 'high_charge'\n",
    "dataframe.drop('cost_driving_ccharge', axis = 1, inplace = True)"
   ]
  },
  {
   "cell_type": "code",
   "execution_count": 4,
   "metadata": {},
   "outputs": [
    {
     "name": "stdout",
     "output_type": "stream",
     "text": [
      "{2012, 2013, 2014, 2015}\n",
      "Number of columns dropped: 12\n",
      "Index(['purpose', 'fueltype', 'faretype', 'bus_scale', 'travel_month',\n",
      "       'day_of_week', 'female', 'driving_license', 'car_ownership',\n",
      "       'pt_interchanges', 'age_group', 'distance_group', 'starttime_group',\n",
      "       'cost_group', 'costdrivingfuel_group', 'trafficperc_group',\n",
      "       'drivingcharge_group'],\n",
      "      dtype='object')\n"
     ]
    }
   ],
   "source": [
    "y = dataframe[['travel_mode', 'travel_year']]\n",
    "X = dataframe.drop(['travel_mode', 'survey_year'], axis = 1)\n",
    "\n",
    "print(set(X[\"travel_year\"]))\n",
    "\n",
    "a = X.loc[X[\"travel_year\"]==2015]\n",
    "#creating test set \n",
    "\n",
    "X_test= X.query('travel_year == 2015') #creates a subset, like this: X.loc[X[\"travel_year\"]==2015]\n",
    "y_test = y.query('travel_year == 2015')\n",
    "\n",
    "X_test = X_test.drop(['travel_year'], axis =1).copy()\n",
    "y_test = y_test.drop(['travel_year'], axis =1).copy()\n",
    "\n",
    "#create training set \n",
    "\n",
    "X_train_1 = X.query('travel_year == 2012')\n",
    "y_train_1 = y.query('travel_year == 2012')\n",
    "X_train_2 = X.query('travel_year == 2013')\n",
    "y_train_2 = y.query('travel_year == 2013')\n",
    "X_train_3 = X.query('travel_year == 2014')\n",
    "y_train_3 = y.query('travel_year == 2014')\n",
    "\n",
    "X_train = pd.concat([X_train_1, X_train_2, X_train_3])\n",
    "y_train = pd.concat([y_train_1, y_train_2, y_train_3])\n",
    "\n",
    "X_train = X_train.drop(['travel_year'], axis = 1)\n",
    "y_train = y_train.drop(['travel_year'], axis = 1)\n",
    "\n",
    "\n",
    "data = pd.concat([X_train, y_train], axis = 1)\n",
    "#data = data_to_shuffle.sample(frac=1, random_state = 3).reset_index(drop=True) #sampling returning all, and resetting index , no seed?\n",
    "y_train = data['travel_mode']\n",
    "X_train = data.drop(['travel_mode'], axis = 1)\n",
    "\n",
    "#feature selection\n",
    "\n",
    "to_drop = ['trip_id', 'household_id', 'person_n', 'trip_n', 'travel_date', 'dur_pt_int',\n",
    "          'dur_pt_rail', 'dur_pt_access', 'dur_pt_bus', 'dur_walking', 'dur_cycling', 'dur_driving']\n",
    "print(f'Number of columns dropped: {len(to_drop)}')\n",
    "X_train.drop(to_drop, axis = 1, inplace = True)\n",
    "\n",
    "X_test.drop(to_drop, axis = 1, inplace = True)\n",
    "\n",
    "predictors = X_test.columns\n",
    "y = y_test #is the whole vector\n",
    "print(predictors)\n",
    "\n",
    "datatest = pd.concat([y_test, X_test], axis = 1).reset_index()\n",
    "datatest.drop('index', axis = 1, inplace = True)\n",
    "datatest.to_csv(\"data_test.csv\", index = False)\n",
    "\n",
    "datatraining = pd.concat([y_train, X_train], axis = 1).reset_index()\n",
    "datatraining.drop('index', axis = 1, inplace = True)\n",
    "datatraining.to_csv(\"data_training.csv\", index = False)\n"
   ]
  },
  {
   "cell_type": "code",
   "execution_count": 5,
   "metadata": {},
   "outputs": [],
   "source": [
    "X_train.reset_index(inplace = True, drop = True)\n",
    "y_train.reset_index(inplace = True, drop = True)\n",
    "\n",
    "#X_train=X_train.applymap(str) moves elements into strings\n",
    "#y_train=y_train.astype(str)\n",
    "\n",
    "n_features = X_train\n",
    "n_features_names = list(X_train.columns)\n",
    "indici = np.arange(0, len(y_train))\n",
    "y = y_train\n",
    "\n",
    "\n",
    "\n"
   ]
  },
  {
   "cell_type": "code",
   "execution_count": 6,
   "metadata": {},
   "outputs": [
    {
     "data": {
      "text/html": [
       "<div>\n",
       "<style scoped>\n",
       "    .dataframe tbody tr th:only-of-type {\n",
       "        vertical-align: middle;\n",
       "    }\n",
       "\n",
       "    .dataframe tbody tr th {\n",
       "        vertical-align: top;\n",
       "    }\n",
       "\n",
       "    .dataframe thead th {\n",
       "        text-align: right;\n",
       "    }\n",
       "</style>\n",
       "<table border=\"1\" class=\"dataframe\">\n",
       "  <thead>\n",
       "    <tr style=\"text-align: right;\">\n",
       "      <th></th>\n",
       "      <th>purpose</th>\n",
       "      <th>fueltype</th>\n",
       "      <th>faretype</th>\n",
       "      <th>bus_scale</th>\n",
       "      <th>travel_month</th>\n",
       "      <th>day_of_week</th>\n",
       "      <th>female</th>\n",
       "      <th>driving_license</th>\n",
       "      <th>car_ownership</th>\n",
       "      <th>pt_interchanges</th>\n",
       "      <th>age_group</th>\n",
       "      <th>distance_group</th>\n",
       "      <th>starttime_group</th>\n",
       "      <th>cost_group</th>\n",
       "      <th>costdrivingfuel_group</th>\n",
       "      <th>trafficperc_group</th>\n",
       "      <th>drivingcharge_group</th>\n",
       "    </tr>\n",
       "  </thead>\n",
       "  <tbody>\n",
       "    <tr>\n",
       "      <th>0</th>\n",
       "      <td>purpose3</td>\n",
       "      <td>fueltype1</td>\n",
       "      <td>faretype1</td>\n",
       "      <td>bus_scale1.0</td>\n",
       "      <td>travel_month4</td>\n",
       "      <td>day_of_week7</td>\n",
       "      <td>female1</td>\n",
       "      <td>driving_license1</td>\n",
       "      <td>car_ownership2</td>\n",
       "      <td>pt_interchanges0</td>\n",
       "      <td>age_group31-65</td>\n",
       "      <td>distance02</td>\n",
       "      <td>morning</td>\n",
       "      <td>low_cost</td>\n",
       "      <td>costdrivingfuelgroup1</td>\n",
       "      <td>0low_traffic</td>\n",
       "      <td>low_charge</td>\n",
       "    </tr>\n",
       "    <tr>\n",
       "      <th>1</th>\n",
       "      <td>purpose3</td>\n",
       "      <td>fueltype1</td>\n",
       "      <td>faretype1</td>\n",
       "      <td>bus_scale1.0</td>\n",
       "      <td>travel_month4</td>\n",
       "      <td>day_of_week7</td>\n",
       "      <td>female1</td>\n",
       "      <td>driving_license1</td>\n",
       "      <td>car_ownership2</td>\n",
       "      <td>pt_interchanges0</td>\n",
       "      <td>age_group31-65</td>\n",
       "      <td>distance02</td>\n",
       "      <td>afternoon</td>\n",
       "      <td>low_cost</td>\n",
       "      <td>costdrivingfuelgroup1</td>\n",
       "      <td>0low_traffic</td>\n",
       "      <td>low_charge</td>\n",
       "    </tr>\n",
       "    <tr>\n",
       "      <th>2</th>\n",
       "      <td>purpose3</td>\n",
       "      <td>fueltype1</td>\n",
       "      <td>faretype1</td>\n",
       "      <td>bus_scale1.0</td>\n",
       "      <td>travel_month4</td>\n",
       "      <td>day_of_week7</td>\n",
       "      <td>female1</td>\n",
       "      <td>driving_license1</td>\n",
       "      <td>car_ownership2</td>\n",
       "      <td>pt_interchanges0</td>\n",
       "      <td>age_group31-65</td>\n",
       "      <td>distance08</td>\n",
       "      <td>afternoon</td>\n",
       "      <td>low_cost</td>\n",
       "      <td>costdrivingfuelgroup7</td>\n",
       "      <td>0low_traffic</td>\n",
       "      <td>low_charge</td>\n",
       "    </tr>\n",
       "    <tr>\n",
       "      <th>3</th>\n",
       "      <td>purpose3</td>\n",
       "      <td>fueltype1</td>\n",
       "      <td>faretype1</td>\n",
       "      <td>bus_scale1.0</td>\n",
       "      <td>travel_month4</td>\n",
       "      <td>day_of_week7</td>\n",
       "      <td>female1</td>\n",
       "      <td>driving_license1</td>\n",
       "      <td>car_ownership2</td>\n",
       "      <td>pt_interchanges0</td>\n",
       "      <td>age_group31-65</td>\n",
       "      <td>distance08</td>\n",
       "      <td>afternoon</td>\n",
       "      <td>low_cost</td>\n",
       "      <td>costdrivingfuelgroup7</td>\n",
       "      <td>0low_traffic</td>\n",
       "      <td>low_charge</td>\n",
       "    </tr>\n",
       "    <tr>\n",
       "      <th>4</th>\n",
       "      <td>purpose3</td>\n",
       "      <td>fueltype1</td>\n",
       "      <td>faretype4</td>\n",
       "      <td>bus_scale1.0</td>\n",
       "      <td>travel_month4</td>\n",
       "      <td>day_of_week7</td>\n",
       "      <td>female0</td>\n",
       "      <td>driving_license1</td>\n",
       "      <td>car_ownership2</td>\n",
       "      <td>pt_interchanges0</td>\n",
       "      <td>age_group31-65</td>\n",
       "      <td>distance08</td>\n",
       "      <td>evening</td>\n",
       "      <td>low_cost</td>\n",
       "      <td>costdrivingfuelgroup7</td>\n",
       "      <td>0low_traffic</td>\n",
       "      <td>low_charge</td>\n",
       "    </tr>\n",
       "  </tbody>\n",
       "</table>\n",
       "</div>"
      ],
      "text/plain": [
       "    purpose   fueltype   faretype     bus_scale   travel_month   day_of_week  \\\n",
       "0  purpose3  fueltype1  faretype1  bus_scale1.0  travel_month4  day_of_week7   \n",
       "1  purpose3  fueltype1  faretype1  bus_scale1.0  travel_month4  day_of_week7   \n",
       "2  purpose3  fueltype1  faretype1  bus_scale1.0  travel_month4  day_of_week7   \n",
       "3  purpose3  fueltype1  faretype1  bus_scale1.0  travel_month4  day_of_week7   \n",
       "4  purpose3  fueltype1  faretype4  bus_scale1.0  travel_month4  day_of_week7   \n",
       "\n",
       "    female   driving_license   car_ownership   pt_interchanges  \\\n",
       "0  female1  driving_license1  car_ownership2  pt_interchanges0   \n",
       "1  female1  driving_license1  car_ownership2  pt_interchanges0   \n",
       "2  female1  driving_license1  car_ownership2  pt_interchanges0   \n",
       "3  female1  driving_license1  car_ownership2  pt_interchanges0   \n",
       "4  female0  driving_license1  car_ownership2  pt_interchanges0   \n",
       "\n",
       "        age_group distance_group starttime_group cost_group  \\\n",
       "0  age_group31-65     distance02         morning   low_cost   \n",
       "1  age_group31-65     distance02       afternoon   low_cost   \n",
       "2  age_group31-65     distance08       afternoon   low_cost   \n",
       "3  age_group31-65     distance08       afternoon   low_cost   \n",
       "4  age_group31-65     distance08         evening   low_cost   \n",
       "\n",
       "   costdrivingfuel_group trafficperc_group drivingcharge_group  \n",
       "0  costdrivingfuelgroup1      0low_traffic          low_charge  \n",
       "1  costdrivingfuelgroup1      0low_traffic          low_charge  \n",
       "2  costdrivingfuelgroup7      0low_traffic          low_charge  \n",
       "3  costdrivingfuelgroup7      0low_traffic          low_charge  \n",
       "4  costdrivingfuelgroup7      0low_traffic          low_charge  "
      ]
     },
     "execution_count": 6,
     "metadata": {},
     "output_type": "execute_result"
    }
   ],
   "source": [
    "n_features['purpose'] = 'purpose' + n_features['purpose'].astype(str)\n",
    "n_features['fueltype'] = 'fueltype' + n_features['fueltype'].astype(str)\n",
    "n_features['faretype'] = 'faretype' + n_features['faretype'].astype(str)\n",
    "n_features['bus_scale'] = 'bus_scale' + n_features['bus_scale'].astype(str)\n",
    "n_features['travel_month'] = 'travel_month' + n_features['travel_month'].astype(str)\n",
    "n_features['day_of_week'] = 'day_of_week' + n_features['day_of_week'].astype(str)\n",
    "n_features['female'] = 'female' + n_features['female'].astype(str)\n",
    "n_features['driving_license'] = 'driving_license' + n_features['driving_license'].astype(str)\n",
    "n_features['car_ownership'] = 'car_ownership' + n_features['car_ownership'].astype(str)\n",
    "n_features['pt_interchanges'] = 'pt_interchanges' + n_features['pt_interchanges'].astype(str)\n",
    "n_features['age_group'] = 'age_group' + n_features['age_group'].astype(str)\n",
    "\n",
    "\n",
    "n_features.head()"
   ]
  },
  {
   "cell_type": "code",
   "execution_count": 7,
   "metadata": {},
   "outputs": [],
   "source": [
    "features = []\n",
    "features_names = []\n"
   ]
  },
  {
   "cell_type": "code",
   "execution_count": 8,
   "metadata": {},
   "outputs": [],
   "source": [
    "from collections import Counter\n",
    "import itertools\n"
   ]
  },
  {
   "cell_type": "code",
   "execution_count": 9,
   "metadata": {},
   "outputs": [
    {
     "data": {
      "text/plain": [
       "[(1, 2),\n",
       " (1, 3),\n",
       " (1, 4),\n",
       " (2, 3),\n",
       " (2, 4),\n",
       " (3, 4),\n",
       " (1, 2, 3),\n",
       " (1, 2, 4),\n",
       " (1, 3, 4),\n",
       " (2, 3, 4),\n",
       " 1,\n",
       " 2,\n",
       " 3,\n",
       " 4]"
      ]
     },
     "execution_count": 9,
     "metadata": {},
     "output_type": "execute_result"
    }
   ],
   "source": [
    "combinazioni = []\n",
    "distinct_values= []\n",
    "distinct_values.append(list(set(y)))\n",
    "distinct_values = list(itertools.chain(*distinct_values)) #flattens, removed nesting\n",
    "for i in range(1,len(distinct_values)):\n",
    "    combinazioni.append(list(itertools.combinations(distinct_values, i)))\n",
    "combinazioni=combinazioni[1:]\n",
    "combinazioni = list(itertools.chain(*combinazioni))\n",
    "combinazioni = combinazioni +  distinct_values\n",
    "combinazioni"
   ]
  },
  {
   "cell_type": "code",
   "execution_count": 10,
   "metadata": {},
   "outputs": [
    {
     "data": {
      "text/plain": [
       "([[1, 2], [1, 3], [1, 4], [1, 2, 3], [1, 2, 4], [1, 3, 4], [2, 3, 4]],\n",
       " [[3, 4], [2, 4], [2, 3], [4], [3], [2], [1]],\n",
       " 7)"
      ]
     },
     "execution_count": 10,
     "metadata": {},
     "output_type": "execute_result"
    }
   ],
   "source": [
    "c1, c2 = [], []\n",
    "for i in combinazioni:\n",
    "        if isinstance(i, int): \n",
    "            if [i] not in c2:\n",
    "                c1.append([i])\n",
    "            if list(set(y)-{i}) not in c1:\n",
    "                c2.append(list(set(y)-{i}))\n",
    "        else:\n",
    "            if list(i) not in c2:\n",
    "                c1.append(list(i))\n",
    "            if list(set(y) - set(tuple(i))) not in c1:\n",
    "                c2.append(list(set(y) - set(tuple(i))))\n",
    "            \n",
    "    \n",
    "               \n",
    "c1,c2, len(c1)"
   ]
  },
  {
   "cell_type": "code",
   "execution_count": 11,
   "metadata": {},
   "outputs": [
    {
     "data": {
      "text/plain": [
       "{'distance09': 12640,\n",
       " 'distance07': 11691,\n",
       " 'distance05': 8878,\n",
       " 'distance03': 7402,\n",
       " 'distance06': 6235,\n",
       " 'distance01': 5844,\n",
       " 'distance04': 5281,\n",
       " 'distance10': 5278,\n",
       " 'distance08': 4782,\n",
       " 'distance02': 4079,\n",
       " 'distance11': 3993}"
      ]
     },
     "execution_count": 11,
     "metadata": {},
     "output_type": "execute_result"
    }
   ],
   "source": [
    "dict(n_features['distance_group'].value_counts())"
   ]
  },
  {
   "attachments": {},
   "cell_type": "markdown",
   "metadata": {},
   "source": [
    "Twoing "
   ]
  },
  {
   "cell_type": "code",
   "execution_count": 12,
   "metadata": {},
   "outputs": [
    {
     "data": {
      "text/plain": [
       "(0    4\n",
       " 1    4\n",
       " 2    4\n",
       " 3    4\n",
       " 4    4\n",
       " Name: travel_mode, dtype: int64,\n",
       " [],\n",
       " [],\n",
       "     purpose   fueltype   faretype     bus_scale   travel_month   day_of_week  \\\n",
       " 0  purpose3  fueltype1  faretype1  bus_scale1.0  travel_month4  day_of_week7   \n",
       " 1  purpose3  fueltype1  faretype1  bus_scale1.0  travel_month4  day_of_week7   \n",
       " 2  purpose3  fueltype1  faretype1  bus_scale1.0  travel_month4  day_of_week7   \n",
       " 3  purpose3  fueltype1  faretype1  bus_scale1.0  travel_month4  day_of_week7   \n",
       " 4  purpose3  fueltype1  faretype4  bus_scale1.0  travel_month4  day_of_week7   \n",
       " \n",
       "     female   driving_license   car_ownership   pt_interchanges  \\\n",
       " 0  female1  driving_license1  car_ownership2  pt_interchanges0   \n",
       " 1  female1  driving_license1  car_ownership2  pt_interchanges0   \n",
       " 2  female1  driving_license1  car_ownership2  pt_interchanges0   \n",
       " 3  female1  driving_license1  car_ownership2  pt_interchanges0   \n",
       " 4  female0  driving_license1  car_ownership2  pt_interchanges0   \n",
       " \n",
       "         age_group distance_group starttime_group cost_group  \\\n",
       " 0  age_group31-65     distance02         morning   low_cost   \n",
       " 1  age_group31-65     distance02       afternoon   low_cost   \n",
       " 2  age_group31-65     distance08       afternoon   low_cost   \n",
       " 3  age_group31-65     distance08       afternoon   low_cost   \n",
       " 4  age_group31-65     distance08         evening   low_cost   \n",
       " \n",
       "    costdrivingfuel_group trafficperc_group drivingcharge_group  \n",
       " 0  costdrivingfuelgroup1      0low_traffic          low_charge  \n",
       " 1  costdrivingfuelgroup1      0low_traffic          low_charge  \n",
       " 2  costdrivingfuelgroup7      0low_traffic          low_charge  \n",
       " 3  costdrivingfuelgroup7      0low_traffic          low_charge  \n",
       " 4  costdrivingfuelgroup7      0low_traffic          low_charge  ,\n",
       " ['purpose',\n",
       "  'fueltype',\n",
       "  'faretype',\n",
       "  'bus_scale',\n",
       "  'travel_month',\n",
       "  'day_of_week',\n",
       "  'female',\n",
       "  'driving_license',\n",
       "  'car_ownership',\n",
       "  'pt_interchanges',\n",
       "  'age_group',\n",
       "  'distance_group',\n",
       "  'starttime_group',\n",
       "  'cost_group',\n",
       "  'costdrivingfuel_group',\n",
       "  'trafficperc_group',\n",
       "  'drivingcharge_group'])"
      ]
     },
     "execution_count": 12,
     "metadata": {},
     "output_type": "execute_result"
    }
   ],
   "source": [
    "y.head(), features, features_names, n_features.head(), n_features_names"
   ]
  },
  {
   "cell_type": "code",
   "execution_count": 14,
   "metadata": {},
   "outputs": [],
   "source": [
    "tau = False #making y binary \n",
    "if tau:\n",
    "    y = pd.DataFrame(y)\n",
    "    y[\"travel_mode\"].loc[y[\"travel_mode\"]==2] = 1\n",
    "    y[\"travel_mode\"].loc[y[\"travel_mode\"]==4] = 3\n",
    "    y = y[\"travel_mode\"]"
   ]
  },
  {
   "attachments": {},
   "cell_type": "markdown",
   "metadata": {},
   "source": [
    "setting class as binary for fast test   "
   ]
  },
  {
   "cell_type": "code",
   "execution_count": 15,
   "metadata": {},
   "outputs": [
    {
     "data": {
      "text/plain": [
       "13367"
      ]
     },
     "execution_count": 15,
     "metadata": {},
     "output_type": "execute_result"
    }
   ],
   "source": [
    "y.value_counts()[1]"
   ]
  },
  {
   "cell_type": "code",
   "execution_count": 16,
   "metadata": {},
   "outputs": [
    {
     "data": {
      "text/plain": [
       "Text(0.5, 1.0, 'Distribution of Travel Modes Training Set')"
      ]
     },
     "execution_count": 16,
     "metadata": {},
     "output_type": "execute_result"
    },
    {
     "data": {
      "image/png": "[encoded data removed]",
      "text/plain": [
       "<Figure size 640x480 with 1 Axes>"
      ]
     },
     "metadata": {},
     "output_type": "display_data"
    }
   ],
   "source": [
    "import matplotlib.pyplot as plt\n",
    "\n",
    "groups = [\"Walking\", \"Cycling\", \"Public Transport\", \"Driving\"]\n",
    "countss = [y.value_counts()[1], y.value_counts()[2], y.value_counts()[3], y.value_counts()[4]]\n",
    "plt.bar(groups, countss)\n",
    "plt.ylabel(\"Instances\")\n",
    "plt.xlabel(\"Travel Mode\")\n",
    "plt.title(\"Distribution of Travel Modes Training Set\")"
   ]
  },
  {
   "cell_type": "code",
   "execution_count": 17,
   "metadata": {},
   "outputs": [
    {
     "name": "stdout",
     "output_type": "stream",
     "text": [
      "Split Found:  n1 [['distance_group', ('distance02', 'distance01', 'distance03'), 0.3113926939147097, 0]] start\n",
      "node_proportion_total  0.06902743931139232\n",
      "Split Found:  n2 [['car_ownership', ('car_ownership2', 'car_ownership1'), 0.2399455853839142, 1]] left\n",
      "node_proportion_total  0.48261019708335573\n",
      "Node_proportion_gain  0.4135827577719634\n",
      "Split Found:  n4 [['distance_group', ('distance04', 'distance05'), 0.1323056233205901, 2]] left\n",
      "node_proportion_total  0.5253611412796186\n",
      "Node_proportion_gain  0.04275094419626291\n",
      "Split Found:  n8 [['distance_group', ('distance07', 'distance10', 'distance11', 'distance08', 'distance09'), 0.052877461853722024, 3]] left\n",
      "node_proportion_total  0.5501556279335139\n",
      "Node_proportion_gain  0.024794486653895276\n",
      "Split Found:  n16 [['bus_scale', ('bus_scale0.0', 'bus_scale0.5'), 0.0406830918215276, 4]] left\n",
      "node_proportion_total  0.5666195896876296\n",
      "Node_proportion_gain  0.016463961754115686\n",
      "Split Found:  n17 [['trafficperc_group', ('1mediumlow_traffic', '0low_traffic'), 0.031194752694955252, 4]] right\n",
      "node_proportion_total  0.5784412743842062\n",
      "Node_proportion_gain  0.011821684696576629\n",
      "Split Found:  n9 [['bus_scale', ('bus_scale0.0', 'bus_scale0.5'), 0.06996619235682036, 3]] right\n",
      "node_proportion_total  0.5874046024450646\n",
      "Node_proportion_gain  0.008963328060858422\n",
      "Split Found:  n18 [['distance_group', 'distance04', 0.04678026834314988, 4]] left\n",
      "node_proportion_total  0.5942795840586249\n",
      "Node_proportion_gain  0.00687498161356026\n",
      "Split Found:  n19 [['distance_group', 'distance04', 0.030862300967242726, 4]] right\n",
      "node_proportion_total  0.599744195193107\n",
      "Node_proportion_gain  0.005464611134482045\n",
      "Split Found:  n5 [['trafficperc_group', ('3mediumhigh_traffic', '4high_traffic'), 0.1507299050516222, 2]] right\n",
      "node_proportion_total  0.6072715556748285\n",
      "Node_proportion_gain  0.0075273604817215345\n",
      "Split Found:  n10 [['distance_group', ('distance04', 'distance05'), 0.06404054411983229, 3]] left\n",
      "node_proportion_total  0.6109151437558894\n",
      "Node_proportion_gain  0.003643588081060911\n",
      "Split Found:  n20 [['driving_license', 'driving_license0', 0.06539205870877554, 4]] left\n",
      "node_proportion_total  0.614373276533621\n",
      "Node_proportion_gain  0.0034581327777315485\n",
      "Split Found:  n21 [['driving_license', 'driving_license0', 0.058883128690095494, 4]] right\n",
      "node_proportion_total  0.6169946673258634\n",
      "Node_proportion_gain  0.0026213907922424395\n",
      "Split Found:  n11 [['distance_group', ('distance04', 'distance05'), 0.13345393811369233, 3]] right\n",
      "node_proportion_total  0.6192362077311534\n",
      "Node_proportion_gain  0.00224154040529001\n",
      "Split Found:  n22 [['drivingcharge_group', 'low_charge', 0.12310283506085291, 4]] left\n",
      "node_proportion_total  0.6214566098172587\n",
      "Node_proportion_gain  0.0022204020861052998\n",
      "Node Search Split Error for:  n23 with obs in node:  716  which is less than minimum parent size:  1000\n",
      "Split Found:  n3 [['car_ownership', ('car_ownership2', 'car_ownership1'), 0.16070772806113837, 1]] right\n",
      "node_proportion_total  0.6237578713896217\n",
      "Node_proportion_gain  0.0023012615723629892\n",
      "Split Found:  n6 [['distance_group', ('distance02', 'distance01'), 0.07673876311986498, 2]] left\n",
      "node_proportion_total  0.6252611150361976\n",
      "Node_proportion_gain  0.0015032436465759469\n",
      "Split Found:  n12 [['faretype', ('faretype5', 'faretype3'), 0.08851888036802893, 3]] left\n",
      "node_proportion_total  0.6265559859562659\n",
      "Node_proportion_gain  0.0012948709200683028\n",
      "Split Found:  n24 [['female', 'female0', 0.02016718105529545, 4]] left\n",
      "node_proportion_total  0.6276698757571729\n",
      "Node_proportion_gain  0.0011138898009069864\n",
      "Node Search Split Error for:  n25 with obs in node:  893  which is less than minimum parent size:  1000\n",
      "Split Found:  n13 [['faretype', ('faretype5', 'faretype3'), 0.07094442876695105, 3]] right\n",
      "node_proportion_total  0.628705814832001\n",
      "Node_proportion_gain  0.0010359390748281294\n",
      "Split Found:  n26 [['travel_month', ('travel_month7', 'travel_month6', 'travel_month11'), 0.01811626613083978, 4]] left\n",
      "node_proportion_total  0.6296180606140355\n",
      "Node_proportion_gain  0.0009122457820344154\n",
      "Split Found:  n27 [['distance_group', 'distance01', 0.08302475284248884, 4]] right\n",
      "node_proportion_total  0.6304700598828352\n",
      "Node_proportion_gain  0.0008519992687997524\n",
      "Split Found:  n7 [['distance_group', ('distance02', 'distance03'), 0.09878228707829352, 2]] right\n",
      "node_proportion_total  0.6314969352776836\n",
      "Node_proportion_gain  0.0010268753948483589\n",
      "Split Found:  n14 [['trafficperc_group', ('1mediumlow_traffic', '0low_traffic'), 0.02436778920842779, 3]] left\n",
      "node_proportion_total  0.632202406079997\n",
      "Node_proportion_gain  0.0007054708023134237\n",
      "Node Search Split Error for:  n28 with obs in node:  708  which is less than minimum parent size:  1000\n",
      "Split Found:  n29 [['driving_license', 'driving_license0', 0.027242648942763507, 4]] right\n",
      "node_proportion_total  0.632853972839326\n",
      "Node_proportion_gain  0.0006515667593289809\n",
      "Split Found:  n15 [['driving_license', 'driving_license0', 0.040586998973457515, 3]] right\n",
      "node_proportion_total  0.6335030917172192\n",
      "Node_proportion_gain  0.0006491188778932067\n",
      "Split Found:  n30 [['trafficperc_group', ('1mediumlow_traffic', '0low_traffic'), 0.040564015053361824, 4]] left\n",
      "node_proportion_total  0.6340863948438379\n",
      "Node_proportion_gain  0.000583303126618695\n",
      "Split Found:  n31 [['faretype', ('faretype5', 'faretype3'), 0.0656752122555151, 4]] right\n",
      "node_proportion_total  0.6346232371715469\n",
      "Node_proportion_gain  0.0005368423277090084\n"
     ]
    },
    {
     "data": {
      "text/plain": [
       "(((((None, None), (None, None)), ((None, None), (None, None))),\n",
       "  (((None, None), (None, None)), ((None, None), None))),\n",
       " ((((None, None), None), ((None, None), (None, None))),\n",
       "  ((None, (None, None)), ((None, None), (None, None)))))"
      ]
     },
     "execution_count": 17,
     "metadata": {},
     "output_type": "execute_result"
    }
   ],
   "source": [
    "\n",
    "my_tree = MyNodeClass('n1', indici) \n",
    "cart = CART(y,features,features_names,n_features,n_features_names,impurity_fn = \"tau\",problem=\"classifier\",method = \"FAST\",twoing = True, min_cases_parent= 1000,min_cases_child= 500, max_level = 4, min_imp_gain = 0.0001)\n",
    "cart.growing_tree(my_tree, max_k = 1, combination_split = False)\n"
   ]
  },
  {
   "attachments": {},
   "cell_type": "markdown",
   "metadata": {},
   "source": [
    "impurity value is the actual impurity in the node accotding to impurity fn aka. gini for the j classes\n",
    "\n",
    "not for the classes created by twoing the final impuritry measure shown\n",
    "\n",
    "tomorrow, attempts with cart fast two stage - need to really think about the displayed errors!! worried about tau not decreasing with tree growth , checking if a problem without twoing , no good still may be because of 4 classes \n",
    "\n",
    "then regression\n",
    "\n",
    "then pruning visually\n"
   ]
  },
  {
   "cell_type": "code",
   "execution_count": 18,
   "metadata": {},
   "outputs": [
    {
     "data": {
      "application/vnd.plotly.v1+json": {
       "config": {
        "plotlyServerURL": "https://plot.ly"
       },
       "data": [
        {
         "hoverinfo": "none",
         "line": {
          "color": "rgb(210,210,210)",
          "width": 1
         },
         "mode": "lines",
         "type": "scatter",
         "x": [
          0,
          -8,
          null,
          0,
          8,
          null,
          -8,
          -12,
          null,
          -8,
          -4,
          null,
          8,
          4,
          null,
          8,
          12,
          null,
          -12,
          -14,
          null,
          -12,
          -10,
          null,
          -4,
          -6,
          null,
          -4,
          -2,
          null,
          4,
          2,
          null,
          4,
          6,
          null,
          12,
          10,
          null,
          12,
          14,
          null,
          -14,
          -15,
          null,
          -14,
          -13,
          null,
          -10,
          -11,
          null,
          -10,
          -9,
          null,
          -6,
          -7,
          null,
          -6,
          -5,
          null,
          -2,
          -3,
          null,
          -2,
          -1,
          null,
          2,
          1,
          null,
          2,
          3,
          null,
          6,
          5,
          null,
          6,
          7,
          null,
          10,
          9,
          null,
          10,
          11,
          null,
          14,
          13,
          null,
          14,
          15,
          null,
          -15,
          -15.5,
          null,
          -15,
          -14.5,
          null,
          -13,
          -13.5,
          null,
          -13,
          -12.5,
          null,
          -11,
          -11.5,
          null,
          -11,
          -10.5,
          null,
          -9,
          -9.5,
          null,
          -9,
          -8.5,
          null,
          -7,
          -7.5,
          null,
          -7,
          -6.5,
          null,
          -5,
          -5.5,
          null,
          -5,
          -4.5,
          null,
          -3,
          -3.5,
          null,
          -3,
          -2.5,
          null,
          1,
          0.5,
          null,
          1,
          1.5,
          null,
          5,
          4.5,
          null,
          5,
          5.5,
          null,
          7,
          6.5,
          null,
          7,
          7.5,
          null,
          11,
          10.5,
          null,
          11,
          11.5,
          null,
          13,
          12.5,
          null,
          13,
          13.5,
          null,
          15,
          14.5,
          null,
          15,
          15.5,
          null
         ],
         "y": [
          10,
          9,
          null,
          10,
          9,
          null,
          9,
          8,
          null,
          9,
          8,
          null,
          9,
          8,
          null,
          9,
          8,
          null,
          8,
          7,
          null,
          8,
          7,
          null,
          8,
          7,
          null,
          8,
          7,
          null,
          8,
          7,
          null,
          8,
          7,
          null,
          8,
          7,
          null,
          8,
          7,
          null,
          7,
          6,
          null,
          7,
          6,
          null,
          7,
          6,
          null,
          7,
          6,
          null,
          7,
          6,
          null,
          7,
          6,
          null,
          7,
          6,
          null,
          7,
          6,
          null,
          7,
          6,
          null,
          7,
          6,
          null,
          7,
          6,
          null,
          7,
          6,
          null,
          7,
          6,
          null,
          7,
          6,
          null,
          7,
          6,
          null,
          7,
          6,
          null,
          6,
          5,
          null,
          6,
          5,
          null,
          6,
          5,
          null,
          6,
          5,
          null,
          6,
          5,
          null,
          6,
          5,
          null,
          6,
          5,
          null,
          6,
          5,
          null,
          6,
          5,
          null,
          6,
          5,
          null,
          6,
          5,
          null,
          6,
          5,
          null,
          6,
          5,
          null,
          6,
          5,
          null,
          6,
          5,
          null,
          6,
          5,
          null,
          6,
          5,
          null,
          6,
          5,
          null,
          6,
          5,
          null,
          6,
          5,
          null,
          6,
          5,
          null,
          6,
          5,
          null,
          6,
          5,
          null,
          6,
          5,
          null,
          6,
          5,
          null,
          6,
          5,
          null
         ]
        },
        {
         "hoverinfo": "text",
         "marker": {
          "color": "#6175c1",
          "line": {
           "color": "rgb(50,50,50)",
           "width": 1
          },
          "size": 18,
          "symbol": "circle-dot"
         },
         "mode": "markers",
         "name": "Nodes",
         "opacity": 0.8,
         "text": [
          "n32, Class: {1: 0.18, 2: 0.09, 3: 0.66, 4: 0.07}, tau : None, Samples : 951",
          "n33, Class: {1: 0.09, 2: 0.02, 3: 0.8, 4: 0.09}, tau : None, Samples : 737",
          "n34, Class: {1: 0.02, 2: 0.05, 3: 0.87, 4: 0.06}, tau : None, Samples : 7482",
          "n35, Class: {1: 0.02, 2: 0.03, 3: 0.78, 4: 0.17}, tau : None, Samples : 3047",
          "n36, Class: {1: 0.28, 2: 0.09, 3: 0.53, 4: 0.1}, tau : None, Samples : 1431",
          "n37, Class: {1: 0.5, 2: 0.07, 3: 0.36, 4: 0.07}, tau : None, Samples : 840",
          "n38, Class: {1: 0.13, 2: 0.02, 3: 0.77, 4: 0.09}, tau : None, Samples : 1085",
          "n39, Class: {1: 0.27, 2: 0.02, 3: 0.68, 4: 0.04}, tau : None, Samples : 734",
          "n40, Class: {1: 0.01, 2: 0.02, 3: 0.16, 4: 0.81}, tau : None, Samples : 17282",
          "n41, Class: {1: 0.02, 2: 0.01, 3: 0.4, 4: 0.56}, tau : None, Samples : 6224",
          "n42, Class: {1: 0.12, 2: 0.03, 3: 0.09, 4: 0.76}, tau : None, Samples : 6423",
          "n43, Class: {1: 0.18, 2: 0.03, 3: 0.25, 4: 0.53}, tau : None, Samples : 2930",
          "n23, Class: {1: 0.26, 2: 0.05, 3: 0.27, 4: 0.42}, tau : None, Samples : 716",
          "n44, Class: {1: 0.01, 2: 0.04, 3: 0.84, 4: 0.1}, tau : None, Samples : 3500",
          "n45, Class: {1: 0.01, 2: 0.03, 3: 0.52, 4: 0.44}, tau : None, Samples : 5396",
          "n25, Class: {1: 0.41, 2: 0.01, 3: 0.51, 4: 0.06}, tau : None, Samples : 893",
          "n48, Class: {1: 0.65, 2: 0.02, 3: 0.26, 4: 0.08}, tau : None, Samples : 863",
          "n49, Class: {1: 0.72, 2: 0.08, 3: 0.17, 4: 0.03}, tau : None, Samples : 572",
          "n52, Class: {1: 0.89, 2: 0.03, 3: 0.06, 4: 0.01}, tau : None, Samples : 1510",
          "n53, Class: {1: 0.88, 2: 0.02, 3: 0.03, 4: 0.06}, tau : None, Samples : 733",
          "n54, Class: {1: 0.56, 2: 0.01, 3: 0.35, 4: 0.08}, tau : None, Samples : 531",
          "n55, Class: {1: 0.82, 2: 0.01, 3: 0.14, 4: 0.02}, tau : None, Samples : 770",
          "n28, Class: {1: 0.83, 2: 0.03, 3: 0.03, 4: 0.11}, tau : None, Samples : 708",
          "n58, Class: {1: 0.64, 2: 0.03, 3: 0.01, 4: 0.33}, tau : None, Samples : 1951",
          "n59, Class: {1: 0.79, 2: 0.02, 3: 0.02, 4: 0.18}, tau : None, Samples : 969",
          "n60, Class: {1: 0.49, 2: 0.04, 3: 0.1, 4: 0.37}, tau : None, Samples : 889",
          "n61, Class: {1: 0.3, 2: 0.03, 3: 0.04, 4: 0.64}, tau : None, Samples : 4399",
          "n62, Class: {1: 0.62, 2: 0.03, 3: 0.13, 4: 0.21}, tau : None, Samples : 897",
          "n63, Class: {1: 0.4, 2: 0.03, 3: 0.1, 4: 0.47}, tau : None, Samples : 1640",
          "n1, distance_group in ('distance02', 'distance01', 'distance03'), Class:{1: 0.18, 2: 0.03, 3: 0.35, 4: 0.44}, tau : 0.31, Samples: 76103",
          "n2, car_ownership in ('car_ownership2', 'car_ownership1'), Class:{1: 0.06, 2: 0.03, 3: 0.43, 4: 0.48}, tau : 0.24, Samples: 58778",
          "n4, distance_group in ('distance04', 'distance05'), Class:{1: 0.1, 2: 0.05, 3: 0.77, 4: 0.09}, tau : 0.13, Samples: 16307",
          "n8, distance_group in ('distance07', 'distance10', 'distance11', 'distance08', 'distance09'), Class:{1: 0.03, 2: 0.05, 3: 0.83, 4: 0.09}, tau : 0.05, Samples: 12217",
          "n16, bus_scale in ('bus_scale0.0', 'bus_scale0.5'), Class:{1: 0.14, 2: 0.06, 3: 0.72, 4: 0.08}, tau : 0.04, Samples: 1688",
          "n17, trafficperc_group in ('1mediumlow_traffic', '0low_traffic'), Class:{1: 0.02, 2: 0.04, 3: 0.85, 4: 0.09}, tau : 0.03, Samples: 10529",
          "n9, bus_scale in ('bus_scale0.0', 'bus_scale0.5'), Class:{1: 0.28, 2: 0.05, 3: 0.59, 4: 0.08}, tau : 0.07, Samples: 4090",
          "n18, distance_group in 'distance04', Class:{1: 0.36, 2: 0.08, 3: 0.47, 4: 0.09}, tau : 0.05, Samples: 2271",
          "n19, distance_group in 'distance04', Class:{1: 0.18, 2: 0.02, 3: 0.73, 4: 0.07}, tau : 0.03, Samples: 1819",
          "n5, trafficperc_group in ('3mediumhigh_traffic', '4high_traffic'), Class:{1: 0.05, 2: 0.02, 3: 0.3, 4: 0.63}, tau : 0.15, Samples: 42471",
          "n10, distance_group in ('distance04', 'distance05'), Class:{1: 0.05, 2: 0.02, 3: 0.2, 4: 0.73}, tau : 0.06, Samples: 32859",
          "n20, driving_license in 'driving_license0', Class:{1: 0.02, 2: 0.02, 3: 0.23, 4: 0.74}, tau : 0.07, Samples: 23506",
          "n21, driving_license in 'driving_license0', Class:{1: 0.14, 2: 0.03, 3: 0.14, 4: 0.69}, tau : 0.06, Samples: 9353",
          "n11, distance_group in ('distance04', 'distance05'), Class:{1: 0.03, 2: 0.04, 3: 0.62, 4: 0.31}, tau : 0.13, Samples: 9612",
          "n22, drivingcharge_group in 'low_charge', Class:{1: 0.01, 2: 0.03, 3: 0.65, 4: 0.31}, tau : 0.12, Samples: 8896",
          "n3, car_ownership in ('car_ownership2', 'car_ownership1'), Class:{1: 0.57, 2: 0.03, 3: 0.1, 4: 0.3}, tau : 0.16, Samples: 17325",
          "n6, distance_group in ('distance02', 'distance01'), Class:{1: 0.73, 2: 0.03, 3: 0.2, 4: 0.05}, tau : 0.08, Samples: 5872",
          "n12, faretype in ('faretype5', 'faretype3'), Class:{1: 0.57, 2: 0.03, 3: 0.33, 4: 0.06}, tau : 0.09, Samples: 2328",
          "n24, female in 'female0', Class:{1: 0.68, 2: 0.04, 3: 0.22, 4: 0.06}, tau : 0.02, Samples: 1435",
          "n13, faretype in ('faretype5', 'faretype3'), Class:{1: 0.83, 2: 0.02, 3: 0.12, 4: 0.04}, tau : 0.07, Samples: 3544",
          "n26, travel_month in ('travel_month7', 'travel_month6', 'travel_month11'), Class:{1: 0.89, 2: 0.03, 3: 0.05, 4: 0.03}, tau : 0.02, Samples: 2243",
          "n27, distance_group in 'distance01', Class:{1: 0.72, 2: 0.01, 3: 0.23, 4: 0.04}, tau : 0.08, Samples: 1301",
          "n7, distance_group in ('distance02', 'distance03'), Class:{1: 0.48, 2: 0.03, 3: 0.05, 4: 0.43}, tau : 0.1, Samples: 11453",
          "n14, trafficperc_group in ('1mediumlow_traffic', '0low_traffic'), Class:{1: 0.72, 2: 0.02, 3: 0.02, 4: 0.24}, tau : 0.02, Samples: 3628",
          "n29, driving_license in 'driving_license0', Class:{1: 0.69, 2: 0.02, 3: 0.01, 4: 0.28}, tau : 0.03, Samples: 2920",
          "n15, driving_license in 'driving_license0', Class:{1: 0.38, 2: 0.03, 3: 0.07, 4: 0.52}, tau : 0.04, Samples: 7825",
          "n30, trafficperc_group in ('1mediumlow_traffic', '0low_traffic'), Class:{1: 0.33, 2: 0.03, 3: 0.05, 4: 0.59}, tau : 0.04, Samples: 5288",
          "n31, faretype in ('faretype5', 'faretype3'), Class:{1: 0.48, 2: 0.03, 3: 0.12, 4: 0.38}, tau : 0.07, Samples: 2537"
         ],
         "type": "scatter",
         "x": [
          -15.5,
          -14.5,
          -13.5,
          -12.5,
          -11.5,
          -10.5,
          -9.5,
          -8.5,
          -7.5,
          -6.5,
          -5.5,
          -4.5,
          -1,
          -3.5,
          -2.5,
          3,
          0.5,
          1.5,
          4.5,
          5.5,
          6.5,
          7.5,
          9,
          10.5,
          11.5,
          12.5,
          13.5,
          14.5,
          15.5,
          0,
          -8,
          -12,
          -14,
          -15,
          -13,
          -10,
          -11,
          -9,
          -4,
          -6,
          -7,
          -5,
          -2,
          -3,
          8,
          4,
          2,
          1,
          6,
          5,
          7,
          12,
          10,
          11,
          14,
          13,
          15
         ],
         "y": [
          5,
          5,
          5,
          5,
          5,
          5,
          5,
          5,
          5,
          5,
          5,
          5,
          6,
          5,
          5,
          6,
          5,
          5,
          5,
          5,
          5,
          5,
          6,
          5,
          5,
          5,
          5,
          5,
          5,
          10,
          9,
          8,
          7,
          6,
          6,
          7,
          6,
          6,
          8,
          7,
          6,
          6,
          7,
          6,
          9,
          8,
          7,
          6,
          7,
          6,
          6,
          8,
          7,
          6,
          7,
          6,
          6
         ]
        }
       ],
       "layout": {
        "template": {
         "data": {
          "bar": [
           {
            "error_x": {
             "color": "#2a3f5f"
            },
            "error_y": {
             "color": "#2a3f5f"
            },
            "marker": {
             "line": {
              "color": "#E5ECF6",
              "width": 0.5
             },
             "pattern": {
              "fillmode": "overlay",
              "size": 10,
              "solidity": 0.2
             }
            },
            "type": "bar"
           }
          ],
          "barpolar": [
           {
            "marker": {
             "line": {
              "color": "#E5ECF6",
              "width": 0.5
             },
             "pattern": {
              "fillmode": "overlay",
              "size": 10,
              "solidity": 0.2
             }
            },
            "type": "barpolar"
           }
          ],
          "carpet": [
           {
            "aaxis": {
             "endlinecolor": "#2a3f5f",
             "gridcolor": "white",
             "linecolor": "white",
             "minorgridcolor": "white",
             "startlinecolor": "#2a3f5f"
            },
            "baxis": {
             "endlinecolor": "#2a3f5f",
             "gridcolor": "white",
             "linecolor": "white",
             "minorgridcolor": "white",
             "startlinecolor": "#2a3f5f"
            },
            "type": "carpet"
           }
          ],
          "choropleth": [
           {
            "colorbar": {
             "outlinewidth": 0,
             "ticks": ""
            },
            "type": "choropleth"
           }
          ],
          "contour": [
           {
            "colorbar": {
             "outlinewidth": 0,
             "ticks": ""
            },
            "colorscale": [
             [
              0,
              "#0d0887"
             ],
             [
              0.1111111111111111,
              "#46039f"
             ],
             [
              0.2222222222222222,
              "#7201a8"
             ],
             [
              0.3333333333333333,
              "#9c179e"
             ],
             [
              0.4444444444444444,
              "#bd3786"
             ],
             [
              0.5555555555555556,
              "#d8576b"
             ],
             [
              0.6666666666666666,
              "#ed7953"
             ],
             [
              0.7777777777777778,
              "#fb9f3a"
             ],
             [
              0.8888888888888888,
              "#fdca26"
             ],
             [
              1,
              "#f0f921"
             ]
            ],
            "type": "contour"
           }
          ],
          "contourcarpet": [
           {
            "colorbar": {
             "outlinewidth": 0,
             "ticks": ""
            },
            "type": "contourcarpet"
           }
          ],
          "heatmap": [
           {
            "colorbar": {
             "outlinewidth": 0,
             "ticks": ""
            },
            "colorscale": [
             [
              0,
              "#0d0887"
             ],
             [
              0.1111111111111111,
              "#46039f"
             ],
             [
              0.2222222222222222,
              "#7201a8"
             ],
             [
              0.3333333333333333,
              "#9c179e"
             ],
             [
              0.4444444444444444,
              "#bd3786"
             ],
             [
              0.5555555555555556,
              "#d8576b"
             ],
             [
              0.6666666666666666,
              "#ed7953"
             ],
             [
              0.7777777777777778,
              "#fb9f3a"
             ],
             [
              0.8888888888888888,
              "#fdca26"
             ],
             [
              1,
              "#f0f921"
             ]
            ],
            "type": "heatmap"
           }
          ],
          "heatmapgl": [
           {
            "colorbar": {
             "outlinewidth": 0,
             "ticks": ""
            },
            "colorscale": [
             [
              0,
              "#0d0887"
             ],
             [
              0.1111111111111111,
              "#46039f"
             ],
             [
              0.2222222222222222,
              "#7201a8"
             ],
             [
              0.3333333333333333,
              "#9c179e"
             ],
             [
              0.4444444444444444,
              "#bd3786"
             ],
             [
              0.5555555555555556,
              "#d8576b"
             ],
             [
              0.6666666666666666,
              "#ed7953"
             ],
             [
              0.7777777777777778,
              "#fb9f3a"
             ],
             [
              0.8888888888888888,
              "#fdca26"
             ],
             [
              1,
              "#f0f921"
             ]
            ],
            "type": "heatmapgl"
           }
          ],
          "histogram": [
           {
            "marker": {
             "pattern": {
              "fillmode": "overlay",
              "size": 10,
              "solidity": 0.2
             }
            },
            "type": "histogram"
           }
          ],
          "histogram2d": [
           {
            "colorbar": {
             "outlinewidth": 0,
             "ticks": ""
            },
            "colorscale": [
             [
              0,
              "#0d0887"
             ],
             [
              0.1111111111111111,
              "#46039f"
             ],
             [
              0.2222222222222222,
              "#7201a8"
             ],
             [
              0.3333333333333333,
              "#9c179e"
             ],
             [
              0.4444444444444444,
              "#bd3786"
             ],
             [
              0.5555555555555556,
              "#d8576b"
             ],
             [
              0.6666666666666666,
              "#ed7953"
             ],
             [
              0.7777777777777778,
              "#fb9f3a"
             ],
             [
              0.8888888888888888,
              "#fdca26"
             ],
             [
              1,
              "#f0f921"
             ]
            ],
            "type": "histogram2d"
           }
          ],
          "histogram2dcontour": [
           {
            "colorbar": {
             "outlinewidth": 0,
             "ticks": ""
            },
            "colorscale": [
             [
              0,
              "#0d0887"
             ],
             [
              0.1111111111111111,
              "#46039f"
             ],
             [
              0.2222222222222222,
              "#7201a8"
             ],
             [
              0.3333333333333333,
              "#9c179e"
             ],
             [
              0.4444444444444444,
              "#bd3786"
             ],
             [
              0.5555555555555556,
              "#d8576b"
             ],
             [
              0.6666666666666666,
              "#ed7953"
             ],
             [
              0.7777777777777778,
              "#fb9f3a"
             ],
             [
              0.8888888888888888,
              "#fdca26"
             ],
             [
              1,
              "#f0f921"
             ]
            ],
            "type": "histogram2dcontour"
           }
          ],
          "mesh3d": [
           {
            "colorbar": {
             "outlinewidth": 0,
             "ticks": ""
            },
            "type": "mesh3d"
           }
          ],
          "parcoords": [
           {
            "line": {
             "colorbar": {
              "outlinewidth": 0,
              "ticks": ""
             }
            },
            "type": "parcoords"
           }
          ],
          "pie": [
           {
            "automargin": true,
            "type": "pie"
           }
          ],
          "scatter": [
           {
            "fillpattern": {
             "fillmode": "overlay",
             "size": 10,
             "solidity": 0.2
            },
            "type": "scatter"
           }
          ],
          "scatter3d": [
           {
            "line": {
             "colorbar": {
              "outlinewidth": 0,
              "ticks": ""
             }
            },
            "marker": {
             "colorbar": {
              "outlinewidth": 0,
              "ticks": ""
             }
            },
            "type": "scatter3d"
           }
          ],
          "scattercarpet": [
           {
            "marker": {
             "colorbar": {
              "outlinewidth": 0,
              "ticks": ""
             }
            },
            "type": "scattercarpet"
           }
          ],
          "scattergeo": [
           {
            "marker": {
             "colorbar": {
              "outlinewidth": 0,
              "ticks": ""
             }
            },
            "type": "scattergeo"
           }
          ],
          "scattergl": [
           {
            "marker": {
             "colorbar": {
              "outlinewidth": 0,
              "ticks": ""
             }
            },
            "type": "scattergl"
           }
          ],
          "scattermapbox": [
           {
            "marker": {
             "colorbar": {
              "outlinewidth": 0,
              "ticks": ""
             }
            },
            "type": "scattermapbox"
           }
          ],
          "scatterpolar": [
           {
            "marker": {
             "colorbar": {
              "outlinewidth": 0,
              "ticks": ""
             }
            },
            "type": "scatterpolar"
           }
          ],
          "scatterpolargl": [
           {
            "marker": {
             "colorbar": {
              "outlinewidth": 0,
              "ticks": ""
             }
            },
            "type": "scatterpolargl"
           }
          ],
          "scatterternary": [
           {
            "marker": {
             "colorbar": {
              "outlinewidth": 0,
              "ticks": ""
             }
            },
            "type": "scatterternary"
           }
          ],
          "surface": [
           {
            "colorbar": {
             "outlinewidth": 0,
             "ticks": ""
            },
            "colorscale": [
             [
              0,
              "#0d0887"
             ],
             [
              0.1111111111111111,
              "#46039f"
             ],
             [
              0.2222222222222222,
              "#7201a8"
             ],
             [
              0.3333333333333333,
              "#9c179e"
             ],
             [
              0.4444444444444444,
              "#bd3786"
             ],
             [
              0.5555555555555556,
              "#d8576b"
             ],
             [
              0.6666666666666666,
              "#ed7953"
             ],
             [
              0.7777777777777778,
              "#fb9f3a"
             ],
             [
              0.8888888888888888,
              "#fdca26"
             ],
             [
              1,
              "#f0f921"
             ]
            ],
            "type": "surface"
           }
          ],
          "table": [
           {
            "cells": {
             "fill": {
              "color": "#EBF0F8"
             },
             "line": {
              "color": "white"
             }
            },
            "header": {
             "fill": {
              "color": "#C8D4E3"
             },
             "line": {
              "color": "white"
             }
            },
            "type": "table"
           }
          ]
         },
         "layout": {
          "annotationdefaults": {
           "arrowcolor": "#2a3f5f",
           "arrowhead": 0,
           "arrowwidth": 1
          },
          "autotypenumbers": "strict",
          "coloraxis": {
           "colorbar": {
            "outlinewidth": 0,
            "ticks": ""
           }
          },
          "colorscale": {
           "diverging": [
            [
             0,
             "#8e0152"
            ],
            [
             0.1,
             "#c51b7d"
            ],
            [
             0.2,
             "#de77ae"
            ],
            [
             0.3,
             "#f1b6da"
            ],
            [
             0.4,
             "#fde0ef"
            ],
            [
             0.5,
             "#f7f7f7"
            ],
            [
             0.6,
             "#e6f5d0"
            ],
            [
             0.7,
             "#b8e186"
            ],
            [
             0.8,
             "#7fbc41"
            ],
            [
             0.9,
             "#4d9221"
            ],
            [
             1,
             "#276419"
            ]
           ],
           "sequential": [
            [
             0,
             "#0d0887"
            ],
            [
             0.1111111111111111,
             "#46039f"
            ],
            [
             0.2222222222222222,
             "#7201a8"
            ],
            [
             0.3333333333333333,
             "#9c179e"
            ],
            [
             0.4444444444444444,
             "#bd3786"
            ],
            [
             0.5555555555555556,
             "#d8576b"
            ],
            [
             0.6666666666666666,
             "#ed7953"
            ],
            [
             0.7777777777777778,
             "#fb9f3a"
            ],
            [
             0.8888888888888888,
             "#fdca26"
            ],
            [
             1,
             "#f0f921"
            ]
           ],
           "sequentialminus": [
            [
             0,
             "#0d0887"
            ],
            [
             0.1111111111111111,
             "#46039f"
            ],
            [
             0.2222222222222222,
             "#7201a8"
            ],
            [
             0.3333333333333333,
             "#9c179e"
            ],
            [
             0.4444444444444444,
             "#bd3786"
            ],
            [
             0.5555555555555556,
             "#d8576b"
            ],
            [
             0.6666666666666666,
             "#ed7953"
            ],
            [
             0.7777777777777778,
             "#fb9f3a"
            ],
            [
             0.8888888888888888,
             "#fdca26"
            ],
            [
             1,
             "#f0f921"
            ]
           ]
          },
          "colorway": [
           "#636efa",
           "#EF553B",
           "#00cc96",
           "#ab63fa",
           "#FFA15A",
           "#19d3f3",
           "#FF6692",
           "#B6E880",
           "#FF97FF",
           "#FECB52"
          ],
          "font": {
           "color": "#2a3f5f"
          },
          "geo": {
           "bgcolor": "white",
           "lakecolor": "white",
           "landcolor": "#E5ECF6",
           "showlakes": true,
           "showland": true,
           "subunitcolor": "white"
          },
          "hoverlabel": {
           "align": "left"
          },
          "hovermode": "closest",
          "mapbox": {
           "style": "light"
          },
          "paper_bgcolor": "white",
          "plot_bgcolor": "#E5ECF6",
          "polar": {
           "angularaxis": {
            "gridcolor": "white",
            "linecolor": "white",
            "ticks": ""
           },
           "bgcolor": "#E5ECF6",
           "radialaxis": {
            "gridcolor": "white",
            "linecolor": "white",
            "ticks": ""
           }
          },
          "scene": {
           "xaxis": {
            "backgroundcolor": "#E5ECF6",
            "gridcolor": "white",
            "gridwidth": 2,
            "linecolor": "white",
            "showbackground": true,
            "ticks": "",
            "zerolinecolor": "white"
           },
           "yaxis": {
            "backgroundcolor": "#E5ECF6",
            "gridcolor": "white",
            "gridwidth": 2,
            "linecolor": "white",
            "showbackground": true,
            "ticks": "",
            "zerolinecolor": "white"
           },
           "zaxis": {
            "backgroundcolor": "#E5ECF6",
            "gridcolor": "white",
            "gridwidth": 2,
            "linecolor": "white",
            "showbackground": true,
            "ticks": "",
            "zerolinecolor": "white"
           }
          },
          "shapedefaults": {
           "line": {
            "color": "#2a3f5f"
           }
          },
          "ternary": {
           "aaxis": {
            "gridcolor": "white",
            "linecolor": "white",
            "ticks": ""
           },
           "baxis": {
            "gridcolor": "white",
            "linecolor": "white",
            "ticks": ""
           },
           "bgcolor": "#E5ECF6",
           "caxis": {
            "gridcolor": "white",
            "linecolor": "white",
            "ticks": ""
           }
          },
          "title": {
           "x": 0.05
          },
          "xaxis": {
           "automargin": true,
           "gridcolor": "white",
           "linecolor": "white",
           "ticks": "",
           "title": {
            "standoff": 15
           },
           "zerolinecolor": "white",
           "zerolinewidth": 2
          },
          "yaxis": {
           "automargin": true,
           "gridcolor": "white",
           "linecolor": "white",
           "ticks": "",
           "title": {
            "standoff": 15
           },
           "zerolinecolor": "white",
           "zerolinewidth": 2
          }
         }
        },
        "title": {
         "text": "CART_tree"
        }
       }
      }
     },
     "metadata": {},
     "output_type": "display_data"
    },
    {
     "data": {
      "text/html": [
       "<style type=\"text/css\">\n",
       "</style>\n",
       "<table id=\"T_43918\">\n",
       "  <thead>\n",
       "    <tr>\n",
       "      <th id=\"T_43918_level0_col0\" class=\"col_heading level0 col0\" >Node</th>\n",
       "      <th id=\"T_43918_level0_col1\" class=\"col_heading level0 col1\" >Node_type</th>\n",
       "      <th id=\"T_43918_level0_col2\" class=\"col_heading level0 col2\" >Variable_Split</th>\n",
       "      <th id=\"T_43918_level0_col3\" class=\"col_heading level0 col3\" >Twoing_Classes_C1</th>\n",
       "      <th id=\"T_43918_level0_col4\" class=\"col_heading level0 col4\" >Twoing_Classes_C2</th>\n",
       "      <th id=\"T_43918_level0_col5\" class=\"col_heading level0 col5\" >n</th>\n",
       "      <th id=\"T_43918_level0_col6\" class=\"col_heading level0 col6\" >Impurity_Value</th>\n",
       "      <th id=\"T_43918_level0_col7\" class=\"col_heading level0 col7\" >Class/Value</th>\n",
       "    </tr>\n",
       "  </thead>\n",
       "  <tbody>\n",
       "    <tr>\n",
       "      <td id=\"T_43918_row0_col0\" class=\"data row0 col0\" >n1</td>\n",
       "      <td id=\"T_43918_row0_col1\" class=\"data row0 col1\" >Parent</td>\n",
       "      <td id=\"T_43918_row0_col2\" class=\"data row0 col2\" >distance_group in ('distance02', 'distance01', 'distance03')</td>\n",
       "      <td id=\"T_43918_row0_col3\" class=\"data row0 col3\" >[2, 3, 4]</td>\n",
       "      <td id=\"T_43918_row0_col4\" class=\"data row0 col4\" >[1]</td>\n",
       "      <td id=\"T_43918_row0_col5\" class=\"data row0 col5\" >76103</td>\n",
       "      <td id=\"T_43918_row0_col6\" class=\"data row0 col6\" >0.310000</td>\n",
       "      <td id=\"T_43918_row0_col7\" class=\"data row0 col7\" >[{1: 0.18, 2: 0.03, 3: 0.35, 4: 0.44}]</td>\n",
       "    </tr>\n",
       "    <tr>\n",
       "      <td id=\"T_43918_row1_col0\" class=\"data row1 col0\" >n2</td>\n",
       "      <td id=\"T_43918_row1_col1\" class=\"data row1 col1\" >Parent</td>\n",
       "      <td id=\"T_43918_row1_col2\" class=\"data row1 col2\" >car_ownership in ('car_ownership2', 'car_ownership1')</td>\n",
       "      <td id=\"T_43918_row1_col3\" class=\"data row1 col3\" >[1, 2, 3]</td>\n",
       "      <td id=\"T_43918_row1_col4\" class=\"data row1 col4\" >[4]</td>\n",
       "      <td id=\"T_43918_row1_col5\" class=\"data row1 col5\" >58778</td>\n",
       "      <td id=\"T_43918_row1_col6\" class=\"data row1 col6\" >0.240000</td>\n",
       "      <td id=\"T_43918_row1_col7\" class=\"data row1 col7\" >[{1: 0.06, 2: 0.03, 3: 0.43, 4: 0.48}]</td>\n",
       "    </tr>\n",
       "    <tr>\n",
       "      <td id=\"T_43918_row2_col0\" class=\"data row2 col0\" >n4</td>\n",
       "      <td id=\"T_43918_row2_col1\" class=\"data row2 col1\" >Parent</td>\n",
       "      <td id=\"T_43918_row2_col2\" class=\"data row2 col2\" >distance_group in ('distance04', 'distance05')</td>\n",
       "      <td id=\"T_43918_row2_col3\" class=\"data row2 col3\" >[2, 3, 4]</td>\n",
       "      <td id=\"T_43918_row2_col4\" class=\"data row2 col4\" >[1]</td>\n",
       "      <td id=\"T_43918_row2_col5\" class=\"data row2 col5\" >16307</td>\n",
       "      <td id=\"T_43918_row2_col6\" class=\"data row2 col6\" >0.130000</td>\n",
       "      <td id=\"T_43918_row2_col7\" class=\"data row2 col7\" >[{1: 0.1, 2: 0.05, 3: 0.77, 4: 0.09}]</td>\n",
       "    </tr>\n",
       "    <tr>\n",
       "      <td id=\"T_43918_row3_col0\" class=\"data row3 col0\" >n8</td>\n",
       "      <td id=\"T_43918_row3_col1\" class=\"data row3 col1\" >Parent</td>\n",
       "      <td id=\"T_43918_row3_col2\" class=\"data row3 col2\" >distance_group in ('distance07', 'distance10', 'distance11', 'distance08', 'distance09')</td>\n",
       "      <td id=\"T_43918_row3_col3\" class=\"data row3 col3\" >[2, 3, 4]</td>\n",
       "      <td id=\"T_43918_row3_col4\" class=\"data row3 col4\" >[1]</td>\n",
       "      <td id=\"T_43918_row3_col5\" class=\"data row3 col5\" >12217</td>\n",
       "      <td id=\"T_43918_row3_col6\" class=\"data row3 col6\" >0.050000</td>\n",
       "      <td id=\"T_43918_row3_col7\" class=\"data row3 col7\" >[{1: 0.03, 2: 0.05, 3: 0.83, 4: 0.09}]</td>\n",
       "    </tr>\n",
       "    <tr>\n",
       "      <td id=\"T_43918_row4_col0\" class=\"data row4 col0\" >n16</td>\n",
       "      <td id=\"T_43918_row4_col1\" class=\"data row4 col1\" >Parent</td>\n",
       "      <td id=\"T_43918_row4_col2\" class=\"data row4 col2\" >bus_scale in ('bus_scale0.0', 'bus_scale0.5')</td>\n",
       "      <td id=\"T_43918_row4_col3\" class=\"data row4 col3\" >[1, 2]</td>\n",
       "      <td id=\"T_43918_row4_col4\" class=\"data row4 col4\" >[3, 4]</td>\n",
       "      <td id=\"T_43918_row4_col5\" class=\"data row4 col5\" >1688</td>\n",
       "      <td id=\"T_43918_row4_col6\" class=\"data row4 col6\" >0.040000</td>\n",
       "      <td id=\"T_43918_row4_col7\" class=\"data row4 col7\" >[{1: 0.14, 2: 0.06, 3: 0.72, 4: 0.08}]</td>\n",
       "    </tr>\n",
       "    <tr>\n",
       "      <td id=\"T_43918_row5_col0\" class=\"data row5 col0\" >n32</td>\n",
       "      <td id=\"T_43918_row5_col1\" class=\"data row5 col1\" >Child</td>\n",
       "      <td id=\"T_43918_row5_col2\" class=\"data row5 col2\" >None</td>\n",
       "      <td id=\"T_43918_row5_col3\" class=\"data row5 col3\" >None</td>\n",
       "      <td id=\"T_43918_row5_col4\" class=\"data row5 col4\" >None</td>\n",
       "      <td id=\"T_43918_row5_col5\" class=\"data row5 col5\" >951</td>\n",
       "      <td id=\"T_43918_row5_col6\" class=\"data row5 col6\" >None</td>\n",
       "      <td id=\"T_43918_row5_col7\" class=\"data row5 col7\" >[{1: 0.18, 2: 0.09, 3: 0.66, 4: 0.07}]</td>\n",
       "    </tr>\n",
       "    <tr>\n",
       "      <td id=\"T_43918_row6_col0\" class=\"data row6 col0\" >n33</td>\n",
       "      <td id=\"T_43918_row6_col1\" class=\"data row6 col1\" >Child</td>\n",
       "      <td id=\"T_43918_row6_col2\" class=\"data row6 col2\" >None</td>\n",
       "      <td id=\"T_43918_row6_col3\" class=\"data row6 col3\" >None</td>\n",
       "      <td id=\"T_43918_row6_col4\" class=\"data row6 col4\" >None</td>\n",
       "      <td id=\"T_43918_row6_col5\" class=\"data row6 col5\" >737</td>\n",
       "      <td id=\"T_43918_row6_col6\" class=\"data row6 col6\" >None</td>\n",
       "      <td id=\"T_43918_row6_col7\" class=\"data row6 col7\" >[{1: 0.09, 2: 0.02, 3: 0.8, 4: 0.09}]</td>\n",
       "    </tr>\n",
       "    <tr>\n",
       "      <td id=\"T_43918_row7_col0\" class=\"data row7 col0\" >n17</td>\n",
       "      <td id=\"T_43918_row7_col1\" class=\"data row7 col1\" >Parent</td>\n",
       "      <td id=\"T_43918_row7_col2\" class=\"data row7 col2\" >trafficperc_group in ('1mediumlow_traffic', '0low_traffic')</td>\n",
       "      <td id=\"T_43918_row7_col3\" class=\"data row7 col3\" >[1, 2, 3]</td>\n",
       "      <td id=\"T_43918_row7_col4\" class=\"data row7 col4\" >[4]</td>\n",
       "      <td id=\"T_43918_row7_col5\" class=\"data row7 col5\" >10529</td>\n",
       "      <td id=\"T_43918_row7_col6\" class=\"data row7 col6\" >0.030000</td>\n",
       "      <td id=\"T_43918_row7_col7\" class=\"data row7 col7\" >[{1: 0.02, 2: 0.04, 3: 0.85, 4: 0.09}]</td>\n",
       "    </tr>\n",
       "    <tr>\n",
       "      <td id=\"T_43918_row8_col0\" class=\"data row8 col0\" >n34</td>\n",
       "      <td id=\"T_43918_row8_col1\" class=\"data row8 col1\" >Child</td>\n",
       "      <td id=\"T_43918_row8_col2\" class=\"data row8 col2\" >None</td>\n",
       "      <td id=\"T_43918_row8_col3\" class=\"data row8 col3\" >None</td>\n",
       "      <td id=\"T_43918_row8_col4\" class=\"data row8 col4\" >None</td>\n",
       "      <td id=\"T_43918_row8_col5\" class=\"data row8 col5\" >7482</td>\n",
       "      <td id=\"T_43918_row8_col6\" class=\"data row8 col6\" >None</td>\n",
       "      <td id=\"T_43918_row8_col7\" class=\"data row8 col7\" >[{1: 0.02, 2: 0.05, 3: 0.87, 4: 0.06}]</td>\n",
       "    </tr>\n",
       "    <tr>\n",
       "      <td id=\"T_43918_row9_col0\" class=\"data row9 col0\" >n35</td>\n",
       "      <td id=\"T_43918_row9_col1\" class=\"data row9 col1\" >Child</td>\n",
       "      <td id=\"T_43918_row9_col2\" class=\"data row9 col2\" >None</td>\n",
       "      <td id=\"T_43918_row9_col3\" class=\"data row9 col3\" >None</td>\n",
       "      <td id=\"T_43918_row9_col4\" class=\"data row9 col4\" >None</td>\n",
       "      <td id=\"T_43918_row9_col5\" class=\"data row9 col5\" >3047</td>\n",
       "      <td id=\"T_43918_row9_col6\" class=\"data row9 col6\" >None</td>\n",
       "      <td id=\"T_43918_row9_col7\" class=\"data row9 col7\" >[{1: 0.02, 2: 0.03, 3: 0.78, 4: 0.17}]</td>\n",
       "    </tr>\n",
       "    <tr>\n",
       "      <td id=\"T_43918_row10_col0\" class=\"data row10 col0\" >n9</td>\n",
       "      <td id=\"T_43918_row10_col1\" class=\"data row10 col1\" >Parent</td>\n",
       "      <td id=\"T_43918_row10_col2\" class=\"data row10 col2\" >bus_scale in ('bus_scale0.0', 'bus_scale0.5')</td>\n",
       "      <td id=\"T_43918_row10_col3\" class=\"data row10 col3\" >[1, 2, 4]</td>\n",
       "      <td id=\"T_43918_row10_col4\" class=\"data row10 col4\" >[3]</td>\n",
       "      <td id=\"T_43918_row10_col5\" class=\"data row10 col5\" >4090</td>\n",
       "      <td id=\"T_43918_row10_col6\" class=\"data row10 col6\" >0.070000</td>\n",
       "      <td id=\"T_43918_row10_col7\" class=\"data row10 col7\" >[{1: 0.28, 2: 0.05, 3: 0.59, 4: 0.08}]</td>\n",
       "    </tr>\n",
       "    <tr>\n",
       "      <td id=\"T_43918_row11_col0\" class=\"data row11 col0\" >n18</td>\n",
       "      <td id=\"T_43918_row11_col1\" class=\"data row11 col1\" >Parent</td>\n",
       "      <td id=\"T_43918_row11_col2\" class=\"data row11 col2\" >distance_group in 'distance04'</td>\n",
       "      <td id=\"T_43918_row11_col3\" class=\"data row11 col3\" >[2, 3, 4]</td>\n",
       "      <td id=\"T_43918_row11_col4\" class=\"data row11 col4\" >[1]</td>\n",
       "      <td id=\"T_43918_row11_col5\" class=\"data row11 col5\" >2271</td>\n",
       "      <td id=\"T_43918_row11_col6\" class=\"data row11 col6\" >0.050000</td>\n",
       "      <td id=\"T_43918_row11_col7\" class=\"data row11 col7\" >[{1: 0.36, 2: 0.08, 3: 0.47, 4: 0.09}]</td>\n",
       "    </tr>\n",
       "    <tr>\n",
       "      <td id=\"T_43918_row12_col0\" class=\"data row12 col0\" >n36</td>\n",
       "      <td id=\"T_43918_row12_col1\" class=\"data row12 col1\" >Child</td>\n",
       "      <td id=\"T_43918_row12_col2\" class=\"data row12 col2\" >None</td>\n",
       "      <td id=\"T_43918_row12_col3\" class=\"data row12 col3\" >None</td>\n",
       "      <td id=\"T_43918_row12_col4\" class=\"data row12 col4\" >None</td>\n",
       "      <td id=\"T_43918_row12_col5\" class=\"data row12 col5\" >1431</td>\n",
       "      <td id=\"T_43918_row12_col6\" class=\"data row12 col6\" >None</td>\n",
       "      <td id=\"T_43918_row12_col7\" class=\"data row12 col7\" >[{1: 0.28, 2: 0.09, 3: 0.53, 4: 0.1}]</td>\n",
       "    </tr>\n",
       "    <tr>\n",
       "      <td id=\"T_43918_row13_col0\" class=\"data row13 col0\" >n37</td>\n",
       "      <td id=\"T_43918_row13_col1\" class=\"data row13 col1\" >Child</td>\n",
       "      <td id=\"T_43918_row13_col2\" class=\"data row13 col2\" >None</td>\n",
       "      <td id=\"T_43918_row13_col3\" class=\"data row13 col3\" >None</td>\n",
       "      <td id=\"T_43918_row13_col4\" class=\"data row13 col4\" >None</td>\n",
       "      <td id=\"T_43918_row13_col5\" class=\"data row13 col5\" >840</td>\n",
       "      <td id=\"T_43918_row13_col6\" class=\"data row13 col6\" >None</td>\n",
       "      <td id=\"T_43918_row13_col7\" class=\"data row13 col7\" >[{1: 0.5, 2: 0.07, 3: 0.36, 4: 0.07}]</td>\n",
       "    </tr>\n",
       "    <tr>\n",
       "      <td id=\"T_43918_row14_col0\" class=\"data row14 col0\" >n19</td>\n",
       "      <td id=\"T_43918_row14_col1\" class=\"data row14 col1\" >Parent</td>\n",
       "      <td id=\"T_43918_row14_col2\" class=\"data row14 col2\" >distance_group in 'distance04'</td>\n",
       "      <td id=\"T_43918_row14_col3\" class=\"data row14 col3\" >[2, 3, 4]</td>\n",
       "      <td id=\"T_43918_row14_col4\" class=\"data row14 col4\" >[1]</td>\n",
       "      <td id=\"T_43918_row14_col5\" class=\"data row14 col5\" >1819</td>\n",
       "      <td id=\"T_43918_row14_col6\" class=\"data row14 col6\" >0.030000</td>\n",
       "      <td id=\"T_43918_row14_col7\" class=\"data row14 col7\" >[{1: 0.18, 2: 0.02, 3: 0.73, 4: 0.07}]</td>\n",
       "    </tr>\n",
       "    <tr>\n",
       "      <td id=\"T_43918_row15_col0\" class=\"data row15 col0\" >n38</td>\n",
       "      <td id=\"T_43918_row15_col1\" class=\"data row15 col1\" >Child</td>\n",
       "      <td id=\"T_43918_row15_col2\" class=\"data row15 col2\" >None</td>\n",
       "      <td id=\"T_43918_row15_col3\" class=\"data row15 col3\" >None</td>\n",
       "      <td id=\"T_43918_row15_col4\" class=\"data row15 col4\" >None</td>\n",
       "      <td id=\"T_43918_row15_col5\" class=\"data row15 col5\" >1085</td>\n",
       "      <td id=\"T_43918_row15_col6\" class=\"data row15 col6\" >None</td>\n",
       "      <td id=\"T_43918_row15_col7\" class=\"data row15 col7\" >[{1: 0.13, 2: 0.02, 3: 0.77, 4: 0.09}]</td>\n",
       "    </tr>\n",
       "    <tr>\n",
       "      <td id=\"T_43918_row16_col0\" class=\"data row16 col0\" >n39</td>\n",
       "      <td id=\"T_43918_row16_col1\" class=\"data row16 col1\" >Child</td>\n",
       "      <td id=\"T_43918_row16_col2\" class=\"data row16 col2\" >None</td>\n",
       "      <td id=\"T_43918_row16_col3\" class=\"data row16 col3\" >None</td>\n",
       "      <td id=\"T_43918_row16_col4\" class=\"data row16 col4\" >None</td>\n",
       "      <td id=\"T_43918_row16_col5\" class=\"data row16 col5\" >734</td>\n",
       "      <td id=\"T_43918_row16_col6\" class=\"data row16 col6\" >None</td>\n",
       "      <td id=\"T_43918_row16_col7\" class=\"data row16 col7\" >[{1: 0.27, 2: 0.02, 3: 0.68, 4: 0.04}]</td>\n",
       "    </tr>\n",
       "    <tr>\n",
       "      <td id=\"T_43918_row17_col0\" class=\"data row17 col0\" >n5</td>\n",
       "      <td id=\"T_43918_row17_col1\" class=\"data row17 col1\" >Parent</td>\n",
       "      <td id=\"T_43918_row17_col2\" class=\"data row17 col2\" >trafficperc_group in ('3mediumhigh_traffic', '4high_traffic')</td>\n",
       "      <td id=\"T_43918_row17_col3\" class=\"data row17 col3\" >[1, 4]</td>\n",
       "      <td id=\"T_43918_row17_col4\" class=\"data row17 col4\" >[2, 3]</td>\n",
       "      <td id=\"T_43918_row17_col5\" class=\"data row17 col5\" >42471</td>\n",
       "      <td id=\"T_43918_row17_col6\" class=\"data row17 col6\" >0.150000</td>\n",
       "      <td id=\"T_43918_row17_col7\" class=\"data row17 col7\" >[{1: 0.05, 2: 0.02, 3: 0.3, 4: 0.63}]</td>\n",
       "    </tr>\n",
       "    <tr>\n",
       "      <td id=\"T_43918_row18_col0\" class=\"data row18 col0\" >n10</td>\n",
       "      <td id=\"T_43918_row18_col1\" class=\"data row18 col1\" >Parent</td>\n",
       "      <td id=\"T_43918_row18_col2\" class=\"data row18 col2\" >distance_group in ('distance04', 'distance05')</td>\n",
       "      <td id=\"T_43918_row18_col3\" class=\"data row18 col3\" >[2, 3, 4]</td>\n",
       "      <td id=\"T_43918_row18_col4\" class=\"data row18 col4\" >[1]</td>\n",
       "      <td id=\"T_43918_row18_col5\" class=\"data row18 col5\" >32859</td>\n",
       "      <td id=\"T_43918_row18_col6\" class=\"data row18 col6\" >0.060000</td>\n",
       "      <td id=\"T_43918_row18_col7\" class=\"data row18 col7\" >[{1: 0.05, 2: 0.02, 3: 0.2, 4: 0.73}]</td>\n",
       "    </tr>\n",
       "    <tr>\n",
       "      <td id=\"T_43918_row19_col0\" class=\"data row19 col0\" >n20</td>\n",
       "      <td id=\"T_43918_row19_col1\" class=\"data row19 col1\" >Parent</td>\n",
       "      <td id=\"T_43918_row19_col2\" class=\"data row19 col2\" >driving_license in 'driving_license0'</td>\n",
       "      <td id=\"T_43918_row19_col3\" class=\"data row19 col3\" >[1, 2, 4]</td>\n",
       "      <td id=\"T_43918_row19_col4\" class=\"data row19 col4\" >[3]</td>\n",
       "      <td id=\"T_43918_row19_col5\" class=\"data row19 col5\" >23506</td>\n",
       "      <td id=\"T_43918_row19_col6\" class=\"data row19 col6\" >0.070000</td>\n",
       "      <td id=\"T_43918_row19_col7\" class=\"data row19 col7\" >[{1: 0.02, 2: 0.02, 3: 0.23, 4: 0.74}]</td>\n",
       "    </tr>\n",
       "    <tr>\n",
       "      <td id=\"T_43918_row20_col0\" class=\"data row20 col0\" >n40</td>\n",
       "      <td id=\"T_43918_row20_col1\" class=\"data row20 col1\" >Child</td>\n",
       "      <td id=\"T_43918_row20_col2\" class=\"data row20 col2\" >None</td>\n",
       "      <td id=\"T_43918_row20_col3\" class=\"data row20 col3\" >None</td>\n",
       "      <td id=\"T_43918_row20_col4\" class=\"data row20 col4\" >None</td>\n",
       "      <td id=\"T_43918_row20_col5\" class=\"data row20 col5\" >17282</td>\n",
       "      <td id=\"T_43918_row20_col6\" class=\"data row20 col6\" >None</td>\n",
       "      <td id=\"T_43918_row20_col7\" class=\"data row20 col7\" >[{1: 0.01, 2: 0.02, 3: 0.16, 4: 0.81}]</td>\n",
       "    </tr>\n",
       "    <tr>\n",
       "      <td id=\"T_43918_row21_col0\" class=\"data row21 col0\" >n41</td>\n",
       "      <td id=\"T_43918_row21_col1\" class=\"data row21 col1\" >Child</td>\n",
       "      <td id=\"T_43918_row21_col2\" class=\"data row21 col2\" >None</td>\n",
       "      <td id=\"T_43918_row21_col3\" class=\"data row21 col3\" >None</td>\n",
       "      <td id=\"T_43918_row21_col4\" class=\"data row21 col4\" >None</td>\n",
       "      <td id=\"T_43918_row21_col5\" class=\"data row21 col5\" >6224</td>\n",
       "      <td id=\"T_43918_row21_col6\" class=\"data row21 col6\" >None</td>\n",
       "      <td id=\"T_43918_row21_col7\" class=\"data row21 col7\" >[{1: 0.02, 2: 0.01, 3: 0.4, 4: 0.56}]</td>\n",
       "    </tr>\n",
       "    <tr>\n",
       "      <td id=\"T_43918_row22_col0\" class=\"data row22 col0\" >n21</td>\n",
       "      <td id=\"T_43918_row22_col1\" class=\"data row22 col1\" >Parent</td>\n",
       "      <td id=\"T_43918_row22_col2\" class=\"data row22 col2\" >driving_license in 'driving_license0'</td>\n",
       "      <td id=\"T_43918_row22_col3\" class=\"data row22 col3\" >[1, 3]</td>\n",
       "      <td id=\"T_43918_row22_col4\" class=\"data row22 col4\" >[2, 4]</td>\n",
       "      <td id=\"T_43918_row22_col5\" class=\"data row22 col5\" >9353</td>\n",
       "      <td id=\"T_43918_row22_col6\" class=\"data row22 col6\" >0.060000</td>\n",
       "      <td id=\"T_43918_row22_col7\" class=\"data row22 col7\" >[{1: 0.14, 2: 0.03, 3: 0.14, 4: 0.69}]</td>\n",
       "    </tr>\n",
       "    <tr>\n",
       "      <td id=\"T_43918_row23_col0\" class=\"data row23 col0\" >n42</td>\n",
       "      <td id=\"T_43918_row23_col1\" class=\"data row23 col1\" >Child</td>\n",
       "      <td id=\"T_43918_row23_col2\" class=\"data row23 col2\" >None</td>\n",
       "      <td id=\"T_43918_row23_col3\" class=\"data row23 col3\" >None</td>\n",
       "      <td id=\"T_43918_row23_col4\" class=\"data row23 col4\" >None</td>\n",
       "      <td id=\"T_43918_row23_col5\" class=\"data row23 col5\" >6423</td>\n",
       "      <td id=\"T_43918_row23_col6\" class=\"data row23 col6\" >None</td>\n",
       "      <td id=\"T_43918_row23_col7\" class=\"data row23 col7\" >[{1: 0.12, 2: 0.03, 3: 0.09, 4: 0.76}]</td>\n",
       "    </tr>\n",
       "    <tr>\n",
       "      <td id=\"T_43918_row24_col0\" class=\"data row24 col0\" >n43</td>\n",
       "      <td id=\"T_43918_row24_col1\" class=\"data row24 col1\" >Child</td>\n",
       "      <td id=\"T_43918_row24_col2\" class=\"data row24 col2\" >None</td>\n",
       "      <td id=\"T_43918_row24_col3\" class=\"data row24 col3\" >None</td>\n",
       "      <td id=\"T_43918_row24_col4\" class=\"data row24 col4\" >None</td>\n",
       "      <td id=\"T_43918_row24_col5\" class=\"data row24 col5\" >2930</td>\n",
       "      <td id=\"T_43918_row24_col6\" class=\"data row24 col6\" >None</td>\n",
       "      <td id=\"T_43918_row24_col7\" class=\"data row24 col7\" >[{1: 0.18, 2: 0.03, 3: 0.25, 4: 0.53}]</td>\n",
       "    </tr>\n",
       "    <tr>\n",
       "      <td id=\"T_43918_row25_col0\" class=\"data row25 col0\" >n11</td>\n",
       "      <td id=\"T_43918_row25_col1\" class=\"data row25 col1\" >Parent</td>\n",
       "      <td id=\"T_43918_row25_col2\" class=\"data row25 col2\" >distance_group in ('distance04', 'distance05')</td>\n",
       "      <td id=\"T_43918_row25_col3\" class=\"data row25 col3\" >[2, 3, 4]</td>\n",
       "      <td id=\"T_43918_row25_col4\" class=\"data row25 col4\" >[1]</td>\n",
       "      <td id=\"T_43918_row25_col5\" class=\"data row25 col5\" >9612</td>\n",
       "      <td id=\"T_43918_row25_col6\" class=\"data row25 col6\" >0.130000</td>\n",
       "      <td id=\"T_43918_row25_col7\" class=\"data row25 col7\" >[{1: 0.03, 2: 0.04, 3: 0.62, 4: 0.31}]</td>\n",
       "    </tr>\n",
       "    <tr>\n",
       "      <td id=\"T_43918_row26_col0\" class=\"data row26 col0\" >n23</td>\n",
       "      <td id=\"T_43918_row26_col1\" class=\"data row26 col1\" >Child</td>\n",
       "      <td id=\"T_43918_row26_col2\" class=\"data row26 col2\" >None</td>\n",
       "      <td id=\"T_43918_row26_col3\" class=\"data row26 col3\" >None</td>\n",
       "      <td id=\"T_43918_row26_col4\" class=\"data row26 col4\" >None</td>\n",
       "      <td id=\"T_43918_row26_col5\" class=\"data row26 col5\" >716</td>\n",
       "      <td id=\"T_43918_row26_col6\" class=\"data row26 col6\" >None</td>\n",
       "      <td id=\"T_43918_row26_col7\" class=\"data row26 col7\" >[{1: 0.26, 2: 0.05, 3: 0.27, 4: 0.42}]</td>\n",
       "    </tr>\n",
       "    <tr>\n",
       "      <td id=\"T_43918_row27_col0\" class=\"data row27 col0\" >n22</td>\n",
       "      <td id=\"T_43918_row27_col1\" class=\"data row27 col1\" >Parent</td>\n",
       "      <td id=\"T_43918_row27_col2\" class=\"data row27 col2\" >drivingcharge_group in 'low_charge'</td>\n",
       "      <td id=\"T_43918_row27_col3\" class=\"data row27 col3\" >[1, 2, 3]</td>\n",
       "      <td id=\"T_43918_row27_col4\" class=\"data row27 col4\" >[4]</td>\n",
       "      <td id=\"T_43918_row27_col5\" class=\"data row27 col5\" >8896</td>\n",
       "      <td id=\"T_43918_row27_col6\" class=\"data row27 col6\" >0.120000</td>\n",
       "      <td id=\"T_43918_row27_col7\" class=\"data row27 col7\" >[{1: 0.01, 2: 0.03, 3: 0.65, 4: 0.31}]</td>\n",
       "    </tr>\n",
       "    <tr>\n",
       "      <td id=\"T_43918_row28_col0\" class=\"data row28 col0\" >n44</td>\n",
       "      <td id=\"T_43918_row28_col1\" class=\"data row28 col1\" >Child</td>\n",
       "      <td id=\"T_43918_row28_col2\" class=\"data row28 col2\" >None</td>\n",
       "      <td id=\"T_43918_row28_col3\" class=\"data row28 col3\" >None</td>\n",
       "      <td id=\"T_43918_row28_col4\" class=\"data row28 col4\" >None</td>\n",
       "      <td id=\"T_43918_row28_col5\" class=\"data row28 col5\" >3500</td>\n",
       "      <td id=\"T_43918_row28_col6\" class=\"data row28 col6\" >None</td>\n",
       "      <td id=\"T_43918_row28_col7\" class=\"data row28 col7\" >[{1: 0.01, 2: 0.04, 3: 0.84, 4: 0.1}]</td>\n",
       "    </tr>\n",
       "    <tr>\n",
       "      <td id=\"T_43918_row29_col0\" class=\"data row29 col0\" >n45</td>\n",
       "      <td id=\"T_43918_row29_col1\" class=\"data row29 col1\" >Child</td>\n",
       "      <td id=\"T_43918_row29_col2\" class=\"data row29 col2\" >None</td>\n",
       "      <td id=\"T_43918_row29_col3\" class=\"data row29 col3\" >None</td>\n",
       "      <td id=\"T_43918_row29_col4\" class=\"data row29 col4\" >None</td>\n",
       "      <td id=\"T_43918_row29_col5\" class=\"data row29 col5\" >5396</td>\n",
       "      <td id=\"T_43918_row29_col6\" class=\"data row29 col6\" >None</td>\n",
       "      <td id=\"T_43918_row29_col7\" class=\"data row29 col7\" >[{1: 0.01, 2: 0.03, 3: 0.52, 4: 0.44}]</td>\n",
       "    </tr>\n",
       "    <tr>\n",
       "      <td id=\"T_43918_row30_col0\" class=\"data row30 col0\" >n3</td>\n",
       "      <td id=\"T_43918_row30_col1\" class=\"data row30 col1\" >Parent</td>\n",
       "      <td id=\"T_43918_row30_col2\" class=\"data row30 col2\" >car_ownership in ('car_ownership2', 'car_ownership1')</td>\n",
       "      <td id=\"T_43918_row30_col3\" class=\"data row30 col3\" >[1, 2, 3]</td>\n",
       "      <td id=\"T_43918_row30_col4\" class=\"data row30 col4\" >[4]</td>\n",
       "      <td id=\"T_43918_row30_col5\" class=\"data row30 col5\" >17325</td>\n",
       "      <td id=\"T_43918_row30_col6\" class=\"data row30 col6\" >0.160000</td>\n",
       "      <td id=\"T_43918_row30_col7\" class=\"data row30 col7\" >[{1: 0.57, 2: 0.03, 3: 0.1, 4: 0.3}]</td>\n",
       "    </tr>\n",
       "    <tr>\n",
       "      <td id=\"T_43918_row31_col0\" class=\"data row31 col0\" >n6</td>\n",
       "      <td id=\"T_43918_row31_col1\" class=\"data row31 col1\" >Parent</td>\n",
       "      <td id=\"T_43918_row31_col2\" class=\"data row31 col2\" >distance_group in ('distance02', 'distance01')</td>\n",
       "      <td id=\"T_43918_row31_col3\" class=\"data row31 col3\" >[2, 3, 4]</td>\n",
       "      <td id=\"T_43918_row31_col4\" class=\"data row31 col4\" >[1]</td>\n",
       "      <td id=\"T_43918_row31_col5\" class=\"data row31 col5\" >5872</td>\n",
       "      <td id=\"T_43918_row31_col6\" class=\"data row31 col6\" >0.080000</td>\n",
       "      <td id=\"T_43918_row31_col7\" class=\"data row31 col7\" >[{1: 0.73, 2: 0.03, 3: 0.2, 4: 0.05}]</td>\n",
       "    </tr>\n",
       "    <tr>\n",
       "      <td id=\"T_43918_row32_col0\" class=\"data row32 col0\" >n12</td>\n",
       "      <td id=\"T_43918_row32_col1\" class=\"data row32 col1\" >Parent</td>\n",
       "      <td id=\"T_43918_row32_col2\" class=\"data row32 col2\" >faretype in ('faretype5', 'faretype3')</td>\n",
       "      <td id=\"T_43918_row32_col3\" class=\"data row32 col3\" >[1, 2, 4]</td>\n",
       "      <td id=\"T_43918_row32_col4\" class=\"data row32 col4\" >[3]</td>\n",
       "      <td id=\"T_43918_row32_col5\" class=\"data row32 col5\" >2328</td>\n",
       "      <td id=\"T_43918_row32_col6\" class=\"data row32 col6\" >0.090000</td>\n",
       "      <td id=\"T_43918_row32_col7\" class=\"data row32 col7\" >[{1: 0.57, 2: 0.03, 3: 0.33, 4: 0.06}]</td>\n",
       "    </tr>\n",
       "    <tr>\n",
       "      <td id=\"T_43918_row33_col0\" class=\"data row33 col0\" >n25</td>\n",
       "      <td id=\"T_43918_row33_col1\" class=\"data row33 col1\" >Child</td>\n",
       "      <td id=\"T_43918_row33_col2\" class=\"data row33 col2\" >None</td>\n",
       "      <td id=\"T_43918_row33_col3\" class=\"data row33 col3\" >None</td>\n",
       "      <td id=\"T_43918_row33_col4\" class=\"data row33 col4\" >None</td>\n",
       "      <td id=\"T_43918_row33_col5\" class=\"data row33 col5\" >893</td>\n",
       "      <td id=\"T_43918_row33_col6\" class=\"data row33 col6\" >None</td>\n",
       "      <td id=\"T_43918_row33_col7\" class=\"data row33 col7\" >[{1: 0.41, 2: 0.01, 3: 0.51, 4: 0.06}]</td>\n",
       "    </tr>\n",
       "    <tr>\n",
       "      <td id=\"T_43918_row34_col0\" class=\"data row34 col0\" >n24</td>\n",
       "      <td id=\"T_43918_row34_col1\" class=\"data row34 col1\" >Parent</td>\n",
       "      <td id=\"T_43918_row34_col2\" class=\"data row34 col2\" >female in 'female0'</td>\n",
       "      <td id=\"T_43918_row34_col3\" class=\"data row34 col3\" >[1, 3, 4]</td>\n",
       "      <td id=\"T_43918_row34_col4\" class=\"data row34 col4\" >[2]</td>\n",
       "      <td id=\"T_43918_row34_col5\" class=\"data row34 col5\" >1435</td>\n",
       "      <td id=\"T_43918_row34_col6\" class=\"data row34 col6\" >0.020000</td>\n",
       "      <td id=\"T_43918_row34_col7\" class=\"data row34 col7\" >[{1: 0.68, 2: 0.04, 3: 0.22, 4: 0.06}]</td>\n",
       "    </tr>\n",
       "    <tr>\n",
       "      <td id=\"T_43918_row35_col0\" class=\"data row35 col0\" >n48</td>\n",
       "      <td id=\"T_43918_row35_col1\" class=\"data row35 col1\" >Child</td>\n",
       "      <td id=\"T_43918_row35_col2\" class=\"data row35 col2\" >None</td>\n",
       "      <td id=\"T_43918_row35_col3\" class=\"data row35 col3\" >None</td>\n",
       "      <td id=\"T_43918_row35_col4\" class=\"data row35 col4\" >None</td>\n",
       "      <td id=\"T_43918_row35_col5\" class=\"data row35 col5\" >863</td>\n",
       "      <td id=\"T_43918_row35_col6\" class=\"data row35 col6\" >None</td>\n",
       "      <td id=\"T_43918_row35_col7\" class=\"data row35 col7\" >[{1: 0.65, 2: 0.02, 3: 0.26, 4: 0.08}]</td>\n",
       "    </tr>\n",
       "    <tr>\n",
       "      <td id=\"T_43918_row36_col0\" class=\"data row36 col0\" >n49</td>\n",
       "      <td id=\"T_43918_row36_col1\" class=\"data row36 col1\" >Child</td>\n",
       "      <td id=\"T_43918_row36_col2\" class=\"data row36 col2\" >None</td>\n",
       "      <td id=\"T_43918_row36_col3\" class=\"data row36 col3\" >None</td>\n",
       "      <td id=\"T_43918_row36_col4\" class=\"data row36 col4\" >None</td>\n",
       "      <td id=\"T_43918_row36_col5\" class=\"data row36 col5\" >572</td>\n",
       "      <td id=\"T_43918_row36_col6\" class=\"data row36 col6\" >None</td>\n",
       "      <td id=\"T_43918_row36_col7\" class=\"data row36 col7\" >[{1: 0.72, 2: 0.08, 3: 0.17, 4: 0.03}]</td>\n",
       "    </tr>\n",
       "    <tr>\n",
       "      <td id=\"T_43918_row37_col0\" class=\"data row37 col0\" >n13</td>\n",
       "      <td id=\"T_43918_row37_col1\" class=\"data row37 col1\" >Parent</td>\n",
       "      <td id=\"T_43918_row37_col2\" class=\"data row37 col2\" >faretype in ('faretype5', 'faretype3')</td>\n",
       "      <td id=\"T_43918_row37_col3\" class=\"data row37 col3\" >[1, 2, 4]</td>\n",
       "      <td id=\"T_43918_row37_col4\" class=\"data row37 col4\" >[3]</td>\n",
       "      <td id=\"T_43918_row37_col5\" class=\"data row37 col5\" >3544</td>\n",
       "      <td id=\"T_43918_row37_col6\" class=\"data row37 col6\" >0.070000</td>\n",
       "      <td id=\"T_43918_row37_col7\" class=\"data row37 col7\" >[{1: 0.83, 2: 0.02, 3: 0.12, 4: 0.04}]</td>\n",
       "    </tr>\n",
       "    <tr>\n",
       "      <td id=\"T_43918_row38_col0\" class=\"data row38 col0\" >n26</td>\n",
       "      <td id=\"T_43918_row38_col1\" class=\"data row38 col1\" >Parent</td>\n",
       "      <td id=\"T_43918_row38_col2\" class=\"data row38 col2\" >travel_month in ('travel_month7', 'travel_month6', 'travel_month11')</td>\n",
       "      <td id=\"T_43918_row38_col3\" class=\"data row38 col3\" >[1, 2, 3]</td>\n",
       "      <td id=\"T_43918_row38_col4\" class=\"data row38 col4\" >[4]</td>\n",
       "      <td id=\"T_43918_row38_col5\" class=\"data row38 col5\" >2243</td>\n",
       "      <td id=\"T_43918_row38_col6\" class=\"data row38 col6\" >0.020000</td>\n",
       "      <td id=\"T_43918_row38_col7\" class=\"data row38 col7\" >[{1: 0.89, 2: 0.03, 3: 0.05, 4: 0.03}]</td>\n",
       "    </tr>\n",
       "    <tr>\n",
       "      <td id=\"T_43918_row39_col0\" class=\"data row39 col0\" >n52</td>\n",
       "      <td id=\"T_43918_row39_col1\" class=\"data row39 col1\" >Child</td>\n",
       "      <td id=\"T_43918_row39_col2\" class=\"data row39 col2\" >None</td>\n",
       "      <td id=\"T_43918_row39_col3\" class=\"data row39 col3\" >None</td>\n",
       "      <td id=\"T_43918_row39_col4\" class=\"data row39 col4\" >None</td>\n",
       "      <td id=\"T_43918_row39_col5\" class=\"data row39 col5\" >1510</td>\n",
       "      <td id=\"T_43918_row39_col6\" class=\"data row39 col6\" >None</td>\n",
       "      <td id=\"T_43918_row39_col7\" class=\"data row39 col7\" >[{1: 0.89, 2: 0.03, 3: 0.06, 4: 0.01}]</td>\n",
       "    </tr>\n",
       "    <tr>\n",
       "      <td id=\"T_43918_row40_col0\" class=\"data row40 col0\" >n53</td>\n",
       "      <td id=\"T_43918_row40_col1\" class=\"data row40 col1\" >Child</td>\n",
       "      <td id=\"T_43918_row40_col2\" class=\"data row40 col2\" >None</td>\n",
       "      <td id=\"T_43918_row40_col3\" class=\"data row40 col3\" >None</td>\n",
       "      <td id=\"T_43918_row40_col4\" class=\"data row40 col4\" >None</td>\n",
       "      <td id=\"T_43918_row40_col5\" class=\"data row40 col5\" >733</td>\n",
       "      <td id=\"T_43918_row40_col6\" class=\"data row40 col6\" >None</td>\n",
       "      <td id=\"T_43918_row40_col7\" class=\"data row40 col7\" >[{1: 0.88, 2: 0.02, 3: 0.03, 4: 0.06}]</td>\n",
       "    </tr>\n",
       "    <tr>\n",
       "      <td id=\"T_43918_row41_col0\" class=\"data row41 col0\" >n27</td>\n",
       "      <td id=\"T_43918_row41_col1\" class=\"data row41 col1\" >Parent</td>\n",
       "      <td id=\"T_43918_row41_col2\" class=\"data row41 col2\" >distance_group in 'distance01'</td>\n",
       "      <td id=\"T_43918_row41_col3\" class=\"data row41 col3\" >[1, 2]</td>\n",
       "      <td id=\"T_43918_row41_col4\" class=\"data row41 col4\" >[3, 4]</td>\n",
       "      <td id=\"T_43918_row41_col5\" class=\"data row41 col5\" >1301</td>\n",
       "      <td id=\"T_43918_row41_col6\" class=\"data row41 col6\" >0.080000</td>\n",
       "      <td id=\"T_43918_row41_col7\" class=\"data row41 col7\" >[{1: 0.72, 2: 0.01, 3: 0.23, 4: 0.04}]</td>\n",
       "    </tr>\n",
       "    <tr>\n",
       "      <td id=\"T_43918_row42_col0\" class=\"data row42 col0\" >n54</td>\n",
       "      <td id=\"T_43918_row42_col1\" class=\"data row42 col1\" >Child</td>\n",
       "      <td id=\"T_43918_row42_col2\" class=\"data row42 col2\" >None</td>\n",
       "      <td id=\"T_43918_row42_col3\" class=\"data row42 col3\" >None</td>\n",
       "      <td id=\"T_43918_row42_col4\" class=\"data row42 col4\" >None</td>\n",
       "      <td id=\"T_43918_row42_col5\" class=\"data row42 col5\" >531</td>\n",
       "      <td id=\"T_43918_row42_col6\" class=\"data row42 col6\" >None</td>\n",
       "      <td id=\"T_43918_row42_col7\" class=\"data row42 col7\" >[{1: 0.56, 2: 0.01, 3: 0.35, 4: 0.08}]</td>\n",
       "    </tr>\n",
       "    <tr>\n",
       "      <td id=\"T_43918_row43_col0\" class=\"data row43 col0\" >n55</td>\n",
       "      <td id=\"T_43918_row43_col1\" class=\"data row43 col1\" >Child</td>\n",
       "      <td id=\"T_43918_row43_col2\" class=\"data row43 col2\" >None</td>\n",
       "      <td id=\"T_43918_row43_col3\" class=\"data row43 col3\" >None</td>\n",
       "      <td id=\"T_43918_row43_col4\" class=\"data row43 col4\" >None</td>\n",
       "      <td id=\"T_43918_row43_col5\" class=\"data row43 col5\" >770</td>\n",
       "      <td id=\"T_43918_row43_col6\" class=\"data row43 col6\" >None</td>\n",
       "      <td id=\"T_43918_row43_col7\" class=\"data row43 col7\" >[{1: 0.82, 2: 0.01, 3: 0.14, 4: 0.02}]</td>\n",
       "    </tr>\n",
       "    <tr>\n",
       "      <td id=\"T_43918_row44_col0\" class=\"data row44 col0\" >n7</td>\n",
       "      <td id=\"T_43918_row44_col1\" class=\"data row44 col1\" >Parent</td>\n",
       "      <td id=\"T_43918_row44_col2\" class=\"data row44 col2\" >distance_group in ('distance02', 'distance03')</td>\n",
       "      <td id=\"T_43918_row44_col3\" class=\"data row44 col3\" >[2, 3, 4]</td>\n",
       "      <td id=\"T_43918_row44_col4\" class=\"data row44 col4\" >[1]</td>\n",
       "      <td id=\"T_43918_row44_col5\" class=\"data row44 col5\" >11453</td>\n",
       "      <td id=\"T_43918_row44_col6\" class=\"data row44 col6\" >0.100000</td>\n",
       "      <td id=\"T_43918_row44_col7\" class=\"data row44 col7\" >[{1: 0.48, 2: 0.03, 3: 0.05, 4: 0.43}]</td>\n",
       "    </tr>\n",
       "    <tr>\n",
       "      <td id=\"T_43918_row45_col0\" class=\"data row45 col0\" >n14</td>\n",
       "      <td id=\"T_43918_row45_col1\" class=\"data row45 col1\" >Parent</td>\n",
       "      <td id=\"T_43918_row45_col2\" class=\"data row45 col2\" >trafficperc_group in ('1mediumlow_traffic', '0low_traffic')</td>\n",
       "      <td id=\"T_43918_row45_col3\" class=\"data row45 col3\" >[1, 2, 3]</td>\n",
       "      <td id=\"T_43918_row45_col4\" class=\"data row45 col4\" >[4]</td>\n",
       "      <td id=\"T_43918_row45_col5\" class=\"data row45 col5\" >3628</td>\n",
       "      <td id=\"T_43918_row45_col6\" class=\"data row45 col6\" >0.020000</td>\n",
       "      <td id=\"T_43918_row45_col7\" class=\"data row45 col7\" >[{1: 0.72, 2: 0.02, 3: 0.02, 4: 0.24}]</td>\n",
       "    </tr>\n",
       "    <tr>\n",
       "      <td id=\"T_43918_row46_col0\" class=\"data row46 col0\" >n28</td>\n",
       "      <td id=\"T_43918_row46_col1\" class=\"data row46 col1\" >Child</td>\n",
       "      <td id=\"T_43918_row46_col2\" class=\"data row46 col2\" >None</td>\n",
       "      <td id=\"T_43918_row46_col3\" class=\"data row46 col3\" >None</td>\n",
       "      <td id=\"T_43918_row46_col4\" class=\"data row46 col4\" >None</td>\n",
       "      <td id=\"T_43918_row46_col5\" class=\"data row46 col5\" >708</td>\n",
       "      <td id=\"T_43918_row46_col6\" class=\"data row46 col6\" >None</td>\n",
       "      <td id=\"T_43918_row46_col7\" class=\"data row46 col7\" >[{1: 0.83, 2: 0.03, 3: 0.03, 4: 0.11}]</td>\n",
       "    </tr>\n",
       "    <tr>\n",
       "      <td id=\"T_43918_row47_col0\" class=\"data row47 col0\" >n29</td>\n",
       "      <td id=\"T_43918_row47_col1\" class=\"data row47 col1\" >Parent</td>\n",
       "      <td id=\"T_43918_row47_col2\" class=\"data row47 col2\" >driving_license in 'driving_license0'</td>\n",
       "      <td id=\"T_43918_row47_col3\" class=\"data row47 col3\" >[1, 3]</td>\n",
       "      <td id=\"T_43918_row47_col4\" class=\"data row47 col4\" >[2, 4]</td>\n",
       "      <td id=\"T_43918_row47_col5\" class=\"data row47 col5\" >2920</td>\n",
       "      <td id=\"T_43918_row47_col6\" class=\"data row47 col6\" >0.030000</td>\n",
       "      <td id=\"T_43918_row47_col7\" class=\"data row47 col7\" >[{1: 0.69, 2: 0.02, 3: 0.01, 4: 0.28}]</td>\n",
       "    </tr>\n",
       "    <tr>\n",
       "      <td id=\"T_43918_row48_col0\" class=\"data row48 col0\" >n58</td>\n",
       "      <td id=\"T_43918_row48_col1\" class=\"data row48 col1\" >Child</td>\n",
       "      <td id=\"T_43918_row48_col2\" class=\"data row48 col2\" >None</td>\n",
       "      <td id=\"T_43918_row48_col3\" class=\"data row48 col3\" >None</td>\n",
       "      <td id=\"T_43918_row48_col4\" class=\"data row48 col4\" >None</td>\n",
       "      <td id=\"T_43918_row48_col5\" class=\"data row48 col5\" >1951</td>\n",
       "      <td id=\"T_43918_row48_col6\" class=\"data row48 col6\" >None</td>\n",
       "      <td id=\"T_43918_row48_col7\" class=\"data row48 col7\" >[{1: 0.64, 2: 0.03, 3: 0.01, 4: 0.33}]</td>\n",
       "    </tr>\n",
       "    <tr>\n",
       "      <td id=\"T_43918_row49_col0\" class=\"data row49 col0\" >n59</td>\n",
       "      <td id=\"T_43918_row49_col1\" class=\"data row49 col1\" >Child</td>\n",
       "      <td id=\"T_43918_row49_col2\" class=\"data row49 col2\" >None</td>\n",
       "      <td id=\"T_43918_row49_col3\" class=\"data row49 col3\" >None</td>\n",
       "      <td id=\"T_43918_row49_col4\" class=\"data row49 col4\" >None</td>\n",
       "      <td id=\"T_43918_row49_col5\" class=\"data row49 col5\" >969</td>\n",
       "      <td id=\"T_43918_row49_col6\" class=\"data row49 col6\" >None</td>\n",
       "      <td id=\"T_43918_row49_col7\" class=\"data row49 col7\" >[{1: 0.79, 2: 0.02, 3: 0.02, 4: 0.18}]</td>\n",
       "    </tr>\n",
       "    <tr>\n",
       "      <td id=\"T_43918_row50_col0\" class=\"data row50 col0\" >n15</td>\n",
       "      <td id=\"T_43918_row50_col1\" class=\"data row50 col1\" >Parent</td>\n",
       "      <td id=\"T_43918_row50_col2\" class=\"data row50 col2\" >driving_license in 'driving_license0'</td>\n",
       "      <td id=\"T_43918_row50_col3\" class=\"data row50 col3\" >[1, 3]</td>\n",
       "      <td id=\"T_43918_row50_col4\" class=\"data row50 col4\" >[2, 4]</td>\n",
       "      <td id=\"T_43918_row50_col5\" class=\"data row50 col5\" >7825</td>\n",
       "      <td id=\"T_43918_row50_col6\" class=\"data row50 col6\" >0.040000</td>\n",
       "      <td id=\"T_43918_row50_col7\" class=\"data row50 col7\" >[{1: 0.38, 2: 0.03, 3: 0.07, 4: 0.52}]</td>\n",
       "    </tr>\n",
       "    <tr>\n",
       "      <td id=\"T_43918_row51_col0\" class=\"data row51 col0\" >n30</td>\n",
       "      <td id=\"T_43918_row51_col1\" class=\"data row51 col1\" >Parent</td>\n",
       "      <td id=\"T_43918_row51_col2\" class=\"data row51 col2\" >trafficperc_group in ('1mediumlow_traffic', '0low_traffic')</td>\n",
       "      <td id=\"T_43918_row51_col3\" class=\"data row51 col3\" >[1, 2, 3]</td>\n",
       "      <td id=\"T_43918_row51_col4\" class=\"data row51 col4\" >[4]</td>\n",
       "      <td id=\"T_43918_row51_col5\" class=\"data row51 col5\" >5288</td>\n",
       "      <td id=\"T_43918_row51_col6\" class=\"data row51 col6\" >0.040000</td>\n",
       "      <td id=\"T_43918_row51_col7\" class=\"data row51 col7\" >[{1: 0.33, 2: 0.03, 3: 0.05, 4: 0.59}]</td>\n",
       "    </tr>\n",
       "    <tr>\n",
       "      <td id=\"T_43918_row52_col0\" class=\"data row52 col0\" >n60</td>\n",
       "      <td id=\"T_43918_row52_col1\" class=\"data row52 col1\" >Child</td>\n",
       "      <td id=\"T_43918_row52_col2\" class=\"data row52 col2\" >None</td>\n",
       "      <td id=\"T_43918_row52_col3\" class=\"data row52 col3\" >None</td>\n",
       "      <td id=\"T_43918_row52_col4\" class=\"data row52 col4\" >None</td>\n",
       "      <td id=\"T_43918_row52_col5\" class=\"data row52 col5\" >889</td>\n",
       "      <td id=\"T_43918_row52_col6\" class=\"data row52 col6\" >None</td>\n",
       "      <td id=\"T_43918_row52_col7\" class=\"data row52 col7\" >[{1: 0.49, 2: 0.04, 3: 0.1, 4: 0.37}]</td>\n",
       "    </tr>\n",
       "    <tr>\n",
       "      <td id=\"T_43918_row53_col0\" class=\"data row53 col0\" >n61</td>\n",
       "      <td id=\"T_43918_row53_col1\" class=\"data row53 col1\" >Child</td>\n",
       "      <td id=\"T_43918_row53_col2\" class=\"data row53 col2\" >None</td>\n",
       "      <td id=\"T_43918_row53_col3\" class=\"data row53 col3\" >None</td>\n",
       "      <td id=\"T_43918_row53_col4\" class=\"data row53 col4\" >None</td>\n",
       "      <td id=\"T_43918_row53_col5\" class=\"data row53 col5\" >4399</td>\n",
       "      <td id=\"T_43918_row53_col6\" class=\"data row53 col6\" >None</td>\n",
       "      <td id=\"T_43918_row53_col7\" class=\"data row53 col7\" >[{1: 0.3, 2: 0.03, 3: 0.04, 4: 0.64}]</td>\n",
       "    </tr>\n",
       "    <tr>\n",
       "      <td id=\"T_43918_row54_col0\" class=\"data row54 col0\" >n31</td>\n",
       "      <td id=\"T_43918_row54_col1\" class=\"data row54 col1\" >Parent</td>\n",
       "      <td id=\"T_43918_row54_col2\" class=\"data row54 col2\" >faretype in ('faretype5', 'faretype3')</td>\n",
       "      <td id=\"T_43918_row54_col3\" class=\"data row54 col3\" >[1, 2, 3]</td>\n",
       "      <td id=\"T_43918_row54_col4\" class=\"data row54 col4\" >[4]</td>\n",
       "      <td id=\"T_43918_row54_col5\" class=\"data row54 col5\" >2537</td>\n",
       "      <td id=\"T_43918_row54_col6\" class=\"data row54 col6\" >0.070000</td>\n",
       "      <td id=\"T_43918_row54_col7\" class=\"data row54 col7\" >[{1: 0.48, 2: 0.03, 3: 0.12, 4: 0.38}]</td>\n",
       "    </tr>\n",
       "    <tr>\n",
       "      <td id=\"T_43918_row55_col0\" class=\"data row55 col0\" >n62</td>\n",
       "      <td id=\"T_43918_row55_col1\" class=\"data row55 col1\" >Child</td>\n",
       "      <td id=\"T_43918_row55_col2\" class=\"data row55 col2\" >None</td>\n",
       "      <td id=\"T_43918_row55_col3\" class=\"data row55 col3\" >None</td>\n",
       "      <td id=\"T_43918_row55_col4\" class=\"data row55 col4\" >None</td>\n",
       "      <td id=\"T_43918_row55_col5\" class=\"data row55 col5\" >897</td>\n",
       "      <td id=\"T_43918_row55_col6\" class=\"data row55 col6\" >None</td>\n",
       "      <td id=\"T_43918_row55_col7\" class=\"data row55 col7\" >[{1: 0.62, 2: 0.03, 3: 0.13, 4: 0.21}]</td>\n",
       "    </tr>\n",
       "    <tr>\n",
       "      <td id=\"T_43918_row56_col0\" class=\"data row56 col0\" >n63</td>\n",
       "      <td id=\"T_43918_row56_col1\" class=\"data row56 col1\" >Child</td>\n",
       "      <td id=\"T_43918_row56_col2\" class=\"data row56 col2\" >None</td>\n",
       "      <td id=\"T_43918_row56_col3\" class=\"data row56 col3\" >None</td>\n",
       "      <td id=\"T_43918_row56_col4\" class=\"data row56 col4\" >None</td>\n",
       "      <td id=\"T_43918_row56_col5\" class=\"data row56 col5\" >1640</td>\n",
       "      <td id=\"T_43918_row56_col6\" class=\"data row56 col6\" >None</td>\n",
       "      <td id=\"T_43918_row56_col7\" class=\"data row56 col7\" >[{1: 0.4, 2: 0.03, 3: 0.1, 4: 0.47}]</td>\n",
       "    </tr>\n",
       "  </tbody>\n",
       "</table>\n"
      ],
      "text/plain": [
       "<pandas.io.formats.style.Styler at 0x22ece186e50>"
      ]
     },
     "execution_count": 18,
     "metadata": {},
     "output_type": "execute_result"
    }
   ],
   "source": [
    "\n",
    "pd.set_option('display.max_rows', None)\n",
    "pd.set_option('display.max_colwidth', 3000)\n",
    "import warnings\n",
    "warnings.filterwarnings(\"ignore\", category=FutureWarning) \n",
    "\n",
    "\n",
    "cart.print_tree(table = True, html = True).style.hide_index()"
   ]
  },
  {
   "cell_type": "code",
   "execution_count": null,
   "metadata": {},
   "outputs": [],
   "source": []
  },
  {
   "cell_type": "code",
   "execution_count": 19,
   "metadata": {},
   "outputs": [
    {
     "data": {
      "text/html": [
       "<div>\n",
       "<style scoped>\n",
       "    .dataframe tbody tr th:only-of-type {\n",
       "        vertical-align: middle;\n",
       "    }\n",
       "\n",
       "    .dataframe tbody tr th {\n",
       "        vertical-align: top;\n",
       "    }\n",
       "\n",
       "    .dataframe thead th {\n",
       "        text-align: right;\n",
       "    }\n",
       "</style>\n",
       "<table border=\"1\" class=\"dataframe\">\n",
       "  <thead>\n",
       "    <tr style=\"text-align: right;\">\n",
       "      <th></th>\n",
       "      <th>purpose</th>\n",
       "      <th>fueltype</th>\n",
       "      <th>faretype</th>\n",
       "      <th>bus_scale</th>\n",
       "      <th>travel_month</th>\n",
       "      <th>day_of_week</th>\n",
       "      <th>female</th>\n",
       "      <th>driving_license</th>\n",
       "      <th>car_ownership</th>\n",
       "      <th>pt_interchanges</th>\n",
       "      <th>age_group</th>\n",
       "      <th>distance_group</th>\n",
       "      <th>starttime_group</th>\n",
       "      <th>cost_group</th>\n",
       "      <th>costdrivingfuel_group</th>\n",
       "      <th>trafficperc_group</th>\n",
       "      <th>drivingcharge_group</th>\n",
       "    </tr>\n",
       "  </thead>\n",
       "  <tbody>\n",
       "    <tr>\n",
       "      <th>76103</th>\n",
       "      <td>purpose3</td>\n",
       "      <td>fueltype1</td>\n",
       "      <td>faretype1</td>\n",
       "      <td>bus_scale1.0</td>\n",
       "      <td>travel_month1</td>\n",
       "      <td>day_of_week4</td>\n",
       "      <td>female1</td>\n",
       "      <td>driving_license0</td>\n",
       "      <td>car_ownership1</td>\n",
       "      <td>pt_interchanges1</td>\n",
       "      <td>age_group19-30</td>\n",
       "      <td>distance07</td>\n",
       "      <td>morning</td>\n",
       "      <td>medium_cost</td>\n",
       "      <td>costdrivingfuelgroup7</td>\n",
       "      <td>1mediumlow_traffic</td>\n",
       "      <td>low_charge</td>\n",
       "    </tr>\n",
       "    <tr>\n",
       "      <th>76104</th>\n",
       "      <td>purpose3</td>\n",
       "      <td>fueltype1</td>\n",
       "      <td>faretype1</td>\n",
       "      <td>bus_scale1.0</td>\n",
       "      <td>travel_month1</td>\n",
       "      <td>day_of_week4</td>\n",
       "      <td>female1</td>\n",
       "      <td>driving_license0</td>\n",
       "      <td>car_ownership1</td>\n",
       "      <td>pt_interchanges1</td>\n",
       "      <td>age_group19-30</td>\n",
       "      <td>distance07</td>\n",
       "      <td>afternoon</td>\n",
       "      <td>medium_cost</td>\n",
       "      <td>costdrivingfuelgroup7</td>\n",
       "      <td>1mediumlow_traffic</td>\n",
       "      <td>low_charge</td>\n",
       "    </tr>\n",
       "    <tr>\n",
       "      <th>76105</th>\n",
       "      <td>purpose3</td>\n",
       "      <td>fueltype1</td>\n",
       "      <td>faretype1</td>\n",
       "      <td>bus_scale1.0</td>\n",
       "      <td>travel_month1</td>\n",
       "      <td>day_of_week4</td>\n",
       "      <td>female0</td>\n",
       "      <td>driving_license1</td>\n",
       "      <td>car_ownership1</td>\n",
       "      <td>pt_interchanges1</td>\n",
       "      <td>age_group31-65</td>\n",
       "      <td>distance07</td>\n",
       "      <td>morning</td>\n",
       "      <td>medium_cost</td>\n",
       "      <td>costdrivingfuelgroup7</td>\n",
       "      <td>1mediumlow_traffic</td>\n",
       "      <td>low_charge</td>\n",
       "    </tr>\n",
       "    <tr>\n",
       "      <th>76106</th>\n",
       "      <td>purpose3</td>\n",
       "      <td>fueltype1</td>\n",
       "      <td>faretype1</td>\n",
       "      <td>bus_scale1.0</td>\n",
       "      <td>travel_month1</td>\n",
       "      <td>day_of_week4</td>\n",
       "      <td>female0</td>\n",
       "      <td>driving_license1</td>\n",
       "      <td>car_ownership1</td>\n",
       "      <td>pt_interchanges1</td>\n",
       "      <td>age_group31-65</td>\n",
       "      <td>distance07</td>\n",
       "      <td>afternoon</td>\n",
       "      <td>medium_cost</td>\n",
       "      <td>costdrivingfuelgroup7</td>\n",
       "      <td>1mediumlow_traffic</td>\n",
       "      <td>low_charge</td>\n",
       "    </tr>\n",
       "    <tr>\n",
       "      <th>76107</th>\n",
       "      <td>purpose5</td>\n",
       "      <td>fueltype1</td>\n",
       "      <td>faretype1</td>\n",
       "      <td>bus_scale1.0</td>\n",
       "      <td>travel_month1</td>\n",
       "      <td>day_of_week4</td>\n",
       "      <td>female0</td>\n",
       "      <td>driving_license1</td>\n",
       "      <td>car_ownership2</td>\n",
       "      <td>pt_interchanges0</td>\n",
       "      <td>age_group31-65</td>\n",
       "      <td>distance06</td>\n",
       "      <td>afternoon</td>\n",
       "      <td>low_cost</td>\n",
       "      <td>costdrivingfuelgroup7</td>\n",
       "      <td>0low_traffic</td>\n",
       "      <td>low_charge</td>\n",
       "    </tr>\n",
       "  </tbody>\n",
       "</table>\n",
       "</div>"
      ],
      "text/plain": [
       "        purpose   fueltype   faretype     bus_scale   travel_month  \\\n",
       "76103  purpose3  fueltype1  faretype1  bus_scale1.0  travel_month1   \n",
       "76104  purpose3  fueltype1  faretype1  bus_scale1.0  travel_month1   \n",
       "76105  purpose3  fueltype1  faretype1  bus_scale1.0  travel_month1   \n",
       "76106  purpose3  fueltype1  faretype1  bus_scale1.0  travel_month1   \n",
       "76107  purpose5  fueltype1  faretype1  bus_scale1.0  travel_month1   \n",
       "\n",
       "        day_of_week   female   driving_license   car_ownership  \\\n",
       "76103  day_of_week4  female1  driving_license0  car_ownership1   \n",
       "76104  day_of_week4  female1  driving_license0  car_ownership1   \n",
       "76105  day_of_week4  female0  driving_license1  car_ownership1   \n",
       "76106  day_of_week4  female0  driving_license1  car_ownership1   \n",
       "76107  day_of_week4  female0  driving_license1  car_ownership2   \n",
       "\n",
       "        pt_interchanges       age_group distance_group starttime_group  \\\n",
       "76103  pt_interchanges1  age_group19-30     distance07         morning   \n",
       "76104  pt_interchanges1  age_group19-30     distance07       afternoon   \n",
       "76105  pt_interchanges1  age_group31-65     distance07         morning   \n",
       "76106  pt_interchanges1  age_group31-65     distance07       afternoon   \n",
       "76107  pt_interchanges0  age_group31-65     distance06       afternoon   \n",
       "\n",
       "        cost_group  costdrivingfuel_group   trafficperc_group  \\\n",
       "76103  medium_cost  costdrivingfuelgroup7  1mediumlow_traffic   \n",
       "76104  medium_cost  costdrivingfuelgroup7  1mediumlow_traffic   \n",
       "76105  medium_cost  costdrivingfuelgroup7  1mediumlow_traffic   \n",
       "76106  medium_cost  costdrivingfuelgroup7  1mediumlow_traffic   \n",
       "76107     low_cost  costdrivingfuelgroup7        0low_traffic   \n",
       "\n",
       "      drivingcharge_group  \n",
       "76103          low_charge  \n",
       "76104          low_charge  \n",
       "76105          low_charge  \n",
       "76106          low_charge  \n",
       "76107          low_charge  "
      ]
     },
     "execution_count": 19,
     "metadata": {},
     "output_type": "execute_result"
    }
   ],
   "source": [
    "X_test['purpose'] = 'purpose' + X_test['purpose'].astype(str)\n",
    "X_test['fueltype'] = 'fueltype' + X_test['fueltype'].astype(str)\n",
    "X_test['faretype'] = 'faretype' + X_test['faretype'].astype(str)\n",
    "X_test['bus_scale'] = 'bus_scale' + X_test['bus_scale'].astype(str)\n",
    "X_test['travel_month'] = 'travel_month' + X_test['travel_month'].astype(str)\n",
    "X_test['day_of_week'] = 'day_of_week' + X_test['day_of_week'].astype(str)\n",
    "X_test['female'] = 'female' + X_test['female'].astype(str)\n",
    "X_test['driving_license'] = 'driving_license' + X_test['driving_license'].astype(str)\n",
    "X_test['car_ownership'] = 'car_ownership' + X_test['car_ownership'].astype(str)\n",
    "X_test['pt_interchanges'] = 'pt_interchanges' + X_test['pt_interchanges'].astype(str)\n",
    "X_test['age_group'] = 'age_group' + X_test['age_group'].astype(str)\n",
    "\n",
    "X_test.head()"
   ]
  },
  {
   "cell_type": "code",
   "execution_count": 20,
   "metadata": {},
   "outputs": [],
   "source": [
    "\n",
    "predictions = []\n",
    "\n",
    "for i in range(X_test.shape[0]):\n",
    "\n",
    "    d = dict(X_test.iloc[i,])\n",
    "    for list in cart.tree:\n",
    "        for tuple in list:\n",
    "                for node in tuple:\n",
    "                    if node.name ==\"n1\":\n",
    "                        cart.pred_x(node, d, cart.get_all_node(), cart.get_leaf())\n",
    "                        predictions.append(cart.prediction_cat[-1])\n"
   ]
  },
  {
   "cell_type": "code",
   "execution_count": 21,
   "metadata": {},
   "outputs": [
    {
     "data": {
      "text/plain": [
       "27.87"
      ]
     },
     "execution_count": 21,
     "metadata": {},
     "output_type": "execute_result"
    }
   ],
   "source": [
    "y_test_list = y_test[\"travel_mode\"].values.tolist()\n",
    "\n",
    "\n",
    "missclass = 0 \n",
    "\n",
    "for i in range(len(predictions)):\n",
    "    if predictions[i] != y_test_list[i]:\n",
    "        missclass += 1 \n",
    "\n",
    "round(missclass / len(y_test_list) * 100, 2)"
   ]
  },
  {
   "cell_type": "markdown",
   "metadata": {},
   "source": [
    "27.87"
   ]
  },
  {
   "cell_type": "code",
   "execution_count": 22,
   "metadata": {},
   "outputs": [
    {
     "data": {
      "text/plain": [
       "4    2213\n",
       "3    1738\n",
       "1     901\n",
       "2     131\n",
       "Name: travel_mode, dtype: int64"
      ]
     },
     "execution_count": 22,
     "metadata": {},
     "output_type": "execute_result"
    }
   ],
   "source": [
    "set(y_test_list)\n",
    "y_test['travel_mode'].value_counts()"
   ]
  },
  {
   "cell_type": "code",
   "execution_count": 23,
   "metadata": {},
   "outputs": [
    {
     "data": {
      "text/plain": [
       "('Accuracy', 57.82, 0.0, 71.4, 82.78)"
      ]
     },
     "execution_count": 23,
     "metadata": {},
     "output_type": "execute_result"
    }
   ],
   "source": [
    "missclass1 = 0 \n",
    "class1 = 0\n",
    "missclass2 = 0 \n",
    "class2 = 0\n",
    "missclass3 = 0 \n",
    "class3 = 0\n",
    "missclass4 = 0 \n",
    "class4 = 0\n",
    "\n",
    "for i in range(len(predictions)):\n",
    "    if y_test_list[i] ==1:\n",
    "        class1 += 1\n",
    "        if predictions[i] != y_test_list[i]:\n",
    "            missclass1 += 1 \n",
    "    if y_test_list[i] ==2:\n",
    "        class2 += 1\n",
    "        if predictions[i] != y_test_list[i]:\n",
    "            missclass2 += 1 \n",
    "    if y_test_list[i] ==3:\n",
    "        class3 += 1\n",
    "        if predictions[i] != y_test_list[i]:\n",
    "            missclass3 += 1 \n",
    "    if y_test_list[i] ==4:\n",
    "        class4 += 1\n",
    "        if predictions[i] != y_test_list[i]:\n",
    "            missclass4 += 1 \n",
    "\n",
    "\n",
    "\"Accuracy\", round((1-missclass1 / class1) * 100, 2), round((1-missclass2 / class2) * 100, 2), round((1-missclass3 / class3) * 100, 2), round((1-missclass4 / class4 )* 100, 2)"
   ]
  }
 ],
 "metadata": {
  "kernelspec": {
   "display_name": "base",
   "language": "python",
   "name": "python3"
  },
  "language_info": {
   "codemirror_mode": {
    "name": "ipython",
    "version": 3
   },
   "file_extension": ".py",
   "mimetype": "text/x-python",
   "name": "python",
   "nbconvert_exporter": "python",
   "pygments_lexer": "ipython3",
   "version": "3.8.15"
  },
  "orig_nbformat": 4
 },
 "nbformat": 4,
 "nbformat_minor": 2
}
