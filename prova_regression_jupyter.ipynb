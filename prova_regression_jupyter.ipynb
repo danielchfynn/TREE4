{
 "cells": [
  {
   "cell_type": "code",
   "execution_count": 1,
   "metadata": {},
   "outputs": [],
   "source": [
    "#from __future__ import annotations\n",
    "#from tkinter import N\n",
    "\n",
    "from cart import *\n",
    "\n",
    "import pandas as pd\n",
    "\n",
    "#d = dict(features, **n_features)  #merges the two dicts\n",
    "#df = pd.DataFrame(data=d)         #creates the dataframe\n",
    "\n",
    "#print(df)\n",
    "#import csv\n",
    "\n",
    "\n",
    "\n",
    "#####################################loading the carseats data#########################\n",
    "\n",
    "df=pd.read_csv('Carseats_train.csv')\n",
    "df=df.iloc[:,1:]\n",
    "\n",
    "features_names=list(df.columns)\n",
    "\n",
    "colonne=features_names[:6]\n",
    "features_name=features_names[7:9]\n",
    "features_names=colonne + features_name\n",
    "\n",
    "\n",
    "\n",
    "\n",
    "n_features_names=list(df.columns)\n",
    "columns = [(n_features_names[6])]\n",
    "n_features_name = n_features_names[9:11]\n",
    "n_features_names=columns + n_features_name\n",
    "\n",
    "\n",
    "\n",
    "\n",
    "features=df.iloc[:,0:6]\n",
    "features2=df.iloc[:,7:9]\n",
    "\n",
    "features=dict(features)\n",
    "features2=dict(features2)\n",
    "\n",
    "\n",
    "n_features=df.iloc[:,6:7]\n",
    "n_features2=df.iloc[:,9:11]\n",
    "\n",
    "\n",
    "n_features=dict(n_features)\n",
    "n_features2=dict(n_features2)\n",
    "\n",
    "features = dict(features, **features2)\n",
    "n_features = dict(n_features, **n_features2)\n",
    "\n",
    "\n",
    "#############################################################################\n",
    "\n",
    "\n",
    "#import itertools\n",
    "#from statistics import mode\n",
    "'''\n",
    "print(features,'features',type(features))\n",
    "print()\n",
    "print(features_names,'features_names')\n",
    "print()\n",
    "print(n_features,'n_features')\n",
    "print()\n",
    "print(n_features_names,'n_features_names')\n",
    "print()\n",
    "'''\n",
    "########################### y categorical #######################################\n",
    "'''\n",
    "High=[]\n",
    "for i in features['Sales']:\n",
    "    if i < 8:\n",
    "        High.append('NO')\n",
    "    else:\n",
    "        High.append('YES')\n",
    "\n",
    "High=pd.DataFrame(High)\n",
    "High=dict(High)\n",
    "High['High'] = High.pop(0)\n",
    "\n",
    "#y=High['High']\n",
    "\n",
    "#exclude_keys = ['Sales']\n",
    "\n",
    "#new_d = {k: features[k] for k in set(list(features.keys())) - set(exclude_keys)}\n",
    "#features=new_d\n",
    "\n",
    "#features_names=features_names[1:]\n",
    "'''\n",
    "\n",
    "######################y numerical#####################################\n",
    "y=features['Price']\n",
    "exclude_keys = ['Price']\n",
    "new_d = {k: features[k] for k in set(list(features.keys())) - set(exclude_keys)}\n",
    "features=new_d\n",
    "\n",
    "indici = np.arange(0, len(y))\n",
    "\n",
    "features_names3 = features_names[0:5]\n",
    "features_names4 = features_names[6:]\n",
    "features_names = features_names3 +  features_names4 \n",
    "\n",
    "#############Data Prep for prediction ############\n",
    "df_test=pd.read_csv('Carseats_test.csv')\n",
    "df_test=df_test.iloc[:,1:]\n",
    "\n",
    "\n",
    "features_test=df_test.iloc[:,0:6]\n",
    "features2_test=df_test.iloc[:,7:9]\n",
    "\n",
    "features_test=dict(features_test)\n",
    "features2_test=dict(features2_test)\n",
    "\n",
    "\n",
    "n_features_test=df_test.iloc[:,6:7]\n",
    "n_features2_test=df_test.iloc[:,9:11]\n",
    "\n",
    "\n",
    "n_features_test=dict(n_features_test)\n",
    "n_features2_test=dict(n_features2_test)\n",
    "\n",
    "features_test = dict(features_test, **features2_test)\n",
    "n_features_test = dict(n_features_test, **n_features2_test)\n",
    "\n",
    "y_test=features_test['Price']\n",
    "\n",
    "y_test = y_test.tolist()\n",
    "\n",
    "del features_test[\"Price\"]   \n",
    "\n",
    "#impurity = impurity_fn('MSE') # chhose the simplest impurity functin (for regression tree)\n",
    "\n",
    "#impurity = Impurity (\"MSE\")\n",
    "# start a tree structure by instantiating its root\n",
    "#print(\"features\", features)\n",
    "#print(\"features_names\", features_names)\n",
    "#print(\"n_features\", n_features)\n",
    "#print(\"n_features_names\", n_features_names)\n",
    "\n",
    "\n",
    "\n",
    "############Program Running\n",
    "\n",
    "\n",
    "###User Defined Function \n",
    "\n",
    "\n",
    "\n",
    "#when definining a funcion please be aware we are using purity gain or information gain or greatest difference between variance, all positive aspects \n",
    "#adding user_defined as a possible impurity_fn and added user_impur to carry that function \n",
    "def user_fn(self, node): #impur just takes node in CART\n",
    "    \n",
    "    return (mean(self.y[node.indexes])**2)*len(self.y[node.indexes])\n",
    "\n",
    "\n",
    "\n",
    "\n"
   ]
  },
  {
   "cell_type": "code",
   "execution_count": 2,
   "metadata": {},
   "outputs": [
    {
     "name": "stdout",
     "output_type": "stream",
     "text": [
      "level 0\n",
      "Split Found:  n1 [['CompPrice', 127, 0.20228188075035491, 0]] start\n",
      "node_proportion_total  0.2015594454619614\n",
      "level 1\n",
      "Split Found:  n2 [['Sales', 7.54, 0.20969032447490832, 1]] left\n",
      "node_proportion_total  0.30358863686176585\n",
      "Node_proportion_gain  0.10202919139980446\n",
      "level 2\n",
      "Split Found:  n4 [['Age', 53, 0.19075555365175634, 2]] left\n",
      "node_proportion_total  0.3336120218323998\n",
      "Node_proportion_gain  0.03002338497063395\n",
      "level 3\n",
      "Split Found:  n8 [['Income', 73, 0.3472236802682799, 3]] left\n",
      "node_proportion_total  0.34849816176565207\n",
      "Node_proportion_gain  0.014886139933252274\n",
      "level 4\n",
      "Split Found:  n16 [['Age', 39, 0.34689490137987866, 4]] left\n",
      "node_proportion_total  0.3539719706533116\n",
      "Node_proportion_gain  0.005473808887659526\n",
      "level 5\n",
      "level 5\n",
      "level 4\n",
      "Split Found:  n17 [['ShelveLoc', ('Bad', 'Good'), 0.3130664800443227, 4]] right\n",
      "node_proportion_total  0.35779335979571947\n",
      "Node_proportion_gain  0.0038213891424078716\n",
      "level 5\n",
      "level 5\n",
      "level 3\n",
      "Split Found:  n9 [['Sales', 2.67, 0.15864320775179774, 3]] right\n",
      "node_proportion_total  0.37119817832008606\n",
      "Node_proportion_gain  0.01340481852436659\n",
      "level 4\n",
      "Node Search Split Error for:  n18 with obs in node:  6  which is less than minimum parent size:  10\n",
      "TypeError\n",
      "level 4\n",
      "Split Found:  n19 [['ShelveLoc', ('Medium', 'Good'), 0.15314450939549817, 4]] right\n",
      "node_proportion_total  0.3811049894828041\n",
      "Node_proportion_gain  0.009906811162718021\n",
      "level 5\n",
      "level 5\n",
      "level 2\n",
      "Split Found:  n5 [['CompPrice', 98, 0.2435573732059556, 2]] right\n",
      "node_proportion_total  0.4364289711086679\n",
      "Node_proportion_gain  0.05532398162586383\n",
      "level 3\n",
      "Node Search Split Error for:  n10 with obs in node:  9  which is less than minimum parent size:  10\n",
      "TypeError\n",
      "level 3\n",
      "Split Found:  n11 [['Sales', 10.62, 0.16730845291018692, 3]] right\n",
      "node_proportion_total  0.46077821785723644\n",
      "Node_proportion_gain  0.02434924674856853\n",
      "level 4\n",
      "Split Found:  n22 [['ShelveLoc', ('Medium', 'Bad'), 0.333658664742816, 4]] left\n",
      "node_proportion_total  0.4898276176544265\n",
      "Node_proportion_gain  0.029049399797190067\n",
      "level 5\n",
      "level 5\n",
      "level 4\n",
      "Split Found:  n23 [['Age', 36, 0.1794319868390466, 4]] right\n",
      "node_proportion_total  0.4959503023371729\n",
      "Node_proportion_gain  0.006122684682746404\n",
      "level 5\n",
      "level 5\n",
      "level 1\n",
      "Split Found:  n3 [['Sales', 7.58, 0.314143889817587, 1]] right\n",
      "node_proportion_total  0.5928003339834989\n",
      "Node_proportion_gain  0.09685003164632594\n",
      "level 2\n",
      "Split Found:  n6 [['CompPrice', 135, 0.3123720500988424, 2]] left\n",
      "node_proportion_total  0.6280313216886411\n",
      "Node_proportion_gain  0.035230987705142214\n",
      "level 3\n",
      "Split Found:  n12 [['Sales', 4.95, 0.16651447742818304, 3]] left\n",
      "node_proportion_total  0.6334745788766977\n",
      "Node_proportion_gain  0.005443257188056605\n",
      "level 4\n",
      "Node Search Split Error for:  n24 with obs in node:  8  which is less than minimum parent size:  10\n",
      "TypeError\n",
      "level 4\n",
      "Split Found:  n25 [['Urban', 'No', 0.2534004865179703, 4]] right\n",
      "node_proportion_total  0.639218174021028\n",
      "Node_proportion_gain  0.005743595144330316\n",
      "level 5\n",
      "level 5\n",
      "level 3\n",
      "Split Found:  n13 [['Sales', 3.47, 0.2119229721926812, 3]] right\n",
      "node_proportion_total  0.6487260894316627\n",
      "Node_proportion_gain  0.00950791541063467\n",
      "level 4\n",
      "Node Search Split Error for:  n26 with obs in node:  5  which is less than minimum parent size:  10\n",
      "TypeError\n",
      "level 4\n",
      "Split Found:  n27 [['CompPrice', 141, 0.273490099950215, 4]] right\n",
      "node_proportion_total  0.6545880202391678\n",
      "Node_proportion_gain  0.005861930807505189\n",
      "level 5\n",
      "level 5\n",
      "level 2\n",
      "Split Found:  n7 [['CompPrice', 146, 0.36946671515235474, 2]] right\n",
      "node_proportion_total  0.6910406937341008\n",
      "Node_proportion_gain  0.036452673494932974\n",
      "level 3\n",
      "Split Found:  n14 [['Sales', 11.85, 0.23287105414674458, 3]] left\n",
      "node_proportion_total  0.7042849638830883\n",
      "Node_proportion_gain  0.013244270148987436\n",
      "level 4\n",
      "Split Found:  n28 [['ShelveLoc', ('Medium', 'Bad'), 0.19811845510169523, 4]] left\n",
      "node_proportion_total  0.711782745197977\n",
      "Node_proportion_gain  0.007497781314888763\n",
      "level 5\n",
      "level 5\n",
      "level 4\n",
      "Node Search Split Error for:  n29 with obs in node:  9  which is less than minimum parent size:  10\n",
      "TypeError\n",
      "level 3\n",
      "Split Found:  n15 [['Income', 81, 0.44965583480070426, 3]] right\n",
      "node_proportion_total  0.7141823036939839\n",
      "Node_proportion_gain  0.002399558496006926\n",
      "level 4\n",
      "Split Found:  n30 [['CompPrice', 151, 0.5371498172959805, 4]] left\n",
      "node_proportion_total  0.7153124624302661\n",
      "Node_proportion_gain  0.001130158736282194\n",
      "level 5\n",
      "level 5\n",
      "level 4\n",
      "Node Search Split Error for:  n31 with obs in node:  5  which is less than minimum parent size:  10\n",
      "TypeError\n"
     ]
    },
    {
     "data": {
      "text/plain": [
       "(((((None, None), (None, None)), (None, (None, None))),\n",
       "  (None, ((None, None), (None, None)))),\n",
       " (((None, (None, None)), (None, (None, None))),\n",
       "  (((None, None), None), ((None, None), None))))"
      ]
     },
     "execution_count": 2,
     "metadata": {},
     "output_type": "execute_result"
    }
   ],
   "source": [
    "my_tree = MyNodeClass('n1', indici) \n",
    "\n",
    "cart = CART(y,features,features_names,n_features,n_features_names, impurity_fn = \"pearson\", problem=\"regression\", method = \"FAST\", max_level = 4,  min_cases_parent= 10,min_cases_child= 5, min_imp_gain=0.0001) \n",
    "\n",
    "cart.growing_tree(my_tree)\n",
    "\n"
   ]
  },
  {
   "cell_type": "code",
   "execution_count": 3,
   "metadata": {},
   "outputs": [
    {
     "data": {
      "application/vnd.plotly.v1+json": {
       "config": {
        "plotlyServerURL": "https://plot.ly"
       },
       "data": [
        {
         "hoverinfo": "none",
         "line": {
          "color": "rgb(210,210,210)",
          "width": 1
         },
         "mode": "lines",
         "type": "scatter",
         "x": [
          0,
          -7.9375,
          null,
          0,
          7.9375,
          null,
          -7.9375,
          -11.9375,
          null,
          -7.9375,
          -3.9375,
          null,
          7.9375,
          4.0625,
          null,
          7.9375,
          11.8125,
          null,
          -11.9375,
          -13.9375,
          null,
          -11.9375,
          -9.9375,
          null,
          -3.9375,
          -5.9375,
          null,
          -3.9375,
          -1.9375,
          null,
          4.0625,
          2.0625,
          null,
          4.0625,
          6.0625,
          null,
          11.8125,
          10.0625,
          null,
          11.8125,
          13.5625,
          null,
          -13.9375,
          -14.9375,
          null,
          -13.9375,
          -12.9375,
          null,
          -9.9375,
          -10.9375,
          null,
          -9.9375,
          -8.9375,
          null,
          -1.9375,
          -2.9375,
          null,
          -1.9375,
          -0.9375,
          null,
          2.0625,
          1.0625,
          null,
          2.0625,
          3.0625,
          null,
          6.0625,
          5.0625,
          null,
          6.0625,
          7.0625,
          null,
          10.0625,
          9.0625,
          null,
          10.0625,
          11.0625,
          null,
          13.5625,
          13.0625,
          null,
          13.5625,
          14.0625,
          null,
          -14.9375,
          -15.4375,
          null,
          -14.9375,
          -14.4375,
          null,
          -12.9375,
          -13.4375,
          null,
          -12.9375,
          -12.4375,
          null,
          -8.9375,
          -9.4375,
          null,
          -8.9375,
          -8.4375,
          null,
          -2.9375,
          -3.4375,
          null,
          -2.9375,
          -2.4375,
          null,
          -0.9375,
          -1.4375,
          null,
          -0.9375,
          -0.4375,
          null,
          3.0625,
          2.5625,
          null,
          3.0625,
          3.5625,
          null,
          7.0625,
          6.5625,
          null,
          7.0625,
          7.5625,
          null,
          9.0625,
          8.5625,
          null,
          9.0625,
          9.5625,
          null,
          13.0625,
          12.5625,
          null,
          13.0625,
          13.5625,
          null
         ],
         "y": [
          10,
          9,
          null,
          10,
          9,
          null,
          9,
          8,
          null,
          9,
          8,
          null,
          9,
          8,
          null,
          9,
          8,
          null,
          8,
          7,
          null,
          8,
          7,
          null,
          8,
          7,
          null,
          8,
          7,
          null,
          8,
          7,
          null,
          8,
          7,
          null,
          8,
          7,
          null,
          8,
          7,
          null,
          7,
          6,
          null,
          7,
          6,
          null,
          7,
          6,
          null,
          7,
          6,
          null,
          7,
          6,
          null,
          7,
          6,
          null,
          7,
          6,
          null,
          7,
          6,
          null,
          7,
          6,
          null,
          7,
          6,
          null,
          7,
          6,
          null,
          7,
          6,
          null,
          7,
          6,
          null,
          7,
          6,
          null,
          6,
          5,
          null,
          6,
          5,
          null,
          6,
          5,
          null,
          6,
          5,
          null,
          6,
          5,
          null,
          6,
          5,
          null,
          6,
          5,
          null,
          6,
          5,
          null,
          6,
          5,
          null,
          6,
          5,
          null,
          6,
          5,
          null,
          6,
          5,
          null,
          6,
          5,
          null,
          6,
          5,
          null,
          6,
          5,
          null,
          6,
          5,
          null,
          6,
          5,
          null,
          6,
          5,
          null
         ]
        },
        {
         "hoverinfo": "text",
         "marker": {
          "color": "#6175c1",
          "line": {
           "color": "rgb(50,50,50)",
           "width": 1
          },
          "size": 18,
          "symbol": "circle-dot"
         },
         "mode": "markers",
         "name": "Nodes",
         "opacity": 0.8,
         "text": [
          "Node: n32, Bin Value: 109.57, pearson : 1353.71, Samples : 7",
          "Node: n33, Bin Value: 125.83, pearson : 254.83, Samples : 6",
          "Node: n34, Bin Value: 130.78, pearson : 621.56, Samples : 9",
          "Node: n35, Bin Value: 144.4, pearson : 687.2, Samples : 5",
          "Node: n18, Bin Value: 128.67, pearson : 999.33, Samples : 6",
          "Node: n38, Bin Value: 101.06, pearson : 1574.94, Samples : 17",
          "Node: n39, Bin Value: 112.49, pearson : 6975.74, Samples : 39",
          "Node: n10, Bin Value: 66.78, pearson : 4103.56, Samples : 9",
          "Node: n44, Bin Value: 120.62, pearson : 3503.08, Samples : 13",
          "Node: n45, Bin Value: 98.47, pearson : 5551.97, Samples : 32",
          "Node: n46, Bin Value: 97.29, pearson : 1481.43, Samples : 7",
          "Node: n47, Bin Value: 82.58, pearson : 2888.92, Samples : 12",
          "Node: n24, Bin Value: 139.12, pearson : 714.88, Samples : 8",
          "Node: n50, Bin Value: 131, pearson : 2268, Samples : 16",
          "Node: n51, Bin Value: 116.67, pearson : 373.33, Samples : 6",
          "Node: n26, Bin Value: 165.4, pearson : 2173.2, Samples : 5",
          "Node: n54, Bin Value: 139.2, pearson : 661.6, Samples : 10",
          "Node: n55, Bin Value: 151.92, pearson : 1768.92, Samples : 13",
          "Node: n29, Bin Value: 97.89, pearson : 902.89, Samples : 9",
          "Node: n56, Bin Value: 125.5, pearson : 1228.0, Samples : 8",
          "Node: n57, Bin Value: 111.79, pearson : 3508.71, Samples : 28",
          "Node: n31, Bin Value: 141, pearson : 130, Samples : 5",
          "Node: n60, Bin Value: 134.6, pearson : 61.2, Samples : 5",
          "Node: n61, Bin Value: 126.2, pearson : 90.8, Samples : 5",
          "Node: n1, CompPrice>127, pearson : 155526.82, Samples : 280",
          "Node: n2, Sales>7.54, pearson : 75946.05, Samples : 162",
          "Node: n4, Age>53, pearson : 24566.4, Samples : 89",
          "Node: n8, Income>73, pearson : 6691.63, Samples : 27",
          "Node: n16, Age>39, pearson : 2462.92, Samples : 13",
          "Node: n17, ShelveLoc in ('Bad', 'Good'), pearson : 1905.21, Samples : 14",
          "Node: n9, Sales>2.67, pearson : 13188.6, Samples : 62",
          "Node: n19, ShelveLoc in ('Medium', 'Good'), pearson : 10096.98, Samples : 56",
          "Node: n5, CompPrice>98, pearson : 35454.49, Samples : 73",
          "Node: n11, Sales>10.62, pearson : 22715.73, Samples : 64",
          "Node: n22, ShelveLoc in ('Medium', 'Bad'), pearson : 13589.2, Samples : 45",
          "Node: n23, Age>36, pearson : 5326, Samples : 19",
          "Node: n3, Sales>7.58, pearson : 48120.52, Samples : 118",
          "Node: n6, CompPrice>135, pearson : 17604.02, Samples : 58",
          "Node: n12, Sales>4.95, pearson : 5102.3, Samples : 30",
          "Node: n25, Urban in 'No', pearson : 3537.82, Samples : 22",
          "Node: n13, Sales>3.47, pearson : 7002.71, Samples : 28",
          "Node: n27, CompPrice>141, pearson : 3345.48, Samples : 23",
          "Node: n7, CompPrice>146, pearson : 15399.73, Samples : 60",
          "Node: n14, Sales>11.85, pearson : 8877.11, Samples : 45",
          "Node: n28, ShelveLoc in ('Medium', 'Bad'), pearson : 5907.0, Samples : 36",
          "Node: n15, Income>81, pearson : 832.93, Samples : 15",
          "Node: n30, CompPrice>151, pearson : 328.4, Samples : 10"
         ],
         "type": "scatter",
         "x": [
          -15.4375,
          -14.4375,
          -13.4375,
          -12.4375,
          -10.9375,
          -9.4375,
          -8.4375,
          -5.9375,
          -3.4375,
          -2.4375,
          -1.4375,
          -0.4375,
          1.0625,
          2.5625,
          3.5625,
          5.0625,
          6.5625,
          7.5625,
          11.0625,
          8.5625,
          9.5625,
          14.0625,
          12.5625,
          13.5625,
          0,
          -7.9375,
          -11.9375,
          -13.9375,
          -14.9375,
          -12.9375,
          -9.9375,
          -8.9375,
          -3.9375,
          -1.9375,
          -2.9375,
          -0.9375,
          7.9375,
          4.0625,
          2.0625,
          3.0625,
          6.0625,
          7.0625,
          11.8125,
          10.0625,
          9.0625,
          13.5625,
          13.0625
         ],
         "y": [
          5,
          5,
          5,
          5,
          6,
          5,
          5,
          7,
          5,
          5,
          5,
          5,
          6,
          5,
          5,
          6,
          5,
          5,
          6,
          5,
          5,
          6,
          5,
          5,
          10,
          9,
          8,
          7,
          6,
          6,
          7,
          6,
          8,
          7,
          6,
          6,
          9,
          8,
          7,
          6,
          7,
          6,
          8,
          7,
          6,
          7,
          6
         ]
        }
       ],
       "layout": {
        "template": {
         "data": {
          "bar": [
           {
            "error_x": {
             "color": "#2a3f5f"
            },
            "error_y": {
             "color": "#2a3f5f"
            },
            "marker": {
             "line": {
              "color": "#E5ECF6",
              "width": 0.5
             },
             "pattern": {
              "fillmode": "overlay",
              "size": 10,
              "solidity": 0.2
             }
            },
            "type": "bar"
           }
          ],
          "barpolar": [
           {
            "marker": {
             "line": {
              "color": "#E5ECF6",
              "width": 0.5
             },
             "pattern": {
              "fillmode": "overlay",
              "size": 10,
              "solidity": 0.2
             }
            },
            "type": "barpolar"
           }
          ],
          "carpet": [
           {
            "aaxis": {
             "endlinecolor": "#2a3f5f",
             "gridcolor": "white",
             "linecolor": "white",
             "minorgridcolor": "white",
             "startlinecolor": "#2a3f5f"
            },
            "baxis": {
             "endlinecolor": "#2a3f5f",
             "gridcolor": "white",
             "linecolor": "white",
             "minorgridcolor": "white",
             "startlinecolor": "#2a3f5f"
            },
            "type": "carpet"
           }
          ],
          "choropleth": [
           {
            "colorbar": {
             "outlinewidth": 0,
             "ticks": ""
            },
            "type": "choropleth"
           }
          ],
          "contour": [
           {
            "colorbar": {
             "outlinewidth": 0,
             "ticks": ""
            },
            "colorscale": [
             [
              0,
              "#0d0887"
             ],
             [
              0.1111111111111111,
              "#46039f"
             ],
             [
              0.2222222222222222,
              "#7201a8"
             ],
             [
              0.3333333333333333,
              "#9c179e"
             ],
             [
              0.4444444444444444,
              "#bd3786"
             ],
             [
              0.5555555555555556,
              "#d8576b"
             ],
             [
              0.6666666666666666,
              "#ed7953"
             ],
             [
              0.7777777777777778,
              "#fb9f3a"
             ],
             [
              0.8888888888888888,
              "#fdca26"
             ],
             [
              1,
              "#f0f921"
             ]
            ],
            "type": "contour"
           }
          ],
          "contourcarpet": [
           {
            "colorbar": {
             "outlinewidth": 0,
             "ticks": ""
            },
            "type": "contourcarpet"
           }
          ],
          "heatmap": [
           {
            "colorbar": {
             "outlinewidth": 0,
             "ticks": ""
            },
            "colorscale": [
             [
              0,
              "#0d0887"
             ],
             [
              0.1111111111111111,
              "#46039f"
             ],
             [
              0.2222222222222222,
              "#7201a8"
             ],
             [
              0.3333333333333333,
              "#9c179e"
             ],
             [
              0.4444444444444444,
              "#bd3786"
             ],
             [
              0.5555555555555556,
              "#d8576b"
             ],
             [
              0.6666666666666666,
              "#ed7953"
             ],
             [
              0.7777777777777778,
              "#fb9f3a"
             ],
             [
              0.8888888888888888,
              "#fdca26"
             ],
             [
              1,
              "#f0f921"
             ]
            ],
            "type": "heatmap"
           }
          ],
          "heatmapgl": [
           {
            "colorbar": {
             "outlinewidth": 0,
             "ticks": ""
            },
            "colorscale": [
             [
              0,
              "#0d0887"
             ],
             [
              0.1111111111111111,
              "#46039f"
             ],
             [
              0.2222222222222222,
              "#7201a8"
             ],
             [
              0.3333333333333333,
              "#9c179e"
             ],
             [
              0.4444444444444444,
              "#bd3786"
             ],
             [
              0.5555555555555556,
              "#d8576b"
             ],
             [
              0.6666666666666666,
              "#ed7953"
             ],
             [
              0.7777777777777778,
              "#fb9f3a"
             ],
             [
              0.8888888888888888,
              "#fdca26"
             ],
             [
              1,
              "#f0f921"
             ]
            ],
            "type": "heatmapgl"
           }
          ],
          "histogram": [
           {
            "marker": {
             "pattern": {
              "fillmode": "overlay",
              "size": 10,
              "solidity": 0.2
             }
            },
            "type": "histogram"
           }
          ],
          "histogram2d": [
           {
            "colorbar": {
             "outlinewidth": 0,
             "ticks": ""
            },
            "colorscale": [
             [
              0,
              "#0d0887"
             ],
             [
              0.1111111111111111,
              "#46039f"
             ],
             [
              0.2222222222222222,
              "#7201a8"
             ],
             [
              0.3333333333333333,
              "#9c179e"
             ],
             [
              0.4444444444444444,
              "#bd3786"
             ],
             [
              0.5555555555555556,
              "#d8576b"
             ],
             [
              0.6666666666666666,
              "#ed7953"
             ],
             [
              0.7777777777777778,
              "#fb9f3a"
             ],
             [
              0.8888888888888888,
              "#fdca26"
             ],
             [
              1,
              "#f0f921"
             ]
            ],
            "type": "histogram2d"
           }
          ],
          "histogram2dcontour": [
           {
            "colorbar": {
             "outlinewidth": 0,
             "ticks": ""
            },
            "colorscale": [
             [
              0,
              "#0d0887"
             ],
             [
              0.1111111111111111,
              "#46039f"
             ],
             [
              0.2222222222222222,
              "#7201a8"
             ],
             [
              0.3333333333333333,
              "#9c179e"
             ],
             [
              0.4444444444444444,
              "#bd3786"
             ],
             [
              0.5555555555555556,
              "#d8576b"
             ],
             [
              0.6666666666666666,
              "#ed7953"
             ],
             [
              0.7777777777777778,
              "#fb9f3a"
             ],
             [
              0.8888888888888888,
              "#fdca26"
             ],
             [
              1,
              "#f0f921"
             ]
            ],
            "type": "histogram2dcontour"
           }
          ],
          "mesh3d": [
           {
            "colorbar": {
             "outlinewidth": 0,
             "ticks": ""
            },
            "type": "mesh3d"
           }
          ],
          "parcoords": [
           {
            "line": {
             "colorbar": {
              "outlinewidth": 0,
              "ticks": ""
             }
            },
            "type": "parcoords"
           }
          ],
          "pie": [
           {
            "automargin": true,
            "type": "pie"
           }
          ],
          "scatter": [
           {
            "fillpattern": {
             "fillmode": "overlay",
             "size": 10,
             "solidity": 0.2
            },
            "type": "scatter"
           }
          ],
          "scatter3d": [
           {
            "line": {
             "colorbar": {
              "outlinewidth": 0,
              "ticks": ""
             }
            },
            "marker": {
             "colorbar": {
              "outlinewidth": 0,
              "ticks": ""
             }
            },
            "type": "scatter3d"
           }
          ],
          "scattercarpet": [
           {
            "marker": {
             "colorbar": {
              "outlinewidth": 0,
              "ticks": ""
             }
            },
            "type": "scattercarpet"
           }
          ],
          "scattergeo": [
           {
            "marker": {
             "colorbar": {
              "outlinewidth": 0,
              "ticks": ""
             }
            },
            "type": "scattergeo"
           }
          ],
          "scattergl": [
           {
            "marker": {
             "colorbar": {
              "outlinewidth": 0,
              "ticks": ""
             }
            },
            "type": "scattergl"
           }
          ],
          "scattermapbox": [
           {
            "marker": {
             "colorbar": {
              "outlinewidth": 0,
              "ticks": ""
             }
            },
            "type": "scattermapbox"
           }
          ],
          "scatterpolar": [
           {
            "marker": {
             "colorbar": {
              "outlinewidth": 0,
              "ticks": ""
             }
            },
            "type": "scatterpolar"
           }
          ],
          "scatterpolargl": [
           {
            "marker": {
             "colorbar": {
              "outlinewidth": 0,
              "ticks": ""
             }
            },
            "type": "scatterpolargl"
           }
          ],
          "scatterternary": [
           {
            "marker": {
             "colorbar": {
              "outlinewidth": 0,
              "ticks": ""
             }
            },
            "type": "scatterternary"
           }
          ],
          "surface": [
           {
            "colorbar": {
             "outlinewidth": 0,
             "ticks": ""
            },
            "colorscale": [
             [
              0,
              "#0d0887"
             ],
             [
              0.1111111111111111,
              "#46039f"
             ],
             [
              0.2222222222222222,
              "#7201a8"
             ],
             [
              0.3333333333333333,
              "#9c179e"
             ],
             [
              0.4444444444444444,
              "#bd3786"
             ],
             [
              0.5555555555555556,
              "#d8576b"
             ],
             [
              0.6666666666666666,
              "#ed7953"
             ],
             [
              0.7777777777777778,
              "#fb9f3a"
             ],
             [
              0.8888888888888888,
              "#fdca26"
             ],
             [
              1,
              "#f0f921"
             ]
            ],
            "type": "surface"
           }
          ],
          "table": [
           {
            "cells": {
             "fill": {
              "color": "#EBF0F8"
             },
             "line": {
              "color": "white"
             }
            },
            "header": {
             "fill": {
              "color": "#C8D4E3"
             },
             "line": {
              "color": "white"
             }
            },
            "type": "table"
           }
          ]
         },
         "layout": {
          "annotationdefaults": {
           "arrowcolor": "#2a3f5f",
           "arrowhead": 0,
           "arrowwidth": 1
          },
          "autotypenumbers": "strict",
          "coloraxis": {
           "colorbar": {
            "outlinewidth": 0,
            "ticks": ""
           }
          },
          "colorscale": {
           "diverging": [
            [
             0,
             "#8e0152"
            ],
            [
             0.1,
             "#c51b7d"
            ],
            [
             0.2,
             "#de77ae"
            ],
            [
             0.3,
             "#f1b6da"
            ],
            [
             0.4,
             "#fde0ef"
            ],
            [
             0.5,
             "#f7f7f7"
            ],
            [
             0.6,
             "#e6f5d0"
            ],
            [
             0.7,
             "#b8e186"
            ],
            [
             0.8,
             "#7fbc41"
            ],
            [
             0.9,
             "#4d9221"
            ],
            [
             1,
             "#276419"
            ]
           ],
           "sequential": [
            [
             0,
             "#0d0887"
            ],
            [
             0.1111111111111111,
             "#46039f"
            ],
            [
             0.2222222222222222,
             "#7201a8"
            ],
            [
             0.3333333333333333,
             "#9c179e"
            ],
            [
             0.4444444444444444,
             "#bd3786"
            ],
            [
             0.5555555555555556,
             "#d8576b"
            ],
            [
             0.6666666666666666,
             "#ed7953"
            ],
            [
             0.7777777777777778,
             "#fb9f3a"
            ],
            [
             0.8888888888888888,
             "#fdca26"
            ],
            [
             1,
             "#f0f921"
            ]
           ],
           "sequentialminus": [
            [
             0,
             "#0d0887"
            ],
            [
             0.1111111111111111,
             "#46039f"
            ],
            [
             0.2222222222222222,
             "#7201a8"
            ],
            [
             0.3333333333333333,
             "#9c179e"
            ],
            [
             0.4444444444444444,
             "#bd3786"
            ],
            [
             0.5555555555555556,
             "#d8576b"
            ],
            [
             0.6666666666666666,
             "#ed7953"
            ],
            [
             0.7777777777777778,
             "#fb9f3a"
            ],
            [
             0.8888888888888888,
             "#fdca26"
            ],
            [
             1,
             "#f0f921"
            ]
           ]
          },
          "colorway": [
           "#636efa",
           "#EF553B",
           "#00cc96",
           "#ab63fa",
           "#FFA15A",
           "#19d3f3",
           "#FF6692",
           "#B6E880",
           "#FF97FF",
           "#FECB52"
          ],
          "font": {
           "color": "#2a3f5f"
          },
          "geo": {
           "bgcolor": "white",
           "lakecolor": "white",
           "landcolor": "#E5ECF6",
           "showlakes": true,
           "showland": true,
           "subunitcolor": "white"
          },
          "hoverlabel": {
           "align": "left"
          },
          "hovermode": "closest",
          "mapbox": {
           "style": "light"
          },
          "paper_bgcolor": "white",
          "plot_bgcolor": "#E5ECF6",
          "polar": {
           "angularaxis": {
            "gridcolor": "white",
            "linecolor": "white",
            "ticks": ""
           },
           "bgcolor": "#E5ECF6",
           "radialaxis": {
            "gridcolor": "white",
            "linecolor": "white",
            "ticks": ""
           }
          },
          "scene": {
           "xaxis": {
            "backgroundcolor": "#E5ECF6",
            "gridcolor": "white",
            "gridwidth": 2,
            "linecolor": "white",
            "showbackground": true,
            "ticks": "",
            "zerolinecolor": "white"
           },
           "yaxis": {
            "backgroundcolor": "#E5ECF6",
            "gridcolor": "white",
            "gridwidth": 2,
            "linecolor": "white",
            "showbackground": true,
            "ticks": "",
            "zerolinecolor": "white"
           },
           "zaxis": {
            "backgroundcolor": "#E5ECF6",
            "gridcolor": "white",
            "gridwidth": 2,
            "linecolor": "white",
            "showbackground": true,
            "ticks": "",
            "zerolinecolor": "white"
           }
          },
          "shapedefaults": {
           "line": {
            "color": "#2a3f5f"
           }
          },
          "ternary": {
           "aaxis": {
            "gridcolor": "white",
            "linecolor": "white",
            "ticks": ""
           },
           "baxis": {
            "gridcolor": "white",
            "linecolor": "white",
            "ticks": ""
           },
           "bgcolor": "#E5ECF6",
           "caxis": {
            "gridcolor": "white",
            "linecolor": "white",
            "ticks": ""
           }
          },
          "title": {
           "x": 0.05
          },
          "xaxis": {
           "automargin": true,
           "gridcolor": "white",
           "linecolor": "white",
           "ticks": "",
           "title": {
            "standoff": 15
           },
           "zerolinecolor": "white",
           "zerolinewidth": 2
          },
          "yaxis": {
           "automargin": true,
           "gridcolor": "white",
           "linecolor": "white",
           "ticks": "",
           "title": {
            "standoff": 15
           },
           "zerolinecolor": "white",
           "zerolinewidth": 2
          }
         }
        },
        "title": {
         "text": "CART_tree"
        }
       }
      }
     },
     "metadata": {},
     "output_type": "display_data"
    },
    {
     "data": {
      "text/html": [
       "<style type=\"text/css\">\n",
       "</style>\n",
       "<table id=\"T_95a73\">\n",
       "  <thead>\n",
       "    <tr>\n",
       "      <th id=\"T_95a73_level0_col0\" class=\"col_heading level0 col0\" >Node</th>\n",
       "      <th id=\"T_95a73_level0_col1\" class=\"col_heading level0 col1\" >Node_type</th>\n",
       "      <th id=\"T_95a73_level0_col2\" class=\"col_heading level0 col2\" >Variable_Split</th>\n",
       "      <th id=\"T_95a73_level0_col3\" class=\"col_heading level0 col3\" >n</th>\n",
       "      <th id=\"T_95a73_level0_col4\" class=\"col_heading level0 col4\" >Impurity_Value</th>\n",
       "      <th id=\"T_95a73_level0_col5\" class=\"col_heading level0 col5\" >Class/Value</th>\n",
       "    </tr>\n",
       "  </thead>\n",
       "  <tbody>\n",
       "    <tr>\n",
       "      <td id=\"T_95a73_row0_col0\" class=\"data row0 col0\" >n1</td>\n",
       "      <td id=\"T_95a73_row0_col1\" class=\"data row0 col1\" >Parent</td>\n",
       "      <td id=\"T_95a73_row0_col2\" class=\"data row0 col2\" >CompPrice>127</td>\n",
       "      <td id=\"T_95a73_row0_col3\" class=\"data row0 col3\" >280</td>\n",
       "      <td id=\"T_95a73_row0_col4\" class=\"data row0 col4\" >155526.820000</td>\n",
       "      <td id=\"T_95a73_row0_col5\" class=\"data row0 col5\" >115.775000</td>\n",
       "    </tr>\n",
       "    <tr>\n",
       "      <td id=\"T_95a73_row1_col0\" class=\"data row1 col0\" >n2</td>\n",
       "      <td id=\"T_95a73_row1_col1\" class=\"data row1 col1\" >Parent</td>\n",
       "      <td id=\"T_95a73_row1_col2\" class=\"data row1 col2\" >Sales>7.54</td>\n",
       "      <td id=\"T_95a73_row1_col3\" class=\"data row1 col3\" >162</td>\n",
       "      <td id=\"T_95a73_row1_col4\" class=\"data row1 col4\" >75946.050000</td>\n",
       "      <td id=\"T_95a73_row1_col5\" class=\"data row1 col5\" >106.728000</td>\n",
       "    </tr>\n",
       "    <tr>\n",
       "      <td id=\"T_95a73_row2_col0\" class=\"data row2 col0\" >n4</td>\n",
       "      <td id=\"T_95a73_row2_col1\" class=\"data row2 col1\" >Parent</td>\n",
       "      <td id=\"T_95a73_row2_col2\" class=\"data row2 col2\" >Age>53</td>\n",
       "      <td id=\"T_95a73_row2_col3\" class=\"data row2 col3\" >89</td>\n",
       "      <td id=\"T_95a73_row2_col4\" class=\"data row2 col4\" >24566.400000</td>\n",
       "      <td id=\"T_95a73_row2_col5\" class=\"data row2 col5\" >115.708000</td>\n",
       "    </tr>\n",
       "    <tr>\n",
       "      <td id=\"T_95a73_row3_col0\" class=\"data row3 col0\" >n8</td>\n",
       "      <td id=\"T_95a73_row3_col1\" class=\"data row3 col1\" >Parent</td>\n",
       "      <td id=\"T_95a73_row3_col2\" class=\"data row3 col2\" >Income>73</td>\n",
       "      <td id=\"T_95a73_row3_col3\" class=\"data row3 col3\" >27</td>\n",
       "      <td id=\"T_95a73_row3_col4\" class=\"data row3 col4\" >6691.630000</td>\n",
       "      <td id=\"T_95a73_row3_col5\" class=\"data row3 col5\" >126.704000</td>\n",
       "    </tr>\n",
       "    <tr>\n",
       "      <td id=\"T_95a73_row4_col0\" class=\"data row4 col0\" >n16</td>\n",
       "      <td id=\"T_95a73_row4_col1\" class=\"data row4 col1\" >Parent</td>\n",
       "      <td id=\"T_95a73_row4_col2\" class=\"data row4 col2\" >Age>39</td>\n",
       "      <td id=\"T_95a73_row4_col3\" class=\"data row4 col3\" >13</td>\n",
       "      <td id=\"T_95a73_row4_col4\" class=\"data row4 col4\" >2462.920000</td>\n",
       "      <td id=\"T_95a73_row4_col5\" class=\"data row4 col5\" >117.077000</td>\n",
       "    </tr>\n",
       "    <tr>\n",
       "      <td id=\"T_95a73_row5_col0\" class=\"data row5 col0\" >n32</td>\n",
       "      <td id=\"T_95a73_row5_col1\" class=\"data row5 col1\" >Child</td>\n",
       "      <td id=\"T_95a73_row5_col2\" class=\"data row5 col2\" >None</td>\n",
       "      <td id=\"T_95a73_row5_col3\" class=\"data row5 col3\" >7</td>\n",
       "      <td id=\"T_95a73_row5_col4\" class=\"data row5 col4\" >1353.710000</td>\n",
       "      <td id=\"T_95a73_row5_col5\" class=\"data row5 col5\" >109.571000</td>\n",
       "    </tr>\n",
       "    <tr>\n",
       "      <td id=\"T_95a73_row6_col0\" class=\"data row6 col0\" >n33</td>\n",
       "      <td id=\"T_95a73_row6_col1\" class=\"data row6 col1\" >Child</td>\n",
       "      <td id=\"T_95a73_row6_col2\" class=\"data row6 col2\" >None</td>\n",
       "      <td id=\"T_95a73_row6_col3\" class=\"data row6 col3\" >6</td>\n",
       "      <td id=\"T_95a73_row6_col4\" class=\"data row6 col4\" >254.830000</td>\n",
       "      <td id=\"T_95a73_row6_col5\" class=\"data row6 col5\" >125.833000</td>\n",
       "    </tr>\n",
       "    <tr>\n",
       "      <td id=\"T_95a73_row7_col0\" class=\"data row7 col0\" >n17</td>\n",
       "      <td id=\"T_95a73_row7_col1\" class=\"data row7 col1\" >Parent</td>\n",
       "      <td id=\"T_95a73_row7_col2\" class=\"data row7 col2\" >ShelveLoc in ('Bad', 'Good')</td>\n",
       "      <td id=\"T_95a73_row7_col3\" class=\"data row7 col3\" >14</td>\n",
       "      <td id=\"T_95a73_row7_col4\" class=\"data row7 col4\" >1905.210000</td>\n",
       "      <td id=\"T_95a73_row7_col5\" class=\"data row7 col5\" >135.643000</td>\n",
       "    </tr>\n",
       "    <tr>\n",
       "      <td id=\"T_95a73_row8_col0\" class=\"data row8 col0\" >n34</td>\n",
       "      <td id=\"T_95a73_row8_col1\" class=\"data row8 col1\" >Child</td>\n",
       "      <td id=\"T_95a73_row8_col2\" class=\"data row8 col2\" >None</td>\n",
       "      <td id=\"T_95a73_row8_col3\" class=\"data row8 col3\" >9</td>\n",
       "      <td id=\"T_95a73_row8_col4\" class=\"data row8 col4\" >621.560000</td>\n",
       "      <td id=\"T_95a73_row8_col5\" class=\"data row8 col5\" >130.778000</td>\n",
       "    </tr>\n",
       "    <tr>\n",
       "      <td id=\"T_95a73_row9_col0\" class=\"data row9 col0\" >n35</td>\n",
       "      <td id=\"T_95a73_row9_col1\" class=\"data row9 col1\" >Child</td>\n",
       "      <td id=\"T_95a73_row9_col2\" class=\"data row9 col2\" >None</td>\n",
       "      <td id=\"T_95a73_row9_col3\" class=\"data row9 col3\" >5</td>\n",
       "      <td id=\"T_95a73_row9_col4\" class=\"data row9 col4\" >687.200000</td>\n",
       "      <td id=\"T_95a73_row9_col5\" class=\"data row9 col5\" >144.400000</td>\n",
       "    </tr>\n",
       "    <tr>\n",
       "      <td id=\"T_95a73_row10_col0\" class=\"data row10 col0\" >n9</td>\n",
       "      <td id=\"T_95a73_row10_col1\" class=\"data row10 col1\" >Parent</td>\n",
       "      <td id=\"T_95a73_row10_col2\" class=\"data row10 col2\" >Sales>2.67</td>\n",
       "      <td id=\"T_95a73_row10_col3\" class=\"data row10 col3\" >62</td>\n",
       "      <td id=\"T_95a73_row10_col4\" class=\"data row10 col4\" >13188.600000</td>\n",
       "      <td id=\"T_95a73_row10_col5\" class=\"data row10 col5\" >110.919000</td>\n",
       "    </tr>\n",
       "    <tr>\n",
       "      <td id=\"T_95a73_row11_col0\" class=\"data row11 col0\" >n18</td>\n",
       "      <td id=\"T_95a73_row11_col1\" class=\"data row11 col1\" >Child</td>\n",
       "      <td id=\"T_95a73_row11_col2\" class=\"data row11 col2\" >None</td>\n",
       "      <td id=\"T_95a73_row11_col3\" class=\"data row11 col3\" >6</td>\n",
       "      <td id=\"T_95a73_row11_col4\" class=\"data row11 col4\" >999.330000</td>\n",
       "      <td id=\"T_95a73_row11_col5\" class=\"data row11 col5\" >128.667000</td>\n",
       "    </tr>\n",
       "    <tr>\n",
       "      <td id=\"T_95a73_row12_col0\" class=\"data row12 col0\" >n19</td>\n",
       "      <td id=\"T_95a73_row12_col1\" class=\"data row12 col1\" >Parent</td>\n",
       "      <td id=\"T_95a73_row12_col2\" class=\"data row12 col2\" >ShelveLoc in ('Medium', 'Good')</td>\n",
       "      <td id=\"T_95a73_row12_col3\" class=\"data row12 col3\" >56</td>\n",
       "      <td id=\"T_95a73_row12_col4\" class=\"data row12 col4\" >10096.980000</td>\n",
       "      <td id=\"T_95a73_row12_col5\" class=\"data row12 col5\" >109.018000</td>\n",
       "    </tr>\n",
       "    <tr>\n",
       "      <td id=\"T_95a73_row13_col0\" class=\"data row13 col0\" >n38</td>\n",
       "      <td id=\"T_95a73_row13_col1\" class=\"data row13 col1\" >Child</td>\n",
       "      <td id=\"T_95a73_row13_col2\" class=\"data row13 col2\" >None</td>\n",
       "      <td id=\"T_95a73_row13_col3\" class=\"data row13 col3\" >17</td>\n",
       "      <td id=\"T_95a73_row13_col4\" class=\"data row13 col4\" >1574.940000</td>\n",
       "      <td id=\"T_95a73_row13_col5\" class=\"data row13 col5\" >101.059000</td>\n",
       "    </tr>\n",
       "    <tr>\n",
       "      <td id=\"T_95a73_row14_col0\" class=\"data row14 col0\" >n39</td>\n",
       "      <td id=\"T_95a73_row14_col1\" class=\"data row14 col1\" >Child</td>\n",
       "      <td id=\"T_95a73_row14_col2\" class=\"data row14 col2\" >None</td>\n",
       "      <td id=\"T_95a73_row14_col3\" class=\"data row14 col3\" >39</td>\n",
       "      <td id=\"T_95a73_row14_col4\" class=\"data row14 col4\" >6975.740000</td>\n",
       "      <td id=\"T_95a73_row14_col5\" class=\"data row14 col5\" >112.487000</td>\n",
       "    </tr>\n",
       "    <tr>\n",
       "      <td id=\"T_95a73_row15_col0\" class=\"data row15 col0\" >n5</td>\n",
       "      <td id=\"T_95a73_row15_col1\" class=\"data row15 col1\" >Parent</td>\n",
       "      <td id=\"T_95a73_row15_col2\" class=\"data row15 col2\" >CompPrice>98</td>\n",
       "      <td id=\"T_95a73_row15_col3\" class=\"data row15 col3\" >73</td>\n",
       "      <td id=\"T_95a73_row15_col4\" class=\"data row15 col4\" >35454.490000</td>\n",
       "      <td id=\"T_95a73_row15_col5\" class=\"data row15 col5\" >95.781000</td>\n",
       "    </tr>\n",
       "    <tr>\n",
       "      <td id=\"T_95a73_row16_col0\" class=\"data row16 col0\" >n10</td>\n",
       "      <td id=\"T_95a73_row16_col1\" class=\"data row16 col1\" >Child</td>\n",
       "      <td id=\"T_95a73_row16_col2\" class=\"data row16 col2\" >None</td>\n",
       "      <td id=\"T_95a73_row16_col3\" class=\"data row16 col3\" >9</td>\n",
       "      <td id=\"T_95a73_row16_col4\" class=\"data row16 col4\" >4103.560000</td>\n",
       "      <td id=\"T_95a73_row16_col5\" class=\"data row16 col5\" >66.778000</td>\n",
       "    </tr>\n",
       "    <tr>\n",
       "      <td id=\"T_95a73_row17_col0\" class=\"data row17 col0\" >n11</td>\n",
       "      <td id=\"T_95a73_row17_col1\" class=\"data row17 col1\" >Parent</td>\n",
       "      <td id=\"T_95a73_row17_col2\" class=\"data row17 col2\" >Sales>10.62</td>\n",
       "      <td id=\"T_95a73_row17_col3\" class=\"data row17 col3\" >64</td>\n",
       "      <td id=\"T_95a73_row17_col4\" class=\"data row17 col4\" >22715.730000</td>\n",
       "      <td id=\"T_95a73_row17_col5\" class=\"data row17 col5\" >99.859000</td>\n",
       "    </tr>\n",
       "    <tr>\n",
       "      <td id=\"T_95a73_row18_col0\" class=\"data row18 col0\" >n22</td>\n",
       "      <td id=\"T_95a73_row18_col1\" class=\"data row18 col1\" >Parent</td>\n",
       "      <td id=\"T_95a73_row18_col2\" class=\"data row18 col2\" >ShelveLoc in ('Medium', 'Bad')</td>\n",
       "      <td id=\"T_95a73_row18_col3\" class=\"data row18 col3\" >45</td>\n",
       "      <td id=\"T_95a73_row18_col4\" class=\"data row18 col4\" >13589.200000</td>\n",
       "      <td id=\"T_95a73_row18_col5\" class=\"data row18 col5\" >104.867000</td>\n",
       "    </tr>\n",
       "    <tr>\n",
       "      <td id=\"T_95a73_row19_col0\" class=\"data row19 col0\" >n44</td>\n",
       "      <td id=\"T_95a73_row19_col1\" class=\"data row19 col1\" >Child</td>\n",
       "      <td id=\"T_95a73_row19_col2\" class=\"data row19 col2\" >None</td>\n",
       "      <td id=\"T_95a73_row19_col3\" class=\"data row19 col3\" >13</td>\n",
       "      <td id=\"T_95a73_row19_col4\" class=\"data row19 col4\" >3503.080000</td>\n",
       "      <td id=\"T_95a73_row19_col5\" class=\"data row19 col5\" >120.615000</td>\n",
       "    </tr>\n",
       "    <tr>\n",
       "      <td id=\"T_95a73_row20_col0\" class=\"data row20 col0\" >n45</td>\n",
       "      <td id=\"T_95a73_row20_col1\" class=\"data row20 col1\" >Child</td>\n",
       "      <td id=\"T_95a73_row20_col2\" class=\"data row20 col2\" >None</td>\n",
       "      <td id=\"T_95a73_row20_col3\" class=\"data row20 col3\" >32</td>\n",
       "      <td id=\"T_95a73_row20_col4\" class=\"data row20 col4\" >5551.970000</td>\n",
       "      <td id=\"T_95a73_row20_col5\" class=\"data row20 col5\" >98.469000</td>\n",
       "    </tr>\n",
       "    <tr>\n",
       "      <td id=\"T_95a73_row21_col0\" class=\"data row21 col0\" >n23</td>\n",
       "      <td id=\"T_95a73_row21_col1\" class=\"data row21 col1\" >Parent</td>\n",
       "      <td id=\"T_95a73_row21_col2\" class=\"data row21 col2\" >Age>36</td>\n",
       "      <td id=\"T_95a73_row21_col3\" class=\"data row21 col3\" >19</td>\n",
       "      <td id=\"T_95a73_row21_col4\" class=\"data row21 col4\" >5326.000000</td>\n",
       "      <td id=\"T_95a73_row21_col5\" class=\"data row21 col5\" >88.000000</td>\n",
       "    </tr>\n",
       "    <tr>\n",
       "      <td id=\"T_95a73_row22_col0\" class=\"data row22 col0\" >n46</td>\n",
       "      <td id=\"T_95a73_row22_col1\" class=\"data row22 col1\" >Child</td>\n",
       "      <td id=\"T_95a73_row22_col2\" class=\"data row22 col2\" >None</td>\n",
       "      <td id=\"T_95a73_row22_col3\" class=\"data row22 col3\" >7</td>\n",
       "      <td id=\"T_95a73_row22_col4\" class=\"data row22 col4\" >1481.430000</td>\n",
       "      <td id=\"T_95a73_row22_col5\" class=\"data row22 col5\" >97.286000</td>\n",
       "    </tr>\n",
       "    <tr>\n",
       "      <td id=\"T_95a73_row23_col0\" class=\"data row23 col0\" >n47</td>\n",
       "      <td id=\"T_95a73_row23_col1\" class=\"data row23 col1\" >Child</td>\n",
       "      <td id=\"T_95a73_row23_col2\" class=\"data row23 col2\" >None</td>\n",
       "      <td id=\"T_95a73_row23_col3\" class=\"data row23 col3\" >12</td>\n",
       "      <td id=\"T_95a73_row23_col4\" class=\"data row23 col4\" >2888.920000</td>\n",
       "      <td id=\"T_95a73_row23_col5\" class=\"data row23 col5\" >82.583000</td>\n",
       "    </tr>\n",
       "    <tr>\n",
       "      <td id=\"T_95a73_row24_col0\" class=\"data row24 col0\" >n3</td>\n",
       "      <td id=\"T_95a73_row24_col1\" class=\"data row24 col1\" >Parent</td>\n",
       "      <td id=\"T_95a73_row24_col2\" class=\"data row24 col2\" >Sales>7.58</td>\n",
       "      <td id=\"T_95a73_row24_col3\" class=\"data row24 col3\" >118</td>\n",
       "      <td id=\"T_95a73_row24_col4\" class=\"data row24 col4\" >48120.520000</td>\n",
       "      <td id=\"T_95a73_row24_col5\" class=\"data row24 col5\" >128.195000</td>\n",
       "    </tr>\n",
       "    <tr>\n",
       "      <td id=\"T_95a73_row25_col0\" class=\"data row25 col0\" >n6</td>\n",
       "      <td id=\"T_95a73_row25_col1\" class=\"data row25 col1\" >Parent</td>\n",
       "      <td id=\"T_95a73_row25_col2\" class=\"data row25 col2\" >CompPrice>135</td>\n",
       "      <td id=\"T_95a73_row25_col3\" class=\"data row25 col3\" >58</td>\n",
       "      <td id=\"T_95a73_row25_col4\" class=\"data row25 col4\" >17604.020000</td>\n",
       "      <td id=\"T_95a73_row25_col5\" class=\"data row25 col5\" >139.707000</td>\n",
       "    </tr>\n",
       "    <tr>\n",
       "      <td id=\"T_95a73_row26_col0\" class=\"data row26 col0\" >n12</td>\n",
       "      <td id=\"T_95a73_row26_col1\" class=\"data row26 col1\" >Parent</td>\n",
       "      <td id=\"T_95a73_row26_col2\" class=\"data row26 col2\" >Sales>4.95</td>\n",
       "      <td id=\"T_95a73_row26_col3\" class=\"data row26 col3\" >30</td>\n",
       "      <td id=\"T_95a73_row26_col4\" class=\"data row26 col4\" >5102.300000</td>\n",
       "      <td id=\"T_95a73_row26_col5\" class=\"data row26 col5\" >130.300000</td>\n",
       "    </tr>\n",
       "    <tr>\n",
       "      <td id=\"T_95a73_row27_col0\" class=\"data row27 col0\" >n24</td>\n",
       "      <td id=\"T_95a73_row27_col1\" class=\"data row27 col1\" >Child</td>\n",
       "      <td id=\"T_95a73_row27_col2\" class=\"data row27 col2\" >None</td>\n",
       "      <td id=\"T_95a73_row27_col3\" class=\"data row27 col3\" >8</td>\n",
       "      <td id=\"T_95a73_row27_col4\" class=\"data row27 col4\" >714.880000</td>\n",
       "      <td id=\"T_95a73_row27_col5\" class=\"data row27 col5\" >139.125000</td>\n",
       "    </tr>\n",
       "    <tr>\n",
       "      <td id=\"T_95a73_row28_col0\" class=\"data row28 col0\" >n25</td>\n",
       "      <td id=\"T_95a73_row28_col1\" class=\"data row28 col1\" >Parent</td>\n",
       "      <td id=\"T_95a73_row28_col2\" class=\"data row28 col2\" >Urban in 'No'</td>\n",
       "      <td id=\"T_95a73_row28_col3\" class=\"data row28 col3\" >22</td>\n",
       "      <td id=\"T_95a73_row28_col4\" class=\"data row28 col4\" >3537.820000</td>\n",
       "      <td id=\"T_95a73_row28_col5\" class=\"data row28 col5\" >127.091000</td>\n",
       "    </tr>\n",
       "    <tr>\n",
       "      <td id=\"T_95a73_row29_col0\" class=\"data row29 col0\" >n50</td>\n",
       "      <td id=\"T_95a73_row29_col1\" class=\"data row29 col1\" >Child</td>\n",
       "      <td id=\"T_95a73_row29_col2\" class=\"data row29 col2\" >None</td>\n",
       "      <td id=\"T_95a73_row29_col3\" class=\"data row29 col3\" >16</td>\n",
       "      <td id=\"T_95a73_row29_col4\" class=\"data row29 col4\" >2268.000000</td>\n",
       "      <td id=\"T_95a73_row29_col5\" class=\"data row29 col5\" >131.000000</td>\n",
       "    </tr>\n",
       "    <tr>\n",
       "      <td id=\"T_95a73_row30_col0\" class=\"data row30 col0\" >n51</td>\n",
       "      <td id=\"T_95a73_row30_col1\" class=\"data row30 col1\" >Child</td>\n",
       "      <td id=\"T_95a73_row30_col2\" class=\"data row30 col2\" >None</td>\n",
       "      <td id=\"T_95a73_row30_col3\" class=\"data row30 col3\" >6</td>\n",
       "      <td id=\"T_95a73_row30_col4\" class=\"data row30 col4\" >373.330000</td>\n",
       "      <td id=\"T_95a73_row30_col5\" class=\"data row30 col5\" >116.667000</td>\n",
       "    </tr>\n",
       "    <tr>\n",
       "      <td id=\"T_95a73_row31_col0\" class=\"data row31 col0\" >n13</td>\n",
       "      <td id=\"T_95a73_row31_col1\" class=\"data row31 col1\" >Parent</td>\n",
       "      <td id=\"T_95a73_row31_col2\" class=\"data row31 col2\" >Sales>3.47</td>\n",
       "      <td id=\"T_95a73_row31_col3\" class=\"data row31 col3\" >28</td>\n",
       "      <td id=\"T_95a73_row31_col4\" class=\"data row31 col4\" >7002.710000</td>\n",
       "      <td id=\"T_95a73_row31_col5\" class=\"data row31 col5\" >149.786000</td>\n",
       "    </tr>\n",
       "    <tr>\n",
       "      <td id=\"T_95a73_row32_col0\" class=\"data row32 col0\" >n26</td>\n",
       "      <td id=\"T_95a73_row32_col1\" class=\"data row32 col1\" >Child</td>\n",
       "      <td id=\"T_95a73_row32_col2\" class=\"data row32 col2\" >None</td>\n",
       "      <td id=\"T_95a73_row32_col3\" class=\"data row32 col3\" >5</td>\n",
       "      <td id=\"T_95a73_row32_col4\" class=\"data row32 col4\" >2173.200000</td>\n",
       "      <td id=\"T_95a73_row32_col5\" class=\"data row32 col5\" >165.400000</td>\n",
       "    </tr>\n",
       "    <tr>\n",
       "      <td id=\"T_95a73_row33_col0\" class=\"data row33 col0\" >n27</td>\n",
       "      <td id=\"T_95a73_row33_col1\" class=\"data row33 col1\" >Parent</td>\n",
       "      <td id=\"T_95a73_row33_col2\" class=\"data row33 col2\" >CompPrice>141</td>\n",
       "      <td id=\"T_95a73_row33_col3\" class=\"data row33 col3\" >23</td>\n",
       "      <td id=\"T_95a73_row33_col4\" class=\"data row33 col4\" >3345.480000</td>\n",
       "      <td id=\"T_95a73_row33_col5\" class=\"data row33 col5\" >146.391000</td>\n",
       "    </tr>\n",
       "    <tr>\n",
       "      <td id=\"T_95a73_row34_col0\" class=\"data row34 col0\" >n54</td>\n",
       "      <td id=\"T_95a73_row34_col1\" class=\"data row34 col1\" >Child</td>\n",
       "      <td id=\"T_95a73_row34_col2\" class=\"data row34 col2\" >None</td>\n",
       "      <td id=\"T_95a73_row34_col3\" class=\"data row34 col3\" >10</td>\n",
       "      <td id=\"T_95a73_row34_col4\" class=\"data row34 col4\" >661.600000</td>\n",
       "      <td id=\"T_95a73_row34_col5\" class=\"data row34 col5\" >139.200000</td>\n",
       "    </tr>\n",
       "    <tr>\n",
       "      <td id=\"T_95a73_row35_col0\" class=\"data row35 col0\" >n55</td>\n",
       "      <td id=\"T_95a73_row35_col1\" class=\"data row35 col1\" >Child</td>\n",
       "      <td id=\"T_95a73_row35_col2\" class=\"data row35 col2\" >None</td>\n",
       "      <td id=\"T_95a73_row35_col3\" class=\"data row35 col3\" >13</td>\n",
       "      <td id=\"T_95a73_row35_col4\" class=\"data row35 col4\" >1768.920000</td>\n",
       "      <td id=\"T_95a73_row35_col5\" class=\"data row35 col5\" >151.923000</td>\n",
       "    </tr>\n",
       "    <tr>\n",
       "      <td id=\"T_95a73_row36_col0\" class=\"data row36 col0\" >n7</td>\n",
       "      <td id=\"T_95a73_row36_col1\" class=\"data row36 col1\" >Parent</td>\n",
       "      <td id=\"T_95a73_row36_col2\" class=\"data row36 col2\" >CompPrice>146</td>\n",
       "      <td id=\"T_95a73_row36_col3\" class=\"data row36 col3\" >60</td>\n",
       "      <td id=\"T_95a73_row36_col4\" class=\"data row36 col4\" >15399.730000</td>\n",
       "      <td id=\"T_95a73_row36_col5\" class=\"data row36 col5\" >117.067000</td>\n",
       "    </tr>\n",
       "    <tr>\n",
       "      <td id=\"T_95a73_row37_col0\" class=\"data row37 col0\" >n14</td>\n",
       "      <td id=\"T_95a73_row37_col1\" class=\"data row37 col1\" >Parent</td>\n",
       "      <td id=\"T_95a73_row37_col2\" class=\"data row37 col2\" >Sales>11.85</td>\n",
       "      <td id=\"T_95a73_row37_col3\" class=\"data row37 col3\" >45</td>\n",
       "      <td id=\"T_95a73_row37_col4\" class=\"data row37 col4\" >8877.110000</td>\n",
       "      <td id=\"T_95a73_row37_col5\" class=\"data row37 col5\" >111.444000</td>\n",
       "    </tr>\n",
       "    <tr>\n",
       "      <td id=\"T_95a73_row38_col0\" class=\"data row38 col0\" >n29</td>\n",
       "      <td id=\"T_95a73_row38_col1\" class=\"data row38 col1\" >Child</td>\n",
       "      <td id=\"T_95a73_row38_col2\" class=\"data row38 col2\" >None</td>\n",
       "      <td id=\"T_95a73_row38_col3\" class=\"data row38 col3\" >9</td>\n",
       "      <td id=\"T_95a73_row38_col4\" class=\"data row38 col4\" >902.890000</td>\n",
       "      <td id=\"T_95a73_row38_col5\" class=\"data row38 col5\" >97.889000</td>\n",
       "    </tr>\n",
       "    <tr>\n",
       "      <td id=\"T_95a73_row39_col0\" class=\"data row39 col0\" >n28</td>\n",
       "      <td id=\"T_95a73_row39_col1\" class=\"data row39 col1\" >Parent</td>\n",
       "      <td id=\"T_95a73_row39_col2\" class=\"data row39 col2\" >ShelveLoc in ('Medium', 'Bad')</td>\n",
       "      <td id=\"T_95a73_row39_col3\" class=\"data row39 col3\" >36</td>\n",
       "      <td id=\"T_95a73_row39_col4\" class=\"data row39 col4\" >5907.000000</td>\n",
       "      <td id=\"T_95a73_row39_col5\" class=\"data row39 col5\" >114.833000</td>\n",
       "    </tr>\n",
       "    <tr>\n",
       "      <td id=\"T_95a73_row40_col0\" class=\"data row40 col0\" >n56</td>\n",
       "      <td id=\"T_95a73_row40_col1\" class=\"data row40 col1\" >Child</td>\n",
       "      <td id=\"T_95a73_row40_col2\" class=\"data row40 col2\" >None</td>\n",
       "      <td id=\"T_95a73_row40_col3\" class=\"data row40 col3\" >8</td>\n",
       "      <td id=\"T_95a73_row40_col4\" class=\"data row40 col4\" >1228.000000</td>\n",
       "      <td id=\"T_95a73_row40_col5\" class=\"data row40 col5\" >125.500000</td>\n",
       "    </tr>\n",
       "    <tr>\n",
       "      <td id=\"T_95a73_row41_col0\" class=\"data row41 col0\" >n57</td>\n",
       "      <td id=\"T_95a73_row41_col1\" class=\"data row41 col1\" >Child</td>\n",
       "      <td id=\"T_95a73_row41_col2\" class=\"data row41 col2\" >None</td>\n",
       "      <td id=\"T_95a73_row41_col3\" class=\"data row41 col3\" >28</td>\n",
       "      <td id=\"T_95a73_row41_col4\" class=\"data row41 col4\" >3508.710000</td>\n",
       "      <td id=\"T_95a73_row41_col5\" class=\"data row41 col5\" >111.786000</td>\n",
       "    </tr>\n",
       "    <tr>\n",
       "      <td id=\"T_95a73_row42_col0\" class=\"data row42 col0\" >n15</td>\n",
       "      <td id=\"T_95a73_row42_col1\" class=\"data row42 col1\" >Parent</td>\n",
       "      <td id=\"T_95a73_row42_col2\" class=\"data row42 col2\" >Income>81</td>\n",
       "      <td id=\"T_95a73_row42_col3\" class=\"data row42 col3\" >15</td>\n",
       "      <td id=\"T_95a73_row42_col4\" class=\"data row42 col4\" >832.930000</td>\n",
       "      <td id=\"T_95a73_row42_col5\" class=\"data row42 col5\" >133.933000</td>\n",
       "    </tr>\n",
       "    <tr>\n",
       "      <td id=\"T_95a73_row43_col0\" class=\"data row43 col0\" >n31</td>\n",
       "      <td id=\"T_95a73_row43_col1\" class=\"data row43 col1\" >Child</td>\n",
       "      <td id=\"T_95a73_row43_col2\" class=\"data row43 col2\" >None</td>\n",
       "      <td id=\"T_95a73_row43_col3\" class=\"data row43 col3\" >5</td>\n",
       "      <td id=\"T_95a73_row43_col4\" class=\"data row43 col4\" >130.000000</td>\n",
       "      <td id=\"T_95a73_row43_col5\" class=\"data row43 col5\" >141.000000</td>\n",
       "    </tr>\n",
       "    <tr>\n",
       "      <td id=\"T_95a73_row44_col0\" class=\"data row44 col0\" >n30</td>\n",
       "      <td id=\"T_95a73_row44_col1\" class=\"data row44 col1\" >Parent</td>\n",
       "      <td id=\"T_95a73_row44_col2\" class=\"data row44 col2\" >CompPrice>151</td>\n",
       "      <td id=\"T_95a73_row44_col3\" class=\"data row44 col3\" >10</td>\n",
       "      <td id=\"T_95a73_row44_col4\" class=\"data row44 col4\" >328.400000</td>\n",
       "      <td id=\"T_95a73_row44_col5\" class=\"data row44 col5\" >130.400000</td>\n",
       "    </tr>\n",
       "    <tr>\n",
       "      <td id=\"T_95a73_row45_col0\" class=\"data row45 col0\" >n60</td>\n",
       "      <td id=\"T_95a73_row45_col1\" class=\"data row45 col1\" >Child</td>\n",
       "      <td id=\"T_95a73_row45_col2\" class=\"data row45 col2\" >None</td>\n",
       "      <td id=\"T_95a73_row45_col3\" class=\"data row45 col3\" >5</td>\n",
       "      <td id=\"T_95a73_row45_col4\" class=\"data row45 col4\" >61.200000</td>\n",
       "      <td id=\"T_95a73_row45_col5\" class=\"data row45 col5\" >134.600000</td>\n",
       "    </tr>\n",
       "    <tr>\n",
       "      <td id=\"T_95a73_row46_col0\" class=\"data row46 col0\" >n61</td>\n",
       "      <td id=\"T_95a73_row46_col1\" class=\"data row46 col1\" >Child</td>\n",
       "      <td id=\"T_95a73_row46_col2\" class=\"data row46 col2\" >None</td>\n",
       "      <td id=\"T_95a73_row46_col3\" class=\"data row46 col3\" >5</td>\n",
       "      <td id=\"T_95a73_row46_col4\" class=\"data row46 col4\" >90.800000</td>\n",
       "      <td id=\"T_95a73_row46_col5\" class=\"data row46 col5\" >126.200000</td>\n",
       "    </tr>\n",
       "  </tbody>\n",
       "</table>\n"
      ],
      "text/plain": [
       "<pandas.io.formats.style.Styler at 0x1bf64830070>"
      ]
     },
     "execution_count": 3,
     "metadata": {},
     "output_type": "execute_result"
    }
   ],
   "source": [
    "import warnings\n",
    "warnings.filterwarnings(\"ignore\", category=FutureWarning) \n",
    "\n",
    "\n",
    "cart.print_tree(table = True, html = True).style.hide_index() #print both the pruned and non pruned tree \n"
   ]
  }
 ],
 "metadata": {
  "kernelspec": {
   "display_name": "base",
   "language": "python",
   "name": "python3"
  },
  "language_info": {
   "codemirror_mode": {
    "name": "ipython",
    "version": 3
   },
   "file_extension": ".py",
   "mimetype": "text/x-python",
   "name": "python",
   "nbconvert_exporter": "python",
   "pygments_lexer": "ipython3",
   "version": "3.8.15"
  },
  "orig_nbformat": 4
 },
 "nbformat": 4,
 "nbformat_minor": 2
}
