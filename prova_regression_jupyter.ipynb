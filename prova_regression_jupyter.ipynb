{
 "cells": [
  {
   "cell_type": "code",
   "execution_count": 1,
   "metadata": {},
   "outputs": [],
   "source": [
    "#from __future__ import annotations\n",
    "#from tkinter import N\n",
    "\n",
    "from cart import *\n",
    "\n",
    "import pandas as pd\n",
    "\n",
    "#d = dict(features, **n_features)  #merges the two dicts\n",
    "#df = pd.DataFrame(data=d)         #creates the dataframe\n",
    "\n",
    "#print(df)\n",
    "#import csv\n",
    "\n",
    "\n",
    "\n",
    "#####################################loading the carseats data#########################\n",
    "\n",
    "df=pd.read_csv('Carseats_train.csv')\n",
    "df=df.iloc[:,1:]\n",
    "\n",
    "features_names=list(df.columns)\n",
    "\n",
    "colonne=features_names[:6]\n",
    "features_name=features_names[7:9]\n",
    "features_names=colonne + features_name\n",
    "\n",
    "\n",
    "\n",
    "\n",
    "n_features_names=list(df.columns)\n",
    "columns = [(n_features_names[6])]\n",
    "n_features_name = n_features_names[9:11]\n",
    "n_features_names=columns + n_features_name\n",
    "\n",
    "\n",
    "\n",
    "\n",
    "features=df.iloc[:,0:6]\n",
    "features2=df.iloc[:,7:9]\n",
    "\n",
    "features=dict(features)\n",
    "features2=dict(features2)\n",
    "\n",
    "\n",
    "n_features=df.iloc[:,6:7]\n",
    "n_features2=df.iloc[:,9:11]\n",
    "\n",
    "\n",
    "n_features=dict(n_features)\n",
    "n_features2=dict(n_features2)\n",
    "\n",
    "features = dict(features, **features2)\n",
    "n_features = dict(n_features, **n_features2)\n",
    "\n",
    "\n",
    "#############################################################################\n",
    "\n",
    "\n",
    "#import itertools\n",
    "#from statistics import mode\n",
    "'''\n",
    "print(features,'features',type(features))\n",
    "print()\n",
    "print(features_names,'features_names')\n",
    "print()\n",
    "print(n_features,'n_features')\n",
    "print()\n",
    "print(n_features_names,'n_features_names')\n",
    "print()\n",
    "'''\n",
    "########################### y categorical #######################################\n",
    "'''\n",
    "High=[]\n",
    "for i in features['Sales']:\n",
    "    if i < 8:\n",
    "        High.append('NO')\n",
    "    else:\n",
    "        High.append('YES')\n",
    "\n",
    "High=pd.DataFrame(High)\n",
    "High=dict(High)\n",
    "High['High'] = High.pop(0)\n",
    "\n",
    "#y=High['High']\n",
    "\n",
    "#exclude_keys = ['Sales']\n",
    "\n",
    "#new_d = {k: features[k] for k in set(list(features.keys())) - set(exclude_keys)}\n",
    "#features=new_d\n",
    "\n",
    "#features_names=features_names[1:]\n",
    "'''\n",
    "\n",
    "######################y numerical#####################################\n",
    "y=features['Price']\n",
    "exclude_keys = ['Price']\n",
    "new_d = {k: features[k] for k in set(list(features.keys())) - set(exclude_keys)}\n",
    "features=new_d\n",
    "\n",
    "indici = np.arange(0, len(y))\n",
    "\n",
    "features_names3 = features_names[0:5]\n",
    "features_names4 = features_names[6:]\n",
    "features_names = features_names3 +  features_names4 \n",
    "\n",
    "#############Data Prep for prediction ############\n",
    "df_test=pd.read_csv('Carseats_test.csv')\n",
    "df_test=df_test.iloc[:,1:]\n",
    "\n",
    "\n",
    "features_test=df_test.iloc[:,0:6]\n",
    "features2_test=df_test.iloc[:,7:9]\n",
    "\n",
    "features_test=dict(features_test)\n",
    "features2_test=dict(features2_test)\n",
    "\n",
    "\n",
    "n_features_test=df_test.iloc[:,6:7]\n",
    "n_features2_test=df_test.iloc[:,9:11]\n",
    "\n",
    "\n",
    "n_features_test=dict(n_features_test)\n",
    "n_features2_test=dict(n_features2_test)\n",
    "\n",
    "features_test = dict(features_test, **features2_test)\n",
    "n_features_test = dict(n_features_test, **n_features2_test)\n",
    "\n",
    "y_test=features_test['Price']\n",
    "\n",
    "y_test = y_test.tolist()\n",
    "\n",
    "del features_test[\"Price\"]   \n",
    "\n",
    "#impurity = impurity_fn('MSE') # chhose the simplest impurity functin (for regression tree)\n",
    "\n",
    "#impurity = Impurity (\"MSE\")\n",
    "# start a tree structure by instantiating its root\n",
    "#print(\"features\", features)\n",
    "#print(\"features_names\", features_names)\n",
    "#print(\"n_features\", n_features)\n",
    "#print(\"n_features_names\", n_features_names)\n",
    "\n",
    "\n",
    "\n",
    "############Program Running\n",
    "\n",
    "\n",
    "###User Defined Function \n",
    "\n",
    "\n",
    "\n",
    "#when definining a funcion please be aware we are using purity gain or information gain or greatest difference between variance, all positive aspects \n",
    "#adding user_defined as a possible impurity_fn and added user_impur to carry that function \n",
    "def user_fn(self, node): #impur just takes node in CART\n",
    "    \n",
    "    return (mean(self.y[node.indexes])**2)*len(self.y[node.indexes])\n",
    "\n",
    "\n",
    "\n",
    "\n"
   ]
  },
  {
   "cell_type": "code",
   "execution_count": 2,
   "metadata": {},
   "outputs": [
    {
     "name": "stdout",
     "output_type": "stream",
     "text": [
      "Split Found:  n1 [['Sales', 7.54, 0.17589235831460692, 0]] start\n",
      "node_proportion_total  0.17526417132062652\n",
      "Split Found:  n2 [['Sales', 0.91, 0.09046547352009915, 1]] left\n",
      "node_proportion_total  0.21142815871239193\n",
      "Node_proportion_gain  0.036163987391765406\n",
      "Node Search Split Error for:  n4 with obs in node:  5  which is less than minimum parent size:  10\n",
      "TypeError\n",
      "Split Found:  n5 [['Sales', 2.93, 0.021926958017563947, 2]] right\n",
      "node_proportion_total  0.21885822325814283\n",
      "Node_proportion_gain  0.007430064545750903\n",
      "Node Search Split Error for:  n10 with obs in node:  9  which is less than minimum parent size:  10\n",
      "TypeError\n",
      "Split Found:  n11 [['Sales', 7.44, 0.017555029134579847, 3]] right\n",
      "node_proportion_total  0.22442244120066246\n",
      "Node_proportion_gain  0.005564217942519628\n",
      "Split Found:  n22 [['Population', 94, 0.012984683899263327, 4]] left\n",
      "node_proportion_total  0.22839668474774674\n",
      "Node_proportion_gain  0.003974243547084283\n",
      "Node Search Split Error for:  n23 with obs in node:  5  which is less than minimum parent size:  10\n",
      "TypeError\n",
      "Split Found:  n3 [['Sales', 9.7, 0.0745292654345946, 1]] right\n",
      "node_proportion_total  0.2598040490706443\n",
      "Node_proportion_gain  0.03140736432289756\n",
      "Split Found:  n6 [['Sales', 7.78, 0.08737021546795953, 2]] left\n",
      "node_proportion_total  0.2778718307865619\n",
      "Node_proportion_gain  0.018067781715917608\n",
      "Split Found:  n12 [['Population', 260, 0.07345200502206672, 3]] left\n",
      "node_proportion_total  0.2797747599538834\n",
      "Node_proportion_gain  0.0019029291673214876\n",
      "Node Search Split Error for:  n24 with obs in node:  5  which is less than minimum parent size:  10\n",
      "TypeError\n",
      "Node Search Split Error for:  n25 with obs in node:  8  which is less than minimum parent size:  10\n",
      "TypeError\n",
      "Split Found:  n13 [['Sales', 9.46, 0.06413338313851102, 3]] right\n",
      "node_proportion_total  0.2902170069272548\n",
      "Node_proportion_gain  0.010442246973371372\n",
      "Split Found:  n26 [['Sales', 9.31, 0.0684775765615786, 4]] left\n",
      "node_proportion_total  0.30053949875413644\n",
      "Node_proportion_gain  0.010322491826881663\n",
      "Node Search Split Error for:  n27 with obs in node:  6  which is less than minimum parent size:  10\n",
      "TypeError\n",
      "Split Found:  n7 [['Population', 29, 0.13543013968295436, 2]] right\n",
      "node_proportion_total  0.3253512201348399\n",
      "Node_proportion_gain  0.024811721380703478\n",
      "Node Search Split Error for:  n14 with obs in node:  6  which is less than minimum parent size:  10\n",
      "TypeError\n",
      "Split Found:  n15 [['CompPrice', 146, 0.37706524165800315, 3]] right\n",
      "node_proportion_total  0.374867409653277\n",
      "Node_proportion_gain  0.04951618951843706\n",
      "Split Found:  n30 [['Income', 113, 0.07951121801206396, 4]] left\n",
      "node_proportion_total  0.3811539527830913\n",
      "Node_proportion_gain  0.006286543129814304\n",
      "Node Search Split Error for:  n31 with obs in node:  6  which is less than minimum parent size:  10\n",
      "TypeError\n"
     ]
    },
    {
     "data": {
      "text/plain": [
       "((None, (None, ((None, None), None))),\n",
       " (((None, None), ((None, None), None)), (None, ((None, None), None))))"
      ]
     },
     "execution_count": 2,
     "metadata": {},
     "output_type": "execute_result"
    }
   ],
   "source": [
    "my_tree = MyNodeClass('n1', indici) \n",
    "\n",
    "cart = CART(y,features,features_names,n_features,n_features_names, impurity_fn = \"pearson\", problem=\"regression\", method = \"TWO-STAGE\",  min_cases_parent= 10,min_cases_child= 5, max_level = 4, twoing = False, min_imp_gain = 0.0001)\n",
    "\n",
    "cart.growing_tree(my_tree, max_k = 1)\n",
    "\n"
   ]
  },
  {
   "cell_type": "code",
   "execution_count": 3,
   "metadata": {},
   "outputs": [
    {
     "data": {
      "text/plain": [
       "111"
      ]
     },
     "execution_count": 3,
     "metadata": {},
     "output_type": "execute_result"
    }
   ],
   "source": [
    "features[\"CompPrice\"][1]"
   ]
  },
  {
   "cell_type": "code",
   "execution_count": 4,
   "metadata": {},
   "outputs": [
    {
     "data": {
      "text/plain": [
       "(162, 118)"
      ]
     },
     "execution_count": 4,
     "metadata": {},
     "output_type": "execute_result"
    }
   ],
   "source": [
    "features[\"CompPrice\"]\n",
    "\n",
    "countleft = 0 \n",
    "countright = 0 \n",
    "for i in range(features[\"CompPrice\"].shape[0]):\n",
    "    if features[\"CompPrice\"][i] > 127:\n",
    "        countright +=1 #true\n",
    "    else:\n",
    "        countleft +=1 #false\n",
    "\n",
    "countleft, countright"
   ]
  },
  {
   "cell_type": "code",
   "execution_count": 5,
   "metadata": {},
   "outputs": [
    {
     "data": {
      "application/vnd.plotly.v1+json": {
       "config": {
        "plotlyServerURL": "https://plot.ly"
       },
       "data": [
        {
         "hoverinfo": "none",
         "line": {
          "color": "rgb(210,210,210)",
          "width": 1
         },
         "mode": "lines",
         "type": "scatter",
         "x": [
          0,
          -7.9375,
          null,
          0,
          7.9375,
          null,
          -7.9375,
          -11.9375,
          null,
          -7.9375,
          -3.9375,
          null,
          7.9375,
          4.0625,
          null,
          7.9375,
          11.8125,
          null,
          -3.9375,
          -5.9375,
          null,
          -3.9375,
          -1.9375,
          null,
          4.0625,
          2.0625,
          null,
          4.0625,
          6.0625,
          null,
          11.8125,
          10.0625,
          null,
          11.8125,
          13.5625,
          null,
          -1.9375,
          -2.9375,
          null,
          -1.9375,
          -0.9375,
          null,
          2.0625,
          1.0625,
          null,
          2.0625,
          3.0625,
          null,
          6.0625,
          5.0625,
          null,
          6.0625,
          7.0625,
          null,
          13.5625,
          13.0625,
          null,
          13.5625,
          14.0625,
          null,
          -2.9375,
          -3.4375,
          null,
          -2.9375,
          -2.4375,
          null,
          5.0625,
          4.5625,
          null,
          5.0625,
          5.5625,
          null,
          13.0625,
          12.5625,
          null,
          13.0625,
          13.5625,
          null
         ],
         "y": [
          8,
          7,
          null,
          8,
          7,
          null,
          7,
          6,
          null,
          7,
          6,
          null,
          7,
          6,
          null,
          7,
          6,
          null,
          6,
          5,
          null,
          6,
          5,
          null,
          6,
          5,
          null,
          6,
          5,
          null,
          6,
          5,
          null,
          6,
          5,
          null,
          5,
          4,
          null,
          5,
          4,
          null,
          5,
          4,
          null,
          5,
          4,
          null,
          5,
          4,
          null,
          5,
          4,
          null,
          5,
          4,
          null,
          5,
          4,
          null,
          4,
          3,
          null,
          4,
          3,
          null,
          4,
          3,
          null,
          4,
          3,
          null,
          4,
          3,
          null,
          4,
          3,
          null
         ]
        },
        {
         "hoverinfo": "text",
         "marker": {
          "color": "#6175c1",
          "line": {
           "color": "rgb(50,50,50)",
           "width": 1
          },
          "size": 18,
          "symbol": "circle-dot"
         },
         "mode": "markers",
         "name": "Nodes",
         "opacity": 0.8,
         "text": [
          "n4, None, Bin Value: 158.2, pearson : 3860.8, Samples : 5",
          "n10, None, Bin Value: 135, pearson : 2258, Samples : 9",
          "n23, None, Bin Value: 136.2, pearson : 830.8, Samples : 5",
          "n44, None, Bin Value: 117.65, pearson : 6550.55, Samples : 20",
          "n45, None, Bin Value: 123.71, pearson : 40602.1, Samples : 108",
          "n24, None, Bin Value: 90.8, pearson : 1276.8, Samples : 5",
          "n25, None, Bin Value: 100.62, pearson : 2469.88, Samples : 8",
          "n27, None, Bin Value: 128.67, pearson : 255.33, Samples : 6",
          "n52, None, Bin Value: 113.09, pearson : 17214.55, Samples : 55",
          "n53, None, Bin Value: 95.83, pearson : 4702.83, Samples : 6",
          "n14, None, Bin Value: 74, pearson : 4226, Samples : 6",
          "n31, None, Bin Value: 134.5, pearson : 427.5, Samples : 6",
          "n60, None, Bin Value: 94.25, pearson : 10528.75, Samples : 36",
          "n61, None, Bin Value: 109.2, pearson : 830.8, Samples : 5",
          "n1, Sales>7.54, Bin Value: 115.78, pearson : 155526.82, Samples : 280",
          "n2, Sales>0.91, Bin Value: 125.18, pearson : 62395.4, Samples : 147",
          "n5, Sales>2.93, Bin Value: 124.01, pearson : 52889.97, Samples : 142",
          "n11, Sales>7.44, Bin Value: 123.27, pearson : 49472.26, Samples : 133",
          "n22, Population>94, Bin Value: 122.77, pearson : 47772.97, Samples : 128",
          "n3, Sales>9.7, Bin Value: 105.38, pearson : 65775.44, Samples : 133",
          "n6, Sales>7.78, Bin Value: 110.33, pearson : 32277.55, Samples : 80",
          "n12, Population>260, Bin Value: 96.85, pearson : 4043.69, Samples : 13",
          "n13, Sales>9.46, Bin Value: 112.94, pearson : 25413.76, Samples : 67",
          "n26, Sales>9.31, Bin Value: 111.39, pearson : 23528.56, Samples : 61",
          "n7, Population>29, Bin Value: 97.92, pearson : 28595.7, Samples : 53",
          "n15, CompPrice>146, Bin Value: 100.98, pearson : 20496.98, Samples : 47",
          "n30, Income>113, Bin Value: 96.07, pearson : 12340.78, Samples : 41"
         ],
         "type": "scatter",
         "x": [
          -11.9375,
          -5.9375,
          -0.9375,
          -3.4375,
          -2.4375,
          1.0625,
          3.0625,
          7.0625,
          4.5625,
          5.5625,
          10.0625,
          14.0625,
          12.5625,
          13.5625,
          0,
          -7.9375,
          -3.9375,
          -1.9375,
          -2.9375,
          7.9375,
          4.0625,
          2.0625,
          6.0625,
          5.0625,
          11.8125,
          13.5625,
          13.0625
         ],
         "y": [
          6,
          5,
          4,
          3,
          3,
          4,
          4,
          4,
          3,
          3,
          5,
          4,
          3,
          3,
          8,
          7,
          6,
          5,
          4,
          7,
          6,
          5,
          5,
          4,
          6,
          5,
          4
         ]
        }
       ],
       "layout": {
        "template": {
         "data": {
          "bar": [
           {
            "error_x": {
             "color": "#2a3f5f"
            },
            "error_y": {
             "color": "#2a3f5f"
            },
            "marker": {
             "line": {
              "color": "#E5ECF6",
              "width": 0.5
             },
             "pattern": {
              "fillmode": "overlay",
              "size": 10,
              "solidity": 0.2
             }
            },
            "type": "bar"
           }
          ],
          "barpolar": [
           {
            "marker": {
             "line": {
              "color": "#E5ECF6",
              "width": 0.5
             },
             "pattern": {
              "fillmode": "overlay",
              "size": 10,
              "solidity": 0.2
             }
            },
            "type": "barpolar"
           }
          ],
          "carpet": [
           {
            "aaxis": {
             "endlinecolor": "#2a3f5f",
             "gridcolor": "white",
             "linecolor": "white",
             "minorgridcolor": "white",
             "startlinecolor": "#2a3f5f"
            },
            "baxis": {
             "endlinecolor": "#2a3f5f",
             "gridcolor": "white",
             "linecolor": "white",
             "minorgridcolor": "white",
             "startlinecolor": "#2a3f5f"
            },
            "type": "carpet"
           }
          ],
          "choropleth": [
           {
            "colorbar": {
             "outlinewidth": 0,
             "ticks": ""
            },
            "type": "choropleth"
           }
          ],
          "contour": [
           {
            "colorbar": {
             "outlinewidth": 0,
             "ticks": ""
            },
            "colorscale": [
             [
              0,
              "#0d0887"
             ],
             [
              0.1111111111111111,
              "#46039f"
             ],
             [
              0.2222222222222222,
              "#7201a8"
             ],
             [
              0.3333333333333333,
              "#9c179e"
             ],
             [
              0.4444444444444444,
              "#bd3786"
             ],
             [
              0.5555555555555556,
              "#d8576b"
             ],
             [
              0.6666666666666666,
              "#ed7953"
             ],
             [
              0.7777777777777778,
              "#fb9f3a"
             ],
             [
              0.8888888888888888,
              "#fdca26"
             ],
             [
              1,
              "#f0f921"
             ]
            ],
            "type": "contour"
           }
          ],
          "contourcarpet": [
           {
            "colorbar": {
             "outlinewidth": 0,
             "ticks": ""
            },
            "type": "contourcarpet"
           }
          ],
          "heatmap": [
           {
            "colorbar": {
             "outlinewidth": 0,
             "ticks": ""
            },
            "colorscale": [
             [
              0,
              "#0d0887"
             ],
             [
              0.1111111111111111,
              "#46039f"
             ],
             [
              0.2222222222222222,
              "#7201a8"
             ],
             [
              0.3333333333333333,
              "#9c179e"
             ],
             [
              0.4444444444444444,
              "#bd3786"
             ],
             [
              0.5555555555555556,
              "#d8576b"
             ],
             [
              0.6666666666666666,
              "#ed7953"
             ],
             [
              0.7777777777777778,
              "#fb9f3a"
             ],
             [
              0.8888888888888888,
              "#fdca26"
             ],
             [
              1,
              "#f0f921"
             ]
            ],
            "type": "heatmap"
           }
          ],
          "heatmapgl": [
           {
            "colorbar": {
             "outlinewidth": 0,
             "ticks": ""
            },
            "colorscale": [
             [
              0,
              "#0d0887"
             ],
             [
              0.1111111111111111,
              "#46039f"
             ],
             [
              0.2222222222222222,
              "#7201a8"
             ],
             [
              0.3333333333333333,
              "#9c179e"
             ],
             [
              0.4444444444444444,
              "#bd3786"
             ],
             [
              0.5555555555555556,
              "#d8576b"
             ],
             [
              0.6666666666666666,
              "#ed7953"
             ],
             [
              0.7777777777777778,
              "#fb9f3a"
             ],
             [
              0.8888888888888888,
              "#fdca26"
             ],
             [
              1,
              "#f0f921"
             ]
            ],
            "type": "heatmapgl"
           }
          ],
          "histogram": [
           {
            "marker": {
             "pattern": {
              "fillmode": "overlay",
              "size": 10,
              "solidity": 0.2
             }
            },
            "type": "histogram"
           }
          ],
          "histogram2d": [
           {
            "colorbar": {
             "outlinewidth": 0,
             "ticks": ""
            },
            "colorscale": [
             [
              0,
              "#0d0887"
             ],
             [
              0.1111111111111111,
              "#46039f"
             ],
             [
              0.2222222222222222,
              "#7201a8"
             ],
             [
              0.3333333333333333,
              "#9c179e"
             ],
             [
              0.4444444444444444,
              "#bd3786"
             ],
             [
              0.5555555555555556,
              "#d8576b"
             ],
             [
              0.6666666666666666,
              "#ed7953"
             ],
             [
              0.7777777777777778,
              "#fb9f3a"
             ],
             [
              0.8888888888888888,
              "#fdca26"
             ],
             [
              1,
              "#f0f921"
             ]
            ],
            "type": "histogram2d"
           }
          ],
          "histogram2dcontour": [
           {
            "colorbar": {
             "outlinewidth": 0,
             "ticks": ""
            },
            "colorscale": [
             [
              0,
              "#0d0887"
             ],
             [
              0.1111111111111111,
              "#46039f"
             ],
             [
              0.2222222222222222,
              "#7201a8"
             ],
             [
              0.3333333333333333,
              "#9c179e"
             ],
             [
              0.4444444444444444,
              "#bd3786"
             ],
             [
              0.5555555555555556,
              "#d8576b"
             ],
             [
              0.6666666666666666,
              "#ed7953"
             ],
             [
              0.7777777777777778,
              "#fb9f3a"
             ],
             [
              0.8888888888888888,
              "#fdca26"
             ],
             [
              1,
              "#f0f921"
             ]
            ],
            "type": "histogram2dcontour"
           }
          ],
          "mesh3d": [
           {
            "colorbar": {
             "outlinewidth": 0,
             "ticks": ""
            },
            "type": "mesh3d"
           }
          ],
          "parcoords": [
           {
            "line": {
             "colorbar": {
              "outlinewidth": 0,
              "ticks": ""
             }
            },
            "type": "parcoords"
           }
          ],
          "pie": [
           {
            "automargin": true,
            "type": "pie"
           }
          ],
          "scatter": [
           {
            "fillpattern": {
             "fillmode": "overlay",
             "size": 10,
             "solidity": 0.2
            },
            "type": "scatter"
           }
          ],
          "scatter3d": [
           {
            "line": {
             "colorbar": {
              "outlinewidth": 0,
              "ticks": ""
             }
            },
            "marker": {
             "colorbar": {
              "outlinewidth": 0,
              "ticks": ""
             }
            },
            "type": "scatter3d"
           }
          ],
          "scattercarpet": [
           {
            "marker": {
             "colorbar": {
              "outlinewidth": 0,
              "ticks": ""
             }
            },
            "type": "scattercarpet"
           }
          ],
          "scattergeo": [
           {
            "marker": {
             "colorbar": {
              "outlinewidth": 0,
              "ticks": ""
             }
            },
            "type": "scattergeo"
           }
          ],
          "scattergl": [
           {
            "marker": {
             "colorbar": {
              "outlinewidth": 0,
              "ticks": ""
             }
            },
            "type": "scattergl"
           }
          ],
          "scattermapbox": [
           {
            "marker": {
             "colorbar": {
              "outlinewidth": 0,
              "ticks": ""
             }
            },
            "type": "scattermapbox"
           }
          ],
          "scatterpolar": [
           {
            "marker": {
             "colorbar": {
              "outlinewidth": 0,
              "ticks": ""
             }
            },
            "type": "scatterpolar"
           }
          ],
          "scatterpolargl": [
           {
            "marker": {
             "colorbar": {
              "outlinewidth": 0,
              "ticks": ""
             }
            },
            "type": "scatterpolargl"
           }
          ],
          "scatterternary": [
           {
            "marker": {
             "colorbar": {
              "outlinewidth": 0,
              "ticks": ""
             }
            },
            "type": "scatterternary"
           }
          ],
          "surface": [
           {
            "colorbar": {
             "outlinewidth": 0,
             "ticks": ""
            },
            "colorscale": [
             [
              0,
              "#0d0887"
             ],
             [
              0.1111111111111111,
              "#46039f"
             ],
             [
              0.2222222222222222,
              "#7201a8"
             ],
             [
              0.3333333333333333,
              "#9c179e"
             ],
             [
              0.4444444444444444,
              "#bd3786"
             ],
             [
              0.5555555555555556,
              "#d8576b"
             ],
             [
              0.6666666666666666,
              "#ed7953"
             ],
             [
              0.7777777777777778,
              "#fb9f3a"
             ],
             [
              0.8888888888888888,
              "#fdca26"
             ],
             [
              1,
              "#f0f921"
             ]
            ],
            "type": "surface"
           }
          ],
          "table": [
           {
            "cells": {
             "fill": {
              "color": "#EBF0F8"
             },
             "line": {
              "color": "white"
             }
            },
            "header": {
             "fill": {
              "color": "#C8D4E3"
             },
             "line": {
              "color": "white"
             }
            },
            "type": "table"
           }
          ]
         },
         "layout": {
          "annotationdefaults": {
           "arrowcolor": "#2a3f5f",
           "arrowhead": 0,
           "arrowwidth": 1
          },
          "autotypenumbers": "strict",
          "coloraxis": {
           "colorbar": {
            "outlinewidth": 0,
            "ticks": ""
           }
          },
          "colorscale": {
           "diverging": [
            [
             0,
             "#8e0152"
            ],
            [
             0.1,
             "#c51b7d"
            ],
            [
             0.2,
             "#de77ae"
            ],
            [
             0.3,
             "#f1b6da"
            ],
            [
             0.4,
             "#fde0ef"
            ],
            [
             0.5,
             "#f7f7f7"
            ],
            [
             0.6,
             "#e6f5d0"
            ],
            [
             0.7,
             "#b8e186"
            ],
            [
             0.8,
             "#7fbc41"
            ],
            [
             0.9,
             "#4d9221"
            ],
            [
             1,
             "#276419"
            ]
           ],
           "sequential": [
            [
             0,
             "#0d0887"
            ],
            [
             0.1111111111111111,
             "#46039f"
            ],
            [
             0.2222222222222222,
             "#7201a8"
            ],
            [
             0.3333333333333333,
             "#9c179e"
            ],
            [
             0.4444444444444444,
             "#bd3786"
            ],
            [
             0.5555555555555556,
             "#d8576b"
            ],
            [
             0.6666666666666666,
             "#ed7953"
            ],
            [
             0.7777777777777778,
             "#fb9f3a"
            ],
            [
             0.8888888888888888,
             "#fdca26"
            ],
            [
             1,
             "#f0f921"
            ]
           ],
           "sequentialminus": [
            [
             0,
             "#0d0887"
            ],
            [
             0.1111111111111111,
             "#46039f"
            ],
            [
             0.2222222222222222,
             "#7201a8"
            ],
            [
             0.3333333333333333,
             "#9c179e"
            ],
            [
             0.4444444444444444,
             "#bd3786"
            ],
            [
             0.5555555555555556,
             "#d8576b"
            ],
            [
             0.6666666666666666,
             "#ed7953"
            ],
            [
             0.7777777777777778,
             "#fb9f3a"
            ],
            [
             0.8888888888888888,
             "#fdca26"
            ],
            [
             1,
             "#f0f921"
            ]
           ]
          },
          "colorway": [
           "#636efa",
           "#EF553B",
           "#00cc96",
           "#ab63fa",
           "#FFA15A",
           "#19d3f3",
           "#FF6692",
           "#B6E880",
           "#FF97FF",
           "#FECB52"
          ],
          "font": {
           "color": "#2a3f5f"
          },
          "geo": {
           "bgcolor": "white",
           "lakecolor": "white",
           "landcolor": "#E5ECF6",
           "showlakes": true,
           "showland": true,
           "subunitcolor": "white"
          },
          "hoverlabel": {
           "align": "left"
          },
          "hovermode": "closest",
          "mapbox": {
           "style": "light"
          },
          "paper_bgcolor": "white",
          "plot_bgcolor": "#E5ECF6",
          "polar": {
           "angularaxis": {
            "gridcolor": "white",
            "linecolor": "white",
            "ticks": ""
           },
           "bgcolor": "#E5ECF6",
           "radialaxis": {
            "gridcolor": "white",
            "linecolor": "white",
            "ticks": ""
           }
          },
          "scene": {
           "xaxis": {
            "backgroundcolor": "#E5ECF6",
            "gridcolor": "white",
            "gridwidth": 2,
            "linecolor": "white",
            "showbackground": true,
            "ticks": "",
            "zerolinecolor": "white"
           },
           "yaxis": {
            "backgroundcolor": "#E5ECF6",
            "gridcolor": "white",
            "gridwidth": 2,
            "linecolor": "white",
            "showbackground": true,
            "ticks": "",
            "zerolinecolor": "white"
           },
           "zaxis": {
            "backgroundcolor": "#E5ECF6",
            "gridcolor": "white",
            "gridwidth": 2,
            "linecolor": "white",
            "showbackground": true,
            "ticks": "",
            "zerolinecolor": "white"
           }
          },
          "shapedefaults": {
           "line": {
            "color": "#2a3f5f"
           }
          },
          "ternary": {
           "aaxis": {
            "gridcolor": "white",
            "linecolor": "white",
            "ticks": ""
           },
           "baxis": {
            "gridcolor": "white",
            "linecolor": "white",
            "ticks": ""
           },
           "bgcolor": "#E5ECF6",
           "caxis": {
            "gridcolor": "white",
            "linecolor": "white",
            "ticks": ""
           }
          },
          "title": {
           "x": 0.05
          },
          "xaxis": {
           "automargin": true,
           "gridcolor": "white",
           "linecolor": "white",
           "ticks": "",
           "title": {
            "standoff": 15
           },
           "zerolinecolor": "white",
           "zerolinewidth": 2
          },
          "yaxis": {
           "automargin": true,
           "gridcolor": "white",
           "linecolor": "white",
           "ticks": "",
           "title": {
            "standoff": 15
           },
           "zerolinecolor": "white",
           "zerolinewidth": 2
          }
         }
        },
        "title": {
         "text": "CART_tree"
        }
       }
      }
     },
     "metadata": {},
     "output_type": "display_data"
    },
    {
     "data": {
      "text/html": [
       "<style type=\"text/css\">\n",
       "</style>\n",
       "<table id=\"T_0e093\">\n",
       "  <thead>\n",
       "    <tr>\n",
       "      <th id=\"T_0e093_level0_col0\" class=\"col_heading level0 col0\" >Node</th>\n",
       "      <th id=\"T_0e093_level0_col1\" class=\"col_heading level0 col1\" >Node_type</th>\n",
       "      <th id=\"T_0e093_level0_col2\" class=\"col_heading level0 col2\" >Variable_Split</th>\n",
       "      <th id=\"T_0e093_level0_col3\" class=\"col_heading level0 col3\" >n</th>\n",
       "      <th id=\"T_0e093_level0_col4\" class=\"col_heading level0 col4\" >Impurity_Value</th>\n",
       "      <th id=\"T_0e093_level0_col5\" class=\"col_heading level0 col5\" >Class/Value</th>\n",
       "    </tr>\n",
       "  </thead>\n",
       "  <tbody>\n",
       "    <tr>\n",
       "      <td id=\"T_0e093_row0_col0\" class=\"data row0 col0\" >n1</td>\n",
       "      <td id=\"T_0e093_row0_col1\" class=\"data row0 col1\" >Parent</td>\n",
       "      <td id=\"T_0e093_row0_col2\" class=\"data row0 col2\" >Sales>7.54</td>\n",
       "      <td id=\"T_0e093_row0_col3\" class=\"data row0 col3\" >280</td>\n",
       "      <td id=\"T_0e093_row0_col4\" class=\"data row0 col4\" >155526.820000</td>\n",
       "      <td id=\"T_0e093_row0_col5\" class=\"data row0 col5\" >115.775000</td>\n",
       "    </tr>\n",
       "    <tr>\n",
       "      <td id=\"T_0e093_row1_col0\" class=\"data row1 col0\" >n2</td>\n",
       "      <td id=\"T_0e093_row1_col1\" class=\"data row1 col1\" >Parent</td>\n",
       "      <td id=\"T_0e093_row1_col2\" class=\"data row1 col2\" >Sales>0.91</td>\n",
       "      <td id=\"T_0e093_row1_col3\" class=\"data row1 col3\" >147</td>\n",
       "      <td id=\"T_0e093_row1_col4\" class=\"data row1 col4\" >62395.400000</td>\n",
       "      <td id=\"T_0e093_row1_col5\" class=\"data row1 col5\" >125.177000</td>\n",
       "    </tr>\n",
       "    <tr>\n",
       "      <td id=\"T_0e093_row2_col0\" class=\"data row2 col0\" >n4</td>\n",
       "      <td id=\"T_0e093_row2_col1\" class=\"data row2 col1\" >Child</td>\n",
       "      <td id=\"T_0e093_row2_col2\" class=\"data row2 col2\" >None</td>\n",
       "      <td id=\"T_0e093_row2_col3\" class=\"data row2 col3\" >5</td>\n",
       "      <td id=\"T_0e093_row2_col4\" class=\"data row2 col4\" >3860.800000</td>\n",
       "      <td id=\"T_0e093_row2_col5\" class=\"data row2 col5\" >158.200000</td>\n",
       "    </tr>\n",
       "    <tr>\n",
       "      <td id=\"T_0e093_row3_col0\" class=\"data row3 col0\" >n5</td>\n",
       "      <td id=\"T_0e093_row3_col1\" class=\"data row3 col1\" >Parent</td>\n",
       "      <td id=\"T_0e093_row3_col2\" class=\"data row3 col2\" >Sales>2.93</td>\n",
       "      <td id=\"T_0e093_row3_col3\" class=\"data row3 col3\" >142</td>\n",
       "      <td id=\"T_0e093_row3_col4\" class=\"data row3 col4\" >52889.970000</td>\n",
       "      <td id=\"T_0e093_row3_col5\" class=\"data row3 col5\" >124.014000</td>\n",
       "    </tr>\n",
       "    <tr>\n",
       "      <td id=\"T_0e093_row4_col0\" class=\"data row4 col0\" >n10</td>\n",
       "      <td id=\"T_0e093_row4_col1\" class=\"data row4 col1\" >Child</td>\n",
       "      <td id=\"T_0e093_row4_col2\" class=\"data row4 col2\" >None</td>\n",
       "      <td id=\"T_0e093_row4_col3\" class=\"data row4 col3\" >9</td>\n",
       "      <td id=\"T_0e093_row4_col4\" class=\"data row4 col4\" >2258.000000</td>\n",
       "      <td id=\"T_0e093_row4_col5\" class=\"data row4 col5\" >135.000000</td>\n",
       "    </tr>\n",
       "    <tr>\n",
       "      <td id=\"T_0e093_row5_col0\" class=\"data row5 col0\" >n11</td>\n",
       "      <td id=\"T_0e093_row5_col1\" class=\"data row5 col1\" >Parent</td>\n",
       "      <td id=\"T_0e093_row5_col2\" class=\"data row5 col2\" >Sales>7.44</td>\n",
       "      <td id=\"T_0e093_row5_col3\" class=\"data row5 col3\" >133</td>\n",
       "      <td id=\"T_0e093_row5_col4\" class=\"data row5 col4\" >49472.260000</td>\n",
       "      <td id=\"T_0e093_row5_col5\" class=\"data row5 col5\" >123.271000</td>\n",
       "    </tr>\n",
       "    <tr>\n",
       "      <td id=\"T_0e093_row6_col0\" class=\"data row6 col0\" >n23</td>\n",
       "      <td id=\"T_0e093_row6_col1\" class=\"data row6 col1\" >Child</td>\n",
       "      <td id=\"T_0e093_row6_col2\" class=\"data row6 col2\" >None</td>\n",
       "      <td id=\"T_0e093_row6_col3\" class=\"data row6 col3\" >5</td>\n",
       "      <td id=\"T_0e093_row6_col4\" class=\"data row6 col4\" >830.800000</td>\n",
       "      <td id=\"T_0e093_row6_col5\" class=\"data row6 col5\" >136.200000</td>\n",
       "    </tr>\n",
       "    <tr>\n",
       "      <td id=\"T_0e093_row7_col0\" class=\"data row7 col0\" >n22</td>\n",
       "      <td id=\"T_0e093_row7_col1\" class=\"data row7 col1\" >Parent</td>\n",
       "      <td id=\"T_0e093_row7_col2\" class=\"data row7 col2\" >Population>94</td>\n",
       "      <td id=\"T_0e093_row7_col3\" class=\"data row7 col3\" >128</td>\n",
       "      <td id=\"T_0e093_row7_col4\" class=\"data row7 col4\" >47772.970000</td>\n",
       "      <td id=\"T_0e093_row7_col5\" class=\"data row7 col5\" >122.766000</td>\n",
       "    </tr>\n",
       "    <tr>\n",
       "      <td id=\"T_0e093_row8_col0\" class=\"data row8 col0\" >n44</td>\n",
       "      <td id=\"T_0e093_row8_col1\" class=\"data row8 col1\" >Child</td>\n",
       "      <td id=\"T_0e093_row8_col2\" class=\"data row8 col2\" >None</td>\n",
       "      <td id=\"T_0e093_row8_col3\" class=\"data row8 col3\" >20</td>\n",
       "      <td id=\"T_0e093_row8_col4\" class=\"data row8 col4\" >6550.550000</td>\n",
       "      <td id=\"T_0e093_row8_col5\" class=\"data row8 col5\" >117.650000</td>\n",
       "    </tr>\n",
       "    <tr>\n",
       "      <td id=\"T_0e093_row9_col0\" class=\"data row9 col0\" >n45</td>\n",
       "      <td id=\"T_0e093_row9_col1\" class=\"data row9 col1\" >Child</td>\n",
       "      <td id=\"T_0e093_row9_col2\" class=\"data row9 col2\" >None</td>\n",
       "      <td id=\"T_0e093_row9_col3\" class=\"data row9 col3\" >108</td>\n",
       "      <td id=\"T_0e093_row9_col4\" class=\"data row9 col4\" >40602.100000</td>\n",
       "      <td id=\"T_0e093_row9_col5\" class=\"data row9 col5\" >123.713000</td>\n",
       "    </tr>\n",
       "    <tr>\n",
       "      <td id=\"T_0e093_row10_col0\" class=\"data row10 col0\" >n3</td>\n",
       "      <td id=\"T_0e093_row10_col1\" class=\"data row10 col1\" >Parent</td>\n",
       "      <td id=\"T_0e093_row10_col2\" class=\"data row10 col2\" >Sales>9.7</td>\n",
       "      <td id=\"T_0e093_row10_col3\" class=\"data row10 col3\" >133</td>\n",
       "      <td id=\"T_0e093_row10_col4\" class=\"data row10 col4\" >65775.440000</td>\n",
       "      <td id=\"T_0e093_row10_col5\" class=\"data row10 col5\" >105.383000</td>\n",
       "    </tr>\n",
       "    <tr>\n",
       "      <td id=\"T_0e093_row11_col0\" class=\"data row11 col0\" >n6</td>\n",
       "      <td id=\"T_0e093_row11_col1\" class=\"data row11 col1\" >Parent</td>\n",
       "      <td id=\"T_0e093_row11_col2\" class=\"data row11 col2\" >Sales>7.78</td>\n",
       "      <td id=\"T_0e093_row11_col3\" class=\"data row11 col3\" >80</td>\n",
       "      <td id=\"T_0e093_row11_col4\" class=\"data row11 col4\" >32277.550000</td>\n",
       "      <td id=\"T_0e093_row11_col5\" class=\"data row11 col5\" >110.325000</td>\n",
       "    </tr>\n",
       "    <tr>\n",
       "      <td id=\"T_0e093_row12_col0\" class=\"data row12 col0\" >n12</td>\n",
       "      <td id=\"T_0e093_row12_col1\" class=\"data row12 col1\" >Parent</td>\n",
       "      <td id=\"T_0e093_row12_col2\" class=\"data row12 col2\" >Population>260</td>\n",
       "      <td id=\"T_0e093_row12_col3\" class=\"data row12 col3\" >13</td>\n",
       "      <td id=\"T_0e093_row12_col4\" class=\"data row12 col4\" >4043.690000</td>\n",
       "      <td id=\"T_0e093_row12_col5\" class=\"data row12 col5\" >96.846000</td>\n",
       "    </tr>\n",
       "    <tr>\n",
       "      <td id=\"T_0e093_row13_col0\" class=\"data row13 col0\" >n24</td>\n",
       "      <td id=\"T_0e093_row13_col1\" class=\"data row13 col1\" >Child</td>\n",
       "      <td id=\"T_0e093_row13_col2\" class=\"data row13 col2\" >None</td>\n",
       "      <td id=\"T_0e093_row13_col3\" class=\"data row13 col3\" >5</td>\n",
       "      <td id=\"T_0e093_row13_col4\" class=\"data row13 col4\" >1276.800000</td>\n",
       "      <td id=\"T_0e093_row13_col5\" class=\"data row13 col5\" >90.800000</td>\n",
       "    </tr>\n",
       "    <tr>\n",
       "      <td id=\"T_0e093_row14_col0\" class=\"data row14 col0\" >n25</td>\n",
       "      <td id=\"T_0e093_row14_col1\" class=\"data row14 col1\" >Child</td>\n",
       "      <td id=\"T_0e093_row14_col2\" class=\"data row14 col2\" >None</td>\n",
       "      <td id=\"T_0e093_row14_col3\" class=\"data row14 col3\" >8</td>\n",
       "      <td id=\"T_0e093_row14_col4\" class=\"data row14 col4\" >2469.880000</td>\n",
       "      <td id=\"T_0e093_row14_col5\" class=\"data row14 col5\" >100.625000</td>\n",
       "    </tr>\n",
       "    <tr>\n",
       "      <td id=\"T_0e093_row15_col0\" class=\"data row15 col0\" >n13</td>\n",
       "      <td id=\"T_0e093_row15_col1\" class=\"data row15 col1\" >Parent</td>\n",
       "      <td id=\"T_0e093_row15_col2\" class=\"data row15 col2\" >Sales>9.46</td>\n",
       "      <td id=\"T_0e093_row15_col3\" class=\"data row15 col3\" >67</td>\n",
       "      <td id=\"T_0e093_row15_col4\" class=\"data row15 col4\" >25413.760000</td>\n",
       "      <td id=\"T_0e093_row15_col5\" class=\"data row15 col5\" >112.940000</td>\n",
       "    </tr>\n",
       "    <tr>\n",
       "      <td id=\"T_0e093_row16_col0\" class=\"data row16 col0\" >n27</td>\n",
       "      <td id=\"T_0e093_row16_col1\" class=\"data row16 col1\" >Child</td>\n",
       "      <td id=\"T_0e093_row16_col2\" class=\"data row16 col2\" >None</td>\n",
       "      <td id=\"T_0e093_row16_col3\" class=\"data row16 col3\" >6</td>\n",
       "      <td id=\"T_0e093_row16_col4\" class=\"data row16 col4\" >255.330000</td>\n",
       "      <td id=\"T_0e093_row16_col5\" class=\"data row16 col5\" >128.667000</td>\n",
       "    </tr>\n",
       "    <tr>\n",
       "      <td id=\"T_0e093_row17_col0\" class=\"data row17 col0\" >n26</td>\n",
       "      <td id=\"T_0e093_row17_col1\" class=\"data row17 col1\" >Parent</td>\n",
       "      <td id=\"T_0e093_row17_col2\" class=\"data row17 col2\" >Sales>9.31</td>\n",
       "      <td id=\"T_0e093_row17_col3\" class=\"data row17 col3\" >61</td>\n",
       "      <td id=\"T_0e093_row17_col4\" class=\"data row17 col4\" >23528.560000</td>\n",
       "      <td id=\"T_0e093_row17_col5\" class=\"data row17 col5\" >111.393000</td>\n",
       "    </tr>\n",
       "    <tr>\n",
       "      <td id=\"T_0e093_row18_col0\" class=\"data row18 col0\" >n52</td>\n",
       "      <td id=\"T_0e093_row18_col1\" class=\"data row18 col1\" >Child</td>\n",
       "      <td id=\"T_0e093_row18_col2\" class=\"data row18 col2\" >None</td>\n",
       "      <td id=\"T_0e093_row18_col3\" class=\"data row18 col3\" >55</td>\n",
       "      <td id=\"T_0e093_row18_col4\" class=\"data row18 col4\" >17214.550000</td>\n",
       "      <td id=\"T_0e093_row18_col5\" class=\"data row18 col5\" >113.091000</td>\n",
       "    </tr>\n",
       "    <tr>\n",
       "      <td id=\"T_0e093_row19_col0\" class=\"data row19 col0\" >n53</td>\n",
       "      <td id=\"T_0e093_row19_col1\" class=\"data row19 col1\" >Child</td>\n",
       "      <td id=\"T_0e093_row19_col2\" class=\"data row19 col2\" >None</td>\n",
       "      <td id=\"T_0e093_row19_col3\" class=\"data row19 col3\" >6</td>\n",
       "      <td id=\"T_0e093_row19_col4\" class=\"data row19 col4\" >4702.830000</td>\n",
       "      <td id=\"T_0e093_row19_col5\" class=\"data row19 col5\" >95.833000</td>\n",
       "    </tr>\n",
       "    <tr>\n",
       "      <td id=\"T_0e093_row20_col0\" class=\"data row20 col0\" >n7</td>\n",
       "      <td id=\"T_0e093_row20_col1\" class=\"data row20 col1\" >Parent</td>\n",
       "      <td id=\"T_0e093_row20_col2\" class=\"data row20 col2\" >Population>29</td>\n",
       "      <td id=\"T_0e093_row20_col3\" class=\"data row20 col3\" >53</td>\n",
       "      <td id=\"T_0e093_row20_col4\" class=\"data row20 col4\" >28595.700000</td>\n",
       "      <td id=\"T_0e093_row20_col5\" class=\"data row20 col5\" >97.925000</td>\n",
       "    </tr>\n",
       "    <tr>\n",
       "      <td id=\"T_0e093_row21_col0\" class=\"data row21 col0\" >n14</td>\n",
       "      <td id=\"T_0e093_row21_col1\" class=\"data row21 col1\" >Child</td>\n",
       "      <td id=\"T_0e093_row21_col2\" class=\"data row21 col2\" >None</td>\n",
       "      <td id=\"T_0e093_row21_col3\" class=\"data row21 col3\" >6</td>\n",
       "      <td id=\"T_0e093_row21_col4\" class=\"data row21 col4\" >4226.000000</td>\n",
       "      <td id=\"T_0e093_row21_col5\" class=\"data row21 col5\" >74.000000</td>\n",
       "    </tr>\n",
       "    <tr>\n",
       "      <td id=\"T_0e093_row22_col0\" class=\"data row22 col0\" >n15</td>\n",
       "      <td id=\"T_0e093_row22_col1\" class=\"data row22 col1\" >Parent</td>\n",
       "      <td id=\"T_0e093_row22_col2\" class=\"data row22 col2\" >CompPrice>146</td>\n",
       "      <td id=\"T_0e093_row22_col3\" class=\"data row22 col3\" >47</td>\n",
       "      <td id=\"T_0e093_row22_col4\" class=\"data row22 col4\" >20496.980000</td>\n",
       "      <td id=\"T_0e093_row22_col5\" class=\"data row22 col5\" >100.979000</td>\n",
       "    </tr>\n",
       "    <tr>\n",
       "      <td id=\"T_0e093_row23_col0\" class=\"data row23 col0\" >n31</td>\n",
       "      <td id=\"T_0e093_row23_col1\" class=\"data row23 col1\" >Child</td>\n",
       "      <td id=\"T_0e093_row23_col2\" class=\"data row23 col2\" >None</td>\n",
       "      <td id=\"T_0e093_row23_col3\" class=\"data row23 col3\" >6</td>\n",
       "      <td id=\"T_0e093_row23_col4\" class=\"data row23 col4\" >427.500000</td>\n",
       "      <td id=\"T_0e093_row23_col5\" class=\"data row23 col5\" >134.500000</td>\n",
       "    </tr>\n",
       "    <tr>\n",
       "      <td id=\"T_0e093_row24_col0\" class=\"data row24 col0\" >n30</td>\n",
       "      <td id=\"T_0e093_row24_col1\" class=\"data row24 col1\" >Parent</td>\n",
       "      <td id=\"T_0e093_row24_col2\" class=\"data row24 col2\" >Income>113</td>\n",
       "      <td id=\"T_0e093_row24_col3\" class=\"data row24 col3\" >41</td>\n",
       "      <td id=\"T_0e093_row24_col4\" class=\"data row24 col4\" >12340.780000</td>\n",
       "      <td id=\"T_0e093_row24_col5\" class=\"data row24 col5\" >96.073000</td>\n",
       "    </tr>\n",
       "    <tr>\n",
       "      <td id=\"T_0e093_row25_col0\" class=\"data row25 col0\" >n60</td>\n",
       "      <td id=\"T_0e093_row25_col1\" class=\"data row25 col1\" >Child</td>\n",
       "      <td id=\"T_0e093_row25_col2\" class=\"data row25 col2\" >None</td>\n",
       "      <td id=\"T_0e093_row25_col3\" class=\"data row25 col3\" >36</td>\n",
       "      <td id=\"T_0e093_row25_col4\" class=\"data row25 col4\" >10528.750000</td>\n",
       "      <td id=\"T_0e093_row25_col5\" class=\"data row25 col5\" >94.250000</td>\n",
       "    </tr>\n",
       "    <tr>\n",
       "      <td id=\"T_0e093_row26_col0\" class=\"data row26 col0\" >n61</td>\n",
       "      <td id=\"T_0e093_row26_col1\" class=\"data row26 col1\" >Child</td>\n",
       "      <td id=\"T_0e093_row26_col2\" class=\"data row26 col2\" >None</td>\n",
       "      <td id=\"T_0e093_row26_col3\" class=\"data row26 col3\" >5</td>\n",
       "      <td id=\"T_0e093_row26_col4\" class=\"data row26 col4\" >830.800000</td>\n",
       "      <td id=\"T_0e093_row26_col5\" class=\"data row26 col5\" >109.200000</td>\n",
       "    </tr>\n",
       "  </tbody>\n",
       "</table>\n"
      ],
      "text/plain": [
       "<pandas.io.formats.style.Styler at 0x11d865d8280>"
      ]
     },
     "execution_count": 5,
     "metadata": {},
     "output_type": "execute_result"
    }
   ],
   "source": [
    "import warnings\n",
    "warnings.filterwarnings(\"ignore\", category=FutureWarning) \n",
    "\n",
    "\n",
    "cart.print_tree(table = True, html = True).style.hide_index() #print both the pruned and non pruned tree \n"
   ]
  },
  {
   "cell_type": "code",
   "execution_count": 6,
   "metadata": {},
   "outputs": [
    {
     "name": "stdout",
     "output_type": "stream",
     "text": [
      "{leaves : mean square error} =  {14: 549.4056600722431, 13: 547.5650228681011, 12: 547.6379032003467, 11: 528.5007047058895, 10: 523.5141697068809, 9: 530.8665666257233, 8: 558.1901656198667, 7: 559.023720156924, 6: 535.2174087053243, 3: 517.7256656169034, 2: 519.084830563528}\n",
      "Best tree for test set has 3 leaves with a deviance of: 517.7256656169034 \n"
     ]
    },
    {
     "data": {
      "image/png": "[encoded data removed]",
      "text/plain": [
       "<Figure size 640x480 with 1 Axes>"
      ]
     },
     "metadata": {},
     "output_type": "display_data"
    },
    {
     "data": {
      "application/vnd.plotly.v1+json": {
       "config": {
        "plotlyServerURL": "https://plot.ly"
       },
       "data": [
        {
         "hoverinfo": "none",
         "line": {
          "color": "rgb(210,210,210)",
          "width": 1
         },
         "mode": "lines",
         "type": "scatter",
         "x": [
          0,
          -0.5,
          null,
          0,
          0.5,
          null,
          -0.5,
          -1,
          null,
          -0.5,
          0,
          null
         ],
         "y": [
          4,
          3,
          null,
          4,
          3,
          null,
          3,
          2,
          null,
          3,
          2,
          null
         ]
        },
        {
         "hoverinfo": "text",
         "marker": {
          "color": "#6175c1",
          "line": {
           "color": "rgb(50,50,50)",
           "width": 1
          },
          "size": 18,
          "symbol": "circle-dot"
         },
         "mode": "markers",
         "name": "Nodes",
         "opacity": 0.8,
         "text": [
          "n4, None, Bin Value: 158.2, pearson : 3860.8, Samples : 5",
          "n1, Sales>7.54, Bin Value: 115.78, pearson : 155526.82, Samples : 280",
          "n2, Sales>0.91, Bin Value: 125.18, pearson : 62395.4, Samples : 147",
          "n5, Sales>2.93, Bin Value: 124.01, pearson : 52889.97, Samples : 142",
          "n3, Sales>9.7, Bin Value: 105.38, pearson : 65775.44, Samples : 133"
         ],
         "type": "scatter",
         "x": [
          -1,
          0,
          -0.5,
          0,
          0.5
         ],
         "y": [
          2,
          4,
          3,
          2,
          3
         ]
        }
       ],
       "layout": {
        "template": {
         "data": {
          "bar": [
           {
            "error_x": {
             "color": "#2a3f5f"
            },
            "error_y": {
             "color": "#2a3f5f"
            },
            "marker": {
             "line": {
              "color": "#E5ECF6",
              "width": 0.5
             },
             "pattern": {
              "fillmode": "overlay",
              "size": 10,
              "solidity": 0.2
             }
            },
            "type": "bar"
           }
          ],
          "barpolar": [
           {
            "marker": {
             "line": {
              "color": "#E5ECF6",
              "width": 0.5
             },
             "pattern": {
              "fillmode": "overlay",
              "size": 10,
              "solidity": 0.2
             }
            },
            "type": "barpolar"
           }
          ],
          "carpet": [
           {
            "aaxis": {
             "endlinecolor": "#2a3f5f",
             "gridcolor": "white",
             "linecolor": "white",
             "minorgridcolor": "white",
             "startlinecolor": "#2a3f5f"
            },
            "baxis": {
             "endlinecolor": "#2a3f5f",
             "gridcolor": "white",
             "linecolor": "white",
             "minorgridcolor": "white",
             "startlinecolor": "#2a3f5f"
            },
            "type": "carpet"
           }
          ],
          "choropleth": [
           {
            "colorbar": {
             "outlinewidth": 0,
             "ticks": ""
            },
            "type": "choropleth"
           }
          ],
          "contour": [
           {
            "colorbar": {
             "outlinewidth": 0,
             "ticks": ""
            },
            "colorscale": [
             [
              0,
              "#0d0887"
             ],
             [
              0.1111111111111111,
              "#46039f"
             ],
             [
              0.2222222222222222,
              "#7201a8"
             ],
             [
              0.3333333333333333,
              "#9c179e"
             ],
             [
              0.4444444444444444,
              "#bd3786"
             ],
             [
              0.5555555555555556,
              "#d8576b"
             ],
             [
              0.6666666666666666,
              "#ed7953"
             ],
             [
              0.7777777777777778,
              "#fb9f3a"
             ],
             [
              0.8888888888888888,
              "#fdca26"
             ],
             [
              1,
              "#f0f921"
             ]
            ],
            "type": "contour"
           }
          ],
          "contourcarpet": [
           {
            "colorbar": {
             "outlinewidth": 0,
             "ticks": ""
            },
            "type": "contourcarpet"
           }
          ],
          "heatmap": [
           {
            "colorbar": {
             "outlinewidth": 0,
             "ticks": ""
            },
            "colorscale": [
             [
              0,
              "#0d0887"
             ],
             [
              0.1111111111111111,
              "#46039f"
             ],
             [
              0.2222222222222222,
              "#7201a8"
             ],
             [
              0.3333333333333333,
              "#9c179e"
             ],
             [
              0.4444444444444444,
              "#bd3786"
             ],
             [
              0.5555555555555556,
              "#d8576b"
             ],
             [
              0.6666666666666666,
              "#ed7953"
             ],
             [
              0.7777777777777778,
              "#fb9f3a"
             ],
             [
              0.8888888888888888,
              "#fdca26"
             ],
             [
              1,
              "#f0f921"
             ]
            ],
            "type": "heatmap"
           }
          ],
          "heatmapgl": [
           {
            "colorbar": {
             "outlinewidth": 0,
             "ticks": ""
            },
            "colorscale": [
             [
              0,
              "#0d0887"
             ],
             [
              0.1111111111111111,
              "#46039f"
             ],
             [
              0.2222222222222222,
              "#7201a8"
             ],
             [
              0.3333333333333333,
              "#9c179e"
             ],
             [
              0.4444444444444444,
              "#bd3786"
             ],
             [
              0.5555555555555556,
              "#d8576b"
             ],
             [
              0.6666666666666666,
              "#ed7953"
             ],
             [
              0.7777777777777778,
              "#fb9f3a"
             ],
             [
              0.8888888888888888,
              "#fdca26"
             ],
             [
              1,
              "#f0f921"
             ]
            ],
            "type": "heatmapgl"
           }
          ],
          "histogram": [
           {
            "marker": {
             "pattern": {
              "fillmode": "overlay",
              "size": 10,
              "solidity": 0.2
             }
            },
            "type": "histogram"
           }
          ],
          "histogram2d": [
           {
            "colorbar": {
             "outlinewidth": 0,
             "ticks": ""
            },
            "colorscale": [
             [
              0,
              "#0d0887"
             ],
             [
              0.1111111111111111,
              "#46039f"
             ],
             [
              0.2222222222222222,
              "#7201a8"
             ],
             [
              0.3333333333333333,
              "#9c179e"
             ],
             [
              0.4444444444444444,
              "#bd3786"
             ],
             [
              0.5555555555555556,
              "#d8576b"
             ],
             [
              0.6666666666666666,
              "#ed7953"
             ],
             [
              0.7777777777777778,
              "#fb9f3a"
             ],
             [
              0.8888888888888888,
              "#fdca26"
             ],
             [
              1,
              "#f0f921"
             ]
            ],
            "type": "histogram2d"
           }
          ],
          "histogram2dcontour": [
           {
            "colorbar": {
             "outlinewidth": 0,
             "ticks": ""
            },
            "colorscale": [
             [
              0,
              "#0d0887"
             ],
             [
              0.1111111111111111,
              "#46039f"
             ],
             [
              0.2222222222222222,
              "#7201a8"
             ],
             [
              0.3333333333333333,
              "#9c179e"
             ],
             [
              0.4444444444444444,
              "#bd3786"
             ],
             [
              0.5555555555555556,
              "#d8576b"
             ],
             [
              0.6666666666666666,
              "#ed7953"
             ],
             [
              0.7777777777777778,
              "#fb9f3a"
             ],
             [
              0.8888888888888888,
              "#fdca26"
             ],
             [
              1,
              "#f0f921"
             ]
            ],
            "type": "histogram2dcontour"
           }
          ],
          "mesh3d": [
           {
            "colorbar": {
             "outlinewidth": 0,
             "ticks": ""
            },
            "type": "mesh3d"
           }
          ],
          "parcoords": [
           {
            "line": {
             "colorbar": {
              "outlinewidth": 0,
              "ticks": ""
             }
            },
            "type": "parcoords"
           }
          ],
          "pie": [
           {
            "automargin": true,
            "type": "pie"
           }
          ],
          "scatter": [
           {
            "fillpattern": {
             "fillmode": "overlay",
             "size": 10,
             "solidity": 0.2
            },
            "type": "scatter"
           }
          ],
          "scatter3d": [
           {
            "line": {
             "colorbar": {
              "outlinewidth": 0,
              "ticks": ""
             }
            },
            "marker": {
             "colorbar": {
              "outlinewidth": 0,
              "ticks": ""
             }
            },
            "type": "scatter3d"
           }
          ],
          "scattercarpet": [
           {
            "marker": {
             "colorbar": {
              "outlinewidth": 0,
              "ticks": ""
             }
            },
            "type": "scattercarpet"
           }
          ],
          "scattergeo": [
           {
            "marker": {
             "colorbar": {
              "outlinewidth": 0,
              "ticks": ""
             }
            },
            "type": "scattergeo"
           }
          ],
          "scattergl": [
           {
            "marker": {
             "colorbar": {
              "outlinewidth": 0,
              "ticks": ""
             }
            },
            "type": "scattergl"
           }
          ],
          "scattermapbox": [
           {
            "marker": {
             "colorbar": {
              "outlinewidth": 0,
              "ticks": ""
             }
            },
            "type": "scattermapbox"
           }
          ],
          "scatterpolar": [
           {
            "marker": {
             "colorbar": {
              "outlinewidth": 0,
              "ticks": ""
             }
            },
            "type": "scatterpolar"
           }
          ],
          "scatterpolargl": [
           {
            "marker": {
             "colorbar": {
              "outlinewidth": 0,
              "ticks": ""
             }
            },
            "type": "scatterpolargl"
           }
          ],
          "scatterternary": [
           {
            "marker": {
             "colorbar": {
              "outlinewidth": 0,
              "ticks": ""
             }
            },
            "type": "scatterternary"
           }
          ],
          "surface": [
           {
            "colorbar": {
             "outlinewidth": 0,
             "ticks": ""
            },
            "colorscale": [
             [
              0,
              "#0d0887"
             ],
             [
              0.1111111111111111,
              "#46039f"
             ],
             [
              0.2222222222222222,
              "#7201a8"
             ],
             [
              0.3333333333333333,
              "#9c179e"
             ],
             [
              0.4444444444444444,
              "#bd3786"
             ],
             [
              0.5555555555555556,
              "#d8576b"
             ],
             [
              0.6666666666666666,
              "#ed7953"
             ],
             [
              0.7777777777777778,
              "#fb9f3a"
             ],
             [
              0.8888888888888888,
              "#fdca26"
             ],
             [
              1,
              "#f0f921"
             ]
            ],
            "type": "surface"
           }
          ],
          "table": [
           {
            "cells": {
             "fill": {
              "color": "#EBF0F8"
             },
             "line": {
              "color": "white"
             }
            },
            "header": {
             "fill": {
              "color": "#C8D4E3"
             },
             "line": {
              "color": "white"
             }
            },
            "type": "table"
           }
          ]
         },
         "layout": {
          "annotationdefaults": {
           "arrowcolor": "#2a3f5f",
           "arrowhead": 0,
           "arrowwidth": 1
          },
          "autotypenumbers": "strict",
          "coloraxis": {
           "colorbar": {
            "outlinewidth": 0,
            "ticks": ""
           }
          },
          "colorscale": {
           "diverging": [
            [
             0,
             "#8e0152"
            ],
            [
             0.1,
             "#c51b7d"
            ],
            [
             0.2,
             "#de77ae"
            ],
            [
             0.3,
             "#f1b6da"
            ],
            [
             0.4,
             "#fde0ef"
            ],
            [
             0.5,
             "#f7f7f7"
            ],
            [
             0.6,
             "#e6f5d0"
            ],
            [
             0.7,
             "#b8e186"
            ],
            [
             0.8,
             "#7fbc41"
            ],
            [
             0.9,
             "#4d9221"
            ],
            [
             1,
             "#276419"
            ]
           ],
           "sequential": [
            [
             0,
             "#0d0887"
            ],
            [
             0.1111111111111111,
             "#46039f"
            ],
            [
             0.2222222222222222,
             "#7201a8"
            ],
            [
             0.3333333333333333,
             "#9c179e"
            ],
            [
             0.4444444444444444,
             "#bd3786"
            ],
            [
             0.5555555555555556,
             "#d8576b"
            ],
            [
             0.6666666666666666,
             "#ed7953"
            ],
            [
             0.7777777777777778,
             "#fb9f3a"
            ],
            [
             0.8888888888888888,
             "#fdca26"
            ],
            [
             1,
             "#f0f921"
            ]
           ],
           "sequentialminus": [
            [
             0,
             "#0d0887"
            ],
            [
             0.1111111111111111,
             "#46039f"
            ],
            [
             0.2222222222222222,
             "#7201a8"
            ],
            [
             0.3333333333333333,
             "#9c179e"
            ],
            [
             0.4444444444444444,
             "#bd3786"
            ],
            [
             0.5555555555555556,
             "#d8576b"
            ],
            [
             0.6666666666666666,
             "#ed7953"
            ],
            [
             0.7777777777777778,
             "#fb9f3a"
            ],
            [
             0.8888888888888888,
             "#fdca26"
            ],
            [
             1,
             "#f0f921"
            ]
           ]
          },
          "colorway": [
           "#636efa",
           "#EF553B",
           "#00cc96",
           "#ab63fa",
           "#FFA15A",
           "#19d3f3",
           "#FF6692",
           "#B6E880",
           "#FF97FF",
           "#FECB52"
          ],
          "font": {
           "color": "#2a3f5f"
          },
          "geo": {
           "bgcolor": "white",
           "lakecolor": "white",
           "landcolor": "#E5ECF6",
           "showlakes": true,
           "showland": true,
           "subunitcolor": "white"
          },
          "hoverlabel": {
           "align": "left"
          },
          "hovermode": "closest",
          "mapbox": {
           "style": "light"
          },
          "paper_bgcolor": "white",
          "plot_bgcolor": "#E5ECF6",
          "polar": {
           "angularaxis": {
            "gridcolor": "white",
            "linecolor": "white",
            "ticks": ""
           },
           "bgcolor": "#E5ECF6",
           "radialaxis": {
            "gridcolor": "white",
            "linecolor": "white",
            "ticks": ""
           }
          },
          "scene": {
           "xaxis": {
            "backgroundcolor": "#E5ECF6",
            "gridcolor": "white",
            "gridwidth": 2,
            "linecolor": "white",
            "showbackground": true,
            "ticks": "",
            "zerolinecolor": "white"
           },
           "yaxis": {
            "backgroundcolor": "#E5ECF6",
            "gridcolor": "white",
            "gridwidth": 2,
            "linecolor": "white",
            "showbackground": true,
            "ticks": "",
            "zerolinecolor": "white"
           },
           "zaxis": {
            "backgroundcolor": "#E5ECF6",
            "gridcolor": "white",
            "gridwidth": 2,
            "linecolor": "white",
            "showbackground": true,
            "ticks": "",
            "zerolinecolor": "white"
           }
          },
          "shapedefaults": {
           "line": {
            "color": "#2a3f5f"
           }
          },
          "ternary": {
           "aaxis": {
            "gridcolor": "white",
            "linecolor": "white",
            "ticks": ""
           },
           "baxis": {
            "gridcolor": "white",
            "linecolor": "white",
            "ticks": ""
           },
           "bgcolor": "#E5ECF6",
           "caxis": {
            "gridcolor": "white",
            "linecolor": "white",
            "ticks": ""
           }
          },
          "title": {
           "x": 0.05
          },
          "xaxis": {
           "automargin": true,
           "gridcolor": "white",
           "linecolor": "white",
           "ticks": "",
           "title": {
            "standoff": 15
           },
           "zerolinecolor": "white",
           "zerolinewidth": 2
          },
          "yaxis": {
           "automargin": true,
           "gridcolor": "white",
           "linecolor": "white",
           "ticks": "",
           "title": {
            "standoff": 15
           },
           "zerolinecolor": "white",
           "zerolinewidth": 2
          }
         }
        },
        "title": {
         "text": "CART_tree_pruned"
        }
       }
      }
     },
     "metadata": {},
     "output_type": "display_data"
    },
    {
     "data": {
      "text/html": [
       "<style type=\"text/css\">\n",
       "</style>\n",
       "<table id=\"T_84abc\">\n",
       "  <thead>\n",
       "    <tr>\n",
       "      <th id=\"T_84abc_level0_col0\" class=\"col_heading level0 col0\" >Node</th>\n",
       "      <th id=\"T_84abc_level0_col1\" class=\"col_heading level0 col1\" >Node_type</th>\n",
       "      <th id=\"T_84abc_level0_col2\" class=\"col_heading level0 col2\" >Variable_Split</th>\n",
       "      <th id=\"T_84abc_level0_col3\" class=\"col_heading level0 col3\" >n</th>\n",
       "      <th id=\"T_84abc_level0_col4\" class=\"col_heading level0 col4\" >Impurity_Value</th>\n",
       "      <th id=\"T_84abc_level0_col5\" class=\"col_heading level0 col5\" >Class/Value</th>\n",
       "    </tr>\n",
       "  </thead>\n",
       "  <tbody>\n",
       "    <tr>\n",
       "      <td id=\"T_84abc_row0_col0\" class=\"data row0 col0\" >n1</td>\n",
       "      <td id=\"T_84abc_row0_col1\" class=\"data row0 col1\" >Parent</td>\n",
       "      <td id=\"T_84abc_row0_col2\" class=\"data row0 col2\" >Sales>7.54</td>\n",
       "      <td id=\"T_84abc_row0_col3\" class=\"data row0 col3\" >280</td>\n",
       "      <td id=\"T_84abc_row0_col4\" class=\"data row0 col4\" >155526.820000</td>\n",
       "      <td id=\"T_84abc_row0_col5\" class=\"data row0 col5\" >115.775000</td>\n",
       "    </tr>\n",
       "    <tr>\n",
       "      <td id=\"T_84abc_row1_col0\" class=\"data row1 col0\" >n3</td>\n",
       "      <td id=\"T_84abc_row1_col1\" class=\"data row1 col1\" >Child</td>\n",
       "      <td id=\"T_84abc_row1_col2\" class=\"data row1 col2\" >None</td>\n",
       "      <td id=\"T_84abc_row1_col3\" class=\"data row1 col3\" >133</td>\n",
       "      <td id=\"T_84abc_row1_col4\" class=\"data row1 col4\" >65775.440000</td>\n",
       "      <td id=\"T_84abc_row1_col5\" class=\"data row1 col5\" >105.383000</td>\n",
       "    </tr>\n",
       "    <tr>\n",
       "      <td id=\"T_84abc_row2_col0\" class=\"data row2 col0\" >n2</td>\n",
       "      <td id=\"T_84abc_row2_col1\" class=\"data row2 col1\" >Parent</td>\n",
       "      <td id=\"T_84abc_row2_col2\" class=\"data row2 col2\" >Sales>0.91</td>\n",
       "      <td id=\"T_84abc_row2_col3\" class=\"data row2 col3\" >147</td>\n",
       "      <td id=\"T_84abc_row2_col4\" class=\"data row2 col4\" >62395.400000</td>\n",
       "      <td id=\"T_84abc_row2_col5\" class=\"data row2 col5\" >125.177000</td>\n",
       "    </tr>\n",
       "    <tr>\n",
       "      <td id=\"T_84abc_row3_col0\" class=\"data row3 col0\" >n4</td>\n",
       "      <td id=\"T_84abc_row3_col1\" class=\"data row3 col1\" >Child</td>\n",
       "      <td id=\"T_84abc_row3_col2\" class=\"data row3 col2\" >None</td>\n",
       "      <td id=\"T_84abc_row3_col3\" class=\"data row3 col3\" >5</td>\n",
       "      <td id=\"T_84abc_row3_col4\" class=\"data row3 col4\" >3860.800000</td>\n",
       "      <td id=\"T_84abc_row3_col5\" class=\"data row3 col5\" >158.200000</td>\n",
       "    </tr>\n",
       "    <tr>\n",
       "      <td id=\"T_84abc_row4_col0\" class=\"data row4 col0\" >n5</td>\n",
       "      <td id=\"T_84abc_row4_col1\" class=\"data row4 col1\" >Child</td>\n",
       "      <td id=\"T_84abc_row4_col2\" class=\"data row4 col2\" >None</td>\n",
       "      <td id=\"T_84abc_row4_col3\" class=\"data row4 col3\" >142</td>\n",
       "      <td id=\"T_84abc_row4_col4\" class=\"data row4 col4\" >52889.970000</td>\n",
       "      <td id=\"T_84abc_row4_col5\" class=\"data row4 col5\" >124.014000</td>\n",
       "    </tr>\n",
       "    <tr>\n",
       "      <td id=\"T_84abc_row5_col0\" class=\"data row5 col0\" >n5</td>\n",
       "      <td id=\"T_84abc_row5_col1\" class=\"data row5 col1\" >Parent</td>\n",
       "      <td id=\"T_84abc_row5_col2\" class=\"data row5 col2\" >Sales>2.93</td>\n",
       "      <td id=\"T_84abc_row5_col3\" class=\"data row5 col3\" >142</td>\n",
       "      <td id=\"T_84abc_row5_col4\" class=\"data row5 col4\" >52889.970000</td>\n",
       "      <td id=\"T_84abc_row5_col5\" class=\"data row5 col5\" >124.014000</td>\n",
       "    </tr>\n",
       "    <tr>\n",
       "      <td id=\"T_84abc_row6_col0\" class=\"data row6 col0\" >n3</td>\n",
       "      <td id=\"T_84abc_row6_col1\" class=\"data row6 col1\" >Parent</td>\n",
       "      <td id=\"T_84abc_row6_col2\" class=\"data row6 col2\" >Sales>9.7</td>\n",
       "      <td id=\"T_84abc_row6_col3\" class=\"data row6 col3\" >133</td>\n",
       "      <td id=\"T_84abc_row6_col4\" class=\"data row6 col4\" >65775.440000</td>\n",
       "      <td id=\"T_84abc_row6_col5\" class=\"data row6 col5\" >105.383000</td>\n",
       "    </tr>\n",
       "  </tbody>\n",
       "</table>\n"
      ],
      "text/plain": [
       "<pandas.io.formats.style.Styler at 0x11d89e49490>"
      ]
     },
     "execution_count": 6,
     "metadata": {},
     "output_type": "execute_result"
    }
   ],
   "source": [
    "alpha, pruned_table = cart.pruning(features_test, n_features_test, y_test)\n",
    "pruned_table.style.hide_index()\n"
   ]
  },
  {
   "cell_type": "markdown",
   "metadata": {},
   "source": [
    "full dataset model "
   ]
  },
  {
   "cell_type": "code",
   "execution_count": 7,
   "metadata": {},
   "outputs": [],
   "source": [
    "df=pd.read_csv('Carseats.csv')\n",
    "df=df.iloc[:,1:]\n",
    "\n",
    "df.head()\n",
    "\n",
    "features = df[features_names]\n",
    "features.head()\n",
    "\n",
    "n_features = df[n_features_names]\n",
    "n_features.head()\n",
    "\n",
    "y = df[\"Price\"]\n",
    "y.head()\n",
    "\n",
    "indici = np.arange(0, len(y))\n"
   ]
  },
  {
   "cell_type": "code",
   "execution_count": 8,
   "metadata": {},
   "outputs": [],
   "source": [
    "my_tree = MyNodeClass('n1', indici) \n",
    "\n",
    "cart = CART(y,features,features_names,n_features,n_features_names, impurity_fn = \"between_variance\", problem=\"regression\", method = \"CART\",  min_cases_parent= 10,min_cases_child= 5, max_level = 4)\n",
    "\n",
    "#cart.growing_tree(my_tree)\n"
   ]
  },
  {
   "cell_type": "markdown",
   "metadata": {},
   "source": [
    "need to somehow get only 29 leaves in final tree?\n",
    "can't prune the traditional way as only have training set "
   ]
  },
  {
   "cell_type": "code",
   "execution_count": 9,
   "metadata": {},
   "outputs": [],
   "source": [
    "#cart.print_tree(table = True, html = True).style.hide_index() #print both the pruned and non pruned tree \n",
    "\n"
   ]
  }
 ],
 "metadata": {
  "kernelspec": {
   "display_name": "base",
   "language": "python",
   "name": "python3"
  },
  "language_info": {
   "codemirror_mode": {
    "name": "ipython",
    "version": 3
   },
   "file_extension": ".py",
   "mimetype": "text/x-python",
   "name": "python",
   "nbconvert_exporter": "python",
   "pygments_lexer": "ipython3",
   "version": "3.8.15"
  },
  "orig_nbformat": 4
 },
 "nbformat": 4,
 "nbformat_minor": 2
}
