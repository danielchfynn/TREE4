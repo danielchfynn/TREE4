{
 "cells": [
  {
   "cell_type": "markdown",
   "metadata": {},
   "source": [
    "Dictionary Inputs "
   ]
  },
  {
   "cell_type": "code",
   "execution_count": 1,
   "metadata": {},
   "outputs": [],
   "source": [
    "#from __future__ import annotations\n",
    "#from tkinter import N\n",
    "\n",
    "from CARTplus import *\n",
    "\n",
    "import pandas as pd\n",
    "\n",
    "#d = dict(features, **n_features)  #merges the two dicts\n",
    "#df = pd.DataFrame(data=d)         #creates the dataframe\n",
    "\n",
    "#print(df)\n",
    "#import csv\n",
    "\n",
    "\n",
    "\n",
    "#####################################loading the carseats data#########################\n",
    "\n",
    "df=pd.read_csv('Carseats_train.csv')\n",
    "#df=df.iloc[:,1:]\n",
    "\n",
    "features_names=list(df.columns)\n",
    "\n",
    "colonne=features_names[:6]\n",
    "features_name=features_names[7:9]\n",
    "features_names=colonne + features_name\n",
    "\n",
    "\n",
    "\n",
    "\n",
    "n_features_names=list(df.columns)\n",
    "columns = [(n_features_names[6])]\n",
    "n_features_name = n_features_names[9:11]\n",
    "n_features_names=columns + n_features_name\n",
    "\n",
    "\n",
    "\n",
    "\n",
    "features=df.iloc[:,0:6]\n",
    "features2=df.iloc[:,7:9]\n",
    "\n",
    "features=dict(features)\n",
    "features2=dict(features2)\n",
    "\n",
    "\n",
    "n_features=df.iloc[:,6:7]\n",
    "n_features2=df.iloc[:,9:11]\n",
    "\n",
    "\n",
    "n_features=dict(n_features)\n",
    "n_features2=dict(n_features2)\n",
    "\n",
    "features = dict(features, **features2)\n",
    "n_features = dict(n_features, **n_features2)\n",
    "\n",
    "\n",
    "#############################################################################\n",
    "\n",
    "\n",
    "#import itertools\n",
    "#from statistics import mode\n",
    "'''\n",
    "print(features,'features',type(features))\n",
    "print()\n",
    "print(features_names,'features_names')\n",
    "print()\n",
    "print(n_features,'n_features')\n",
    "print()\n",
    "print(n_features_names,'n_features_names')\n",
    "print()\n",
    "'''\n",
    "########################### y categorical #######################################\n",
    "'''\n",
    "High=[]\n",
    "for i in features['Sales']:\n",
    "    if i < 8:\n",
    "        High.append('NO')\n",
    "    else:\n",
    "        High.append('YES')\n",
    "\n",
    "High=pd.DataFrame(High)\n",
    "High=dict(High)\n",
    "High['High'] = High.pop(0)\n",
    "\n",
    "#y=High['High']\n",
    "\n",
    "#exclude_keys = ['Sales']\n",
    "\n",
    "#new_d = {k: features[k] for k in set(list(features.keys())) - set(exclude_keys)}\n",
    "#features=new_d\n",
    "\n",
    "#features_names=features_names[1:]\n",
    "'''\n",
    "\n",
    "######################y numerical#####################################\n",
    "y=features['Price']\n",
    "exclude_keys = ['Price']\n",
    "new_d = {k: features[k] for k in set(list(features.keys())) - set(exclude_keys)}\n",
    "features=new_d\n",
    "\n",
    "indici = np.arange(0, len(y))\n",
    "\n",
    "features_names3 = features_names[0:5]\n",
    "features_names4 = features_names[6:]\n",
    "features_names = features_names3 +  features_names4 \n",
    "\n",
    "#############Data Prep for prediction ############\n",
    "df_test=pd.read_csv('Carseats_test.csv')\n",
    "#df_test=df_test.iloc[:,1:]\n",
    "\n",
    "\n",
    "features_test=df_test.iloc[:,0:6]\n",
    "features2_test=df_test.iloc[:,7:9]\n",
    "\n",
    "features_test=dict(features_test)\n",
    "features2_test=dict(features2_test)\n",
    "\n",
    "\n",
    "n_features_test=df_test.iloc[:,6:7]\n",
    "n_features2_test=df_test.iloc[:,9:11]\n",
    "\n",
    "\n",
    "n_features_test=dict(n_features_test)\n",
    "n_features2_test=dict(n_features2_test)\n",
    "\n",
    "features_test = dict(features_test, **features2_test)\n",
    "n_features_test = dict(n_features_test, **n_features2_test)\n",
    "\n",
    "y_test=features_test['Price']\n",
    "\n",
    "y_test = y_test.tolist()\n",
    "\n",
    "del features_test[\"Price\"]   \n",
    "\n",
    "#impurity = impurity_fn('MSE') # chhose the simplest impurity functin (for regression tree)\n",
    "\n",
    "#impurity = Impurity (\"MSE\")\n",
    "# start a tree structure by instantiating its root\n",
    "#print(\"features\", features)\n",
    "#print(\"features_names\", features_names)\n",
    "#print(\"n_features\", n_features)\n",
    "#print(\"n_features_names\", n_features_names)\n",
    "\n",
    "\n",
    "\n",
    "############Program Running\n",
    "\n",
    "\n",
    "###User Defined Function \n",
    "\n",
    "\n",
    "\n",
    "#when definining a funcion please be aware we are using purity gain or information gain or greatest difference between variance, all positive aspects \n",
    "#adding user_defined as a possible impurity_fn and added user_impur to carry that function \n",
    "def user_fn(self, node): #impur just takes node in CART\n",
    "    \n",
    "    return (mean(self.y[node.indexes])**2)*len(self.y[node.indexes])\n",
    "\n",
    "\n",
    "\n",
    "\n"
   ]
  },
  {
   "cell_type": "code",
   "execution_count": 2,
   "metadata": {},
   "outputs": [
    {
     "name": "stdout",
     "output_type": "stream",
     "text": [
      "Split Found:  n1 [['Sales', 7.55, 0.17589235831460692, 0]] start\n",
      "node_proportion_total  0.17589235831460737\n",
      "Split Found:  n2 [['Sales', 1.165, 0.09046547352009915, 1]] left\n",
      "node_proportion_total  0.21218596573286658\n",
      "Node_proportion_gain  0.03629360741825921\n",
      "Node Search Split Error for:  n4 with obs in node:  5  which is less than minimum parent size:  10\n",
      "TypeError: Node search split (cart) failure\n",
      "Split Found:  n5 [['Sales', 2.96, 0.021926958017563947, 2]] right\n",
      "node_proportion_total  0.21964266133433702\n",
      "Node_proportion_gain  0.007456695601470442\n",
      "Node Search Split Error for:  n10 with obs in node:  9  which is less than minimum parent size:  10\n",
      "TypeError: Node search split (cart) failure\n",
      "Split Found:  n11 [['Population', 94.5, 0.014772463034646854, 3]] right\n",
      "node_proportion_total  0.22434170323703895\n",
      "Node_proportion_gain  0.004699041902701928\n",
      "Split Found:  n22 [['Sales', 5.01, 0.15220530665506748, 4]] left\n",
      "node_proportion_total  0.230769992559935\n",
      "Node_proportion_gain  0.006428289322896047\n",
      "Split Found:  n23 [['Sales', 3.545, 0.02198299515599078, 4]] right\n",
      "node_proportion_total  0.23673093025853265\n",
      "Node_proportion_gain  0.0059609376985976514\n",
      "Split Found:  n3 [['Sales', 9.825, 0.0745292654345946, 1]] right\n",
      "node_proportion_total  0.2682508657797201\n",
      "Node_proportion_gain  0.03151993552118748\n",
      "Split Found:  n6 [['Sales', 7.79, 0.08737021546795953, 2]] left\n",
      "node_proportion_total  0.2863834065698883\n",
      "Node_proportion_gain  0.018132540790168183\n",
      "Split Found:  n12 [['Population', 254.0, 0.07345200502206672, 3]] left\n",
      "node_proportion_total  0.2882931562718597\n",
      "Node_proportion_gain  0.001909749701971386\n",
      "Node Search Split Error for:  n24 with obs in node:  5  which is less than minimum parent size:  10\n",
      "TypeError: Node search split (cart) failure\n",
      "Node Search Split Error for:  n25 with obs in node:  8  which is less than minimum parent size:  10\n",
      "TypeError: Node search split (cart) failure\n",
      "Split Found:  n13 [['Sales', 9.47, 0.06413338313851102, 3]] right\n",
      "node_proportion_total  0.29877283065373783\n",
      "Node_proportion_gain  0.010479674381878135\n",
      "Split Found:  n26 [['Population', 129.5, 0.02897574067648534, 4]] left\n",
      "node_proportion_total  0.30315636627242726\n",
      "Node_proportion_gain  0.004383535618689427\n",
      "Node Search Split Error for:  n27 with obs in node:  6  which is less than minimum parent size:  10\n",
      "TypeError: Node search split (cart) failure\n",
      "Split Found:  n7 [['Population', 32.0, 0.13543013968295436, 2]] right\n",
      "node_proportion_total  0.3280570185541368\n",
      "Node_proportion_gain  0.024900652281709568\n",
      "Node Search Split Error for:  n14 with obs in node:  6  which is less than minimum parent size:  10\n",
      "TypeError: Node search split (cart) failure\n",
      "Split Found:  n15 [['CompPrice', 146.5, 0.37706524165800315, 3]] right\n",
      "node_proportion_total  0.3777506854543604\n",
      "Node_proportion_gain  0.04969366690022359\n",
      "Split Found:  n30 [['Income', 115.0, 0.07951121801206396, 4]] left\n",
      "node_proportion_total  0.38405976099682637\n",
      "Node_proportion_gain  0.006309075542465958\n",
      "Node Search Split Error for:  n31 with obs in node:  6  which is less than minimum parent size:  10\n",
      "TypeError: Node search split (cart) failure\n"
     ]
    },
    {
     "data": {
      "text/plain": [
       "((None, (None, ((None, None), (None, None)))),\n",
       " (((None, None), ((None, None), None)), (None, ((None, None), None))))"
      ]
     },
     "execution_count": 2,
     "metadata": {},
     "output_type": "execute_result"
    }
   ],
   "source": [
    "my_tree = MyNodeClass('n1', indici) \n",
    "\n",
    "cart = CART(y,features,features_names,n_features,n_features_names, impurity_fn = \"pearson\", problem=\"regression\", method = \"TWO-STAGE\",  min_cases_parent= 10,min_cases_child= 5, max_level =4 , twoing = False, min_imp_gain = 0.0001)\n",
    "\n",
    "cart.growing_tree(my_tree, max_k = 1)\n",
    "\n"
   ]
  },
  {
   "cell_type": "code",
   "execution_count": 3,
   "metadata": {},
   "outputs": [
    {
     "data": {
      "application/vnd.plotly.v1+json": {
       "config": {
        "plotlyServerURL": "https://plot.ly"
       },
       "data": [
        {
         "hoverinfo": "none",
         "line": {
          "color": "rgb(210,210,210)",
          "width": 1
         },
         "mode": "lines",
         "type": "scatter",
         "x": [
          0,
          -7.9375,
          null,
          0,
          7.9375,
          null,
          -7.9375,
          -11.9375,
          null,
          -7.9375,
          -3.9375,
          null,
          7.9375,
          4.0625,
          null,
          7.9375,
          11.8125,
          null,
          -3.9375,
          -5.9375,
          null,
          -3.9375,
          -1.9375,
          null,
          4.0625,
          2.0625,
          null,
          4.0625,
          6.0625,
          null,
          11.8125,
          10.0625,
          null,
          11.8125,
          13.5625,
          null,
          -1.9375,
          -2.9375,
          null,
          -1.9375,
          -0.9375,
          null,
          2.0625,
          1.0625,
          null,
          2.0625,
          3.0625,
          null,
          6.0625,
          5.0625,
          null,
          6.0625,
          7.0625,
          null,
          13.5625,
          13.0625,
          null,
          13.5625,
          14.0625,
          null,
          -2.9375,
          -3.4375,
          null,
          -2.9375,
          -2.4375,
          null,
          -0.9375,
          -1.4375,
          null,
          -0.9375,
          -0.4375,
          null,
          5.0625,
          4.5625,
          null,
          5.0625,
          5.5625,
          null,
          13.0625,
          12.5625,
          null,
          13.0625,
          13.5625,
          null
         ],
         "y": [
          8,
          7,
          null,
          8,
          7,
          null,
          7,
          6,
          null,
          7,
          6,
          null,
          7,
          6,
          null,
          7,
          6,
          null,
          6,
          5,
          null,
          6,
          5,
          null,
          6,
          5,
          null,
          6,
          5,
          null,
          6,
          5,
          null,
          6,
          5,
          null,
          5,
          4,
          null,
          5,
          4,
          null,
          5,
          4,
          null,
          5,
          4,
          null,
          5,
          4,
          null,
          5,
          4,
          null,
          5,
          4,
          null,
          5,
          4,
          null,
          4,
          3,
          null,
          4,
          3,
          null,
          4,
          3,
          null,
          4,
          3,
          null,
          4,
          3,
          null,
          4,
          3,
          null,
          4,
          3,
          null,
          4,
          3,
          null
         ]
        },
        {
         "hoverinfo": "text",
         "marker": {
          "color": "#6175c1",
          "line": {
           "color": "rgb(50,50,50)",
           "width": 1
          },
          "size": 18,
          "symbol": "circle-dot"
         },
         "mode": "markers",
         "name": "Nodes",
         "opacity": 0.8,
         "text": [
          "n4, None, Bin Value: 158.2, pearson : 3860.8, Samples : 5",
          "n10, None, Bin Value: 135, pearson : 2258, Samples : 9",
          "n44, None, Bin Value: 130.2, pearson : 2216.8, Samples : 5",
          "n45, None, Bin Value: 114, pearson : 3352, Samples : 16",
          "n46, None, Bin Value: 113.14, pearson : 4702.86, Samples : 7",
          "n47, None, Bin Value: 125.03, pearson : 36542.91, Samples : 105",
          "n24, None, Bin Value: 90.8, pearson : 1276.8, Samples : 5",
          "n25, None, Bin Value: 100.62, pearson : 2469.88, Samples : 8",
          "n27, None, Bin Value: 128.67, pearson : 255.33, Samples : 6",
          "n52, None, Bin Value: 117, pearson : 4036, Samples : 16",
          "n53, None, Bin Value: 109.4, pearson : 18810.8, Samples : 45",
          "n14, None, Bin Value: 74, pearson : 4226, Samples : 6",
          "n31, None, Bin Value: 134.5, pearson : 427.5, Samples : 6",
          "n60, None, Bin Value: 94.25, pearson : 10528.75, Samples : 36",
          "n61, None, Bin Value: 109.2, pearson : 830.8, Samples : 5",
          "n1, Sales>7.55, Bin Value: 115.78, pearson : 155526.82, Samples : 280",
          "n2, Sales>1.165, Bin Value: 125.18, pearson : 62395.4, Samples : 147",
          "n5, Sales>2.96, Bin Value: 124.01, pearson : 52889.97, Samples : 142",
          "n11, Population>94.5, Bin Value: 123.27, pearson : 49472.26, Samples : 133",
          "n22, Sales>5.01, Bin Value: 117.86, pearson : 6568.57, Samples : 21",
          "n23, Sales>3.545, Bin Value: 124.29, pearson : 42172.86, Samples : 112",
          "n3, Sales>9.825, Bin Value: 105.38, pearson : 65775.44, Samples : 133",
          "n6, Sales>7.79, Bin Value: 110.33, pearson : 32277.55, Samples : 80",
          "n12, Population>254.0, Bin Value: 96.85, pearson : 4043.69, Samples : 13",
          "n13, Sales>9.47, Bin Value: 112.94, pearson : 25413.76, Samples : 67",
          "n26, Population>129.5, Bin Value: 111.39, pearson : 23528.56, Samples : 61",
          "n7, Population>32.0, Bin Value: 97.92, pearson : 28595.7, Samples : 53",
          "n15, CompPrice>146.5, Bin Value: 100.98, pearson : 20496.98, Samples : 47",
          "n30, Income>115.0, Bin Value: 96.07, pearson : 12340.78, Samples : 41"
         ],
         "type": "scatter",
         "x": [
          -11.9375,
          -5.9375,
          -3.4375,
          -2.4375,
          -1.4375,
          -0.4375,
          1.0625,
          3.0625,
          7.0625,
          4.5625,
          5.5625,
          10.0625,
          14.0625,
          12.5625,
          13.5625,
          0,
          -7.9375,
          -3.9375,
          -1.9375,
          -2.9375,
          -0.9375,
          7.9375,
          4.0625,
          2.0625,
          6.0625,
          5.0625,
          11.8125,
          13.5625,
          13.0625
         ],
         "y": [
          6,
          5,
          3,
          3,
          3,
          3,
          4,
          4,
          4,
          3,
          3,
          5,
          4,
          3,
          3,
          8,
          7,
          6,
          5,
          4,
          4,
          7,
          6,
          5,
          5,
          4,
          6,
          5,
          4
         ]
        }
       ],
       "layout": {
        "template": {
         "data": {
          "bar": [
           {
            "error_x": {
             "color": "#2a3f5f"
            },
            "error_y": {
             "color": "#2a3f5f"
            },
            "marker": {
             "line": {
              "color": "#E5ECF6",
              "width": 0.5
             },
             "pattern": {
              "fillmode": "overlay",
              "size": 10,
              "solidity": 0.2
             }
            },
            "type": "bar"
           }
          ],
          "barpolar": [
           {
            "marker": {
             "line": {
              "color": "#E5ECF6",
              "width": 0.5
             },
             "pattern": {
              "fillmode": "overlay",
              "size": 10,
              "solidity": 0.2
             }
            },
            "type": "barpolar"
           }
          ],
          "carpet": [
           {
            "aaxis": {
             "endlinecolor": "#2a3f5f",
             "gridcolor": "white",
             "linecolor": "white",
             "minorgridcolor": "white",
             "startlinecolor": "#2a3f5f"
            },
            "baxis": {
             "endlinecolor": "#2a3f5f",
             "gridcolor": "white",
             "linecolor": "white",
             "minorgridcolor": "white",
             "startlinecolor": "#2a3f5f"
            },
            "type": "carpet"
           }
          ],
          "choropleth": [
           {
            "colorbar": {
             "outlinewidth": 0,
             "ticks": ""
            },
            "type": "choropleth"
           }
          ],
          "contour": [
           {
            "colorbar": {
             "outlinewidth": 0,
             "ticks": ""
            },
            "colorscale": [
             [
              0,
              "#0d0887"
             ],
             [
              0.1111111111111111,
              "#46039f"
             ],
             [
              0.2222222222222222,
              "#7201a8"
             ],
             [
              0.3333333333333333,
              "#9c179e"
             ],
             [
              0.4444444444444444,
              "#bd3786"
             ],
             [
              0.5555555555555556,
              "#d8576b"
             ],
             [
              0.6666666666666666,
              "#ed7953"
             ],
             [
              0.7777777777777778,
              "#fb9f3a"
             ],
             [
              0.8888888888888888,
              "#fdca26"
             ],
             [
              1,
              "#f0f921"
             ]
            ],
            "type": "contour"
           }
          ],
          "contourcarpet": [
           {
            "colorbar": {
             "outlinewidth": 0,
             "ticks": ""
            },
            "type": "contourcarpet"
           }
          ],
          "heatmap": [
           {
            "colorbar": {
             "outlinewidth": 0,
             "ticks": ""
            },
            "colorscale": [
             [
              0,
              "#0d0887"
             ],
             [
              0.1111111111111111,
              "#46039f"
             ],
             [
              0.2222222222222222,
              "#7201a8"
             ],
             [
              0.3333333333333333,
              "#9c179e"
             ],
             [
              0.4444444444444444,
              "#bd3786"
             ],
             [
              0.5555555555555556,
              "#d8576b"
             ],
             [
              0.6666666666666666,
              "#ed7953"
             ],
             [
              0.7777777777777778,
              "#fb9f3a"
             ],
             [
              0.8888888888888888,
              "#fdca26"
             ],
             [
              1,
              "#f0f921"
             ]
            ],
            "type": "heatmap"
           }
          ],
          "heatmapgl": [
           {
            "colorbar": {
             "outlinewidth": 0,
             "ticks": ""
            },
            "colorscale": [
             [
              0,
              "#0d0887"
             ],
             [
              0.1111111111111111,
              "#46039f"
             ],
             [
              0.2222222222222222,
              "#7201a8"
             ],
             [
              0.3333333333333333,
              "#9c179e"
             ],
             [
              0.4444444444444444,
              "#bd3786"
             ],
             [
              0.5555555555555556,
              "#d8576b"
             ],
             [
              0.6666666666666666,
              "#ed7953"
             ],
             [
              0.7777777777777778,
              "#fb9f3a"
             ],
             [
              0.8888888888888888,
              "#fdca26"
             ],
             [
              1,
              "#f0f921"
             ]
            ],
            "type": "heatmapgl"
           }
          ],
          "histogram": [
           {
            "marker": {
             "pattern": {
              "fillmode": "overlay",
              "size": 10,
              "solidity": 0.2
             }
            },
            "type": "histogram"
           }
          ],
          "histogram2d": [
           {
            "colorbar": {
             "outlinewidth": 0,
             "ticks": ""
            },
            "colorscale": [
             [
              0,
              "#0d0887"
             ],
             [
              0.1111111111111111,
              "#46039f"
             ],
             [
              0.2222222222222222,
              "#7201a8"
             ],
             [
              0.3333333333333333,
              "#9c179e"
             ],
             [
              0.4444444444444444,
              "#bd3786"
             ],
             [
              0.5555555555555556,
              "#d8576b"
             ],
             [
              0.6666666666666666,
              "#ed7953"
             ],
             [
              0.7777777777777778,
              "#fb9f3a"
             ],
             [
              0.8888888888888888,
              "#fdca26"
             ],
             [
              1,
              "#f0f921"
             ]
            ],
            "type": "histogram2d"
           }
          ],
          "histogram2dcontour": [
           {
            "colorbar": {
             "outlinewidth": 0,
             "ticks": ""
            },
            "colorscale": [
             [
              0,
              "#0d0887"
             ],
             [
              0.1111111111111111,
              "#46039f"
             ],
             [
              0.2222222222222222,
              "#7201a8"
             ],
             [
              0.3333333333333333,
              "#9c179e"
             ],
             [
              0.4444444444444444,
              "#bd3786"
             ],
             [
              0.5555555555555556,
              "#d8576b"
             ],
             [
              0.6666666666666666,
              "#ed7953"
             ],
             [
              0.7777777777777778,
              "#fb9f3a"
             ],
             [
              0.8888888888888888,
              "#fdca26"
             ],
             [
              1,
              "#f0f921"
             ]
            ],
            "type": "histogram2dcontour"
           }
          ],
          "mesh3d": [
           {
            "colorbar": {
             "outlinewidth": 0,
             "ticks": ""
            },
            "type": "mesh3d"
           }
          ],
          "parcoords": [
           {
            "line": {
             "colorbar": {
              "outlinewidth": 0,
              "ticks": ""
             }
            },
            "type": "parcoords"
           }
          ],
          "pie": [
           {
            "automargin": true,
            "type": "pie"
           }
          ],
          "scatter": [
           {
            "fillpattern": {
             "fillmode": "overlay",
             "size": 10,
             "solidity": 0.2
            },
            "type": "scatter"
           }
          ],
          "scatter3d": [
           {
            "line": {
             "colorbar": {
              "outlinewidth": 0,
              "ticks": ""
             }
            },
            "marker": {
             "colorbar": {
              "outlinewidth": 0,
              "ticks": ""
             }
            },
            "type": "scatter3d"
           }
          ],
          "scattercarpet": [
           {
            "marker": {
             "colorbar": {
              "outlinewidth": 0,
              "ticks": ""
             }
            },
            "type": "scattercarpet"
           }
          ],
          "scattergeo": [
           {
            "marker": {
             "colorbar": {
              "outlinewidth": 0,
              "ticks": ""
             }
            },
            "type": "scattergeo"
           }
          ],
          "scattergl": [
           {
            "marker": {
             "colorbar": {
              "outlinewidth": 0,
              "ticks": ""
             }
            },
            "type": "scattergl"
           }
          ],
          "scattermapbox": [
           {
            "marker": {
             "colorbar": {
              "outlinewidth": 0,
              "ticks": ""
             }
            },
            "type": "scattermapbox"
           }
          ],
          "scatterpolar": [
           {
            "marker": {
             "colorbar": {
              "outlinewidth": 0,
              "ticks": ""
             }
            },
            "type": "scatterpolar"
           }
          ],
          "scatterpolargl": [
           {
            "marker": {
             "colorbar": {
              "outlinewidth": 0,
              "ticks": ""
             }
            },
            "type": "scatterpolargl"
           }
          ],
          "scatterternary": [
           {
            "marker": {
             "colorbar": {
              "outlinewidth": 0,
              "ticks": ""
             }
            },
            "type": "scatterternary"
           }
          ],
          "surface": [
           {
            "colorbar": {
             "outlinewidth": 0,
             "ticks": ""
            },
            "colorscale": [
             [
              0,
              "#0d0887"
             ],
             [
              0.1111111111111111,
              "#46039f"
             ],
             [
              0.2222222222222222,
              "#7201a8"
             ],
             [
              0.3333333333333333,
              "#9c179e"
             ],
             [
              0.4444444444444444,
              "#bd3786"
             ],
             [
              0.5555555555555556,
              "#d8576b"
             ],
             [
              0.6666666666666666,
              "#ed7953"
             ],
             [
              0.7777777777777778,
              "#fb9f3a"
             ],
             [
              0.8888888888888888,
              "#fdca26"
             ],
             [
              1,
              "#f0f921"
             ]
            ],
            "type": "surface"
           }
          ],
          "table": [
           {
            "cells": {
             "fill": {
              "color": "#EBF0F8"
             },
             "line": {
              "color": "white"
             }
            },
            "header": {
             "fill": {
              "color": "#C8D4E3"
             },
             "line": {
              "color": "white"
             }
            },
            "type": "table"
           }
          ]
         },
         "layout": {
          "annotationdefaults": {
           "arrowcolor": "#2a3f5f",
           "arrowhead": 0,
           "arrowwidth": 1
          },
          "autotypenumbers": "strict",
          "coloraxis": {
           "colorbar": {
            "outlinewidth": 0,
            "ticks": ""
           }
          },
          "colorscale": {
           "diverging": [
            [
             0,
             "#8e0152"
            ],
            [
             0.1,
             "#c51b7d"
            ],
            [
             0.2,
             "#de77ae"
            ],
            [
             0.3,
             "#f1b6da"
            ],
            [
             0.4,
             "#fde0ef"
            ],
            [
             0.5,
             "#f7f7f7"
            ],
            [
             0.6,
             "#e6f5d0"
            ],
            [
             0.7,
             "#b8e186"
            ],
            [
             0.8,
             "#7fbc41"
            ],
            [
             0.9,
             "#4d9221"
            ],
            [
             1,
             "#276419"
            ]
           ],
           "sequential": [
            [
             0,
             "#0d0887"
            ],
            [
             0.1111111111111111,
             "#46039f"
            ],
            [
             0.2222222222222222,
             "#7201a8"
            ],
            [
             0.3333333333333333,
             "#9c179e"
            ],
            [
             0.4444444444444444,
             "#bd3786"
            ],
            [
             0.5555555555555556,
             "#d8576b"
            ],
            [
             0.6666666666666666,
             "#ed7953"
            ],
            [
             0.7777777777777778,
             "#fb9f3a"
            ],
            [
             0.8888888888888888,
             "#fdca26"
            ],
            [
             1,
             "#f0f921"
            ]
           ],
           "sequentialminus": [
            [
             0,
             "#0d0887"
            ],
            [
             0.1111111111111111,
             "#46039f"
            ],
            [
             0.2222222222222222,
             "#7201a8"
            ],
            [
             0.3333333333333333,
             "#9c179e"
            ],
            [
             0.4444444444444444,
             "#bd3786"
            ],
            [
             0.5555555555555556,
             "#d8576b"
            ],
            [
             0.6666666666666666,
             "#ed7953"
            ],
            [
             0.7777777777777778,
             "#fb9f3a"
            ],
            [
             0.8888888888888888,
             "#fdca26"
            ],
            [
             1,
             "#f0f921"
            ]
           ]
          },
          "colorway": [
           "#636efa",
           "#EF553B",
           "#00cc96",
           "#ab63fa",
           "#FFA15A",
           "#19d3f3",
           "#FF6692",
           "#B6E880",
           "#FF97FF",
           "#FECB52"
          ],
          "font": {
           "color": "#2a3f5f"
          },
          "geo": {
           "bgcolor": "white",
           "lakecolor": "white",
           "landcolor": "#E5ECF6",
           "showlakes": true,
           "showland": true,
           "subunitcolor": "white"
          },
          "hoverlabel": {
           "align": "left"
          },
          "hovermode": "closest",
          "mapbox": {
           "style": "light"
          },
          "paper_bgcolor": "white",
          "plot_bgcolor": "#E5ECF6",
          "polar": {
           "angularaxis": {
            "gridcolor": "white",
            "linecolor": "white",
            "ticks": ""
           },
           "bgcolor": "#E5ECF6",
           "radialaxis": {
            "gridcolor": "white",
            "linecolor": "white",
            "ticks": ""
           }
          },
          "scene": {
           "xaxis": {
            "backgroundcolor": "#E5ECF6",
            "gridcolor": "white",
            "gridwidth": 2,
            "linecolor": "white",
            "showbackground": true,
            "ticks": "",
            "zerolinecolor": "white"
           },
           "yaxis": {
            "backgroundcolor": "#E5ECF6",
            "gridcolor": "white",
            "gridwidth": 2,
            "linecolor": "white",
            "showbackground": true,
            "ticks": "",
            "zerolinecolor": "white"
           },
           "zaxis": {
            "backgroundcolor": "#E5ECF6",
            "gridcolor": "white",
            "gridwidth": 2,
            "linecolor": "white",
            "showbackground": true,
            "ticks": "",
            "zerolinecolor": "white"
           }
          },
          "shapedefaults": {
           "line": {
            "color": "#2a3f5f"
           }
          },
          "ternary": {
           "aaxis": {
            "gridcolor": "white",
            "linecolor": "white",
            "ticks": ""
           },
           "baxis": {
            "gridcolor": "white",
            "linecolor": "white",
            "ticks": ""
           },
           "bgcolor": "#E5ECF6",
           "caxis": {
            "gridcolor": "white",
            "linecolor": "white",
            "ticks": ""
           }
          },
          "title": {
           "x": 0.05
          },
          "xaxis": {
           "automargin": true,
           "gridcolor": "white",
           "linecolor": "white",
           "ticks": "",
           "title": {
            "standoff": 15
           },
           "zerolinecolor": "white",
           "zerolinewidth": 2
          },
          "yaxis": {
           "automargin": true,
           "gridcolor": "white",
           "linecolor": "white",
           "ticks": "",
           "title": {
            "standoff": 15
           },
           "zerolinecolor": "white",
           "zerolinewidth": 2
          }
         }
        },
        "title": {
         "text": "CART_tree"
        }
       }
      }
     },
     "metadata": {},
     "output_type": "display_data"
    }
   ],
   "source": [
    "import warnings\n",
    "warnings.filterwarnings(\"ignore\", category=FutureWarning) \n",
    "\n",
    "\n",
    "cart.print_tree(table = False, html = False)#.style.hide_index() #print both the pruned and non pruned tree \n",
    "#cart.print_tree(table = False, html = False, visual_pruning = True)"
   ]
  },
  {
   "cell_type": "code",
   "execution_count": 4,
   "metadata": {},
   "outputs": [
    {
     "data": {
      "text/html": [
       "<div>\n",
       "<style scoped>\n",
       "    .dataframe tbody tr th:only-of-type {\n",
       "        vertical-align: middle;\n",
       "    }\n",
       "\n",
       "    .dataframe tbody tr th {\n",
       "        vertical-align: top;\n",
       "    }\n",
       "\n",
       "    .dataframe thead th {\n",
       "        text-align: right;\n",
       "    }\n",
       "</style>\n",
       "<table border=\"1\" class=\"dataframe\">\n",
       "  <thead>\n",
       "    <tr style=\"text-align: right;\">\n",
       "      <th></th>\n",
       "      <th>Sales</th>\n",
       "      <th>CompPrice</th>\n",
       "      <th>Income</th>\n",
       "      <th>Advertising</th>\n",
       "      <th>Population</th>\n",
       "      <th>Age</th>\n",
       "      <th>Education</th>\n",
       "    </tr>\n",
       "  </thead>\n",
       "  <tbody>\n",
       "    <tr>\n",
       "      <th>1</th>\n",
       "      <td>11.22</td>\n",
       "      <td>111</td>\n",
       "      <td>48</td>\n",
       "      <td>16</td>\n",
       "      <td>260</td>\n",
       "      <td>65</td>\n",
       "      <td>10</td>\n",
       "    </tr>\n",
       "    <tr>\n",
       "      <th>2</th>\n",
       "      <td>10.06</td>\n",
       "      <td>113</td>\n",
       "      <td>35</td>\n",
       "      <td>10</td>\n",
       "      <td>269</td>\n",
       "      <td>59</td>\n",
       "      <td>12</td>\n",
       "    </tr>\n",
       "    <tr>\n",
       "      <th>3</th>\n",
       "      <td>7.40</td>\n",
       "      <td>117</td>\n",
       "      <td>100</td>\n",
       "      <td>4</td>\n",
       "      <td>466</td>\n",
       "      <td>55</td>\n",
       "      <td>14</td>\n",
       "    </tr>\n",
       "    <tr>\n",
       "      <th>4</th>\n",
       "      <td>4.15</td>\n",
       "      <td>141</td>\n",
       "      <td>64</td>\n",
       "      <td>3</td>\n",
       "      <td>340</td>\n",
       "      <td>38</td>\n",
       "      <td>13</td>\n",
       "    </tr>\n",
       "    <tr>\n",
       "      <th>5</th>\n",
       "      <td>10.81</td>\n",
       "      <td>124</td>\n",
       "      <td>113</td>\n",
       "      <td>13</td>\n",
       "      <td>501</td>\n",
       "      <td>78</td>\n",
       "      <td>16</td>\n",
       "    </tr>\n",
       "    <tr>\n",
       "      <th>6</th>\n",
       "      <td>6.63</td>\n",
       "      <td>115</td>\n",
       "      <td>105</td>\n",
       "      <td>0</td>\n",
       "      <td>45</td>\n",
       "      <td>71</td>\n",
       "      <td>15</td>\n",
       "    </tr>\n",
       "    <tr>\n",
       "      <th>7</th>\n",
       "      <td>11.85</td>\n",
       "      <td>136</td>\n",
       "      <td>81</td>\n",
       "      <td>15</td>\n",
       "      <td>425</td>\n",
       "      <td>67</td>\n",
       "      <td>10</td>\n",
       "    </tr>\n",
       "    <tr>\n",
       "      <th>8</th>\n",
       "      <td>6.54</td>\n",
       "      <td>132</td>\n",
       "      <td>110</td>\n",
       "      <td>0</td>\n",
       "      <td>108</td>\n",
       "      <td>76</td>\n",
       "      <td>10</td>\n",
       "    </tr>\n",
       "    <tr>\n",
       "      <th>9</th>\n",
       "      <td>4.69</td>\n",
       "      <td>132</td>\n",
       "      <td>113</td>\n",
       "      <td>0</td>\n",
       "      <td>131</td>\n",
       "      <td>76</td>\n",
       "      <td>17</td>\n",
       "    </tr>\n",
       "    <tr>\n",
       "      <th>10</th>\n",
       "      <td>9.01</td>\n",
       "      <td>121</td>\n",
       "      <td>78</td>\n",
       "      <td>9</td>\n",
       "      <td>150</td>\n",
       "      <td>26</td>\n",
       "      <td>10</td>\n",
       "    </tr>\n",
       "  </tbody>\n",
       "</table>\n",
       "</div>"
      ],
      "text/plain": [
       "    Sales  CompPrice  Income  Advertising  Population  Age  Education\n",
       "1   11.22        111      48           16         260   65         10\n",
       "2   10.06        113      35           10         269   59         12\n",
       "3    7.40        117     100            4         466   55         14\n",
       "4    4.15        141      64            3         340   38         13\n",
       "5   10.81        124     113           13         501   78         16\n",
       "6    6.63        115     105            0          45   71         15\n",
       "7   11.85        136      81           15         425   67         10\n",
       "8    6.54        132     110            0         108   76         10\n",
       "9    4.69        132     113            0         131   76         17\n",
       "10   9.01        121      78            9         150   26         10"
      ]
     },
     "execution_count": 4,
     "metadata": {},
     "output_type": "execute_result"
    }
   ],
   "source": [
    "cart.df.loc[1:10, features_names]"
   ]
  },
  {
   "cell_type": "code",
   "execution_count": 5,
   "metadata": {},
   "outputs": [
    {
     "name": "stdout",
     "output_type": "stream",
     "text": [
      "\n",
      "\n",
      "Folds:  1\n",
      "Split Found:  n1 [['CompPrice', 127.5, 3443383.899844921, 0]] start\n",
      "node_proportion_total  0.20314186702064307\n",
      "Split Found:  n2 [['Sales', 7.55, 1693667.9671065214, 1]] left\n",
      "node_proportion_total  0.3010167133729555\n",
      "Node_proportion_gain  0.09787484635231242\n",
      "Split Found:  n4 [['Age', 53.5, 1117055.3981106612, 2]] left\n",
      "node_proportion_total  0.3316952130875218\n",
      "Node_proportion_gain  0.03067849971456632\n",
      "Split Found:  n8 [['Income', 67.0, 418639.07692307694, 3]] left\n",
      "node_proportion_total  0.3479996948239073\n",
      "Node_proportion_gain  0.01630448173638549\n",
      "Split Found:  n16 [['Age', 40.5, 179045.45238095237, 4]] left\n",
      "node_proportion_total  0.35398462236823613\n",
      "Node_proportion_gain  0.005984927544328833\n",
      "This split isn't good now i cut it [reg delta]\n",
      "Split Found:  n17 [['CompPrice', 120.5, 241165.92500000002, 4]] right\n",
      "node_proportion_total  0.3590137100692649\n",
      "Node_proportion_gain  0.005029087701028778\n",
      "This split isn't good now i cut it [reg delta]\n",
      "Split Found:  n9 [['Sales', 2.755, 702866.0392156863, 3]] right\n",
      "node_proportion_total  0.3738796461455666\n",
      "Node_proportion_gain  0.014865936076301711\n",
      "Node Search Split Error for:  n18 with obs in node:  6  which is less than minimum parent size:  10\n",
      "TypeError: Node search split (cart) failure\n",
      "Split Found:  n19 [['ShelveLoc', ('Good', 'Medium'), 605057.294117647, 4]] right\n",
      "node_proportion_total  0.3845407556524298\n",
      "Node_proportion_gain  0.010661109506863164\n",
      "Split Found:  n5 [['CompPrice', 99.0, 589977.9074074074, 2]] right\n",
      "node_proportion_total  0.4474868811084602\n",
      "Node_proportion_gain  0.0629461254560304\n",
      "Node Search Split Error for:  n10 with obs in node:  9  which is less than minimum parent size:  10\n",
      "TypeError: Node search split (cart) failure\n",
      "Split Found:  n11 [['Sales', 10.629999999999999, 552463.9643527204, 3]] right\n",
      "node_proportion_total  0.465836572541489\n",
      "Node_proportion_gain  0.018349691433028836\n",
      "Split Found:  n22 [['ShelveLoc', ('Bad', 'Medium'), 454312.4878787879, 4]] left\n",
      "node_proportion_total  0.49214952404042106\n",
      "Node_proportion_gain  0.026312951498932036\n",
      "Split Found:  n23 [['Age', 37.0, 103068.2380952381, 4]] right\n",
      "node_proportion_total  0.5002786457365971\n",
      "Node_proportion_gain  0.008129121696176023\n",
      "This split isn't good now i cut it [reg delta]\n",
      "Split Found:  n3 [['Sales', 7.555, 1778363.574074074, 1]] right\n",
      "node_proportion_total  0.6030814477524613\n",
      "Node_proportion_gain  0.10280280201586423\n",
      "Split Found:  n6 [['CompPrice', 135.5, 1071995.7407407407, 2]] left\n",
      "node_proportion_total  0.641330090756815\n",
      "Node_proportion_gain  0.03824864300435371\n",
      "Split Found:  n12 [['Sales', 4.93, 460789.3714285714, 3]] left\n",
      "node_proportion_total  0.6490574269598207\n",
      "Node_proportion_gain  0.007727336203005697\n",
      "This split isn't good now i cut it [reg delta]\n",
      "Split Found:  n13 [['Sales', 3.5700000000000003, 613654.9363636364, 3]] right\n",
      "node_proportion_total  0.6584823816558327\n",
      "Node_proportion_gain  0.009424954696012011\n",
      "This split isn't good now i cut it [reg delta]\n",
      "Split Found:  n7 [['CompPrice', 146.5, 716481.2307692308, 2]] right\n",
      "node_proportion_total  0.6910784127615711\n",
      "Node_proportion_gain  0.03259603110573839\n",
      "Split Found:  n14 [['Sales', 11.805, 486626.7857142857, 3]] left\n",
      "node_proportion_total  0.7011269774134857\n",
      "Node_proportion_gain  0.010048564651914615\n",
      "Split Found:  n28 [['ShelveLoc', ('Bad', 'Medium'), 419883.61142857146, 4]] left\n",
      "node_proportion_total  0.7100311538275481\n",
      "Node_proportion_gain  0.008904176414062381\n",
      "This split isn't good now i cut it [reg delta]\n",
      "Node Search Split Error for:  n29 with obs in node:  7  which is less than minimum parent size:  10\n",
      "TypeError: Node search split (cart) failure\n",
      "Split Found:  n15 [['Population', 228.5, 231477.32499999998, 3]] right\n",
      "node_proportion_total  0.7113509153544434\n",
      "Node_proportion_gain  0.00131976152689528\n",
      "This split isn't good now i cut it [reg delta]\n",
      "training mse 170.9\n",
      "\n",
      "\n",
      "Folds:  2\n",
      "Split Found:  n1 [['CompPrice', 121.5, 3421133.29516671, 0]] start\n",
      "node_proportion_total  0.2187263522105488\n",
      "Split Found:  n2 [['Sales', 7.55, 1141688.875, 1]] left\n",
      "node_proportion_total  0.3037404574597231\n",
      "Node_proportion_gain  0.0850141052491743\n",
      "Split Found:  n4 [['Age', 55.5, 719209.0499999999, 2]] left\n",
      "node_proportion_total  0.3225733348187036\n",
      "Node_proportion_gain  0.018832877358980482\n",
      "Split Found:  n8 [['Income', 63.5, 299879.2083333334, 3]] left\n",
      "node_proportion_total  0.3315584612149342\n",
      "Node_proportion_gain  0.008985126396230614\n",
      "This split isn't good now i cut it [reg delta]\n",
      "Split Found:  n9 [['Sales', 3.46, 421844.2258064516, 3]] right\n",
      "node_proportion_total  0.34105493273373094\n",
      "Node_proportion_gain  0.009496471518796734\n",
      "This split isn't good now i cut it [reg delta]\n",
      "Split Found:  n5 [['CompPrice', 99.0, 428880.1488095238, 2]] right\n",
      "node_proportion_total  0.369266661368691\n",
      "Node_proportion_gain  0.028211728634960076\n",
      "Node Search Split Error for:  n10 with obs in node:  8  which is less than minimum parent size:  10\n",
      "TypeError: Node search split (cart) failure\n",
      "Split Found:  n11 [['Sales', 9.79, 389079.84210526315, 3]] right\n",
      "node_proportion_total  0.38261355737300445\n",
      "Node_proportion_gain  0.013346896004313435\n",
      "Split Found:  n22 [['ShelveLoc', ('Bad', 'Medium'), 242485.16666666666, 4]] left\n",
      "node_proportion_total  0.40608444293707296\n",
      "Node_proportion_gain  0.02347088556406851\n",
      "Split Found:  n23 [['CompPrice', 115.5, 150556.95454545453, 4]] right\n",
      "node_proportion_total  0.41173768686513823\n",
      "Node_proportion_gain  0.005653243928065266\n",
      "This split isn't good now i cut it [reg delta]\n",
      "Split Found:  n3 [['Sales', 7.555, 2306640.1096096095, 1]] right\n",
      "node_proportion_total  0.5266213575177073\n",
      "Node_proportion_gain  0.1148836706525691\n",
      "Split Found:  n6 [['CompPrice', 135.5, 1366800.9615384615, 2]] left\n",
      "node_proportion_total  0.5904547729125407\n",
      "Node_proportion_gain  0.06383341539483334\n",
      "Split Found:  n12 [['Sales', 5.045, 782523.375, 3]] left\n",
      "node_proportion_total  0.6067973524389286\n",
      "Node_proportion_gain  0.016342579526387957\n",
      "Split Found:  n24 [['Age', 51.5, 301726.2666666667, 4]] left\n",
      "node_proportion_total  0.613221678916643\n",
      "Node_proportion_gain  0.006424326477714404\n",
      "This split isn't good now i cut it [reg delta]\n",
      "Split Found:  n25 [['CompPrice', 124.5, 483456.5257142857, 4]] right\n",
      "node_proportion_total  0.6263449951182213\n",
      "Node_proportion_gain  0.01312331620157825\n",
      "Split Found:  n13 [['Sales', 3.5700000000000003, 587932.6571428572, 3]] right\n",
      "node_proportion_total  0.6368684557456081\n",
      "Node_proportion_gain  0.01052346062738685\n",
      "Node Search Split Error for:  n26 with obs in node:  5  which is less than minimum parent size:  10\n",
      "TypeError: Node search split (cart) failure\n",
      "Split Found:  n27 [['Advertising', 8.0, 451974.2625, 4]] right\n",
      "node_proportion_total  0.6429501728871908\n",
      "Node_proportion_gain  0.0060817171415826765\n",
      "This split isn't good now i cut it [reg delta]\n",
      "Split Found:  n7 [['CompPrice', 146.5, 953798.2333333334, 2]] right\n",
      "node_proportion_total  0.6817208890549107\n",
      "Node_proportion_gain  0.038770716167719876\n",
      "Split Found:  n14 [['ShelveLoc', ('Bad', 'Medium'), 740536.9534883721, 3]] left\n",
      "node_proportion_total  0.6960011703897575\n",
      "Node_proportion_gain  0.014280281334846823\n",
      "Split Found:  n28 [['Sales', 11.99, 246840.25757575757, 4]] left\n",
      "node_proportion_total  0.7109977731608301\n",
      "Node_proportion_gain  0.01499660277107262\n",
      "Split Found:  n29 [['Sales', 10.7, 498005.9369369368, 4]] right\n",
      "node_proportion_total  0.7276755906465124\n",
      "Node_proportion_gain  0.01667781748568231\n",
      "Split Found:  n15 [['CompPrice', 150.5, 215310.0857142857, 3]] right\n",
      "node_proportion_total  0.7284547450134999\n",
      "Node_proportion_gain  0.0007791543669875001\n",
      "This split isn't good now i cut it [reg delta]\n",
      "training mse 291.04\n",
      "\n",
      "\n",
      "Folds:  3\n",
      "Split Found:  n1 [['CompPrice', 121.5, 3442491.6258503404, 0]] start\n",
      "node_proportion_total  0.1969963363993351\n",
      "Split Found:  n2 [['CompPrice', 95.0, 1145497.9797979798, 1]] left\n",
      "node_proportion_total  0.2803797877433978\n",
      "Node_proportion_gain  0.08338345134406269\n",
      "Node Search Split Error for:  n4 with obs in node:  6  which is less than minimum parent size:  10\n",
      "TypeError: Node search split (cart) failure\n",
      "Split Found:  n5 [['Sales', 9.79, 1130920.1666666667, 2]] right\n",
      "node_proportion_total  0.33297953116450063\n",
      "Node_proportion_gain  0.05259974342110285\n",
      "Split Found:  n10 [['ShelveLoc', ('Bad', 'Medium'), 995073.0467532467, 3]] left\n",
      "node_proportion_total  0.35905868902424865\n",
      "Node_proportion_gain  0.026079157859748014\n",
      "Split Found:  n20 [['CompPrice', 114.5, 179598.2, 4]] left\n",
      "node_proportion_total  0.36004960074900655\n",
      "Node_proportion_gain  0.0009909117247579036\n",
      "This split isn't good now i cut it [reg delta]\n",
      "Split Found:  n21 [['Sales', 7.315, 819234.9465811965, 4]] right\n",
      "node_proportion_total  0.38541233939946234\n",
      "Node_proportion_gain  0.025362738650455796\n",
      "Split Found:  n11 [['Advertising', 2.0, 140574.23076923078, 3]] right\n",
      "node_proportion_total  0.3924643834968821\n",
      "Node_proportion_gain  0.007052044097419774\n",
      "This split isn't good now i cut it [reg delta]\n",
      "Split Found:  n3 [['Sales', 7.555, 2324061.005, 1]] right\n",
      "node_proportion_total  0.4987896491885173\n",
      "Node_proportion_gain  0.1063252656916352\n",
      "Split Found:  n6 [['CompPrice', 135.5, 1381817.82, 2]] left\n",
      "node_proportion_total  0.563739439880974\n",
      "Node_proportion_gain  0.06494979069245665\n",
      "Split Found:  n12 [['Sales', 3.65, 814191.7555555556, 3]] left\n",
      "node_proportion_total  0.5805530118063372\n",
      "Node_proportion_gain  0.016813571925363258\n",
      "Node Search Split Error for:  n24 with obs in node:  5  which is less than minimum parent size:  10\n",
      "TypeError: Node search split (cart) failure\n",
      "Split Found:  n25 [['Age', 76.5, 705560.025, 4]] right\n",
      "node_proportion_total  0.5888546779980117\n",
      "Node_proportion_gain  0.008301666191674495\n",
      "This split isn't good now i cut it [reg delta]\n",
      "Split Found:  n13 [['Sales', 3.9350000000000005, 571285.2499999999, 3]] right\n",
      "node_proportion_total  0.5976874721803597\n",
      "Node_proportion_gain  0.008832794182347947\n",
      "This split isn't good now i cut it [reg delta]\n",
      "Split Found:  n7 [['CompPrice', 146.5, 956986.8539765319, 2]] right\n",
      "node_proportion_total  0.6360725702499558\n",
      "Node_proportion_gain  0.03838509806959611\n",
      "Split Found:  n14 [['Sales', 10.7, 728254.3488372093, 3]] left\n",
      "node_proportion_total  0.6577315003740173\n",
      "Node_proportion_gain  0.021658930124061504\n",
      "Split Found:  n28 [['ShelveLoc', ('Bad', 'Medium'), 573021.0212121212, 4]] left\n",
      "node_proportion_total  0.6688240767244913\n",
      "Node_proportion_gain  0.011092576350474004\n",
      "Split Found:  n29 [['ShelveLoc', ('Bad', 'Medium'), 158244.57142857142, 4]] right\n",
      "node_proportion_total  0.6788365959892042\n",
      "Node_proportion_gain  0.010012519264712916\n",
      "Split Found:  n15 [['Population', 228.5, 231999.32499999998, 3]] right\n",
      "node_proportion_total  0.6800740336177076\n",
      "Node_proportion_gain  0.0012374376285033684\n",
      "This split isn't good now i cut it [reg delta]\n",
      "training mse 335.96\n",
      "\n",
      "\n",
      "Folds:  4\n",
      "Split Found:  n1 [['CompPrice', 121.5, 3406896.1453864044, 0]] start\n",
      "node_proportion_total  0.2073472644596289\n",
      "Split Found:  n2 [['Sales', 7.55, 1132235.732976827, 1]] left\n",
      "node_proportion_total  0.2859375824116045\n",
      "Node_proportion_gain  0.0785903179519756\n",
      "Split Found:  n4 [['ShelveLoc', ('Bad', 'Medium'), 703579.7000000001, 2]] left\n",
      "node_proportion_total  0.3038358012952254\n",
      "Node_proportion_gain  0.01789821888362092\n",
      "Node Search Split Error for:  n8 with obs in node:  5  which is less than minimum parent size:  10\n",
      "TypeError: Node search split (cart) failure\n",
      "Split Found:  n9 [['Age', 54.5, 614572.5919117647, 3]] right\n",
      "node_proportion_total  0.3163649619189046\n",
      "Node_proportion_gain  0.012529160623679203\n",
      "Split Found:  n18 [['Income', 49.5, 229666.14285714287, 4]] left\n",
      "node_proportion_total  0.3227585861756098\n",
      "Node_proportion_gain  0.006393624256705199\n",
      "This split isn't good now i cut it [reg delta]\n",
      "Split Found:  n19 [['Population', 179.0, 386868.1214285714, 4]] right\n",
      "node_proportion_total  0.32966414260780175\n",
      "Node_proportion_gain  0.006905556432191928\n",
      "This split isn't good now i cut it [reg delta]\n",
      "Split Found:  n5 [['CompPrice', 99.0, 438226.8015873016, 2]] right\n",
      "node_proportion_total  0.37665106090234124\n",
      "Node_proportion_gain  0.04698691829453949\n",
      "Node Search Split Error for:  n10 with obs in node:  9  which is less than minimum parent size:  10\n",
      "TypeError: Node search split (cart) failure\n",
      "Split Found:  n11 [['Sales', 9.79, 400640.1899313501, 3]] right\n",
      "node_proportion_total  0.3939173434316617\n",
      "Node_proportion_gain  0.017266282529320442\n",
      "Split Found:  n22 [['ShelveLoc', ('Bad', 'Medium'), 254214.63392857142, 4]] left\n",
      "node_proportion_total  0.4167120011933345\n",
      "Node_proportion_gain  0.022794657761672832\n",
      "Split Found:  n23 [['CompPrice', 115.5, 150556.95454545453, 4]] right\n",
      "node_proportion_total  0.42192620793244967\n",
      "Node_proportion_gain  0.005214206739115157\n",
      "This split isn't good now i cut it [reg delta]\n",
      "Split Found:  n3 [['Sales', 7.555, 2304273.84713615, 1]] right\n",
      "node_proportion_total  0.5441005153468478\n",
      "Node_proportion_gain  0.12217430741439811\n",
      "Split Found:  n6 [['CompPrice', 135.5, 1395115.8541666667, 2]] left\n",
      "node_proportion_total  0.6051408031597152\n",
      "Node_proportion_gain  0.06104028781286741\n",
      "Split Found:  n12 [['Sales', 3.65, 785446.4325581396, 3]] left\n",
      "node_proportion_total  0.6209974824180109\n",
      "Node_proportion_gain  0.015856679258295703\n",
      "Node Search Split Error for:  n24 with obs in node:  5  which is less than minimum parent size:  10\n",
      "TypeError: Node search split (cart) failure\n",
      "Split Found:  n25 [['Education', 11.5, 676849.2647058824, 4]] right\n",
      "node_proportion_total  0.6292619250505822\n",
      "Node_proportion_gain  0.008264442632571312\n",
      "This split isn't good now i cut it [reg delta]\n",
      "Split Found:  n13 [['Sales', 3.5700000000000003, 613360.5272727273, 3]] right\n",
      "node_proportion_total  0.6384291395993732\n",
      "Node_proportion_gain  0.009167214548790992\n",
      "This split isn't good now i cut it [reg delta]\n",
      "Split Found:  n7 [['CompPrice', 146.5, 924757.473474801, 2]] right\n",
      "node_proportion_total  0.6831457114171748\n",
      "Node_proportion_gain  0.04471657181780164\n",
      "Split Found:  n14 [['Sales', 10.7, 695506.2248062015, 3]] left\n",
      "node_proportion_total  0.7132794762967788\n",
      "Node_proportion_gain  0.030133764879603953\n",
      "Split Found:  n28 [['ShelveLoc', ('Bad', 'Medium'), 563892.9303030303, 4]] left\n",
      "node_proportion_total  0.7259461271230854\n",
      "Node_proportion_gain  0.01266665082630658\n",
      "Split Found:  n29 [['CompPrice', 133.5, 134766.11111111112, 4]] right\n",
      "node_proportion_total  0.7346540331824056\n",
      "Node_proportion_gain  0.008707906059320258\n",
      "This split isn't good now i cut it [reg delta]\n",
      "Split Found:  n15 [['CompPrice', 152.0, 233881.28571428574, 3]] right\n",
      "node_proportion_total  0.7359096583378433\n",
      "Node_proportion_gain  0.0012556251554376452\n",
      "This split isn't good now i cut it [reg delta]\n",
      "training mse 236.62\n",
      "\n",
      "\n",
      "Folds:  5\n",
      "Split Found:  n1 [['CompPrice', 127.5, 3410592.379748485, 0]] start\n",
      "node_proportion_total  0.20982115440567525\n",
      "Split Found:  n2 [['Sales', 7.55, 1714651.9796703297, 1]] left\n",
      "node_proportion_total  0.3223075357771071\n",
      "Node_proportion_gain  0.11248638137143183\n",
      "Split Found:  n4 [['Age', 53.5, 1132930.0169491526, 2]] left\n",
      "node_proportion_total  0.35540241785790544\n",
      "Node_proportion_gain  0.03309488208079836\n",
      "Split Found:  n8 [['Income', 67.0, 408185.641025641, 3]] left\n",
      "node_proportion_total  0.3723719820632125\n",
      "Node_proportion_gain  0.01696956420530704\n",
      "Split Found:  n16 [['Age', 40.5, 165705.4857142857, 4]] left\n",
      "node_proportion_total  0.3791773343595616\n",
      "Node_proportion_gain  0.006805352296349099\n",
      "This split isn't good now i cut it [reg delta]\n",
      "Split Found:  n17 [['Education', 12.5, 244106.4523809523, 4]] right\n",
      "node_proportion_total  0.3837917801410465\n",
      "Node_proportion_gain  0.004614445781484899\n",
      "This split isn't good now i cut it [reg delta]\n",
      "Split Found:  n9 [['Sales', 2.755, 729241.6855345912, 3]] right\n",
      "node_proportion_total  0.3984021582551071\n",
      "Node_proportion_gain  0.01461037811406063\n",
      "Node Search Split Error for:  n18 with obs in node:  6  which is less than minimum parent size:  10\n",
      "TypeError: Node search split (cart) failure\n",
      "Split Found:  n19 [['ShelveLoc', ('Good', 'Medium'), 631496.8366013071, 4]] right\n",
      "node_proportion_total  0.40953771192610117\n",
      "Node_proportion_gain  0.011135553670994058\n",
      "Split Found:  n5 [['CompPrice', 99.0, 592208.0221674877, 2]] right\n",
      "node_proportion_total  0.45007555276393885\n",
      "Node_proportion_gain  0.04053784083783768\n",
      "Node Search Split Error for:  n10 with obs in node:  7  which is less than minimum parent size:  10\n",
      "TypeError: Node search split (cart) failure\n",
      "Split Found:  n11 [['Advertising', 17.5, 563090.9358974359, 3]] right\n",
      "node_proportion_total  0.47194936529833664\n",
      "Node_proportion_gain  0.021873812534397796\n",
      "Split Found:  n22 [['Sales', 9.715, 480098.87557603687, 4]] left\n",
      "node_proportion_total  0.49419569127925045\n",
      "Node_proportion_gain  0.022246325980913806\n",
      "Node Search Split Error for:  n23 with obs in node:  6  which is less than minimum parent size:  10\n",
      "TypeError: Node search split (cart) failure\n",
      "Split Found:  n3 [['Sales', 7.5649999999999995, 1727400.0990173845, 1]] right\n",
      "node_proportion_total  0.6026181562629683\n",
      "Node_proportion_gain  0.10842246498371788\n",
      "Split Found:  n6 [['CompPrice', 135.5, 988873.0606060604, 2]] left\n",
      "node_proportion_total  0.6304152378852922\n",
      "Node_proportion_gain  0.02779708162232386\n",
      "Split Found:  n12 [['Sales', 5.63, 383411.64999999997, 3]] left\n",
      "node_proportion_total  0.638412711295813\n",
      "Node_proportion_gain  0.007997473410520817\n",
      "This split isn't good now i cut it [reg delta]\n",
      "Split Found:  n13 [['Sales', 3.5700000000000003, 608076.7090909092, 3]] right\n",
      "node_proportion_total  0.6487797674466933\n",
      "Node_proportion_gain  0.010367056150880294\n",
      "Node Search Split Error for:  n26 with obs in node:  5  which is less than minimum parent size:  10\n",
      "TypeError: Node search split (cart) failure\n",
      "Split Found:  n27 [['CompPrice', 142.0, 472231.73333333334, 4]] right\n",
      "node_proportion_total  0.6553862005984654\n",
      "Node_proportion_gain  0.0066064331517721175\n",
      "This split isn't good now i cut it [reg delta]\n",
      "Split Found:  n7 [['CompPrice', 146.0, 747782.4, 2]] right\n",
      "node_proportion_total  0.6925799269016618\n",
      "Node_proportion_gain  0.037193726303196395\n",
      "Split Found:  n14 [['Sales', 11.879999999999999, 498094.90625, 3]] left\n",
      "node_proportion_total  0.7044927312563936\n",
      "Node_proportion_gain  0.011912804354731743\n",
      "Split Found:  n28 [['ShelveLoc', ('Bad', 'Medium'), 421885.5714285714, 4]] left\n",
      "node_proportion_total  0.7130018772240592\n",
      "Node_proportion_gain  0.00850914596766561\n",
      "This split isn't good now i cut it [reg delta]\n",
      "Node Search Split Error for:  n29 with obs in node:  8  which is less than minimum parent size:  10\n",
      "TypeError: Node search split (cart) failure\n",
      "Split Found:  n15 [['Income', 81.5, 251765.1111111111, 3]] right\n",
      "node_proportion_total  0.7156780253986273\n",
      "Node_proportion_gain  0.0026761481745681825\n",
      "This split isn't good now i cut it [reg delta]\n",
      "training mse 240.19\n",
      "\n",
      "\n",
      "Folds:  6\n",
      "Split Found:  n1 [['CompPrice', 127.5, 3370501.7954781703, 0]] start\n",
      "node_proportion_total  0.19952435156559611\n",
      "Split Found:  n2 [['Sales', 9.79, 1696347.7437398375, 1]] left\n",
      "node_proportion_total  0.310196879746371\n",
      "Node_proportion_gain  0.11067252818077489\n",
      "Split Found:  n4 [['CompPrice', 95.0, 1523089.3731527093, 2]] left\n",
      "node_proportion_total  0.3490405388226531\n",
      "Node_proportion_gain  0.03884365907628212\n",
      "Node Search Split Error for:  n8 with obs in node:  7  which is less than minimum parent size:  10\n",
      "TypeError: Node search split (cart) failure\n",
      "Split Found:  n9 [['Age', 53.5, 1477709.7389668147, 3]] right\n",
      "node_proportion_total  0.38557126615461534\n",
      "Node_proportion_gain  0.03653072733196222\n",
      "Split Found:  n18 [['Income', 89.5, 553651.9, 4]] left\n",
      "node_proportion_total  0.3985349093768646\n",
      "Node_proportion_gain  0.012963643222249244\n",
      "Split Found:  n19 [['Sales', 2.755, 928542.9594594594, 4]] right\n",
      "node_proportion_total  0.41931237638310537\n",
      "Node_proportion_gain  0.02077746700624078\n",
      "Split Found:  n5 [['CompPrice', 105.5, 182008.00877192983, 2]] right\n",
      "node_proportion_total  0.4462913650900786\n",
      "Node_proportion_gain  0.02697898870697324\n",
      "Node Search Split Error for:  n10 with obs in node:  6  which is less than minimum parent size:  10\n",
      "TypeError: Node search split (cart) failure\n",
      "Split Found:  n11 [['Advertising', 2.0, 159014.37142857147, 3]] right\n",
      "node_proportion_total  0.45341200996118475\n",
      "Node_proportion_gain  0.007120644871106141\n",
      "This split isn't good now i cut it [reg delta]\n",
      "Split Found:  n3 [['Sales', 7.085, 1702804.4741996233, 1]] right\n",
      "node_proportion_total  0.5582737275034744\n",
      "Node_proportion_gain  0.10486171754228962\n",
      "Split Found:  n6 [['CompPrice', 136.0, 893483.8571428573, 2]] left\n",
      "node_proportion_total  0.579206207003648\n",
      "Node_proportion_gain  0.02093247950017363\n",
      "Split Found:  n12 [['Sales', 4.5600000000000005, 427116.66666666674, 3]] left\n",
      "node_proportion_total  0.5825915117301813\n",
      "Node_proportion_gain  0.0033853047265333114\n",
      "This split isn't good now i cut it [reg delta]\n",
      "Split Found:  n13 [['Population', 353.5, 468326.5666666666, 3]] right\n",
      "node_proportion_total  0.5939463969562605\n",
      "Node_proportion_gain  0.011354885226079192\n",
      "Split Found:  n26 [['CompPrice', 142.0, 310857.64285714284, 4]] left\n",
      "node_proportion_total  0.6012328981909862\n",
      "Node_proportion_gain  0.00728650123472574\n",
      "This split isn't good now i cut it [reg delta]\n",
      "Node Search Split Error for:  n27 with obs in node:  6  which is less than minimum parent size:  10\n",
      "TypeError: Node search split (cart) failure\n",
      "Split Found:  n7 [['CompPrice', 146.5, 817131.4712121212, 2]] right\n",
      "node_proportion_total  0.6390606886694453\n",
      "Node_proportion_gain  0.03782779047845908\n",
      "Split Found:  n14 [['Sales', 11.879999999999999, 553707.236111111, 3]] left\n",
      "node_proportion_total  0.657439369350083\n",
      "Node_proportion_gain  0.018378680680637638\n",
      "Split Found:  n28 [['CompPrice', 134.5, 480658.78095238097, 4]] left\n",
      "node_proportion_total  0.6639968538692546\n",
      "Node_proportion_gain  0.006557484519171597\n",
      "This split isn't good now i cut it [reg delta]\n",
      "Node Search Split Error for:  n29 with obs in node:  8  which is less than minimum parent size:  10\n",
      "TypeError: Node search split (cart) failure\n",
      "Split Found:  n15 [['Income', 82.5, 266331.39999999997, 3]] right\n",
      "node_proportion_total  0.6674884822405323\n",
      "Node_proportion_gain  0.0034916283712776996\n",
      "This split isn't good now i cut it [reg delta]\n",
      "training mse 534.66\n",
      "\n",
      "\n",
      "Folds:  7\n",
      "Split Found:  n1 [['CompPrice', 127.5, 3431618.742723493, 0]] start\n",
      "node_proportion_total  0.19673708880705415\n",
      "Split Found:  n2 [['Sales', 7.539999999999999, 1731100.5955514365, 1]] left\n",
      "node_proportion_total  0.29990233060382\n",
      "Node_proportion_gain  0.10316524179676584\n",
      "Split Found:  n4 [['Age', 53.5, 1125288.5365517242, 2]] left\n",
      "node_proportion_total  0.3302951986777674\n",
      "Node_proportion_gain  0.03039286807394742\n",
      "Split Found:  n8 [['Income', 67.0, 404791.16025641025, 3]] left\n",
      "node_proportion_total  0.34977289461917443\n",
      "Node_proportion_gain  0.019477695941407025\n",
      "Split Found:  n16 [['Age', 40.5, 179045.45238095237, 4]] left\n",
      "node_proportion_total  0.35621919901945026\n",
      "Node_proportion_gain  0.006446304400275826\n",
      "This split isn't good now i cut it [reg delta]\n",
      "Split Found:  n17 [['ShelveLoc', ('Bad', 'Good'), 227018.08571428567, 4]] right\n",
      "node_proportion_total  0.3593730473221153\n",
      "Node_proportion_gain  0.003153848302665019\n",
      "This split isn't good now i cut it [reg delta]\n",
      "Split Found:  n9 [['Sales', 2.755, 725015.5897435897, 3]] right\n",
      "node_proportion_total  0.37398549168674183\n",
      "Node_proportion_gain  0.014612444364626553\n",
      "Node Search Split Error for:  n18 with obs in node:  6  which is less than minimum parent size:  10\n",
      "TypeError: Node search split (cart) failure\n",
      "Split Found:  n19 [['ShelveLoc', ('Good', 'Medium'), 627402.2342342343, 4]] right\n",
      "node_proportion_total  0.38694268792637376\n",
      "Node_proportion_gain  0.01295719623963193\n",
      "Split Found:  n5 [['CompPrice', 99.0, 617308.3596491228, 2]] right\n",
      "node_proportion_total  0.4432899676177559\n",
      "Node_proportion_gain  0.056347279691382146\n",
      "Node Search Split Error for:  n10 with obs in node:  8  which is less than minimum parent size:  10\n",
      "TypeError: Node search split (cart) failure\n",
      "Split Found:  n11 [['Sales', 9.79, 583805.6176470588, 3]] right\n",
      "node_proportion_total  0.4716726147447788\n",
      "Node_proportion_gain  0.028382647127022875\n",
      "Split Found:  n22 [['ShelveLoc', ('Bad', 'Medium'), 397811.56000000006, 4]] left\n",
      "node_proportion_total  0.5053910022391713\n",
      "Node_proportion_gain  0.03371838749439254\n",
      "Split Found:  n23 [['Advertising', 2.0, 191322.68888888892, 4]] right\n",
      "node_proportion_total  0.5118773967349743\n",
      "Node_proportion_gain  0.006486394495803016\n",
      "This split isn't good now i cut it [reg delta]\n",
      "Split Found:  n3 [['Sales', 7.555, 1724174.7954125046, 1]] right\n",
      "node_proportion_total  0.5872027169534036\n",
      "Node_proportion_gain  0.0753253202184293\n",
      "Split Found:  n6 [['CompPrice', 142.0, 981079.4536679537, 2]] left\n",
      "node_proportion_total  0.6217920511713771\n",
      "Node_proportion_gain  0.0345893342179735\n",
      "Split Found:  n12 [['Population', 131.5, 650912.1761904762, 3]] left\n",
      "node_proportion_total  0.6288343383749021\n",
      "Node_proportion_gain  0.007042287203524955\n",
      "This split isn't good now i cut it [reg delta]\n",
      "Split Found:  n13 [['Sales', 5.48, 331949.28571428574, 3]] right\n",
      "node_proportion_total  0.6352373900237244\n",
      "Node_proportion_gain  0.006403051648822267\n",
      "This split isn't good now i cut it [reg delta]\n",
      "Split Found:  n7 [['CompPrice', 146.5, 752487.750877193, 2]] right\n",
      "node_proportion_total  0.6715142397098383\n",
      "Node_proportion_gain  0.03627684968611389\n",
      "Split Found:  n14 [['Sales', 11.879999999999999, 485594.825, 3]] left\n",
      "node_proportion_total  0.6879559629949802\n",
      "Node_proportion_gain  0.01644172328514193\n",
      "Split Found:  n28 [['ShelveLoc', ('Good', 'Medium'), 409504.20000000007, 4]] left\n",
      "node_proportion_total  0.6950294461101044\n",
      "Node_proportion_gain  0.007073483115124235\n",
      "This split isn't good now i cut it [reg delta]\n",
      "Node Search Split Error for:  n29 with obs in node:  8  which is less than minimum parent size:  10\n",
      "TypeError: Node search split (cart) failure\n",
      "Split Found:  n15 [['Income', 81.5, 269446.6, 3]] right\n",
      "node_proportion_total  0.697855318333448\n",
      "Node_proportion_gain  0.0028258722233436284\n",
      "This split isn't good now i cut it [reg delta]\n",
      "training mse 287.49\n",
      "\n",
      "\n",
      "Folds:  8\n",
      "Split Found:  n1 [['CompPrice', 121.5, 3349617.016203704, 0]] start\n",
      "node_proportion_total  0.20387628123160267\n",
      "Split Found:  n2 [['Sales', 7.55, 1144636.7468004152, 1]] left\n",
      "node_proportion_total  0.2843658133024414\n",
      "Node_proportion_gain  0.0804895320708387\n",
      "Split Found:  n4 [['ShelveLoc', ('Bad', 'Medium'), 740301.2000000002, 2]] left\n",
      "node_proportion_total  0.30478261578245713\n",
      "Node_proportion_gain  0.02041680248001576\n",
      "Node Search Split Error for:  n8 with obs in node:  5  which is less than minimum parent size:  10\n",
      "TypeError: Node search split (cart) failure\n",
      "Split Found:  n9 [['Age', 54.5, 651946.5786963433, 3]] right\n",
      "node_proportion_total  0.3224436576200938\n",
      "Node_proportion_gain  0.01766104183763667\n",
      "Split Found:  n18 [['Income', 49.5, 244893.57142857145, 4]] left\n",
      "node_proportion_total  0.3315694839870029\n",
      "Node_proportion_gain  0.009125826366909118\n",
      "This split isn't good now i cut it [reg delta]\n",
      "Split Found:  n19 [['Sales', 3.2300000000000004, 409226.30000000005, 4]] right\n",
      "node_proportion_total  0.3377931500897519\n",
      "Node_proportion_gain  0.006223666102748993\n",
      "This split isn't good now i cut it [reg delta]\n",
      "Split Found:  n5 [['CompPrice', 99.0, 412751.00304878055, 2]] right\n",
      "node_proportion_total  0.3768128792823914\n",
      "Node_proportion_gain  0.03901972919263946\n",
      "Node Search Split Error for:  n10 with obs in node:  8  which is less than minimum parent size:  10\n",
      "TypeError: Node search split (cart) failure\n",
      "Split Found:  n11 [['Sales', 9.79, 379064.7367149758, 3]] right\n",
      "node_proportion_total  0.3934800462447952\n",
      "Node_proportion_gain  0.016667166962403834\n",
      "Split Found:  n22 [['ShelveLoc', ('Bad', 'Medium'), 246036.57142857142, 4]] left\n",
      "node_proportion_total  0.4223330893684059\n",
      "Node_proportion_gain  0.0288530431236107\n",
      "Split Found:  n23 [['Income', 88.5, 137699.10389610392, 4]] right\n",
      "node_proportion_total  0.42646986669218395\n",
      "Node_proportion_gain  0.00413677732377804\n",
      "This split isn't good now i cut it [reg delta]\n",
      "Split Found:  n3 [['Sales', 7.555, 2232647.7826086953, 1]] right\n",
      "node_proportion_total  0.5413899447962178\n",
      "Node_proportion_gain  0.11492007810403387\n",
      "Split Found:  n6 [['CompPrice', 136.0, 1268522.8260869565, 2]] left\n",
      "node_proportion_total  0.5999854443838225\n",
      "Node_proportion_gain  0.05859549958760468\n",
      "Split Found:  n12 [['Sales', 5.045, 748101.3625, 3]] left\n",
      "node_proportion_total  0.6112033951467672\n",
      "Node_proportion_gain  0.01121795076294474\n",
      "Split Found:  n24 [['Age', 51.5, 294568.8909090909, 4]] left\n",
      "node_proportion_total  0.6188017365110507\n",
      "Node_proportion_gain  0.007598341364283501\n",
      "This split isn't good now i cut it [reg delta]\n",
      "Split Found:  n25 [['CompPrice', 124.5, 456488.04, 4]] right\n",
      "node_proportion_total  0.6320779300707355\n",
      "Node_proportion_gain  0.01327619355968479\n",
      "Split Found:  n13 [['Sales', 3.5700000000000003, 523399.35555555555, 3]] right\n",
      "node_proportion_total  0.6418921806627395\n",
      "Node_proportion_gain  0.009814250592003915\n",
      "This split isn't good now i cut it [reg delta]\n",
      "Split Found:  n7 [['CompPrice', 146.5, 978992.1339950373, 2]] right\n",
      "node_proportion_total  0.6883003123335477\n",
      "Node_proportion_gain  0.04640813167080826\n",
      "Split Found:  n14 [['Sales', 10.66, 747541.2364130435, 3]] left\n",
      "node_proportion_total  0.709844150212876\n",
      "Node_proportion_gain  0.02154383787932823\n",
      "Split Found:  n28 [['ShelveLoc', ('Bad', 'Medium'), 596878.6777777779, 4]] left\n",
      "node_proportion_total  0.7241321851965453\n",
      "Node_proportion_gain  0.014288034983669373\n",
      "Split Found:  n29 [['ShelveLoc', ('Bad', 'Medium'), 154599.57142857142, 4]] right\n",
      "node_proportion_total  0.7376504127230538\n",
      "Node_proportion_gain  0.013518227526508442\n",
      "Split Found:  n15 [['Population', 343.5, 234582, 3]] right\n",
      "node_proportion_total  0.7382208681803825\n",
      "Node_proportion_gain  0.0005704554573287002\n",
      "This split isn't good now i cut it [reg delta]\n",
      "training mse 254.55\n",
      "\n",
      "\n",
      "Folds:  9\n",
      "Split Found:  n1 [['CompPrice', 127.5, 3397219.4247502415, 0]] start\n",
      "node_proportion_total  0.2188236439565583\n",
      "Split Found:  n2 [['Sales', 7.55, 1645851.3137706178, 1]] left\n",
      "node_proportion_total  0.3284335888212295\n",
      "Node_proportion_gain  0.10960994486467124\n",
      "Split Found:  n4 [['Age', 53.5, 1058448.1028708133, 2]] left\n",
      "node_proportion_total  0.35977853647848806\n",
      "Node_proportion_gain  0.03134494765725854\n",
      "Split Found:  n8 [['Income', 65.5, 359647.76923076925, 3]] left\n",
      "node_proportion_total  0.37033810271823775\n",
      "Node_proportion_gain  0.010559566239749685\n",
      "Node Search Split Error for:  n16 with obs in node:  9  which is less than minimum parent size:  10\n",
      "TypeError: Node search split (cart) failure\n",
      "Split Found:  n17 [['CompPrice', 120.5, 235429.92500000002, 4]] right\n",
      "node_proportion_total  0.37309156576352004\n",
      "Node_proportion_gain  0.0027534630452822895\n",
      "This split isn't good now i cut it [reg delta]\n",
      "Split Found:  n9 [['Sales', 2.755, 702430.9803921569, 3]] right\n",
      "node_proportion_total  0.388089213423685\n",
      "Node_proportion_gain  0.014997647660164981\n",
      "Node Search Split Error for:  n18 with obs in node:  6  which is less than minimum parent size:  10\n",
      "TypeError: Node search split (cart) failure\n",
      "Split Found:  n19 [['ShelveLoc', ('Good', 'Medium'), 604749.6891891891, 4]] right\n",
      "node_proportion_total  0.3996996631328166\n",
      "Node_proportion_gain  0.011610449709131554\n",
      "Split Found:  n5 [['CompPrice', 99.0, 599287.7284482758, 2]] right\n",
      "node_proportion_total  0.4520134071141306\n",
      "Node_proportion_gain  0.052313743981314054\n",
      "Node Search Split Error for:  n10 with obs in node:  8  which is less than minimum parent size:  10\n",
      "TypeError: Node search split (cart) failure\n",
      "Split Found:  n11 [['Sales', 10.629999999999999, 567505.2564102564, 3]] right\n",
      "node_proportion_total  0.47452264756267554\n",
      "Node_proportion_gain  0.02250924044854491\n",
      "Split Found:  n22 [['ShelveLoc', ('Bad', 'Medium'), 425264.7896551724, 4]] left\n",
      "node_proportion_total  0.5089837777240319\n",
      "Node_proportion_gain  0.03446113016135638\n",
      "Split Found:  n23 [['Age', 37.0, 148091.65476190476, 4]] right\n",
      "node_proportion_total  0.5157109188732665\n",
      "Node_proportion_gain  0.006727141149234561\n",
      "This split isn't good now i cut it [reg delta]\n",
      "Split Found:  n3 [['Sales', 7.555, 1780373.8192307693, 1]] right\n",
      "node_proportion_total  0.610280873818916\n",
      "Node_proportion_gain  0.09456995494564957\n",
      "Split Found:  n6 [['CompPrice', 135.5, 1074280.176392573, 2]] left\n",
      "node_proportion_total  0.6489996767190402\n",
      "Node_proportion_gain  0.038718802900124194\n",
      "Split Found:  n12 [['Sales', 4.93, 490315.32467532466, 3]] left\n",
      "node_proportion_total  0.6541748772172084\n",
      "Node_proportion_gain  0.005175200498168109\n",
      "This split isn't good now i cut it [reg delta]\n",
      "Split Found:  n13 [['Sales', 3.785, 586175.5142857142, 3]] right\n",
      "node_proportion_total  0.6645611950876185\n",
      "Node_proportion_gain  0.010386317870410111\n",
      "Node Search Split Error for:  n26 with obs in node:  5  which is less than minimum parent size:  10\n",
      "TypeError: Node search split (cart) failure\n",
      "Split Found:  n27 [['ShelveLoc', ('Good', 'Medium'), 450295.07142857136, 4]] right\n",
      "node_proportion_total  0.6709342761763669\n",
      "Node_proportion_gain  0.006373081088748456\n",
      "This split isn't good now i cut it [reg delta]\n",
      "Split Found:  n7 [['CompPrice', 146.5, 717126.3333333333, 2]] right\n",
      "node_proportion_total  0.7098778982179411\n",
      "Node_proportion_gain  0.0389436220415742\n",
      "Split Found:  n14 [['Sales', 11.879999999999999, 482318.2857142857, 3]] left\n",
      "node_proportion_total  0.7209807060151046\n",
      "Node_proportion_gain  0.011102807797163439\n",
      "Split Found:  n28 [['ShelveLoc', ('Good', 'Medium'), 416441.1259259259, 4]] left\n",
      "node_proportion_total  0.7249869544931234\n",
      "Node_proportion_gain  0.004006248478018892\n",
      "This split isn't good now i cut it [reg delta]\n",
      "Node Search Split Error for:  n29 with obs in node:  7  which is less than minimum parent size:  10\n",
      "TypeError: Node search split (cart) failure\n",
      "Split Found:  n15 [['Income', 81.5, 236693, 3]] right\n",
      "node_proportion_total  0.7271528931426146\n",
      "Node_proportion_gain  0.002165938649491106\n",
      "This split isn't good now i cut it [reg delta]\n",
      "training mse 328.02\n",
      "\n",
      "\n",
      "Folds:  10\n",
      "Split Found:  n1 [['CompPrice', 121.5, 3395274.029575928, 0]] start\n",
      "node_proportion_total  0.22022916838756315\n",
      "Split Found:  n2 [['Sales', 7.55, 1166792.8866120218, 1]] left\n",
      "node_proportion_total  0.30425647159305963\n",
      "Node_proportion_gain  0.08402730320549648\n",
      "Split Found:  n4 [['Sales', 2.83, 768308.8835978835, 2]] left\n",
      "node_proportion_total  0.315482279737905\n",
      "Node_proportion_gain  0.011225808144845362\n",
      "Node Search Split Error for:  n8 with obs in node:  7  which is less than minimum parent size:  10\n",
      "TypeError: Node search split (cart) failure\n",
      "Split Found:  n9 [['Age', 52.5, 658436.3527204503, 3]] right\n",
      "node_proportion_total  0.32638728628823965\n",
      "Node_proportion_gain  0.010905006550334662\n",
      "Split Found:  n18 [['Income', 69.0, 187217.23809523808, 4]] left\n",
      "node_proportion_total  0.3334283566331106\n",
      "Node_proportion_gain  0.007041070344870948\n",
      "This split isn't good now i cut it [reg delta]\n",
      "Split Found:  n19 [['ShelveLoc', ('Good', 'Medium'), 473040.49696969695, 4]] right\n",
      "node_proportion_total  0.3395270249671346\n",
      "Node_proportion_gain  0.0060986683340240044\n",
      "This split isn't good now i cut it [reg delta]\n",
      "Split Found:  n5 [['CompPrice', 99.0, 406696.54700854694, 2]] right\n",
      "node_proportion_total  0.3875478007711332\n",
      "Node_proportion_gain  0.048020775803998605\n",
      "Node Search Split Error for:  n10 with obs in node:  9  which is less than minimum parent size:  10\n",
      "TypeError: Node search split (cart) failure\n",
      "Split Found:  n11 [['ShelveLoc', ('Bad', 'Medium'), 367984.7364130435, 3]] right\n",
      "node_proportion_total  0.3978036909353915\n",
      "Node_proportion_gain  0.010255890164258263\n",
      "Split Found:  n22 [['Sales', 9.715, 176613.56666666668, 4]] left\n",
      "node_proportion_total  0.4189628442624277\n",
      "Node_proportion_gain  0.021159153327036218\n",
      "Split Found:  n23 [['Population', 378.0, 194857.1666666667, 4]] right\n",
      "node_proportion_total  0.4229522209553189\n",
      "Node_proportion_gain  0.003989376692891233\n",
      "This split isn't good now i cut it [reg delta]\n",
      "Split Found:  n3 [['Sales', 7.555, 2256215.935761849, 1]] right\n",
      "node_proportion_total  0.5390080747990595\n",
      "Node_proportion_gain  0.11605585384374062\n",
      "Split Found:  n6 [['CompPrice', 133.5, 1285696.974533107, 2]] left\n",
      "node_proportion_total  0.587714639809614\n",
      "Node_proportion_gain  0.04870656501055448\n",
      "Split Found:  n12 [['Sales', 3.65, 617472.2303030302, 3]] left\n",
      "node_proportion_total  0.6060136822393365\n",
      "Node_proportion_gain  0.018299042429722467\n",
      "Node Search Split Error for:  n24 with obs in node:  5  which is less than minimum parent size:  10\n",
      "TypeError: Node search split (cart) failure\n",
      "Split Found:  n25 [['Advertising', 1.0, 508564.1213235294, 4]] right\n",
      "node_proportion_total  0.6125647936751866\n",
      "Node_proportion_gain  0.006551111435850077\n",
      "This split isn't good now i cut it [reg delta]\n",
      "Split Found:  n13 [['CompPrice', 142.0, 672187.076923077, 3]] right\n",
      "node_proportion_total  0.6228506424422614\n",
      "Node_proportion_gain  0.010285848767074834\n",
      "Split Found:  n26 [['Population', 335.5, 360253.56923076924, 4]] left\n",
      "node_proportion_total  0.6279118732076606\n",
      "Node_proportion_gain  0.005061230765399216\n",
      "This split isn't good now i cut it [reg delta]\n",
      "Split Found:  n27 [['Income', 67.5, 313587.1666666667, 4]] right\n",
      "node_proportion_total  0.6347803983514926\n",
      "Node_proportion_gain  0.0068685251438319606\n",
      "This split isn't good now i cut it [reg delta]\n",
      "Split Found:  n7 [['CompPrice', 146.5, 984072.4903954802, 2]] right\n",
      "node_proportion_total  0.6838511242908517\n",
      "Node_proportion_gain  0.04907072593935913\n",
      "Split Found:  n14 [['Sales', 10.7, 718420.449579832, 3]] left\n",
      "node_proportion_total  0.7085237286418941\n",
      "Node_proportion_gain  0.02467260435104235\n",
      "Split Found:  n28 [['ShelveLoc', ('Bad', 'Medium'), 556684.2323232322, 4]] left\n",
      "node_proportion_total  0.7224038973516762\n",
      "Node_proportion_gain  0.013880168709782148\n",
      "Split Found:  n29 [['ShelveLoc', ('Bad', 'Medium'), 165284.5, 4]] right\n",
      "node_proportion_total  0.7341215983853291\n",
      "Node_proportion_gain  0.011717701033652883\n",
      "Split Found:  n15 [['Income', 81.5, 269446.6, 3]] right\n",
      "node_proportion_total  0.7368235407542321\n",
      "Node_proportion_gain  0.0027019423689029765\n",
      "This split isn't good now i cut it [reg delta]\n",
      "training mse 351.47\n",
      "\n",
      "\n",
      "\n",
      "errors:  170.9039835354092\n",
      "errors:  291.04410703821225\n",
      "errors:  335.96407504654616\n",
      "errors:  236.62282494118477\n",
      "errors:  240.18986070806025\n",
      "errors:  534.6554011232663\n",
      "errors:  287.4925619015334\n",
      "errors:  254.55188677923059\n",
      "errors:  328.0231899450161\n",
      "errors:  351.4680313523734\n",
      "\n",
      "\n",
      "mean errors: 303.0915922370832\n"
     ]
    }
   ],
   "source": [
    "kf = k_folds(y,features,features_names,n_features,n_features_names, impurity_fn = \"between_variance\", problem=\"regression\", method = \"CART\",  min_cases_parent= 10,min_cases_child= 5, max_level =4 , twoing = False, min_imp_gain = 0.0001)"
   ]
  },
  {
   "cell_type": "code",
   "execution_count": 6,
   "metadata": {},
   "outputs": [
    {
     "name": "stdout",
     "output_type": "stream",
     "text": [
      "{leaves : mean square error} =  {15: 550.1399335789872, 14: 548.2992963748453, 13: 545.8969665351963, 10: 539.632917125959, 9: 533.8303612936171, 8: 541.1827582124594, 7: 541.8057150332885, 6: 518.364122246991, 3: 517.7256656169034, 2: 519.084830563528}\n",
      "Best tree for test set has 3 leaves with a deviance of: 517.7256656169034 \n"
     ]
    },
    {
     "data": {
      "image/png": "[encoded data removed]",
      "text/plain": [
       "<Figure size 640x480 with 1 Axes>"
      ]
     },
     "metadata": {},
     "output_type": "display_data"
    },
    {
     "data": {
      "application/vnd.plotly.v1+json": {
       "config": {
        "plotlyServerURL": "https://plot.ly"
       },
       "data": [
        {
         "hoverinfo": "none",
         "line": {
          "color": "rgb(210,210,210)",
          "width": 1
         },
         "mode": "lines",
         "type": "scatter",
         "x": [
          0,
          -0.5,
          null,
          0,
          0.5,
          null,
          -0.5,
          -1,
          null,
          -0.5,
          0,
          null
         ],
         "y": [
          4,
          3,
          null,
          4,
          3,
          null,
          3,
          2,
          null,
          3,
          2,
          null
         ]
        },
        {
         "hoverinfo": "text",
         "marker": {
          "color": "#6175c1",
          "line": {
           "color": "rgb(50,50,50)",
           "width": 1
          },
          "size": 18,
          "symbol": "circle-dot"
         },
         "mode": "markers",
         "name": "Nodes",
         "opacity": 0.8,
         "text": [
          "n4, None, Bin Value: 158.2, pearson : 3860.8, Samples : 5",
          "n1, Sales>7.55, Bin Value: 115.78, pearson : 155526.82, Samples : 280",
          "n2, Sales>1.165, Bin Value: 125.18, pearson : 62395.4, Samples : 147",
          "n5, Sales>2.96, Bin Value: 124.01, pearson : 52889.97, Samples : 142",
          "n3, Sales>9.825, Bin Value: 105.38, pearson : 65775.44, Samples : 133"
         ],
         "type": "scatter",
         "x": [
          -1,
          0,
          -0.5,
          0,
          0.5
         ],
         "y": [
          2,
          4,
          3,
          2,
          3
         ]
        }
       ],
       "layout": {
        "template": {
         "data": {
          "bar": [
           {
            "error_x": {
             "color": "#2a3f5f"
            },
            "error_y": {
             "color": "#2a3f5f"
            },
            "marker": {
             "line": {
              "color": "#E5ECF6",
              "width": 0.5
             },
             "pattern": {
              "fillmode": "overlay",
              "size": 10,
              "solidity": 0.2
             }
            },
            "type": "bar"
           }
          ],
          "barpolar": [
           {
            "marker": {
             "line": {
              "color": "#E5ECF6",
              "width": 0.5
             },
             "pattern": {
              "fillmode": "overlay",
              "size": 10,
              "solidity": 0.2
             }
            },
            "type": "barpolar"
           }
          ],
          "carpet": [
           {
            "aaxis": {
             "endlinecolor": "#2a3f5f",
             "gridcolor": "white",
             "linecolor": "white",
             "minorgridcolor": "white",
             "startlinecolor": "#2a3f5f"
            },
            "baxis": {
             "endlinecolor": "#2a3f5f",
             "gridcolor": "white",
             "linecolor": "white",
             "minorgridcolor": "white",
             "startlinecolor": "#2a3f5f"
            },
            "type": "carpet"
           }
          ],
          "choropleth": [
           {
            "colorbar": {
             "outlinewidth": 0,
             "ticks": ""
            },
            "type": "choropleth"
           }
          ],
          "contour": [
           {
            "colorbar": {
             "outlinewidth": 0,
             "ticks": ""
            },
            "colorscale": [
             [
              0,
              "#0d0887"
             ],
             [
              0.1111111111111111,
              "#46039f"
             ],
             [
              0.2222222222222222,
              "#7201a8"
             ],
             [
              0.3333333333333333,
              "#9c179e"
             ],
             [
              0.4444444444444444,
              "#bd3786"
             ],
             [
              0.5555555555555556,
              "#d8576b"
             ],
             [
              0.6666666666666666,
              "#ed7953"
             ],
             [
              0.7777777777777778,
              "#fb9f3a"
             ],
             [
              0.8888888888888888,
              "#fdca26"
             ],
             [
              1,
              "#f0f921"
             ]
            ],
            "type": "contour"
           }
          ],
          "contourcarpet": [
           {
            "colorbar": {
             "outlinewidth": 0,
             "ticks": ""
            },
            "type": "contourcarpet"
           }
          ],
          "heatmap": [
           {
            "colorbar": {
             "outlinewidth": 0,
             "ticks": ""
            },
            "colorscale": [
             [
              0,
              "#0d0887"
             ],
             [
              0.1111111111111111,
              "#46039f"
             ],
             [
              0.2222222222222222,
              "#7201a8"
             ],
             [
              0.3333333333333333,
              "#9c179e"
             ],
             [
              0.4444444444444444,
              "#bd3786"
             ],
             [
              0.5555555555555556,
              "#d8576b"
             ],
             [
              0.6666666666666666,
              "#ed7953"
             ],
             [
              0.7777777777777778,
              "#fb9f3a"
             ],
             [
              0.8888888888888888,
              "#fdca26"
             ],
             [
              1,
              "#f0f921"
             ]
            ],
            "type": "heatmap"
           }
          ],
          "heatmapgl": [
           {
            "colorbar": {
             "outlinewidth": 0,
             "ticks": ""
            },
            "colorscale": [
             [
              0,
              "#0d0887"
             ],
             [
              0.1111111111111111,
              "#46039f"
             ],
             [
              0.2222222222222222,
              "#7201a8"
             ],
             [
              0.3333333333333333,
              "#9c179e"
             ],
             [
              0.4444444444444444,
              "#bd3786"
             ],
             [
              0.5555555555555556,
              "#d8576b"
             ],
             [
              0.6666666666666666,
              "#ed7953"
             ],
             [
              0.7777777777777778,
              "#fb9f3a"
             ],
             [
              0.8888888888888888,
              "#fdca26"
             ],
             [
              1,
              "#f0f921"
             ]
            ],
            "type": "heatmapgl"
           }
          ],
          "histogram": [
           {
            "marker": {
             "pattern": {
              "fillmode": "overlay",
              "size": 10,
              "solidity": 0.2
             }
            },
            "type": "histogram"
           }
          ],
          "histogram2d": [
           {
            "colorbar": {
             "outlinewidth": 0,
             "ticks": ""
            },
            "colorscale": [
             [
              0,
              "#0d0887"
             ],
             [
              0.1111111111111111,
              "#46039f"
             ],
             [
              0.2222222222222222,
              "#7201a8"
             ],
             [
              0.3333333333333333,
              "#9c179e"
             ],
             [
              0.4444444444444444,
              "#bd3786"
             ],
             [
              0.5555555555555556,
              "#d8576b"
             ],
             [
              0.6666666666666666,
              "#ed7953"
             ],
             [
              0.7777777777777778,
              "#fb9f3a"
             ],
             [
              0.8888888888888888,
              "#fdca26"
             ],
             [
              1,
              "#f0f921"
             ]
            ],
            "type": "histogram2d"
           }
          ],
          "histogram2dcontour": [
           {
            "colorbar": {
             "outlinewidth": 0,
             "ticks": ""
            },
            "colorscale": [
             [
              0,
              "#0d0887"
             ],
             [
              0.1111111111111111,
              "#46039f"
             ],
             [
              0.2222222222222222,
              "#7201a8"
             ],
             [
              0.3333333333333333,
              "#9c179e"
             ],
             [
              0.4444444444444444,
              "#bd3786"
             ],
             [
              0.5555555555555556,
              "#d8576b"
             ],
             [
              0.6666666666666666,
              "#ed7953"
             ],
             [
              0.7777777777777778,
              "#fb9f3a"
             ],
             [
              0.8888888888888888,
              "#fdca26"
             ],
             [
              1,
              "#f0f921"
             ]
            ],
            "type": "histogram2dcontour"
           }
          ],
          "mesh3d": [
           {
            "colorbar": {
             "outlinewidth": 0,
             "ticks": ""
            },
            "type": "mesh3d"
           }
          ],
          "parcoords": [
           {
            "line": {
             "colorbar": {
              "outlinewidth": 0,
              "ticks": ""
             }
            },
            "type": "parcoords"
           }
          ],
          "pie": [
           {
            "automargin": true,
            "type": "pie"
           }
          ],
          "scatter": [
           {
            "fillpattern": {
             "fillmode": "overlay",
             "size": 10,
             "solidity": 0.2
            },
            "type": "scatter"
           }
          ],
          "scatter3d": [
           {
            "line": {
             "colorbar": {
              "outlinewidth": 0,
              "ticks": ""
             }
            },
            "marker": {
             "colorbar": {
              "outlinewidth": 0,
              "ticks": ""
             }
            },
            "type": "scatter3d"
           }
          ],
          "scattercarpet": [
           {
            "marker": {
             "colorbar": {
              "outlinewidth": 0,
              "ticks": ""
             }
            },
            "type": "scattercarpet"
           }
          ],
          "scattergeo": [
           {
            "marker": {
             "colorbar": {
              "outlinewidth": 0,
              "ticks": ""
             }
            },
            "type": "scattergeo"
           }
          ],
          "scattergl": [
           {
            "marker": {
             "colorbar": {
              "outlinewidth": 0,
              "ticks": ""
             }
            },
            "type": "scattergl"
           }
          ],
          "scattermapbox": [
           {
            "marker": {
             "colorbar": {
              "outlinewidth": 0,
              "ticks": ""
             }
            },
            "type": "scattermapbox"
           }
          ],
          "scatterpolar": [
           {
            "marker": {
             "colorbar": {
              "outlinewidth": 0,
              "ticks": ""
             }
            },
            "type": "scatterpolar"
           }
          ],
          "scatterpolargl": [
           {
            "marker": {
             "colorbar": {
              "outlinewidth": 0,
              "ticks": ""
             }
            },
            "type": "scatterpolargl"
           }
          ],
          "scatterternary": [
           {
            "marker": {
             "colorbar": {
              "outlinewidth": 0,
              "ticks": ""
             }
            },
            "type": "scatterternary"
           }
          ],
          "surface": [
           {
            "colorbar": {
             "outlinewidth": 0,
             "ticks": ""
            },
            "colorscale": [
             [
              0,
              "#0d0887"
             ],
             [
              0.1111111111111111,
              "#46039f"
             ],
             [
              0.2222222222222222,
              "#7201a8"
             ],
             [
              0.3333333333333333,
              "#9c179e"
             ],
             [
              0.4444444444444444,
              "#bd3786"
             ],
             [
              0.5555555555555556,
              "#d8576b"
             ],
             [
              0.6666666666666666,
              "#ed7953"
             ],
             [
              0.7777777777777778,
              "#fb9f3a"
             ],
             [
              0.8888888888888888,
              "#fdca26"
             ],
             [
              1,
              "#f0f921"
             ]
            ],
            "type": "surface"
           }
          ],
          "table": [
           {
            "cells": {
             "fill": {
              "color": "#EBF0F8"
             },
             "line": {
              "color": "white"
             }
            },
            "header": {
             "fill": {
              "color": "#C8D4E3"
             },
             "line": {
              "color": "white"
             }
            },
            "type": "table"
           }
          ]
         },
         "layout": {
          "annotationdefaults": {
           "arrowcolor": "#2a3f5f",
           "arrowhead": 0,
           "arrowwidth": 1
          },
          "autotypenumbers": "strict",
          "coloraxis": {
           "colorbar": {
            "outlinewidth": 0,
            "ticks": ""
           }
          },
          "colorscale": {
           "diverging": [
            [
             0,
             "#8e0152"
            ],
            [
             0.1,
             "#c51b7d"
            ],
            [
             0.2,
             "#de77ae"
            ],
            [
             0.3,
             "#f1b6da"
            ],
            [
             0.4,
             "#fde0ef"
            ],
            [
             0.5,
             "#f7f7f7"
            ],
            [
             0.6,
             "#e6f5d0"
            ],
            [
             0.7,
             "#b8e186"
            ],
            [
             0.8,
             "#7fbc41"
            ],
            [
             0.9,
             "#4d9221"
            ],
            [
             1,
             "#276419"
            ]
           ],
           "sequential": [
            [
             0,
             "#0d0887"
            ],
            [
             0.1111111111111111,
             "#46039f"
            ],
            [
             0.2222222222222222,
             "#7201a8"
            ],
            [
             0.3333333333333333,
             "#9c179e"
            ],
            [
             0.4444444444444444,
             "#bd3786"
            ],
            [
             0.5555555555555556,
             "#d8576b"
            ],
            [
             0.6666666666666666,
             "#ed7953"
            ],
            [
             0.7777777777777778,
             "#fb9f3a"
            ],
            [
             0.8888888888888888,
             "#fdca26"
            ],
            [
             1,
             "#f0f921"
            ]
           ],
           "sequentialminus": [
            [
             0,
             "#0d0887"
            ],
            [
             0.1111111111111111,
             "#46039f"
            ],
            [
             0.2222222222222222,
             "#7201a8"
            ],
            [
             0.3333333333333333,
             "#9c179e"
            ],
            [
             0.4444444444444444,
             "#bd3786"
            ],
            [
             0.5555555555555556,
             "#d8576b"
            ],
            [
             0.6666666666666666,
             "#ed7953"
            ],
            [
             0.7777777777777778,
             "#fb9f3a"
            ],
            [
             0.8888888888888888,
             "#fdca26"
            ],
            [
             1,
             "#f0f921"
            ]
           ]
          },
          "colorway": [
           "#636efa",
           "#EF553B",
           "#00cc96",
           "#ab63fa",
           "#FFA15A",
           "#19d3f3",
           "#FF6692",
           "#B6E880",
           "#FF97FF",
           "#FECB52"
          ],
          "font": {
           "color": "#2a3f5f"
          },
          "geo": {
           "bgcolor": "white",
           "lakecolor": "white",
           "landcolor": "#E5ECF6",
           "showlakes": true,
           "showland": true,
           "subunitcolor": "white"
          },
          "hoverlabel": {
           "align": "left"
          },
          "hovermode": "closest",
          "mapbox": {
           "style": "light"
          },
          "paper_bgcolor": "white",
          "plot_bgcolor": "#E5ECF6",
          "polar": {
           "angularaxis": {
            "gridcolor": "white",
            "linecolor": "white",
            "ticks": ""
           },
           "bgcolor": "#E5ECF6",
           "radialaxis": {
            "gridcolor": "white",
            "linecolor": "white",
            "ticks": ""
           }
          },
          "scene": {
           "xaxis": {
            "backgroundcolor": "#E5ECF6",
            "gridcolor": "white",
            "gridwidth": 2,
            "linecolor": "white",
            "showbackground": true,
            "ticks": "",
            "zerolinecolor": "white"
           },
           "yaxis": {
            "backgroundcolor": "#E5ECF6",
            "gridcolor": "white",
            "gridwidth": 2,
            "linecolor": "white",
            "showbackground": true,
            "ticks": "",
            "zerolinecolor": "white"
           },
           "zaxis": {
            "backgroundcolor": "#E5ECF6",
            "gridcolor": "white",
            "gridwidth": 2,
            "linecolor": "white",
            "showbackground": true,
            "ticks": "",
            "zerolinecolor": "white"
           }
          },
          "shapedefaults": {
           "line": {
            "color": "#2a3f5f"
           }
          },
          "ternary": {
           "aaxis": {
            "gridcolor": "white",
            "linecolor": "white",
            "ticks": ""
           },
           "baxis": {
            "gridcolor": "white",
            "linecolor": "white",
            "ticks": ""
           },
           "bgcolor": "#E5ECF6",
           "caxis": {
            "gridcolor": "white",
            "linecolor": "white",
            "ticks": ""
           }
          },
          "title": {
           "x": 0.05
          },
          "xaxis": {
           "automargin": true,
           "gridcolor": "white",
           "linecolor": "white",
           "ticks": "",
           "title": {
            "standoff": 15
           },
           "zerolinecolor": "white",
           "zerolinewidth": 2
          },
          "yaxis": {
           "automargin": true,
           "gridcolor": "white",
           "linecolor": "white",
           "ticks": "",
           "title": {
            "standoff": 15
           },
           "zerolinecolor": "white",
           "zerolinewidth": 2
          }
         }
        },
        "title": {
         "text": "CART_tree_pruned"
        }
       }
      }
     },
     "metadata": {},
     "output_type": "display_data"
    },
    {
     "data": {
      "text/html": [
       "<div>\n",
       "<style scoped>\n",
       "    .dataframe tbody tr th:only-of-type {\n",
       "        vertical-align: middle;\n",
       "    }\n",
       "\n",
       "    .dataframe tbody tr th {\n",
       "        vertical-align: top;\n",
       "    }\n",
       "\n",
       "    .dataframe thead th {\n",
       "        text-align: right;\n",
       "    }\n",
       "</style>\n",
       "<table border=\"1\" class=\"dataframe\">\n",
       "  <thead>\n",
       "    <tr style=\"text-align: right;\">\n",
       "      <th></th>\n",
       "      <th>Node</th>\n",
       "      <th>Node Type</th>\n",
       "      <th>Variable Split</th>\n",
       "      <th>n</th>\n",
       "      <th>Impurity Value</th>\n",
       "      <th>Deviance</th>\n",
       "      <th>Explained Deviance</th>\n",
       "      <th>Class/Value</th>\n",
       "    </tr>\n",
       "  </thead>\n",
       "  <tbody>\n",
       "    <tr>\n",
       "      <th>0</th>\n",
       "      <td>n1</td>\n",
       "      <td>Parent</td>\n",
       "      <td>Sales&gt;7.55</td>\n",
       "      <td>280</td>\n",
       "      <td>155526.82</td>\n",
       "      <td>155526.82</td>\n",
       "      <td>0.176</td>\n",
       "      <td>115.78</td>\n",
       "    </tr>\n",
       "    <tr>\n",
       "      <th>1</th>\n",
       "      <td>n3</td>\n",
       "      <td>Child</td>\n",
       "      <td>None</td>\n",
       "      <td>133</td>\n",
       "      <td>65775.44</td>\n",
       "      <td>65775.44</td>\n",
       "      <td>None</td>\n",
       "      <td>105.38</td>\n",
       "    </tr>\n",
       "    <tr>\n",
       "      <th>2</th>\n",
       "      <td>n2</td>\n",
       "      <td>Parent</td>\n",
       "      <td>Sales&gt;1.165</td>\n",
       "      <td>147</td>\n",
       "      <td>62395.4</td>\n",
       "      <td>62395.40</td>\n",
       "      <td>0.212</td>\n",
       "      <td>125.18</td>\n",
       "    </tr>\n",
       "    <tr>\n",
       "      <th>3</th>\n",
       "      <td>n4</td>\n",
       "      <td>Child</td>\n",
       "      <td>None</td>\n",
       "      <td>5</td>\n",
       "      <td>3860.8</td>\n",
       "      <td>3860.80</td>\n",
       "      <td>None</td>\n",
       "      <td>158.2</td>\n",
       "    </tr>\n",
       "    <tr>\n",
       "      <th>4</th>\n",
       "      <td>n5</td>\n",
       "      <td>Child</td>\n",
       "      <td>None</td>\n",
       "      <td>142</td>\n",
       "      <td>52889.97</td>\n",
       "      <td>52889.97</td>\n",
       "      <td>None</td>\n",
       "      <td>124.01</td>\n",
       "    </tr>\n",
       "  </tbody>\n",
       "</table>\n",
       "</div>"
      ],
      "text/plain": [
       "  Node Node Type Variable Split    n Impurity Value   Deviance   \n",
       "0   n1    Parent     Sales>7.55  280      155526.82  155526.82  \\\n",
       "1   n3     Child           None  133       65775.44   65775.44   \n",
       "2   n2    Parent    Sales>1.165  147        62395.4   62395.40   \n",
       "3   n4     Child           None    5         3860.8    3860.80   \n",
       "4   n5     Child           None  142       52889.97   52889.97   \n",
       "\n",
       "  Explained Deviance Class/Value  \n",
       "0              0.176      115.78  \n",
       "1               None      105.38  \n",
       "2              0.212      125.18  \n",
       "3               None       158.2  \n",
       "4               None      124.01  "
      ]
     },
     "execution_count": 6,
     "metadata": {},
     "output_type": "execute_result"
    }
   ],
   "source": [
    "alpha, pruned_table = cart.pruning(features_test, n_features_test, y_test, table = True)\n",
    "pruned_table#.style\n"
   ]
  },
  {
   "cell_type": "code",
   "execution_count": 7,
   "metadata": {},
   "outputs": [
    {
     "name": "stdout",
     "output_type": "stream",
     "text": [
      "('Alpha = 0', 'value soglia = None', 'deviance = 342.12582057823124', 'leaves = 15')\n",
      "('Alpha = 297.0173076923079', \"value soglia = ['Population', 254.0, 3]\", 'deviance = 343.18659667713234', 'leaves = 14')\n",
      "('Alpha = 681.7573770491836', \"value soglia = ['Population', 129.5, 4]\", 'deviance = 345.621444452308', 'leaves = 13')\n",
      "('Alpha = 885.8947368421068', \"value soglia = ['Population', 94.5, 3]\", 'deviance = 355.11317377561625', 'leaves = 10')\n",
      "('Alpha = 981.2304878048781', \"value soglia = ['Income', 115.0, 4]\", 'deviance = 358.61756837491936', 'leaves = 9')\n",
      "('Alpha = 1159.7161918881684', \"value soglia = ['Sales', 2.96, 2]\", 'deviance = 362.7594119173773', 'leaves = 8')\n",
      "('Alpha = 1629.8704836473407', \"value soglia = ['Sales', 9.47, 3]\", 'deviance = 368.58037793040336', 'leaves = 7')\n",
      "('Alpha = 2820.0964982778387', \"value soglia = ['Sales', 7.79, 2]\", 'deviance = 378.65215113853856', 'leaves = 6')\n",
      "('Alpha = 5501.204373739238', \"value soglia = ['Sales', 9.825, 1]\", 'deviance = 437.59362657145897', 'leaves = 3')\n",
      "('Alpha = 5644.629529558268', \"value soglia = ['Sales', 1.165, 1]\", 'deviance = 457.7530177484529', 'leaves = 2')\n"
     ]
    }
   ],
   "source": [
    "cart.print_alpha(alpha)\n"
   ]
  },
  {
   "cell_type": "code",
   "execution_count": 8,
   "metadata": {},
   "outputs": [],
   "source": [
    "#all_node = cart.get_all_node()\n",
    "#leaf = cart.get_leaf()\n",
    "#      \n",
    "#leaf_list =[]\n",
    "#leaf_dict ={}\n",
    "#for node in leaf:                           #creates a list of the node numbers and a dictionary connecting nodes with their node numbers\n",
    "#    leaf_list.append(int(node.name[1:]))\n",
    "#    leaf_dict[node] = int(node.name[1:])\n",
    "#father_list =[]\n",
    "#father_dict = {}\n",
    "#for node in all_node:\n",
    "#    father_list.append(int(node.name[1:]))\n",
    "#    father_dict[node] = int(node.name[1:])\n",
    "#\n",
    "#parent_child =[]                            #list for having child with their parent, for use in dictionary below\n",
    "#for node in all_node:\n",
    "#    if (int(node.name[1:]) *2) in father_list:\n",
    "#    \n",
    "#        parent_child.append([int(node.name[1:]), int(node.name[1:])*2])\n",
    "#    if (int(node.name[1:])*2+1) in father_list:\n",
    "#    \n",
    "#        parent_child.append([int(node.name[1:]), int(node.name[1:])*2+1])  \n",
    "#parent_children = {}                        #dictionary for parents with children, only numbers\n",
    "#for parent, child in parent_child: \n",
    "#    if parent in parent_children:\n",
    "#        parent_children[parent].append(child)\n",
    "#    else:\n",
    "#        parent_children[parent] = [child]\n",
    "#\n",
    "##igraph Graph\n",
    "#        \n",
    "#nr_vertices = max(father_list)                            # make too many to allow for missing nodes\n",
    "#v_label = list(map(str, father_list) )                      # create node labels \n",
    "#G = Graph.Tree(nr_vertices, 2)                              # 2 stands for children number\n",
    "#lay = G.layout_reingold_tilford(root=[0])\n",
    "#position = {k: lay[k-1] for k in father_list}               # assigning nodes to positions , using reigngold layou\n",
    "#"
   ]
  },
  {
   "cell_type": "code",
   "execution_count": 9,
   "metadata": {},
   "outputs": [],
   "source": [
    "#node_prop_dict = {}\n",
    "#for i in range(len(father_list)):\n",
    "#    if get_key(father_dict, father_list[i]).node_prop:\n",
    "#        node_prop_dict[father_list[i]] = get_key(father_dict, father_list[i]).node_prop"
   ]
  },
  {
   "cell_type": "code",
   "execution_count": 10,
   "metadata": {},
   "outputs": [],
   "source": [
    "#node_prop_gain = {}\n",
    "#node_prop_gain[1] = node_prop_dict[1]\n",
    "#for i in range(len(node_prop_dict)):\n",
    "#    if i!= 0:\n",
    "#        node_prop_gain[list(node_prop_dict.keys())[i]] = node_prop_dict[list(node_prop_dict.keys())[i]] - node_prop_dict[list(node_prop_dict.keys())[i-1]]"
   ]
  },
  {
   "cell_type": "code",
   "execution_count": 11,
   "metadata": {},
   "outputs": [],
   "source": [
    "#nr_vertices = max(father_list)                            # make too many to allow for missing nodes\n",
    "#v_label = list(map(str, father_list) )                      # create node labels \n",
    "#G = Graph.Tree(nr_vertices, 2)                              # 2 stands for children number\n",
    "#lay = G.layout_reingold_tilford(root=[0])\n",
    "#position = {k: lay[k-1] for k in father_list}               # assigning nodes to positions , using reigngold layou\n",
    "#\n",
    "#new_dict = cart.identify_subtrees(cart.get_all_node(), cart.get_leaf())\n",
    "#    \n",
    "#for i in sorted(position.keys()):\n",
    "#    if i*2 in position: #left nodes\n",
    "#        diff = position[i*2][1] - position[i*2][1]*node_prop_gain[i] #calculates change in position for correction in downward nodes\n",
    "#        position[i*2] = [position[i*2][0], position[i*2][1]*node_prop_gain[i]] #manipulates the y coordinate based on the proportion gain\n",
    "#        \n",
    "#        #this is to correct for all downward nodes \n",
    "#        unique_nodes = []\n",
    "#        for fathers in new_dict:\n",
    "#            if i*2 == int(fathers.name[1:]):\n",
    "#                for nestedlist in new_dict[fathers]:\n",
    "#                    for childs in nestedlist:\n",
    "#                        if childs.name not in unique_nodes:\n",
    "#                            unique_nodes.append(childs.name)\n",
    "#                            position[int(childs.name[1:])] = [position[int(childs.name[1:])][0], position[int(childs.name[1:])][1] - diff]\n",
    "#\n",
    "#\n",
    "#    if i*2+1 in position:  #right nodes\n",
    "#        position[i*2+1] = [position[i*2+1][0], position[i*2+1][1]*node_prop_gain[i]]\n",
    "#        \n",
    "#        #this is to correct for all downward nodes\n",
    "#        unique_nodes = []\n",
    "#        for fathers in new_dict:\n",
    "#            if i*2+1 == int(fathers.name[1:]):\n",
    "#                for nestedlist in new_dict[fathers]:\n",
    "#                    for childs in nestedlist:\n",
    "#                        if childs.name not in unique_nodes:\n",
    "#                            unique_nodes.append(childs.name)\n",
    "#                            position[int(childs.name[1:])] = [position[int(childs.name[1:])][0], position[int(childs.name[1:])][1] - diff]\n",
    "#\n",
    "#position[1] = [0 , 2*position[2][1]]\n",
    "#"
   ]
  },
  {
   "cell_type": "code",
   "execution_count": 12,
   "metadata": {},
   "outputs": [],
   "source": [
    "#Y = [lay[k][1] for k in range(len(father_list))] # levels of the tree\n",
    "#M = max(Y)\n",
    "#es = EdgeSeq(G)                                             # sequence of edges\n",
    "#E = [e.tuple for e in G.es] # list of edges, connects nodes\n",
    "##L = len(position)\n",
    "#Xn = [position[k][0] for k in father_list]\n",
    "#Yn = [position[k][1] for k in father_list]\n",
    "#a = 0\n",
    "#while a<20:                                                 # When the value is removed it skips to the next index value, jumping, a<10 is just overkill, increased to 20, for really narrow branches\n",
    "#    for edge in E:   #this is meant to catch the mismateched E's \n",
    "#        if edge[0] +1 not in position or edge[1]+1 not in position:\n",
    "#            E.remove(edge) \n",
    "#    a+=1\n",
    "#Xe = []\n",
    "#Ye = []\n",
    "#\n",
    "#for edge in E: \n",
    "#    Xe+=[position[edge[0]+1][0],position[edge[1]+1][0], None]                   # edited for +1 poisiotn as the expected 0 root node it 1 in our dictionary, if index error, increase a \n",
    "#    Ye+=[position[edge[0]+1][1],position[edge[1]+1][1], None]         \n",
    "#"
   ]
  },
  {
   "cell_type": "code",
   "execution_count": 13,
   "metadata": {},
   "outputs": [],
   "source": [
    "#upward facing tree\n",
    "#pos = Ye[1]*2\n",
    "#Ye[0] = pos\n",
    "#Ye[3] = pos\n",
    "#Yn[24]  =pos"
   ]
  },
  {
   "cell_type": "code",
   "execution_count": 14,
   "metadata": {},
   "outputs": [],
   "source": [
    "#for label in range(len(v_label)):\n",
    "#    for node in all_node:\n",
    "#        if v_label[label] == node.name[1:]:\n",
    "#            if int(v_label[label]) in leaf_list:\n",
    "#                if cart.problem == \"classifier\":        #For classifier problem\n",
    "#                    response_dict ={}\n",
    "#                    for response in cart.y[node.indexes]:        #determing majority in terminal nodes\n",
    "#                        \n",
    "#                        if response in response_dict:\n",
    "#                            response_dict[response] +=1\n",
    "#                        else:\n",
    "#                            response_dict[response] =1\n",
    "#                    \n",
    "#                    if cart.method == \"LATENT-BUDGET-TREE\" or cart.twoing: #multiclass methods\n",
    "#                        total_node_obs = sum(response_dict.values())\n",
    "#                        for key in response_dict:\n",
    "#                            response_dict[key] = round(response_dict[key] / total_node_obs,2)\n",
    "#                        class_node = response_dict\n",
    "#                        myKeys = list(class_node.keys())\n",
    "#                        myKeys.sort()\n",
    "#                        class_node = {i: class_node[i] for i in myKeys}\n",
    "#                    else:\n",
    "#                        class_node = max(response_dict, key = response_dict.get)\n",
    "#                    \n",
    "#                    if cart.impurity_fn == \"gini\":\n",
    "#                        v_label[label] = f\"{node.name}, Class: {class_node}, {cart.impurity_fn} : {round(cart.impur(node, display = True),2)}, Samples : {len(node.indexes)}\" \n",
    "#                    elif cart.impurity_fn == \"tau\":\n",
    "#                        v_label[label] = f\"{node.name}, Class: {class_node}, {cart.impurity_fn} : None, Samples : {len(node.indexes)}\" \n",
    "#                    else:\n",
    "#                        v_label[label] = f\"{node.name}, Class: {class_node}, {cart.impurity_fn} : {round(cart.impur(node),2)}, Samples : {len(node.indexes)}\"\n",
    "#                else:\n",
    "#                    mean_y = mean(cart.y[node.indexes])\n",
    "#                    v_label[label]=  f\"{node.name}, {node.split}, Bin Value: {round(mean_y,2)}, {cart.impurity_fn} : {round(cart.impur(node),2)}, Samples : {len(node.indexes)}\"\n",
    "#            \n",
    "#            #label for non leaves\n",
    "#            else:\n",
    "#                if cart.problem == \"classifier\":\n",
    "#                    response_dict ={}\n",
    "#                    for response in cart.y[node.indexes]:        #determing majority in terminal nodes\n",
    "#                        if response in response_dict:\n",
    "#                            response_dict[response] +=1\n",
    "#                        else:\n",
    "#                            response_dict[response] =1\n",
    "#                    \n",
    "#                    if cart.method == \"LATENT-BUDGET-TREE\" or cart.twoing: #multiclass methods\n",
    "#                        total_node_obs = sum(response_dict.values())\n",
    "#                        for key in response_dict:\n",
    "#                            response_dict[key] = round(response_dict[key] / total_node_obs,2)\n",
    "#                        class_node = response_dict\n",
    "#                        myKeys = list(class_node.keys())\n",
    "#                        myKeys.sort()\n",
    "#                        class_node = {i: class_node[i] for i in myKeys}\n",
    "#                    else:\n",
    "#                        class_node = max(response_dict, key = response_dict.get)\n",
    "#                    if cart.impurity_fn == \"gini\":\n",
    "#                        v_label[label] = f\"{node.name}, {node.split}, Class:{class_node}, {cart.impurity_fn} : {round(cart.impur(node, display = True),2)}, Samples: {len(node.indexes)}\"\n",
    "#                    elif cart.impurity_fn == \"tau\":\n",
    "#                        v_label[label] = f\"{node.name}, {node.split}, Class:{class_node}, {cart.impurity_fn} : {round(node.value_soglia_split[0][2],2)}, Samples: {len(node.indexes)}\" \n",
    "#                    else:\n",
    "#                        v_label[label] = f\"{node.name}, {node.split}, Class:{class_node}, {cart.impurity_fn} : {round(cart.impur(node),2)}, Samples: {len(node.indexes)}\"\n",
    "#                else:\n",
    "#                    mean_y = mean(cart.y[node.indexes])\n",
    "#                    v_label[label]=  f\"{node.name}, {node.split}, Bin Value: {round(mean_y,2)}, {cart.impurity_fn} : {round(cart.impur(node),2)}, Samples : {len(node.indexes)}\"\n",
    "#labels = v_label\n",
    "## Drawing using plotly library\n",
    "#fig = go.Figure()\n",
    "#fig.add_trace(go.Scatter(x=Xe,\n",
    "#                y=Ye,\n",
    "#                mode='lines',\n",
    "#                line=dict(color='rgb(210,210,210)', width=1),\n",
    "#                hoverinfo='none'\n",
    "#                ))\n",
    "#fig.add_trace(go.Scatter(x=Xn,\n",
    "#                y=Yn,\n",
    "#                mode='markers',\n",
    "#                name='Nodes',\n",
    "#                marker=dict(symbol='circle-dot',\n",
    "#                                size=18,\n",
    "#                                color='#6175c1',    #'#DB4551',\n",
    "#                                line=dict(color='rgb(50,50,50)', width=1)\n",
    "#                                ),\n",
    "#                text=labels,\n",
    "#                hoverinfo='text',\n",
    "#                opacity=0.8\n",
    "#                ))\n",
    "#filename=\"CART_tree.png\"\n",
    "#fig.update_layout(\n",
    "#    title=filename[:-4],    #chops off \".png\"\n",
    "#    )\n",
    "#fig.show()\n",
    "#"
   ]
  },
  {
   "cell_type": "markdown",
   "metadata": {},
   "source": [
    "full dataset model "
   ]
  },
  {
   "cell_type": "code",
   "execution_count": 15,
   "metadata": {},
   "outputs": [],
   "source": [
    "df=pd.read_csv('Carseats.csv')\n",
    "df=df.iloc[:,1:]\n",
    "\n",
    "df.head()\n",
    "\n",
    "features = df[features_names]\n",
    "features.head()\n",
    "\n",
    "n_features = df[n_features_names]\n",
    "n_features.head()\n",
    "\n",
    "y = df[\"Price\"]\n",
    "y.head()\n",
    "\n",
    "indici = np.arange(0, len(y))\n"
   ]
  },
  {
   "cell_type": "code",
   "execution_count": 16,
   "metadata": {},
   "outputs": [],
   "source": [
    "my_tree = MyNodeClass('n1', indici) \n",
    "\n",
    "cart = CART(y,features,features_names,n_features,n_features_names, impurity_fn = \"between_variance\", problem=\"regression\", method = \"CART\",  min_cases_parent= 10,min_cases_child= 5, max_level = 4)\n",
    "\n",
    "#cart.growing_tree(my_tree)\n"
   ]
  },
  {
   "cell_type": "markdown",
   "metadata": {},
   "source": [
    "need to somehow get only 29 leaves in final tree?\n",
    "can't prune the traditional way as only have training set "
   ]
  },
  {
   "cell_type": "code",
   "execution_count": 17,
   "metadata": {},
   "outputs": [],
   "source": [
    "#cart.print_tree(table = True, html = True).style.hide_index() #print both the pruned and non pruned tree \n",
    "\n"
   ]
  }
 ],
 "metadata": {
  "kernelspec": {
   "display_name": "base",
   "language": "python",
   "name": "python3"
  },
  "language_info": {
   "codemirror_mode": {
    "name": "ipython",
    "version": 3
   },
   "file_extension": ".py",
   "mimetype": "text/x-python",
   "name": "python",
   "nbconvert_exporter": "python",
   "pygments_lexer": "ipython3",
   "version": "3.11.0"
  },
  "orig_nbformat": 4
 },
 "nbformat": 4,
 "nbformat_minor": 2
}
