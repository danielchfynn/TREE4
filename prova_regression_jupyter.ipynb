{
 "cells": [
  {
   "cell_type": "markdown",
   "metadata": {},
   "source": [
    "Dictionary Inputs "
   ]
  },
  {
   "cell_type": "code",
   "execution_count": 1,
   "metadata": {},
   "outputs": [],
   "source": [
    "#from __future__ import annotations\n",
    "#from tkinter import N\n",
    "\n",
    "from TREE4.TREE4 import *\n",
    "\n",
    "import pandas as pd\n",
    "\n",
    "#d = dict(features, **n_features)  #merges the two dicts\n",
    "#df = pd.DataFrame(data=d)         #creates the dataframe\n",
    "\n",
    "#print(df)\n",
    "#import csv\n",
    "\n",
    "\n",
    "\n",
    "#####################################loading the carseats data#########################\n",
    "\n",
    "df=pd.read_csv('Carseats_train.csv')\n",
    "#df=df.iloc[:,1:]\n",
    "\n",
    "features_names=list(df.columns)\n",
    "\n",
    "colonne=features_names[:6]\n",
    "features_name=features_names[7:9]\n",
    "features_names=colonne + features_name\n",
    "\n",
    "\n",
    "\n",
    "\n",
    "n_features_names=list(df.columns)\n",
    "columns = [(n_features_names[6])]\n",
    "n_features_name = n_features_names[9:11]\n",
    "n_features_names=columns + n_features_name\n",
    "\n",
    "\n",
    "\n",
    "\n",
    "features=df.iloc[:,0:6]\n",
    "features2=df.iloc[:,7:9]\n",
    "\n",
    "features=dict(features)\n",
    "features2=dict(features2)\n",
    "\n",
    "\n",
    "n_features=df.iloc[:,6:7]\n",
    "n_features2=df.iloc[:,9:11]\n",
    "\n",
    "\n",
    "n_features=dict(n_features)\n",
    "n_features2=dict(n_features2)\n",
    "\n",
    "features = dict(features, **features2)\n",
    "n_features = dict(n_features, **n_features2)\n",
    "\n",
    "\n",
    "#############################################################################\n",
    "\n",
    "\n",
    "#import itertools\n",
    "#from statistics import mode\n",
    "'''\n",
    "print(features,'features',type(features))\n",
    "print()\n",
    "print(features_names,'features_names')\n",
    "print()\n",
    "print(n_features,'n_features')\n",
    "print()\n",
    "print(n_features_names,'n_features_names')\n",
    "print()\n",
    "'''\n",
    "########################### y categorical #######################################\n",
    "'''\n",
    "High=[]\n",
    "for i in features['Sales']:\n",
    "    if i < 8:\n",
    "        High.append('NO')\n",
    "    else:\n",
    "        High.append('YES')\n",
    "\n",
    "High=pd.DataFrame(High)\n",
    "High=dict(High)\n",
    "High['High'] = High.pop(0)\n",
    "\n",
    "#y=High['High']\n",
    "\n",
    "#exclude_keys = ['Sales']\n",
    "\n",
    "#new_d = {k: features[k] for k in set(list(features.keys())) - set(exclude_keys)}\n",
    "#features=new_d\n",
    "\n",
    "#features_names=features_names[1:]\n",
    "'''\n",
    "\n",
    "######################y numerical#####################################\n",
    "y=features['Price']\n",
    "exclude_keys = ['Price']\n",
    "new_d = {k: features[k] for k in set(list(features.keys())) - set(exclude_keys)}\n",
    "features=new_d\n",
    "\n",
    "indici = np.arange(0, len(y))\n",
    "\n",
    "features_names3 = features_names[0:5]\n",
    "features_names4 = features_names[6:]\n",
    "features_names = features_names3 +  features_names4 \n",
    "\n",
    "#############Data Prep for prediction ############\n",
    "df_test=pd.read_csv('Carseats_test.csv')\n",
    "#df_test=df_test.iloc[:,1:]\n",
    "\n",
    "\n",
    "features_test=df_test.iloc[:,0:6]\n",
    "features2_test=df_test.iloc[:,7:9]\n",
    "\n",
    "features_test=dict(features_test)\n",
    "features2_test=dict(features2_test)\n",
    "\n",
    "\n",
    "n_features_test=df_test.iloc[:,6:7]\n",
    "n_features2_test=df_test.iloc[:,9:11]\n",
    "\n",
    "\n",
    "n_features_test=dict(n_features_test)\n",
    "n_features2_test=dict(n_features2_test)\n",
    "\n",
    "features_test = dict(features_test, **features2_test)\n",
    "n_features_test = dict(n_features_test, **n_features2_test)\n",
    "\n",
    "y_test=features_test['Price']\n",
    "\n",
    "y_test = y_test.tolist()\n",
    "\n",
    "del features_test[\"Price\"]   \n",
    "\n",
    "#impurity = impurity_fn('MSE') # chhose the simplest impurity functin (for regression tree)\n",
    "\n",
    "#impurity = Impurity (\"MSE\")\n",
    "# start a tree structure by instantiating its root\n",
    "#print(\"features\", features)\n",
    "#print(\"features_names\", features_names)\n",
    "#print(\"n_features\", n_features)\n",
    "#print(\"n_features_names\", n_features_names)\n",
    "\n",
    "\n",
    "\n",
    "############Program Running\n",
    "\n",
    "\n",
    "###User Defined Function \n",
    "\n",
    "\n",
    "\n",
    "#when definining a funcion please be aware we are using purity gain or information gain or greatest difference between variance, all positive aspects \n",
    "#adding user_defined as a possible impurity_fn and added user_impur to carry that function \n",
    "def user_fn(self, node): #impur just takes node in CART\n",
    "    \n",
    "    return (mean(self.y[node.indexes])**2)*len(self.y[node.indexes])\n",
    "\n",
    "\n",
    "\n",
    "\n"
   ]
  },
  {
   "cell_type": "code",
   "execution_count": 2,
   "metadata": {},
   "outputs": [
    {
     "name": "stdout",
     "output_type": "stream",
     "text": [
      "Split Found:  n1 [['CompPrice', 127.5, 0.20228188075035491, 0]] start <TREE4.TREE4.NodeClass object at 0x000001A91B450AD0> CompPrice > 127.5\n",
      "node_proportion_total  0.20228188075035552\n",
      "Split Found:  n2 [['Sales', 7.55, 0.20969032447490832, 1]] left <TREE4.TREE4.NodeClass object at 0x000001A92FE3EC00> Sales > 7.55\n",
      "node_proportion_total  0.30467676817668254\n",
      "Node_proportion_gain  0.10239488742632702\n",
      "Split Found:  n4 [['Sales', 2.83, 0.096699767604836, 2]] left <TREE4.TREE4.NodeClass object at 0x000001A92FE66510> Sales > 2.83\n",
      "node_proportion_total  0.3199510824661509\n",
      "Node_proportion_gain  0.01527431428946835\n",
      "Node Search Split Error for:  n8 with obs in node:  9  which is less than minimum parent size:  10\n",
      "TypeError: Node search split (CART) failure\n",
      "Split Found:  n9 [['Sales', 3.545, 0.05744956441716209, 3]] right <TREE4.TREE4.NodeClass object at 0x000001A92CCFF950> Sales > 3.54\n",
      "node_proportion_total  0.32743705795623107\n",
      "Node_proportion_gain  0.007485975490080177\n",
      "Node Search Split Error for:  n18 with obs in node:  5  which is less than minimum parent size:  10\n",
      "TypeError: Node search split (CART) failure\n",
      "Split Found:  n19 [['Sales', 4.140000000000001, 0.063784266618795, 4]] right <TREE4.TREE4.NodeClass object at 0x000001A92CD1E000> Sales > 4.14\n",
      "node_proportion_total  0.3348195331613472\n",
      "Node_proportion_gain  0.007382475205116146\n",
      "Split Found:  n5 [['Population', 36.5, 0.10219236330367809, 2]] right <TREE4.TREE4.NodeClass object at 0x000001A92FE66870> Population > 36.5\n",
      "node_proportion_total  0.3581156973105388\n",
      "Node_proportion_gain  0.02329616414919161\n",
      "Node Search Split Error for:  n10 with obs in node:  5  which is less than minimum parent size:  10\n",
      "TypeError: Node search split (CART) failure\n",
      "Split Found:  n11 [['Population', 496.5, 0.046037662302900406, 3]] right <TREE4.TREE4.NodeClass object at 0x000001A92CD45F70> Population > 496.5\n",
      "node_proportion_total  0.3664379049672523\n",
      "Node_proportion_gain  0.008322207656713487\n",
      "Split Found:  n22 [['Population', 430.0, 0.021100145954489613, 4]] left <TREE4.TREE4.NodeClass object at 0x000001A92CD53620> Population > 430.0\n",
      "node_proportion_total  0.36992172574891435\n",
      "Node_proportion_gain  0.0034838207816620392\n",
      "Node Search Split Error for:  n23 with obs in node:  6  which is less than minimum parent size:  10\n",
      "TypeError: Node search split (CART) failure\n",
      "Split Found:  n3 [['Sales', 7.555, 0.314143889817587, 1]] right <TREE4.TREE4.NodeClass object at 0x000001A92FE3EC60> Sales > 7.55\n",
      "node_proportion_total  0.4671188901251554\n",
      "Node_proportion_gain  0.09719716437624104\n",
      "Split Found:  n6 [['Population', 354.0, 0.017440549544800565, 2]] left <TREE4.TREE4.NodeClass object at 0x000001A92CD843B0> Population > 354.0\n",
      "node_proportion_total  0.469092978742253\n",
      "Node_proportion_gain  0.00197408861709758\n",
      "Split Found:  n12 [['Population', 283.0, 0.05647595675116257, 3]] left <TREE4.TREE4.NodeClass object at 0x000001A92CD86ED0> Population > 283.0\n",
      "node_proportion_total  0.47330330182843544\n",
      "Node_proportion_gain  0.004210323086182466\n",
      "Split Found:  n24 [['Income', 59.0, 0.29213605233671147, 4]] left <TREE4.TREE4.NodeClass object at 0x000001A92CD98F50> Income > 59.0\n",
      "node_proportion_total  0.4910343787842391\n",
      "Node_proportion_gain  0.01773107695580367\n",
      "Split Found:  n25 [['Sales', 5.785, 0.004653981335595692, 4]] right <TREE4.TREE4.NodeClass object at 0x000001A92CD98F20> Sales > 5.79\n",
      "node_proportion_total  0.49107927019240494\n",
      "Node_proportion_gain  4.489140816582582e-05\n",
      "This split isn't good now i cut it [reg delta]\n",
      "Split Found:  n13 [['Population', 417.5, 0.1313767489634613, 3]] right <TREE4.TREE4.NodeClass object at 0x000001A92CD86EA0> Population > 417.5\n",
      "node_proportion_total  0.4958961700606891\n",
      "Node_proportion_gain  0.004816899868284152\n",
      "Node Search Split Error for:  n26 with obs in node:  5  which is less than minimum parent size:  10\n",
      "TypeError: Node search split (CART) failure\n",
      "Node Search Split Error for:  n27 with obs in node:  9  which is less than minimum parent size:  10\n",
      "TypeError: Node search split (CART) failure\n",
      "Split Found:  n7 [['Sales', 11.879999999999999, 0.14520891719012619, 2]] right <TREE4.TREE4.NodeClass object at 0x000001A92CD84380> Sales > 11.88\n",
      "node_proportion_total  0.5102742595147112\n",
      "Node_proportion_gain  0.01437808945402208\n",
      "Split Found:  n14 [['Sales', 8.754999999999999, 0.037737360308944146, 3]] left <TREE4.TREE4.NodeClass object at 0x000001A92CDAA660> Sales > 8.75\n",
      "node_proportion_total  0.5127724830921554\n",
      "Node_proportion_gain  0.002498223577444225\n",
      "Split Found:  n28 [['Sales', 7.855, 0.233837014992353, 4]] left <TREE4.TREE4.NodeClass object at 0x000001A92CDBCC80> Sales > 7.86\n",
      "node_proportion_total  0.5170162311829858\n",
      "Node_proportion_gain  0.00424374809083039\n",
      "Split Found:  n29 [['Sales', 9.15, 0.11863249089334815, 4]] right <TREE4.TREE4.NodeClass object at 0x000001A92CDBCC50> Sales > 9.15\n",
      "node_proportion_total  0.5224203840942385\n",
      "Node_proportion_gain  0.005404152911252735\n",
      "Split Found:  n15 [['Sales', 12.415, 0.00837031870825955, 3]] right <TREE4.TREE4.NodeClass object at 0x000001A92CDAA630> Sales > 12.41\n",
      "node_proportion_total  0.5225747177939268\n",
      "Node_proportion_gain  0.00015433369968831379\n",
      "Node Search Split Error for:  n30 with obs in node:  6  which is less than minimum parent size:  10\n",
      "TypeError: Node search split (CART) failure\n",
      "Node Search Split Error for:  n31 with obs in node:  5  which is less than minimum parent size:  10\n",
      "TypeError: Node search split (CART) failure\n"
     ]
    },
    {
     "data": {
      "text/plain": [
       "(((None, (None, (None, None))), (None, ((None, None), None))),\n",
       " ((((None, None), None), (None, None)),\n",
       "  (((None, None), (None, None)), (None, None))))"
      ]
     },
     "execution_count": 2,
     "metadata": {},
     "output_type": "execute_result"
    }
   ],
   "source": [
    "my_tree = NodeClass('n1', indici) \n",
    "\n",
    "tree = TREE4(y,features,features_names,n_features,n_features_names, impurity_fn = \"pearson\", problem=\"regression\", method = \"TWO-STAGE\",  min_cases_parent= 10,min_cases_child= 5, max_level =4 , twoing = False, min_imp_gain = 0.0001)\n",
    "\n",
    "tree.growing_tree(my_tree, max_k = 1)\n",
    "\n"
   ]
  },
  {
   "cell_type": "code",
   "execution_count": 3,
   "metadata": {},
   "outputs": [
    {
     "data": {
      "application/vnd.plotly.v1+json": {
       "config": {
        "plotlyServerURL": "https://plot.ly"
       },
       "data": [
        {
         "hoverinfo": "none",
         "line": {
          "color": "rgb(210,210,210)",
          "width": 1
         },
         "mode": "lines",
         "type": "scatter",
         "x": [
          0,
          -7.8125,
          null,
          0,
          7.8125,
          null,
          -7.8125,
          -11.8125,
          null,
          -7.8125,
          -3.8125,
          null,
          7.8125,
          4.1875,
          null,
          7.8125,
          11.4375,
          null,
          -11.8125,
          -13.8125,
          null,
          -11.8125,
          -9.8125,
          null,
          -3.8125,
          -5.8125,
          null,
          -3.8125,
          -1.8125,
          null,
          4.1875,
          2.1875,
          null,
          4.1875,
          6.1875,
          null,
          11.4375,
          10.1875,
          null,
          11.4375,
          12.6875,
          null,
          -9.8125,
          -10.8125,
          null,
          -9.8125,
          -8.8125,
          null,
          -1.8125,
          -2.8125,
          null,
          -1.8125,
          -0.8125,
          null,
          2.1875,
          1.1875,
          null,
          2.1875,
          3.1875,
          null,
          6.1875,
          5.1875,
          null,
          6.1875,
          7.1875,
          null,
          10.1875,
          9.1875,
          null,
          10.1875,
          11.1875,
          null,
          12.6875,
          12.1875,
          null,
          12.6875,
          13.1875,
          null,
          -8.8125,
          -9.3125,
          null,
          -8.8125,
          -8.3125,
          null,
          -2.8125,
          -3.3125,
          null,
          -2.8125,
          -2.3125,
          null,
          1.1875,
          0.6875,
          null,
          1.1875,
          1.6875,
          null,
          9.1875,
          8.6875,
          null,
          9.1875,
          9.6875,
          null,
          11.1875,
          10.6875,
          null,
          11.1875,
          11.6875,
          null
         ],
         "y": [
          10,
          9,
          null,
          10,
          9,
          null,
          9,
          8,
          null,
          9,
          8,
          null,
          9,
          8,
          null,
          9,
          8,
          null,
          8,
          7,
          null,
          8,
          7,
          null,
          8,
          7,
          null,
          8,
          7,
          null,
          8,
          7,
          null,
          8,
          7,
          null,
          8,
          7,
          null,
          8,
          7,
          null,
          7,
          6,
          null,
          7,
          6,
          null,
          7,
          6,
          null,
          7,
          6,
          null,
          7,
          6,
          null,
          7,
          6,
          null,
          7,
          6,
          null,
          7,
          6,
          null,
          7,
          6,
          null,
          7,
          6,
          null,
          7,
          6,
          null,
          7,
          6,
          null,
          6,
          5,
          null,
          6,
          5,
          null,
          6,
          5,
          null,
          6,
          5,
          null,
          6,
          5,
          null,
          6,
          5,
          null,
          6,
          5,
          null,
          6,
          5,
          null,
          6,
          5,
          null,
          6,
          5,
          null
         ]
        },
        {
         "hoverinfo": "text",
         "marker": {
          "color": "#6175c1",
          "line": {
           "color": "rgb(50,50,50)",
           "width": 1
          },
          "size": 18,
          "symbol": "circle-dot"
         },
         "mode": "markers",
         "name": "Nodes",
         "opacity": 0.8,
         "text": [
          "n8<br>None<br>Bin Value: 131.11<br>pearson : 1924.89<br>Samples : 9<br>GPR: []<br>LPR: []",
          "n18<br>None<br>Bin Value: 99.2<br>pearson : 1100.8<br>Samples : 5<br>GPR: []<br>LPR: []",
          "n38<br>None<br>Bin Value: 125.56<br>pearson : 1984.22<br>Samples : 9<br>GPR: []<br>LPR: []",
          "n39<br>None<br>Bin Value: 113.52<br>pearson : 14868.48<br>Samples : 66<br>GPR: []<br>LPR: []",
          "n10<br>None<br>Bin Value: 69.8<br>pearson : 3716.8<br>Samples : 5<br>GPR: []<br>LPR: []",
          "n23<br>None<br>Bin Value: 83.67<br>pearson : 1141.33<br>Samples : 6<br>GPR: []<br>LPR: []",
          "n44<br>None<br>Bin Value: 97.83<br>pearson : 22503.47<br>Samples : 53<br>GPR: []<br>LPR: []",
          "n45<br>None<br>Bin Value: 106.22<br>pearson : 2633.56<br>Samples : 9<br>GPR: []<br>LPR: []",
          "n25<br>None<br>Bin Value: 131.73<br>pearson : 1500.18<br>Samples : 11<br>GPR: 1.0<br>LPR: 0.005",
          "n48<br>None<br>Bin Value: 154.5<br>pearson : 2546.5<br>Samples : 10<br>GPR: []<br>LPR: []",
          "n49<br>None<br>Bin Value: 134.61<br>pearson : 4135.48<br>Samples : 23<br>GPR: []<br>LPR: []",
          "n26<br>None<br>Bin Value: 153.6<br>pearson : 2123.2<br>Samples : 5<br>GPR: []<br>LPR: []",
          "n27<br>None<br>Bin Value: 138.33<br>pearson : 2830.0<br>Samples : 9<br>GPR: []<br>LPR: []",
          "n56<br>None<br>Bin Value: 113.4<br>pearson : 777.2<br>Samples : 5<br>GPR: []<br>LPR: []",
          "n57<br>None<br>Bin Value: 126.67<br>pearson : 1385.33<br>Samples : 15<br>GPR: []<br>LPR: []",
          "n58<br>None<br>Bin Value: 110.2<br>pearson : 1055.6<br>Samples : 10<br>GPR: []<br>LPR: []",
          "n59<br>None<br>Bin Value: 121.53<br>pearson : 5188.74<br>Samples : 19<br>GPR: []<br>LPR: []",
          "n30<br>None<br>Bin Value: 102.83<br>pearson : 1346.83<br>Samples : 6<br>GPR: []<br>LPR: []",
          "n31<br>None<br>Bin Value: 105.8<br>pearson : 1496.8<br>Samples : 5<br>GPR: []<br>LPR: []",
          "n1<br>CompPrice > 127.5<br>Bin Value: 115.78<br>pearson : 155526.82<br>Samples : 280<br>GPR: 0.31<br>LPR: 0.202",
          "n2<br>Sales > 7.55<br>Bin Value: 106.73<br>pearson : 75946.05<br>Samples : 162<br>GPR: 0.96<br>LPR: 0.21",
          "n4<br>Sales > 2.83<br>Bin Value: 115.71<br>pearson : 24566.4<br>Samples : 89<br>GPR: 0.973<br>LPR: 0.097",
          "n9<br>Sales > 3.54<br>Bin Value: 113.97<br>pearson : 20265.95<br>Samples : 80<br>GPR: 0.967<br>LPR: 0.057",
          "n19<br>Sales > 4.14<br>Bin Value: 114.96<br>pearson : 18000.88<br>Samples : 75<br>GPR: 0.97<br>LPR: 0.064",
          "n5<br>Population > 36.5<br>Bin Value: 95.78<br>pearson : 35454.49<br>Samples : 73<br>GPR: 0.974<br>LPR: 0.102",
          "n11<br>Population > 496.5<br>Bin Value: 97.69<br>pearson : 28114.51<br>Samples : 68<br>GPR: 0.967<br>LPR: 0.046",
          "n22<br>Population > 430.0<br>Bin Value: 99.05<br>pearson : 25678.85<br>Samples : 62<br>GPR: 0.965<br>LPR: 0.021",
          "n3<br>Sales > 7.55<br>Bin Value: 128.19<br>pearson : 48120.52<br>Samples : 118<br>GPR: 0.997<br>LPR: 0.314",
          "n6<br>Population > 354.0<br>Bin Value: 139.71<br>pearson : 17604.02<br>Samples : 58<br>GPR: 0.995<br>LPR: 0.017",
          "n12<br>Population > 283.0<br>Bin Value: 138.41<br>pearson : 11594.64<br>Samples : 44<br>GPR: 0.993<br>LPR: 0.056",
          "n24<br>Income > 59.0<br>Bin Value: 140.64<br>pearson : 9439.64<br>Samples : 33<br>GPR: 0.993<br>LPR: 0.292",
          "n13<br>Population > 417.5<br>Bin Value: 143.79<br>pearson : 5702.36<br>Samples : 14<br>GPR: 1.0<br>LPR: 0.131",
          "n7<br>Sales > 11.88<br>Bin Value: 117.07<br>pearson : 15399.73<br>Samples : 60<br>GPR: 1.0<br>LPR: 0.145",
          "n14<br>Sales > 8.75<br>Bin Value: 119.96<br>pearson : 10295.92<br>Samples : 49<br>GPR: 1.0<br>LPR: 0.038",
          "n28<br>Sales > 7.86<br>Bin Value: 123.35<br>pearson : 2822.55<br>Samples : 20<br>GPR: 1.0<br>LPR: 0.234",
          "n29<br>Sales > 9.15<br>Bin Value: 117.62<br>pearson : 7084.83<br>Samples : 29<br>GPR: 1.0<br>LPR: 0.119",
          "n15<br>Sales > 12.41<br>Bin Value: 104.18<br>pearson : 2867.64<br>Samples : 11<br>GPR: 1.0<br>LPR: 0.008"
         ],
         "type": "scatter",
         "x": [
          -13.8125,
          -10.8125,
          -9.3125,
          -8.3125,
          -5.8125,
          -0.8125,
          -3.3125,
          -2.3125,
          3.1875,
          0.6875,
          1.6875,
          5.1875,
          7.1875,
          8.6875,
          9.6875,
          10.6875,
          11.6875,
          12.1875,
          13.1875,
          0,
          -7.8125,
          -11.8125,
          -9.8125,
          -8.8125,
          -3.8125,
          -1.8125,
          -2.8125,
          7.8125,
          4.1875,
          2.1875,
          1.1875,
          6.1875,
          11.4375,
          10.1875,
          9.1875,
          11.1875,
          12.6875
         ],
         "y": [
          7,
          6,
          5,
          5,
          7,
          6,
          5,
          5,
          6,
          5,
          5,
          6,
          6,
          5,
          5,
          5,
          5,
          6,
          6,
          10,
          9,
          8,
          7,
          6,
          8,
          7,
          6,
          9,
          8,
          7,
          6,
          7,
          8,
          7,
          6,
          6,
          7
         ]
        }
       ],
       "layout": {
        "margin": {
         "b": 0,
         "l": 0,
         "r": 0,
         "t": 0
        },
        "plot_bgcolor": "rgba(0, 0, 0, 0)",
        "template": {
         "data": {
          "bar": [
           {
            "error_x": {
             "color": "#2a3f5f"
            },
            "error_y": {
             "color": "#2a3f5f"
            },
            "marker": {
             "line": {
              "color": "#E5ECF6",
              "width": 0.5
             },
             "pattern": {
              "fillmode": "overlay",
              "size": 10,
              "solidity": 0.2
             }
            },
            "type": "bar"
           }
          ],
          "barpolar": [
           {
            "marker": {
             "line": {
              "color": "#E5ECF6",
              "width": 0.5
             },
             "pattern": {
              "fillmode": "overlay",
              "size": 10,
              "solidity": 0.2
             }
            },
            "type": "barpolar"
           }
          ],
          "carpet": [
           {
            "aaxis": {
             "endlinecolor": "#2a3f5f",
             "gridcolor": "white",
             "linecolor": "white",
             "minorgridcolor": "white",
             "startlinecolor": "#2a3f5f"
            },
            "baxis": {
             "endlinecolor": "#2a3f5f",
             "gridcolor": "white",
             "linecolor": "white",
             "minorgridcolor": "white",
             "startlinecolor": "#2a3f5f"
            },
            "type": "carpet"
           }
          ],
          "choropleth": [
           {
            "colorbar": {
             "outlinewidth": 0,
             "ticks": ""
            },
            "type": "choropleth"
           }
          ],
          "contour": [
           {
            "colorbar": {
             "outlinewidth": 0,
             "ticks": ""
            },
            "colorscale": [
             [
              0,
              "#0d0887"
             ],
             [
              0.1111111111111111,
              "#46039f"
             ],
             [
              0.2222222222222222,
              "#7201a8"
             ],
             [
              0.3333333333333333,
              "#9c179e"
             ],
             [
              0.4444444444444444,
              "#bd3786"
             ],
             [
              0.5555555555555556,
              "#d8576b"
             ],
             [
              0.6666666666666666,
              "#ed7953"
             ],
             [
              0.7777777777777778,
              "#fb9f3a"
             ],
             [
              0.8888888888888888,
              "#fdca26"
             ],
             [
              1,
              "#f0f921"
             ]
            ],
            "type": "contour"
           }
          ],
          "contourcarpet": [
           {
            "colorbar": {
             "outlinewidth": 0,
             "ticks": ""
            },
            "type": "contourcarpet"
           }
          ],
          "heatmap": [
           {
            "colorbar": {
             "outlinewidth": 0,
             "ticks": ""
            },
            "colorscale": [
             [
              0,
              "#0d0887"
             ],
             [
              0.1111111111111111,
              "#46039f"
             ],
             [
              0.2222222222222222,
              "#7201a8"
             ],
             [
              0.3333333333333333,
              "#9c179e"
             ],
             [
              0.4444444444444444,
              "#bd3786"
             ],
             [
              0.5555555555555556,
              "#d8576b"
             ],
             [
              0.6666666666666666,
              "#ed7953"
             ],
             [
              0.7777777777777778,
              "#fb9f3a"
             ],
             [
              0.8888888888888888,
              "#fdca26"
             ],
             [
              1,
              "#f0f921"
             ]
            ],
            "type": "heatmap"
           }
          ],
          "heatmapgl": [
           {
            "colorbar": {
             "outlinewidth": 0,
             "ticks": ""
            },
            "colorscale": [
             [
              0,
              "#0d0887"
             ],
             [
              0.1111111111111111,
              "#46039f"
             ],
             [
              0.2222222222222222,
              "#7201a8"
             ],
             [
              0.3333333333333333,
              "#9c179e"
             ],
             [
              0.4444444444444444,
              "#bd3786"
             ],
             [
              0.5555555555555556,
              "#d8576b"
             ],
             [
              0.6666666666666666,
              "#ed7953"
             ],
             [
              0.7777777777777778,
              "#fb9f3a"
             ],
             [
              0.8888888888888888,
              "#fdca26"
             ],
             [
              1,
              "#f0f921"
             ]
            ],
            "type": "heatmapgl"
           }
          ],
          "histogram": [
           {
            "marker": {
             "pattern": {
              "fillmode": "overlay",
              "size": 10,
              "solidity": 0.2
             }
            },
            "type": "histogram"
           }
          ],
          "histogram2d": [
           {
            "colorbar": {
             "outlinewidth": 0,
             "ticks": ""
            },
            "colorscale": [
             [
              0,
              "#0d0887"
             ],
             [
              0.1111111111111111,
              "#46039f"
             ],
             [
              0.2222222222222222,
              "#7201a8"
             ],
             [
              0.3333333333333333,
              "#9c179e"
             ],
             [
              0.4444444444444444,
              "#bd3786"
             ],
             [
              0.5555555555555556,
              "#d8576b"
             ],
             [
              0.6666666666666666,
              "#ed7953"
             ],
             [
              0.7777777777777778,
              "#fb9f3a"
             ],
             [
              0.8888888888888888,
              "#fdca26"
             ],
             [
              1,
              "#f0f921"
             ]
            ],
            "type": "histogram2d"
           }
          ],
          "histogram2dcontour": [
           {
            "colorbar": {
             "outlinewidth": 0,
             "ticks": ""
            },
            "colorscale": [
             [
              0,
              "#0d0887"
             ],
             [
              0.1111111111111111,
              "#46039f"
             ],
             [
              0.2222222222222222,
              "#7201a8"
             ],
             [
              0.3333333333333333,
              "#9c179e"
             ],
             [
              0.4444444444444444,
              "#bd3786"
             ],
             [
              0.5555555555555556,
              "#d8576b"
             ],
             [
              0.6666666666666666,
              "#ed7953"
             ],
             [
              0.7777777777777778,
              "#fb9f3a"
             ],
             [
              0.8888888888888888,
              "#fdca26"
             ],
             [
              1,
              "#f0f921"
             ]
            ],
            "type": "histogram2dcontour"
           }
          ],
          "mesh3d": [
           {
            "colorbar": {
             "outlinewidth": 0,
             "ticks": ""
            },
            "type": "mesh3d"
           }
          ],
          "parcoords": [
           {
            "line": {
             "colorbar": {
              "outlinewidth": 0,
              "ticks": ""
             }
            },
            "type": "parcoords"
           }
          ],
          "pie": [
           {
            "automargin": true,
            "type": "pie"
           }
          ],
          "scatter": [
           {
            "fillpattern": {
             "fillmode": "overlay",
             "size": 10,
             "solidity": 0.2
            },
            "type": "scatter"
           }
          ],
          "scatter3d": [
           {
            "line": {
             "colorbar": {
              "outlinewidth": 0,
              "ticks": ""
             }
            },
            "marker": {
             "colorbar": {
              "outlinewidth": 0,
              "ticks": ""
             }
            },
            "type": "scatter3d"
           }
          ],
          "scattercarpet": [
           {
            "marker": {
             "colorbar": {
              "outlinewidth": 0,
              "ticks": ""
             }
            },
            "type": "scattercarpet"
           }
          ],
          "scattergeo": [
           {
            "marker": {
             "colorbar": {
              "outlinewidth": 0,
              "ticks": ""
             }
            },
            "type": "scattergeo"
           }
          ],
          "scattergl": [
           {
            "marker": {
             "colorbar": {
              "outlinewidth": 0,
              "ticks": ""
             }
            },
            "type": "scattergl"
           }
          ],
          "scattermapbox": [
           {
            "marker": {
             "colorbar": {
              "outlinewidth": 0,
              "ticks": ""
             }
            },
            "type": "scattermapbox"
           }
          ],
          "scatterpolar": [
           {
            "marker": {
             "colorbar": {
              "outlinewidth": 0,
              "ticks": ""
             }
            },
            "type": "scatterpolar"
           }
          ],
          "scatterpolargl": [
           {
            "marker": {
             "colorbar": {
              "outlinewidth": 0,
              "ticks": ""
             }
            },
            "type": "scatterpolargl"
           }
          ],
          "scatterternary": [
           {
            "marker": {
             "colorbar": {
              "outlinewidth": 0,
              "ticks": ""
             }
            },
            "type": "scatterternary"
           }
          ],
          "surface": [
           {
            "colorbar": {
             "outlinewidth": 0,
             "ticks": ""
            },
            "colorscale": [
             [
              0,
              "#0d0887"
             ],
             [
              0.1111111111111111,
              "#46039f"
             ],
             [
              0.2222222222222222,
              "#7201a8"
             ],
             [
              0.3333333333333333,
              "#9c179e"
             ],
             [
              0.4444444444444444,
              "#bd3786"
             ],
             [
              0.5555555555555556,
              "#d8576b"
             ],
             [
              0.6666666666666666,
              "#ed7953"
             ],
             [
              0.7777777777777778,
              "#fb9f3a"
             ],
             [
              0.8888888888888888,
              "#fdca26"
             ],
             [
              1,
              "#f0f921"
             ]
            ],
            "type": "surface"
           }
          ],
          "table": [
           {
            "cells": {
             "fill": {
              "color": "#EBF0F8"
             },
             "line": {
              "color": "white"
             }
            },
            "header": {
             "fill": {
              "color": "#C8D4E3"
             },
             "line": {
              "color": "white"
             }
            },
            "type": "table"
           }
          ]
         },
         "layout": {
          "annotationdefaults": {
           "arrowcolor": "#2a3f5f",
           "arrowhead": 0,
           "arrowwidth": 1
          },
          "autotypenumbers": "strict",
          "coloraxis": {
           "colorbar": {
            "outlinewidth": 0,
            "ticks": ""
           }
          },
          "colorscale": {
           "diverging": [
            [
             0,
             "#8e0152"
            ],
            [
             0.1,
             "#c51b7d"
            ],
            [
             0.2,
             "#de77ae"
            ],
            [
             0.3,
             "#f1b6da"
            ],
            [
             0.4,
             "#fde0ef"
            ],
            [
             0.5,
             "#f7f7f7"
            ],
            [
             0.6,
             "#e6f5d0"
            ],
            [
             0.7,
             "#b8e186"
            ],
            [
             0.8,
             "#7fbc41"
            ],
            [
             0.9,
             "#4d9221"
            ],
            [
             1,
             "#276419"
            ]
           ],
           "sequential": [
            [
             0,
             "#0d0887"
            ],
            [
             0.1111111111111111,
             "#46039f"
            ],
            [
             0.2222222222222222,
             "#7201a8"
            ],
            [
             0.3333333333333333,
             "#9c179e"
            ],
            [
             0.4444444444444444,
             "#bd3786"
            ],
            [
             0.5555555555555556,
             "#d8576b"
            ],
            [
             0.6666666666666666,
             "#ed7953"
            ],
            [
             0.7777777777777778,
             "#fb9f3a"
            ],
            [
             0.8888888888888888,
             "#fdca26"
            ],
            [
             1,
             "#f0f921"
            ]
           ],
           "sequentialminus": [
            [
             0,
             "#0d0887"
            ],
            [
             0.1111111111111111,
             "#46039f"
            ],
            [
             0.2222222222222222,
             "#7201a8"
            ],
            [
             0.3333333333333333,
             "#9c179e"
            ],
            [
             0.4444444444444444,
             "#bd3786"
            ],
            [
             0.5555555555555556,
             "#d8576b"
            ],
            [
             0.6666666666666666,
             "#ed7953"
            ],
            [
             0.7777777777777778,
             "#fb9f3a"
            ],
            [
             0.8888888888888888,
             "#fdca26"
            ],
            [
             1,
             "#f0f921"
            ]
           ]
          },
          "colorway": [
           "#636efa",
           "#EF553B",
           "#00cc96",
           "#ab63fa",
           "#FFA15A",
           "#19d3f3",
           "#FF6692",
           "#B6E880",
           "#FF97FF",
           "#FECB52"
          ],
          "font": {
           "color": "#2a3f5f"
          },
          "geo": {
           "bgcolor": "white",
           "lakecolor": "white",
           "landcolor": "#E5ECF6",
           "showlakes": true,
           "showland": true,
           "subunitcolor": "white"
          },
          "hoverlabel": {
           "align": "left"
          },
          "hovermode": "closest",
          "mapbox": {
           "style": "light"
          },
          "paper_bgcolor": "white",
          "plot_bgcolor": "#E5ECF6",
          "polar": {
           "angularaxis": {
            "gridcolor": "white",
            "linecolor": "white",
            "ticks": ""
           },
           "bgcolor": "#E5ECF6",
           "radialaxis": {
            "gridcolor": "white",
            "linecolor": "white",
            "ticks": ""
           }
          },
          "scene": {
           "xaxis": {
            "backgroundcolor": "#E5ECF6",
            "gridcolor": "white",
            "gridwidth": 2,
            "linecolor": "white",
            "showbackground": true,
            "ticks": "",
            "zerolinecolor": "white"
           },
           "yaxis": {
            "backgroundcolor": "#E5ECF6",
            "gridcolor": "white",
            "gridwidth": 2,
            "linecolor": "white",
            "showbackground": true,
            "ticks": "",
            "zerolinecolor": "white"
           },
           "zaxis": {
            "backgroundcolor": "#E5ECF6",
            "gridcolor": "white",
            "gridwidth": 2,
            "linecolor": "white",
            "showbackground": true,
            "ticks": "",
            "zerolinecolor": "white"
           }
          },
          "shapedefaults": {
           "line": {
            "color": "#2a3f5f"
           }
          },
          "ternary": {
           "aaxis": {
            "gridcolor": "white",
            "linecolor": "white",
            "ticks": ""
           },
           "baxis": {
            "gridcolor": "white",
            "linecolor": "white",
            "ticks": ""
           },
           "bgcolor": "#E5ECF6",
           "caxis": {
            "gridcolor": "white",
            "linecolor": "white",
            "ticks": ""
           }
          },
          "title": {
           "x": 0.05
          },
          "xaxis": {
           "automargin": true,
           "gridcolor": "white",
           "linecolor": "white",
           "ticks": "",
           "title": {
            "standoff": 15
           },
           "zerolinecolor": "white",
           "zerolinewidth": 2
          },
          "yaxis": {
           "automargin": true,
           "gridcolor": "white",
           "linecolor": "white",
           "ticks": "",
           "title": {
            "standoff": 15
           },
           "zerolinecolor": "white",
           "zerolinewidth": 2
          }
         }
        },
        "xaxis": {
         "showticklabels": false,
         "visible": false
        },
        "yaxis": {
         "showticklabels": true,
         "visible": false
        }
       }
      }
     },
     "metadata": {},
     "output_type": "display_data"
    }
   ],
   "source": [
    "import warnings\n",
    "warnings.filterwarnings(\"ignore\", category=FutureWarning) \n",
    "\n",
    "\n",
    "tree.print_tree(table = False, html = False)#.style.hide_index() #print both the pruned and non pruned tree \n",
    "#cart.print_tree(table = False, html = False, visual_pruning = True)"
   ]
  },
  {
   "cell_type": "code",
   "execution_count": 4,
   "metadata": {},
   "outputs": [
    {
     "name": "stdout",
     "output_type": "stream",
     "text": [
      "To return the table, print_tree must be True: setting print_tree to True\n",
      "Best tree for test set has 7 leaves with a deviance of: 399.36345557786103 \n"
     ]
    },
    {
     "data": {
      "application/vnd.plotly.v1+json": {
       "config": {
        "plotlyServerURL": "https://plot.ly"
       },
       "data": [
        {
         "hoverinfo": "none",
         "line": {
          "color": "rgb(210,210,210)",
          "width": 1
         },
         "mode": "lines",
         "type": "scatter",
         "x": [
          0,
          -2,
          null,
          0,
          2,
          null,
          -2,
          -3,
          null,
          -2,
          -1,
          null,
          2,
          1,
          null,
          2,
          3,
          null,
          -3,
          -3.5,
          null,
          -3,
          -2.5,
          null,
          -1,
          -1.5,
          null,
          -1,
          -0.5,
          null,
          3,
          2.5,
          null,
          3,
          3.5,
          null
         ],
         "y": [
          6,
          5,
          null,
          6,
          5,
          null,
          5,
          4,
          null,
          5,
          4,
          null,
          5,
          4,
          null,
          5,
          4,
          null,
          4,
          3,
          null,
          4,
          3,
          null,
          4,
          3,
          null,
          4,
          3,
          null,
          4,
          3,
          null,
          4,
          3,
          null
         ]
        },
        {
         "hoverinfo": "text",
         "marker": {
          "color": "#6175c1",
          "line": {
           "color": "rgb(50,50,50)",
           "width": 1
          },
          "size": 18,
          "symbol": "circle-dot"
         },
         "mode": "markers",
         "name": "Nodes",
         "opacity": 0.8,
         "text": [
          "n8<br>None<br>Bin Value: 131.11<br>pearson : 1924.89<br>Samples : 9<br>GPR: []<br>LPR: []",
          "n10<br>None<br>Bin Value: 69.8<br>pearson : 3716.8<br>Samples : 5<br>GPR: []<br>LPR: []",
          "n1<br>CompPrice > 127.5<br>Bin Value: 115.78<br>pearson : 155526.82<br>Samples : 280<br>GPR: 0.31<br>LPR: 0.202",
          "n2<br>Sales > 7.55<br>Bin Value: 106.73<br>pearson : 75946.05<br>Samples : 162<br>GPR: 0.96<br>LPR: 0.21",
          "n4<br>Sales > 2.83<br>Bin Value: 115.71<br>pearson : 24566.4<br>Samples : 89<br>GPR: 0.973<br>LPR: 0.097",
          "n9<br>Sales > 3.54<br>Bin Value: 113.97<br>pearson : 20265.95<br>Samples : 80<br>GPR: 0.967<br>LPR: 0.057",
          "n5<br>Population > 36.5<br>Bin Value: 95.78<br>pearson : 35454.49<br>Samples : 73<br>GPR: 0.974<br>LPR: 0.102",
          "n11<br>Population > 496.5<br>Bin Value: 97.69<br>pearson : 28114.51<br>Samples : 68<br>GPR: 0.967<br>LPR: 0.046",
          "n3<br>Sales > 7.55<br>Bin Value: 128.19<br>pearson : 48120.52<br>Samples : 118<br>GPR: 0.997<br>LPR: 0.314",
          "n6<br>Population > 354.0<br>Bin Value: 139.71<br>pearson : 17604.02<br>Samples : 58<br>GPR: 0.995<br>LPR: 0.017",
          "n7<br>Sales > 11.88<br>Bin Value: 117.07<br>pearson : 15399.73<br>Samples : 60<br>GPR: 1.0<br>LPR: 0.145",
          "n14<br>Sales > 8.75<br>Bin Value: 119.96<br>pearson : 10295.92<br>Samples : 49<br>GPR: 1.0<br>LPR: 0.038",
          "n15<br>Sales > 12.41<br>Bin Value: 104.18<br>pearson : 2867.64<br>Samples : 11<br>GPR: 1.0<br>LPR: 0.008"
         ],
         "type": "scatter",
         "x": [
          -3.5,
          -1.5,
          0,
          -2,
          -3,
          -2.5,
          -1,
          -0.5,
          2,
          1,
          3,
          2.5,
          3.5
         ],
         "y": [
          3,
          3,
          6,
          5,
          4,
          3,
          4,
          3,
          5,
          4,
          4,
          3,
          3
         ]
        }
       ],
       "layout": {
        "margin": {
         "b": 0,
         "l": 0,
         "r": 0,
         "t": 0
        },
        "plot_bgcolor": "rgba(0, 0, 0, 0)",
        "template": {
         "data": {
          "bar": [
           {
            "error_x": {
             "color": "#2a3f5f"
            },
            "error_y": {
             "color": "#2a3f5f"
            },
            "marker": {
             "line": {
              "color": "#E5ECF6",
              "width": 0.5
             },
             "pattern": {
              "fillmode": "overlay",
              "size": 10,
              "solidity": 0.2
             }
            },
            "type": "bar"
           }
          ],
          "barpolar": [
           {
            "marker": {
             "line": {
              "color": "#E5ECF6",
              "width": 0.5
             },
             "pattern": {
              "fillmode": "overlay",
              "size": 10,
              "solidity": 0.2
             }
            },
            "type": "barpolar"
           }
          ],
          "carpet": [
           {
            "aaxis": {
             "endlinecolor": "#2a3f5f",
             "gridcolor": "white",
             "linecolor": "white",
             "minorgridcolor": "white",
             "startlinecolor": "#2a3f5f"
            },
            "baxis": {
             "endlinecolor": "#2a3f5f",
             "gridcolor": "white",
             "linecolor": "white",
             "minorgridcolor": "white",
             "startlinecolor": "#2a3f5f"
            },
            "type": "carpet"
           }
          ],
          "choropleth": [
           {
            "colorbar": {
             "outlinewidth": 0,
             "ticks": ""
            },
            "type": "choropleth"
           }
          ],
          "contour": [
           {
            "colorbar": {
             "outlinewidth": 0,
             "ticks": ""
            },
            "colorscale": [
             [
              0,
              "#0d0887"
             ],
             [
              0.1111111111111111,
              "#46039f"
             ],
             [
              0.2222222222222222,
              "#7201a8"
             ],
             [
              0.3333333333333333,
              "#9c179e"
             ],
             [
              0.4444444444444444,
              "#bd3786"
             ],
             [
              0.5555555555555556,
              "#d8576b"
             ],
             [
              0.6666666666666666,
              "#ed7953"
             ],
             [
              0.7777777777777778,
              "#fb9f3a"
             ],
             [
              0.8888888888888888,
              "#fdca26"
             ],
             [
              1,
              "#f0f921"
             ]
            ],
            "type": "contour"
           }
          ],
          "contourcarpet": [
           {
            "colorbar": {
             "outlinewidth": 0,
             "ticks": ""
            },
            "type": "contourcarpet"
           }
          ],
          "heatmap": [
           {
            "colorbar": {
             "outlinewidth": 0,
             "ticks": ""
            },
            "colorscale": [
             [
              0,
              "#0d0887"
             ],
             [
              0.1111111111111111,
              "#46039f"
             ],
             [
              0.2222222222222222,
              "#7201a8"
             ],
             [
              0.3333333333333333,
              "#9c179e"
             ],
             [
              0.4444444444444444,
              "#bd3786"
             ],
             [
              0.5555555555555556,
              "#d8576b"
             ],
             [
              0.6666666666666666,
              "#ed7953"
             ],
             [
              0.7777777777777778,
              "#fb9f3a"
             ],
             [
              0.8888888888888888,
              "#fdca26"
             ],
             [
              1,
              "#f0f921"
             ]
            ],
            "type": "heatmap"
           }
          ],
          "heatmapgl": [
           {
            "colorbar": {
             "outlinewidth": 0,
             "ticks": ""
            },
            "colorscale": [
             [
              0,
              "#0d0887"
             ],
             [
              0.1111111111111111,
              "#46039f"
             ],
             [
              0.2222222222222222,
              "#7201a8"
             ],
             [
              0.3333333333333333,
              "#9c179e"
             ],
             [
              0.4444444444444444,
              "#bd3786"
             ],
             [
              0.5555555555555556,
              "#d8576b"
             ],
             [
              0.6666666666666666,
              "#ed7953"
             ],
             [
              0.7777777777777778,
              "#fb9f3a"
             ],
             [
              0.8888888888888888,
              "#fdca26"
             ],
             [
              1,
              "#f0f921"
             ]
            ],
            "type": "heatmapgl"
           }
          ],
          "histogram": [
           {
            "marker": {
             "pattern": {
              "fillmode": "overlay",
              "size": 10,
              "solidity": 0.2
             }
            },
            "type": "histogram"
           }
          ],
          "histogram2d": [
           {
            "colorbar": {
             "outlinewidth": 0,
             "ticks": ""
            },
            "colorscale": [
             [
              0,
              "#0d0887"
             ],
             [
              0.1111111111111111,
              "#46039f"
             ],
             [
              0.2222222222222222,
              "#7201a8"
             ],
             [
              0.3333333333333333,
              "#9c179e"
             ],
             [
              0.4444444444444444,
              "#bd3786"
             ],
             [
              0.5555555555555556,
              "#d8576b"
             ],
             [
              0.6666666666666666,
              "#ed7953"
             ],
             [
              0.7777777777777778,
              "#fb9f3a"
             ],
             [
              0.8888888888888888,
              "#fdca26"
             ],
             [
              1,
              "#f0f921"
             ]
            ],
            "type": "histogram2d"
           }
          ],
          "histogram2dcontour": [
           {
            "colorbar": {
             "outlinewidth": 0,
             "ticks": ""
            },
            "colorscale": [
             [
              0,
              "#0d0887"
             ],
             [
              0.1111111111111111,
              "#46039f"
             ],
             [
              0.2222222222222222,
              "#7201a8"
             ],
             [
              0.3333333333333333,
              "#9c179e"
             ],
             [
              0.4444444444444444,
              "#bd3786"
             ],
             [
              0.5555555555555556,
              "#d8576b"
             ],
             [
              0.6666666666666666,
              "#ed7953"
             ],
             [
              0.7777777777777778,
              "#fb9f3a"
             ],
             [
              0.8888888888888888,
              "#fdca26"
             ],
             [
              1,
              "#f0f921"
             ]
            ],
            "type": "histogram2dcontour"
           }
          ],
          "mesh3d": [
           {
            "colorbar": {
             "outlinewidth": 0,
             "ticks": ""
            },
            "type": "mesh3d"
           }
          ],
          "parcoords": [
           {
            "line": {
             "colorbar": {
              "outlinewidth": 0,
              "ticks": ""
             }
            },
            "type": "parcoords"
           }
          ],
          "pie": [
           {
            "automargin": true,
            "type": "pie"
           }
          ],
          "scatter": [
           {
            "fillpattern": {
             "fillmode": "overlay",
             "size": 10,
             "solidity": 0.2
            },
            "type": "scatter"
           }
          ],
          "scatter3d": [
           {
            "line": {
             "colorbar": {
              "outlinewidth": 0,
              "ticks": ""
             }
            },
            "marker": {
             "colorbar": {
              "outlinewidth": 0,
              "ticks": ""
             }
            },
            "type": "scatter3d"
           }
          ],
          "scattercarpet": [
           {
            "marker": {
             "colorbar": {
              "outlinewidth": 0,
              "ticks": ""
             }
            },
            "type": "scattercarpet"
           }
          ],
          "scattergeo": [
           {
            "marker": {
             "colorbar": {
              "outlinewidth": 0,
              "ticks": ""
             }
            },
            "type": "scattergeo"
           }
          ],
          "scattergl": [
           {
            "marker": {
             "colorbar": {
              "outlinewidth": 0,
              "ticks": ""
             }
            },
            "type": "scattergl"
           }
          ],
          "scattermapbox": [
           {
            "marker": {
             "colorbar": {
              "outlinewidth": 0,
              "ticks": ""
             }
            },
            "type": "scattermapbox"
           }
          ],
          "scatterpolar": [
           {
            "marker": {
             "colorbar": {
              "outlinewidth": 0,
              "ticks": ""
             }
            },
            "type": "scatterpolar"
           }
          ],
          "scatterpolargl": [
           {
            "marker": {
             "colorbar": {
              "outlinewidth": 0,
              "ticks": ""
             }
            },
            "type": "scatterpolargl"
           }
          ],
          "scatterternary": [
           {
            "marker": {
             "colorbar": {
              "outlinewidth": 0,
              "ticks": ""
             }
            },
            "type": "scatterternary"
           }
          ],
          "surface": [
           {
            "colorbar": {
             "outlinewidth": 0,
             "ticks": ""
            },
            "colorscale": [
             [
              0,
              "#0d0887"
             ],
             [
              0.1111111111111111,
              "#46039f"
             ],
             [
              0.2222222222222222,
              "#7201a8"
             ],
             [
              0.3333333333333333,
              "#9c179e"
             ],
             [
              0.4444444444444444,
              "#bd3786"
             ],
             [
              0.5555555555555556,
              "#d8576b"
             ],
             [
              0.6666666666666666,
              "#ed7953"
             ],
             [
              0.7777777777777778,
              "#fb9f3a"
             ],
             [
              0.8888888888888888,
              "#fdca26"
             ],
             [
              1,
              "#f0f921"
             ]
            ],
            "type": "surface"
           }
          ],
          "table": [
           {
            "cells": {
             "fill": {
              "color": "#EBF0F8"
             },
             "line": {
              "color": "white"
             }
            },
            "header": {
             "fill": {
              "color": "#C8D4E3"
             },
             "line": {
              "color": "white"
             }
            },
            "type": "table"
           }
          ]
         },
         "layout": {
          "annotationdefaults": {
           "arrowcolor": "#2a3f5f",
           "arrowhead": 0,
           "arrowwidth": 1
          },
          "autotypenumbers": "strict",
          "coloraxis": {
           "colorbar": {
            "outlinewidth": 0,
            "ticks": ""
           }
          },
          "colorscale": {
           "diverging": [
            [
             0,
             "#8e0152"
            ],
            [
             0.1,
             "#c51b7d"
            ],
            [
             0.2,
             "#de77ae"
            ],
            [
             0.3,
             "#f1b6da"
            ],
            [
             0.4,
             "#fde0ef"
            ],
            [
             0.5,
             "#f7f7f7"
            ],
            [
             0.6,
             "#e6f5d0"
            ],
            [
             0.7,
             "#b8e186"
            ],
            [
             0.8,
             "#7fbc41"
            ],
            [
             0.9,
             "#4d9221"
            ],
            [
             1,
             "#276419"
            ]
           ],
           "sequential": [
            [
             0,
             "#0d0887"
            ],
            [
             0.1111111111111111,
             "#46039f"
            ],
            [
             0.2222222222222222,
             "#7201a8"
            ],
            [
             0.3333333333333333,
             "#9c179e"
            ],
            [
             0.4444444444444444,
             "#bd3786"
            ],
            [
             0.5555555555555556,
             "#d8576b"
            ],
            [
             0.6666666666666666,
             "#ed7953"
            ],
            [
             0.7777777777777778,
             "#fb9f3a"
            ],
            [
             0.8888888888888888,
             "#fdca26"
            ],
            [
             1,
             "#f0f921"
            ]
           ],
           "sequentialminus": [
            [
             0,
             "#0d0887"
            ],
            [
             0.1111111111111111,
             "#46039f"
            ],
            [
             0.2222222222222222,
             "#7201a8"
            ],
            [
             0.3333333333333333,
             "#9c179e"
            ],
            [
             0.4444444444444444,
             "#bd3786"
            ],
            [
             0.5555555555555556,
             "#d8576b"
            ],
            [
             0.6666666666666666,
             "#ed7953"
            ],
            [
             0.7777777777777778,
             "#fb9f3a"
            ],
            [
             0.8888888888888888,
             "#fdca26"
            ],
            [
             1,
             "#f0f921"
            ]
           ]
          },
          "colorway": [
           "#636efa",
           "#EF553B",
           "#00cc96",
           "#ab63fa",
           "#FFA15A",
           "#19d3f3",
           "#FF6692",
           "#B6E880",
           "#FF97FF",
           "#FECB52"
          ],
          "font": {
           "color": "#2a3f5f"
          },
          "geo": {
           "bgcolor": "white",
           "lakecolor": "white",
           "landcolor": "#E5ECF6",
           "showlakes": true,
           "showland": true,
           "subunitcolor": "white"
          },
          "hoverlabel": {
           "align": "left"
          },
          "hovermode": "closest",
          "mapbox": {
           "style": "light"
          },
          "paper_bgcolor": "white",
          "plot_bgcolor": "#E5ECF6",
          "polar": {
           "angularaxis": {
            "gridcolor": "white",
            "linecolor": "white",
            "ticks": ""
           },
           "bgcolor": "#E5ECF6",
           "radialaxis": {
            "gridcolor": "white",
            "linecolor": "white",
            "ticks": ""
           }
          },
          "scene": {
           "xaxis": {
            "backgroundcolor": "#E5ECF6",
            "gridcolor": "white",
            "gridwidth": 2,
            "linecolor": "white",
            "showbackground": true,
            "ticks": "",
            "zerolinecolor": "white"
           },
           "yaxis": {
            "backgroundcolor": "#E5ECF6",
            "gridcolor": "white",
            "gridwidth": 2,
            "linecolor": "white",
            "showbackground": true,
            "ticks": "",
            "zerolinecolor": "white"
           },
           "zaxis": {
            "backgroundcolor": "#E5ECF6",
            "gridcolor": "white",
            "gridwidth": 2,
            "linecolor": "white",
            "showbackground": true,
            "ticks": "",
            "zerolinecolor": "white"
           }
          },
          "shapedefaults": {
           "line": {
            "color": "#2a3f5f"
           }
          },
          "ternary": {
           "aaxis": {
            "gridcolor": "white",
            "linecolor": "white",
            "ticks": ""
           },
           "baxis": {
            "gridcolor": "white",
            "linecolor": "white",
            "ticks": ""
           },
           "bgcolor": "#E5ECF6",
           "caxis": {
            "gridcolor": "white",
            "linecolor": "white",
            "ticks": ""
           }
          },
          "title": {
           "x": 0.05
          },
          "xaxis": {
           "automargin": true,
           "gridcolor": "white",
           "linecolor": "white",
           "ticks": "",
           "title": {
            "standoff": 15
           },
           "zerolinecolor": "white",
           "zerolinewidth": 2
          },
          "yaxis": {
           "automargin": true,
           "gridcolor": "white",
           "linecolor": "white",
           "ticks": "",
           "title": {
            "standoff": 15
           },
           "zerolinecolor": "white",
           "zerolinewidth": 2
          }
         }
        },
        "xaxis": {
         "showticklabels": false,
         "visible": false
        },
        "yaxis": {
         "showticklabels": true,
         "visible": false
        }
       }
      }
     },
     "metadata": {},
     "output_type": "display_data"
    },
    {
     "data": {
      "text/html": [
       "<style type=\"text/css\">\n",
       "</style>\n",
       "<table id=\"T_15ce7\">\n",
       "  <thead>\n",
       "    <tr>\n",
       "      <th id=\"T_15ce7_level0_col0\" class=\"col_heading level0 col0\" >Node</th>\n",
       "      <th id=\"T_15ce7_level0_col1\" class=\"col_heading level0 col1\" >Node Type</th>\n",
       "      <th id=\"T_15ce7_level0_col2\" class=\"col_heading level0 col2\" >Splitting Variable</th>\n",
       "      <th id=\"T_15ce7_level0_col3\" class=\"col_heading level0 col3\" >n</th>\n",
       "      <th id=\"T_15ce7_level0_col4\" class=\"col_heading level0 col4\" >Heterogeneity</th>\n",
       "      <th id=\"T_15ce7_level0_col5\" class=\"col_heading level0 col5\" >Explained Heterogeneity</th>\n",
       "      <th id=\"T_15ce7_level0_col6\" class=\"col_heading level0 col6\" >Class/Value</th>\n",
       "    </tr>\n",
       "  </thead>\n",
       "  <tbody>\n",
       "    <tr>\n",
       "      <td id=\"T_15ce7_row0_col0\" class=\"data row0 col0\" >n1</td>\n",
       "      <td id=\"T_15ce7_row0_col1\" class=\"data row0 col1\" >Parent</td>\n",
       "      <td id=\"T_15ce7_row0_col2\" class=\"data row0 col2\" >CompPrice > 127.5</td>\n",
       "      <td id=\"T_15ce7_row0_col3\" class=\"data row0 col3\" >280</td>\n",
       "      <td id=\"T_15ce7_row0_col4\" class=\"data row0 col4\" >155526.83</td>\n",
       "      <td id=\"T_15ce7_row0_col5\" class=\"data row0 col5\" >0.202</td>\n",
       "      <td id=\"T_15ce7_row0_col6\" class=\"data row0 col6\" >115.78</td>\n",
       "    </tr>\n",
       "    <tr>\n",
       "      <td id=\"T_15ce7_row1_col0\" class=\"data row1 col0\" >n2</td>\n",
       "      <td id=\"T_15ce7_row1_col1\" class=\"data row1 col1\" >Parent</td>\n",
       "      <td id=\"T_15ce7_row1_col2\" class=\"data row1 col2\" >Sales > 7.55</td>\n",
       "      <td id=\"T_15ce7_row1_col3\" class=\"data row1 col3\" >162</td>\n",
       "      <td id=\"T_15ce7_row1_col4\" class=\"data row1 col4\" >75946.05</td>\n",
       "      <td id=\"T_15ce7_row1_col5\" class=\"data row1 col5\" >0.305</td>\n",
       "      <td id=\"T_15ce7_row1_col6\" class=\"data row1 col6\" >106.73</td>\n",
       "    </tr>\n",
       "    <tr>\n",
       "      <td id=\"T_15ce7_row2_col0\" class=\"data row2 col0\" >n4</td>\n",
       "      <td id=\"T_15ce7_row2_col1\" class=\"data row2 col1\" >Parent</td>\n",
       "      <td id=\"T_15ce7_row2_col2\" class=\"data row2 col2\" >Sales > 2.83</td>\n",
       "      <td id=\"T_15ce7_row2_col3\" class=\"data row2 col3\" >89</td>\n",
       "      <td id=\"T_15ce7_row2_col4\" class=\"data row2 col4\" >24566.4</td>\n",
       "      <td id=\"T_15ce7_row2_col5\" class=\"data row2 col5\" >0.32</td>\n",
       "      <td id=\"T_15ce7_row2_col6\" class=\"data row2 col6\" >115.71</td>\n",
       "    </tr>\n",
       "    <tr>\n",
       "      <td id=\"T_15ce7_row3_col0\" class=\"data row3 col0\" >n8</td>\n",
       "      <td id=\"T_15ce7_row3_col1\" class=\"data row3 col1\" >Child</td>\n",
       "      <td id=\"T_15ce7_row3_col2\" class=\"data row3 col2\" >None</td>\n",
       "      <td id=\"T_15ce7_row3_col3\" class=\"data row3 col3\" >9</td>\n",
       "      <td id=\"T_15ce7_row3_col4\" class=\"data row3 col4\" >1924.89</td>\n",
       "      <td id=\"T_15ce7_row3_col5\" class=\"data row3 col5\" >None</td>\n",
       "      <td id=\"T_15ce7_row3_col6\" class=\"data row3 col6\" >131.11</td>\n",
       "    </tr>\n",
       "    <tr>\n",
       "      <td id=\"T_15ce7_row4_col0\" class=\"data row4 col0\" >n9</td>\n",
       "      <td id=\"T_15ce7_row4_col1\" class=\"data row4 col1\" >Child</td>\n",
       "      <td id=\"T_15ce7_row4_col2\" class=\"data row4 col2\" >None</td>\n",
       "      <td id=\"T_15ce7_row4_col3\" class=\"data row4 col3\" >80</td>\n",
       "      <td id=\"T_15ce7_row4_col4\" class=\"data row4 col4\" >20265.95</td>\n",
       "      <td id=\"T_15ce7_row4_col5\" class=\"data row4 col5\" >None</td>\n",
       "      <td id=\"T_15ce7_row4_col6\" class=\"data row4 col6\" >113.97</td>\n",
       "    </tr>\n",
       "    <tr>\n",
       "      <td id=\"T_15ce7_row5_col0\" class=\"data row5 col0\" >n5</td>\n",
       "      <td id=\"T_15ce7_row5_col1\" class=\"data row5 col1\" >Parent</td>\n",
       "      <td id=\"T_15ce7_row5_col2\" class=\"data row5 col2\" >Population > 36.5</td>\n",
       "      <td id=\"T_15ce7_row5_col3\" class=\"data row5 col3\" >73</td>\n",
       "      <td id=\"T_15ce7_row5_col4\" class=\"data row5 col4\" >35454.49</td>\n",
       "      <td id=\"T_15ce7_row5_col5\" class=\"data row5 col5\" >0.358</td>\n",
       "      <td id=\"T_15ce7_row5_col6\" class=\"data row5 col6\" >95.78</td>\n",
       "    </tr>\n",
       "    <tr>\n",
       "      <td id=\"T_15ce7_row6_col0\" class=\"data row6 col0\" >n10</td>\n",
       "      <td id=\"T_15ce7_row6_col1\" class=\"data row6 col1\" >Child</td>\n",
       "      <td id=\"T_15ce7_row6_col2\" class=\"data row6 col2\" >None</td>\n",
       "      <td id=\"T_15ce7_row6_col3\" class=\"data row6 col3\" >5</td>\n",
       "      <td id=\"T_15ce7_row6_col4\" class=\"data row6 col4\" >3716.8</td>\n",
       "      <td id=\"T_15ce7_row6_col5\" class=\"data row6 col5\" >None</td>\n",
       "      <td id=\"T_15ce7_row6_col6\" class=\"data row6 col6\" >69.8</td>\n",
       "    </tr>\n",
       "    <tr>\n",
       "      <td id=\"T_15ce7_row7_col0\" class=\"data row7 col0\" >n11</td>\n",
       "      <td id=\"T_15ce7_row7_col1\" class=\"data row7 col1\" >Child</td>\n",
       "      <td id=\"T_15ce7_row7_col2\" class=\"data row7 col2\" >None</td>\n",
       "      <td id=\"T_15ce7_row7_col3\" class=\"data row7 col3\" >68</td>\n",
       "      <td id=\"T_15ce7_row7_col4\" class=\"data row7 col4\" >28114.51</td>\n",
       "      <td id=\"T_15ce7_row7_col5\" class=\"data row7 col5\" >None</td>\n",
       "      <td id=\"T_15ce7_row7_col6\" class=\"data row7 col6\" >97.69</td>\n",
       "    </tr>\n",
       "    <tr>\n",
       "      <td id=\"T_15ce7_row8_col0\" class=\"data row8 col0\" >n3</td>\n",
       "      <td id=\"T_15ce7_row8_col1\" class=\"data row8 col1\" >Parent</td>\n",
       "      <td id=\"T_15ce7_row8_col2\" class=\"data row8 col2\" >Sales > 7.55</td>\n",
       "      <td id=\"T_15ce7_row8_col3\" class=\"data row8 col3\" >118</td>\n",
       "      <td id=\"T_15ce7_row8_col4\" class=\"data row8 col4\" >48120.52</td>\n",
       "      <td id=\"T_15ce7_row8_col5\" class=\"data row8 col5\" >0.467</td>\n",
       "      <td id=\"T_15ce7_row8_col6\" class=\"data row8 col6\" >128.19</td>\n",
       "    </tr>\n",
       "    <tr>\n",
       "      <td id=\"T_15ce7_row9_col0\" class=\"data row9 col0\" >n6</td>\n",
       "      <td id=\"T_15ce7_row9_col1\" class=\"data row9 col1\" >Child</td>\n",
       "      <td id=\"T_15ce7_row9_col2\" class=\"data row9 col2\" >None</td>\n",
       "      <td id=\"T_15ce7_row9_col3\" class=\"data row9 col3\" >58</td>\n",
       "      <td id=\"T_15ce7_row9_col4\" class=\"data row9 col4\" >17604.02</td>\n",
       "      <td id=\"T_15ce7_row9_col5\" class=\"data row9 col5\" >None</td>\n",
       "      <td id=\"T_15ce7_row9_col6\" class=\"data row9 col6\" >139.71</td>\n",
       "    </tr>\n",
       "    <tr>\n",
       "      <td id=\"T_15ce7_row10_col0\" class=\"data row10 col0\" >n7</td>\n",
       "      <td id=\"T_15ce7_row10_col1\" class=\"data row10 col1\" >Parent</td>\n",
       "      <td id=\"T_15ce7_row10_col2\" class=\"data row10 col2\" >Sales > 11.88</td>\n",
       "      <td id=\"T_15ce7_row10_col3\" class=\"data row10 col3\" >60</td>\n",
       "      <td id=\"T_15ce7_row10_col4\" class=\"data row10 col4\" >15399.73</td>\n",
       "      <td id=\"T_15ce7_row10_col5\" class=\"data row10 col5\" >0.51</td>\n",
       "      <td id=\"T_15ce7_row10_col6\" class=\"data row10 col6\" >117.07</td>\n",
       "    </tr>\n",
       "    <tr>\n",
       "      <td id=\"T_15ce7_row11_col0\" class=\"data row11 col0\" >n14</td>\n",
       "      <td id=\"T_15ce7_row11_col1\" class=\"data row11 col1\" >Child</td>\n",
       "      <td id=\"T_15ce7_row11_col2\" class=\"data row11 col2\" >None</td>\n",
       "      <td id=\"T_15ce7_row11_col3\" class=\"data row11 col3\" >49</td>\n",
       "      <td id=\"T_15ce7_row11_col4\" class=\"data row11 col4\" >10295.92</td>\n",
       "      <td id=\"T_15ce7_row11_col5\" class=\"data row11 col5\" >None</td>\n",
       "      <td id=\"T_15ce7_row11_col6\" class=\"data row11 col6\" >119.96</td>\n",
       "    </tr>\n",
       "    <tr>\n",
       "      <td id=\"T_15ce7_row12_col0\" class=\"data row12 col0\" >n15</td>\n",
       "      <td id=\"T_15ce7_row12_col1\" class=\"data row12 col1\" >Child</td>\n",
       "      <td id=\"T_15ce7_row12_col2\" class=\"data row12 col2\" >None</td>\n",
       "      <td id=\"T_15ce7_row12_col3\" class=\"data row12 col3\" >11</td>\n",
       "      <td id=\"T_15ce7_row12_col4\" class=\"data row12 col4\" >2867.64</td>\n",
       "      <td id=\"T_15ce7_row12_col5\" class=\"data row12 col5\" >None</td>\n",
       "      <td id=\"T_15ce7_row12_col6\" class=\"data row12 col6\" >104.18</td>\n",
       "    </tr>\n",
       "  </tbody>\n",
       "</table>\n"
      ],
      "text/plain": [
       "<pandas.io.formats.style.Styler at 0x1a92d20be90>"
      ]
     },
     "execution_count": 4,
     "metadata": {},
     "output_type": "execute_result"
    }
   ],
   "source": [
    "alpha, pruned_table = tree.pruning(features_test, n_features_test, y_test, table = True)\n",
    "pruned_table.style.hide()\n"
   ]
  },
  {
   "cell_type": "code",
   "execution_count": 5,
   "metadata": {},
   "outputs": [
    {
     "name": "stdout",
     "output_type": "stream",
     "text": [
      "('Alpha = 0', 'value soglia = None', 'deviance = 265.21221476579063', 'leaves = 19')\n",
      "('Alpha = 24.0030303030303', \"value soglia = ['Sales', 12.415, 3]\", 'deviance = 265.29793987401575', 'leaves = 18')\n",
      "('Alpha = 541.8275850409154', \"value soglia = ['Population', 430.0, 4]\", 'deviance = 267.2330383920192', 'leaves = 17')\n",
      "('Alpha = 629.6827306361138', \"value soglia = ['Sales', 8.754999999999999, 3]\", 'deviance = 273.97963907740575', 'leaves = 14')\n",
      "('Alpha = 749.1571428571424', \"value soglia = ['Population', 417.5, 3]\", 'deviance = 276.6552003018954', 'leaves = 13')\n",
      "('Alpha = 1148.1729292929303', \"value soglia = ['Sales', 4.140000000000001, 4]\", 'deviance = 280.75581790651324', 'leaves = 12')\n",
      "('Alpha = 1164.2700000000004', \"value soglia = ['Sales', 3.545, 3]\", 'deviance = 284.91392504937045', 'leaves = 11')\n",
      "('Alpha = 1239.8333398235948', \"value soglia = ['Population', 354.0, 2]\", 'deviance = 298.19785369033735', 'leaves = 8')\n",
      "('Alpha = 1294.326533839343', \"value soglia = ['Population', 496.5, 3]\", 'deviance = 302.8204484540493', 'leaves = 7')\n",
      "('Alpha = 2236.1786023500317', \"value soglia = ['Sales', 11.879999999999999, 2]\", 'deviance = 310.80680060529954', 'leaves = 6')\n",
      "('Alpha = 2375.5656054931314', \"value soglia = ['Sales', 2.83, 2]\", 'deviance = 319.2909634820605', 'leaves = 5')\n",
      "('Alpha = 3623.178444802579', \"value soglia = ['Population', 36.5, 2]\", 'deviance = 332.23088649921306', 'leaves = 4')\n",
      "('Alpha = 15116.766374439903', \"value soglia = ['Sales', 7.555, 1]\", 'deviance = 386.21933783649797', 'leaves = 3')\n",
      "('Alpha = 15925.151737649096', \"value soglia = ['Sales', 7.55, 1]\", 'deviance = 443.0948797566736', 'leaves = 2')\n"
     ]
    }
   ],
   "source": [
    "tree.print_alpha(alpha)\n"
   ]
  }
 ],
 "metadata": {
  "kernelspec": {
   "display_name": "base",
   "language": "python",
   "name": "python3"
  },
  "language_info": {
   "codemirror_mode": {
    "name": "ipython",
    "version": 3
   },
   "file_extension": ".py",
   "mimetype": "text/x-python",
   "name": "python",
   "nbconvert_exporter": "python",
   "pygments_lexer": "ipython3",
   "version": "3.12.2"
  },
  "orig_nbformat": 4
 },
 "nbformat": 4,
 "nbformat_minor": 2
}
