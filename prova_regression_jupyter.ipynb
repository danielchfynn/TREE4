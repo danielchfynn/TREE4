{
 "cells": [
  {
   "cell_type": "markdown",
   "metadata": {},
   "source": [
    "Dictionary Inputs "
   ]
  },
  {
   "cell_type": "code",
   "execution_count": 1,
   "metadata": {},
   "outputs": [],
   "source": [
    "#from __future__ import annotations\n",
    "#from tkinter import N\n",
    "\n",
    "from TREEplus import *\n",
    "\n",
    "import pandas as pd\n",
    "\n",
    "#d = dict(features, **n_features)  #merges the two dicts\n",
    "#df = pd.DataFrame(data=d)         #creates the dataframe\n",
    "\n",
    "#print(df)\n",
    "#import csv\n",
    "\n",
    "\n",
    "\n",
    "#####################################loading the carseats data#########################\n",
    "\n",
    "df=pd.read_csv('Carseats_train.csv')\n",
    "#df=df.iloc[:,1:]\n",
    "\n",
    "features_names=list(df.columns)\n",
    "\n",
    "colonne=features_names[:6]\n",
    "features_name=features_names[7:9]\n",
    "features_names=colonne + features_name\n",
    "\n",
    "\n",
    "\n",
    "\n",
    "n_features_names=list(df.columns)\n",
    "columns = [(n_features_names[6])]\n",
    "n_features_name = n_features_names[9:11]\n",
    "n_features_names=columns + n_features_name\n",
    "\n",
    "\n",
    "\n",
    "\n",
    "features=df.iloc[:,0:6]\n",
    "features2=df.iloc[:,7:9]\n",
    "\n",
    "features=dict(features)\n",
    "features2=dict(features2)\n",
    "\n",
    "\n",
    "n_features=df.iloc[:,6:7]\n",
    "n_features2=df.iloc[:,9:11]\n",
    "\n",
    "\n",
    "n_features=dict(n_features)\n",
    "n_features2=dict(n_features2)\n",
    "\n",
    "features = dict(features, **features2)\n",
    "n_features = dict(n_features, **n_features2)\n",
    "\n",
    "\n",
    "#############################################################################\n",
    "\n",
    "\n",
    "#import itertools\n",
    "#from statistics import mode\n",
    "'''\n",
    "print(features,'features',type(features))\n",
    "print()\n",
    "print(features_names,'features_names')\n",
    "print()\n",
    "print(n_features,'n_features')\n",
    "print()\n",
    "print(n_features_names,'n_features_names')\n",
    "print()\n",
    "'''\n",
    "########################### y categorical #######################################\n",
    "'''\n",
    "High=[]\n",
    "for i in features['Sales']:\n",
    "    if i < 8:\n",
    "        High.append('NO')\n",
    "    else:\n",
    "        High.append('YES')\n",
    "\n",
    "High=pd.DataFrame(High)\n",
    "High=dict(High)\n",
    "High['High'] = High.pop(0)\n",
    "\n",
    "#y=High['High']\n",
    "\n",
    "#exclude_keys = ['Sales']\n",
    "\n",
    "#new_d = {k: features[k] for k in set(list(features.keys())) - set(exclude_keys)}\n",
    "#features=new_d\n",
    "\n",
    "#features_names=features_names[1:]\n",
    "'''\n",
    "\n",
    "######################y numerical#####################################\n",
    "y=features['Price']\n",
    "exclude_keys = ['Price']\n",
    "new_d = {k: features[k] for k in set(list(features.keys())) - set(exclude_keys)}\n",
    "features=new_d\n",
    "\n",
    "indici = np.arange(0, len(y))\n",
    "\n",
    "features_names3 = features_names[0:5]\n",
    "features_names4 = features_names[6:]\n",
    "features_names = features_names3 +  features_names4 \n",
    "\n",
    "#############Data Prep for prediction ############\n",
    "df_test=pd.read_csv('Carseats_test.csv')\n",
    "#df_test=df_test.iloc[:,1:]\n",
    "\n",
    "\n",
    "features_test=df_test.iloc[:,0:6]\n",
    "features2_test=df_test.iloc[:,7:9]\n",
    "\n",
    "features_test=dict(features_test)\n",
    "features2_test=dict(features2_test)\n",
    "\n",
    "\n",
    "n_features_test=df_test.iloc[:,6:7]\n",
    "n_features2_test=df_test.iloc[:,9:11]\n",
    "\n",
    "\n",
    "n_features_test=dict(n_features_test)\n",
    "n_features2_test=dict(n_features2_test)\n",
    "\n",
    "features_test = dict(features_test, **features2_test)\n",
    "n_features_test = dict(n_features_test, **n_features2_test)\n",
    "\n",
    "y_test=features_test['Price']\n",
    "\n",
    "y_test = y_test.tolist()\n",
    "\n",
    "del features_test[\"Price\"]   \n",
    "\n",
    "#impurity = impurity_fn('MSE') # chhose the simplest impurity functin (for regression tree)\n",
    "\n",
    "#impurity = Impurity (\"MSE\")\n",
    "# start a tree structure by instantiating its root\n",
    "#print(\"features\", features)\n",
    "#print(\"features_names\", features_names)\n",
    "#print(\"n_features\", n_features)\n",
    "#print(\"n_features_names\", n_features_names)\n",
    "\n",
    "\n",
    "\n",
    "############Program Running\n",
    "\n",
    "\n",
    "###User Defined Function \n",
    "\n",
    "\n",
    "\n",
    "#when definining a funcion please be aware we are using purity gain or information gain or greatest difference between variance, all positive aspects \n",
    "#adding user_defined as a possible impurity_fn and added user_impur to carry that function \n",
    "def user_fn(self, node): #impur just takes node in CART\n",
    "    \n",
    "    return (mean(self.y[node.indexes])**2)*len(self.y[node.indexes])\n",
    "\n",
    "\n",
    "\n",
    "\n"
   ]
  },
  {
   "cell_type": "code",
   "execution_count": 2,
   "metadata": {},
   "outputs": [
    {
     "name": "stdout",
     "output_type": "stream",
     "text": [
      "Split Found:  n1 [['CompPrice', 127.5, 0.20228188075035491, 0]] start <TREEplus.NodeClass object at 0x000002D788772CD0> CompPrice>127.5\n",
      "node_proportion_total  0.20228188075035564\n",
      "Split Found:  n2 [['Sales', 7.55, 0.20969032447490832, 1]] left <TREEplus.NodeClass object at 0x000002D78F9952D0> Sales>7.55\n",
      "node_proportion_total  0.3046767681766827\n",
      "Node_proportion_gain  0.10239488742632707\n",
      "Split Found:  n4 [['Education', 11.5, 0.01203519813946241, 2]] left <TREEplus.NodeClass object at 0x000002D78C7A6190> Education>11.5\n",
      "node_proportion_total  0.3065778006555755\n",
      "Node_proportion_gain  0.0019010324788927835\n",
      "Split Found:  n8 [['Advertising', 10.5, 0.32836479505389105, 3]] left <TREEplus.NodeClass object at 0x000002D78F97D7D0> Advertising>10.5\n",
      "node_proportion_total  0.31860582576028373\n",
      "Node_proportion_gain  0.01202802510470824\n",
      "Split Found:  n16 [['Advertising', 2.0, 0.05272462858935234, 4]] left <TREEplus.NodeClass object at 0x000002D78C7BE490> Advertising>2.0\n",
      "node_proportion_total  0.3192663048912775\n",
      "Node_proportion_gain  0.000660479130993763\n",
      "Node Search Split Error for:  n17 with obs in node:  6  which is less than minimum parent size:  10\n",
      "TypeError: Node search split (CART) failure\n",
      "Split Found:  n9 [['Sales', 3.46, 0.09197997229476351, 3]] right <TREEplus.NodeClass object at 0x000002D78C7B6590> Sales>3.46\n",
      "node_proportion_total  0.330251009261935\n",
      "Node_proportion_gain  0.010984704370657516\n",
      "Node Search Split Error for:  n18 with obs in node:  8  which is less than minimum parent size:  10\n",
      "TypeError: Node search split (CART) failure\n",
      "Split Found:  n19 [['Education', 13.5, 0.06496235189508626, 4]] right <TREEplus.NodeClass object at 0x000002D78C7E7FD0> Education>13.5\n",
      "node_proportion_total  0.33662974173646426\n",
      "Node_proportion_gain  0.006378732474529247\n",
      "Split Found:  n5 [['CompPrice', 99.0, 0.2435573732059556, 2]] right <TREEplus.NodeClass object at 0x000002D78C726D10> CompPrice>99.0\n",
      "node_proportion_total  0.392152017203281\n",
      "Node_proportion_gain  0.05552227546681676\n",
      "Node Search Split Error for:  n10 with obs in node:  9  which is less than minimum parent size:  10\n",
      "TypeError: Node search split (CART) failure\n",
      "Split Found:  n11 [['Education', 17.5, 0.032666129768463725, 3]] right <TREEplus.NodeClass object at 0x000002D78C7B6610> Education>17.5\n",
      "node_proportion_total  0.3969231242253635\n",
      "Node_proportion_gain  0.004771107022082499\n",
      "Split Found:  n22 [['ShelveLoc', ('Bad', 'Medium'), 0.10120552188660825, 4]] left <TREEplus.NodeClass object at 0x000002D78C7DFA10> ShelveLoc in ('Bad', 'Medium')\n",
      "node_proportion_total  0.41026487948476587\n",
      "Node_proportion_gain  0.013341755259402344\n",
      "Node Search Split Error for:  n23 with obs in node:  7  which is less than minimum parent size:  10\n",
      "TypeError: Node search split (CART) failure\n",
      "Split Found:  n3 [['Sales', 7.555, 0.314143889817587, 1]] right <TREEplus.NodeClass object at 0x000002D78F933790> Sales>7.55\n",
      "node_proportion_total  0.507462043861007\n",
      "Node_proportion_gain  0.09719716437624115\n",
      "Split Found:  n6 [['Education', 13.5, 0.0337728975039423, 2]] left <TREEplus.NodeClass object at 0x000002D788785790> Education>13.5\n",
      "node_proportion_total  0.511284784214324\n",
      "Node_proportion_gain  0.003822740353316978\n",
      "Split Found:  n12 [['Advertising', 8.5, 0.13436801284594013, 3]] left <TREEplus.NodeClass object at 0x000002D78C80FD50> Advertising>8.5\n",
      "node_proportion_total  0.5152094492529159\n",
      "Node_proportion_gain  0.003924665038591901\n",
      "Split Found:  n24 [['Education', 11.5, 0.08838585034013613, 4]] left <TREEplus.NodeClass object at 0x000002D78C7E7710> Education>11.5\n",
      "node_proportion_total  0.5169046614712967\n",
      "Node_proportion_gain  0.0016952122183807594\n",
      "Node Search Split Error for:  n25 with obs in node:  6  which is less than minimum parent size:  10\n",
      "TypeError: Node search split (CART) failure\n",
      "Split Found:  n13 [['Education', 15.5, 0.24771009984336612, 3]] right <TREEplus.NodeClass object at 0x000002D78C7E9890> Education>15.5\n",
      "node_proportion_total  0.5367607362849326\n",
      "Node_proportion_gain  0.019856074813635938\n",
      "Node Search Split Error for:  n26 with obs in node:  8  which is less than minimum parent size:  10\n",
      "TypeError: Node search split (CART) failure\n",
      "Split Found:  n27 [['Age', 45.5, 0.15889958042208852, 4]] right <TREEplus.NodeClass object at 0x000002D78C7AD690> Age>45.5\n",
      "node_proportion_total  0.5426791311074602\n",
      "Node_proportion_gain  0.005918394822527651\n",
      "Split Found:  n7 [['Education', 12.5, 0.0498922038543137, 2]] right <TREEplus.NodeClass object at 0x000002D78C7BFB10> Education>12.5\n",
      "node_proportion_total  0.547619286188545\n",
      "Node_proportion_gain  0.004940155081084807\n",
      "Split Found:  n14 [['Advertising', 7.5, 0.09192675821889318, 3]] left <TREEplus.NodeClass object at 0x000002D78C7C9BD0> Advertising>7.5\n",
      "node_proportion_total  0.5502017112051708\n",
      "Node_proportion_gain  0.0025824250166257556\n",
      "Split Found:  n28 [['Age', 47.5, 0.482578188087911, 4]] left <TREEplus.NodeClass object at 0x000002D78C808AD0> Age>47.5\n",
      "node_proportion_total  0.5588180753441273\n",
      "Node_proportion_gain  0.0086163641389565\n",
      "Split Found:  n29 [['Age', 58.0, 0.025964671146406104, 4]] right <TREEplus.NodeClass object at 0x000002D78C7BE7D0> Age>58.0\n",
      "node_proportion_total  0.5590168328331464\n",
      "Node_proportion_gain  0.00019875748901909684\n",
      "Split Found:  n15 [['Education', 16.5, 0.028043122652488206, 3]] right <TREEplus.NodeClass object at 0x000002D78C7EB110> Education>16.5\n",
      "node_proportion_total  0.5608672363270953\n",
      "Node_proportion_gain  0.0018504034939489378\n",
      "Split Found:  n30 [['Age', 41.5, 0.18355354453306005, 4]] left <TREEplus.NodeClass object at 0x000002D78C7FDC50> Age>41.5\n",
      "node_proportion_total  0.5664951514072866\n",
      "Node_proportion_gain  0.005627915080191226\n",
      "Split Found:  n31 [['Advertising', 1.5, 0.11496568421473874, 4]] right <TREEplus.NodeClass object at 0x000002D78C81BCD0> Advertising>1.5\n",
      "node_proportion_total  0.570343388948731\n",
      "Node_proportion_gain  0.003848237541444477\n"
     ]
    },
    {
     "data": {
      "text/plain": [
       "(((((None, None), None), (None, (None, None))), (None, ((None, None), None))),\n",
       " ((((None, None), None), (None, (None, None))),\n",
       "  (((None, None), (None, None)), ((None, None), (None, None)))))"
      ]
     },
     "execution_count": 2,
     "metadata": {},
     "output_type": "execute_result"
    }
   ],
   "source": [
    "my_tree = NodeClass('n1', indici) \n",
    "\n",
    "tree = TREEplus(y,features,features_names,n_features,n_features_names, impurity_fn = \"pearson\", problem=\"regression\", method = \"TWO-STAGE\",  min_cases_parent= 10,min_cases_child= 5, max_level =4 , twoing = False, min_imp_gain = 0.0001)\n",
    "\n",
    "tree.growing_tree(my_tree, max_k = 1)\n",
    "\n"
   ]
  },
  {
   "cell_type": "code",
   "execution_count": 3,
   "metadata": {},
   "outputs": [
    {
     "data": {
      "application/vnd.plotly.v1+json": {
       "config": {
        "plotlyServerURL": "https://plot.ly"
       },
       "data": [
        {
         "hoverinfo": "none",
         "line": {
          "color": "rgb(210,210,210)",
          "width": 1
         },
         "mode": "lines",
         "type": "scatter",
         "x": [
          0,
          -8,
          null,
          0,
          8,
          null,
          -8,
          -12,
          null,
          -8,
          -4,
          null,
          8,
          4,
          null,
          8,
          12,
          null,
          -12,
          -14,
          null,
          -12,
          -10,
          null,
          -4,
          -6,
          null,
          -4,
          -2,
          null,
          4,
          2,
          null,
          4,
          6,
          null,
          12,
          10,
          null,
          12,
          14,
          null,
          -14,
          -15,
          null,
          -14,
          -13,
          null,
          -10,
          -11,
          null,
          -10,
          -9,
          null,
          -2,
          -3,
          null,
          -2,
          -1,
          null,
          2,
          1,
          null,
          2,
          3,
          null,
          6,
          5,
          null,
          6,
          7,
          null,
          10,
          9,
          null,
          10,
          11,
          null,
          14,
          13,
          null,
          14,
          15,
          null,
          -15,
          -15.5,
          null,
          -15,
          -14.5,
          null,
          -9,
          -9.5,
          null,
          -9,
          -8.5,
          null,
          -3,
          -3.5,
          null,
          -3,
          -2.5,
          null,
          1,
          0.5,
          null,
          1,
          1.5,
          null,
          7,
          6.5,
          null,
          7,
          7.5,
          null,
          9,
          8.5,
          null,
          9,
          9.5,
          null,
          11,
          10.5,
          null,
          11,
          11.5,
          null,
          13,
          12.5,
          null,
          13,
          13.5,
          null,
          15,
          14.5,
          null,
          15,
          15.5,
          null
         ],
         "y": [
          10,
          9,
          null,
          10,
          9,
          null,
          9,
          8,
          null,
          9,
          8,
          null,
          9,
          8,
          null,
          9,
          8,
          null,
          8,
          7,
          null,
          8,
          7,
          null,
          8,
          7,
          null,
          8,
          7,
          null,
          8,
          7,
          null,
          8,
          7,
          null,
          8,
          7,
          null,
          8,
          7,
          null,
          7,
          6,
          null,
          7,
          6,
          null,
          7,
          6,
          null,
          7,
          6,
          null,
          7,
          6,
          null,
          7,
          6,
          null,
          7,
          6,
          null,
          7,
          6,
          null,
          7,
          6,
          null,
          7,
          6,
          null,
          7,
          6,
          null,
          7,
          6,
          null,
          7,
          6,
          null,
          7,
          6,
          null,
          6,
          5,
          null,
          6,
          5,
          null,
          6,
          5,
          null,
          6,
          5,
          null,
          6,
          5,
          null,
          6,
          5,
          null,
          6,
          5,
          null,
          6,
          5,
          null,
          6,
          5,
          null,
          6,
          5,
          null,
          6,
          5,
          null,
          6,
          5,
          null,
          6,
          5,
          null,
          6,
          5,
          null,
          6,
          5,
          null,
          6,
          5,
          null,
          6,
          5,
          null,
          6,
          5,
          null
         ]
        },
        {
         "hoverinfo": "text",
         "marker": {
          "color": "#6175c1",
          "line": {
           "color": "rgb(50,50,50)",
           "width": 1
          },
          "size": 18,
          "symbol": "circle-dot"
         },
         "mode": "markers",
         "name": "Nodes",
         "opacity": 0.8,
         "text": [
          "n17, None, Bin Value: 128, pearson : 1878, Samples : 6",
          "n32, None, Bin Value: 105.22, pearson : 587.56, Samples : 9",
          "n33, None, Bin Value: 110, pearson : 1258, Samples : 9",
          "n18, None, Bin Value: 130.5, pearson : 1594.0, Samples : 8",
          "n38, None, Bin Value: 121.29, pearson : 3667.53, Samples : 17",
          "n39, None, Bin Value: 112.17, pearson : 10611.78, Samples : 40",
          "n10, None, Bin Value: 66.78, pearson : 4103.56, Samples : 9",
          "n23, None, Bin Value: 90.14, pearson : 1470.86, Samples : 7",
          "n44, None, Bin Value: 108.95, pearson : 11058.95, Samples : 21",
          "n45, None, Bin Value: 96.44, pearson : 7368.89, Samples : 36",
          "n25, None, Bin Value: 145.33, pearson : 949.33, Samples : 6",
          "n48, None, Bin Value: 129.38, pearson : 1019.88, Samples : 8",
          "n49, None, Bin Value: 136.57, pearson : 1699.43, Samples : 14",
          "n26, None, Bin Value: 159.62, pearson : 3585.88, Samples : 8",
          "n54, None, Bin Value: 128.12, pearson : 1390.88, Samples : 8",
          "n55, None, Bin Value: 141.57, pearson : 3481.43, Samples : 14",
          "n56, None, Bin Value: 118.17, pearson : 1094.83, Samples : 6",
          "n57, None, Bin Value: 96, pearson : 342, Samples : 5",
          "n58, None, Bin Value: 118.17, pearson : 976.83, Samples : 6",
          "n59, None, Bin Value: 114.8, pearson : 182.8, Samples : 5",
          "n60, None, Bin Value: 114.56, pearson : 2162.22, Samples : 9",
          "n61, None, Bin Value: 127.38, pearson : 1731.08, Samples : 13",
          "n62, None, Bin Value: 108.67, pearson : 2699.33, Samples : 6",
          "n63, None, Bin Value: 121.3, pearson : 1908.1, Samples : 10",
          "n1, CompPrice>127.5, Bin Value: 115.78, pearson : 155526.82, Samples : 280",
          "n2, Sales>7.55, Bin Value: 106.73, pearson : 75946.05, Samples : 162",
          "n4, Education>11.5, Bin Value: 115.71, pearson : 24566.4, Samples : 89",
          "n8, Advertising>10.5, Bin Value: 112.71, pearson : 5696.96, Samples : 24",
          "n16, Advertising>2.0, Bin Value: 107.61, pearson : 1948.28, Samples : 18",
          "n9, Sales>3.46, Bin Value: 116.82, pearson : 18573.78, Samples : 65",
          "n19, Education>13.5, Bin Value: 114.89, pearson : 15271.37, Samples : 57",
          "n5, CompPrice>99.0, Bin Value: 95.78, pearson : 35454.49, Samples : 73",
          "n11, Education>17.5, Bin Value: 99.86, pearson : 22715.73, Samples : 64",
          "n22, ShelveLoc in ('Bad', 'Medium'), Bin Value: 101.05, pearson : 20502.84, Samples : 57",
          "n3, Sales>7.55, Bin Value: 128.19, pearson : 48120.52, Samples : 118",
          "n6, Education>13.5, Bin Value: 139.71, pearson : 17604.02, Samples : 58",
          "n12, Advertising>8.5, Bin Value: 136.39, pearson : 4542.68, Samples : 28",
          "n24, Education>11.5, Bin Value: 133.95, pearson : 2982.95, Samples : 22",
          "n13, Education>15.5, Bin Value: 142.8, pearson : 12466.8, Samples : 30",
          "n27, Age>45.5, Bin Value: 136.68, pearson : 5792.77, Samples : 22",
          "n7, Education>12.5, Bin Value: 117.07, pearson : 15399.73, Samples : 60",
          "n14, Advertising>7.5, Bin Value: 112.36, pearson : 4369.09, Samples : 22",
          "n28, Age>47.5, Bin Value: 108.09, pearson : 2776.91, Samples : 11",
          "n29, Age>58.0, Bin Value: 116.64, pearson : 1190.55, Samples : 11",
          "n15, Education>16.5, Bin Value: 119.79, pearson : 10262.32, Samples : 38",
          "n30, Age>41.5, Bin Value: 122.14, pearson : 4768.59, Samples : 22",
          "n31, Advertising>1.5, Bin Value: 116.56, pearson : 5205.94, Samples : 16"
         ],
         "type": "scatter",
         "x": [
          -13,
          -15.5,
          -14.5,
          -11,
          -9.5,
          -8.5,
          -6,
          -1,
          -3.5,
          -2.5,
          3,
          0.5,
          1.5,
          5,
          6.5,
          7.5,
          8.5,
          9.5,
          10.5,
          11.5,
          12.5,
          13.5,
          14.5,
          15.5,
          0,
          -8,
          -12,
          -14,
          -15,
          -10,
          -9,
          -4,
          -2,
          -3,
          8,
          4,
          2,
          1,
          6,
          7,
          12,
          10,
          9,
          11,
          14,
          13,
          15
         ],
         "y": [
          6,
          5,
          5,
          6,
          5,
          5,
          7,
          6,
          5,
          5,
          6,
          5,
          5,
          6,
          5,
          5,
          5,
          5,
          5,
          5,
          5,
          5,
          5,
          5,
          10,
          9,
          8,
          7,
          6,
          7,
          6,
          8,
          7,
          6,
          9,
          8,
          7,
          6,
          7,
          6,
          8,
          7,
          6,
          6,
          7,
          6,
          6
         ]
        }
       ],
       "layout": {
        "margin": {
         "b": 0,
         "l": 0,
         "r": 0,
         "t": 0
        },
        "plot_bgcolor": "rgba(0, 0, 0, 0)",
        "template": {
         "data": {
          "bar": [
           {
            "error_x": {
             "color": "#2a3f5f"
            },
            "error_y": {
             "color": "#2a3f5f"
            },
            "marker": {
             "line": {
              "color": "#E5ECF6",
              "width": 0.5
             },
             "pattern": {
              "fillmode": "overlay",
              "size": 10,
              "solidity": 0.2
             }
            },
            "type": "bar"
           }
          ],
          "barpolar": [
           {
            "marker": {
             "line": {
              "color": "#E5ECF6",
              "width": 0.5
             },
             "pattern": {
              "fillmode": "overlay",
              "size": 10,
              "solidity": 0.2
             }
            },
            "type": "barpolar"
           }
          ],
          "carpet": [
           {
            "aaxis": {
             "endlinecolor": "#2a3f5f",
             "gridcolor": "white",
             "linecolor": "white",
             "minorgridcolor": "white",
             "startlinecolor": "#2a3f5f"
            },
            "baxis": {
             "endlinecolor": "#2a3f5f",
             "gridcolor": "white",
             "linecolor": "white",
             "minorgridcolor": "white",
             "startlinecolor": "#2a3f5f"
            },
            "type": "carpet"
           }
          ],
          "choropleth": [
           {
            "colorbar": {
             "outlinewidth": 0,
             "ticks": ""
            },
            "type": "choropleth"
           }
          ],
          "contour": [
           {
            "colorbar": {
             "outlinewidth": 0,
             "ticks": ""
            },
            "colorscale": [
             [
              0,
              "#0d0887"
             ],
             [
              0.1111111111111111,
              "#46039f"
             ],
             [
              0.2222222222222222,
              "#7201a8"
             ],
             [
              0.3333333333333333,
              "#9c179e"
             ],
             [
              0.4444444444444444,
              "#bd3786"
             ],
             [
              0.5555555555555556,
              "#d8576b"
             ],
             [
              0.6666666666666666,
              "#ed7953"
             ],
             [
              0.7777777777777778,
              "#fb9f3a"
             ],
             [
              0.8888888888888888,
              "#fdca26"
             ],
             [
              1,
              "#f0f921"
             ]
            ],
            "type": "contour"
           }
          ],
          "contourcarpet": [
           {
            "colorbar": {
             "outlinewidth": 0,
             "ticks": ""
            },
            "type": "contourcarpet"
           }
          ],
          "heatmap": [
           {
            "colorbar": {
             "outlinewidth": 0,
             "ticks": ""
            },
            "colorscale": [
             [
              0,
              "#0d0887"
             ],
             [
              0.1111111111111111,
              "#46039f"
             ],
             [
              0.2222222222222222,
              "#7201a8"
             ],
             [
              0.3333333333333333,
              "#9c179e"
             ],
             [
              0.4444444444444444,
              "#bd3786"
             ],
             [
              0.5555555555555556,
              "#d8576b"
             ],
             [
              0.6666666666666666,
              "#ed7953"
             ],
             [
              0.7777777777777778,
              "#fb9f3a"
             ],
             [
              0.8888888888888888,
              "#fdca26"
             ],
             [
              1,
              "#f0f921"
             ]
            ],
            "type": "heatmap"
           }
          ],
          "heatmapgl": [
           {
            "colorbar": {
             "outlinewidth": 0,
             "ticks": ""
            },
            "colorscale": [
             [
              0,
              "#0d0887"
             ],
             [
              0.1111111111111111,
              "#46039f"
             ],
             [
              0.2222222222222222,
              "#7201a8"
             ],
             [
              0.3333333333333333,
              "#9c179e"
             ],
             [
              0.4444444444444444,
              "#bd3786"
             ],
             [
              0.5555555555555556,
              "#d8576b"
             ],
             [
              0.6666666666666666,
              "#ed7953"
             ],
             [
              0.7777777777777778,
              "#fb9f3a"
             ],
             [
              0.8888888888888888,
              "#fdca26"
             ],
             [
              1,
              "#f0f921"
             ]
            ],
            "type": "heatmapgl"
           }
          ],
          "histogram": [
           {
            "marker": {
             "pattern": {
              "fillmode": "overlay",
              "size": 10,
              "solidity": 0.2
             }
            },
            "type": "histogram"
           }
          ],
          "histogram2d": [
           {
            "colorbar": {
             "outlinewidth": 0,
             "ticks": ""
            },
            "colorscale": [
             [
              0,
              "#0d0887"
             ],
             [
              0.1111111111111111,
              "#46039f"
             ],
             [
              0.2222222222222222,
              "#7201a8"
             ],
             [
              0.3333333333333333,
              "#9c179e"
             ],
             [
              0.4444444444444444,
              "#bd3786"
             ],
             [
              0.5555555555555556,
              "#d8576b"
             ],
             [
              0.6666666666666666,
              "#ed7953"
             ],
             [
              0.7777777777777778,
              "#fb9f3a"
             ],
             [
              0.8888888888888888,
              "#fdca26"
             ],
             [
              1,
              "#f0f921"
             ]
            ],
            "type": "histogram2d"
           }
          ],
          "histogram2dcontour": [
           {
            "colorbar": {
             "outlinewidth": 0,
             "ticks": ""
            },
            "colorscale": [
             [
              0,
              "#0d0887"
             ],
             [
              0.1111111111111111,
              "#46039f"
             ],
             [
              0.2222222222222222,
              "#7201a8"
             ],
             [
              0.3333333333333333,
              "#9c179e"
             ],
             [
              0.4444444444444444,
              "#bd3786"
             ],
             [
              0.5555555555555556,
              "#d8576b"
             ],
             [
              0.6666666666666666,
              "#ed7953"
             ],
             [
              0.7777777777777778,
              "#fb9f3a"
             ],
             [
              0.8888888888888888,
              "#fdca26"
             ],
             [
              1,
              "#f0f921"
             ]
            ],
            "type": "histogram2dcontour"
           }
          ],
          "mesh3d": [
           {
            "colorbar": {
             "outlinewidth": 0,
             "ticks": ""
            },
            "type": "mesh3d"
           }
          ],
          "parcoords": [
           {
            "line": {
             "colorbar": {
              "outlinewidth": 0,
              "ticks": ""
             }
            },
            "type": "parcoords"
           }
          ],
          "pie": [
           {
            "automargin": true,
            "type": "pie"
           }
          ],
          "scatter": [
           {
            "fillpattern": {
             "fillmode": "overlay",
             "size": 10,
             "solidity": 0.2
            },
            "type": "scatter"
           }
          ],
          "scatter3d": [
           {
            "line": {
             "colorbar": {
              "outlinewidth": 0,
              "ticks": ""
             }
            },
            "marker": {
             "colorbar": {
              "outlinewidth": 0,
              "ticks": ""
             }
            },
            "type": "scatter3d"
           }
          ],
          "scattercarpet": [
           {
            "marker": {
             "colorbar": {
              "outlinewidth": 0,
              "ticks": ""
             }
            },
            "type": "scattercarpet"
           }
          ],
          "scattergeo": [
           {
            "marker": {
             "colorbar": {
              "outlinewidth": 0,
              "ticks": ""
             }
            },
            "type": "scattergeo"
           }
          ],
          "scattergl": [
           {
            "marker": {
             "colorbar": {
              "outlinewidth": 0,
              "ticks": ""
             }
            },
            "type": "scattergl"
           }
          ],
          "scattermapbox": [
           {
            "marker": {
             "colorbar": {
              "outlinewidth": 0,
              "ticks": ""
             }
            },
            "type": "scattermapbox"
           }
          ],
          "scatterpolar": [
           {
            "marker": {
             "colorbar": {
              "outlinewidth": 0,
              "ticks": ""
             }
            },
            "type": "scatterpolar"
           }
          ],
          "scatterpolargl": [
           {
            "marker": {
             "colorbar": {
              "outlinewidth": 0,
              "ticks": ""
             }
            },
            "type": "scatterpolargl"
           }
          ],
          "scatterternary": [
           {
            "marker": {
             "colorbar": {
              "outlinewidth": 0,
              "ticks": ""
             }
            },
            "type": "scatterternary"
           }
          ],
          "surface": [
           {
            "colorbar": {
             "outlinewidth": 0,
             "ticks": ""
            },
            "colorscale": [
             [
              0,
              "#0d0887"
             ],
             [
              0.1111111111111111,
              "#46039f"
             ],
             [
              0.2222222222222222,
              "#7201a8"
             ],
             [
              0.3333333333333333,
              "#9c179e"
             ],
             [
              0.4444444444444444,
              "#bd3786"
             ],
             [
              0.5555555555555556,
              "#d8576b"
             ],
             [
              0.6666666666666666,
              "#ed7953"
             ],
             [
              0.7777777777777778,
              "#fb9f3a"
             ],
             [
              0.8888888888888888,
              "#fdca26"
             ],
             [
              1,
              "#f0f921"
             ]
            ],
            "type": "surface"
           }
          ],
          "table": [
           {
            "cells": {
             "fill": {
              "color": "#EBF0F8"
             },
             "line": {
              "color": "white"
             }
            },
            "header": {
             "fill": {
              "color": "#C8D4E3"
             },
             "line": {
              "color": "white"
             }
            },
            "type": "table"
           }
          ]
         },
         "layout": {
          "annotationdefaults": {
           "arrowcolor": "#2a3f5f",
           "arrowhead": 0,
           "arrowwidth": 1
          },
          "autotypenumbers": "strict",
          "coloraxis": {
           "colorbar": {
            "outlinewidth": 0,
            "ticks": ""
           }
          },
          "colorscale": {
           "diverging": [
            [
             0,
             "#8e0152"
            ],
            [
             0.1,
             "#c51b7d"
            ],
            [
             0.2,
             "#de77ae"
            ],
            [
             0.3,
             "#f1b6da"
            ],
            [
             0.4,
             "#fde0ef"
            ],
            [
             0.5,
             "#f7f7f7"
            ],
            [
             0.6,
             "#e6f5d0"
            ],
            [
             0.7,
             "#b8e186"
            ],
            [
             0.8,
             "#7fbc41"
            ],
            [
             0.9,
             "#4d9221"
            ],
            [
             1,
             "#276419"
            ]
           ],
           "sequential": [
            [
             0,
             "#0d0887"
            ],
            [
             0.1111111111111111,
             "#46039f"
            ],
            [
             0.2222222222222222,
             "#7201a8"
            ],
            [
             0.3333333333333333,
             "#9c179e"
            ],
            [
             0.4444444444444444,
             "#bd3786"
            ],
            [
             0.5555555555555556,
             "#d8576b"
            ],
            [
             0.6666666666666666,
             "#ed7953"
            ],
            [
             0.7777777777777778,
             "#fb9f3a"
            ],
            [
             0.8888888888888888,
             "#fdca26"
            ],
            [
             1,
             "#f0f921"
            ]
           ],
           "sequentialminus": [
            [
             0,
             "#0d0887"
            ],
            [
             0.1111111111111111,
             "#46039f"
            ],
            [
             0.2222222222222222,
             "#7201a8"
            ],
            [
             0.3333333333333333,
             "#9c179e"
            ],
            [
             0.4444444444444444,
             "#bd3786"
            ],
            [
             0.5555555555555556,
             "#d8576b"
            ],
            [
             0.6666666666666666,
             "#ed7953"
            ],
            [
             0.7777777777777778,
             "#fb9f3a"
            ],
            [
             0.8888888888888888,
             "#fdca26"
            ],
            [
             1,
             "#f0f921"
            ]
           ]
          },
          "colorway": [
           "#636efa",
           "#EF553B",
           "#00cc96",
           "#ab63fa",
           "#FFA15A",
           "#19d3f3",
           "#FF6692",
           "#B6E880",
           "#FF97FF",
           "#FECB52"
          ],
          "font": {
           "color": "#2a3f5f"
          },
          "geo": {
           "bgcolor": "white",
           "lakecolor": "white",
           "landcolor": "#E5ECF6",
           "showlakes": true,
           "showland": true,
           "subunitcolor": "white"
          },
          "hoverlabel": {
           "align": "left"
          },
          "hovermode": "closest",
          "mapbox": {
           "style": "light"
          },
          "paper_bgcolor": "white",
          "plot_bgcolor": "#E5ECF6",
          "polar": {
           "angularaxis": {
            "gridcolor": "white",
            "linecolor": "white",
            "ticks": ""
           },
           "bgcolor": "#E5ECF6",
           "radialaxis": {
            "gridcolor": "white",
            "linecolor": "white",
            "ticks": ""
           }
          },
          "scene": {
           "xaxis": {
            "backgroundcolor": "#E5ECF6",
            "gridcolor": "white",
            "gridwidth": 2,
            "linecolor": "white",
            "showbackground": true,
            "ticks": "",
            "zerolinecolor": "white"
           },
           "yaxis": {
            "backgroundcolor": "#E5ECF6",
            "gridcolor": "white",
            "gridwidth": 2,
            "linecolor": "white",
            "showbackground": true,
            "ticks": "",
            "zerolinecolor": "white"
           },
           "zaxis": {
            "backgroundcolor": "#E5ECF6",
            "gridcolor": "white",
            "gridwidth": 2,
            "linecolor": "white",
            "showbackground": true,
            "ticks": "",
            "zerolinecolor": "white"
           }
          },
          "shapedefaults": {
           "line": {
            "color": "#2a3f5f"
           }
          },
          "ternary": {
           "aaxis": {
            "gridcolor": "white",
            "linecolor": "white",
            "ticks": ""
           },
           "baxis": {
            "gridcolor": "white",
            "linecolor": "white",
            "ticks": ""
           },
           "bgcolor": "#E5ECF6",
           "caxis": {
            "gridcolor": "white",
            "linecolor": "white",
            "ticks": ""
           }
          },
          "title": {
           "x": 0.05
          },
          "xaxis": {
           "automargin": true,
           "gridcolor": "white",
           "linecolor": "white",
           "ticks": "",
           "title": {
            "standoff": 15
           },
           "zerolinecolor": "white",
           "zerolinewidth": 2
          },
          "yaxis": {
           "automargin": true,
           "gridcolor": "white",
           "linecolor": "white",
           "ticks": "",
           "title": {
            "standoff": 15
           },
           "zerolinecolor": "white",
           "zerolinewidth": 2
          }
         }
        },
        "xaxis": {
         "showticklabels": false,
         "visible": false
        },
        "yaxis": {
         "showticklabels": true,
         "visible": false
        }
       }
      }
     },
     "metadata": {},
     "output_type": "display_data"
    }
   ],
   "source": [
    "import warnings\n",
    "warnings.filterwarnings(\"ignore\", category=FutureWarning) \n",
    "\n",
    "\n",
    "tree.print_tree(table = False, html = False)#.style.hide_index() #print both the pruned and non pruned tree \n",
    "#cart.print_tree(table = False, html = False, visual_pruning = True)"
   ]
  },
  {
   "cell_type": "code",
   "execution_count": 6,
   "metadata": {},
   "outputs": [
    {
     "name": "stdout",
     "output_type": "stream",
     "text": [
      "To return the table, print_tree must be True: setting print_tree to True\n",
      "Best tree for test set has 5 leaves with a deviance of: 377.2486577185635 \n"
     ]
    },
    {
     "data": {
      "application/vnd.plotly.v1+json": {
       "config": {
        "plotlyServerURL": "https://plot.ly"
       },
       "data": [
        {
         "hoverinfo": "none",
         "line": {
          "color": "rgb(210,210,210)",
          "width": 1
         },
         "mode": "lines",
         "type": "scatter",
         "x": [
          0,
          -1.25,
          null,
          0,
          1.25,
          null,
          -1.25,
          -2.25,
          null,
          -1.25,
          -0.25,
          null,
          1.25,
          0.75,
          null,
          1.25,
          1.75,
          null,
          -0.25,
          -0.75,
          null,
          -0.25,
          0.25,
          null
         ],
         "y": [
          6,
          5,
          null,
          6,
          5,
          null,
          5,
          4,
          null,
          5,
          4,
          null,
          5,
          4,
          null,
          5,
          4,
          null,
          4,
          3,
          null,
          4,
          3,
          null
         ]
        },
        {
         "hoverinfo": "text",
         "marker": {
          "color": "#6175c1",
          "line": {
           "color": "rgb(50,50,50)",
           "width": 1
          },
          "size": 18,
          "symbol": "circle-dot"
         },
         "mode": "markers",
         "name": "Nodes",
         "opacity": 0.8,
         "text": [
          "n10, None, Bin Value: 66.78, pearson : 4103.56, Samples : 9",
          "n1, CompPrice>127.5, Bin Value: 115.78, pearson : 155526.82, Samples : 280",
          "n2, Sales>7.55, Bin Value: 106.73, pearson : 75946.05, Samples : 162",
          "n4, Education>11.5, Bin Value: 115.71, pearson : 24566.4, Samples : 89",
          "n5, CompPrice>99.0, Bin Value: 95.78, pearson : 35454.49, Samples : 73",
          "n11, Education>17.5, Bin Value: 99.86, pearson : 22715.73, Samples : 64",
          "n3, Sales>7.55, Bin Value: 128.19, pearson : 48120.52, Samples : 118",
          "n6, Education>13.5, Bin Value: 139.71, pearson : 17604.02, Samples : 58",
          "n7, Education>12.5, Bin Value: 117.07, pearson : 15399.73, Samples : 60"
         ],
         "type": "scatter",
         "x": [
          -0.75,
          0,
          -1.25,
          -2.25,
          -0.25,
          0.25,
          1.25,
          0.75,
          1.75
         ],
         "y": [
          3,
          6,
          5,
          4,
          4,
          3,
          5,
          4,
          4
         ]
        }
       ],
       "layout": {
        "margin": {
         "b": 0,
         "l": 0,
         "r": 0,
         "t": 0
        },
        "plot_bgcolor": "rgba(0, 0, 0, 0)",
        "template": {
         "data": {
          "bar": [
           {
            "error_x": {
             "color": "#2a3f5f"
            },
            "error_y": {
             "color": "#2a3f5f"
            },
            "marker": {
             "line": {
              "color": "#E5ECF6",
              "width": 0.5
             },
             "pattern": {
              "fillmode": "overlay",
              "size": 10,
              "solidity": 0.2
             }
            },
            "type": "bar"
           }
          ],
          "barpolar": [
           {
            "marker": {
             "line": {
              "color": "#E5ECF6",
              "width": 0.5
             },
             "pattern": {
              "fillmode": "overlay",
              "size": 10,
              "solidity": 0.2
             }
            },
            "type": "barpolar"
           }
          ],
          "carpet": [
           {
            "aaxis": {
             "endlinecolor": "#2a3f5f",
             "gridcolor": "white",
             "linecolor": "white",
             "minorgridcolor": "white",
             "startlinecolor": "#2a3f5f"
            },
            "baxis": {
             "endlinecolor": "#2a3f5f",
             "gridcolor": "white",
             "linecolor": "white",
             "minorgridcolor": "white",
             "startlinecolor": "#2a3f5f"
            },
            "type": "carpet"
           }
          ],
          "choropleth": [
           {
            "colorbar": {
             "outlinewidth": 0,
             "ticks": ""
            },
            "type": "choropleth"
           }
          ],
          "contour": [
           {
            "colorbar": {
             "outlinewidth": 0,
             "ticks": ""
            },
            "colorscale": [
             [
              0,
              "#0d0887"
             ],
             [
              0.1111111111111111,
              "#46039f"
             ],
             [
              0.2222222222222222,
              "#7201a8"
             ],
             [
              0.3333333333333333,
              "#9c179e"
             ],
             [
              0.4444444444444444,
              "#bd3786"
             ],
             [
              0.5555555555555556,
              "#d8576b"
             ],
             [
              0.6666666666666666,
              "#ed7953"
             ],
             [
              0.7777777777777778,
              "#fb9f3a"
             ],
             [
              0.8888888888888888,
              "#fdca26"
             ],
             [
              1,
              "#f0f921"
             ]
            ],
            "type": "contour"
           }
          ],
          "contourcarpet": [
           {
            "colorbar": {
             "outlinewidth": 0,
             "ticks": ""
            },
            "type": "contourcarpet"
           }
          ],
          "heatmap": [
           {
            "colorbar": {
             "outlinewidth": 0,
             "ticks": ""
            },
            "colorscale": [
             [
              0,
              "#0d0887"
             ],
             [
              0.1111111111111111,
              "#46039f"
             ],
             [
              0.2222222222222222,
              "#7201a8"
             ],
             [
              0.3333333333333333,
              "#9c179e"
             ],
             [
              0.4444444444444444,
              "#bd3786"
             ],
             [
              0.5555555555555556,
              "#d8576b"
             ],
             [
              0.6666666666666666,
              "#ed7953"
             ],
             [
              0.7777777777777778,
              "#fb9f3a"
             ],
             [
              0.8888888888888888,
              "#fdca26"
             ],
             [
              1,
              "#f0f921"
             ]
            ],
            "type": "heatmap"
           }
          ],
          "heatmapgl": [
           {
            "colorbar": {
             "outlinewidth": 0,
             "ticks": ""
            },
            "colorscale": [
             [
              0,
              "#0d0887"
             ],
             [
              0.1111111111111111,
              "#46039f"
             ],
             [
              0.2222222222222222,
              "#7201a8"
             ],
             [
              0.3333333333333333,
              "#9c179e"
             ],
             [
              0.4444444444444444,
              "#bd3786"
             ],
             [
              0.5555555555555556,
              "#d8576b"
             ],
             [
              0.6666666666666666,
              "#ed7953"
             ],
             [
              0.7777777777777778,
              "#fb9f3a"
             ],
             [
              0.8888888888888888,
              "#fdca26"
             ],
             [
              1,
              "#f0f921"
             ]
            ],
            "type": "heatmapgl"
           }
          ],
          "histogram": [
           {
            "marker": {
             "pattern": {
              "fillmode": "overlay",
              "size": 10,
              "solidity": 0.2
             }
            },
            "type": "histogram"
           }
          ],
          "histogram2d": [
           {
            "colorbar": {
             "outlinewidth": 0,
             "ticks": ""
            },
            "colorscale": [
             [
              0,
              "#0d0887"
             ],
             [
              0.1111111111111111,
              "#46039f"
             ],
             [
              0.2222222222222222,
              "#7201a8"
             ],
             [
              0.3333333333333333,
              "#9c179e"
             ],
             [
              0.4444444444444444,
              "#bd3786"
             ],
             [
              0.5555555555555556,
              "#d8576b"
             ],
             [
              0.6666666666666666,
              "#ed7953"
             ],
             [
              0.7777777777777778,
              "#fb9f3a"
             ],
             [
              0.8888888888888888,
              "#fdca26"
             ],
             [
              1,
              "#f0f921"
             ]
            ],
            "type": "histogram2d"
           }
          ],
          "histogram2dcontour": [
           {
            "colorbar": {
             "outlinewidth": 0,
             "ticks": ""
            },
            "colorscale": [
             [
              0,
              "#0d0887"
             ],
             [
              0.1111111111111111,
              "#46039f"
             ],
             [
              0.2222222222222222,
              "#7201a8"
             ],
             [
              0.3333333333333333,
              "#9c179e"
             ],
             [
              0.4444444444444444,
              "#bd3786"
             ],
             [
              0.5555555555555556,
              "#d8576b"
             ],
             [
              0.6666666666666666,
              "#ed7953"
             ],
             [
              0.7777777777777778,
              "#fb9f3a"
             ],
             [
              0.8888888888888888,
              "#fdca26"
             ],
             [
              1,
              "#f0f921"
             ]
            ],
            "type": "histogram2dcontour"
           }
          ],
          "mesh3d": [
           {
            "colorbar": {
             "outlinewidth": 0,
             "ticks": ""
            },
            "type": "mesh3d"
           }
          ],
          "parcoords": [
           {
            "line": {
             "colorbar": {
              "outlinewidth": 0,
              "ticks": ""
             }
            },
            "type": "parcoords"
           }
          ],
          "pie": [
           {
            "automargin": true,
            "type": "pie"
           }
          ],
          "scatter": [
           {
            "fillpattern": {
             "fillmode": "overlay",
             "size": 10,
             "solidity": 0.2
            },
            "type": "scatter"
           }
          ],
          "scatter3d": [
           {
            "line": {
             "colorbar": {
              "outlinewidth": 0,
              "ticks": ""
             }
            },
            "marker": {
             "colorbar": {
              "outlinewidth": 0,
              "ticks": ""
             }
            },
            "type": "scatter3d"
           }
          ],
          "scattercarpet": [
           {
            "marker": {
             "colorbar": {
              "outlinewidth": 0,
              "ticks": ""
             }
            },
            "type": "scattercarpet"
           }
          ],
          "scattergeo": [
           {
            "marker": {
             "colorbar": {
              "outlinewidth": 0,
              "ticks": ""
             }
            },
            "type": "scattergeo"
           }
          ],
          "scattergl": [
           {
            "marker": {
             "colorbar": {
              "outlinewidth": 0,
              "ticks": ""
             }
            },
            "type": "scattergl"
           }
          ],
          "scattermapbox": [
           {
            "marker": {
             "colorbar": {
              "outlinewidth": 0,
              "ticks": ""
             }
            },
            "type": "scattermapbox"
           }
          ],
          "scatterpolar": [
           {
            "marker": {
             "colorbar": {
              "outlinewidth": 0,
              "ticks": ""
             }
            },
            "type": "scatterpolar"
           }
          ],
          "scatterpolargl": [
           {
            "marker": {
             "colorbar": {
              "outlinewidth": 0,
              "ticks": ""
             }
            },
            "type": "scatterpolargl"
           }
          ],
          "scatterternary": [
           {
            "marker": {
             "colorbar": {
              "outlinewidth": 0,
              "ticks": ""
             }
            },
            "type": "scatterternary"
           }
          ],
          "surface": [
           {
            "colorbar": {
             "outlinewidth": 0,
             "ticks": ""
            },
            "colorscale": [
             [
              0,
              "#0d0887"
             ],
             [
              0.1111111111111111,
              "#46039f"
             ],
             [
              0.2222222222222222,
              "#7201a8"
             ],
             [
              0.3333333333333333,
              "#9c179e"
             ],
             [
              0.4444444444444444,
              "#bd3786"
             ],
             [
              0.5555555555555556,
              "#d8576b"
             ],
             [
              0.6666666666666666,
              "#ed7953"
             ],
             [
              0.7777777777777778,
              "#fb9f3a"
             ],
             [
              0.8888888888888888,
              "#fdca26"
             ],
             [
              1,
              "#f0f921"
             ]
            ],
            "type": "surface"
           }
          ],
          "table": [
           {
            "cells": {
             "fill": {
              "color": "#EBF0F8"
             },
             "line": {
              "color": "white"
             }
            },
            "header": {
             "fill": {
              "color": "#C8D4E3"
             },
             "line": {
              "color": "white"
             }
            },
            "type": "table"
           }
          ]
         },
         "layout": {
          "annotationdefaults": {
           "arrowcolor": "#2a3f5f",
           "arrowhead": 0,
           "arrowwidth": 1
          },
          "autotypenumbers": "strict",
          "coloraxis": {
           "colorbar": {
            "outlinewidth": 0,
            "ticks": ""
           }
          },
          "colorscale": {
           "diverging": [
            [
             0,
             "#8e0152"
            ],
            [
             0.1,
             "#c51b7d"
            ],
            [
             0.2,
             "#de77ae"
            ],
            [
             0.3,
             "#f1b6da"
            ],
            [
             0.4,
             "#fde0ef"
            ],
            [
             0.5,
             "#f7f7f7"
            ],
            [
             0.6,
             "#e6f5d0"
            ],
            [
             0.7,
             "#b8e186"
            ],
            [
             0.8,
             "#7fbc41"
            ],
            [
             0.9,
             "#4d9221"
            ],
            [
             1,
             "#276419"
            ]
           ],
           "sequential": [
            [
             0,
             "#0d0887"
            ],
            [
             0.1111111111111111,
             "#46039f"
            ],
            [
             0.2222222222222222,
             "#7201a8"
            ],
            [
             0.3333333333333333,
             "#9c179e"
            ],
            [
             0.4444444444444444,
             "#bd3786"
            ],
            [
             0.5555555555555556,
             "#d8576b"
            ],
            [
             0.6666666666666666,
             "#ed7953"
            ],
            [
             0.7777777777777778,
             "#fb9f3a"
            ],
            [
             0.8888888888888888,
             "#fdca26"
            ],
            [
             1,
             "#f0f921"
            ]
           ],
           "sequentialminus": [
            [
             0,
             "#0d0887"
            ],
            [
             0.1111111111111111,
             "#46039f"
            ],
            [
             0.2222222222222222,
             "#7201a8"
            ],
            [
             0.3333333333333333,
             "#9c179e"
            ],
            [
             0.4444444444444444,
             "#bd3786"
            ],
            [
             0.5555555555555556,
             "#d8576b"
            ],
            [
             0.6666666666666666,
             "#ed7953"
            ],
            [
             0.7777777777777778,
             "#fb9f3a"
            ],
            [
             0.8888888888888888,
             "#fdca26"
            ],
            [
             1,
             "#f0f921"
            ]
           ]
          },
          "colorway": [
           "#636efa",
           "#EF553B",
           "#00cc96",
           "#ab63fa",
           "#FFA15A",
           "#19d3f3",
           "#FF6692",
           "#B6E880",
           "#FF97FF",
           "#FECB52"
          ],
          "font": {
           "color": "#2a3f5f"
          },
          "geo": {
           "bgcolor": "white",
           "lakecolor": "white",
           "landcolor": "#E5ECF6",
           "showlakes": true,
           "showland": true,
           "subunitcolor": "white"
          },
          "hoverlabel": {
           "align": "left"
          },
          "hovermode": "closest",
          "mapbox": {
           "style": "light"
          },
          "paper_bgcolor": "white",
          "plot_bgcolor": "#E5ECF6",
          "polar": {
           "angularaxis": {
            "gridcolor": "white",
            "linecolor": "white",
            "ticks": ""
           },
           "bgcolor": "#E5ECF6",
           "radialaxis": {
            "gridcolor": "white",
            "linecolor": "white",
            "ticks": ""
           }
          },
          "scene": {
           "xaxis": {
            "backgroundcolor": "#E5ECF6",
            "gridcolor": "white",
            "gridwidth": 2,
            "linecolor": "white",
            "showbackground": true,
            "ticks": "",
            "zerolinecolor": "white"
           },
           "yaxis": {
            "backgroundcolor": "#E5ECF6",
            "gridcolor": "white",
            "gridwidth": 2,
            "linecolor": "white",
            "showbackground": true,
            "ticks": "",
            "zerolinecolor": "white"
           },
           "zaxis": {
            "backgroundcolor": "#E5ECF6",
            "gridcolor": "white",
            "gridwidth": 2,
            "linecolor": "white",
            "showbackground": true,
            "ticks": "",
            "zerolinecolor": "white"
           }
          },
          "shapedefaults": {
           "line": {
            "color": "#2a3f5f"
           }
          },
          "ternary": {
           "aaxis": {
            "gridcolor": "white",
            "linecolor": "white",
            "ticks": ""
           },
           "baxis": {
            "gridcolor": "white",
            "linecolor": "white",
            "ticks": ""
           },
           "bgcolor": "#E5ECF6",
           "caxis": {
            "gridcolor": "white",
            "linecolor": "white",
            "ticks": ""
           }
          },
          "title": {
           "x": 0.05
          },
          "xaxis": {
           "automargin": true,
           "gridcolor": "white",
           "linecolor": "white",
           "ticks": "",
           "title": {
            "standoff": 15
           },
           "zerolinecolor": "white",
           "zerolinewidth": 2
          },
          "yaxis": {
           "automargin": true,
           "gridcolor": "white",
           "linecolor": "white",
           "ticks": "",
           "title": {
            "standoff": 15
           },
           "zerolinecolor": "white",
           "zerolinewidth": 2
          }
         }
        },
        "xaxis": {
         "showticklabels": false,
         "visible": false
        },
        "yaxis": {
         "showticklabels": true,
         "visible": false
        }
       }
      }
     },
     "metadata": {},
     "output_type": "display_data"
    },
    {
     "data": {
      "text/html": [
       "<style type=\"text/css\">\n",
       "</style>\n",
       "<table id=\"T_65068\">\n",
       "  <thead>\n",
       "    <tr>\n",
       "      <th id=\"T_65068_level0_col0\" class=\"col_heading level0 col0\" >Node</th>\n",
       "      <th id=\"T_65068_level0_col1\" class=\"col_heading level0 col1\" >Node Type</th>\n",
       "      <th id=\"T_65068_level0_col2\" class=\"col_heading level0 col2\" >Variable Split</th>\n",
       "      <th id=\"T_65068_level0_col3\" class=\"col_heading level0 col3\" >n</th>\n",
       "      <th id=\"T_65068_level0_col4\" class=\"col_heading level0 col4\" >Deviance</th>\n",
       "      <th id=\"T_65068_level0_col5\" class=\"col_heading level0 col5\" >Explained Deviance</th>\n",
       "      <th id=\"T_65068_level0_col6\" class=\"col_heading level0 col6\" >Class/Value</th>\n",
       "    </tr>\n",
       "  </thead>\n",
       "  <tbody>\n",
       "    <tr>\n",
       "      <td id=\"T_65068_row0_col0\" class=\"data row0 col0\" >n1</td>\n",
       "      <td id=\"T_65068_row0_col1\" class=\"data row0 col1\" >Parent</td>\n",
       "      <td id=\"T_65068_row0_col2\" class=\"data row0 col2\" >CompPrice>127.5</td>\n",
       "      <td id=\"T_65068_row0_col3\" class=\"data row0 col3\" >280</td>\n",
       "      <td id=\"T_65068_row0_col4\" class=\"data row0 col4\" >155526.82</td>\n",
       "      <td id=\"T_65068_row0_col5\" class=\"data row0 col5\" >0.202</td>\n",
       "      <td id=\"T_65068_row0_col6\" class=\"data row0 col6\" >115.78</td>\n",
       "    </tr>\n",
       "    <tr>\n",
       "      <td id=\"T_65068_row1_col0\" class=\"data row1 col0\" >n2</td>\n",
       "      <td id=\"T_65068_row1_col1\" class=\"data row1 col1\" >Parent</td>\n",
       "      <td id=\"T_65068_row1_col2\" class=\"data row1 col2\" >Sales>7.55</td>\n",
       "      <td id=\"T_65068_row1_col3\" class=\"data row1 col3\" >162</td>\n",
       "      <td id=\"T_65068_row1_col4\" class=\"data row1 col4\" >75946.05</td>\n",
       "      <td id=\"T_65068_row1_col5\" class=\"data row1 col5\" >0.305</td>\n",
       "      <td id=\"T_65068_row1_col6\" class=\"data row1 col6\" >106.73</td>\n",
       "    </tr>\n",
       "    <tr>\n",
       "      <td id=\"T_65068_row2_col0\" class=\"data row2 col0\" >n4</td>\n",
       "      <td id=\"T_65068_row2_col1\" class=\"data row2 col1\" >Child</td>\n",
       "      <td id=\"T_65068_row2_col2\" class=\"data row2 col2\" >None</td>\n",
       "      <td id=\"T_65068_row2_col3\" class=\"data row2 col3\" >89</td>\n",
       "      <td id=\"T_65068_row2_col4\" class=\"data row2 col4\" >24566.4</td>\n",
       "      <td id=\"T_65068_row2_col5\" class=\"data row2 col5\" >None</td>\n",
       "      <td id=\"T_65068_row2_col6\" class=\"data row2 col6\" >115.71</td>\n",
       "    </tr>\n",
       "    <tr>\n",
       "      <td id=\"T_65068_row3_col0\" class=\"data row3 col0\" >n5</td>\n",
       "      <td id=\"T_65068_row3_col1\" class=\"data row3 col1\" >Parent</td>\n",
       "      <td id=\"T_65068_row3_col2\" class=\"data row3 col2\" >CompPrice>99.0</td>\n",
       "      <td id=\"T_65068_row3_col3\" class=\"data row3 col3\" >73</td>\n",
       "      <td id=\"T_65068_row3_col4\" class=\"data row3 col4\" >35454.49</td>\n",
       "      <td id=\"T_65068_row3_col5\" class=\"data row3 col5\" >0.392</td>\n",
       "      <td id=\"T_65068_row3_col6\" class=\"data row3 col6\" >95.78</td>\n",
       "    </tr>\n",
       "    <tr>\n",
       "      <td id=\"T_65068_row4_col0\" class=\"data row4 col0\" >n10</td>\n",
       "      <td id=\"T_65068_row4_col1\" class=\"data row4 col1\" >Child</td>\n",
       "      <td id=\"T_65068_row4_col2\" class=\"data row4 col2\" >None</td>\n",
       "      <td id=\"T_65068_row4_col3\" class=\"data row4 col3\" >9</td>\n",
       "      <td id=\"T_65068_row4_col4\" class=\"data row4 col4\" >4103.56</td>\n",
       "      <td id=\"T_65068_row4_col5\" class=\"data row4 col5\" >None</td>\n",
       "      <td id=\"T_65068_row4_col6\" class=\"data row4 col6\" >66.78</td>\n",
       "    </tr>\n",
       "    <tr>\n",
       "      <td id=\"T_65068_row5_col0\" class=\"data row5 col0\" >n11</td>\n",
       "      <td id=\"T_65068_row5_col1\" class=\"data row5 col1\" >Child</td>\n",
       "      <td id=\"T_65068_row5_col2\" class=\"data row5 col2\" >None</td>\n",
       "      <td id=\"T_65068_row5_col3\" class=\"data row5 col3\" >64</td>\n",
       "      <td id=\"T_65068_row5_col4\" class=\"data row5 col4\" >22715.73</td>\n",
       "      <td id=\"T_65068_row5_col5\" class=\"data row5 col5\" >None</td>\n",
       "      <td id=\"T_65068_row5_col6\" class=\"data row5 col6\" >99.86</td>\n",
       "    </tr>\n",
       "    <tr>\n",
       "      <td id=\"T_65068_row6_col0\" class=\"data row6 col0\" >n3</td>\n",
       "      <td id=\"T_65068_row6_col1\" class=\"data row6 col1\" >Parent</td>\n",
       "      <td id=\"T_65068_row6_col2\" class=\"data row6 col2\" >Sales>7.55</td>\n",
       "      <td id=\"T_65068_row6_col3\" class=\"data row6 col3\" >118</td>\n",
       "      <td id=\"T_65068_row6_col4\" class=\"data row6 col4\" >48120.52</td>\n",
       "      <td id=\"T_65068_row6_col5\" class=\"data row6 col5\" >0.507</td>\n",
       "      <td id=\"T_65068_row6_col6\" class=\"data row6 col6\" >128.19</td>\n",
       "    </tr>\n",
       "    <tr>\n",
       "      <td id=\"T_65068_row7_col0\" class=\"data row7 col0\" >n6</td>\n",
       "      <td id=\"T_65068_row7_col1\" class=\"data row7 col1\" >Child</td>\n",
       "      <td id=\"T_65068_row7_col2\" class=\"data row7 col2\" >None</td>\n",
       "      <td id=\"T_65068_row7_col3\" class=\"data row7 col3\" >58</td>\n",
       "      <td id=\"T_65068_row7_col4\" class=\"data row7 col4\" >17604.02</td>\n",
       "      <td id=\"T_65068_row7_col5\" class=\"data row7 col5\" >None</td>\n",
       "      <td id=\"T_65068_row7_col6\" class=\"data row7 col6\" >139.71</td>\n",
       "    </tr>\n",
       "    <tr>\n",
       "      <td id=\"T_65068_row8_col0\" class=\"data row8 col0\" >n7</td>\n",
       "      <td id=\"T_65068_row8_col1\" class=\"data row8 col1\" >Child</td>\n",
       "      <td id=\"T_65068_row8_col2\" class=\"data row8 col2\" >None</td>\n",
       "      <td id=\"T_65068_row8_col3\" class=\"data row8 col3\" >60</td>\n",
       "      <td id=\"T_65068_row8_col4\" class=\"data row8 col4\" >15399.73</td>\n",
       "      <td id=\"T_65068_row8_col5\" class=\"data row8 col5\" >None</td>\n",
       "      <td id=\"T_65068_row8_col6\" class=\"data row8 col6\" >117.07</td>\n",
       "    </tr>\n",
       "  </tbody>\n",
       "</table>\n"
      ],
      "text/plain": [
       "<pandas.io.formats.style.Styler at 0x2d793961f90>"
      ]
     },
     "execution_count": 6,
     "metadata": {},
     "output_type": "execute_result"
    }
   ],
   "source": [
    "alpha, pruned_table = tree.pruning(features_test, n_features_test, y_test, table = True)\n",
    "pruned_table.style.hide()\n"
   ]
  },
  {
   "cell_type": "code",
   "execution_count": 7,
   "metadata": {},
   "outputs": [
    {
     "name": "stdout",
     "output_type": "stream",
     "text": [
      "('Alpha = 0', 'value soglia = None', 'deviance = 238.6540305609424', 'leaves = 24')\n",
      "('Alpha = 30.912121212121292', \"value soglia = ['Age', 58.0, 4]\", 'deviance = 238.76443099384284', 'leaves = 23')\n",
      "('Alpha = 102.72222222222217', \"value soglia = ['Advertising', 2.0, 4]\", 'deviance = 239.13129607320792', 'leaves = 22')\n",
      "('Alpha = 263.6509740259744', \"value soglia = ['Education', 11.5, 4]\", 'deviance = 240.07290669472917', 'leaves = 21')\n",
      "('Alpha = 587.1944369470688', \"value soglia = ['Education', 16.5, 3]\", 'deviance = 246.36427566201917', 'leaves = 18')\n",
      "('Alpha = 610.3906926406912', \"value soglia = ['Advertising', 8.5, 3]\", 'deviance = 248.54424242145018', 'leaves = 17')\n",
      "('Alpha = 836.6795853269529', \"value soglia = ['Education', 12.5, 2]\", 'deviance = 257.50866654995315', 'leaves = 14')\n",
      "('Alpha = 920.4691558441536', \"value soglia = ['Age', 45.5, 4]\", 'deviance = 260.7960563922537', 'leaves = 13')\n",
      "('Alpha = 992.0640092879294', \"value soglia = ['Education', 13.5, 4]\", 'deviance = 264.3391421397106', 'leaves = 12')\n",
      "('Alpha = 1291.5860985172014', \"value soglia = ['Education', 11.5, 2]\", 'deviance = 278.17756462382346', 'leaves = 9')\n",
      "('Alpha = 1408.5179811507933', \"value soglia = ['Education', 17.5, 3]\", 'deviance = 288.2384073463293', 'leaves = 7')\n",
      "('Alpha = 1841.3454713390056', \"value soglia = ['Education', 13.5, 2]\", 'deviance = 301.3908749987506', 'leaves = 5')\n",
      "('Alpha = 8635.203220129362', \"value soglia = ['CompPrice', 99.0, 2]\", 'deviance = 332.230886499213', 'leaves = 4')\n",
      "('Alpha = 15116.766374439903', \"value soglia = ['Sales', 7.555, 1]\", 'deviance = 386.21933783649797', 'leaves = 3')\n",
      "('Alpha = 15925.151737649147', \"value soglia = ['Sales', 7.55, 1]\", 'deviance = 443.0948797566736', 'leaves = 2')\n"
     ]
    }
   ],
   "source": [
    "tree.print_alpha(alpha)\n"
   ]
  },
  {
   "cell_type": "markdown",
   "metadata": {},
   "source": [
    "full dataset model "
   ]
  },
  {
   "cell_type": "code",
   "execution_count": 8,
   "metadata": {},
   "outputs": [],
   "source": [
    "df=pd.read_csv('Carseats.csv')\n",
    "df=df.iloc[:,1:]\n",
    "\n",
    "df.head()\n",
    "\n",
    "features = df[features_names]\n",
    "features.head()\n",
    "\n",
    "n_features = df[n_features_names]\n",
    "n_features.head()\n",
    "\n",
    "y = df[\"Price\"]\n",
    "y.head()\n",
    "\n",
    "indici = np.arange(0, len(y))\n"
   ]
  },
  {
   "cell_type": "code",
   "execution_count": 9,
   "metadata": {},
   "outputs": [],
   "source": [
    "#my_tree = MyNodeClass('n1', indici) \n",
    "\n",
    "#tree = TREEplus(y,features,features_names,n_features,n_features_names, impurity_fn = \"between_variance\", problem=\"regression\", method = \"CART\",  min_cases_parent= 10,min_cases_child= 5, max_level = 4)\n",
    "\n",
    "#cart.growing_tree(my_tree)\n"
   ]
  },
  {
   "cell_type": "markdown",
   "metadata": {},
   "source": [
    "need to somehow get only 29 leaves in final tree?\n",
    "can't prune the traditional way as only have training set "
   ]
  },
  {
   "cell_type": "code",
   "execution_count": 17,
   "metadata": {},
   "outputs": [],
   "source": [
    "#cart.print_tree(table = True, html = True).style.hide_index() #print both the pruned and non pruned tree \n",
    "\n"
   ]
  }
 ],
 "metadata": {
  "kernelspec": {
   "display_name": "base",
   "language": "python",
   "name": "python3"
  },
  "language_info": {
   "codemirror_mode": {
    "name": "ipython",
    "version": 3
   },
   "file_extension": ".py",
   "mimetype": "text/x-python",
   "name": "python",
   "nbconvert_exporter": "python",
   "pygments_lexer": "ipython3",
   "version": "3.11.5"
  },
  "orig_nbformat": 4
 },
 "nbformat": 4,
 "nbformat_minor": 2
}
